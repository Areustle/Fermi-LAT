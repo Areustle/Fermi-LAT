{
 "metadata": {
  "name": "",
  "signature": "sha256:c369ab09b330b04c4629fb6e08244dff54ade8502cd69444fe16c64d4c44607a"
 },
 "nbformat": 3,
 "nbformat_minor": 0,
 "worksheets": [
  {
   "cells": [
    {
     "cell_type": "markdown",
     "metadata": {},
     "source": [
      "#Create TS maps for 3FGL sources\n",
      "\n",
      "Set the directory corresponding to the pointlike model used for 3FGL\n",
      "\n",
      "Load code that is used to compare the pointlike with 3FGL entries"
     ]
    },
    {
     "cell_type": "code",
     "collapsed": false,
     "input": [
      "%matplotlib inline\n",
      "os.chdir(os.path.expandvars('$FERMI/skymodels/P202/uw30'))\n",
      "from uw.like2.analyze import sourcecomparison; reload(sourcecomparison)\n",
      "from uw.like2 import main\n",
      "sc = sourcecomparison.SourceComparison()#cat='gll_psc4yearsource_v9_assoc_v6r3p0.fit', catname='3FGL')\n",
      "cat =sc.cat"
     ],
     "language": "python",
     "metadata": {},
     "outputs": [
      {
       "output_type": "stream",
       "stream": "stdout",
       "text": [
        "loading sources.pickle\n",
        "loaded FITS catalog file /afs/slac/g/glast/groups/catalog//pointlike/fermi/catalog/gll_psc4yearsource_v9_assoc_v6r3p0.fit with 3055 entries"
       ]
      },
      {
       "output_type": "stream",
       "stream": "stdout",
       "text": [
        "\n",
        "generating closest distance to catalog \"/afs/slac/g/glast/groups/catalog//pointlike/fermi/catalog/gll_psc4yearsource_v9_assoc_v6r3p0.fit\"\n"
       ]
      }
     ],
     "prompt_number": 40
    },
    {
     "cell_type": "markdown",
     "metadata": {},
     "source": [
      "Now select the entry in the DataFrame corresponding to a given 3FGL name, and extract the position and nickname (note the need for a trailing blank)"
     ]
    },
    {
     "cell_type": "code",
     "collapsed": false,
     "input": [
      "moved = cat.closest>0.05; sum(moved)\n",
      "cat[moved]['name3 ra dec closest ts pt_ts pt_flags'.split()]"
     ],
     "language": "python",
     "metadata": {},
     "outputs": [
      {
       "html": [
        "<div style=\"max-height:1000px;max-width:1500px;overflow:auto;\">\n",
        "<table border=\"1\" class=\"dataframe\">\n",
        "  <thead>\n",
        "    <tr style=\"text-align: right;\">\n",
        "      <th></th>\n",
        "      <th>name3</th>\n",
        "      <th>ra</th>\n",
        "      <th>dec</th>\n",
        "      <th>closest</th>\n",
        "      <th>ts</th>\n",
        "      <th>pt_ts</th>\n",
        "      <th>pt_flags</th>\n",
        "    </tr>\n",
        "    <tr>\n",
        "      <th>name</th>\n",
        "      <th></th>\n",
        "      <th></th>\n",
        "      <th></th>\n",
        "      <th></th>\n",
        "      <th></th>\n",
        "      <th></th>\n",
        "      <th></th>\n",
        "    </tr>\n",
        "  </thead>\n",
        "  <tbody>\n",
        "    <tr>\n",
        "      <th>P7R40571</th>\n",
        "      <td> 3FGL J0406.7+5101 </td>\n",
        "      <td>  61.690102</td>\n",
        "      <td> 51.020599</td>\n",
        "      <td> 0.554110</td>\n",
        "      <td>  89.348106</td>\n",
        "      <td>      NaN</td>\n",
        "      <td>NaN</td>\n",
        "    </tr>\n",
        "    <tr>\n",
        "      <th>P7R40591G</th>\n",
        "      <td> 3FGL J0410.2+5028 </td>\n",
        "      <td>  62.566399</td>\n",
        "      <td> 50.468700</td>\n",
        "      <td> 0.589526</td>\n",
        "      <td>  79.844475</td>\n",
        "      <td>      NaN</td>\n",
        "      <td>NaN</td>\n",
        "    </tr>\n",
        "    <tr>\n",
        "      <th>P7R40752G</th>\n",
        "      <td> 3FGL J0524.5-6937 </td>\n",
        "      <td>  81.127800</td>\n",
        "      <td>-69.629402</td>\n",
        "      <td> 0.330082</td>\n",
        "      <td>  56.663948</td>\n",
        "      <td>      NaN</td>\n",
        "      <td>NaN</td>\n",
        "    </tr>\n",
        "    <tr>\n",
        "      <th>P7R40787B</th>\n",
        "      <td> 3FGL J0534.8-6644 </td>\n",
        "      <td>  83.720001</td>\n",
        "      <td>-66.739799</td>\n",
        "      <td> 0.743764</td>\n",
        "      <td>  51.430286</td>\n",
        "      <td>      NaN</td>\n",
        "      <td>NaN</td>\n",
        "    </tr>\n",
        "    <tr>\n",
        "      <th>P7R40928A</th>\n",
        "      <td> 3FGL J0640.9+1006 </td>\n",
        "      <td> 100.235199</td>\n",
        "      <td> 10.105000</td>\n",
        "      <td> 0.054565</td>\n",
        "      <td> 126.123337</td>\n",
        "      <td> 104.8218</td>\n",
        "      <td>  0</td>\n",
        "    </tr>\n",
        "    <tr>\n",
        "      <th>P7R41170</th>\n",
        "      <td> 3FGL J0823.9-4259 </td>\n",
        "      <td> 125.979103</td>\n",
        "      <td>-42.987801</td>\n",
        "      <td> 0.275784</td>\n",
        "      <td>  27.231863</td>\n",
        "      <td>      NaN</td>\n",
        "      <td>NaN</td>\n",
        "    </tr>\n",
        "    <tr>\n",
        "      <th>P7R41228</th>\n",
        "      <td> 3FGL J0847.1-4328 </td>\n",
        "      <td> 131.798096</td>\n",
        "      <td>-43.483299</td>\n",
        "      <td> 0.053401</td>\n",
        "      <td> 166.742844</td>\n",
        "      <td> 96.61092</td>\n",
        "      <td>  0</td>\n",
        "    </tr>\n",
        "    <tr>\n",
        "      <th>P7R41279P</th>\n",
        "      <td> 3FGL J0906.1-4926 </td>\n",
        "      <td> 136.531204</td>\n",
        "      <td>-49.437401</td>\n",
        "      <td> 0.159083</td>\n",
        "      <td> 115.712616</td>\n",
        "      <td> 49.13056</td>\n",
        "      <td>  0</td>\n",
        "    </tr>\n",
        "    <tr>\n",
        "      <th>P7R41413Y</th>\n",
        "      <td> 3FGL J1007.4-3334 </td>\n",
        "      <td> 151.874802</td>\n",
        "      <td>-33.575901</td>\n",
        "      <td> 0.054228</td>\n",
        "      <td>  25.709810</td>\n",
        "      <td> 14.51901</td>\n",
        "      <td>  0</td>\n",
        "    </tr>\n",
        "    <tr>\n",
        "      <th>P7R41432</th>\n",
        "      <td> 3FGL J1017.2-6035 </td>\n",
        "      <td> 154.302399</td>\n",
        "      <td>-60.584000</td>\n",
        "      <td> 0.082402</td>\n",
        "      <td> 140.816498</td>\n",
        "      <td> 100.0659</td>\n",
        "      <td>  0</td>\n",
        "    </tr>\n",
        "    <tr>\n",
        "      <th>P7R41523G</th>\n",
        "      <td> 3FGL J1045.1-5623 </td>\n",
        "      <td> 161.290604</td>\n",
        "      <td>-56.391499</td>\n",
        "      <td> 1.100690</td>\n",
        "      <td>  32.976608</td>\n",
        "      <td> 1.606622</td>\n",
        "      <td>  0</td>\n",
        "    </tr>\n",
        "    <tr>\n",
        "      <th>PSRJ1112-6103</th>\n",
        "      <td> 3FGL J1112.2-6103 </td>\n",
        "      <td> 168.061798</td>\n",
        "      <td>-61.058701</td>\n",
        "      <td> 0.098461</td>\n",
        "      <td> 165.380569</td>\n",
        "      <td>      NaN</td>\n",
        "      <td>NaN</td>\n",
        "    </tr>\n",
        "    <tr>\n",
        "      <th>P7R41625</th>\n",
        "      <td> 3FGL J1114.9-6115 </td>\n",
        "      <td> 168.729202</td>\n",
        "      <td>-61.261600</td>\n",
        "      <td> 0.466048</td>\n",
        "      <td>  47.763386</td>\n",
        "      <td>      NaN</td>\n",
        "      <td>NaN</td>\n",
        "    </tr>\n",
        "    <tr>\n",
        "      <th>CenALobes</th>\n",
        "      <td> 3FGL J1324.0-4330e</td>\n",
        "      <td> 201.000000</td>\n",
        "      <td>-43.500000</td>\n",
        "      <td> 0.436108</td>\n",
        "      <td> 157.095215</td>\n",
        "      <td>      NaN</td>\n",
        "      <td>NaN</td>\n",
        "    </tr>\n",
        "    <tr>\n",
        "      <th>P7R41998</th>\n",
        "      <td> 3FGL J1332.3-4237 </td>\n",
        "      <td> 203.097198</td>\n",
        "      <td>-42.623001</td>\n",
        "      <td> 0.837180</td>\n",
        "      <td>  33.449951</td>\n",
        "      <td>      NaN</td>\n",
        "      <td>NaN</td>\n",
        "    </tr>\n",
        "    <tr>\n",
        "      <th>PSRJ1513-5908</th>\n",
        "      <td> 3FGL J1513.9-5908 </td>\n",
        "      <td> 228.481796</td>\n",
        "      <td>-59.135799</td>\n",
        "      <td> 0.115110</td>\n",
        "      <td>  66.767601</td>\n",
        "      <td>      NaN</td>\n",
        "      <td>NaN</td>\n",
        "    </tr>\n",
        "    <tr>\n",
        "      <th>P7R42305P</th>\n",
        "      <td> 3FGL J1538.5-4215 </td>\n",
        "      <td> 234.647400</td>\n",
        "      <td>-42.262501</td>\n",
        "      <td> 0.549842</td>\n",
        "      <td>  53.212257</td>\n",
        "      <td> 12.00157</td>\n",
        "      <td>  8</td>\n",
        "    </tr>\n",
        "    <tr>\n",
        "      <th>P7R42409</th>\n",
        "      <td> 3FGL J1615.1-5135 </td>\n",
        "      <td> 243.797607</td>\n",
        "      <td>-51.596298</td>\n",
        "      <td> 0.185065</td>\n",
        "      <td> 148.578430</td>\n",
        "      <td>      NaN</td>\n",
        "      <td>NaN</td>\n",
        "    </tr>\n",
        "    <tr>\n",
        "      <th>P7R42486P</th>\n",
        "      <td> 3FGL J1635.8-4707 </td>\n",
        "      <td> 248.966293</td>\n",
        "      <td>-47.125500</td>\n",
        "      <td> 0.071066</td>\n",
        "      <td> 129.528763</td>\n",
        "      <td>  82.4641</td>\n",
        "      <td>  8</td>\n",
        "    </tr>\n",
        "    <tr>\n",
        "      <th>P7R42558</th>\n",
        "      <td> 3FGL J1657.8-4639 </td>\n",
        "      <td> 254.455994</td>\n",
        "      <td>-46.661400</td>\n",
        "      <td> 0.236485</td>\n",
        "      <td>  27.640690</td>\n",
        "      <td> 44.92306</td>\n",
        "      <td>  0</td>\n",
        "    </tr>\n",
        "    <tr>\n",
        "      <th>RXJ1713.7-3946</th>\n",
        "      <td> 3FGL J1713.5-3945e</td>\n",
        "      <td> 258.390015</td>\n",
        "      <td>-39.759998</td>\n",
        "      <td> 0.084844</td>\n",
        "      <td> 222.656906</td>\n",
        "      <td>      NaN</td>\n",
        "      <td>NaN</td>\n",
        "    </tr>\n",
        "    <tr>\n",
        "      <th>P7R42683G</th>\n",
        "      <td> 3FGL J1736.2-3420 </td>\n",
        "      <td> 264.066406</td>\n",
        "      <td>-34.341400</td>\n",
        "      <td> 1.455427</td>\n",
        "      <td>  88.546356</td>\n",
        "      <td> 269.2024</td>\n",
        "      <td>  8</td>\n",
        "    </tr>\n",
        "    <tr>\n",
        "      <th>P7R42717</th>\n",
        "      <td> 3FGL J1745.3-2903 </td>\n",
        "      <td> 266.342987</td>\n",
        "      <td>-29.063000</td>\n",
        "      <td> 0.067161</td>\n",
        "      <td> 444.089752</td>\n",
        "      <td> 199.8341</td>\n",
        "      <td>  8</td>\n",
        "    </tr>\n",
        "    <tr>\n",
        "      <th>P7R43259A</th>\n",
        "      <td> 3FGL J2050.0+3156 </td>\n",
        "      <td> 312.502106</td>\n",
        "      <td> 31.935400</td>\n",
        "      <td> 1.284232</td>\n",
        "      <td>  37.868160</td>\n",
        "      <td>      NaN</td>\n",
        "      <td>NaN</td>\n",
        "    </tr>\n",
        "    <tr>\n",
        "      <th>CygnusLoop</th>\n",
        "      <td> 3FGL J2051.0+3040e</td>\n",
        "      <td> 312.750000</td>\n",
        "      <td> 30.670000</td>\n",
        "      <td> 0.129605</td>\n",
        "      <td> 468.476807</td>\n",
        "      <td>      NaN</td>\n",
        "      <td>NaN</td>\n",
        "    </tr>\n",
        "    <tr>\n",
        "      <th>P7R43266A</th>\n",
        "      <td> 3FGL J2053.9+2922 </td>\n",
        "      <td> 313.476105</td>\n",
        "      <td> 29.373600</td>\n",
        "      <td> 1.414438</td>\n",
        "      <td>  81.760750</td>\n",
        "      <td>      NaN</td>\n",
        "      <td>NaN</td>\n",
        "    </tr>\n",
        "    <tr>\n",
        "      <th>P7R43274A</th>\n",
        "      <td> 3FGL J2056.4+3142 </td>\n",
        "      <td> 314.101013</td>\n",
        "      <td> 31.709999</td>\n",
        "      <td> 1.444619</td>\n",
        "      <td>  88.989914</td>\n",
        "      <td>      NaN</td>\n",
        "      <td>NaN</td>\n",
        "    </tr>\n",
        "    <tr>\n",
        "      <th>P7R43525</th>\n",
        "      <td> 3FGL J2258.3+6228 </td>\n",
        "      <td> 344.587006</td>\n",
        "      <td> 62.468800</td>\n",
        "      <td> 0.481138</td>\n",
        "      <td> 189.056915</td>\n",
        "      <td>      NaN</td>\n",
        "      <td>NaN</td>\n",
        "    </tr>\n",
        "    <tr>\n",
        "      <th>P7R43547</th>\n",
        "      <td> 3FGL J2313.4+6124 </td>\n",
        "      <td> 348.362305</td>\n",
        "      <td> 61.416401</td>\n",
        "      <td> 2.005938</td>\n",
        "      <td> 198.319107</td>\n",
        "      <td>      NaN</td>\n",
        "      <td>NaN</td>\n",
        "    </tr>\n",
        "    <tr>\n",
        "      <th>P7R43585Q</th>\n",
        "      <td> 3FGL J2316.6+6139 </td>\n",
        "      <td> 349.155304</td>\n",
        "      <td> 61.662201</td>\n",
        "      <td> 1.700402</td>\n",
        "      <td>  52.157490</td>\n",
        "      <td>      NaN</td>\n",
        "      <td>NaN</td>\n",
        "    </tr>\n",
        "    <tr>\n",
        "      <th>P7R43687</th>\n",
        "      <td> 3FGL J2356.4+6724 </td>\n",
        "      <td> 359.107086</td>\n",
        "      <td> 67.413101</td>\n",
        "      <td> 0.803242</td>\n",
        "      <td>  48.458221</td>\n",
        "      <td> 77.48389</td>\n",
        "      <td>  0</td>\n",
        "    </tr>\n",
        "  </tbody>\n",
        "</table>\n",
        "</div>"
       ],
       "metadata": {},
       "output_type": "pyout",
       "prompt_number": 58,
       "text": [
        "                             name3          ra        dec   closest          ts     pt_ts  pt_flags\n",
        "name                                                                                               \n",
        "P7R40571        3FGL J0406.7+5101    61.690102  51.020599  0.554110   89.348106       NaN       NaN\n",
        "P7R40591G       3FGL J0410.2+5028    62.566399  50.468700  0.589526   79.844475       NaN       NaN\n",
        "P7R40752G       3FGL J0524.5-6937    81.127800 -69.629402  0.330082   56.663948       NaN       NaN\n",
        "P7R40787B       3FGL J0534.8-6644    83.720001 -66.739799  0.743764   51.430286       NaN       NaN\n",
        "P7R40928A       3FGL J0640.9+1006   100.235199  10.105000  0.054565  126.123337  104.8218         0\n",
        "P7R41170        3FGL J0823.9-4259   125.979103 -42.987801  0.275784   27.231863       NaN       NaN\n",
        "P7R41228        3FGL J0847.1-4328   131.798096 -43.483299  0.053401  166.742844  96.61092         0\n",
        "P7R41279P       3FGL J0906.1-4926   136.531204 -49.437401  0.159083  115.712616  49.13056         0\n",
        "P7R41413Y       3FGL J1007.4-3334   151.874802 -33.575901  0.054228   25.709810  14.51901         0\n",
        "P7R41432        3FGL J1017.2-6035   154.302399 -60.584000  0.082402  140.816498  100.0659         0\n",
        "P7R41523G       3FGL J1045.1-5623   161.290604 -56.391499  1.100690   32.976608  1.606622         0\n",
        "PSRJ1112-6103   3FGL J1112.2-6103   168.061798 -61.058701  0.098461  165.380569       NaN       NaN\n",
        "P7R41625        3FGL J1114.9-6115   168.729202 -61.261600  0.466048   47.763386       NaN       NaN\n",
        "CenALobes       3FGL J1324.0-4330e  201.000000 -43.500000  0.436108  157.095215       NaN       NaN\n",
        "P7R41998        3FGL J1332.3-4237   203.097198 -42.623001  0.837180   33.449951       NaN       NaN\n",
        "PSRJ1513-5908   3FGL J1513.9-5908   228.481796 -59.135799  0.115110   66.767601       NaN       NaN\n",
        "P7R42305P       3FGL J1538.5-4215   234.647400 -42.262501  0.549842   53.212257  12.00157         8\n",
        "P7R42409        3FGL J1615.1-5135   243.797607 -51.596298  0.185065  148.578430       NaN       NaN\n",
        "P7R42486P       3FGL J1635.8-4707   248.966293 -47.125500  0.071066  129.528763   82.4641         8\n",
        "P7R42558        3FGL J1657.8-4639   254.455994 -46.661400  0.236485   27.640690  44.92306         0\n",
        "RXJ1713.7-3946  3FGL J1713.5-3945e  258.390015 -39.759998  0.084844  222.656906       NaN       NaN\n",
        "P7R42683G       3FGL J1736.2-3420   264.066406 -34.341400  1.455427   88.546356  269.2024         8\n",
        "P7R42717        3FGL J1745.3-2903   266.342987 -29.063000  0.067161  444.089752  199.8341         8\n",
        "P7R43259A       3FGL J2050.0+3156   312.502106  31.935400  1.284232   37.868160       NaN       NaN\n",
        "CygnusLoop      3FGL J2051.0+3040e  312.750000  30.670000  0.129605  468.476807       NaN       NaN\n",
        "P7R43266A       3FGL J2053.9+2922   313.476105  29.373600  1.414438   81.760750       NaN       NaN\n",
        "P7R43274A       3FGL J2056.4+3142   314.101013  31.709999  1.444619   88.989914       NaN       NaN\n",
        "P7R43525        3FGL J2258.3+6228   344.587006  62.468800  0.481138  189.056915       NaN       NaN\n",
        "P7R43547        3FGL J2313.4+6124   348.362305  61.416401  2.005938  198.319107       NaN       NaN\n",
        "P7R43585Q       3FGL J2316.6+6139   349.155304  61.662201  1.700402   52.157490       NaN       NaN\n",
        "P7R43687        3FGL J2356.4+6724   359.107086  67.413101  0.803242   48.458221  77.48389         0"
       ]
      }
     ],
     "prompt_number": 58
    },
    {
     "cell_type": "code",
     "collapsed": false,
     "input": [
      "self.df.ix['P7R40571']"
     ],
     "language": "python",
     "metadata": {},
     "outputs": [
      {
       "ename": "NameError",
       "evalue": "name 'self' is not defined",
       "output_type": "pyerr",
       "traceback": [
        "\u001b[1;31m---------------------------------------------------------------------------\u001b[0m\n\u001b[1;31mNameError\u001b[0m                                 Traceback (most recent call last)",
        "\u001b[1;32m<ipython-input-57-06d4362840a3>\u001b[0m in \u001b[0;36m<module>\u001b[1;34m()\u001b[0m\n\u001b[1;32m----> 1\u001b[1;33m \u001b[0mself\u001b[0m\u001b[1;33m.\u001b[0m\u001b[0mdf\u001b[0m\u001b[1;33m.\u001b[0m\u001b[0mix\u001b[0m\u001b[1;33m[\u001b[0m\u001b[1;34m'P7R40571'\u001b[0m\u001b[1;33m]\u001b[0m\u001b[1;33m\u001b[0m\u001b[0m\n\u001b[0m",
        "\u001b[1;31mNameError\u001b[0m: name 'self' is not defined"
       ]
      }
     ],
     "prompt_number": 57
    },
    {
     "cell_type": "code",
     "collapsed": false,
     "input": [
      "cat['flags'] = sc.df.flags"
     ],
     "language": "python",
     "metadata": {},
     "outputs": [],
     "prompt_number": 4
    },
    {
     "cell_type": "code",
     "collapsed": false,
     "input": [
      "bad_list = cat[cat.flags>7].name3; len(bad_list)"
     ],
     "language": "python",
     "metadata": {},
     "outputs": [
      {
       "metadata": {},
       "output_type": "pyout",
       "prompt_number": 5,
       "text": [
        "name\n",
        "P7R40027      3FGL J0008.5+6853 \n",
        "P7R40057      3FGL J0021.6-6835 \n",
        "P7R40152      3FGL J0102.1+0943 \n",
        "P7R40218      3FGL J0128.5+4430 \n",
        "P7R40508      3FGL J0332.4+6110 \n",
        "P7R40687      3FGL J0457.0+0643 \n",
        "P7R40713G     3FGL J0507.5-0906 \n",
        "P7R40723G     3FGL J0512.2+2918 \n",
        "P7R40753      3FGL J0525.2-6614 \n",
        "P7R40784      3FGL J0533.8-3754 \n",
        "P7R40818A     3FGL J0542.2-8737 \n",
        "P7R40841AG    3FGL J0600.4-1934 \n",
        "P7R40846G     3FGL J0601.5+2309 \n",
        "P7R40856A     3FGL J0605.9+2039 \n",
        "P7R40862      3FGL J0607.0+4406 \n",
        "...\n",
        "P7R43011G    3FGL J1915.2+0954 \n",
        "P7R43059G    3FGL J1941.5+5134 \n",
        "P7R43115     3FGL J1957.9-0712 \n",
        "P7R43149P    3FGL J2009.2-1458 \n",
        "P7R43155G    3FGL J2013.4-3710 \n",
        "P7R43227     3FGL J2039.4+4111 \n",
        "P7R43245G    3FGL J2042.4+4209 \n",
        "P7R43310     3FGL J2109.5+3953 \n",
        "P7R43353     3FGL J2130.4-4237 \n",
        "P7R43360     3FGL J2131.5+2605 \n",
        "P7R43494     3FGL J2235.6-2319 \n",
        "P7R43519     3FGL J2246.7-5205 \n",
        "P7R43540G    3FGL J2254.6+4253 \n",
        "P7R43550H    3FGL J2258.8+2437 \n",
        "P7R43658     3FGL J2344.9-5647 \n",
        "Name: name3, Length: 76, dtype: object"
       ]
      }
     ],
     "prompt_number": 5
    },
    {
     "cell_type": "code",
     "collapsed": false,
     "input": [
      "def generate_tsmaps(catname):\n",
      "    if catname[-1]!=' ': catname+=' ' # has to have a blank on the end\n",
      "    if catname[0]=='J': catname = '3FGL '+catname\n",
      "    select = cat.name3==catname #'3FGL J0536.4-3347 '\n",
      "    assert sum(select)==1, 'Require to find one entry: failed for %s' % catname\n",
      "    entry =cat[select];\n",
      "    name = entry.index.values[0]\n",
      "    location = float(entry.ra.values[0]),float(entry.dec.values[0]); \n",
      "    print '='*80\n",
      "    print '   Processing %s, nickname %s, at (%.3f, %.3f)' % (catname, name, location[0],location[1])\n",
      "    #Load the pointlike analysis code, select the ROI for the source (by the ra,dec location)\n",
      "    roi = main.ROI('.', location)\n",
      "    roi.print_summary()\n",
      "    #Finally, plot the SED and TS map for this source\n",
      "    roi.plot_tsmap(name, nolegend=True);\n",
      "    ax = plt.gca()\n",
      "    ax.set_title(catname)\n",
      "    plt.savefig('tsmap/'+catname.replace(' ','_').replace('+','p')+'tsmap.png')\n",
      "    #roi.plot_sed(name);\n",
      "    #plt.savefig('sedfig/'+catname.replace(' ','_').replace('+','p')+'sed.png')\n",
      "    "
     ],
     "language": "python",
     "metadata": {},
     "outputs": [],
     "prompt_number": 23
    },
    {
     "cell_type": "code",
     "collapsed": false,
     "input": [
      "generate_tsmaps(bad_list[1])"
     ],
     "language": "python",
     "metadata": {},
     "outputs": [
      {
       "output_type": "stream",
       "stream": "stdout",
       "text": [
        "================================================================================\n",
        "   Processing 3FGL J0021.6-6835 , nickname P7R40057, at (5.409, -68.592)\n",
        "FT file(s) \"/afs/slac/g/glast/groups/catalog//pointlike/fermi/data/../../P7_P202/Source/*.fits\" not found: assume None to test for valid binfile\n",
        "FT file(s) \"/afs/slac/g/glast/groups/catalog//pointlike/fermi/data/../../P7_P202/ft2_4years.fits\" not found: assume None to test for valid binfile\n",
        "63 total sources: 1 extended, 4 global"
       ]
      },
      {
       "output_type": "stream",
       "stream": "stdout",
       "text": [
        "\n",
        "------------------------------------------------------------------------------------------"
       ]
      },
      {
       "output_type": "stream",
       "stream": "stdout",
       "text": [
        " \n",
        "\t Nearby sources within 5.0 degrees HP12_1501\n",
        "name               dist        ra       dec        TS eflux(eV)    index   energy   beta/b\n",
        "P7R40078            0.9     7.296   -70.755       155       4.7*    2.21!    1517     0\n",
        "P7R40065            1.3     5.982   -72.065      2345      15.9!    1.74!     885     0.40*"
       ]
      },
      {
       "output_type": "stream",
       "stream": "stdout",
       "text": [
        "\n",
        "P7R40114A           2.2    11.467   -71.041        17       1.2*    1.95*    3544     0\n",
        "P7R40057            2.3     5.409   -68.592        33       2.2*    2.59!     657     0"
       ]
      },
      {
       "output_type": "stream",
       "stream": "stdout",
       "text": [
        "\n",
        "P7R40000D           3.3     0.279   -73.886        12       0.9*    1.87*    4296     0\n",
        "P7R40114B           3.4    11.589   -73.478                 2.2     2.35     1556     0"
       ]
      },
      {
       "output_type": "stream",
       "stream": "stdout",
       "text": [
        "\n",
        "SMC                 3.7    14.689   -72.700                18.4     2.15      804     0.11 \n",
        "P7R40004            3.8     0.524   -67.370                 2.2     2.02     2452     0\n",
        "P7R43647            4.4   354.691   -74.020                 4.0     1.85     3154     0\n",
        "P7R40069            4.8     6.656   -75.557                 1.6     2.18     1641     0"
       ]
      },
      {
       "output_type": "stream",
       "stream": "stdout",
       "text": [
        "\n",
        "------------------------------------------------------------------------------------------ \n",
        "\tDiffuse sources\n",
        "------------------------------------------------------------------------------------------\n",
        "limb                        0.68       1.72 \n",
        "ring                        1.00       0.00 \n",
        "isotrop                     0.85!\n",
        "SunMoon                     1.00 \n",
        "------------------------------------------------------------------------------------------\n",
        "TSplot: filling 225 pixels (size=0.90, npix=15)..."
       ]
      },
      {
       "output_type": "stream",
       "stream": "stdout",
       "text": [
        "\n"
       ]
      },
      {
       "metadata": {},
       "output_type": "display_data",
       "png": "[encoded data removed]",
       "text": [
        "<matplotlib.figure.Figure at 0x7fa6aabb0ed0>"
       ]
      }
     ],
     "prompt_number": 29
    },
    {
     "cell_type": "code",
     "collapsed": false,
     "input": [
      "list(bad_list).index('3FGL J1635.8-4707 ')"
     ],
     "language": "python",
     "metadata": {},
     "outputs": [
      {
       "metadata": {},
       "output_type": "pyout",
       "prompt_number": 42,
       "text": [
        "42"
       ]
      }
     ],
     "prompt_number": 42
    },
    {
     "cell_type": "code",
     "collapsed": false,
     "input": [
      "map(generate_tsmaps, bad_list[43:])"
     ],
     "language": "python",
     "metadata": {},
     "outputs": [
      {
       "output_type": "stream",
       "stream": "stdout",
       "text": [
        "================================================================================\n",
        "   Processing 3FGL J1645.9-5420 , nickname P7R42513, at (251.484, -54.349)\n",
        "FT file(s) \"/afs/slac/g/glast/groups/catalog//pointlike/fermi/data/../../P7_P202/Source/*.fits\" not found: assume None to test for valid binfile\n",
        "FT file(s) \"/afs/slac/g/glast/groups/catalog//pointlike/fermi/data/../../P7_P202/ft2_4years.fits\" not found: assume None to test for valid binfile"
       ]
      },
      {
       "output_type": "stream",
       "stream": "stdout",
       "text": [
        "\n",
        "130 total sources: 3 extended, 4 global"
       ]
      },
      {
       "output_type": "stream",
       "stream": "stdout",
       "text": [
        "\n",
        "------------------------------------------------------------------------------------------"
       ]
      },
      {
       "output_type": "stream",
       "stream": "stdout",
       "text": [
        " \n",
        "\t Nearby sources within 5.0 degrees HP12_0980\n",
        "name               dist        ra       dec        TS eflux(eV)    index   energy   beta/b\n",
        "P7R42513            1.0   251.484   -54.349        21       5.1*    2.78!     583     0"
       ]
      },
      {
       "output_type": "stream",
       "stream": "stdout",
       "text": [
        "\n",
        "PSR J1658-5324      1.1   254.621   -53.389       284      12.2*    1.59*    1790*    1"
       ]
      },
      {
       "output_type": "stream",
       "stream": "stdout",
       "text": [
        "\n",
        "P7R42578            1.4   255.504   -54.247        14       3.3*    2.57!    1266     0"
       ]
      },
      {
       "output_type": "stream",
       "stream": "stdout",
       "text": [
        "\n",
        "P7R42509            1.8   250.378   -53.324       128       6.4*    2.04*    1043     0.72*\n",
        "P7R42498            2.2   249.762   -55.142        16       4.5*    2.78*    1881     0"
       ]
      },
      {
       "output_type": "stream",
       "stream": "stdout",
       "text": [
        "\n",
        "P7R42572            2.3   255.343   -52.269        22       5.3*    2.64!    2670     0"
       ]
      },
      {
       "output_type": "stream",
       "stream": "stdout",
       "text": [
        "\n",
        "P7R42524G           2.5   252.166   -56.584        17       2.8*    2.53*    1740     0"
       ]
      },
      {
       "output_type": "stream",
       "stream": "stdout",
       "text": [
        "\n",
        "P7R42500            3.1   249.870   -51.779                20.9     2.26     2111     0\n",
        "P7R42579            3.2   255.720   -56.936                20.4     2.24      613     0.18 \n",
        "P7R42533            3.4   252.564   -50.749                32.1     2.28     2120     0\n",
        "P7R42520A           3.8   251.323   -57.790                 4.5     2.67      864     0"
       ]
      },
      {
       "output_type": "stream",
       "stream": "stdout",
       "text": [
        "\n",
        "P7R42628G           4.0   259.969   -53.925                 1.7     1.83     7949     0\n",
        "P7R42618            4.3   259.364   -51.965                13.7     2.57      798     0\n",
        "P7R42514            4.3   250.914   -50.039                11.2     2.49     1421     0\n",
        "P7R42633            4.4   260.356   -52.897                 4.3     2.44     1592     0"
       ]
      },
      {
       "output_type": "stream",
       "stream": "stdout",
       "text": [
        "\n",
        "P7R42601AG          4.6   257.890   -50.483                 2.8     2.20     4862     0\n",
        "P7R42568            4.8   255.285   -49.530                 5.8     2.36     2578     0\n",
        "P7R42632A           4.9   260.881   -56.161                 3.9     2.55     1055     0\n",
        "P7R42460G           4.9   247.034   -57.675                 4.6     2.48     1754     0"
       ]
      },
      {
       "output_type": "stream",
       "stream": "stdout",
       "text": [
        "\n",
        "------------------------------------------------------------------------------------------ \n",
        "\tDiffuse sources\n",
        "------------------------------------------------------------------------------------------\n",
        "limb                        0.51       1.05 \n",
        "ring                        1.00       0.00 \n",
        "isotrop                     1.01!\n",
        "SunMoon                     1.00 \n",
        "------------------------------------------------------------------------------------------\n",
        "setting size from 3.09 to 2.0"
       ]
      },
      {
       "output_type": "stream",
       "stream": "stdout",
       "text": [
        "\n",
        "TSplot: filling 225 pixels (size=2.00, npix=15)...\n"
       ]
      },
      {
       "output_type": "stream",
       "stream": "stdout",
       "text": [
        "================================================================================\n",
        "   Processing 3FGL J1654.3-4907 , nickname P7R42547, at (253.598, -49.122)\n",
        "FT file(s) \"/afs/slac/g/glast/groups/catalog//pointlike/fermi/data/../../P7_P202/Source/*.fits\" not found: assume None to test for valid binfile\n",
        "FT file(s) \"/afs/slac/g/glast/groups/catalog//pointlike/fermi/data/../../P7_P202/ft2_4years.fits\" not found: assume None to test for valid binfile\n",
        "138 total sources: 4 extended, 4 global"
       ]
      },
      {
       "output_type": "stream",
       "stream": "stdout",
       "text": [
        "\n",
        "------------------------------------------------------------------------------------------"
       ]
      },
      {
       "output_type": "stream",
       "stream": "stdout",
       "text": [
        " \n",
        "\t Nearby sources within 5.0 degrees HP12_0933\n",
        "name               dist        ra       dec        TS eflux(eV)    index   energy   beta/b\n",
        "P7R42547            0.4   253.599   -49.122        35       7.6*    2.44!    1512     0"
       ]
      },
      {
       "output_type": "stream",
       "stream": "stdout",
       "text": [
        "\n",
        "P7R42524            0.9   252.150   -48.494        44      13.7*    2.56!    2213     0"
       ]
      },
      {
       "output_type": "stream",
       "stream": "stdout",
       "text": [
        "\n",
        "P7R42548            1.5   253.897   -47.809        36       9.1*    2.33!    3653     0"
       ]
      },
      {
       "output_type": "stream",
       "stream": "stdout",
       "text": [
        "\n",
        "P7R42568            1.5   255.285   -49.530        30       5.8*    2.36!    2578     0"
       ]
      },
      {
       "output_type": "stream",
       "stream": "stdout",
       "text": [
        "\n",
        "P7R42533            1.6   252.564   -50.749       590      32.1!    2.28!    2120     0"
       ]
      },
      {
       "output_type": "stream",
       "stream": "stdout",
       "text": [
        "\n",
        "P7R42514            1.6   250.914   -50.039        52      11.2*    2.49!    1421     0"
       ]
      },
      {
       "output_type": "stream",
       "stream": "stdout",
       "text": [
        "\n",
        "P7R42505            1.8   250.156   -49.289        72      13.8*    2.29!    2634     0"
       ]
      },
      {
       "output_type": "stream",
       "stream": "stdout",
       "text": [
        "\n",
        "P7R42581            2.0   255.990   -48.724        59       9.3*    2.41!    1515     0"
       ]
      },
      {
       "output_type": "stream",
       "stream": "stdout",
       "text": [
        "\n",
        "P7R42551            2.1   253.947   -47.211        36       8.8*    2.29!    3306     0"
       ]
      },
      {
       "output_type": "stream",
       "stream": "stdout",
       "text": [
        "\n",
        "P7R42540            2.4   253.063   -46.830        40       8.6*    1.98!    6966     0"
       ]
      },
      {
       "output_type": "stream",
       "stream": "stdout",
       "text": [
        "\n",
        "P7R42558            2.5   254.419   -46.896        53       8.0*    2.08!    3514     0"
       ]
      },
      {
       "output_type": "stream",
       "stream": "stdout",
       "text": [
        "\n",
        "P7R42547G           2.5   253.780   -46.735        35       6.0*    1.92!   10675     0"
       ]
      },
      {
       "output_type": "stream",
       "stream": "stdout",
       "text": [
        "\n",
        "P7R42537H           2.8   252.898   -46.434                 8.4     1.90     9581     0\n",
        "P7R42576            2.8   255.386   -46.926        56      17.5*    2.85!    1672     0"
       ]
      },
      {
       "output_type": "stream",
       "stream": "stdout",
       "text": [
        "\n",
        "P7R42545A           2.9   253.501   -46.296                10.3     1.97     6145     0\n",
        "PSR J1648-4611      3.1   252.096   -46.196                22.6     0.81     2609     1\n",
        "P7R42488            3.1   249.077   -47.564                41.4     2.48     3362     0.46 \n",
        "P7R42534            3.2   252.599   -46.014                40.1     2.57     3062     0.29 "
       ]
      },
      {
       "output_type": "stream",
       "stream": "stdout",
       "text": [
        "\n",
        "P7R42496G           3.2   249.650   -46.902                33.1     2.60     2804     0.42 \n",
        "P7R42500            3.2   249.870   -51.779       338      20.9!    2.26!    2111     0"
       ]
      },
      {
       "output_type": "stream",
       "stream": "stdout",
       "text": [
        "\n",
        "P7R42504            3.3   250.118   -46.580                28.7     2.01     9600     0\n",
        "P7R42574H           3.3   255.537   -46.387                 8.3     2.30     3005     0\n",
        "P7R42481            3.3   248.114   -48.353                12.6     1.91     4297     0\n",
        "P7R42486P           3.3   249.058   -47.159                26.8     2.02     1795     0"
       ]
      },
      {
       "output_type": "stream",
       "stream": "stdout",
       "text": [
        "\n",
        "P7R42507G           3.4   250.283   -46.330                34.1     2.37     5094     0\n",
        "P7R42572            3.4   255.343   -52.269                 5.3     2.64     2670     0\n",
        "P7R42601AG          3.4   257.890   -50.483                 2.8     2.20     4862     0\n",
        "HESS J1632-478      3.4   248.254   -47.769               212.2     2.30     2330     0"
       ]
      },
      {
       "output_type": "stream",
       "stream": "stdout",
       "text": [
        "\n",
        "P7R42491            3.5   248.197   -47.833                 0.1     2.81     2148     0\n",
        "P7R42487            3.5   248.066   -47.845                 1.3     1.03     7978     0\n",
        "P7R42464            3.8   247.238   -48.874                14.6     2.30     1926     0.57 \n",
        "P7R42450G           4.2   246.569   -49.197                12.7     2.07     7498     0"
       ]
      },
      {
       "output_type": "stream",
       "stream": "stdout",
       "text": [
        "\n",
        "PSR J1658-5324      4.3   254.621   -53.389                12.2     1.59     1790     1\n",
        "P7R42509            4.4   250.378   -53.324                 6.4     2.04     1043     0.72 \n",
        "P7R42532A           4.6   252.541   -44.611                46.6     2.70     1361     0"
       ]
      },
      {
       "output_type": "stream",
       "stream": "stdout",
       "text": [
        "\n",
        "P7R42433            4.8   245.726   -50.075                41.2     2.04     2490     0.33 \n",
        "P7R42618            4.9   259.364   -51.965                13.7     2.57      798     0\n",
        "------------------------------------------------------------------------------------------ \n",
        "\tDiffuse sources\n",
        "------------------------------------------------------------------------------------------\n",
        "limb                        0.45       0.79 \n",
        "ring                        1.00       0.00 \n",
        "isotrop                     1.48!\n",
        "SunMoon                     1.00 \n",
        "------------------------------------------------------------------------------------------\n",
        "TSplot: filling 225 pixels (size=1.91, npix=15)..."
       ]
      },
      {
       "output_type": "stream",
       "stream": "stdout",
       "text": [
        "\n"
       ]
      },
      {
       "output_type": "stream",
       "stream": "stdout",
       "text": [
        "================================================================================\n",
        "   Processing 3FGL J1729.5-2824 , nickname P7R42645, at (262.375, -28.411)\n",
        "FT file(s) \"/afs/slac/g/glast/groups/catalog//pointlike/fermi/data/../../P7_P202/Source/*.fits\" not found: assume None to test for valid binfile\n",
        "FT file(s) \"/afs/slac/g/glast/groups/catalog//pointlike/fermi/data/../../P7_P202/ft2_4years.fits\" not found: assume None to test for valid binfile\n",
        "140 total sources: 3 extended, 4 global"
       ]
      },
      {
       "output_type": "stream",
       "stream": "stdout",
       "text": [
        "\n",
        "------------------------------------------------------------------------------------------"
       ]
      },
      {
       "output_type": "stream",
       "stream": "stdout",
       "text": [
        " \n",
        "\t Nearby sources within 5.0 degrees HP12_0792\n",
        "name               dist        ra       dec        TS eflux(eV)    index   energy   beta/b\n",
        "P7R42670            0.2   263.123   -27.150        61      11.7*    2.29!    2730     0"
       ]
      },
      {
       "output_type": "stream",
       "stream": "stdout",
       "text": [
        "\n",
        "P7R42681P           0.6   264.019   -27.020        66      13.2*    2.38!    1700     0"
       ]
      },
      {
       "output_type": "stream",
       "stream": "stdout",
       "text": [
        "\n",
        "P7R42672Q           1.0   263.383   -28.194        39       9.4*    2.36!    2853     0"
       ]
      },
      {
       "output_type": "stream",
       "stream": "stdout",
       "text": [
        "\n",
        "P7R42655            1.4   261.930   -26.594        38      11.1*    2.56!    1196     0"
       ]
      },
      {
       "output_type": "stream",
       "stream": "stdout",
       "text": [
        "\n",
        "P7R42673            1.4   263.393   -25.799        31       9.4*    2.47!    1172     0"
       ]
      },
      {
       "output_type": "stream",
       "stream": "stdout",
       "text": [
        "\n",
        "P7R42645            1.5   262.375   -28.411        25       9.3*    2.66!    1011     0"
       ]
      },
      {
       "output_type": "stream",
       "stream": "stdout",
       "text": [
        "\n",
        "P7R42677            1.5   264.121   -28.627       136      12.9*    2.40*     933     1.52*"
       ]
      },
      {
       "output_type": "stream",
       "stream": "stdout",
       "text": [
        "\n",
        "P7R42691            1.6   265.113   -27.437       206      18.7!    2.85!    1311     0.83*"
       ]
      },
      {
       "output_type": "stream",
       "stream": "stdout",
       "text": [
        "\n",
        "P7R42693G           1.7   265.137   -26.711        63      12.3*    2.30!    2043     0"
       ]
      },
      {
       "output_type": "stream",
       "stream": "stdout",
       "text": [
        "\n",
        "P7R42693            2.2   265.125   -28.717       249      49.7!    2.54!    1248     0"
       ]
      },
      {
       "output_type": "stream",
       "stream": "stdout",
       "text": [
        "\n",
        "P7R42643HP          2.2   261.279   -28.539        13       3.9*    2.20*    9613     0"
       ]
      },
      {
       "output_type": "stream",
       "stream": "stdout",
       "text": [
        "\n",
        "P7R42678            2.3   263.683   -29.501        79      15.3*    2.30!    1982     0"
       ]
      },
      {
       "output_type": "stream",
       "stream": "stdout",
       "text": [
        "\n",
        "P7R42706            2.3   264.431   -25.172       108      13.5*    2.99!    1071     0.74*"
       ]
      },
      {
       "output_type": "stream",
       "stream": "stdout",
       "text": [
        "\n",
        "P7R42696A           2.5   265.476   -25.662        62       8.5*    2.04!    3601     0"
       ]
      },
      {
       "output_type": "stream",
       "stream": "stdout",
       "text": [
        "\n",
        "P7R42712P           2.6   266.069   -26.367                 4.7     2.02     3891     0\n",
        "P7R42635GP          2.7   260.811   -28.675        12       4.6*    2.52!    1211     0"
       ]
      },
      {
       "output_type": "stream",
       "stream": "stdout",
       "text": [
        "\n",
        "P7R42669            2.8   262.964   -30.021                13.1     1.93     4518     0\n",
        "P7R42717            3.2   266.295   -29.115                37.6     0.65      885     0.93 \n",
        "P7R42664            3.2   262.435   -24.137                 9.2     2.54     1294     0\n",
        "P7R42735            3.2   266.420   -29.003               254.9     3.16    19125     0.19 "
       ]
      },
      {
       "output_type": "stream",
       "stream": "stdout",
       "text": [
        "\n",
        "P7R42728            3.3   266.785   -28.513               118.4     2.65     1397     0.14 \n",
        "P7R42712H           3.3   266.136   -25.100                23.3     2.82     1349     0\n",
        "P7R42722            3.3   266.617   -28.851                54.3     1.87     2388     0.65 "
       ]
      },
      {
       "output_type": "stream",
       "stream": "stdout",
       "text": [
        "\n",
        "P7R42734            3.5   267.089   -28.262                29.3     2.60     4677     0.88 \n",
        "P7R42737A           3.7   266.943   -29.075                44.6     2.44     1150     0\n",
        "P7R42616            3.8   259.161   -28.205                 8.4     2.49     1270     0"
       ]
      },
      {
       "output_type": "stream",
       "stream": "stdout",
       "text": [
        "\n",
        "P7R42714A           3.9   266.297   -30.199                53.5     2.58     1418     0\n",
        "P7R42738G           4.0   267.284   -29.201                38.7     2.40     3138     0\n",
        "P7R42696            4.0   265.290   -30.894                17.5     2.41     1950     0.69 \n",
        "PSR J1747-2958      4.1   266.818   -29.977               123.3     1.77     2873     1"
       ]
      },
      {
       "output_type": "stream",
       "stream": "stdout",
       "text": [
        "\n",
        "P7R42730            4.1   267.009   -24.784                40.4     2.05     1464     0.36 \n",
        "P7R42627G           4.2   259.819   -24.551                 4.7     2.44     1481     0\n",
        "P7R42712I           4.3   266.180   -30.720                23.6     2.40     3046     0\n",
        "PSR J1732-3131      4.3   263.134   -31.515                86.6     0.29     1468     1"
       ]
      },
      {
       "output_type": "stream",
       "stream": "stdout",
       "text": [
        "\n",
        "P7R42692G           4.4   264.998   -31.407                15.6     2.38     3143     0\n",
        "P7R42606G           4.8   258.535   -29.414                 3.1     2.16     3048     0\n",
        "P7R42747            4.9   268.508   -25.649                20.2     1.79     2640     0.63 \n",
        "P7R42623            5.0   259.529   -30.941                 7.2     2.18     2780     0"
       ]
      },
      {
       "output_type": "stream",
       "stream": "stdout",
       "text": [
        "\n",
        "------------------------------------------------------------------------------------------ \n",
        "\tDiffuse sources\n",
        "------------------------------------------------------------------------------------------\n",
        "limb                        0.07       0.00 \n",
        "ring                        1.00       0.00 \n",
        "isotrop                     1.72!\n",
        "SunMoon                     1.00 \n",
        "------------------------------------------------------------------------------------------\n",
        "setting size from 2.65 to 2.0"
       ]
      },
      {
       "output_type": "stream",
       "stream": "stdout",
       "text": [
        "\n",
        "TSplot: filling 225 pixels (size=2.00, npix=15)...\n"
       ]
      },
      {
       "output_type": "stream",
       "stream": "stdout",
       "text": [
        "================================================================================\n",
        "   Processing 3FGL J1729.9-0859 , nickname P7R42660, at (262.491, -8.986)\n",
        "FT file(s) \"/afs/slac/g/glast/groups/catalog//pointlike/fermi/data/../../P7_P202/Source/*.fits\" not found: assume None to test for valid binfile\n",
        "FT file(s) \"/afs/slac/g/glast/groups/catalog//pointlike/fermi/data/../../P7_P202/ft2_4years.fits\" not found: assume None to test for valid binfile\n",
        "64 total sources: 0 extended, 3 global"
       ]
      },
      {
       "output_type": "stream",
       "stream": "stdout",
       "text": [
        "\n",
        "------------------------------------------------------------------------------------------"
       ]
      },
      {
       "output_type": "stream",
       "stream": "stdout",
       "text": [
        " \n",
        "\t Nearby sources within 5.0 degrees HP12_0602\n",
        "name               dist        ra       dec        TS eflux(eV)    index   energy   beta/b\n",
        "P7R42647            1.2   261.348    -7.839        14       2.5*    2.08*    4313     0"
       ]
      },
      {
       "output_type": "stream",
       "stream": "stdout",
       "text": [
        "\n",
        "P7R42649            2.0   261.914    -6.913        27       5.7*    2.67!     797     0"
       ]
      },
      {
       "output_type": "stream",
       "stream": "stdout",
       "text": [
        "\n",
        "P7R42660            2.6   262.491    -8.986        26       6.4*    3.13!     340     0"
       ]
      },
      {
       "output_type": "stream",
       "stream": "stdout",
       "text": [
        "\n",
        "P7R42641A           2.8   261.251    -5.223        18       2.6*    1.74*    9316     0"
       ]
      },
      {
       "output_type": "stream",
       "stream": "stdout",
       "text": [
        "\n",
        "P7R42594            3.0   257.179    -8.407                 3.4     2.52     1153     0\n",
        "P7R42595            3.1   257.368    -9.284                 2.5     2.13     1241     1.86 \n",
        "P7R42628H           3.4   260.096    -4.473                 3.0     2.02     6053     0"
       ]
      },
      {
       "output_type": "stream",
       "stream": "stdout",
       "text": [
        "\n",
        "P7R42634            3.6   260.691    -4.264                 7.9     2.38     1313     0\n",
        "P7R42603P           3.9   257.976    -4.608                 4.0     2.56     1167     0\n",
        "P7R42623P           4.1   259.674    -3.751                 3.0     2.24     3069     0"
       ]
      },
      {
       "output_type": "stream",
       "stream": "stdout",
       "text": [
        "\n",
        "P7R42665            4.6   262.665    -3.952                 3.6     1.81     1986     0.90 \n",
        "P7R42585            4.7   256.121    -5.478                 6.0     2.14     2295     0\n",
        "P7R42574            4.7   255.521    -8.985                 4.1     2.55     1148     0"
       ]
      },
      {
       "output_type": "stream",
       "stream": "stdout",
       "text": [
        "\n",
        "------------------------------------------------------------------------------------------ \n",
        "\tDiffuse sources\n",
        "------------------------------------------------------------------------------------------\n",
        "ring                        1.00       0.00 \n",
        "isotrop                     1.33!\n",
        "SunMoon                     1.00 \n",
        "------------------------------------------------------------------------------------------\n",
        "setting size from 3.41 to 2.0"
       ]
      },
      {
       "output_type": "stream",
       "stream": "stdout",
       "text": [
        "\n",
        "TSplot: filling 225 pixels (size=2.00, npix=15)...\n"
       ]
      },
      {
       "output_type": "stream",
       "stream": "stdout",
       "text": [
        "================================================================================\n",
        "   Processing 3FGL J1733.5-2547 , nickname P7R42673, at (263.393, -25.799)\n",
        "FT file(s) \"/afs/slac/g/glast/groups/catalog//pointlike/fermi/data/../../P7_P202/Source/*.fits\" not found: assume None to test for valid binfile\n",
        "FT file(s) \"/afs/slac/g/glast/groups/catalog//pointlike/fermi/data/../../P7_P202/ft2_4years.fits\" not found: assume None to test for valid binfile\n",
        "140 total sources: 3 extended, 4 global"
       ]
      },
      {
       "output_type": "stream",
       "stream": "stdout",
       "text": [
        "\n",
        "------------------------------------------------------------------------------------------"
       ]
      },
      {
       "output_type": "stream",
       "stream": "stdout",
       "text": [
        " \n",
        "\t Nearby sources within 5.0 degrees HP12_0792\n",
        "name               dist        ra       dec        TS eflux(eV)    index   energy   beta/b\n",
        "P7R42670            0.2   263.123   -27.150        61      11.7*    2.29!    2730     0"
       ]
      },
      {
       "output_type": "stream",
       "stream": "stdout",
       "text": [
        "\n",
        "P7R42681P           0.6   264.019   -27.020        66      13.2*    2.38!    1700     0"
       ]
      },
      {
       "output_type": "stream",
       "stream": "stdout",
       "text": [
        "\n",
        "P7R42672Q           1.0   263.383   -28.194        39       9.4*    2.36!    2853     0"
       ]
      },
      {
       "output_type": "stream",
       "stream": "stdout",
       "text": [
        "\n",
        "P7R42655            1.4   261.930   -26.594        38      11.1*    2.56!    1196     0"
       ]
      },
      {
       "output_type": "stream",
       "stream": "stdout",
       "text": [
        "\n",
        "P7R42673            1.4   263.393   -25.799        31       9.4*    2.47!    1172     0"
       ]
      },
      {
       "output_type": "stream",
       "stream": "stdout",
       "text": [
        "\n",
        "P7R42645            1.5   262.375   -28.411        25       9.3*    2.66!    1011     0"
       ]
      },
      {
       "output_type": "stream",
       "stream": "stdout",
       "text": [
        "\n",
        "P7R42677            1.5   264.121   -28.627       136      12.9*    2.40*     933     1.52*"
       ]
      },
      {
       "output_type": "stream",
       "stream": "stdout",
       "text": [
        "\n",
        "P7R42691            1.6   265.113   -27.437       206      18.7!    2.85!    1311     0.83*"
       ]
      },
      {
       "output_type": "stream",
       "stream": "stdout",
       "text": [
        "\n",
        "P7R42693G           1.7   265.137   -26.711        63      12.3*    2.30!    2043     0"
       ]
      },
      {
       "output_type": "stream",
       "stream": "stdout",
       "text": [
        "\n",
        "P7R42693            2.2   265.125   -28.717       249      49.7!    2.54!    1248     0"
       ]
      },
      {
       "output_type": "stream",
       "stream": "stdout",
       "text": [
        "\n",
        "P7R42643HP          2.2   261.279   -28.539        13       3.9*    2.20*    9613     0"
       ]
      },
      {
       "output_type": "stream",
       "stream": "stdout",
       "text": [
        "\n",
        "P7R42678            2.3   263.683   -29.501        79      15.3*    2.30!    1982     0"
       ]
      },
      {
       "output_type": "stream",
       "stream": "stdout",
       "text": [
        "\n",
        "P7R42706            2.3   264.431   -25.172       108      13.5*    2.99!    1071     0.74*"
       ]
      },
      {
       "output_type": "stream",
       "stream": "stdout",
       "text": [
        "\n",
        "P7R42696A           2.5   265.476   -25.662        62       8.5*    2.04!    3601     0"
       ]
      },
      {
       "output_type": "stream",
       "stream": "stdout",
       "text": [
        "\n",
        "P7R42712P           2.6   266.069   -26.367                 4.7     2.02     3891     0\n",
        "P7R42635GP          2.7   260.811   -28.675        12       4.6*    2.52!    1211     0"
       ]
      },
      {
       "output_type": "stream",
       "stream": "stdout",
       "text": [
        "\n",
        "P7R42669            2.8   262.964   -30.021                13.1     1.93     4518     0\n",
        "P7R42717            3.2   266.295   -29.115                37.6     0.65      885     0.93 \n",
        "P7R42664            3.2   262.435   -24.137                 9.2     2.54     1294     0\n",
        "P7R42735            3.2   266.420   -29.003               254.9     3.16    19125     0.19 "
       ]
      },
      {
       "output_type": "stream",
       "stream": "stdout",
       "text": [
        "\n",
        "P7R42728            3.3   266.785   -28.513               118.4     2.65     1397     0.14 \n",
        "P7R42712H           3.3   266.136   -25.100                23.3     2.82     1349     0\n",
        "P7R42722            3.3   266.617   -28.851                54.3     1.87     2388     0.65 \n",
        "P7R42734            3.5   267.089   -28.262                29.3     2.60     4677     0.88 "
       ]
      },
      {
       "output_type": "stream",
       "stream": "stdout",
       "text": [
        "\n",
        "P7R42737A           3.7   266.943   -29.075                44.6     2.44     1150     0\n",
        "P7R42616            3.8   259.161   -28.205                 8.4     2.49     1270     0\n",
        "P7R42714A           3.9   266.297   -30.199                53.5     2.58     1418     0\n",
        "P7R42738G           4.0   267.284   -29.201                38.7     2.40     3138     0"
       ]
      },
      {
       "output_type": "stream",
       "stream": "stdout",
       "text": [
        "\n",
        "P7R42696            4.0   265.290   -30.894                17.5     2.41     1950     0.69 \n",
        "PSR J1747-2958      4.1   266.818   -29.977               123.3     1.77     2873     1\n",
        "P7R42730            4.1   267.009   -24.784                40.4     2.05     1464     0.36 \n",
        "P7R42627G           4.2   259.819   -24.551                 4.7     2.44     1481     0"
       ]
      },
      {
       "output_type": "stream",
       "stream": "stdout",
       "text": [
        "\n",
        "P7R42712I           4.3   266.180   -30.720                23.6     2.40     3046     0\n",
        "PSR J1732-3131      4.3   263.134   -31.515                86.6     0.29     1468     1\n",
        "P7R42692G           4.4   264.998   -31.407                15.6     2.38     3143     0\n",
        "P7R42606G           4.8   258.535   -29.414                 3.1     2.16     3048     0"
       ]
      },
      {
       "output_type": "stream",
       "stream": "stdout",
       "text": [
        "\n",
        "P7R42747            4.9   268.508   -25.649                20.2     1.79     2640     0.63 \n",
        "P7R42623            5.0   259.529   -30.941                 7.2     2.18     2780     0\n",
        "------------------------------------------------------------------------------------------ \n",
        "\tDiffuse sources\n",
        "------------------------------------------------------------------------------------------\n",
        "limb                        0.07       0.00 \n",
        "ring                        1.00       0.00 \n",
        "isotrop                     1.72!\n",
        "SunMoon                     1.00 \n",
        "------------------------------------------------------------------------------------------\n",
        "setting size from 4.77 to 2.0"
       ]
      },
      {
       "output_type": "stream",
       "stream": "stdout",
       "text": [
        "\n",
        "TSplot: filling 225 pixels (size=2.00, npix=15)...\n"
       ]
      },
      {
       "output_type": "stream",
       "stream": "stdout",
       "text": [
        "================================================================================\n",
        "   Processing 3FGL J1736.2-3420 , nickname P7R42683G, at (264.066, -34.341)\n",
        "FT file(s) \"/afs/slac/g/glast/groups/catalog//pointlike/fermi/data/../../P7_P202/Source/*.fits\" not found: assume None to test for valid binfile\n",
        "FT file(s) \"/afs/slac/g/glast/groups/catalog//pointlike/fermi/data/../../P7_P202/ft2_4years.fits\" not found: assume None to test for valid binfile\n",
        "149 total sources: 3 extended, 4 global"
       ]
      },
      {
       "output_type": "stream",
       "stream": "stdout",
       "text": [
        "\n",
        "------------------------------------------------------------------------------------------"
       ]
      },
      {
       "output_type": "stream",
       "stream": "stdout",
       "text": [
        " \n",
        "\t Nearby sources within 5.0 degrees HP12_0887\n",
        "name               dist        ra       dec        TS eflux(eV)    index   energy   beta/b\n",
        "P7R42686            0.2   264.348   -32.240        26       9.4*    2.06!    4519     0"
       ]
      },
      {
       "output_type": "stream",
       "stream": "stdout",
       "text": [
        "\n",
        "PSR J1732-3131      1.0   263.134   -31.515      3194      86.6!    0.29*    1468!    1"
       ]
      },
      {
       "output_type": "stream",
       "stream": "stdout",
       "text": [
        "\n",
        "P7R42692G           1.0   264.998   -31.407        33      15.6*    2.38!    3143     0"
       ]
      },
      {
       "output_type": "stream",
       "stream": "stdout",
       "text": [
        "\n",
        "P7R42696            1.6   265.290   -30.894       100      17.5*    2.41!    1950     0.69*"
       ]
      },
      {
       "output_type": "stream",
       "stream": "stdout",
       "text": [
        "\n",
        "P7R42708            1.8   265.665   -33.356       187      18.8*    2.31*    1219     0.40*"
       ]
      },
      {
       "output_type": "stream",
       "stream": "stdout",
       "text": [
        "\n",
        "P7R42712I           2.3   266.180   -30.720        65      23.6*    2.40!    3046     0"
       ]
      },
      {
       "output_type": "stream",
       "stream": "stdout",
       "text": [
        "\n",
        "PSR J1746-3239      2.3   266.706   -32.669       659      42.4*    1.73*    2728*    1"
       ]
      },
      {
       "output_type": "stream",
       "stream": "stdout",
       "text": [
        "\n",
        "P7R42669            2.3   262.964   -30.021       122      13.1*    1.93!    4518     0"
       ]
      },
      {
       "output_type": "stream",
       "stream": "stdout",
       "text": [
        "\n",
        "P7R42678            2.6   263.683   -29.501                15.3     2.30     1982     0\n",
        "P7R42714A           2.7   266.297   -30.199       163      53.5*    2.58!    1418     0"
       ]
      },
      {
       "output_type": "stream",
       "stream": "stdout",
       "text": [
        "\n",
        "P7R42739            2.9   267.422   -31.552                 8.7     2.48     1259     0.57 \n",
        "P7R42683G           3.1   262.400   -34.826        21      27.0*    5.00!    1998     0"
       ]
      },
      {
       "output_type": "stream",
       "stream": "stdout",
       "text": [
        "\n",
        "P7R42633H           3.1   260.403   -32.065                 6.2     2.27     1892     0\n",
        "PSR J1747-2958      3.2   266.818   -29.977               123.3     1.77     2873     1\n",
        "P7R42677            3.5   264.121   -28.627                12.9     2.40      933     1.52 \n",
        "P7R42693            3.5   265.125   -28.717                49.7     2.54     1248     0"
       ]
      },
      {
       "output_type": "stream",
       "stream": "stdout",
       "text": [
        "\n",
        "P7R42717            3.5   266.295   -29.115       249      37.6*    0.65*     885     0.93*"
       ]
      },
      {
       "output_type": "stream",
       "stream": "stdout",
       "text": [
        "\n",
        "P7R42735            3.7   266.420   -29.003               254.9     3.16    19125     0.19 \n",
        "P7R42726            3.7   266.767   -35.125                 9.9     2.39     1267     0\n",
        "P7R42737A           3.9   266.943   -29.075                44.6     2.44     1150     0"
       ]
      },
      {
       "output_type": "stream",
       "stream": "stdout",
       "text": [
        "\n",
        "P7R42747G           3.9   268.518   -33.363                 8.7     2.45     1548     0\n",
        "P7R42722            3.9   266.617   -28.851                54.3     1.87     2388     0.65 \n",
        "P7R42650            3.9   261.682   -35.513                10.4     2.59     4168     0.60 \n",
        "P7R42672Q           4.0   263.383   -28.194                 9.4     2.36     2853     0"
       ]
      },
      {
       "output_type": "stream",
       "stream": "stdout",
       "text": [
        "\n",
        "P7R42645            4.0   262.375   -28.411                 9.3     2.66     1011     0\n",
        "P7R42738G           4.0   267.284   -29.201                38.7     2.40     3138     0\n",
        "P7R42623            4.1   259.529   -30.941                 7.2     2.18     2780     0\n",
        "P7R42620            4.2   259.451   -33.700                48.4     2.61     1297     0.13 "
       ]
      },
      {
       "output_type": "stream",
       "stream": "stdout",
       "text": [
        "\n",
        "P7R42661P           4.2   262.345   -36.083                15.9     2.39     1924     0\n",
        "P7R42728            4.3   266.785   -28.513               118.4     2.65     1397     0.14 \n",
        "P7R42643HP          4.3   261.279   -28.539                 3.9     2.20     9613     0\n",
        "P7R42647P           4.4   261.429   -35.930                 9.2     2.28     4062     0"
       ]
      },
      {
       "output_type": "stream",
       "stream": "stdout",
       "text": [
        "\n",
        "P7R42635GP          4.5   260.811   -28.675                 4.6     2.52     1211     0\n",
        "P7R42746            4.6   268.500   -29.506                19.0     2.55     1160     0.69 \n",
        "P7R42756G           4.6   269.470   -31.446                 9.3     2.46     1815     0\n",
        "P7R42734            4.6   267.089   -28.262                29.3     2.60     4677     0.88 "
       ]
      },
      {
       "output_type": "stream",
       "stream": "stdout",
       "text": [
        "\n",
        "P7R42607            4.8   258.661   -33.442                 8.4     2.27     2915     0\n",
        "P7R42691            4.8   265.113   -27.437                18.7     2.85     1311     0.83 \n",
        "------------------------------------------------------------------------------------------ \n",
        "\tDiffuse sources\n",
        "------------------------------------------------------------------------------------------\n",
        "limb                        0.16       0.08 \n",
        "ring                        1.00       0.00 \n",
        "isotrop                     1.41!\n",
        "SunMoon                     1.00 \n",
        "------------------------------------------------------------------------------------------\n",
        "setting size from 3.03 to 2.0"
       ]
      },
      {
       "output_type": "stream",
       "stream": "stdout",
       "text": [
        "\n",
        "TSplot: filling 225 pixels (size=2.00, npix=15)...\n"
       ]
      },
      {
       "output_type": "stream",
       "stream": "stdout",
       "text": [
        "================================================================================\n",
        "   Processing 3FGL J1740.5-2843 , nickname P7R42693, at (265.125, -28.717)\n",
        "FT file(s) \"/afs/slac/g/glast/groups/catalog//pointlike/fermi/data/../../P7_P202/Source/*.fits\" not found: assume None to test for valid binfile\n",
        "FT file(s) \"/afs/slac/g/glast/groups/catalog//pointlike/fermi/data/../../P7_P202/ft2_4years.fits\" not found: assume None to test for valid binfile\n",
        "140 total sources: 3 extended, 4 global"
       ]
      },
      {
       "output_type": "stream",
       "stream": "stdout",
       "text": [
        "\n",
        "------------------------------------------------------------------------------------------"
       ]
      },
      {
       "output_type": "stream",
       "stream": "stdout",
       "text": [
        " \n",
        "\t Nearby sources within 5.0 degrees HP12_0792\n",
        "name               dist        ra       dec        TS eflux(eV)    index   energy   beta/b\n",
        "P7R42670            0.2   263.123   -27.150        61      11.7*    2.29!    2730     0"
       ]
      },
      {
       "output_type": "stream",
       "stream": "stdout",
       "text": [
        "\n",
        "P7R42681P           0.6   264.019   -27.020        66      13.2*    2.38!    1700     0"
       ]
      },
      {
       "output_type": "stream",
       "stream": "stdout",
       "text": [
        "\n",
        "P7R42672Q           1.0   263.383   -28.194        39       9.4*    2.36!    2853     0"
       ]
      },
      {
       "output_type": "stream",
       "stream": "stdout",
       "text": [
        "\n",
        "P7R42655            1.4   261.930   -26.594        38      11.1*    2.56!    1196     0"
       ]
      },
      {
       "output_type": "stream",
       "stream": "stdout",
       "text": [
        "\n",
        "P7R42673            1.4   263.393   -25.799        31       9.4*    2.47!    1172     0"
       ]
      },
      {
       "output_type": "stream",
       "stream": "stdout",
       "text": [
        "\n",
        "P7R42645            1.5   262.375   -28.411        25       9.3*    2.66!    1011     0"
       ]
      },
      {
       "output_type": "stream",
       "stream": "stdout",
       "text": [
        "\n",
        "P7R42677            1.5   264.121   -28.627       136      12.9*    2.40*     933     1.52*"
       ]
      },
      {
       "output_type": "stream",
       "stream": "stdout",
       "text": [
        "\n",
        "P7R42691            1.6   265.113   -27.437       206      18.7!    2.85!    1311     0.83*"
       ]
      },
      {
       "output_type": "stream",
       "stream": "stdout",
       "text": [
        "\n",
        "P7R42693G           1.7   265.137   -26.711        63      12.3*    2.30!    2043     0"
       ]
      },
      {
       "output_type": "stream",
       "stream": "stdout",
       "text": [
        "\n",
        "P7R42693            2.2   265.125   -28.717       249      49.7!    2.54!    1248     0"
       ]
      },
      {
       "output_type": "stream",
       "stream": "stdout",
       "text": [
        "\n",
        "P7R42643HP          2.2   261.279   -28.539        13       3.9*    2.20*    9613     0"
       ]
      },
      {
       "output_type": "stream",
       "stream": "stdout",
       "text": [
        "\n",
        "P7R42678            2.3   263.683   -29.501        79      15.3*    2.30!    1982     0"
       ]
      },
      {
       "output_type": "stream",
       "stream": "stdout",
       "text": [
        "\n",
        "P7R42706            2.3   264.431   -25.172       108      13.5*    2.99!    1071     0.74*"
       ]
      },
      {
       "output_type": "stream",
       "stream": "stdout",
       "text": [
        "\n",
        "P7R42696A           2.5   265.476   -25.662        62       8.5*    2.04!    3601     0"
       ]
      },
      {
       "output_type": "stream",
       "stream": "stdout",
       "text": [
        "\n",
        "P7R42712P           2.6   266.069   -26.367                 4.7     2.02     3891     0\n",
        "P7R42635GP          2.7   260.811   -28.675        12       4.6*    2.52!    1211     0"
       ]
      },
      {
       "output_type": "stream",
       "stream": "stdout",
       "text": [
        "\n",
        "P7R42669            2.8   262.964   -30.021                13.1     1.93     4518     0\n",
        "P7R42717            3.2   266.295   -29.115                37.6     0.65      885     0.93 \n",
        "P7R42664            3.2   262.435   -24.137                 9.2     2.54     1294     0\n",
        "P7R42735            3.2   266.420   -29.003               254.9     3.16    19125     0.19 "
       ]
      },
      {
       "output_type": "stream",
       "stream": "stdout",
       "text": [
        "\n",
        "P7R42728            3.3   266.785   -28.513               118.4     2.65     1397     0.14 \n",
        "P7R42712H           3.3   266.136   -25.100                23.3     2.82     1349     0\n",
        "P7R42722            3.3   266.617   -28.851                54.3     1.87     2388     0.65 \n",
        "P7R42734            3.5   267.089   -28.262                29.3     2.60     4677     0.88 "
       ]
      },
      {
       "output_type": "stream",
       "stream": "stdout",
       "text": [
        "\n",
        "P7R42737A           3.7   266.943   -29.075                44.6     2.44     1150     0\n",
        "P7R42616            3.8   259.161   -28.205                 8.4     2.49     1270     0\n",
        "P7R42714A           3.9   266.297   -30.199                53.5     2.58     1418     0\n",
        "P7R42738G           4.0   267.284   -29.201                38.7     2.40     3138     0"
       ]
      },
      {
       "output_type": "stream",
       "stream": "stdout",
       "text": [
        "\n",
        "P7R42696            4.0   265.290   -30.894                17.5     2.41     1950     0.69 \n",
        "PSR J1747-2958      4.1   266.818   -29.977               123.3     1.77     2873     1\n",
        "P7R42730            4.1   267.009   -24.784                40.4     2.05     1464     0.36 \n",
        "P7R42627G           4.2   259.819   -24.551                 4.7     2.44     1481     0"
       ]
      },
      {
       "output_type": "stream",
       "stream": "stdout",
       "text": [
        "\n",
        "P7R42712I           4.3   266.180   -30.720                23.6     2.40     3046     0\n",
        "PSR J1732-3131      4.3   263.134   -31.515                86.6     0.29     1468     1\n",
        "P7R42692G           4.4   264.998   -31.407                15.6     2.38     3143     0\n",
        "P7R42606G           4.8   258.535   -29.414                 3.1     2.16     3048     0"
       ]
      },
      {
       "output_type": "stream",
       "stream": "stdout",
       "text": [
        "\n",
        "P7R42747            4.9   268.508   -25.649                20.2     1.79     2640     0.63 \n",
        "P7R42623            5.0   259.529   -30.941                 7.2     2.18     2780     0\n",
        "------------------------------------------------------------------------------------------ \n",
        "\tDiffuse sources\n",
        "------------------------------------------------------------------------------------------\n",
        "limb                        0.07       0.00 \n",
        "ring                        1.00       0.00 \n",
        "isotrop                     1.72!\n",
        "SunMoon                     1.00 \n",
        "------------------------------------------------------------------------------------------\n",
        "TSplot: filling 225 pixels (size=0.42, npix=15)..."
       ]
      },
      {
       "output_type": "stream",
       "stream": "stdout",
       "text": [
        "\n"
       ]
      },
      {
       "output_type": "stream",
       "stream": "stdout",
       "text": [
        "================================================================================\n",
        "   Processing 3FGL J1744.5-2506 , nickname P7R42712H, at (266.136, -25.100)\n",
        "FT file(s) \"/afs/slac/g/glast/groups/catalog//pointlike/fermi/data/../../P7_P202/Source/*.fits\" not found: assume None to test for valid binfile\n",
        "FT file(s) \"/afs/slac/g/glast/groups/catalog//pointlike/fermi/data/../../P7_P202/ft2_4years.fits\" not found: assume None to test for valid binfile\n",
        "153 total sources: 4 extended, 4 global"
       ]
      },
      {
       "output_type": "stream",
       "stream": "stdout",
       "text": [
        "\n",
        "------------------------------------------------------------------------------------------"
       ]
      },
      {
       "output_type": "stream",
       "stream": "stdout",
       "text": [
        " \n",
        "\t Nearby sources within 5.0 degrees HP12_0840\n",
        "name               dist        ra       dec        TS eflux(eV)    index   energy   beta/b\n",
        "P7R42747            0.1   268.508   -25.649       249      20.2!    1.79!    2640     0.63*"
       ]
      },
      {
       "output_type": "stream",
       "stream": "stdout",
       "text": [
        "\n",
        "P7R42730            1.7   267.009   -24.784       941      40.4!    2.05!    1464     0.36*"
       ]
      },
      {
       "output_type": "stream",
       "stream": "stdout",
       "text": [
        "\n",
        "PSR J1801-2451      1.8   270.396   -24.918        25       4.8*    1.20*   15485*    1"
       ]
      },
      {
       "output_type": "stream",
       "stream": "stdout",
       "text": [
        "\n",
        "P7R42760            2.0   269.705   -24.037        53      13.8*    1.92!    6998     0"
       ]
      },
      {
       "output_type": "stream",
       "stream": "stdout",
       "text": [
        "\n",
        "P7R42758            2.2   269.707   -23.783        77      16.3*    1.92!    6400     0"
       ]
      },
      {
       "output_type": "stream",
       "stream": "stdout",
       "text": [
        "\n",
        "P7R42767            2.2   270.216   -24.034       365      31.9!    2.53!    4914     0.45*"
       ]
      },
      {
       "output_type": "stream",
       "stream": "stdout",
       "text": [
        "\n",
        "P7R42712H           2.3   266.136   -25.100        67      23.3*    2.82!    1349     0"
       ]
      },
      {
       "output_type": "stream",
       "stream": "stdout",
       "text": [
        "\n",
        "P7R42712P           2.3   266.069   -26.367        19       4.7*    2.02!    3891     0"
       ]
      },
      {
       "output_type": "stream",
       "stream": "stdout",
       "text": [
        "\n",
        "P7R42773H           2.6   270.786   -27.467        34       6.8*    2.29!    2955     0"
       ]
      },
      {
       "output_type": "stream",
       "stream": "stdout",
       "text": [
        "\n",
        "W28                 2.8   270.335   -23.441      5230     298.7!    2.28!    1370     0.08*"
       ]
      },
      {
       "output_type": "stream",
       "stream": "stdout",
       "text": [
        "\n",
        "P7R42696A           2.8   265.476   -25.662                 8.5     2.04     3601     0\n",
        "P7R42734            2.9   267.089   -28.262       311      29.3!    2.60!    4677     0.88*"
       ]
      },
      {
       "output_type": "stream",
       "stream": "stdout",
       "text": [
        "\n",
        "P7R42783G           2.9   271.681   -24.855                 7.7     2.36     2939     0\n",
        "P7R42728            3.2   266.785   -28.513       897     118.4!    2.65!    1397     0.14*"
       ]
      },
      {
       "output_type": "stream",
       "stream": "stdout",
       "text": [
        "\n",
        "P7R42693G           3.2   265.137   -26.711                12.3     2.30     2043     0\n",
        "P7R42741G           3.5   267.743   -22.345                 6.1     2.32     2841     0\n",
        "P7R42691            3.5   265.113   -27.437                18.7     2.85     1311     0.83 \n",
        "P7R42722            3.6   266.617   -28.851       566      54.3!    1.87!    2388     0.65*"
       ]
      },
      {
       "output_type": "stream",
       "stream": "stdout",
       "text": [
        "\n",
        "P7R42713            3.6   266.181   -22.870                15.6     2.78      903     0\n",
        "P7R42737A           3.7   266.943   -29.075                44.6     2.44     1150     0\n",
        "P7R42738G           3.7   267.284   -29.201                38.7     2.40     3138     0\n",
        "P7R42797P           3.8   272.315   -27.428                 4.0     2.17     2847     0"
       ]
      },
      {
       "output_type": "stream",
       "stream": "stdout",
       "text": [
        "\n",
        "P7R42706            3.8   264.431   -25.172                13.5     2.99     1071     0.74 \n",
        "P7R42746            3.8   268.500   -29.506                19.0     2.55     1160     0.69 \n",
        "P7R42735            3.8   266.420   -29.003               254.9     3.16    19125     0.19 \n",
        "P7R42768G           3.9   270.400   -22.220                10.2     1.97     8416     0"
       ]
      },
      {
       "output_type": "stream",
       "stream": "stdout",
       "text": [
        "\n",
        "P7R42717            4.0   266.295   -29.115                37.6     0.65      885     0.93 \n",
        "P7R42800G           4.0   272.715   -24.212                13.2     2.36     2552     0\n",
        "PSR J1809-2332      4.2   272.463   -23.544               287.2     1.66     3855     1"
       ]
      },
      {
       "output_type": "stream",
       "stream": "stdout",
       "text": [
        "\n",
        "P7R42761G           4.2   269.910   -21.692                12.6     2.30     3188     0\n",
        "P7R42681P           4.3   264.019   -27.020                13.2     2.38     1700     0\n",
        "P7R42693            4.3   265.125   -28.717                49.7     2.54     1248     0\n",
        "P7R42757            4.4   270.023   -29.926                 9.6     2.64     1261     0"
       ]
      },
      {
       "output_type": "stream",
       "stream": "stdout",
       "text": [
        "\n",
        "PSR J1803-2149      4.4   270.783   -21.787                37.6     0.55     2003     1\n",
        "PSR J1747-2958      4.5   266.818   -29.977               123.3     1.77     2873     1\n",
        "P7R42798P           4.5   272.396   -28.738                 1.8     1.44    20000     0"
       ]
      },
      {
       "output_type": "stream",
       "stream": "stdout",
       "text": [
        "\n",
        "P7R42813G           4.6   273.617   -25.527                 4.3     2.18     3419     0\n",
        "P7R42673            4.7   263.393   -25.799                 9.4     2.47     1172     0\n",
        "W30                 4.8   271.395   -21.632               148.0     2.13     1433     0.04 \n",
        "P7R42714A           4.9   266.297   -30.199                53.5     2.58     1418     0"
       ]
      },
      {
       "output_type": "stream",
       "stream": "stdout",
       "text": [
        "\n",
        "P7R42677            4.9   264.121   -28.627                12.9     2.40      933     1.52 \n",
        "------------------------------------------------------------------------------------------ \n",
        "\tDiffuse sources\n",
        "------------------------------------------------------------------------------------------\n",
        "limb                        0.04       0.00 \n",
        "ring                        1.00       0.00 \n",
        "isotrop                     1.57!\n",
        "SunMoon                     1.00 \n",
        "------------------------------------------------------------------------------------------\n",
        "TSplot: filling 224 pixels (size=1.02, npix=15)..."
       ]
      },
      {
       "output_type": "stream",
       "stream": "stdout",
       "text": [
        "\n"
       ]
      },
      {
       "output_type": "stream",
       "stream": "stdout",
       "text": [
        "================================================================================\n",
        "   Processing 3FGL J1745.3-2903 , nickname P7R42717, at (266.343, -29.063)\n",
        "FT file(s) \"/afs/slac/g/glast/groups/catalog//pointlike/fermi/data/../../P7_P202/Source/*.fits\" not found: assume None to test for valid binfile\n",
        "FT file(s) \"/afs/slac/g/glast/groups/catalog//pointlike/fermi/data/../../P7_P202/ft2_4years.fits\" not found: assume None to test for valid binfile\n",
        "149 total sources: 3 extended, 4 global"
       ]
      },
      {
       "output_type": "stream",
       "stream": "stdout",
       "text": [
        "\n",
        "------------------------------------------------------------------------------------------"
       ]
      },
      {
       "output_type": "stream",
       "stream": "stdout",
       "text": [
        " \n",
        "\t Nearby sources within 5.0 degrees HP12_0887\n",
        "name               dist        ra       dec        TS eflux(eV)    index   energy   beta/b\n",
        "P7R42686            0.2   264.348   -32.240        26       9.4*    2.06!    4519     0"
       ]
      },
      {
       "output_type": "stream",
       "stream": "stdout",
       "text": [
        "\n",
        "PSR J1732-3131      1.0   263.134   -31.515      3194      86.6!    0.29*    1468!    1"
       ]
      },
      {
       "output_type": "stream",
       "stream": "stdout",
       "text": [
        "\n",
        "P7R42692G           1.0   264.998   -31.407        33      15.6*    2.38!    3143     0"
       ]
      },
      {
       "output_type": "stream",
       "stream": "stdout",
       "text": [
        "\n",
        "P7R42696            1.6   265.290   -30.894       100      17.5*    2.41!    1950     0.69*"
       ]
      },
      {
       "output_type": "stream",
       "stream": "stdout",
       "text": [
        "\n",
        "P7R42708            1.8   265.665   -33.356       187      18.8*    2.31*    1219     0.40*"
       ]
      },
      {
       "output_type": "stream",
       "stream": "stdout",
       "text": [
        "\n",
        "P7R42712I           2.3   266.180   -30.720        65      23.6*    2.40!    3046     0"
       ]
      },
      {
       "output_type": "stream",
       "stream": "stdout",
       "text": [
        "\n",
        "PSR J1746-3239      2.3   266.706   -32.669       659      42.4*    1.73*    2728*    1"
       ]
      },
      {
       "output_type": "stream",
       "stream": "stdout",
       "text": [
        "\n",
        "P7R42669            2.3   262.964   -30.021       122      13.1*    1.93!    4518     0"
       ]
      },
      {
       "output_type": "stream",
       "stream": "stdout",
       "text": [
        "\n",
        "P7R42678            2.6   263.683   -29.501                15.3     2.30     1982     0\n",
        "P7R42714A           2.7   266.297   -30.199       163      53.5*    2.58!    1418     0"
       ]
      },
      {
       "output_type": "stream",
       "stream": "stdout",
       "text": [
        "\n",
        "P7R42739            2.9   267.422   -31.552                 8.7     2.48     1259     0.57 \n",
        "P7R42683G           3.1   262.400   -34.826        21      27.0*    5.00!    1998     0"
       ]
      },
      {
       "output_type": "stream",
       "stream": "stdout",
       "text": [
        "\n",
        "P7R42633H           3.1   260.403   -32.065                 6.2     2.27     1892     0\n",
        "PSR J1747-2958      3.2   266.818   -29.977               123.3     1.77     2873     1\n",
        "P7R42677            3.5   264.121   -28.627                12.9     2.40      933     1.52 "
       ]
      },
      {
       "output_type": "stream",
       "stream": "stdout",
       "text": [
        "\n",
        "P7R42693            3.5   265.125   -28.717                49.7     2.54     1248     0\n",
        "P7R42717            3.5   266.295   -29.115       249      37.6*    0.65*     885     0.93*"
       ]
      },
      {
       "output_type": "stream",
       "stream": "stdout",
       "text": [
        "\n",
        "P7R42735            3.7   266.420   -29.003               254.9     3.16    19125     0.19 \n",
        "P7R42726            3.7   266.767   -35.125                 9.9     2.39     1267     0\n",
        "P7R42737A           3.9   266.943   -29.075                44.6     2.44     1150     0\n",
        "P7R42747G           3.9   268.518   -33.363                 8.7     2.45     1548     0"
       ]
      },
      {
       "output_type": "stream",
       "stream": "stdout",
       "text": [
        "\n",
        "P7R42722            3.9   266.617   -28.851                54.3     1.87     2388     0.65 \n",
        "P7R42650            3.9   261.682   -35.513                10.4     2.59     4168     0.60 \n",
        "P7R42672Q           4.0   263.383   -28.194                 9.4     2.36     2853     0\n",
        "P7R42645            4.0   262.375   -28.411                 9.3     2.66     1011     0"
       ]
      },
      {
       "output_type": "stream",
       "stream": "stdout",
       "text": [
        "\n",
        "P7R42738G           4.0   267.284   -29.201                38.7     2.40     3138     0\n",
        "P7R42623            4.1   259.529   -30.941                 7.2     2.18     2780     0\n",
        "P7R42620            4.2   259.451   -33.700                48.4     2.61     1297     0.13 \n",
        "P7R42661P           4.2   262.345   -36.083                15.9     2.39     1924     0"
       ]
      },
      {
       "output_type": "stream",
       "stream": "stdout",
       "text": [
        "\n",
        "P7R42728            4.3   266.785   -28.513               118.4     2.65     1397     0.14 \n",
        "P7R42643HP          4.3   261.279   -28.539                 3.9     2.20     9613     0\n",
        "P7R42647P           4.4   261.429   -35.930                 9.2     2.28     4062     0\n",
        "P7R42635GP          4.5   260.811   -28.675                 4.6     2.52     1211     0"
       ]
      },
      {
       "output_type": "stream",
       "stream": "stdout",
       "text": [
        "\n",
        "P7R42746            4.6   268.500   -29.506                19.0     2.55     1160     0.69 \n",
        "P7R42756G           4.6   269.470   -31.446                 9.3     2.46     1815     0\n",
        "P7R42734            4.6   267.089   -28.262                29.3     2.60     4677     0.88 \n",
        "P7R42607            4.8   258.661   -33.442                 8.4     2.27     2915     0"
       ]
      },
      {
       "output_type": "stream",
       "stream": "stdout",
       "text": [
        "\n",
        "P7R42691            4.8   265.113   -27.437                18.7     2.85     1311     0.83 \n",
        "------------------------------------------------------------------------------------------ \n",
        "\tDiffuse sources\n",
        "------------------------------------------------------------------------------------------\n",
        "limb                        0.16       0.08 \n",
        "ring                        1.00       0.00 \n",
        "isotrop                     1.41!\n",
        "SunMoon                     1.00 \n",
        "------------------------------------------------------------------------------------------\n",
        "TSplot: filling 225 pixels (size=0.58, npix=15)..."
       ]
      },
      {
       "output_type": "stream",
       "stream": "stdout",
       "text": [
        "\n"
       ]
      },
      {
       "output_type": "stream",
       "stream": "stdout",
       "text": [
        "================================================================================\n",
        "   Processing 3FGL J1747.7-2904 , nickname P7R42737A, at (266.943, -29.075)\n",
        "FT file(s) \"/afs/slac/g/glast/groups/catalog//pointlike/fermi/data/../../P7_P202/Source/*.fits\" not found: assume None to test for valid binfile\n",
        "FT file(s) \"/afs/slac/g/glast/groups/catalog//pointlike/fermi/data/../../P7_P202/ft2_4years.fits\" not found: assume None to test for valid binfile\n",
        "142 total sources: 3 extended, 4 global"
       ]
      },
      {
       "output_type": "stream",
       "stream": "stdout",
       "text": [
        "\n",
        "------------------------------------------------------------------------------------------"
       ]
      },
      {
       "output_type": "stream",
       "stream": "stdout",
       "text": [
        " \n",
        "\t Nearby sources within 5.0 degrees HP12_0888\n",
        "name               dist        ra       dec        TS eflux(eV)    index   energy   beta/b\n",
        "P7R42757            0.7   270.023   -29.926        31       9.6*    2.64!    1261     0"
       ]
      },
      {
       "output_type": "stream",
       "stream": "stdout",
       "text": [
        "\n",
        "P7R42756G           0.9   269.470   -31.446        35       9.3*    2.46!    1815     0"
       ]
      },
      {
       "output_type": "stream",
       "stream": "stdout",
       "text": [
        "\n",
        "P7R42771            0.9   270.614   -30.724        39       6.0*    2.10!    3934     0"
       ]
      },
      {
       "output_type": "stream",
       "stream": "stdout",
       "text": [
        "\n",
        "P7R42746            1.4   268.500   -29.506       223      19.0!    2.55!    1160     0.69*"
       ]
      },
      {
       "output_type": "stream",
       "stream": "stdout",
       "text": [
        "\n",
        "P7R42739            2.1   267.422   -31.552        50       8.7*    2.48*    1259     0.57*"
       ]
      },
      {
       "output_type": "stream",
       "stream": "stdout",
       "text": [
        "\n",
        "P7R42738G           2.4   267.284   -29.201       174      38.7*    2.40!    3138     0"
       ]
      },
      {
       "output_type": "stream",
       "stream": "stdout",
       "text": [
        "\n",
        "PSR J1747-2958      2.4   266.818   -29.977      1956     123.3!    1.77!    2873*    1"
       ]
      },
      {
       "output_type": "stream",
       "stream": "stdout",
       "text": [
        "\n",
        "P7R42737A           2.7   266.943   -29.075       160      44.6*    2.44!    1150     0"
       ]
      },
      {
       "output_type": "stream",
       "stream": "stdout",
       "text": [
        "\n",
        "P7R42714A           2.8   266.297   -30.199                53.5     2.58     1418     0\n",
        "P7R42712I           2.9   266.180   -30.720                23.6     2.40     3046     0\n",
        "P7R42747G           2.9   268.518   -33.363        47       8.7*    2.45!    1548     0"
       ]
      },
      {
       "output_type": "stream",
       "stream": "stdout",
       "text": [
        "\n",
        "P7R42798P           3.1   272.396   -28.738                 1.8     1.44    20000     0\n",
        "P7R42722            3.1   266.617   -28.851                54.3     1.87     2388     0.65 \n",
        "P7R42735            3.1   266.420   -29.003      4829     254.9!    3.16!   19125     0.19!"
       ]
      },
      {
       "output_type": "stream",
       "stream": "stdout",
       "text": [
        "\n",
        "P7R42734            3.1   267.089   -28.262                29.3     2.60     4677     0.88 \n",
        "P7R42728            3.2   266.785   -28.513               118.4     2.65     1397     0.14 \n",
        "P7R42717            3.2   266.295   -29.115                37.6     0.65      885     0.93 \n",
        "PSR J1746-3239      3.2   266.706   -32.669                42.4     1.73     2728     1"
       ]
      },
      {
       "output_type": "stream",
       "stream": "stdout",
       "text": [
        "\n",
        "P7R42773H           3.3   270.786   -27.467                 6.8     2.29     2955     0\n",
        "P7R42696            3.7   265.290   -30.894                17.5     2.41     1950     0.69 \n",
        "P7R42797P           3.9   272.315   -27.428                 4.0     2.17     2847     0\n",
        "P7R42692G           4.0   264.998   -31.407                15.6     2.38     3143     0"
       ]
      },
      {
       "output_type": "stream",
       "stream": "stdout",
       "text": [
        "\n",
        "P7R42794            4.0   272.097   -33.963                 3.5     1.67     1601     1.00 \n",
        "P7R42820            4.1   274.342   -30.552                 3.2     2.09     3572     0\n",
        "P7R42693            4.3   265.125   -28.717                49.7     2.54     1248     0\n",
        "P7R42708            4.3   265.665   -33.356                18.8     2.31     1219     0.40 "
       ]
      },
      {
       "output_type": "stream",
       "stream": "stdout",
       "text": [
        "\n",
        "P7R42686            4.8   264.348   -32.240                 9.4     2.06     4519     0\n",
        "P7R42691            5.0   265.113   -27.437                18.7     2.85     1311     0.83 \n",
        "P7R42747            5.0   268.508   -25.649                20.2     1.79     2640     0.63 \n",
        "------------------------------------------------------------------------------------------ \n",
        "\tDiffuse sources\n",
        "------------------------------------------------------------------------------------------\n",
        "limb                        0.14       0.02 \n",
        "ring                        1.00       0.00 \n",
        "isotrop                     1.26!\n",
        "SunMoon                     1.00 \n",
        "------------------------------------------------------------------------------------------\n",
        "TSplot: filling 225 pixels (size=0.39, npix=15)..."
       ]
      },
      {
       "output_type": "stream",
       "stream": "stdout",
       "text": [
        "\n"
       ]
      },
      {
       "output_type": "stream",
       "stream": "stdout",
       "text": [
        "================================================================================\n",
        "   Processing 3FGL J1800.7-0523 , nickname P7R42766, at (270.177, -5.388)\n",
        "FT file(s) \"/afs/slac/g/glast/groups/catalog//pointlike/fermi/data/../../P7_P202/Source/*.fits\" not found: assume None to test for valid binfile\n",
        "FT file(s) \"/afs/slac/g/glast/groups/catalog//pointlike/fermi/data/../../P7_P202/ft2_4years.fits\" not found: assume None to test for valid binfile\n",
        "91 total sources: 3 extended, 3 global"
       ]
      },
      {
       "output_type": "stream",
       "stream": "stdout",
       "text": [
        "\n",
        "------------------------------------------------------------------------------------------"
       ]
      },
      {
       "output_type": "stream",
       "stream": "stdout",
       "text": [
        " \n",
        "\t Nearby sources within 5.0 degrees HP12_0699\n",
        "name               dist        ra       dec        TS eflux(eV)    index   energy   beta/b\n",
        "P7R42766            0.9   270.177    -5.388        17       5.9*    2.58!     987     0\n",
        "P7R42740            2.7   267.448    -3.087        72       3.7*    2.65*    2500     0.75*"
       ]
      },
      {
       "output_type": "stream",
       "stream": "stdout",
       "text": [
        "\n",
        "P7R42727A           3.0   266.923    -3.239        17       2.0*    1.74*    8793     0\n",
        "P7R42712G           3.5   266.076    -3.898                 5.0     2.38     1748     0"
       ]
      },
      {
       "output_type": "stream",
       "stream": "stdout",
       "text": [
        "\n",
        "P7R42777A           4.4   271.130    -8.842                 7.3     2.33     2065     0\n",
        "P7R42715            4.5   266.352    -7.900                 8.4     2.03     3537     0\n",
        "------------------------------------------------------------------------------------------ \n",
        "\tDiffuse sources\n",
        "------------------------------------------------------------------------------------------\n",
        "ring                        1.00       0.00 \n",
        "isotrop                     1.41!\n",
        "SunMoon                     1.00 \n",
        "------------------------------------------------------------------------------------------\n",
        "setting size from 7.97 to 2.0"
       ]
      },
      {
       "output_type": "stream",
       "stream": "stdout",
       "text": [
        "\n",
        "TSplot: filling 225 pixels (size=2.00, npix=15)...\n"
       ]
      },
      {
       "output_type": "stream",
       "stream": "stdout",
       "text": [
        "bad fit sigma 0.361091, >1 or qual 70.8 >50\n",
        "================================================================================"
       ]
      },
      {
       "output_type": "stream",
       "stream": "stdout",
       "text": [
        "\n",
        "   Processing 3FGL J1811.3-1927 , nickname P7R42804G, at (272.827, -19.457)\n",
        "FT file(s) \"/afs/slac/g/glast/groups/catalog//pointlike/fermi/data/../../P7_P202/Source/*.fits\" not found: assume None to test for valid binfile\n",
        "FT file(s) \"/afs/slac/g/glast/groups/catalog//pointlike/fermi/data/../../P7_P202/ft2_4years.fits\" not found: assume None to test for valid binfile\n",
        "147 total sources: 5 extended, 3 global"
       ]
      },
      {
       "output_type": "stream",
       "stream": "stdout",
       "text": [
        "\n",
        "------------------------------------------------------------------------------------------"
       ]
      },
      {
       "output_type": "stream",
       "stream": "stdout",
       "text": [
        " \n",
        "\t Nearby sources within 5.0 degrees HP12_0841\n",
        "name               dist        ra       dec        TS eflux(eV)    index   energy   beta/b\n",
        "P7R42801A           0.0   272.545   -19.168        30      12.3*    2.06!    7966     0"
       ]
      },
      {
       "output_type": "stream",
       "stream": "stdout",
       "text": [
        "\n",
        "P7R42804G           0.3   272.827   -19.457        26      14.7*    2.31!    4153     0"
       ]
      },
      {
       "output_type": "stream",
       "stream": "stdout",
       "text": [
        "\n",
        "P7R42803            0.8   272.141   -19.872        79      34.4*    2.50!    2332     0"
       ]
      },
      {
       "output_type": "stream",
       "stream": "stdout",
       "text": [
        "\n",
        "P7R42797G           1.1   272.324   -20.282        34      15.9*    2.29!    4921     0"
       ]
      },
      {
       "output_type": "stream",
       "stream": "stdout",
       "text": [
        "\n",
        "P7R42810AG          1.5   273.514   -17.961        41      20.1*    2.28!    4889     0"
       ]
      },
      {
       "output_type": "stream",
       "stream": "stdout",
       "text": [
        "\n",
        "P7R42813            1.9   273.545   -17.582       142      57.3*    2.70!    1412     0"
       ]
      },
      {
       "output_type": "stream",
       "stream": "stdout",
       "text": [
        "\n",
        "P7R42819G           2.2   274.304   -17.651        45      14.5*    2.21!    4021     0"
       ]
      },
      {
       "output_type": "stream",
       "stream": "stdout",
       "text": [
        "\n",
        "P7R42828G           2.7   274.876   -20.754        16       4.1*    2.12*    3891     0"
       ]
      },
      {
       "output_type": "stream",
       "stream": "stdout",
       "text": [
        "\n",
        "W30                 2.7   271.395   -21.632      1189     148.0!    2.13!    1433     0.04*"
       ]
      },
      {
       "output_type": "stream",
       "stream": "stdout",
       "text": [
        "\n",
        "PSR J1803-2149      3.1   270.783   -21.787       634      37.6*    0.55*    2003*    1"
       ]
      },
      {
       "output_type": "stream",
       "stream": "stdout",
       "text": [
        "\n",
        "P7R42761G           3.5   269.910   -21.692                12.6     2.30     3188     0\n",
        "P7R42768G           3.6   270.400   -22.220                10.2     1.97     8416     0\n",
        "P7R42830BP          3.9   275.092   -16.153                34.1     2.92      349     0\n",
        "P7R42829            4.2   274.696   -15.470                17.5     2.72     2151     0.73 "
       ]
      },
      {
       "output_type": "stream",
       "stream": "stdout",
       "text": [
        "\n",
        "PSR J1809-2332      4.3   272.463   -23.544               287.2     1.66     3855     1\n",
        "P7R42804H           4.4   272.838   -14.837                 6.1     2.31     2991     0\n",
        "P7R42830BG          4.4   275.100   -15.489                 7.9     2.04    10289     0"
       ]
      },
      {
       "output_type": "stream",
       "stream": "stdout",
       "text": [
        "\n",
        "W28                 4.7   270.335   -23.441               298.7     2.28     1370     0.08 \n",
        "------------------------------------------------------------------------------------------ \n",
        "\tDiffuse sources\n",
        "------------------------------------------------------------------------------------------\n",
        "ring                        1.00       0.00 \n",
        "isotrop                     1.30!\n",
        "SunMoon                     1.00 \n",
        "------------------------------------------------------------------------------------------\n",
        "setting size from 2.36 to 2.0"
       ]
      },
      {
       "output_type": "stream",
       "stream": "stdout",
       "text": [
        "\n",
        "TSplot: filling 225 pixels (size=2.00, npix=15)...\n"
       ]
      },
      {
       "output_type": "stream",
       "stream": "stdout",
       "text": [
        "bad fit sigma 0.141615, >1 or qual 50.1 >50\n",
        "================================================================================"
       ]
      },
      {
       "output_type": "stream",
       "stream": "stdout",
       "text": [
        "\n",
        "   Processing 3FGL J1828.4-1121 , nickname P7R42855A, at (277.109, -11.363)\n",
        "FT file(s) \"/afs/slac/g/glast/groups/catalog//pointlike/fermi/data/../../P7_P202/Source/*.fits\" not found: assume None to test for valid binfile\n",
        "FT file(s) \"/afs/slac/g/glast/groups/catalog//pointlike/fermi/data/../../P7_P202/ft2_4years.fits\" not found: assume None to test for valid binfile\n",
        "128 total sources: 6 extended, 3 global"
       ]
      },
      {
       "output_type": "stream",
       "stream": "stdout",
       "text": [
        "\n",
        "------------------------------------------------------------------------------------------"
       ]
      },
      {
       "output_type": "stream",
       "stream": "stdout",
       "text": [
        " \n",
        "\t Nearby sources within 5.0 degrees HP12_0842\n",
        "name               dist        ra       dec        TS eflux(eV)    index   energy   beta/b\n",
        "PSR J1826-1256      0.4   276.537   -12.943      6339     253.3!    1.73!    3188!    1"
       ]
      },
      {
       "output_type": "stream",
       "stream": "stdout",
       "text": [
        "\n",
        "P7R42837            1.1   275.820   -13.651       397      46.8!    2.15!    2034     0.18*"
       ]
      },
      {
       "output_type": "stream",
       "stream": "stdout",
       "text": [
        "\n",
        "P7R42865G           1.2   277.441   -13.071        49      15.2*    2.30!    3517     0"
       ]
      },
      {
       "output_type": "stream",
       "stream": "stdout",
       "text": [
        "\n",
        "HESS J1825-137      1.3   276.130   -13.852       190      85.0!    1.54!   20000     0"
       ]
      },
      {
       "output_type": "stream",
       "stream": "stdout",
       "text": [
        "\n",
        "P7R42855A           1.5   277.109   -11.363        27      18.6*    2.53!    3433     0"
       ]
      },
      {
       "output_type": "stream",
       "stream": "stdout",
       "text": [
        "\n",
        "P7R42828GP          1.8   274.896   -13.754        31      13.8*    2.37!    4945     0"
       ]
      },
      {
       "output_type": "stream",
       "stream": "stdout",
       "text": [
        "\n",
        "P7R42830AH          2.2   275.417   -14.612        62      22.2*    2.26!    3795     0"
       ]
      },
      {
       "output_type": "stream",
       "stream": "stdout",
       "text": [
        "\n",
        "P7R42854            2.2   276.834   -14.767       153      13.1*    2.08*    2408     1.62*"
       ]
      },
      {
       "output_type": "stream",
       "stream": "stdout",
       "text": [
        "\n",
        "P7R42821G           2.3   274.126   -11.765        23       6.9*    2.27!    4956     0"
       ]
      },
      {
       "output_type": "stream",
       "stream": "stdout",
       "text": [
        "\n",
        "P7R42851            2.3   276.568   -14.847      2227     173.2!    2.51!     513     0.07*"
       ]
      },
      {
       "output_type": "stream",
       "stream": "stdout",
       "text": [
        "\n",
        "P7R42821            2.6   274.090   -11.054        30      19.9*    3.21!     512     0"
       ]
      },
      {
       "output_type": "stream",
       "stream": "stdout",
       "text": [
        "\n",
        "P7R42858G           2.7   277.321   -15.083                 5.3     1.67    15695     0\n",
        "P7R42816G           2.8   274.025   -14.250                15.8     2.73      694     0\n",
        "PSR J1813-1246      2.9   273.349   -12.769               174.2     1.85     1508     0.68 "
       ]
      },
      {
       "output_type": "stream",
       "stream": "stdout",
       "text": [
        "\n",
        "PSR J1835-1106      2.9   278.826   -11.104                 1.9    -0.50     1178     1\n",
        "PSR J1833-1034      2.9   278.397   -10.562                61.2     2.47    29668     1\n",
        "P7R42810A           2.9   273.423   -11.808                24.1     2.73     1111     0"
       ]
      },
      {
       "output_type": "stream",
       "stream": "stdout",
       "text": [
        "\n",
        "P7R42830BG          3.1   275.100   -15.489        22       7.9*    2.04*   10289     0"
       ]
      },
      {
       "output_type": "stream",
       "stream": "stdout",
       "text": [
        "\n",
        "P7R42829            3.3   274.696   -15.470       147      17.5*    2.72!    2151     0.73*"
       ]
      },
      {
       "output_type": "stream",
       "stream": "stdout",
       "text": [
        "\n",
        "P7R42830BP          3.7   275.092   -16.153                34.1     2.92      349     0\n",
        "P7R42855            3.9   276.908    -8.771                27.0     2.55     1457     0\n",
        "P7R42804H           4.0   272.838   -14.837                 6.1     2.31     2991     0\n",
        "P7R42870            4.2   277.698   -16.514                19.6     2.46     1549     0"
       ]
      },
      {
       "output_type": "stream",
       "stream": "stdout",
       "text": [
        "\n",
        "P7R42883            4.5   278.629    -8.684                21.6     1.85     9229     0\n",
        "P7R42907P           4.6   280.661   -14.440                 9.4     3.22      378     0\n",
        "PSR J1843-1113      4.7   280.915   -11.238                14.3     1.90      896     1"
       ]
      },
      {
       "output_type": "stream",
       "stream": "stdout",
       "text": [
        "\n",
        "P7R42918H           4.8   281.182   -12.413                 3.9     2.02     5110     0\n",
        "------------------------------------------------------------------------------------------ \n",
        "\tDiffuse sources\n",
        "------------------------------------------------------------------------------------------\n",
        "ring                        1.00       0.00 \n",
        "isotrop                     0.50 \n",
        "SunMoon                     1.00 \n",
        "------------------------------------------------------------------------------------------\n",
        "setting size from 2.91 to 2.0"
       ]
      },
      {
       "output_type": "stream",
       "stream": "stdout",
       "text": [
        "\n",
        "TSplot: filling 225 pixels (size=2.00, npix=15)...\n"
       ]
      },
      {
       "output_type": "stream",
       "stream": "stdout",
       "text": [
        "================================================================================\n",
        "   Processing 3FGL J1829.2+2731 , nickname P7R42858, at (277.313, 27.525)\n",
        "FT file(s) \"/afs/slac/g/glast/groups/catalog//pointlike/fermi/data/../../P7_P202/Source/*.fits\" not found: assume None to test for valid binfile\n",
        "FT file(s) \"/afs/slac/g/glast/groups/catalog//pointlike/fermi/data/../../P7_P202/ft2_4years.fits\" not found: assume None to test for valid binfile\n",
        "51 total sources: 0 extended, 4 global"
       ]
      },
      {
       "output_type": "stream",
       "stream": "stdout",
       "text": [
        "\n",
        "------------------------------------------------------------------------------------------"
       ]
      },
      {
       "output_type": "stream",
       "stream": "stdout",
       "text": [
        " \n",
        "\t Nearby sources within 5.0 degrees HP12_0559\n",
        "name               dist        ra       dec        TS eflux(eV)    index   energy   beta/b\n",
        "P7R42809            1.2   273.421    28.336        28       2.2*    2.13!    2357     0\n",
        "P7R42799            1.9   272.432    29.158       248       7.7*    1.85!    3135     0"
       ]
      },
      {
       "output_type": "stream",
       "stream": "stdout",
       "text": [
        "\n",
        "P7R42858            2.8   277.313    27.525        64       4.7*    2.65!     544     0\n",
        "P7R42783            2.9   271.555    27.749                 2.4     2.58      890     0"
       ]
      },
      {
       "output_type": "stream",
       "stream": "stdout",
       "text": [
        "\n",
        "P7R42811            2.9   273.413    31.732                 6.7     1.89     1022     0.21 \n",
        "P7R42820G           3.5   274.434    25.505                 2.5     2.56      854     0\n",
        "P7R42757G           4.0   270.034    28.216                 1.3     1.95     4774     0\n",
        "P7R42860            4.3   277.306    32.498                 2.6     2.21     1484     0"
       ]
      },
      {
       "output_type": "stream",
       "stream": "stdout",
       "text": [
        "\n",
        "P7R42892            4.3   279.129    30.694                 2.1     2.45     1365     0\n",
        "P7R42777            4.6   271.039    25.543                 3.5     2.83      444     0\n",
        "P7R42891            4.7   279.098    31.622                 4.8     2.26     1799     0\n",
        "------------------------------------------------------------------------------------------ \n",
        "\tDiffuse sources\n",
        "------------------------------------------------------------------------------------------\n",
        "limb                        0.11       0.00 \n",
        "ring                        1.00       0.00 \n",
        "isotrop                     1.02!\n",
        "SunMoon                     1.00 \n",
        "------------------------------------------------------------------------------------------\n",
        "setting size from 2.25 to 2.0"
       ]
      },
      {
       "output_type": "stream",
       "stream": "stdout",
       "text": [
        "\n",
        "TSplot: filling 225 pixels (size=2.00, npix=15)...\n"
       ]
      },
      {
       "output_type": "stream",
       "stream": "stdout",
       "text": [
        "================================================================================\n",
        "   Processing 3FGL J1829.9-0203 , nickname P7R42866A, at (277.488, -2.054)\n",
        "FT file(s) \"/afs/slac/g/glast/groups/catalog//pointlike/fermi/data/../../P7_P202/Source/*.fits\" not found: assume None to test for valid binfile\n",
        "FT file(s) \"/afs/slac/g/glast/groups/catalog//pointlike/fermi/data/../../P7_P202/ft2_4years.fits\" not found: assume None to test for valid binfile\n",
        "102 total sources: 4 extended, 3 global"
       ]
      },
      {
       "output_type": "stream",
       "stream": "stdout",
       "text": [
        "\n",
        "------------------------------------------------------------------------------------------"
       ]
      },
      {
       "output_type": "stream",
       "stream": "stdout",
       "text": [
        " \n",
        "\t Nearby sources within 5.0 degrees HP12_0796\n",
        "name               dist        ra       dec        TS eflux(eV)    index   energy   beta/b\n",
        "P7R42876G           1.1   277.948    -1.961        41      15.9*    2.58!    2374     0"
       ]
      },
      {
       "output_type": "stream",
       "stream": "stdout",
       "text": [
        "\n",
        "P7R42861G           1.4   277.333    -1.590        26       7.9*    2.31!    3430     0"
       ]
      },
      {
       "output_type": "stream",
       "stream": "stdout",
       "text": [
        "\n",
        "P7R42866A           1.5   277.488    -2.054        55      16.6*    2.51!    2454     0"
       ]
      },
      {
       "output_type": "stream",
       "stream": "stdout",
       "text": [
        "\n",
        "P7R42876            1.5   277.946    -2.493        41      25.0*    2.75!    1419     0"
       ]
      },
      {
       "output_type": "stream",
       "stream": "stdout",
       "text": [
        "\n",
        "P7R42913            3.2   280.931    -3.392                33.0     2.31      969     0.35 \n",
        "P7R42904            3.3   280.039    -4.214                37.0     2.58     1802     0\n",
        "P7R42931            3.5   282.118    -1.693                24.2     2.02     1798     0.68 \n",
        "P7R42912            3.5   280.762    -3.989                33.0     2.52     2189     0"
       ]
      },
      {
       "output_type": "stream",
       "stream": "stdout",
       "text": [
        "\n",
        "P7R42918            3.5   281.100    -3.747                16.4     2.65     3449     1.02 \n",
        "P7R42934            3.7   282.355    -0.952                20.6     2.20     3495     0.30 \n",
        "P7R42927            3.7   282.397    -1.413                49.4     2.70     1268     0\n",
        "P7R42938            4.0   282.632    -0.405                31.3     2.51     2199     0"
       ]
      },
      {
       "output_type": "stream",
       "stream": "stdout",
       "text": [
        "\n",
        "P7R42906P           4.0   280.279    -4.867                16.7     2.30     4273     0\n",
        "HESS J1841-055      4.5   280.285    -5.337                75.1     1.77    12794     0\n",
        "PSR J1838-0537      4.6   279.732    -5.626                93.4     1.85     6060     1"
       ]
      },
      {
       "output_type": "stream",
       "stream": "stdout",
       "text": [
        "\n",
        "P7R42943            4.8   283.301     0.109                24.7     2.53     1888     0\n",
        "P7R42896            4.9   279.848    -5.882                62.1     2.45     2672     0.33 \n",
        "------------------------------------------------------------------------------------------ \n",
        "\tDiffuse sources\n",
        "------------------------------------------------------------------------------------------\n",
        "ring                        1.00       0.00 \n",
        "isotrop                     0.10 \n",
        "SunMoon                     1.00 \n",
        "------------------------------------------------------------------------------------------\n",
        "TSplot: filling 224 pixels (size=1.53, npix=15)..."
       ]
      },
      {
       "output_type": "stream",
       "stream": "stdout",
       "text": [
        "\n"
       ]
      },
      {
       "output_type": "stream",
       "stream": "stdout",
       "text": [
        "================================================================================\n",
        "   Processing 3FGL J1833.9-0711 , nickname P7R42881G, at (278.480, -7.193)\n",
        "FT file(s) \"/afs/slac/g/glast/groups/catalog//pointlike/fermi/data/../../P7_P202/Source/*.fits\" not found: assume None to test for valid binfile\n",
        "FT file(s) \"/afs/slac/g/glast/groups/catalog//pointlike/fermi/data/../../P7_P202/ft2_4years.fits\" not found: assume None to test for valid binfile\n",
        "109 total sources: 5 extended, 3 global"
       ]
      },
      {
       "output_type": "stream",
       "stream": "stdout",
       "text": [
        "\n",
        "------------------------------------------------------------------------------------------"
       ]
      },
      {
       "output_type": "stream",
       "stream": "stdout",
       "text": [
        " \n",
        "\t Nearby sources within 5.0 degrees HP12_0843\n",
        "name               dist        ra       dec        TS eflux(eV)    index   energy   beta/b\n",
        "P7R42896            0.1   279.848    -5.882       574      62.1!    2.45!    2672     0.33*"
       ]
      },
      {
       "output_type": "stream",
       "stream": "stdout",
       "text": [
        "\n",
        "PSR J1838-0537      0.3   279.732    -5.626       891      93.4*    1.85!    6060*    1"
       ]
      },
      {
       "output_type": "stream",
       "stream": "stdout",
       "text": [
        "\n",
        "P7R42894G           0.4   279.488    -6.126        79      35.4*    2.42!    3312     0"
       ]
      },
      {
       "output_type": "stream",
       "stream": "stdout",
       "text": [
        "\n",
        "HESS J1841-055      0.8   280.285    -5.337       210      75.1!    1.77!   12794     0"
       ]
      },
      {
       "output_type": "stream",
       "stream": "stdout",
       "text": [
        "\n",
        "P7R42901            0.8   279.728    -6.776        55      16.7*    1.88!    9293     0"
       ]
      },
      {
       "output_type": "stream",
       "stream": "stdout",
       "text": [
        "\n",
        "HESS J1837-069      1.2   279.145    -6.924       242      65.7!    1.99!    7592     0"
       ]
      },
      {
       "output_type": "stream",
       "stream": "stdout",
       "text": [
        "\n",
        "P7R42906P           1.2   280.279    -4.867        28      16.7*    2.30!    4273     0"
       ]
      },
      {
       "output_type": "stream",
       "stream": "stdout",
       "text": [
        "\n",
        "P7R42886            1.2   278.713    -6.511        24       9.2*    2.08!    7753     0"
       ]
      },
      {
       "output_type": "stream",
       "stream": "stdout",
       "text": [
        "\n",
        "P7R42894P           1.4   279.402    -7.297        23       9.1*    1.86*   15256     0"
       ]
      },
      {
       "output_type": "stream",
       "stream": "stdout",
       "text": [
        "\n",
        "P7R42885            1.5   278.665    -6.990       138      31.7*    2.08!    6600     0"
       ]
      },
      {
       "output_type": "stream",
       "stream": "stdout",
       "text": [
        "\n",
        "P7R42904            1.7   280.039    -4.214       100      37.0*    2.58!    1802     0"
       ]
      },
      {
       "output_type": "stream",
       "stream": "stdout",
       "text": [
        "\n",
        "P7R42881G           1.8   278.480    -7.193        64      18.5*    1.94!    9372     0"
       ]
      },
      {
       "output_type": "stream",
       "stream": "stdout",
       "text": [
        "\n",
        "P7R42912            2.2   280.762    -3.989        71      33.0*    2.52!    2189     0"
       ]
      },
      {
       "output_type": "stream",
       "stream": "stdout",
       "text": [
        "\n",
        "P7R42918            2.6   281.100    -3.747       134      16.4*    2.65!    3449     1.02*"
       ]
      },
      {
       "output_type": "stream",
       "stream": "stdout",
       "text": [
        "\n",
        "P7R42913            2.8   280.931    -3.392       176      33.0*    2.31!     969     0.35*"
       ]
      },
      {
       "output_type": "stream",
       "stream": "stdout",
       "text": [
        "\n",
        "P7R42883            3.0   278.629    -8.684        98      21.6*    1.85!    9229     0"
       ]
      },
      {
       "output_type": "stream",
       "stream": "stdout",
       "text": [
        "\n",
        "P7R42921G           3.1   281.489    -8.495                 9.0     2.50     1615     0\n",
        "P7R42846            3.7   276.099    -6.340                 5.3     1.52     3382     1.05 \n",
        "P7R42876            3.9   277.946    -2.493                25.0     2.75     1419     0\n",
        "P7R42855            4.0   276.908    -8.771                27.0     2.55     1457     0"
       ]
      },
      {
       "output_type": "stream",
       "stream": "stdout",
       "text": [
        "\n",
        "P7R42876G           4.4   277.948    -1.961                15.9     2.58     2374     0\n",
        "P7R42866A           4.5   277.488    -2.054                16.6     2.51     2454     0\n",
        "PSR J1833-1034      4.8   278.397   -10.562                61.2     2.47    29668     1"
       ]
      },
      {
       "output_type": "stream",
       "stream": "stdout",
       "text": [
        "\n",
        "P7R42931            4.8   282.118    -1.693                24.2     2.02     1798     0.68 \n",
        "------------------------------------------------------------------------------------------ \n",
        "\tDiffuse sources\n",
        "------------------------------------------------------------------------------------------\n",
        "ring                        1.00       0.00 \n",
        "isotrop                     1.00 \n",
        "SunMoon                     1.00 \n",
        "------------------------------------------------------------------------------------------\n",
        "TSplot: filling 225 pixels (size=0.73, npix=15)..."
       ]
      },
      {
       "output_type": "stream",
       "stream": "stdout",
       "text": [
        "\n"
       ]
      },
      {
       "output_type": "stream",
       "stream": "stdout",
       "text": [
        "================================================================================\n",
        "   Processing 3FGL J1849.5-0124 , nickname P7R42927, at (282.397, -1.413)\n",
        "FT file(s) \"/afs/slac/g/glast/groups/catalog//pointlike/fermi/data/../../P7_P202/Source/*.fits\" not found: assume None to test for valid binfile\n",
        "FT file(s) \"/afs/slac/g/glast/groups/catalog//pointlike/fermi/data/../../P7_P202/ft2_4years.fits\" not found: assume None to test for valid binfile\n",
        "102 total sources: 5 extended, 3 global"
       ]
      },
      {
       "output_type": "stream",
       "stream": "stdout",
       "text": [
        "\n",
        "------------------------------------------------------------------------------------------"
       ]
      },
      {
       "output_type": "stream",
       "stream": "stdout",
       "text": [
        " \n",
        "\t Nearby sources within 5.0 degrees HP12_0844\n",
        "name               dist        ra       dec        TS eflux(eV)    index   energy   beta/b\n",
        "P7R42943            0.6   283.301     0.109        56      24.7*    2.53!    1888     0"
       ]
      },
      {
       "output_type": "stream",
       "stream": "stdout",
       "text": [
        "\n",
        "W44                 1.0   283.990     1.355      8272     322.7!    2.41!    1819     0.24!"
       ]
      },
      {
       "output_type": "stream",
       "stream": "stdout",
       "text": [
        "\n",
        "P7R42955            1.1   284.310     0.986        35      25.5*    2.19!    3103     0.42*"
       ]
      },
      {
       "output_type": "stream",
       "stream": "stdout",
       "text": [
        "\n",
        "P7R42942            1.2   283.209     1.972        82      28.5*    2.42!    2189     0"
       ]
      },
      {
       "output_type": "stream",
       "stream": "stdout",
       "text": [
        "\n",
        "P7R42938            1.3   282.632    -0.405        82      31.3*    2.51!    2199     0"
       ]
      },
      {
       "output_type": "stream",
       "stream": "stdout",
       "text": [
        "\n",
        "P7R42955G           1.5   284.471     1.498        35      29.5*    2.53!    3327     0"
       ]
      },
      {
       "output_type": "stream",
       "stream": "stdout",
       "text": [
        "\n",
        "P7R42958A           1.7   284.915     1.035        55      30.0*    2.78     2933     0"
       ]
      },
      {
       "output_type": "stream",
       "stream": "stdout",
       "text": [
        "\n",
        "P7R42934            1.9   282.355    -0.952       155      20.6*    2.20!    3495     0.30*"
       ]
      },
      {
       "output_type": "stream",
       "stream": "stdout",
       "text": [
        "\n",
        "P7R42958            1.9   284.490     2.170        55      20.9*    2.57!    2442     0.52*"
       ]
      },
      {
       "output_type": "stream",
       "stream": "stdout",
       "text": [
        "\n",
        "P7R42927            2.3   282.397    -1.413       125      49.4*    2.70!    1268     0"
       ]
      },
      {
       "output_type": "stream",
       "stream": "stdout",
       "text": [
        "\n",
        "P7R42931            2.7   282.118    -1.693       186      24.2*    2.02!    1798     0.68*"
       ]
      },
      {
       "output_type": "stream",
       "stream": "stdout",
       "text": [
        "\n",
        "P7R42956            2.7   284.474     3.133        16       8.5*    2.24!    3637     0"
       ]
      },
      {
       "output_type": "stream",
       "stream": "stdout",
       "text": [
        "\n",
        "P7R42978H           2.8   285.998     0.870                 6.4     2.13     4762     0\n",
        "P7R42972            3.1   285.399    -1.448                22.3     2.64     1024     0\n",
        "P7R42966G           3.4   284.489     3.928                21.3     2.45      200     0\n",
        "P7R42969            3.5   285.200     3.627                34.2     2.64     1111     0"
       ]
      },
      {
       "output_type": "stream",
       "stream": "stdout",
       "text": [
        "\n",
        "P7R42952            3.7   282.805     4.391                25.8     2.90      200     0\n",
        "P7R42958AH          3.9   285.084     4.192                 8.4     2.02     3359     0\n",
        "P7R42948H           4.2   283.856     4.912                25.3     2.55      630     0\n",
        "P7R42990            4.6   287.202    -1.517                 4.7     1.46     1542     1.30 "
       ]
      },
      {
       "output_type": "stream",
       "stream": "stdout",
       "text": [
        "\n",
        "P7R42913            4.7   280.931    -3.392                33.0     2.31      969     0.35 \n",
        "P7R42918            5.0   281.100    -3.747                16.4     2.65     3449     1.02 \n",
        "------------------------------------------------------------------------------------------ \n",
        "\tDiffuse sources\n",
        "------------------------------------------------------------------------------------------\n",
        "ring                        1.00       0.00 \n",
        "isotrop                     0.10 \n",
        "SunMoon                     1.00 \n",
        "------------------------------------------------------------------------------------------\n",
        "TSplot: filling 225 pixels (size=0.91, npix=15)..."
       ]
      },
      {
       "output_type": "stream",
       "stream": "stdout",
       "text": [
        "\n"
       ]
      },
      {
       "output_type": "stream",
       "stream": "stdout",
       "text": [
        "================================================================================\n",
        "   Processing 3FGL J1857.8+0307 , nickname P7R42956, at (284.474, 3.133)\n",
        "FT file(s) \"/afs/slac/g/glast/groups/catalog//pointlike/fermi/data/../../P7_P202/Source/*.fits\" not found: assume None to test for valid binfile\n",
        "FT file(s) \"/afs/slac/g/glast/groups/catalog//pointlike/fermi/data/../../P7_P202/ft2_4years.fits\" not found: assume None to test for valid binfile\n",
        "102 total sources: 5 extended, 3 global"
       ]
      },
      {
       "output_type": "stream",
       "stream": "stdout",
       "text": [
        "\n",
        "------------------------------------------------------------------------------------------"
       ]
      },
      {
       "output_type": "stream",
       "stream": "stdout",
       "text": [
        " \n",
        "\t Nearby sources within 5.0 degrees HP12_0844\n",
        "name               dist        ra       dec        TS eflux(eV)    index   energy   beta/b\n",
        "P7R42943            0.6   283.301     0.109        56      24.7*    2.53!    1888     0"
       ]
      },
      {
       "output_type": "stream",
       "stream": "stdout",
       "text": [
        "\n",
        "W44                 1.0   283.990     1.355      8272     322.7!    2.41!    1819     0.24!"
       ]
      },
      {
       "output_type": "stream",
       "stream": "stdout",
       "text": [
        "\n",
        "P7R42955            1.1   284.310     0.986        35      25.5*    2.19!    3103     0.42*"
       ]
      },
      {
       "output_type": "stream",
       "stream": "stdout",
       "text": [
        "\n",
        "P7R42942            1.2   283.209     1.972        82      28.5*    2.42!    2189     0"
       ]
      },
      {
       "output_type": "stream",
       "stream": "stdout",
       "text": [
        "\n",
        "P7R42938            1.3   282.632    -0.405        82      31.3*    2.51!    2199     0"
       ]
      },
      {
       "output_type": "stream",
       "stream": "stdout",
       "text": [
        "\n",
        "P7R42955G           1.5   284.471     1.498        35      29.5*    2.53!    3327     0"
       ]
      },
      {
       "output_type": "stream",
       "stream": "stdout",
       "text": [
        "\n",
        "P7R42958A           1.7   284.915     1.035        55      30.0*    2.78     2933     0"
       ]
      },
      {
       "output_type": "stream",
       "stream": "stdout",
       "text": [
        "\n",
        "P7R42934            1.9   282.355    -0.952       155      20.6*    2.20!    3495     0.30*"
       ]
      },
      {
       "output_type": "stream",
       "stream": "stdout",
       "text": [
        "\n",
        "P7R42958            1.9   284.490     2.170        55      20.9*    2.57!    2442     0.52*"
       ]
      },
      {
       "output_type": "stream",
       "stream": "stdout",
       "text": [
        "\n",
        "P7R42927            2.3   282.397    -1.413       125      49.4*    2.70!    1268     0"
       ]
      },
      {
       "output_type": "stream",
       "stream": "stdout",
       "text": [
        "\n",
        "P7R42931            2.7   282.118    -1.693       186      24.2*    2.02!    1798     0.68*"
       ]
      },
      {
       "output_type": "stream",
       "stream": "stdout",
       "text": [
        "\n",
        "P7R42956            2.7   284.474     3.133        16       8.5*    2.24!    3637     0"
       ]
      },
      {
       "output_type": "stream",
       "stream": "stdout",
       "text": [
        "\n",
        "P7R42978H           2.8   285.998     0.870                 6.4     2.13     4762     0\n",
        "P7R42972            3.1   285.399    -1.448                22.3     2.64     1024     0\n",
        "P7R42966G           3.4   284.489     3.928                21.3     2.45      200     0\n",
        "P7R42969            3.5   285.200     3.627                34.2     2.64     1111     0"
       ]
      },
      {
       "output_type": "stream",
       "stream": "stdout",
       "text": [
        "\n",
        "P7R42952            3.7   282.805     4.391                25.8     2.90      200     0\n",
        "P7R42958AH          3.9   285.084     4.192                 8.4     2.02     3359     0\n",
        "P7R42948H           4.2   283.856     4.912                25.3     2.55      630     0\n",
        "P7R42990            4.6   287.202    -1.517                 4.7     1.46     1542     1.30 "
       ]
      },
      {
       "output_type": "stream",
       "stream": "stdout",
       "text": [
        "\n",
        "P7R42913            4.7   280.931    -3.392                33.0     2.31      969     0.35 \n",
        "P7R42918            5.0   281.100    -3.747                16.4     2.65     3449     1.02 \n",
        "------------------------------------------------------------------------------------------ \n",
        "\tDiffuse sources\n",
        "------------------------------------------------------------------------------------------\n",
        "ring                        1.00       0.00 \n",
        "isotrop                     0.10 \n",
        "SunMoon                     1.00 \n",
        "------------------------------------------------------------------------------------------\n",
        "setting size from 59.21 to 2.0"
       ]
      },
      {
       "output_type": "stream",
       "stream": "stdout",
       "text": [
        "\n",
        "TSplot: filling 225 pixels (size=2.00, npix=15)...\n"
       ]
      },
      {
       "output_type": "stream",
       "stream": "stdout",
       "text": [
        "bad fit sigma 1.21541, >1 or qual 21.4 >50\n",
        "================================================================================"
       ]
      },
      {
       "output_type": "stream",
       "stream": "stdout",
       "text": [
        "\n",
        "   Processing 3FGL J1915.2+0954 , nickname P7R43011G, at (288.802, 9.908)\n",
        "FT file(s) \"/afs/slac/g/glast/groups/catalog//pointlike/fermi/data/../../P7_P202/Source/*.fits\" not found: assume None to test for valid binfile\n",
        "FT file(s) \"/afs/slac/g/glast/groups/catalog//pointlike/fermi/data/../../P7_P202/ft2_4years.fits\" not found: assume None to test for valid binfile\n",
        "78 total sources: 2 extended, 3 global"
       ]
      },
      {
       "output_type": "stream",
       "stream": "stdout",
       "text": [
        "\n",
        "------------------------------------------------------------------------------------------"
       ]
      },
      {
       "output_type": "stream",
       "stream": "stdout",
       "text": [
        " \n",
        "\t Nearby sources within 5.0 degrees HP12_0894\n",
        "name               dist        ra       dec        TS eflux(eV)    index   energy   beta/b\n",
        "P7R43044            1.5   292.783     9.630       658      23.4!    1.87!    3776     0"
       ]
      },
      {
       "output_type": "stream",
       "stream": "stdout",
       "text": [
        "\n",
        "P7R43011G           2.5   288.802     9.908        71      19.6*    2.54!    1768     0\n",
        "P7R43048            2.7   293.351     7.464        45       3.8*    1.69!    7618     0"
       ]
      },
      {
       "output_type": "stream",
       "stream": "stdout",
       "text": [
        "\n",
        "PSR J1913+0904      3.0   288.261     9.182                14.3     0.62     1239     1\n",
        "P7R43011C           3.0   288.996    11.203                28.0     2.66      683     0\n",
        "P7R43022            3.1   290.007     6.420        44      12.3*    3.04!     785     0"
       ]
      },
      {
       "output_type": "stream",
       "stream": "stdout",
       "text": [
        "\n",
        "P7R43038P           3.2   291.428    12.467                11.2     2.66     1301     0\n",
        "P7R42995            3.5   287.744     9.101               129.8     2.26     2236     0\n",
        "P7R43057G           4.2   295.146     7.596                 1.9     1.91     6528     0\n",
        "P7R42990G           4.2   287.228    10.375                13.1     2.56     1415     0"
       ]
      },
      {
       "output_type": "stream",
       "stream": "stdout",
       "text": [
        "\n",
        "P7R43065            4.5   295.693    10.550                16.3     1.76     2196     0.09 \n",
        "P7R43019H           4.6   289.761     4.874                 3.7     2.25     1601     0\n",
        "W51C                4.9   290.840    14.115               224.5     2.15     1295     0.07 \n",
        "P7R42984            4.9   286.671     7.334                54.2     2.14     1351     0.19 "
       ]
      },
      {
       "output_type": "stream",
       "stream": "stdout",
       "text": [
        "\n",
        "------------------------------------------------------------------------------------------ \n",
        "\tDiffuse sources\n",
        "------------------------------------------------------------------------------------------\n",
        "ring                        1.00       0.00 \n",
        "isotrop                     0.80 \n",
        "SunMoon                     1.00 \n",
        "------------------------------------------------------------------------------------------\n",
        "TSplot: filling 225 pixels (size=0.72, npix=15)..."
       ]
      },
      {
       "output_type": "stream",
       "stream": "stdout",
       "text": [
        "\n"
       ]
      },
      {
       "output_type": "stream",
       "stream": "stdout",
       "text": [
        "================================================================================\n",
        "   Processing 3FGL J1941.5+5134 , nickname P7R43059G, at (295.380, 51.573)\n",
        "FT file(s) \"/afs/slac/g/glast/groups/catalog//pointlike/fermi/data/../../P7_P202/Source/*.fits\" not found: assume None to test for valid binfile\n",
        "FT file(s) \"/afs/slac/g/glast/groups/catalog//pointlike/fermi/data/../../P7_P202/ft2_4years.fits\" not found: assume None to test for valid binfile\n",
        "69 total sources: 1 extended, 4 global"
       ]
      },
      {
       "output_type": "stream",
       "stream": "stdout",
       "text": [
        "\n",
        "------------------------------------------------------------------------------------------"
       ]
      },
      {
       "output_type": "stream",
       "stream": "stdout",
       "text": [
        " \n",
        "\t Nearby sources within 5.0 degrees HP12_0659\n",
        "name               dist        ra       dec        TS eflux(eV)    index   energy   beta/b\n",
        "P7R43059G           2.1   295.380    51.573        14       1.8*    2.55*     845     0"
       ]
      },
      {
       "output_type": "stream",
       "stream": "stdout",
       "text": [
        "\n",
        "PSR J1957+5033      2.4   299.434    50.570                19.2     1.53     1227     1\n",
        "P7R43165G           3.3   303.649    52.769                 2.3     2.20     4504     0"
       ]
      },
      {
       "output_type": "stream",
       "stream": "stdout",
       "text": [
        "\n",
        "P7R43038G           4.2   291.493    51.892                 1.4     2.28     1000     0\n",
        "------------------------------------------------------------------------------------------ \n",
        "\tDiffuse sources\n",
        "------------------------------------------------------------------------------------------\n",
        "limb                        0.50       0.95 \n",
        "ring                        1.00       0.00 \n",
        "isotrop                     0.92!\n",
        "SunMoon                     1.00 \n",
        "------------------------------------------------------------------------------------------\n",
        "setting size from 8.14 to 2.0"
       ]
      },
      {
       "output_type": "stream",
       "stream": "stdout",
       "text": [
        "\n",
        "TSplot: filling 225 pixels (size=2.00, npix=15)...\n"
       ]
      },
      {
       "output_type": "stream",
       "stream": "stdout",
       "text": [
        "================================================================================\n",
        "   Processing 3FGL J1957.9-0712 , nickname P7R43115, at (299.484, -7.211)\n",
        "FT file(s) \"/afs/slac/g/glast/groups/catalog//pointlike/fermi/data/../../P7_P202/Source/*.fits\" not found: assume None to test for valid binfile\n",
        "FT file(s) \"/afs/slac/g/glast/groups/catalog//pointlike/fermi/data/../../P7_P202/ft2_4years.fits\" not found: assume None to test for valid binfile"
       ]
      },
      {
       "output_type": "stream",
       "stream": "stdout",
       "text": [
        "\n",
        "62 total sources: 0 extended, 3 global"
       ]
      },
      {
       "output_type": "stream",
       "stream": "stdout",
       "text": [
        "\n",
        "------------------------------------------------------------------------------------------"
       ]
      },
      {
       "output_type": "stream",
       "stream": "stdout",
       "text": [
        " \n",
        "\t Nearby sources within 5.0 degrees HP12_1132\n",
        "name               dist        ra       dec        TS eflux(eV)    index   energy   beta/b\n",
        "P7R43115            1.4   299.484    -7.211        39       4.2*    2.67!     663     0\n",
        "P7R43141P           1.9   301.628    -9.666        17       2.2*    2.40!    1222     0"
       ]
      },
      {
       "output_type": "stream",
       "stream": "stdout",
       "text": [
        "\n",
        "P7R43120A           3.0   299.732   -10.924        30       3.3*    2.72!     588     0\n",
        "P7R43094AG          3.2   298.234    -5.983                 1.9     2.27     2353     0"
       ]
      },
      {
       "output_type": "stream",
       "stream": "stdout",
       "text": [
        "\n",
        "P7R43172            3.6   304.102    -9.084                10.0     1.96     2227     0\n",
        "P7R43080            3.7   296.979    -7.720                 3.0     2.30     1484     0\n",
        "P7R43104            3.8   298.702   -11.377                 6.9     2.30     2488     0.40 \n",
        "P7R43093            4.0   297.969   -11.034                 2.2     2.01     3491     0"
       ]
      },
      {
       "output_type": "stream",
       "stream": "stdout",
       "text": [
        "\n",
        "P7R43109G           4.3   299.183   -12.060                 1.3     1.76    10157     0\n",
        "P7R43118G           4.3   299.663   -12.284                 1.0     1.79     9393     0\n",
        "P7R43133            4.6   300.583    -3.406                 2.4     2.30     1684     0\n",
        "P7R43092G           4.7   297.964   -11.964                 4.7     2.75      492     0"
       ]
      },
      {
       "output_type": "stream",
       "stream": "stdout",
       "text": [
        "\n",
        "P7R43155            4.8   303.074    -3.921                 3.2     2.44     1094     0\n",
        "------------------------------------------------------------------------------------------ \n",
        "\tDiffuse sources\n",
        "------------------------------------------------------------------------------------------\n",
        "ring                        1.00       0.00 \n",
        "isotrop                     1.00!\n",
        "SunMoon                     1.00 \n",
        "------------------------------------------------------------------------------------------\n",
        "setting size from 2.86 to 2.0"
       ]
      },
      {
       "output_type": "stream",
       "stream": "stdout",
       "text": [
        "\n",
        "TSplot: filling 225 pixels (size=2.00, npix=15)...\n"
       ]
      },
      {
       "output_type": "stream",
       "stream": "stdout",
       "text": [
        "================================================================================\n",
        "   Processing 3FGL J2009.2-1458 , nickname P7R43149P, at (302.304, -14.978)\n",
        "FT file(s) \"/afs/slac/g/glast/groups/catalog//pointlike/fermi/data/../../P7_P202/Source/*.fits\" not found: assume None to test for valid binfile\n",
        "FT file(s) \"/afs/slac/g/glast/groups/catalog//pointlike/fermi/data/../../P7_P202/ft2_4years.fits\" not found: assume None to test for valid binfile\n",
        "62 total sources: 0 extended, 3 global"
       ]
      },
      {
       "output_type": "stream",
       "stream": "stdout",
       "text": [
        "\n",
        "------------------------------------------------------------------------------------------"
       ]
      },
      {
       "output_type": "stream",
       "stream": "stdout",
       "text": [
        " \n",
        "\t Nearby sources within 5.0 degrees HP12_1180\n",
        "name               dist        ra       dec        TS eflux(eV)    index   energy   beta/b\n",
        "P7R43135G           1.8   301.095   -13.997        17       2.5*    2.46*    1065     0\n",
        "P7R43149P           2.3   302.304   -14.978        35       3.8*    2.70!     672     0"
       ]
      },
      {
       "output_type": "stream",
       "stream": "stdout",
       "text": [
        "\n",
        "P7R43168A           2.4   303.850   -14.532        26       1.7*    1.69*    7177     0\n",
        "P7R43118G           2.6   299.663   -12.284        10       1.0*    1.79*    9393     0"
       ]
      },
      {
       "output_type": "stream",
       "stream": "stdout",
       "text": [
        "\n",
        "P7R43120A           3.1   299.732   -10.924                 3.3     2.72      588     0\n",
        "P7R43141P           3.1   301.628    -9.666                 2.2     2.40     1222     0\n",
        "P7R43117            3.1   299.568   -14.222                 2.3     2.39     1357     0\n",
        "P7R43109G           3.1   299.183   -12.060                 1.3     1.76    10157     0"
       ]
      },
      {
       "output_type": "stream",
       "stream": "stdout",
       "text": [
        "\n",
        "P7R43186            3.7   305.911   -11.652                 7.6     1.99     1998     0\n",
        "P7R43104            3.7   298.702   -11.377                 6.9     2.30     2488     0.40 \n",
        "P7R43172            4.0   304.102    -9.084                10.0     1.96     2227     0\n",
        "P7R43157            4.1   303.026   -16.733                 4.6     2.32      366     0.64 "
       ]
      },
      {
       "output_type": "stream",
       "stream": "stdout",
       "text": [
        "\n",
        "P7R43174            4.2   304.425   -16.269                 4.5     1.92     1645     0.23 \n",
        "P7R43092G           4.3   297.964   -11.964                 4.7     2.75      492     0\n",
        "P7R43093            4.5   297.969   -11.034                 2.2     2.01     3491     0\n",
        "P7R43106            4.8   298.751   -16.091                 4.3     1.87     4588     0"
       ]
      },
      {
       "output_type": "stream",
       "stream": "stdout",
       "text": [
        "\n",
        "------------------------------------------------------------------------------------------ \n",
        "\tDiffuse sources\n",
        "------------------------------------------------------------------------------------------\n",
        "ring                        1.00       0.00 \n",
        "isotrop                     0.97!\n",
        "SunMoon                     1.00 \n",
        "------------------------------------------------------------------------------------------\n",
        "setting size from 3.32 to 2.0"
       ]
      },
      {
       "output_type": "stream",
       "stream": "stdout",
       "text": [
        "\n",
        "TSplot: filling 225 pixels (size=2.00, npix=15)...\n"
       ]
      },
      {
       "output_type": "stream",
       "stream": "stdout",
       "text": [
        "================================================================================\n",
        "   Processing 3FGL J2013.4-3710 , nickname P7R43155G, at (303.351, -37.179)\n",
        "FT file(s) \"/afs/slac/g/glast/groups/catalog//pointlike/fermi/data/../../P7_P202/Source/*.fits\" not found: assume None to test for valid binfile\n",
        "FT file(s) \"/afs/slac/g/glast/groups/catalog//pointlike/fermi/data/../../P7_P202/ft2_4years.fits\" not found: assume None to test for valid binfile\n",
        "51 total sources: 0 extended, 4 global"
       ]
      },
      {
       "output_type": "stream",
       "stream": "stdout",
       "text": [
        "\n",
        "------------------------------------------------------------------------------------------"
       ]
      },
      {
       "output_type": "stream",
       "stream": "stdout",
       "text": [
        " \n",
        "\t Nearby sources within 5.0 degrees HP12_1320\n",
        "name               dist        ra       dec        TS eflux(eV)    index   energy   beta/b\n",
        "P7R43155G           2.2   303.351   -37.179        15       2.1*    2.44!     942     0\n",
        "P7R43228            3.4   309.706   -36.218                 3.2     2.28     1135     0"
       ]
      },
      {
       "output_type": "stream",
       "stream": "stdout",
       "text": [
        "\n",
        "P7R43172G           3.5   304.405   -41.170                 1.6     1.88     5413     0\n",
        "P7R43237G           3.6   310.447   -37.546                 2.6     1.63     8689     0\n",
        "P7R43215            4.6   308.674   -42.040                 3.0     1.95     2935     0\n",
        "P7R43157P           4.7   303.029   -33.829                 1.7     1.99     3368     0"
       ]
      },
      {
       "output_type": "stream",
       "stream": "stdout",
       "text": [
        "\n",
        "P7R43201            4.8   307.389   -42.537                 3.2     2.46      754     0\n",
        "P7R43188            5.0   306.108   -32.905                 5.0     2.63      530     0\n",
        "------------------------------------------------------------------------------------------ \n",
        "\tDiffuse sources\n",
        "------------------------------------------------------------------------------------------\n",
        "limb                        0.27       0.29 \n",
        "ring                        1.00       0.00 \n",
        "isotrop                     1.06!\n",
        "SunMoon                     1.00 \n",
        "------------------------------------------------------------------------------------------\n",
        "setting size from 5.08 to 2.0"
       ]
      },
      {
       "output_type": "stream",
       "stream": "stdout",
       "text": [
        "\n",
        "TSplot: filling 225 pixels (size=2.00, npix=15)...\n"
       ]
      },
      {
       "output_type": "stream",
       "stream": "stdout",
       "text": [
        "================================================================================\n",
        "   Processing 3FGL J2039.4+4111 , nickname P7R43227, at (309.854, 41.198)\n",
        "FT file(s) \"/afs/slac/g/glast/groups/catalog//pointlike/fermi/data/../../P7_P202/Source/*.fits\" not found: assume None to test for valid binfile\n",
        "FT file(s) \"/afs/slac/g/glast/groups/catalog//pointlike/fermi/data/../../P7_P202/ft2_4years.fits\" not found: assume None to test for valid binfile\n",
        "106 total sources: 4 extended, 4 global"
       ]
      },
      {
       "output_type": "stream",
       "stream": "stdout",
       "text": [
        "\n",
        "------------------------------------------------------------------------------------------"
       ]
      },
      {
       "output_type": "stream",
       "stream": "stdout",
       "text": [
        " \n",
        "\t Nearby sources within 5.0 degrees HP12_0850\n",
        "name               dist        ra       dec        TS eflux(eV)    index   energy   beta/b\n",
        "P7R43210A           0.3   308.139    39.359        79      14.4*    2.31!    1698     0"
       ]
      },
      {
       "output_type": "stream",
       "stream": "stdout",
       "text": [
        "\n",
        "P7R43210            0.9   308.125    40.535        79      22.5!    3.06!     943     1.11*"
       ]
      },
      {
       "output_type": "stream",
       "stream": "stdout",
       "text": [
        "\n",
        "P7R43195G           1.1   306.716    40.053        30       6.5*    2.13!    3631     0"
       ]
      },
      {
       "output_type": "stream",
       "stream": "stdout",
       "text": [
        "\n",
        "P7R43214P           1.2   308.621    38.564        38       6.4*    2.08!    4200     0"
       ]
      },
      {
       "output_type": "stream",
       "stream": "stdout",
       "text": [
        "\n",
        "P7R43197G           1.2   307.135    40.677        30       6.3*    2.16!    2898     0"
       ]
      },
      {
       "output_type": "stream",
       "stream": "stdout",
       "text": [
        "\n",
        "P7R43181            1.3   306.463    39.068        78      10.3*    3.15*     834     1.73*"
       ]
      },
      {
       "output_type": "stream",
       "stream": "stdout",
       "text": [
        "\n",
        "Cygnus Cocoon       1.6   307.165    41.171      2619     545.5!    2.37!    1560     0"
       ]
      },
      {
       "output_type": "stream",
       "stream": "stdout",
       "text": [
        "\n",
        "PSR J2032+4127      1.8   308.060    41.447      3991      89.6!    1.27!    3700!    1"
       ]
      },
      {
       "output_type": "stream",
       "stream": "stdout",
       "text": [
        "\n",
        "P7R43227            2.1   309.854    41.198        57       9.9*    2.23!    1972     0"
       ]
      },
      {
       "output_type": "stream",
       "stream": "stdout",
       "text": [
        "\n",
        "P7R43179G           2.1   305.563    38.678        45      11.0*    2.45!    1433     0"
       ]
      },
      {
       "output_type": "stream",
       "stream": "stdout",
       "text": [
        "\n",
        "P7R43224G           2.1   309.354    41.534        70      11.2*    2.20!    3932     0"
       ]
      },
      {
       "output_type": "stream",
       "stream": "stdout",
       "text": [
        "\n",
        "PSR J2021+4026      2.1   305.386    40.448     44936     493.9!    1.49!    2041!    1"
       ]
      },
      {
       "output_type": "stream",
       "stream": "stdout",
       "text": [
        "\n",
        "gamma Cygni         2.3   305.265    40.521       554     100.8!    2.02!   11559     0"
       ]
      },
      {
       "output_type": "stream",
       "stream": "stdout",
       "text": [
        "\n",
        "P7R43186F           2.3   306.172    37.797        37      11.9*    2.45!    1638     0"
       ]
      },
      {
       "output_type": "stream",
       "stream": "stdout",
       "text": [
        "\n",
        "P7R43184P           2.4   305.876    41.434        24       3.7*    1.86*    5122     0"
       ]
      },
      {
       "output_type": "stream",
       "stream": "stdout",
       "text": [
        "\n",
        "P7R43176            2.7   304.632    38.860                 8.2     2.27     3426     0.27 \n",
        "P7R43236            2.7   310.094    41.891        82      13.2*    2.29!    3094     0"
       ]
      },
      {
       "output_type": "stream",
       "stream": "stdout",
       "text": [
        "\n",
        "P7R43222G           2.8   309.015    42.380                 4.5     2.03     2913     0\n",
        "P7R43226            2.8   309.625    42.208       177      24.1*    2.40!    2614     0"
       ]
      },
      {
       "output_type": "stream",
       "stream": "stdout",
       "text": [
        "\n",
        "PSR J2030+3641      3.0   307.501    36.703                27.4     0.82     1669     1\n",
        "P7R43223P           3.1   309.222    42.568                 7.3     2.09     2759     0\n",
        "P7R43217            3.1   308.758    36.581                 7.3     1.88     2573     0.81 \n",
        "P7R43245G           3.2   310.614    42.153        50       8.4*    2.19!    3233     0"
       ]
      },
      {
       "output_type": "stream",
       "stream": "stdout",
       "text": [
        "\n",
        "P7R43239            3.4   308.670    43.039                 7.8     2.11     2177     0\n",
        "PSR J2021+3651      3.5   305.278    36.861     24615     304.8!    1.65!    3338!    1"
       ]
      },
      {
       "output_type": "stream",
       "stream": "stdout",
       "text": [
        "\n",
        "P7R43177P           3.6   304.675    42.230                 4.2     1.75     4620     0\n",
        "P7R43169            4.1   303.908    37.161                66.8     2.46     1092     0.09 \n",
        "P7R43210AG          4.2   308.338    43.812                 5.3     2.02     4363     0\n",
        "P7R43175            4.2   304.485    36.459                35.6     1.97     1075     0.58 "
       ]
      },
      {
       "output_type": "stream",
       "stream": "stdout",
       "text": [
        "\n",
        "P7R43156P           4.6   302.799    42.056                 2.9     2.04     2620     0\n",
        "PSR J2030+4415      4.6   307.716    44.270                24.2     0.82     1254     1\n",
        "P7R43245AP          4.7   310.777    43.835                 5.1     2.12     2583     0"
       ]
      },
      {
       "output_type": "stream",
       "stream": "stdout",
       "text": [
        "\n",
        "P7R43164G           5.0   303.615    36.109                 8.3     2.31     1701     0\n",
        "------------------------------------------------------------------------------------------ \n",
        "\tDiffuse sources\n",
        "------------------------------------------------------------------------------------------\n",
        "limb                        0.30       0.35 \n",
        "ring                        1.00       0.00 \n",
        "isotrop                     0.50 \n",
        "SunMoon                     1.00 \n",
        "------------------------------------------------------------------------------------------\n",
        "TSplot: filling 225 pixels (size=1.29, npix=15)..."
       ]
      },
      {
       "output_type": "stream",
       "stream": "stdout",
       "text": [
        "\n"
       ]
      },
      {
       "output_type": "stream",
       "stream": "stdout",
       "text": [
        "================================================================================\n",
        "   Processing 3FGL J2042.4+4209 , nickname P7R43245G, at (310.614, 42.153)\n",
        "FT file(s) \"/afs/slac/g/glast/groups/catalog//pointlike/fermi/data/../../P7_P202/Source/*.fits\" not found: assume None to test for valid binfile\n",
        "FT file(s) \"/afs/slac/g/glast/groups/catalog//pointlike/fermi/data/../../P7_P202/ft2_4years.fits\" not found: assume None to test for valid binfile\n",
        "106 total sources: 4 extended, 4 global"
       ]
      },
      {
       "output_type": "stream",
       "stream": "stdout",
       "text": [
        "\n",
        "------------------------------------------------------------------------------------------"
       ]
      },
      {
       "output_type": "stream",
       "stream": "stdout",
       "text": [
        " \n",
        "\t Nearby sources within 5.0 degrees HP12_0850\n",
        "name               dist        ra       dec        TS eflux(eV)    index   energy   beta/b\n",
        "P7R43210A           0.3   308.139    39.359        79      14.4*    2.31!    1698     0"
       ]
      },
      {
       "output_type": "stream",
       "stream": "stdout",
       "text": [
        "\n",
        "P7R43210            0.9   308.125    40.535        79      22.5!    3.06!     943     1.11*"
       ]
      },
      {
       "output_type": "stream",
       "stream": "stdout",
       "text": [
        "\n",
        "P7R43195G           1.1   306.716    40.053        30       6.5*    2.13!    3631     0"
       ]
      },
      {
       "output_type": "stream",
       "stream": "stdout",
       "text": [
        "\n",
        "P7R43214P           1.2   308.621    38.564        38       6.4*    2.08!    4200     0"
       ]
      },
      {
       "output_type": "stream",
       "stream": "stdout",
       "text": [
        "\n",
        "P7R43197G           1.2   307.135    40.677        30       6.3*    2.16!    2898     0"
       ]
      },
      {
       "output_type": "stream",
       "stream": "stdout",
       "text": [
        "\n",
        "P7R43181            1.3   306.463    39.068        78      10.3*    3.15*     834     1.73*"
       ]
      },
      {
       "output_type": "stream",
       "stream": "stdout",
       "text": [
        "\n",
        "Cygnus Cocoon       1.6   307.165    41.171      2619     545.5!    2.37!    1560     0"
       ]
      },
      {
       "output_type": "stream",
       "stream": "stdout",
       "text": [
        "\n",
        "PSR J2032+4127      1.8   308.060    41.447      3991      89.6!    1.27!    3700!    1"
       ]
      },
      {
       "output_type": "stream",
       "stream": "stdout",
       "text": [
        "\n",
        "P7R43227            2.1   309.854    41.198        57       9.9*    2.23!    1972     0"
       ]
      },
      {
       "output_type": "stream",
       "stream": "stdout",
       "text": [
        "\n",
        "P7R43179G           2.1   305.563    38.678        45      11.0*    2.45!    1433     0"
       ]
      },
      {
       "output_type": "stream",
       "stream": "stdout",
       "text": [
        "\n",
        "P7R43224G           2.1   309.354    41.534        70      11.2*    2.20!    3932     0"
       ]
      },
      {
       "output_type": "stream",
       "stream": "stdout",
       "text": [
        "\n",
        "PSR J2021+4026      2.1   305.386    40.448     44936     493.9!    1.49!    2041!    1"
       ]
      },
      {
       "output_type": "stream",
       "stream": "stdout",
       "text": [
        "\n",
        "gamma Cygni         2.3   305.265    40.521       554     100.8!    2.02!   11559     0"
       ]
      },
      {
       "output_type": "stream",
       "stream": "stdout",
       "text": [
        "\n",
        "P7R43186F           2.3   306.172    37.797        37      11.9*    2.45!    1638     0"
       ]
      },
      {
       "output_type": "stream",
       "stream": "stdout",
       "text": [
        "\n",
        "P7R43184P           2.4   305.876    41.434        24       3.7*    1.86*    5122     0"
       ]
      },
      {
       "output_type": "stream",
       "stream": "stdout",
       "text": [
        "\n",
        "P7R43176            2.7   304.632    38.860                 8.2     2.27     3426     0.27 \n",
        "P7R43236            2.7   310.094    41.891        82      13.2*    2.29!    3094     0"
       ]
      },
      {
       "output_type": "stream",
       "stream": "stdout",
       "text": [
        "\n",
        "P7R43222G           2.8   309.015    42.380                 4.5     2.03     2913     0\n",
        "P7R43226            2.8   309.625    42.208       177      24.1*    2.40!    2614     0"
       ]
      },
      {
       "output_type": "stream",
       "stream": "stdout",
       "text": [
        "\n",
        "PSR J2030+3641      3.0   307.501    36.703                27.4     0.82     1669     1\n",
        "P7R43223P           3.1   309.222    42.568                 7.3     2.09     2759     0\n",
        "P7R43217            3.1   308.758    36.581                 7.3     1.88     2573     0.81 \n",
        "P7R43245G           3.2   310.614    42.153        50       8.4*    2.19!    3233     0"
       ]
      },
      {
       "output_type": "stream",
       "stream": "stdout",
       "text": [
        "\n",
        "P7R43239            3.4   308.670    43.039                 7.8     2.11     2177     0\n",
        "PSR J2021+3651      3.5   305.278    36.861     24615     304.8!    1.65!    3338!    1"
       ]
      },
      {
       "output_type": "stream",
       "stream": "stdout",
       "text": [
        "\n",
        "P7R43177P           3.6   304.675    42.230                 4.2     1.75     4620     0\n",
        "P7R43169            4.1   303.908    37.161                66.8     2.46     1092     0.09 \n",
        "P7R43210AG          4.2   308.338    43.812                 5.3     2.02     4363     0\n",
        "P7R43175            4.2   304.485    36.459                35.6     1.97     1075     0.58 "
       ]
      },
      {
       "output_type": "stream",
       "stream": "stdout",
       "text": [
        "\n",
        "P7R43156P           4.6   302.799    42.056                 2.9     2.04     2620     0\n",
        "PSR J2030+4415      4.6   307.716    44.270                24.2     0.82     1254     1\n",
        "P7R43245AP          4.7   310.777    43.835                 5.1     2.12     2583     0"
       ]
      },
      {
       "output_type": "stream",
       "stream": "stdout",
       "text": [
        "\n",
        "P7R43164G           5.0   303.615    36.109                 8.3     2.31     1701     0\n",
        "------------------------------------------------------------------------------------------ \n",
        "\tDiffuse sources\n",
        "------------------------------------------------------------------------------------------\n",
        "limb                        0.30       0.35 \n",
        "ring                        1.00       0.00 \n",
        "isotrop                     0.50 \n",
        "SunMoon                     1.00 \n",
        "------------------------------------------------------------------------------------------\n",
        "TSplot: filling 224 pixels (size=1.52, npix=15)..."
       ]
      },
      {
       "output_type": "stream",
       "stream": "stdout",
       "text": [
        "\n"
       ]
      },
      {
       "output_type": "stream",
       "stream": "stdout",
       "text": [
        "================================================================================\n",
        "   Processing 3FGL J2109.5+3953 , nickname P7R43310, at (317.384, 39.895)\n",
        "FT file(s) \"/afs/slac/g/glast/groups/catalog//pointlike/fermi/data/../../P7_P202/Source/*.fits\" not found: assume None to test for valid binfile\n",
        "FT file(s) \"/afs/slac/g/glast/groups/catalog//pointlike/fermi/data/../../P7_P202/ft2_4years.fits\" not found: assume None to test for valid binfile\n",
        "104 total sources: 4 extended, 4 global"
       ]
      },
      {
       "output_type": "stream",
       "stream": "stdout",
       "text": [
        "\n",
        "------------------------------------------------------------------------------------------"
       ]
      },
      {
       "output_type": "stream",
       "stream": "stdout",
       "text": [
        " \n",
        "\t Nearby sources within 5.0 degrees HP12_0899\n",
        "name               dist        ra       dec        TS eflux(eV)    index   energy   beta/b\n",
        "P7R43310            2.5   317.384    39.895         2      11.9*    3.75!    7910     0\n",
        "P7R43315G           2.5   317.654    40.890                 1.4     1.90     2665     0"
       ]
      },
      {
       "output_type": "stream",
       "stream": "stdout",
       "text": [
        "\n",
        "P7R43291G           3.1   314.581    37.489                 2.3     2.15     2395     0\n",
        "P7R43245G           3.2   310.614    42.153                 8.4     2.19     3233     0\n",
        "P7R43291            3.2   314.503    43.795                10.4     2.67      836     0\n",
        "P7R43236            3.4   310.094    41.891                13.2     2.29     3094     0"
       ]
      },
      {
       "output_type": "stream",
       "stream": "stdout",
       "text": [
        "\n",
        "P7R43227            3.4   309.854    41.198                 9.9     2.23     1972     0\n",
        "P7R43315A           3.5   317.663    38.265                 1.4     2.16      598     0\n",
        "P7R43266AG          3.8   313.555    44.354                 6.1     2.34     2076     0\n",
        "P7R43224G           3.8   309.354    41.534                11.2     2.20     3932     0"
       ]
      },
      {
       "output_type": "stream",
       "stream": "stdout",
       "text": [
        "\n",
        "P7R43226            3.9   309.625    42.208                24.1     2.40     2614     0\n",
        "P7R43245AP          4.1   310.777    43.835                 5.1     2.12     2583     0\n",
        "P7R43303            4.3   317.005    36.914                 3.0     1.77     5866     0\n",
        "P7R43223P           4.3   309.222    42.568                 7.3     2.09     2759     0"
       ]
      },
      {
       "output_type": "stream",
       "stream": "stdout",
       "text": [
        "\n",
        "P7R43256A           4.3   312.224    44.608                14.0     2.58      786     0.88 \n",
        "P7R43222G           4.3   309.015    42.380                 4.5     2.03     2913     0\n",
        "P7R43210            4.7   308.125    40.535                22.5     3.06      943     1.11 \n",
        "PSR J2032+4127      4.8   308.060    41.447                89.6     1.27     3700     1"
       ]
      },
      {
       "output_type": "stream",
       "stream": "stdout",
       "text": [
        "\n",
        "P7R43214P           4.8   308.621    38.564                 6.4     2.08     4200     0\n",
        "P7R43239            4.8   308.670    43.039                 7.8     2.11     2177     0\n",
        "P7R43210A           4.9   308.139    39.359                14.4     2.31     1698     0\n",
        "------------------------------------------------------------------------------------------ \n",
        "\tDiffuse sources\n",
        "------------------------------------------------------------------------------------------\n",
        "limb                        0.31       0.38 \n",
        "ring                        1.00       0.00 \n",
        "isotrop                     0.10 \n",
        "SunMoon                     1.00 \n",
        "------------------------------------------------------------------------------------------\n",
        "setting size from 3.78 to 2.0"
       ]
      },
      {
       "output_type": "stream",
       "stream": "stdout",
       "text": [
        "\n",
        "TSplot: filling 225 pixels (size=2.00, npix=15)...\n"
       ]
      },
      {
       "output_type": "stream",
       "stream": "stdout",
       "text": [
        "================================================================================\n",
        "   Processing 3FGL J2130.4-4237 , nickname P7R43353, at (322.615, -42.632)\n",
        "FT file(s) \"/afs/slac/g/glast/groups/catalog//pointlike/fermi/data/../../P7_P202/Source/*.fits\" not found: assume None to test for valid binfile\n",
        "FT file(s) \"/afs/slac/g/glast/groups/catalog//pointlike/fermi/data/../../P7_P202/ft2_4years.fits\" not found: assume None to test for valid binfile\n",
        "56 total sources: 0 extended, 4 global"
       ]
      },
      {
       "output_type": "stream",
       "stream": "stdout",
       "text": [
        "\n",
        "------------------------------------------------------------------------------------------"
       ]
      },
      {
       "output_type": "stream",
       "stream": "stdout",
       "text": [
        " \n",
        "\t Nearby sources within 5.0 degrees HP12_1507\n",
        "name               dist        ra       dec        TS eflux(eV)    index   energy   beta/b\n",
        "P7R43346            1.7   321.628   -46.087      1000      14.9!    2.32!     406     0.12*\n",
        "P7R43353            1.9   322.615   -42.631        73       4.2*    2.52!     675     0"
       ]
      },
      {
       "output_type": "stream",
       "stream": "stdout",
       "text": [
        "\n",
        "P7R43371            2.8   324.852   -42.598      2000      21.1!    1.89!     843     0.14*\n",
        "------------------------------------------------------------------------------------------ \n",
        "\tDiffuse sources\n",
        "------------------------------------------------------------------------------------------\n",
        "limb                        0.38       0.50 \n",
        "ring                        1.00       0.00 \n",
        "isotrop                     1.01!\n",
        "SunMoon                     1.00 \n",
        "------------------------------------------------------------------------------------------\n",
        "setting size from 2.38 to 2.0"
       ]
      },
      {
       "output_type": "stream",
       "stream": "stdout",
       "text": [
        "\n",
        "TSplot: filling 225 pixels (size=2.00, npix=15)...\n"
       ]
      },
      {
       "output_type": "stream",
       "stream": "stdout",
       "text": [
        "================================================================================\n",
        "   Processing 3FGL J2131.5+2605 , nickname P7R43360, at (322.896, 26.097)\n",
        "FT file(s) \"/afs/slac/g/glast/groups/catalog//pointlike/fermi/data/../../P7_P202/Source/*.fits\" not found: assume None to test for valid binfile\n",
        "FT file(s) \"/afs/slac/g/glast/groups/catalog//pointlike/fermi/data/../../P7_P202/ft2_4years.fits\" not found: assume None to test for valid binfile\n",
        "58 total sources: 1 extended, 4 global"
       ]
      },
      {
       "output_type": "stream",
       "stream": "stdout",
       "text": [
        "\n",
        "------------------------------------------------------------------------------------------"
       ]
      },
      {
       "output_type": "stream",
       "stream": "stdout",
       "text": [
        " \n",
        "\t Nearby sources within 5.0 degrees HP12_1138\n",
        "name               dist        ra       dec        TS eflux(eV)    index   energy   beta/b\n",
        "P7R43368            1.8   324.343    28.241        10       1.3*    2.44*     502     0\n",
        "P7R43362            2.3   323.348    25.557        34       2.3*    2.00!    3945     0"
       ]
      },
      {
       "output_type": "stream",
       "stream": "stdout",
       "text": [
        "\n",
        "P7R43360            2.4   322.895    26.097        22       2.2*    2.20!    2040     0\n",
        "P7R43368X           2.5   323.404    28.358        10       1.5*    2.47*    1571     0"
       ]
      },
      {
       "output_type": "stream",
       "stream": "stdout",
       "text": [
        "\n",
        "P7R43384            4.8   326.051    31.542                 4.1     2.22     1532     0\n",
        "------------------------------------------------------------------------------------------ \n",
        "\tDiffuse sources\n",
        "------------------------------------------------------------------------------------------\n",
        "limb                        0.06       0.00 \n",
        "ring                        1.00       0.00 \n",
        "isotrop                     0.98!\n",
        "SunMoon                     1.00 \n",
        "------------------------------------------------------------------------------------------\n",
        "setting size from 2.28 to 2.0"
       ]
      },
      {
       "output_type": "stream",
       "stream": "stdout",
       "text": [
        "\n",
        "TSplot: filling 225 pixels (size=2.00, npix=15)...\n"
       ]
      },
      {
       "output_type": "stream",
       "stream": "stdout",
       "text": [
        "================================================================================\n",
        "   Processing 3FGL J2235.6-2319 , nickname P7R43494, at (338.911, -23.329)\n",
        "FT file(s) \"/afs/slac/g/glast/groups/catalog//pointlike/fermi/data/../../P7_P202/Source/*.fits\" not found: assume None to test for valid binfile\n",
        "FT file(s) \"/afs/slac/g/glast/groups/catalog//pointlike/fermi/data/../../P7_P202/ft2_4years.fits\" not found: assume None to test for valid binfile\n",
        "52 total sources: 0 extended, 4 global"
       ]
      },
      {
       "output_type": "stream",
       "stream": "stdout",
       "text": [
        "\n",
        "------------------------------------------------------------------------------------------"
       ]
      },
      {
       "output_type": "stream",
       "stream": "stdout",
       "text": [
        " \n",
        "\t Nearby sources within 5.0 degrees HP12_1586\n",
        "name               dist        ra       dec        TS eflux(eV)    index   energy   beta/b\n",
        "P7R43490            1.8   338.530   -26.928        55       2.3*    2.07!    2250     0\n",
        "P7R43494            2.3   338.911   -23.329        49       3.5*    2.88!     344     0"
       ]
      },
      {
       "output_type": "stream",
       "stream": "stdout",
       "text": [
        "\n",
        "P7R43511            3.0   340.864   -25.695                10.8     2.28     1376     0\n",
        "P7R43513            3.0   340.937   -25.178                 2.2     2.43     1619     0\n",
        "P7R43455            3.9   333.283   -25.535                 4.5     2.43      736     0\n",
        "P7R43486            5.0   338.238   -20.358                 2.0     1.93     4093     0"
       ]
      },
      {
       "output_type": "stream",
       "stream": "stdout",
       "text": [
        "\n",
        "------------------------------------------------------------------------------------------ \n",
        "\tDiffuse sources\n",
        "------------------------------------------------------------------------------------------\n",
        "limb                        0.03       0.00 \n",
        "ring                        1.00       0.00 \n",
        "isotrop                     0.98!\n",
        "SunMoon                     1.00 \n",
        "------------------------------------------------------------------------------------------\n",
        "setting size from 2.57 to 2.0"
       ]
      },
      {
       "output_type": "stream",
       "stream": "stdout",
       "text": [
        "\n",
        "TSplot: filling 225 pixels (size=2.00, npix=15)...\n"
       ]
      },
      {
       "output_type": "stream",
       "stream": "stdout",
       "text": [
        "================================================================================\n",
        "   Processing 3FGL J2246.7-5205 , nickname P7R43519, at (341.679, -52.089)\n",
        "FT file(s) \"/afs/slac/g/glast/groups/catalog//pointlike/fermi/data/../../P7_P202/Source/*.fits\" not found: assume None to test for valid binfile\n",
        "FT file(s) \"/afs/slac/g/glast/groups/catalog//pointlike/fermi/data/../../P7_P202/ft2_4years.fits\" not found: assume None to test for valid binfile\n",
        "59 total sources: 0 extended, 4 global"
       ]
      },
      {
       "output_type": "stream",
       "stream": "stdout",
       "text": [
        "\n",
        "------------------------------------------------------------------------------------------"
       ]
      },
      {
       "output_type": "stream",
       "stream": "stdout",
       "text": [
        " \n",
        "\t Nearby sources within 5.0 degrees HP12_1581\n",
        "name               dist        ra       dec        TS eflux(eV)    index   energy   beta/b\n",
        "P7R43492            1.4   338.802   -54.786        12       1.3*    2.52!     783     0\n",
        "PSR J2241-5236      1.5   340.418   -52.623      3096      19.2!    1.14!    2454*    1"
       ]
      },
      {
       "output_type": "stream",
       "stream": "stdout",
       "text": [
        "\n",
        "P7R43519            2.1   341.679   -52.089        36       2.2*    1.59*    8159     0\n",
        "P7R43550            2.5   344.599   -55.439                 1.6     2.25     1588     0"
       ]
      },
      {
       "output_type": "stream",
       "stream": "stdout",
       "text": [
        "\n",
        "P7R43499            3.5   339.057   -50.828                 2.7     2.67      535     0\n",
        "P7R43467            3.7   335.411   -52.421                 6.1     1.85     2617     0\n",
        "P7R43542A           4.5   343.850   -50.009                 1.1     2.37     1841     0\n",
        "P7R43535            4.8   342.896   -49.468                 2.8     1.61     2162     0.30 "
       ]
      },
      {
       "output_type": "stream",
       "stream": "stdout",
       "text": [
        "\n",
        "------------------------------------------------------------------------------------------ \n",
        "\tDiffuse sources\n",
        "------------------------------------------------------------------------------------------\n",
        "limb                        0.51       1.05 \n",
        "ring                        1.00       0.00 \n",
        "isotrop                     0.91!\n",
        "SunMoon                     1.00 \n",
        "------------------------------------------------------------------------------------------\n",
        "TSplot: filling 225 pixels (size=0.41, npix=15)..."
       ]
      },
      {
       "output_type": "stream",
       "stream": "stdout",
       "text": [
        "\n"
       ]
      },
      {
       "output_type": "stream",
       "stream": "stdout",
       "text": [
        "================================================================================\n",
        "   Processing 3FGL J2254.6+4253 , nickname P7R43540G, at (343.657, 42.888)\n",
        "FT file(s) \"/afs/slac/g/glast/groups/catalog//pointlike/fermi/data/../../P7_P202/Source/*.fits\" not found: assume None to test for valid binfile\n",
        "FT file(s) \"/afs/slac/g/glast/groups/catalog//pointlike/fermi/data/../../P7_P202/ft2_4years.fits\" not found: assume None to test for valid binfile\n",
        "56 total sources: 0 extended, 4 global"
       ]
      },
      {
       "output_type": "stream",
       "stream": "stdout",
       "text": [
        "\n",
        "------------------------------------------------------------------------------------------"
       ]
      },
      {
       "output_type": "stream",
       "stream": "stdout",
       "text": [
        " \n",
        "\t Nearby sources within 5.0 degrees HP12_1045\n",
        "name               dist        ra       dec        TS eflux(eV)    index   energy   beta/b\n",
        "P7R43522            0.7   341.960    44.224        93       4.1*    1.77!    6631     0\n",
        "P7R43509            2.0   340.565    43.308        23       2.6*    2.50!    1083     0"
       ]
      },
      {
       "output_type": "stream",
       "stream": "stdout",
       "text": [
        "\n",
        "P7R43540G           2.2   343.657    42.888        36       4.2*    2.67!     591     0"
       ]
      },
      {
       "output_type": "stream",
       "stream": "stdout",
       "text": [
        "\n",
        "PSR J2302+4442      2.4   345.685    44.722      2750      24.5!    1.19!    2932*    1"
       ]
      },
      {
       "output_type": "stream",
       "stream": "stdout",
       "text": [
        "\n",
        "P7R43535A           2.8   342.938    42.110                 1.3     2.25     1331     0\n",
        "P7R43508            3.8   340.242    41.353                 2.3     2.04     3821     0\n",
        "P7R43515            4.0   341.043    40.965                11.0     2.24     1218     0.09 \n",
        "P7R43536            4.3   342.988    40.524                 6.4     2.18     1649     0"
       ]
      },
      {
       "output_type": "stream",
       "stream": "stdout",
       "text": [
        "\n",
        "P7R43553G           4.4   345.024    40.893                 1.6     1.45    14859     0\n",
        "------------------------------------------------------------------------------------------ \n",
        "\tDiffuse sources\n",
        "------------------------------------------------------------------------------------------\n",
        "limb                        0.38       0.52 \n",
        "ring                        1.00       0.00 \n",
        "isotrop                     0.83!\n",
        "SunMoon                     1.00 \n",
        "------------------------------------------------------------------------------------------\n",
        "setting size from 3.07 to 2.0"
       ]
      },
      {
       "output_type": "stream",
       "stream": "stdout",
       "text": [
        "\n",
        "TSplot: filling 225 pixels (size=2.00, npix=15)...\n"
       ]
      },
      {
       "output_type": "stream",
       "stream": "stdout",
       "text": [
        "================================================================================\n",
        "   Processing 3FGL J2258.8+2437 , nickname P7R43550H, at (344.724, 24.624)\n",
        "FT file(s) \"/afs/slac/g/glast/groups/catalog//pointlike/fermi/data/../../P7_P202/Source/*.fits\" not found: assume None to test for valid binfile\n",
        "FT file(s) \"/afs/slac/g/glast/groups/catalog//pointlike/fermi/data/../../P7_P202/ft2_4years.fits\" not found: assume None to test for valid binfile\n",
        "53 total sources: 0 extended, 3 global"
       ]
      },
      {
       "output_type": "stream",
       "stream": "stdout",
       "text": [
        "\n",
        "------------------------------------------------------------------------------------------"
       ]
      },
      {
       "output_type": "stream",
       "stream": "stdout",
       "text": [
        " \n",
        "\t Nearby sources within 5.0 degrees HP12_1332\n",
        "name               dist        ra       dec        TS eflux(eV)    index   energy   beta/b\n",
        "P7R43550H           2.3   344.724    24.624        14       1.5*    2.14*    2305     0\n",
        "P7R43542            2.9   343.779    24.187                 5.9     2.02     1976     0"
       ]
      },
      {
       "output_type": "stream",
       "stream": "stdout",
       "text": [
        "\n",
        "P7R43600G           3.5   350.538    22.853                 1.4     2.14     2249     0\n",
        "P7R43615A           4.5   350.947    25.388                 1.5     1.86     3992     0\n",
        "P7R43524            4.6   342.225    21.106                 1.6     2.30     2138     0\n",
        "P7R43592            4.8   349.655    19.210                 3.5     2.87      403     0"
       ]
      },
      {
       "output_type": "stream",
       "stream": "stdout",
       "text": [
        "\n",
        "P7R43560            4.9   345.669    18.308                 3.0     2.71      735     0\n",
        "------------------------------------------------------------------------------------------ \n",
        "\tDiffuse sources\n",
        "------------------------------------------------------------------------------------------\n",
        "ring                        1.00       0.00 \n",
        "isotrop                     1.05!\n",
        "SunMoon                     1.00 \n",
        "------------------------------------------------------------------------------------------\n",
        "TSplot: filling 225 pixels (size=1.63, npix=15)..."
       ]
      },
      {
       "output_type": "stream",
       "stream": "stdout",
       "text": [
        "\n"
       ]
      },
      {
       "output_type": "stream",
       "stream": "stdout",
       "text": [
        "================================================================================\n",
        "   Processing 3FGL J2344.9-5647 , nickname P7R43658, at (356.225, -56.790)\n",
        "FT file(s) \"/afs/slac/g/glast/groups/catalog//pointlike/fermi/data/../../P7_P202/Source/*.fits\" not found: assume None to test for valid binfile\n",
        "FT file(s) \"/afs/slac/g/glast/groups/catalog//pointlike/fermi/data/../../P7_P202/ft2_4years.fits\" not found: assume None to test for valid binfile\n",
        "65 total sources: 0 extended, 4 global"
       ]
      },
      {
       "output_type": "stream",
       "stream": "stdout",
       "text": [
        "\n",
        "------------------------------------------------------------------------------------------"
       ]
      },
      {
       "output_type": "stream",
       "stream": "stdout",
       "text": [
        " \n",
        "\t Nearby sources within 5.0 degrees HP12_1612\n",
        "name               dist        ra       dec        TS eflux(eV)    index   energy   beta/b\n",
        "P7R43658            0.4   356.225   -56.790        34       2.3*    2.56!     664     0\n",
        "P7R43633            1.9   353.264   -55.426       129       2.4*    1.94*    1215     0.36*"
       ]
      },
      {
       "output_type": "stream",
       "stream": "stdout",
       "text": [
        "\n",
        "P7R43692            3.7   359.451   -53.178                 7.6     2.47      616     0\n",
        "P7R43684            3.9   358.702   -52.763        38       2.1*    2.24!    1317     0"
       ]
      },
      {
       "output_type": "stream",
       "stream": "stdout",
       "text": [
        "\n",
        "P7R40007            4.5     0.815   -52.777                 2.0     1.90     3780     0\n",
        "P7R40053            4.8     4.797   -56.751                 1.8     2.12     2002     0\n",
        "------------------------------------------------------------------------------------------ \n",
        "\tDiffuse sources\n",
        "------------------------------------------------------------------------------------------\n",
        "limb                        0.54       1.16 \n",
        "ring                        1.00       0.00 \n",
        "isotrop                     0.92!\n",
        "SunMoon                     1.00 \n",
        "------------------------------------------------------------------------------------------\n",
        "setting size from 2.62 to 2.0"
       ]
      },
      {
       "output_type": "stream",
       "stream": "stdout",
       "text": [
        "\n",
        "TSplot: filling 225 pixels (size=2.00, npix=15)...\n"
       ]
      },
      {
       "metadata": {},
       "output_type": "pyout",
       "prompt_number": 43,
       "text": [
        "[None,\n",
        " None,\n",
        " None,\n",
        " None,\n",
        " None,\n",
        " None,\n",
        " None,\n",
        " None,\n",
        " None,\n",
        " None,\n",
        " None,\n",
        " None,\n",
        " None,\n",
        " None,\n",
        " None,\n",
        " None,\n",
        " None,\n",
        " None,\n",
        " None,\n",
        " None,\n",
        " None,\n",
        " None,\n",
        " None,\n",
        " None,\n",
        " None,\n",
        " None,\n",
        " None,\n",
        " None,\n",
        " None,\n",
        " None,\n",
        " None,\n",
        " None,\n",
        " None]"
       ]
      },
      {
       "metadata": {},
       "output_type": "display_data",
       "png": "[encoded data removed]",
       "text": [
        "<matplotlib.figure.Figure at 0x7fa6a783e350>"
       ]
      }
     ],
     "prompt_number": 43
    },
    {
     "cell_type": "code",
     "collapsed": false,
     "input": [
      "cols=columns='name3,ra,dec,glat,glon,skydir,ts,pivot,flux,modelname,id_prob,a95,closest,flags'.split(',')\n",
      "t = cat[cat.flags>7] \n",
      "t['nickname'] = t.index\n",
      "t[['nickname', 'flags']]\n",
      "t.to_csv('3FGL_poor_localization.csv', index=False)"
     ],
     "language": "python",
     "metadata": {},
     "outputs": [],
     "prompt_number": 24
    },
    {
     "cell_type": "code",
     "collapsed": false,
     "input": [
      "!cat 3FGL_poor_localization.csv"
     ],
     "language": "python",
     "metadata": {},
     "outputs": [
      {
       "output_type": "stream",
       "stream": "stdout",
       "text": [
        "name3,ra,dec,glat,glon,skydir,ts,pivot,flux,modelname,id_prob,a95,closest,flags,nickname\r\n",
        "3FGL J0008.5+6853 ,2.140899896621704,68.88700103759766,6.337629842912424,119.06736459832611,\"SkyDir(2.141,68.887)\",72.00548553466797,836.1907348632812,3.6957624460765e-12,LogParabola     ,0.800000011920929,0.807699978351593,1.112610093900779e-05,8.0,P7R40027\r\n",
        "3FGL J0021.6-6835 ,5.408999919891357,-68.5916976928711,-48.299847855183714,307.0120872486605,\"SkyDir(5.409,-68.592)\",38.74854278564453,532.6547241210938,1.8591068354917306e-12,PowerLaw2       ,0.9359011650085449,0.478300005197525,3.0513914672231223e-05,8.0,P7R40057\r\n",
        "3FGL J0102.1+0943 ,15.539999961853027,9.727999687194824,-53.05209631491129,127.3307344699026,\"SkyDir(15.540,9.728)\",61.640655517578125,2010.337890625,1.181128491452993e-13,PowerLaw        ,0.800000011920929,0.08209999650716782,5.608293012291779e-05,8.0,P7R40152\r\n",
        "3FGL J0128.5+4430 ,22.128799438476562,44.50669860839844,-17.86533788049109,129.8645883693246,\"SkyDir(22.129,44.507)\",68.63162231445312,1027.340087890625,6.000702864293606e-13,PowerLaw        ,0.9832938313484192,0.22030000388622284,4.677346592537061e-05,8.0,P7R40218\r\n",
        "3FGL J0332.4+6110 ,53.12080001831055,61.170101165771484,4.127351027946204,141.13935372508743,\"SkyDir(53.121,61.170)\",29.92869758605957,765.7291259765625,1.4412903379459885e-12,PowerLaw2       ,0.0,0.424699991941452,4.0444692837996916e-05,8.0,P7R40508\r\n",
        "3FGL J0457.0+0643 ,74.2688980102539,6.725100040435791,-21.68902282718749,192.72715425830538,\"SkyDir(74.269,6.725)\",33.341644287109375,853.1484985351562,8.453088489596139e-13,PowerLaw        ,0.9948409199714661,0.24529999494552612,2.7936471795648615e-05,8.0,P7R40687\r\n",
        "3FGL J0507.5-0906 ,76.88829803466797,-9.101699829101562,-27.191274266781367,209.29790053253527,\"SkyDir(76.888,-9.102)\",41.30722427368164,993.3345336914062,5.329670082002136e-13,PowerLaw2       ,0.800000011920929,0.18250000476837158,2.090661656920043e-05,8.0,P7R40713G\r\n",
        "3FGL J0512.2+2918 ,78.06330108642578,29.312000274658203,-5.86742060982018,175.65808908945033,\"SkyDir(78.063,29.312)\",26.62823486328125,770.1738891601562,1.2515667755647053e-12,PowerLaw2       ,0.9475295543670654,0.22550000250339508,5.052303912063504e-05,8.0,P7R40723G\r\n",
        "3FGL J0525.2-6614 ,81.3239974975586,-66.24359893798828,-33.29529696027835,276.2964766383983,\"SkyDir(81.324,-66.244)\",40.02764892578125,3151.58740234375,4.2037730176198995e-14,PowerLaw2       ,0.9470024704933167,0.09799999743700027,3.7269751732416114e-05,8.0,P7R40753\r\n",
        "3FGL J0533.8-3754 ,83.4635009765625,-37.90530014038086,-30.886550945665437,242.79338961898173,\"SkyDir(83.464,-37.905)\",63.834232330322266,1087.729736328125,4.76164355341091e-13,PowerLaw        ,0.0,0.09480000287294388,4.7641239121122066e-05,8.0,P7R40784\r\n",
        "3FGL J0542.2-8737 ,85.560302734375,-87.61849975585938,-27.813008784664156,300.36135349968544,\"SkyDir(85.560,-87.618)\",52.190399169921875,2499.95703125,6.74462520338856e-14,PowerLaw        ,0.0,0.07819999754428864,1.020547946921559e-05,8.0,P7R40818A\r\n",
        "3FGL J0600.4-1934 ,90.11830139160156,-19.573299407958984,-19.73670632851665,225.4122597220395,\"SkyDir(90.118,-19.573)\",49.24953842163086,640.0054321289062,1.7664733608160899e-12,PowerLaw2       ,0.800000011920929,0.20819999277591705,4.051486047219546e-05,8.0,P7R40841AG\r\n",
        "3FGL J0601.5+2309 ,90.38359832763672,23.158000946044922,0.14650773751894208,186.79187793445553,\"SkyDir(90.384,23.158)\",30.552961349487305,1014.1768188476562,9.926411905988863e-13,PowerLaw2       ,0.0,0.14079999923706055,3.874463473553412e-05,8.0,P7R40846G\r\n",
        "3FGL J0605.9+2039 ,91.47689819335938,20.652799606323242,-0.20212628623562454,189.47202720125523,\"SkyDir(91.477,20.653)\",49.1870002746582,1427.4873046875,8.291281615273316e-13,PowerLaw        ,0.0,0.17080000042915344,3.095905445426158e-05,8.0,P7R40856A\r\n",
        "3FGL J0607.0+4406 ,91.76300048828125,44.1151008605957,11.211981084606567,168.84069408656404,\"SkyDir(91.763,44.115)\",38.07363510131836,605.3121337890625,2.0633687900645237e-12,PowerLaw2       ,0.9773344993591309,0.24879999458789825,5.406847010357756e-05,8.0,P7R40862\r\n",
        "3FGL J0636.4-3030 ,99.10009765625,-30.510099411010742,-16.365808914191394,239.2964222328372,\"SkyDir(99.100,-30.510)\",26.620534896850586,853.1637573242188,5.839174087828025e-13,PowerLaw2       ,0.9841364622116089,0.20029999315738678,3.9551922294424624e-05,8.0,P7R40924G\r\n",
        "3FGL J0707.5-3111 ,106.88719940185547,-31.19700050354004,-10.528000903813076,242.7180279848501,\"SkyDir(106.887,-31.197)\",39.79804992675781,421.6875305175781,5.5654166171426045e-12,PowerLaw2       ,0.0,0.46140000224113464,5.3705062456921235e-06,8.0,P7R40994\r\n",
        "3FGL J0731.7-1914 ,112.94390106201172,-19.23699951171875,-0.1774695825317862,234.5626604065748,\"SkyDir(112.944,-19.237)\",47.10776138305664,1178.8143310546875,9.603901875154808e-13,PowerLaw2       ,0.9069146513938904,0.12439999729394913,2.7951889655548965e-05,8.0,P7R41038P\r\n",
        "3FGL J0739.8+1312 ,114.97419738769531,13.21090030670166,16.621708436070943,206.32664174277716,\"SkyDir(114.974,13.211)\",26.053756713867188,424.87335205078125,3.802314799822293e-12,PowerLaw        ,0.0,0.5320000052452087,1.4750812644923646e-05,8.0,P7R41053A\r\n",
        "3FGL J0742.6-5623 ,115.67330169677734,-56.39030075073242,-15.69373895598076,268.8316942446717,\"SkyDir(115.673,-56.390)\",47.19537353515625,432.11505126953125,5.308388711239287e-12,PowerLaw        ,0.993916928768158,0.38260000944137573,2.8949332885081147e-05,8.0,P7R41062\r\n",
        "3FGL J0744.3+1715 ,116.08200073242188,17.25589942932129,19.249018660501328,202.90394821794555,\"SkyDir(116.082,17.256)\",33.538978576660156,1396.3265380859375,2.1221269370669954e-13,PowerLaw2       ,0.0,0.19830000400543213,4.346686465603926e-05,8.0,P7R41068\r\n",
        "3FGL J0755.2-2633 ,118.80169677734375,-26.561500549316406,0.8455367912324572,243.59927130597057,\"SkyDir(118.802,-26.562)\",35.06001281738281,802.9498901367188,1.620631363483116e-12,PowerLaw2       ,0.0,0.5422999858856201,3.585101837439425e-05,8.0,P7R41100X\r\n",
        "3FGL J0859.8-4324 ,134.96449279785156,-43.40769958496094,1.735526850728951,264.9319207457976,\"SkyDir(134.964,-43.408)\",25.160751342773438,4536.12890625,3.375464241884424e-14,PowerLaw2       ,0.800000011920929,0.1354999989271164,3.9997416740842644e-05,8.0,P7R41255H\r\n",
        "3FGL J0900.0+6754 ,135.02239990234375,67.9136962890625,36.91735282931585,146.39306443949408,\"SkyDir(135.022,67.914)\",28.018339157104492,1320.7998046875,1.6626022119377998e-13,PowerLaw2       ,0.800000011920929,0.3310000002384186,5.124864287986463e-05,8.0,P7R41255HP\r\n",
        "3FGL J0907.0-4802 ,136.75390625,-48.042999267578125,-0.41635839279780656,269.22340824069397,\"SkyDir(136.754,-48.043)\",39.294227600097656,1549.3375244140625,6.289129915633407e-13,PowerLaw        ,0.0,0.17299999296665192,2.5183362638449833e-05,8.0,P7R41278G\r\n",
        "3FGL J0912.2+4126 ,138.05650329589844,41.44139862060547,43.34142779075636,180.31516078603642,\"SkyDir(138.057,41.441)\",52.21421432495117,667.9488525390625,1.2718611970899407e-12,PowerLaw2       ,0.9851999878883362,0.1835000067949295,1.1323517177922836e-05,8.0,P7R41290\r\n",
        "3FGL J0918.2-4859 ,139.57310485839844,-48.98910140991211,0.2896320310229837,271.1940405243746,\"SkyDir(139.573,-48.989)\",25.65874671936035,1245.0286865234375,7.241470877800138e-13,PowerLaw2       ,0.0,0.2468000054359436,2.5697128323716265e-05,8.0,P7R41302AP\r\n",
        "3FGL J1002.0-2837 ,150.50250244140625,-28.62809944152832,21.026258856636833,263.61877726038415,\"SkyDir(150.503,-28.628)\",26.693302154541016,599.4884643554688,1.5706166835854907e-12,PowerLaw2       ,0.0,0.4959999918937683,4.4183937142794695e-05,8.0,P7R41399P\r\n",
        "3FGL J1013.4-4008 ,153.36749267578125,-40.149898529052734,13.353742877415051,272.9576582615548,\"SkyDir(153.367,-40.150)\",28.517393112182617,1645.2230224609375,1.3975196596748701e-13,PowerLaw2       ,0.0,0.23360000550746918,3.4418302424021374e-05,8.0,P7R41423\r\n",
        "3FGL J1034.0-5731 ,158.5155029296875,-57.517398834228516,0.5724101176053392,285.29487918051893,\"SkyDir(158.516,-57.517)\",84.22759246826172,1701.0361328125,8.039761347986008e-13,PowerLaw2       ,0.800000011920929,0.5895000100135803,3.806427389643067e-05,8.0,P7R41491P\r\n",
        "3FGL J1037.2-6052 ,159.31910705566406,-60.87480163574219,-2.136390757969773,287.3209531365871,\"SkyDir(159.319,-60.875)\",26.90392303466797,2481.88720703125,1.1782000613851096e-13,PowerLaw2       ,0.0,0.5479000210762024,2.7541927493025395e-05,8.0,P7R41500G\r\n",
        "3FGL J1043.7-6028 ,160.94700622558594,-60.46879959106445,-1.3967288268207165,287.8246507255043,\"SkyDir(160.947,-60.469)\",75.76171112060547,1334.0621337890625,2.0017008883765897e-12,LogParabola     ,0.800000011920929,0.36149999499320984,2.761277532720291e-05,8.0,P7R41518AG\r\n",
        "3FGL J1132.8+1015 ,173.2111053466797,10.258299827575684,64.95491317964334,251.52675727321582,\"SkyDir(173.211,10.258)\",37.06471633911133,457.0044250488281,3.412607002539758e-12,PowerLaw2       ,0.0,0.5329999923706055,4.362470487137014e-05,8.0,P7R41661G\r\n",
        "3FGL J1153.8+3307 ,178.4694061279297,33.122798919677734,76.20327059030777,183.71298234833978,\"SkyDir(178.469,33.123)\",39.64903259277344,362.8907470703125,5.864340263395107e-12,PowerLaw        ,0.9025188088417053,0.6263999938964844,3.0189359867935664e-05,8.0,P7R41701A\r\n",
        "3FGL J1210.1-2742 ,182.54649353027344,-27.71430015563965,34.27021874095381,291.8757376044193,\"SkyDir(182.546,-27.714)\",57.9929084777832,680.7682495117188,1.8681612246745916e-12,PowerLaw        ,0.0,0.12120000272989273,1.9134384160240504e-05,8.0,P7R41748\r\n",
        "3FGL J1244.2-6227 ,191.05909729003906,-62.45330047607422,0.40676130866463284,302.0998306208786,\"SkyDir(191.059,-62.453)\",46.20506286621094,1603.8084716796875,6.562062091625132e-13,PowerLaw        ,0.800000011920929,0.11299999803304672,1.8881418787308638e-05,8.0,P7R41851\r\n",
        "3FGL J1329.1-0536 ,202.2991943359375,-5.608099937438965,56.01385766909533,319.91037498055033,\"SkyDir(202.299,-5.608)\",41.48921203613281,1727.645751953125,1.8921494958964308e-13,PowerLaw2       ,0.800000011920929,0.17790000140666962,3.211576535236155e-05,8.0,P7R41984\r\n",
        "3FGL J1330.4+5641 ,202.61199951171875,56.6879997253418,59.62996430616182,112.32875514058168,\"SkyDir(202.612,56.688)\",35.351558685302734,341.98431396484375,5.391454643843829e-12,PowerLaw2       ,0.8152552843093872,0.555899977684021,3.8386005054689484e-07,8.0,P7R41988A\r\n",
        "3FGL J1419.1-5156 ,214.7760009765625,-51.94200134277344,8.624168302785568,316.3901366298788,\"SkyDir(214.776,-51.942)\",53.47380828857422,586.9302368164062,4.166840917446679e-12,PowerLaw2       ,0.9925780892372131,0.21119999885559082,1.4715492535482332e-06,8.0,P7R42113A\r\n",
        "3FGL J1538.4-4656 ,234.6031951904297,-46.93539810180664,6.908785179704636,330.1871978229354,\"SkyDir(234.603,-46.935)\",105.30693817138672,387.0883483886719,2.0655420082671405e-11,PowerLaw        ,0.800000011920929,0.4767000079154968,1.7165793213964322e-05,8.0,P7R42305\r\n",
        "3FGL J1538.5-4215 ,234.64739990234375,-42.26250076293945,10.628425178560306,333.04984115711767,\"SkyDir(234.647,-42.263)\",53.212257385253906,392.1796569824219,1.036212782246082e-11,PowerLaw2       ,0.0,0.2476000040769577,0.5498424898366417,8.0,P7R42305P\r\n",
        "3FGL J1617.3-2519 ,244.347900390625,-25.331499099731445,17.805571687947126,350.905220266524,\"SkyDir(244.348,-25.331)\",52.6114387512207,604.9548950195312,4.199554766437519e-12,PowerLaw        ,0.9372954368591309,0.37279999256134033,3.079082372120745e-05,8.0,P7R42417\r\n",
        "3FGL J1635.8-4707 ,248.96629333496094,-47.1254997253418,0.20111151927826254,337.31970558787754,\"SkyDir(248.966,-47.125)\",129.5287628173828,3440.059326171875,4.561774677620811e-13,PowerLaw2       ,0.800000011920929,0.10369999706745148,0.07106647994563593,8.0,P7R42486P\r\n",
        "3FGL J1645.9-5420 ,251.4835968017578,-54.348899841308594,-5.765144480199779,332.9421191613373,\"SkyDir(251.484,-54.349)\",34.294002532958984,608.8250122070312,3.611169739972664e-12,PowerLaw2       ,0.800000011920929,0.3449999988079071,2.0287159832063834e-05,8.0,P7R42513\r\n",
        "3FGL J1654.3-4907 ,253.59849548339844,-49.12179946899414,-3.4441815000048455,337.82073318217954,\"SkyDir(253.598,-49.122)\",58.43136978149414,618.4794311523438,1.155953457954162e-11,LogParabola     ,0.0,0.40149998664855957,3.3706843642133283e-05,8.0,P7R42547\r\n",
        "3FGL J1729.5-2824 ,262.37530517578125,-28.410900115966797,3.2665504177242513,358.54963819334404,\"SkyDir(262.375,-28.411)\",56.345951080322266,650.7374877929688,1.2001354771085104e-11,LogParabola     ,0.800000011920929,0.5971999764442444,8.755514894390538e-06,8.0,P7R42645\r\n",
        "3FGL J1729.9-0859 ,262.4912109375,-8.986100196838379,13.575967027020111,15.218007730223256,\"SkyDir(262.491,-8.986)\",62.913700103759766,445.581787109375,1.8750558397617745e-11,LogParabola     ,0.800000011920929,0.5825999975204468,7.743852379791868e-06,8.0,P7R42660\r\n",
        "3FGL J1733.5-2547 ,263.3929138183594,-25.7992000579834,3.9321261248762234,1.237919618717422,\"SkyDir(263.393,-25.799)\",60.55356979370117,952.0420532226562,3.934857648046908e-12,LogParabola     ,0.0,0.3000999987125397,3.8098896283888674e-05,8.0,P7R42673\r\n",
        "3FGL J1736.2-3420 ,264.06640625,-34.341400146484375,-1.1746637993089248,354.3613588366116,\"SkyDir(264.066,-34.341)\",88.54635620117188,806.2950439453125,5.6018475448615934e-12,PowerLaw2       ,0.0,0.10719999670982361,1.4554269618815412,8.0,P7R42683G\r\n",
        "3FGL J1740.5-2843 ,265.125,-28.716999053955078,1.0689305828087288,359.5974334149516,\"SkyDir(265.125,-28.717)\",244.40664672851562,839.0927124023438,1.654605792655861e-11,LogParabola     ,0.800000011920929,0.06520000100135803,4.737448832182574e-06,8.0,P7R42693\r\n",
        "3FGL J1744.5-2506 ,266.1357116699219,-25.100299835205078,2.205407955125161,3.1486964510189086,\"SkyDir(266.136,-25.100)\",71.4534683227539,785.267822265625,5.7033323376531886e-12,PowerLaw2       ,0.0,0.14470000565052032,4.469703876398845e-05,8.0,P7R42712H\r\n",
        "3FGL J1745.3-2903 ,266.3429870605469,-29.062999725341797,-0.020061542867048334,359.86394493934245,\"SkyDir(266.343,-29.063)\",444.0897521972656,1935.3819580078125,1.274606201834283e-11,LogParabola     ,0.800000011920929,0.02280000038444996,0.06716077201090094,8.0,P7R42717\r\n",
        "3FGL J1747.7-2904 ,266.9429016113281,-29.074800491333008,-0.47428900923720274,0.12616134902726325,\"SkyDir(266.943,-29.075)\",59.90481185913086,2248.098388671875,1.110078825736216e-12,PowerLaw        ,0.800000011920929,0.06939999759197235,3.6439521419730575e-05,8.0,P7R42737A\r\n",
        "3FGL J1800.7-0523 ,270.1773986816406,-5.388299942016602,8.72557452321425,22.248794276862917,\"SkyDir(270.177,-5.388)\",26.64419937133789,1941.3316650390625,9.048188901687043e-14,PowerLaw2       ,0.0,0.24480000138282776,2.9854225821586615e-05,8.0,P7R42766\r\n",
        "3FGL J1811.3-1927 ,272.8273010253906,-19.457300186157227,-0.327254159703402,11.13276458874514,\"SkyDir(272.827,-19.457)\",28.229454040527344,4510.50439453125,9.162802623845917e-14,PowerLaw2       ,0.8325470685958862,0.1193000003695488,1.9082923412722895e-05,8.0,P7R42804G\r\n",
        "3FGL J1828.4-1121 ,277.1094055175781,-11.363200187683105,-0.1390225382875656,20.214985347841186,\"SkyDir(277.109,-11.363)\",110.98565673828125,638.5214233398438,2.6911252740124958e-11,LogParabola     ,0.800000011920929,0.2410999983549118,3.337266207761213e-05,8.0,P7R42855A\r\n",
        "3FGL J1829.2+2731 ,277.3132019042969,27.525400161743164,16.678801441099175,55.7976517356027,\"SkyDir(277.313,27.525)\",86.74372863769531,495.60052490234375,5.384997569385375e-12,PowerLaw        ,0.800000011920929,0.13079999387264252,3.5646985112890334e-05,8.0,P7R42858\r\n",
        "3FGL J1829.9-0203 ,277.4883117675781,-2.0541000366210938,3.836388751377337,28.647034911894337,\"SkyDir(277.488,-2.054)\",38.36484146118164,2735.06689453125,2.2232313646314283e-13,PowerLaw        ,0.9289595484733582,0.18050000071525574,5.42443046033129e-05,8.0,P7R42866A\r\n",
        "3FGL J1833.9-0711 ,278.47979736328125,-7.192999839782715,0.5918985152818612,24.537618107666646,\"SkyDir(278.480,-7.193)\",60.22001647949219,5840.97802734375,9.437566559408056e-14,PowerLaw2       ,0.800000011920929,0.09849999845027924,5.167673907260174e-05,8.0,P7R42881G\r\n",
        "3FGL J1849.5-0124 ,282.3965148925781,-1.4132000207901,-0.2326783581908373,31.463553160269672,\"SkyDir(282.397,-1.413)\",33.498695373535156,4057.376708984375,1.500732047313158e-13,PowerLaw2       ,0.800000011920929,0.07639999687671661,3.300319431986108e-05,8.0,P7R42927\r\n",
        "3FGL J1857.8+0307 ,284.4739074707031,3.132999897003174,-0.0068441944098392915,36.45648779434332,\"SkyDir(284.474,3.133)\",37.95000076293945,1914.4859619140625,7.373823231703047e-13,PowerLaw2       ,0.8524749875068665,0.5669999718666077,6.321215387910842e-05,8.0,P7R42956\r\n",
        "3FGL J1915.2+0954 ,288.80218505859375,9.90839958190918,-0.7053797361574502,44.449686373045424,\"SkyDir(288.802,9.908)\",71.1422119140625,566.9444580078125,3.1680609524631365e-11,LogParabola     ,0.0,0.09870000183582306,3.209038333127355e-05,8.0,P7R43011G\r\n",
        "3FGL J1941.5+5134 ,295.3796081542969,51.57339859008789,13.727671081367008,84.28142629043519,\"SkyDir(295.380,51.573)\",38.59205627441406,232.01364135742188,2.6949909318063625e-11,PowerLaw2       ,0.0,0.3393000066280365,2.1835455956606113e-05,8.0,P7R43059G\r\n",
        "3FGL J1957.9-0712 ,299.48388671875,-7.2108001708984375,-18.050073766041834,33.9998035342839,\"SkyDir(299.484,-7.211)\",45.7352294921875,1120.9942626953125,5.124558004505897e-13,PowerLaw        ,0.0,0.12399999797344208,2.887379517641516e-05,8.0,P7R43115\r\n",
        "3FGL J2009.2-1458 ,302.3037109375,-14.97760009765625,-23.83169722996313,27.70285164253333,\"SkyDir(302.304,-14.978)\",41.092308044433594,537.3146362304688,3.515932553779799e-12,PowerLaw2       ,0.800000011920929,0.5307000279426575,5.033768707104438e-05,8.0,P7R43149P\r\n",
        "3FGL J2013.4-3710 ,303.3507080078125,-37.17919921875,-31.586726914283147,4.111857312817544,\"SkyDir(303.351,-37.179)\",34.85161590576172,529.7096557617188,2.533235773927167e-12,PowerLaw2       ,0.0,0.1476999968290329,2.8346729245453706e-05,8.0,P7R43155G\r\n",
        "3FGL J2039.4+4111 ,309.85400390625,41.19820022583008,-0.20758344794645828,80.82963098942285,\"SkyDir(309.854,41.198)\",112.59645080566406,934.2161254882812,8.140515171672913e-12,LogParabola     ,0.800000011920929,0.19660000503063202,2.778515875313975e-05,8.0,P7R43227\r\n",
        "3FGL J2042.4+4209 ,310.61419677734375,42.1531982421875,-0.0712133658615086,81.93226676176282,\"SkyDir(310.614,42.153)\",94.1930923461914,1676.8936767578125,1.4789266816403468e-12,LogParabola     ,0.0,0.22759999334812164,2.023884326363193e-05,8.0,P7R43245G\r\n",
        "3FGL J2109.5+3953 ,317.38409423828125,39.894901275634766,-5.424674002136852,83.51650133286395,\"SkyDir(317.384,39.895)\",59.22534942626953,4165.7353515625,3.3192412441642935e-14,PowerLaw        ,0.0,0.04520000144839287,2.0262564689606327e-05,8.0,P7R43310\r\n",
        "3FGL J2130.4-4237 ,322.61480712890625,-42.631500244140625,-46.683437511350625,358.46702072345295,\"SkyDir(322.615,-42.632)\",89.84426879882812,574.0729370117188,3.2596833218767607e-12,PowerLaw        ,0.0,0.24089999496936798,2.742332472152266e-05,8.0,P7R43353\r\n",
        "3FGL J2131.5+2605 ,322.8955078125,26.09709930419922,-18.273498223909787,76.53855343658337,\"SkyDir(322.896,26.097)\",25.172639846801758,1728.2503662109375,1.341686500398384e-13,PowerLaw        ,0.800000011920929,0.4810999929904938,4.0020726952656796e-05,8.0,P7R43360\r\n",
        "3FGL J2235.6-2319 ,338.9112854003906,-23.328699111938477,-59.14874938120926,32.362021622116096,\"SkyDir(338.911,-23.329)\",98.57521057128906,347.4569396972656,1.1151489454075403e-11,PowerLaw        ,0.9038277864456177,0.4000999927520752,4.240858536961329e-05,8.0,P7R43494\r\n",
        "3FGL J2246.7-5205 ,341.6791076660156,-52.08890151977539,-55.85335490872336,337.454750300198,\"SkyDir(341.679,-52.089)\",65.65562438964844,13121.4326171875,2.843858910297689e-15,PowerLaw2       ,0.800000011920929,0.06080000102519989,4.75473779460088e-05,8.0,P7R43519\r\n",
        "3FGL J2254.6+4253 ,343.6570129394531,42.888301849365234,-15.00308214215145,101.21132727318816,\"SkyDir(343.657,42.888)\",50.14554977416992,459.1176452636719,4.937419830625123e-12,PowerLaw2       ,0.0,0.41179999709129333,4.826706696466704e-05,8.0,P7R43540G\r\n",
        "3FGL J2258.8+2437 ,344.7242126464844,24.623699188232422,-31.56515280170211,92.72651259411464,\"SkyDir(344.724,24.624)\",30.776439666748047,1093.25634765625,3.8677516593123296e-13,PowerLaw2       ,0.0,0.2515000104904175,1.3983912692355942e-05,8.0,P7R43550H\r\n",
        "3FGL J2344.9-5647 ,356.22540283203125,-56.78969955444336,-58.05613488894218,320.1695829358286,\"SkyDir(356.225,-56.790)\",57.535491943359375,487.41827392578125,2.8043854131271084e-12,PowerLaw        ,0.0,0.15440000593662262,3.3862361248519083e-05,8.0,P7R43658\r\n"
       ]
      }
     ],
     "prompt_number": 25
    },
    {
     "cell_type": "code",
     "collapsed": false,
     "input": [
      "from uw.utilities import makepivot; reload(makepivot)\n",
      "pv = makepivot.MakeCollection('3FGL poor localizations', 'tsmap', '3FGL_poor_localization.csv', refresh=True, image_type='png')"
     ],
     "language": "python",
     "metadata": {},
     "outputs": [
      {
       "output_type": "stream",
       "stream": "stdout",
       "text": [
        "Collection {'cName': '3FGL poor localizations'} deleted\n",
        "Created or attached to existing collection, name=\"3FGL poor localizations\", Id=245\n",
        "Loaded CSV file 3FGL_poor_localization.csv: found 76 items, 14 columns"
       ]
      },
      {
       "output_type": "stream",
       "stream": "stdout",
       "text": [
        "\n"
       ]
      }
     ],
     "prompt_number": 33
    },
    {
     "cell_type": "code",
     "collapsed": false,
     "input": [
      "pv.cId"
     ],
     "language": "python",
     "metadata": {},
     "outputs": [
      {
       "metadata": {},
       "output_type": "pyout",
       "prompt_number": 35,
       "text": [
        "245"
       ]
      }
     ],
     "prompt_number": 35
    },
    {
     "cell_type": "code",
     "collapsed": false,
     "input": [
      "x = makepivot.ImageList('tsmap', 'png')"
     ],
     "language": "python",
     "metadata": {},
     "outputs": [],
     "prompt_number": 30
    }
   ],
   "metadata": {}
  }
 ]
}