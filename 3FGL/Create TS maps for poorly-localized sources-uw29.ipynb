{
 "metadata": {
  "name": "",
  "signature": "sha256:88fc0d5ef9f3ff70de7fd3314da43989f35bc9b18bf9daace21b150f989f3719"
 },
 "nbformat": 3,
 "nbformat_minor": 0,
 "worksheets": [
  {
   "cells": [
    {
     "cell_type": "markdown",
     "metadata": {},
     "source": [
      "#Create TS maps for 3FGL sources\n",
      "\n",
      "Set the directory corresponding to the pointlike model used for 3FGL\n",
      "\n",
      "Load code that is used to compare the pointlike with 3FGL entries"
     ]
    },
    {
     "cell_type": "code",
     "collapsed": false,
     "input": [
      "%matplotlib inline\n",
      "os.chdir(os.path.expandvars('$FERMI/skymodels/P202/uw29'))\n",
      "from uw.like2.analyze import sourcecomparison; reload(sourcecomparison)\n",
      "from uw.like2 import main\n",
      "sc = sourcecomparison.SourceComparison(cat='3FGL-v13r3_v6r9p1_3lacv12p1_v7.fits', catname='3FGL')\n",
      "cat =sc.cat"
     ],
     "language": "python",
     "metadata": {},
     "outputs": [
      {
       "output_type": "stream",
       "stream": "stdout",
       "text": [
        "loading sources.pickle\n",
        "loaded FITS catalog file /afs/slac/g/glast/groups/catalog//pointlike/fermi/catalog/3FGL-v13r3_v6r9p1_3lacv12p1_v7.fits with 3034 entries"
       ]
      },
      {
       "output_type": "stream",
       "stream": "stdout",
       "text": [
        "\n",
        "generating closest distance to catalog \"/afs/slac/g/glast/groups/catalog//pointlike/fermi/catalog/3FGL-v13r3_v6r9p1_3lacv12p1_v7.fits\""
       ]
      },
      {
       "output_type": "stream",
       "stream": "stdout",
       "text": [
        "\n"
       ]
      }
     ],
     "prompt_number": 1
    },
    {
     "cell_type": "markdown",
     "metadata": {},
     "source": [
      "###Select sources with localization issues\n",
      "Now select the entry in the DataFrame corresponding to a given 3FGL name, and extract the position and nickname (note the need for a trailing blank)"
     ]
    },
    {
     "cell_type": "code",
     "collapsed": false,
     "input": [
      "print 'Flag 7,9 frequency:', sum(cat.flags & 64),  sum(cat.flags & 256)\n",
      "print 'Both: ', sum( (cat.flags &64 ) &(cat.flags&256) )\n",
      "locproblem = cat.flags & (64+256); print 'Either 7 or 9:', sum(locproblem)\n",
      "\n",
      "tt = cat.index[locproblem]; tt\n",
      "cat_subset = pd.DataFrame([cat.ix[x] for x in tt])\n",
      "bad_list = cat_subset.name3"
     ],
     "language": "python",
     "metadata": {},
     "outputs": [
      {
       "output_type": "stream",
       "stream": "stdout",
       "text": [
        "Flag 7,9 frequency: 24 64\n",
        "Both:  1\n",
        "Either 7 or 9: 87\n"
       ]
      }
     ],
     "prompt_number": 2
    },
    {
     "cell_type": "code",
     "collapsed": false,
     "input": [
      "bad_list[:5]"
     ],
     "language": "python",
     "metadata": {},
     "outputs": [
      {
       "metadata": {},
       "output_type": "pyout",
       "prompt_number": 5,
       "text": [
        "P7R40027    3FGL J0008.5+6853 \n",
        "P7R40057    3FGL J0021.6-6835 \n",
        "P7R40075    3FGL J0028.8+1951 \n",
        "P7R40152    3FGL J0102.1+0943 \n",
        "P7R40404    3FGL J0242.1-0534 \n",
        "Name: name3, dtype: object"
       ]
      }
     ],
     "prompt_number": 5
    },
    {
     "cell_type": "markdown",
     "metadata": {},
     "source": [
      "###Define, and execute code to make maps"
     ]
    },
    {
     "cell_type": "code",
     "collapsed": false,
     "input": [
      "def generate_tsmaps(catname):\n",
      "    if catname[-1]!=' ' and catname[-1]!='c': catname+=' ' # has to have a blank on the end, or 'c'\n",
      "    if catname[0]=='J': catname = '3FGL '+catname\n",
      "    select = cat_subset.name3==catname #'3FGL J0536.4-3347 '\n",
      "    if sum(select)!=1:\n",
      "        print 'Require to find one entry: failed for %s' % catname\n",
      "        return\n",
      "    entry =cat_subset[select];\n",
      "    name = entry.index.values[0]\n",
      "    if name[:3]=='PSR' and name[3]!=' ': \n",
      "        name = 'PSR '+name[3:]\n",
      "    location = float(entry.ra.values[0]),float(entry.dec.values[0]); \n",
      "    print '='*80\n",
      "    print '   Processing %s, nickname %s, at (%.3f, %.3f)' % (catname, name, location[0],location[1])\n",
      "    #Load the pointlike analysis code, select the ROI for the source (by the ra,dec location)\n",
      "    roi = main.ROI('.', location)\n",
      "    roi.print_summary()\n",
      "    #Finally, plot the SED and TS map for this source\n",
      "    s = roi.get_source(name)\n",
      "    if sum(s.free)==0:\n",
      "        roi.thaw('Norm')\n",
      "    tsp= roi.plot_tsmap(name, nolegend=True, tsplot=True, tsfits=True, outdir='tsmap_3fgl');\n",
      "    ellipse = map(float, [entry.ra,entry.dec, entry.a95, entry.b95, entry.ang95])\n",
      "    tsp.overplot(ellipse, contours=[1.0], lw=2, ls='-')\n",
      "    ax = plt.gca()\n",
      "    ax.set_title(catname)\n",
      "    plt.savefig('tsmap_3fgl/'+catname.replace(' ','_').replace('+','p')+'tsmap.jpg')\n",
      "    #roi.plot_sed(name);\n",
      "    #plt.savefig('sedfig/'+catname.replace(' ','_').replace('+','p')+'sed.png')\n",
      "    return roi, tsp"
     ],
     "language": "python",
     "metadata": {},
     "outputs": [],
     "prompt_number": 6
    },
    {
     "cell_type": "code",
     "collapsed": false,
     "input": [
      "map(generate_tsmaps, bad_list[:5])"
     ],
     "language": "python",
     "metadata": {},
     "outputs": [
      {
       "output_type": "stream",
       "stream": "stdout",
       "text": [
        "================================================================================\n",
        "   Processing 3FGL J0008.5+6853 , nickname P7R40027, at (2.141, 68.887)\n",
        "FT file(s) \"/afs/slac/g/glast/groups/catalog//pointlike/fermi/data/../../P7_P202/Source/*.fits\" not found: assume None to test for valid binfile\n",
        "FT file(s) \"/afs/slac/g/glast/groups/catalog//pointlike/fermi/data/../../P7_P202/ft2_4years.fits\" not found: assume None to test for valid binfile"
       ]
      },
      {
       "output_type": "stream",
       "stream": "stdout",
       "text": [
        "\n",
        "77 total sources: 0 extended, 4 global"
       ]
      },
      {
       "output_type": "stream",
       "stream": "stdout",
       "text": [
        "\n",
        "------------------------------------------------------------------------------------------"
       ]
      },
      {
       "output_type": "stream",
       "stream": "stdout",
       "text": [
        " \n",
        "\t Nearby sources within 5.0 degrees HP12_0759\n",
        "name               dist        ra       dec        TS eflux(eV)    index   energy   beta/b\n",
        "P7R43687            1.9   359.107    67.413        55       6.9*    2.45!    1542     0"
       ]
      },
      {
       "output_type": "stream",
       "stream": "stdout",
       "text": [
        "\n",
        "P7R43677G           2.0   358.864    69.651        36       4.0*    2.43!    1608     0"
       ]
      },
      {
       "output_type": "stream",
       "stream": "stdout",
       "text": [
        "\n",
        "P7R43674P           2.2   358.337    66.659        35       4.7*    2.35!    1954     0"
       ]
      },
      {
       "output_type": "stream",
       "stream": "stdout",
       "text": [
        "\n",
        "P7R40013            2.4     1.055    67.959        79       7.8*    2.48!    1564     0"
       ]
      },
      {
       "output_type": "stream",
       "stream": "stdout",
       "text": [
        "\n",
        "P7R43677            2.7   358.842    66.155                 0.0     2.50     1203     0\n",
        "P7R40027            2.8     2.141    68.887        54       6.0*    2.48!    1095     0"
       ]
      },
      {
       "output_type": "stream",
       "stream": "stdout",
       "text": [
        "\n",
        "P7R40000B           3.3     0.038    65.752                 8.5     2.41     1797     0\n",
        "P7R40026            3.7     2.191    65.968                 8.3     2.46     1198     0\n",
        "P7R40032GP          3.8     3.110    70.672                 2.2     2.12     3496     0\n",
        "------------------------------------------------------------------------------------------ \n",
        "\tDiffuse sources\n",
        "------------------------------------------------------------------------------------------\n",
        "limb                        0.66       1.04 \n",
        "ring                        1.00       0.00 \n",
        "isotrop                     0.80!\n",
        "SunMoon                     1.00 \n",
        "------------------------------------------------------------------------------------------\n",
        "setting size from 2.39 to 2.0"
       ]
      },
      {
       "output_type": "stream",
       "stream": "stdout",
       "text": [
        "\n",
        "TSplot: filling 225 pixels (size=2.00, npix=15)...\n"
       ]
      },
      {
       "output_type": "stream",
       "stream": "stdout",
       "text": [
        "saving tsplot to tsmap_3fgl/P7R40027_tsmap.jpg..."
       ]
      },
      {
       "output_type": "stream",
       "stream": "stdout",
       "text": [
        "\n",
        "saved fits format to tsmap_3fgl/P7R40027_tsmap.fits"
       ]
      },
      {
       "output_type": "stream",
       "stream": "stdout",
       "text": [
        "\n",
        "================================================================================"
       ]
      },
      {
       "output_type": "stream",
       "stream": "stdout",
       "text": [
        "\n",
        "   Processing 3FGL J0021.6-6835 , nickname P7R40057, at (5.409, -68.592)\n",
        "FT file(s) \"/afs/slac/g/glast/groups/catalog//pointlike/fermi/data/../../P7_P202/Source/*.fits\" not found: assume None to test for valid binfile\n",
        "FT file(s) \"/afs/slac/g/glast/groups/catalog//pointlike/fermi/data/../../P7_P202/ft2_4years.fits\" not found: assume None to test for valid binfile\n",
        "63 total sources: 1 extended, 4 global"
       ]
      },
      {
       "output_type": "stream",
       "stream": "stdout",
       "text": [
        "\n",
        "------------------------------------------------------------------------------------------"
       ]
      },
      {
       "output_type": "stream",
       "stream": "stdout",
       "text": [
        " \n",
        "\t Nearby sources within 5.0 degrees HP12_1501\n",
        "name               dist        ra       dec        TS eflux(eV)    index   energy   beta/b\n",
        "P7R40078            0.9     7.296   -70.755       155       4.7*    2.21!    1517     0\n",
        "P7R40065            1.3     5.982   -72.065      2342      15.9!    1.73!     885     0.40*"
       ]
      },
      {
       "output_type": "stream",
       "stream": "stdout",
       "text": [
        "\n",
        "P7R40114A           2.2    11.467   -71.041        17       1.2*    1.95*    3544     0\n",
        "P7R40057            2.3     5.409   -68.592        33       2.2*    2.59!     657     0"
       ]
      },
      {
       "output_type": "stream",
       "stream": "stdout",
       "text": [
        "\n",
        "P7R40000D           3.3     0.279   -73.886        12       0.9*    1.87*    4296     0\n",
        "P7R40114B           3.4    11.589   -73.478                 2.2     2.35     1556     0"
       ]
      },
      {
       "output_type": "stream",
       "stream": "stdout",
       "text": [
        "\n",
        "SMC                 3.7    14.689   -72.700                18.5     2.15      804     0.11 \n",
        "P7R40004            3.8     0.524   -67.370                 2.2     2.02     2452     0\n",
        "P7R43647            4.4   354.691   -74.020                 3.9     1.85     3154     0\n",
        "P7R40069            4.8     6.656   -75.557                 1.6     2.18     1641     0"
       ]
      },
      {
       "output_type": "stream",
       "stream": "stdout",
       "text": [
        "\n",
        "------------------------------------------------------------------------------------------ \n",
        "\tDiffuse sources\n",
        "------------------------------------------------------------------------------------------\n",
        "limb                        0.68       1.72 \n",
        "ring                        1.00       0.00 \n",
        "isotrop                     0.84!\n",
        "SunMoon                     1.00 \n",
        "------------------------------------------------------------------------------------------\n",
        "setting size from 4.36 to 2.0"
       ]
      },
      {
       "output_type": "stream",
       "stream": "stdout",
       "text": [
        "\n",
        "TSplot: filling 225 pixels (size=2.00, npix=15)...\n"
       ]
      },
      {
       "output_type": "stream",
       "stream": "stdout",
       "text": [
        "saving tsplot to tsmap_3fgl/P7R40057_tsmap.jpg..."
       ]
      },
      {
       "output_type": "stream",
       "stream": "stdout",
       "text": [
        "\n",
        "saved fits format to tsmap_3fgl/P7R40057_tsmap.fits"
       ]
      },
      {
       "output_type": "stream",
       "stream": "stdout",
       "text": [
        "\n",
        "================================================================================"
       ]
      },
      {
       "output_type": "stream",
       "stream": "stdout",
       "text": [
        "\n",
        "   Processing 3FGL J0028.8+1951 , nickname P7R40075, at (7.201, 19.851)\n",
        "FT file(s) \"/afs/slac/g/glast/groups/catalog//pointlike/fermi/data/../../P7_P202/Source/*.fits\" not found: assume None to test for valid binfile\n",
        "FT file(s) \"/afs/slac/g/glast/groups/catalog//pointlike/fermi/data/../../P7_P202/ft2_4years.fits\" not found: assume None to test for valid binfile\n",
        "53 total sources: 0 extended, 3 global"
       ]
      },
      {
       "output_type": "stream",
       "stream": "stdout",
       "text": [
        "\n",
        "------------------------------------------------------------------------------------------"
       ]
      },
      {
       "output_type": "stream",
       "stream": "stdout",
       "text": [
        " \n",
        "\t Nearby sources within 5.0 degrees HP12_1431\n",
        "name               dist        ra       dec        TS eflux(eV)    index   energy   beta/b\n",
        "P7R40075            1.0     7.201    19.851        34       2.9*    2.43!     847     0\n",
        "P7R40055            2.5     4.862    20.366        20       1.4*    2.02*    3049     0"
       ]
      },
      {
       "output_type": "stream",
       "stream": "stdout",
       "text": [
        "\n",
        "P7R40113            3.6    11.349    21.446                 9.9     1.89     2379     0\n",
        "P7R40105            3.7    10.518    23.305                 2.6     2.26     1229     0\n",
        "P7R40107B           4.1    10.752    18.093                 1.4     2.22     2785     0\n",
        "P7R40034P           4.2     3.426    19.117                 1.1     2.14     1000     0"
       ]
      },
      {
       "output_type": "stream",
       "stream": "stdout",
       "text": [
        "\n",
        "P7R40119            4.5    12.013    22.601                 7.1     2.35      865     0\n",
        "P7R40047            4.8     4.135    17.221                 2.0     2.50      777     0\n",
        "P7R40065P           5.0     5.994    16.035                 1.2     2.04     3105     0\n",
        "------------------------------------------------------------------------------------------ \n",
        "\tDiffuse sources\n",
        "------------------------------------------------------------------------------------------\n",
        "ring                        1.00       0.00 \n",
        "isotrop                     1.02!\n",
        "SunMoon                     1.00 \n",
        "------------------------------------------------------------------------------------------\n",
        "TSplot: filling 225 pixels (size=0.81, npix=15)..."
       ]
      },
      {
       "output_type": "stream",
       "stream": "stdout",
       "text": [
        "\n"
       ]
      },
      {
       "output_type": "stream",
       "stream": "stdout",
       "text": [
        "saving tsplot to tsmap_3fgl/P7R40075_tsmap.jpg..."
       ]
      },
      {
       "output_type": "stream",
       "stream": "stdout",
       "text": [
        "\n",
        "saved fits format to tsmap_3fgl/P7R40075_tsmap.fits"
       ]
      },
      {
       "output_type": "stream",
       "stream": "stdout",
       "text": [
        "\n",
        "================================================================================"
       ]
      },
      {
       "output_type": "stream",
       "stream": "stdout",
       "text": [
        "\n",
        "   Processing 3FGL J0102.1+0943 , nickname P7R40152, at (15.540, 9.728)\n",
        "FT file(s) \"/afs/slac/g/glast/groups/catalog//pointlike/fermi/data/../../P7_P202/Source/*.fits\" not found: assume None to test for valid binfile\n",
        "FT file(s) \"/afs/slac/g/glast/groups/catalog//pointlike/fermi/data/../../P7_P202/ft2_4years.fits\" not found: assume None to test for valid binfile\n",
        "61 total sources: 0 extended, 3 global"
       ]
      },
      {
       "output_type": "stream",
       "stream": "stdout",
       "text": [
        "\n",
        "------------------------------------------------------------------------------------------"
       ]
      },
      {
       "output_type": "stream",
       "stream": "stdout",
       "text": [
        " \n",
        "\t Nearby sources within 5.0 degrees HP12_1560\n",
        "name               dist        ra       dec        TS eflux(eV)    index   energy   beta/b\n",
        "P7R40150            1.2    15.068     7.766       552       9.5!    1.58!    1955     0.16*\n",
        "P7R40152            1.9    15.540     9.728        67       3.5*    2.17!    1615     0"
       ]
      },
      {
       "output_type": "stream",
       "stream": "stdout",
       "text": [
        "\n",
        "P7R40115A           2.7    11.695     7.134                 0.9     2.18     3139     0\n",
        "P7R40107A           3.5    10.691     7.698                 1.1     1.76     5095     0\n",
        "P7R40114            4.6    11.435    12.288                 6.7     2.00     2131     0\n",
        "P7R40162A           4.6    16.933     4.897                 0.7     2.08     2890     0"
       ]
      },
      {
       "output_type": "stream",
       "stream": "stdout",
       "text": [
        "\n",
        "P7R40175            4.8    17.877     5.586                 1.9     1.91     3797     0\n",
        "------------------------------------------------------------------------------------------ \n",
        "\tDiffuse sources\n",
        "------------------------------------------------------------------------------------------\n",
        "ring                        1.00       0.00 \n",
        "isotrop                     0.95!\n",
        "SunMoon                     1.00 \n",
        "------------------------------------------------------------------------------------------\n",
        "TSplot: filling 225 pixels (size=0.59, npix=15)..."
       ]
      },
      {
       "output_type": "stream",
       "stream": "stdout",
       "text": [
        "\n"
       ]
      },
      {
       "output_type": "stream",
       "stream": "stdout",
       "text": [
        "saving tsplot to tsmap_3fgl/P7R40152_tsmap.jpg..."
       ]
      },
      {
       "output_type": "stream",
       "stream": "stdout",
       "text": [
        "\n",
        "saved fits format to tsmap_3fgl/P7R40152_tsmap.fits"
       ]
      },
      {
       "output_type": "stream",
       "stream": "stdout",
       "text": [
        "\n",
        "================================================================================"
       ]
      },
      {
       "output_type": "stream",
       "stream": "stdout",
       "text": [
        "\n",
        "   Processing 3FGL J0242.1-0534 , nickname P7R40404, at (40.532, -5.570)\n",
        "FT file(s) \"/afs/slac/g/glast/groups/catalog//pointlike/fermi/data/../../P7_P202/Source/*.fits\" not found: assume None to test for valid binfile\n",
        "FT file(s) \"/afs/slac/g/glast/groups/catalog//pointlike/fermi/data/../../P7_P202/ft2_4years.fits\" not found: assume None to test for valid binfile\n",
        "53 total sources: 0 extended, 3 global"
       ]
      },
      {
       "output_type": "stream",
       "stream": "stdout",
       "text": [
        "\n",
        "------------------------------------------------------------------------------------------"
       ]
      },
      {
       "output_type": "stream",
       "stream": "stdout",
       "text": [
        " \n",
        "\t Nearby sources within 5.0 degrees HP12_1565\n",
        "name               dist        ra       dec        TS eflux(eV)    index   energy   beta/b\n",
        "P7R40396            0.3    40.001    -2.899        28       2.3*    2.42!     853     0\n",
        "P7R40404            2.6    40.532    -5.570        22       2.2*    2.59!     679     0"
       ]
      },
      {
       "output_type": "stream",
       "stream": "stdout",
       "text": [
        "\n",
        "P7R40371            2.9    37.460    -3.578                 1.3     2.26     1542     0\n",
        "P7R40403            3.0    40.680    -0.026       120       4.5*    2.36!     933     0"
       ]
      },
      {
       "output_type": "stream",
       "stream": "stdout",
       "text": [
        "\n",
        "P7R40429            3.4    43.257    -1.420                 2.2     1.94     2487     0\n",
        "P7R40381AG          3.9    38.564    -6.498                 1.7     1.77     5025     0\n",
        "P7R40359            4.6    36.756    -5.961                 1.9     2.28     1205     0\n",
        "------------------------------------------------------------------------------------------ \n",
        "\tDiffuse sources\n",
        "------------------------------------------------------------------------------------------\n",
        "ring                        1.00       0.00 \n",
        "isotrop                     0.89!\n",
        "SunMoon                     1.00 \n",
        "------------------------------------------------------------------------------------------\n",
        "setting size from 2.97 to 2.0"
       ]
      },
      {
       "output_type": "stream",
       "stream": "stdout",
       "text": [
        "\n",
        "TSplot: filling 225 pixels (size=2.00, npix=15)...\n"
       ]
      },
      {
       "output_type": "stream",
       "stream": "stdout",
       "text": [
        "saving tsplot to tsmap_3fgl/P7R40404_tsmap.jpg..."
       ]
      },
      {
       "output_type": "stream",
       "stream": "stdout",
       "text": [
        "\n",
        "saved fits format to tsmap_3fgl/P7R40404_tsmap.fits"
       ]
      },
      {
       "output_type": "stream",
       "stream": "stdout",
       "text": [
        "\n"
       ]
      },
      {
       "metadata": {},
       "output_type": "pyout",
       "prompt_number": 7,
       "text": [
        "[(uw.like2.main.ROI :\n",
        "\tuw.like2.configuration.Configuration: /nfs/farm/g/glast/u55/catalog/pointlike/skymodels/P202/uw29/.\n",
        "\tuw.like2.from_healpix.ROImodelFromHealpix : 4 global, 5 local, 77 total sources for ROI 759,\n",
        "  <uw.utilities.image.TSplot at 0x7fcf0b7b6650>),\n",
        " (uw.like2.main.ROI :\n",
        "\tuw.like2.configuration.Configuration: /nfs/farm/g/glast/u55/catalog/pointlike/skymodels/P202/uw29/.\n",
        "\tuw.like2.from_healpix.ROImodelFromHealpix : 4 global, 5 local, 63 total sources for ROI 1501,\n",
        "  <uw.utilities.image.TSplot at 0x7fcf0a94e590>),\n",
        " (uw.like2.main.ROI :\n",
        "\tuw.like2.configuration.Configuration: /nfs/farm/g/glast/u55/catalog/pointlike/skymodels/P202/uw29/.\n",
        "\tuw.like2.from_healpix.ROImodelFromHealpix : 3 global, 2 local, 53 total sources for ROI 1431,\n",
        "  <uw.utilities.image.TSplot at 0x7fcf0b711550>),\n",
        " (uw.like2.main.ROI :\n",
        "\tuw.like2.configuration.Configuration: /nfs/farm/g/glast/u55/catalog/pointlike/skymodels/P202/uw29/.\n",
        "\tuw.like2.from_healpix.ROImodelFromHealpix : 3 global, 2 local, 61 total sources for ROI 1560,\n",
        "  <uw.utilities.image.TSplot at 0x7fcf09910d10>),\n",
        " (uw.like2.main.ROI :\n",
        "\tuw.like2.configuration.Configuration: /nfs/farm/g/glast/u55/catalog/pointlike/skymodels/P202/uw29/.\n",
        "\tuw.like2.from_healpix.ROImodelFromHealpix : 3 global, 3 local, 53 total sources for ROI 1565,\n",
        "  <uw.utilities.image.TSplot at 0x7fcf09195610>)]"
       ]
      },
      {
       "metadata": {},
       "output_type": "display_data",
       "png": "[encoded data removed]",
       "text": [
        "<matplotlib.figure.Figure at 0x7fcf0b20f590>"
       ]
      }
     ],
     "prompt_number": 7
    },
    {
     "cell_type": "code",
     "collapsed": false,
     "input": [
      "map(generate_tsmaps, bad_list[67:])"
     ],
     "language": "python",
     "metadata": {},
     "outputs": [
      {
       "output_type": "stream",
       "stream": "stdout",
       "text": [
        "================================================================================\n",
        "   Processing 3FGL J1829.2+2731 , nickname P7R42858, at (277.313, 27.525)\n",
        "FT file(s) \"/afs/slac/g/glast/groups/catalog//pointlike/fermi/data/../../P7_P202/Source/*.fits\" not found: assume None to test for valid binfile"
       ]
      },
      {
       "output_type": "stream",
       "stream": "stdout",
       "text": [
        "\n",
        "FT file(s) \"/afs/slac/g/glast/groups/catalog//pointlike/fermi/data/../../P7_P202/ft2_4years.fits\" not found: assume None to test for valid binfile"
       ]
      },
      {
       "output_type": "stream",
       "stream": "stdout",
       "text": [
        "\n",
        "51 total sources: 0 extended, 4 global"
       ]
      },
      {
       "output_type": "stream",
       "stream": "stdout",
       "text": [
        "\n",
        "------------------------------------------------------------------------------------------"
       ]
      },
      {
       "output_type": "stream",
       "stream": "stdout",
       "text": [
        " \n",
        "\t Nearby sources within 5.0 degrees HP12_0559\n",
        "name               dist        ra       dec        TS eflux(eV)    index   energy   beta/b\n",
        "P7R42809            1.2   273.421    28.336        28       2.2*    2.15!    2357     0\n",
        "P7R42799            1.9   272.432    29.158       247       7.7*    1.85!    3135     0"
       ]
      },
      {
       "output_type": "stream",
       "stream": "stdout",
       "text": [
        "\n",
        "P7R42858            2.8   277.313    27.525        64       4.8*    2.67!     544     0\n",
        "P7R42783            2.9   271.555    27.749                 2.4     2.58      890     0"
       ]
      },
      {
       "output_type": "stream",
       "stream": "stdout",
       "text": [
        "\n",
        "P7R42811            2.9   273.413    31.732                 6.7     1.88     1022     0.21 \n",
        "P7R42820G           3.5   274.434    25.505                 2.5     2.54      854     0\n",
        "P7R42757G           4.0   270.034    28.216                 1.3     1.95     4774     0\n",
        "P7R42860            4.3   277.306    32.498                 2.6     2.20     1484     0"
       ]
      },
      {
       "output_type": "stream",
       "stream": "stdout",
       "text": [
        "\n",
        "P7R42892            4.3   279.129    30.694                 2.1     2.44     1365     0\n",
        "P7R42777            4.6   271.039    25.543                 3.5     2.84      444     0\n",
        "P7R42891            4.7   279.098    31.622                 4.8     2.25     1799     0\n",
        "------------------------------------------------------------------------------------------ \n",
        "\tDiffuse sources\n",
        "------------------------------------------------------------------------------------------\n",
        "limb                        0.11       0.00 \n",
        "ring                        1.00       0.00 \n",
        "isotrop                     1.03!\n",
        "SunMoon                     1.00 \n",
        "------------------------------------------------------------------------------------------\n",
        "setting size from 2.17 to 2.0"
       ]
      },
      {
       "output_type": "stream",
       "stream": "stdout",
       "text": [
        "\n",
        "TSplot: filling 225 pixels (size=2.00, npix=15)...\n"
       ]
      },
      {
       "output_type": "stream",
       "stream": "stdout",
       "text": [
        "saving tsplot to tsmap_3fgl/P7R42858_tsmap.jpg..."
       ]
      },
      {
       "output_type": "stream",
       "stream": "stdout",
       "text": [
        "\n",
        "saved fits format to tsmap_3fgl/P7R42858_tsmap.fits"
       ]
      },
      {
       "output_type": "stream",
       "stream": "stdout",
       "text": [
        "\n",
        "================================================================================"
       ]
      },
      {
       "output_type": "stream",
       "stream": "stdout",
       "text": [
        "\n",
        "   Processing 3FGL J1829.9-0203c, nickname P7R42866A, at (277.488, -2.054)\n",
        "FT file(s) \"/afs/slac/g/glast/groups/catalog//pointlike/fermi/data/../../P7_P202/Source/*.fits\" not found: assume None to test for valid binfile\n",
        "FT file(s) \"/afs/slac/g/glast/groups/catalog//pointlike/fermi/data/../../P7_P202/ft2_4years.fits\" not found: assume None to test for valid binfile\n",
        "102 total sources: 4 extended, 3 global"
       ]
      },
      {
       "output_type": "stream",
       "stream": "stdout",
       "text": [
        "\n",
        "------------------------------------------------------------------------------------------"
       ]
      },
      {
       "output_type": "stream",
       "stream": "stdout",
       "text": [
        " \n",
        "\t Nearby sources within 5.0 degrees HP12_0796\n",
        "name               dist        ra       dec        TS eflux(eV)    index   energy   beta/b\n",
        "P7R42876G           1.1   277.948    -1.961        44      17.1*    2.62!    2374     0"
       ]
      },
      {
       "output_type": "stream",
       "stream": "stdout",
       "text": [
        "\n",
        "P7R42861G           1.4   277.333    -1.590        27       8.3*    2.34!    3430     0"
       ]
      },
      {
       "output_type": "stream",
       "stream": "stdout",
       "text": [
        "\n",
        "P7R42866A           1.5   277.488    -2.054        55      16.9*    2.52!    2454     0"
       ]
      },
      {
       "output_type": "stream",
       "stream": "stdout",
       "text": [
        "\n",
        "P7R42876            1.5   277.942    -2.501        44      26.3*    2.77!    1419     0"
       ]
      },
      {
       "output_type": "stream",
       "stream": "stdout",
       "text": [
        "\n",
        "P7R42913            3.2   280.928    -3.377                32.9     2.34      969     0.36 \n",
        "P7R42904            3.3   280.039    -4.214                37.5     2.59     1802     0\n",
        "P7R42931            3.5   282.118    -1.693                26.9     2.19     1798     0.55 \n",
        "P7R42912            3.5   280.762    -3.989                34.0     2.54     2189     0"
       ]
      },
      {
       "output_type": "stream",
       "stream": "stdout",
       "text": [
        "\n",
        "P7R42918            3.5   281.100    -3.747                16.8     2.69     3449     1.01 \n",
        "P7R42934            3.7   282.355    -0.952                21.7     2.25     3495     0.26 \n",
        "P7R42927            3.7   282.397    -1.413                45.5     2.66     1268     0\n",
        "P7R42938            4.0   282.632    -0.405                32.5     2.53     2199     0"
       ]
      },
      {
       "output_type": "stream",
       "stream": "stdout",
       "text": [
        "\n",
        "P7R42906P           4.0   280.279    -4.867                17.0     2.31     4273     0\n",
        "HESS J1841-055      4.5   280.285    -5.337                73.9     1.78    12794     0\n",
        "PSR J1838-0537      4.6   279.732    -5.626                94.1     1.86     6091     1"
       ]
      },
      {
       "output_type": "stream",
       "stream": "stdout",
       "text": [
        "\n",
        "P7R42943            4.8   283.301     0.109                25.5     2.55     1888     0\n",
        "P7R42896            4.9   279.848    -5.882                62.3     2.46     2672     0.33 \n",
        "------------------------------------------------------------------------------------------ \n",
        "\tDiffuse sources\n",
        "------------------------------------------------------------------------------------------\n",
        "ring                        1.00       0.00 \n",
        "isotrop                     0.10 \n",
        "SunMoon                     1.00 \n",
        "------------------------------------------------------------------------------------------\n",
        "TSplot: filling 225 pixels (size=1.53, npix=15)..."
       ]
      },
      {
       "output_type": "stream",
       "stream": "stdout",
       "text": [
        "\n"
       ]
      },
      {
       "output_type": "stream",
       "stream": "stdout",
       "text": [
        "saving tsplot to tsmap_3fgl/P7R42866A_tsmap.jpg..."
       ]
      },
      {
       "output_type": "stream",
       "stream": "stdout",
       "text": [
        "\n",
        "saved fits format to tsmap_3fgl/P7R42866A_tsmap.fits"
       ]
      },
      {
       "output_type": "stream",
       "stream": "stdout",
       "text": [
        "\n",
        "================================================================================"
       ]
      },
      {
       "output_type": "stream",
       "stream": "stdout",
       "text": [
        "\n",
        "   Processing 3FGL J1833.9-0711 , nickname P7R42881G, at (278.480, -7.193)\n",
        "FT file(s) \"/afs/slac/g/glast/groups/catalog//pointlike/fermi/data/../../P7_P202/Source/*.fits\" not found: assume None to test for valid binfile\n",
        "FT file(s) \"/afs/slac/g/glast/groups/catalog//pointlike/fermi/data/../../P7_P202/ft2_4years.fits\" not found: assume None to test for valid binfile\n",
        "109 total sources: 5 extended, 3 global"
       ]
      },
      {
       "output_type": "stream",
       "stream": "stdout",
       "text": [
        "\n",
        "------------------------------------------------------------------------------------------"
       ]
      },
      {
       "output_type": "stream",
       "stream": "stdout",
       "text": [
        " \n",
        "\t Nearby sources within 5.0 degrees HP12_0843\n",
        "name               dist        ra       dec        TS eflux(eV)    index   energy   beta/b\n",
        "P7R42896            0.1   279.848    -5.882       577      62.3!    2.46!    2672     0.33*"
       ]
      },
      {
       "output_type": "stream",
       "stream": "stdout",
       "text": [
        "\n",
        "PSR J1838-0537      0.3   279.732    -5.626       894      94.1*    1.86!    6091*    1"
       ]
      },
      {
       "output_type": "stream",
       "stream": "stdout",
       "text": [
        "\n",
        "P7R42894G           0.4   279.488    -6.126        79      35.5*    2.42!    3312     0"
       ]
      },
      {
       "output_type": "stream",
       "stream": "stdout",
       "text": [
        "\n",
        "HESS J1841-055      0.8   280.285    -5.337       204      73.9!    1.78!   12794     0"
       ]
      },
      {
       "output_type": "stream",
       "stream": "stdout",
       "text": [
        "\n",
        "P7R42901            0.8   279.728    -6.776        54      16.6*    1.89!    9293     0"
       ]
      },
      {
       "output_type": "stream",
       "stream": "stdout",
       "text": [
        "\n",
        "HESS J1837-069      1.2   279.145    -6.924       238      65.5!    2.00!    7592     0"
       ]
      },
      {
       "output_type": "stream",
       "stream": "stdout",
       "text": [
        "\n",
        "P7R42906P           1.2   280.279    -4.867        28      17.0*    2.31!    4273     0"
       ]
      },
      {
       "output_type": "stream",
       "stream": "stdout",
       "text": [
        "\n",
        "P7R42886            1.2   278.713    -6.511        24       9.2*    2.08!    7753     0"
       ]
      },
      {
       "output_type": "stream",
       "stream": "stdout",
       "text": [
        "\n",
        "P7R42894P           1.4   279.402    -7.297        23       9.3*    1.88*   15256     0"
       ]
      },
      {
       "output_type": "stream",
       "stream": "stdout",
       "text": [
        "\n",
        "P7R42885            1.5   278.665    -6.990       138      31.9*    2.09!    6600     0"
       ]
      },
      {
       "output_type": "stream",
       "stream": "stdout",
       "text": [
        "\n",
        "P7R42904            1.7   280.039    -4.214       100      37.5*    2.59!    1802     0"
       ]
      },
      {
       "output_type": "stream",
       "stream": "stdout",
       "text": [
        "\n",
        "P7R42881G           1.8   278.480    -7.193        63      18.4*    1.94!    9372     0"
       ]
      },
      {
       "output_type": "stream",
       "stream": "stdout",
       "text": [
        "\n",
        "P7R42912            2.2   280.762    -3.989        73      34.0*    2.54!    2189     0"
       ]
      },
      {
       "output_type": "stream",
       "stream": "stdout",
       "text": [
        "\n",
        "P7R42918            2.6   281.100    -3.747       138      16.8*    2.69!    3449     1.01*"
       ]
      },
      {
       "output_type": "stream",
       "stream": "stdout",
       "text": [
        "\n",
        "P7R42913            2.8   280.928    -3.377       175      32.9*    2.34!     969     0.36*"
       ]
      },
      {
       "output_type": "stream",
       "stream": "stdout",
       "text": [
        "\n",
        "P7R42883            3.0   278.629    -8.684        96      21.3*    1.85!    9229     0"
       ]
      },
      {
       "output_type": "stream",
       "stream": "stdout",
       "text": [
        "\n",
        "P7R42921G           3.1   281.489    -8.495                 9.8     2.55     1615     0\n",
        "P7R42846            3.7   276.099    -6.340                 5.3     1.53     3382     1.05 \n",
        "P7R42876            3.9   277.942    -2.501                26.3     2.77     1419     0\n",
        "P7R42855            4.0   276.908    -8.771                29.5     2.59     1457     0"
       ]
      },
      {
       "output_type": "stream",
       "stream": "stdout",
       "text": [
        "\n",
        "P7R42876G           4.4   277.948    -1.961                17.1     2.62     2374     0\n",
        "P7R42866A           4.5   277.488    -2.054                16.9     2.52     2454     0\n",
        "PSR J1833-1034      4.8   278.394   -10.560                74.1     2.61    69945     1"
       ]
      },
      {
       "output_type": "stream",
       "stream": "stdout",
       "text": [
        "\n",
        "P7R42931            4.8   282.118    -1.693                26.9     2.19     1798     0.55 \n",
        "------------------------------------------------------------------------------------------ \n",
        "\tDiffuse sources\n",
        "------------------------------------------------------------------------------------------\n",
        "ring                        1.00       0.00 \n",
        "isotrop                     1.00 \n",
        "SunMoon                     1.00 \n",
        "------------------------------------------------------------------------------------------\n",
        "TSplot: filling 225 pixels (size=0.74, npix=15)..."
       ]
      },
      {
       "output_type": "stream",
       "stream": "stdout",
       "text": [
        "\n"
       ]
      },
      {
       "output_type": "stream",
       "stream": "stdout",
       "text": [
        "saving tsplot to tsmap_3fgl/P7R42881G_tsmap.jpg..."
       ]
      },
      {
       "output_type": "stream",
       "stream": "stdout",
       "text": [
        "\n",
        "saved fits format to tsmap_3fgl/P7R42881G_tsmap.fits"
       ]
      },
      {
       "output_type": "stream",
       "stream": "stdout",
       "text": [
        "\n",
        "================================================================================"
       ]
      },
      {
       "output_type": "stream",
       "stream": "stdout",
       "text": [
        "\n",
        "   Processing 3FGL J1848.6+3232 , nickname P7R42929, at (282.157, 32.544)\n",
        "FT file(s) \"/afs/slac/g/glast/groups/catalog//pointlike/fermi/data/../../P7_P202/Source/*.fits\" not found: assume None to test for valid binfile\n",
        "FT file(s) \"/afs/slac/g/glast/groups/catalog//pointlike/fermi/data/../../P7_P202/ft2_4years.fits\" not found: assume None to test for valid binfile\n",
        "50 total sources: 0 extended, 4 global"
       ]
      },
      {
       "output_type": "stream",
       "stream": "stdout",
       "text": [
        "\n",
        "------------------------------------------------------------------------------------------"
       ]
      },
      {
       "output_type": "stream",
       "stream": "stdout",
       "text": [
        " \n",
        "\t Nearby sources within 5.0 degrees HP12_0656\n",
        "name               dist        ra       dec        TS eflux(eV)    index   energy   beta/b\n",
        "P7R42929            2.4   282.157    32.545       531      14.3!    2.04!     570     0.29*\n",
        "P7R42928            2.5   282.107    32.282                18.1     2.39      785     0"
       ]
      },
      {
       "output_type": "stream",
       "stream": "stdout",
       "text": [
        "\n",
        "P7R42979            3.5   286.138    36.459                 2.5     1.85     4255     0\n",
        "P7R42909            3.8   280.442    32.313                 6.2     2.00     2985     0\n",
        "P7R42994            4.8   287.725    28.929                 2.6     1.48    12584     0\n",
        "------------------------------------------------------------------------------------------ \n",
        "\tDiffuse sources\n",
        "------------------------------------------------------------------------------------------\n",
        "limb                        0.18       0.11 \n",
        "ring                        1.00       0.00 \n",
        "isotrop                     1.08!\n",
        "SunMoon                     1.00 \n",
        "------------------------------------------------------------------------------------------\n",
        "TSplot: filling 225 pixels (size=0.39, npix=15)..."
       ]
      },
      {
       "output_type": "stream",
       "stream": "stdout",
       "text": [
        "\n"
       ]
      },
      {
       "output_type": "stream",
       "stream": "stdout",
       "text": [
        "saving tsplot to tsmap_3fgl/P7R42929_tsmap.jpg..."
       ]
      },
      {
       "output_type": "stream",
       "stream": "stdout",
       "text": [
        "\n",
        "saved fits format to tsmap_3fgl/P7R42929_tsmap.fits"
       ]
      },
      {
       "output_type": "stream",
       "stream": "stdout",
       "text": [
        "\n",
        "================================================================================"
       ]
      },
      {
       "output_type": "stream",
       "stream": "stdout",
       "text": [
        "\n",
        "   Processing 3FGL J1849.5-0124c, nickname P7R42927, at (282.397, -1.413)\n",
        "FT file(s) \"/afs/slac/g/glast/groups/catalog//pointlike/fermi/data/../../P7_P202/Source/*.fits\" not found: assume None to test for valid binfile\n",
        "FT file(s) \"/afs/slac/g/glast/groups/catalog//pointlike/fermi/data/../../P7_P202/ft2_4years.fits\" not found: assume None to test for valid binfile\n",
        "102 total sources: 5 extended, 3 global"
       ]
      },
      {
       "output_type": "stream",
       "stream": "stdout",
       "text": [
        "\n",
        "------------------------------------------------------------------------------------------"
       ]
      },
      {
       "output_type": "stream",
       "stream": "stdout",
       "text": [
        " \n",
        "\t Nearby sources within 5.0 degrees HP12_0844\n",
        "name               dist        ra       dec        TS eflux(eV)    index   energy   beta/b\n",
        "P7R42943            0.6   283.301     0.109        57      25.5*    2.55!    1888     0"
       ]
      },
      {
       "output_type": "stream",
       "stream": "stdout",
       "text": [
        "\n",
        "W44                 1.0   283.990     1.355      8360     326.2!    2.42!    1819     0.24!"
       ]
      },
      {
       "output_type": "stream",
       "stream": "stdout",
       "text": [
        "\n",
        "P7R42955            1.1   284.310     0.986        29      25.9*    2.21!    3103     0.40*"
       ]
      },
      {
       "output_type": "stream",
       "stream": "stdout",
       "text": [
        "\n",
        "P7R42942            1.2   283.209     1.972        83      29.8*    2.44!    2189     0"
       ]
      },
      {
       "output_type": "stream",
       "stream": "stdout",
       "text": [
        "\n",
        "P7R42938            1.3   282.632    -0.405        85      32.5*    2.53!    2199     0"
       ]
      },
      {
       "output_type": "stream",
       "stream": "stdout",
       "text": [
        "\n",
        "P7R42955G           1.5   284.471     1.498        29      27.1*    2.50!    3327     0"
       ]
      },
      {
       "output_type": "stream",
       "stream": "stdout",
       "text": [
        "\n",
        "P7R42958A           1.7   284.915     1.035        54      30.5*    2.78     2933     0"
       ]
      },
      {
       "output_type": "stream",
       "stream": "stdout",
       "text": [
        "\n",
        "P7R42934            1.9   282.355    -0.952       154      21.7*    2.25!    3495     0.26*"
       ]
      },
      {
       "output_type": "stream",
       "stream": "stdout",
       "text": [
        "\n",
        "P7R42958            1.9   284.490     2.170        54      23.1*    2.63!    2442     0.45*"
       ]
      },
      {
       "output_type": "stream",
       "stream": "stdout",
       "text": [
        "\n",
        "P7R42927            2.3   282.397    -1.413       112      45.5*    2.66!    1268     0"
       ]
      },
      {
       "output_type": "stream",
       "stream": "stdout",
       "text": [
        "\n",
        "P7R42931            2.7   282.118    -1.693       196      26.9*    2.19!    1798     0.55*"
       ]
      },
      {
       "output_type": "stream",
       "stream": "stdout",
       "text": [
        "\n",
        "P7R42956            2.7   284.474     3.133        18       9.5*    2.29!    3637     0"
       ]
      },
      {
       "output_type": "stream",
       "stream": "stdout",
       "text": [
        "\n",
        "P7R42978H           2.8   285.998     0.870                 6.0     2.11     4762     0\n",
        "P7R42972            3.1   285.399    -1.448                24.5     2.69     1024     0\n",
        "P7R42966G           3.4   284.489     3.928                24.0     2.50      200     0"
       ]
      },
      {
       "output_type": "stream",
       "stream": "stdout",
       "text": [
        "\n",
        "P7R42969            3.5   285.205     3.623                27.7     2.56     1111     0\n",
        "P7R42952            3.7   282.805     4.391                26.0     2.89      200     0\n",
        "P7R42958AH          3.9   285.097     4.192                12.6     2.25     3359     0"
       ]
      },
      {
       "output_type": "stream",
       "stream": "stdout",
       "text": [
        "\n",
        "P7R42948H           4.2   283.856     4.912                27.0     2.58      630     0\n",
        "P7R42990            4.6   287.202    -1.517                 4.7     1.48     1542     1.30 \n",
        "P7R42913            4.7   280.928    -3.377                32.9     2.34      969     0.36 "
       ]
      },
      {
       "output_type": "stream",
       "stream": "stdout",
       "text": [
        "\n",
        "P7R42918            5.0   281.100    -3.747                16.8     2.69     3449     1.01 \n",
        "------------------------------------------------------------------------------------------ \n",
        "\tDiffuse sources\n",
        "------------------------------------------------------------------------------------------\n",
        "ring                        1.00       0.00 \n",
        "isotrop                     0.10 \n",
        "SunMoon                     1.00 \n",
        "------------------------------------------------------------------------------------------\n",
        "TSplot: filling 225 pixels (size=0.93, npix=15)..."
       ]
      },
      {
       "output_type": "stream",
       "stream": "stdout",
       "text": [
        "\n"
       ]
      },
      {
       "output_type": "stream",
       "stream": "stdout",
       "text": [
        "saving tsplot to tsmap_3fgl/P7R42927_tsmap.jpg..."
       ]
      },
      {
       "output_type": "stream",
       "stream": "stdout",
       "text": [
        "\n",
        "saved fits format to tsmap_3fgl/P7R42927_tsmap.fits"
       ]
      },
      {
       "output_type": "stream",
       "stream": "stdout",
       "text": [
        "\n",
        "================================================================================"
       ]
      },
      {
       "output_type": "stream",
       "stream": "stdout",
       "text": [
        "\n",
        "   Processing 3FGL J1900.3+0411c, nickname P7R42958AH, at (285.098, 4.193)\n",
        "FT file(s) \"/afs/slac/g/glast/groups/catalog//pointlike/fermi/data/../../P7_P202/Source/*.fits\" not found: assume None to test for valid binfile\n",
        "FT file(s) \"/afs/slac/g/glast/groups/catalog//pointlike/fermi/data/../../P7_P202/ft2_4years.fits\" not found: assume None to test for valid binfile\n",
        "98 total sources: 4 extended, 3 global"
       ]
      },
      {
       "output_type": "stream",
       "stream": "stdout",
       "text": [
        "\n",
        "------------------------------------------------------------------------------------------"
       ]
      },
      {
       "output_type": "stream",
       "stream": "stdout",
       "text": [
        " \n",
        "\t Nearby sources within 5.0 degrees HP12_0845\n",
        "name               dist        ra       dec        TS eflux(eV)    index   energy   beta/b\n",
        "P7R42984            0.1   286.671     7.334       572      58.2!    2.20!    1351     0.16*"
       ]
      },
      {
       "output_type": "stream",
       "stream": "stdout",
       "text": [
        "\n",
        "P7R42980G           1.0   286.243     8.306        16       5.3*    2.09*    7064     0"
       ]
      },
      {
       "output_type": "stream",
       "stream": "stdout",
       "text": [
        "\n",
        "P7R42974P           1.1   285.657     6.932        40      12.4*    2.26!    4542     0"
       ]
      },
      {
       "output_type": "stream",
       "stream": "stdout",
       "text": [
        "\n",
        "P7R42969G           1.4   285.296     7.476        98      36.9*    2.91!     733     0"
       ]
      },
      {
       "output_type": "stream",
       "stream": "stdout",
       "text": [
        "\n",
        "PSR J1907+0602      1.4   286.986     6.039      5962     199.9!    1.94!    5503*    1"
       ]
      },
      {
       "output_type": "stream",
       "stream": "stdout",
       "text": [
        "\n",
        "P7R42995            2.0   287.744     9.101      1900     132.4!    2.27!    2236     0"
       ]
      },
      {
       "output_type": "stream",
       "stream": "stdout",
       "text": [
        "\n",
        "PSR J1913+0904      2.4   288.261     9.182       120      15.7*    0.88*    1378*    1"
       ]
      },
      {
       "output_type": "stream",
       "stream": "stdout",
       "text": [
        "\n",
        "P7R42948G           2.8   283.911     7.883                 8.8     2.47     1396     0\n",
        "P7R42990G           3.0   287.228    10.375                13.8     2.56     1415     0\n",
        "P7R43011G           3.3   288.802     9.908                13.9     2.40     1768     0\n",
        "P7R43022            3.5   290.007     6.420                 8.5     2.82      785     0"
       ]
      },
      {
       "output_type": "stream",
       "stream": "stdout",
       "text": [
        "\n",
        "P7R42958AH          3.6   285.097     4.192        46      12.6*    2.25!    3359     0"
       ]
      },
      {
       "output_type": "stream",
       "stream": "stdout",
       "text": [
        "\n",
        "P7R42938AG          3.7   282.985     7.399                 4.7     2.23     1387     0\n",
        "P7R42948H           3.7   283.856     4.912                27.0     2.58      630     0\n",
        "P7R43019H           4.0   289.761     4.874                 5.2     2.47     1601     0\n",
        "P7R42969            4.0   285.205     3.623                27.7     2.56     1111     0"
       ]
      },
      {
       "output_type": "stream",
       "stream": "stdout",
       "text": [
        "\n",
        "P7R42966G           4.1   284.489     3.928                24.0     2.50      200     0\n",
        "P7R43000G           4.4   287.931     3.130                 7.6     2.26     2940     0\n",
        "P7R43011C           4.5   289.000    11.216                33.5     2.75      683     0\n",
        "P7R42956            4.8   284.474     3.133                 9.5     2.29     3637     0"
       ]
      },
      {
       "output_type": "stream",
       "stream": "stdout",
       "text": [
        "\n",
        "P7R42952            4.9   282.805     4.391                26.0     2.89      200     0\n",
        "------------------------------------------------------------------------------------------ \n",
        "\tDiffuse sources\n",
        "------------------------------------------------------------------------------------------\n",
        "ring                        1.00       0.00 \n",
        "isotrop                     0.85*\n",
        "SunMoon                     1.00 \n",
        "------------------------------------------------------------------------------------------\n",
        "TSplot: filling 225 pixels (size=1.35, npix=15)..."
       ]
      },
      {
       "output_type": "stream",
       "stream": "stdout",
       "text": [
        "\n"
       ]
      },
      {
       "output_type": "stream",
       "stream": "stdout",
       "text": [
        "saving tsplot to tsmap_3fgl/P7R42958AH_tsmap.jpg..."
       ]
      },
      {
       "output_type": "stream",
       "stream": "stdout",
       "text": [
        "\n",
        "saved fits format to tsmap_3fgl/P7R42958AH_tsmap.fits"
       ]
      },
      {
       "output_type": "stream",
       "stream": "stdout",
       "text": [
        "\n",
        "================================================================================"
       ]
      },
      {
       "output_type": "stream",
       "stream": "stdout",
       "text": [
        "\n",
        "   Processing 3FGL J1913.0+0910 , nickname PSR J1913+0904, at (288.261, 9.182)\n",
        "FT file(s) \"/afs/slac/g/glast/groups/catalog//pointlike/fermi/data/../../P7_P202/Source/*.fits\" not found: assume None to test for valid binfile\n",
        "FT file(s) \"/afs/slac/g/glast/groups/catalog//pointlike/fermi/data/../../P7_P202/ft2_4years.fits\" not found: assume None to test for valid binfile\n",
        "98 total sources: 4 extended, 3 global"
       ]
      },
      {
       "output_type": "stream",
       "stream": "stdout",
       "text": [
        "\n",
        "------------------------------------------------------------------------------------------"
       ]
      },
      {
       "output_type": "stream",
       "stream": "stdout",
       "text": [
        " \n",
        "\t Nearby sources within 5.0 degrees HP12_0845\n",
        "name               dist        ra       dec        TS eflux(eV)    index   energy   beta/b\n",
        "P7R42984            0.1   286.671     7.334       572      58.2!    2.20!    1351     0.16*"
       ]
      },
      {
       "output_type": "stream",
       "stream": "stdout",
       "text": [
        "\n",
        "P7R42980G           1.0   286.243     8.306        16       5.3*    2.09*    7064     0"
       ]
      },
      {
       "output_type": "stream",
       "stream": "stdout",
       "text": [
        "\n",
        "P7R42974P           1.1   285.657     6.932        40      12.4*    2.26!    4542     0"
       ]
      },
      {
       "output_type": "stream",
       "stream": "stdout",
       "text": [
        "\n",
        "P7R42969G           1.4   285.296     7.476        98      36.9*    2.91!     733     0"
       ]
      },
      {
       "output_type": "stream",
       "stream": "stdout",
       "text": [
        "\n",
        "PSR J1907+0602      1.4   286.986     6.039      5962     199.9!    1.94!    5503*    1"
       ]
      },
      {
       "output_type": "stream",
       "stream": "stdout",
       "text": [
        "\n",
        "P7R42995            2.0   287.744     9.101      1900     132.4!    2.27!    2236     0"
       ]
      },
      {
       "output_type": "stream",
       "stream": "stdout",
       "text": [
        "\n",
        "PSR J1913+0904      2.4   288.261     9.182       120      15.7*    0.88*    1378*    1"
       ]
      },
      {
       "output_type": "stream",
       "stream": "stdout",
       "text": [
        "\n",
        "P7R42948G           2.8   283.911     7.883                 8.8     2.47     1396     0\n",
        "P7R42990G           3.0   287.228    10.375                13.8     2.56     1415     0\n",
        "P7R43011G           3.3   288.802     9.908                13.9     2.40     1768     0\n",
        "P7R43022            3.5   290.007     6.420                 8.5     2.82      785     0"
       ]
      },
      {
       "output_type": "stream",
       "stream": "stdout",
       "text": [
        "\n",
        "P7R42958AH          3.6   285.097     4.192        46      12.6*    2.25!    3359     0"
       ]
      },
      {
       "output_type": "stream",
       "stream": "stdout",
       "text": [
        "\n",
        "P7R42938AG          3.7   282.985     7.399                 4.7     2.23     1387     0\n",
        "P7R42948H           3.7   283.856     4.912                27.0     2.58      630     0\n",
        "P7R43019H           4.0   289.761     4.874                 5.2     2.47     1601     0\n",
        "P7R42969            4.0   285.205     3.623                27.7     2.56     1111     0"
       ]
      },
      {
       "output_type": "stream",
       "stream": "stdout",
       "text": [
        "\n",
        "P7R42966G           4.1   284.489     3.928                24.0     2.50      200     0\n",
        "P7R43000G           4.4   287.931     3.130                 7.6     2.26     2940     0\n",
        "P7R43011C           4.5   289.000    11.216                33.5     2.75      683     0\n",
        "P7R42956            4.8   284.474     3.133                 9.5     2.29     3637     0"
       ]
      },
      {
       "output_type": "stream",
       "stream": "stdout",
       "text": [
        "\n",
        "P7R42952            4.9   282.805     4.391                26.0     2.89      200     0\n",
        "------------------------------------------------------------------------------------------ \n",
        "\tDiffuse sources\n",
        "------------------------------------------------------------------------------------------\n",
        "ring                        1.00       0.00 \n",
        "isotrop                     0.85*\n",
        "SunMoon                     1.00 \n",
        "------------------------------------------------------------------------------------------\n",
        "TSplot: filling 225 pixels (size=0.57, npix=15)..."
       ]
      },
      {
       "output_type": "stream",
       "stream": "stdout",
       "text": [
        "\n"
       ]
      },
      {
       "output_type": "stream",
       "stream": "stdout",
       "text": [
        "saving tsplot to tsmap_3fgl/PSR_J1913p0904_tsmap.jpg..."
       ]
      },
      {
       "output_type": "stream",
       "stream": "stdout",
       "text": [
        "\n",
        "saved fits format to tsmap_3fgl/PSR_J1913p0904_tsmap.fits\n",
        "================================================================================"
       ]
      },
      {
       "output_type": "stream",
       "stream": "stdout",
       "text": [
        "\n",
        "   Processing 3FGL J1915.2+0954 , nickname P7R43011G, at (288.802, 9.908)\n",
        "FT file(s) \"/afs/slac/g/glast/groups/catalog//pointlike/fermi/data/../../P7_P202/Source/*.fits\" not found: assume None to test for valid binfile\n",
        "FT file(s) \"/afs/slac/g/glast/groups/catalog//pointlike/fermi/data/../../P7_P202/ft2_4years.fits\" not found: assume None to test for valid binfile"
       ]
      },
      {
       "output_type": "stream",
       "stream": "stdout",
       "text": [
        "\n",
        "78 total sources: 2 extended, 3 global"
       ]
      },
      {
       "output_type": "stream",
       "stream": "stdout",
       "text": [
        "\n",
        "------------------------------------------------------------------------------------------"
       ]
      },
      {
       "output_type": "stream",
       "stream": "stdout",
       "text": [
        " \n",
        "\t Nearby sources within 5.0 degrees HP12_0894\n",
        "name               dist        ra       dec        TS eflux(eV)    index   energy   beta/b\n",
        "P7R43044            1.5   292.783     9.630       650      23.2!    1.86!    3776     0"
       ]
      },
      {
       "output_type": "stream",
       "stream": "stdout",
       "text": [
        "\n",
        "P7R43011G           2.5   288.802     9.908        47      13.9*    2.40!    1768     0"
       ]
      },
      {
       "output_type": "stream",
       "stream": "stdout",
       "text": [
        "\n",
        "P7R43048            2.7   293.351     7.464        44       3.7*    1.68!    7618     0"
       ]
      },
      {
       "output_type": "stream",
       "stream": "stdout",
       "text": [
        "\n",
        "PSR J1913+0904      3.0   288.261     9.182                15.7     0.88     1378     1\n",
        "P7R43011C           3.0   289.000    11.216                33.5     2.75      683     0\n",
        "P7R43022            3.1   290.007     6.420        32       8.5*    2.82!     785     0"
       ]
      },
      {
       "output_type": "stream",
       "stream": "stdout",
       "text": [
        "\n",
        "P7R43038P           3.2   291.428    12.467                11.5     2.68     1301     0\n",
        "P7R42995            3.5   287.744     9.101               132.4     2.27     2236     0\n",
        "P7R43057G           4.2   295.146     7.596                 2.0     1.94     6528     0\n",
        "P7R42990G           4.2   287.228    10.375                13.8     2.56     1415     0"
       ]
      },
      {
       "output_type": "stream",
       "stream": "stdout",
       "text": [
        "\n",
        "P7R43065            4.5   295.693    10.550                16.4     1.77     2196     0.09 \n",
        "P7R43019H           4.6   289.761     4.874                 5.2     2.47     1601     0\n",
        "W51C                4.9   290.840    14.115               226.2     2.16     1295     0.07 \n",
        "P7R42984            4.9   286.671     7.334                58.2     2.20     1351     0.16 "
       ]
      },
      {
       "output_type": "stream",
       "stream": "stdout",
       "text": [
        "\n",
        "------------------------------------------------------------------------------------------ \n",
        "\tDiffuse sources\n",
        "------------------------------------------------------------------------------------------\n",
        "ring                        1.00       0.00 \n",
        "isotrop                     0.80 \n",
        "SunMoon                     1.00 \n",
        "------------------------------------------------------------------------------------------\n",
        "TSplot: filling 225 pixels (size=0.68, npix=15)..."
       ]
      },
      {
       "output_type": "stream",
       "stream": "stdout",
       "text": [
        "\n"
       ]
      },
      {
       "output_type": "stream",
       "stream": "stdout",
       "text": [
        "saving tsplot to tsmap_3fgl/P7R43011G_tsmap.jpg..."
       ]
      },
      {
       "output_type": "stream",
       "stream": "stdout",
       "text": [
        "\n",
        "saved fits format to tsmap_3fgl/P7R43011G_tsmap.fits"
       ]
      },
      {
       "output_type": "stream",
       "stream": "stdout",
       "text": [
        "\n",
        "================================================================================"
       ]
      },
      {
       "output_type": "stream",
       "stream": "stdout",
       "text": [
        "\n",
        "   Processing 3FGL J1957.9-0712 , nickname P7R43115, at (299.484, -7.211)\n",
        "FT file(s) \"/afs/slac/g/glast/groups/catalog//pointlike/fermi/data/../../P7_P202/Source/*.fits\" not found: assume None to test for valid binfile\n",
        "FT file(s) \"/afs/slac/g/glast/groups/catalog//pointlike/fermi/data/../../P7_P202/ft2_4years.fits\" not found: assume None to test for valid binfile\n",
        "62 total sources: 0 extended, 3 global"
       ]
      },
      {
       "output_type": "stream",
       "stream": "stdout",
       "text": [
        "\n",
        "------------------------------------------------------------------------------------------"
       ]
      },
      {
       "output_type": "stream",
       "stream": "stdout",
       "text": [
        " \n",
        "\t Nearby sources within 5.0 degrees HP12_1132\n",
        "name               dist        ra       dec        TS eflux(eV)    index   energy   beta/b\n",
        "P7R43115            1.4   299.484    -7.211        39       4.2*    2.66!     663     0"
       ]
      },
      {
       "output_type": "stream",
       "stream": "stdout",
       "text": [
        "\n",
        "P7R43141P           1.9   301.628    -9.666        17       2.2*    2.39!    1222     0"
       ]
      },
      {
       "output_type": "stream",
       "stream": "stdout",
       "text": [
        "\n",
        "P7R43120A           3.0   299.732   -10.924        29       3.3*    2.70!     588     0\n",
        "P7R43094AG          3.2   298.234    -5.983                 1.9     2.26     2353     0"
       ]
      },
      {
       "output_type": "stream",
       "stream": "stdout",
       "text": [
        "\n",
        "P7R43172            3.6   304.102    -9.084                10.0     1.96     2227     0\n",
        "P7R43080            3.7   296.979    -7.720                 3.0     2.30     1484     0\n",
        "P7R43104            3.8   298.702   -11.377                 7.0     2.30     2488     0.40 "
       ]
      },
      {
       "output_type": "stream",
       "stream": "stdout",
       "text": [
        "\n",
        "P7R43093            4.0   297.969   -11.034                 2.2     2.01     3491     0\n",
        "P7R43109G           4.3   299.183   -12.060                 1.3     1.75    10157     0\n",
        "P7R43118G           4.3   299.663   -12.284                 1.0     1.79     9393     0\n",
        "P7R43133            4.6   300.583    -3.406                 2.4     2.30     1684     0"
       ]
      },
      {
       "output_type": "stream",
       "stream": "stdout",
       "text": [
        "\n",
        "P7R43092G           4.7   297.964   -11.964                 4.8     2.75      492     0\n",
        "P7R43155            4.8   303.074    -3.921                 3.1     2.42     1094     0\n",
        "------------------------------------------------------------------------------------------ \n",
        "\tDiffuse sources\n",
        "------------------------------------------------------------------------------------------\n",
        "ring                        1.00       0.00 \n",
        "isotrop                     1.02!\n",
        "SunMoon                     1.00 \n",
        "------------------------------------------------------------------------------------------\n",
        "setting size from 2.68 to 2.0"
       ]
      },
      {
       "output_type": "stream",
       "stream": "stdout",
       "text": [
        "\n",
        "TSplot: filling 225 pixels (size=2.00, npix=15)...\n"
       ]
      },
      {
       "output_type": "stream",
       "stream": "stdout",
       "text": [
        "saving tsplot to tsmap_3fgl/P7R43115_tsmap.jpg..."
       ]
      },
      {
       "output_type": "stream",
       "stream": "stdout",
       "text": [
        "\n",
        "saved fits format to tsmap_3fgl/P7R43115_tsmap.fits"
       ]
      },
      {
       "output_type": "stream",
       "stream": "stdout",
       "text": [
        "\n",
        "================================================================================"
       ]
      },
      {
       "output_type": "stream",
       "stream": "stdout",
       "text": [
        "\n",
        "   Processing 3FGL J2009.2-1458 , nickname P7R43149P, at (302.304, -14.978)\n",
        "FT file(s) \"/afs/slac/g/glast/groups/catalog//pointlike/fermi/data/../../P7_P202/Source/*.fits\" not found: assume None to test for valid binfile\n",
        "FT file(s) \"/afs/slac/g/glast/groups/catalog//pointlike/fermi/data/../../P7_P202/ft2_4years.fits\" not found: assume None to test for valid binfile\n",
        "62 total sources: 0 extended, 3 global"
       ]
      },
      {
       "output_type": "stream",
       "stream": "stdout",
       "text": [
        "\n",
        "------------------------------------------------------------------------------------------"
       ]
      },
      {
       "output_type": "stream",
       "stream": "stdout",
       "text": [
        " \n",
        "\t Nearby sources within 5.0 degrees HP12_1180\n",
        "name               dist        ra       dec        TS eflux(eV)    index   energy   beta/b\n",
        "P7R43135G           1.8   301.095   -13.997        18       2.6*    2.49!    1065     0"
       ]
      },
      {
       "output_type": "stream",
       "stream": "stdout",
       "text": [
        "\n",
        "P7R43149P           2.3   302.304   -14.978        33       3.7*    2.69!     672     0"
       ]
      },
      {
       "output_type": "stream",
       "stream": "stdout",
       "text": [
        "\n",
        "P7R43168A           2.4   303.850   -14.532        26       1.7*    1.68*    7177     0\n",
        "P7R43118G           2.6   299.663   -12.284        10       1.0*    1.79*    9393     0"
       ]
      },
      {
       "output_type": "stream",
       "stream": "stdout",
       "text": [
        "\n",
        "P7R43120A           3.1   299.732   -10.924                 3.3     2.70      588     0\n",
        "P7R43141P           3.1   301.628    -9.666                 2.2     2.39     1222     0\n",
        "P7R43117            3.1   299.568   -14.222                 2.3     2.39     1357     0\n",
        "P7R43109G           3.1   299.183   -12.060                 1.3     1.75    10157     0"
       ]
      },
      {
       "output_type": "stream",
       "stream": "stdout",
       "text": [
        "\n",
        "P7R43186            3.7   305.911   -11.652                 7.6     1.98     1998     0\n",
        "P7R43104            3.7   298.702   -11.377                 7.0     2.30     2488     0.40 \n",
        "P7R43172            4.0   304.102    -9.084                10.0     1.96     2227     0\n",
        "P7R43157            4.1   303.033   -16.721                 4.8     2.41      366     0.61 "
       ]
      },
      {
       "output_type": "stream",
       "stream": "stdout",
       "text": [
        "\n",
        "P7R43174            4.2   304.425   -16.269                 4.4     1.91     1645     0.23 \n",
        "P7R43092G           4.3   297.964   -11.964                 4.8     2.75      492     0\n",
        "P7R43093            4.5   297.969   -11.034                 2.2     2.01     3491     0\n",
        "P7R43106            4.8   298.751   -16.091                 4.3     1.87     4588     0"
       ]
      },
      {
       "output_type": "stream",
       "stream": "stdout",
       "text": [
        "\n",
        "------------------------------------------------------------------------------------------ \n",
        "\tDiffuse sources\n",
        "------------------------------------------------------------------------------------------\n",
        "ring                        1.00       0.00 \n",
        "isotrop                     0.98!\n",
        "SunMoon                     1.00 \n",
        "------------------------------------------------------------------------------------------\n",
        "setting size from 3.45 to 2.0"
       ]
      },
      {
       "output_type": "stream",
       "stream": "stdout",
       "text": [
        "\n",
        "TSplot: filling 225 pixels (size=2.00, npix=15)...\n"
       ]
      },
      {
       "output_type": "stream",
       "stream": "stdout",
       "text": [
        "saving tsplot to tsmap_3fgl/P7R43149P_tsmap.jpg..."
       ]
      },
      {
       "output_type": "stream",
       "stream": "stdout",
       "text": [
        "\n",
        "saved fits format to tsmap_3fgl/P7R43149P_tsmap.fits\n",
        "================================================================================"
       ]
      },
      {
       "output_type": "stream",
       "stream": "stdout",
       "text": [
        "\n",
        "   Processing 3FGL J2039.4+4111 , nickname P7R43227, at (309.854, 41.198)\n",
        "FT file(s) \"/afs/slac/g/glast/groups/catalog//pointlike/fermi/data/../../P7_P202/Source/*.fits\" not found: assume None to test for valid binfile\n",
        "FT file(s) \"/afs/slac/g/glast/groups/catalog//pointlike/fermi/data/../../P7_P202/ft2_4years.fits\" not found: assume None to test for valid binfile\n",
        "106 total sources: 4 extended, 4 global"
       ]
      },
      {
       "output_type": "stream",
       "stream": "stdout",
       "text": [
        "\n",
        "------------------------------------------------------------------------------------------"
       ]
      },
      {
       "output_type": "stream",
       "stream": "stdout",
       "text": [
        " \n",
        "\t Nearby sources within 5.0 degrees HP12_0850\n",
        "name               dist        ra       dec        TS eflux(eV)    index   energy   beta/b\n",
        "P7R43210A           0.3   308.139    39.359        86      15.0*    2.33!    1698     0"
       ]
      },
      {
       "output_type": "stream",
       "stream": "stdout",
       "text": [
        "\n",
        "P7R43210            0.9   308.160    40.515        86      25.3!    3.10!     943     1.11*"
       ]
      },
      {
       "output_type": "stream",
       "stream": "stdout",
       "text": [
        "\n",
        "P7R43195G           1.1   306.716    40.053        40       8.3*    2.18!    3631     0"
       ]
      },
      {
       "output_type": "stream",
       "stream": "stdout",
       "text": [
        "\n",
        "P7R43214P           1.2   308.621    38.564        41       7.2*    2.14!    4200     0"
       ]
      },
      {
       "output_type": "stream",
       "stream": "stdout",
       "text": [
        "\n",
        "P7R43197G           1.2   307.135    40.677        39       7.7*    2.19!    2898     0"
       ]
      },
      {
       "output_type": "stream",
       "stream": "stdout",
       "text": [
        "\n",
        "P7R43181            1.3   306.508    39.150       119      13.4*    3.07*     834     1.73*"
       ]
      },
      {
       "output_type": "stream",
       "stream": "stdout",
       "text": [
        "\n",
        "Cygnus Cocoon       1.6   307.165    41.171      2637     535.5!    2.35!    1560     0"
       ]
      },
      {
       "output_type": "stream",
       "stream": "stdout",
       "text": [
        "\n",
        "PSR J2032+4127      1.8   308.060    41.447      4089      91.7!    1.29!    3691!    1"
       ]
      },
      {
       "output_type": "stream",
       "stream": "stdout",
       "text": [
        "\n",
        "P7R43227            2.1   309.854    41.198        64      10.6*    2.25!    1972     0"
       ]
      },
      {
       "output_type": "stream",
       "stream": "stdout",
       "text": [
        "\n",
        "P7R43179G           2.1   305.563    38.678        52      12.3*    2.48!    1433     0"
       ]
      },
      {
       "output_type": "stream",
       "stream": "stdout",
       "text": [
        "\n",
        "P7R43224G           2.1   309.354    41.534        73      11.0*    2.20!    3932     0"
       ]
      },
      {
       "output_type": "stream",
       "stream": "stdout",
       "text": [
        "\n",
        "PSR J2021+4026      2.1   305.384    40.448     45474     496.3!    1.48!    2016!    1"
       ]
      },
      {
       "output_type": "stream",
       "stream": "stdout",
       "text": [
        "\n",
        "gamma Cygni         2.3   305.265    40.521       553     101.5!    2.03!   11559     0"
       ]
      },
      {
       "output_type": "stream",
       "stream": "stdout",
       "text": [
        "\n",
        "P7R43186F           2.3   306.172    37.797        43      12.9*    2.47!    1638     0"
       ]
      },
      {
       "output_type": "stream",
       "stream": "stdout",
       "text": [
        "\n",
        "P7R43184P           2.4   305.834    41.458        25       3.9*    1.90*    5122     0"
       ]
      },
      {
       "output_type": "stream",
       "stream": "stdout",
       "text": [
        "\n",
        "P7R43176            2.7   304.632    38.860                 8.6     2.33     3426     0.25 \n",
        "P7R43222G           2.7   308.990    42.295        35       6.3*    2.24!    2913     0"
       ]
      },
      {
       "output_type": "stream",
       "stream": "stdout",
       "text": [
        "\n",
        "P7R43236            2.7   310.101    41.890        96      14.0*    2.29!    3094     0"
       ]
      },
      {
       "output_type": "stream",
       "stream": "stdout",
       "text": [
        "\n",
        "P7R43226            2.8   309.625    42.208       160      20.5*    2.34!    2614     0"
       ]
      },
      {
       "output_type": "stream",
       "stream": "stdout",
       "text": [
        "\n",
        "PSR J2030+3641      3.0   307.501    36.703                27.6     0.84     1675     1\n",
        "P7R43223P           3.0   309.221    42.557                 9.5     2.15     2759     0\n",
        "P7R43217            3.1   308.758    36.581                 7.4     1.92     2573     0.77 "
       ]
      },
      {
       "output_type": "stream",
       "stream": "stdout",
       "text": [
        "\n",
        "P7R43245G           3.2   310.614    42.153        63       9.6*    2.22!    3233     0"
       ]
      },
      {
       "output_type": "stream",
       "stream": "stdout",
       "text": [
        "\n",
        "P7R43239            3.4   308.670    43.039                 9.1     2.19     2177     0\n",
        "PSR J2021+3651      3.5   305.277    36.860     24831     306.7!    1.66!    3313!    1"
       ]
      },
      {
       "output_type": "stream",
       "stream": "stdout",
       "text": [
        "\n",
        "P7R43177P           3.6   304.675    42.230                 4.1     1.78     4620     0\n",
        "P7R43169            4.1   303.902    37.162                65.8     2.44     1092     0.12 \n",
        "P7R43210AG          4.2   308.338    43.812                 5.8     2.08     4363     0\n",
        "P7R43175            4.2   304.485    36.459                35.5     1.98     1075     0.59 "
       ]
      },
      {
       "output_type": "stream",
       "stream": "stdout",
       "text": [
        "\n",
        "P7R43156P           4.6   302.799    42.056                 3.4     2.16     2620     0\n",
        "PSR J2030+4415      4.6   307.707    44.275                25.6     0.95     1320     1\n",
        "P7R43245AP          4.7   310.789    43.836                 8.7     2.31     2583     0"
       ]
      },
      {
       "output_type": "stream",
       "stream": "stdout",
       "text": [
        "\n",
        "P7R43164G           5.0   303.615    36.109                10.0     2.35     1701     0\n",
        "------------------------------------------------------------------------------------------ \n",
        "\tDiffuse sources\n",
        "------------------------------------------------------------------------------------------\n",
        "limb                        0.30       0.35 \n",
        "ring                        1.00       0.00 \n",
        "isotrop                     0.50 \n",
        "SunMoon                     1.00 \n",
        "------------------------------------------------------------------------------------------\n",
        "TSplot: filling 225 pixels (size=1.24, npix=15)..."
       ]
      },
      {
       "output_type": "stream",
       "stream": "stdout",
       "text": [
        "\n"
       ]
      },
      {
       "output_type": "stream",
       "stream": "stdout",
       "text": [
        "saving tsplot to tsmap_3fgl/P7R43227_tsmap.jpg..."
       ]
      },
      {
       "output_type": "stream",
       "stream": "stdout",
       "text": [
        "\n",
        "saved fits format to tsmap_3fgl/P7R43227_tsmap.fits"
       ]
      },
      {
       "output_type": "stream",
       "stream": "stdout",
       "text": [
        "\n",
        "================================================================================"
       ]
      },
      {
       "output_type": "stream",
       "stream": "stdout",
       "text": [
        "\n",
        "   Processing 3FGL J2042.4+4209 , nickname P7R43245G, at (310.614, 42.153)\n",
        "FT file(s) \"/afs/slac/g/glast/groups/catalog//pointlike/fermi/data/../../P7_P202/Source/*.fits\" not found: assume None to test for valid binfile\n",
        "FT file(s) \"/afs/slac/g/glast/groups/catalog//pointlike/fermi/data/../../P7_P202/ft2_4years.fits\" not found: assume None to test for valid binfile\n",
        "106 total sources: 4 extended, 4 global"
       ]
      },
      {
       "output_type": "stream",
       "stream": "stdout",
       "text": [
        "\n",
        "------------------------------------------------------------------------------------------"
       ]
      },
      {
       "output_type": "stream",
       "stream": "stdout",
       "text": [
        " \n",
        "\t Nearby sources within 5.0 degrees HP12_0850\n",
        "name               dist        ra       dec        TS eflux(eV)    index   energy   beta/b\n",
        "P7R43210A           0.3   308.139    39.359        86      15.0*    2.33!    1698     0"
       ]
      },
      {
       "output_type": "stream",
       "stream": "stdout",
       "text": [
        "\n",
        "P7R43210            0.9   308.160    40.515        86      25.3!    3.10!     943     1.11*"
       ]
      },
      {
       "output_type": "stream",
       "stream": "stdout",
       "text": [
        "\n",
        "P7R43195G           1.1   306.716    40.053        40       8.3*    2.18!    3631     0"
       ]
      },
      {
       "output_type": "stream",
       "stream": "stdout",
       "text": [
        "\n",
        "P7R43214P           1.2   308.621    38.564        41       7.2*    2.14!    4200     0"
       ]
      },
      {
       "output_type": "stream",
       "stream": "stdout",
       "text": [
        "\n",
        "P7R43197G           1.2   307.135    40.677        39       7.7*    2.19!    2898     0"
       ]
      },
      {
       "output_type": "stream",
       "stream": "stdout",
       "text": [
        "\n",
        "P7R43181            1.3   306.508    39.150       119      13.4*    3.07*     834     1.73*"
       ]
      },
      {
       "output_type": "stream",
       "stream": "stdout",
       "text": [
        "\n",
        "Cygnus Cocoon       1.6   307.165    41.171      2637     535.5!    2.35!    1560     0"
       ]
      },
      {
       "output_type": "stream",
       "stream": "stdout",
       "text": [
        "\n",
        "PSR J2032+4127      1.8   308.060    41.447      4089      91.7!    1.29!    3691!    1"
       ]
      },
      {
       "output_type": "stream",
       "stream": "stdout",
       "text": [
        "\n",
        "P7R43227            2.1   309.854    41.198        64      10.6*    2.25!    1972     0"
       ]
      },
      {
       "output_type": "stream",
       "stream": "stdout",
       "text": [
        "\n",
        "P7R43179G           2.1   305.563    38.678        52      12.3*    2.48!    1433     0"
       ]
      },
      {
       "output_type": "stream",
       "stream": "stdout",
       "text": [
        "\n",
        "P7R43224G           2.1   309.354    41.534        73      11.0*    2.20!    3932     0"
       ]
      },
      {
       "output_type": "stream",
       "stream": "stdout",
       "text": [
        "\n",
        "PSR J2021+4026      2.1   305.384    40.448     45474     496.3!    1.48!    2016!    1"
       ]
      },
      {
       "output_type": "stream",
       "stream": "stdout",
       "text": [
        "\n",
        "gamma Cygni         2.3   305.265    40.521       553     101.5!    2.03!   11559     0"
       ]
      },
      {
       "output_type": "stream",
       "stream": "stdout",
       "text": [
        "\n",
        "P7R43186F           2.3   306.172    37.797        43      12.9*    2.47!    1638     0"
       ]
      },
      {
       "output_type": "stream",
       "stream": "stdout",
       "text": [
        "\n",
        "P7R43184P           2.4   305.834    41.458        25       3.9*    1.90*    5122     0"
       ]
      },
      {
       "output_type": "stream",
       "stream": "stdout",
       "text": [
        "\n",
        "P7R43176            2.7   304.632    38.860                 8.6     2.33     3426     0.25 \n",
        "P7R43222G           2.7   308.990    42.295        35       6.3*    2.24!    2913     0"
       ]
      },
      {
       "output_type": "stream",
       "stream": "stdout",
       "text": [
        "\n",
        "P7R43236            2.7   310.101    41.890        96      14.0*    2.29!    3094     0"
       ]
      },
      {
       "output_type": "stream",
       "stream": "stdout",
       "text": [
        "\n",
        "P7R43226            2.8   309.625    42.208       160      20.5*    2.34!    2614     0"
       ]
      },
      {
       "output_type": "stream",
       "stream": "stdout",
       "text": [
        "\n",
        "PSR J2030+3641      3.0   307.501    36.703                27.6     0.84     1675     1\n",
        "P7R43223P           3.0   309.221    42.557                 9.5     2.15     2759     0\n",
        "P7R43217            3.1   308.758    36.581                 7.4     1.92     2573     0.77 \n",
        "P7R43245G           3.2   310.614    42.153        63       9.6*    2.22!    3233     0"
       ]
      },
      {
       "output_type": "stream",
       "stream": "stdout",
       "text": [
        "\n",
        "P7R43239            3.4   308.670    43.039                 9.1     2.19     2177     0\n",
        "PSR J2021+3651      3.5   305.277    36.860     24831     306.7!    1.66!    3313!    1"
       ]
      },
      {
       "output_type": "stream",
       "stream": "stdout",
       "text": [
        "\n",
        "P7R43177P           3.6   304.675    42.230                 4.1     1.78     4620     0\n",
        "P7R43169            4.1   303.902    37.162                65.8     2.44     1092     0.12 \n",
        "P7R43210AG          4.2   308.338    43.812                 5.8     2.08     4363     0\n",
        "P7R43175            4.2   304.485    36.459                35.5     1.98     1075     0.59 "
       ]
      },
      {
       "output_type": "stream",
       "stream": "stdout",
       "text": [
        "\n",
        "P7R43156P           4.6   302.799    42.056                 3.4     2.16     2620     0\n",
        "PSR J2030+4415      4.6   307.707    44.275                25.6     0.95     1320     1\n",
        "P7R43245AP          4.7   310.789    43.836                 8.7     2.31     2583     0"
       ]
      },
      {
       "output_type": "stream",
       "stream": "stdout",
       "text": [
        "\n",
        "P7R43164G           5.0   303.615    36.109                10.0     2.35     1701     0\n",
        "------------------------------------------------------------------------------------------ \n",
        "\tDiffuse sources\n",
        "------------------------------------------------------------------------------------------\n",
        "limb                        0.30       0.35 \n",
        "ring                        1.00       0.00 \n",
        "isotrop                     0.50 \n",
        "SunMoon                     1.00 \n",
        "------------------------------------------------------------------------------------------\n",
        "setting size from 20.64 to 2.0"
       ]
      },
      {
       "output_type": "stream",
       "stream": "stdout",
       "text": [
        "\n",
        "TSplot: filling 225 pixels (size=2.00, npix=15)...\n"
       ]
      },
      {
       "output_type": "stream",
       "stream": "stdout",
       "text": [
        "saving tsplot to tsmap_3fgl/P7R43245G_tsmap.jpg..."
       ]
      },
      {
       "output_type": "stream",
       "stream": "stdout",
       "text": [
        "\n",
        "saved fits format to tsmap_3fgl/P7R43245G_tsmap.fits"
       ]
      },
      {
       "output_type": "stream",
       "stream": "stdout",
       "text": [
        "\n",
        "================================================================================"
       ]
      },
      {
       "output_type": "stream",
       "stream": "stdout",
       "text": [
        "\n",
        "   Processing 3FGL J2130.4-4237 , nickname P7R43353, at (322.615, -42.632)\n",
        "FT file(s) \"/afs/slac/g/glast/groups/catalog//pointlike/fermi/data/../../P7_P202/Source/*.fits\" not found: assume None to test for valid binfile\n",
        "FT file(s) \"/afs/slac/g/glast/groups/catalog//pointlike/fermi/data/../../P7_P202/ft2_4years.fits\" not found: assume None to test for valid binfile\n",
        "56 total sources: 0 extended, 4 global"
       ]
      },
      {
       "output_type": "stream",
       "stream": "stdout",
       "text": [
        "\n",
        "------------------------------------------------------------------------------------------"
       ]
      },
      {
       "output_type": "stream",
       "stream": "stdout",
       "text": [
        " \n",
        "\t Nearby sources within 5.0 degrees HP12_1507\n",
        "name               dist        ra       dec        TS eflux(eV)    index   energy   beta/b\n",
        "P7R43346            1.7   321.628   -46.087      1006      14.8!    2.29!     406     0.14*\n",
        "P7R43353            1.9   322.615   -42.631        73       4.2*    2.50!     675     0"
       ]
      },
      {
       "output_type": "stream",
       "stream": "stdout",
       "text": [
        "\n",
        "P7R43371            2.8   324.852   -42.598      2013      21.1!    1.89!     843     0.14*\n",
        "------------------------------------------------------------------------------------------ \n",
        "\tDiffuse sources\n",
        "------------------------------------------------------------------------------------------\n",
        "limb                        0.38       0.50 \n",
        "ring                        1.00       0.00 \n",
        "isotrop                     1.01!\n",
        "SunMoon                     1.00 \n",
        "------------------------------------------------------------------------------------------\n",
        "setting size from 2.33 to 2.0"
       ]
      },
      {
       "output_type": "stream",
       "stream": "stdout",
       "text": [
        "\n",
        "TSplot: filling 225 pixels (size=2.00, npix=15)...\n"
       ]
      },
      {
       "output_type": "stream",
       "stream": "stdout",
       "text": [
        "saving tsplot to tsmap_3fgl/P7R43353_tsmap.jpg..."
       ]
      },
      {
       "output_type": "stream",
       "stream": "stdout",
       "text": [
        "\n",
        "saved fits format to tsmap_3fgl/P7R43353_tsmap.fits\n",
        "================================================================================"
       ]
      },
      {
       "output_type": "stream",
       "stream": "stdout",
       "text": [
        "\n",
        "   Processing 3FGL J2131.5+2605 , nickname P7R43360, at (322.896, 26.097)\n",
        "FT file(s) \"/afs/slac/g/glast/groups/catalog//pointlike/fermi/data/../../P7_P202/Source/*.fits\" not found: assume None to test for valid binfile\n",
        "FT file(s) \"/afs/slac/g/glast/groups/catalog//pointlike/fermi/data/../../P7_P202/ft2_4years.fits\" not found: assume None to test for valid binfile\n",
        "58 total sources: 1 extended, 4 global"
       ]
      },
      {
       "output_type": "stream",
       "stream": "stdout",
       "text": [
        "\n",
        "------------------------------------------------------------------------------------------"
       ]
      },
      {
       "output_type": "stream",
       "stream": "stdout",
       "text": [
        " \n",
        "\t Nearby sources within 5.0 degrees HP12_1138\n",
        "name               dist        ra       dec        TS eflux(eV)    index   energy   beta/b\n",
        "P7R43368            1.8   324.343    28.241         4       1.3*    2.48*     502     0\n",
        "P7R43362            2.3   323.348    25.557        34       2.3*    2.00!    3945     0"
       ]
      },
      {
       "output_type": "stream",
       "stream": "stdout",
       "text": [
        "\n",
        "P7R43360            2.4   322.895    26.097        22       2.1*    2.22!    2040     0\n",
        "P7R43368X           2.5   323.404    28.358        10       1.5*    2.50*    1571     0"
       ]
      },
      {
       "output_type": "stream",
       "stream": "stdout",
       "text": [
        "\n",
        "P7R43384            4.8   326.051    31.542                 4.1     2.23     1532     0\n",
        "------------------------------------------------------------------------------------------ \n",
        "\tDiffuse sources\n",
        "------------------------------------------------------------------------------------------\n",
        "limb                        0.06       0.00 \n",
        "ring                        1.00       0.00 \n",
        "isotrop                     0.98!\n",
        "SunMoon                     1.00 \n",
        "------------------------------------------------------------------------------------------\n",
        "setting size from 2.11 to 2.0"
       ]
      },
      {
       "output_type": "stream",
       "stream": "stdout",
       "text": [
        "\n",
        "TSplot: filling 225 pixels (size=2.00, npix=15)...\n"
       ]
      },
      {
       "output_type": "stream",
       "stream": "stdout",
       "text": [
        "saving tsplot to tsmap_3fgl/P7R43360_tsmap.jpg..."
       ]
      },
      {
       "output_type": "stream",
       "stream": "stdout",
       "text": [
        "\n",
        "saved fits format to tsmap_3fgl/P7R43360_tsmap.fits\n",
        "================================================================================"
       ]
      },
      {
       "output_type": "stream",
       "stream": "stdout",
       "text": [
        "\n",
        "   Processing 3FGL J2225.8+6045 , nickname P7R43475J, at (336.465, 60.765)\n",
        "FT file(s) \"/afs/slac/g/glast/groups/catalog//pointlike/fermi/data/../../P7_P202/Source/*.fits\" not found: assume None to test for valid binfile\n",
        "FT file(s) \"/afs/slac/g/glast/groups/catalog//pointlike/fermi/data/../../P7_P202/ft2_4years.fits\" not found: assume None to test for valid binfile\n",
        "70 total sources: 1 extended, 4 global"
       ]
      },
      {
       "output_type": "stream",
       "stream": "stdout",
       "text": [
        "\n",
        "------------------------------------------------------------------------------------------"
       ]
      },
      {
       "output_type": "stream",
       "stream": "stdout",
       "text": [
        " \n",
        "\t Nearby sources within 5.0 degrees HP12_0806\n",
        "name               dist        ra       dec        TS eflux(eV)    index   energy   beta/b\n",
        "P7R43445I           0.8   332.531    60.725        22       2.1*    1.70*   13830     0"
       ]
      },
      {
       "output_type": "stream",
       "stream": "stdout",
       "text": [
        "\n",
        "P7R43457            0.8   333.882    61.368        27       5.1*    2.47!    1695     0"
       ]
      },
      {
       "output_type": "stream",
       "stream": "stdout",
       "text": [
        "\n",
        "P7R43475J           1.2   336.465    60.765        19       3.5*    2.26     4483     0"
       ]
      },
      {
       "output_type": "stream",
       "stream": "stdout",
       "text": [
        "\n",
        "P7R43446            1.4   332.545    59.409        45       8.4*    2.66!    1074     0"
       ]
      },
      {
       "output_type": "stream",
       "stream": "stdout",
       "text": [
        "\n",
        "PSR J2229+6114      1.7   337.273    61.240     14379     144.9*    1.21*     116*    0.38*"
       ]
      },
      {
       "output_type": "stream",
       "stream": "stdout",
       "text": [
        "\n",
        "P7R43465P           2.3   335.268    58.354        44       6.5*    2.45!    1344     0"
       ]
      },
      {
       "output_type": "stream",
       "stream": "stdout",
       "text": [
        "\n",
        "P7R43468            2.8   335.435    63.303                 7.7     2.45     1232     0\n",
        "PSR J2238+5903      3.1   339.613    59.054                42.7     1.85     3525     1\n",
        "P7R43460            3.2   334.307    63.774                 6.9     2.29     2640     0"
       ]
      },
      {
       "output_type": "stream",
       "stream": "stdout",
       "text": [
        "\n",
        "PSR J2240+5832      3.7   340.228    58.539                 4.9    -0.15      888     1\n",
        "P7R43505            3.7   339.482    63.334                 3.4     2.27     3433     0\n",
        "P7R43441            4.5   331.669    64.858                 7.9     2.70      927     0.47 \n",
        "P7R43466            4.6   335.414    65.127                 7.7     2.69      844     0"
       ]
      },
      {
       "output_type": "stream",
       "stream": "stdout",
       "text": [
        "\n",
        "P7R43446P           4.7   332.557    65.152                 2.5     2.04    11056     0\n",
        "P7R43537P           4.8   343.498    62.440                 5.3     2.36     3623     0\n",
        "P7R43527            4.8   342.465    58.195                 2.1     1.78     8928     0\n",
        "------------------------------------------------------------------------------------------ \n",
        "\tDiffuse sources\n",
        "------------------------------------------------------------------------------------------\n",
        "limb                        0.59       1.16 \n",
        "ring                        1.00       0.00 \n",
        "isotrop                     1.00!\n",
        "SunMoon                     1.00 \n",
        "------------------------------------------------------------------------------------------\n",
        "TSplot: filling 225 pixels (size=1.29, npix=15)..."
       ]
      },
      {
       "output_type": "stream",
       "stream": "stdout",
       "text": [
        "\n"
       ]
      },
      {
       "output_type": "stream",
       "stream": "stdout",
       "text": [
        "saving tsplot to tsmap_3fgl/P7R43475J_tsmap.jpg..."
       ]
      },
      {
       "output_type": "stream",
       "stream": "stdout",
       "text": [
        "\n",
        "saved fits format to tsmap_3fgl/P7R43475J_tsmap.fits"
       ]
      },
      {
       "output_type": "stream",
       "stream": "stdout",
       "text": [
        "\n",
        "================================================================================"
       ]
      },
      {
       "output_type": "stream",
       "stream": "stdout",
       "text": [
        "\n",
        "   Processing 3FGL J2246.7-5205 , nickname P7R43519, at (341.679, -52.089)\n",
        "FT file(s) \"/afs/slac/g/glast/groups/catalog//pointlike/fermi/data/../../P7_P202/Source/*.fits\" not found: assume None to test for valid binfile\n",
        "FT file(s) \"/afs/slac/g/glast/groups/catalog//pointlike/fermi/data/../../P7_P202/ft2_4years.fits\" not found: assume None to test for valid binfile\n",
        "59 total sources: 0 extended, 4 global"
       ]
      },
      {
       "output_type": "stream",
       "stream": "stdout",
       "text": [
        "\n",
        "------------------------------------------------------------------------------------------"
       ]
      },
      {
       "output_type": "stream",
       "stream": "stdout",
       "text": [
        " \n",
        "\t Nearby sources within 5.0 degrees HP12_1581\n",
        "name               dist        ra       dec        TS eflux(eV)    index   energy   beta/b\n",
        "P7R43492            1.4   338.802   -54.786        12       1.3*    2.51!     783     0\n",
        "PSR J2241-5236      1.5   340.418   -52.623      3106      19.2!    1.14!    2431*    1"
       ]
      },
      {
       "output_type": "stream",
       "stream": "stdout",
       "text": [
        "\n",
        "P7R43519            2.1   341.679   -52.089        36       2.2*    1.60*    8159     0\n",
        "P7R43550            2.5   344.599   -55.439                 1.6     2.25     1588     0"
       ]
      },
      {
       "output_type": "stream",
       "stream": "stdout",
       "text": [
        "\n",
        "P7R43499            3.5   339.057   -50.828                 2.7     2.66      535     0\n",
        "P7R43467            3.7   335.411   -52.421                 6.1     1.85     2617     0\n",
        "P7R43542A           4.5   343.850   -50.009                 1.1     2.37     1841     0\n",
        "P7R43535            4.8   342.896   -49.468                 2.8     1.61     2162     0.30 "
       ]
      },
      {
       "output_type": "stream",
       "stream": "stdout",
       "text": [
        "\n",
        "------------------------------------------------------------------------------------------ \n",
        "\tDiffuse sources\n",
        "------------------------------------------------------------------------------------------\n",
        "limb                        0.51       1.05 \n",
        "ring                        1.00       0.00 \n",
        "isotrop                     0.91!\n",
        "SunMoon                     1.00 \n",
        "------------------------------------------------------------------------------------------\n",
        "TSplot: filling 225 pixels (size=0.41, npix=15)..."
       ]
      },
      {
       "output_type": "stream",
       "stream": "stdout",
       "text": [
        "\n"
       ]
      },
      {
       "output_type": "stream",
       "stream": "stdout",
       "text": [
        "saving tsplot to tsmap_3fgl/P7R43519_tsmap.jpg..."
       ]
      },
      {
       "output_type": "stream",
       "stream": "stdout",
       "text": [
        "\n",
        "saved fits format to tsmap_3fgl/P7R43519_tsmap.fits\n",
        "================================================================================"
       ]
      },
      {
       "output_type": "stream",
       "stream": "stdout",
       "text": [
        "\n",
        "   Processing 3FGL J2258.8+2437 , nickname P7R43550H, at (344.724, 24.624)\n",
        "FT file(s) \"/afs/slac/g/glast/groups/catalog//pointlike/fermi/data/../../P7_P202/Source/*.fits\" not found: assume None to test for valid binfile\n",
        "FT file(s) \"/afs/slac/g/glast/groups/catalog//pointlike/fermi/data/../../P7_P202/ft2_4years.fits\" not found: assume None to test for valid binfile\n",
        "53 total sources: 0 extended, 3 global"
       ]
      },
      {
       "output_type": "stream",
       "stream": "stdout",
       "text": [
        "\n",
        "------------------------------------------------------------------------------------------"
       ]
      },
      {
       "output_type": "stream",
       "stream": "stdout",
       "text": [
        " \n",
        "\t Nearby sources within 5.0 degrees HP12_1332\n",
        "name               dist        ra       dec        TS eflux(eV)    index   energy   beta/b\n",
        "P7R43550H           2.3   344.724    24.624        14       1.5*    2.15*    2305     0\n",
        "P7R43542            2.9   343.779    24.187                 5.9     2.02     1976     0"
       ]
      },
      {
       "output_type": "stream",
       "stream": "stdout",
       "text": [
        "\n",
        "P7R43600G           3.5   350.538    22.853                 1.4     2.14     2249     0\n",
        "P7R43615A           4.5   350.947    25.388                 1.5     1.86     3992     0\n",
        "P7R43524            4.6   342.225    21.106                 1.6     2.30     2138     0\n",
        "P7R43592            4.8   349.655    19.210                 3.5     2.87      403     0"
       ]
      },
      {
       "output_type": "stream",
       "stream": "stdout",
       "text": [
        "\n",
        "P7R43560            4.9   345.669    18.308                 3.0     2.71      735     0\n",
        "------------------------------------------------------------------------------------------ \n",
        "\tDiffuse sources\n",
        "------------------------------------------------------------------------------------------\n",
        "ring                        1.00       0.00 \n",
        "isotrop                     1.05!\n",
        "SunMoon                     1.00 \n",
        "------------------------------------------------------------------------------------------\n",
        "TSplot: filling 225 pixels (size=1.63, npix=15)..."
       ]
      },
      {
       "output_type": "stream",
       "stream": "stdout",
       "text": [
        "\n"
       ]
      },
      {
       "output_type": "stream",
       "stream": "stdout",
       "text": [
        "saving tsplot to tsmap_3fgl/P7R43550H_tsmap.jpg..."
       ]
      },
      {
       "output_type": "stream",
       "stream": "stdout",
       "text": [
        "\n",
        "saved fits format to tsmap_3fgl/P7R43550H_tsmap.fits"
       ]
      },
      {
       "output_type": "stream",
       "stream": "stdout",
       "text": [
        "\n",
        "================================================================================"
       ]
      },
      {
       "output_type": "stream",
       "stream": "stdout",
       "text": [
        "\n",
        "   Processing 3FGL J2343.0-4748 , nickname P7R43655, at (355.763, -47.802)\n",
        "FT file(s) \"/afs/slac/g/glast/groups/catalog//pointlike/fermi/data/../../P7_P202/Source/*.fits\" not found: assume None to test for valid binfile\n",
        "FT file(s) \"/afs/slac/g/glast/groups/catalog//pointlike/fermi/data/../../P7_P202/ft2_4years.fits\" not found: assume None to test for valid binfile\n",
        "67 total sources: 0 extended, 4 global"
       ]
      },
      {
       "output_type": "stream",
       "stream": "stdout",
       "text": [
        "\n",
        "------------------------------------------------------------------------------------------"
       ]
      },
      {
       "output_type": "stream",
       "stream": "stdout",
       "text": [
        " \n",
        "\t Nearby sources within 5.0 degrees HP12_1641\n",
        "name               dist        ra       dec        TS eflux(eV)    index   energy   beta/b\n",
        "P7R43666            1.4   357.100   -51.008        39       2.3*    2.32!    1092     0\n",
        "P7R43624            1.9   352.331   -49.923     25034      93.6!    2.12!     351     0.11!"
       ]
      },
      {
       "output_type": "stream",
       "stream": "stdout",
       "text": [
        "\n",
        "P7R43684            3.0   358.702   -52.763                 2.1     2.24     1317     0\n",
        "P7R43603            3.1   350.734   -49.289                 2.1     1.48     2934     0.47 \n",
        "P7R43655            3.3   355.763   -47.802        84       1.8*    1.71*    1523     0.47*"
       ]
      },
      {
       "output_type": "stream",
       "stream": "stdout",
       "text": [
        "\n",
        "P7R43692            3.6   359.451   -53.178                 7.6     2.46      616     0\n",
        "P7R43585G           3.6   349.216   -52.166                 1.7     1.70     6091     0\n",
        "P7R43674            3.7   358.332   -48.084                 1.2     1.96     2985     0\n",
        "P7R43688            3.8   359.285   -48.656                 1.5     2.26     1676     0"
       ]
      },
      {
       "output_type": "stream",
       "stream": "stdout",
       "text": [
        "\n",
        "P7R43585            3.8   348.942   -50.312                 2.7     1.94     1403     0.27 \n",
        "P7R43626            3.8   352.479   -47.571                 2.8     2.25     2112     0\n",
        "P7R43612            3.8   351.358   -47.975                 8.8     2.32     1238     0\n",
        "P7R40007            4.1     0.815   -52.777                 2.0     1.90     3780     0"
       ]
      },
      {
       "output_type": "stream",
       "stream": "stdout",
       "text": [
        "\n",
        "P7R43633            4.5   353.264   -55.426                 2.4     1.94     1215     0.36 \n",
        "P7R43576G           4.6   347.432   -50.941                 1.0     1.90     5174     0\n",
        "------------------------------------------------------------------------------------------ \n",
        "\tDiffuse sources\n",
        "------------------------------------------------------------------------------------------\n",
        "limb                        0.47       0.89 \n",
        "ring                        1.00       0.00 \n",
        "isotrop                     0.90!\n",
        "SunMoon                     1.00 \n",
        "------------------------------------------------------------------------------------------\n",
        "TSplot: filling 225 pixels (size=0.76, npix=15)..."
       ]
      },
      {
       "output_type": "stream",
       "stream": "stdout",
       "text": [
        "\n"
       ]
      },
      {
       "output_type": "stream",
       "stream": "stdout",
       "text": [
        "saving tsplot to tsmap_3fgl/P7R43655_tsmap.jpg..."
       ]
      },
      {
       "output_type": "stream",
       "stream": "stdout",
       "text": [
        "\n",
        "saved fits format to tsmap_3fgl/P7R43655_tsmap.fits\n",
        "================================================================================"
       ]
      },
      {
       "output_type": "stream",
       "stream": "stdout",
       "text": [
        "\n",
        "   Processing 3FGL J2344.9-5647 , nickname P7R43658, at (356.225, -56.790)\n",
        "FT file(s) \"/afs/slac/g/glast/groups/catalog//pointlike/fermi/data/../../P7_P202/Source/*.fits\" not found: assume None to test for valid binfile\n",
        "FT file(s) \"/afs/slac/g/glast/groups/catalog//pointlike/fermi/data/../../P7_P202/ft2_4years.fits\" not found: assume None to test for valid binfile\n",
        "65 total sources: 0 extended, 4 global"
       ]
      },
      {
       "output_type": "stream",
       "stream": "stdout",
       "text": [
        "\n",
        "------------------------------------------------------------------------------------------"
       ]
      },
      {
       "output_type": "stream",
       "stream": "stdout",
       "text": [
        " \n",
        "\t Nearby sources within 5.0 degrees HP12_1612\n",
        "name               dist        ra       dec        TS eflux(eV)    index   energy   beta/b\n",
        "P7R43658            0.4   356.225   -56.790        34       2.3*    2.56!     664     0\n",
        "P7R43633            1.9   353.264   -55.426       130       2.4*    1.94*    1215     0.36*"
       ]
      },
      {
       "output_type": "stream",
       "stream": "stdout",
       "text": [
        "\n",
        "P7R43692            3.7   359.451   -53.178                 7.6     2.46      616     0\n",
        "P7R43684            3.9   358.702   -52.763        38       2.1*    2.24!    1317     0"
       ]
      },
      {
       "output_type": "stream",
       "stream": "stdout",
       "text": [
        "\n",
        "P7R40007            4.5     0.815   -52.777                 2.0     1.90     3780     0\n",
        "P7R40053            4.8     4.797   -56.751                 1.8     2.12     2002     0\n",
        "------------------------------------------------------------------------------------------ \n",
        "\tDiffuse sources\n",
        "------------------------------------------------------------------------------------------\n",
        "limb                        0.54       1.16 \n",
        "ring                        1.00       0.00 \n",
        "isotrop                     0.92!\n",
        "SunMoon                     1.00 \n",
        "------------------------------------------------------------------------------------------\n",
        "setting size from 2.64 to 2.0"
       ]
      },
      {
       "output_type": "stream",
       "stream": "stdout",
       "text": [
        "\n",
        "TSplot: filling 225 pixels (size=2.00, npix=15)...\n"
       ]
      },
      {
       "output_type": "stream",
       "stream": "stdout",
       "text": [
        "saving tsplot to tsmap_3fgl/P7R43658_tsmap.jpg..."
       ]
      },
      {
       "output_type": "stream",
       "stream": "stdout",
       "text": [
        "\n",
        "saved fits format to tsmap_3fgl/P7R43658_tsmap.fits\n",
        "================================================================================"
       ]
      },
      {
       "output_type": "stream",
       "stream": "stdout",
       "text": [
        "\n",
        "   Processing 3FGL J2353.3+6639 , nickname P7R43674P, at (358.337, 66.659)\n",
        "FT file(s) \"/afs/slac/g/glast/groups/catalog//pointlike/fermi/data/../../P7_P202/Source/*.fits\" not found: assume None to test for valid binfile\n",
        "FT file(s) \"/afs/slac/g/glast/groups/catalog//pointlike/fermi/data/../../P7_P202/ft2_4years.fits\" not found: assume None to test for valid binfile\n",
        "77 total sources: 0 extended, 4 global"
       ]
      },
      {
       "output_type": "stream",
       "stream": "stdout",
       "text": [
        "\n",
        "------------------------------------------------------------------------------------------"
       ]
      },
      {
       "output_type": "stream",
       "stream": "stdout",
       "text": [
        " \n",
        "\t Nearby sources within 5.0 degrees HP12_0759\n",
        "name               dist        ra       dec        TS eflux(eV)    index   energy   beta/b\n",
        "P7R43687            1.9   359.107    67.413        55       6.9*    2.45!    1542     0"
       ]
      },
      {
       "output_type": "stream",
       "stream": "stdout",
       "text": [
        "\n",
        "P7R43677G           2.0   358.864    69.651        36       4.0*    2.43!    1608     0"
       ]
      },
      {
       "output_type": "stream",
       "stream": "stdout",
       "text": [
        "\n",
        "P7R43674P           2.2   358.337    66.659        35       4.7*    2.35!    1954     0"
       ]
      },
      {
       "output_type": "stream",
       "stream": "stdout",
       "text": [
        "\n",
        "P7R40013            2.4     1.055    67.959        79       7.8*    2.48!    1564     0"
       ]
      },
      {
       "output_type": "stream",
       "stream": "stdout",
       "text": [
        "\n",
        "P7R43677            2.7   358.842    66.155                 0.0     2.50     1203     0\n",
        "P7R40027            2.8     2.141    68.887        54       6.0*    2.48!    1095     0"
       ]
      },
      {
       "output_type": "stream",
       "stream": "stdout",
       "text": [
        "\n",
        "P7R40000B           3.3     0.038    65.752                 8.5     2.41     1797     0\n",
        "P7R40026            3.7     2.191    65.968                 8.3     2.46     1198     0\n",
        "P7R40032GP          3.8     3.110    70.672                 2.2     2.12     3496     0\n",
        "------------------------------------------------------------------------------------------ \n",
        "\tDiffuse sources\n",
        "------------------------------------------------------------------------------------------\n",
        "limb                        0.66       1.04 \n",
        "ring                        1.00       0.00 \n",
        "isotrop                     0.80!\n",
        "SunMoon                     1.00 \n",
        "------------------------------------------------------------------------------------------\n",
        "TSplot: filling 225 pixels (size=0.78, npix=15)..."
       ]
      },
      {
       "output_type": "stream",
       "stream": "stdout",
       "text": [
        "\n"
       ]
      },
      {
       "output_type": "stream",
       "stream": "stdout",
       "text": [
        "saving tsplot to tsmap_3fgl/P7R43674P_tsmap.jpg..."
       ]
      },
      {
       "output_type": "stream",
       "stream": "stdout",
       "text": [
        "\n",
        "saved fits format to tsmap_3fgl/P7R43674P_tsmap.fits"
       ]
      },
      {
       "output_type": "stream",
       "stream": "stdout",
       "text": [
        "\n"
       ]
      },
      {
       "output_type": "stream",
       "stream": "stderr",
       "text": [
        "/afs/slac/g/glast/groups/catalog/python/anaconda/lib/python2.7/site-packages/numpy/core/_methods.py:59: RuntimeWarning: Mean of empty slice.\n",
        "  warnings.warn(\"Mean of empty slice.\", RuntimeWarning)\n"
       ]
      },
      {
       "metadata": {},
       "output_type": "pyout",
       "prompt_number": 6,
       "text": [
        "[(uw.like2.main.ROI :\n",
        "\tuw.like2.configuration.Configuration: /nfs/farm/g/glast/u55/catalog/pointlike/skymodels/P202/uw29/.\n",
        "\tuw.like2.from_healpix.ROImodelFromHealpix : 4 global, 3 local, 51 total sources for ROI 559,\n",
        "  <uw.utilities.image.TSplot at 0x7f2e4144ce50>),\n",
        " (uw.like2.main.ROI :\n",
        "\tuw.like2.configuration.Configuration: /nfs/farm/g/glast/u55/catalog/pointlike/skymodels/P202/uw29/.\n",
        "\tuw.like2.from_healpix.ROImodelFromHealpix : 3 global, 4 local, 102 total sources for ROI 796,\n",
        "  <uw.utilities.image.TSplot at 0x7f2e4137f890>),\n",
        " (uw.like2.main.ROI :\n",
        "\tuw.like2.configuration.Configuration: /nfs/farm/g/glast/u55/catalog/pointlike/skymodels/P202/uw29/.\n",
        "\tuw.like2.from_healpix.ROImodelFromHealpix : 3 global, 16 local, 109 total sources for ROI 843,\n",
        "  <uw.utilities.image.TSplot at 0x7f2e40d92dd0>),\n",
        " (uw.like2.main.ROI :\n",
        "\tuw.like2.configuration.Configuration: /nfs/farm/g/glast/u55/catalog/pointlike/skymodels/P202/uw29/.\n",
        "\tuw.like2.from_healpix.ROImodelFromHealpix : 4 global, 1 local, 50 total sources for ROI 656,\n",
        "  <uw.utilities.image.TSplot at 0x7f2e3f4fa350>),\n",
        " (uw.like2.main.ROI :\n",
        "\tuw.like2.configuration.Configuration: /nfs/farm/g/glast/u55/catalog/pointlike/skymodels/P202/uw29/.\n",
        "\tuw.like2.from_healpix.ROImodelFromHealpix : 3 global, 12 local, 102 total sources for ROI 844,\n",
        "  <uw.utilities.image.TSplot at 0x7f2e3f450f10>),\n",
        " (uw.like2.main.ROI :\n",
        "\tuw.like2.configuration.Configuration: /nfs/farm/g/glast/u55/catalog/pointlike/skymodels/P202/uw29/.\n",
        "\tuw.like2.from_healpix.ROImodelFromHealpix : 3 global, 8 local, 98 total sources for ROI 845,\n",
        "  <uw.utilities.image.TSplot at 0x7f2e3e5a6fd0>),\n",
        " (uw.like2.main.ROI :\n",
        "\tuw.like2.configuration.Configuration: /nfs/farm/g/glast/u55/catalog/pointlike/skymodels/P202/uw29/.\n",
        "\tuw.like2.from_healpix.ROImodelFromHealpix : 3 global, 8 local, 98 total sources for ROI 845,\n",
        "  <uw.utilities.image.TSplot at 0x7f2e3ed74d90>),\n",
        " (uw.like2.main.ROI :\n",
        "\tuw.like2.configuration.Configuration: /nfs/farm/g/glast/u55/catalog/pointlike/skymodels/P202/uw29/.\n",
        "\tuw.like2.from_healpix.ROImodelFromHealpix : 3 global, 4 local, 78 total sources for ROI 894,\n",
        "  <uw.utilities.image.TSplot at 0x7f2e3d13ab10>),\n",
        " (uw.like2.main.ROI :\n",
        "\tuw.like2.configuration.Configuration: /nfs/farm/g/glast/u55/catalog/pointlike/skymodels/P202/uw29/.\n",
        "\tuw.like2.from_healpix.ROImodelFromHealpix : 3 global, 3 local, 62 total sources for ROI 1132,\n",
        "  <uw.utilities.image.TSplot at 0x7f2e3ca51d10>),\n",
        " (uw.like2.main.ROI :\n",
        "\tuw.like2.configuration.Configuration: /nfs/farm/g/glast/u55/catalog/pointlike/skymodels/P202/uw29/.\n",
        "\tuw.like2.from_healpix.ROImodelFromHealpix : 3 global, 4 local, 62 total sources for ROI 1180,\n",
        "  <uw.utilities.image.TSplot at 0x7f2e3c18b590>),\n",
        " (uw.like2.main.ROI :\n",
        "\tuw.like2.configuration.Configuration: /nfs/farm/g/glast/u55/catalog/pointlike/skymodels/P202/uw29/.\n",
        "\tuw.like2.from_healpix.ROImodelFromHealpix : 4 global, 20 local, 106 total sources for ROI 850,\n",
        "  <uw.utilities.image.TSplot at 0x7f2e3d450510>),\n",
        " (uw.like2.main.ROI :\n",
        "\tuw.like2.configuration.Configuration: /nfs/farm/g/glast/u55/catalog/pointlike/skymodels/P202/uw29/.\n",
        "\tuw.like2.from_healpix.ROImodelFromHealpix : 4 global, 20 local, 106 total sources for ROI 850,\n",
        "  <uw.utilities.image.TSplot at 0x7f2e3bfadf50>),\n",
        " (uw.like2.main.ROI :\n",
        "\tuw.like2.configuration.Configuration: /nfs/farm/g/glast/u55/catalog/pointlike/skymodels/P202/uw29/.\n",
        "\tuw.like2.from_healpix.ROImodelFromHealpix : 4 global, 3 local, 56 total sources for ROI 1507,\n",
        "  <uw.utilities.image.TSplot at 0x7f2e3b1a8890>),\n",
        " (uw.like2.main.ROI :\n",
        "\tuw.like2.configuration.Configuration: /nfs/farm/g/glast/u55/catalog/pointlike/skymodels/P202/uw29/.\n",
        "\tuw.like2.from_healpix.ROImodelFromHealpix : 4 global, 4 local, 58 total sources for ROI 1138,\n",
        "  <uw.utilities.image.TSplot at 0x7f2e3ba51b90>),\n",
        " (uw.like2.main.ROI :\n",
        "\tuw.like2.configuration.Configuration: /nfs/farm/g/glast/u55/catalog/pointlike/skymodels/P202/uw29/.\n",
        "\tuw.like2.from_healpix.ROImodelFromHealpix : 4 global, 6 local, 70 total sources for ROI 806,\n",
        "  <uw.utilities.image.TSplot at 0x7f2e39b0c790>),\n",
        " (uw.like2.main.ROI :\n",
        "\tuw.like2.configuration.Configuration: /nfs/farm/g/glast/u55/catalog/pointlike/skymodels/P202/uw29/.\n",
        "\tuw.like2.from_healpix.ROImodelFromHealpix : 4 global, 3 local, 59 total sources for ROI 1581,\n",
        "  <uw.utilities.image.TSplot at 0x7f2e3b1c0310>),\n",
        " (uw.like2.main.ROI :\n",
        "\tuw.like2.configuration.Configuration: /nfs/farm/g/glast/u55/catalog/pointlike/skymodels/P202/uw29/.\n",
        "\tuw.like2.from_healpix.ROImodelFromHealpix : 3 global, 1 local, 53 total sources for ROI 1332,\n",
        "  <uw.utilities.image.TSplot at 0x7f2e38cb59d0>),\n",
        " (uw.like2.main.ROI :\n",
        "\tuw.like2.configuration.Configuration: /nfs/farm/g/glast/u55/catalog/pointlike/skymodels/P202/uw29/.\n",
        "\tuw.like2.from_healpix.ROImodelFromHealpix : 4 global, 3 local, 67 total sources for ROI 1641,\n",
        "  <uw.utilities.image.TSplot at 0x7f2e3abbd6d0>),\n",
        " (uw.like2.main.ROI :\n",
        "\tuw.like2.configuration.Configuration: /nfs/farm/g/glast/u55/catalog/pointlike/skymodels/P202/uw29/.\n",
        "\tuw.like2.from_healpix.ROImodelFromHealpix : 4 global, 3 local, 65 total sources for ROI 1612,\n",
        "  <uw.utilities.image.TSplot at 0x7f2e2f46f850>),\n",
        " (uw.like2.main.ROI :\n",
        "\tuw.like2.configuration.Configuration: /nfs/farm/g/glast/u55/catalog/pointlike/skymodels/P202/uw29/.\n",
        "\tuw.like2.from_healpix.ROImodelFromHealpix : 4 global, 5 local, 77 total sources for ROI 759,\n",
        "  <uw.utilities.image.TSplot at 0x7f2e2e73e210>)]"
       ]
      },
      {
       "metadata": {},
       "output_type": "display_data",
       "png": "[encoded data removed]",
       "text": [
        "<matplotlib.figure.Figure at 0x7f2e40f02c90>"
       ]
      }
     ],
     "prompt_number": 6
    },
    {
     "cell_type": "markdown",
     "metadata": {},
     "source": [
      "###Make summary csv, and pivot files"
     ]
    },
    {
     "cell_type": "code",
     "collapsed": false,
     "input": [
      "#cols=columns='name3,ra,dec,glat,glon,skydir,ts,a95,closest,flags,pt_flags'.split(',')\n",
      "t = cat_subset\n",
      "t['nickname'] = t.index\n",
      "t['delta_ts']=sc.df.delta_ts\n",
      "t['locqual']= sc.df.locqual\n",
      "t.to_csv('3FGL_poor_localization.csv', index=False)"
     ],
     "language": "python",
     "metadata": {},
     "outputs": [],
     "prompt_number": 9
    },
    {
     "cell_type": "code",
     "collapsed": false,
     "input": [
      "from uw.utilities import makepivot; reload(makepivot)\n",
      "pv = makepivot.MakeCollection('3FGL poor localizations-uw29', 'tsmap_3fgl', '3FGL_poor_localization.csv', refresh=True, image_type='jpg')"
     ],
     "language": "python",
     "metadata": {},
     "outputs": [
      {
       "output_type": "stream",
       "stream": "stdout",
       "text": [
        "Collection {'cName': '3FGL poor localizations-uw29'} deleted\n",
        "Created or attached to existing collection, name=\"3FGL poor localizations-uw29\", Id=246"
       ]
      },
      {
       "output_type": "stream",
       "stream": "stdout",
       "text": [
        "\n",
        "Loaded CSV file 3FGL_poor_localization.csv: found 87 items, 18 columns\n"
       ]
      }
     ],
     "prompt_number": 14
    },
    {
     "cell_type": "code",
     "collapsed": false,
     "input": [
      "fig, ax = plt.subplots(figsize=(5,5))\n",
      "dom= np.linspace(-90,90,19)\n",
      "ax.hist(t.glat[t.pt_flags>0], dom, histtype='step', lw=2,label='LQ>8e')\n",
      "ax.hist(t.glat[t.pt_flags==0], dom, histtype='step',color='red', lw=2, label='gtfindsrc inconsistent')\n",
      "plt.setp(ax, xlabel='Galactic latitude',  xlim=(-90,90), ylim=(0,20))\n",
      "ax.legend()\n",
      "ax.grid();\n"
     ],
     "language": "python",
     "metadata": {},
     "outputs": [
      {
       "metadata": {},
       "output_type": "display_data",
       "png": "[encoded data removed]",
       "text": [
        "<matplotlib.figure.Figure at 0x7fdb6e801910>"
       ]
      }
     ],
     "prompt_number": 14
    },
    {
     "cell_type": "markdown",
     "metadata": {},
     "source": [
      "###Rename the fits files\n",
      "Since the code generates both jpg and fits versions with the nickname, then updates with the actual r95 ellipse and saves the jpg,\n",
      "we need the rename the fits"
     ]
    },
    {
     "cell_type": "code",
     "collapsed": false,
     "input": [
      "import glob\n",
      "fl = glob.glob('tsmap_3fgl/*.fits'); fl\n",
      "nicks = list(t.nickname)\n",
      "indeces = t.name3\n",
      "for f in fl:\n",
      "    nick=f.split('/')[1].split('_')[0]\n",
      "    if nick=='PSR' or nick=='3FGL': continue\n",
      "    i =nicks.index(nick)\n",
      "    assert t.ix[i]['nickname']==nick\n",
      "    name = indeces[i]\n",
      "    print nick, '-->', name\n",
      "    os.rename(f, 'tsmap_3fgl/'+name.replace(' ','_').replace('+','p')+'_tsmap.fits')"
     ],
     "language": "python",
     "metadata": {},
     "outputs": [
      {
       "output_type": "stream",
       "stream": "stdout",
       "text": [
        "P7R40027 --> 3FGL J0008.5+6853 \n",
        "P7R40404 --> 3FGL J0242.1-0534 \n",
        "P7R40057 --> 3FGL J0021.6-6835 \n",
        "P7R40152"
       ]
      },
      {
       "output_type": "stream",
       "stream": "stdout",
       "text": [
        " --> 3FGL J0102.1+0943 \n",
        "P7R40075 --> 3FGL J0028.8+1951 \n"
       ]
      }
     ],
     "prompt_number": 11
    },
    {
     "cell_type": "code",
     "collapsed": false,
     "input": [
      "!zip tsmap_3fgl.zip tsmap_3fgl/*"
     ],
     "language": "python",
     "metadata": {},
     "outputs": [
      {
       "output_type": "stream",
       "stream": "stdout",
       "text": [
        "updating: tsmap_3fgl/3FGL_J0008.5p6853_tsmap.jpg"
       ]
      },
      {
       "output_type": "stream",
       "stream": "stdout",
       "text": [
        " (deflated 6%)\r\n",
        "updating: tsmap_3fgl/3FGL_J0021.6-6835_tsmap.jpg (deflated 8%)\r\n",
        "updating: tsmap_3fgl/3FGL_J0028.8p1951_tsmap.jpg (deflated 5%)\r\n",
        "updating: tsmap_3fgl/3FGL_J0102.1p0943_tsmap.jpg (deflated 6%)\r\n",
        "updating: tsmap_3fgl/3FGL_J0242.1-0534_tsmap.jpg (deflated 8%)\r\n",
        "updating: tsmap_3fgl/3FGL_J0332.4p6110__tsmap.fits (deflated 71%)\r\n",
        "updating: tsmap_3fgl/3FGL_J0332.4p6110_tsmap.jpg"
       ]
      },
      {
       "output_type": "stream",
       "stream": "stdout",
       "text": [
        " (deflated 6%)\r\n",
        "updating: tsmap_3fgl/3FGL_J0413.6-5334__tsmap.fits (deflated 70%)\r\n",
        "updating: tsmap_3fgl/3FGL_J0413.6-5334_tsmap.jpg (deflated 8%)\r\n",
        "updating: tsmap_3fgl/3FGL_J0457.0p0643__tsmap.fits"
       ]
      },
      {
       "output_type": "stream",
       "stream": "stdout",
       "text": [
        " (deflated 71%)\r\n",
        "updating: tsmap_3fgl/3FGL_J0457.0p0643_tsmap.jpg (deflated 9%)\r\n",
        "updating: tsmap_3fgl/3FGL_J0507.5-0906__tsmap.fits (deflated 70%)\r\n",
        "updating: tsmap_3fgl/3FGL_J0507.5-0906_tsmap.jpg (deflated 9%)\r\n",
        "updating: tsmap_3fgl/3FGL_J0512.2p2918__tsmap.fits"
       ]
      },
      {
       "output_type": "stream",
       "stream": "stdout",
       "text": [
        " (deflated 70%)\r\n",
        "updating: tsmap_3fgl/3FGL_J0512.2p2918_tsmap.jpg (deflated 3%)\r\n",
        "updating: tsmap_3fgl/3FGL_J0533.8-3754__tsmap.fits (deflated 70%)\r\n",
        "updating: tsmap_3fgl/3FGL_J0533.8-3754_tsmap.jpg"
       ]
      },
      {
       "output_type": "stream",
       "stream": "stdout",
       "text": [
        " (deflated 7%)\r\n",
        "updating: tsmap_3fgl/3FGL_J0536.4-3347__tsmap.fits (deflated 70%)\r\n",
        "updating: tsmap_3fgl/3FGL_J0536.4-3347_tsmap.jpg (deflated 10%)\r\n",
        "updating: tsmap_3fgl/3FGL_J0542.2-8737__tsmap.fits"
       ]
      },
      {
       "output_type": "stream",
       "stream": "stdout",
       "text": [
        " (deflated 70%)\r\n",
        "updating: tsmap_3fgl/3FGL_J0542.2-8737_tsmap.jpg (deflated 5%)\r\n",
        "updating: tsmap_3fgl/3FGL_J0600.4-1934__tsmap.fits (deflated 70%)\r\n",
        "updating: tsmap_3fgl/3FGL_J0600.4-1934_tsmap.jpg"
       ]
      },
      {
       "output_type": "stream",
       "stream": "stdout",
       "text": [
        " (deflated 8%)\r\n",
        "updating: tsmap_3fgl/3FGL_J0601.5p2309__tsmap.fits (deflated 71%)\r\n",
        "updating: tsmap_3fgl/3FGL_J0601.5p2309_tsmap.jpg (deflated 6%)\r\n",
        "updating: tsmap_3fgl/3FGL_J0605.9p2039c_tsmap.fits (deflated 70%)\r\n",
        "updating: tsmap_3fgl/3FGL_J0605.9p2039ctsmap.jpg"
       ]
      },
      {
       "output_type": "stream",
       "stream": "stdout",
       "text": [
        " (deflated 8%)\r\n",
        "updating: tsmap_3fgl/3FGL_J0608.1-1522__tsmap.fits (deflated 70%)\r\n",
        "updating: tsmap_3fgl/3FGL_J0608.1-1522_tsmap.jpg (deflated 8%)\r\n",
        "updating: tsmap_3fgl/3FGL_J0639.9p3250__tsmap.fits"
       ]
      },
      {
       "output_type": "stream",
       "stream": "stdout",
       "text": [
        " (deflated 71%)\r\n",
        "updating: tsmap_3fgl/3FGL_J0639.9p3250_tsmap.jpg (deflated 3%)\r\n",
        "updating: tsmap_3fgl/3FGL_J0707.5-3111__tsmap.fits (deflated 71%)\r\n",
        "updating: tsmap_3fgl/3FGL_J0707.5-3111_tsmap.jpg"
       ]
      },
      {
       "output_type": "stream",
       "stream": "stdout",
       "text": [
        " (deflated 5%)\r\n",
        "updating: tsmap_3fgl/3FGL_J0713.9p1933__tsmap.fits (deflated 70%)\r\n",
        "updating: tsmap_3fgl/3FGL_J0713.9p1933_tsmap.jpg (deflated 10%)\r\n",
        "updating: tsmap_3fgl/3FGL_J0721.5-0221__tsmap.fits (deflated 71%)\r\n",
        "updating: tsmap_3fgl/3FGL_J0721.5-0221_tsmap.jpg"
       ]
      },
      {
       "output_type": "stream",
       "stream": "stdout",
       "text": [
        " (deflated 12%)\r\n",
        "updating: tsmap_3fgl/3FGL_J0731.7-1914c_tsmap.fits (deflated 70%)\r\n",
        "updating: tsmap_3fgl/3FGL_J0731.7-1914ctsmap.jpg (deflated 5%)\r\n",
        "updating: tsmap_3fgl/3FGL_J0739.8p1312__tsmap.fits"
       ]
      },
      {
       "output_type": "stream",
       "stream": "stdout",
       "text": [
        " (deflated 71%)\r\n",
        "updating: tsmap_3fgl/3FGL_J0739.8p1312_tsmap.jpg (deflated 2%)\r\n",
        "updating: tsmap_3fgl/3FGL_J0742.6-5623__tsmap.fits (deflated 70%)\r\n",
        "updating: tsmap_3fgl/3FGL_J0742.6-5623_tsmap.jpg"
       ]
      },
      {
       "output_type": "stream",
       "stream": "stdout",
       "text": [
        " (deflated 6%)\r\n",
        "updating: tsmap_3fgl/3FGL_J0744.3p1715__tsmap.fits (deflated 70%)\r\n",
        "updating: tsmap_3fgl/3FGL_J0744.3p1715_tsmap.jpg (deflated 8%)\r\n",
        "updating: tsmap_3fgl/3FGL_J0755.2-2633__tsmap.fits (deflated 70%)\r\n",
        "updating: tsmap_3fgl/3FGL_J0755.2-2633_tsmap.jpg"
       ]
      },
      {
       "output_type": "stream",
       "stream": "stdout",
       "text": [
        " (deflated 5%)\r\n",
        "updating: tsmap_3fgl/3FGL_J0850.0p4855__tsmap.fits (deflated 70%)\r\n",
        "updating: tsmap_3fgl/3FGL_J0850.0p4855_tsmap.jpg (deflated 9%)\r\n",
        "updating: tsmap_3fgl/3FGL_J0900.0p6754__tsmap.fits (deflated 70%)\r\n",
        "updating: tsmap_3fgl/3FGL_J0900.0p6754_tsmap.jpg"
       ]
      },
      {
       "output_type": "stream",
       "stream": "stdout",
       "text": [
        " (deflated 8%)\r\n",
        "updating: tsmap_3fgl/3FGL_J0907.0-4802__tsmap.fits (deflated 70%)\r\n",
        "updating: tsmap_3fgl/3FGL_J0907.0-4802_tsmap.jpg (deflated 5%)\r\n",
        "updating: tsmap_3fgl/3FGL_J0912.2p4126__tsmap.fits (deflated 70%)\r\n",
        "updating: tsmap_3fgl/3FGL_J0912.2p4126_tsmap.jpg"
       ]
      },
      {
       "output_type": "stream",
       "stream": "stdout",
       "text": [
        " (deflated 10%)\r\n",
        "updating: tsmap_3fgl/3FGL_J0915.8-5110__tsmap.fits (deflated 70%)\r\n",
        "updating: tsmap_3fgl/3FGL_J0915.8-5110_tsmap.jpg (deflated 4%)\r\n",
        "updating: tsmap_3fgl/3FGL_J0918.2-4859__tsmap.fits (deflated 70%)\r\n",
        "updating: tsmap_3fgl/3FGL_J0918.2-4859_tsmap.jpg"
       ]
      },
      {
       "output_type": "stream",
       "stream": "stdout",
       "text": [
        " (deflated 7%)\r\n",
        "updating: tsmap_3fgl/3FGL_J0956.6p2515__tsmap.fits (deflated 70%)\r\n",
        "updating: tsmap_3fgl/3FGL_J0956.6p2515_tsmap.jpg (deflated 8%)\r\n",
        "updating: tsmap_3fgl/3FGL_J1013.4-4008__tsmap.fits"
       ]
      },
      {
       "output_type": "stream",
       "stream": "stdout",
       "text": [
        " (deflated 70%)\r\n",
        "updating: tsmap_3fgl/3FGL_J1013.4-4008_tsmap.jpg (deflated 10%)\r\n",
        "updating: tsmap_3fgl/3FGL_J1034.0-5731c_tsmap.fits (deflated 70%)\r\n",
        "updating: tsmap_3fgl/3FGL_J1034.0-5731ctsmap.jpg (deflated 6%)\r\n",
        "updating: tsmap_3fgl/3FGL_J1037.2-6052__tsmap.fits (deflated 70%)\r\n",
        "updating: tsmap_3fgl/3FGL_J1037.2-6052_tsmap.jpg"
       ]
      },
      {
       "output_type": "stream",
       "stream": "stdout",
       "text": [
        " (deflated 3%)\r\n",
        "updating: tsmap_3fgl/3FGL_J1039.1-5809__tsmap.fits (deflated 70%)\r\n",
        "updating: tsmap_3fgl/3FGL_J1039.1-5809_tsmap.jpg"
       ]
      },
      {
       "output_type": "stream",
       "stream": "stdout",
       "text": [
        " (deflated 6%)\r\n",
        "updating: tsmap_3fgl/3FGL_J1047.3-6005__tsmap.fits (deflated 70%)\r\n",
        "updating: tsmap_3fgl/3FGL_J1047.3-6005_tsmap.jpg (deflated 4%)\r\n",
        "updating: tsmap_3fgl/3FGL_J1112.0-6135__tsmap.fits (deflated 70%)\r\n",
        "updating: tsmap_3fgl/3FGL_J1112.0-6135_tsmap.jpg"
       ]
      },
      {
       "output_type": "stream",
       "stream": "stdout",
       "text": [
        " (deflated 9%)\r\n",
        "updating: tsmap_3fgl/3FGL_J1123.6-4558__tsmap.fits (deflated 70%)\r\n",
        "updating: tsmap_3fgl/3FGL_J1123.6-4558_tsmap.jpg (deflated 9%)\r\n",
        "updating: tsmap_3fgl/3FGL_J1132.8p1015__tsmap.fits (deflated 70%)\r\n",
        "updating: tsmap_3fgl/3FGL_J1132.8p1015_tsmap.jpg (deflated 3%)\r\n",
        "updating: tsmap_3fgl/3FGL_J1210.1-2742__tsmap.fits"
       ]
      },
      {
       "output_type": "stream",
       "stream": "stdout",
       "text": [
        " (deflated 70%)\r\n",
        "updating: tsmap_3fgl/3FGL_J1210.1-2742_tsmap.jpg"
       ]
      },
      {
       "output_type": "stream",
       "stream": "stdout",
       "text": [
        " (deflated 8%)\r\n",
        "updating: tsmap_3fgl/3FGL_J1329.1-0536__tsmap.fits (deflated 71%)\r\n",
        "updating: tsmap_3fgl/3FGL_J1329.1-0536_tsmap.jpg"
       ]
      },
      {
       "output_type": "stream",
       "stream": "stdout",
       "text": [
        " (deflated 13%)\r\n",
        "updating: tsmap_3fgl/3FGL_J1330.4p5641__tsmap.fits (deflated 71%)\r\n",
        "updating: tsmap_3fgl/3FGL_J1330.4p5641_tsmap.jpg (deflated 2%)\r\n",
        "updating: tsmap_3fgl/3FGL_J1419.1-5156__tsmap.fits"
       ]
      },
      {
       "output_type": "stream",
       "stream": "stdout",
       "text": [
        " (deflated 71%)\r\n",
        "updating: tsmap_3fgl/3FGL_J1419.1-5156_tsmap.jpg (deflated 8%)\r\n",
        "updating: tsmap_3fgl/3FGL_J1419.1-5534__tsmap.fits"
       ]
      },
      {
       "output_type": "stream",
       "stream": "stdout",
       "text": [
        " (deflated 71%)\r\n",
        "updating: tsmap_3fgl/3FGL_J1419.1-5534_tsmap.jpg (deflated 3%)\r\n",
        "updating: tsmap_3fgl/3FGL_J1446.6-4701_tsmap.jpg (deflated 9%)\r\n",
        "updating: tsmap_3fgl/3FGL_J1513.8-6250c_tsmap.fits"
       ]
      },
      {
       "output_type": "stream",
       "stream": "stdout",
       "text": [
        " (deflated 70%)\r\n",
        "updating: tsmap_3fgl/3FGL_J1513.8-6250ctsmap.jpg (deflated 8%)\r\n",
        "updating: tsmap_3fgl/3FGL_J1538.4-4656__tsmap.fits (deflated 70%)\r\n",
        "updating: tsmap_3fgl/3FGL_J1538.4-4656_tsmap.jpg"
       ]
      },
      {
       "output_type": "stream",
       "stream": "stdout",
       "text": [
        " (deflated 7%)\r\n",
        "updating: tsmap_3fgl/3FGL_J1549.1-5347c_tsmap.fits (deflated 70%)\r\n",
        "updating: tsmap_3fgl/3FGL_J1549.1-5347ctsmap.jpg (deflated 9%)\r\n",
        "updating: tsmap_3fgl/3FGL_J1552.8-5330__tsmap.fits (deflated 70%)\r\n",
        "updating: tsmap_3fgl/3FGL_J1552.8-5330_tsmap.jpg"
       ]
      },
      {
       "output_type": "stream",
       "stream": "stdout",
       "text": [
        " (deflated 9%)\r\n",
        "updating: tsmap_3fgl/3FGL_J1552.9-5610__tsmap.fits (deflated 70%)\r\n",
        "updating: tsmap_3fgl/3FGL_J1552.9-5610_tsmap.jpg (deflated 9%)\r\n",
        "updating: tsmap_3fgl/3FGL_J1636.2-4709c_tsmap.fits (deflated 70%)\r\n",
        "updating: tsmap_3fgl/3FGL_J1636.2-4709ctsmap.jpg"
       ]
      },
      {
       "output_type": "stream",
       "stream": "stdout",
       "text": [
        " (deflated 8%)\r\n",
        "updating: tsmap_3fgl/3FGL_J1636.2-4734__tsmap.fits (deflated 70%)\r\n",
        "updating: tsmap_3fgl/3FGL_J1636.2-4734_tsmap.jpg (deflated 10%)\r\n",
        "updating: tsmap_3fgl/3FGL_J1654.3-4907__tsmap.fits (deflated 70%)\r\n",
        "updating: tsmap_3fgl/3FGL_J1654.3-4907_tsmap.jpg"
       ]
      },
      {
       "output_type": "stream",
       "stream": "stdout",
       "text": [
        " (deflated 6%)\r\n",
        "updating: tsmap_3fgl/3FGL_J1717.6-5802__tsmap.fits (deflated 71%)\r\n",
        "updating: tsmap_3fgl/3FGL_J1717.6-5802_tsmap.jpg (deflated 10%)\r\n",
        "updating: tsmap_3fgl/3FGL_J1729.5-2824__tsmap.fits"
       ]
      },
      {
       "output_type": "stream",
       "stream": "stdout",
       "text": [
        " (deflated 70%)\r\n",
        "updating: tsmap_3fgl/3FGL_J1729.5-2824_tsmap.jpg (deflated 3%)\r\n",
        "updating: tsmap_3fgl/3FGL_J1729.9-0859__tsmap.fits"
       ]
      },
      {
       "output_type": "stream",
       "stream": "stdout",
       "text": [
        " (deflated 71%)\r\n",
        "updating: tsmap_3fgl/3FGL_J1729.9-0859_tsmap.jpg (deflated 3%)\r\n",
        "updating: tsmap_3fgl/3FGL_J1745.3-2903c_tsmap.fits (deflated 70%)\r\n",
        "updating: tsmap_3fgl/3FGL_J1745.3-2903ctsmap.jpg"
       ]
      },
      {
       "output_type": "stream",
       "stream": "stdout",
       "text": [
        " (deflated 10%)\r\n",
        "updating: tsmap_3fgl/3FGL_J1747.0-2828__tsmap.fits (deflated 70%)\r\n",
        "updating: tsmap_3fgl/3FGL_J1747.0-2828_tsmap.jpg (deflated 7%)\r\n",
        "updating: tsmap_3fgl/3FGL_J1747.7-2904__tsmap.fits (deflated 70%)\r\n",
        "updating: tsmap_3fgl/3FGL_J1747.7-2904_tsmap.jpg"
       ]
      },
      {
       "output_type": "stream",
       "stream": "stdout",
       "text": [
        " (deflated 10%)\r\n",
        "updating: tsmap_3fgl/3FGL_J1749.2-2911__tsmap.fits (deflated 70%)\r\n",
        "updating: tsmap_3fgl/3FGL_J1749.2-2911_tsmap.jpg (deflated 9%)\r\n",
        "updating: tsmap_3fgl/3FGL_J1811.3-1927c_tsmap.fits"
       ]
      },
      {
       "output_type": "stream",
       "stream": "stdout",
       "text": [
        " (deflated 71%)\r\n",
        "updating: tsmap_3fgl/3FGL_J1811.3-1927ctsmap.jpg (deflated 10%)\r\n",
        "updating: tsmap_3fgl/3FGL_J1813.6-1148__tsmap.fits (deflated 70%)\r\n",
        "updating: tsmap_3fgl/3FGL_J1813.6-1148_tsmap.jpg (deflated 8%)\r\n",
        "updating: tsmap_3fgl/3FGL_J1814.1-1734c_tsmap.fits"
       ]
      },
      {
       "output_type": "stream",
       "stream": "stdout",
       "text": [
        " (deflated 70%)\r\n",
        "updating: tsmap_3fgl/3FGL_J1814.1-1734ctsmap.jpg (deflated 9%)\r\n",
        "updating: tsmap_3fgl/3FGL_J1818.7-1528__tsmap.fits"
       ]
      },
      {
       "output_type": "stream",
       "stream": "stdout",
       "text": [
        " (deflated 70%)\r\n",
        "updating: tsmap_3fgl/3FGL_J1818.7-1528_tsmap.jpg (deflated 10%)\r\n",
        "updating: tsmap_3fgl/3FGL_J1828.4-1121__tsmap.fits (deflated 70%)\r\n",
        "updating: tsmap_3fgl/3FGL_J1828.4-1121_tsmap.jpg"
       ]
      },
      {
       "output_type": "stream",
       "stream": "stdout",
       "text": [
        " (deflated 4%)\r\n",
        "updating: tsmap_3fgl/3FGL_J1829.2p2731__tsmap.fits (deflated 71%)\r\n",
        "updating: tsmap_3fgl/3FGL_J1829.2p2731_tsmap.jpg (deflated 11%)\r\n",
        "updating: tsmap_3fgl/3FGL_J1829.9-0203c_tsmap.fits"
       ]
      },
      {
       "output_type": "stream",
       "stream": "stdout",
       "text": [
        " (deflated 71%)\r\n",
        "updating: tsmap_3fgl/3FGL_J1829.9-0203ctsmap.jpg (deflated 12%)\r\n",
        "updating: tsmap_3fgl/3FGL_J1833.9-0711__tsmap.fits (deflated 70%)\r\n",
        "updating: tsmap_3fgl/3FGL_J1833.9-0711_tsmap.jpg"
       ]
      },
      {
       "output_type": "stream",
       "stream": "stdout",
       "text": [
        " (deflated 13%)\r\n",
        "updating: tsmap_3fgl/3FGL_J1848.6p3232__tsmap.fits (deflated 70%)\r\n",
        "updating: tsmap_3fgl/3FGL_J1848.6p3232_tsmap.jpg (deflated 9%)\r\n",
        "updating: tsmap_3fgl/3FGL_J1849.5-0124c_tsmap.fits"
       ]
      },
      {
       "output_type": "stream",
       "stream": "stdout",
       "text": [
        " (deflated 71%)\r\n",
        "updating: tsmap_3fgl/3FGL_J1849.5-0124ctsmap.jpg (deflated 13%)\r\n",
        "updating: tsmap_3fgl/3FGL_J1900.3p0411c_tsmap.fits (deflated 70%)\r\n",
        "updating: tsmap_3fgl/3FGL_J1900.3p0411ctsmap.jpg"
       ]
      },
      {
       "output_type": "stream",
       "stream": "stdout",
       "text": [
        " (deflated 10%)\r\n",
        "updating: tsmap_3fgl/3FGL_J1913.0p0910_tsmap.jpg (deflated 9%)\r\n",
        "updating: tsmap_3fgl/3FGL_J1915.2p0954__tsmap.fits"
       ]
      },
      {
       "output_type": "stream",
       "stream": "stdout",
       "text": [
        " (deflated 70%)\r\n",
        "updating: tsmap_3fgl/3FGL_J1915.2p0954_tsmap.jpg (deflated 5%)\r\n",
        "updating: tsmap_3fgl/3FGL_J1957.9-0712__tsmap.fits (deflated 71%)\r\n",
        "updating: tsmap_3fgl/3FGL_J1957.9-0712_tsmap.jpg (deflated 7%)\r\n",
        "updating: tsmap_3fgl/3FGL_J2009.2-1458__tsmap.fits"
       ]
      },
      {
       "output_type": "stream",
       "stream": "stdout",
       "text": [
        " (deflated 70%)\r\n",
        "updating: tsmap_3fgl/3FGL_J2009.2-1458_tsmap.jpg (deflated 5%)\r\n",
        "updating: tsmap_3fgl/3FGL_J2039.4p4111__tsmap.fits (deflated 71%)\r\n",
        "updating: tsmap_3fgl/3FGL_J2039.4p4111_tsmap.jpg"
       ]
      },
      {
       "output_type": "stream",
       "stream": "stdout",
       "text": [
        " (deflated 10%)\r\n",
        "updating: tsmap_3fgl/3FGL_J2042.4p4209__tsmap.fits (deflated 71%)\r\n",
        "updating: tsmap_3fgl/3FGL_J2042.4p4209_tsmap.jpg (deflated 13%)\r\n",
        "updating: tsmap_3fgl/3FGL_J2130.4-4237__tsmap.fits (deflated 71%)\r\n",
        "updating: tsmap_3fgl/3FGL_J2130.4-4237_tsmap.jpg"
       ]
      },
      {
       "output_type": "stream",
       "stream": "stdout",
       "text": [
        " (deflated 13%)\r\n",
        "updating: tsmap_3fgl/3FGL_J2131.5p2605__tsmap.fits"
       ]
      },
      {
       "output_type": "stream",
       "stream": "stdout",
       "text": [
        " (deflated 70%)\r\n",
        "updating: tsmap_3fgl/3FGL_J2131.5p2605_tsmap.jpg (deflated 7%)\r\n",
        "updating: tsmap_3fgl/3FGL_J2225.8p6045__tsmap.fits (deflated 70%)\r\n",
        "updating: tsmap_3fgl/3FGL_J2225.8p6045_tsmap.jpg"
       ]
      },
      {
       "output_type": "stream",
       "stream": "stdout",
       "text": [
        " (deflated 4%)\r\n",
        "updating: tsmap_3fgl/3FGL_J2246.7-5205__tsmap.fits (deflated 70%)\r\n",
        "updating: tsmap_3fgl/3FGL_J2246.7-5205_tsmap.jpg (deflated 6%)\r\n",
        "updating: tsmap_3fgl/3FGL_J2258.8p2437__tsmap.fits (deflated 71%)\r\n",
        "updating: tsmap_3fgl/3FGL_J2258.8p2437_tsmap.jpg"
       ]
      },
      {
       "output_type": "stream",
       "stream": "stdout",
       "text": [
        " (deflated 6%)\r\n",
        "updating: tsmap_3fgl/3FGL_J2343.0-4748__tsmap.fits (deflated 70%)\r\n",
        "updating: tsmap_3fgl/3FGL_J2343.0-4748_tsmap.jpg (deflated 9%)\r\n",
        "updating: tsmap_3fgl/3FGL_J2344.9-5647__tsmap.fits"
       ]
      },
      {
       "output_type": "stream",
       "stream": "stdout",
       "text": [
        " (deflated 71%)\r\n",
        "updating: tsmap_3fgl/3FGL_J2344.9-5647_tsmap.jpg (deflated 8%)\r\n",
        "updating: tsmap_3fgl/3FGL_J2353.3p6639__tsmap.fits (deflated 70%)\r\n",
        "updating: tsmap_3fgl/3FGL_J2353.3p6639_tsmap.jpg (deflated 3%)\r\n",
        "updating: tsmap_3fgl/PSR_J1446-4701_tsmap.fits"
       ]
      },
      {
       "output_type": "stream",
       "stream": "stdout",
       "text": [
        " (deflated 70%)\r\n",
        "updating: tsmap_3fgl/PSR_J1446-4701_tsmap.jpg (deflated 7%)\r\n",
        "updating: tsmap_3fgl/PSR_J1913p0904_tsmap.fits (deflated 70%)\r\n",
        "updating: tsmap_3fgl/PSR_J1913p0904_tsmap.jpg (deflated 6%)\r\n",
        "  adding: tsmap_3fgl/3FGL_J0008.5p6853__tsmap.fits"
       ]
      },
      {
       "output_type": "stream",
       "stream": "stdout",
       "text": [
        " (deflated 71%)\r\n",
        "  adding: tsmap_3fgl/3FGL_J0021.6-6835__tsmap.fits (deflated 71%)\r\n",
        "  adding: tsmap_3fgl/3FGL_J0028.8p1951__tsmap.fits (deflated 70%)\r\n",
        "  adding: tsmap_3fgl/3FGL_J0102.1p0943__tsmap.fits (deflated 70%)\r\n",
        "  adding: tsmap_3fgl/3FGL_J0242.1-0534__tsmap.fits (deflated 70%)\r\n"
       ]
      }
     ],
     "prompt_number": 12
    },
    {
     "cell_type": "code",
     "collapsed": false,
     "input": [],
     "language": "python",
     "metadata": {},
     "outputs": []
    }
   ],
   "metadata": {}
  }
 ]
}