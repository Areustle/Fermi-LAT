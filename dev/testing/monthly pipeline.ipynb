{
 "cells": [
  {
   "cell_type": "markdown",
   "metadata": {},
   "source": [
    "#monthy pipeline"
   ]
  },
  {
   "cell_type": "code",
   "execution_count": 1,
   "metadata": {
    "collapsed": false
   },
   "outputs": [],
   "source": [
    "%matplotlib inline\n",
    "os.chdir(os.path.expandvars('$FERMI/skymodels/P301_monthly/month09'))\n",
    "from uw.like2 import process, configuration; map( reload, (process, configuration));"
   ]
  },
  {
   "cell_type": "code",
   "execution_count": 2,
   "metadata": {
    "collapsed": false
   },
   "outputs": [
    {
     "name": "stdout",
     "output_type": "stream",
     "text": [
      "Using configuration file \"config.txt\" in folder: /nfs/farm/g/glast/g/catalog/pointlike/skymodels/P301_monthly/month09/.\n",
      "Opening dataset P301_month09 from key in /afs/slac/g/glast/groups/catalog//pointlike/fermi/data/dataspec.py\n",
      "invoking Data.setPhotonBinner for front/back event types...\n",
      "processing cuts:  ZENITH_ANGLE zenith_cut\n",
      "ft1_cut DSTYP3: ZENITH_ANGLE\n",
      "DSUNI3: deg\n",
      "DSVAL3: 0:100\n",
      "DSREF3: None\n",
      "processing cuts:  THETA theta_cut\n",
      "ft1_cut None\n",
      "processing cuts:  EVENT_CLASS event_class_cut\n",
      "ft1_cut None\n",
      "File /afs/slac/g/glast/groups/catalog//pointlike/fermi/data/P8_P301/month09_4bpd.fits not found\n",
      "using Gti for creating binned photon file Gti: 476 intervals from 260370000 to 263000000, on time 2184422\n",
      "writing to binfile /afs/slac/g/glast/groups/catalog//pointlike/fermi/data/P8_P301/month09_4bpd.fits\n",
      "Creating binfile from 1 FT1 files\n"
     ]
    },
    {
     "name": "stderr",
     "output_type": "stream",
     "text": [
      "/afs/slac/g/glast/groups/catalog/python/anaconda/lib/python2.7/site-packages/pyfits/header.py:1108: PyfitsDeprecationWarning: The use of header.update() to add new keywords to a header is deprecated.  Instead, use either header.set() or simply `header[keyword] = value` or `header[keyword] = (value, comment)`.  header.set() is only necessary to use if you also want to use the before/after keyword arguments.\n",
      "  \"keyword arguments.\", PyfitsDeprecationWarning)\n",
      "/afs/slac/g/glast/groups/catalog/python/anaconda/lib/python2.7/site-packages/pyfits/file.py:339: UserWarning: Overwriting existing file '/afs/slac/g/glast/groups/catalog//pointlike/fermi/data/P8_P301/month09_4bpd.fits'.\n",
      "  warnings.warn(\"Overwriting existing file %r.\" % self.name)\n"
     ]
    },
    {
     "name": "stdout",
     "output_type": "stream",
     "text": [
      "found 40 bands, energies 10-1000000 MeV\n",
      "Gti: 476 intervals from 260370000 to 263000000, on time 2184422\n",
      "no header info in ltcube?\n",
      "Accepting ltcube without DSS info since legacy specified\n",
      "Verified ltcube /afs/slac/g/glast/groups/catalog//pointlike/fermi/data/../../../P8_P301/Source/ltcube_009_zmax100.fits\n",
      "dataset \"P301_month09\", found in /afs/slac/g/glast/groups/catalog//pointlike/fermi/data/dataspec.py:\n",
      "  Bins per decade: 4\n",
      "  FT1 files: \n",
      "  FT1 files: \n",
      "  /afs/slac/g/glast/groups/catalog//pointlike/fermi/data/../../../P8_P301/Source/P301_Source_009_zmax100.fits\n",
      "  FT2 files: \tNone\n",
      "  Binned data: /afs/slac/g/glast/groups/catalog//pointlike/fermi/data/P8_P301/month09_4bpd.fits\n",
      "              (load postponed)\n",
      "  Livetime cube: /afs/slac/g/glast/groups/catalog//pointlike/fermi/data/../../../P8_P301/Source/ltcube_009_zmax100.fits\n",
      "  Gti: 476 intervals from 260370000 to 263000000, on time 2184422\n",
      "  DSS: name             value     units     ref       \n",
      "       TIME             TABLE     s          :GTI\n",
      "       ENERGY           10:1000000MeV        None\n",
      "       ZENITH_ANGLE     0:100     deg        None\n",
      "       THETA            :66.4     deg        None\n",
      "       BIT_MASK(EVENT_CLASS,2)  1:1       DIMENSIONLESS None\n",
      "\n",
      "Will load healpix sources from /nfs/farm/g/glast/g/catalog/pointlike/skymodels/P301_monthly/month09/./pickle.zip\n"
     ]
    }
   ],
   "source": [
    "from uw.data import dataman; reload(dataman)\n",
    "config = configuration.Configuration('.', quiet=False, postpone=True, nocreate=False)"
   ]
  },
  {
   "cell_type": "code",
   "execution_count": 8,
   "metadata": {
    "collapsed": false
   },
   "outputs": [
    {
     "name": "stdout",
     "output_type": "stream",
     "text": [
      "Using configuration file \"config.txt\" in folder: /nfs/farm/g/glast/g/catalog/pointlike/skymodels/P301_monthly/month10/.\n",
      "Opening dataset P301_month10 from key in /afs/slac/g/glast/groups/catalog//pointlike/fermi/data/dataspec.py\n",
      "invoking Data.setPhotonBinner for front/back event types...\n",
      "processing cuts:  ZENITH_ANGLE zenith_cut\n",
      "ft1_cut DSTYP3: ZENITH_ANGLE\n",
      "DSUNI3: deg\n",
      "DSVAL3: 0:100\n",
      "DSREF3: None\n",
      "processing cuts:  THETA theta_cut\n",
      "ft1_cut None\n",
      "processing cuts:  EVENT_CLASS event_class_cut\n",
      "ft1_cut None\n",
      "GTI from binfile Gti: 473 intervals from 263000000 to 265630000, on time 2157445\n",
      "Verified binfile /afs/slac/g/glast/groups/catalog//pointlike/fermi/data/P8_P301/month10_4bpd.fits\n",
      "no header info in ltcube?\n",
      "Accepting ltcube without DSS info since legacy specified\n",
      "Verified ltcube /afs/slac/g/glast/groups/catalog//pointlike/fermi/data/../../../P8_P301/Source/ltcube_010_zmax100.fits\n",
      "loading binfile /afs/slac/g/glast/groups/catalog//pointlike/fermi/data/P8_P301/month10_4bpd.fits ... found 2385743 photons in 40 bands, energies 10-1000000 MeV\n",
      "dataset \"P301_month10\", found in /afs/slac/g/glast/groups/catalog//pointlike/fermi/data/dataspec.py:\n",
      "  Bins per decade: 4\n",
      "  FT1 files: \n",
      "  FT1 files: \n",
      "  /afs/slac/g/glast/groups/catalog//pointlike/fermi/data/../../../P8_P301/Source/P301_Source_010_zmax100.fits\n",
      "  FT2 files: \tNone\n",
      "  Binned data: /afs/slac/g/glast/groups/catalog//pointlike/fermi/data/P8_P301/month10_4bpd.fits\n",
      "             :  2385743 photons, 40 energy bands from 10 to 1000000 MeV\n",
      "  Livetime cube: /afs/slac/g/glast/groups/catalog//pointlike/fermi/data/../../../P8_P301/Source/ltcube_010_zmax100.fits\n",
      "  Gti: 473 intervals from 263000000 to 265630000, on time 2157445\n",
      "  DSS: name             value     units     ref       \n",
      "       TIME             TABLE     s          :GTI\n",
      "       ENERGY           10:1000000MeV        None\n",
      "       ZENITH_ANGLE     0:100     deg        None\n",
      "       THETA            :66.4     deg        None\n",
      "       BIT_MASK(EVENT_CLASS,2)  1:1       DIMENSIONLESS None\n",
      "\n",
      "Will load healpix sources from ../../P301_6years/uw970/pickle.zip\n"
     ]
    }
   ],
   "source": [
    "r = process.Process('.',  update_positions_flag=False)"
   ]
  },
  {
   "cell_type": "code",
   "execution_count": 9,
   "metadata": {
    "collapsed": false
   },
   "outputs": [
    {
     "name": "stdout",
     "output_type": "stream",
     "text": [
      "247 total sources: 3 extended, 3 global\n"
     ]
    },
    {
     "name": "stderr",
     "output_type": "stream",
     "text": [
      "/afs/slac/g/glast/groups/catalog/python/anaconda/lib/python2.7/site-packages/numpy/core/_methods.py:59: RuntimeWarning: Mean of empty slice.\n",
      "  warnings.warn(\"Mean of empty slice.\", RuntimeWarning)\n"
     ]
    }
   ],
   "source": [
    "r.setup_roi(888)"
   ]
  },
  {
   "cell_type": "code",
   "execution_count": 10,
   "metadata": {
    "collapsed": false
   },
   "outputs": [
    {
     "name": "stdout",
     "output_type": "stream",
     "text": [
      "current likelihood, est. diff to peak: 5474.1, 9.18\n",
      "Name                  index     value  error(%)  gradient\n",
      "P86Y4111_Norm             0 5.562e-13      24.3       1.9\n",
      "        _Index            1     2.722       9.0       1.9\n",
      "PSR J1747-2958_Norm       2 4.045e-11       5.8     -17.1\n",
      "              _Index      3     2.328       3.7      -2.8\n",
      "              _Cutoff     4      6386      25.5      -5.6\n",
      "P967-548_Norm             5 2.505e-12      29.9      -1.1\n",
      "        _Index            6     3.017      36.0      -0.2\n",
      "P86Y4089_Norm             7 7.713e-13      22.1      -3.5\n",
      "        _Index            8     2.708       7.6      -1.3\n",
      "P86Y4067_Norm             9 2.361e-11       2.7     -58.8\n",
      "        _Index           10     2.032       2.2     -13.8\n",
      "        _beta            11    0.1724      14.3      83.3\n",
      "P86Y4088_Norm            12 6.329e-13      20.2      -0.1\n",
      "        _Index           13      3.16      16.2       0.5\n",
      "        _beta            14     1.092      62.7       0.3\n",
      "P86Y4120_Norm            15 3.627e-13      31.7       0.8\n",
      "        _Index           16     2.768      11.1       0.6\n",
      "S966-2102_Norm           17 1.051e-13      39.6       1.8\n",
      "         _Index          18     2.683      17.0       0.9\n",
      "P86Y4104_Norm            19 2.816e-12      14.2      -2.4\n",
      "        _Index           20     2.289      13.9       0.7\n",
      "        _beta            21    0.4768      55.8       0.2\n",
      "P86Y4097_Norm            22 1.657e-12      24.4      -0.9\n",
      "        _Index           23     2.936       8.7      -2.3\n",
      "P967-540_Norm            24 7.047e-13      32.8      -0.7\n",
      "        _Index           25     2.649      28.3       0.2\n",
      "P86Y4080_Norm            26 3.946e-12      11.3     -23.2\n",
      "        _Index           27     2.649       4.7     -13.4\n",
      "        _beta            28   0.05582     114.2      26.6\n",
      "P967-509_Norm            29 1.227e-12      30.5      -0.1\n",
      "        _Index           30     2.343      33.0      -0.0\n",
      "        _beta            31     1.302      67.9      -0.2\n",
      "S966-2155_Norm           32 2.382e-14      39.1       1.3\n",
      "         _Index          33     2.347      17.9       0.8\n",
      "P967-524_Norm            34 4.643e-13      34.2       0.5\n",
      "        _Index           35     2.588      31.8       0.1\n",
      "S966-2113_Norm           36 6.644e-14      25.1       1.4\n",
      "         _Index          37     2.238       9.2       0.3\n",
      "P967-462_Norm            38 1.345e-12      19.5      -1.6\n",
      "        _Index           39     2.713      15.2      -0.9\n",
      "P86Y4131_Norm            40 8.902e-14      23.0      -0.4\n",
      "        _Index           41     1.543      23.0      -0.2\n",
      "        _beta            42    0.4633      53.0      -0.4\n",
      "S966-1971_Norm           43 1.575e-13      37.2      -1.8\n",
      "         _Index          44     2.622      15.0       1.3\n"
     ]
    }
   ],
   "source": [
    "r.summarize()"
   ]
  },
  {
   "cell_type": "code",
   "execution_count": 11,
   "metadata": {
    "collapsed": false
   },
   "outputs": [
    {
     "name": "stdout",
     "output_type": "stream",
     "text": [
      "Minimizer warning: bad errors for values ['P86Y4088_Norm' 'P967-524_Norm']\n",
      "49 calls, function value, improvement, quality: 5484.0, 9.86, -0.04\n",
      "Name                  index     value  error(%)  gradient\n",
      "P86Y4111_Norm             0 3.794e-15    7273.7       0.0\n",
      "PSR J1747-2958_Norm       2 3.418e-11      20.4      -0.4\n",
      "P967-548_Norm             5 6.003e-12      87.8      -0.1\n",
      "P86Y4089_Norm             7 1.665e-12      63.9       0.0\n",
      "P86Y4067_Norm             9 2.924e-11      14.9       0.2\n",
      "P86Y4088_Norm            12 3.034e-14       ***      -0.0\n",
      "P86Y4120_Norm            15 2.314e-13     254.0      -0.0\n",
      "S966-2102_Norm           17 2.682e-16    3542.5       0.0\n",
      "P86Y4104_Norm            19 3.585e-12      73.8      -0.1\n",
      "P86Y4097_Norm            22 1.529e-12     118.8      -0.1\n",
      "P967-540_Norm            24 1.183e-12     158.1      -0.0\n",
      "P86Y4080_Norm            26 6.991e-12      28.6       0.1\n",
      "P967-509_Norm            29 1.211e-12     179.1       0.0\n",
      "S966-2155_Norm           32 1.268e-16    2911.9       0.0\n",
      "P967-524_Norm            34 5.529e-14       ***      -0.0\n",
      "S966-2113_Norm           36 1.232e-15    2945.4       0.0\n",
      "P967-462_Norm            38 1.531e-12     130.8       0.0\n",
      "P86Y4131_Norm            40 1.094e-13     136.0      -0.1\n",
      "S966-1971_Norm           43 2.307e-13     125.9      -0.1\n"
     ]
    }
   ],
   "source": [
    "r.fit('_Norm')"
   ]
  },
  {
   "cell_type": "code",
   "execution_count": 14,
   "metadata": {
    "collapsed": false
   },
   "outputs": [
    {
     "name": "stdout",
     "output_type": "stream",
     "text": [
      "------------------------------------------------------------------------------------------ \n",
      "\t Nearby sources within 5.0 degrees HP12_0888\n",
      "name               dist        ra       dec        TS eflux(eV)    index   energy   beta/b\n",
      "S966-2113           0.1   269.597   -30.462        -0       0.1*    2.24!    3293     0\n",
      "P86Y4120            0.8   269.928   -29.876         0       4.9*    2.77*    1448     0\n",
      "P86Y4131            0.9   270.586   -30.709         2       4.3*    1.54*    3686     0.46*\n",
      "P86Y4111            0.9   269.390   -31.490        -0       0.1*    2.72!    1342     0\n",
      "P967-509            1.2   268.113   -30.584         1       3.2*    2.34*    1283     1.30*\n",
      "P86Y4104            1.3   268.609   -29.539         6      13.3*    2.29*    1185     0.48*\n",
      "S966-1971           1.4   268.079   -30.073         2      10.9*    2.62*    2113     0\n",
      "S966-2102           1.5   270.113   -29.188        -0       0.0*    2.68*    2081     0\n",
      "P967-548            1.9   270.991   -29.142         3       6.2*    3.02*     836     1.90 \n",
      "P967-462            1.9   268.015   -29.165         2       8.8*    2.71*    1444     0.61 \n",
      "P86Y4089            2.2   267.407   -31.749         7      29.4*    2.71!    1395     0\n",
      "P967-524            2.3   270.049   -28.264         0       0.3?    2.59*    1480     0.82 \n",
      "P86Y4088            2.3   267.260   -29.323         0       0.5?    3.16*    2496     1.09*\n",
      "PSR J1747-2958      2.4   266.811   -29.985        97     140.1*    2.33!    6386*    1\n",
      "P967-540            2.6   268.051   -32.769         1       4.4*    2.65*    1279     0.80 \n",
      "P86Y4080            2.7   267.037   -29.050        48     111.9*    2.65!    1477     0.06*\n",
      "P86Y4059            2.9   266.216   -30.585                15.6     2.37     3453     0\n",
      "P86Y4062            2.9   266.209   -30.209                26.1     2.83     1690     0.54 \n",
      "P86Y4097            3.0   268.393   -33.407         2      10.6*    2.94!     908     0\n",
      "P86Y4069            3.1   266.589   -28.870               165.1     2.31     1342     0.19 \n",
      "S966-2155           3.1   271.598   -27.984        -0       0.0*    2.35*    3693     0\n",
      "P86Y4082            3.1   267.127   -28.257                24.0     1.93     2723     0.55 \n",
      "P86Y4067            3.1   266.401   -29.009       196     253.2*    2.03!    1475     0.17*\n",
      "S966-1832           3.2   265.938   -31.089                 7.0     2.30     5246     0\n",
      "PSR J1746-3239      3.2   266.729   -32.660                33.5     1.45     2228     1\n",
      "P86Y4073            3.2   266.789   -28.430                63.6     2.41     1332     0.35 \n",
      "P86Y4055            3.2   266.161   -29.261                31.9     2.19     1262     0.58 \n",
      "P86Y4136            3.3   270.808   -27.448                 5.8     2.39     2455     0\n",
      "S966-1898           3.3   265.966   -31.752                11.6     2.58     2614     0\n",
      "P86Y4175            3.3   273.212   -31.736                 1.7     2.26     3658     1.16 \n",
      "P86Y4043            3.7   265.350   -31.351                12.6     2.46     2586     0\n",
      "P86Y4041            3.7   265.243   -30.867                13.7     2.66     1665     0.71 \n",
      "P86Y4170            3.8   272.800   -28.008                 2.3     1.78     9196     0\n",
      "P86Y4162            3.9   272.345   -27.458                 3.4     2.34     2566     0\n",
      "P967-371            4.0   265.625   -28.562                15.6     2.28     1186     0.41 \n",
      "PSR J1739-3023      4.0   264.906   -30.234                11.2     1.60     2000     1\n",
      "P86Y4155            4.0   272.090   -33.986                 5.3     2.14      991     0.54 \n",
      "S966-2078           4.0   266.542   -33.688                 2.8     2.34     4616     0\n",
      "S966-2037           4.0   266.193   -33.419                 6.9     2.47     3258     0\n",
      "P86Y4201            4.1   274.276   -30.563                 3.7     2.20     2895     0\n",
      "P86Y4034            4.1   265.140   -29.013                44.8     2.74     1083     0.05 \n",
      "P86Y4046            4.4   265.567   -33.342                12.2     2.19     1206     0.39 \n",
      "P967-458            4.5   264.572   -31.937                 6.4     2.76     1175     0.82 \n",
      "S966-2353           4.6   274.583   -32.190                 1.7     2.06     1296     0.94 \n",
      "P86Y4038            4.7   265.423   -27.486                24.6     2.91      888     0.17 \n",
      "S966-2323           4.8   274.990   -29.467                 2.2     2.36    20000     0\n",
      "S966-1513           4.9   263.930   -30.450                 2.8     2.34     3313     4.90 \n",
      "P86Y4024            5.0   264.501   -28.210                 8.2     2.55      927     1.25 \n",
      "------------------------------------------------------------------------------------------ \n",
      "\tDiffuse sources\n",
      "------------------------------------------------------------------------------------------\n",
      "ring                        1.00       0.00 \n",
      "isotrop                     1.00 \n",
      "SunMoon                     1.00 \n",
      "------------------------------------------------------------------------------------------\n"
     ]
    }
   ],
   "source": [
    "r.print_summary()"
   ]
  }
 ],
 "metadata": {
  "kernelspec": {
   "display_name": "Python 2",
   "language": "python",
   "name": "python2"
  },
  "language_info": {
   "codemirror_mode": {
    "name": "ipython",
    "version": 2
   },
   "file_extension": ".py",
   "mimetype": "text/x-python",
   "name": "python",
   "nbconvert_exporter": "python",
   "pygments_lexer": "ipython2",
   "version": "2.7.9"
  }
 },
 "nbformat": 4,
 "nbformat_minor": 0
}
