{
 "metadata": {
  "name": "",
  "signature": "sha256:cc0114aa34b1f3a3340139da976b56c47a818371b22008134d2d8e92566c2c43"
 },
 "nbformat": 3,
 "nbformat_minor": 0,
 "worksheets": [
  {
   "cells": [
    {
     "cell_type": "markdown",
     "metadata": {},
     "source": [
      "#PSF development"
     ]
    },
    {
     "cell_type": "code",
     "collapsed": false,
     "input": [
      "%matplotlib inline\n",
      "os.chdir(os.path.expandvars('$FERMI/custom_irfs'))\n",
      "!ls *_P8R2*"
     ],
     "language": "python",
     "metadata": {},
     "outputs": [
      {
       "output_type": "stream",
       "stream": "stdout",
       "text": [
        "aeff_P8R2_SOURCE_V6_BACK.fits\tedisp_P8R2_SOURCE_V6_BACK.fits\t psf_P8R2_SOURCE_V6_BACK.fits\r\n",
        "aeff_P8R2_SOURCE_V6_EDISP.fits\tedisp_P8R2_SOURCE_V6_EDISP.fits  psf_P8R2_SOURCE_V6_EDISP.fits\r\n",
        "aeff_P8R2_SOURCE_V6_FB.fits\tedisp_P8R2_SOURCE_V6_FB.fits\t psf_P8R2_SOURCE_V6_FB.fits\r\n",
        "aeff_P8R2_SOURCE_V6_FRONT.fits\tedisp_P8R2_SOURCE_V6_FRONT.fits  psf_P8R2_SOURCE_V6_FRONT.fits\r\n",
        "aeff_P8R2_SOURCE_V6_PSF.fits\tedisp_P8R2_SOURCE_V6_PSF.fits\t psf_P8R2_SOURCE_V6_PSF.fits\r\n",
        "aeff_P8R2_SOURCE_V6_back.fits\tedisp_P8R2_SOURCE_V6_back.fits\t psf_P8R2_SOURCE_V6_back.fits\r\n",
        "aeff_P8R2_SOURCE_V6_front.fits\tedisp_P8R2_SOURCE_V6_front.fits  psf_P8R2_SOURCE_V6_front.fits\r\n"
       ]
      }
     ],
     "prompt_number": 1
    },
    {
     "cell_type": "code",
     "collapsed": false,
     "input": [
      "import pyfits\n",
      "hdus = x = pyfits.open('psf_P8R2_SOURCE_V6_front.fits')\n",
      "np.array(x[2].data)"
     ],
     "language": "python",
     "metadata": {},
     "outputs": [
      {
       "metadata": {},
       "output_type": "pyout",
       "prompt_number": 2,
       "text": [
        "array([([0.06379999965429306, 0.0012600000482052565, -0.800000011920929],)], \n",
        "      dtype=[('PSFSCALE', '>f4', (3,))])"
       ]
      }
     ],
     "prompt_number": 2
    },
    {
     "cell_type": "code",
     "collapsed": false,
     "input": [
      "t = hdus[1].header['TUNIT*']\n",
      "t.values().index('MeV')"
     ],
     "language": "python",
     "metadata": {},
     "outputs": [
      {
       "metadata": {},
       "output_type": "pyout",
       "prompt_number": 7,
       "text": [
        "0"
       ]
      }
     ],
     "prompt_number": 7
    },
    {
     "cell_type": "code",
     "collapsed": false,
     "input": [
      "hd_back =  pyfits.open('psf_P8R2_SOURCE_V6_back.fits')\n",
      "np.array(hd_back[2].data)"
     ],
     "language": "python",
     "metadata": {},
     "outputs": [
      {
       "metadata": {},
       "output_type": "pyout",
       "prompt_number": 20,
       "text": [
        "array([([0.12300000339746475, 0.002219999907538295, -0.800000011920929],)], \n",
        "      dtype=[('PSFSCALE', '>f4', (3,))])"
       ]
      }
     ],
     "prompt_number": 20
    },
    {
     "cell_type": "code",
     "collapsed": false,
     "input": [
      "x = pyfits.open('psf_P8_SOURCE_V4_front.fits')\n",
      "np.array(x[2].data)"
     ],
     "language": "python",
     "metadata": {},
     "outputs": [
      {
       "metadata": {},
       "output_type": "pyout",
       "prompt_number": 15,
       "text": [
        "array([ ([0.057999998331069946, 0.0003769999893847853, 0.09600000083446503, 0.0013000000035390258, -0.800000011920929],)], \n",
        "      dtype=[('PSFSCALE', '>f4', (5,))])"
       ]
      }
     ],
     "prompt_number": 15
    },
    {
     "cell_type": "code",
     "collapsed": false,
     "input": [
      "b = pyfits.open('psf_P8_SOURCE_V4_back.fits')\n",
      "np.array(b[2].data)"
     ],
     "language": "python",
     "metadata": {},
     "outputs": [
      {
       "metadata": {},
       "output_type": "pyout",
       "prompt_number": 16,
       "text": [
        "array([ ([0.057999998331069946, 0.0003769999893847853, 0.09600000083446503, 0.0013000000035390258, -0.800000011920929],)], \n",
        "      dtype=[('PSFSCALE', '>f4', (5,))])"
       ]
      }
     ],
     "prompt_number": 16
    },
    {
     "cell_type": "code",
     "collapsed": false,
     "input": [
      "pyfits.open('psf_P8R2_SOURCE_V6_FB.fits').info()"
     ],
     "language": "python",
     "metadata": {},
     "outputs": [
      {
       "output_type": "stream",
       "stream": "stdout",
       "text": [
        "Filename: psf_P8R2_SOURCE_V6_FB.fits\n",
        "No.    Name         Type      Cards   Dimensions   Format\n",
        "0    PRIMARY     PrimaryHDU      10   ()              \n",
        "1    RPSF_FRONT  BinTableHDU     79   1R x 10C     [23E, 23E, 8E, 8E, 184E, 184E, 184E, 184E, 184E, 184E]   \n",
        "2    PSF_SCALING_PARAMS_FRONT  BinTableHDU     39   1R x 1C      [3E]   \n",
        "3    FISHEYE_CORRECTION_FRONT  BinTableHDU     67   1R x 7C      [46E, 46E, 16E, 16E, 736E, 736E, 736E]   \n",
        "4    RPSF_BACK   BinTableHDU     79   1R x 10C     [23E, 23E, 8E, 8E, 184E, 184E, 184E, 184E, 184E, 184E]   \n",
        "5    PSF_SCALING_PARAMS_BACK  BinTableHDU     39   1R x 1C      [3E]   \n",
        "6    FISHEYE_CORRECTION_BACK  BinTableHDU     67   1R x 7C      [46E, 46E, 16E, 16E, 736E, 736E, 736E]   \n"
       ]
      }
     ],
     "prompt_number": 22
    },
    {
     "cell_type": "code",
     "collapsed": false,
     "input": [
      "pyfits.open('aeff_P8R2_SOURCE_V6_FB.fits').info()"
     ],
     "language": "python",
     "metadata": {},
     "outputs": [
      {
       "output_type": "stream",
       "stream": "stdout",
       "text": [
        "Filename: aeff_P8R2_SOURCE_V6_FB.fits\n",
        "No.    Name         Type      Cards   Dimensions   Format\n",
        "0    PRIMARY     PrimaryHDU      10   ()              \n",
        "1    EFFECTIVE AREA_FRONT  BinTableHDU     58   1R x 5C      [74E, 74E, 32E, 32E, 2368E]   \n",
        "2    PHI_DEPENDENCE_FRONT  BinTableHDU     61   1R x 6C      [23E, 23E, 8E, 8E, 184E, 184E]   \n",
        "3    EFFICIENCY_PARAMS_FRONT  BinTableHDU     36   2R x 1C      [6E]   \n",
        "4    EFFECTIVE AREA_BACK  BinTableHDU     58   1R x 5C      [74E, 74E, 32E, 32E, 2368E]   \n",
        "5    PHI_DEPENDENCE_BACK  BinTableHDU     61   1R x 6C      [23E, 23E, 8E, 8E, 184E, 184E]   \n",
        "6    EFFICIENCY_PARAMS_BACK  BinTableHDU     36   2R x 1C      [6E]   \n"
       ]
      }
     ],
     "prompt_number": 24
    }
   ],
   "metadata": {}
  }
 ]
}