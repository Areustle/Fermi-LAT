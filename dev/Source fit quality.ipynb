{
 "metadata": {
  "name": "",
  "signature": "sha256:e0ef830692617eb190b2d81be45338f6af8ba3b8848072da42dbd3103a213a12"
 },
 "nbformat": 3,
 "nbformat_minor": 0,
 "worksheets": [
  {
   "cells": [
    {
     "cell_type": "markdown",
     "metadata": {},
     "source": [
      "#Study the source fit quality\n",
      "I need to define the expectation for the fit quality that I defined for the 3FGL paper.\n",
      "Naively, it is chi-squared for n degrees of freedom, where n is the number of energy bands.\n",
      "But high energy bands do not contribute, I think, if the expectation is much smaller than one event.\n",
      "\n",
      "These notes are an attempt to analyze this.\n",
      "First, define the spectral function and the bins:"
     ]
    },
    {
     "cell_type": "code",
     "collapsed": false,
     "input": [
      "def S(x):\n",
      "    return 1.\n",
      "bins = np.linspace(0,1.,11); bins\n",
      "N = 10000"
     ],
     "language": "python",
     "metadata": {},
     "outputs": [],
     "prompt_number": 3
    },
    {
     "cell_type": "code",
     "collapsed": false,
     "input": [],
     "language": "python",
     "metadata": {},
     "outputs": []
    },
    {
     "cell_type": "code",
     "collapsed": false,
     "input": [
      "# is there a generator for spectral models? That is, the inverse of the integral? Apparently not.\n",
      "from uw.like import Models\n",
      "m = Models.PowerLaw()\n",
      "m"
     ],
     "language": "python",
     "metadata": {},
     "outputs": [
      {
       "metadata": {},
       "output_type": "pyout",
       "prompt_number": 4,
       "text": [
        "Norm      : 1e-11 \n",
        "Index     : 2 \n",
        "Ph. Flux  : 9.99e-08 (DERIVED)\n",
        "En. Flux  : 1.11e-10 (DERIVED)"
       ]
      }
     ],
     "prompt_number": 4
    },
    {
     "cell_type": "code",
     "collapsed": false,
     "input": [
      "m."
     ],
     "language": "python",
     "metadata": {},
     "outputs": []
    }
   ],
   "metadata": {}
  }
 ]
}