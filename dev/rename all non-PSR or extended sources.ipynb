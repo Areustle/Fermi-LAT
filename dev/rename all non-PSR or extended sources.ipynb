{
 "metadata": {
  "name": "",
  "signature": "sha256:2ab0b62eefa2647cca1c8183914fc48090b07aa9ed8793213d72828f12684e5c"
 },
 "nbformat": 3,
 "nbformat_minor": 0,
 "worksheets": [
  {
   "cells": [
    {
     "cell_type": "markdown",
     "metadata": {},
     "source": [
      "#Rename sources"
     ]
    },
    {
     "cell_type": "code",
     "collapsed": false,
     "input": [
      "%matplotlib inline\n",
      "os.chdir(os.path.expandvars('$FERMI/skymodels/P301_6years/uw965'))"
     ],
     "language": "python",
     "metadata": {},
     "outputs": [],
     "prompt_number": 1
    },
    {
     "cell_type": "code",
     "collapsed": false,
     "input": [
      "from uw.like2.analyze import sourceinfo; reload(sourceinfo)\n",
      "self = sourceinfo.SourceInfo()"
     ],
     "language": "python",
     "metadata": {},
     "outputs": [
      {
       "output_type": "stream",
       "stream": "stdout",
       "text": [
        "loading sources.pickle\n"
       ]
      }
     ],
     "prompt_number": 2
    },
    {
     "cell_type": "markdown",
     "metadata": {},
     "source": [
      "##Select "
     ]
    },
    {
     "cell_type": "code",
     "collapsed": false,
     "input": [
      "psr = np.array([name[:3]=='PSR' for name in self.df.index],bool)\n",
      "ext = np.array(self.df.isextended, bool)\n",
      "torename = ~psr & ~ext; print 'will rename:' ,sum(torename)\n",
      "sources = self.df[torename]['ra dec ts roiname'.split()]\n",
      "sources.sort_index(by='ra')\n",
      "srcnames = sources.index\n",
      "rois = self.df.roiname[torename]\n",
      "rois = sorted(list(set( [int(r[5:]) for r in rois]))); "
     ],
     "language": "python",
     "metadata": {},
     "outputs": [
      {
       "output_type": "stream",
       "stream": "stdout",
       "text": [
        "will rename: 5442\n"
       ]
      }
     ],
     "prompt_number": 3
    },
    {
     "cell_type": "code",
     "collapsed": false,
     "input": [
      "newnames = ['P86Y%04d'%i for i in xrange(len(sources))]; newnames\n",
      "sources['newname']=newnames"
     ],
     "language": "python",
     "metadata": {},
     "outputs": [],
     "prompt_number": 4
    },
    {
     "cell_type": "code",
     "collapsed": false,
     "input": [
      "sources.to_csv('../uw966/rename.csv')"
     ],
     "language": "python",
     "metadata": {},
     "outputs": [],
     "prompt_number": 5
    },
    {
     "cell_type": "markdown",
     "metadata": {},
     "source": [
      "##Update pickle files\n",
      "Note that the assumption is made that they correspond to the current model, in the zip file"
     ]
    },
    {
     "cell_type": "code",
     "collapsed": false,
     "input": [
      "os.chdir(os.path.expandvars('$FERMI/skymodels/P301_6years/uw966'))\n",
      "import glob, pickle\n",
      "ff = sorted(glob.glob('pickle/*.pickle')); \n",
      "for fname  in ff:\n",
      "    print fname\n",
      "    f = pickle.load(open(fname))\n",
      "    srcdict = f['sources']\n",
      "    for s in srcnames:\n",
      "        if s in srcdict:\n",
      "            newname = sources.ix[s].newname\n",
      "            print '\\t',s, '-->', newname\n",
      "            item = f['sources'][s]\n",
      "            item['oldnames']=[s]\n",
      "            srcdict[newname] = srcdict.pop(s)\n",
      "    pickle.dump(f, open(fname, 'w'))"
     ],
     "language": "python",
     "metadata": {},
     "outputs": [
      {
       "output_type": "stream",
       "stream": "stdout",
       "text": [
        "pickle/HP12_0000.pickle\n",
        "\tS962-001 --> P86Y2912\n",
        "pickle/HP12_0001.pickle"
       ]
      },
      {
       "output_type": "stream",
       "stream": "stdout",
       "text": [
        "\n",
        "\tP7R41870 --> P86Y2887\n",
        "\tS962-000 --> P86Y2892\n",
        "\tS962-002 --> P86Y2899\n",
        "pickle/HP12_0002.pickle"
       ]
      },
      {
       "output_type": "stream",
       "stream": "stdout",
       "text": [
        "\n",
        "\tP7R41815 --> P86Y2824\n",
        "pickle/HP12_0003.pickle"
       ]
      },
      {
       "output_type": "stream",
       "stream": "stdout",
       "text": [
        "\n",
        "\tP7R41879 --> P86Y2901\n",
        "\tP7R41889G --> P86Y2918\n",
        "\tP7R41907 --> P86Y2938\n",
        "pickle/HP12_0004.pickle"
       ]
      },
      {
       "output_type": "stream",
       "stream": "stdout",
       "text": [
        "\n",
        "\tP7R41932G --> P86Y2973\n",
        "\tP7R41944 --> P86Y2985\n",
        "\tP7R41979G --> P86Y3031\n",
        "\tSEED-017 --> P86Y3042\n",
        "\tP7R42000 --> P86Y3061\n",
        "pickle/HP12_0005.pickle"
       ]
      },
      {
       "output_type": "stream",
       "stream": "stdout",
       "text": [
        "\n",
        "\tP7R41934 --> P86Y2972\n",
        "\tS962-007 --> P86Y2976\n",
        "\tS907-004 --> P86Y2991\n",
        "\tP7R41969 --> P86Y3017\n",
        "\tP7R41975 --> P86Y3023\n",
        "\tS962-017 --> P86Y3026\n",
        "\tS962-022 --> P86Y3039\n",
        "\tP7R41989 --> P86Y3047\n",
        "pickle/HP12_0006.pickle"
       ]
      },
      {
       "output_type": "stream",
       "stream": "stdout",
       "text": [
        "\n",
        "\tP7R41866 --> P86Y2883\n",
        "\tP7R41886 --> P86Y2914\n",
        "\tP7R41889 --> P86Y2916\n",
        "\tP7R41902 --> P86Y2933\n",
        "\tS907-018 --> P86Y2941\n",
        "pickle/HP12_0007.pickle"
       ]
      },
      {
       "output_type": "stream",
       "stream": "stdout",
       "text": [
        "\n",
        "\tS907-010 --> P86Y2814\n",
        "\tSEED-007 --> P86Y2858\n",
        "pickle/HP12_0008.pickle"
       ]
      },
      {
       "output_type": "stream",
       "stream": "stdout",
       "text": [
        "\n",
        "\tS962-024 --> P86Y2715\n",
        "\tP7R41770 --> P86Y2767\n",
        "\tP7R41784 --> P86Y2787\n",
        "\tP7R41785 --> P86Y2789\n",
        "\tP7R41804 --> P86Y2813\n",
        "\tP7R41820 --> P86Y2832\n",
        "pickle/HP12_0009.pickle"
       ]
      },
      {
       "output_type": "stream",
       "stream": "stdout",
       "text": [
        "\n",
        "\tP7R41755 --> P86Y2742\n",
        "\tSEED-004 --> P86Y2803\n",
        "\tP7R41795 --> P86Y2804\n",
        "\tP7R41797 --> P86Y2809\n",
        "\tP7R41816A --> P86Y2827\n",
        "\tS962-004 --> P86Y2838\n",
        "pickle/HP12_0010.pickle"
       ]
      },
      {
       "output_type": "stream",
       "stream": "stdout",
       "text": [
        "\n",
        "\tS962-023 --> P86Y2866\n",
        "\tS962-006 --> P86Y2890\n",
        "pickle/HP12_0011.pickle"
       ]
      },
      {
       "output_type": "stream",
       "stream": "stdout",
       "text": [
        "\n",
        "\tSEED-002 --> P86Y2935\n",
        "\tSEED-014 --> P86Y2992\n",
        "pickle/HP12_0012.pickle"
       ]
      },
      {
       "output_type": "stream",
       "stream": "stdout",
       "text": [
        "\n",
        "\tP7R41979 --> P86Y3030\n",
        "\tP7R42008A --> P86Y3072\n",
        "\tSEED-024 --> P86Y3073\n",
        "pickle/HP12_0013.pickle"
       ]
      },
      {
       "output_type": "stream",
       "stream": "stdout",
       "text": [
        "\n",
        "\tSEED-016 --> P86Y3046\n",
        "\tS962-032 --> P86Y3096\n",
        "\tP7R42041 --> P86Y3124\n",
        "\tS962-037 --> P86Y3130\n",
        "pickle/HP12_0014.pickle"
       ]
      },
      {
       "output_type": "stream",
       "stream": "stdout",
       "text": [
        "\n",
        "\tP7R41953 --> P86Y2995\n",
        "pickle/HP12_0015.pickle"
       ]
      },
      {
       "output_type": "stream",
       "stream": "stdout",
       "text": [
        "\n",
        "\tP7R41901 --> P86Y2932\n",
        "\tS907-020 --> P86Y2948\n",
        "\tS907-029 --> P86Y2954\n",
        "\tP7R41924 --> P86Y2962\n",
        "\tS907-022 --> P86Y2967\n",
        "\tP7R41936C --> P86Y2977\n",
        "pickle/HP12_0016.pickle"
       ]
      },
      {
       "output_type": "stream",
       "stream": "stdout",
       "text": [
        "\n",
        "\tS962-028 --> P86Y2826\n",
        "\tP7R41835 --> P86Y2845\n",
        "\tS907-032 --> P86Y2863\n",
        "\tP7R41849 --> P86Y2864\n",
        "pickle/HP12_0017.pickle"
       ]
      },
      {
       "output_type": "stream",
       "stream": "stdout",
       "text": [
        "\n",
        "\tP7R41736G --> P86Y2714\n",
        "\tS962-033 --> P86Y2748\n",
        "\tP7R41781 --> P86Y2779\n",
        "\tS962-027 --> P86Y2791\n",
        "pickle/HP12_0018.pickle"
       ]
      },
      {
       "output_type": "stream",
       "stream": "stdout",
       "text": [
        "\n",
        "\tP7R41691 --> P86Y2647\n",
        "\tS962-036 --> P86Y2663\n",
        "\tS907-027 --> P86Y2679\n",
        "\tP7R41716 --> P86Y2689\n",
        "\tS962-030 --> P86Y2706\n",
        "\tSEED-019 --> P86Y2724\n",
        "pickle/HP12_0019.pickle"
       ]
      },
      {
       "output_type": "stream",
       "stream": "stdout",
       "text": [
        "\n",
        "\tP7R41693 --> P86Y2654\n",
        "\tS907-025 --> P86Y2686\n",
        "\tP7R41754 --> P86Y2744\n",
        "pickle/HP12_0020.pickle"
       ]
      },
      {
       "output_type": "stream",
       "stream": "stdout",
       "text": [
        "\n",
        "\tP7R41750 --> P86Y2735\n",
        "pickle/HP12_0021.pickle"
       ]
      },
      {
       "output_type": "stream",
       "stream": "stdout",
       "text": [
        "\n",
        "\tP7R41823 --> P86Y2836\n",
        "\tP7R41854 --> P86Y2871\n",
        "pickle/HP12_0022.pickle"
       ]
      },
      {
       "output_type": "stream",
       "stream": "stdout",
       "text": [
        "\n",
        "\tP7R41898P --> P86Y2930\n",
        "\tP7R41913 --> P86Y2946\n",
        "pickle/HP12_0023.pickle"
       ]
      },
      {
       "output_type": "stream",
       "stream": "stdout",
       "text": [
        "\n",
        "\tP7R41961 --> P86Y3008\n",
        "\tS962-031 --> P86Y3025\n",
        "pickle/HP12_0024.pickle"
       ]
      },
      {
       "output_type": "stream",
       "stream": "stdout",
       "text": [
        "\n",
        "\tP7R42029AP --> P86Y3093\n",
        "\tS907-046 --> P86Y3120\n",
        "\tS907-051 --> P86Y3147\n",
        "pickle/HP12_0025.pickle"
       ]
      },
      {
       "output_type": "stream",
       "stream": "stdout",
       "text": [
        "\n",
        "\tS907-036 --> P86Y3137\n",
        "pickle/HP12_0026.pickle"
       ]
      },
      {
       "output_type": "stream",
       "stream": "stdout",
       "text": [
        "\n",
        "\tS907-037 --> P86Y3132\n",
        "pickle/HP12_0027.pickle"
       ]
      },
      {
       "output_type": "stream",
       "stream": "stdout",
       "text": [
        "\n",
        "\tS962-043 --> P86Y3106\n",
        "\tP7R42049 --> P86Y3134\n",
        "\tP7R42053 --> P86Y3140\n",
        "pickle/HP12_0028.pickle"
       ]
      },
      {
       "output_type": "stream",
       "stream": "stdout",
       "text": [
        "\n",
        "\tP7R41928 --> P86Y2965\n",
        "pickle/HP12_0029.pickle"
       ]
      },
      {
       "output_type": "stream",
       "stream": "stdout",
       "text": [
        "\n",
        "\tP7R41860 --> P86Y2877\n",
        "pickle/HP12_0030.pickle"
       ]
      },
      {
       "output_type": "stream",
       "stream": "stdout",
       "text": [
        "\n",
        "\tP7R41749 --> P86Y2734\n",
        "\tS907-040 --> P86Y2737\n",
        "\tP7R41796 --> P86Y2807\n",
        "pickle/HP12_0031.pickle"
       ]
      },
      {
       "output_type": "stream",
       "stream": "stdout",
       "text": [
        "\n",
        "\tP7R41685 --> P86Y2640\n",
        "\tP7R41701 --> P86Y2672\n",
        "\tP7R41723 --> P86Y2700\n",
        "pickle/HP12_0032.pickle"
       ]
      },
      {
       "output_type": "stream",
       "stream": "stdout",
       "text": [
        "\n",
        "\tS907-058 --> P86Y2594\n",
        "\tS907-054 --> P86Y2609\n",
        "\tS907-049 --> P86Y2628\n",
        "\tS907-044 --> P86Y2629\n",
        "\tP7R41701A --> P86Y2666\n",
        "pickle/HP12_0033.pickle"
       ]
      },
      {
       "output_type": "stream",
       "stream": "stdout",
       "text": [
        "\n",
        "\tP7R41668A --> P86Y2616\n",
        "\tS907-038 --> P86Y2645\n",
        "\tP7R41692 --> P86Y2650\n",
        "pickle/HP12_0034.pickle"
       ]
      },
      {
       "output_type": "stream",
       "stream": "stdout",
       "text": [
        "\n",
        "\tP7R41681 --> P86Y2633\n",
        "\tS962-051 --> P86Y2648\n",
        "\tP7R41703A --> P86Y2670\n",
        "\tS907-034 --> P86Y2682\n",
        "\tP7R41721 --> P86Y2695\n",
        "pickle/HP12_0035.pickle"
       ]
      },
      {
       "output_type": "stream",
       "stream": "stdout",
       "text": [
        "\n",
        "\tP7R41764 --> P86Y2755\n",
        "pickle/HP12_0036.pickle"
       ]
      },
      {
       "output_type": "stream",
       "stream": "stdout",
       "text": [
        "\n",
        "\tP7R41791 --> P86Y2795\n",
        "\tP7R41790 --> P86Y2799\n",
        "\tP7R41816 --> P86Y2825\n",
        "\tP7R41822 --> P86Y2829\n",
        "\tP7R41826 --> P86Y2837\n",
        "pickle/HP12_0037.pickle"
       ]
      },
      {
       "output_type": "stream",
       "stream": "stdout",
       "text": [
        "\n",
        "\tP7R41873 --> P86Y2888\n",
        "\tS962-044 --> P86Y2903\n",
        "pickle/HP12_0038.pickle"
       ]
      },
      {
       "output_type": "stream",
       "stream": "stdout",
       "text": [
        "\n",
        "\tP7R41929 --> P86Y2966\n",
        "\tP7R41947 --> P86Y2988\n",
        "\tP7R41956 --> P86Y3003\n",
        "\tP7R41970 --> P86Y3018\n",
        "pickle/HP12_0039.pickle"
       ]
      },
      {
       "output_type": "stream",
       "stream": "stdout",
       "text": [
        "\n",
        "\tP7R41993 --> P86Y3050\n",
        "\tS962-046 --> P86Y3062\n",
        "\tP7R42008B --> P86Y3074\n",
        "\tP7R42014 --> P86Y3081\n",
        "pickle/HP12_0040.pickle"
       ]
      },
      {
       "output_type": "stream",
       "stream": "stdout",
       "text": [
        "\n",
        "\tS907-068 --> P86Y3169\n",
        "\tP7R42081A --> P86Y3184\n",
        "\tSEED-060 --> P86Y3230\n",
        "pickle/HP12_0041.pickle"
       ]
      },
      {
       "output_type": "stream",
       "stream": "stdout",
       "text": [
        "\n",
        "\tS962-054 --> P86Y3181\n",
        "\tP7R42110 --> P86Y3215\n",
        "\tP7R42120 --> P86Y3227\n",
        "\tP7R42139 --> P86Y3257\n",
        "pickle/HP12_0042.pickle"
       ]
      },
      {
       "output_type": "stream",
       "stream": "stdout",
       "text": [
        "\n",
        "\tP7R42090 --> P86Y3195\n",
        "\tS907-066 --> P86Y3229\n",
        "\tS907-072 --> P86Y3247\n",
        "pickle/HP12_0043.pickle"
       ]
      },
      {
       "output_type": "stream",
       "stream": "stdout",
       "text": [
        "\n",
        "\tS907-053 --> P86Y3160\n",
        "\tP7R42072G --> P86Y3172\n",
        "\tP7R42093 --> P86Y3197\n",
        "\tP7R42112 --> P86Y3217\n",
        "\tP7R42135 --> P86Y3254\n",
        "\tP7R42137 --> P86Y3256\n",
        "pickle/HP12_0044.pickle"
       ]
      },
      {
       "output_type": "stream",
       "stream": "stdout",
       "text": [
        "\n",
        "\tP7R42019 --> P86Y3089\n",
        "\tP7R42057G --> P86Y3157\n",
        "\tP7R42085 --> P86Y3189\n",
        "pickle/HP12_0045.pickle"
       ]
      },
      {
       "output_type": "stream",
       "stream": "stdout",
       "text": [
        "\n",
        "\tS962-065 --> P86Y3019\n",
        "\tP7R41987 --> P86Y3041\n",
        "\tP7R41994 --> P86Y3056\n",
        "\tP7R42018 --> P86Y3087\n",
        "\tP7R42023G --> P86Y3099\n",
        "pickle/HP12_0046.pickle"
       ]
      },
      {
       "output_type": "stream",
       "stream": "stdout",
       "text": [
        "\n",
        "\tP7R41903 --> P86Y2931\n",
        "pickle/HP12_0047.pickle"
       ]
      },
      {
       "output_type": "stream",
       "stream": "stdout",
       "text": [
        "\n",
        "\tS907-092 --> P86Y2773\n",
        "\tP7R41812 --> P86Y2821\n",
        "\tP7R41819 --> P86Y2834\n",
        "pickle/HP12_0048.pickle"
       ]
      },
      {
       "output_type": "stream",
       "stream": "stdout",
       "text": [
        "\n",
        "\tP7R41694 --> P86Y2655\n",
        "\tS907-067 --> P86Y2675\n",
        "\tS962-064 --> P86Y2698\n",
        "pickle/HP12_0049.pickle"
       ]
      },
      {
       "output_type": "stream",
       "stream": "stdout",
       "text": [
        "\n",
        "\tP7R41650 --> P86Y2589\n",
        "\tP7R41651 --> P86Y2591\n",
        "\tP7R41658 --> P86Y2600\n",
        "\tS907-075 --> P86Y2619\n",
        "pickle/HP12_0050.pickle"
       ]
      },
      {
       "output_type": "stream",
       "stream": "stdout",
       "text": [
        "\n",
        "\tP7R41666 --> P86Y2614\n",
        "pickle/HP12_0051.pickle"
       ]
      },
      {
       "output_type": "stream",
       "stream": "stdout",
       "text": [
        "\n",
        "\tS962-083 --> P86Y2518\n",
        "\tP7R41618 --> P86Y2538\n",
        "\tS907-062 --> P86Y2572\n",
        "pickle/HP12_0052.pickle"
       ]
      },
      {
       "output_type": "stream",
       "stream": "stdout",
       "text": [
        "\n",
        "\tP7R41615 --> P86Y2534\n",
        "\tP7R41636 --> P86Y2564\n",
        "\tS907-076 --> P86Y2565\n",
        "\tS907-069 --> P86Y2566\n",
        "\tP7R41637 --> P86Y2568\n",
        "\tP7R41642 --> P86Y2575\n",
        "pickle/HP12_0053.pickle"
       ]
      },
      {
       "output_type": "stream",
       "stream": "stdout",
       "text": [
        "\n",
        "\tP7R41674A --> P86Y2622\n",
        "\tP7R41677 --> P86Y2625\n",
        "pickle/HP12_0054.pickle"
       ]
      },
      {
       "output_type": "stream",
       "stream": "stdout",
       "text": [
        "\n",
        "\tP7R41719 --> P86Y2694\n",
        "\tS907-064 --> P86Y2703\n",
        "\tP7R41729 --> P86Y2709\n",
        "\tP7R41760 --> P86Y2750\n",
        "pickle/HP12_0055.pickle"
       ]
      },
      {
       "output_type": "stream",
       "stream": "stdout",
       "text": [
        "\n",
        "\tS907-081 --> P86Y2757\n",
        "\tP7R41767 --> P86Y2763\n",
        "\tS907-095 --> P86Y2774\n",
        "\tS907-070 --> P86Y2788\n",
        "\tP7R41792 --> P86Y2796\n",
        "\tP7R41804A --> P86Y2815\n",
        "pickle/HP12_0056.pickle"
       ]
      },
      {
       "output_type": "stream",
       "stream": "stdout",
       "text": [
        "\n",
        "\tP7R41840 --> P86Y2852\n",
        "\tP7R41846 --> P86Y2860\n",
        "\tS962-074 --> P86Y2861\n",
        "pickle/HP12_0057.pickle"
       ]
      },
      {
       "output_type": "stream",
       "stream": "stdout",
       "text": [
        "\n",
        "\tS962-062 --> P86Y2934\n",
        "\tS962-076 --> P86Y2947\n",
        "pickle/HP12_0058.pickle"
       ]
      },
      {
       "output_type": "stream",
       "stream": "stdout",
       "text": [
        "\n",
        "\tP7R41964 --> P86Y3012\n",
        "\tS962-056 --> P86Y3057\n",
        "pickle/HP12_0059.pickle"
       ]
      },
      {
       "output_type": "stream",
       "stream": "stdout",
       "text": [
        "\n",
        "\tP7R42044 --> P86Y3126\n",
        "\tP7R42050 --> P86Y3135\n",
        "pickle/HP12_0060.pickle"
       ]
      },
      {
       "output_type": "stream",
       "stream": "stdout",
       "text": [
        "\n",
        "\tS907-074 --> P86Y3173\n",
        "\tP7R42089A --> P86Y3194\n",
        "\tP7R42103 --> P86Y3210\n",
        "\tP7R42131 --> P86Y3244\n",
        "\tP7R42139A --> P86Y3264\n",
        "pickle/HP12_0061.pickle"
       ]
      },
      {
       "output_type": "stream",
       "stream": "stdout",
       "text": [
        "\n",
        "\tSEED-054 --> P86Y3224\n",
        "\tP7R42152 --> P86Y3286\n",
        "\tP7R42154 --> P86Y3288\n",
        "pickle/HP12_0062.pickle"
       ]
      },
      {
       "output_type": "stream",
       "stream": "stdout",
       "text": [
        "\n",
        "\tS907-096 --> P86Y3281\n",
        "\tS962-103 --> P86Y3322\n",
        "\tP7R42174 --> P86Y3325\n",
        "pickle/HP12_0063.pickle"
       ]
      },
      {
       "output_type": "stream",
       "stream": "stdout",
       "text": [
        "\n",
        "\tP7R42125 --> P86Y3239\n",
        "\tS962-101 --> P86Y3330\n",
        "pickle/HP12_0064.pickle"
       ]
      },
      {
       "output_type": "stream",
       "stream": "stdout",
       "text": [
        "\n",
        "\tSEED-047 --> P86Y3202\n",
        "\tP7R42118 --> P86Y3223\n",
        "\tP7R42130X --> P86Y3241\n",
        "\tP7R42130 --> P86Y3251\n",
        "\tSEED-071 --> P86Y3261\n",
        "\tP7R42145P --> P86Y3271\n",
        "\tS962-096 --> P86Y3285\n",
        "\tP7R42159 --> P86Y3298\n",
        "\tP7R42160 --> P86Y3300\n",
        "pickle/HP12_0065.pickle"
       ]
      },
      {
       "output_type": "stream",
       "stream": "stdout",
       "text": [
        "\n",
        "\tP7R42144 --> P86Y3265\n",
        "pickle/HP12_0066.pickle"
       ]
      },
      {
       "output_type": "stream",
       "stream": "stdout",
       "text": [
        "\n",
        "\tP7R42030 --> P86Y3107\n",
        "\tS962-118 --> P86Y3119\n",
        "pickle/HP12_0067.pickle"
       ]
      },
      {
       "output_type": "stream",
       "stream": "stdout",
       "text": [
        "\n",
        "\tSEED-078 --> P86Y2936\n",
        "\tP7R41939 --> P86Y2979\n",
        "\tS962-071 --> P86Y3020\n",
        "pickle/HP12_0068.pickle"
       ]
      },
      {
       "output_type": "stream",
       "stream": "stdout",
       "text": [
        "\n",
        "\tP7R41794 --> P86Y2802\n",
        "\tSEED-074 --> P86Y2841\n",
        "\tP7R41861 --> P86Y2879\n",
        "\tS962-072 --> P86Y2881\n",
        "pickle/HP12_0069.pickle"
       ]
      },
      {
       "output_type": "stream",
       "stream": "stdout",
       "text": [
        "\n",
        "\tP7R41700 --> P86Y2668\n",
        "\tS962-092 --> P86Y2681\n",
        "\tS962-114 --> P86Y2699\n",
        "\tP7R41763 --> P86Y2756\n",
        "pickle/HP12_0070.pickle"
       ]
      },
      {
       "output_type": "stream",
       "stream": "stdout",
       "text": [
        "\n",
        "\tP7R41683 --> P86Y2635\n",
        "pickle/HP12_0071.pickle"
       ]
      },
      {
       "output_type": "stream",
       "stream": "stdout",
       "text": [
        "\n",
        "\tP7R41627 --> P86Y2550\n",
        "\tS962-066 --> P86Y2582\n",
        "pickle/HP12_0072.pickle"
       ]
      },
      {
       "output_type": "stream",
       "stream": "stdout",
       "text": [
        "\n",
        "\tS962-115 --> P86Y2430\n",
        "\tS907-098 --> P86Y2513\n",
        "\tP7R41605 --> P86Y2520\n",
        "\tS962-075 --> P86Y2530\n",
        "\tP7R41647 --> P86Y2586\n",
        "pickle/HP12_0073.pickle"
       ]
      },
      {
       "output_type": "stream",
       "stream": "stdout",
       "text": [
        "\n",
        "\tSEED-093 --> P86Y2424\n",
        "\tP7R41563 --> P86Y2457\n",
        "\tP7R41578A --> P86Y2473\n",
        "\tS962-098 --> P86Y2482\n",
        "\tP7R41587 --> P86Y2492\n",
        "\tSEED-059 --> P86Y2515\n",
        "pickle/HP12_0074.pickle"
       ]
      },
      {
       "output_type": "stream",
       "stream": "stdout",
       "text": [
        "\n",
        "\tP7R41572 --> P86Y2464\n",
        "\tP7R41593 --> P86Y2505\n",
        "pickle/HP12_0075.pickle"
       ]
      },
      {
       "output_type": "stream",
       "stream": "stdout",
       "text": [
        "\n",
        "\tP7R41605G --> P86Y2521\n",
        "\tP7R41610 --> P86Y2523\n",
        "pickle/HP12_0076.pickle"
       ]
      },
      {
       "output_type": "stream",
       "stream": "stdout",
       "text": [
        "\n",
        "pickle/HP12_0077.pickle\n",
        "\t"
       ]
      },
      {
       "output_type": "stream",
       "stream": "stdout",
       "text": [
        "P7R41696A --> P86Y2658\n",
        "\tP7R41712A --> P86Y2684\n",
        "\tP7R41712 --> P86Y2685\n",
        "pickle/HP12_0078.pickle"
       ]
      },
      {
       "output_type": "stream",
       "stream": "stdout",
       "text": [
        "\n",
        "\tSEED-067 --> P86Y2762\n",
        "\tS962-093 --> P86Y2768\n",
        "\tS962-091 --> P86Y2776\n",
        "\tP7R41774P --> P86Y2793\n",
        "pickle/HP12_0079.pickle"
       ]
      },
      {
       "output_type": "stream",
       "stream": "stdout",
       "text": [
        "\n",
        "\tP7R41841 --> P86Y2853\n",
        "pickle/HP12_0080.pickle"
       ]
      },
      {
       "output_type": "stream",
       "stream": "stdout",
       "text": [
        "\n",
        "\tP7R41876 --> P86Y2897\n",
        "\tP7R41927 --> P86Y2963\n",
        "pickle/HP12_0081.pickle"
       ]
      },
      {
       "output_type": "stream",
       "stream": "stdout",
       "text": [
        "\n",
        "\tP7R41968 --> P86Y3016\n",
        "pickle/HP12_0082.pickle"
       ]
      },
      {
       "output_type": "stream",
       "stream": "stdout",
       "text": [
        "\n",
        "\tS907-112 --> P86Y3094\n",
        "\tP7R42022 --> P86Y3097\n",
        "\tS907-129 --> P86Y3105\n",
        "\tP7R42031 --> P86Y3110\n",
        "\tS962-094 --> P86Y3121\n",
        "pickle/HP12_0083.pickle"
       ]
      },
      {
       "output_type": "stream",
       "stream": "stdout",
       "text": [
        "\n",
        "\tSEED-072 --> P86Y3149\n",
        "\tP7R42072 --> P86Y3170\n",
        "pickle/HP12_0084.pickle"
       ]
      },
      {
       "output_type": "stream",
       "stream": "stdout",
       "text": [
        "\n",
        "\tS907-124 --> P86Y3246\n",
        "\tS907-137 --> P86Y3267\n",
        "\tS907-146 --> P86Y3295\n",
        "\tP7R42172 --> P86Y3317\n",
        "pickle/HP12_0085.pickle"
       ]
      },
      {
       "output_type": "stream",
       "stream": "stdout",
       "text": [
        "\n",
        "\tS907-125 --> P86Y3311\n",
        "pickle/HP12_0086.pickle"
       ]
      },
      {
       "output_type": "stream",
       "stream": "stdout",
       "text": [
        "\n",
        "\tP7R42155 --> P86Y3294\n",
        "\tP7R42208 --> P86Y3374\n",
        "pickle/HP12_0087.pickle"
       ]
      },
      {
       "output_type": "stream",
       "stream": "stdout",
       "text": [
        "\n",
        "\tP7R42183A --> P86Y3338\n",
        "\tP7R42192A --> P86Y3370\n",
        "pickle/HP12_0088.pickle"
       ]
      },
      {
       "output_type": "stream",
       "stream": "stdout",
       "text": [
        "\n",
        "\tP7R42183 --> P86Y3335\n",
        "\tS962-120 --> P86Y3348\n",
        "\tP7R42204 --> P86Y3367\n",
        "pickle/HP12_0089.pickle"
       ]
      },
      {
       "output_type": "stream",
       "stream": "stdout",
       "text": [
        "\n",
        "\tP7R42150 --> P86Y3284\n",
        "pickle/HP12_0090.pickle"
       ]
      },
      {
       "output_type": "stream",
       "stream": "stdout",
       "text": [
        "\n",
        "\tS962-104 --> P86Y3213\n",
        "\tS962-127 --> P86Y3238\n",
        "\tS962-111 --> P86Y3243\n",
        "pickle/HP12_0091.pickle"
       ]
      },
      {
       "output_type": "stream",
       "stream": "stdout",
       "text": [
        "\n",
        "\tP7R42096 --> P86Y3201\n",
        "\tP7R42098 --> P86Y3204\n",
        "\tP7R42101G --> P86Y3208\n",
        "pickle/HP12_0092.pickle"
       ]
      },
      {
       "output_type": "stream",
       "stream": "stdout",
       "text": [
        "\n",
        "\tS962-107 --> P86Y3024\n",
        "\tP7R41988A --> P86Y3036\n",
        "\tP7R41991 --> P86Y3045\n",
        "\tP7R42004 --> P86Y3063\n",
        "\tS962-143 --> P86Y3067\n",
        "\tP7R42020 --> P86Y3080\n",
        "\tSEED-104 --> P86Y3115\n",
        "pickle/HP12_0093.pickle"
       ]
      },
      {
       "output_type": "stream",
       "stream": "stdout",
       "text": [
        "\n",
        "\tP7R41856 --> P86Y2872\n",
        "\tP7R41862 --> P86Y2878\n",
        "\tP7R41875 --> P86Y2896\n",
        "\tP7R41885 --> P86Y2911\n",
        "\tP7R41892 --> P86Y2922\n",
        "\tS907-128 --> P86Y2929\n",
        "pickle/HP12_0094.pickle"
       ]
      },
      {
       "output_type": "stream",
       "stream": "stdout",
       "text": [
        "\n",
        "\tP7R41746 --> P86Y2731\n",
        "\tP7R41756 --> P86Y2747\n",
        "\tS962-132 --> P86Y2759\n",
        "pickle/HP12_0095.pickle"
       ]
      },
      {
       "output_type": "stream",
       "stream": "stdout",
       "text": [
        "\n",
        "\tP7R41673 --> P86Y2620\n",
        "pickle/HP12_0096.pickle"
       ]
      },
      {
       "output_type": "stream",
       "stream": "stdout",
       "text": [
        "\n",
        "\tP7R41586 --> P86Y2508\n",
        "\tP7R41599G --> P86Y2516\n",
        "pickle/HP12_0097.pickle"
       ]
      },
      {
       "output_type": "stream",
       "stream": "stdout",
       "text": [
        "\n",
        "\tP7R41544 --> P86Y2429\n",
        "\tS962-124 --> P86Y2441\n",
        "\tS907-139 --> P86Y2442\n",
        "\tP7R41573 --> P86Y2467\n",
        "\tP7R41573G --> P86Y2469\n",
        "\tP7R41575 --> P86Y2470\n",
        "\tP7R41584 --> P86Y2485\n",
        "\tS907-114 --> P86Y2490\n",
        "\tS907-107 --> P86Y2504\n",
        "pickle/HP12_0098.pickle"
       ]
      },
      {
       "output_type": "stream",
       "stream": "stdout",
       "text": [
        "\n",
        "\tS962-140 --> P86Y2360\n",
        "\tSEED-088 --> P86Y2481\n",
        "\tP7R41594G --> P86Y2507\n",
        "pickle/HP12_0099.pickle"
       ]
      },
      {
       "output_type": "stream",
       "stream": "stdout",
       "text": [
        "\n",
        "\tP7R41523A --> P86Y2405\n",
        "pickle/HP12_0100.pickle"
       ]
      },
      {
       "output_type": "stream",
       "stream": "stdout",
       "text": [
        "\n",
        "\tP7R41518 --> P86Y2396\n",
        "\tP7R41537 --> P86Y2421\n",
        "\tP7R41553 --> P86Y2443\n",
        "pickle/HP12_0101.pickle"
       ]
      },
      {
       "output_type": "stream",
       "stream": "stdout",
       "text": [
        "\n",
        "pickle/HP12_0102.pickle"
       ]
      },
      {
       "output_type": "stream",
       "stream": "stdout",
       "text": [
        "\n",
        "\tS962-135 --> P86Y2472\n",
        "\tP7R41577 --> P86Y2477\n",
        "\tP7R41592 --> P86Y2498\n",
        "\tP7R41612A --> P86Y2525\n",
        "\tSEED-086 --> P86Y2545\n",
        "pickle/HP12_0103.pickle"
       ]
      },
      {
       "output_type": "stream",
       "stream": "stdout",
       "text": [
        "\n",
        "\tP7R41613A --> P86Y2519\n",
        "\tP7R41626 --> P86Y2549\n",
        "\tP7R41661G --> P86Y2599\n",
        "pickle/HP12_0104.pickle"
       ]
      },
      {
       "output_type": "stream",
       "stream": "stdout",
       "text": [
        "\n",
        "\tP7R41666G --> P86Y2617\n",
        "\tSEED-097 --> P86Y2636\n",
        "pickle/HP12_0105.pickle"
       ]
      },
      {
       "output_type": "stream",
       "stream": "stdout",
       "text": [
        "\n",
        "\tP7R41718 --> P86Y2693\n",
        "\tP7R41734 --> P86Y2713\n",
        "\tS907-154 --> P86Y2721\n",
        "pickle/HP12_0106.pickle"
       ]
      },
      {
       "output_type": "stream",
       "stream": "stdout",
       "text": [
        "\n",
        "\tP7R41777 --> P86Y2780\n",
        "\tS962-121 --> P86Y2794\n",
        "\tP7R41810 --> P86Y2820\n",
        "\tP7R41813 --> P86Y2822\n",
        "\tP7R41828 --> P86Y2839\n",
        "pickle/HP12_0107.pickle"
       ]
      },
      {
       "output_type": "stream",
       "stream": "stdout",
       "text": [
        "\n",
        "\tP7R41856G --> P86Y2873\n",
        "\tS907-119 --> P86Y2874\n",
        "\tS907-138 --> P86Y2884\n",
        "\tP7R41869 --> P86Y2885\n",
        "\tP7R41871 --> P86Y2889\n",
        "pickle/HP12_0108.pickle"
       ]
      },
      {
       "output_type": "stream",
       "stream": "stdout",
       "text": [
        "\n",
        "\tP7R41936A --> P86Y2975\n",
        "\tP7R41952 --> P86Y2993\n",
        "\tP7R41960 --> P86Y3005\n",
        "pickle/HP12_0109.pickle"
       ]
      },
      {
       "output_type": "stream",
       "stream": "stdout",
       "text": [
        "\n",
        "\tS962-133 --> P86Y3048\n",
        "\tS962-123 --> P86Y3060\n",
        "\tP7R42015 --> P86Y3084\n",
        "\tS962-125 --> P86Y3090\n",
        "pickle/HP12_0110.pickle"
       ]
      },
      {
       "output_type": "stream",
       "stream": "stdout",
       "text": [
        "\n",
        "\tSEED-115 --> P86Y3146\n",
        "\tP7R42059 --> P86Y3150\n",
        "\tP7R42064 --> P86Y3156\n",
        "\tP7R42076 --> P86Y3177\n",
        "pickle/HP12_0111.pickle"
       ]
      },
      {
       "output_type": "stream",
       "stream": "stdout",
       "text": [
        "\n",
        "\tP7R42115G --> P86Y3221\n",
        "pickle/HP12_0112.pickle"
       ]
      },
      {
       "output_type": "stream",
       "stream": "stdout",
       "text": [
        "\n",
        "\tP7R42185 --> P86Y3341\n",
        "\tP7R42192 --> P86Y3351\n",
        "pickle/HP12_0113.pickle"
       ]
      },
      {
       "output_type": "stream",
       "stream": "stdout",
       "text": [
        "\n",
        "\tSEED-129 --> P86Y3344\n",
        "\tP7R42190 --> P86Y3352\n",
        "\tSEED-148 --> P86Y3378\n",
        "pickle/HP12_0114.pickle"
       ]
      },
      {
       "output_type": "stream",
       "stream": "stdout",
       "text": [
        "\n",
        "\tP7R42220 --> P86Y3387\n",
        "\tP7R42260 --> P86Y3447\n",
        "pickle/HP12_0115.pickle"
       ]
      },
      {
       "output_type": "stream",
       "stream": "stdout",
       "text": [
        "\n",
        "\tP7R42232 --> P86Y3405\n",
        "\tP7R42261 --> P86Y3450\n",
        "pickle/HP12_0116.pickle"
       ]
      },
      {
       "output_type": "stream",
       "stream": "stdout",
       "text": [
        "\n",
        "\tS962-136 --> P86Y3385\n",
        "\tSEED-124 --> P86Y3400\n",
        "\tP7R42257A --> P86Y3432\n",
        "\tS962-159 --> P86Y3448\n",
        "\tP7R42276 --> P86Y3468\n",
        "\tS962-179 --> P86Y3475\n",
        "pickle/HP12_0117.pickle"
       ]
      },
      {
       "output_type": "stream",
       "stream": "stdout",
       "text": [
        "\n",
        "\tP7R42222 --> P86Y3393\n",
        "\tP7R42258 --> P86Y3449\n",
        "pickle/HP12_0118.pickle"
       ]
      },
      {
       "output_type": "stream",
       "stream": "stdout",
       "text": [
        "\n",
        "\tP7R42171 --> P86Y3313\n",
        "\tS962-152 --> P86Y3384\n",
        "\tP7R42223 --> P86Y3394\n",
        "\tP7R42255 --> P86Y3437\n",
        "\tP7R42272 --> P86Y3462\n",
        "\tP7R42275 --> P86Y3467\n",
        "pickle/HP12_0119.pickle"
       ]
      },
      {
       "output_type": "stream",
       "stream": "stdout",
       "text": [
        "\n",
        "\tP7R42162 --> P86Y3302\n",
        "\tSEED-122 --> P86Y3320\n",
        "\tS962-171 --> P86Y3349\n",
        "\tSEED-149 --> P86Y3350\n",
        "\tP7R42207 --> P86Y3372\n",
        "\tP7R42212 --> P86Y3379\n",
        "pickle/HP12_0120.pickle"
       ]
      },
      {
       "output_type": "stream",
       "stream": "stdout",
       "text": [
        "\n",
        "\tP7R42119 --> P86Y3225\n",
        "\tS962-166 --> P86Y3268\n",
        "\tSEED-125 --> P86Y3277\n",
        "pickle/HP12_0121.pickle"
       ]
      },
      {
       "output_type": "stream",
       "stream": "stdout",
       "text": [
        "\n",
        "\tP7R42023P --> P86Y3109\n",
        "\tP7R42047 --> P86Y3129\n",
        "\tP7R42062 --> P86Y3155\n",
        "pickle/HP12_0122.pickle"
       ]
      },
      {
       "output_type": "stream",
       "stream": "stdout",
       "text": [
        "\n",
        "\tP7R41906 --> P86Y2937\n",
        "\tP7R41936 --> P86Y2974\n",
        "\tS962-128 --> P86Y2984\n",
        "pickle/HP12_0123.pickle"
       ]
      },
      {
       "output_type": "stream",
       "stream": "stdout",
       "text": [
        "\n",
        "\tP7R41779A --> P86Y2778\n",
        "\tS962-172 --> P86Y2833\n",
        "pickle/HP12_0124.pickle"
       ]
      },
      {
       "output_type": "stream",
       "stream": "stdout",
       "text": [
        "\n",
        "\tP7R41657 --> P86Y2603\n",
        "pickle/HP12_0125.pickle\n",
        "\t"
       ]
      },
      {
       "output_type": "stream",
       "stream": "stdout",
       "text": [
        "P7R41578 --> P86Y2476\n",
        "\tP7R41612 --> P86Y2524\n",
        "\tP7R41620 --> P86Y2541\n",
        "\tP7R41639 --> P86Y2569\n",
        "pickle/HP12_0126.pickle\n",
        "\t"
       ]
      },
      {
       "output_type": "stream",
       "stream": "stdout",
       "text": [
        "S907-179 --> P86Y2426\n",
        "\tS907-168 --> P86Y2431\n",
        "\tP7R41551 --> P86Y2439\n",
        "pickle/HP12_0127.pickle\n",
        "\t"
       ]
      },
      {
       "output_type": "stream",
       "stream": "stdout",
       "text": [
        "P7R41488 --> P86Y2351\n",
        "\tS962-161 --> P86Y2362\n",
        "\tS962-144 --> P86Y2393\n",
        "pickle/HP12_0128.pickle\n",
        "\t"
       ]
      },
      {
       "output_type": "stream",
       "stream": "stdout",
       "text": [
        "P7R41439 --> P86Y2289\n",
        "\tP7R41487 --> P86Y2349\n",
        "\tP7R41490 --> P86Y2353\n",
        "\tP7R41515 --> P86Y2391\n",
        "pickle/HP12_0129.pickle\n",
        "\t"
       ]
      },
      {
       "output_type": "stream",
       "stream": "stdout",
       "text": [
        "P7R41452 --> P86Y2306\n",
        "\tP7R41451 --> P86Y2311\n",
        "\tSEED-118 --> P86Y2379\n",
        "pickle/HP12_0130.pickle\n",
        "\t"
       ]
      },
      {
       "output_type": "stream",
       "stream": "stdout",
       "text": [
        "P7R41457 --> P86Y2318\n",
        "pickle/HP12_0131.pickle\n",
        "\t"
       ]
      },
      {
       "output_type": "stream",
       "stream": "stdout",
       "text": [
        "P7R41470 --> P86Y2326\n",
        "\tSEED-106 --> P86Y2434\n",
        "pickle/HP12_0132.pickle\n",
        "\t"
       ]
      },
      {
       "output_type": "stream",
       "stream": "stdout",
       "text": [
        "S962-193 --> P86Y2369\n",
        "\tP7R41512 --> P86Y2388\n",
        "\tP7R41539 --> P86Y2422\n",
        "\tP7R41540 --> P86Y2425\n",
        "\tS907-157 --> P86Y2440\n",
        "pickle/HP12_0133.pickle"
       ]
      },
      {
       "output_type": "stream",
       "stream": "stdout",
       "text": [
        "\n",
        "\tP7R41548 --> P86Y2435\n",
        "\tS962-155 --> P86Y2447\n",
        "\tP7R41582 --> P86Y2484\n",
        "pickle/HP12_0134.pickle"
       ]
      },
      {
       "output_type": "stream",
       "stream": "stdout",
       "text": [
        "\n",
        "\tP7R41603 --> P86Y2509\n",
        "\tSEED-107 --> P86Y2602\n",
        "pickle/HP12_0135.pickle"
       ]
      },
      {
       "output_type": "stream",
       "stream": "stdout",
       "text": [
        "\n",
        "\tP7R41628 --> P86Y2553\n",
        "\tS962-156 --> P86Y2606\n",
        "pickle/HP12_0136.pickle"
       ]
      },
      {
       "output_type": "stream",
       "stream": "stdout",
       "text": [
        "\n",
        "\tP7R41705 --> P86Y2673\n",
        "pickle/HP12_0137.pickle"
       ]
      },
      {
       "output_type": "stream",
       "stream": "stdout",
       "text": [
        "\n",
        "\tP7R41769 --> P86Y2760\n",
        "\tP7R41768 --> P86Y2761\n",
        "\tP7R41771 --> P86Y2769\n",
        "\tP7R41772 --> P86Y2770\n",
        "\tP7R41776 --> P86Y2775\n",
        "\tP7R41786 --> P86Y2790\n",
        "\tSEED-165 --> P86Y2800\n",
        "\tS962-158 --> P86Y2818\n",
        "pickle/HP12_0138.pickle"
       ]
      },
      {
       "output_type": "stream",
       "stream": "stdout",
       "text": [
        "\n",
        "\tP7R41829A --> P86Y2843\n",
        "\tS962-192 --> P86Y2854\n",
        "\tS962-196 --> P86Y2865\n",
        "\tP7R41849G --> P86Y2867\n",
        "\tP7R41865 --> P86Y2882\n",
        "pickle/HP12_0139.pickle"
       ]
      },
      {
       "output_type": "stream",
       "stream": "stdout",
       "text": [
        "\n",
        "\tP7R41894A --> P86Y2910\n",
        "\tS962-150 --> P86Y2915\n",
        "\tS907-173 --> P86Y2924\n",
        "\tP7R41914 --> P86Y2943\n",
        "\tS962-151 --> P86Y2959\n",
        "\tS962-167 --> P86Y2970\n",
        "\tP7R41941 --> P86Y2982\n",
        "pickle/HP12_0140.pickle"
       ]
      },
      {
       "output_type": "stream",
       "stream": "stdout",
       "text": [
        "\n",
        "\tS962-175 --> P86Y3028\n",
        "\tP7R41984 --> P86Y3037\n",
        "\tS907-205 --> P86Y3053\n",
        "\tP7R41997 --> P86Y3055\n",
        "pickle/HP12_0141.pickle"
       ]
      },
      {
       "output_type": "stream",
       "stream": "stdout",
       "text": [
        "\n",
        "\tP7R42042 --> P86Y3125\n",
        "\tP7R42052 --> P86Y3141\n",
        "pickle/HP12_0142.pickle"
       ]
      },
      {
       "output_type": "stream",
       "stream": "stdout",
       "text": [
        "\n",
        "\tSEED-137 --> P86Y3193\n",
        "pickle/HP12_0143.pickle"
       ]
      },
      {
       "output_type": "stream",
       "stream": "stdout",
       "text": [
        "\n",
        "\tP7R42132 --> P86Y3250\n",
        "\tS962-145 --> P86Y3262\n",
        "pickle/HP12_0144.pickle"
       ]
      },
      {
       "output_type": "stream",
       "stream": "stdout",
       "text": [
        "\n",
        "\tS907-185 --> P86Y3315\n",
        "\tP7R42225 --> P86Y3396\n",
        "pickle/HP12_0145.pickle"
       ]
      },
      {
       "output_type": "stream",
       "stream": "stdout",
       "text": [
        "\n",
        "\tS962-190 --> P86Y3373\n",
        "\tP7R42216 --> P86Y3383\n",
        "\tS907-206 --> P86Y3392\n",
        "\tS907-211 --> P86Y3418\n",
        "pickle/HP12_0146.pickle"
       ]
      },
      {
       "output_type": "stream",
       "stream": "stdout",
       "text": [
        "\n",
        "\tP7R42229 --> P86Y3398\n",
        "\tS907-241 --> P86Y3492\n",
        "pickle/HP12_0147.pickle"
       ]
      },
      {
       "output_type": "stream",
       "stream": "stdout",
       "text": [
        "\n",
        "\tSEED-188 --> P86Y3508\n",
        "pickle/HP12_0148.pickle"
       ]
      },
      {
       "output_type": "stream",
       "stream": "stdout",
       "text": [
        "\n",
        "\tP7R42294 --> P86Y3498\n",
        "\tP7R42314 --> P86Y3524\n",
        "pickle/HP12_0149.pickle"
       ]
      },
      {
       "output_type": "stream",
       "stream": "stdout",
       "text": [
        "\n",
        "\tS907-180 --> P86Y3466\n",
        "\tP7R42298 --> P86Y3504\n",
        "\tP7R42309G --> P86Y3518\n",
        "pickle/HP12_0150.pickle"
       ]
      },
      {
       "output_type": "stream",
       "stream": "stdout",
       "text": [
        "\n",
        "\tP7R42266 --> P86Y3458\n",
        "\tP7R42286H --> P86Y3488\n",
        "\tP7R42304 --> P86Y3513\n",
        "\tSEED-176 --> P86Y3514\n",
        "pickle/HP12_0151.pickle"
       ]
      },
      {
       "output_type": "stream",
       "stream": "stdout",
       "text": [
        "\n",
        "\tP7R42241A --> P86Y3421\n",
        "\tP7R42292 --> P86Y3497\n",
        "pickle/HP12_0152.pickle"
       ]
      },
      {
       "output_type": "stream",
       "stream": "stdout",
       "text": [
        "\n",
        "\tP7R42186 --> P86Y3342\n",
        "\tP7R42193 --> P86Y3353\n",
        "\tSEED-170 --> P86Y3355\n",
        "pickle/HP12_0153.pickle"
       ]
      },
      {
       "output_type": "stream",
       "stream": "stdout",
       "text": [
        "\n",
        "\tP7R42156 --> P86Y3293\n",
        "\tP7R42171A --> P86Y3318\n",
        "pickle/HP12_0154.pickle"
       ]
      },
      {
       "output_type": "stream",
       "stream": "stdout",
       "text": [
        "\n",
        "\tP7R42128 --> P86Y3240\n",
        "pickle/HP12_0155.pickle"
       ]
      },
      {
       "output_type": "stream",
       "stream": "stdout",
       "text": [
        "\n",
        "\tS907-212 --> P86Y3059\n",
        "pickle/HP12_0156.pickle"
       ]
      },
      {
       "output_type": "stream",
       "stream": "stdout",
       "text": [
        "\n",
        "\tP7R41817 --> P86Y2831\n",
        "\tP7R41836 --> P86Y2847\n",
        "\tP7R41878 --> P86Y2898\n",
        "\tP7R41887G --> P86Y2917\n",
        "pickle/HP12_0157.pickle"
       ]
      },
      {
       "output_type": "stream",
       "stream": "stdout",
       "text": [
        "\n",
        "\tP7R41680 --> P86Y2630\n",
        "\tS907-194 --> P86Y2646\n",
        "\tSEED-196 --> P86Y2649\n",
        "\tP7R41696 --> P86Y2659\n",
        "\tP7R41706 --> P86Y2671\n",
        "\tP7R41708AH --> P86Y2678\n",
        "\tP7R41724 --> P86Y2702\n",
        "\tS962-198 --> P86Y2729\n",
        "pickle/HP12_0158.pickle"
       ]
      },
      {
       "output_type": "stream",
       "stream": "stdout",
       "text": [
        "\n",
        "\tP7R41568 --> P86Y2458\n",
        "\tS962-206 --> P86Y2540\n",
        "\tSEED-157 --> P86Y2583\n",
        "\tP7R41648 --> P86Y2587\n",
        "pickle/HP12_0159.pickle"
       ]
      },
      {
       "output_type": "stream",
       "stream": "stdout",
       "text": [
        "\n",
        "\tS907-236 --> P86Y2356\n",
        "\tS907-237 --> P86Y2372\n",
        "\tP7R41543 --> P86Y2402\n",
        "\tS962-204 --> P86Y2412\n",
        "\tS907-201 --> P86Y2449\n",
        "pickle/HP12_0160.pickle"
       ]
      },
      {
       "output_type": "stream",
       "stream": "stdout",
       "text": [
        "\n",
        "\tP7R41427 --> P86Y2274\n",
        "\tP7R41433G --> P86Y2284\n",
        "\tP7R41483 --> P86Y2344\n",
        "pickle/HP12_0161.pickle"
       ]
      },
      {
       "output_type": "stream",
       "stream": "stdout",
       "text": [
        "\n",
        "\tS962-236 --> P86Y2225\n",
        "\tP7R41422 --> P86Y2264\n",
        "\tP7R41426 --> P86Y2269\n",
        "pickle/HP12_0162.pickle"
       ]
      },
      {
       "output_type": "stream",
       "stream": "stdout",
       "text": [
        "\n",
        "\tP7R41381G --> P86Y2201\n",
        "\tP7R41417 --> P86Y2258\n",
        "\tP7R41450 --> P86Y2305\n",
        "pickle/HP12_0163.pickle"
       ]
      },
      {
       "output_type": "stream",
       "stream": "stdout",
       "text": [
        "\n",
        "\tS962-241 --> P86Y2197\n",
        "\tP7R41395A --> P86Y2216\n",
        "\tS907-204 --> P86Y2253\n",
        "\tP7R41425 --> P86Y2268\n",
        "\tP7R41426A --> P86Y2270\n",
        "pickle/HP12_0164.pickle"
       ]
      },
      {
       "output_type": "stream",
       "stream": "stdout",
       "text": [
        "\n",
        "\tP7R41403 --> P86Y2238\n",
        "\tS907-234 --> P86Y2240\n",
        "\tP7R41421 --> P86Y2265\n",
        "pickle/HP12_0165.pickle"
       ]
      },
      {
       "output_type": "stream",
       "stream": "stdout",
       "text": [
        "\n",
        "\tP7R41426B --> P86Y2273\n",
        "\tP7R41438 --> P86Y2288\n",
        "\tS907-219 --> P86Y2298\n",
        "pickle/HP12_0166.pickle"
       ]
      },
      {
       "output_type": "stream",
       "stream": "stdout",
       "text": [
        "\n",
        "\tP7R41456A --> P86Y2315\n",
        "pickle/HP12_0167.pickle\n",
        "\t"
       ]
      },
      {
       "output_type": "stream",
       "stream": "stdout",
       "text": [
        "S962-200 --> P86Y2386\n",
        "pickle/HP12_0168.pickle\n",
        "\t"
       ]
      },
      {
       "output_type": "stream",
       "stream": "stdout",
       "text": [
        "S962-215 --> P86Y2398\n",
        "\tP7R41542 --> P86Y2427\n",
        "pickle/HP12_0169.pickle\n",
        "\t"
       ]
      },
      {
       "output_type": "stream",
       "stream": "stdout",
       "text": [
        "P7R41564 --> P86Y2455\n",
        "\tP7R41570 --> P86Y2463\n",
        "\tS907-213 --> P86Y2475\n",
        "\tP7R41580A --> P86Y2483\n",
        "\tS962-205 --> P86Y2488\n",
        "\tP7R41591 --> P86Y2497\n",
        "\tP7R41614 --> P86Y2536\n",
        "\tP7R41619 --> P86Y2537\n",
        "\tS907-187 --> P86Y2551\n",
        "pickle/HP12_0170.pickle"
       ]
      },
      {
       "output_type": "stream",
       "stream": "stdout",
       "text": [
        "\n",
        "\tSEED-199 --> P86Y2529\n",
        "pickle/HP12_0171.pickle"
       ]
      },
      {
       "output_type": "stream",
       "stream": "stdout",
       "text": [
        "\n",
        "\tP7R41684 --> P86Y2637\n",
        "\tP7R41689 --> P86Y2644\n",
        "\tP7R41698 --> P86Y2665\n",
        "pickle/HP12_0172.pickle"
       ]
      },
      {
       "output_type": "stream",
       "stream": "stdout",
       "text": [
        "\n",
        "\tP7R41732 --> P86Y2710\n",
        "\tS962-188 --> P86Y2718\n",
        "\tS907-242 --> P86Y2765\n",
        "pickle/HP12_0173.pickle"
       ]
      },
      {
       "output_type": "stream",
       "stream": "stdout",
       "text": [
        "\n",
        "pickle/HP12_0174.pickle"
       ]
      },
      {
       "output_type": "stream",
       "stream": "stdout",
       "text": [
        "\n",
        "\tP7R41881 --> P86Y2906\n",
        "pickle/HP12_0175.pickle"
       ]
      },
      {
       "output_type": "stream",
       "stream": "stdout",
       "text": [
        "\n",
        "\tP7R41948 --> P86Y2989\n",
        "\tS907-193 --> P86Y3013\n",
        "\tP7R41967 --> P86Y3014\n",
        "pickle/HP12_0176.pickle"
       ]
      },
      {
       "output_type": "stream",
       "stream": "stdout",
       "text": [
        "\n",
        "\tP7R42017 --> P86Y3088\n",
        "pickle/HP12_0177.pickle\n",
        "\t"
       ]
      },
      {
       "output_type": "stream",
       "stream": "stdout",
       "text": [
        "S907-240 --> P86Y3164\n",
        "\tS907-248 --> P86Y3180\n",
        "pickle/HP12_0178.pickle"
       ]
      },
      {
       "output_type": "stream",
       "stream": "stdout",
       "text": [
        "\n",
        "\tP7R42111 --> P86Y3216\n",
        "\tS962-229 --> P86Y3242\n",
        "pickle/HP12_0179.pickle"
       ]
      },
      {
       "output_type": "stream",
       "stream": "stdout",
       "text": [
        "\n",
        "\tP7R42166 --> P86Y3308\n",
        "pickle/HP12_0180.pickle"
       ]
      },
      {
       "output_type": "stream",
       "stream": "stdout",
       "text": [
        "\n",
        "\tP7R42219 --> P86Y3389\n",
        "\tP7R42276G --> P86Y3470\n",
        "pickle/HP12_0181.pickle"
       ]
      },
      {
       "output_type": "stream",
       "stream": "stdout",
       "text": [
        "\n",
        "\tS907-260 --> P86Y3456\n",
        "\tP7R42281AG --> P86Y3481\n",
        "pickle/HP12_0182.pickle"
       ]
      },
      {
       "output_type": "stream",
       "stream": "stdout",
       "text": [
        "\n",
        "\tP7R42316P --> P86Y3528\n",
        "\tP7R42319 --> P86Y3530\n",
        "pickle/HP12_0183.pickle"
       ]
      },
      {
       "output_type": "stream",
       "stream": "stdout",
       "text": [
        "\n",
        "\tS962-214 --> P86Y3486\n",
        "\tP7R42296 --> P86Y3502\n",
        "\tS962-247 --> P86Y3534\n",
        "\tP7R42335 --> P86Y3548\n",
        "\tP7R42361 --> P86Y3586\n",
        "pickle/HP12_0184.pickle"
       ]
      },
      {
       "output_type": "stream",
       "stream": "stdout",
       "text": [
        "\n",
        "pickle/HP12_0185.pickle"
       ]
      },
      {
       "output_type": "stream",
       "stream": "stdout",
       "text": [
        "\n",
        "\tS907-238 --> P86Y3541\n",
        "\tS962-251 --> P86Y3584\n",
        "\tP7R42382G --> P86Y3621\n",
        "pickle/HP12_0186.pickle"
       ]
      },
      {
       "output_type": "stream",
       "stream": "stdout",
       "text": [
        "\n",
        "\tP7R42303 --> P86Y3511\n",
        "pickle/HP12_0187.pickle"
       ]
      },
      {
       "output_type": "stream",
       "stream": "stdout",
       "text": [
        "\n",
        "\tS907-233 --> P86Y3526\n",
        "\tP7R42342 --> P86Y3559\n",
        "\tS962-274 --> P86Y3622\n",
        "pickle/HP12_0188.pickle"
       ]
      },
      {
       "output_type": "stream",
       "stream": "stdout",
       "text": [
        "\n",
        "\tS907-264 --> P86Y3544\n",
        "pickle/HP12_0189.pickle"
       ]
      },
      {
       "output_type": "stream",
       "stream": "stdout",
       "text": [
        "\n",
        "\tP7R42301 --> P86Y3509\n",
        "\tS962-290 --> P86Y3590\n",
        "pickle/HP12_0190.pickle"
       ]
      },
      {
       "output_type": "stream",
       "stream": "stdout",
       "text": [
        "\n",
        "\tS962-210 --> P86Y3375\n",
        "\tP7R42210 --> P86Y3376\n",
        "\tSEED-212 --> P86Y3406\n",
        "\tP7R42236 --> P86Y3407\n",
        "\tS962-235 --> P86Y3410\n",
        "\tP7R42274 --> P86Y3463\n",
        "pickle/HP12_0191.pickle"
       ]
      },
      {
       "output_type": "stream",
       "stream": "stdout",
       "text": [
        "\n",
        "\tS962-237 --> P86Y3289\n",
        "\tP7R42187 --> P86Y3343\n",
        "pickle/HP12_0192.pickle"
       ]
      },
      {
       "output_type": "stream",
       "stream": "stdout",
       "text": [
        "\n",
        "\tS962-239 --> P86Y3077\n",
        "\tSEED-220 --> P86Y3100\n",
        "\tP7R42077 --> P86Y3175\n",
        "pickle/HP12_0193.pickle"
       ]
      },
      {
       "output_type": "stream",
       "stream": "stdout",
       "text": [
        "\n",
        "\tS907-246 --> P86Y2919\n",
        "pickle/HP12_0194.pickle"
       ]
      },
      {
       "output_type": "stream",
       "stream": "stdout",
       "text": [
        "\n",
        "\tP7R41753 --> P86Y2743\n",
        "pickle/HP12_0195.pickle"
       ]
      },
      {
       "output_type": "stream",
       "stream": "stdout",
       "text": [
        "\n",
        "pickle/HP12_0196.pickle\n",
        "\t"
       ]
      },
      {
       "output_type": "stream",
       "stream": "stdout",
       "text": [
        "S962-288 --> P86Y2307\n",
        "\tS962-277 --> P86Y2340\n",
        "\tP7R41484 --> P86Y2346\n",
        "\tP7R41491 --> P86Y2354\n",
        "\tP7R41503 --> P86Y2374\n",
        "pickle/HP12_0197.pickle"
       ]
      },
      {
       "output_type": "stream",
       "stream": "stdout",
       "text": [
        "\n",
        "\tP7R41431 --> P86Y2277\n",
        "pickle/HP12_0198.pickle"
       ]
      },
      {
       "output_type": "stream",
       "stream": "stdout",
       "text": [
        "\n",
        "\tP7R41360 --> P86Y2160\n",
        "\tP7R41379G --> P86Y2198\n",
        "\tP7R41390 --> P86Y2212\n",
        "\tS962-252 --> P86Y2221\n",
        "pickle/HP12_0199.pickle"
       ]
      },
      {
       "output_type": "stream",
       "stream": "stdout",
       "text": [
        "\n",
        "\tP7R41371 --> P86Y2183\n",
        "pickle/HP12_0200.pickle"
       ]
      },
      {
       "output_type": "stream",
       "stream": "stdout",
       "text": [
        "\n",
        "\tP7R41367 --> P86Y2176\n",
        "\tP7R41373B --> P86Y2188\n",
        "\tP7R41385 --> P86Y2205\n",
        "pickle/HP12_0201.pickle"
       ]
      },
      {
       "output_type": "stream",
       "stream": "stdout",
       "text": [
        "\n",
        "\tSEED-201 --> P86Y2215\n",
        "\tP7R41406A --> P86Y2243\n",
        "pickle/HP12_0202.pickle"
       ]
      },
      {
       "output_type": "stream",
       "stream": "stdout",
       "text": [
        "\n",
        "\tS907-290 --> P86Y2150\n",
        "\tP7R41386 --> P86Y2206\n",
        "\tP7R41399 --> P86Y2228\n",
        "pickle/HP12_0203.pickle"
       ]
      },
      {
       "output_type": "stream",
       "stream": "stdout",
       "text": [
        "\n",
        "\tP7R41396 --> P86Y2226\n",
        "\tP7R41400 --> P86Y2232\n",
        "\tP7R41426BX --> P86Y2259\n",
        "pickle/HP12_0204.pickle"
       ]
      },
      {
       "output_type": "stream",
       "stream": "stdout",
       "text": [
        "\n",
        "pickle/HP12_0205.pickle\n",
        "\t"
       ]
      },
      {
       "output_type": "stream",
       "stream": "stdout",
       "text": [
        "S962-242 --> P86Y2276\n",
        "pickle/HP12_0206.pickle\n",
        "\t"
       ]
      },
      {
       "output_type": "stream",
       "stream": "stdout",
       "text": [
        "P7R41441 --> P86Y2291\n",
        "\tP7R41445A --> P86Y2297\n",
        "\tP7R41463 --> P86Y2324\n",
        "\tP7R41510 --> P86Y2387\n",
        "pickle/HP12_0207.pickle"
       ]
      },
      {
       "output_type": "stream",
       "stream": "stdout",
       "text": [
        "\n",
        "\tP7R41517B --> P86Y2395\n",
        "\tP7R41547 --> P86Y2433\n",
        "pickle/HP12_0208.pickle"
       ]
      },
      {
       "output_type": "stream",
       "stream": "stdout",
       "text": [
        "\n",
        "\tS962-249 --> P86Y2446\n",
        "pickle/HP12_0209.pickle"
       ]
      },
      {
       "output_type": "stream",
       "stream": "stdout",
       "text": [
        "\n",
        "\tS962-286 --> P86Y2489\n",
        "\tSEED-260 --> P86Y2491\n",
        "\tP7R41613 --> P86Y2528\n",
        "\tP7R41622 --> P86Y2543\n",
        "\tS962-253 --> P86Y2544\n",
        "\tP7R41629 --> P86Y2552\n",
        "\tP7R41649 --> P86Y2593\n",
        "\tP7R41659 --> P86Y2610\n",
        "pickle/HP12_0210.pickle"
       ]
      },
      {
       "output_type": "stream",
       "stream": "stdout",
       "text": [
        "\n",
        "\tS962-267 --> P86Y2631\n",
        "pickle/HP12_0211.pickle"
       ]
      },
      {
       "output_type": "stream",
       "stream": "stdout",
       "text": [
        "\n",
        "\tP7R41708 --> P86Y2676\n",
        "\tP7R41717 --> P86Y2690\n",
        "\tP7R41725P --> P86Y2707\n",
        "pickle/HP12_0212.pickle"
       ]
      },
      {
       "output_type": "stream",
       "stream": "stdout",
       "text": [
        "\n",
        "\tP7R41806 --> P86Y2816\n",
        "pickle/HP12_0213.pickle"
       ]
      },
      {
       "output_type": "stream",
       "stream": "stdout",
       "text": [
        "\n",
        "\tP7R41839 --> P86Y2851\n",
        "\tP7R41884 --> P86Y2909\n",
        "pickle/HP12_0214.pickle"
       ]
      },
      {
       "output_type": "stream",
       "stream": "stdout",
       "text": [
        "\n",
        "\tP7R41932 --> P86Y2971\n",
        "\tS907-257 --> P86Y3000\n",
        "\tP7R41955 --> P86Y3001\n",
        "pickle/HP12_0215.pickle"
       ]
      },
      {
       "output_type": "stream",
       "stream": "stdout",
       "text": [
        "\n",
        "\tS962-220 --> P86Y3035\n",
        "\tP7R41992 --> P86Y3049\n",
        "\tP7R41999 --> P86Y3058\n",
        "\tS962-254 --> P86Y3065\n",
        "\tP7R42011 --> P86Y3076\n",
        "pickle/HP12_0216.pickle"
       ]
      },
      {
       "output_type": "stream",
       "stream": "stdout",
       "text": [
        "\n",
        "\tP7R42054 --> P86Y3142\n",
        "\tP7R42069 --> P86Y3166\n",
        "pickle/HP12_0217.pickle"
       ]
      },
      {
       "output_type": "stream",
       "stream": "stdout",
       "text": [
        "\n",
        "\tP7R42088 --> P86Y3191\n",
        "\tP7R42093P --> P86Y3199\n",
        "\tP7R42115 --> P86Y3222\n",
        "\tS962-240 --> P86Y3236\n",
        "\tS962-238 --> P86Y3245\n",
        "pickle/HP12_0218.pickle"
       ]
      },
      {
       "output_type": "stream",
       "stream": "stdout",
       "text": [
        "\n",
        "pickle/HP12_0219.pickle"
       ]
      },
      {
       "output_type": "stream",
       "stream": "stdout",
       "text": [
        "\n",
        "\tSEED-207 --> P86Y3356\n",
        "pickle/HP12_0220.pickle"
       ]
      },
      {
       "output_type": "stream",
       "stream": "stdout",
       "text": [
        "\n",
        "\tS907-263 --> P86Y3377\n",
        "\tP7R42243 --> P86Y3420\n",
        "\tS962-310 --> P86Y3444\n",
        "\tP7R42270 --> P86Y3457\n",
        "\tP7R42302 --> P86Y3510\n",
        "pickle/HP12_0221.pickle"
       ]
      },
      {
       "output_type": "stream",
       "stream": "stdout",
       "text": [
        "\n",
        "\tS962-262 --> P86Y3459\n",
        "\tS962-283 --> P86Y3472\n",
        "pickle/HP12_0222.pickle"
       ]
      },
      {
       "output_type": "stream",
       "stream": "stdout",
       "text": [
        "\n",
        "\tP7R42321 --> P86Y3531\n",
        "\tP7R42357 --> P86Y3580\n",
        "\tP7R42368 --> P86Y3594\n",
        "pickle/HP12_0223.pickle"
       ]
      },
      {
       "output_type": "stream",
       "stream": "stdout",
       "text": [
        "\n",
        "\tP7R42339 --> P86Y3555\n",
        "\tP7R42344 --> P86Y3563\n",
        "\tS962-313 --> P86Y3607\n",
        "\tP7R42397 --> P86Y3641\n",
        "pickle/HP12_0224.pickle"
       ]
      },
      {
       "output_type": "stream",
       "stream": "stdout",
       "text": [
        "\n",
        "\tP7R42358A --> P86Y3591\n",
        "\tP7R42378 --> P86Y3612\n",
        "\tP7R42383 --> P86Y3619\n",
        "pickle/HP12_0225.pickle"
       ]
      },
      {
       "output_type": "stream",
       "stream": "stdout",
       "text": [
        "\n",
        "\tS907-295 --> P86Y3637\n",
        "\tS962-312 --> P86Y3654\n",
        "pickle/HP12_0226.pickle"
       ]
      },
      {
       "output_type": "stream",
       "stream": "stdout",
       "text": [
        "\n",
        "\tP7R42382 --> P86Y3618\n",
        "\tP7R42408 --> P86Y3661\n",
        "\tP7R42413 --> P86Y3669\n",
        "\tS962-354 --> P86Y3715\n",
        "\tP7R42457 --> P86Y3722\n",
        "pickle/HP12_0227.pickle"
       ]
      },
      {
       "output_type": "stream",
       "stream": "stdout",
       "text": [
        "\n",
        "\tP7R42399A --> P86Y3644\n",
        "\tP7R42414 --> P86Y3670\n",
        "\tP7R42422 --> P86Y3678\n",
        "pickle/HP12_0228.pickle"
       ]
      },
      {
       "output_type": "stream",
       "stream": "stdout",
       "text": [
        "\n",
        "\tP7R42412 --> P86Y3667\n",
        "\tS962-329 --> P86Y3691\n",
        "\tP7R42434G --> P86Y3719\n",
        "\tP7R42486 --> P86Y3750\n",
        "pickle/HP12_0229.pickle"
       ]
      },
      {
       "output_type": "stream",
       "stream": "stdout",
       "text": [
        "\n",
        "\tP7R42387 --> P86Y3628\n",
        "\tP7R42411 --> P86Y3665\n",
        "\tS962-348 --> P86Y3720\n",
        "\tP7R42477 --> P86Y3725\n",
        "pickle/HP12_0230.pickle"
       ]
      },
      {
       "output_type": "stream",
       "stream": "stdout",
       "text": [
        "\n",
        "\tP7R42354 --> P86Y3577\n",
        "\tP7R42373 --> P86Y3605\n",
        "\tP7R42393A --> P86Y3632\n",
        "\tP7R42395 --> P86Y3636\n",
        "\tP7R42423 --> P86Y3681\n",
        "pickle/HP12_0231.pickle"
       ]
      },
      {
       "output_type": "stream",
       "stream": "stdout",
       "text": [
        "\n",
        "\tP7R42291 --> P86Y3495\n",
        "\tP7R42323 --> P86Y3535\n",
        "\tP7R42341 --> P86Y3558\n",
        "\tP7R42346 --> P86Y3566\n",
        "pickle/HP12_0232.pickle"
       ]
      },
      {
       "output_type": "stream",
       "stream": "stdout",
       "text": [
        "\n",
        "\tP7R42205G --> P86Y3371\n",
        "\tP7R42245 --> P86Y3446\n",
        "\tP7R42265 --> P86Y3453\n",
        "\tP7R42270G --> P86Y3460\n",
        "\tP7R42286J --> P86Y3490\n",
        "pickle/HP12_0233.pickle"
       ]
      },
      {
       "output_type": "stream",
       "stream": "stdout",
       "text": [
        "\n",
        "\tP7R42153 --> P86Y3287\n",
        "pickle/HP12_0234.pickle"
       ]
      },
      {
       "output_type": "stream",
       "stream": "stdout",
       "text": [
        "\n",
        "\tP7R41990 --> P86Y3043\n",
        "\tS962-300 --> P86Y3136\n",
        "pickle/HP12_0235.pickle"
       ]
      },
      {
       "output_type": "stream",
       "stream": "stdout",
       "text": [
        "\n",
        "\tP7R41779 --> P86Y2781\n",
        "\tP7R41780A --> P86Y2786\n",
        "\tS907-297 --> P86Y2806\n",
        "pickle/HP12_0236.pickle"
       ]
      },
      {
       "output_type": "stream",
       "stream": "stdout",
       "text": [
        "\n",
        "\tP7R41562 --> P86Y2448\n",
        "\tP7R41597 --> P86Y2510\n",
        "\tP7R41667 --> P86Y2612\n",
        "\tP7R41669 --> P86Y2613\n",
        "\tP7R41675 --> P86Y2623\n",
        "pickle/HP12_0237.pickle"
       ]
      },
      {
       "output_type": "stream",
       "stream": "stdout",
       "text": [
        "\n",
        "\tP7R41446 --> P86Y2296\n",
        "\tP7R41466 --> P86Y2328\n",
        "\tP7R41486 --> P86Y2350\n",
        "pickle/HP12_0238.pickle"
       ]
      },
      {
       "output_type": "stream",
       "stream": "stdout",
       "text": [
        "\n",
        "\tP7R41354 --> P86Y2149\n",
        "\tS962-297 --> P86Y2271\n",
        "\tP7R41443 --> P86Y2293\n",
        "pickle/HP12_0239.pickle"
       ]
      },
      {
       "output_type": "stream",
       "stream": "stdout",
       "text": [
        "\n",
        "\tP7R41358 --> P86Y2162\n",
        "\tP7R41365A --> P86Y2172\n",
        "\tP7R41389 --> P86Y2213\n",
        "pickle/HP12_0240.pickle"
       ]
      },
      {
       "output_type": "stream",
       "stream": "stdout",
       "text": [
        "\n",
        "\tS962-360 --> P86Y2069\n",
        "\tP7R41329 --> P86Y2112\n",
        "\tP7R41329G --> P86Y2113\n",
        "\tP7R41335 --> P86Y2114\n",
        "\tP7R41346 --> P86Y2141\n",
        "\tS962-276 --> P86Y2163\n",
        "pickle/HP12_0241.pickle"
       ]
      },
      {
       "output_type": "stream",
       "stream": "stdout",
       "text": [
        "\n",
        "\tP7R41283 --> P86Y2080\n",
        "\tS962-322 --> P86Y2088\n",
        "\tS962-306 --> P86Y2110\n",
        "pickle/HP12_0242.pickle"
       ]
      },
      {
       "output_type": "stream",
       "stream": "stdout",
       "text": [
        "\n",
        "\tP7R41300 --> P86Y2070\n",
        "\tP7R41317 --> P86Y2090\n",
        "\tS907-300 --> P86Y2105\n",
        "\tP7R41326 --> P86Y2106\n",
        "\tP7R41341 --> P86Y2134\n",
        "\tS907-279 --> P86Y2152\n",
        "pickle/HP12_0243.pickle"
       ]
      },
      {
       "output_type": "stream",
       "stream": "stdout",
       "text": [
        "\n",
        "\tP7R41322 --> P86Y2098\n",
        "\tS907-298 --> P86Y2118\n",
        "pickle/HP12_0244.pickle"
       ]
      },
      {
       "output_type": "stream",
       "stream": "stdout",
       "text": [
        "\n",
        "\tP7R41319 --> P86Y2093\n",
        "\tP7R41324 --> P86Y2102\n",
        "\tP7R41356 --> P86Y2153\n",
        "\tS907-280 --> P86Y2155\n",
        "pickle/HP12_0245.pickle"
       ]
      },
      {
       "output_type": "stream",
       "stream": "stdout",
       "text": [
        "\n",
        "\tP7R41364 --> P86Y2169\n",
        "pickle/HP12_0246.pickle"
       ]
      },
      {
       "output_type": "stream",
       "stream": "stdout",
       "text": [
        "\n",
        "\tP7R41373A --> P86Y2179\n",
        "pickle/HP12_0247.pickle"
       ]
      },
      {
       "output_type": "stream",
       "stream": "stdout",
       "text": [
        "\n",
        "\tP7R41361A --> P86Y2165\n",
        "\tP7R41361 --> P86Y2166\n",
        "\tS907-286 --> P86Y2231\n",
        "pickle/HP12_0248.pickle"
       ]
      },
      {
       "output_type": "stream",
       "stream": "stdout",
       "text": [
        "\n",
        "\tS907-342 --> P86Y2208\n",
        "\tP7R41410 --> P86Y2246\n",
        "\tP7R41420 --> P86Y2260\n",
        "\tP7R41429 --> P86Y2279\n",
        "\tP7R41442 --> P86Y2286\n",
        "pickle/HP12_0249.pickle"
       ]
      },
      {
       "output_type": "stream",
       "stream": "stdout",
       "text": [
        "\n",
        "\tP7R41409 --> P86Y2245\n",
        "\tP7R41437 --> P86Y2287\n",
        "\tP7R41456 --> P86Y2308\n",
        "\tS907-284 --> P86Y2329\n",
        "pickle/HP12_0250.pickle"
       ]
      },
      {
       "output_type": "stream",
       "stream": "stdout",
       "text": [
        "\n",
        "\tP7R41471 --> P86Y2333\n",
        "pickle/HP12_0251.pickle"
       ]
      },
      {
       "output_type": "stream",
       "stream": "stdout",
       "text": [
        "\n",
        "\tP7R41517A --> P86Y2392\n",
        "\tS962-314 --> P86Y2445\n",
        "pickle/HP12_0252.pickle"
       ]
      },
      {
       "output_type": "stream",
       "stream": "stdout",
       "text": [
        "\n",
        "\tS962-339 --> P86Y2493\n",
        "\tS907-289 --> P86Y2526\n",
        "\tS907-271 --> P86Y2555\n",
        "\tS907-273 --> P86Y2567\n",
        "\tP7R41641 --> P86Y2576\n",
        "pickle/HP12_0253.pickle"
       ]
      },
      {
       "output_type": "stream",
       "stream": "stdout",
       "text": [
        "\n",
        "\tS907-318 --> P86Y2588\n",
        "\tP7R41653 --> P86Y2592\n",
        "\tP7R41655 --> P86Y2596\n",
        "\tS907-282 --> P86Y2601\n",
        "pickle/HP12_0254.pickle"
       ]
      },
      {
       "output_type": "stream",
       "stream": "stdout",
       "text": [
        "\n",
        "\tP7R41695 --> P86Y2660\n",
        "\tS962-268 --> P86Y2667\n",
        "\tSEED-276 --> P86Y2683\n",
        "\tP7R41720 --> P86Y2696\n",
        "pickle/HP12_0255.pickle"
       ]
      },
      {
       "output_type": "stream",
       "stream": "stdout",
       "text": [
        "\n",
        "\tP7R41765 --> P86Y2758\n",
        "\tP7R41769A --> P86Y2764\n",
        "pickle/HP12_0256.pickle"
       ]
      },
      {
       "output_type": "stream",
       "stream": "stdout",
       "text": [
        "\n",
        "\tP7R41845 --> P86Y2859\n",
        "\tS907-315 --> P86Y2868\n",
        "pickle/HP12_0257.pickle"
       ]
      },
      {
       "output_type": "stream",
       "stream": "stdout",
       "text": [
        "\n",
        "\tP7R41891 --> P86Y2921\n",
        "pickle/HP12_0258.pickle\n",
        "\t"
       ]
      },
      {
       "output_type": "stream",
       "stream": "stdout",
       "text": [
        "P7R41966 --> P86Y3015\n",
        "pickle/HP12_0259.pickle\n",
        "\t"
       ]
      },
      {
       "output_type": "stream",
       "stream": "stdout",
       "text": [
        "S907-304 --> P86Y3085\n",
        "\tP7R42039 --> P86Y3122\n",
        "\tP7R42046 --> P86Y3131\n",
        "pickle/HP12_0260.pickle\n",
        "\t"
       ]
      },
      {
       "output_type": "stream",
       "stream": "stdout",
       "text": [
        "P7R42101 --> P86Y3206\n",
        "\tS962-362 --> P86Y3209\n",
        "pickle/HP12_0261.pickle\n",
        "\t"
       ]
      },
      {
       "output_type": "stream",
       "stream": "stdout",
       "text": [
        "SEED-278 --> P86Y3266\n",
        "\tSEED-256 --> P86Y3269\n",
        "pickle/HP12_0262.pickle\n",
        "\t"
       ]
      },
      {
       "output_type": "stream",
       "stream": "stdout",
       "text": [
        "P7R42177 --> P86Y3327\n",
        "\tS962-344 --> P86Y3340\n",
        "pickle/HP12_0263.pickle\n",
        "\t"
       ]
      },
      {
       "output_type": "stream",
       "stream": "stdout",
       "text": [
        "S962-321 --> P86Y3391\n",
        "\tP7R42240 --> P86Y3412\n",
        "\tP7R42242 --> P86Y3417\n",
        "pickle/HP12_0264.pickle\n",
        "\t"
       ]
      },
      {
       "output_type": "stream",
       "stream": "stdout",
       "text": [
        "P7R42325 --> P86Y3538\n",
        "pickle/HP12_0265.pickle\n",
        "\t"
       ]
      },
      {
       "output_type": "stream",
       "stream": "stdout",
       "text": [
        "S907-310 --> P86Y3496\n",
        "\tP7R42324 --> P86Y3537\n",
        "\tS907-364 --> P86Y3556\n",
        "\tP7R42343 --> P86Y3561\n",
        "\tP7R42348 --> P86Y3567\n",
        "pickle/HP12_0266.pickle"
       ]
      },
      {
       "output_type": "stream",
       "stream": "stdout",
       "text": [
        "\n",
        "\tP7R42332 --> P86Y3546\n",
        "\tP7R42352 --> P86Y3570\n",
        "pickle/HP12_0267.pickle"
       ]
      },
      {
       "output_type": "stream",
       "stream": "stdout",
       "text": [
        "\n",
        "\tP7R42373A --> P86Y3600\n",
        "\tP7R42389 --> P86Y3626\n",
        "\tS962-367 --> P86Y3633\n",
        "\tP7R42395G --> P86Y3639\n",
        "\tP7R42406 --> P86Y3653\n",
        "pickle/HP12_0268.pickle"
       ]
      },
      {
       "output_type": "stream",
       "stream": "stdout",
       "text": [
        "\n",
        "\tS962-333 --> P86Y3635\n",
        "\tSEED-344 --> P86Y3707\n",
        "pickle/HP12_0269.pickle"
       ]
      },
      {
       "output_type": "stream",
       "stream": "stdout",
       "text": [
        "\n",
        "\tS907-312 --> P86Y3649\n",
        "\tP7R42411A --> P86Y3672\n",
        "\tS962-376 --> P86Y3699\n",
        "pickle/HP12_0270.pickle"
       ]
      },
      {
       "output_type": "stream",
       "stream": "stdout",
       "text": [
        "\n",
        "\tS962-392 --> P86Y3758\n",
        "pickle/HP12_0271.pickle"
       ]
      },
      {
       "output_type": "stream",
       "stream": "stdout",
       "text": [
        "\n",
        "\tP7R42450 --> P86Y3709\n",
        "\tP7R42484 --> P86Y3751\n",
        "\tS962-370 --> P86Y3752\n",
        "\tS907-388 --> P86Y3783\n",
        "\tS907-403 --> P86Y3791\n",
        "pickle/HP12_0272.pickle"
       ]
      },
      {
       "output_type": "stream",
       "stream": "stdout",
       "text": [
        "\n",
        "\tP7R42448 --> P86Y3703\n",
        "\tP7R42478H --> P86Y3739\n",
        "\tP7R42482 --> P86Y3745\n",
        "\tP7R42485 --> P86Y3749\n",
        "\tP7R42501 --> P86Y3765\n",
        "\tP7R42506 --> P86Y3774\n",
        "\tP7R42512 --> P86Y3786\n",
        "\tP7R42542 --> P86Y3825\n",
        "\tS907-424 --> P86Y3826\n",
        "\tP7R42545 --> P86Y3830\n",
        "pickle/HP12_0273.pickle"
       ]
      },
      {
       "output_type": "stream",
       "stream": "stdout",
       "text": [
        "\n",
        "\tP7R42494 --> P86Y3759\n",
        "\tSEED-332 --> P86Y3792\n",
        "pickle/HP12_0274.pickle"
       ]
      },
      {
       "output_type": "stream",
       "stream": "stdout",
       "text": [
        "\n",
        "\tP7R42420 --> P86Y3676\n",
        "\tP7R42474 --> P86Y3735\n",
        "\tP7R42507HP --> P86Y3779\n",
        "\tP7R42525 --> P86Y3806\n",
        "\tP7R42529 --> P86Y3813\n",
        "pickle/HP12_0275.pickle"
       ]
      },
      {
       "output_type": "stream",
       "stream": "stdout",
       "text": [
        "\n",
        "\tP7R42393 --> P86Y3630\n",
        "\tP7R42437 --> P86Y3693\n",
        "\tP7R42442 --> P86Y3698\n",
        "\tP7R42478G --> P86Y3743\n",
        "\tP7R42495 --> P86Y3762\n",
        "pickle/HP12_0276.pickle"
       ]
      },
      {
       "output_type": "stream",
       "stream": "stdout",
       "text": [
        "\n",
        "\tP7R42397G --> P86Y3640\n",
        "\tP7R42449A --> P86Y3713\n",
        "pickle/HP12_0277.pickle"
       ]
      },
      {
       "output_type": "stream",
       "stream": "stdout",
       "text": [
        "\n",
        "\tS962-326 --> P86Y3494\n",
        "\tP7R42295G --> P86Y3503\n",
        "\tS907-358 --> P86Y3536\n",
        "\tP7R42318A --> P86Y3562\n",
        "\tSEED-337 --> P86Y3608\n",
        "pickle/HP12_0278.pickle"
       ]
      },
      {
       "output_type": "stream",
       "stream": "stdout",
       "text": [
        "\n",
        "\tS907-373 --> P86Y3368\n",
        "pickle/HP12_0279.pickle"
       ]
      },
      {
       "output_type": "stream",
       "stream": "stdout",
       "text": [
        "\n",
        "\tS962-349 --> P86Y3098\n",
        "\tS962-341 --> P86Y3113\n",
        "\tP7R42060 --> P86Y3151\n",
        "\tS962-409 --> P86Y3182\n",
        "\tP7R42091 --> P86Y3196\n",
        "\tS962-382 --> P86Y3200\n",
        "\tP7R42113 --> P86Y3219\n",
        "\tP7R42151 --> P86Y3278\n",
        "pickle/HP12_0280.pickle"
       ]
      },
      {
       "output_type": "stream",
       "stream": "stdout",
       "text": [
        "\n",
        "\tP7R41751 --> P86Y2733\n",
        "\tS962-379 --> P86Y2819\n",
        "\tS907-369 --> P86Y2844\n",
        "\tP7R41846G --> P86Y2862\n",
        "pickle/HP12_0281.pickle"
       ]
      },
      {
       "output_type": "stream",
       "stream": "stdout",
       "text": [
        "\n",
        "\tP7R41633B --> P86Y2561\n",
        "pickle/HP12_0282.pickle"
       ]
      },
      {
       "output_type": "stream",
       "stream": "stdout",
       "text": [
        "\n",
        "\tS907-397 --> P86Y2235\n",
        "\tP7R41536 --> P86Y2419\n",
        "pickle/HP12_0283.pickle"
       ]
      },
      {
       "output_type": "stream",
       "stream": "stdout",
       "text": [
        "\n",
        "\tP7R41305 --> P86Y2077\n",
        "\tP7R41338 --> P86Y2125\n",
        "\tS907-378 --> P86Y2154\n",
        "\tP7R41394 --> P86Y2223\n",
        "pickle/HP12_0284.pickle"
       ]
      },
      {
       "output_type": "stream",
       "stream": "stdout",
       "text": [
        "\n",
        "\tP7R41255 --> P86Y1995\n",
        "\tP7R41288G --> P86Y2048\n",
        "\tP7R41296B --> P86Y2063\n",
        "\tP7R41311 --> P86Y2082\n",
        "\tP7R41321 --> P86Y2099\n",
        "\tS907-341 --> P86Y2145\n",
        "\tS962-309 --> P86Y2181\n",
        "pickle/HP12_0285.pickle"
       ]
      },
      {
       "output_type": "stream",
       "stream": "stdout",
       "text": [
        "\n",
        "\tP7R41236 --> P86Y1963\n",
        "\tP7R41323 --> P86Y2101\n",
        "\tS907-313 --> P86Y2126\n",
        "pickle/HP12_0286.pickle"
       ]
      },
      {
       "output_type": "stream",
       "stream": "stdout",
       "text": [
        "\n",
        "\tP7R41229 --> P86Y1955\n",
        "\tP7R41279 --> P86Y2030\n",
        "pickle/HP12_0287.pickle"
       ]
      },
      {
       "output_type": "stream",
       "stream": "stdout",
       "text": [
        "\n",
        "\tP7R41240 --> P86Y1975\n",
        "\tP7R41265 --> P86Y2015\n",
        "\tP7R41267 --> P86Y2020\n",
        "\tSEED-306 --> P86Y2042\n",
        "pickle/HP12_0288.pickle"
       ]
      },
      {
       "output_type": "stream",
       "stream": "stdout",
       "text": [
        "\n",
        "\tP7R41266 --> P86Y2018\n",
        "\tP7R41287 --> P86Y2047\n",
        "\tP7R41290 --> P86Y2053\n",
        "\tP7R41318 --> P86Y2091\n",
        "pickle/HP12_0289.pickle"
       ]
      },
      {
       "output_type": "stream",
       "stream": "stdout",
       "text": [
        "\n",
        "\tS962-384 --> P86Y2021\n",
        "\tP7R41286 --> P86Y2044\n",
        "\tP7R41289 --> P86Y2050\n",
        "pickle/HP12_0290.pickle"
       ]
      },
      {
       "output_type": "stream",
       "stream": "stdout",
       "text": [
        "\n",
        "\tP7R41269 --> P86Y2017\n",
        "\tP7R41285AG --> P86Y2049\n",
        "\tP7R41292 --> P86Y2054\n",
        "\tP7R41299 --> P86Y2068\n",
        "pickle/HP12_0291.pickle"
       ]
      },
      {
       "output_type": "stream",
       "stream": "stdout",
       "text": [
        "\n",
        "\tP7R41281 --> P86Y2035\n",
        "\tP7R41288 --> P86Y2046\n",
        "\tS907-383 --> P86Y2060\n",
        "\tP7R41310 --> P86Y2083\n",
        "pickle/HP12_0292.pickle"
       ]
      },
      {
       "output_type": "stream",
       "stream": "stdout",
       "text": [
        "\n",
        "\tP7R41293A --> P86Y2057\n",
        "\tP7R41344P --> P86Y2139\n",
        "pickle/HP12_0293.pickle"
       ]
      },
      {
       "output_type": "stream",
       "stream": "stdout",
       "text": [
        "\n",
        "\tSEED-339 --> P86Y2127\n",
        "\tS962-377 --> P86Y2137\n",
        "pickle/HP12_0294.pickle"
       ]
      },
      {
       "output_type": "stream",
       "stream": "stdout",
       "text": [
        "\n",
        "\tP7R41370 --> P86Y2182\n",
        "\tP7R41376 --> P86Y2193\n",
        "pickle/HP12_0295.pickle"
       ]
      },
      {
       "output_type": "stream",
       "stream": "stdout",
       "text": [
        "\n",
        "\tP7R41369 --> P86Y2175\n",
        "\tP7R41402 --> P86Y2236\n",
        "\tS962-338 --> P86Y2251\n",
        "pickle/HP12_0296.pickle"
       ]
      },
      {
       "output_type": "stream",
       "stream": "stdout",
       "text": [
        "\n",
        "\tP7R41416 --> P86Y2254\n",
        "\tP7R41449 --> P86Y2304\n",
        "pickle/HP12_0297.pickle"
       ]
      },
      {
       "output_type": "stream",
       "stream": "stdout",
       "text": [
        "\n",
        "\tS962-357 --> P86Y2358\n",
        "pickle/HP12_0298.pickle"
       ]
      },
      {
       "output_type": "stream",
       "stream": "stdout",
       "text": [
        "\n",
        "\tP7R41514 --> P86Y2389\n",
        "pickle/HP12_0299.pickle\n",
        "\t"
       ]
      },
      {
       "output_type": "stream",
       "stream": "stdout",
       "text": [
        "P7R41569 --> P86Y2462\n",
        "pickle/HP12_0300.pickle\n",
        "\t"
       ]
      },
      {
       "output_type": "stream",
       "stream": "stdout",
       "text": [
        "S907-343 --> P86Y2533\n",
        "\tS962-365 --> P86Y2554\n",
        "pickle/HP12_0301.pickle\n",
        "\t"
       ]
      },
      {
       "output_type": "stream",
       "stream": "stdout",
       "text": [
        "P7R41661B --> P86Y2608\n",
        "\tP7R41672 --> P86Y2618\n",
        "\tP7R41676 --> P86Y2624\n",
        "\tP7R41682 --> P86Y2634\n",
        "pickle/HP12_0302.pickle\n",
        "\t"
       ]
      },
      {
       "output_type": "stream",
       "stream": "stdout",
       "text": [
        "P7R41714 --> P86Y2691\n",
        "\tP7R41728 --> P86Y2704\n",
        "\tP7R41738A --> P86Y2722\n",
        "\tS907-339 --> P86Y2732\n",
        "pickle/HP12_0303.pickle\n",
        "\t"
       ]
      },
      {
       "output_type": "stream",
       "stream": "stdout",
       "text": [
        "P7R41837 --> P86Y2849\n",
        "pickle/HP12_0304.pickle\n",
        "\t"
       ]
      },
      {
       "output_type": "stream",
       "stream": "stdout",
       "text": [
        "P7R41877 --> P86Y2900\n",
        "\tP7R41893 --> P86Y2923\n",
        "\tP7R41894 --> P86Y2925\n",
        "\tP7R41915 --> P86Y2949\n",
        "pickle/HP12_0305.pickle\n",
        "\t"
       ]
      },
      {
       "output_type": "stream",
       "stream": "stdout",
       "text": [
        "P7R41938 --> P86Y2978\n",
        "\tS907-345 --> P86Y2980\n",
        "\tP7R41954 --> P86Y2999\n",
        "pickle/HP12_0306.pickle\n",
        "\t"
       ]
      },
      {
       "output_type": "stream",
       "stream": "stdout",
       "text": [
        "S907-319 --> P86Y3075\n",
        "\tP7R42011G --> P86Y3078\n",
        "\tP7R42021 --> P86Y3092\n",
        "\tP7R42026 --> P86Y3101\n",
        "pickle/HP12_0307.pickle\n",
        "\t"
       ]
      },
      {
       "output_type": "stream",
       "stream": "stdout",
       "text": [
        "S907-361 --> P86Y3144\n",
        "\tP7R42068 --> P86Y3162\n",
        "\tS907-380 --> P86Y3168\n",
        "pickle/HP12_0308.pickle\n",
        "\t"
       ]
      },
      {
       "output_type": "stream",
       "stream": "stdout",
       "text": [
        "P7R42123 --> P86Y3234\n",
        "\tS962-391 --> P86Y3235\n",
        "\tP7R42133 --> P86Y3249\n",
        "\tSEED-345 --> P86Y3258\n",
        "\tS962-423 --> P86Y3280\n",
        "pickle/HP12_0309.pickle\n",
        "\t"
       ]
      },
      {
       "output_type": "stream",
       "stream": "stdout",
       "text": [
        "S962-342 --> P86Y3319\n",
        "pickle/HP12_0310.pickle\n",
        "\t"
       ]
      },
      {
       "output_type": "stream",
       "stream": "stdout",
       "text": [
        "S962-405 --> P86Y3414\n",
        "\tP7R42231G --> P86Y3416\n",
        "pickle/HP12_0311.pickle\n",
        "\t"
       ]
      },
      {
       "output_type": "stream",
       "stream": "stdout",
       "text": [
        "S907-365 --> P86Y3431\n",
        "\tS962-353 --> P86Y3441\n",
        "\tP7R42273 --> P86Y3464\n",
        "pickle/HP12_0312.pickle\n",
        "\t"
       ]
      },
      {
       "output_type": "stream",
       "stream": "stdout",
       "text": [
        "P7R42330 --> P86Y3542\n",
        "pickle/HP12_0313.pickle\n",
        "\t"
       ]
      },
      {
       "output_type": "stream",
       "stream": "stdout",
       "text": [
        "P7R42358 --> P86Y3576\n",
        "\tP7R42367 --> P86Y3578\n",
        "\tP7R42369A --> P86Y3602\n",
        "pickle/HP12_0314.pickle"
       ]
      },
      {
       "output_type": "stream",
       "stream": "stdout",
       "text": [
        "\n",
        "\tS962-422 --> P86Y3611\n",
        "\tSEED-352 --> P86Y3614\n",
        "\tS962-454 --> P86Y3656\n",
        "pickle/HP12_0315.pickle"
       ]
      },
      {
       "output_type": "stream",
       "stream": "stdout",
       "text": [
        "\n",
        "\tP7R42400 --> P86Y3645\n",
        "pickle/HP12_0316.pickle"
       ]
      },
      {
       "output_type": "stream",
       "stream": "stdout",
       "text": [
        "\n",
        "\tS962-424 --> P86Y3701\n",
        "\tP7R42492 --> P86Y3757\n",
        "pickle/HP12_0317.pickle"
       ]
      },
      {
       "output_type": "stream",
       "stream": "stdout",
       "text": [
        "\n",
        "pickle/HP12_0318.pickle"
       ]
      },
      {
       "output_type": "stream",
       "stream": "stdout",
       "text": [
        "\n",
        "\tP7R42489 --> P86Y3756\n",
        "\tP7R42514AG --> P86Y3794\n",
        "pickle/HP12_0319.pickle"
       ]
      },
      {
       "output_type": "stream",
       "stream": "stdout",
       "text": [
        "\n",
        "\tS907-398 --> P86Y3787\n",
        "\tS962-427 --> P86Y3803\n",
        "\tP7R42577 --> P86Y3876\n",
        "\tP7R42590A --> P86Y3893\n",
        "pickle/HP12_0320.pickle"
       ]
      },
      {
       "output_type": "stream",
       "stream": "stdout",
       "text": [
        "\n",
        "\tSEED-367 --> P86Y3827\n",
        "pickle/HP12_0321.pickle"
       ]
      },
      {
       "output_type": "stream",
       "stream": "stdout",
       "text": [
        "\n",
        "\tP7R42526 --> P86Y3810\n",
        "\tP7R42570 --> P86Y3868\n",
        "\tS962-444 --> P86Y3871\n",
        "\tP7R42598 --> P86Y3899\n",
        "\tS907-499 --> P86Y3928\n",
        "pickle/HP12_0322.pickle"
       ]
      },
      {
       "output_type": "stream",
       "stream": "stdout",
       "text": [
        "\n",
        "\tP7R42560 --> P86Y3850\n",
        "\tS962-434 --> P86Y3858\n",
        "pickle/HP12_0323.pickle"
       ]
      },
      {
       "output_type": "stream",
       "stream": "stdout",
       "text": [
        "\n",
        "\tP7R42592 --> P86Y3886\n",
        "\tSEED-399 --> P86Y3887\n",
        "pickle/HP12_0324.pickle"
       ]
      },
      {
       "output_type": "stream",
       "stream": "stdout",
       "text": [
        "\n",
        "\tSEED-346 --> P86Y3753\n",
        "\tSEED-381 --> P86Y3804\n",
        "\tP7R42556 --> P86Y3842\n",
        "\tP7R42561 --> P86Y3852\n",
        "\tP7R42637 --> P86Y3952\n",
        "pickle/HP12_0325.pickle"
       ]
      },
      {
       "output_type": "stream",
       "stream": "stdout",
       "text": [
        "\n",
        "\tP7R42521 --> P86Y3797\n",
        "\tS907-482 --> P86Y3865\n",
        "pickle/HP12_0326.pickle"
       ]
      },
      {
       "output_type": "stream",
       "stream": "stdout",
       "text": [
        "\n",
        "\tP7R42365G --> P86Y3592\n",
        "\tP7R42497 --> P86Y3760\n",
        "\tP7R42539 --> P86Y3823\n",
        "pickle/HP12_0327.pickle"
       ]
      },
      {
       "output_type": "stream",
       "stream": "stdout",
       "text": [
        "\n",
        "\tS962-415 --> P86Y3326\n",
        "\tS962-438 --> P86Y3333\n",
        "\tS962-446 --> P86Y3401\n",
        "\tP7R42347 --> P86Y3560\n",
        "pickle/HP12_0328.pickle"
       ]
      },
      {
       "output_type": "stream",
       "stream": "stdout",
       "text": [
        "\n",
        "\tP7R41918 --> P86Y2951\n",
        "\tS962-464 --> P86Y2983\n",
        "\tP7R41959 --> P86Y3006\n",
        "pickle/HP12_0329.pickle"
       ]
      },
      {
       "output_type": "stream",
       "stream": "stdout",
       "text": [
        "\n",
        "\tP7R41566 --> P86Y2459\n",
        "\tP7R41632 --> P86Y2557\n",
        "\tS962-468 --> P86Y2664\n",
        "\tP7R41789A --> P86Y2798\n",
        "pickle/HP12_0330.pickle"
       ]
      },
      {
       "output_type": "stream",
       "stream": "stdout",
       "text": [
        "\n",
        "\tP7R41352 --> P86Y2157\n",
        "\tP7R41372 --> P86Y2178\n",
        "\tS962-453 --> P86Y2191\n",
        "\tP7R41459 --> P86Y2325\n",
        "\tP7R41480 --> P86Y2343\n",
        "\tP7R41507 --> P86Y2384\n",
        "\tP7R41528 --> P86Y2414\n",
        "pickle/HP12_0331.pickle"
       ]
      },
      {
       "output_type": "stream",
       "stream": "stdout",
       "text": [
        "\n",
        "\tP7R41245 --> P86Y1986\n",
        "\tP7R41383 --> P86Y2204\n",
        "pickle/HP12_0332.pickle"
       ]
      },
      {
       "output_type": "stream",
       "stream": "stdout",
       "text": [
        "\n",
        "\tP7R41225 --> P86Y1949\n",
        "\tS907-461 --> P86Y1987\n",
        "\tP7R41247A --> P86Y2006\n",
        "\tSEED-391 --> P86Y2007\n",
        "\tS907-439 --> P86Y2012\n",
        "pickle/HP12_0333.pickle"
       ]
      },
      {
       "output_type": "stream",
       "stream": "stdout",
       "text": [
        "\n",
        "\tS907-497 --> P86Y1864\n",
        "\tS907-473 --> P86Y1911\n",
        "pickle/HP12_0334.pickle"
       ]
      },
      {
       "output_type": "stream",
       "stream": "stdout",
       "text": [
        "\n",
        "\tS962-473 --> P86Y1875\n",
        "\tP7R41181 --> P86Y1885\n",
        "\tP7R41214 --> P86Y1936\n",
        "pickle/HP12_0335.pickle"
       ]
      },
      {
       "output_type": "stream",
       "stream": "stdout",
       "text": [
        "\n",
        "\tP7R41191 --> P86Y1893\n",
        "\tP7R41231 --> P86Y1956\n",
        "pickle/HP12_0336.pickle"
       ]
      },
      {
       "output_type": "stream",
       "stream": "stdout",
       "text": [
        "\n",
        "\tP7R41180B --> P86Y1876\n",
        "\tS962-476 --> P86Y1889\n",
        "\tP7R41195 --> P86Y1901\n",
        "\tS907-466 --> P86Y1915\n",
        "pickle/HP12_0337.pickle"
       ]
      },
      {
       "output_type": "stream",
       "stream": "stdout",
       "text": [
        "\n",
        "\tP7R41207 --> P86Y1919\n",
        "\tP7R41233 --> P86Y1961\n",
        "pickle/HP12_0338.pickle"
       ]
      },
      {
       "output_type": "stream",
       "stream": "stdout",
       "text": [
        "\n",
        "\tSEED-385 --> P86Y1964\n",
        "\tS907-444 --> P86Y1973\n",
        "pickle/HP12_0339.pickle"
       ]
      },
      {
       "output_type": "stream",
       "stream": "stdout",
       "text": [
        "\n",
        "\tP7R41259 --> P86Y2002\n",
        "pickle/HP12_0340.pickle"
       ]
      },
      {
       "output_type": "stream",
       "stream": "stdout",
       "text": [
        "\n",
        "\tP7R41262 --> P86Y2011\n",
        "pickle/HP12_0341.pickle\n",
        "\t"
       ]
      },
      {
       "output_type": "stream",
       "stream": "stdout",
       "text": [
        "S907-433 --> P86Y2071\n",
        "pickle/HP12_0342.pickle\n",
        "\t"
       ]
      },
      {
       "output_type": "stream",
       "stream": "stdout",
       "text": [
        "P7R41320 --> P86Y2094\n",
        "\tP7R41343 --> P86Y2136\n",
        "pickle/HP12_0343.pickle\n",
        "\t"
       ]
      },
      {
       "output_type": "stream",
       "stream": "stdout",
       "text": [
        "P7R41336A --> P86Y2116\n",
        "\tP7R41358A --> P86Y2164\n",
        "pickle/HP12_0344.pickle\n",
        "\t"
       ]
      },
      {
       "output_type": "stream",
       "stream": "stdout",
       "text": [
        "SEED-411 --> P86Y2173\n",
        "\tP7R41393 --> P86Y2219\n",
        "pickle/HP12_0345.pickle\n",
        "\t"
       ]
      },
      {
       "output_type": "stream",
       "stream": "stdout",
       "text": [
        "P7R41416G --> P86Y2257\n",
        "\tP7R41430 --> P86Y2281\n",
        "pickle/HP12_0346.pickle\n",
        "\t"
       ]
      },
      {
       "output_type": "stream",
       "stream": "stdout",
       "text": [
        "S962-436 --> P86Y2285\n",
        "\tSEED-362 --> P86Y2317\n",
        "\tSEED-342 --> P86Y2337\n",
        "pickle/HP12_0347.pickle\n",
        "\t"
       ]
      },
      {
       "output_type": "stream",
       "stream": "stdout",
       "text": [
        "S962-437 --> P86Y2378\n",
        "\tS962-459 --> P86Y2383\n",
        "pickle/HP12_0348.pickle"
       ]
      },
      {
       "output_type": "stream",
       "stream": "stdout",
       "text": [
        "\n",
        "\tP7R41571 --> P86Y2465\n",
        "\tP7R41589 --> P86Y2495\n",
        "\tS962-441 --> P86Y2503\n",
        "\tP7R41599 --> P86Y2512\n",
        "pickle/HP12_0349.pickle"
       ]
      },
      {
       "output_type": "stream",
       "stream": "stdout",
       "text": [
        "\n",
        "\tP7R41624 --> P86Y2547\n",
        "\tS962-419 --> P86Y2563\n",
        "\tP7R41638 --> P86Y2571\n",
        "\tP7R41646 --> P86Y2581\n",
        "\tS962-404 --> P86Y2597\n",
        "\tSEED-368 --> P86Y2607\n",
        "pickle/HP12_0350.pickle"
       ]
      },
      {
       "output_type": "stream",
       "stream": "stdout",
       "text": [
        "\n",
        "\tP7R41696AG --> P86Y2661\n",
        "\tP7R41711 --> P86Y2680\n",
        "\tSEED-354 --> P86Y2687\n",
        "\tP7R41715 --> P86Y2688\n",
        "pickle/HP12_0351.pickle"
       ]
      },
      {
       "output_type": "stream",
       "stream": "stdout",
       "text": [
        "\n",
        "\tS907-430 --> P86Y2741\n",
        "\tP7R41757 --> P86Y2749\n",
        "\tP7R41762 --> P86Y2754\n",
        "\tS962-451 --> P86Y2766\n",
        "\tP7R41778 --> P86Y2783\n",
        "pickle/HP12_0352.pickle"
       ]
      },
      {
       "output_type": "stream",
       "stream": "stdout",
       "text": [
        "\n",
        "\tS907-474 --> P86Y2855\n",
        "\tP7R41859 --> P86Y2876\n",
        "\tS907-449 --> P86Y2893\n",
        "pickle/HP12_0353.pickle"
       ]
      },
      {
       "output_type": "stream",
       "stream": "stdout",
       "text": [
        "\n",
        "\tP7R41910 --> P86Y2944\n",
        "\tP7R41920 --> P86Y2956\n",
        "\tP7R41940 --> P86Y2981\n",
        "pickle/HP12_0354.pickle"
       ]
      },
      {
       "output_type": "stream",
       "stream": "stdout",
       "text": [
        "\n",
        "\tP7R42013 --> P86Y3082\n",
        "\tSEED-437 --> P86Y3083\n",
        "pickle/HP12_0355.pickle"
       ]
      },
      {
       "output_type": "stream",
       "stream": "stdout",
       "text": [
        "\n",
        "\tP7R42066 --> P86Y3159\n",
        "pickle/HP12_0356.pickle"
       ]
      },
      {
       "output_type": "stream",
       "stream": "stdout",
       "text": [
        "\n",
        "pickle/HP12_0357.pickle"
       ]
      },
      {
       "output_type": "stream",
       "stream": "stdout",
       "text": [
        "\n",
        "\tP7R42164 --> P86Y3305\n",
        "\tSEED-412 --> P86Y3309\n",
        "\tP7R42170GP --> P86Y3310\n",
        "\tP7R42178 --> P86Y3329\n",
        "\tP7R42179G --> P86Y3331\n",
        "pickle/HP12_0358.pickle"
       ]
      },
      {
       "output_type": "stream",
       "stream": "stdout",
       "text": [
        "\n",
        "\tP7R42214 --> P86Y3382\n",
        "pickle/HP12_0359.pickle"
       ]
      },
      {
       "output_type": "stream",
       "stream": "stdout",
       "text": [
        "\n",
        "\tP7R42247 --> P86Y3423\n",
        "\tS907-387 --> P86Y3434\n",
        "\tP7R42248 --> P86Y3438\n",
        "\tS907-425 --> P86Y3461\n",
        "\tP7R42278GP --> P86Y3474\n",
        "\tS907-463 --> P86Y3489\n",
        "pickle/HP12_0360.pickle"
       ]
      },
      {
       "output_type": "stream",
       "stream": "stdout",
       "text": [
        "\n",
        "\tP7R42345 --> P86Y3565\n",
        "\tS962-515 --> P86Y3568\n",
        "\tS907-486 --> P86Y3583\n",
        "\tP7R42372P --> P86Y3604\n",
        "\tP7R42381G --> P86Y3617\n",
        "\tS907-540 --> P86Y3625\n",
        "pickle/HP12_0361.pickle"
       ]
      },
      {
       "output_type": "stream",
       "stream": "stdout",
       "text": [
        "\n",
        "\tP7R42395P --> P86Y3638\n",
        "\tP7R42434 --> P86Y3692\n",
        "\tSEED-483 --> P86Y3694\n",
        "pickle/HP12_0362.pickle"
       ]
      },
      {
       "output_type": "stream",
       "stream": "stdout",
       "text": [
        "\n",
        "\tS962-523 --> P86Y3696\n",
        "\tSEED-457 --> P86Y3716\n",
        "\tP7R42461 --> P86Y3721\n",
        "\tS962-552 --> P86Y3747\n",
        "pickle/HP12_0363.pickle"
       ]
      },
      {
       "output_type": "stream",
       "stream": "stdout",
       "text": [
        "\n",
        "\tP7R42474G --> P86Y3737\n",
        "\tS962-489 --> P86Y3742\n",
        "\tSEED-463 --> P86Y3746\n",
        "\tP7R42507 --> P86Y3775\n",
        "\tP7R42537 --> P86Y3821\n",
        "pickle/HP12_0364.pickle"
       ]
      },
      {
       "output_type": "stream",
       "stream": "stdout",
       "text": [
        "\n",
        "\tS962-494 --> P86Y3788\n",
        "\tS907-553 --> P86Y3816\n",
        "pickle/HP12_0365.pickle"
       ]
      },
      {
       "output_type": "stream",
       "stream": "stdout",
       "text": [
        "\n",
        "\tSEED-403 --> P86Y3808\n",
        "\tP7R42552 --> P86Y3837\n",
        "pickle/HP12_0366.pickle"
       ]
      },
      {
       "output_type": "stream",
       "stream": "stdout",
       "text": [
        "\n",
        "\tS962-482 --> P86Y3853\n",
        "\tS962-478 --> P86Y3856\n",
        "\tSEED-449 --> P86Y3873\n",
        "\tP7R42604 --> P86Y3910\n",
        "pickle/HP12_0367.pickle"
       ]
      },
      {
       "output_type": "stream",
       "stream": "stdout",
       "text": [
        "\n",
        "\tP7R42617 --> P86Y3924\n",
        "\tS907-569 --> P86Y3961\n",
        "pickle/HP12_0368.pickle"
       ]
      },
      {
       "output_type": "stream",
       "stream": "stdout",
       "text": [
        "\n",
        "\tSEED-471 --> P86Y3944\n",
        "\tP7R42641 --> P86Y3962\n",
        "\tP7R42676 --> P86Y4012\n",
        "pickle/HP12_0369.pickle"
       ]
      },
      {
       "output_type": "stream",
       "stream": "stdout",
       "text": [
        "\n",
        "\tP7R42599 --> P86Y3902\n",
        "\tP7R42651 --> P86Y3976\n",
        "\tS907-561 --> P86Y4006\n",
        "pickle/HP12_0370.pickle"
       ]
      },
      {
       "output_type": "stream",
       "stream": "stdout",
       "text": [
        "\n",
        "\tP7R42643G --> P86Y3970\n",
        "\tP7R42658 --> P86Y3983\n",
        "\tSEED-466 --> P86Y4004\n",
        "\tP7R42697 --> P86Y4033\n",
        "pickle/HP12_0371.pickle"
       ]
      },
      {
       "output_type": "stream",
       "stream": "stdout",
       "text": [
        "\n",
        "\tP7R42646 --> P86Y3971\n",
        "\tS962-517 --> P86Y3995\n",
        "pickle/HP12_0372.pickle"
       ]
      },
      {
       "output_type": "stream",
       "stream": "stdout",
       "text": [
        "\n",
        "\tS907-534 --> P86Y3968\n",
        "pickle/HP12_0373.pickle"
       ]
      },
      {
       "output_type": "stream",
       "stream": "stdout",
       "text": [
        "\n",
        "\tP7R42503 --> P86Y3772\n",
        "\tP7R42565 --> P86Y3861\n",
        "\tP7R42588 --> P86Y3884\n",
        "\tP7R42613 --> P86Y3922\n",
        "\tP7R42736 --> P86Y4084\n",
        "pickle/HP12_0374.pickle"
       ]
      },
      {
       "output_type": "stream",
       "stream": "stdout",
       "text": [
        "\n",
        "\tP7R42424 --> P86Y3680\n",
        "\tP7R42463 --> P86Y3729\n",
        "\tP7R42476 --> P86Y3741\n",
        "\tS907-520 --> P86Y3798\n",
        "\tP7R42582 --> P86Y3881\n",
        "\tS907-583 --> P86Y3963\n",
        "pickle/HP12_0375.pickle"
       ]
      },
      {
       "output_type": "stream",
       "stream": "stdout",
       "text": [
        "\n",
        "\tS907-459 --> P86Y3361\n",
        "\tP7R42241 --> P86Y3413\n",
        "\tP7R42316 --> P86Y3527\n",
        "\tP7R42307P --> P86Y3529\n",
        "\tP7R42472 --> P86Y3736\n",
        "pickle/HP12_0376.pickle"
       ]
      },
      {
       "output_type": "stream",
       "stream": "stdout",
       "text": [
        "\n",
        "\tS962-500 --> P86Y2697\n",
        "\tP7R41789 --> P86Y2801\n",
        "\tP7R41930 --> P86Y2905\n",
        "\tP7R41963 --> P86Y3010\n",
        "pickle/HP12_0377.pickle"
       ]
      },
      {
       "output_type": "stream",
       "stream": "stdout",
       "text": [
        "\n",
        "\tP7R41447 --> P86Y2300\n",
        "\tP7R41522 --> P86Y2401\n",
        "pickle/HP12_0378.pickle"
       ]
      },
      {
       "output_type": "stream",
       "stream": "stdout",
       "text": [
        "\n",
        "\tP7R41132 --> P86Y1790\n",
        "\tS962-553 --> P86Y1819\n",
        "\tS962-491 --> P86Y2032\n",
        "\tS962-518 --> P86Y2051\n",
        "\tP7R41327 --> P86Y2132\n",
        "pickle/HP12_0379.pickle"
       ]
      },
      {
       "output_type": "stream",
       "stream": "stdout",
       "text": [
        "\n",
        "\tSEED-493 --> P86Y1788\n",
        "\tP7R41211 --> P86Y1925\n",
        "\tP7R41213 --> P86Y1933\n",
        "\tP7R41223 --> P86Y1947\n",
        "\tP7R41255HP --> P86Y2004\n",
        "pickle/HP12_0380.pickle"
       ]
      },
      {
       "output_type": "stream",
       "stream": "stdout",
       "text": [
        "\n",
        "\tP7R41131 --> P86Y1791\n",
        "\tP7R41149 --> P86Y1823\n",
        "\tP7R41152 --> P86Y1832\n",
        "\tSEED-395 --> P86Y1926\n",
        "pickle/HP12_0381.pickle"
       ]
      },
      {
       "output_type": "stream",
       "stream": "stdout",
       "text": [
        "\n",
        "\tSEED-494 --> P86Y1771\n",
        "\tS962-540 --> P86Y1793\n",
        "\tP7R41148 --> P86Y1824\n",
        "\tP7R41158 --> P86Y1835\n",
        "\tP7R41172 --> P86Y1862\n",
        "\tS962-480 --> P86Y1874\n",
        "pickle/HP12_0382.pickle"
       ]
      },
      {
       "output_type": "stream",
       "stream": "stdout",
       "text": [
        "\n",
        "\tP7R41137 --> P86Y1809\n",
        "\tP7R41142 --> P86Y1816\n",
        "\tP7R41154 --> P86Y1834\n",
        "\tSEED-417 --> P86Y1883\n",
        "pickle/HP12_0383.pickle"
       ]
      },
      {
       "output_type": "stream",
       "stream": "stdout",
       "text": [
        "\n",
        "\tP7R41121 --> P86Y1777\n",
        "\tP7R41129 --> P86Y1797\n",
        "\tP7R41162 --> P86Y1842\n",
        "\tP7R41196 --> P86Y1903\n",
        "pickle/HP12_0384.pickle"
       ]
      },
      {
       "output_type": "stream",
       "stream": "stdout",
       "text": [
        "\n",
        "\tP7R41153 --> P86Y1833\n",
        "\tP7R41165 --> P86Y1850\n",
        "\tP7R41169 --> P86Y1857\n",
        "\tP7R41173 --> P86Y1863\n",
        "\tP7R41180 --> P86Y1878\n",
        "pickle/HP12_0385.pickle"
       ]
      },
      {
       "output_type": "stream",
       "stream": "stdout",
       "text": [
        "\n",
        "\tS907-576 --> P86Y1844\n",
        "\tS962-550 --> P86Y1845\n",
        "\tS907-515 --> P86Y1895\n",
        "pickle/HP12_0386.pickle"
       ]
      },
      {
       "output_type": "stream",
       "stream": "stdout",
       "text": [
        "\n",
        "\tP7R41171 --> P86Y1861\n",
        "\tP7R41188 --> P86Y1887\n",
        "\tP7R41189 --> P86Y1888\n",
        "\tS907-548 --> P86Y1892\n",
        "\tP7R41196G --> P86Y1904\n",
        "pickle/HP12_0387.pickle"
       ]
      },
      {
       "output_type": "stream",
       "stream": "stdout",
       "text": [
        "\n",
        "\tP7R41208 --> P86Y1918\n",
        "\tP7R41241 --> P86Y1979\n",
        "\tP7R41248 --> P86Y1985\n",
        "pickle/HP12_0388.pickle"
       ]
      },
      {
       "output_type": "stream",
       "stream": "stdout",
       "text": [
        "\n",
        "\tP7R41245G --> P86Y1971\n",
        "\tP7R41271 --> P86Y2025\n",
        "pickle/HP12_0389.pickle"
       ]
      },
      {
       "output_type": "stream",
       "stream": "stdout",
       "text": [
        "\n",
        "pickle/HP12_0390.pickle"
       ]
      },
      {
       "output_type": "stream",
       "stream": "stdout",
       "text": [
        "\n",
        "\tP7R41282 --> P86Y2036\n",
        "\tP7R41284 --> P86Y2039\n",
        "\tP7R41296AG --> P86Y2061\n",
        "\tP7R41315 --> P86Y2086\n",
        "pickle/HP12_0391.pickle"
       ]
      },
      {
       "output_type": "stream",
       "stream": "stdout",
       "text": [
        "\n",
        "\tS907-568 --> P86Y2107\n",
        "\tS907-495 --> P86Y2121\n",
        "pickle/HP12_0392.pickle"
       ]
      },
      {
       "output_type": "stream",
       "stream": "stdout",
       "text": [
        "\n",
        "\tP7R41357 --> P86Y2156\n",
        "\tP7R41375 --> P86Y2190\n",
        "\tP7R41377 --> P86Y2194\n",
        "\tS907-465 --> P86Y2222\n",
        "pickle/HP12_0393.pickle"
       ]
      },
      {
       "output_type": "stream",
       "stream": "stdout",
       "text": [
        "\n",
        "\tP7R41388 --> P86Y2210\n",
        "\tS907-516 --> P86Y2262\n",
        "pickle/HP12_0394.pickle"
       ]
      },
      {
       "output_type": "stream",
       "stream": "stdout",
       "text": [
        "\n",
        "\tP7R41462 --> P86Y2323\n",
        "\tP7R41472 --> P86Y2334\n",
        "pickle/HP12_0395.pickle"
       ]
      },
      {
       "output_type": "stream",
       "stream": "stdout",
       "text": [
        "\n",
        "\tP7R41494P --> P86Y2361\n",
        "\tSEED-465 --> P86Y2365\n",
        "pickle/HP12_0396.pickle"
       ]
      },
      {
       "output_type": "stream",
       "stream": "stdout",
       "text": [
        "\n",
        "\tP7R41558 --> P86Y2450\n",
        "\tS962-549 --> P86Y2474\n",
        "\tP7R41579 --> P86Y2478\n",
        "\tS962-521 --> P86Y2522\n",
        "pickle/HP12_0397.pickle"
       ]
      },
      {
       "output_type": "stream",
       "stream": "stdout",
       "text": [
        "\n",
        "\tP7R41633 --> P86Y2559\n",
        "\tS907-539 --> P86Y2627\n",
        "pickle/HP12_0398.pickle"
       ]
      },
      {
       "output_type": "stream",
       "stream": "stdout",
       "text": [
        "\n",
        "\tS907-523 --> P86Y2643\n",
        "\tP7R41703 --> P86Y2669\n",
        "\tP7R41736 --> P86Y2716\n",
        "\tS907-526 --> P86Y2730\n",
        "\tP7R41748 --> P86Y2738\n",
        "pickle/HP12_0399.pickle"
       ]
      },
      {
       "output_type": "stream",
       "stream": "stdout",
       "text": [
        "\n",
        "\tS907-503 --> P86Y2785\n",
        "\tP7R41792A --> P86Y2797\n",
        "\tS962-519 --> P86Y2812\n",
        "pickle/HP12_0400.pickle"
       ]
      },
      {
       "output_type": "stream",
       "stream": "stdout",
       "text": [
        "\n",
        "\tP7R41864 --> P86Y2880\n",
        "pickle/HP12_0401.pickle"
       ]
      },
      {
       "output_type": "stream",
       "stream": "stdout",
       "text": [
        "\n",
        "\tP7R41960A --> P86Y3009\n",
        "pickle/HP12_0402.pickle"
       ]
      },
      {
       "output_type": "stream",
       "stream": "stdout",
       "text": [
        "\n",
        "\tP7R42033 --> P86Y3111\n",
        "\tP7R42042A --> P86Y3127\n",
        "\tP7R42045 --> P86Y3128\n",
        "pickle/HP12_0403.pickle"
       ]
      },
      {
       "output_type": "stream",
       "stream": "stdout",
       "text": [
        "\n",
        "\tP7R42081 --> P86Y3179\n",
        "\tP7R42104 --> P86Y3211\n",
        "\tS962-520 --> P86Y3228\n",
        "\tP7R42122 --> P86Y3231\n",
        "\tS962-504 --> P86Y3248\n",
        "pickle/HP12_0404.pickle"
       ]
      },
      {
       "output_type": "stream",
       "stream": "stdout",
       "text": [
        "\n",
        "\tS962-486 --> P86Y3290\n",
        "\tS962-506 --> P86Y3296\n",
        "\tP7R42163 --> P86Y3304\n",
        "\tS962-505 --> P86Y3336\n",
        "\tSEED-473 --> P86Y3339\n",
        "pickle/HP12_0405.pickle"
       ]
      },
      {
       "output_type": "stream",
       "stream": "stdout",
       "text": [
        "\n",
        "\tS962-560 --> P86Y3395\n",
        "pickle/HP12_0406.pickle"
       ]
      },
      {
       "output_type": "stream",
       "stream": "stdout",
       "text": [
        "\n",
        "\tS962-496 --> P86Y3445\n",
        "\tSEED-478 --> P86Y3479\n",
        "\tS962-536 --> P86Y3491\n",
        "\tP7R42295 --> P86Y3501\n",
        "pickle/HP12_0407.pickle"
       ]
      },
      {
       "output_type": "stream",
       "stream": "stdout",
       "text": [
        "\n",
        "\tS907-500 --> P86Y3519\n",
        "\tP7R42315 --> P86Y3525\n",
        "\tP7R42329 --> P86Y3540\n",
        "\tP7R42332G --> P86Y3547\n",
        "pickle/HP12_0408.pickle"
       ]
      },
      {
       "output_type": "stream",
       "stream": "stdout",
       "text": [
        "\n",
        "\tS962-565 --> P86Y3589\n",
        "\tS907-642 --> P86Y3631\n",
        "\tS907-634 --> P86Y3652\n",
        "pickle/HP12_0409.pickle"
       ]
      },
      {
       "output_type": "stream",
       "stream": "stdout",
       "text": [
        "\n",
        "\tSEED-506 --> P86Y3657\n",
        "pickle/HP12_0410.pickle"
       ]
      },
      {
       "output_type": "stream",
       "stream": "stdout",
       "text": [
        "\n",
        "\tP7R42443 --> P86Y3700\n",
        "\tP7R42455 --> P86Y3711\n",
        "\tS962-648 --> P86Y3784\n",
        "pickle/HP12_0411.pickle"
       ]
      },
      {
       "output_type": "stream",
       "stream": "stdout",
       "text": [
        "\n",
        "\tP7R42532 --> P86Y3814\n",
        "\tSEED-500 --> P86Y3822\n",
        "\tS962-667 --> P86Y3854\n",
        "pickle/HP12_0412.pickle"
       ]
      },
      {
       "output_type": "stream",
       "stream": "stdout",
       "text": [
        "\n",
        "\tP7R42583 --> P86Y3882\n",
        "\tP7R42587 --> P86Y3890\n",
        "pickle/HP12_0413.pickle"
       ]
      },
      {
       "output_type": "stream",
       "stream": "stdout",
       "text": [
        "\n",
        "\tS962-577 --> P86Y3894\n",
        "\tS907-628 --> P86Y3895\n",
        "pickle/HP12_0414.pickle"
       ]
      },
      {
       "output_type": "stream",
       "stream": "stdout",
       "text": [
        "\n",
        "\tS962-587 --> P86Y3921\n",
        "\tP7R42615 --> P86Y3923\n",
        "pickle/HP12_0415.pickle"
       ]
      },
      {
       "output_type": "stream",
       "stream": "stdout",
       "text": [
        "\n",
        "\tS907-595 --> P86Y3978\n",
        "pickle/HP12_0416.pickle"
       ]
      },
      {
       "output_type": "stream",
       "stream": "stdout",
       "text": [
        "\n",
        "\tP7R42666 --> P86Y3997\n",
        "\tP7R42732 --> P86Y4079\n",
        "pickle/HP12_0417.pickle"
       ]
      },
      {
       "output_type": "stream",
       "stream": "stdout",
       "text": [
        "\n",
        "\tS907-630 --> P86Y4063\n",
        "\tP7R42735G --> P86Y4068\n",
        "\tP7R42738 --> P86Y4087\n",
        "pickle/HP12_0418.pickle"
       ]
      },
      {
       "output_type": "stream",
       "stream": "stdout",
       "text": [
        "\n",
        "\tP7R42692 --> P86Y4031\n",
        "\tP7R42695 --> P86Y4032\n",
        "\tS962-572 --> P86Y4065\n",
        "\tP7R42722G --> P86Y4074\n",
        "\tP7R42716 --> P86Y4077\n",
        "pickle/HP12_0419.pickle"
       ]
      },
      {
       "output_type": "stream",
       "stream": "stdout",
       "text": [
        "\n",
        "\tP7R42698 --> P86Y4036\n",
        "\tP7R42752 --> P86Y4108\n",
        "\tP7R42786 --> P86Y4144\n",
        "\tP7R42800 --> P86Y4167\n",
        "pickle/HP12_0420.pickle"
       ]
      },
      {
       "output_type": "stream",
       "stream": "stdout",
       "text": [
        "\n",
        "\tS962-525 --> P86Y3988\n",
        "\tP7R42696AP --> P86Y4047\n",
        "pickle/HP12_0421.pickle"
       ]
      },
      {
       "output_type": "stream",
       "stream": "stdout",
       "text": [
        "\n",
        "\tP7R42752A --> P86Y4110\n",
        "\tP7R42755A --> P86Y4114\n",
        "\tP7R42784 --> P86Y4147\n",
        "\tP7R42834 --> P86Y4221\n",
        "\tSEED-508 --> P86Y4223\n",
        "pickle/HP12_0422.pickle"
       ]
      },
      {
       "output_type": "stream",
       "stream": "stdout",
       "text": [
        "\n",
        "\tS907-587 --> P86Y4042\n",
        "pickle/HP12_0423.pickle"
       ]
      },
      {
       "output_type": "stream",
       "stream": "stdout",
       "text": [
        "\n",
        "\tP7R42511 --> P86Y3781\n",
        "\tP7R42765 --> P86Y4124\n",
        "pickle/HP12_0424.pickle"
       ]
      },
      {
       "output_type": "stream",
       "stream": "stdout",
       "text": [
        "\n",
        "\tP7R42375 --> P86Y3610\n",
        "\tP7R42689 --> P86Y4025\n",
        "pickle/HP12_0425.pickle"
       ]
      },
      {
       "output_type": "stream",
       "stream": "stdout",
       "text": [
        "\n",
        "\tP7R41074 --> P86Y1724\n",
        "\tS962-615 --> P86Y1989\n",
        "\tP7R41331 --> P86Y2117\n",
        "\tP7R41464 --> P86Y2327\n",
        "pickle/HP12_0426.pickle"
       ]
      },
      {
       "output_type": "stream",
       "stream": "stdout",
       "text": [
        "\n",
        "\tP7R41085 --> P86Y1745\n",
        "\tP7R41135 --> P86Y1795\n",
        "pickle/HP12_0427.pickle"
       ]
      },
      {
       "output_type": "stream",
       "stream": "stdout",
       "text": [
        "\n",
        "\tP7R41019 --> P86Y1623\n",
        "\tP7R41069 --> P86Y1705\n",
        "\tP7R41096 --> P86Y1715\n",
        "\tSEED-522 --> P86Y1732\n",
        "\tP7R41090G --> P86Y1737\n",
        "\tS962-567 --> P86Y1761\n",
        "pickle/HP12_0428.pickle"
       ]
      },
      {
       "output_type": "stream",
       "stream": "stdout",
       "text": [
        "\n",
        "\tP7R41035 --> P86Y1618\n",
        "\tS962-632 --> P86Y1656\n",
        "\tS962-633 --> P86Y1662\n",
        "\tP7R41049 --> P86Y1682\n",
        "\tP7R41120 --> P86Y1778\n",
        "\tP7R41118 --> P86Y1779\n",
        "pickle/HP12_0429.pickle"
       ]
      },
      {
       "output_type": "stream",
       "stream": "stdout",
       "text": [
        "\n",
        "\tP7R41041 --> P86Y1668\n",
        "\tS962-627 --> P86Y1680\n",
        "\tP7R41133 --> P86Y1796\n",
        "pickle/HP12_0430.pickle"
       ]
      },
      {
       "output_type": "stream",
       "stream": "stdout",
       "text": [
        "\n",
        "\tS962-695 --> P86Y1650\n",
        "\tP7R41064 --> P86Y1699\n",
        "\tP7R41098 --> P86Y1748\n",
        "\tP7R41140 --> P86Y1812\n",
        "pickle/HP12_0431.pickle"
       ]
      },
      {
       "output_type": "stream",
       "stream": "stdout",
       "text": [
        "\n",
        "\tSEED-547 --> P86Y1716\n",
        "\tP7R41088 --> P86Y1731\n",
        "\tP7R41099 --> P86Y1750\n",
        "\tP7R41104 --> P86Y1754\n",
        "pickle/HP12_0432.pickle"
       ]
      },
      {
       "output_type": "stream",
       "stream": "stdout",
       "text": [
        "\n",
        "\tS962-637 --> P86Y1743\n",
        "\tS962-639 --> P86Y1752\n",
        "\tS962-600 --> P86Y1769\n",
        "\tS962-574 --> P86Y1794\n",
        "\tP7R41139 --> P86Y1813\n",
        "\tS962-527 --> P86Y1846\n",
        "pickle/HP12_0433.pickle"
       ]
      },
      {
       "output_type": "stream",
       "stream": "stdout",
       "text": [
        "\n",
        "\tS907-632 --> P86Y1802\n",
        "\tP7R41141 --> P86Y1815\n",
        "\tS962-568 --> P86Y1828\n",
        "\tP7R41161 --> P86Y1840\n",
        "pickle/HP12_0434.pickle"
       ]
      },
      {
       "output_type": "stream",
       "stream": "stdout",
       "text": [
        "\n",
        "\tS962-649 --> P86Y1808\n",
        "\tS907-636 --> P86Y1821\n",
        "\tP7R41151A --> P86Y1831\n",
        "\tP7R41163 --> P86Y1843\n",
        "\tSEED-479 --> P86Y1847\n",
        "pickle/HP12_0435.pickle"
       ]
      },
      {
       "output_type": "stream",
       "stream": "stdout",
       "text": [
        "\n",
        "\tP7R41156 --> P86Y1839\n",
        "\tSEED-524 --> P86Y1851\n",
        "\tS962-590 --> P86Y1858\n",
        "\tP7R41199 --> P86Y1907\n",
        "pickle/HP12_0436.pickle"
       ]
      },
      {
       "output_type": "stream",
       "stream": "stdout",
       "text": [
        "\n",
        "\tP7R41189P --> P86Y1890\n",
        "\tS962-589 --> P86Y1913\n",
        "\tP7R41209 --> P86Y1921\n",
        "pickle/HP12_0437.pickle"
       ]
      },
      {
       "output_type": "stream",
       "stream": "stdout",
       "text": [
        "\n",
        "\tP7R41219 --> P86Y1943\n",
        "\tS907-607 --> P86Y1970\n",
        "pickle/HP12_0438.pickle"
       ]
      },
      {
       "output_type": "stream",
       "stream": "stdout",
       "text": [
        "\n",
        "\tS907-647 --> P86Y1990\n",
        "\tS907-613 --> P86Y1997\n",
        "\tS962-538 --> P86Y2041\n",
        "pickle/HP12_0439.pickle"
       ]
      },
      {
       "output_type": "stream",
       "stream": "stdout",
       "text": [
        "\n",
        "\tP7R41272G --> P86Y2038\n",
        "\tP7R41285 --> P86Y2040\n",
        "\tP7R41296A --> P86Y2059\n",
        "\tS962-602 --> P86Y2066\n",
        "\tP7R41302A --> P86Y2072\n",
        "pickle/HP12_0440.pickle"
       ]
      },
      {
       "output_type": "stream",
       "stream": "stdout",
       "text": [
        "\n",
        "\tS962-634 --> P86Y2076\n",
        "\tP7R41313 --> P86Y2085\n",
        "\tS907-563 --> P86Y2123\n",
        "pickle/HP12_0441.pickle"
       ]
      },
      {
       "output_type": "stream",
       "stream": "stdout",
       "text": [
        "\n",
        "\tP7R41353 --> P86Y2151\n",
        "pickle/HP12_0442.pickle"
       ]
      },
      {
       "output_type": "stream",
       "stream": "stdout",
       "text": [
        "\n",
        "\tP7R41379 --> P86Y2196\n",
        "pickle/HP12_0443.pickle\n",
        "\t"
       ]
      },
      {
       "output_type": "stream",
       "stream": "stdout",
       "text": [
        "P7R41479 --> P86Y2339\n",
        "pickle/HP12_0444.pickle\n",
        "\t"
       ]
      },
      {
       "output_type": "stream",
       "stream": "stdout",
       "text": [
        "P7R41505 --> P86Y2375\n",
        "\tP7R41524 --> P86Y2409\n",
        "\tP7R41526 --> P86Y2411\n",
        "pickle/HP12_0445.pickle\n",
        "\t"
       ]
      },
      {
       "output_type": "stream",
       "stream": "stdout",
       "text": [
        "SEED-507 --> P86Y2487\n",
        "\tS962-673 --> P86Y2499\n",
        "\tP7R41623 --> P86Y2548\n",
        "pickle/HP12_0446.pickle\n",
        "\t"
       ]
      },
      {
       "output_type": "stream",
       "stream": "stdout",
       "text": [
        "S907-571 --> P86Y2639\n",
        "pickle/HP12_0447.pickle\n",
        "\t"
       ]
      },
      {
       "output_type": "stream",
       "stream": "stdout",
       "text": [
        "S907-622 --> P86Y2701\n",
        "\tS962-522 --> P86Y2739\n",
        "pickle/HP12_0448.pickle\n",
        "\t"
       ]
      },
      {
       "output_type": "stream",
       "stream": "stdout",
       "text": [
        "S962-607 --> P86Y2894\n",
        "pickle/HP12_0449.pickle\n",
        "\t"
       ]
      },
      {
       "output_type": "stream",
       "stream": "stdout",
       "text": [
        "P7R41895 --> P86Y2928\n",
        "\tP7R41949 --> P86Y2990\n",
        "pickle/HP12_0450.pickle"
       ]
      },
      {
       "output_type": "stream",
       "stream": "stdout",
       "text": [
        "\n",
        "\tP7R42008 --> P86Y3071\n",
        "\tP7R42032 --> P86Y3108\n",
        "\tP7R42035 --> P86Y3116\n",
        "pickle/HP12_0451.pickle"
       ]
      },
      {
       "output_type": "stream",
       "stream": "stdout",
       "text": [
        "\n",
        "\tP7R42084B --> P86Y3185\n",
        "\tS907-620 --> P86Y3188\n",
        "\tP7R42087 --> P86Y3192\n",
        "pickle/HP12_0452.pickle"
       ]
      },
      {
       "output_type": "stream",
       "stream": "stdout",
       "text": [
        "\n",
        "\tP7R42160A --> P86Y3301\n",
        "\tS907-640 --> P86Y3332\n",
        "pickle/HP12_0453.pickle"
       ]
      },
      {
       "output_type": "stream",
       "stream": "stdout",
       "text": [
        "\n",
        "\tP7R42205 --> P86Y3369\n",
        "\tP7R42244 --> P86Y3419\n",
        "pickle/HP12_0454.pickle"
       ]
      },
      {
       "output_type": "stream",
       "stream": "stdout",
       "text": [
        "\n",
        "\tS907-591 --> P86Y3433\n",
        "pickle/HP12_0455.pickle"
       ]
      },
      {
       "output_type": "stream",
       "stream": "stdout",
       "text": [
        "\n",
        "\tS962-542 --> P86Y3522\n",
        "\tS962-603 --> P86Y3549\n",
        "\tS962-664 --> P86Y3574\n",
        "pickle/HP12_0456.pickle"
       ]
      },
      {
       "output_type": "stream",
       "stream": "stdout",
       "text": [
        "\n",
        "\tP7R42470 --> P86Y3734\n",
        "pickle/HP12_0457.pickle\n",
        "\t"
       ]
      },
      {
       "output_type": "stream",
       "stream": "stdout",
       "text": [
        "S907-668 --> P86Y3748\n",
        "\tS907-715 --> P86Y3768\n",
        "\tP7R42510 --> P86Y3782\n",
        "\tP7R42515 --> P86Y3790\n",
        "pickle/HP12_0458.pickle"
       ]
      },
      {
       "output_type": "stream",
       "stream": "stdout",
       "text": [
        "\n",
        "\tS907-711 --> P86Y3802\n",
        "\tP7R42544 --> P86Y3829\n",
        "\tP7R42551G --> P86Y3835\n",
        "\tP7R42562 --> P86Y3855\n",
        "\tP7R42564 --> P86Y3860\n",
        "pickle/HP12_0459.pickle"
       ]
      },
      {
       "output_type": "stream",
       "stream": "stdout",
       "text": [
        "\n",
        "\tS907-723 --> P86Y3909\n",
        "pickle/HP12_0460.pickle"
       ]
      },
      {
       "output_type": "stream",
       "stream": "stdout",
       "text": [
        "\n",
        "\tS907-637 --> P86Y3896\n",
        "\tP7R42611 --> P86Y3912\n",
        "\tS962-721 --> P86Y3939\n",
        "\tP7R42628 --> P86Y3943\n",
        "\tP7R42633G --> P86Y3949\n",
        "\tP7R42635 --> P86Y3956\n",
        "\tP7R42643 --> P86Y3965\n",
        "\tS962-735 --> P86Y3966\n",
        "\tP7R42657 --> P86Y3980\n",
        "pickle/HP12_0461.pickle"
       ]
      },
      {
       "output_type": "stream",
       "stream": "stdout",
       "text": [
        "\n",
        "\tS962-614 --> P86Y3934\n",
        "\tP7R42627 --> P86Y3941\n",
        "pickle/HP12_0462.pickle"
       ]
      },
      {
       "output_type": "stream",
       "stream": "stdout",
       "text": [
        "\n",
        "\tS962-684 --> P86Y4008\n",
        "\tS962-687 --> P86Y4045\n",
        "\tP7R42703P --> P86Y4058\n",
        "pickle/HP12_0463.pickle"
       ]
      },
      {
       "output_type": "stream",
       "stream": "stdout",
       "text": [
        "\n",
        "\tP7R42743A --> P86Y4094\n",
        "\tP7R42749 --> P86Y4102\n",
        "pickle/HP12_0464.pickle"
       ]
      },
      {
       "output_type": "stream",
       "stream": "stdout",
       "text": [
        "\n",
        "\tS962-698 --> P86Y4106\n",
        "\tS907-755 --> P86Y4130\n",
        "pickle/HP12_0465.pickle"
       ]
      },
      {
       "output_type": "stream",
       "stream": "stdout",
       "text": [
        "\n",
        "\tP7R42768 --> P86Y4127\n",
        "\tP7R42789A --> P86Y4151\n",
        "\tP7R42807 --> P86Y4176\n",
        "\tP7R42828 --> P86Y4209\n",
        "pickle/HP12_0466.pickle"
       ]
      },
      {
       "output_type": "stream",
       "stream": "stdout",
       "text": [
        "\n",
        "pickle/HP12_0467.pickle"
       ]
      },
      {
       "output_type": "stream",
       "stream": "stdout",
       "text": [
        "\n",
        "\tP7R42814 --> P86Y4198\n",
        "\tP7R42844 --> P86Y4233\n",
        "\tS907-742 --> P86Y4247\n",
        "\tP7R42917 --> P86Y4337\n",
        "pickle/HP12_0468.pickle"
       ]
      },
      {
       "output_type": "stream",
       "stream": "stdout",
       "text": [
        "\n",
        "\tP7R42790 --> P86Y4148\n",
        "\tS907-727 --> P86Y4283\n",
        "pickle/HP12_0469.pickle"
       ]
      },
      {
       "output_type": "stream",
       "stream": "stdout",
       "text": [
        "\n",
        "\tP7R42838 --> P86Y4227\n",
        "\tP7R42911A --> P86Y4324\n",
        "pickle/HP12_0470.pickle"
       ]
      },
      {
       "output_type": "stream",
       "stream": "stdout",
       "text": [
        "\n",
        "\tS907-696 --> P86Y4327\n",
        "pickle/HP12_0471.pickle"
       ]
      },
      {
       "output_type": "stream",
       "stream": "stdout",
       "text": [
        "\n",
        "\tP7R43053 --> P86Y4521\n",
        "pickle/HP12_0472.pickle\n",
        "\t"
       ]
      },
      {
       "output_type": "stream",
       "stream": "stdout",
       "text": [
        "P7R40239 --> P86Y0376\n",
        "\tP7R40261 --> P86Y0415\n",
        "\tS962-599 --> P86Y2692\n",
        "\tP7R42559 --> P86Y3913\n",
        "pickle/HP12_0473.pickle"
       ]
      },
      {
       "output_type": "stream",
       "stream": "stdout",
       "text": [
        "\n",
        "\tP7R40862A --> P86Y1356\n",
        "\tS962-705 --> P86Y1444\n",
        "\tS907-705 --> P86Y1499\n",
        "\tS962-686 --> P86Y1526\n",
        "\tP7R41023A --> P86Y1642\n",
        "pickle/HP12_0474.pickle"
       ]
      },
      {
       "output_type": "stream",
       "stream": "stdout",
       "text": [
        "\n",
        "\tP7R40992 --> P86Y1580\n",
        "pickle/HP12_0475.pickle"
       ]
      },
      {
       "output_type": "stream",
       "stream": "stdout",
       "text": [
        "\n",
        "\tS962-701 --> P86Y1564\n",
        "\tP7R41033 --> P86Y1655\n",
        "pickle/HP12_0476.pickle"
       ]
      },
      {
       "output_type": "stream",
       "stream": "stdout",
       "text": [
        "\n",
        "\tP7R40993 --> P86Y1581\n",
        "\tS907-671 --> P86Y1649\n",
        "\tP7R41040A --> P86Y1666\n",
        "pickle/HP12_0477.pickle"
       ]
      },
      {
       "output_type": "stream",
       "stream": "stdout",
       "text": [
        "\n",
        "\tS907-747 --> P86Y1596\n",
        "\tS907-677 --> P86Y1629\n",
        "\tS907-698 --> P86Y1648\n",
        "pickle/HP12_0478.pickle"
       ]
      },
      {
       "output_type": "stream",
       "stream": "stdout",
       "text": [
        "\n",
        "\tP7R41030 --> P86Y1651\n",
        "\tS907-699 --> P86Y1669\n",
        "\tP7R41043 --> P86Y1670\n",
        "\tP7R41044 --> P86Y1676\n",
        "\tP7R41061 --> P86Y1697\n",
        "\tP7R41087 --> P86Y1725\n",
        "pickle/HP12_0479.pickle"
       ]
      },
      {
       "output_type": "stream",
       "stream": "stdout",
       "text": [
        "\n",
        "\tP7R41046 --> P86Y1674\n",
        "pickle/HP12_0480.pickle"
       ]
      },
      {
       "output_type": "stream",
       "stream": "stdout",
       "text": [
        "\n",
        "\tS962-653 --> P86Y1746\n",
        "\tP7R41114 --> P86Y1765\n",
        "pickle/HP12_0481.pickle"
       ]
      },
      {
       "output_type": "stream",
       "stream": "stdout",
       "text": [
        "\n",
        "\tP7R41115 --> P86Y1766\n",
        "pickle/HP12_0482.pickle"
       ]
      },
      {
       "output_type": "stream",
       "stream": "stdout",
       "text": [
        "\n",
        "pickle/HP12_0483.pickle\n",
        "\t"
       ]
      },
      {
       "output_type": "stream",
       "stream": "stdout",
       "text": [
        "P7R41183 --> P86Y1879\n",
        "pickle/HP12_0484.pickle\n",
        "\t"
       ]
      },
      {
       "output_type": "stream",
       "stream": "stdout",
       "text": [
        "P7R41165P --> P86Y1853\n",
        "\tP7R41184 --> P86Y1880\n",
        "\tP7R41198 --> P86Y1905\n",
        "pickle/HP12_0485.pickle\n",
        "\t"
       ]
      },
      {
       "output_type": "stream",
       "stream": "stdout",
       "text": [
        "P7R41190 --> P86Y1891\n",
        "\tS907-688 --> P86Y1930\n",
        "\tS962-708 --> P86Y1931\n",
        "\tS962-661 --> P86Y1938\n",
        "\tS907-663 --> P86Y1944\n",
        "\tP7R41226 --> P86Y1952\n",
        "pickle/HP12_0486.pickle"
       ]
      },
      {
       "output_type": "stream",
       "stream": "stdout",
       "text": [
        "\n",
        "\tS907-664 --> P86Y1992\n",
        "pickle/HP12_0487.pickle"
       ]
      },
      {
       "output_type": "stream",
       "stream": "stdout",
       "text": [
        "\n",
        "pickle/HP12_0488.pickle"
       ]
      },
      {
       "output_type": "stream",
       "stream": "stdout",
       "text": [
        "\n",
        "\tS907-713 --> P86Y2089\n",
        "\tP7R41332 --> P86Y2120\n",
        "pickle/HP12_0489.pickle"
       ]
      },
      {
       "output_type": "stream",
       "stream": "stdout",
       "text": [
        "\n",
        "\tS962-736 --> P86Y2131\n",
        "\tP7R41342 --> P86Y2135\n",
        "\tP7R41347 --> P86Y2142\n",
        "\tP7R41349 --> P86Y2144\n",
        "\tS907-666 --> P86Y2184\n",
        "pickle/HP12_0490.pickle"
       ]
      },
      {
       "output_type": "stream",
       "stream": "stdout",
       "text": [
        "\n",
        "\tS962-681 --> P86Y2229\n",
        "\tP7R41408 --> P86Y2242\n",
        "pickle/HP12_0491.pickle"
       ]
      },
      {
       "output_type": "stream",
       "stream": "stdout",
       "text": [
        "\n",
        "\tP7R41435 --> P86Y2283\n",
        "\tS907-771 --> P86Y2292\n",
        "\tS907-692 --> P86Y2347\n",
        "\tS962-650 --> P86Y2355\n",
        "pickle/HP12_0492.pickle"
       ]
      },
      {
       "output_type": "stream",
       "stream": "stdout",
       "text": [
        "\n",
        "\tP7R41508 --> P86Y2380\n",
        "\tP7R41525 --> P86Y2407\n",
        "\tS962-751 --> P86Y2408\n",
        "\tP7R41552 --> P86Y2432\n",
        "\tP7R41560 --> P86Y2452\n",
        "pickle/HP12_0493.pickle"
       ]
      },
      {
       "output_type": "stream",
       "stream": "stdout",
       "text": [
        "\n",
        "\tS907-738 --> P86Y2500\n",
        "\tP7R41622AG --> P86Y2546\n",
        "\tS907-704 --> P86Y2558\n",
        "pickle/HP12_0494.pickle"
       ]
      },
      {
       "output_type": "stream",
       "stream": "stdout",
       "text": [
        "\n",
        "\tS962-657 --> P86Y2638\n",
        "\tP7R41704 --> P86Y2674\n",
        "\tP7R41708A --> P86Y2677\n",
        "pickle/HP12_0495.pickle"
       ]
      },
      {
       "output_type": "stream",
       "stream": "stdout",
       "text": [
        "\n",
        "\tP7R41780 --> P86Y2784\n",
        "\tP7R41799A --> P86Y2810\n",
        "\tP7R41825 --> P86Y2835\n",
        "pickle/HP12_0496.pickle"
       ]
      },
      {
       "output_type": "stream",
       "stream": "stdout",
       "text": [
        "\n",
        "\tS907-651 --> P86Y2920\n",
        "\tP7R41898 --> P86Y2927\n",
        "pickle/HP12_0497.pickle"
       ]
      },
      {
       "output_type": "stream",
       "stream": "stdout",
       "text": [
        "\n",
        "\tP7R41984A --> P86Y3044\n",
        "pickle/HP12_0498.pickle"
       ]
      },
      {
       "output_type": "stream",
       "stream": "stdout",
       "text": [
        "\n",
        "\tS962-655 --> P86Y3153\n",
        "\tSEED-563 --> P86Y3171\n",
        "pickle/HP12_0499.pickle"
       ]
      },
      {
       "output_type": "stream",
       "stream": "stdout",
       "text": [
        "\n",
        "\tP7R42140 --> P86Y3259\n",
        "\tP7R42142 --> P86Y3260\n",
        "\tP7R42145 --> P86Y3270\n",
        "\tP7R42145B --> P86Y3274\n",
        "pickle/HP12_0500.pickle"
       ]
      },
      {
       "output_type": "stream",
       "stream": "stdout",
       "text": [
        "\n",
        "\tS907-759 --> P86Y3390\n",
        "pickle/HP12_0501.pickle"
       ]
      },
      {
       "output_type": "stream",
       "stream": "stdout",
       "text": [
        "\n",
        "\tP7R42252 --> P86Y3426\n",
        "\tS907-735 --> P86Y3443\n",
        "\tP7R42264 --> P86Y3452\n",
        "\tS962-713 --> P86Y3484\n",
        "\tP7R42286G --> P86Y3487\n",
        "\tP7R42293 --> P86Y3499\n",
        "pickle/HP12_0502.pickle"
       ]
      },
      {
       "output_type": "stream",
       "stream": "stdout",
       "text": [
        "\n",
        "\tP7R42340 --> P86Y3557\n",
        "pickle/HP12_0503.pickle"
       ]
      },
      {
       "output_type": "stream",
       "stream": "stdout",
       "text": [
        "\n",
        "\tS962-709 --> P86Y3609\n",
        "pickle/HP12_0504.pickle\n",
        "\t"
       ]
      },
      {
       "output_type": "stream",
       "stream": "stdout",
       "text": [
        "S962-738 --> P86Y3664\n",
        "\tP7R42415B --> P86Y3675\n",
        "pickle/HP12_0505.pickle\n",
        "\t"
       ]
      },
      {
       "output_type": "stream",
       "stream": "stdout",
       "text": [
        "P7R42507H --> P86Y3767\n",
        "\tS907-840 --> P86Y3799\n",
        "pickle/HP12_0506.pickle\n",
        "\t"
       ]
      },
      {
       "output_type": "stream",
       "stream": "stdout",
       "text": [
        "S907-816 --> P86Y3839\n",
        "\tP7R42585 --> P86Y3883\n",
        "pickle/HP12_0507.pickle\n",
        "pickle/HP12_0508.pickle"
       ]
      },
      {
       "output_type": "stream",
       "stream": "stdout",
       "text": [
        "\n",
        "\tS962-715 --> P86Y3920\n",
        "\tP7R42631 --> P86Y3946\n",
        "\tP7R42652 --> P86Y3974\n",
        "\tS962-805 --> P86Y3987\n",
        "pickle/HP12_0509.pickle"
       ]
      },
      {
       "output_type": "stream",
       "stream": "stdout",
       "text": [
        "\n",
        "\tS962-762 --> P86Y3985\n",
        "\tP7R42672P --> P86Y4005\n",
        "pickle/HP12_0510.pickle"
       ]
      },
      {
       "output_type": "stream",
       "stream": "stdout",
       "text": [
        "\n",
        "\tP7R42682 --> P86Y4019\n",
        "\tP7R42710 --> P86Y4050\n",
        "\tS907-825 --> P86Y4095\n",
        "pickle/HP12_0511.pickle"
       ]
      },
      {
       "output_type": "stream",
       "stream": "stdout",
       "text": [
        "\n",
        "\tP7R42731 --> P86Y4081\n",
        "\tS962-787 --> P86Y4100\n",
        "\tP7R42757G --> P86Y4123\n",
        "\tP7R42777 --> P86Y4139\n",
        "\tP7R42783 --> P86Y4145\n",
        "pickle/HP12_0512.pickle"
       ]
      },
      {
       "output_type": "stream",
       "stream": "stdout",
       "text": [
        "\n",
        "\tP7R42782 --> P86Y4142\n",
        "\tS907-805 --> P86Y4154\n",
        "\tP7R42797 --> P86Y4160\n",
        "\tP7R42811 --> P86Y4179\n",
        "\tS907-871 --> P86Y4187\n",
        "\tS962-856 --> P86Y4214\n",
        "pickle/HP12_0513.pickle"
       ]
      },
      {
       "output_type": "stream",
       "stream": "stdout",
       "text": [
        "\n",
        "\tS962-779 --> P86Y4185\n",
        "\tS962-816 --> P86Y4211\n",
        "\tP7R42845 --> P86Y4237\n",
        "pickle/HP12_0514.pickle"
       ]
      },
      {
       "output_type": "stream",
       "stream": "stdout",
       "text": [
        "\n",
        "\tP7R42865 --> P86Y4262\n",
        "\tP7R42900 --> P86Y4309\n",
        "pickle/HP12_0515.pickle"
       ]
      },
      {
       "output_type": "stream",
       "stream": "stdout",
       "text": [
        "\n",
        "\tP7R42864 --> P86Y4260\n",
        "\tS962-763 --> P86Y4301\n",
        "\tSEED-614 --> P86Y4302\n",
        "\tP7R42924 --> P86Y4342\n",
        "pickle/HP12_0516.pickle"
       ]
      },
      {
       "output_type": "stream",
       "stream": "stdout",
       "text": [
        "\n",
        "\tP7R42906 --> P86Y4319\n",
        "\tS962-806 --> P86Y4403\n",
        "pickle/HP12_0517.pickle"
       ]
      },
      {
       "output_type": "stream",
       "stream": "stdout",
       "text": [
        "\n",
        "\tS962-739 --> P86Y4345\n",
        "\tP7R42932 --> P86Y4352\n",
        "\tS907-848 --> P86Y4466\n",
        "pickle/HP12_0518.pickle"
       ]
      },
      {
       "output_type": "stream",
       "stream": "stdout",
       "text": [
        "\n",
        "\tP7R42962 --> P86Y4392\n",
        "\tS962-788 --> P86Y4473\n",
        "\tP7R43060 --> P86Y4532\n",
        "\tP7R43074 --> P86Y4549\n",
        "\tP7R43156 --> P86Y4652\n",
        "pickle/HP12_0519.pickle"
       ]
      },
      {
       "output_type": "stream",
       "stream": "stdout",
       "text": [
        "\n",
        "\tP7R43099 --> P86Y4580\n",
        "\tP7R43139 --> P86Y4631\n",
        "\tP7R43177 --> P86Y4678\n",
        "pickle/HP12_0520.pickle"
       ]
      },
      {
       "output_type": "stream",
       "stream": "stdout",
       "text": [
        "\n",
        "\tS907-793 --> P86Y0207\n",
        "\tS962-740 --> P86Y4940\n",
        "\tS962-807 --> P86Y5075\n",
        "\tS962-860 --> P86Y5260\n",
        "pickle/HP12_0521.pickle"
       ]
      },
      {
       "output_type": "stream",
       "stream": "stdout",
       "text": [
        "\n",
        "\tP7R40418 --> P86Y0646\n",
        "\tP7R40501 --> P86Y0787\n",
        "\tS907-842 --> P86Y0855\n",
        "\tP7R40649A --> P86Y1017\n",
        "\tP7R40701 --> P86Y1156\n",
        "pickle/HP12_0522.pickle"
       ]
      },
      {
       "output_type": "stream",
       "stream": "stdout",
       "text": [
        "\n",
        "\tS962-808 --> P86Y1307\n",
        "\tSEED-622 --> P86Y1324\n",
        "\tP7R40889 --> P86Y1416\n",
        "pickle/HP12_0523.pickle"
       ]
      },
      {
       "output_type": "stream",
       "stream": "stdout",
       "text": [
        "\n",
        "\tP7R40914 --> P86Y1454\n",
        "\tP7R40925 --> P86Y1474\n",
        "\tP7R40927 --> P86Y1477\n",
        "pickle/HP12_0524.pickle"
       ]
      },
      {
       "output_type": "stream",
       "stream": "stdout",
       "text": [
        "\n",
        "\tP7R40957 --> P86Y1523\n",
        "pickle/HP12_0525.pickle"
       ]
      },
      {
       "output_type": "stream",
       "stream": "stdout",
       "text": [
        "\n",
        "\tS907-882 --> P86Y1466\n",
        "\tP7R40926 --> P86Y1478\n",
        "\tS962-826 --> P86Y1479\n",
        "\tP7R40936 --> P86Y1493\n",
        "\tP7R41000 --> P86Y1593\n",
        "pickle/HP12_0526.pickle"
       ]
      },
      {
       "output_type": "stream",
       "stream": "stdout",
       "text": [
        "\n",
        "\tP7R40966 --> P86Y1534\n",
        "\tS907-801 --> P86Y1576\n",
        "\tP7R41005 --> P86Y1601\n",
        "pickle/HP12_0527.pickle"
       ]
      },
      {
       "output_type": "stream",
       "stream": "stdout",
       "text": [
        "\n",
        "\tS907-861 --> P86Y1582\n",
        "\tS962-839 --> P86Y1586\n",
        "\tP7R41001 --> P86Y1595\n",
        "\tSEED-560 --> P86Y1611\n",
        "pickle/HP12_0528.pickle"
       ]
      },
      {
       "output_type": "stream",
       "stream": "stdout",
       "text": [
        "\n",
        "\tS962-834 --> P86Y1613\n",
        "\tS962-797 --> P86Y1640\n",
        "\tS962-800 --> P86Y1646\n",
        "\tSEED-565 --> P86Y1672\n",
        "pickle/HP12_0529.pickle"
       ]
      },
      {
       "output_type": "stream",
       "stream": "stdout",
       "text": [
        "\n",
        "\tP7R41036 --> P86Y1658\n",
        "\tS907-806 --> P86Y1693\n",
        "\tP7R41058G --> P86Y1694\n",
        "pickle/HP12_0530.pickle"
       ]
      },
      {
       "output_type": "stream",
       "stream": "stdout",
       "text": [
        "\n",
        "\tP7R41073 --> P86Y1709\n",
        "\tS907-802 --> P86Y1713\n",
        "\tP7R41084 --> P86Y1726\n",
        "\tS962-754 --> P86Y1740\n",
        "pickle/HP12_0531.pickle"
       ]
      },
      {
       "output_type": "stream",
       "stream": "stdout",
       "text": [
        "\n",
        "\tP7R41091 --> P86Y1736\n",
        "\tS907-844 --> P86Y1762\n",
        "\tS907-833 --> P86Y1770\n",
        "pickle/HP12_0532.pickle"
       ]
      },
      {
       "output_type": "stream",
       "stream": "stdout",
       "text": [
        "\n",
        "\tP7R41112 --> P86Y1760\n",
        "pickle/HP12_0533.pickle"
       ]
      },
      {
       "output_type": "stream",
       "stream": "stdout",
       "text": [
        "\n",
        "\tP7R41146G --> P86Y1822\n",
        "\tS962-821 --> P86Y1849\n",
        "\tS962-793 --> P86Y1855\n",
        "pickle/HP12_0534.pickle"
       ]
      },
      {
       "output_type": "stream",
       "stream": "stdout",
       "text": [
        "\n",
        "\tS907-877 --> P86Y1872\n",
        "\tS907-835 --> P86Y1884\n",
        "\tP7R41206 --> P86Y1920\n",
        "pickle/HP12_0535.pickle"
       ]
      },
      {
       "output_type": "stream",
       "stream": "stdout",
       "text": [
        "\n",
        "\tP7R41222A --> P86Y1945\n",
        "\tP7R41243 --> P86Y1981\n",
        "pickle/HP12_0536.pickle"
       ]
      },
      {
       "output_type": "stream",
       "stream": "stdout",
       "text": [
        "\n",
        "\tP7R41249A --> P86Y1960\n",
        "\tP7R41249 --> P86Y1984\n",
        "\tS907-866 --> P86Y2003\n",
        "\tSEED-618 --> P86Y2026\n",
        "\tP7R41276 --> P86Y2028\n",
        "pickle/HP12_0537.pickle"
       ]
      },
      {
       "output_type": "stream",
       "stream": "stdout",
       "text": [
        "\n",
        "pickle/HP12_0538.pickle"
       ]
      },
      {
       "output_type": "stream",
       "stream": "stdout",
       "text": [
        "\n",
        "\tP7R41344 --> P86Y2138\n",
        "\tS907-781 --> P86Y2158\n",
        "pickle/HP12_0539.pickle"
       ]
      },
      {
       "output_type": "stream",
       "stream": "stdout",
       "text": [
        "\n",
        "\tS962-812 --> P86Y2199\n",
        "\tS962-828 --> P86Y2217\n",
        "\tS907-788 --> P86Y2220\n",
        "\tP7R41399P --> P86Y2234\n",
        "\tS962-728 --> P86Y2263\n",
        "pickle/HP12_0540.pickle"
       ]
      },
      {
       "output_type": "stream",
       "stream": "stdout",
       "text": [
        "\n",
        "\tP7R41440 --> P86Y2290\n",
        "\tP7R41454 --> P86Y2312\n",
        "\tS907-795 --> P86Y2338\n",
        "\tS907-811 --> P86Y2364\n",
        "\tP7R41500 --> P86Y2371\n",
        "\tP7R41501 --> P86Y2373\n",
        "pickle/HP12_0541.pickle"
       ]
      },
      {
       "output_type": "stream",
       "stream": "stdout",
       "text": [
        "\n",
        "\tS962-835 --> P86Y2415\n",
        "pickle/HP12_0542.pickle"
       ]
      },
      {
       "output_type": "stream",
       "stream": "stdout",
       "text": [
        "\n",
        "\tS907-837 --> P86Y2539\n",
        "\tP7R41640 --> P86Y2573\n",
        "\tP7R41644 --> P86Y2580\n",
        "pickle/HP12_0543.pickle"
       ]
      },
      {
       "output_type": "stream",
       "stream": "stdout",
       "text": [
        "\n",
        "\tP7R41686 --> P86Y2641\n",
        "\tP7R41725 --> P86Y2705\n",
        "\tSEED-604 --> P86Y2736\n",
        "pickle/HP12_0544.pickle"
       ]
      },
      {
       "output_type": "stream",
       "stream": "stdout",
       "text": [
        "\n",
        "\tS907-803 --> P86Y2895\n",
        "pickle/HP12_0545.pickle"
       ]
      },
      {
       "output_type": "stream",
       "stream": "stdout",
       "text": [
        "\n",
        "\tS962-757 --> P86Y2953\n",
        "\tP7R41921 --> P86Y2958\n",
        "\tP7R41941G --> P86Y2986\n",
        "\tS962-865 --> P86Y2994\n",
        "\tSEED-635 --> P86Y2998\n",
        "pickle/HP12_0546.pickle"
       ]
      },
      {
       "output_type": "stream",
       "stream": "stdout",
       "text": [
        "\n",
        "\tS907-832 --> P86Y3091\n",
        "\tP7R42027 --> P86Y3102\n",
        "\tS907-867 --> P86Y3104\n",
        "\tP7R42036 --> P86Y3117\n",
        "\tP7R42051A --> P86Y3139\n",
        "\tP7R42055AP --> P86Y3143\n",
        "\tP7R42065 --> P86Y3158\n",
        "\tS907-804 --> P86Y3165\n",
        "pickle/HP12_0547.pickle"
       ]
      },
      {
       "output_type": "stream",
       "stream": "stdout",
       "text": [
        "\n",
        "\tP7R42089 --> P86Y3190\n",
        "\tSEED-605 --> P86Y3218\n",
        "pickle/HP12_0548.pickle"
       ]
      },
      {
       "output_type": "stream",
       "stream": "stdout",
       "text": [
        "\n",
        "\tP7R42168 --> P86Y3306\n",
        "\tP7R42179 --> P86Y3328\n",
        "\tP7R42199 --> P86Y3364\n",
        "pickle/HP12_0549.pickle"
       ]
      },
      {
       "output_type": "stream",
       "stream": "stdout",
       "text": [
        "\n",
        "\tP7R42237 --> P86Y3411\n",
        "\tS962-724 --> P86Y3415\n",
        "\tSEED-632 --> P86Y3424\n",
        "\tP7R42267 --> P86Y3455\n",
        "\tS962-782 --> P86Y3465\n",
        "\tP7R42278 --> P86Y3471\n",
        "\tP7R42281 --> P86Y3478\n",
        "\tP7R42282A --> P86Y3482\n",
        "\tP7R42286K --> P86Y3493\n",
        "pickle/HP12_0550.pickle"
       ]
      },
      {
       "output_type": "stream",
       "stream": "stdout",
       "text": [
        "\n",
        "\tP7R42328 --> P86Y3539\n",
        "\tSEED-615 --> P86Y3545\n",
        "\tP7R42335G --> P86Y3551\n",
        "\tP7R42355 --> P86Y3581\n",
        "\tS962-832 --> P86Y3588\n",
        "pickle/HP12_0551.pickle"
       ]
      },
      {
       "output_type": "stream",
       "stream": "stdout",
       "text": [
        "\n",
        "\tP7R42385 --> P86Y3623\n",
        "\tP7R42399 --> P86Y3643\n",
        "pickle/HP12_0552.pickle"
       ]
      },
      {
       "output_type": "stream",
       "stream": "stdout",
       "text": [
        "\n",
        "\tP7R42522 --> P86Y3800\n",
        "\tP7R42525AG --> P86Y3809\n",
        "\tS962-946 --> P86Y3819\n",
        "pickle/HP12_0553.pickle"
       ]
      },
      {
       "output_type": "stream",
       "stream": "stdout",
       "text": [
        "\n",
        "\tS907-908 --> P86Y3840\n",
        "\tS962-890 --> P86Y3869\n",
        "\tP7R42574 --> P86Y3870\n",
        "\tS962-918 --> P86Y3891\n",
        "\tP7R42595 --> P86Y3901\n",
        "\tS962-962 --> P86Y3904\n",
        "pickle/HP12_0554.pickle"
       ]
      },
      {
       "output_type": "stream",
       "stream": "stdout",
       "text": [
        "\n",
        "\tP7R42603P --> P86Y3898\n",
        "\tP7R42595G --> P86Y3900\n",
        "\tP7R42623P --> P86Y3938\n",
        "\tP7R42628H --> P86Y3945\n",
        "\tP7R42634 --> P86Y3957\n",
        "pickle/HP12_0555.pickle"
       ]
      },
      {
       "output_type": "stream",
       "stream": "stdout",
       "text": [
        "\n",
        "\tS907-870 --> P86Y3975\n",
        "\tP7R42653 --> P86Y3977\n",
        "\tP7R42659 --> P86Y3986\n",
        "\tS907-962 --> P86Y4029\n",
        "pickle/HP12_0556.pickle"
       ]
      },
      {
       "output_type": "stream",
       "stream": "stdout",
       "text": [
        "\n",
        "\tP7R42684 --> P86Y4022\n",
        "\tP7R42703 --> P86Y4040\n",
        "\tP7R42743 --> P86Y4093\n",
        "pickle/HP12_0557.pickle"
       ]
      },
      {
       "output_type": "stream",
       "stream": "stdout",
       "text": [
        "\n",
        "\tP7R42755 --> P86Y4109\n",
        "\tS907-963 --> P86Y4113\n",
        "pickle/HP12_0558.pickle"
       ]
      },
      {
       "output_type": "stream",
       "stream": "stdout",
       "text": [
        "\n",
        "\tP7R42791 --> P86Y4158\n",
        "\tP7R42798 --> P86Y4163\n",
        "\tS962-924 --> P86Y4165\n",
        "\tP7R42827 --> P86Y4210\n",
        "pickle/HP12_0559.pickle"
       ]
      },
      {
       "output_type": "stream",
       "stream": "stdout",
       "text": [
        "\n",
        "\tP7R42799 --> P86Y4164\n",
        "\tP7R42809 --> P86Y4180\n",
        "\tS907-940 --> P86Y4242\n",
        "\tP7R42858 --> P86Y4256\n",
        "pickle/HP12_0560.pickle"
       ]
      },
      {
       "output_type": "stream",
       "stream": "stdout",
       "text": [
        "\n",
        "\tP7R42830 --> P86Y4215\n",
        "\tS962-871 --> P86Y4231\n",
        "\tS962-874 --> P86Y4277\n",
        "pickle/HP12_0561.pickle"
       ]
      },
      {
       "output_type": "stream",
       "stream": "stdout",
       "text": [
        "\n",
        "\tS962-817 --> P86Y4249\n",
        "\tP7R42931A --> P86Y4350\n",
        "pickle/HP12_0562.pickle"
       ]
      },
      {
       "output_type": "stream",
       "stream": "stdout",
       "text": [
        "\n",
        "\tP7R42940 --> P86Y4368\n",
        "\tP7R42987P --> P86Y4429\n",
        "pickle/HP12_0563.pickle"
       ]
      },
      {
       "output_type": "stream",
       "stream": "stdout",
       "text": [
        "\n",
        "\tP7R42966 --> P86Y4396\n",
        "\tP7R42957 --> P86Y4398\n",
        "\tP7R42977 --> P86Y4413\n",
        "\tP7R42985 --> P86Y4424\n",
        "pickle/HP12_0564.pickle"
       ]
      },
      {
       "output_type": "stream",
       "stream": "stdout",
       "text": [
        "\n",
        "\tP7R43040 --> P86Y4495\n",
        "\tP7R43041 --> P86Y4497\n",
        "\tP7R43052 --> P86Y4502\n",
        "\tS962-913 --> P86Y4513\n",
        "\tP7R43051 --> P86Y4514\n",
        "pickle/HP12_0565.pickle"
       ]
      },
      {
       "output_type": "stream",
       "stream": "stdout",
       "text": [
        "\n",
        "\tS962-886 --> P86Y4536\n",
        "\tS907-892 --> P86Y4592\n",
        "\tP7R43132 --> P86Y4623\n",
        "\tP7R43137 --> P86Y4628\n",
        "pickle/HP12_0566.pickle"
       ]
      },
      {
       "output_type": "stream",
       "stream": "stdout",
       "text": [
        "\n",
        "\tS962-857 --> P86Y4653\n",
        "\tS907-910 --> P86Y4666\n",
        "\tP7R43198 --> P86Y4688\n",
        "\tP7R43183 --> P86Y4692\n",
        "\tP7R43194 --> P86Y4709\n",
        "\tS907-957 --> P86Y4856\n",
        "pickle/HP12_0567.pickle"
       ]
      },
      {
       "output_type": "stream",
       "stream": "stdout",
       "text": [
        "\n",
        "\tP7R43565A --> P86Y5212\n",
        "pickle/HP12_0568.pickle"
       ]
      },
      {
       "output_type": "stream",
       "stream": "stdout",
       "text": [
        "\n",
        "\tP7R40367 --> P86Y0562\n",
        "\tP7R43683 --> P86Y5414\n",
        "pickle/HP12_0569.pickle"
       ]
      },
      {
       "output_type": "stream",
       "stream": "stdout",
       "text": [
        "\n",
        "\tP7R40514 --> P86Y0793\n",
        "\tS907-928 --> P86Y0852\n",
        "\tP7R40564 --> P86Y0861\n",
        "\tP7R40574 --> P86Y0875\n",
        "\tS962-927 --> P86Y0926\n",
        "pickle/HP12_0570.pickle"
       ]
      },
      {
       "output_type": "stream",
       "stream": "stdout",
       "text": [
        "\n",
        "\tP7R40675I --> P86Y1067\n",
        "\tP7R40730 --> P86Y1165\n",
        "pickle/HP12_0571.pickle"
       ]
      },
      {
       "output_type": "stream",
       "stream": "stdout",
       "text": [
        "\n",
        "\tP7R40762 --> P86Y1211\n",
        "\tP7R40861 --> P86Y1374\n",
        "pickle/HP12_0572.pickle"
       ]
      },
      {
       "output_type": "stream",
       "stream": "stdout",
       "text": [
        "\n",
        "\tP7R40849GP --> P86Y1347\n",
        "\tS907-942 --> P86Y1354\n",
        "\tS962-869 --> P86Y1412\n",
        "\tP7R40924A --> P86Y1476\n",
        "pickle/HP12_0573.pickle"
       ]
      },
      {
       "output_type": "stream",
       "stream": "stdout",
       "text": [
        "\n",
        "\tP7R40917 --> P86Y1460\n",
        "\tP7R40962A --> P86Y1528\n",
        "pickle/HP12_0574.pickle"
       ]
      },
      {
       "output_type": "stream",
       "stream": "stdout",
       "text": [
        "\n",
        "\tS907-954 --> P86Y1496\n",
        "\tP7R40961 --> P86Y1529\n",
        "\tP7R40965 --> P86Y1535\n",
        "\tP7R40989 --> P86Y1572\n",
        "pickle/HP12_0575.pickle"
       ]
      },
      {
       "output_type": "stream",
       "stream": "stdout",
       "text": [
        "\n",
        "\tP7R40958 --> P86Y1522\n",
        "\tSEED-682 --> P86Y1537\n",
        "\tP7R40969 --> P86Y1543\n",
        "\tS962-916 --> P86Y1544\n",
        "\tP7R40986A --> P86Y1577\n",
        "pickle/HP12_0576.pickle"
       ]
      },
      {
       "output_type": "stream",
       "stream": "stdout",
       "text": [
        "\n",
        "\tP7R41003G --> P86Y1600\n",
        "\tP7R41015 --> P86Y1617\n",
        "\tSEED-648 --> P86Y1626\n",
        "\tS962-844 --> P86Y1632\n",
        "pickle/HP12_0577.pickle"
       ]
      },
      {
       "output_type": "stream",
       "stream": "stdout",
       "text": [
        "\n",
        "\tSEED-762 --> P86Y1605\n",
        "\tP7R41023 --> P86Y1627\n",
        "\tP7R41024A --> P86Y1631\n",
        "\tS962-863 --> P86Y1664\n",
        "pickle/HP12_0578.pickle"
       ]
      },
      {
       "output_type": "stream",
       "stream": "stdout",
       "text": [
        "\n",
        "\tS907-1010 --> P86Y1647\n",
        "pickle/HP12_0579.pickle"
       ]
      },
      {
       "output_type": "stream",
       "stream": "stdout",
       "text": [
        "\n",
        "\tP7R41053A --> P86Y1686\n",
        "\tP7R41068 --> P86Y1701\n",
        "\tP7R41090 --> P86Y1735\n",
        "\tP7R41093 --> P86Y1738\n",
        "\tSEED-663 --> P86Y1767\n",
        "pickle/HP12_0580.pickle"
       ]
      },
      {
       "output_type": "stream",
       "stream": "stdout",
       "text": [
        "\n",
        "\tP7R41108 --> P86Y1759\n",
        "\tS962-908 --> P86Y1775\n",
        "\tP7R41124 --> P86Y1780\n",
        "pickle/HP12_0581.pickle"
       ]
      },
      {
       "output_type": "stream",
       "stream": "stdout",
       "text": [
        "\n",
        "\tS907-976 --> P86Y1814\n",
        "\tP7R41145 --> P86Y1818\n",
        "\tP7R41146 --> P86Y1820\n",
        "\tS962-904 --> P86Y1829\n",
        "\tS907-934 --> P86Y1837\n",
        "\tP7R41177 --> P86Y1865\n",
        "pickle/HP12_0582.pickle"
       ]
      },
      {
       "output_type": "stream",
       "stream": "stdout",
       "text": [
        "\n",
        "\tS907-900 --> P86Y1868\n",
        "\tP7R41193 --> P86Y1897\n",
        "\tS962-877 --> P86Y1912\n",
        "pickle/HP12_0583.pickle"
       ]
      },
      {
       "output_type": "stream",
       "stream": "stdout",
       "text": [
        "\n",
        "\tP7R41232 --> P86Y1957\n",
        "pickle/HP12_0584.pickle"
       ]
      },
      {
       "output_type": "stream",
       "stream": "stdout",
       "text": [
        "\n",
        "\tS907-902 --> P86Y2005\n",
        "\tP7R41278 --> P86Y2027\n",
        "\tP7R41285A --> P86Y2043\n",
        "pickle/HP12_0585.pickle"
       ]
      },
      {
       "output_type": "stream",
       "stream": "stdout",
       "text": [
        "\n",
        "\tP7R41295 --> P86Y2058\n",
        "\tP7R41307 --> P86Y2078\n",
        "\tP7R41308A --> P86Y2081\n",
        "\tP7R41325 --> P86Y2103\n",
        "pickle/HP12_0586.pickle"
       ]
      },
      {
       "output_type": "stream",
       "stream": "stdout",
       "text": [
        "\n",
        "\tP7R41350 --> P86Y2146\n",
        "\tP7R41362 --> P86Y2168\n",
        "pickle/HP12_0587.pickle"
       ]
      },
      {
       "output_type": "stream",
       "stream": "stdout",
       "text": [
        "\n",
        "\tS907-945 --> P86Y2207\n",
        "\tS907-897 --> P86Y2233\n",
        "\tP7R41413Y --> P86Y2244\n",
        "\tP7R41412 --> P86Y2249\n",
        "\tP7R41413 --> P86Y2250\n",
        "\tP7R41414 --> P86Y2252\n",
        "pickle/HP12_0588.pickle"
       ]
      },
      {
       "output_type": "stream",
       "stream": "stdout",
       "text": [
        "\n",
        "\tS907-949 --> P86Y2332\n",
        "\tP7R41502 --> P86Y2367\n",
        "pickle/HP12_0589.pickle"
       ]
      },
      {
       "output_type": "stream",
       "stream": "stdout",
       "text": [
        "\n",
        "\tP7R41550 --> P86Y2436\n",
        "\tP7R41558A --> P86Y2451\n",
        "\tS907-888 --> P86Y2486\n",
        "\tP7R41588 --> P86Y2494\n",
        "pickle/HP12_0590.pickle"
       ]
      },
      {
       "output_type": "stream",
       "stream": "stdout",
       "text": [
        "\n",
        "\tS907-903 --> P86Y2574\n",
        "\tP7R41654 --> P86Y2595\n",
        "\tSEED-607 --> P86Y2651\n",
        "\tSEED-664 --> P86Y2652\n",
        "pickle/HP12_0591.pickle"
       ]
      },
      {
       "output_type": "stream",
       "stream": "stdout",
       "text": [
        "\n",
        "\tSEED-704 --> P86Y2751\n",
        "\tP7R41761 --> P86Y2752\n",
        "\tS962-840 --> P86Y2792\n",
        "\tS962-942 --> P86Y2817\n",
        "pickle/HP12_0592.pickle"
       ]
      },
      {
       "output_type": "stream",
       "stream": "stdout",
       "text": [
        "\n",
        "\tP7R41879A --> P86Y2902\n",
        "\tP7R41880 --> P86Y2904\n",
        "\tP7R41912 --> P86Y2945\n",
        "\tP7R41922 --> P86Y2960\n",
        "pickle/HP12_0593.pickle"
       ]
      },
      {
       "output_type": "stream",
       "stream": "stdout",
       "text": [
        "\n",
        "\tP7R41973 --> P86Y3022\n",
        "\tP7R41986P --> P86Y3033\n",
        "\tP7R41998 --> P86Y3051\n",
        "\tSEED-657 --> P86Y3052\n",
        "\tSEED-748 --> P86Y3064\n",
        "\tP7R42004G --> P86Y3066\n",
        "\tP7R42006 --> P86Y3069\n",
        "\tS907-1013 --> P86Y3070\n",
        "pickle/HP12_0594.pickle"
       ]
      },
      {
       "output_type": "stream",
       "stream": "stdout",
       "text": [
        "\n",
        "\tS962-848 --> P86Y3161\n",
        "\tSEED-665 --> P86Y3183\n",
        "\tP7R42086 --> P86Y3186\n",
        "pickle/HP12_0595.pickle"
       ]
      },
      {
       "output_type": "stream",
       "stream": "stdout",
       "text": [
        "\n",
        "\tS907-915 --> P86Y3291\n",
        "\tP7R42161 --> P86Y3303\n",
        "\tP7R42165 --> P86Y3307\n",
        "\tS962-858 --> P86Y3312\n",
        "\tP7R42175 --> P86Y3324\n",
        "\tP7R42195 --> P86Y3345\n",
        "\tS962-937 --> P86Y3346\n",
        "\tP7R42194 --> P86Y3354\n",
        "\tS962-884 --> P86Y3357\n",
        "pickle/HP12_0596.pickle"
       ]
      },
      {
       "output_type": "stream",
       "stream": "stdout",
       "text": [
        "\n",
        "\tP7R42218 --> P86Y3388\n",
        "\tP7R42251 --> P86Y3428\n",
        "\tP7R42256 --> P86Y3435\n",
        "\tS907-906 --> P86Y3442\n",
        "pickle/HP12_0597.pickle"
       ]
      },
      {
       "output_type": "stream",
       "stream": "stdout",
       "text": [
        "\n",
        "\tSEED-674 --> P86Y3532\n",
        "\tP7R42345G --> P86Y3564\n",
        "pickle/HP12_0598.pickle"
       ]
      },
      {
       "output_type": "stream",
       "stream": "stdout",
       "text": [
        "\n",
        "\tS907-846 --> P86Y3603\n",
        "\tP7R42375G --> P86Y3613\n",
        "pickle/HP12_0599.pickle"
       ]
      },
      {
       "output_type": "stream",
       "stream": "stdout",
       "text": [
        "\n",
        "\tP7R42415 --> P86Y3671\n",
        "\tP7R42429GP --> P86Y3689\n",
        "\tP7R42445 --> P86Y3705\n",
        "pickle/HP12_0600.pickle"
       ]
      },
      {
       "output_type": "stream",
       "stream": "stdout",
       "text": [
        "\n",
        "\tP7R42519 --> P86Y3795\n",
        "\tP7R42554 --> P86Y3843\n",
        "pickle/HP12_0601.pickle"
       ]
      },
      {
       "output_type": "stream",
       "stream": "stdout",
       "text": [
        "\n",
        "\tP7R42561G --> P86Y3857\n",
        "\tS907-1017 --> P86Y3911\n",
        "\tS907-1065 --> P86Y3917\n",
        "pickle/HP12_0602.pickle"
       ]
      },
      {
       "output_type": "stream",
       "stream": "stdout",
       "text": [
        "\n",
        "\tP7R42641A --> P86Y3964\n",
        "\tP7R42649 --> P86Y3979\n",
        "\tP7R42660 --> P86Y3991\n",
        "pickle/HP12_0603.pickle"
       ]
      },
      {
       "output_type": "stream",
       "stream": "stdout",
       "text": [
        "\n",
        "\tP7R42665 --> P86Y3993\n",
        "\tP7R42663 --> P86Y3996\n",
        "\tS962-1009 --> P86Y4014\n",
        "pickle/HP12_0604.pickle"
       ]
      },
      {
       "output_type": "stream",
       "stream": "stdout",
       "text": [
        "\n",
        "\tS962-988 --> P86Y4064\n",
        "\tP7R42729 --> P86Y4075\n",
        "pickle/HP12_0605.pickle"
       ]
      },
      {
       "output_type": "stream",
       "stream": "stdout",
       "text": [
        "\n",
        "\tS962-985 --> P86Y4107\n",
        "\tS962-1034 --> P86Y4128\n",
        "\tS907-991 --> P86Y4135\n",
        "pickle/HP12_0606.pickle"
       ]
      },
      {
       "output_type": "stream",
       "stream": "stdout",
       "text": [
        "\n",
        "\tP7R42802 --> P86Y4169\n",
        "\tP7R42819 --> P86Y4199\n",
        "\tS962-1070 --> P86Y4219\n",
        "pickle/HP12_0607.pickle"
       ]
      },
      {
       "output_type": "stream",
       "stream": "stdout",
       "text": [
        "\n",
        "\tS907-916 --> P86Y4186\n",
        "\tP7R42848 --> P86Y4240\n",
        "pickle/HP12_0608.pickle"
       ]
      },
      {
       "output_type": "stream",
       "stream": "stdout",
       "text": [
        "\n",
        "\tP7R42860 --> P86Y4253\n",
        "\tS962-957 --> P86Y4270\n",
        "\tSEED-712 --> P86Y4287\n",
        "\tSEED-734 --> P86Y4288\n",
        "\tP7R42891 --> P86Y4298\n",
        "\tS962-967 --> P86Y4300\n",
        "\tS962-986 --> P86Y4308\n",
        "\tP7R42907 --> P86Y4321\n",
        "\tP7R42909 --> P86Y4322\n",
        "\tP7R42928 --> P86Y4344\n",
        "pickle/HP12_0609.pickle"
       ]
      },
      {
       "output_type": "stream",
       "stream": "stdout",
       "text": [
        "\n",
        "\tP7R42897 --> P86Y4307\n",
        "\tS907-1006 --> P86Y4365\n",
        "\tP7R42979 --> P86Y4416\n",
        "pickle/HP12_0610.pickle"
       ]
      },
      {
       "output_type": "stream",
       "stream": "stdout",
       "text": [
        "\n",
        "\tS907-989 --> P86Y4391\n",
        "\tS962-997 --> P86Y4432\n",
        "\tP7R43003 --> P86Y4448\n",
        "\tP7R43011 --> P86Y4454\n",
        "pickle/HP12_0611.pickle"
       ]
      },
      {
       "output_type": "stream",
       "stream": "stdout",
       "text": [
        "\n",
        "\tS962-993 --> P86Y4462\n",
        "pickle/HP12_0612.pickle"
       ]
      },
      {
       "output_type": "stream",
       "stream": "stdout",
       "text": [
        "\n",
        "pickle/HP12_0613.pickle"
       ]
      },
      {
       "output_type": "stream",
       "stream": "stdout",
       "text": [
        "\n",
        "\tP7R43124 --> P86Y4615\n",
        "\tSEED-719 --> P86Y4620\n",
        "\tP7R43135 --> P86Y4626\n",
        "\tS962-977 --> P86Y4630\n",
        "\tP7R43147 --> P86Y4641\n",
        "\tS962-1000 --> P86Y4670\n",
        "\tP7R43212 --> P86Y4737\n",
        "pickle/HP12_0614.pickle"
       ]
      },
      {
       "output_type": "stream",
       "stream": "stdout",
       "text": [
        "\n",
        "\tS907-1022 --> P86Y4818\n",
        "\tP7R43268 --> P86Y4819\n",
        "\tS907-1069 --> P86Y4848\n",
        "pickle/HP12_0615.pickle"
       ]
      },
      {
       "output_type": "stream",
       "stream": "stdout",
       "text": [
        "\n",
        "\tS962-943 --> P86Y4983\n",
        "pickle/HP12_0616.pickle"
       ]
      },
      {
       "output_type": "stream",
       "stream": "stdout",
       "text": [
        "\n",
        "\tP7R43623 --> P86Y5336\n",
        "\tP7R43653 --> P86Y5370\n",
        "\tS907-974 --> P86Y5387\n",
        "pickle/HP12_0617.pickle"
       ]
      },
      {
       "output_type": "stream",
       "stream": "stdout",
       "text": [
        "\n",
        "\tS907-1029 --> P86Y0557\n",
        "\tP7R40381A --> P86Y0587\n",
        "\tS962-958 --> P86Y0671\n",
        "pickle/HP12_0618.pickle"
       ]
      },
      {
       "output_type": "stream",
       "stream": "stdout",
       "text": [
        "\n",
        "\tP7R40522 --> P86Y0802\n",
        "\tSEED-769 --> P86Y0934\n",
        "\tP7R40638 --> P86Y0997\n",
        "\tS962-903 --> P86Y1032\n",
        "pickle/HP12_0619.pickle"
       ]
      },
      {
       "output_type": "stream",
       "stream": "stdout",
       "text": [
        "\n",
        "\tSEED-782 --> P86Y1022\n",
        "\tSEED-783 --> P86Y1082\n",
        "\tP7R40715 --> P86Y1136\n",
        "pickle/HP12_0620.pickle"
       ]
      },
      {
       "output_type": "stream",
       "stream": "stdout",
       "text": [
        "\n",
        "\tP7R40760 --> P86Y1204\n",
        "\tP7R40825 --> P86Y1294\n",
        "\tS907-929 --> P86Y1331\n",
        "pickle/HP12_0621.pickle"
       ]
      },
      {
       "output_type": "stream",
       "stream": "stdout",
       "text": [
        "\n",
        "\tSEED-784 --> P86Y1342\n",
        "\tP7R40871 --> P86Y1387\n",
        "\tP7R40887 --> P86Y1414\n",
        "pickle/HP12_0622.pickle"
       ]
      },
      {
       "output_type": "stream",
       "stream": "stdout",
       "text": [
        "\n",
        "pickle/HP12_0623.pickle"
       ]
      },
      {
       "output_type": "stream",
       "stream": "stdout",
       "text": [
        "\n",
        "\tS962-935 --> P86Y1511\n",
        "pickle/HP12_0624.pickle"
       ]
      },
      {
       "output_type": "stream",
       "stream": "stdout",
       "text": [
        "\n",
        "\tP7R40925AQ --> P86Y1481\n",
        "\tSEED-777 --> P86Y1494\n",
        "\tS962-1058 --> P86Y1516\n",
        "\tP7R40954 --> P86Y1517\n",
        "\tP7R40982 --> P86Y1559\n",
        "\tP7R40991 --> P86Y1579\n",
        "pickle/HP12_0625.pickle"
       ]
      },
      {
       "output_type": "stream",
       "stream": "stdout",
       "text": [
        "\n",
        "\tP7R40964 --> P86Y1532\n",
        "pickle/HP12_0626.pickle"
       ]
      },
      {
       "output_type": "stream",
       "stream": "stdout",
       "text": [
        "\n",
        "\tP7R40997 --> P86Y1587\n",
        "\tS962-989 --> P86Y1620\n",
        "\tP7R41022 --> P86Y1628\n",
        "pickle/HP12_0627.pickle"
       ]
      },
      {
       "output_type": "stream",
       "stream": "stdout",
       "text": [
        "\n",
        "\tP7R41025 --> P86Y1633\n",
        "\tS962-1030 --> P86Y1653\n",
        "\tP7R41051 --> P86Y1684\n",
        "\tS907-987 --> P86Y1685\n",
        "\tS907-960 --> P86Y1688\n",
        "\tS962-925 --> P86Y1691\n",
        "pickle/HP12_0628.pickle"
       ]
      },
      {
       "output_type": "stream",
       "stream": "stdout",
       "text": [
        "\n",
        "\tP7R41082 --> P86Y1720\n",
        "\tP7R41089 --> P86Y1733\n",
        "pickle/HP12_0629.pickle"
       ]
      },
      {
       "output_type": "stream",
       "stream": "stdout",
       "text": [
        "\n",
        "\tP7R41099G --> P86Y1751\n",
        "\tP7R41127 --> P86Y1786\n",
        "\tP7R41127X --> P86Y1798\n",
        "pickle/HP12_0630.pickle"
       ]
      },
      {
       "output_type": "stream",
       "stream": "stdout",
       "text": [
        "\n",
        "\tP7R41126 --> P86Y1784\n",
        "\tP7R41130 --> P86Y1789\n",
        "\tSEED-802 --> P86Y1803\n",
        "\tP7R41150 --> P86Y1826\n",
        "pickle/HP12_0631.pickle"
       ]
      },
      {
       "output_type": "stream",
       "stream": "stdout",
       "text": [
        "\n",
        "\tP7R41160 --> P86Y1841\n",
        "\tP7R41163A --> P86Y1848\n",
        "\tP7R41179 --> P86Y1871\n",
        "\tP7R41185 --> P86Y1882\n",
        "\tP7R41192 --> P86Y1899\n",
        "pickle/HP12_0632.pickle"
       ]
      },
      {
       "output_type": "stream",
       "stream": "stdout",
       "text": [
        "\n",
        "\tS907-1020 --> P86Y1950\n",
        "\tSEED-746 --> P86Y1962\n",
        "pickle/HP12_0633.pickle"
       ]
      },
      {
       "output_type": "stream",
       "stream": "stdout",
       "text": [
        "\n",
        "\tP7R41235A --> P86Y1953\n",
        "\tS907-1002 --> P86Y1976\n",
        "\tP7R41253 --> P86Y1993\n",
        "\tS962-1021 --> P86Y2013\n",
        "\tP7R41272 --> P86Y2029\n",
        "\tP7R41279A --> P86Y2034\n",
        "pickle/HP12_0634.pickle"
       ]
      },
      {
       "output_type": "stream",
       "stream": "stdout",
       "text": [
        "\n",
        "\tP7R41293 --> P86Y2055\n",
        "\tS907-1030 --> P86Y2073\n",
        "\tS907-966 --> P86Y2097\n",
        "pickle/HP12_0635.pickle"
       ]
      },
      {
       "output_type": "stream",
       "stream": "stdout",
       "text": [
        "\n",
        "pickle/HP12_0636.pickle"
       ]
      },
      {
       "output_type": "stream",
       "stream": "stdout",
       "text": [
        "\n",
        "\tS907-1004 --> P86Y2227\n",
        "pickle/HP12_0637.pickle"
       ]
      },
      {
       "output_type": "stream",
       "stream": "stdout",
       "text": [
        "\n",
        "\tP7R41517 --> P86Y2394\n",
        "\tP7R41531 --> P86Y2417\n",
        "pickle/HP12_0638.pickle"
       ]
      },
      {
       "output_type": "stream",
       "stream": "stdout",
       "text": [
        "\n",
        "\tP7R41571A --> P86Y2466\n",
        "\tP7R41590 --> P86Y2496\n",
        "pickle/HP12_0639.pickle"
       ]
      },
      {
       "output_type": "stream",
       "stream": "stdout",
       "text": [
        "\n",
        "\tP7R41694A --> P86Y2653\n",
        "\tS962-1037 --> P86Y2656\n",
        "\tP7R41740 --> P86Y2720\n",
        "pickle/HP12_0640.pickle"
       ]
      },
      {
       "output_type": "stream",
       "stream": "stdout",
       "text": [
        "\n",
        "\tP7R41838 --> P86Y2848\n",
        "\tS907-998 --> P86Y2875\n",
        "pickle/HP12_0641.pickle"
       ]
      },
      {
       "output_type": "stream",
       "stream": "stdout",
       "text": [
        "\n",
        "\tS962-1032 --> P86Y2939\n",
        "\tP7R41909 --> P86Y2942\n",
        "\tS907-1005 --> P86Y3002\n",
        "\tP7R41960G --> P86Y3007\n",
        "\tP7R41976 --> P86Y3011\n",
        "\tP7R41977 --> P86Y3027\n",
        "\tP7R41982 --> P86Y3032\n",
        "\tP7R41997G --> P86Y3054\n",
        "pickle/HP12_0642.pickle"
       ]
      },
      {
       "output_type": "stream",
       "stream": "stdout",
       "text": [
        "\n",
        "\tP7R42048 --> P86Y3133\n",
        "\tS962-1063 --> P86Y3167\n",
        "pickle/HP12_0643.pickle"
       ]
      },
      {
       "output_type": "stream",
       "stream": "stdout",
       "text": [
        "\n",
        "\tP7R42106 --> P86Y3214\n",
        "\tP7R42143 --> P86Y3263\n",
        "\tP7R42146 --> P86Y3272\n",
        "\tS907-1059 --> P86Y3273\n",
        "\tP7R42158 --> P86Y3297\n",
        "pickle/HP12_0644.pickle"
       ]
      },
      {
       "output_type": "stream",
       "stream": "stdout",
       "text": [
        "\n",
        "\tP7R42230 --> P86Y3399\n",
        "\tS962-1053 --> P86Y3402\n",
        "\tP7R42214A --> P86Y3408\n",
        "\tP7R42248G --> P86Y3427\n",
        "pickle/HP12_0645.pickle"
       ]
      },
      {
       "output_type": "stream",
       "stream": "stdout",
       "text": [
        "\n",
        "\tP7R42300 --> P86Y3507\n",
        "\tP7R42309 --> P86Y3517\n",
        "\tP7R42313 --> P86Y3523\n",
        "pickle/HP12_0646.pickle"
       ]
      },
      {
       "output_type": "stream",
       "stream": "stdout",
       "text": [
        "\n",
        "\tP7R42356 --> P86Y3579\n",
        "\tP7R42367G --> P86Y3595\n",
        "\tP7R42407 --> P86Y3655\n",
        "\tS962-1018 --> P86Y3662\n",
        "\tSEED-770 --> P86Y3687\n",
        "pickle/HP12_0647.pickle"
       ]
      },
      {
       "output_type": "stream",
       "stream": "stdout",
       "text": [
        "\n",
        "\tP7R42417 --> P86Y3673\n",
        "\tP7R42429G --> P86Y3679\n",
        "\tP7R42428 --> P86Y3686\n",
        "\tP7R42429 --> P86Y3688\n",
        "\tP7R42446 --> P86Y3702\n",
        "\tP7R42454 --> P86Y3708\n",
        "\tP7R42462A --> P86Y3718\n",
        "\tP7R42478 --> P86Y3744\n",
        "pickle/HP12_0648.pickle"
       ]
      },
      {
       "output_type": "stream",
       "stream": "stdout",
       "text": [
        "\n",
        "\tP7R42591 --> P86Y3892\n",
        "\tP7R42603 --> P86Y3908\n",
        "\tP7R42606 --> P86Y3914\n",
        "pickle/HP12_0649.pickle"
       ]
      },
      {
       "output_type": "stream",
       "stream": "stdout",
       "text": [
        "\n",
        "\tS907-1132 --> P86Y3954\n",
        "\tS907-1130 --> P86Y3999\n",
        "\tP7R42672 --> P86Y4002\n",
        "pickle/HP12_0650.pickle"
       ]
      },
      {
       "output_type": "stream",
       "stream": "stdout",
       "text": [
        "\n",
        "\tSEED-808 --> P86Y4015\n",
        "\tP7R42712G --> P86Y4053\n",
        "\tP7R42715 --> P86Y4066\n",
        "pickle/HP12_0651.pickle"
       ]
      },
      {
       "output_type": "stream",
       "stream": "stdout",
       "text": [
        "\n",
        "\tP7R42726G --> P86Y4071\n",
        "pickle/HP12_0652.pickle"
       ]
      },
      {
       "output_type": "stream",
       "stream": "stdout",
       "text": [
        "\n",
        "\tP7R42761H --> P86Y4121\n",
        "\tP7R42776 --> P86Y4138\n",
        "\tP7R42781 --> P86Y4143\n",
        "\tP7R42810 --> P86Y4181\n",
        "pickle/HP12_0653.pickle"
       ]
      },
      {
       "output_type": "stream",
       "stream": "stdout",
       "text": [
        "\n",
        "\tS962-1041 --> P86Y4166\n",
        "\tP7R42824 --> P86Y4204\n",
        "\tP7R42841 --> P86Y4229\n",
        "\tP7R42856 --> P86Y4250\n",
        "\tP7R42866 --> P86Y4266\n",
        "pickle/HP12_0654.pickle"
       ]
      },
      {
       "output_type": "stream",
       "stream": "stdout",
       "text": [
        "\n",
        "\tS962-1075 --> P86Y4265\n",
        "\tS907-1136 --> P86Y4299\n",
        "pickle/HP12_0655.pickle"
       ]
      },
      {
       "output_type": "stream",
       "stream": "stdout",
       "text": [
        "\n",
        "\tP7R42910 --> P86Y4325\n",
        "\tS962-1094 --> P86Y4341\n",
        "\tP7R42936 --> P86Y4357\n",
        "\tSEED-864 --> P86Y4361\n",
        "pickle/HP12_0656.pickle"
       ]
      },
      {
       "output_type": "stream",
       "stream": "stdout",
       "text": [
        "\n",
        "\tP7R42929 --> P86Y4347\n",
        "\tS962-1050 --> P86Y4363\n",
        "pickle/HP12_0657.pickle"
       ]
      },
      {
       "output_type": "stream",
       "stream": "stdout",
       "text": [
        "\n",
        "\tS907-1124 --> P86Y4447\n",
        "\tP7R43018 --> P86Y4463\n",
        "pickle/HP12_0658.pickle"
       ]
      },
      {
       "output_type": "stream",
       "stream": "stdout",
       "text": [
        "\n",
        "\tS962-1042 --> P86Y4480\n",
        "pickle/HP12_0659.pickle"
       ]
      },
      {
       "output_type": "stream",
       "stream": "stdout",
       "text": [
        "\n",
        "\tS907-1128 --> P86Y4590\n",
        "pickle/HP12_0660.pickle"
       ]
      },
      {
       "output_type": "stream",
       "stream": "stdout",
       "text": [
        "\n",
        "pickle/HP12_0661.pickle"
       ]
      },
      {
       "output_type": "stream",
       "stream": "stdout",
       "text": [
        "\n",
        "\tP7R43222 --> P86Y4751\n",
        "\tP7R43313 --> P86Y4876\n",
        "pickle/HP12_0662.pickle"
       ]
      },
      {
       "output_type": "stream",
       "stream": "stdout",
       "text": [
        "\n",
        "\tS907-1093 --> P86Y5003\n",
        "\tS907-1144 --> P86Y5087\n",
        "pickle/HP12_0663.pickle"
       ]
      },
      {
       "output_type": "stream",
       "stream": "stdout",
       "text": [
        "\n",
        "\tS962-1105 --> P86Y5383\n",
        "pickle/HP12_0664.pickle"
       ]
      },
      {
       "output_type": "stream",
       "stream": "stdout",
       "text": [
        "\n",
        "\tP7R40076 --> P86Y0116\n",
        "\tS907-1171 --> P86Y0246\n",
        "\tP7R40260 --> P86Y0410\n",
        "pickle/HP12_0665.pickle"
       ]
      },
      {
       "output_type": "stream",
       "stream": "stdout",
       "text": [
        "\n",
        "\tP7R40328 --> P86Y0510\n",
        "\tP7R40405 --> P86Y0625\n",
        "\tS962-1083 --> P86Y0766\n",
        "pickle/HP12_0666.pickle"
       ]
      },
      {
       "output_type": "stream",
       "stream": "stdout",
       "text": [
        "\n",
        "\tP7R40617 --> P86Y0975\n",
        "\tS962-1122 --> P86Y0998\n",
        "pickle/HP12_0667.pickle"
       ]
      },
      {
       "output_type": "stream",
       "stream": "stdout",
       "text": [
        "\n",
        "\tSEED-795 --> P86Y1061\n",
        "\tP7R40680 --> P86Y1076\n",
        "\tP7R40699 --> P86Y1111\n",
        "\tS962-1125 --> P86Y1116\n",
        "\tSEED-736 --> P86Y1123\n",
        "\tP7R40708 --> P86Y1127\n",
        "pickle/HP12_0668.pickle"
       ]
      },
      {
       "output_type": "stream",
       "stream": "stdout",
       "text": [
        "\n",
        "\tP7R40725P --> P86Y1158\n",
        "\tP7R40782 --> P86Y1241\n",
        "\tP7R40811 --> P86Y1271\n",
        "\tP7R40812A --> P86Y1277\n",
        "pickle/HP12_0669.pickle"
       ]
      },
      {
       "output_type": "stream",
       "stream": "stdout",
       "text": [
        "\n",
        "\tS962-1172 --> P86Y1270\n",
        "\tS962-1144 --> P86Y1291\n",
        "\tS907-1103 --> P86Y1336\n",
        "\tP7R40848 --> P86Y1345\n",
        "pickle/HP12_0670.pickle"
       ]
      },
      {
       "output_type": "stream",
       "stream": "stdout",
       "text": [
        "\n",
        "\tS907-1166 --> P86Y1353\n",
        "\tP7R40862 --> P86Y1362\n",
        "\tP7R40864 --> P86Y1363\n",
        "\tP7R40878 --> P86Y1390\n",
        "\tP7R40906 --> P86Y1443\n",
        "pickle/HP12_0671.pickle"
       ]
      },
      {
       "output_type": "stream",
       "stream": "stdout",
       "text": [
        "\n",
        "\tP7R40894C --> P86Y1422\n",
        "\tP7R40922A --> P86Y1469\n",
        "pickle/HP12_0672.pickle"
       ]
      },
      {
       "output_type": "stream",
       "stream": "stdout",
       "text": [
        "\n",
        "pickle/HP12_0673.pickle"
       ]
      },
      {
       "output_type": "stream",
       "stream": "stdout",
       "text": [
        "\n",
        "\tP7R40956 --> P86Y1521\n",
        "\tS962-1145 --> P86Y1549\n",
        "pickle/HP12_0674.pickle"
       ]
      },
      {
       "output_type": "stream",
       "stream": "stdout",
       "text": [
        "\n",
        "\tP7R40994H --> P86Y1584\n",
        "\tP7R41008 --> P86Y1606\n",
        "pickle/HP12_0675.pickle"
       ]
      },
      {
       "output_type": "stream",
       "stream": "stdout",
       "text": [
        "\n",
        "pickle/HP12_0676.pickle"
       ]
      },
      {
       "output_type": "stream",
       "stream": "stdout",
       "text": [
        "\n",
        "\tS962-1156 --> P86Y1673\n",
        "\tP7R41046G --> P86Y1675\n",
        "pickle/HP12_0677.pickle"
       ]
      },
      {
       "output_type": "stream",
       "stream": "stdout",
       "text": [
        "\n",
        "\tS962-1166 --> P86Y1706\n",
        "\tP7R41075 --> P86Y1710\n",
        "\tSEED-833 --> P86Y1742\n",
        "\tS962-1036 --> P86Y1768\n",
        "pickle/HP12_0678.pickle"
       ]
      },
      {
       "output_type": "stream",
       "stream": "stdout",
       "text": [
        "\n",
        "\tP7R41125 --> P86Y1782\n",
        "\tP7R41128 --> P86Y1787\n",
        "\tP7R41134 --> P86Y1799\n",
        "\tP7R41138 --> P86Y1807\n",
        "\tP7R41151 --> P86Y1830\n",
        "pickle/HP12_0679.pickle"
       ]
      },
      {
       "output_type": "stream",
       "stream": "stdout",
       "text": [
        "\n",
        "\tP7R41155 --> P86Y1836\n",
        "\tP7R41165G --> P86Y1852\n",
        "\tP7R41168 --> P86Y1854\n",
        "pickle/HP12_0680.pickle"
       ]
      },
      {
       "output_type": "stream",
       "stream": "stdout",
       "text": [
        "\n",
        "\tP7R41200 --> P86Y1908\n",
        "pickle/HP12_0681.pickle"
       ]
      },
      {
       "output_type": "stream",
       "stream": "stdout",
       "text": [
        "\n",
        "\tS907-1109 --> P86Y1974\n",
        "\tS907-1122 --> P86Y1982\n",
        "\tS962-1101 --> P86Y2001\n",
        "pickle/HP12_0682.pickle"
       ]
      },
      {
       "output_type": "stream",
       "stream": "stdout",
       "text": [
        "\n",
        "\tS962-1117 --> P86Y2067\n",
        "\tS962-1069 --> P86Y2095\n",
        "\tP7R41332G --> P86Y2119\n",
        "pickle/HP12_0683.pickle"
       ]
      },
      {
       "output_type": "stream",
       "stream": "stdout",
       "text": [
        "\n",
        "\tSEED-755 --> P86Y2159\n",
        "\tS962-1093 --> P86Y2167\n",
        "\tP7R41365 --> P86Y2177\n",
        "\tS962-1134 --> P86Y2185\n",
        "\tS962-1047 --> P86Y2187\n",
        "\tS962-1048 --> P86Y2211\n",
        "pickle/HP12_0684.pickle"
       ]
      },
      {
       "output_type": "stream",
       "stream": "stdout",
       "text": [
        "\n",
        "\tP7R41423 --> P86Y2266\n",
        "\tP7R41433 --> P86Y2280\n",
        "\tS907-1040 --> P86Y2299\n",
        "\tP7R41448 --> P86Y2303\n",
        "pickle/HP12_0685.pickle"
       ]
      },
      {
       "output_type": "stream",
       "stream": "stdout",
       "text": [
        "\n",
        "\tP7R41498 --> P86Y2368\n",
        "\tSEED-822 --> P86Y2423\n",
        "pickle/HP12_0686.pickle"
       ]
      },
      {
       "output_type": "stream",
       "stream": "stdout",
       "text": [
        "\n",
        "\tP7R41616 --> P86Y2531\n",
        "\tP7R41621 --> P86Y2542\n",
        "\tP7R41635 --> P86Y2560\n",
        "\tP7R41645 --> P86Y2578\n",
        "\tS962-1167 --> P86Y2585\n",
        "\tP7R41660 --> P86Y2605\n",
        "pickle/HP12_0687.pickle"
       ]
      },
      {
       "output_type": "stream",
       "stream": "stdout",
       "text": [
        "\n",
        "\tP7R41730 --> P86Y2711\n",
        "\tP7R41738 --> P86Y2719\n",
        "\tP7R41774 --> P86Y2772\n",
        "\tSEED-836 --> P86Y2811\n",
        "pickle/HP12_0688.pickle"
       ]
      },
      {
       "output_type": "stream",
       "stream": "stdout",
       "text": [
        "\n",
        "\tP7R41853 --> P86Y2869\n",
        "\tP7R41872 --> P86Y2886\n",
        "\tP7R41917 --> P86Y2950\n",
        "\tP7R41918B --> P86Y2957\n",
        "pickle/HP12_0689.pickle"
       ]
      },
      {
       "output_type": "stream",
       "stream": "stdout",
       "text": [
        "\n",
        "\tS962-1190 --> P86Y3114\n",
        "\tSEED-859 --> P86Y3152\n",
        "pickle/HP12_0690.pickle"
       ]
      },
      {
       "output_type": "stream",
       "stream": "stdout",
       "text": [
        "\n",
        "\tP7R42121 --> P86Y3233\n",
        "\tS907-1123 --> P86Y3275\n",
        "\tS907-1081 --> P86Y3292\n",
        "pickle/HP12_0691.pickle"
       ]
      },
      {
       "output_type": "stream",
       "stream": "stdout",
       "text": [
        "\n",
        "\tS907-1042 --> P86Y3337\n",
        "\tS962-1033 --> P86Y3347\n",
        "\tS962-1121 --> P86Y3440\n",
        "pickle/HP12_0692.pickle"
       ]
      },
      {
       "output_type": "stream",
       "stream": "stdout",
       "text": [
        "\n",
        "\tP7R42281A --> P86Y3477\n",
        "\tS907-1068 --> P86Y3500\n",
        "\tP7R42305P --> P86Y3516\n",
        "pickle/HP12_0693.pickle"
       ]
      },
      {
       "output_type": "stream",
       "stream": "stdout",
       "text": [
        "\n",
        "\tS907-1105 --> P86Y3575\n",
        "\tS962-1162 --> P86Y3634\n",
        "pickle/HP12_0694.pickle"
       ]
      },
      {
       "output_type": "stream",
       "stream": "stdout",
       "text": [
        "\n",
        "\tP7R42449 --> P86Y3704\n",
        "\tP7R42458 --> P86Y3724\n",
        "\tS907-1074 --> P86Y3733\n",
        "\tS907-1114 --> P86Y3738\n",
        "\tP7R42492P --> P86Y3769\n",
        "pickle/HP12_0695.pickle"
       ]
      },
      {
       "output_type": "stream",
       "stream": "stdout",
       "text": [
        "\n",
        "\tS962-1106 --> P86Y3764\n",
        "\tS962-1107 --> P86Y3812\n",
        "pickle/HP12_0696.pickle"
       ]
      },
      {
       "output_type": "stream",
       "stream": "stdout",
       "text": [
        "\n",
        "\tP7R42576P --> P86Y3872\n",
        "\tP7R42574G --> P86Y3874\n",
        "\tS907-1262 --> P86Y3905\n",
        "\tP7R42627G --> P86Y3926\n",
        "pickle/HP12_0697.pickle"
       ]
      },
      {
       "output_type": "stream",
       "stream": "stdout",
       "text": [
        "\n",
        "\tS962-1215 --> P86Y3947\n",
        "\tP7R42643H --> P86Y3969\n",
        "\tP7R42654G --> P86Y3982\n",
        "\tS962-1298 --> P86Y3998\n",
        "pickle/HP12_0698.pickle"
       ]
      },
      {
       "output_type": "stream",
       "stream": "stdout",
       "text": [
        "\n",
        "\tP7R42681 --> P86Y4016\n",
        "\tP7R42690 --> P86Y4030\n",
        "\tP7R42709A --> P86Y4051\n",
        "\tS907-1207 --> P86Y4083\n",
        "pickle/HP12_0699.pickle"
       ]
      },
      {
       "output_type": "stream",
       "stream": "stdout",
       "text": [
        "\n",
        "\tP7R42727A --> P86Y4076\n",
        "\tP7R42740 --> P86Y4090\n",
        "pickle/HP12_0700.pickle"
       ]
      },
      {
       "output_type": "stream",
       "stream": "stdout",
       "text": [
        "\n",
        "\tP7R42804 --> P86Y4171\n",
        "pickle/HP12_0701.pickle"
       ]
      },
      {
       "output_type": "stream",
       "stream": "stdout",
       "text": [
        "\n",
        "\tP7R42826 --> P86Y4205\n",
        "\tP7R42830A --> P86Y4216\n",
        "\tP7R42842 --> P86Y4232\n",
        "\tP7R42869 --> P86Y4268\n",
        "pickle/HP12_0702.pickle"
       ]
      },
      {
       "output_type": "stream",
       "stream": "stdout",
       "text": [
        "\n",
        "\tP7R42888 --> P86Y4293\n",
        "\tP7R42916 --> P86Y4334\n",
        "\tP7R42920 --> P86Y4338\n",
        "pickle/HP12_0703.pickle"
       ]
      },
      {
       "output_type": "stream",
       "stream": "stdout",
       "text": [
        "\n",
        "\tS962-1205 --> P86Y4353\n",
        "\tS962-1254 --> P86Y4397\n",
        "pickle/HP12_0704.pickle"
       ]
      },
      {
       "output_type": "stream",
       "stream": "stdout",
       "text": [
        "\n",
        "\tSEED-959 --> P86Y4422\n",
        "\tP7R42994 --> P86Y4439\n",
        "pickle/HP12_0705.pickle"
       ]
      },
      {
       "output_type": "stream",
       "stream": "stdout",
       "text": [
        "\n",
        "\tS907-1138 --> P86Y4434\n",
        "\tP7R43037G --> P86Y4492\n",
        "\tS907-1306 --> P86Y4499\n",
        "pickle/HP12_0706.pickle"
       ]
      },
      {
       "output_type": "stream",
       "stream": "stdout",
       "text": [
        "\n",
        "\tS907-1252 --> P86Y4533\n",
        "\tP7R43072G --> P86Y4547\n",
        "pickle/HP12_0707.pickle"
       ]
      },
      {
       "output_type": "stream",
       "stream": "stdout",
       "text": [
        "\n",
        "\tP7R43159 --> P86Y4655\n",
        "pickle/HP12_0708.pickle"
       ]
      },
      {
       "output_type": "stream",
       "stream": "stdout",
       "text": [
        "\n",
        "\tP7R43165G --> P86Y4663\n",
        "\tS962-1237 --> P86Y4674\n",
        "pickle/HP12_0709.pickle"
       ]
      },
      {
       "output_type": "stream",
       "stream": "stdout",
       "text": [
        "\n",
        "\tP7R43265 --> P86Y4823\n",
        "\tP7R43315 --> P86Y4858\n",
        "pickle/HP12_0710.pickle"
       ]
      },
      {
       "output_type": "stream",
       "stream": "stdout",
       "text": [
        "\n",
        "\tP7R43363 --> P86Y4947\n",
        "\tP7R43386 --> P86Y4979\n",
        "\tP7R43411AG --> P86Y5023\n",
        "pickle/HP12_0711.pickle"
       ]
      },
      {
       "output_type": "stream",
       "stream": "stdout",
       "text": [
        "\n",
        "\tS962-1227 --> P86Y5102\n",
        "\tS907-1203 --> P86Y5127\n",
        "\tS962-1284 --> P86Y5207\n",
        "\tS907-1181 --> P86Y5240\n",
        "pickle/HP12_0712.pickle"
       ]
      },
      {
       "output_type": "stream",
       "stream": "stdout",
       "text": [
        "\n",
        "\tSEED-883 --> P86Y0024\n",
        "\tP7R40032GP --> P86Y0056\n",
        "\tS962-1160 --> P86Y0084\n",
        "pickle/HP12_0713.pickle"
       ]
      },
      {
       "output_type": "stream",
       "stream": "stdout",
       "text": [
        "\n",
        "\tSEED-960 --> P86Y0377\n",
        "\tP7R40262 --> P86Y0412\n",
        "\tP7R40289 --> P86Y0449\n",
        "\tP7R40304G --> P86Y0478\n",
        "pickle/HP12_0714.pickle"
       ]
      },
      {
       "output_type": "stream",
       "stream": "stdout",
       "text": [
        "\n",
        "\tP7R40453 --> P86Y0695\n",
        "\tP7R40462G --> P86Y0714\n",
        "pickle/HP12_0715.pickle"
       ]
      },
      {
       "output_type": "stream",
       "stream": "stdout",
       "text": [
        "\n",
        "\tS962-1256 --> P86Y0899\n",
        "\tP7R40602 --> P86Y0950\n",
        "\tP7R40616 --> P86Y0969\n",
        "pickle/HP12_0716.pickle"
       ]
      },
      {
       "output_type": "stream",
       "stream": "stdout",
       "text": [
        "\n",
        "\tSEED-850 --> P86Y1044\n",
        "\tP7R40677 --> P86Y1069\n",
        "\tS962-1268 --> P86Y1089\n",
        "pickle/HP12_0717.pickle"
       ]
      },
      {
       "output_type": "stream",
       "stream": "stdout",
       "text": [
        "\n",
        "\tS907-1229 --> P86Y1193\n",
        "\tS962-1195 --> P86Y1240\n",
        "pickle/HP12_0718.pickle"
       ]
      },
      {
       "output_type": "stream",
       "stream": "stdout",
       "text": [
        "\n",
        "\tS962-1175 --> P86Y1310\n",
        "pickle/HP12_0719.pickle"
       ]
      },
      {
       "output_type": "stream",
       "stream": "stdout",
       "text": [
        "\n",
        "\tP7R40834 --> P86Y1317\n",
        "\tP7R40844 --> P86Y1338\n",
        "\tP7R40882 --> P86Y1401\n",
        "pickle/HP12_0720.pickle"
       ]
      },
      {
       "output_type": "stream",
       "stream": "stdout",
       "text": [
        "\n",
        "\tS962-1336 --> P86Y1396\n",
        "\tSEED-896 --> P86Y1409\n",
        "\tP7R40903 --> P86Y1435\n",
        "\tSEED-840 --> P86Y1451\n",
        "\tS962-1207 --> P86Y1458\n",
        "\tS962-1136 --> P86Y1467\n",
        "pickle/HP12_0721.pickle"
       ]
      },
      {
       "output_type": "stream",
       "stream": "stdout",
       "text": [
        "\n",
        "pickle/HP12_0722.pickle"
       ]
      },
      {
       "output_type": "stream",
       "stream": "stdout",
       "text": [
        "\n",
        "\tS907-1215 --> P86Y1512\n",
        "\tP7R40955 --> P86Y1520\n",
        "\tP7R40958G --> P86Y1525\n",
        "\tP7R40962BG --> P86Y1530\n",
        "\tP7R40978 --> P86Y1554\n",
        "pickle/HP12_0723.pickle"
       ]
      },
      {
       "output_type": "stream",
       "stream": "stdout",
       "text": [
        "\n",
        "\tP7R40979 --> P86Y1557\n",
        "pickle/HP12_0724.pickle"
       ]
      },
      {
       "output_type": "stream",
       "stream": "stdout",
       "text": [
        "\n",
        "pickle/HP12_0725.pickle"
       ]
      },
      {
       "output_type": "stream",
       "stream": "stdout",
       "text": [
        "\n",
        "\tP7R41027 --> P86Y1636\n",
        "\tP7R41028 --> P86Y1641\n",
        "\tP7R41053 --> P86Y1687\n",
        "pickle/HP12_0726.pickle"
       ]
      },
      {
       "output_type": "stream",
       "stream": "stdout",
       "text": [
        "\n",
        "\tP7R41057 --> P86Y1692\n",
        "\tP7R41077 --> P86Y1711\n",
        "\tP7R41081 --> P86Y1717\n",
        "\tP7R41095 --> P86Y1739\n",
        "\tP7R41103 --> P86Y1758\n",
        "pickle/HP12_0727.pickle"
       ]
      },
      {
       "output_type": "stream",
       "stream": "stdout",
       "text": [
        "\n",
        "\tP7R41102 --> P86Y1753\n",
        "\tP7R41119 --> P86Y1774\n",
        "\tP7R41136 --> P86Y1805\n",
        "pickle/HP12_0728.pickle"
       ]
      },
      {
       "output_type": "stream",
       "stream": "stdout",
       "text": [
        "\n",
        "pickle/HP12_0729.pickle"
       ]
      },
      {
       "output_type": "stream",
       "stream": "stdout",
       "text": [
        "\n",
        "\tP7R41182 --> P86Y1877\n",
        "\tP7R41193P --> P86Y1900\n",
        "\tP7R41218 --> P86Y1941\n",
        "pickle/HP12_0730.pickle"
       ]
      },
      {
       "output_type": "stream",
       "stream": "stdout",
       "text": [
        "\n",
        "\tP7R41227 --> P86Y1951\n",
        "\tSEED-970 --> P86Y1967\n",
        "\tS962-1253 --> P86Y1978\n",
        "\tP7R41253A --> P86Y1991\n",
        "pickle/HP12_0731.pickle"
       ]
      },
      {
       "output_type": "stream",
       "stream": "stdout",
       "text": [
        "\n",
        "\tP7R41328 --> P86Y2108\n",
        "\tSEED-881 --> P86Y2122\n",
        "\tP7R41339 --> P86Y2124\n",
        "pickle/HP12_0732.pickle"
       ]
      },
      {
       "output_type": "stream",
       "stream": "stdout",
       "text": [
        "\n",
        "\tP7R41368 --> P86Y2170\n",
        "\tP7R41365AG --> P86Y2174\n",
        "\tSEED-895 --> P86Y2200\n",
        "\tP7R41381 --> P86Y2202\n",
        "pickle/HP12_0733.pickle"
       ]
      },
      {
       "output_type": "stream",
       "stream": "stdout",
       "text": [
        "\n",
        "\tS907-1197 --> P86Y2256\n",
        "\tP7R41428 --> P86Y2272\n",
        "\tP7R41453 --> P86Y2309\n",
        "\tP7R41454G --> P86Y2313\n",
        "\tS907-1227 --> P86Y2330\n",
        "\tS907-1155 --> P86Y2345\n",
        "\tS907-1192 --> P86Y2357\n",
        "pickle/HP12_0734.pickle"
       ]
      },
      {
       "output_type": "stream",
       "stream": "stdout",
       "text": [
        "\n",
        "\tS962-1295 --> P86Y2418\n",
        "\tP7R41594 --> P86Y2506\n",
        "pickle/HP12_0735.pickle"
       ]
      },
      {
       "output_type": "stream",
       "stream": "stdout",
       "text": [
        "\n",
        "\tP7R41643G --> P86Y2577\n",
        "\tS962-1266 --> P86Y2590\n",
        "\tS907-1273 --> P86Y2604\n",
        "pickle/HP12_0736.pickle"
       ]
      },
      {
       "output_type": "stream",
       "stream": "stdout",
       "text": [
        "\n",
        "\tS907-1220 --> P86Y2745\n",
        "\tP7R41814 --> P86Y2823\n",
        "\tP7R41818 --> P86Y2830\n",
        "\tS907-1289 --> P86Y2850\n",
        "pickle/HP12_0737.pickle"
       ]
      },
      {
       "output_type": "stream",
       "stream": "stdout",
       "text": [
        "\n",
        "\tP7R41946 --> P86Y2987\n",
        "\tP7R41951 --> P86Y2997\n",
        "\tP7R41972 --> P86Y3021\n",
        "\tP7R41978 --> P86Y3029\n",
        "pickle/HP12_0738.pickle"
       ]
      },
      {
       "output_type": "stream",
       "stream": "stdout",
       "text": [
        "\n",
        "\tP7R42073 --> P86Y3174\n",
        "\tP7R42108 --> P86Y3212\n",
        "\tP7R42113A --> P86Y3226\n",
        "pickle/HP12_0739.pickle"
       ]
      },
      {
       "output_type": "stream",
       "stream": "stdout",
       "text": [
        "\n",
        "\tP7R42171AP --> P86Y3316\n",
        "\tSEED-839 --> P86Y3365\n",
        "pickle/HP12_0740.pickle"
       ]
      },
      {
       "output_type": "stream",
       "stream": "stdout",
       "text": [
        "\n",
        "\tP7R42263 --> P86Y3451\n",
        "\tP7R42278H --> P86Y3476\n",
        "\tP7R42305 --> P86Y3521\n",
        "pickle/HP12_0741.pickle"
       ]
      },
      {
       "output_type": "stream",
       "stream": "stdout",
       "text": [
        "\n",
        "\tS907-1234 --> P86Y3593\n",
        "\tP7R42370 --> P86Y3597\n",
        "\tP7R42382P --> P86Y3616\n",
        "\tP7R42402 --> P86Y3648\n",
        "\tS907-1241 --> P86Y3658\n",
        "pickle/HP12_0742.pickle"
       ]
      },
      {
       "output_type": "stream",
       "stream": "stdout",
       "text": [
        "\n",
        "\tP7R42460 --> P86Y3726\n",
        "\tP7R42469G --> P86Y3731\n",
        "\tP7R42493 --> P86Y3761\n",
        "pickle/HP12_0743.pickle"
       ]
      },
      {
       "output_type": "stream",
       "stream": "stdout",
       "text": [
        "\n",
        "\tP7R42508 --> P86Y3780\n",
        "\tS962-1242 --> P86Y3789\n",
        "\tP7R42530 --> P86Y3815\n",
        "\tS907-1206 --> P86Y3841\n",
        "\tP7R42563 --> P86Y3859\n",
        "pickle/HP12_0744.pickle"
       ]
      },
      {
       "output_type": "stream",
       "stream": "stdout",
       "text": [
        "\n",
        "\tP7R42664 --> P86Y3990\n",
        "pickle/HP12_0745.pickle"
       ]
      },
      {
       "output_type": "stream",
       "stream": "stdout",
       "text": [
        "\n",
        "\tP7R42713G --> P86Y4057\n",
        "\tP7R42714 --> P86Y4061\n",
        "pickle/HP12_0746.pickle"
       ]
      },
      {
       "output_type": "stream",
       "stream": "stdout",
       "text": [
        "\n",
        "\tP7R42777A --> P86Y4140\n",
        "pickle/HP12_0747.pickle"
       ]
      },
      {
       "output_type": "stream",
       "stream": "stdout",
       "text": [
        "\n",
        "pickle/HP12_0748.pickle"
       ]
      },
      {
       "output_type": "stream",
       "stream": "stdout",
       "text": [
        "\n",
        "\tP7R42877A --> P86Y4281\n",
        "pickle/HP12_0749.pickle"
       ]
      },
      {
       "output_type": "stream",
       "stream": "stdout",
       "text": [
        "\n",
        "\tS907-1235 --> P86Y4284\n",
        "\tS907-1244 --> P86Y4297\n",
        "\tS907-1290 --> P86Y4313\n",
        "pickle/HP12_0750.pickle"
       ]
      },
      {
       "output_type": "stream",
       "stream": "stdout",
       "text": [
        "\n",
        "\tP7R42948J --> P86Y4383\n",
        "\tP7R42958AG --> P86Y4400\n",
        "\tP7R42981G --> P86Y4421\n",
        "pickle/HP12_0751.pickle"
       ]
      },
      {
       "output_type": "stream",
       "stream": "stdout",
       "text": [
        "\n",
        "\tP7R43027A --> P86Y4478\n",
        "pickle/HP12_0752.pickle"
       ]
      },
      {
       "output_type": "stream",
       "stream": "stdout",
       "text": [
        "\n",
        "\tP7R43033 --> P86Y4490\n",
        "\tP7R43042A --> P86Y4501\n",
        "pickle/HP12_0753.pickle"
       ]
      },
      {
       "output_type": "stream",
       "stream": "stdout",
       "text": [
        "\n",
        "\tP7R43071 --> P86Y4543\n",
        "\tP7R43098 --> P86Y4582\n",
        "pickle/HP12_0754.pickle"
       ]
      },
      {
       "output_type": "stream",
       "stream": "stdout",
       "text": [
        "\n",
        "\tP7R43125 --> P86Y4614\n",
        "\tP7R43131 --> P86Y4621\n",
        "\tP7R43156P --> P86Y4662\n",
        "pickle/HP12_0755.pickle"
       ]
      },
      {
       "output_type": "stream",
       "stream": "stdout",
       "text": [
        "\n",
        "\tSEED-979 --> P86Y4673\n",
        "\tP7R43200 --> P86Y4717\n",
        "\tP7R43221 --> P86Y4748\n",
        "\tP7R43195P --> P86Y4749\n",
        "\tP7R43226BG --> P86Y4756\n",
        "\tP7R43227C --> P86Y4761\n",
        "\tP7R43237 --> P86Y4774\n",
        "pickle/HP12_0756.pickle"
       ]
      },
      {
       "output_type": "stream",
       "stream": "stdout",
       "text": [
        "\n",
        "\tSEED-961 --> P86Y4776\n",
        "pickle/HP12_0757.pickle"
       ]
      },
      {
       "output_type": "stream",
       "stream": "stdout",
       "text": [
        "\n",
        "\tS907-1232 --> P86Y4901\n",
        "\tP7R43344 --> P86Y4920\n",
        "\tS907-1393 --> P86Y4954\n",
        "pickle/HP12_0758.pickle"
       ]
      },
      {
       "output_type": "stream",
       "stream": "stdout",
       "text": [
        "\n",
        "\tP7R43441 --> P86Y5057\n",
        "\tP7R43446P --> P86Y5078\n",
        "\tP7R43460 --> P86Y5098\n",
        "\tP7R43468 --> P86Y5113\n",
        "\tS907-1245 --> P86Y5119\n",
        "\tP7R43466 --> P86Y5121\n",
        "\tP7R43505 --> P86Y5144\n",
        "\tP7R43487 --> P86Y5147\n",
        "\tS962-1459 --> P86Y5161\n",
        "pickle/HP12_0759.pickle"
       ]
      },
      {
       "output_type": "stream",
       "stream": "stdout",
       "text": [
        "\n",
        "\tS962-1390 --> P86Y0021\n",
        "\tP7R43677G --> P86Y0037\n",
        "\tS962-1446 --> P86Y5409\n",
        "\tP7R43687 --> P86Y5421\n",
        "\tP7R40013 --> P86Y5440\n",
        "pickle/HP12_0760.pickle"
       ]
      },
      {
       "output_type": "stream",
       "stream": "stdout",
       "text": [
        "\n",
        "\tS907-1405 --> P86Y0172\n",
        "\tS907-1333 --> P86Y0183\n",
        "\tP7R40172 --> P86Y0262\n",
        "\tP7R40193A --> P86Y0296\n",
        "\tP7R40231A --> P86Y0364\n",
        "\tS907-1347 --> P86Y0370\n",
        "pickle/HP12_0761.pickle"
       ]
      },
      {
       "output_type": "stream",
       "stream": "stdout",
       "text": [
        "\n",
        "\tP7R40294P --> P86Y0455\n",
        "\tP7R40345 --> P86Y0529\n",
        "\tP7R40366 --> P86Y0567\n",
        "pickle/HP12_0762.pickle"
       ]
      },
      {
       "output_type": "stream",
       "stream": "stdout",
       "text": [
        "\n",
        "\tS907-1344 --> P86Y0694\n",
        "\tP7R40509 --> P86Y0784\n",
        "\tP7R40517 --> P86Y0796\n",
        "pickle/HP12_0763.pickle"
       ]
      },
      {
       "output_type": "stream",
       "stream": "stdout",
       "text": [
        "\n",
        "\tP7R40569 --> P86Y0879\n",
        "pickle/HP12_0764.pickle"
       ]
      },
      {
       "output_type": "stream",
       "stream": "stdout",
       "text": [
        "\n",
        "\tP7R40689 --> P86Y1094\n",
        "\tP7R40689A --> P86Y1100\n",
        "\tS907-1364 --> P86Y1104\n",
        "\tS962-1318 --> P86Y1137\n",
        "\tS907-1228 --> P86Y1141\n",
        "pickle/HP12_0765.pickle"
       ]
      },
      {
       "output_type": "stream",
       "stream": "stdout",
       "text": [
        "\n",
        "\tS962-1323 --> P86Y1196\n",
        "\tP7R40779 --> P86Y1237\n",
        "pickle/HP12_0766.pickle"
       ]
      },
      {
       "output_type": "stream",
       "stream": "stdout",
       "text": [
        "\n",
        "pickle/HP12_0767.pickle"
       ]
      },
      {
       "output_type": "stream",
       "stream": "stdout",
       "text": [
        "\n",
        "\tS962-1426 --> P86Y1323\n",
        "\tS907-1272 --> P86Y1403\n",
        "pickle/HP12_0768.pickle"
       ]
      },
      {
       "output_type": "stream",
       "stream": "stdout",
       "text": [
        "\n",
        "\tP7R40880 --> P86Y1393\n",
        "\tP7R40894CG --> P86Y1424\n",
        "\tP7R40905 --> P86Y1438\n",
        "pickle/HP12_0769.pickle"
       ]
      },
      {
       "output_type": "stream",
       "stream": "stdout",
       "text": [
        "\n",
        "\tP7R40910A --> P86Y1457\n",
        "\tP7R40918 --> P86Y1462\n",
        "pickle/HP12_0770.pickle"
       ]
      },
      {
       "output_type": "stream",
       "stream": "stdout",
       "text": [
        "\n",
        "\tP7R40944P --> P86Y1497\n",
        "\tP7R40947 --> P86Y1506\n",
        "\tS907-1310 --> P86Y1507\n",
        "\tP7R40949 --> P86Y1509\n",
        "pickle/HP12_0771.pickle"
       ]
      },
      {
       "output_type": "stream",
       "stream": "stdout",
       "text": [
        "\n",
        "\tP7R40967 --> P86Y1533\n",
        "\tP7R40975 --> P86Y1548\n",
        "pickle/HP12_0772.pickle"
       ]
      },
      {
       "output_type": "stream",
       "stream": "stdout",
       "text": [
        "\n",
        "\tP7R41017 --> P86Y1622\n",
        "\tS907-1267 --> P86Y1630\n",
        "pickle/HP12_0773.pickle"
       ]
      },
      {
       "output_type": "stream",
       "stream": "stdout",
       "text": [
        "\n",
        "\tP7R41018 --> P86Y1621\n",
        "\tS962-1415 --> P86Y1634\n",
        "\tP7R41026 --> P86Y1639\n",
        "\tP7R41037 --> P86Y1659\n",
        "pickle/HP12_0774.pickle"
       ]
      },
      {
       "output_type": "stream",
       "stream": "stdout",
       "text": [
        "\n",
        "pickle/HP12_0775.pickle"
       ]
      },
      {
       "output_type": "stream",
       "stream": "stdout",
       "text": [
        "\n",
        "\tP7R41097 --> P86Y1744\n",
        "\tP7R41113 --> P86Y1764\n",
        "\tS962-1335 --> P86Y1804\n",
        "pickle/HP12_0776.pickle"
       ]
      },
      {
       "output_type": "stream",
       "stream": "stdout",
       "text": [
        "\n",
        "\tS962-1454 --> P86Y1792\n",
        "\tP7R41157 --> P86Y1838\n",
        "\tP7R41176 --> P86Y1867\n",
        "pickle/HP12_0777.pickle"
       ]
      },
      {
       "output_type": "stream",
       "stream": "stdout",
       "text": [
        "\n",
        "\tP7R41204 --> P86Y1916\n",
        "\tS962-1251 --> P86Y1924\n",
        "\tSEED-1029 --> P86Y1927\n",
        "pickle/HP12_0778.pickle"
       ]
      },
      {
       "output_type": "stream",
       "stream": "stdout",
       "text": [
        "\n",
        "\tP7R41230 --> P86Y1954\n",
        "\tP7R41239 --> P86Y1969\n",
        "\tP7R41270 --> P86Y2022\n",
        "pickle/HP12_0779.pickle"
       ]
      },
      {
       "output_type": "stream",
       "stream": "stdout",
       "text": [
        "\n",
        "\tP7R41316 --> P86Y2087\n",
        "\tS907-1313 --> P86Y2111\n",
        "pickle/HP12_0780.pickle"
       ]
      },
      {
       "output_type": "stream",
       "stream": "stdout",
       "text": [
        "\n",
        "\tSEED-909 --> P86Y2189\n",
        "\tS962-1264 --> P86Y2224\n",
        "pickle/HP12_0781.pickle"
       ]
      },
      {
       "output_type": "stream",
       "stream": "stdout",
       "text": [
        "\n",
        "\tP7R41489 --> P86Y2352\n",
        "pickle/HP12_0782.pickle"
       ]
      },
      {
       "output_type": "stream",
       "stream": "stdout",
       "text": [
        "\n",
        "\tP7R41580 --> P86Y2480\n",
        "\tP7R41617 --> P86Y2535\n",
        "\tS962-1246 --> P86Y2556\n",
        "pickle/HP12_0783.pickle"
       ]
      },
      {
       "output_type": "stream",
       "stream": "stdout",
       "text": [
        "\n",
        "\tS907-1223 --> P86Y2725\n",
        "\tS907-1314 --> P86Y2728\n",
        "\tS907-1345 --> P86Y2782\n",
        "pickle/HP12_0784.pickle"
       ]
      },
      {
       "output_type": "stream",
       "stream": "stdout",
       "text": [
        "\n",
        "\tP7R41866P --> P86Y2891\n",
        "\tP7R41883 --> P86Y2907\n",
        "\tP7R41882 --> P86Y2908\n",
        "\tP7R41911 --> P86Y2940\n",
        "\tP7R41924H --> P86Y2964\n",
        "\tP7R41924G --> P86Y2968\n",
        "pickle/HP12_0785.pickle"
       ]
      },
      {
       "output_type": "stream",
       "stream": "stdout",
       "text": [
        "\n",
        "\tP7R41983 --> P86Y3034\n",
        "\tP7R42007 --> P86Y3068\n",
        "\tP7R42067 --> P86Y3163\n",
        "pickle/HP12_0786.pickle"
       ]
      },
      {
       "output_type": "stream",
       "stream": "stdout",
       "text": [
        "\n",
        "\tS907-1390 --> P86Y3282\n",
        "\tS962-1290 --> P86Y3299\n",
        "pickle/HP12_0787.pickle"
       ]
      },
      {
       "output_type": "stream",
       "stream": "stdout",
       "text": [
        "\n",
        "\tP7R42231 --> P86Y3404\n",
        "\tP7R42254 --> P86Y3436\n",
        "\tS907-1379 --> P86Y3439\n",
        "\tS907-1420 --> P86Y3480\n",
        "\tS907-1340 --> P86Y3512\n",
        "pickle/HP12_0788.pickle"
       ]
      },
      {
       "output_type": "stream",
       "stream": "stdout",
       "text": [
        "\n",
        "\tS907-1250 --> P86Y3569\n",
        "\tS907-1426 --> P86Y3596\n",
        "\tP7R42392 --> P86Y3629\n",
        "pickle/HP12_0789.pickle"
       ]
      },
      {
       "output_type": "stream",
       "stream": "stdout",
       "text": [
        "\n",
        "\tP7R42405P --> P86Y3659\n",
        "\tS907-1335 --> P86Y3666\n",
        "\tP7R42439 --> P86Y3697\n",
        "\tP7R42456 --> P86Y3717\n",
        "pickle/HP12_0790.pickle"
       ]
      },
      {
       "output_type": "stream",
       "stream": "stdout",
       "text": [
        "\n",
        "\tP7R42553 --> P86Y3838\n",
        "pickle/HP12_0791.pickle"
       ]
      },
      {
       "output_type": "stream",
       "stream": "stdout",
       "text": [
        "\n",
        "\tP7R42569 --> P86Y3867\n",
        "\tP7R42580G --> P86Y3879\n",
        "\tP7R42595GP --> P86Y3906\n",
        "\tP7R42606G --> P86Y3915\n",
        "\tP7R42616 --> P86Y3927\n",
        "pickle/HP12_0792.pickle"
       ]
      },
      {
       "output_type": "stream",
       "stream": "stdout",
       "text": [
        "\n",
        "\tP7R42635GP --> P86Y3958\n",
        "\tP7R42655 --> P86Y3984\n",
        "\tP7R42670 --> P86Y4001\n",
        "\tP7R42673 --> P86Y4003\n",
        "\tP7R42672Q --> P86Y4011\n",
        "\tP7R42678 --> P86Y4013\n",
        "\tP7R42677 --> P86Y4024\n",
        "\tP7R42706 --> P86Y4027\n",
        "\tP7R42681P --> P86Y4028\n",
        "\tP7R42693 --> P86Y4034\n",
        "\tP7R42693G --> P86Y4037\n",
        "\tP7R42691 --> P86Y4038\n",
        "\tP7R42696A --> P86Y4044\n",
        "pickle/HP12_0793.pickle"
       ]
      },
      {
       "output_type": "stream",
       "stream": "stdout",
       "text": [
        "\n",
        "\tP7R42693GP --> P86Y4039\n",
        "\tP7R42713 --> P86Y4048\n",
        "\tP7R42737 --> P86Y4086\n",
        "\tP7R42761G --> P86Y4122\n",
        "\tP7R42768G --> P86Y4129\n",
        "pickle/HP12_0794.pickle"
       ]
      },
      {
       "output_type": "stream",
       "stream": "stdout",
       "text": [
        "\n",
        "\tP7R42810A --> P86Y4182\n",
        "\tP7R42816G --> P86Y4194\n",
        "pickle/HP12_0795.pickle"
       ]
      },
      {
       "output_type": "stream",
       "stream": "stdout",
       "text": [
        "\n",
        "\tP7R42846 --> P86Y4235\n",
        "\tP7R42855 --> P86Y4251\n",
        "pickle/HP12_0796.pickle"
       ]
      },
      {
       "output_type": "stream",
       "stream": "stdout",
       "text": [
        "\n",
        "\tP7R42861G --> P86Y4261\n",
        "\tP7R42866A --> P86Y4269\n",
        "\tP7R42876 --> P86Y4278\n",
        "\tP7R42876G --> P86Y4279\n",
        "pickle/HP12_0797.pickle"
       ]
      },
      {
       "output_type": "stream",
       "stream": "stdout",
       "text": [
        "\n",
        "\tP7R42938AG --> P86Y4364\n",
        "\tP7R42952 --> P86Y4367\n",
        "\tP7R42948H --> P86Y4377\n",
        "\tP7R42948G --> P86Y4378\n",
        "\tP7R42966G --> P86Y4388\n",
        "pickle/HP12_0798.pickle"
       ]
      },
      {
       "output_type": "stream",
       "stream": "stdout",
       "text": [
        "\n",
        "\tP7R42990G --> P86Y4431\n",
        "pickle/HP12_0799.pickle"
       ]
      },
      {
       "output_type": "stream",
       "stream": "stdout",
       "text": [
        "\n",
        "\tP7R43024G --> P86Y4470\n",
        "\tP7R43030G --> P86Y4483\n",
        "\tP7R43038 --> P86Y4489\n",
        "pickle/HP12_0800.pickle"
       ]
      },
      {
       "output_type": "stream",
       "stream": "stdout",
       "text": [
        "\n",
        "pickle/HP12_0801.pickle"
       ]
      },
      {
       "output_type": "stream",
       "stream": "stdout",
       "text": [
        "\n",
        "\tP7R43080AH --> P86Y4563\n",
        "\tP7R43106G --> P86Y4588\n",
        "\tS962-1561 --> P86Y4598\n",
        "pickle/HP12_0802.pickle"
       ]
      },
      {
       "output_type": "stream",
       "stream": "stdout",
       "text": [
        "\n",
        "\tP7R43118HP --> P86Y4608\n",
        "\tP7R43164G --> P86Y4661\n",
        "\tP7R43169 --> P86Y4669\n",
        "\tP7R43176 --> P86Y4680\n",
        "pickle/HP12_0803.pickle"
       ]
      },
      {
       "output_type": "stream",
       "stream": "stdout",
       "text": [
        "\n",
        "\tP7R43177P --> P86Y4683\n",
        "\tP7R43210AG --> P86Y4736\n",
        "\tP7R43239 --> P86Y4743\n",
        "\tP7R43223P --> P86Y4755\n",
        "\tP7R43245AP --> P86Y4785\n",
        "pickle/HP12_0804.pickle"
       ]
      },
      {
       "output_type": "stream",
       "stream": "stdout",
       "text": [
        "\n",
        "\tS907-1460 --> P86Y4812\n",
        "\tP7R43276 --> P86Y4830\n",
        "\tS907-1522 --> P86Y4855\n",
        "\tP7R43304 --> P86Y4863\n",
        "\tP7R43315AG --> P86Y4879\n",
        "pickle/HP12_0805.pickle"
       ]
      },
      {
       "output_type": "stream",
       "stream": "stdout",
       "text": [
        "\n",
        "\tP7R43324 --> P86Y4890\n",
        "\tP7R43336G --> P86Y4910\n",
        "\tP7R43367G --> P86Y4970\n",
        "pickle/HP12_0806.pickle"
       ]
      },
      {
       "output_type": "stream",
       "stream": "stdout",
       "text": [
        "\n",
        "\tP7R43445I --> P86Y5073\n",
        "\tP7R43446 --> P86Y5080\n",
        "\tP7R43457 --> P86Y5093\n",
        "\tP7R43465P --> P86Y5120\n",
        "pickle/HP12_0807.pickle"
       ]
      },
      {
       "output_type": "stream",
       "stream": "stdout",
       "text": [
        "\n",
        "\tP7R43534 --> P86Y5205\n",
        "\tP7R43525 --> P86Y5224\n",
        "\tP7R43537P --> P86Y5242\n",
        "\tP7R43585Q --> P86Y5275\n",
        "pickle/HP12_0808.pickle"
       ]
      },
      {
       "output_type": "stream",
       "stream": "stdout",
       "text": [
        "\n",
        "\tP7R40026 --> P86Y0031\n",
        "\tP7R40071 --> P86Y0107\n",
        "\tS962-1692 --> P86Y0136\n",
        "\tP7R40000B --> P86Y5431\n",
        "pickle/HP12_0809.pickle"
       ]
      },
      {
       "output_type": "stream",
       "stream": "stdout",
       "text": [
        "\n",
        "\tP7R40217 --> P86Y0335\n",
        "pickle/HP12_0810.pickle"
       ]
      },
      {
       "output_type": "stream",
       "stream": "stdout",
       "text": [
        "\n",
        "\tP7R40370 --> P86Y0534\n",
        "\tP7R40347G --> P86Y0542\n",
        "\tP7R40352 --> P86Y0552\n",
        "\tS907-1731 --> P86Y0577\n",
        "\tP7R40378A --> P86Y0579\n",
        "\tS907-1624 --> P86Y0590\n",
        "\tS907-1771 --> P86Y0592\n",
        "\tS907-1702 --> P86Y0607\n",
        "\tP7R40397 --> P86Y0611\n",
        "\tP7R40400 --> P86Y0615\n",
        "\tS907-1553 --> P86Y0623\n",
        "pickle/HP12_0811.pickle"
       ]
      },
      {
       "output_type": "stream",
       "stream": "stdout",
       "text": [
        "\n",
        "\tP7R40503 --> P86Y0768\n",
        "\tP7R40551A --> P86Y0839\n",
        "pickle/HP12_0812.pickle"
       ]
      },
      {
       "output_type": "stream",
       "stream": "stdout",
       "text": [
        "\n",
        "\tSEED-1175 --> P86Y0935\n",
        "\tSEED-931 --> P86Y0938\n",
        "\tP7R40612 --> P86Y0963\n",
        "\tP7R40613A --> P86Y0966\n",
        "\tP7R40613X --> P86Y0971\n",
        "\tP7R40618 --> P86Y0973\n",
        "\tP7R40640G --> P86Y0999\n",
        "pickle/HP12_0813.pickle"
       ]
      },
      {
       "output_type": "stream",
       "stream": "stdout",
       "text": [
        "\n",
        "\tP7R40654G --> P86Y1025\n",
        "\tS962-1488 --> P86Y1097\n",
        "\tP7R40710 --> P86Y1128\n",
        "pickle/HP12_0814.pickle"
       ]
      },
      {
       "output_type": "stream",
       "stream": "stdout",
       "text": [
        "\n",
        "\tP7R40734 --> P86Y1171\n",
        "\tS907-1466 --> P86Y1194\n",
        "\tP7R40757 --> P86Y1209\n",
        "\tS907-1549 --> P86Y1220\n",
        "pickle/HP12_0815.pickle"
       ]
      },
      {
       "output_type": "stream",
       "stream": "stdout",
       "text": [
        "\n",
        "\tS907-1734 --> P86Y1212\n",
        "\tS907-1626 --> P86Y1219\n",
        "\tP7R40796GP --> P86Y1260\n",
        "\tP7R40815 --> P86Y1272\n",
        "\tP7R40814G --> P86Y1275\n",
        "\tS907-1550 --> P86Y1286\n",
        "\tS907-1503 --> P86Y1299\n",
        "\tS907-1397 --> P86Y1309\n",
        "pickle/HP12_0816.pickle"
       ]
      },
      {
       "output_type": "stream",
       "stream": "stdout",
       "text": [
        "\n",
        "\tSEED-969 --> P86Y1287\n",
        "\tS962-1617 --> P86Y1300\n",
        "\tSEED-1313 --> P86Y1303\n",
        "\tS962-1590 --> P86Y1319\n",
        "\tP7R40841 --> P86Y1330\n",
        "\tSEED-926 --> P86Y1348\n",
        "\tS962-1453 --> P86Y1358\n",
        "\tS962-1419 --> P86Y1359\n",
        "\tSEED-914 --> P86Y1371\n",
        "pickle/HP12_0817.pickle"
       ]
      },
      {
       "output_type": "stream",
       "stream": "stdout",
       "text": [
        "\n",
        "\tP7R40869G --> P86Y1373\n",
        "\tP7R40886 --> P86Y1407\n",
        "\tS962-1591 --> P86Y1419\n",
        "\tP7R40893 --> P86Y1421\n",
        "\tS962-1493 --> P86Y1425\n",
        "pickle/HP12_0818.pickle"
       ]
      },
      {
       "output_type": "stream",
       "stream": "stdout",
       "text": [
        "\n",
        "\tP7R40908P --> P86Y1452\n",
        "pickle/HP12_0819.pickle"
       ]
      },
      {
       "output_type": "stream",
       "stream": "stdout",
       "text": [
        "\n",
        "\tP7R40928A --> P86Y1485\n",
        "\tP7R40932 --> P86Y1489\n",
        "pickle/HP12_0820.pickle"
       ]
      },
      {
       "output_type": "stream",
       "stream": "stdout",
       "text": [
        "\n",
        "\tS907-1435 --> P86Y1578\n",
        "pickle/HP12_0821.pickle"
       ]
      },
      {
       "output_type": "stream",
       "stream": "stdout",
       "text": [
        "\n",
        "\tSEED-1246 --> P86Y1566\n",
        "\tP7R40989G --> P86Y1574\n",
        "\tP7R40999 --> P86Y1592\n",
        "pickle/HP12_0822.pickle"
       ]
      },
      {
       "output_type": "stream",
       "stream": "stdout",
       "text": [
        "\n",
        "\tP7R41021 --> P86Y1625\n",
        "\tP7R41034 --> P86Y1657\n",
        "pickle/HP12_0823.pickle"
       ]
      },
      {
       "output_type": "stream",
       "stream": "stdout",
       "text": [
        "\n",
        "\tSEED-1247 --> P86Y1663\n",
        "\tP7R41083 --> P86Y1723\n",
        "pickle/HP12_0824.pickle"
       ]
      },
      {
       "output_type": "stream",
       "stream": "stdout",
       "text": [
        "\n",
        "\tP7R41086 --> P86Y1727\n",
        "\tP7R41116 --> P86Y1772\n",
        "pickle/HP12_0825.pickle"
       ]
      },
      {
       "output_type": "stream",
       "stream": "stdout",
       "text": [
        "\n",
        "\tS907-1580 --> P86Y1806\n",
        "\tS962-1469 --> P86Y1827\n",
        "pickle/HP12_0826.pickle"
       ]
      },
      {
       "output_type": "stream",
       "stream": "stdout",
       "text": [
        "\n",
        "\tP7R41175 --> P86Y1866\n",
        "\tP7R41210 --> P86Y1923\n",
        "pickle/HP12_0827.pickle"
       ]
      },
      {
       "output_type": "stream",
       "stream": "stdout",
       "text": [
        "\n",
        "\tP7R41235AG --> P86Y1966\n",
        "\tP7R41252 --> P86Y1994\n",
        "pickle/HP12_0828.pickle"
       ]
      },
      {
       "output_type": "stream",
       "stream": "stdout",
       "text": [
        "\n",
        "\tP7R41296 --> P86Y2064\n",
        "\tP7R41344H --> P86Y2140\n",
        "pickle/HP12_0829.pickle"
       ]
      },
      {
       "output_type": "stream",
       "stream": "stdout",
       "text": [
        "\n",
        "\tS907-1708 --> P86Y2161\n",
        "\tP7R41374 --> P86Y2192\n",
        "\tS962-1669 --> P86Y2214\n",
        "\tP7R41403G --> P86Y2230\n",
        "\tP7R41402P --> P86Y2239\n",
        "pickle/HP12_0830.pickle"
       ]
      },
      {
       "output_type": "stream",
       "stream": "stdout",
       "text": [
        "\n",
        "\tP7R41491P --> P86Y2363\n",
        "\tP7R41506 --> P86Y2377\n",
        "\tS907-1596 --> P86Y2438\n",
        "pickle/HP12_0831.pickle"
       ]
      },
      {
       "output_type": "stream",
       "stream": "stdout",
       "text": [
        "\n",
        "\tP7R41638G --> P86Y2570\n",
        "\tP7R41640G --> P86Y2579\n",
        "pickle/HP12_0832.pickle"
       ]
      },
      {
       "output_type": "stream",
       "stream": "stdout",
       "text": [
        "\n",
        "\tP7R41829 --> P86Y2842\n",
        "pickle/HP12_0833.pickle"
       ]
      },
      {
       "output_type": "stream",
       "stream": "stdout",
       "text": [
        "\n",
        "\tP7R41986 --> P86Y3038\n",
        "pickle/HP12_0834.pickle"
       ]
      },
      {
       "output_type": "stream",
       "stream": "stdout",
       "text": [
        "\n",
        "\tP7R42073G --> P86Y3176\n",
        "\tP7R42095 --> P86Y3198\n",
        "\tP7R42116 --> P86Y3220\n",
        "\tS962-1530 --> P86Y3252\n",
        "pickle/HP12_0835.pickle"
       ]
      },
      {
       "output_type": "stream",
       "stream": "stdout",
       "text": [
        "\n",
        "\tP7R42198G --> P86Y3366\n",
        "\tP7R42246 --> P86Y3422\n",
        "\tP7R42268 --> P86Y3454\n",
        "pickle/HP12_0836.pickle"
       ]
      },
      {
       "output_type": "stream",
       "stream": "stdout",
       "text": [
        "\n",
        "\tP7R42307 --> P86Y3515\n",
        "\tP7R42337G --> P86Y3550\n",
        "\tP7R42343G --> P86Y3552\n",
        "\tP7R42390 --> P86Y3627\n",
        "pickle/HP12_0837.pickle"
       ]
      },
      {
       "output_type": "stream",
       "stream": "stdout",
       "text": [
        "\n",
        "\tP7R42451 --> P86Y3710\n",
        "\tP7R42439G --> P86Y3712\n",
        "\tP7R42465 --> P86Y3727\n",
        "pickle/HP12_0838.pickle"
       ]
      },
      {
       "output_type": "stream",
       "stream": "stdout",
       "text": [
        "\n",
        "\tP7R42547GP --> P86Y3836\n",
        "\tP7R42555 --> P86Y3845\n",
        "\tP7R42566 --> P86Y3862\n",
        "pickle/HP12_0839.pickle"
       ]
      },
      {
       "output_type": "stream",
       "stream": "stdout",
       "text": [
        "\n",
        "\tP7R42607 --> P86Y3918\n",
        "\tP7R42620 --> P86Y3935\n",
        "\tP7R42623 --> P86Y3937\n",
        "\tP7R42633H --> P86Y3951\n",
        "pickle/HP12_0840.pickle"
       ]
      },
      {
       "output_type": "stream",
       "stream": "stdout",
       "text": [
        "\n",
        "\tP7R42712P --> P86Y4056\n",
        "\tP7R42712H --> P86Y4060\n",
        "\tP7R42722 --> P86Y4069\n",
        "\tP7R42728 --> P86Y4073\n",
        "\tP7R42730 --> P86Y4078\n",
        "\tP7R42734 --> P86Y4082\n",
        "\tP7R42747 --> P86Y4099\n",
        "\tP7R42760 --> P86Y4115\n",
        "\tP7R42758 --> P86Y4119\n",
        "\tP7R42767 --> P86Y4125\n",
        "\tP7R42773H --> P86Y4136\n",
        "pickle/HP12_0841.pickle"
       ]
      },
      {
       "output_type": "stream",
       "stream": "stdout",
       "text": [
        "\n",
        "\tP7R42803 --> P86Y4159\n",
        "\tP7R42797G --> P86Y4161\n",
        "\tP7R42801A --> P86Y4168\n",
        "\tP7R42804G --> P86Y4172\n",
        "\tP7R42810AG --> P86Y4178\n",
        "\tP7R42813 --> P86Y4184\n",
        "\tP7R42819G --> P86Y4202\n",
        "\tP7R42828G --> P86Y4207\n",
        "pickle/HP12_0842.pickle"
       ]
      },
      {
       "output_type": "stream",
       "stream": "stdout",
       "text": [
        "\n",
        "\tP7R42821 --> P86Y4193\n",
        "\tP7R42829 --> P86Y4206\n",
        "\tP7R42821G --> P86Y4208\n",
        "\tP7R42828GP --> P86Y4212\n",
        "\tP7R42830BG --> P86Y4213\n",
        "\tP7R42830AH --> P86Y4222\n",
        "\tP7R42837 --> P86Y4226\n",
        "\tP7R42851 --> P86Y4246\n",
        "\tP7R42865G --> P86Y4258\n",
        "pickle/HP12_0843.pickle"
       ]
      },
      {
       "output_type": "stream",
       "stream": "stdout",
       "text": [
        "\n",
        "\tP7R42881G --> P86Y4286\n",
        "\tP7R42883 --> P86Y4289\n",
        "\tP7R42886 --> P86Y4290\n",
        "\tP7R42885 --> P86Y4291\n",
        "\tP7R42894P --> P86Y4304\n",
        "\tP7R42901 --> P86Y4312\n",
        "\tP7R42896 --> P86Y4314\n",
        "\tP7R42904 --> P86Y4315\n",
        "\tP7R42906P --> P86Y4320\n",
        "\tP7R42912 --> P86Y4328\n",
        "\tP7R42913 --> P86Y4332\n",
        "\tP7R42918 --> P86Y4335\n",
        "pickle/HP12_0844.pickle"
       ]
      },
      {
       "output_type": "stream",
       "stream": "stdout",
       "text": [
        "\n",
        "\tP7R42927 --> P86Y4346\n",
        "\tP7R42931 --> P86Y4349\n",
        "\tP7R42934 --> P86Y4355\n",
        "\tP7R42938 --> P86Y4360\n",
        "\tP7R42942 --> P86Y4370\n",
        "\tP7R42943 --> P86Y4372\n",
        "\tP7R42955 --> P86Y4384\n",
        "\tP7R42956 --> P86Y4386\n",
        "\tP7R42958 --> P86Y4387\n",
        "\tP7R42955G --> P86Y4390\n",
        "\tP7R42958A --> P86Y4399\n",
        "pickle/HP12_0845.pickle"
       ]
      },
      {
       "output_type": "stream",
       "stream": "stdout",
       "text": [
        "\n",
        "\tP7R42969G --> P86Y4404\n",
        "\tP7R42958AH --> P86Y4407\n",
        "\tP7R42974P --> P86Y4410\n",
        "\tP7R42995 --> P86Y4440\n",
        "pickle/HP12_0846.pickle"
       ]
      },
      {
       "output_type": "stream",
       "stream": "stdout",
       "text": [
        "\n",
        "\tP7R43011C --> P86Y4456\n",
        "\tP7R43023 --> P86Y4468\n",
        "\tP7R43023X --> P86Y4475\n",
        "\tP7R43037H --> P86Y4493\n",
        "\tP7R43038P --> P86Y4494\n",
        "pickle/HP12_0847.pickle"
       ]
      },
      {
       "output_type": "stream",
       "stream": "stdout",
       "text": [
        "\n",
        "\tP7R43041G --> P86Y4498\n",
        "\tP7R43042 --> P86Y4500\n",
        "\tP7R43053P --> P86Y4516\n",
        "\tSEED-1600 --> P86Y4542\n",
        "pickle/HP12_0848.pickle"
       ]
      },
      {
       "output_type": "stream",
       "stream": "stdout",
       "text": [
        "\n",
        "\tP7R43069 --> P86Y4538\n",
        "\tP7R43078 --> P86Y4557\n",
        "\tP7R43083 --> P86Y4567\n",
        "\tP7R43092 --> P86Y4579\n",
        "pickle/HP12_0849.pickle"
       ]
      },
      {
       "output_type": "stream",
       "stream": "stdout",
       "text": [
        "\n",
        "\tP7R43120 --> P86Y4607\n",
        "\tP7R43136 --> P86Y4627\n",
        "\tP7R43137G --> P86Y4632\n",
        "\tP7R43150G --> P86Y4650\n",
        "pickle/HP12_0850.pickle"
       ]
      },
      {
       "output_type": "stream",
       "stream": "stdout",
       "text": [
        "\n",
        "\tP7R43186F --> P86Y4687\n",
        "\tP7R43179G --> P86Y4691\n",
        "\tP7R43184P --> P86Y4697\n",
        "\tP7R43195G --> P86Y4706\n",
        "\tP7R43181 --> P86Y4711\n",
        "\tP7R43197G --> P86Y4713\n",
        "\tP7R43210A --> P86Y4733\n",
        "\tP7R43210 --> P86Y4734\n",
        "\tP7R43214P --> P86Y4738\n",
        "\tP7R43222G --> P86Y4739\n",
        "\tP7R43224G --> P86Y4754\n",
        "\tP7R43226 --> P86Y4757\n",
        "\tP7R43227 --> P86Y4766\n",
        "\tP7R43236 --> P86Y4768\n",
        "\tP7R43245G --> P86Y4780\n",
        "pickle/HP12_0851.pickle"
       ]
      },
      {
       "output_type": "stream",
       "stream": "stdout",
       "text": [
        "\n",
        "\tP7R43256A --> P86Y4801\n",
        "\tP7R43266AG --> P86Y4807\n",
        "\tP7R43291 --> P86Y4831\n",
        "\tP7R43288 --> P86Y4843\n",
        "\tP7R43289 --> P86Y4844\n",
        "pickle/HP12_0852.pickle"
       ]
      },
      {
       "output_type": "stream",
       "stream": "stdout",
       "text": [
        "\n",
        "\tP7R43321 --> P86Y4886\n",
        "\tP7R43319G --> P86Y4907\n",
        "pickle/HP12_0853.pickle"
       ]
      },
      {
       "output_type": "stream",
       "stream": "stdout",
       "text": [
        "\n",
        "\tS962-1690 --> P86Y5031\n",
        "\tS962-1755 --> P86Y5097\n",
        "\tS962-1960 --> P86Y5103\n",
        "\tS962-2114 --> P86Y5117\n",
        "pickle/HP12_0854.pickle"
       ]
      },
      {
       "output_type": "stream",
       "stream": "stdout",
       "text": [
        "\n",
        "\tS907-1923 --> P86Y5178\n",
        "\tP7R43527 --> P86Y5200\n",
        "\tP7R43550G --> P86Y5228\n",
        "\tP7R43557 --> P86Y5241\n",
        "\tS907-2110 --> P86Y5243\n",
        "\tS907-1924 --> P86Y5251\n",
        "\tP7R43585P --> P86Y5268\n",
        "\tP7R43547 --> P86Y5270\n",
        "\tS907-1845 --> P86Y5278\n",
        "pickle/HP12_0855.pickle"
       ]
      },
      {
       "output_type": "stream",
       "stream": "stdout",
       "text": [
        "\n",
        "\tP7R40000AG --> P86Y0001\n",
        "\tP7R40041 --> P86Y0068\n",
        "\tP7R43625 --> P86Y5333\n",
        "pickle/HP12_0856.pickle"
       ]
      },
      {
       "output_type": "stream",
       "stream": "stdout",
       "text": [
        "\n",
        "\tP7R40099 --> P86Y0154\n",
        "\tP7R40132 --> P86Y0206\n",
        "\tSEED-1572 --> P86Y0209\n",
        "\tSEED-1390 --> P86Y0220\n",
        "\tP7R40169 --> P86Y0260\n",
        "\tP7R40182G --> P86Y0285\n",
        "pickle/HP12_0857.pickle"
       ]
      },
      {
       "output_type": "stream",
       "stream": "stdout",
       "text": [
        "\n",
        "\tP7R40335 --> P86Y0512\n",
        "\tP7R40338P --> P86Y0514\n",
        "\tP7R40357 --> P86Y0523\n",
        "\tP7R40336G --> P86Y0525\n",
        "\tP7R40338A --> P86Y0532\n",
        "\tP7R40346 --> P86Y0537\n",
        "\tP7R40354G --> P86Y0556\n",
        "pickle/HP12_0858.pickle"
       ]
      },
      {
       "output_type": "stream",
       "stream": "stdout",
       "text": [
        "\n",
        "\tSEED-1402 --> P86Y0612\n",
        "\tP7R40420 --> P86Y0648\n",
        "\tP7R40457G --> P86Y0703\n",
        "pickle/HP12_0859.pickle"
       ]
      },
      {
       "output_type": "stream",
       "stream": "stdout",
       "text": [
        "\n",
        "\tP7R40506G --> P86Y0781\n",
        "\tP7R40534 --> P86Y0815\n",
        "\tP7R40560 --> P86Y0858\n",
        "\tS907-1778 --> P86Y0897\n",
        "pickle/HP12_0860.pickle"
       ]
      },
      {
       "output_type": "stream",
       "stream": "stdout",
       "text": [
        "\n",
        "\tP7R40571 --> P86Y0909\n",
        "\tP7R40591G --> P86Y0915\n",
        "\tP7R40591P --> P86Y0920\n",
        "\tP7R40591AP --> P86Y0924\n",
        "pickle/HP12_0861.pickle"
       ]
      },
      {
       "output_type": "stream",
       "stream": "stdout",
       "text": [
        "\n",
        "\tP7R40699A --> P86Y1114\n",
        "pickle/HP12_0862.pickle"
       ]
      },
      {
       "output_type": "stream",
       "stream": "stdout",
       "text": [
        "\n",
        "\tP7R40725 --> P86Y1152\n",
        "\tS907-1662 --> P86Y1214\n",
        "pickle/HP12_0863.pickle"
       ]
      },
      {
       "output_type": "stream",
       "stream": "stdout",
       "text": [
        "\n",
        "\tP7R40777G --> P86Y1231\n",
        "\tP7R40791H --> P86Y1255\n",
        "pickle/HP12_0864.pickle"
       ]
      },
      {
       "output_type": "stream",
       "stream": "stdout",
       "text": [
        "\n",
        "\tP7R40827G --> P86Y1301\n",
        "\tS962-2214 --> P86Y1302\n",
        "\tP7R40846G --> P86Y1343\n",
        "pickle/HP12_0865.pickle"
       ]
      },
      {
       "output_type": "stream",
       "stream": "stdout",
       "text": [
        "\n",
        "\tP7R40849H --> P86Y1349\n",
        "\tP7R40856A --> P86Y1360\n",
        "\tS907-2217 --> P86Y1365\n",
        "\tP7R40870 --> P86Y1367\n",
        "\tS907-2046 --> P86Y1376\n",
        "\tP7R40873 --> P86Y1379\n",
        "\tP7R40870P --> P86Y1380\n",
        "\tP7R40875AG --> P86Y1385\n",
        "\tP7R40879G --> P86Y1392\n",
        "\tS907-1694 --> P86Y1395\n",
        "\tS907-1865 --> P86Y1399\n",
        "\tS907-2047 --> P86Y1404\n",
        "\tS962-1705 --> P86Y1406\n",
        "pickle/HP12_0866.pickle"
       ]
      },
      {
       "output_type": "stream",
       "stream": "stdout",
       "text": [
        "\n",
        "pickle/HP12_0867.pickle"
       ]
      },
      {
       "output_type": "stream",
       "stream": "stdout",
       "text": [
        "\n",
        "\tP7R40919 --> P86Y1464\n",
        "\tP7R40925AP --> P86Y1472\n",
        "\tP7R40928AP --> P86Y1484\n",
        "\tS907-1817 --> P86Y1488\n",
        "pickle/HP12_0868.pickle"
       ]
      },
      {
       "output_type": "stream",
       "stream": "stdout",
       "text": [
        "\n",
        "\tS962-2038 --> P86Y1495\n",
        "\tP7R40944 --> P86Y1504\n",
        "\tS962-1822 --> P86Y1538\n",
        "\tP7R40968 --> P86Y1542\n",
        "\tS907-1757 --> P86Y1551\n",
        "\tS962-1813 --> P86Y1553\n",
        "pickle/HP12_0869.pickle"
       ]
      },
      {
       "output_type": "stream",
       "stream": "stdout",
       "text": [
        "\n",
        "\tP7R40976P --> P86Y1562\n",
        "pickle/HP12_0870.pickle"
       ]
      },
      {
       "output_type": "stream",
       "stream": "stdout",
       "text": [
        "\n",
        "\tSEED-986 --> P86Y1589\n",
        "\tSEED-1703 --> P86Y1590\n",
        "\tP7R41005P --> P86Y1604\n",
        "\tP7R41025AG --> P86Y1635\n",
        "pickle/HP12_0871.pickle"
       ]
      },
      {
       "output_type": "stream",
       "stream": "stdout",
       "text": [
        "\n",
        "\tP7R41032 --> P86Y1652\n",
        "\tP7R41038P --> P86Y1660\n",
        "\tS907-1758 --> P86Y1698\n",
        "pickle/HP12_0872.pickle"
       ]
      },
      {
       "output_type": "stream",
       "stream": "stdout",
       "text": [
        "\n",
        "\tP7R41067 --> P86Y1704\n",
        "\tP7R41070H --> P86Y1708\n",
        "\tS907-2144 --> P86Y1734\n",
        "\tP7R41096G --> P86Y1747\n",
        "\tS907-1867 --> P86Y1749\n",
        "\tS907-1831 --> P86Y1776\n",
        "\tSEED-1148 --> P86Y1783\n",
        "pickle/HP12_0873.pickle"
       ]
      },
      {
       "output_type": "stream",
       "stream": "stdout",
       "text": [
        "\n",
        "pickle/HP12_0874.pickle"
       ]
      },
      {
       "output_type": "stream",
       "stream": "stdout",
       "text": [
        "\n",
        "\tP7R41180AH --> P86Y1873\n",
        "\tP7R41198P --> P86Y1906\n",
        "\tP7R41204P --> P86Y1914\n",
        "\tP7R41206G --> P86Y1922\n",
        "pickle/HP12_0875.pickle"
       ]
      },
      {
       "output_type": "stream",
       "stream": "stdout",
       "text": [
        "\n",
        "\tP7R41215G --> P86Y1928\n",
        "\tP7R41228 --> P86Y1940\n",
        "\tP7R41222 --> P86Y1946\n",
        "\tP7R41240AG --> P86Y1972\n",
        "\tP7R41242 --> P86Y1980\n",
        "\tP7R41255H --> P86Y1996\n",
        "\tP7R41255G --> P86Y1998\n",
        "\tP7R41251 --> P86Y2000\n",
        "\tP7R41260 --> P86Y2009\n",
        "\tP7R41264 --> P86Y2010\n",
        "\tP7R41277 --> P86Y2019\n",
        "\tP7R41278G --> P86Y2031\n",
        "pickle/HP12_0876.pickle"
       ]
      },
      {
       "output_type": "stream",
       "stream": "stdout",
       "text": [
        "\n",
        "\tP7R41296BP --> P86Y2037\n",
        "\tS962-1903 --> P86Y2056\n",
        "\tP7R41302AP --> P86Y2075\n",
        "\tP7R41318G --> P86Y2092\n",
        "\tP7R41325G --> P86Y2104\n",
        "\tS962-1885 --> P86Y2129\n",
        "\tSEED-1547 --> P86Y2130\n",
        "pickle/HP12_0877.pickle"
       ]
      },
      {
       "output_type": "stream",
       "stream": "stdout",
       "text": [
        "\n",
        "\tP7R41399G --> P86Y2237\n",
        "\tP7R41401 --> P86Y2241\n",
        "\tP7R41410P --> P86Y2248\n",
        "\tP7R41414A --> P86Y2261\n",
        "\tP7R41425G --> P86Y2267\n",
        "\tP7R41433GP --> P86Y2282\n",
        "\tP7R41454P --> P86Y2316\n",
        "\tP7R41461 --> P86Y2320\n",
        "\tP7R41458G --> P86Y2335\n",
        "pickle/HP12_0878.pickle"
       ]
      },
      {
       "output_type": "stream",
       "stream": "stdout",
       "text": [
        "\n",
        "\t"
       ]
      },
      {
       "output_type": "stream",
       "stream": "stdout",
       "text": [
        "S907-2137 --> P86Y2366\n",
        "\tP7R41504 --> P86Y2376\n",
        "\tP7R41500G --> P86Y2381\n",
        "\tP7R41513 --> P86Y2382\n",
        "\tP7R41510G --> P86Y2385\n",
        "\tP7R41518P --> P86Y2397\n",
        "\tP7R41520 --> P86Y2399\n",
        "\tP7R41523 --> P86Y2403\n",
        "\tS907-2115 --> P86Y2406\n",
        "\tP7R41518AG --> P86Y2410\n",
        "\tP7R41527 --> P86Y2413\n",
        "\tP7R41530 --> P86Y2416\n",
        "\tP7R41533 --> P86Y2420\n",
        "\tS907-1885 --> P86Y2437\n",
        "\tP7R41553G --> P86Y2444\n",
        "\tS907-2288 --> P86Y2453\n",
        "\tP7R41567 --> P86Y2460\n",
        "\tP7R41573GP --> P86Y2468\n",
        "\tP7R41576 --> P86Y2471\n",
        "\tS907-1931 --> P86Y2501\n",
        "\tP7R41602 --> P86Y2517\n",
        "\tP7R41625 --> P86Y2527\n",
        "\tS907-1899 --> P86Y2532\n",
        "pickle/HP12_0879.pickle"
       ]
      },
      {
       "output_type": "stream",
       "stream": "stdout",
       "text": [
        "\n",
        "\tP7R41674 --> P86Y2621\n",
        "\tP7R41706P --> P86Y2657\n",
        "\tP7R41697 --> P86Y2662\n",
        "\tP7R41731 --> P86Y2708\n",
        "\tP7R41745 --> P86Y2727\n",
        "\tP7R41758 --> P86Y2746\n",
        "\tP7R41759 --> P86Y2753\n",
        "pickle/HP12_0880.pickle"
       ]
      },
      {
       "output_type": "stream",
       "stream": "stdout",
       "text": [
        "\n",
        "\tP7R41833 --> P86Y2846\n",
        "\tP7R41851 --> P86Y2870\n",
        "\tP7R41887 --> P86Y2913\n",
        "\tP7R41918G --> P86Y2952\n",
        "\tP7R41919 --> P86Y2955\n",
        "\tP7R41936CG --> P86Y2969\n",
        "\tP7R41950 --> P86Y2996\n",
        "pickle/HP12_0881.pickle"
       ]
      },
      {
       "output_type": "stream",
       "stream": "stdout",
       "text": [
        "\n",
        "\tP7R42029A --> P86Y3103\n",
        "\tP7R42034 --> P86Y3112\n",
        "\tP7R42040 --> P86Y3123\n",
        "\tP7R42061 --> P86Y3154\n",
        "\tP7R42079 --> P86Y3178\n",
        "pickle/HP12_0882.pickle"
       ]
      },
      {
       "output_type": "stream",
       "stream": "stdout",
       "text": [
        "\n",
        "\tP7R42170 --> P86Y3314\n",
        "\tP7R42180 --> P86Y3323\n",
        "\tP7R42182 --> P86Y3334\n",
        "\tP7R42197P --> P86Y3362\n",
        "\tP7R42213 --> P86Y3381\n",
        "\tP7R42239 --> P86Y3409\n",
        "pickle/HP12_0883.pickle"
       ]
      },
      {
       "output_type": "stream",
       "stream": "stdout",
       "text": [
        "\n",
        "\tP7R42299 --> P86Y3506\n",
        "\tP7R42351 --> P86Y3554\n",
        "\tP7R42359 --> P86Y3571\n",
        "\tP7R42353 --> P86Y3573\n",
        "\tP7R42367GP --> P86Y3582\n",
        "\tP7R42371 --> P86Y3585\n",
        "\tP7R42348H --> P86Y3587\n",
        "\tP7R42361G --> P86Y3598\n",
        "pickle/HP12_0884.pickle"
       ]
      },
      {
       "output_type": "stream",
       "stream": "stdout",
       "text": [
        "\n",
        "\tP7R42391 --> P86Y3646\n",
        "\tP7R42409 --> P86Y3663\n",
        "\tP7R42423P --> P86Y3682\n",
        "\tP7R42426 --> P86Y3683\n",
        "\tP7R42426G --> P86Y3684\n",
        "\tP7R42450G --> P86Y3706\n",
        "\tP7R42464 --> P86Y3728\n",
        "\tP7R42481 --> P86Y3740\n",
        "\tP7R42486P --> P86Y3754\n",
        "\tP7R42488 --> P86Y3755\n",
        "pickle/HP12_0885.pickle"
       ]
      },
      {
       "output_type": "stream",
       "stream": "stdout",
       "text": [
        "\n",
        "\tP7R42496G --> P86Y3763\n",
        "\tP7R42504 --> P86Y3773\n",
        "\tP7R42507G --> P86Y3776\n",
        "\tP7R42537H --> P86Y3818\n",
        "\tP7R42532A --> P86Y3820\n",
        "\tP7R42541 --> P86Y3824\n",
        "\tP7R42545A --> P86Y3832\n",
        "\tP7R42574H --> P86Y3889\n",
        "pickle/HP12_0886.pickle"
       ]
      },
      {
       "output_type": "stream",
       "stream": "stdout",
       "text": [
        "\n",
        "\tP7R42606A --> P86Y3916\n",
        "\tP7R42612 --> P86Y3919\n",
        "\tP7R42622 --> P86Y3936\n",
        "\tP7R42633I --> P86Y3950\n",
        "\tP7R42632AG --> P86Y3959\n",
        "pickle/HP12_0887.pickle"
       ]
      },
      {
       "output_type": "stream",
       "stream": "stdout",
       "text": [
        "\n",
        "\tP7R42669 --> P86Y4000\n",
        "\tP7R42683G --> P86Y4020\n",
        "\tP7R42696 --> P86Y4041\n",
        "\tP7R42692G --> P86Y4043\n",
        "\tP7R42708 --> P86Y4046\n",
        "\tP7R42717 --> P86Y4055\n",
        "\tP7R42712I --> P86Y4059\n",
        "\tP7R42714A --> P86Y4062\n",
        "pickle/HP12_0888.pickle"
       ]
      },
      {
       "output_type": "stream",
       "stream": "stdout",
       "text": [
        "\n",
        "\tP7R42735 --> P86Y4067\n",
        "\tP7R42737A --> P86Y4080\n",
        "\tP7R42738G --> P86Y4088\n",
        "\tP7R42739 --> P86Y4089\n",
        "\tP7R42747G --> P86Y4097\n",
        "\tP7R42746 --> P86Y4104\n",
        "\tP7R42756G --> P86Y4111\n",
        "\tP7R42757 --> P86Y4120\n",
        "\tP7R42771 --> P86Y4131\n",
        "pickle/HP12_0889.pickle"
       ]
      },
      {
       "output_type": "stream",
       "stream": "stdout",
       "text": [
        "\n",
        "\tP7R42783G --> P86Y4146\n",
        "\tP7R42813G --> P86Y4188\n",
        "\tP7R42830AG --> P86Y4220\n",
        "pickle/HP12_0890.pickle"
       ]
      },
      {
       "output_type": "stream",
       "stream": "stdout",
       "text": [
        "\n",
        "\tP7R42830BP --> P86Y4218\n",
        "\tP7R42858G --> P86Y4257\n",
        "\tP7R42870 --> P86Y4271\n",
        "pickle/HP12_0891.pickle"
       ]
      },
      {
       "output_type": "stream",
       "stream": "stdout",
       "text": [
        "\n",
        "\tP7R42918H --> P86Y4329\n",
        "\tP7R42921G --> P86Y4339\n",
        "pickle/HP12_0892.pickle"
       ]
      },
      {
       "output_type": "stream",
       "stream": "stdout",
       "text": [
        "\n",
        "\tP7R42972 --> P86Y4406\n",
        "pickle/HP12_0893.pickle"
       ]
      },
      {
       "output_type": "stream",
       "stream": "stdout",
       "text": [
        "\n",
        "\tP7R42969 --> P86Y4401\n",
        "\tP7R42978H --> P86Y4415\n",
        "\tP7R43000G --> P86Y4442\n",
        "\tP7R43023A --> P86Y4472\n",
        "pickle/HP12_0894.pickle"
       ]
      },
      {
       "output_type": "stream",
       "stream": "stdout",
       "text": [
        "\n",
        "\tP7R43011G --> P86Y4449\n",
        "\tP7R43022 --> P86Y4465\n",
        "\tP7R43044 --> P86Y4505\n",
        "\tP7R43048 --> P86Y4510\n",
        "pickle/HP12_0895.pickle"
       ]
      },
      {
       "output_type": "stream",
       "stream": "stdout",
       "text": [
        "\n",
        "\tP7R43042AG --> P86Y4507\n",
        "pickle/HP12_0896.pickle"
       ]
      },
      {
       "output_type": "stream",
       "stream": "stdout",
       "text": [
        "\n",
        "\tP7R43077G --> P86Y4545\n",
        "\tP7R43085 --> P86Y4570\n",
        "\tP7R43116G --> P86Y4605\n",
        "pickle/HP12_0897.pickle"
       ]
      },
      {
       "output_type": "stream",
       "stream": "stdout",
       "text": [
        "\n",
        "\tP7R43150 --> P86Y4654\n",
        "\tP7R43175G --> P86Y4679\n",
        "pickle/HP12_0898.pickle"
       ]
      },
      {
       "output_type": "stream",
       "stream": "stdout",
       "text": [
        "\n",
        "\tP7R43184 --> P86Y4696\n",
        "\tP7R43192 --> P86Y4705\n",
        "\tP7R43217 --> P86Y4745\n",
        "pickle/HP12_0899.pickle"
       ]
      },
      {
       "output_type": "stream",
       "stream": "stdout",
       "text": [
        "\n",
        "\tP7R43310 --> P86Y4871\n",
        "pickle/HP12_0900.pickle"
       ]
      },
      {
       "output_type": "stream",
       "stream": "stdout",
       "text": [
        "\n",
        "\tP7R43331 --> P86Y4896\n",
        "pickle/HP12_0901.pickle"
       ]
      },
      {
       "output_type": "stream",
       "stream": "stdout",
       "text": [
        "\n",
        "\tP7R43432A --> P86Y5050\n",
        "pickle/HP12_0902.pickle"
       ]
      },
      {
       "output_type": "stream",
       "stream": "stdout",
       "text": [
        "\n",
        "pickle/HP12_0903.pickle"
       ]
      },
      {
       "output_type": "stream",
       "stream": "stdout",
       "text": [
        "\n",
        "\tP7R43604 --> P86Y5303\n",
        "pickle/HP12_0904.pickle"
       ]
      },
      {
       "output_type": "stream",
       "stream": "stdout",
       "text": [
        "\n",
        "\tP7R40041P --> P86Y0065\n",
        "\tP7R40093 --> P86Y0142\n",
        "\tP7R40099AG --> P86Y0159\n",
        "pickle/HP12_0905.pickle"
       ]
      },
      {
       "output_type": "stream",
       "stream": "stdout",
       "text": [
        "\n",
        "\tS962-2106 --> P86Y0317\n",
        "\tP7R40214 --> P86Y0324\n",
        "\tP7R40221 --> P86Y0344\n",
        "\tP7R40227G --> P86Y0354\n",
        "\tP7R40235 --> P86Y0369\n",
        "pickle/HP12_0906.pickle"
       ]
      },
      {
       "output_type": "stream",
       "stream": "stdout",
       "text": [
        "\n",
        "\tP7R40375P --> P86Y0575\n",
        "\tP7R40383A --> P86Y0589\n",
        "pickle/HP12_0907.pickle"
       ]
      },
      {
       "output_type": "stream",
       "stream": "stdout",
       "text": [
        "\n",
        "\tP7R40443G --> P86Y0684\n",
        "pickle/HP12_0908.pickle"
       ]
      },
      {
       "output_type": "stream",
       "stream": "stdout",
       "text": [
        "\n",
        "\tP7R40574AG --> P86Y0884\n",
        "pickle/HP12_0909.pickle"
       ]
      },
      {
       "output_type": "stream",
       "stream": "stdout",
       "text": [
        "\n",
        "\tSEED-1762 --> P86Y0936\n",
        "\tS962-2356 --> P86Y0946\n",
        "\tS962-2213 --> P86Y0974\n",
        "\tP7R40634G --> P86Y0994\n",
        "\tS962-2263 --> P86Y1003\n",
        "pickle/HP12_0910.pickle"
       ]
      },
      {
       "output_type": "stream",
       "stream": "stdout",
       "text": [
        "\n",
        "pickle/HP12_0911.pickle"
       ]
      },
      {
       "output_type": "stream",
       "stream": "stdout",
       "text": [
        "\n",
        "\tP7R40696 --> P86Y1108\n",
        "\tP7R40706G --> P86Y1122\n",
        "\tS907-2399 --> P86Y1149\n",
        "\tP7R40738AG --> P86Y1179\n",
        "\tP7R40751 --> P86Y1189\n",
        "\tS907-2055 --> P86Y1199\n",
        "pickle/HP12_0912.pickle"
       ]
      },
      {
       "output_type": "stream",
       "stream": "stdout",
       "text": [
        "\n",
        "\tS962-2506 --> P86Y1192\n",
        "\tP7R40752 --> P86Y1195\n",
        "\tSEED-1647 --> P86Y1202\n",
        "\tP7R40799A --> P86Y1258\n",
        "\tP7R40820G --> P86Y1274\n",
        "pickle/HP12_0913.pickle"
       ]
      },
      {
       "output_type": "stream",
       "stream": "stdout",
       "text": [
        "\n",
        "\tP7R40823P --> P86Y1257\n",
        "pickle/HP12_0914.pickle"
       ]
      },
      {
       "output_type": "stream",
       "stream": "stdout",
       "text": [
        "\n",
        "\tS907-2498 --> P86Y1335\n",
        "\tS907-2433 --> P86Y1375\n",
        "\tS962-2346 --> P86Y1400\n",
        "\tP7R40881G --> P86Y1410\n",
        "pickle/HP12_0915.pickle"
       ]
      },
      {
       "output_type": "stream",
       "stream": "stdout",
       "text": [
        "\n",
        "\tP7R40905G --> P86Y1440\n",
        "pickle/HP12_0916.pickle"
       ]
      },
      {
       "output_type": "stream",
       "stream": "stdout",
       "text": [
        "\n",
        "\tSEED-1534 --> P86Y1483\n",
        "pickle/HP12_0917.pickle"
       ]
      },
      {
       "output_type": "stream",
       "stream": "stdout",
       "text": [
        "\n",
        "\tP7R40928C --> P86Y1486\n",
        "\tS907-2258 --> P86Y1515\n",
        "\tS907-2355 --> P86Y1531\n",
        "\tP7R40967P --> P86Y1536\n",
        "pickle/HP12_0918.pickle"
       ]
      },
      {
       "output_type": "stream",
       "stream": "stdout",
       "text": [
        "\n",
        "\tS907-2453 --> P86Y1540\n",
        "\tP7R40973G --> P86Y1547\n",
        "\tP7R40987 --> P86Y1565\n",
        "\tS907-2296 --> P86Y1569\n",
        "\tS907-2224 --> P86Y1571\n",
        "\tP7R40994G --> P86Y1588\n",
        "\tP7R40995 --> P86Y1598\n",
        "pickle/HP12_0919.pickle"
       ]
      },
      {
       "output_type": "stream",
       "stream": "stdout",
       "text": [
        "\n",
        "\tS962-2319 --> P86Y1609\n",
        "\tP7R41015G --> P86Y1616\n",
        "\tS962-2118 --> P86Y1645\n",
        "pickle/HP12_0920.pickle"
       ]
      },
      {
       "output_type": "stream",
       "stream": "stdout",
       "text": [
        "\n",
        "\tP7R41020 --> P86Y1624\n",
        "pickle/HP12_0921.pickle"
       ]
      },
      {
       "output_type": "stream",
       "stream": "stdout",
       "text": [
        "\n",
        "\tP7R41048 --> P86Y1681\n",
        "\tS962-2470 --> P86Y1690\n",
        "\tP7R41065 --> P86Y1700\n",
        "\tP7R41079 --> P86Y1718\n",
        "\tP7R41086G --> P86Y1729\n",
        "\tS907-2286 --> P86Y1730\n",
        "\tP7R41095G --> P86Y1741\n",
        "pickle/HP12_0922.pickle"
       ]
      },
      {
       "output_type": "stream",
       "stream": "stdout",
       "text": [
        "\n",
        "\tP7R41104A --> P86Y1755\n",
        "\tP7R41126A --> P86Y1785\n",
        "pickle/HP12_0923.pickle"
       ]
      },
      {
       "output_type": "stream",
       "stream": "stdout",
       "text": [
        "\n",
        "\tP7R41170 --> P86Y1860\n",
        "\tP7R41187P --> P86Y1886\n",
        "\tP7R41191G --> P86Y1898\n",
        "\tP7R41202P --> P86Y1910\n",
        "\tP7R41212P --> P86Y1934\n",
        "pickle/HP12_0924.pickle"
       ]
      },
      {
       "output_type": "stream",
       "stream": "stdout",
       "text": [
        "\n",
        "\tP7R41214G --> P86Y1935\n",
        "\tP7R41234 --> P86Y1958\n",
        "\tP7R41234G --> P86Y1959\n",
        "\tP7R41247 --> P86Y1983\n",
        "\tP7R41252G --> P86Y1999\n",
        "\tP7R41270A --> P86Y2016\n",
        "\tP7R41279P --> P86Y2023\n",
        "\tP7R41288H --> P86Y2033\n",
        "\tP7R41285AH --> P86Y2045\n",
        "pickle/HP12_0925.pickle"
       ]
      },
      {
       "output_type": "stream",
       "stream": "stdout",
       "text": [
        "\n",
        "\tSEED-1699 --> P86Y2062\n",
        "\tS962-2377 --> P86Y2074\n",
        "\tP7R41320G --> P86Y2100\n",
        "pickle/HP12_0926.pickle"
       ]
      },
      {
       "output_type": "stream",
       "stream": "stdout",
       "text": [
        "\n",
        "\tP7R41432 --> P86Y2278\n",
        "\tP7R41445 --> P86Y2294\n",
        "\tP7R41444 --> P86Y2295\n",
        "\tP7R41447P --> P86Y2301\n",
        "\tP7R41458GP --> P86Y2319\n",
        "\tP7R41471H --> P86Y2342\n",
        "\tP7R41483G --> P86Y2348\n",
        "\tP7R41487A --> P86Y2359\n",
        "\tP7R41471G --> P86Y2400\n",
        "pickle/HP12_0927.pickle"
       ]
      },
      {
       "output_type": "stream",
       "stream": "stdout",
       "text": [
        "\n",
        "\tP7R41601 --> P86Y2514\n",
        "\tP7R41633A --> P86Y2562\n",
        "\tP7R41648AG --> P86Y2584\n",
        "pickle/HP12_0928.pickle"
       ]
      },
      {
       "output_type": "stream",
       "stream": "stdout",
       "text": [
        "\n",
        "\tP7R41773G --> P86Y2771\n",
        "\tP7R41821 --> P86Y2828\n",
        "pickle/HP12_0929.pickle"
       ]
      },
      {
       "output_type": "stream",
       "stream": "stdout",
       "text": [
        "\n",
        "\tP7R41947A --> P86Y3004\n",
        "\tP7R42051 --> P86Y3138\n",
        "pickle/HP12_0930.pickle"
       ]
      },
      {
       "output_type": "stream",
       "stream": "stdout",
       "text": [
        "\n",
        "\tS907-2413 --> P86Y3207\n",
        "\tP7R42210G --> P86Y3360\n",
        "\tP7R42226 --> P86Y3397\n",
        "pickle/HP12_0931.pickle"
       ]
      },
      {
       "output_type": "stream",
       "stream": "stdout",
       "text": [
        "\n",
        "\tP7R42278G --> P86Y3473\n",
        "\tP7R42284 --> P86Y3483\n",
        "\tP7R42286I --> P86Y3505\n",
        "\tP7R42321G --> P86Y3533\n",
        "pickle/HP12_0932.pickle"
       ]
      },
      {
       "output_type": "stream",
       "stream": "stdout",
       "text": [
        "\n",
        "\tP7R42416 --> P86Y3668\n",
        "pickle/HP12_0933.pickle"
       ]
      },
      {
       "output_type": "stream",
       "stream": "stdout",
       "text": [
        "\n",
        "\tP7R42500 --> P86Y3766\n",
        "\tP7R42505 --> P86Y3771\n",
        "\tP7R42514 --> P86Y3785\n",
        "\tP7R42524 --> P86Y3811\n",
        "\tP7R42533 --> P86Y3817\n",
        "\tP7R42540 --> P86Y3828\n",
        "\tP7R42547 --> P86Y3831\n",
        "\tP7R42551 --> P86Y3833\n",
        "\tP7R42547G --> P86Y3834\n",
        "\tP7R42548 --> P86Y3846\n",
        "\tP7R42558 --> P86Y3849\n",
        "\tP7R42576 --> P86Y3851\n",
        "\tP7R42568 --> P86Y3866\n",
        "\tP7R42581 --> P86Y3880\n",
        "pickle/HP12_0934.pickle"
       ]
      },
      {
       "output_type": "stream",
       "stream": "stdout",
       "text": [
        "\n",
        "\tP7R42599G --> P86Y3897\n",
        "\tP7R42619G --> P86Y3933\n",
        "\tP7R42623G --> P86Y3940\n",
        "\tP7R42635G --> P86Y3955\n",
        "pickle/HP12_0935.pickle"
       ]
      },
      {
       "output_type": "stream",
       "stream": "stdout",
       "text": [
        "\n",
        "\tP7R42650 --> P86Y3973\n",
        "\tP7R42661P --> P86Y3989\n",
        "\tP7R42673P --> P86Y4007\n",
        "\tP7R42726 --> P86Y4070\n",
        "\tP7R42741 --> P86Y4091\n",
        "pickle/HP12_0936.pickle"
       ]
      },
      {
       "output_type": "stream",
       "stream": "stdout",
       "text": [
        "\n",
        "\tP7R42797P --> P86Y4162\n",
        "\tSEED-1774 --> P86Y4170\n",
        "\tS962-2537 --> P86Y4175\n",
        "\tP7R42833 --> P86Y4196\n",
        "\tP7R42820 --> P86Y4201\n",
        "pickle/HP12_0937.pickle"
       ]
      },
      {
       "output_type": "stream",
       "stream": "stdout",
       "text": [
        "\n",
        "\tP7R42859 --> P86Y4255\n",
        "\tS962-2541 --> P86Y4275\n",
        "\tP7R42881 --> P86Y4285\n",
        "\tS962-2584 --> P86Y4292\n",
        "\tS962-2524 --> P86Y4296\n",
        "\tP7R42894 --> P86Y4303\n",
        "\tS962-2556 --> P86Y4305\n",
        "pickle/HP12_0938.pickle"
       ]
      },
      {
       "output_type": "stream",
       "stream": "stdout",
       "text": [
        "\n",
        "\tS907-2447 --> P86Y4311\n",
        "\tS907-2493 --> P86Y4317\n",
        "\tP7R42933 --> P86Y4351\n",
        "\tS907-2533 --> P86Y4366\n",
        "\tS907-2526 --> P86Y4369\n",
        "\tP7R42948GP --> P86Y4381\n",
        "pickle/HP12_0939.pickle"
       ]
      },
      {
       "output_type": "stream",
       "stream": "stdout",
       "text": [
        "\n",
        "\tS907-2452 --> P86Y4375\n",
        "\tS907-2598 --> P86Y4405\n",
        "\tS907-2505 --> P86Y4408\n",
        "\tP7R42980 --> P86Y4418\n",
        "pickle/HP12_0940.pickle"
       ]
      },
      {
       "output_type": "stream",
       "stream": "stdout",
       "text": [
        "\n",
        "\tP7R42990 --> P86Y4430\n",
        "pickle/HP12_0941.pickle"
       ]
      },
      {
       "output_type": "stream",
       "stream": "stdout",
       "text": [
        "\n",
        "pickle/HP12_0942.pickle"
       ]
      },
      {
       "output_type": "stream",
       "stream": "stdout",
       "text": [
        "\n",
        "\tP7R43065 --> P86Y4537\n",
        "\tSEED-1876 --> P86Y4552\n",
        "\tP7R43082 --> P86Y4564\n",
        "\tS962-2543 --> P86Y4566\n",
        "\tP7R43087 --> P86Y4568\n",
        "\tP7R43090 --> P86Y4573\n",
        "pickle/HP12_0943.pickle"
       ]
      },
      {
       "output_type": "stream",
       "stream": "stdout",
       "text": [
        "\n",
        "\tS962-2514 --> P86Y4613\n",
        "\tP7R43139AG --> P86Y4634\n",
        "\tS907-2642 --> P86Y4645\n",
        "pickle/HP12_0944.pickle"
       ]
      },
      {
       "output_type": "stream",
       "stream": "stdout",
       "text": [
        "\n",
        "pickle/HP12_0945.pickle"
       ]
      },
      {
       "output_type": "stream",
       "stream": "stdout",
       "text": [
        "\n",
        "\tP7R43195Q --> P86Y4712\n",
        "\tP7R43220 --> P86Y4746\n",
        "pickle/HP12_0946.pickle"
       ]
      },
      {
       "output_type": "stream",
       "stream": "stdout",
       "text": [
        "\n",
        "\tP7R43280 --> P86Y4834\n",
        "\tP7R43303 --> P86Y4862\n",
        "pickle/HP12_0947.pickle"
       ]
      },
      {
       "output_type": "stream",
       "stream": "stdout",
       "text": [
        "\n",
        "pickle/HP12_0948.pickle"
       ]
      },
      {
       "output_type": "stream",
       "stream": "stdout",
       "text": [
        "\n",
        "\tP7R43374G --> P86Y4967\n",
        "\tP7R43387H --> P86Y4986\n",
        "\tP7R43396 --> P86Y4996\n",
        "\tS907-2539 --> P86Y5000\n",
        "\tS907-2495 --> P86Y5015\n",
        "\tS907-2612 --> P86Y5043\n",
        "pickle/HP12_0949.pickle"
       ]
      },
      {
       "output_type": "stream",
       "stream": "stdout",
       "text": [
        "\n",
        "\tSEED-1003 --> P86Y5166\n",
        "pickle/HP12_0950.pickle"
       ]
      },
      {
       "output_type": "stream",
       "stream": "stdout",
       "text": [
        "\n",
        "\tP7R43565AP --> P86Y5246\n",
        "\tP7R43564 --> P86Y5247\n",
        "\tP7R43566H --> P86Y5253\n",
        "\tP7R43573AG --> P86Y5259\n",
        "\tP7R43597 --> P86Y5292\n",
        "pickle/HP12_0951.pickle"
       ]
      },
      {
       "output_type": "stream",
       "stream": "stdout",
       "text": [
        "\n",
        "\tP7R40010 --> P86Y0018\n",
        "\tP7R40042 --> P86Y0072\n",
        "\tP7R43663G --> P86Y5389\n",
        "pickle/HP12_0952.pickle"
       ]
      },
      {
       "output_type": "stream",
       "stream": "stdout",
       "text": [
        "\n",
        "\tP7R40116 --> P86Y0182\n",
        "\tP7R40117G --> P86Y0185\n",
        "\tP7R40156 --> P86Y0245\n",
        "pickle/HP12_0953.pickle"
       ]
      },
      {
       "output_type": "stream",
       "stream": "stdout",
       "text": [
        "\n",
        "\tP7R40222 --> P86Y0345\n",
        "\tP7R40253G --> P86Y0404\n",
        "\tS962-2582 --> P86Y0411\n",
        "pickle/HP12_0954.pickle"
       ]
      },
      {
       "output_type": "stream",
       "stream": "stdout",
       "text": [
        "\n",
        "\tS962-2527 --> P86Y0533\n",
        "\tS907-2569 --> P86Y0583\n",
        "\tP7R40389 --> P86Y0598\n",
        "\tP7R40414G --> P86Y0621\n",
        "\tP7R40416 --> P86Y0642\n",
        "pickle/HP12_0955.pickle"
       ]
      },
      {
       "output_type": "stream",
       "stream": "stdout",
       "text": [
        "\n",
        "\tP7R40456 --> P86Y0698\n",
        "\tP7R40473G --> P86Y0735\n",
        "pickle/HP12_0956.pickle"
       ]
      },
      {
       "output_type": "stream",
       "stream": "stdout",
       "text": [
        "\n",
        "\tP7R40551 --> P86Y0840\n",
        "\tS907-2543 --> P86Y0842\n",
        "\tP7R40563 --> P86Y0860\n",
        "\tS907-2541 --> P86Y0885\n",
        "pickle/HP12_0957.pickle"
       ]
      },
      {
       "output_type": "stream",
       "stream": "stdout",
       "text": [
        "\n",
        "\tP7R40601 --> P86Y0947\n",
        "\tP7R40603 --> P86Y0954\n",
        "\tP7R40613 --> P86Y0964\n",
        "pickle/HP12_0958.pickle"
       ]
      },
      {
       "output_type": "stream",
       "stream": "stdout",
       "text": [
        "\n",
        "\tP7R40666 --> P86Y1047\n",
        "\tS907-2516 --> P86Y1055\n",
        "\tP7R40689B --> P86Y1099\n",
        "\tP7R40689AG --> P86Y1112\n",
        "pickle/HP12_0959.pickle"
       ]
      },
      {
       "output_type": "stream",
       "stream": "stdout",
       "text": [
        "\n",
        "\tP7R40691G --> P86Y1106\n",
        "\tSEED-2066 --> P86Y1148\n",
        "\tP7R40723G --> P86Y1150\n",
        "\tP7R40735 --> P86Y1166\n",
        "\tP7R40738 --> P86Y1177\n",
        "pickle/HP12_0960.pickle"
       ]
      },
      {
       "output_type": "stream",
       "stream": "stdout",
       "text": [
        "\n",
        "\tP7R40747 --> P86Y1185\n",
        "\tP7R40759 --> P86Y1207\n",
        "\tCrabSync --> P86Y1226\n",
        "\tCrabIC --> P86Y1243\n",
        "pickle/HP12_0961.pickle"
       ]
      },
      {
       "output_type": "stream",
       "stream": "stdout",
       "text": [
        "\n",
        "\tP7R40805 --> P86Y1262\n",
        "\tP7R40806 --> P86Y1264\n",
        "pickle/HP12_0962.pickle"
       ]
      },
      {
       "output_type": "stream",
       "stream": "stdout",
       "text": [
        "\n",
        "pickle/HP12_0963.pickle"
       ]
      },
      {
       "output_type": "stream",
       "stream": "stdout",
       "text": [
        "\n",
        "pickle/HP12_0964.pickle"
       ]
      },
      {
       "output_type": "stream",
       "stream": "stdout",
       "text": [
        "\n",
        "\tS907-2613 --> P86Y1448\n",
        "pickle/HP12_0965.pickle"
       ]
      },
      {
       "output_type": "stream",
       "stream": "stdout",
       "text": [
        "\n",
        "\tS907-2614 --> P86Y1473\n",
        "pickle/HP12_0966.pickle"
       ]
      },
      {
       "output_type": "stream",
       "stream": "stdout",
       "text": [
        "\n",
        "\tP7R40950 --> P86Y1508\n",
        "\tP7R40953 --> P86Y1518\n",
        "\tP7R40985 --> P86Y1563\n",
        "pickle/HP12_0967.pickle"
       ]
      },
      {
       "output_type": "stream",
       "stream": "stdout",
       "text": [
        "\n",
        "\tS907-2592 --> P86Y1583\n",
        "\tP7R41005G --> P86Y1603\n",
        "\tS907-2558 --> P86Y1607\n",
        "pickle/HP12_0968.pickle"
       ]
      },
      {
       "output_type": "stream",
       "stream": "stdout",
       "text": [
        "\n",
        "\tP7R41031 --> P86Y1654\n",
        "\tP7R41038G --> P86Y1665\n",
        "pickle/HP12_0969.pickle"
       ]
      },
      {
       "output_type": "stream",
       "stream": "stdout",
       "text": [
        "\n",
        "\tP7R41082A --> P86Y1728\n",
        "pickle/HP12_0970.pickle"
       ]
      },
      {
       "output_type": "stream",
       "stream": "stdout",
       "text": [
        "\n",
        "pickle/HP12_0971.pickle"
       ]
      },
      {
       "output_type": "stream",
       "stream": "stdout",
       "text": [
        "\n",
        "\tP7R41154P --> P86Y1825\n",
        "\tP7R41169H --> P86Y1859\n",
        "\tP7R41177A --> P86Y1869\n",
        "\tP7R41204Q --> P86Y1917\n",
        "pickle/HP12_0972.pickle"
       ]
      },
      {
       "output_type": "stream",
       "stream": "stdout",
       "text": [
        "\n",
        "\tP7R41215 --> P86Y1937\n",
        "\tP7R41215P --> P86Y1939\n",
        "\tP7R41268 --> P86Y2024\n",
        "pickle/HP12_0973.pickle"
       ]
      },
      {
       "output_type": "stream",
       "stream": "stdout",
       "text": [
        "\n",
        "\tP7R41306 --> P86Y2079\n",
        "\tS907-2635 --> P86Y2109\n",
        "\tS907-2566 --> P86Y2128\n",
        "\tP7R41340 --> P86Y2133\n",
        "\tP7R41355 --> P86Y2148\n",
        "\tP7R41373 --> P86Y2180\n",
        "\tP7R41384 --> P86Y2203\n",
        "pickle/HP12_0974.pickle"
       ]
      },
      {
       "output_type": "stream",
       "stream": "stdout",
       "text": [
        "\n",
        "\tS907-2583 --> P86Y2247\n",
        "\tS907-2529 --> P86Y2275\n",
        "\tSEED-1817 --> P86Y2302\n",
        "\tP7R41458 --> P86Y2314\n",
        "\tS907-2513 --> P86Y2331\n",
        "\tP7R41469 --> P86Y2336\n",
        "\tP7R41511 --> P86Y2390\n",
        "\tP7R41523GP --> P86Y2404\n",
        "\tP7R41545 --> P86Y2428\n",
        "\tP7R41561 --> P86Y2454\n",
        "pickle/HP12_0975.pickle"
       ]
      },
      {
       "output_type": "stream",
       "stream": "stdout",
       "text": [
        "\n",
        "\tSEED-1872 --> P86Y2502\n",
        "\tP7R41668 --> P86Y2611\n",
        "\tP7R41677G --> P86Y2632\n",
        "\tP7R41682A --> P86Y2642\n",
        "\tP7R41742 --> P86Y2723\n",
        "pickle/HP12_0976.pickle"
       ]
      },
      {
       "output_type": "stream",
       "stream": "stdout",
       "text": [
        "\n",
        "\tP7R41843P --> P86Y2857\n",
        "\tP7R41923 --> P86Y2961\n",
        "\tP7R41988 --> P86Y3040\n",
        "pickle/HP12_0977.pickle"
       ]
      },
      {
       "output_type": "stream",
       "stream": "stdout",
       "text": [
        "\n",
        "\tP7R42097 --> P86Y3203\n",
        "\tP7R42099 --> P86Y3205\n",
        "\tP7R42134 --> P86Y3253\n",
        "\tS907-2511 --> P86Y3276\n",
        "pickle/HP12_0978.pickle"
       ]
      },
      {
       "output_type": "stream",
       "stream": "stdout",
       "text": [
        "\n",
        "\tP7R42215 --> P86Y3380\n",
        "\tP7R42257X --> P86Y3403\n",
        "\tP7R42257 --> P86Y3429\n",
        "\tP7R42331 --> P86Y3543\n",
        "pickle/HP12_0979.pickle"
       ]
      },
      {
       "output_type": "stream",
       "stream": "stdout",
       "text": [
        "\n",
        "\tP7R42378G --> P86Y3615\n",
        "\tP7R42388 --> P86Y3624\n",
        "\tS907-2463 --> P86Y3647\n",
        "\tS962-2535 --> P86Y3651\n",
        "\tP7R42419 --> P86Y3674\n",
        "\tP7R42460G --> P86Y3723\n",
        "\tP7R42471 --> P86Y3730\n",
        "\tS962-2624 --> P86Y3732\n",
        "pickle/HP12_0980.pickle"
       ]
      },
      {
       "output_type": "stream",
       "stream": "stdout",
       "text": [
        "\n",
        "\tP7R42509 --> P86Y3778\n",
        "\tP7R42513 --> P86Y3796\n",
        "\tP7R42572 --> P86Y3863\n",
        "pickle/HP12_0981.pickle"
       ]
      },
      {
       "output_type": "stream",
       "stream": "stdout",
       "text": [
        "\n",
        "\tP7R42601AG --> P86Y3907\n",
        "\tP7R42645A --> P86Y3981\n",
        "\tSEED-1882 --> P86Y4009\n",
        "pickle/HP12_0982.pickle"
       ]
      },
      {
       "output_type": "stream",
       "stream": "stdout",
       "text": [
        "\n",
        "\tP7R42683 --> P86Y4021\n",
        "\tP7R42711 --> P86Y4049\n",
        "\tP7R42733 --> P86Y4085\n",
        "\tS907-2651 --> P86Y4101\n",
        "pickle/HP12_0983.pickle"
       ]
      },
      {
       "output_type": "stream",
       "stream": "stdout",
       "text": [
        "\n",
        "\tS962-2558 --> P86Y4141\n",
        "\tP7R42794 --> P86Y4155\n",
        "\tP7R42795 --> P86Y4156\n",
        "\tP7R42803G --> P86Y4157\n",
        "\tS962-2630 --> P86Y4189\n",
        "pickle/HP12_0984.pickle"
       ]
      },
      {
       "output_type": "stream",
       "stream": "stdout",
       "text": [
        "\n",
        "\tS907-2609 --> P86Y4190\n",
        "\tP7R42820P --> P86Y4203\n",
        "\tP7R42830B --> P86Y4217\n",
        "\tS962-2600 --> P86Y4224\n",
        "\tP7R42840 --> P86Y4228\n",
        "\tS907-2705 --> P86Y4230\n",
        "\tP7R42848G --> P86Y4239\n",
        "\tS907-2688 --> P86Y4252\n",
        "\tS907-2697 --> P86Y4272\n",
        "\tP7R42871 --> P86Y4273\n",
        "\tP7R42889 --> P86Y4295\n",
        "\tP7R42897GP --> P86Y4310\n",
        "pickle/HP12_0985.pickle"
       ]
      },
      {
       "output_type": "stream",
       "stream": "stdout",
       "text": [
        "\n",
        "\tS907-2568 --> P86Y4263\n",
        "\tP7R42870A --> P86Y4274\n",
        "\tP7R42921 --> P86Y4340\n",
        "\tS962-2800 --> P86Y4348\n",
        "pickle/HP12_0986.pickle"
       ]
      },
      {
       "output_type": "stream",
       "stream": "stdout",
       "text": [
        "\n",
        "\tP7R42948 --> P86Y4376\n",
        "\tS907-2680 --> P86Y4389\n",
        "pickle/HP12_0987.pickle"
       ]
      },
      {
       "output_type": "stream",
       "stream": "stdout",
       "text": [
        "\n",
        "\tP7R42948I --> P86Y4382\n",
        "\tS962-2640 --> P86Y4425\n",
        "\tS907-2648 --> P86Y4427\n",
        "\tP7R43004 --> P86Y4446\n",
        "\tS962-2709 --> P86Y4450\n",
        "\tP7R43005 --> P86Y4452\n",
        "\tS907-2709 --> P86Y4455\n",
        "pickle/HP12_0988.pickle"
       ]
      },
      {
       "output_type": "stream",
       "stream": "stdout",
       "text": [
        "\n",
        "\tP7R43002 --> P86Y4445\n",
        "pickle/HP12_0989.pickle"
       ]
      },
      {
       "output_type": "stream",
       "stream": "stdout",
       "text": [
        "\n",
        "pickle/HP12_0990.pickle"
       ]
      },
      {
       "output_type": "stream",
       "stream": "stdout",
       "text": [
        "\n",
        "\tP7R43057G --> P86Y4526\n",
        "pickle/HP12_0991.pickle"
       ]
      },
      {
       "output_type": "stream",
       "stream": "stdout",
       "text": [
        "\n",
        "\tP7R43107 --> P86Y4591\n",
        "pickle/HP12_0992.pickle"
       ]
      },
      {
       "output_type": "stream",
       "stream": "stdout",
       "text": [
        "\n",
        "\tP7R43167 --> P86Y4671\n",
        "\tS962-2642 --> P86Y4695\n",
        "pickle/HP12_0993.pickle"
       ]
      },
      {
       "output_type": "stream",
       "stream": "stdout",
       "text": [
        "\n",
        "\tP7R43204P --> P86Y4725\n",
        "\tP7R43244 --> P86Y4779\n",
        "\tP7R43252 --> P86Y4793\n",
        "pickle/HP12_0994.pickle"
       ]
      },
      {
       "output_type": "stream",
       "stream": "stdout",
       "text": [
        "\n",
        "\tP7R43259A --> P86Y4806\n",
        "\tS907-2621 --> P86Y4811\n",
        "\tP7R43266A --> P86Y4816\n",
        "\tP7R43274A --> P86Y4828\n",
        "pickle/HP12_0995.pickle"
       ]
      },
      {
       "output_type": "stream",
       "stream": "stdout",
       "text": [
        "\n",
        "\tP7R43317G --> P86Y4869\n",
        "\tP7R43315A --> P86Y4870\n",
        "\tS962-2589 --> P86Y4881\n",
        "\tP7R43323 --> P86Y4897\n",
        "\tP7R43335 --> P86Y4908\n",
        "\tP7R43349 --> P86Y4924\n",
        "pickle/HP12_0996.pickle"
       ]
      },
      {
       "output_type": "stream",
       "stream": "stdout",
       "text": [
        "\n",
        "\tP7R43372 --> P86Y4962\n",
        "\tS962-2673 --> P86Y4997\n",
        "\tP7R43408 --> P86Y5013\n",
        "\tP7R43434 --> P86Y5051\n",
        "pickle/HP12_0997.pickle"
       ]
      },
      {
       "output_type": "stream",
       "stream": "stdout",
       "text": [
        "\n",
        "\tS962-2661 --> P86Y5066\n",
        "\tS962-2683 --> P86Y5070\n",
        "\tP7R43463 --> P86Y5105\n",
        "\tS907-2623 --> P86Y5107\n",
        "\tS962-2691 --> P86Y5133\n",
        "pickle/HP12_0998.pickle"
       ]
      },
      {
       "output_type": "stream",
       "stream": "stdout",
       "text": [
        "\n",
        "pickle/HP12_0999.pickle"
       ]
      },
      {
       "output_type": "stream",
       "stream": "stdout",
       "text": [
        "\n",
        "\tP7R43663 --> P86Y5386\n",
        "pickle/HP12_1000.pickle"
       ]
      },
      {
       "output_type": "stream",
       "stream": "stdout",
       "text": [
        "\n",
        "\tS907-2579 --> P86Y0138\n",
        "pickle/HP12_1001.pickle"
       ]
      },
      {
       "output_type": "stream",
       "stream": "stdout",
       "text": [
        "\n",
        "\tP7R40157 --> P86Y0248\n",
        "\tP7R40199 --> P86Y0308\n",
        "pickle/HP12_1002.pickle"
       ]
      },
      {
       "output_type": "stream",
       "stream": "stdout",
       "text": [
        "\n",
        "\tP7R40251 --> P86Y0396\n",
        "\tP7R40312 --> P86Y0486\n",
        "\tP7R40317 --> P86Y0496\n",
        "\tS962-2560 --> P86Y0505\n",
        "pickle/HP12_1003.pickle"
       ]
      },
      {
       "output_type": "stream",
       "stream": "stdout",
       "text": [
        "\n",
        "\tP7R40406 --> P86Y0626\n",
        "\tS962-2587 --> P86Y0645\n",
        "\tS962-2743 --> P86Y0654\n",
        "\tP7R40431 --> P86Y0662\n",
        "\tP7R40449 --> P86Y0690\n",
        "pickle/HP12_1004.pickle"
       ]
      },
      {
       "output_type": "stream",
       "stream": "stdout",
       "text": [
        "\n",
        "\tP7R40508P --> P86Y0780\n",
        "pickle/HP12_1005.pickle"
       ]
      },
      {
       "output_type": "stream",
       "stream": "stdout",
       "text": [
        "\n",
        "\tS962-2722 --> P86Y0846\n",
        "\tS962-2740 --> P86Y0863\n",
        "\tS962-2706 --> P86Y0910\n",
        "\tS962-2643 --> P86Y0916\n",
        "\tS907-2554 --> P86Y0925\n",
        "pickle/HP12_1006.pickle"
       ]
      },
      {
       "output_type": "stream",
       "stream": "stdout",
       "text": [
        "\n",
        "\tSEED-1988 --> P86Y0931\n",
        "\tP7R40599A --> P86Y0949\n",
        "\tP7R40616A --> P86Y0972\n",
        "\tP7R40627 --> P86Y0980\n",
        "\tP7R40621H --> P86Y0989\n",
        "\tP7R40635 --> P86Y0995\n",
        "\tS962-2684 --> P86Y1018\n",
        "pickle/HP12_1007.pickle"
       ]
      },
      {
       "output_type": "stream",
       "stream": "stdout",
       "text": [
        "\n",
        "\tP7R40662 --> P86Y1036\n",
        "\tS962-2734 --> P86Y1063\n",
        "\tP7R40685 --> P86Y1085\n",
        "\tP7R40682 --> P86Y1090\n",
        "pickle/HP12_1008.pickle"
       ]
      },
      {
       "output_type": "stream",
       "stream": "stdout",
       "text": [
        "\n",
        "\tS962-2790 --> P86Y1103\n",
        "\tP7R40738AP --> P86Y1167\n",
        "\tS962-2567 --> P86Y1172\n",
        "\tSEED-1020 --> P86Y1182\n",
        "pickle/HP12_1009.pickle"
       ]
      },
      {
       "output_type": "stream",
       "stream": "stdout",
       "text": [
        "\n",
        "\tP7R40742 --> P86Y1180\n",
        "\tP7R40764 --> P86Y1215\n",
        "\tP7R40794 --> P86Y1250\n",
        "pickle/HP12_1010.pickle"
       ]
      },
      {
       "output_type": "stream",
       "stream": "stdout",
       "text": [
        "\n",
        "\tSEED-2010 --> P86Y1236\n",
        "\tP7R40796 --> P86Y1253\n",
        "\tP7R40808 --> P86Y1267\n",
        "\tS962-2708 --> P86Y1280\n",
        "pickle/HP12_1011.pickle"
       ]
      },
      {
       "output_type": "stream",
       "stream": "stdout",
       "text": [
        "\n",
        "\tP7R40832 --> P86Y1314\n",
        "pickle/HP12_1012.pickle"
       ]
      },
      {
       "output_type": "stream",
       "stream": "stdout",
       "text": [
        "\n",
        "\tP7R40856 --> P86Y1355\n",
        "\tP7R40874 --> P86Y1381\n",
        "\tS962-2644 --> P86Y1413\n",
        "pickle/HP12_1013.pickle"
       ]
      },
      {
       "output_type": "stream",
       "stream": "stdout",
       "text": [
        "\n",
        "\tS907-2742 --> P86Y1417\n",
        "\tS907-2672 --> P86Y1430\n",
        "\tP7R40915 --> P86Y1459\n",
        "\tP7R40916A --> P86Y1463\n",
        "pickle/HP12_1014.pickle"
       ]
      },
      {
       "output_type": "stream",
       "stream": "stdout",
       "text": [
        "\n",
        "\tP7R40910 --> P86Y1453\n",
        "\tP7R40928 --> P86Y1482\n",
        "pickle/HP12_1015.pickle"
       ]
      },
      {
       "output_type": "stream",
       "stream": "stdout",
       "text": [
        "\n",
        "pickle/HP12_1016.pickle"
       ]
      },
      {
       "output_type": "stream",
       "stream": "stdout",
       "text": [
        "\n",
        "\tSEED-1958 --> P86Y1552\n",
        "\tS962-2658 --> P86Y1591\n",
        "pickle/HP12_1017.pickle"
       ]
      },
      {
       "output_type": "stream",
       "stream": "stdout",
       "text": [
        "\n",
        "\tS962-2807 --> P86Y1585\n",
        "\tP7R41026G --> P86Y1638\n",
        "pickle/HP12_1018.pickle"
       ]
      },
      {
       "output_type": "stream",
       "stream": "stdout",
       "text": [
        "\n",
        "\tS962-2693 --> P86Y1678\n",
        "\tS962-2656 --> P86Y1679\n",
        "\tP7R41070 --> P86Y1707\n",
        "\tP7R41075G --> P86Y1712\n",
        "pickle/HP12_1019.pickle"
       ]
      },
      {
       "output_type": "stream",
       "stream": "stdout",
       "text": [
        "\n",
        "\tS962-2798 --> P86Y1702\n",
        "\tP7R41076 --> P86Y1714\n",
        "\tP7R41082G --> P86Y1721\n",
        "\tS962-2738 --> P86Y1756\n",
        "\tS962-2733 --> P86Y1763\n",
        "\tP7R41116P --> P86Y1773\n",
        "\tSEED-1879 --> P86Y1811\n",
        "pickle/HP12_1020.pickle"
       ]
      },
      {
       "output_type": "stream",
       "stream": "stdout",
       "text": [
        "\n",
        "\tS962-2578 --> P86Y1894\n",
        "pickle/HP12_1021.pickle"
       ]
      },
      {
       "output_type": "stream",
       "stream": "stdout",
       "text": [
        "\n",
        "\tP7R41212 --> P86Y1929\n",
        "\tS962-2703 --> P86Y1942\n",
        "\tP7R41238 --> P86Y1968\n",
        "\tP7R41240A --> P86Y1977\n",
        "pickle/HP12_1022.pickle"
       ]
      },
      {
       "output_type": "stream",
       "stream": "stdout",
       "text": [
        "\n",
        "\tP7R41312 --> P86Y2084\n",
        "\tP7R41346A --> P86Y2143\n",
        "\tP7R41387 --> P86Y2209\n",
        "\tP7R41392 --> P86Y2218\n",
        "pickle/HP12_1023.pickle"
       ]
      },
      {
       "output_type": "stream",
       "stream": "stdout",
       "text": [
        "\n",
        "\tS962-2694 --> P86Y2310\n",
        "\tS962-2676 --> P86Y2461\n",
        "pickle/HP12_1024.pickle"
       ]
      },
      {
       "output_type": "stream",
       "stream": "stdout",
       "text": [
        "\n",
        "\tP7R41741 --> P86Y2717\n",
        "\tS962-2646 --> P86Y2777\n",
        "\tP7R41803 --> P86Y2808\n",
        "\tP7R41834 --> P86Y2840\n",
        "\tP7R41843 --> P86Y2856\n",
        "pickle/HP12_1025.pickle"
       ]
      },
      {
       "output_type": "stream",
       "stream": "stdout",
       "text": [
        "\n",
        "\tS907-2627 --> P86Y3079\n",
        "\tP7R42021A --> P86Y3086\n",
        "\tP7R42036G --> P86Y3118\n",
        "pickle/HP12_1026.pickle"
       ]
      },
      {
       "output_type": "stream",
       "stream": "stdout",
       "text": [
        "\n",
        "\tP7R42175G --> P86Y3321\n",
        "\tP7R42241AG --> P86Y3425\n",
        "\tSEED-1046 --> P86Y3485\n",
        "pickle/HP12_1027.pickle"
       ]
      },
      {
       "output_type": "stream",
       "stream": "stdout",
       "text": [
        "\n",
        "\tS907-2655 --> P86Y3553\n",
        "\tP7R42374 --> P86Y3606\n",
        "\tP7R42403 --> P86Y3650\n",
        "pickle/HP12_1028.pickle"
       ]
      },
      {
       "output_type": "stream",
       "stream": "stdout",
       "text": [
        "\n",
        "\tS962-2620 --> P86Y3777\n",
        "\tP7R42520A --> P86Y3793\n",
        "\tS907-2618 --> P86Y3844\n",
        "\tS907-2749 --> P86Y3848\n",
        "\tS907-2647 --> P86Y3875\n",
        "\tP7R42579 --> P86Y3877\n",
        "pickle/HP12_1029.pickle"
       ]
      },
      {
       "output_type": "stream",
       "stream": "stdout",
       "text": [
        "\n",
        "\tS962-2631 --> P86Y3903\n",
        "\tP7R42618 --> P86Y3930\n",
        "\tP7R42628G --> P86Y3942\n",
        "\tP7R42633 --> P86Y3948\n",
        "\tS962-2744 --> P86Y4023\n",
        "pickle/HP12_1030.pickle"
       ]
      },
      {
       "output_type": "stream",
       "stream": "stdout",
       "text": [
        "\n",
        "\tS907-2631 --> P86Y4092\n",
        "\tP7R42745 --> P86Y4096\n",
        "\tP7R42761 --> P86Y4118\n",
        "\tP7R42773G --> P86Y4133\n",
        "pickle/HP12_1031.pickle"
       ]
      },
      {
       "output_type": "stream",
       "stream": "stdout",
       "text": [
        "\n",
        "\tP7R42759 --> P86Y4116\n",
        "\tP7R42762 --> P86Y4117\n",
        "\tP7R42773 --> P86Y4132\n",
        "\tS962-2718 --> P86Y4195\n",
        "pickle/HP12_1032.pickle"
       ]
      },
      {
       "output_type": "stream",
       "stream": "stdout",
       "text": [
        "\n",
        "\tP7R42918G --> P86Y4336\n",
        "\tS907-2820 --> P86Y4358\n",
        "\tS907-2886 --> P86Y4385\n",
        "pickle/HP12_1033.pickle"
       ]
      },
      {
       "output_type": "stream",
       "stream": "stdout",
       "text": [
        "\n",
        "\tP7R42938A --> P86Y4362\n",
        "\tS962-2745 --> P86Y4371\n",
        "\tSEED-1986 --> P86Y4380\n",
        "\tP7R42964 --> P86Y4393\n",
        "\tSEED-2052 --> P86Y4409\n",
        "\tS962-2909 --> P86Y4428\n",
        "pickle/HP12_1034.pickle"
       ]
      },
      {
       "output_type": "stream",
       "stream": "stdout",
       "text": [
        "\n",
        "\tP7R42981 --> P86Y4419\n",
        "\tS962-2724 --> P86Y4420\n",
        "\tP7R42987 --> P86Y4423\n",
        "\tP7R42998 --> P86Y4441\n",
        "\tP7R43000 --> P86Y4443\n",
        "\tSEED-2006 --> P86Y4457\n",
        "\tP7R43017 --> P86Y4461\n",
        "pickle/HP12_1035.pickle"
       ]
      },
      {
       "output_type": "stream",
       "stream": "stdout",
       "text": [
        "\n",
        "\tP7R43024 --> P86Y4471\n",
        "\tP7R43034 --> P86Y4488\n",
        "\tP7R43035 --> P86Y4491\n",
        "\tS962-2876 --> P86Y4511\n",
        "pickle/HP12_1036.pickle"
       ]
      },
      {
       "output_type": "stream",
       "stream": "stdout",
       "text": [
        "\n",
        "\tS962-2824 --> P86Y4515\n",
        "\tS962-2823 --> P86Y4518\n",
        "\tS907-2787 --> P86Y4520\n",
        "\tS907-2841 --> P86Y4525\n",
        "\tP7R43068A --> P86Y4541\n",
        "pickle/HP12_1037.pickle"
       ]
      },
      {
       "output_type": "stream",
       "stream": "stdout",
       "text": [
        "\n",
        "\tSEED-1995 --> P86Y4556\n",
        "\tP7R43109 --> P86Y4593\n",
        "\tSEED-2026 --> P86Y4597\n",
        "pickle/HP12_1038.pickle"
       ]
      },
      {
       "output_type": "stream",
       "stream": "stdout",
       "text": [
        "\n",
        "\tS962-2838 --> P86Y4639\n",
        "\tP7R43165 --> P86Y4665\n",
        "pickle/HP12_1039.pickle"
       ]
      },
      {
       "output_type": "stream",
       "stream": "stdout",
       "text": [
        "\n",
        "\tP7R43195 --> P86Y4710\n",
        "\tP7R43209 --> P86Y4732\n",
        "pickle/HP12_1040.pickle"
       ]
      },
      {
       "output_type": "stream",
       "stream": "stdout",
       "text": [
        "\n",
        "\tP7R43207 --> P86Y4729\n",
        "\tS907-2827 --> P86Y4741\n",
        "\tS962-2775 --> P86Y4760\n",
        "\tS907-2828 --> P86Y4789\n",
        "\tS907-2914 --> P86Y4804\n",
        "pickle/HP12_1041.pickle"
       ]
      },
      {
       "output_type": "stream",
       "stream": "stdout",
       "text": [
        "\n",
        "\tP7R43298 --> P86Y4859\n",
        "\tS962-2933 --> P86Y4868\n",
        "pickle/HP12_1042.pickle"
       ]
      },
      {
       "output_type": "stream",
       "stream": "stdout",
       "text": [
        "\n",
        "\tP7R43322 --> P86Y4887\n",
        "\tP7R43326 --> P86Y4892\n",
        "\tP7R43330 --> P86Y4895\n",
        "pickle/HP12_1043.pickle"
       ]
      },
      {
       "output_type": "stream",
       "stream": "stdout",
       "text": [
        "\n",
        "\tSEED-1994 --> P86Y4969\n",
        "pickle/HP12_1044.pickle"
       ]
      },
      {
       "output_type": "stream",
       "stream": "stdout",
       "text": [
        "\n",
        "\tP7R43443 --> P86Y5061\n",
        "\tS962-2782 --> P86Y5067\n",
        "\tS907-2861 --> P86Y5099\n",
        "pickle/HP12_1045.pickle"
       ]
      },
      {
       "output_type": "stream",
       "stream": "stdout",
       "text": [
        "\n",
        "\tP7R43509 --> P86Y5171\n",
        "\tP7R43522 --> P86Y5190\n",
        "\tS962-2904 --> P86Y5217\n",
        "\tP7R43540G --> P86Y5218\n",
        "\tS962-2907 --> P86Y5235\n",
        "\tSEED-2014 --> P86Y5245\n",
        "pickle/HP12_1046.pickle"
       ]
      },
      {
       "output_type": "stream",
       "stream": "stdout",
       "text": [
        "\n",
        "\tP7R43616 --> P86Y5319\n",
        "\tS907-2880 --> P86Y5326\n",
        "pickle/HP12_1047.pickle"
       ]
      },
      {
       "output_type": "stream",
       "stream": "stdout",
       "text": [
        "\n",
        "\tS962-2883 --> P86Y0002\n",
        "\tP7R40022 --> P86Y0035\n",
        "\tP7R40029 --> P86Y0043\n",
        "pickle/HP12_1048.pickle"
       ]
      },
      {
       "output_type": "stream",
       "stream": "stdout",
       "text": [
        "\n",
        "\tS962-2854 --> P86Y0171\n",
        "\tS962-2801 --> P86Y0233\n",
        "\tP7R40182 --> P86Y0283\n",
        "pickle/HP12_1049.pickle"
       ]
      },
      {
       "output_type": "stream",
       "stream": "stdout",
       "text": [
        "\n",
        "\tP7R40213 --> P86Y0332\n",
        "\tP7R40233 --> P86Y0365\n",
        "\tP7R40246G --> P86Y0385\n",
        "\tP7R40252A --> P86Y0401\n",
        "pickle/HP12_1050.pickle"
       ]
      },
      {
       "output_type": "stream",
       "stream": "stdout",
       "text": [
        "\n",
        "\tS907-2837 --> P86Y0468\n",
        "\tS907-2778 --> P86Y0597\n",
        "pickle/HP12_1051.pickle"
       ]
      },
      {
       "output_type": "stream",
       "stream": "stdout",
       "text": [
        "\n",
        "pickle/HP12_1052.pickle"
       ]
      },
      {
       "output_type": "stream",
       "stream": "stdout",
       "text": [
        "\n",
        "\tP7R40485 --> P86Y0744\n",
        "\tS962-2916 --> P86Y0774\n",
        "\tP7R40512 --> P86Y0795\n",
        "\tP7R40518 --> P86Y0799\n",
        "\tP7R40538 --> P86Y0820\n",
        "pickle/HP12_1053.pickle"
       ]
      },
      {
       "output_type": "stream",
       "stream": "stdout",
       "text": [
        "\n",
        "\tS907-2846 --> P86Y0859\n",
        "\tS962-2896 --> P86Y0868\n",
        "pickle/HP12_1054.pickle"
       ]
      },
      {
       "output_type": "stream",
       "stream": "stdout",
       "text": [
        "\n",
        "\tP7R40598G --> P86Y0944\n",
        "\tS962-2929 --> P86Y0948\n",
        "\tS907-2789 --> P86Y0970\n",
        "\tP7R40629 --> P86Y0988\n",
        "\tP7R40642 --> P86Y1007\n",
        "\tP7R40644 --> P86Y1009\n",
        "\tS907-2768 --> P86Y1021\n",
        "pickle/HP12_1055.pickle"
       ]
      },
      {
       "output_type": "stream",
       "stream": "stdout",
       "text": [
        "\n",
        "\tP7R40661 --> P86Y1033\n",
        "\tS907-2848 --> P86Y1053\n",
        "pickle/HP12_1056.pickle"
       ]
      },
      {
       "output_type": "stream",
       "stream": "stdout",
       "text": [
        "\n",
        "\tS962-2878 --> P86Y1096\n",
        "\tS962-2873 --> P86Y1101\n",
        "\tP7R40695 --> P86Y1110\n",
        "\tP7R40722 --> P86Y1147\n",
        "pickle/HP12_1057.pickle"
       ]
      },
      {
       "output_type": "stream",
       "stream": "stdout",
       "text": [
        "\n",
        "\tP7R40770 --> P86Y1228\n",
        "pickle/HP12_1058.pickle"
       ]
      },
      {
       "output_type": "stream",
       "stream": "stdout",
       "text": [
        "\n",
        "\tS962-2884 --> P86Y1227\n",
        "\tSEED-1097 --> P86Y1229\n",
        "\tP7R40777 --> P86Y1233\n",
        "\tS962-2805 --> P86Y1265\n",
        "\tS962-2776 --> P86Y1284\n",
        "\tS962-2765 --> P86Y1293\n",
        "pickle/HP12_1059.pickle"
       ]
      },
      {
       "output_type": "stream",
       "stream": "stdout",
       "text": [
        "\n",
        "\tP7R40827 --> P86Y1297\n",
        "\tS962-2827 --> P86Y1329\n",
        "pickle/HP12_1060.pickle"
       ]
      },
      {
       "output_type": "stream",
       "stream": "stdout",
       "text": [
        "\n",
        "\tS907-2882 --> P86Y1320\n",
        "\tP7R40836 --> P86Y1321\n",
        "\tP7R40867 --> P86Y1368\n",
        "pickle/HP12_1061.pickle"
       ]
      },
      {
       "output_type": "stream",
       "stream": "stdout",
       "text": [
        "\n",
        "\tP7R40892 --> P86Y1411\n",
        "\tS962-2806 --> P86Y1420\n",
        "pickle/HP12_1062.pickle"
       ]
      },
      {
       "output_type": "stream",
       "stream": "stdout",
       "text": [
        "\n",
        "\tS907-2818 --> P86Y1447\n",
        "\tP7R40913 --> P86Y1456\n",
        "\tP7R40920 --> P86Y1465\n",
        "pickle/HP12_1063.pickle"
       ]
      },
      {
       "output_type": "stream",
       "stream": "stdout",
       "text": [
        "\n",
        "\tP7R40937 --> P86Y1492\n",
        "\tP7R40967A --> P86Y1541\n",
        "pickle/HP12_1064.pickle"
       ]
      },
      {
       "output_type": "stream",
       "stream": "stdout",
       "text": [
        "\n",
        "pickle/HP12_1065.pickle"
       ]
      },
      {
       "output_type": "stream",
       "stream": "stdout",
       "text": [
        "\n",
        "\tP7R40986 --> P86Y1567\n",
        "\tP7R41004X --> P86Y1594\n",
        "\tP7R41016 --> P86Y1619\n",
        "pickle/HP12_1066.pickle"
       ]
      },
      {
       "output_type": "stream",
       "stream": "stdout",
       "text": [
        "\n",
        "\tP7R41029 --> P86Y1643\n",
        "\tP7R41040 --> P86Y1667\n",
        "pickle/HP12_1067.pickle"
       ]
      },
      {
       "output_type": "stream",
       "stream": "stdout",
       "text": [
        "\n",
        "\tP7R41058 --> P86Y1695\n",
        "pickle/HP12_1068.pickle"
       ]
      },
      {
       "output_type": "stream",
       "stream": "stdout",
       "text": [
        "\n",
        "\tSEED-2072 --> P86Y1800\n",
        "\tP7R41187 --> P86Y1881\n",
        "\tS907-2764 --> P86Y1909\n",
        "pickle/HP12_1069.pickle"
       ]
      },
      {
       "output_type": "stream",
       "stream": "stdout",
       "text": [
        "\n",
        "\tS962-2910 --> P86Y1896\n",
        "\tS962-2879 --> P86Y1902\n",
        "\tSEED-2216 --> P86Y1965\n",
        "\tS962-2836 --> P86Y2008\n",
        "\tP7R41291 --> P86Y2052\n",
        "pickle/HP12_1070.pickle"
       ]
      },
      {
       "output_type": "stream",
       "stream": "stdout",
       "text": [
        "\n",
        "pickle/HP12_1071.pickle"
       ]
      },
      {
       "output_type": "stream",
       "stream": "stdout",
       "text": [
        "\n",
        "\tP7R41664 --> P86Y2615\n",
        "pickle/HP12_1072.pickle"
       ]
      },
      {
       "output_type": "stream",
       "stream": "stdout",
       "text": [
        "\n",
        "\tSEED-2022 --> P86Y2740\n",
        "pickle/HP12_1073.pickle"
       ]
      },
      {
       "output_type": "stream",
       "stream": "stdout",
       "text": [
        "\n",
        "\tP7R42149 --> P86Y3283\n",
        "\tSEED-2075 --> P86Y3358\n",
        "\tSEED-1150 --> P86Y3359\n",
        "\tP7R42197 --> P86Y3363\n",
        "pickle/HP12_1074.pickle"
       ]
      },
      {
       "output_type": "stream",
       "stream": "stdout",
       "text": [
        "\n",
        "\tSEED-1998 --> P86Y3599\n",
        "\tP7R42372 --> P86Y3601\n",
        "\tS962-2868 --> P86Y3620\n",
        "\tP7R42436 --> P86Y3695\n",
        "pickle/HP12_1075.pickle"
       ]
      },
      {
       "output_type": "stream",
       "stream": "stdout",
       "text": [
        "\n",
        "\tP7R42523 --> P86Y3805\n",
        "\tS962-2788 --> P86Y3847\n",
        "\tP7R42580 --> P86Y3878\n",
        "\tS962-2850 --> P86Y3888\n",
        "pickle/HP12_1076.pickle"
       ]
      },
      {
       "output_type": "stream",
       "stream": "stdout",
       "text": [
        "\n",
        "\tP7R42619 --> P86Y3932\n",
        "\tP7R42632A --> P86Y3953\n",
        "\tS962-2886 --> P86Y4018\n",
        "\tS907-2864 --> P86Y4054\n",
        "pickle/HP12_1077.pickle"
       ]
      },
      {
       "output_type": "stream",
       "stream": "stdout",
       "text": [
        "\n",
        "\tP7R42744 --> P86Y4098\n",
        "\tP7R42789 --> P86Y4153\n",
        "pickle/HP12_1078.pickle"
       ]
      },
      {
       "output_type": "stream",
       "stream": "stdout",
       "text": [
        "\n",
        "\tP7R42787 --> P86Y4150\n",
        "\tP7R42789AG --> P86Y4152\n",
        "\tS962-2787 --> P86Y4174\n",
        "\tS962-2862 --> P86Y4192\n",
        "pickle/HP12_1079.pickle"
       ]
      },
      {
       "output_type": "stream",
       "stream": "stdout",
       "text": [
        "\n",
        "\tS907-2740 --> P86Y4236\n",
        "\tP7R42879 --> P86Y4282\n",
        "\tS962-2911 --> P86Y4331\n",
        "pickle/HP12_1080.pickle"
       ]
      },
      {
       "output_type": "stream",
       "stream": "stdout",
       "text": [
        "\n",
        "\tS962-2955 --> P86Y4373\n",
        "\tS962-2956 --> P86Y4379\n",
        "\tP7R42974 --> P86Y4411\n",
        "pickle/HP12_1081.pickle"
       ]
      },
      {
       "output_type": "stream",
       "stream": "stdout",
       "text": [
        "\n",
        "\tS907-2949 --> P86Y4435\n",
        "\tP7R43015 --> P86Y4458\n",
        "pickle/HP12_1082.pickle"
       ]
      },
      {
       "output_type": "stream",
       "stream": "stdout",
       "text": [
        "\n",
        "\tS962-3008 --> P86Y4481\n",
        "\tP7R43031 --> P86Y4482\n",
        "pickle/HP12_1083.pickle"
       ]
      },
      {
       "output_type": "stream",
       "stream": "stdout",
       "text": [
        "\n",
        "\tP7R43027 --> P86Y4474\n",
        "\tS962-2887 --> P86Y4485\n",
        "\tS962-2936 --> P86Y4506\n",
        "\tSEED-1170 --> P86Y4512\n",
        "\tSEED-2097 --> P86Y4517\n",
        "pickle/HP12_1084.pickle"
       ]
      },
      {
       "output_type": "stream",
       "stream": "stdout",
       "text": [
        "\n",
        "\tS962-2944 --> P86Y4534\n",
        "\tS962-2973 --> P86Y4540\n",
        "\tP7R43079 --> P86Y4558\n",
        "\tP7R43080 --> P86Y4559\n",
        "\tP7R43093 --> P86Y4576\n",
        "\tP7R43104 --> P86Y4585\n",
        "pickle/HP12_1085.pickle"
       ]
      },
      {
       "output_type": "stream",
       "stream": "stdout",
       "text": [
        "\n",
        "\tSEED-2019 --> P86Y4550\n",
        "\tP7R43094AG --> P86Y4583\n",
        "\tS962-2962 --> P86Y4600\n",
        "\tP7R43110 --> P86Y4602\n",
        "\tP7R43133 --> P86Y4618\n",
        "pickle/HP12_1086.pickle"
       ]
      },
      {
       "output_type": "stream",
       "stream": "stdout",
       "text": [
        "\n",
        "\tP7R43143 --> P86Y4635\n",
        "pickle/HP12_1087.pickle"
       ]
      },
      {
       "output_type": "stream",
       "stream": "stdout",
       "text": [
        "\n",
        "\tS907-2891 --> P86Y4682\n",
        "\tS907-2938 --> P86Y4684\n",
        "\tP7R43179 --> P86Y4689\n",
        "\tP7R43197A --> P86Y4716\n",
        "\tS962-2942 --> P86Y4726\n",
        "pickle/HP12_1088.pickle"
       ]
      },
      {
       "output_type": "stream",
       "stream": "stdout",
       "text": [
        "\n",
        "\tP7R43227B --> P86Y4764\n",
        "\tS962-2920 --> P86Y4781\n",
        "\tP7R43245A --> P86Y4783\n",
        "\tP7R43250G --> P86Y4791\n",
        "pickle/HP12_1089.pickle"
       ]
      },
      {
       "output_type": "stream",
       "stream": "stdout",
       "text": [
        "\n",
        "\tP7R43283 --> P86Y4839\n",
        "\tP7R43293AH --> P86Y4853\n",
        "\tS962-2978 --> P86Y4873\n",
        "pickle/HP12_1090.pickle"
       ]
      },
      {
       "output_type": "stream",
       "stream": "stdout",
       "text": [
        "\n",
        "\tS962-2990 --> P86Y4904\n",
        "\tP7R43360 --> P86Y4932\n",
        "pickle/HP12_1091.pickle"
       ]
      },
      {
       "output_type": "stream",
       "stream": "stdout",
       "text": [
        "\n",
        "\tS962-2985 --> P86Y4964\n",
        "\tP7R43383 --> P86Y4980\n",
        "\tP7R43384 --> P86Y4982\n",
        "\tS962-2995 --> P86Y5001\n",
        "pickle/HP12_1092.pickle"
       ]
      },
      {
       "output_type": "stream",
       "stream": "stdout",
       "text": [
        "\n",
        "\tS962-2912 --> P86Y5056\n",
        "\tP7R43445G --> P86Y5068\n",
        "\tS907-2921 --> P86Y5074\n",
        "\tS907-2939 --> P86Y5090\n",
        "pickle/HP12_1093.pickle"
       ]
      },
      {
       "output_type": "stream",
       "stream": "stdout",
       "text": [
        "\n",
        "\tP7R43508 --> P86Y5170\n",
        "\tP7R43515 --> P86Y5181\n",
        "\tS907-2994 --> P86Y5192\n",
        "\tP7R43529 --> P86Y5199\n",
        "\tP7R43536 --> P86Y5210\n",
        "pickle/HP12_1094.pickle"
       ]
      },
      {
       "output_type": "stream",
       "stream": "stdout",
       "text": [
        "\n",
        "\tS962-3009 --> P86Y5285\n",
        "\tP7R43597A --> P86Y5301\n",
        "\tP7R43606 --> P86Y5306\n",
        "pickle/HP12_1095.pickle"
       ]
      },
      {
       "output_type": "stream",
       "stream": "stdout",
       "text": [
        "\n",
        "\tP7R40019 --> P86Y0032\n",
        "\tP7R43667 --> P86Y5393\n",
        "\tP7R43679 --> P86Y5413\n",
        "pickle/HP12_1096.pickle"
       ]
      },
      {
       "output_type": "stream",
       "stream": "stdout",
       "text": [
        "\n",
        "\tP7R40061 --> P86Y0101\n",
        "pickle/HP12_1097.pickle"
       ]
      },
      {
       "output_type": "stream",
       "stream": "stdout",
       "text": [
        "\n",
        "\tS907-2966 --> P86Y0259\n",
        "pickle/HP12_1098.pickle"
       ]
      },
      {
       "output_type": "stream",
       "stream": "stdout",
       "text": [
        "\n",
        "\tS907-2901 --> P86Y0392\n",
        "\tP7R40264 --> P86Y0416\n",
        "\tP7R40263A --> P86Y0425\n",
        "\tS907-2894 --> P86Y0447\n",
        "\tP7R40304 --> P86Y0475\n",
        "pickle/HP12_1099.pickle"
       ]
      },
      {
       "output_type": "stream",
       "stream": "stdout",
       "text": [
        "\n",
        "\tP7R40341 --> P86Y0527\n",
        "\tP7R40374 --> P86Y0571\n",
        "\tS962-2974 --> P86Y0617\n",
        "\tS962-2949 --> P86Y0640\n",
        "\tP7R40417 --> P86Y0643\n",
        "pickle/HP12_1100.pickle"
       ]
      },
      {
       "output_type": "stream",
       "stream": "stdout",
       "text": [
        "\n",
        "\tP7R40462 --> P86Y0711\n",
        "\tSEED-2222 --> P86Y0715\n",
        "\tP7R40478 --> P86Y0736\n",
        "pickle/HP12_1101.pickle"
       ]
      },
      {
       "output_type": "stream",
       "stream": "stdout",
       "text": [
        "\n",
        "\tS907-2969 --> P86Y0767\n",
        "\tP7R40544 --> P86Y0826\n",
        "\tS907-2922 --> P86Y0828\n",
        "pickle/HP12_1102.pickle"
       ]
      },
      {
       "output_type": "stream",
       "stream": "stdout",
       "text": [
        "\n",
        "\tS962-3058 --> P86Y0865\n",
        "\tS962-2921 --> P86Y0887\n",
        "\tS962-2959 --> P86Y0898\n",
        "\tP7R40590 --> P86Y0922\n",
        "pickle/HP12_1103.pickle"
       ]
      },
      {
       "output_type": "stream",
       "stream": "stdout",
       "text": [
        "\n",
        "pickle/HP12_1104.pickle"
       ]
      },
      {
       "output_type": "stream",
       "stream": "stdout",
       "text": [
        "\n",
        "\tS962-3059 --> P86Y1023\n",
        "\tSEED-1176 --> P86Y1038\n",
        "\tS962-2839 --> P86Y1088\n",
        "pickle/HP12_1105.pickle"
       ]
      },
      {
       "output_type": "stream",
       "stream": "stdout",
       "text": [
        "\n",
        "\tS907-2996 --> P86Y1084\n",
        "\tP7R40687A --> P86Y1093\n",
        "\tP7R40729 --> P86Y1163\n",
        "pickle/HP12_1106.pickle"
       ]
      },
      {
       "output_type": "stream",
       "stream": "stdout",
       "text": [
        "\n",
        "\tS962-3026 --> P86Y1164\n",
        "\tP7R40736 --> P86Y1170\n",
        "\tP7R40740 --> P86Y1176\n",
        "\tP7R40766 --> P86Y1223\n",
        "pickle/HP12_1107.pickle"
       ]
      },
      {
       "output_type": "stream",
       "stream": "stdout",
       "text": [
        "\n",
        "\tS907-2954 --> P86Y1213\n",
        "pickle/HP12_1108.pickle"
       ]
      },
      {
       "output_type": "stream",
       "stream": "stdout",
       "text": [
        "\n",
        "\tP7R40816 --> P86Y1268\n",
        "\tS962-2967 --> P86Y1292\n",
        "pickle/HP12_1109.pickle"
       ]
      },
      {
       "output_type": "stream",
       "stream": "stdout",
       "text": [
        "\n",
        "\tS907-2990 --> P86Y1315\n",
        "pickle/HP12_1110.pickle"
       ]
      },
      {
       "output_type": "stream",
       "stream": "stdout",
       "text": [
        "\n",
        "\tS962-3013 --> P86Y1366\n",
        "\tP7R40868 --> P86Y1369\n",
        "\tS962-2945 --> P86Y1382\n",
        "\tP7R40875 --> P86Y1384\n",
        "\tP7R40888 --> P86Y1415\n",
        "pickle/HP12_1111.pickle"
       ]
      },
      {
       "output_type": "stream",
       "stream": "stdout",
       "text": [
        "\n",
        "\tP7R40891 --> P86Y1418\n",
        "\tSEED-2126 --> P86Y1423\n",
        "\tP7R40896 --> P86Y1427\n",
        "\tS962-2950 --> P86Y1428\n",
        "\tP7R40901 --> P86Y1433\n",
        "\tS962-2960 --> P86Y1450\n",
        "\tP7R40922 --> P86Y1461\n",
        "\tP7R40919P --> P86Y1470\n",
        "pickle/HP12_1112.pickle"
       ]
      },
      {
       "output_type": "stream",
       "stream": "stdout",
       "text": [
        "\n",
        "\tP7R40924G --> P86Y1468\n",
        "\tP7R40948 --> P86Y1505\n",
        "\tP7R40951 --> P86Y1513\n",
        "\tS962-2830 --> P86Y1524\n",
        "pickle/HP12_1113.pickle"
       ]
      },
      {
       "output_type": "stream",
       "stream": "stdout",
       "text": [
        "\n",
        "\tP7R40935 --> P86Y1501\n",
        "\tS907-2929 --> P86Y1510\n",
        "\tS907-2912 --> P86Y1550\n",
        "pickle/HP12_1114.pickle"
       ]
      },
      {
       "output_type": "stream",
       "stream": "stdout",
       "text": [
        "\n",
        "\tP7R40983 --> P86Y1560\n",
        "\tP7R41010 --> P86Y1608\n",
        "\tP7R41013 --> P86Y1612\n",
        "pickle/HP12_1115.pickle"
       ]
      },
      {
       "output_type": "stream",
       "stream": "stdout",
       "text": [
        "\n",
        "\tSEED-2109 --> P86Y1602\n",
        "\tP7R41014 --> P86Y1614\n",
        "\tP7R41025A --> P86Y1637\n",
        "pickle/HP12_1116.pickle"
       ]
      },
      {
       "output_type": "stream",
       "stream": "stdout",
       "text": [
        "\n",
        "\tSEED-2094 --> P86Y1671\n",
        "\tP7R41062 --> P86Y1703\n",
        "\tS962-2799 --> P86Y1781\n",
        "pickle/HP12_1117.pickle"
       ]
      },
      {
       "output_type": "stream",
       "stream": "stdout",
       "text": [
        "\n",
        "\tP7R41105 --> P86Y1757\n",
        "\tS907-2967 --> P86Y1810\n",
        "\tS962-2900 --> P86Y1856\n",
        "\tP7R41178 --> P86Y1870\n",
        "pickle/HP12_1118.pickle"
       ]
      },
      {
       "output_type": "stream",
       "stream": "stdout",
       "text": [
        "\n",
        "\tS962-2924 --> P86Y1932\n",
        "\tP7R41220 --> P86Y1948\n",
        "\tS907-2850 --> P86Y2065\n",
        "pickle/HP12_1119.pickle"
       ]
      },
      {
       "output_type": "stream",
       "stream": "stdout",
       "text": [
        "\n",
        "\tS907-3025 --> P86Y2096\n",
        "\tP7R41351 --> P86Y2147\n",
        "\tS907-2968 --> P86Y2186\n",
        "\tP7R41378 --> P86Y2195\n",
        "\tP7R41414AG --> P86Y2255\n",
        "\tP7R41473 --> P86Y2322\n",
        "pickle/HP12_1120.pickle"
       ]
      },
      {
       "output_type": "stream",
       "stream": "stdout",
       "text": [
        "\n",
        "\tP7R41583 --> P86Y2479\n",
        "\tP7R41656 --> P86Y2598\n",
        "\tS962-2894 --> P86Y2712\n",
        "\tP7R41743 --> P86Y2726\n",
        "pickle/HP12_1121.pickle"
       ]
      },
      {
       "output_type": "stream",
       "stream": "stdout",
       "text": [
        "\n",
        "\tP7R42023 --> P86Y3095\n",
        "\tP7R42054AH --> P86Y3148\n",
        "\tP7R42124 --> P86Y3232\n",
        "\tP7R42129 --> P86Y3237\n",
        "\tS907-2999 --> P86Y3255\n",
        "\tS907-2945 --> P86Y3430\n",
        "pickle/HP12_1122.pickle"
       ]
      },
      {
       "output_type": "stream",
       "stream": "stdout",
       "text": [
        "\n",
        "\tP7R42431 --> P86Y3690\n",
        "pickle/HP12_1123.pickle"
       ]
      },
      {
       "output_type": "stream",
       "stream": "stdout",
       "text": [
        "\n",
        "\tS907-2951 --> P86Y3885\n",
        "\tS962-2954 --> P86Y3925\n",
        "pickle/HP12_1124.pickle"
       ]
      },
      {
       "output_type": "stream",
       "stream": "stdout",
       "text": [
        "\n",
        "\tP7R42654 --> P86Y3801\n",
        "\tP7R42633J --> P86Y3929\n",
        "\tS962-2934 --> P86Y3967\n",
        "\tP7R42662 --> P86Y3992\n",
        "\tP7R42675 --> P86Y4010\n",
        "\tP7R42688 --> P86Y4026\n",
        "\tP7R42750 --> P86Y4103\n",
        "pickle/HP12_1125.pickle"
       ]
      },
      {
       "output_type": "stream",
       "stream": "stdout",
       "text": [
        "\n",
        "\tP7R42727AG --> P86Y4072\n",
        "pickle/HP12_1126.pickle"
       ]
      },
      {
       "output_type": "stream",
       "stream": "stdout",
       "text": [
        "\n",
        "\tP7R42818 --> P86Y4200\n",
        "\tP7R42836 --> P86Y4225\n",
        "\tP7R42852 --> P86Y4244\n",
        "\tS907-3005 --> P86Y4294\n",
        "pickle/HP12_1127.pickle"
       ]
      },
      {
       "output_type": "stream",
       "stream": "stdout",
       "text": [
        "\n",
        "\tS907-2823 --> P86Y4243\n",
        "\tS907-2826 --> P86Y4248\n",
        "\tP7R42861 --> P86Y4259\n",
        "\tP7R42868 --> P86Y4267\n",
        "\tP7R42926 --> P86Y4343\n",
        "\tP7R42935 --> P86Y4356\n",
        "pickle/HP12_1128.pickle"
       ]
      },
      {
       "output_type": "stream",
       "stream": "stdout",
       "text": [
        "\n",
        "\tP7R43008 --> P86Y4451\n",
        "\tS907-3030 --> P86Y4459\n",
        "pickle/HP12_1129.pickle"
       ]
      },
      {
       "output_type": "stream",
       "stream": "stdout",
       "text": [
        "\n",
        "\tP7R43021 --> P86Y4467\n",
        "\tP7R43032 --> P86Y4487\n",
        "pickle/HP12_1130.pickle"
       ]
      },
      {
       "output_type": "stream",
       "stream": "stdout",
       "text": [
        "\n",
        "\tP7R43072 --> P86Y4548\n",
        "pickle/HP12_1131.pickle"
       ]
      },
      {
       "output_type": "stream",
       "stream": "stdout",
       "text": [
        "\n",
        "\tSEED-1254 --> P86Y4555\n",
        "\tP7R43086 --> P86Y4565\n",
        "\tP7R43092G --> P86Y4572\n",
        "\tP7R43106 --> P86Y4587\n",
        "pickle/HP12_1132.pickle"
       ]
      },
      {
       "output_type": "stream",
       "stream": "stdout",
       "text": [
        "\n",
        "\tS962-3043 --> P86Y4595\n",
        "\tP7R43115 --> P86Y4603\n",
        "\tP7R43120A --> P86Y4610\n",
        "\tP7R43141P --> P86Y4636\n",
        "pickle/HP12_1133.pickle"
       ]
      },
      {
       "output_type": "stream",
       "stream": "stdout",
       "text": [
        "\n",
        "\tP7R43155 --> P86Y4647\n",
        "\tP7R43164 --> P86Y4664\n",
        "\tP7R43168 --> P86Y4667\n",
        "\tP7R43185A --> P86Y4699\n",
        "pickle/HP12_1134.pickle"
       ]
      },
      {
       "output_type": "stream",
       "stream": "stdout",
       "text": [
        "\n",
        "\tP7R43189 --> P86Y4703\n",
        "\tS907-3020 --> P86Y4721\n",
        "pickle/HP12_1135.pickle"
       ]
      },
      {
       "output_type": "stream",
       "stream": "stdout",
       "text": [
        "\n",
        "\tP7R43214 --> P86Y4740\n",
        "\tP7R43218 --> P86Y4747\n",
        "\tP7R43249 --> P86Y4788\n",
        "\tP7R43259 --> P86Y4805\n",
        "\tP7R43264 --> P86Y4815\n",
        "pickle/HP12_1136.pickle"
       ]
      },
      {
       "output_type": "stream",
       "stream": "stdout",
       "text": [
        "\n",
        "\tS907-3017 --> P86Y4826\n",
        "\tP7R43286 --> P86Y4838\n",
        "\tP7R43309 --> P86Y4865\n",
        "pickle/HP12_1137.pickle"
       ]
      },
      {
       "output_type": "stream",
       "stream": "stdout",
       "text": [
        "\n",
        "\tS907-3049 --> P86Y4885\n",
        "\tP7R43321G --> P86Y4888\n",
        "\tS907-3074 --> P86Y4915\n",
        "pickle/HP12_1138.pickle"
       ]
      },
      {
       "output_type": "stream",
       "stream": "stdout",
       "text": [
        "\n",
        "\tS907-3002 --> P86Y4943\n",
        "\tP7R43362 --> P86Y4945\n",
        "pickle/HP12_1139.pickle"
       ]
      },
      {
       "output_type": "stream",
       "stream": "stdout",
       "text": [
        "\n",
        "\tP7R43420 --> P86Y5028\n",
        "\tP7R43423 --> P86Y5033\n",
        "\tS907-3067 --> P86Y5049\n",
        "\tP7R43435 --> P86Y5052\n",
        "\tS962-3015 --> P86Y5062\n",
        "\tP7R43451 --> P86Y5082\n",
        "\tS907-3090 --> P86Y5094\n",
        "\tP7R43461 --> P86Y5101\n",
        "pickle/HP12_1140.pickle"
       ]
      },
      {
       "output_type": "stream",
       "stream": "stdout",
       "text": [
        "\n",
        "\tS962-3028 --> P86Y5162\n",
        "pickle/HP12_1141.pickle"
       ]
      },
      {
       "output_type": "stream",
       "stream": "stdout",
       "text": [
        "\n",
        "\tP7R43553G --> P86Y5233\n",
        "\tP7R43565 --> P86Y5250\n",
        "\tP7R43582 --> P86Y5272\n",
        "pickle/HP12_1142.pickle"
       ]
      },
      {
       "output_type": "stream",
       "stream": "stdout",
       "text": [
        "\n",
        "\tP7R43643 --> P86Y5358\n",
        "\tP7R43650G --> P86Y5369\n",
        "\tS907-3063 --> P86Y5392\n",
        "pickle/HP12_1143.pickle"
       ]
      },
      {
       "output_type": "stream",
       "stream": "stdout",
       "text": [
        "\n",
        "\tS907-3104 --> P86Y0058\n",
        "\tP7R40064 --> P86Y0096\n",
        "pickle/HP12_1144.pickle"
       ]
      },
      {
       "output_type": "stream",
       "stream": "stdout",
       "text": [
        "\n",
        "\tP7R40098 --> P86Y0152\n",
        "\tP7R40121 --> P86Y0192\n",
        "\tP7R40154 --> P86Y0241\n",
        "\tP7R40153 --> P86Y0242\n",
        "\tP7R40170G --> P86Y0268\n",
        "pickle/HP12_1145.pickle"
       ]
      },
      {
       "output_type": "stream",
       "stream": "stdout",
       "text": [
        "\n",
        "\tP7R40218 --> P86Y0333\n",
        "\tS962-3032 --> P86Y0334\n",
        "\tP7R40228 --> P86Y0350\n",
        "\tP7R40251G --> P86Y0397\n",
        "pickle/HP12_1146.pickle"
       ]
      },
      {
       "output_type": "stream",
       "stream": "stdout",
       "text": [
        "\n",
        "\tP7R40281 --> P86Y0444\n",
        "\tS907-3125 --> P86Y0461\n",
        "\tP7R40347 --> P86Y0544\n",
        "pickle/HP12_1147.pickle"
       ]
      },
      {
       "output_type": "stream",
       "stream": "stdout",
       "text": [
        "\n",
        "\tP7R40426 --> P86Y0658\n",
        "pickle/HP12_1148.pickle"
       ]
      },
      {
       "output_type": "stream",
       "stream": "stdout",
       "text": [
        "\n",
        "\tP7R40469 --> P86Y0721\n",
        "\tP7R40495 --> P86Y0756\n",
        "\tS962-3057 --> P86Y0758\n",
        "pickle/HP12_1149.pickle"
       ]
      },
      {
       "output_type": "stream",
       "stream": "stdout",
       "text": [
        "\n",
        "\tS907-3072 --> P86Y0790\n",
        "\tP7R40515 --> P86Y0794\n",
        "\tP7R40524 --> P86Y0804\n",
        "\tP7R40539 --> P86Y0819\n",
        "\tS907-2989 --> P86Y0827\n",
        "\tP7R40548 --> P86Y0833\n",
        "pickle/HP12_1150.pickle"
       ]
      },
      {
       "output_type": "stream",
       "stream": "stdout",
       "text": [
        "\n",
        "\tP7R40565A --> P86Y0867\n",
        "\tS907-3052 --> P86Y0881\n",
        "\tP7R40581 --> P86Y0893\n",
        "\tS962-3039 --> P86Y0894\n",
        "\tS962-3044 --> P86Y0921\n",
        "pickle/HP12_1151.pickle"
       ]
      },
      {
       "output_type": "stream",
       "stream": "stdout",
       "text": [
        "\n",
        "\tS962-3129 --> P86Y0952\n",
        "\tP7R40608 --> P86Y0958\n",
        "\tP7R40609A --> P86Y0961\n",
        "\tP7R40621G --> P86Y0979\n",
        "\tSEED-2146 --> P86Y1001\n",
        "pickle/HP12_1152.pickle"
       ]
      },
      {
       "output_type": "stream",
       "stream": "stdout",
       "text": [
        "\n",
        "\tP7R40660 --> P86Y1035\n",
        "\tSEED-2190 --> P86Y1039\n",
        "\tS962-3060 --> P86Y1073\n",
        "\tS962-3019 --> P86Y1075\n",
        "\tSEED-2120 --> P86Y1078\n",
        "\tS962-3007 --> P86Y1079\n",
        "pickle/HP12_1153.pickle"
       ]
      },
      {
       "output_type": "stream",
       "stream": "stdout",
       "text": [
        "\n",
        "\tP7R40718 --> P86Y1142\n",
        "pickle/HP12_1154.pickle"
       ]
      },
      {
       "output_type": "stream",
       "stream": "stdout",
       "text": [
        "\n",
        "\tP7R40712 --> P86Y1130\n",
        "\tP7R40719 --> P86Y1143\n",
        "\tP7R40746 --> P86Y1183\n",
        "pickle/HP12_1155.pickle"
       ]
      },
      {
       "output_type": "stream",
       "stream": "stdout",
       "text": [
        "\n",
        "\tP7R40761 --> P86Y1203\n",
        "\tS962-3040 --> P86Y1222\n",
        "\tP7R40778P --> P86Y1238\n",
        "pickle/HP12_1156.pickle"
       ]
      },
      {
       "output_type": "stream",
       "stream": "stdout",
       "text": [
        "\n",
        "\tP7R40820 --> P86Y1285\n",
        "\tS962-2964 --> P86Y1313\n",
        "pickle/HP12_1157.pickle"
       ]
      },
      {
       "output_type": "stream",
       "stream": "stdout",
       "text": [
        "\n",
        "\tSEED-2182 --> P86Y1332\n",
        "\tP7R40842 --> P86Y1333\n",
        "pickle/HP12_1158.pickle"
       ]
      },
      {
       "output_type": "stream",
       "stream": "stdout",
       "text": [
        "\n",
        "\tP7R40835 --> P86Y1327\n",
        "\tP7R40841AG --> P86Y1344\n",
        "\tSEED-1236 --> P86Y1378\n",
        "\tS962-3035 --> P86Y1402\n",
        "pickle/HP12_1159.pickle"
       ]
      },
      {
       "output_type": "stream",
       "stream": "stdout",
       "text": [
        "\n",
        "\tP7R40874G --> P86Y1386\n",
        "\tS907-3076 --> P86Y1394\n",
        "\tP7R40885 --> P86Y1408\n",
        "\tS962-3029 --> P86Y1436\n",
        "\tS907-3035 --> P86Y1437\n",
        "pickle/HP12_1160.pickle"
       ]
      },
      {
       "output_type": "stream",
       "stream": "stdout",
       "text": [
        "\n",
        "\tP7R40898 --> P86Y1429\n",
        "\tS907-3071 --> P86Y1439\n",
        "\tP7R40909 --> P86Y1449\n",
        "\tP7R40925A --> P86Y1475\n",
        "pickle/HP12_1161.pickle"
       ]
      },
      {
       "output_type": "stream",
       "stream": "stdout",
       "text": [
        "\n",
        "\tP7R40908 --> P86Y1446\n",
        "\tS962-3061 --> P86Y1480\n",
        "\tP7R40941 --> P86Y1502\n",
        "\tS962-2996 --> P86Y1514\n",
        "pickle/HP12_1162.pickle"
       ]
      },
      {
       "output_type": "stream",
       "stream": "stdout",
       "text": [
        "\n",
        "\tS962-3084 --> P86Y1527\n",
        "\tSEED-2187 --> P86Y1539\n",
        "\tP7R40971 --> P86Y1545\n",
        "\tS907-3053 --> P86Y1555\n",
        "\tP7R40988 --> P86Y1570\n",
        "\tS907-2979 --> P86Y1573\n",
        "\tP7R40990 --> P86Y1575\n",
        "pickle/HP12_1163.pickle"
       ]
      },
      {
       "output_type": "stream",
       "stream": "stdout",
       "text": [
        "\n",
        "\tS962-3080 --> P86Y1568\n",
        "\tSEED-2151 --> P86Y1610\n",
        "pickle/HP12_1164.pickle"
       ]
      },
      {
       "output_type": "stream",
       "stream": "stdout",
       "text": [
        "\n",
        "\tS962-3135 --> P86Y1599\n",
        "pickle/HP12_1165.pickle"
       ]
      },
      {
       "output_type": "stream",
       "stream": "stdout",
       "text": [
        "\n",
        "\tP7R41051A --> P86Y1689\n",
        "pickle/HP12_1166.pickle"
       ]
      },
      {
       "output_type": "stream",
       "stream": "stdout",
       "text": [
        "\n",
        "\tS962-3153 --> P86Y1801\n",
        "\tP7R41144 --> P86Y1817\n",
        "\tSEED-2307 --> P86Y2014\n",
        "pickle/HP12_1167.pickle"
       ]
      },
      {
       "output_type": "stream",
       "stream": "stdout",
       "text": [
        "\n",
        "\tSEED-2170 --> P86Y2171\n",
        "\tP7R41565 --> P86Y2456\n",
        "\tS962-3034 --> P86Y2511\n",
        "pickle/HP12_1168.pickle"
       ]
      },
      {
       "output_type": "stream",
       "stream": "stdout",
       "text": [
        "\n",
        "\tP7R41689H --> P86Y2626\n",
        "\tP7R41799 --> P86Y2805\n",
        "\tP7R41896 --> P86Y2926\n",
        "\tS962-3100 --> P86Y3187\n",
        "pickle/HP12_1169.pickle"
       ]
      },
      {
       "output_type": "stream",
       "stream": "stdout",
       "text": [
        "\n",
        "\tP7R42259 --> P86Y3469\n",
        "\tP7R42311 --> P86Y3520\n",
        "\tSEED-1280 --> P86Y3572\n",
        "\tS907-3000 --> P86Y3642\n",
        "\tS962-3118 --> P86Y3660\n",
        "\tP7R42421 --> P86Y3677\n",
        "\tP7R42453 --> P86Y3714\n",
        "\tP7R42512A --> P86Y3770\n",
        "\tP7R42469 --> P86Y3807\n",
        "pickle/HP12_1170.pickle"
       ]
      },
      {
       "output_type": "stream",
       "stream": "stdout",
       "text": [
        "\n",
        "\tS907-3015 --> P86Y3864\n",
        "\tP7R42707A --> P86Y4017\n",
        "pickle/HP12_1171.pickle"
       ]
      },
      {
       "output_type": "stream",
       "stream": "stdout",
       "text": [
        "\n",
        "\tP7R42701 --> P86Y4035\n",
        "\tP7R42774 --> P86Y4134\n",
        "\tS962-3082 --> P86Y4137\n",
        "\tP7R42812 --> P86Y4183\n",
        "pickle/HP12_1172.pickle"
       ]
      },
      {
       "output_type": "stream",
       "stream": "stdout",
       "text": [
        "\n",
        "\tP7R42756 --> P86Y4112\n",
        "pickle/HP12_1173.pickle"
       ]
      },
      {
       "output_type": "stream",
       "stream": "stdout",
       "text": [
        "\n",
        "\tP7R42843 --> P86Y4234\n",
        "\tP7R42850 --> P86Y4241\n",
        "\tP7R42853 --> P86Y4245\n",
        "\tSEED-2143 --> P86Y4264\n",
        "\tP7R42878 --> P86Y4280\n",
        "\tS962-3111 --> P86Y4318\n",
        "pickle/HP12_1174.pickle"
       ]
      },
      {
       "output_type": "stream",
       "stream": "stdout",
       "text": [
        "\n",
        "\tS962-3018 --> P86Y4316\n",
        "\tS907-3029 --> P86Y4330\n",
        "\tP7R42963G --> P86Y4395\n",
        "pickle/HP12_1175.pickle"
       ]
      },
      {
       "output_type": "stream",
       "stream": "stdout",
       "text": [
        "\n",
        "\tSEED-2168 --> P86Y4417\n",
        "\tS962-3091 --> P86Y4426\n",
        "\tP7R43019 --> P86Y4464\n",
        "pickle/HP12_1176.pickle"
       ]
      },
      {
       "output_type": "stream",
       "stream": "stdout",
       "text": [
        "\n",
        "\tS962-3187 --> P86Y4504\n",
        "\tP7R43047 --> P86Y4508\n",
        "\tP7R43056 --> P86Y4522\n",
        "pickle/HP12_1177.pickle"
       ]
      },
      {
       "output_type": "stream",
       "stream": "stdout",
       "text": [
        "\n",
        "\tP7R43076 --> P86Y4551\n",
        "pickle/HP12_1178.pickle"
       ]
      },
      {
       "output_type": "stream",
       "stream": "stdout",
       "text": [
        "\n",
        "\tS907-3100 --> P86Y4528\n",
        "\tS962-3250 --> P86Y4594\n",
        "pickle/HP12_1179.pickle"
       ]
      },
      {
       "output_type": "stream",
       "stream": "stdout",
       "text": [
        "\n",
        "\tP7R43094A --> P86Y4578\n",
        "\tS962-3125 --> P86Y4589\n",
        "\tS962-3175 --> P86Y4599\n",
        "\tP7R43118H --> P86Y4604\n",
        "\tP7R43129 --> P86Y4619\n",
        "\tP7R43138A --> P86Y4629\n",
        "pickle/HP12_1180.pickle"
       ]
      },
      {
       "output_type": "stream",
       "stream": "stdout",
       "text": [
        "\n",
        "\tSEED-2217 --> P86Y4617\n",
        "\tP7R43149P --> P86Y4642\n",
        "\tP7R43168A --> P86Y4668\n",
        "pickle/HP12_1181.pickle"
       ]
      },
      {
       "output_type": "stream",
       "stream": "stdout",
       "text": [
        "\n",
        "\tS962-3134 --> P86Y4659\n",
        "\tP7R43172 --> P86Y4675\n",
        "\tP7R43193 --> P86Y4707\n",
        "\tP7R43202 --> P86Y4720\n",
        "pickle/HP12_1182.pickle"
       ]
      },
      {
       "output_type": "stream",
       "stream": "stdout",
       "text": [
        "\n",
        "\tP7R43197B --> P86Y4718\n",
        "\tP7R43220P --> P86Y4750\n",
        "\tS907-3185 --> P86Y4773\n",
        "\tS962-3259 --> P86Y4784\n",
        "\tP7R43247 --> P86Y4787\n",
        "pickle/HP12_1183.pickle"
       ]
      },
      {
       "output_type": "stream",
       "stream": "stdout",
       "text": [
        "\n",
        "\tS962-3120 --> P86Y4790\n",
        "\tP7R43260 --> P86Y4808\n",
        "\tS962-3163 --> P86Y4814\n",
        "\tS962-3201 --> P86Y4821\n",
        "pickle/HP12_1184.pickle"
       ]
      },
      {
       "output_type": "stream",
       "stream": "stdout",
       "text": [
        "\n",
        "\tS907-3161 --> P86Y4842\n",
        "pickle/HP12_1185.pickle"
       ]
      },
      {
       "output_type": "stream",
       "stream": "stdout",
       "text": [
        "\n",
        "\tP7R43340 --> P86Y4917\n",
        "pickle/HP12_1186.pickle"
       ]
      },
      {
       "output_type": "stream",
       "stream": "stdout",
       "text": [
        "\n",
        "\tP7R43377 --> P86Y4975\n",
        "pickle/HP12_1187.pickle"
       ]
      },
      {
       "output_type": "stream",
       "stream": "stdout",
       "text": [
        "\n",
        "\tS962-3166 --> P86Y5060\n",
        "\tP7R43449 --> P86Y5081\n",
        "\tP7R43454 --> P86Y5085\n",
        "pickle/HP12_1188.pickle"
       ]
      },
      {
       "output_type": "stream",
       "stream": "stdout",
       "text": [
        "\n",
        "\tS907-3149 --> P86Y5141\n",
        "\tP7R43498 --> P86Y5159\n",
        "pickle/HP12_1189.pickle"
       ]
      },
      {
       "output_type": "stream",
       "stream": "stdout",
       "text": [
        "\n",
        "\tS962-3202 --> P86Y5193\n",
        "\tP7R43532 --> P86Y5204\n",
        "\tS907-3167 --> P86Y5214\n",
        "\tP7R43555 --> P86Y5234\n",
        "pickle/HP12_1190.pickle"
       ]
      },
      {
       "output_type": "stream",
       "stream": "stdout",
       "text": [
        "\n",
        "\tP7R43610 --> P86Y5312\n",
        "\tP7R43622 --> P86Y5329\n",
        "pickle/HP12_1191.pickle"
       ]
      },
      {
       "output_type": "stream",
       "stream": "stdout",
       "text": [
        "\n",
        "\tP7R40010A --> P86Y0017\n",
        "\tP7R40017 --> P86Y0027\n",
        "\tP7R40021 --> P86Y0034\n",
        "\tP7R43671 --> P86Y5399\n",
        "\tP7R43686 --> P86Y5419\n",
        "\tP7R43697 --> P86Y5427\n",
        "\tP7R43699 --> P86Y5434\n",
        "pickle/HP12_1192.pickle"
       ]
      },
      {
       "output_type": "stream",
       "stream": "stdout",
       "text": [
        "\n",
        "\tP7R40096A --> P86Y0155\n",
        "\tP7R40099A --> P86Y0156\n",
        "\tS907-3187 --> P86Y0161\n",
        "\tP7R40107 --> P86Y0166\n",
        "\tP7R40118 --> P86Y0186\n",
        "pickle/HP12_1193.pickle"
       ]
      },
      {
       "output_type": "stream",
       "stream": "stdout",
       "text": [
        "\n",
        "\tP7R40161 --> P86Y0252\n",
        "\tS962-3106 --> P86Y0303\n",
        "pickle/HP12_1194.pickle"
       ]
      },
      {
       "output_type": "stream",
       "stream": "stdout",
       "text": [
        "\n",
        "\tP7R40232 --> P86Y0363\n",
        "\tS907-3152 --> P86Y0381\n",
        "\tP7R40257 --> P86Y0406\n",
        "\tP7R40266 --> P86Y0421\n",
        "\tS907-3091 --> P86Y0427\n",
        "pickle/HP12_1195.pickle"
       ]
      },
      {
       "output_type": "stream",
       "stream": "stdout",
       "text": [
        "\n",
        "\tP7R40332 --> P86Y0515\n",
        "\tP7R40337 --> P86Y0522\n",
        "\tS907-3077 --> P86Y0535\n",
        "\tS907-3051 --> P86Y0558\n",
        "\tS962-3199 --> P86Y0572\n",
        "\tP7R40379 --> P86Y0582\n",
        "pickle/HP12_1196.pickle"
       ]
      },
      {
       "output_type": "stream",
       "stream": "stdout",
       "text": [
        "\n",
        "\tP7R40410 --> P86Y0634\n",
        "\tS962-3127 --> P86Y0652\n",
        "\tP7R40430 --> P86Y0661\n",
        "\tS962-3155 --> P86Y0666\n",
        "\tSEED-2211 --> P86Y0676\n",
        "\tSEED-1291 --> P86Y0683\n",
        "\tP7R40447 --> P86Y0686\n",
        "pickle/HP12_1197.pickle"
       ]
      },
      {
       "output_type": "stream",
       "stream": "stdout",
       "text": [
        "\n",
        "pickle/HP12_1198.pickle"
       ]
      },
      {
       "output_type": "stream",
       "stream": "stdout",
       "text": [
        "\n",
        "\tS962-3182 --> P86Y0847\n",
        "pickle/HP12_1199.pickle"
       ]
      },
      {
       "output_type": "stream",
       "stream": "stdout",
       "text": [
        "\n",
        "\tP7R40576 --> P86Y0891\n",
        "\tP7R40591I --> P86Y0927\n",
        "pickle/HP12_1200.pickle"
       ]
      },
      {
       "output_type": "stream",
       "stream": "stdout",
       "text": [
        "\n",
        "\tP7R40602A --> P86Y0951\n",
        "\tP7R40627P --> P86Y0976\n",
        "\tSEED-1297 --> P86Y0983\n",
        "\tP7R40634 --> P86Y0992\n",
        "\tS962-3101 --> P86Y1000\n",
        "\tSEED-1264 --> P86Y1005\n",
        "\tSEED-2244 --> P86Y1006\n",
        "pickle/HP12_1201.pickle"
       ]
      },
      {
       "output_type": "stream",
       "stream": "stdout",
       "text": [
        "\n",
        "\tP7R40649 --> P86Y1016\n",
        "\tP7R40664P --> P86Y1046\n",
        "\tP7R40674 --> P86Y1058\n",
        "pickle/HP12_1202.pickle"
       ]
      },
      {
       "output_type": "stream",
       "stream": "stdout",
       "text": [
        "\n",
        "\tP7R40687 --> P86Y1092\n",
        "\tP7R40694 --> P86Y1109\n",
        "\tP7R40703 --> P86Y1118\n",
        "\tP7R40705 --> P86Y1121\n",
        "pickle/HP12_1203.pickle"
       ]
      },
      {
       "output_type": "stream",
       "stream": "stdout",
       "text": [
        "\n",
        "\tP7R40691 --> P86Y1105\n",
        "\tP7R40706 --> P86Y1119\n",
        "\tP7R40719G --> P86Y1144\n",
        "\tS907-3153 --> P86Y1145\n",
        "\tP7R40727A --> P86Y1161\n",
        "pickle/HP12_1204.pickle"
       ]
      },
      {
       "output_type": "stream",
       "stream": "stdout",
       "text": [
        "\n",
        "\tS962-3180 --> P86Y1175\n",
        "\tP7R40791 --> P86Y1249\n",
        "pickle/HP12_1205.pickle"
       ]
      },
      {
       "output_type": "stream",
       "stream": "stdout",
       "text": [
        "\n",
        "\tP7R40760A --> P86Y1208\n",
        "\tS962-3149 --> P86Y1282\n",
        "pickle/HP12_1206.pickle"
       ]
      },
      {
       "output_type": "stream",
       "stream": "stdout",
       "text": [
        "\n",
        "\tS962-3203 --> P86Y1296\n",
        "\tS962-3165 --> P86Y1308\n",
        "\tP7R40831 --> P86Y1311\n",
        "pickle/HP12_1207.pickle"
       ]
      },
      {
       "output_type": "stream",
       "stream": "stdout",
       "text": [
        "\n",
        "\tP7R40839 --> P86Y1326\n",
        "pickle/HP12_1208.pickle"
       ]
      },
      {
       "output_type": "stream",
       "stream": "stdout",
       "text": [
        "\n",
        "\tS907-3168 --> P86Y1357\n",
        "\tS907-3128 --> P86Y1370\n",
        "\tP7R40881 --> P86Y1397\n",
        "pickle/HP12_1209.pickle"
       ]
      },
      {
       "output_type": "stream",
       "stream": "stdout",
       "text": [
        "\n",
        "\tS962-3271 --> P86Y1351\n",
        "\tS962-3215 --> P86Y1398\n",
        "\tP7R40904 --> P86Y1434\n",
        "pickle/HP12_1210.pickle"
       ]
      },
      {
       "output_type": "stream",
       "stream": "stdout",
       "text": [
        "\n",
        "\tSEED-2289 --> P86Y1391\n",
        "pickle/HP12_1211.pickle"
       ]
      },
      {
       "output_type": "stream",
       "stream": "stdout",
       "text": [
        "\n",
        "\tS907-3194 --> P86Y1441\n",
        "\tP7R40907 --> P86Y1445\n",
        "\tP7R40933 --> P86Y1490\n",
        "\tP7R40940 --> P86Y1498\n",
        "\tP7R40942 --> P86Y1500\n",
        "\tS907-3099 --> P86Y1519\n",
        "pickle/HP12_1212.pickle"
       ]
      },
      {
       "output_type": "stream",
       "stream": "stdout",
       "text": [
        "\n",
        "\tP7R40943 --> P86Y1503\n",
        "\tP7R40973 --> P86Y1546\n",
        "pickle/HP12_1213.pickle"
       ]
      },
      {
       "output_type": "stream",
       "stream": "stdout",
       "text": [
        "\n",
        "\tP7R40934 --> P86Y1491\n",
        "\tP7R40981 --> P86Y1558\n",
        "\tP7R41003 --> P86Y1597\n",
        "\tS962-3160 --> P86Y1644\n",
        "\tP7R41038 --> P86Y1661\n",
        "pickle/HP12_1214.pickle"
       ]
      },
      {
       "output_type": "stream",
       "stream": "stdout",
       "text": [
        "\n",
        "\tS962-3195 --> P86Y1615\n",
        "\tS907-3126 --> P86Y1719\n",
        "pickle/HP12_1215.pickle"
       ]
      },
      {
       "output_type": "stream",
       "stream": "stdout",
       "text": [
        "\n",
        "\tP7R41063A --> P86Y1696\n",
        "\tS907-3178 --> P86Y1722\n",
        "pickle/HP12_1216.pickle"
       ]
      },
      {
       "output_type": "stream",
       "stream": "stdout",
       "text": [
        "\n",
        "\tS907-3196 --> P86Y1988\n",
        "\tP7R41308B --> P86Y2115\n",
        "\tP7R41460 --> P86Y2321\n",
        "\tP7R41485 --> P86Y2341\n",
        "\tP7R41496 --> P86Y2370\n",
        "pickle/HP12_1217.pickle"
       ]
      },
      {
       "output_type": "stream",
       "stream": "stdout",
       "text": [
        "\n",
        "\tP7R42150A --> P86Y3279\n",
        "\tP7R42217 --> P86Y3386\n",
        "\tS962-3191 --> P86Y3685\n",
        "pickle/HP12_1218.pickle"
       ]
      },
      {
       "output_type": "stream",
       "stream": "stdout",
       "text": [
        "\n",
        "\tP7R42639 --> P86Y3960\n",
        "\tS962-3170 --> P86Y3972\n",
        "\tS907-3117 --> P86Y3994\n",
        "\tP7R42712 --> P86Y4052\n",
        "\tS907-3157 --> P86Y4105\n",
        "\tS962-3216 --> P86Y4126\n",
        "\tP7R42770 --> P86Y4173\n",
        "pickle/HP12_1219.pickle"
       ]
      },
      {
       "output_type": "stream",
       "stream": "stdout",
       "text": [
        "\n",
        "\tP7R42834A --> P86Y4238\n",
        "pickle/HP12_1220.pickle"
       ]
      },
      {
       "output_type": "stream",
       "stream": "stdout",
       "text": [
        "\n",
        "\tP7R42788 --> P86Y4149\n",
        "\tP7R42806 --> P86Y4177\n",
        "\tS907-3086 --> P86Y4191\n",
        "\tP7R42816 --> P86Y4197\n",
        "\tP7R42875 --> P86Y4276\n",
        "\tP7R42931B --> P86Y4354\n",
        "pickle/HP12_1221.pickle"
       ]
      },
      {
       "output_type": "stream",
       "stream": "stdout",
       "text": [
        "\n",
        "\tP7R42872 --> P86Y4254\n",
        "\tP7R42899 --> P86Y4306\n",
        "\tP7R42911 --> P86Y4326\n",
        "\tP7R42915 --> P86Y4333\n",
        "\tP7R42947 --> P86Y4374\n",
        "\tP7R42978G --> P86Y4414\n",
        "pickle/HP12_1222.pickle"
       ]
      },
      {
       "output_type": "stream",
       "stream": "stdout",
       "text": [
        "\n",
        "\tP7R42963 --> P86Y4394\n",
        "\tS907-3114 --> P86Y4402\n",
        "\tP7R42996 --> P86Y4437\n",
        "\tP7R43028 --> P86Y4479\n",
        "pickle/HP12_1223.pickle"
       ]
      },
      {
       "output_type": "stream",
       "stream": "stdout",
       "text": [
        "\n",
        "\tS962-3173 --> P86Y4436\n",
        "\tSEED-1336 --> P86Y4469\n",
        "\tP7R43046 --> P86Y4509\n",
        "pickle/HP12_1224.pickle"
       ]
      },
      {
       "output_type": "stream",
       "stream": "stdout",
       "text": [
        "\n",
        "\tS962-3247 --> P86Y4539\n",
        "\tS907-3210 --> P86Y4561\n",
        "\tS962-3319 --> P86Y4584\n",
        "pickle/HP12_1225.pickle"
       ]
      },
      {
       "output_type": "stream",
       "stream": "stdout",
       "text": [
        "\n",
        "\tS962-3218 --> P86Y4560\n",
        "\tS962-3275 --> P86Y4574\n",
        "\tP7R43118 --> P86Y4606\n",
        "\tP7R43126 --> P86Y4616\n",
        "pickle/HP12_1226.pickle"
       ]
      },
      {
       "output_type": "stream",
       "stream": "stdout",
       "text": [
        "\n",
        "\tP7R43141 --> P86Y4633\n",
        "\tS962-3299 --> P86Y4646\n",
        "\tP7R43154 --> P86Y4649\n",
        "\tS907-3271 --> P86Y4660\n",
        "\tP7R43171 --> P86Y4672\n",
        "pickle/HP12_1227.pickle"
       ]
      },
      {
       "output_type": "stream",
       "stream": "stdout",
       "text": [
        "\n",
        "\tS962-3243 --> P86Y4651\n",
        "\tP7R43157 --> P86Y4656\n",
        "\tP7R43174 --> P86Y4677\n",
        "\tSEED-2338 --> P86Y4714\n",
        "pickle/HP12_1228.pickle"
       ]
      },
      {
       "output_type": "stream",
       "stream": "stdout",
       "text": [
        "\n",
        "\tP7R43186 --> P86Y4698\n",
        "\tP7R43187 --> P86Y4700\n",
        "pickle/HP12_1229.pickle"
       ]
      },
      {
       "output_type": "stream",
       "stream": "stdout",
       "text": [
        "\n",
        "\tSEED-2255 --> P86Y4719\n",
        "\tP7R43203 --> P86Y4723\n",
        "\tP7R43219 --> P86Y4744\n",
        "pickle/HP12_1230.pickle"
       ]
      },
      {
       "output_type": "stream",
       "stream": "stdout",
       "text": [
        "\n",
        "\tP7R43270 --> P86Y4820\n",
        "\tP7R43271 --> P86Y4825\n",
        "pickle/HP12_1231.pickle"
       ]
      },
      {
       "output_type": "stream",
       "stream": "stdout",
       "text": [
        "\n",
        "\tP7R43312 --> P86Y4872\n",
        "\tP7R43311 --> P86Y4877\n",
        "\tP7R43319 --> P86Y4883\n",
        "\tSEED-2327 --> P86Y4900\n",
        "pickle/HP12_1232.pickle"
       ]
      },
      {
       "output_type": "stream",
       "stream": "stdout",
       "text": [
        "\n",
        "\tP7R43325 --> P86Y4891\n",
        "\tS907-3211 --> P86Y4898\n",
        "\tP7R43332 --> P86Y4902\n",
        "\tP7R43352 --> P86Y4926\n",
        "pickle/HP12_1233.pickle"
       ]
      },
      {
       "output_type": "stream",
       "stream": "stdout",
       "text": [
        "\n",
        "\tS907-3193 --> P86Y4973\n",
        "\tP7R43382 --> P86Y4977\n",
        "\tS907-3217 --> P86Y4988\n",
        "\tP7R43400 --> P86Y5005\n",
        "pickle/HP12_1234.pickle"
       ]
      },
      {
       "output_type": "stream",
       "stream": "stdout",
       "text": [
        "\n",
        "\tS962-3226 --> P86Y5022\n",
        "\tP7R43431 --> P86Y5041\n",
        "pickle/HP12_1235.pickle"
       ]
      },
      {
       "output_type": "stream",
       "stream": "stdout",
       "text": [
        "\n",
        "\tP7R43459 --> P86Y5096\n",
        "\tS907-3244 --> P86Y5109\n",
        "\tP7R43463A --> P86Y5112\n",
        "\tS907-3203 --> P86Y5142\n",
        "pickle/HP12_1236.pickle"
       ]
      },
      {
       "output_type": "stream",
       "stream": "stdout",
       "text": [
        "\n",
        "pickle/HP12_1237.pickle"
       ]
      },
      {
       "output_type": "stream",
       "stream": "stdout",
       "text": [
        "\n",
        "\tP7R43578 --> P86Y5265\n",
        "\tS962-3198 --> P86Y5269\n",
        "\tP7R43600 --> P86Y5295\n",
        "\tP7R43602 --> P86Y5299\n",
        "\tS907-3262 --> P86Y5311\n",
        "pickle/HP12_1238.pickle"
       ]
      },
      {
       "output_type": "stream",
       "stream": "stdout",
       "text": [
        "\n",
        "\tP7R43656 --> P86Y5376\n",
        "\tP7R43673 --> P86Y5408\n",
        "\tS907-3189 --> P86Y5416\n",
        "pickle/HP12_1239.pickle"
       ]
      },
      {
       "output_type": "stream",
       "stream": "stdout",
       "text": [
        "\n",
        "\tS907-3229 --> P86Y0069\n",
        "\tSEED-2256 --> P86Y0082\n",
        "\tP7R40069A --> P86Y0115\n",
        "pickle/HP12_1240.pickle"
       ]
      },
      {
       "output_type": "stream",
       "stream": "stdout",
       "text": [
        "\n",
        "\tP7R40103G --> P86Y0163\n",
        "pickle/HP12_1241.pickle"
       ]
      },
      {
       "output_type": "stream",
       "stream": "stdout",
       "text": [
        "\n",
        "\tS907-3207 --> P86Y0311\n",
        "\tP7R40199BP --> P86Y0313\n",
        "\tP7R40209A --> P86Y0323\n",
        "\tP7R40218G --> P86Y0338\n",
        "pickle/HP12_1242.pickle"
       ]
      },
      {
       "output_type": "stream",
       "stream": "stdout",
       "text": [
        "\n",
        "\tS907-3277 --> P86Y0419\n",
        "\tS907-3277A --> P86Y0422\n",
        "\tS907-3249 --> P86Y0431\n",
        "\tP7R40292 --> P86Y0458\n",
        "\tP7R40302 --> P86Y0474\n",
        "pickle/HP12_1243.pickle"
       ]
      },
      {
       "output_type": "stream",
       "stream": "stdout",
       "text": [
        "\n",
        "\tS962-3285 --> P86Y0520\n",
        "\tS962-3293 --> P86Y0536\n",
        "pickle/HP12_1244.pickle"
       ]
      },
      {
       "output_type": "stream",
       "stream": "stdout",
       "text": [
        "\n",
        "\tS907-3243 --> P86Y0639\n",
        "\tP7R40422 --> P86Y0650\n",
        "pickle/HP12_1245.pickle"
       ]
      },
      {
       "output_type": "stream",
       "stream": "stdout",
       "text": [
        "\n",
        "\tP7R40488 --> P86Y0749\n",
        "pickle/HP12_1246.pickle"
       ]
      },
      {
       "output_type": "stream",
       "stream": "stdout",
       "text": [
        "\n",
        "\tS907-3164 --> P86Y0853\n",
        "pickle/HP12_1247.pickle"
       ]
      },
      {
       "output_type": "stream",
       "stream": "stdout",
       "text": [
        "\n",
        "\tS907-3285 --> P86Y0880\n",
        "\tS907-3176 --> P86Y0939\n",
        "pickle/HP12_1248.pickle"
       ]
      },
      {
       "output_type": "stream",
       "stream": "stdout",
       "text": [
        "\n",
        "pickle/HP12_1249.pickle"
       ]
      },
      {
       "output_type": "stream",
       "stream": "stdout",
       "text": [
        "\n",
        "\tS962-3342 --> P86Y0993\n",
        "\tS907-3270 --> P86Y0996\n",
        "\tP7R40640 --> P86Y1002\n",
        "pickle/HP12_1250.pickle"
       ]
      },
      {
       "output_type": "stream",
       "stream": "stdout",
       "text": [
        "\n",
        "\tP7R40664 --> P86Y1043\n",
        "pickle/HP12_1251.pickle"
       ]
      },
      {
       "output_type": "stream",
       "stream": "stdout",
       "text": [
        "\n",
        "\tP7R40707 --> P86Y1124\n",
        "\tP7R40710A --> P86Y1125\n",
        "\tS962-3255 --> P86Y1153\n",
        "pickle/HP12_1252.pickle"
       ]
      },
      {
       "output_type": "stream",
       "stream": "stdout",
       "text": [
        "\n",
        "\tS962-3281 --> P86Y1154\n",
        "pickle/HP12_1253.pickle"
       ]
      },
      {
       "output_type": "stream",
       "stream": "stdout",
       "text": [
        "\n",
        "\tS962-3326 --> P86Y1174\n",
        "\tP7R40743 --> P86Y1181\n",
        "\tP7R40756 --> P86Y1200\n",
        "\tS907-3223 --> P86Y1210\n",
        "pickle/HP12_1254.pickle"
       ]
      },
      {
       "output_type": "stream",
       "stream": "stdout",
       "text": [
        "\n",
        "\tP7R40764G --> P86Y1218\n",
        "\tP7R40791G --> P86Y1251\n",
        "\tS907-3221 --> P86Y1283\n",
        "pickle/HP12_1255.pickle"
       ]
      },
      {
       "output_type": "stream",
       "stream": "stdout",
       "text": [
        "\n",
        "\tP7R40829 --> P86Y1305\n",
        "pickle/HP12_1256.pickle"
       ]
      },
      {
       "output_type": "stream",
       "stream": "stdout",
       "text": [
        "\n",
        "\tS907-3226 --> P86Y1316\n",
        "\tP7R40838 --> P86Y1325\n",
        "\tP7R40837 --> P86Y1337\n",
        "\tP7R40849 --> P86Y1346\n",
        "pickle/HP12_1257.pickle"
       ]
      },
      {
       "output_type": "stream",
       "stream": "stdout",
       "text": [
        "\n",
        "\tP7R40829A --> P86Y1306\n",
        "\tP7R40833 --> P86Y1318\n",
        "\tSEED-2303 --> P86Y1322\n",
        "pickle/HP12_1258.pickle"
       ]
      },
      {
       "output_type": "stream",
       "stream": "stdout",
       "text": [
        "\n",
        "\tP7R40854 --> P86Y1352\n",
        "\tP7R40875AH --> P86Y1388\n",
        "\tS962-3272 --> P86Y1405\n",
        "\tS962-3258 --> P86Y1426\n",
        "\tP7R40899 --> P86Y1431\n",
        "\tS962-3224 --> P86Y1442\n",
        "pickle/HP12_1259.pickle"
       ]
      },
      {
       "output_type": "stream",
       "stream": "stdout",
       "text": [
        "\n",
        "pickle/HP12_1260.pickle"
       ]
      },
      {
       "output_type": "stream",
       "stream": "stdout",
       "text": [
        "\n",
        "\tSEED-2305 --> P86Y1432\n",
        "\tP7R40912 --> P86Y1455\n",
        "\tS962-3251 --> P86Y1487\n",
        "\tP7R40980 --> P86Y1556\n",
        "pickle/HP12_1261.pickle"
       ]
      },
      {
       "output_type": "stream",
       "stream": "stdout",
       "text": [
        "\n",
        "\tP7R40845 --> P86Y1339\n",
        "\tS907-3292 --> P86Y1364\n",
        "pickle/HP12_1262.pickle"
       ]
      },
      {
       "output_type": "stream",
       "stream": "stdout",
       "text": [
        "\n",
        "\tP7R40924 --> P86Y1471\n",
        "\tP7R41047 --> P86Y1677\n",
        "pickle/HP12_1263.pickle"
       ]
      },
      {
       "output_type": "stream",
       "stream": "stdout",
       "text": [
        "\n",
        "\tP7R40780 --> P86Y1232\n",
        "\tP7R40776 --> P86Y1234\n",
        "\tSEED-2292 --> P86Y1561\n",
        "\tP7R41050 --> P86Y1683\n",
        "pickle/HP12_1264.pickle"
       ]
      },
      {
       "output_type": "stream",
       "stream": "stdout",
       "text": [
        "\n",
        "\tP7R42055A --> P86Y3145\n",
        "pickle/HP12_1265.pickle"
       ]
      },
      {
       "output_type": "stream",
       "stream": "stdout",
       "text": [
        "\n",
        "\tP7R42617A --> P86Y3931\n",
        "\tP7R43019G --> P86Y4453\n",
        "\tS962-3339 --> P86Y4553\n",
        "\tP7R43139A --> P86Y4685\n",
        "pickle/HP12_1266.pickle"
       ]
      },
      {
       "output_type": "stream",
       "stream": "stdout",
       "text": [
        "\n",
        "\tP7R42948A --> P86Y4323\n",
        "\tP7R43030 --> P86Y4477\n",
        "\tS907-3255 --> P86Y4484\n",
        "pickle/HP12_1267.pickle"
       ]
      },
      {
       "output_type": "stream",
       "stream": "stdout",
       "text": [
        "\n",
        "\tS907-3192 --> P86Y4359\n",
        "\tP7R42976 --> P86Y4412\n",
        "pickle/HP12_1268.pickle"
       ]
      },
      {
       "output_type": "stream",
       "stream": "stdout",
       "text": [
        "\n",
        "\tP7R42992 --> P86Y4438\n",
        "\tP7R43011A --> P86Y4460\n",
        "\tS962-3322 --> P86Y4503\n",
        "pickle/HP12_1269.pickle"
       ]
      },
      {
       "output_type": "stream",
       "stream": "stdout",
       "text": [
        "\n",
        "\tP7R43031A --> P86Y4486\n",
        "\tS907-3247 --> P86Y4496\n",
        "pickle/HP12_1270.pickle"
       ]
      },
      {
       "output_type": "stream",
       "stream": "stdout",
       "text": [
        "\n",
        "\tP7R42998G --> P86Y4444\n",
        "\tP7R43055 --> P86Y4519\n",
        "\tP7R43057 --> P86Y4527\n",
        "\tS962-3324 --> P86Y4535\n",
        "pickle/HP12_1271.pickle"
       ]
      },
      {
       "output_type": "stream",
       "stream": "stdout",
       "text": [
        "\n",
        "\tP7R43054 --> P86Y4523\n",
        "\tS962-3284 --> P86Y4524\n",
        "\tS907-3233 --> P86Y4546\n",
        "pickle/HP12_1272.pickle"
       ]
      },
      {
       "output_type": "stream",
       "stream": "stdout",
       "text": [
        "\n",
        "\tP7R43116 --> P86Y4601\n",
        "\tP7R43121 --> P86Y4609\n",
        "\tP7R43172G --> P86Y4676\n",
        "pickle/HP12_1273.pickle"
       ]
      },
      {
       "output_type": "stream",
       "stream": "stdout",
       "text": [
        "\n",
        "\tP7R43114 --> P86Y4596\n",
        "\tS907-3287 --> P86Y4640\n",
        "pickle/HP12_1274.pickle"
       ]
      },
      {
       "output_type": "stream",
       "stream": "stdout",
       "text": [
        "\n",
        "\tS962-3315 --> P86Y4643\n",
        "\tP7R43191 --> P86Y4708\n",
        "pickle/HP12_1275.pickle"
       ]
      },
      {
       "output_type": "stream",
       "stream": "stdout",
       "text": [
        "\n",
        "\tS962-3335 --> P86Y4686\n",
        "\tS962-3337 --> P86Y4694\n",
        "\tP7R43190 --> P86Y4702\n",
        "\tS907-3318 --> P86Y4704\n",
        "pickle/HP12_1276.pickle"
       ]
      },
      {
       "output_type": "stream",
       "stream": "stdout",
       "text": [
        "\n",
        "\tP7R43204 --> P86Y4724\n",
        "\tS962-3349 --> P86Y4730\n",
        "\tP7R43227A --> P86Y4763\n",
        "\tSEED-2386 --> P86Y4795\n",
        "pickle/HP12_1277.pickle"
       ]
      },
      {
       "output_type": "stream",
       "stream": "stdout",
       "text": [
        "\n",
        "\tP7R43229 --> P86Y4758\n",
        "\tP7R43254 --> P86Y4796\n",
        "\tS962-3391 --> P86Y4810\n",
        "pickle/HP12_1278.pickle"
       ]
      },
      {
       "output_type": "stream",
       "stream": "stdout",
       "text": [
        "\n",
        "\tS962-3332 --> P86Y4832\n",
        "\tP7R43293A --> P86Y4852\n",
        "pickle/HP12_1279.pickle"
       ]
      },
      {
       "output_type": "stream",
       "stream": "stdout",
       "text": [
        "\n",
        "\tP7R43289A --> P86Y4846\n",
        "\tP7R43293AG --> P86Y4854\n",
        "\tSEED-2316 --> P86Y4878\n",
        "\tP7R43337 --> P86Y4909\n",
        "pickle/HP12_1280.pickle"
       ]
      },
      {
       "output_type": "stream",
       "stream": "stdout",
       "text": [
        "\n",
        "\tP7R43342 --> P86Y4919\n",
        "pickle/HP12_1281.pickle"
       ]
      },
      {
       "output_type": "stream",
       "stream": "stdout",
       "text": [
        "\n",
        "\tSEED-2299 --> P86Y4953\n",
        "\tP7R43388G --> P86Y4989\n",
        "\tS962-3401 --> P86Y5010\n",
        "pickle/HP12_1282.pickle"
       ]
      },
      {
       "output_type": "stream",
       "stream": "stdout",
       "text": [
        "\n",
        "\tP7R43411 --> P86Y5017\n",
        "\tS907-3305 --> P86Y5020\n",
        "\tP7R43417 --> P86Y5024\n",
        "\tP7R43421 --> P86Y5029\n",
        "\tS907-3276 --> P86Y5047\n",
        "\tP7R43437 --> P86Y5053\n",
        "\tS907-3293 --> P86Y5058\n",
        "\tP7R43444 --> P86Y5065\n",
        "pickle/HP12_1283.pickle"
       ]
      },
      {
       "output_type": "stream",
       "stream": "stdout",
       "text": [
        "\n",
        "\tS962-3372 --> P86Y5104\n",
        "\tP7R43476 --> P86Y5134\n",
        "\tP7R43480 --> P86Y5138\n",
        "pickle/HP12_1284.pickle"
       ]
      },
      {
       "output_type": "stream",
       "stream": "stdout",
       "text": [
        "\n",
        "\tP7R43517 --> P86Y5182\n",
        "\tS962-3398 --> P86Y5202\n",
        "\tP7R43542 --> P86Y5220\n",
        "pickle/HP12_1285.pickle"
       ]
      },
      {
       "output_type": "stream",
       "stream": "stdout",
       "text": [
        "\n",
        "\tS962-3396 --> P86Y5267\n",
        "\tS962-3360 --> P86Y5283\n",
        "\tP7R43593G --> P86Y5291\n",
        "\tP7R43599 --> P86Y5296\n",
        "pickle/HP12_1286.pickle"
       ]
      },
      {
       "output_type": "stream",
       "stream": "stdout",
       "text": [
        "\n",
        "\tS907-3341 --> P86Y5347\n",
        "\tP7R43650 --> P86Y5366\n",
        "\tS907-3327 --> P86Y5375\n",
        "pickle/HP12_1287.pickle"
       ]
      },
      {
       "output_type": "stream",
       "stream": "stdout",
       "text": [
        "\n",
        "\tP7R40008 --> P86Y0015\n",
        "\tP7R40038 --> P86Y0066\n",
        "pickle/HP12_1288.pickle"
       ]
      },
      {
       "output_type": "stream",
       "stream": "stdout",
       "text": [
        "\n",
        "\tS962-3385 --> P86Y0128\n",
        "\tS962-3381 --> P86Y0160\n",
        "\tP7R40110 --> P86Y0170\n",
        "\tSEED-2328 --> P86Y0201\n",
        "pickle/HP12_1289.pickle"
       ]
      },
      {
       "output_type": "stream",
       "stream": "stdout",
       "text": [
        "\n",
        "\tP7R40145 --> P86Y0225\n",
        "\tSEED-1383 --> P86Y0276\n",
        "\tS962-3429 --> P86Y0279\n",
        "\tP7R40179 --> P86Y0280\n",
        "pickle/HP12_1290.pickle"
       ]
      },
      {
       "output_type": "stream",
       "stream": "stdout",
       "text": [
        "\n",
        "\tS962-3378 --> P86Y0330\n",
        "\tS962-3399 --> P86Y0357\n",
        "\tS907-3372 --> P86Y0362\n",
        "pickle/HP12_1291.pickle"
       ]
      },
      {
       "output_type": "stream",
       "stream": "stdout",
       "text": [
        "\n",
        "\tP7R40282 --> P86Y0442\n",
        "\tSEED-2322 --> P86Y0446\n",
        "\tP7R40287 --> P86Y0450\n",
        "pickle/HP12_1292.pickle"
       ]
      },
      {
       "output_type": "stream",
       "stream": "stdout",
       "text": [
        "\n",
        "\tP7R40378 --> P86Y0581\n",
        "\tP7R40388 --> P86Y0599\n",
        "\tP7R40393 --> P86Y0604\n",
        "pickle/HP12_1293.pickle"
       ]
      },
      {
       "output_type": "stream",
       "stream": "stdout",
       "text": [
        "\n",
        "\tS962-3325 --> P86Y0678\n",
        "pickle/HP12_1294.pickle"
       ]
      },
      {
       "output_type": "stream",
       "stream": "stdout",
       "text": [
        "\n",
        "\tS907-3297 --> P86Y0741\n",
        "\tP7R40484 --> P86Y0742\n",
        "\tP7R40486 --> P86Y0745\n",
        "\tP7R40498 --> P86Y0761\n",
        "pickle/HP12_1295.pickle"
       ]
      },
      {
       "output_type": "stream",
       "stream": "stdout",
       "text": [
        "\n",
        "\tP7R40542 --> P86Y0821\n",
        "pickle/HP12_1296.pickle"
       ]
      },
      {
       "output_type": "stream",
       "stream": "stdout",
       "text": [
        "\n",
        "\tS907-3349 --> P86Y0877\n",
        "\tS907-3335 --> P86Y0886\n",
        "\tS962-3336 --> P86Y0900\n",
        "\tP7R40586P --> P86Y0911\n",
        "\tS962-3320 --> P86Y0918\n",
        "\tP7R40591H --> P86Y0928\n",
        "pickle/HP12_1297.pickle"
       ]
      },
      {
       "output_type": "stream",
       "stream": "stdout",
       "text": [
        "\n",
        "\tS962-3425 --> P86Y0917\n",
        "\tSEED-2317 --> P86Y0953\n",
        "\tP7R40619 --> P86Y0977\n",
        "pickle/HP12_1298.pickle"
       ]
      },
      {
       "output_type": "stream",
       "stream": "stdout",
       "text": [
        "\n",
        "\tP7R40611 --> P86Y0962\n",
        "\tP7R40614 --> P86Y0967\n",
        "\tP7R40626 --> P86Y0985\n",
        "\tP7R40649G --> P86Y1020\n",
        "pickle/HP12_1299.pickle"
       ]
      },
      {
       "output_type": "stream",
       "stream": "stdout",
       "text": [
        "\n",
        "\tS962-3310 --> P86Y1077\n",
        "pickle/HP12_1300.pickle"
       ]
      },
      {
       "output_type": "stream",
       "stream": "stdout",
       "text": [
        "\n",
        "\tP7R40698A --> P86Y1113\n",
        "\tP7R40698AG --> P86Y1115\n",
        "\tP7R40713G --> P86Y1129\n",
        "pickle/HP12_1301.pickle"
       ]
      },
      {
       "output_type": "stream",
       "stream": "stdout",
       "text": [
        "\n",
        "\tP7R40704 --> P86Y1120\n",
        "\tP7R40723H --> P86Y1155\n",
        "pickle/HP12_1302.pickle"
       ]
      },
      {
       "output_type": "stream",
       "stream": "stdout",
       "text": [
        "\n",
        "\tS907-3376 --> P86Y1132\n",
        "\tS907-3336 --> P86Y1151\n",
        "\tS907-3346 --> P86Y1159\n",
        "\tSEED-2336 --> P86Y1186\n",
        "\tP7R40750 --> P86Y1191\n",
        "pickle/HP12_1303.pickle"
       ]
      },
      {
       "output_type": "stream",
       "stream": "stdout",
       "text": [
        "\n",
        "\tS962-3400 --> P86Y1184\n",
        "\tP7R40792 --> P86Y1248\n",
        "\tP7R40809 --> P86Y1266\n",
        "pickle/HP12_1304.pickle"
       ]
      },
      {
       "output_type": "stream",
       "stream": "stdout",
       "text": [
        "\n",
        "\tP7R40749 --> P86Y1190\n",
        "\tP7R40784 --> P86Y1242\n",
        "\tP7R40787A --> P86Y1244\n",
        "\tSEED-2337 --> P86Y1252\n",
        "\tP7R40795 --> P86Y1254\n",
        "pickle/HP12_1305.pickle"
       ]
      },
      {
       "output_type": "stream",
       "stream": "stdout",
       "text": [
        "\n",
        "\tP7R40801 --> P86Y1259\n",
        "\tP7R40804 --> P86Y1261\n",
        "pickle/HP12_1306.pickle"
       ]
      },
      {
       "output_type": "stream",
       "stream": "stdout",
       "text": [
        "\n",
        "\tP7R40775 --> P86Y1230\n",
        "\tP7R40814A --> P86Y1276\n",
        "\tS907-3298 --> P86Y1312\n",
        "\tSEED-2319 --> P86Y1334\n",
        "\tP7R40853 --> P86Y1350\n",
        "\tP7R40860 --> P86Y1361\n",
        "pickle/HP12_1307.pickle"
       ]
      },
      {
       "output_type": "stream",
       "stream": "stdout",
       "text": [
        "\n",
        "\tP7R40787BP --> P86Y1247\n",
        "\tP7R40813 --> P86Y1273\n",
        "\tP7R40823 --> P86Y1289\n",
        "\tS907-3254 --> P86Y1377\n",
        "pickle/HP12_1308.pickle"
       ]
      },
      {
       "output_type": "stream",
       "stream": "stdout",
       "text": [
        "\n",
        "\tP7R40846 --> P86Y1341\n",
        "\tP7R40865 --> P86Y1372\n",
        "\tP7R40877 --> P86Y1389\n",
        "pickle/HP12_1309.pickle"
       ]
      },
      {
       "output_type": "stream",
       "stream": "stdout",
       "text": [
        "\n",
        "\tP7R40787B --> P86Y1245\n",
        "\tS907-3325 --> P86Y1298\n",
        "\tS962-3338 --> P86Y1383\n",
        "pickle/HP12_1310.pickle"
       ]
      },
      {
       "output_type": "stream",
       "stream": "stdout",
       "text": [
        "\n",
        "\tP7R40716H --> P86Y1139\n",
        "\tP7R40768A --> P86Y1224\n",
        "\tP7R40807 --> P86Y1269\n",
        "\tS907-3331 --> P86Y1281\n",
        "\tP7R40840 --> P86Y1328\n",
        "\tS962-3352 --> P86Y1340\n",
        "pickle/HP12_1311.pickle"
       ]
      },
      {
       "output_type": "stream",
       "stream": "stdout",
       "text": [
        "\n",
        "\tS962-3430 --> P86Y1041\n",
        "\tS962-3395 --> P86Y1064\n",
        "\tP7R40818 --> P86Y1290\n",
        "pickle/HP12_1312.pickle"
       ]
      },
      {
       "output_type": "stream",
       "stream": "stdout",
       "text": [
        "\n",
        "\tP7R40314B --> P86Y0495\n",
        "\tP7R40818A --> P86Y1288\n",
        "pickle/HP12_1313.pickle"
       ]
      },
      {
       "output_type": "stream",
       "stream": "stdout",
       "text": [
        "\n",
        "\tP7R43307A --> P86Y4874\n",
        "\tS962-3405 --> P86Y4928\n",
        "\tP7R43433 --> P86Y5048\n",
        "\tSEED-2373 --> P86Y5072\n",
        "\tP7R43503 --> P86Y5172\n",
        "pickle/HP12_1314.pickle"
       ]
      },
      {
       "output_type": "stream",
       "stream": "stdout",
       "text": [
        "\n",
        "\tP7R43009 --> P86Y4433\n",
        "\tP7R43039 --> P86Y4476\n",
        "\tP7R43050 --> P86Y4529\n",
        "\tP7R43089 --> P86Y4575\n",
        "\tS907-3295 --> P86Y4577\n",
        "\tP7R43128 --> P86Y4622\n",
        "\tP7R43146 --> P86Y4638\n",
        "pickle/HP12_1315.pickle"
       ]
      },
      {
       "output_type": "stream",
       "stream": "stdout",
       "text": [
        "\n",
        "\tS907-3317 --> P86Y4571\n",
        "\tP7R43108 --> P86Y4581\n",
        "\tSEED-2363 --> P86Y4625\n",
        "\tP7R43180 --> P86Y4690\n",
        "pickle/HP12_1316.pickle"
       ]
      },
      {
       "output_type": "stream",
       "stream": "stdout",
       "text": [
        "\n",
        "\tS907-3321 --> P86Y4562\n",
        "pickle/HP12_1317.pickle"
       ]
      },
      {
       "output_type": "stream",
       "stream": "stdout",
       "text": [
        "\n",
        "\tP7R43059 --> P86Y4530\n",
        "\tP7R43062 --> P86Y4531\n",
        "\tP7R43084 --> P86Y4569\n",
        "pickle/HP12_1318.pickle"
       ]
      },
      {
       "output_type": "stream",
       "stream": "stdout",
       "text": [
        "\n",
        "\tP7R43077 --> P86Y4554\n",
        "\tS907-3348 --> P86Y4612\n",
        "pickle/HP12_1319.pickle"
       ]
      },
      {
       "output_type": "stream",
       "stream": "stdout",
       "text": [
        "\n",
        "\tP7R43071G --> P86Y4544\n",
        "\tP7R43123 --> P86Y4611\n",
        "pickle/HP12_1320.pickle"
       ]
      },
      {
       "output_type": "stream",
       "stream": "stdout",
       "text": [
        "\n",
        "\tP7R43155G --> P86Y4658\n",
        "\tS962-3515 --> P86Y4771\n",
        "pickle/HP12_1321.pickle"
       ]
      },
      {
       "output_type": "stream",
       "stream": "stdout",
       "text": [
        "\n",
        "\tP7R43188 --> P86Y4701\n",
        "\tP7R43223 --> P86Y4752\n",
        "\tS907-3420 --> P86Y4772\n",
        "pickle/HP12_1322.pickle"
       ]
      },
      {
       "output_type": "stream",
       "stream": "stdout",
       "text": [
        "\n",
        "\tP7R43208 --> P86Y4731\n",
        "\tS962-3464 --> P86Y4765\n",
        "\tP7R43261 --> P86Y4809\n",
        "pickle/HP12_1323.pickle"
       ]
      },
      {
       "output_type": "stream",
       "stream": "stdout",
       "text": [
        "\n",
        "\tS962-3375 --> P86Y4735\n",
        "pickle/HP12_1324.pickle"
       ]
      },
      {
       "output_type": "stream",
       "stream": "stdout",
       "text": [
        "\n",
        "\tP7R43281 --> P86Y4835\n",
        "\tS962-3496 --> P86Y4860\n",
        "pickle/HP12_1325.pickle"
       ]
      },
      {
       "output_type": "stream",
       "stream": "stdout",
       "text": [
        "\n",
        "\tP7R43277 --> P86Y4833\n",
        "\tS907-3373 --> P86Y4845\n",
        "\tP7R43317 --> P86Y4875\n",
        "pickle/HP12_1326.pickle"
       ]
      },
      {
       "output_type": "stream",
       "stream": "stdout",
       "text": [
        "\n",
        "\tP7R43307 --> P86Y4866\n",
        "\tP7R43329 --> P86Y4894\n",
        "\tSEED-1479 --> P86Y4918\n",
        "pickle/HP12_1327.pickle"
       ]
      },
      {
       "output_type": "stream",
       "stream": "stdout",
       "text": [
        "\n",
        "\tS907-3406 --> P86Y4937\n",
        "\tS962-3486 --> P86Y4955\n",
        "pickle/HP12_1328.pickle"
       ]
      },
      {
       "output_type": "stream",
       "stream": "stdout",
       "text": [
        "\n",
        "\tS907-3355 --> P86Y4968\n",
        "\tP7R43390 --> P86Y4990\n",
        "\tP7R43395 --> P86Y4994\n",
        "\tP7R43399 --> P86Y4999\n",
        "\tP7R43416 --> P86Y5032\n",
        "pickle/HP12_1329.pickle"
       ]
      },
      {
       "output_type": "stream",
       "stream": "stdout",
       "text": [
        "\n",
        "\tP7R43429 --> P86Y5042\n",
        "pickle/HP12_1330.pickle"
       ]
      },
      {
       "output_type": "stream",
       "stream": "stdout",
       "text": [
        "\n",
        "\tP7R43462 --> P86Y5108\n",
        "pickle/HP12_1331.pickle"
       ]
      },
      {
       "output_type": "stream",
       "stream": "stdout",
       "text": [
        "\n",
        "\tS962-3451 --> P86Y5154\n",
        "\tP7R43514 --> P86Y5179\n",
        "\tP7R43524 --> P86Y5195\n",
        "\tP7R43531 --> P86Y5201\n",
        "pickle/HP12_1332.pickle"
       ]
      },
      {
       "output_type": "stream",
       "stream": "stdout",
       "text": [
        "\n",
        "pickle/HP12_1333.pickle"
       ]
      },
      {
       "output_type": "stream",
       "stream": "stdout",
       "text": [
        "\n",
        "\tP7R43615A --> P86Y5307\n",
        "\tP7R43640 --> P86Y5355\n",
        "pickle/HP12_1334.pickle"
       ]
      },
      {
       "output_type": "stream",
       "stream": "stdout",
       "text": [
        "\n",
        "\tS907-3433 --> P86Y0009\n",
        "\tP7R43675G --> P86Y5412\n",
        "\tP7R43682G --> P86Y5415\n",
        "pickle/HP12_1335.pickle"
       ]
      },
      {
       "output_type": "stream",
       "stream": "stdout",
       "text": [
        "\n",
        "\tP7R40052 --> P86Y0081\n",
        "pickle/HP12_1336.pickle"
       ]
      },
      {
       "output_type": "stream",
       "stream": "stdout",
       "text": [
        "\n",
        "\tP7R40144 --> P86Y0219\n",
        "pickle/HP12_1337.pickle"
       ]
      },
      {
       "output_type": "stream",
       "stream": "stdout",
       "text": [
        "\n",
        "pickle/HP12_1338.pickle"
       ]
      },
      {
       "output_type": "stream",
       "stream": "stdout",
       "text": [
        "\n",
        "\tP7R40245 --> P86Y0387\n",
        "\tS907-3423 --> P86Y0398\n",
        "pickle/HP12_1339.pickle"
       ]
      },
      {
       "output_type": "stream",
       "stream": "stdout",
       "text": [
        "\n",
        "\tP7R40305 --> P86Y0479\n",
        "\tS962-3439 --> P86Y0480\n",
        "\tP7R40314 --> P86Y0490\n",
        "\tP7R40322G --> P86Y0503\n",
        "\tP7R40333 --> P86Y0516\n",
        "\tP7R40338 --> P86Y0524\n",
        "pickle/HP12_1340.pickle"
       ]
      },
      {
       "output_type": "stream",
       "stream": "stdout",
       "text": [
        "\n",
        "\tP7R40377 --> P86Y0580\n",
        "\tS907-3342 --> P86Y0622\n",
        "\tP7R40412 --> P86Y0633\n",
        "\tP7R40415 --> P86Y0641\n",
        "pickle/HP12_1341.pickle"
       ]
      },
      {
       "output_type": "stream",
       "stream": "stdout",
       "text": [
        "\n",
        "\tP7R40436 --> P86Y0670\n",
        "\tP7R40467 --> P86Y0719\n",
        "pickle/HP12_1342.pickle"
       ]
      },
      {
       "output_type": "stream",
       "stream": "stdout",
       "text": [
        "\n",
        "\tS962-3386 --> P86Y0779\n",
        "\tS907-3352 --> P86Y0786\n",
        "pickle/HP12_1343.pickle"
       ]
      },
      {
       "output_type": "stream",
       "stream": "stdout",
       "text": [
        "\n",
        "\tS962-3510 --> P86Y0792\n",
        "\tP7R40528 --> P86Y0809\n",
        "pickle/HP12_1344.pickle"
       ]
      },
      {
       "output_type": "stream",
       "stream": "stdout",
       "text": [
        "\n",
        "\tP7R40570 --> P86Y0874\n",
        "\tP7R40575G --> P86Y0889\n",
        "\tP7R40588 --> P86Y0913\n",
        "pickle/HP12_1345.pickle"
       ]
      },
      {
       "output_type": "stream",
       "stream": "stdout",
       "text": [
        "\n",
        "\tP7R40591A --> P86Y0929\n",
        "\tP7R40599 --> P86Y0943\n",
        "\tS907-3333 --> P86Y0959\n",
        "pickle/HP12_1346.pickle"
       ]
      },
      {
       "output_type": "stream",
       "stream": "stdout",
       "text": [
        "\n",
        "pickle/HP12_1347.pickle"
       ]
      },
      {
       "output_type": "stream",
       "stream": "stdout",
       "text": [
        "\n",
        "\tS962-3458 --> P86Y1004\n",
        "\tS907-3416 --> P86Y1008\n",
        "pickle/HP12_1348.pickle"
       ]
      },
      {
       "output_type": "stream",
       "stream": "stdout",
       "text": [
        "\n",
        "\tP7R40667G --> P86Y1050\n",
        "\tP7R40673 --> P86Y1057\n",
        "\tP7R40683A --> P86Y1086\n",
        "pickle/HP12_1349.pickle"
       ]
      },
      {
       "output_type": "stream",
       "stream": "stdout",
       "text": [
        "\n",
        "\tP7R40672 --> P86Y1056\n",
        "\tP7R40686 --> P86Y1091\n",
        "\tP7R40691H --> P86Y1107\n",
        "\tP7R40716 --> P86Y1138\n",
        "pickle/HP12_1350.pickle"
       ]
      },
      {
       "output_type": "stream",
       "stream": "stdout",
       "text": [
        "\n",
        "\tP7R40679 --> P86Y1074\n",
        "\tP7R40716G --> P86Y1140\n",
        "pickle/HP12_1351.pickle"
       ]
      },
      {
       "output_type": "stream",
       "stream": "stdout",
       "text": [
        "\n",
        "\tS907-3412 --> P86Y1133\n",
        "\tP7R40737 --> P86Y1173\n",
        "pickle/HP12_1352.pickle"
       ]
      },
      {
       "output_type": "stream",
       "stream": "stdout",
       "text": [
        "\n",
        "\tS962-3474 --> P86Y1157\n",
        "\tP7R40748 --> P86Y1188\n",
        "\tP7R40778 --> P86Y1235\n",
        "pickle/HP12_1353.pickle"
       ]
      },
      {
       "output_type": "stream",
       "stream": "stdout",
       "text": [
        "\n",
        "\tP7R40726 --> P86Y1160\n",
        "\tP7R40727 --> P86Y1162\n",
        "\tP7R40739 --> P86Y1178\n",
        "\tS907-3398 --> P86Y1187\n",
        "\tP7R40754 --> P86Y1198\n",
        "\tP7R40758 --> P86Y1206\n",
        "\tS962-3442 --> P86Y1216\n",
        "\tS962-3389 --> P86Y1279\n",
        "pickle/HP12_1354.pickle"
       ]
      },
      {
       "output_type": "stream",
       "stream": "stdout",
       "text": [
        "\n",
        "pickle/HP12_1355.pickle"
       ]
      },
      {
       "output_type": "stream",
       "stream": "stdout",
       "text": [
        "\n",
        "\tP7R40755 --> P86Y1201\n",
        "\tP7R40781 --> P86Y1217\n",
        "\tP7R40767 --> P86Y1221\n",
        "\tP7R40784G --> P86Y1239\n",
        "\tP7R40799 --> P86Y1256\n",
        "\tS907-3324 --> P86Y1304\n",
        "pickle/HP12_1356.pickle"
       ]
      },
      {
       "output_type": "stream",
       "stream": "stdout",
       "text": [
        "\n",
        "\tP7R40720 --> P86Y1146\n",
        "\tP7R40733 --> P86Y1168\n",
        "\tP7R40753 --> P86Y1205\n",
        "\tP7R40789A --> P86Y1246\n",
        "\tS962-3413 --> P86Y1263\n",
        "pickle/HP12_1357.pickle"
       ]
      },
      {
       "output_type": "stream",
       "stream": "stdout",
       "text": [
        "\n",
        "\t"
       ]
      },
      {
       "output_type": "stream",
       "stream": "stdout",
       "text": [
        "S962-3483 --> P86Y1072\n",
        "\tP7R40682G --> P86Y1080\n",
        "\tP7R40683AP --> P86Y1083\n",
        "\tSEED-1500 --> P86Y1095\n",
        "\tS962-3472 --> P86Y1117\n",
        "\tSEED-2423 --> P86Y1135\n",
        "\tSEED-2389 --> P86Y1169\n",
        "\tP7R40752G --> P86Y1197\n",
        "\tP7R40758A --> P86Y1225\n",
        "\tP7R40796A --> P86Y1278\n",
        "\tP7R40768Z --> P86Y1295\n",
        "pickle/HP12_1358.pickle"
       ]
      },
      {
       "output_type": "stream",
       "stream": "stdout",
       "text": [
        "\n",
        "\tS962-3522 --> P86Y0876\n",
        "\tS907-3395 --> P86Y1070\n",
        "pickle/HP12_1359.pickle"
       ]
      },
      {
       "output_type": "stream",
       "stream": "stdout",
       "text": [
        "\n",
        "\tP7R40407 --> P86Y0644\n",
        "\tP7R40446 --> P86Y0685\n",
        "\tSEED-2349 --> P86Y1051\n",
        "pickle/HP12_1360.pickle"
       ]
      },
      {
       "output_type": "stream",
       "stream": "stdout",
       "text": [
        "\n",
        "\tP7R40054 --> P86Y0085\n",
        "\tP7R40115 --> P86Y0165\n",
        "\tS907-3442 --> P86Y0198\n",
        "\tP7R43551 --> P86Y5229\n",
        "\tP7R43639A --> P86Y5357\n",
        "\tSEED-1480 --> P86Y5360\n",
        "pickle/HP12_1361.pickle"
       ]
      },
      {
       "output_type": "stream",
       "stream": "stdout",
       "text": [
        "\n",
        "\tS962-3445 --> P86Y4899\n",
        "\tSEED-1498 --> P86Y4987\n",
        "\tP7R43482 --> P86Y5140\n",
        "pickle/HP12_1362.pickle"
       ]
      },
      {
       "output_type": "stream",
       "stream": "stdout",
       "text": [
        "\n",
        "\tP7R43242 --> P86Y4777\n",
        "\tS907-3390 --> P86Y4798\n",
        "\tS907-3445 --> P86Y4929\n",
        "pickle/HP12_1363.pickle"
       ]
      },
      {
       "output_type": "stream",
       "stream": "stdout",
       "text": [
        "\n",
        "\tS962-3453 --> P86Y4728\n",
        "\tP7R43234 --> P86Y4770\n",
        "\tP7R43251 --> P86Y4794\n",
        "\tP7R43257 --> P86Y4803\n",
        "pickle/HP12_1364.pickle"
       ]
      },
      {
       "output_type": "stream",
       "stream": "stdout",
       "text": [
        "\n",
        "\tS907-3367 --> P86Y4637\n",
        "\tS907-3439 --> P86Y4775\n",
        "pickle/HP12_1365.pickle"
       ]
      },
      {
       "output_type": "stream",
       "stream": "stdout",
       "text": [
        "\n",
        "\tP7R43105 --> P86Y4586\n",
        "\tSEED-2379 --> P86Y4624\n",
        "\tP7R43231 --> P86Y4762\n",
        "pickle/HP12_1366.pickle"
       ]
      },
      {
       "output_type": "stream",
       "stream": "stdout",
       "text": [
        "\n",
        "\tP7R43153 --> P86Y4648\n",
        "\tSEED-2528 --> P86Y4657\n",
        "\tS962-3461 --> P86Y4681\n",
        "\tS907-3424 --> P86Y4722\n",
        "pickle/HP12_1367.pickle"
       ]
      },
      {
       "output_type": "stream",
       "stream": "stdout",
       "text": [
        "\n",
        "\tP7R43149 --> P86Y4644\n",
        "\tP7R43182 --> P86Y4693\n",
        "pickle/HP12_1368.pickle"
       ]
      },
      {
       "output_type": "stream",
       "stream": "stdout",
       "text": [
        "\n",
        "\tP7R43201 --> P86Y4715\n",
        "\tSEED-2432 --> P86Y4727\n",
        "\tP7R43215 --> P86Y4742\n",
        "\tP7R43255 --> P86Y4797\n",
        "\tP7R43266 --> P86Y4817\n",
        "\tS962-3590 --> P86Y4836\n",
        "pickle/HP12_1369.pickle"
       ]
      },
      {
       "output_type": "stream",
       "stream": "stdout",
       "text": [
        "\n",
        "\tP7R43228 --> P86Y4759\n",
        "\tP7R43237G --> P86Y4778\n",
        "\tP7R43293 --> P86Y4851\n",
        "pickle/HP12_1370.pickle"
       ]
      },
      {
       "output_type": "stream",
       "stream": "stdout",
       "text": [
        "\n",
        "\tP7R43224 --> P86Y4753\n",
        "\tP7R43256 --> P86Y4799\n",
        "\tSEED-1564 --> P86Y4840\n",
        "pickle/HP12_1371.pickle"
       ]
      },
      {
       "output_type": "stream",
       "stream": "stdout",
       "text": [
        "\n",
        "\tP7R43250 --> P86Y4792\n",
        "\tS907-3410 --> P86Y4800\n",
        "\tS962-3530 --> P86Y4841\n",
        "\tP7R43286H --> P86Y4847\n",
        "\tP7R43301 --> P86Y4864\n",
        "pickle/HP12_1372.pickle"
       ]
      },
      {
       "output_type": "stream",
       "stream": "stdout",
       "text": [
        "\n",
        "pickle/HP12_1373.pickle"
       ]
      },
      {
       "output_type": "stream",
       "stream": "stdout",
       "text": [
        "\n",
        "\tP7R43290 --> P86Y4849\n",
        "\tS907-3466 --> P86Y4914\n",
        "\tP7R43339 --> P86Y4916\n",
        "pickle/HP12_1374.pickle"
       ]
      },
      {
       "output_type": "stream",
       "stream": "stdout",
       "text": [
        "\n",
        "\tSEED-2438 --> P86Y4912\n",
        "\tP7R43356 --> P86Y4938\n",
        "pickle/HP12_1375.pickle"
       ]
      },
      {
       "output_type": "stream",
       "stream": "stdout",
       "text": [
        "\n",
        "\tP7R43350 --> P86Y4927\n",
        "\tS962-3519 --> P86Y4946\n",
        "\tP7R43365 --> P86Y4948\n",
        "\tP7R43378 --> P86Y4974\n",
        "pickle/HP12_1376.pickle"
       ]
      },
      {
       "output_type": "stream",
       "stream": "stdout",
       "text": [
        "\n",
        "\tP7R43401 --> P86Y5004\n",
        "pickle/HP12_1377.pickle"
       ]
      },
      {
       "output_type": "stream",
       "stream": "stdout",
       "text": [
        "\n",
        "\tP7R43438 --> P86Y5055\n",
        "\tP7R43453 --> P86Y5083\n",
        "\tS907-3491 --> P86Y5086\n",
        "\tS962-3540 --> P86Y5091\n",
        "\tS907-3535 --> P86Y5092\n",
        "pickle/HP12_1378.pickle"
       ]
      },
      {
       "output_type": "stream",
       "stream": "stdout",
       "text": [
        "\n",
        "\tP7R43485 --> P86Y5145\n",
        "pickle/HP12_1379.pickle"
       ]
      },
      {
       "output_type": "stream",
       "stream": "stdout",
       "text": [
        "\n",
        "\tP7R43518 --> P86Y5186\n",
        "\tS907-3551 --> P86Y5211\n",
        "pickle/HP12_1380.pickle"
       ]
      },
      {
       "output_type": "stream",
       "stream": "stdout",
       "text": [
        "\n",
        "pickle/HP12_1381.pickle"
       ]
      },
      {
       "output_type": "stream",
       "stream": "stdout",
       "text": [
        "\n",
        "\tS962-3527 --> P86Y5302\n",
        "pickle/HP12_1382.pickle"
       ]
      },
      {
       "output_type": "stream",
       "stream": "stdout",
       "text": [
        "\n",
        "\tS962-3502 --> P86Y5374\n",
        "\tS907-3437 --> P86Y5377\n",
        "\tS907-3508 --> P86Y5433\n",
        "pickle/HP12_1383.pickle"
       ]
      },
      {
       "output_type": "stream",
       "stream": "stdout",
       "text": [
        "\n",
        "\tSEED-2441 --> P86Y0048\n",
        "\tP7R40042G --> P86Y0073\n",
        "\tS962-3544 --> P86Y0100\n",
        "pickle/HP12_1384.pickle"
       ]
      },
      {
       "output_type": "stream",
       "stream": "stdout",
       "text": [
        "\n",
        "\tSEED-2443 --> P86Y0149\n",
        "\tP7R40105 --> P86Y0164\n",
        "\tS962-3583 --> P86Y0168\n",
        "pickle/HP12_1385.pickle"
       ]
      },
      {
       "output_type": "stream",
       "stream": "stdout",
       "text": [
        "\n",
        "\tS907-3484 --> P86Y0258\n",
        "\tS907-3418 --> P86Y0269\n",
        "\tP7R40176 --> P86Y0275\n",
        "\tP7R40187 --> P86Y0289\n",
        "\tP7R40189 --> P86Y0291\n",
        "pickle/HP12_1386.pickle"
       ]
      },
      {
       "output_type": "stream",
       "stream": "stdout",
       "text": [
        "\n",
        "\tP7R40211 --> P86Y0325\n",
        "\tS962-3535 --> P86Y0327\n",
        "\tP7R40231 --> P86Y0359\n",
        "\tS907-3492 --> P86Y0371\n",
        "\tP7R40238A --> P86Y0373\n",
        "pickle/HP12_1387.pickle"
       ]
      },
      {
       "output_type": "stream",
       "stream": "stdout",
       "text": [
        "\n",
        "\tP7R40256 --> P86Y0407\n",
        "\tP7R40291 --> P86Y0453\n",
        "\tP7R40297G --> P86Y0469\n",
        "pickle/HP12_1388.pickle"
       ]
      },
      {
       "output_type": "stream",
       "stream": "stdout",
       "text": [
        "\n",
        "\tP7R40326G --> P86Y0546\n",
        "\tP7R40353G --> P86Y0555\n",
        "\tP7R40363 --> P86Y0561\n",
        "pickle/HP12_1389.pickle"
       ]
      },
      {
       "output_type": "stream",
       "stream": "stdout",
       "text": [
        "\n",
        "\tS962-3568 --> P86Y0601\n",
        "\tP7R40392 --> P86Y0603\n",
        "\tS962-3503 --> P86Y0605\n",
        "\tSEED-1545 --> P86Y0619\n",
        "\tP7R40419 --> P86Y0647\n",
        "pickle/HP12_1390.pickle"
       ]
      },
      {
       "output_type": "stream",
       "stream": "stdout",
       "text": [
        "\n",
        "pickle/HP12_1391.pickle"
       ]
      },
      {
       "output_type": "stream",
       "stream": "stdout",
       "text": [
        "\n",
        "\tP7R40467G --> P86Y0723\n",
        "\tP7R40476 --> P86Y0730\n",
        "pickle/HP12_1392.pickle"
       ]
      },
      {
       "output_type": "stream",
       "stream": "stdout",
       "text": [
        "\n",
        "\tP7R40503G --> P86Y0773\n",
        "\tP7R40505 --> P86Y0776\n",
        "\tS907-3479 --> P86Y0806\n",
        "\tS962-3514 --> P86Y0818\n",
        "\tS907-3414 --> P86Y0831\n",
        "\tP7R40548H --> P86Y0837\n",
        "pickle/HP12_1393.pickle"
       ]
      },
      {
       "output_type": "stream",
       "stream": "stdout",
       "text": [
        "\n",
        "\tS962-3501 --> P86Y0872\n",
        "pickle/HP12_1394.pickle"
       ]
      },
      {
       "output_type": "stream",
       "stream": "stdout",
       "text": [
        "\n",
        "\tP7R40574A --> P86Y0882\n",
        "\tP7R40591 --> P86Y0923\n",
        "\tP7R40592 --> P86Y0933\n",
        "\tP7R40600 --> P86Y0945\n",
        "pickle/HP12_1395.pickle"
       ]
      },
      {
       "output_type": "stream",
       "stream": "stdout",
       "text": [
        "\n",
        "\tP7R40595 --> P86Y0937\n",
        "\tP7R40609 --> P86Y0957\n",
        "\tS962-3524 --> P86Y0960\n",
        "\tS962-3489 --> P86Y0965\n",
        "pickle/HP12_1396.pickle"
       ]
      },
      {
       "output_type": "stream",
       "stream": "stdout",
       "text": [
        "\n",
        "\tP7R40648 --> P86Y1015\n",
        "\tP7R40654 --> P86Y1028\n",
        "pickle/HP12_1397.pickle"
       ]
      },
      {
       "output_type": "stream",
       "stream": "stdout",
       "text": [
        "\n",
        "\tP7R40646 --> P86Y1012\n",
        "\tP7R40658 --> P86Y1031\n",
        "pickle/HP12_1398.pickle"
       ]
      },
      {
       "output_type": "stream",
       "stream": "stdout",
       "text": [
        "\n",
        "\tP7R40659 --> P86Y1034\n",
        "\tP7R40669 --> P86Y1054\n",
        "\tS962-3525 --> P86Y1059\n",
        "pickle/HP12_1399.pickle"
       ]
      },
      {
       "output_type": "stream",
       "stream": "stdout",
       "text": [
        "\n",
        "\tP7R40657 --> P86Y1030\n",
        "\tP7R40684 --> P86Y1087\n",
        "pickle/HP12_1400.pickle"
       ]
      },
      {
       "output_type": "stream",
       "stream": "stdout",
       "text": [
        "\n",
        "\tSEED-2442 --> P86Y1126\n",
        "pickle/HP12_1401.pickle"
       ]
      },
      {
       "output_type": "stream",
       "stream": "stdout",
       "text": [
        "\n",
        "\tP7R40675 --> P86Y1062\n",
        "pickle/HP12_1402.pickle"
       ]
      },
      {
       "output_type": "stream",
       "stream": "stdout",
       "text": [
        "\n",
        "\tS962-3569 --> P86Y1066\n",
        "\tSEED-2467 --> P86Y1102\n",
        "pickle/HP12_1403.pickle"
       ]
      },
      {
       "output_type": "stream",
       "stream": "stdout",
       "text": [
        "\n",
        "\tS962-3575 --> P86Y1042\n",
        "\tS962-3537 --> P86Y1098\n",
        "\tP7R40711 --> P86Y1131\n",
        "pickle/HP12_1404.pickle"
       ]
      },
      {
       "output_type": "stream",
       "stream": "stdout",
       "text": [
        "\n",
        "\tS907-3557 --> P86Y0982\n",
        "\tP7R40643 --> P86Y1010\n",
        "\tP7R40667 --> P86Y1048\n",
        "\tS962-3534 --> P86Y1065\n",
        "\tP7R40713 --> P86Y1134\n",
        "pickle/HP12_1405.pickle"
       ]
      },
      {
       "output_type": "stream",
       "stream": "stdout",
       "text": [
        "\n",
        "\tP7R40621 --> P86Y0981\n",
        "\tS907-3463 --> P86Y1040\n",
        "\tS907-3454 --> P86Y1060\n",
        "pickle/HP12_1406.pickle"
       ]
      },
      {
       "output_type": "stream",
       "stream": "stdout",
       "text": [
        "\n",
        "\tP7R40565 --> P86Y0870\n",
        "\tS907-3427 --> P86Y1019\n",
        "\tP7R40652 --> P86Y1026\n",
        "pickle/HP12_1407.pickle"
       ]
      },
      {
       "output_type": "stream",
       "stream": "stdout",
       "text": [
        "\n",
        "pickle/HP12_1408.pickle"
       ]
      },
      {
       "output_type": "stream",
       "stream": "stdout",
       "text": [
        "\n",
        "\tS962-3523 --> P86Y0306\n",
        "\tSEED-2497 --> P86Y0315\n",
        "\tP7R40348 --> P86Y0540\n",
        "pickle/HP12_1409.pickle"
       ]
      },
      {
       "output_type": "stream",
       "stream": "stdout",
       "text": [
        "\n",
        "\tP7R43639 --> P86Y5354\n",
        "\tP7R43670 --> P86Y5402\n",
        "pickle/HP12_1410.pickle"
       ]
      },
      {
       "output_type": "stream",
       "stream": "stdout",
       "text": [
        "\n",
        "\tP7R43397 --> P86Y4995\n",
        "\tS962-3513 --> P86Y5035\n",
        "\tS907-3465 --> P86Y5040\n",
        "pickle/HP12_1411.pickle"
       ]
      },
      {
       "output_type": "stream",
       "stream": "stdout",
       "text": [
        "\n",
        "\tS907-3457 --> P86Y4857\n",
        "pickle/HP12_1412.pickle"
       ]
      },
      {
       "output_type": "stream",
       "stream": "stdout",
       "text": [
        "\n",
        "\tP7R43308 --> P86Y4867\n",
        "pickle/HP12_1413.pickle"
       ]
      },
      {
       "output_type": "stream",
       "stream": "stdout",
       "text": [
        "\n",
        "\tP7R43233 --> P86Y4769\n",
        "\tP7R43274 --> P86Y4829\n",
        "pickle/HP12_1414.pickle"
       ]
      },
      {
       "output_type": "stream",
       "stream": "stdout",
       "text": [
        "\n",
        "\tP7R43245 --> P86Y4782\n",
        "\tS907-3528 --> P86Y4822\n",
        "pickle/HP12_1415.pickle"
       ]
      },
      {
       "output_type": "stream",
       "stream": "stdout",
       "text": [
        "\n",
        "\tP7R43234A --> P86Y4767\n",
        "\tP7R43248 --> P86Y4786\n",
        "\tS962-3560 --> P86Y4802\n",
        "\tP7R43273 --> P86Y4827\n",
        "pickle/HP12_1416.pickle"
       ]
      },
      {
       "output_type": "stream",
       "stream": "stdout",
       "text": [
        "\n",
        "pickle/HP12_1417.pickle"
       ]
      },
      {
       "output_type": "stream",
       "stream": "stdout",
       "text": [
        "\n",
        "\tS962-3619 --> P86Y4884\n",
        "\tSEED-2522 --> P86Y4889\n",
        "pickle/HP12_1418.pickle"
       ]
      },
      {
       "output_type": "stream",
       "stream": "stdout",
       "text": [
        "\n",
        "pickle/HP12_1419.pickle"
       ]
      },
      {
       "output_type": "stream",
       "stream": "stdout",
       "text": [
        "\n",
        "pickle/HP12_1420.pickle"
       ]
      },
      {
       "output_type": "stream",
       "stream": "stdout",
       "text": [
        "\n",
        "\tSEED-2468 --> P86Y4880\n",
        "\tP7R43335A --> P86Y4905\n",
        "\tS962-3614 --> P86Y4933\n",
        "pickle/HP12_1421.pickle"
       ]
      },
      {
       "output_type": "stream",
       "stream": "stdout",
       "text": [
        "\n",
        "\tS962-3577 --> P86Y4925\n",
        "\tS962-3601 --> P86Y4931\n",
        "\tP7R43392 --> P86Y4993\n",
        "pickle/HP12_1422.pickle"
       ]
      },
      {
       "output_type": "stream",
       "stream": "stdout",
       "text": [
        "\n",
        "\tS907-3502 --> P86Y4956\n",
        "\tS907-3568 --> P86Y4978\n",
        "\tP7R43398 --> P86Y4998\n",
        "\tS907-3572 --> P86Y5018\n",
        "\tP7R43422 --> P86Y5030\n",
        "pickle/HP12_1423.pickle"
       ]
      },
      {
       "output_type": "stream",
       "stream": "stdout",
       "text": [
        "\n",
        "\tS907-3503 --> P86Y5002\n",
        "\tP7R43411A --> P86Y5019\n",
        "\tP7R43419 --> P86Y5026\n",
        "\tS907-3560 --> P86Y5027\n",
        "pickle/HP12_1424.pickle"
       ]
      },
      {
       "output_type": "stream",
       "stream": "stdout",
       "text": [
        "\n",
        "\tS962-3609 --> P86Y5064\n",
        "\tS907-3534 --> P86Y5069\n",
        "\tP7R43470 --> P86Y5118\n",
        "pickle/HP12_1425.pickle"
       ]
      },
      {
       "output_type": "stream",
       "stream": "stdout",
       "text": [
        "\n",
        "\tS907-3506 --> P86Y5111\n",
        "pickle/HP12_1426.pickle"
       ]
      },
      {
       "output_type": "stream",
       "stream": "stdout",
       "text": [
        "\n",
        "pickle/HP12_1427.pickle"
       ]
      },
      {
       "output_type": "stream",
       "stream": "stdout",
       "text": [
        "\n",
        "\tP7R43540 --> P86Y5215\n",
        "\tP7R43539 --> P86Y5216\n",
        "\tS907-3555 --> P86Y5222\n",
        "\tP7R43572 --> P86Y5255\n",
        "pickle/HP12_1428.pickle"
       ]
      },
      {
       "output_type": "stream",
       "stream": "stdout",
       "text": [
        "\n",
        "\tP7R43583 --> P86Y5273\n",
        "\tS907-3571 --> P86Y5282\n",
        "\tS907-3564 --> P86Y5288\n",
        "\tP7R43613 --> P86Y5315\n",
        "pickle/HP12_1429.pickle"
       ]
      },
      {
       "output_type": "stream",
       "stream": "stdout",
       "text": [
        "\n",
        "\tP7R43649 --> P86Y5364\n",
        "\tP7R43654 --> P86Y5381\n",
        "\tP7R43672 --> P86Y5404\n",
        "pickle/HP12_1430.pickle"
       ]
      },
      {
       "output_type": "stream",
       "stream": "stdout",
       "text": [
        "\n",
        "\tP7R40002 --> P86Y0004\n",
        "\tP7R40009 --> P86Y0010\n",
        "\tP7R40019AG --> P86Y0042\n",
        "\tS962-3602 --> P86Y0051\n",
        "\tP7R40034P --> P86Y0062\n",
        "pickle/HP12_1431.pickle"
       ]
      },
      {
       "output_type": "stream",
       "stream": "stdout",
       "text": [
        "\n",
        "\tP7R40055 --> P86Y0086\n",
        "\tS962-3623 --> P86Y0114\n",
        "\tP7R40075 --> P86Y0117\n",
        "pickle/HP12_1432.pickle"
       ]
      },
      {
       "output_type": "stream",
       "stream": "stdout",
       "text": [
        "\n",
        "\tP7R40113 --> P86Y0175\n",
        "\tP7R40119 --> P86Y0187\n",
        "\tS907-3538 --> P86Y0191\n",
        "\tS907-3543 --> P86Y0218\n",
        "pickle/HP12_1433.pickle"
       ]
      },
      {
       "output_type": "stream",
       "stream": "stdout",
       "text": [
        "\n",
        "pickle/HP12_1434.pickle"
       ]
      },
      {
       "output_type": "stream",
       "stream": "stdout",
       "text": [
        "\n",
        "\tS907-3468 --> P86Y0389\n",
        "\tSEED-2479 --> P86Y0390\n",
        "pickle/HP12_1435.pickle"
       ]
      },
      {
       "output_type": "stream",
       "stream": "stdout",
       "text": [
        "\n",
        "\tS962-3615 --> P86Y0417\n",
        "\tP7R40293 --> P86Y0456\n",
        "\tS962-3587 --> P86Y0473\n",
        "\tP7R40310 --> P86Y0483\n",
        "pickle/HP12_1436.pickle"
       ]
      },
      {
       "output_type": "stream",
       "stream": "stdout",
       "text": [
        "\n",
        "\tP7R40349G --> P86Y0543\n",
        "\tS962-3638 --> P86Y0550\n",
        "\tSEED-2480 --> P86Y0570\n",
        "pickle/HP12_1437.pickle"
       ]
      },
      {
       "output_type": "stream",
       "stream": "stdout",
       "text": [
        "\n",
        "\tP7R40395 --> P86Y0606\n",
        "\tP7R40402 --> P86Y0618\n",
        "\tP7R40406G --> P86Y0631\n",
        "pickle/HP12_1438.pickle"
       ]
      },
      {
       "output_type": "stream",
       "stream": "stdout",
       "text": [
        "\n",
        "\tP7R40438 --> P86Y0672\n",
        "\tP7R40439 --> P86Y0673\n",
        "\tS962-3595 --> P86Y0680\n",
        "\tS907-3594 --> P86Y0687\n",
        "\tP7R40458 --> P86Y0704\n",
        "pickle/HP12_1439.pickle"
       ]
      },
      {
       "output_type": "stream",
       "stream": "stdout",
       "text": [
        "\n",
        "\tP7R40472 --> P86Y0724\n",
        "\tS962-3655 --> P86Y0739\n",
        "\tP7R40482 --> P86Y0740\n",
        "pickle/HP12_1440.pickle"
       ]
      },
      {
       "output_type": "stream",
       "stream": "stdout",
       "text": [
        "\n",
        "\tP7R40500 --> P86Y0763\n",
        "\tP7R40516 --> P86Y0789\n",
        "\tS907-3470 --> P86Y0832\n",
        "pickle/HP12_1441.pickle"
       ]
      },
      {
       "output_type": "stream",
       "stream": "stdout",
       "text": [
        "\n",
        "\tS962-3649 --> P86Y0803\n",
        "\tP7R40531 --> P86Y0813\n",
        "\tP7R40536G --> P86Y0816\n",
        "\tS962-3591 --> P86Y0836\n",
        "\tS907-3521 --> P86Y0869\n",
        "pickle/HP12_1442.pickle"
       ]
      },
      {
       "output_type": "stream",
       "stream": "stdout",
       "text": [
        "\n",
        "\tS907-3595 --> P86Y0844\n",
        "pickle/HP12_1443.pickle"
       ]
      },
      {
       "output_type": "stream",
       "stream": "stdout",
       "text": [
        "\n",
        "\tS907-3605 --> P86Y0864\n",
        "\tS907-3569 --> P86Y0902\n",
        "\tP7R40586 --> P86Y0906\n",
        "pickle/HP12_1444.pickle"
       ]
      },
      {
       "output_type": "stream",
       "stream": "stdout",
       "text": [
        "\n",
        "\tP7R40598 --> P86Y0942\n",
        "pickle/HP12_1445.pickle"
       ]
      },
      {
       "output_type": "stream",
       "stream": "stdout",
       "text": [
        "\n",
        "\tP7R40631 --> P86Y0991\n",
        "\tP7R40647 --> P86Y1013\n",
        "\tS907-3525 --> P86Y1014\n",
        "pickle/HP12_1446.pickle"
       ]
      },
      {
       "output_type": "stream",
       "stream": "stdout",
       "text": [
        "\n",
        "\tP7R40630 --> P86Y0990\n",
        "\tS907-3531 --> P86Y1037\n",
        "pickle/HP12_1447.pickle"
       ]
      },
      {
       "output_type": "stream",
       "stream": "stdout",
       "text": [
        "\n",
        "\tS907-3532 --> P86Y1049\n",
        "\tS907-3517 --> P86Y1052\n",
        "pickle/HP12_1448.pickle"
       ]
      },
      {
       "output_type": "stream",
       "stream": "stdout",
       "text": [
        "\n",
        "\tP7R40653 --> P86Y1027\n",
        "\tS907-3553 --> P86Y1045\n",
        "\tS962-3561 --> P86Y1071\n",
        "pickle/HP12_1449.pickle"
       ]
      },
      {
       "output_type": "stream",
       "stream": "stdout",
       "text": [
        "\n",
        "\tP7R40655 --> P86Y1029\n",
        "\tS907-3515 --> P86Y1068\n",
        "\tP7R40683 --> P86Y1081\n",
        "pickle/HP12_1450.pickle"
       ]
      },
      {
       "output_type": "stream",
       "stream": "stdout",
       "text": [
        "\n",
        "\tP7R40615 --> P86Y0968\n",
        "pickle/HP12_1451.pickle"
       ]
      },
      {
       "output_type": "stream",
       "stream": "stdout",
       "text": [
        "\n",
        "\tS907-3597 --> P86Y0914\n",
        "\tP7R40645 --> P86Y1011\n",
        "pickle/HP12_1452.pickle"
       ]
      },
      {
       "output_type": "stream",
       "stream": "stdout",
       "text": [
        "\n",
        "\tP7R40568 --> P86Y0873\n",
        "\tP7R40604 --> P86Y0955\n",
        "\tP7R40651 --> P86Y1024\n",
        "pickle/HP12_1453.pickle"
       ]
      },
      {
       "output_type": "stream",
       "stream": "stdout",
       "text": [
        "\n",
        "\tP7R40545 --> P86Y0823\n",
        "\tS962-3639 --> P86Y0834\n",
        "\tP7R40562 --> P86Y0857\n",
        "pickle/HP12_1454.pickle"
       ]
      },
      {
       "output_type": "stream",
       "stream": "stdout",
       "text": [
        "\n",
        "\tP7R40444 --> P86Y0681\n",
        "\tS962-3608 --> P86Y0743\n",
        "pickle/HP12_1455.pickle"
       ]
      },
      {
       "output_type": "stream",
       "stream": "stdout",
       "text": [
        "\n",
        "\tP7R40293A --> P86Y0460\n",
        "pickle/HP12_1456.pickle"
       ]
      },
      {
       "output_type": "stream",
       "stream": "stdout",
       "text": [
        "\n",
        "\tS907-3558 --> P86Y0061\n",
        "\tS907-3590 --> P86Y0121\n",
        "\tP7R40114B --> P86Y0173\n",
        "\tS907-3596 --> P86Y0224\n",
        "\tS962-3606 --> P86Y0237\n",
        "\tP7R40180 --> P86Y0281\n",
        "pickle/HP12_1457.pickle"
       ]
      },
      {
       "output_type": "stream",
       "stream": "stdout",
       "text": [
        "\n",
        "\tP7R43647 --> P86Y5365\n",
        "pickle/HP12_1458.pickle"
       ]
      },
      {
       "output_type": "stream",
       "stream": "stdout",
       "text": [
        "\n",
        "\tP7R43430 --> P86Y5044\n",
        "\tP7R43452 --> P86Y5079\n",
        "\tS962-3570 --> P86Y5084\n",
        "\tP7R43465 --> P86Y5110\n",
        "\tS962-3625 --> P86Y5137\n",
        "pickle/HP12_1459.pickle"
       ]
      },
      {
       "output_type": "stream",
       "stream": "stdout",
       "text": [
        "\n",
        "\tP7R43355 --> P86Y4934\n",
        "\tP7R43361 --> P86Y4944\n",
        "\tP7R43364 --> P86Y4949\n",
        "\tS907-3541 --> P86Y4963\n",
        "\tP7R43373 --> P86Y4965\n",
        "\tS962-3629 --> P86Y5007\n",
        "pickle/HP12_1460.pickle"
       ]
      },
      {
       "output_type": "stream",
       "stream": "stdout",
       "text": [
        "\n",
        "\tP7R43292 --> P86Y4850\n",
        "\tP7R43348 --> P86Y4923\n",
        "pickle/HP12_1461.pickle"
       ]
      },
      {
       "output_type": "stream",
       "stream": "stdout",
       "text": [
        "\n",
        "\tP7R43263 --> P86Y4813\n",
        "\tP7R43334 --> P86Y4903\n",
        "pickle/HP12_1462.pickle"
       ]
      },
      {
       "output_type": "stream",
       "stream": "stdout",
       "text": [
        "\n",
        "\tP7R43269 --> P86Y4824\n",
        "\tP7R43300 --> P86Y4861\n",
        "\tP7R43328 --> P86Y4893\n",
        "pickle/HP12_1463.pickle"
       ]
      },
      {
       "output_type": "stream",
       "stream": "stdout",
       "text": [
        "\n",
        "\tP7R43282 --> P86Y4837\n",
        "pickle/HP12_1464.pickle"
       ]
      },
      {
       "output_type": "stream",
       "stream": "stdout",
       "text": [
        "\n",
        "\tP7R43345 --> P86Y4921\n",
        "\tSEED-2561 --> P86Y4936\n",
        "pickle/HP12_1465.pickle"
       ]
      },
      {
       "output_type": "stream",
       "stream": "stdout",
       "text": [
        "\n",
        "\tP7R43318 --> P86Y4882\n",
        "\tP7R43336 --> P86Y4906\n",
        "\tP7R43338 --> P86Y4911\n",
        "pickle/HP12_1466.pickle"
       ]
      },
      {
       "output_type": "stream",
       "stream": "stdout",
       "text": [
        "\n",
        "\tP7R43354 --> P86Y4935\n",
        "\tP7R43357 --> P86Y4939\n",
        "pickle/HP12_1467.pickle"
       ]
      },
      {
       "output_type": "stream",
       "stream": "stdout",
       "text": [
        "\n",
        "\tP7R43357G --> P86Y4942\n",
        "\tP7R43366 --> P86Y4950\n",
        "\tP7R43369B --> P86Y4959\n",
        "\tP7R43376A --> P86Y4972\n",
        "pickle/HP12_1468.pickle"
       ]
      },
      {
       "output_type": "stream",
       "stream": "stdout",
       "text": [
        "\n",
        "\tS907-3623 --> P86Y4991\n",
        "\tP7R43393 --> P86Y4992\n",
        "\tP7R43402 --> P86Y5006\n",
        "\tP7R43403 --> P86Y5008\n",
        "\tS907-3648 --> P86Y5025\n",
        "pickle/HP12_1469.pickle"
       ]
      },
      {
       "output_type": "stream",
       "stream": "stdout",
       "text": [
        "\n",
        "\tP7R43410G --> P86Y5016\n",
        "\tP7R43414 --> P86Y5021\n",
        "\tP7R43423A --> P86Y5034\n",
        "pickle/HP12_1470.pickle"
       ]
      },
      {
       "output_type": "stream",
       "stream": "stdout",
       "text": [
        "\n",
        "\tP7R43445H --> P86Y5071\n",
        "pickle/HP12_1471.pickle"
       ]
      },
      {
       "output_type": "stream",
       "stream": "stdout",
       "text": [
        "\n",
        "\tP7R43442 --> P86Y5059\n",
        "\tS962-3620 --> P86Y5076\n",
        "\tS907-3608 --> P86Y5100\n",
        "\tS907-3624 --> P86Y5106\n",
        "pickle/HP12_1472.pickle"
       ]
      },
      {
       "output_type": "stream",
       "stream": "stdout",
       "text": [
        "\n",
        "\tP7R43472A --> P86Y5123\n",
        "\tS962-3651 --> P86Y5128\n",
        "\tP7R43477 --> P86Y5129\n",
        "pickle/HP12_1473.pickle"
       ]
      },
      {
       "output_type": "stream",
       "stream": "stdout",
       "text": [
        "\n",
        "\tS907-3625 --> P86Y5198\n",
        "\tSEED-2567 --> P86Y5248\n",
        "pickle/HP12_1474.pickle"
       ]
      },
      {
       "output_type": "stream",
       "stream": "stdout",
       "text": [
        "\n",
        "\tP7R43572A --> P86Y5256\n",
        "\tP7R43573A --> P86Y5257\n",
        "\tP7R43609 --> P86Y5310\n",
        "pickle/HP12_1475.pickle"
       ]
      },
      {
       "output_type": "stream",
       "stream": "stdout",
       "text": [
        "\n",
        "\tP7R43618 --> P86Y5322\n",
        "\tS907-3651 --> P86Y5328\n",
        "\tP7R43629 --> P86Y5337\n",
        "\tS962-3669 --> P86Y5339\n",
        "\tS962-3663 --> P86Y5346\n",
        "\tP7R43635 --> P86Y5350\n",
        "\tS962-3652 --> P86Y5359\n",
        "pickle/HP12_1476.pickle"
       ]
      },
      {
       "output_type": "stream",
       "stream": "stdout",
       "text": [
        "\n",
        "\tP7R43700 --> P86Y5432\n",
        "\tS907-3591 --> P86Y5436\n",
        "pickle/HP12_1477.pickle"
       ]
      },
      {
       "output_type": "stream",
       "stream": "stdout",
       "text": [
        "\n",
        "\tP7R40023 --> P86Y0038\n",
        "\tSEED-2571 --> P86Y0047\n",
        "\tP7R40047 --> P86Y0075\n",
        "\tP7R40048 --> P86Y0080\n",
        "\tP7R40065P --> P86Y0097\n",
        "pickle/HP12_1478.pickle"
       ]
      },
      {
       "output_type": "stream",
       "stream": "stdout",
       "text": [
        "\n",
        "\tP7R40092 --> P86Y0139\n",
        "\tSEED-1614 --> P86Y0144\n",
        "pickle/HP12_1479.pickle"
       ]
      },
      {
       "output_type": "stream",
       "stream": "stdout",
       "text": [
        "\n",
        "\tP7R40137 --> P86Y0217\n",
        "\tS962-3668 --> P86Y0223\n",
        "\tS962-3680 --> P86Y0239\n",
        "\tP7R40157A --> P86Y0249\n",
        "\tP7R40168 --> P86Y0257\n",
        "pickle/HP12_1480.pickle"
       ]
      },
      {
       "output_type": "stream",
       "stream": "stdout",
       "text": [
        "\n",
        "\tSEED-2539 --> P86Y0331\n",
        "\tP7R40218H --> P86Y0337\n",
        "\tS907-3580 --> P86Y0343\n",
        "pickle/HP12_1481.pickle"
       ]
      },
      {
       "output_type": "stream",
       "stream": "stdout",
       "text": [
        "\n",
        "\tS907-3604 --> P86Y0395\n",
        "pickle/HP12_1482.pickle"
       ]
      },
      {
       "output_type": "stream",
       "stream": "stdout",
       "text": [
        "\n",
        "\tP7R40286 --> P86Y0454\n",
        "\tS962-3704 --> P86Y0470\n",
        "\tP7R40307 --> P86Y0485\n",
        "pickle/HP12_1483.pickle"
       ]
      },
      {
       "output_type": "stream",
       "stream": "stdout",
       "text": [
        "\n",
        "\tP7R40353 --> P86Y0551\n",
        "\tP7R40375 --> P86Y0578\n",
        "\tS907-3637 --> P86Y0585\n",
        "\tP7R40385G --> P86Y0595\n",
        "pickle/HP12_1484.pickle"
       ]
      },
      {
       "output_type": "stream",
       "stream": "stdout",
       "text": [
        "\n",
        "\tS962-3670 --> P86Y0655\n",
        "\tP7R40433 --> P86Y0663\n",
        "pickle/HP12_1485.pickle"
       ]
      },
      {
       "output_type": "stream",
       "stream": "stdout",
       "text": [
        "\n",
        "\tS962-3707 --> P86Y0693\n",
        "\tP7R40457 --> P86Y0701\n",
        "\tP7R40468 --> P86Y0720\n",
        "pickle/HP12_1486.pickle"
       ]
      },
      {
       "output_type": "stream",
       "stream": "stdout",
       "text": [
        "\n",
        "\tP7R40491 --> P86Y0752\n",
        "pickle/HP12_1487.pickle"
       ]
      },
      {
       "output_type": "stream",
       "stream": "stdout",
       "text": [
        "\n",
        "pickle/HP12_1488.pickle"
       ]
      },
      {
       "output_type": "stream",
       "stream": "stdout",
       "text": [
        "\n",
        "\tP7R40510 --> P86Y0785\n",
        "\tP7R40554 --> P86Y0845\n",
        "pickle/HP12_1489.pickle"
       ]
      },
      {
       "output_type": "stream",
       "stream": "stdout",
       "text": [
        "\n",
        "\tP7R40553 --> P86Y0843\n",
        "\tP7R40583G --> P86Y0904\n",
        "\tS962-3646 --> P86Y0905\n",
        "pickle/HP12_1490.pickle"
       ]
      },
      {
       "output_type": "stream",
       "stream": "stdout",
       "text": [
        "\n",
        "\tP7R40577 --> P86Y0895\n",
        "pickle/HP12_1491.pickle"
       ]
      },
      {
       "output_type": "stream",
       "stream": "stdout",
       "text": [
        "\n",
        "\tP7R40580 --> P86Y0892\n",
        "pickle/HP12_1492.pickle"
       ]
      },
      {
       "output_type": "stream",
       "stream": "stdout",
       "text": [
        "\n",
        "\tP7R40628 --> P86Y0987\n",
        "pickle/HP12_1493.pickle"
       ]
      },
      {
       "output_type": "stream",
       "stream": "stdout",
       "text": [
        "\n",
        "\tP7R40587 --> P86Y0912\n",
        "\tS907-3633 --> P86Y0919\n",
        "\tP7R40605 --> P86Y0956\n",
        "\tP7R40620 --> P86Y0978\n",
        "\tP7R40624 --> P86Y0984\n",
        "pickle/HP12_1494.pickle"
       ]
      },
      {
       "output_type": "stream",
       "stream": "stdout",
       "text": [
        "\n",
        "\tP7R40594 --> P86Y0940\n",
        "\tP7R40597 --> P86Y0941\n",
        "\tS907-3585 --> P86Y0986\n",
        "pickle/HP12_1495.pickle"
       ]
      },
      {
       "output_type": "stream",
       "stream": "stdout",
       "text": [
        "\n",
        "\tP7R40566 --> P86Y0866\n",
        "pickle/HP12_1496.pickle"
       ]
      },
      {
       "output_type": "stream",
       "stream": "stdout",
       "text": [
        "\n",
        "\tS907-3632 --> P86Y0851\n",
        "\tP7R40575 --> P86Y0888\n",
        "\tS907-3610 --> P86Y0908\n",
        "\tP7R40592A --> P86Y0930\n",
        "\tP7R40593 --> P86Y0932\n",
        "pickle/HP12_1497.pickle"
       ]
      },
      {
       "output_type": "stream",
       "stream": "stdout",
       "text": [
        "\n",
        "\tS962-3713 --> P86Y0772\n",
        "\tP7R40507 --> P86Y0782\n",
        "\tS962-3697 --> P86Y0810\n",
        "\tP7R40542A --> P86Y0825\n",
        "pickle/HP12_1498.pickle"
       ]
      },
      {
       "output_type": "stream",
       "stream": "stdout",
       "text": [
        "\n",
        "\tP7R40450 --> P86Y0691\n",
        "\tP7R40474 --> P86Y0727\n",
        "\tP7R40477 --> P86Y0732\n",
        "\tP7R40490 --> P86Y0750\n",
        "pickle/HP12_1499.pickle"
       ]
      },
      {
       "output_type": "stream",
       "stream": "stdout",
       "text": [
        "\n",
        "\tP7R40299 --> P86Y0472\n",
        "\tS962-3675 --> P86Y0492\n",
        "\tP7R40321A --> P86Y0494\n",
        "\tP7R40325 --> P86Y0507\n",
        "pickle/HP12_1500.pickle"
       ]
      },
      {
       "output_type": "stream",
       "stream": "stdout",
       "text": [
        "\n",
        "\tSEED-2536 --> P86Y0238\n",
        "\tSEED-2553 --> P86Y0247\n",
        "\tS962-3621 --> P86Y0356\n",
        "pickle/HP12_1501.pickle"
       ]
      },
      {
       "output_type": "stream",
       "stream": "stdout",
       "text": [
        "\n",
        "\tP7R40000D --> P86Y0000\n",
        "\tP7R40057 --> P86Y0095\n",
        "\tP7R40065 --> P86Y0098\n",
        "\tP7R40078 --> P86Y0120\n",
        "\tSEED-2543 --> P86Y0158\n",
        "\tP7R40114A --> P86Y0180\n",
        "pickle/HP12_1502.pickle"
       ]
      },
      {
       "output_type": "stream",
       "stream": "stdout",
       "text": [
        "\n",
        "\tSEED-2517 --> P86Y5221\n",
        "\tP7R43581 --> P86Y5271\n",
        "pickle/HP12_1503.pickle"
       ]
      },
      {
       "output_type": "stream",
       "stream": "stdout",
       "text": [
        "\n",
        "\tS962-3637 --> P86Y5095\n",
        "\tP7R43503G --> P86Y5165\n",
        "pickle/HP12_1504.pickle"
       ]
      },
      {
       "output_type": "stream",
       "stream": "stdout",
       "text": [
        "\n",
        "\tS962-3689 --> P86Y5046\n",
        "pickle/HP12_1505.pickle"
       ]
      },
      {
       "output_type": "stream",
       "stream": "stdout",
       "text": [
        "\n",
        "\tP7R43358 --> P86Y4941\n",
        "\tP7R43384G --> P86Y4984\n",
        "pickle/HP12_1506.pickle"
       ]
      },
      {
       "output_type": "stream",
       "stream": "stdout",
       "text": [
        "\n",
        "\tP7R43367 --> P86Y4952\n",
        "\tP7R43369A --> P86Y4958\n",
        "pickle/HP12_1507.pickle"
       ]
      },
      {
       "output_type": "stream",
       "stream": "stdout",
       "text": [
        "\n",
        "\tS962-3657 --> P86Y4913\n",
        "\tP7R43346 --> P86Y4922\n",
        "\tP7R43353 --> P86Y4930\n",
        "\tP7R43371 --> P86Y4960\n",
        "pickle/HP12_1508.pickle"
       ]
      },
      {
       "output_type": "stream",
       "stream": "stdout",
       "text": [
        "\n",
        "\tS962-3706 --> P86Y4961\n",
        "\tP7R43374 --> P86Y4966\n",
        "\tP7R43379 --> P86Y4976\n",
        "\tP7R43403G --> P86Y5012\n",
        "pickle/HP12_1509.pickle"
       ]
      },
      {
       "output_type": "stream",
       "stream": "stdout",
       "text": [
        "\n",
        "\tS962-3691 --> P86Y4951\n",
        "\tSEED-2566 --> P86Y4957\n",
        "\tP7R43387 --> P86Y4985\n",
        "pickle/HP12_1510.pickle"
       ]
      },
      {
       "output_type": "stream",
       "stream": "stdout",
       "text": [
        "\n",
        "\tP7R43376 --> P86Y4971\n",
        "\tP7R43406X --> P86Y5009\n",
        "\tP7R43406 --> P86Y5011\n",
        "\tP7R43427 --> P86Y5039\n",
        "pickle/HP12_1511.pickle"
       ]
      },
      {
       "output_type": "stream",
       "stream": "stdout",
       "text": [
        "\n",
        "pickle/HP12_1512.pickle"
       ]
      },
      {
       "output_type": "stream",
       "stream": "stdout",
       "text": [
        "\n",
        "\tP7R43424 --> P86Y5036\n",
        "pickle/HP12_1513.pickle"
       ]
      },
      {
       "output_type": "stream",
       "stream": "stdout",
       "text": [
        "\n",
        "\tS907-3666 --> P86Y5077\n",
        "\tP7R43474 --> P86Y5122\n",
        "pickle/HP12_1514.pickle"
       ]
      },
      {
       "output_type": "stream",
       "stream": "stdout",
       "text": [
        "\n",
        "\tP7R43475JP --> P86Y5124\n",
        "\tP7R43474A --> P86Y5125\n",
        "\tS907-3677 --> P86Y5135\n",
        "\tP7R43493 --> P86Y5153\n",
        "pickle/HP12_1515.pickle"
       ]
      },
      {
       "output_type": "stream",
       "stream": "stdout",
       "text": [
        "\n",
        "\tS907-3655 --> P86Y5184\n",
        "\tP7R43520 --> P86Y5189\n",
        "pickle/HP12_1516.pickle"
       ]
      },
      {
       "output_type": "stream",
       "stream": "stdout",
       "text": [
        "\n",
        "\tS907-3621 --> P86Y5183\n",
        "\tS962-3716 --> P86Y5236\n",
        "\tP7R43579 --> P86Y5264\n",
        "pickle/HP12_1517.pickle"
       ]
      },
      {
       "output_type": "stream",
       "stream": "stdout",
       "text": [
        "\n",
        "\tP7R43573 --> P86Y5258\n",
        "\tS907-3653 --> P86Y5289\n",
        "\tS907-3694 --> P86Y5320\n",
        "\tS907-3678 --> P86Y5327\n",
        "pickle/HP12_1518.pickle"
       ]
      },
      {
       "output_type": "stream",
       "stream": "stdout",
       "text": [
        "\n",
        "\tP7R43634 --> P86Y5348\n",
        "\tP7R43646G --> P86Y5362\n",
        "\tP7R43657 --> P86Y5379\n",
        "pickle/HP12_1519.pickle"
       ]
      },
      {
       "output_type": "stream",
       "stream": "stdout",
       "text": [
        "\n",
        "\tS962-3687 --> P86Y0016\n",
        "\tP7R40012 --> P86Y0019\n",
        "pickle/HP12_1520.pickle"
       ]
      },
      {
       "output_type": "stream",
       "stream": "stdout",
       "text": [
        "\n",
        "\tS907-3691 --> P86Y0102\n",
        "pickle/HP12_1521.pickle"
       ]
      },
      {
       "output_type": "stream",
       "stream": "stdout",
       "text": [
        "\n",
        "\tP7R40094 --> P86Y0146\n",
        "\tP7R40114 --> P86Y0176\n",
        "pickle/HP12_1522.pickle"
       ]
      },
      {
       "output_type": "stream",
       "stream": "stdout",
       "text": [
        "\n",
        "\tP7R40158 --> P86Y0250\n",
        "\tSEED-2575 --> P86Y0270\n",
        "\tP7R40186 --> P86Y0287\n",
        "pickle/HP12_1523.pickle"
       ]
      },
      {
       "output_type": "stream",
       "stream": "stdout",
       "text": [
        "\n",
        "pickle/HP12_1524.pickle"
       ]
      },
      {
       "output_type": "stream",
       "stream": "stdout",
       "text": [
        "\n",
        "\tP7R40263 --> P86Y0414\n",
        "\tP7R40274 --> P86Y0433\n",
        "\tSEED-2550 --> P86Y0437\n",
        "\tP7R40279 --> P86Y0441\n",
        "pickle/HP12_1525.pickle"
       ]
      },
      {
       "output_type": "stream",
       "stream": "stdout",
       "text": [
        "\n",
        "\tP7R40321 --> P86Y0502\n",
        "\tP7R40322 --> P86Y0506\n",
        "\tP7R40327 --> P86Y0509\n",
        "\tS962-3718 --> P86Y0519\n",
        "\tP7R40344 --> P86Y0538\n",
        "pickle/HP12_1526.pickle"
       ]
      },
      {
       "output_type": "stream",
       "stream": "stdout",
       "text": [
        "\n",
        "\tS962-3702 --> P86Y0584\n",
        "\tSEED-1661 --> P86Y0608\n",
        "pickle/HP12_1527.pickle"
       ]
      },
      {
       "output_type": "stream",
       "stream": "stdout",
       "text": [
        "\n",
        "\tP7R40429 --> P86Y0660\n",
        "\tP7R40434 --> P86Y0665\n",
        "\tS907-3650 --> P86Y0675\n",
        "pickle/HP12_1528.pickle"
       ]
      },
      {
       "output_type": "stream",
       "stream": "stdout",
       "text": [
        "\n",
        "\tP7R40452 --> P86Y0696\n",
        "\tS907-3671 --> P86Y0699\n",
        "\tP7R40478A --> P86Y0737\n",
        "\tS962-3693 --> P86Y0748\n",
        "pickle/HP12_1529.pickle"
       ]
      },
      {
       "output_type": "stream",
       "stream": "stdout",
       "text": [
        "\n",
        "\tP7R40463 --> P86Y0716\n",
        "\tP7R40473 --> P86Y0729\n",
        "\tS907-3663 --> P86Y0771\n",
        "\tS907-3641 --> P86Y0783\n",
        "pickle/HP12_1530.pickle"
       ]
      },
      {
       "output_type": "stream",
       "stream": "stdout",
       "text": [
        "\n",
        "\tP7R40492B --> P86Y0754\n",
        "\tP7R40525 --> P86Y0805\n",
        "pickle/HP12_1531.pickle"
       ]
      },
      {
       "output_type": "stream",
       "stream": "stdout",
       "text": [
        "\n",
        "\tP7R40530 --> P86Y0812\n",
        "\tP7R40536 --> P86Y0817\n",
        "\tP7R40555 --> P86Y0848\n",
        "\tS907-3629 --> P86Y0862\n",
        "pickle/HP12_1532.pickle"
       ]
      },
      {
       "output_type": "stream",
       "stream": "stdout",
       "text": [
        "\n",
        "\tP7R40526A --> P86Y0808\n",
        "\tP7R40535 --> P86Y0814\n",
        "\tP7R40543 --> P86Y0824\n",
        "\tP7R40547 --> P86Y0829\n",
        "\tS962-3719 --> P86Y0854\n",
        "\tP7R40572 --> P86Y0883\n",
        "\tS907-3635 --> P86Y0890\n",
        "\tP7R40583 --> P86Y0901\n",
        "pickle/HP12_1533.pickle"
       ]
      },
      {
       "output_type": "stream",
       "stream": "stdout",
       "text": [
        "\n",
        "\tP7R40539H --> P86Y0822\n",
        "\tP7R40558 --> P86Y0850\n",
        "\tS962-3710 --> P86Y0878\n",
        "\tP7R40579 --> P86Y0896\n",
        "pickle/HP12_1534.pickle"
       ]
      },
      {
       "output_type": "stream",
       "stream": "stdout",
       "text": [
        "\n",
        "\tP7R40561 --> P86Y0856\n",
        "\tP7R40584 --> P86Y0903\n",
        "pickle/HP12_1535.pickle"
       ]
      },
      {
       "output_type": "stream",
       "stream": "stdout",
       "text": [
        "\n",
        "\tS907-3638 --> P86Y0907\n",
        "pickle/HP12_1536.pickle"
       ]
      },
      {
       "output_type": "stream",
       "stream": "stdout",
       "text": [
        "\n",
        "\tS907-3660 --> P86Y0838\n",
        "\tP7R40567 --> P86Y0871\n",
        "pickle/HP12_1537.pickle"
       ]
      },
      {
       "output_type": "stream",
       "stream": "stdout",
       "text": [
        "\n",
        "\tS907-3676 --> P86Y0778\n",
        "\tS962-3705 --> P86Y0849\n",
        "pickle/HP12_1538.pickle"
       ]
      },
      {
       "output_type": "stream",
       "stream": "stdout",
       "text": [
        "\n",
        "\tP7R40460 --> P86Y0707\n",
        "\tP7R40473A --> P86Y0731\n",
        "\tP7R40491G --> P86Y0753\n",
        "\tP7R40496 --> P86Y0759\n",
        "pickle/HP12_1539.pickle"
       ]
      },
      {
       "output_type": "stream",
       "stream": "stdout",
       "text": [
        "\n",
        "\tP7R40385 --> P86Y0593\n",
        "\tP7R40409G --> P86Y0635\n",
        "\tP7R40424 --> P86Y0653\n",
        "pickle/HP12_1540.pickle"
       ]
      },
      {
       "output_type": "stream",
       "stream": "stdout",
       "text": [
        "\n",
        "\tP7R40248 --> P86Y0391\n",
        "\tP7R40278 --> P86Y0439\n",
        "pickle/HP12_1541.pickle"
       ]
      },
      {
       "output_type": "stream",
       "stream": "stdout",
       "text": [
        "\n",
        "\tS907-3672 --> P86Y0208\n",
        "\tS907-3668 --> P86Y0263\n",
        "\tP7R40164 --> P86Y0304\n",
        "pickle/HP12_1542.pickle"
       ]
      },
      {
       "output_type": "stream",
       "stream": "stdout",
       "text": [
        "\n",
        "\tP7R40004 --> P86Y0006\n",
        "\tS907-3656 --> P86Y5397\n",
        "\tP7R43682 --> P86Y5418\n",
        "\tS907-3673 --> P86Y5439\n",
        "pickle/HP12_1543.pickle"
       ]
      },
      {
       "output_type": "stream",
       "stream": "stdout",
       "text": [
        "\n",
        "\tS907-3681 --> P86Y5290\n",
        "\tP7R43596 --> P86Y5294\n",
        "pickle/HP12_1544.pickle"
       ]
      },
      {
       "output_type": "stream",
       "stream": "stdout",
       "text": [
        "\n",
        "\tP7R43524G --> P86Y5197\n",
        "pickle/HP12_1545.pickle"
       ]
      },
      {
       "output_type": "stream",
       "stream": "stdout",
       "text": [
        "\n",
        "\tS907-3646 --> P86Y5038\n",
        "\tP7R43437A --> P86Y5054\n",
        "\tP7R43445 --> P86Y5063\n",
        "\tP7R43467 --> P86Y5114\n",
        "pickle/HP12_1546.pickle"
       ]
      },
      {
       "output_type": "stream",
       "stream": "stdout",
       "text": [
        "\n",
        "\tP7R43456 --> P86Y5089\n",
        "pickle/HP12_1547.pickle"
       ]
      },
      {
       "output_type": "stream",
       "stream": "stdout",
       "text": [
        "\n",
        "\tS907-3649 --> P86Y4981\n",
        "pickle/HP12_1548.pickle"
       ]
      },
      {
       "output_type": "stream",
       "stream": "stdout",
       "text": [
        "\n",
        "pickle/HP12_1549.pickle"
       ]
      },
      {
       "output_type": "stream",
       "stream": "stdout",
       "text": [
        "\n",
        "\tP7R43410 --> P86Y5014\n",
        "\tP7R43426 --> P86Y5037\n",
        "pickle/HP12_1550.pickle"
       ]
      },
      {
       "output_type": "stream",
       "stream": "stdout",
       "text": [
        "\n",
        "\tP7R43432 --> P86Y5045\n",
        "\tP7R43455 --> P86Y5088\n",
        "pickle/HP12_1551.pickle"
       ]
      },
      {
       "output_type": "stream",
       "stream": "stdout",
       "text": [
        "\n",
        "pickle/HP12_1552.pickle"
       ]
      },
      {
       "output_type": "stream",
       "stream": "stdout",
       "text": [
        "\n",
        "\tS962-3773 --> P86Y5115\n",
        "\tS907-3725 --> P86Y5126\n",
        "\tP7R43479 --> P86Y5136\n",
        "\tP7R43497 --> P86Y5157\n",
        "pickle/HP12_1553.pickle"
       ]
      },
      {
       "output_type": "stream",
       "stream": "stdout",
       "text": [
        "\n",
        "\tP7R43481 --> P86Y5139\n",
        "\tS962-3756 --> P86Y5149\n",
        "pickle/HP12_1554.pickle"
       ]
      },
      {
       "output_type": "stream",
       "stream": "stdout",
       "text": [
        "\n",
        "\tS907-3712 --> P86Y5174\n",
        "pickle/HP12_1555.pickle"
       ]
      },
      {
       "output_type": "stream",
       "stream": "stdout",
       "text": [
        "\n",
        "\tP7R43558 --> P86Y5239\n",
        "\tS962-3815 --> P86Y5298\n",
        "pickle/HP12_1556.pickle"
       ]
      },
      {
       "output_type": "stream",
       "stream": "stdout",
       "text": [
        "\n",
        "\tS907-3732 --> P86Y5316\n",
        "\tP7R43648 --> P86Y5367\n",
        "pickle/HP12_1557.pickle"
       ]
      },
      {
       "output_type": "stream",
       "stream": "stdout",
       "text": [
        "\n",
        "\tP7R43659 --> P86Y5380\n",
        "\tP7R43662 --> P86Y5385\n",
        "\tS907-3724 --> P86Y5394\n",
        "\tS962-3800 --> P86Y5396\n",
        "pickle/HP12_1558.pickle"
       ]
      },
      {
       "output_type": "stream",
       "stream": "stdout",
       "text": [
        "\n",
        "\tS907-3720 --> P86Y0011\n",
        "\tP7R40028 --> P86Y0041\n",
        "\tS907-3713 --> P86Y0064\n",
        "pickle/HP12_1559.pickle"
       ]
      },
      {
       "output_type": "stream",
       "stream": "stdout",
       "text": [
        "\n",
        "\tS907-3749 --> P86Y0124\n",
        "\tS962-3780 --> P86Y0127\n",
        "\tS907-3682 --> P86Y0141\n",
        "\tS962-3753 --> P86Y0145\n",
        "pickle/HP12_1560.pickle"
       ]
      },
      {
       "output_type": "stream",
       "stream": "stdout",
       "text": [
        "\n",
        "\tP7R40150 --> P86Y0234\n",
        "\tP7R40152 --> P86Y0240\n",
        "\tS907-3710 --> P86Y0243\n",
        "pickle/HP12_1561.pickle"
       ]
      },
      {
       "output_type": "stream",
       "stream": "stdout",
       "text": [
        "\n",
        "\tS907-3734 --> P86Y0284\n",
        "\tS907-3756 --> P86Y0305\n",
        "\tS907-3701 --> P86Y0310\n",
        "pickle/HP12_1562.pickle"
       ]
      },
      {
       "output_type": "stream",
       "stream": "stdout",
       "text": [
        "\n",
        "\tP7R40254A --> P86Y0403\n",
        "pickle/HP12_1563.pickle"
       ]
      },
      {
       "output_type": "stream",
       "stream": "stdout",
       "text": [
        "\n",
        "\tS962-3764 --> P86Y0428\n",
        "pickle/HP12_1564.pickle"
       ]
      },
      {
       "output_type": "stream",
       "stream": "stdout",
       "text": [
        "\n",
        "\tP7R40329 --> P86Y0511\n",
        "\tS962-3759 --> P86Y0545\n",
        "\tP7R40360 --> P86Y0560\n",
        "pickle/HP12_1565.pickle"
       ]
      },
      {
       "output_type": "stream",
       "stream": "stdout",
       "text": [
        "\n",
        "\tS962-3835 --> P86Y0594\n",
        "\tP7R40396 --> P86Y0610\n",
        "\tS907-3739 --> P86Y0614\n",
        "\tP7R40403 --> P86Y0620\n",
        "\tP7R40404 --> P86Y0624\n",
        "\tS907-3717 --> P86Y0632\n",
        "\tS907-3705 --> P86Y0636\n",
        "pickle/HP12_1566.pickle"
       ]
      },
      {
       "output_type": "stream",
       "stream": "stdout",
       "text": [
        "\n",
        "\tP7R40459 --> P86Y0706\n",
        "pickle/HP12_1567.pickle"
       ]
      },
      {
       "output_type": "stream",
       "stream": "stdout",
       "text": [
        "\n",
        "\tP7R40435 --> P86Y0669\n",
        "\tSEED-2614 --> P86Y0710\n",
        "\tS962-3786 --> P86Y0713\n",
        "\tS962-3732 --> P86Y0757\n",
        "pickle/HP12_1568.pickle"
       ]
      },
      {
       "output_type": "stream",
       "stream": "stdout",
       "text": [
        "\n",
        "\tP7R40497 --> P86Y0760\n",
        "\tP7R40499 --> P86Y0762\n",
        "\tS962-3748 --> P86Y0775\n",
        "pickle/HP12_1569.pickle"
       ]
      },
      {
       "output_type": "stream",
       "stream": "stdout",
       "text": [
        "\n",
        "\tP7R40492D --> P86Y0755\n",
        "\tS962-3787 --> P86Y0764\n",
        "\tP7R40506 --> P86Y0777\n",
        "pickle/HP12_1570.pickle"
       ]
      },
      {
       "output_type": "stream",
       "stream": "stdout",
       "text": [
        "\n",
        "\tS907-3727 --> P86Y0788\n",
        "\tS907-3722 --> P86Y0791\n",
        "\tP7R40529 --> P86Y0811\n",
        "\tP7R40552 --> P86Y0841\n",
        "pickle/HP12_1571.pickle"
       ]
      },
      {
       "output_type": "stream",
       "stream": "stdout",
       "text": [
        "\n",
        "\tP7R40502 --> P86Y0765\n",
        "\tP7R40526 --> P86Y0807\n",
        "\tS907-3696 --> P86Y0830\n",
        "\tS962-3742 --> P86Y0835\n",
        "pickle/HP12_1572.pickle"
       ]
      },
      {
       "output_type": "stream",
       "stream": "stdout",
       "text": [
        "\n",
        "\tP7R40519 --> P86Y0798\n",
        "\tP7R40520 --> P86Y0800\n",
        "pickle/HP12_1573.pickle"
       ]
      },
      {
       "output_type": "stream",
       "stream": "stdout",
       "text": [
        "\n",
        "\tS962-3797 --> P86Y0734\n",
        "\tSEED-1702 --> P86Y0769\n",
        "\tSEED-2613 --> P86Y0770\n",
        "\tP7R40521 --> P86Y0801\n",
        "pickle/HP12_1574.pickle"
       ]
      },
      {
       "output_type": "stream",
       "stream": "stdout",
       "text": [
        "\n",
        "\tS907-3728 --> P86Y0689\n",
        "\tP7R40461 --> P86Y0709\n",
        "\tP7R40471 --> P86Y0726\n",
        "pickle/HP12_1575.pickle"
       ]
      },
      {
       "output_type": "stream",
       "stream": "stdout",
       "text": [
        "\n",
        "\tP7R40409 --> P86Y0630\n",
        "\tP7R40428 --> P86Y0659\n",
        "pickle/HP12_1576.pickle"
       ]
      },
      {
       "output_type": "stream",
       "stream": "stdout",
       "text": [
        "\n",
        "\tP7R40296 --> P86Y0463\n",
        "\tP7R40318 --> P86Y0497\n",
        "\tP7R40318P --> P86Y0498\n",
        "\tP7R40371A --> P86Y0574\n",
        "pickle/HP12_1577.pickle"
       ]
      },
      {
       "output_type": "stream",
       "stream": "stdout",
       "text": [
        "\n",
        "\tP7R40192 --> P86Y0294\n",
        "\tS962-3813 --> P86Y0336\n",
        "\tS962-3791 --> P86Y0394\n",
        "pickle/HP12_1578.pickle"
       ]
      },
      {
       "output_type": "stream",
       "stream": "stdout",
       "text": [
        "\n",
        "\tP7R40120 --> P86Y0189\n",
        "\tP7R40131 --> P86Y0204\n",
        "\tP7R40151 --> P86Y0235\n",
        "pickle/HP12_1579.pickle"
       ]
      },
      {
       "output_type": "stream",
       "stream": "stdout",
       "text": [
        "\n",
        "pickle/HP12_1580.pickle"
       ]
      },
      {
       "output_type": "stream",
       "stream": "stdout",
       "text": [
        "\n",
        "\tS907-3723 --> P86Y5261\n",
        "\tS907-3760 --> P86Y5323\n",
        "pickle/HP12_1581.pickle"
       ]
      },
      {
       "output_type": "stream",
       "stream": "stdout",
       "text": [
        "\n",
        "\tSEED-2621 --> P86Y5167\n",
        "\tP7R43519 --> P86Y5187\n",
        "pickle/HP12_1582.pickle"
       ]
      },
      {
       "output_type": "stream",
       "stream": "stdout",
       "text": [
        "\n",
        "\tP7R43495 --> P86Y5155\n",
        "pickle/HP12_1583.pickle"
       ]
      },
      {
       "output_type": "stream",
       "stream": "stdout",
       "text": [
        "\n",
        "pickle/HP12_1584.pickle"
       ]
      },
      {
       "output_type": "stream",
       "stream": "stdout",
       "text": [
        "\n",
        "\tP7R43469 --> P86Y5116\n",
        "\tP7R43496 --> P86Y5156\n",
        "\tP7R43502 --> P86Y5163\n",
        "pickle/HP12_1585.pickle"
       ]
      },
      {
       "output_type": "stream",
       "stream": "stdout",
       "text": [
        "\n",
        "\tS907-3774 --> P86Y5130\n",
        "pickle/HP12_1586.pickle"
       ]
      },
      {
       "output_type": "stream",
       "stream": "stdout",
       "text": [
        "\n",
        "\tP7R43490 --> P86Y5150\n",
        "\tS962-3855 --> P86Y5152\n",
        "\tP7R43494 --> P86Y5158\n",
        "pickle/HP12_1587.pickle"
       ]
      },
      {
       "output_type": "stream",
       "stream": "stdout",
       "text": [
        "\n",
        "\tP7R43477A --> P86Y5131\n",
        "\tP7R43486 --> P86Y5146\n",
        "pickle/HP12_1588.pickle"
       ]
      },
      {
       "output_type": "stream",
       "stream": "stdout",
       "text": [
        "\n",
        "\tP7R43488 --> P86Y5148\n",
        "\tP7R43501 --> P86Y5160\n",
        "\tS962-3804 --> P86Y5168\n",
        "\tS962-3827 --> P86Y5173\n",
        "\tP7R43512 --> P86Y5177\n",
        "\tS962-3837 --> P86Y5196\n",
        "\tP7R43537 --> P86Y5213\n",
        "\tP7R43553 --> P86Y5232\n",
        "pickle/HP12_1589.pickle"
       ]
      },
      {
       "output_type": "stream",
       "stream": "stdout",
       "text": [
        "\n",
        "\tP7R43547A --> P86Y5237\n",
        "\tSEED-2691 --> P86Y5252\n",
        "pickle/HP12_1590.pickle"
       ]
      },
      {
       "output_type": "stream",
       "stream": "stdout",
       "text": [
        "\n",
        "\tP7R43577 --> P86Y5263\n",
        "\tS962-3847 --> P86Y5287\n",
        "\tP7R43605 --> P86Y5304\n",
        "\tS962-3868 --> P86Y5305\n",
        "pickle/HP12_1591.pickle"
       ]
      },
      {
       "output_type": "stream",
       "stream": "stdout",
       "text": [
        "\n",
        "\tS962-3822 --> P86Y5317\n",
        "\tP7R43631A --> P86Y5344\n",
        "\tP7R43636 --> P86Y5352\n",
        "\tP7R43646 --> P86Y5363\n",
        "pickle/HP12_1592.pickle"
       ]
      },
      {
       "output_type": "stream",
       "stream": "stdout",
       "text": [
        "\n",
        "\tSEED-2663 --> P86Y5438\n",
        "pickle/HP12_1593.pickle"
       ]
      },
      {
       "output_type": "stream",
       "stream": "stdout",
       "text": [
        "\n",
        "\tS962-3861 --> P86Y0054\n",
        "\tP7R40046 --> P86Y0074\n",
        "\tS962-3838 --> P86Y0076\n",
        "\tP7R40056 --> P86Y0087\n",
        "\tP7R40062 --> P86Y0093\n",
        "\tP7R40068 --> P86Y0103\n",
        "pickle/HP12_1594.pickle"
       ]
      },
      {
       "output_type": "stream",
       "stream": "stdout",
       "text": [
        "\n",
        "\tP7R40088A --> P86Y0132\n",
        "\tP7R40115A --> P86Y0181\n",
        "pickle/HP12_1595.pickle"
       ]
      },
      {
       "output_type": "stream",
       "stream": "stdout",
       "text": [
        "\n",
        "\tSEED-2670 --> P86Y0265\n",
        "\tP7R40175 --> P86Y0272\n",
        "\tP7R40188 --> P86Y0290\n",
        "pickle/HP12_1596.pickle"
       ]
      },
      {
       "output_type": "stream",
       "stream": "stdout",
       "text": [
        "\n",
        "\tS907-3781 --> P86Y0299\n",
        "\tP7R40203G --> P86Y0316\n",
        "\tSEED-1789 --> P86Y0322\n",
        "\tP7R40209 --> P86Y0328\n",
        "\tS962-3865 --> P86Y0355\n",
        "\tS907-3770 --> P86Y0361\n",
        "pickle/HP12_1597.pickle"
       ]
      },
      {
       "output_type": "stream",
       "stream": "stdout",
       "text": [
        "\n",
        "\tP7R40252 --> P86Y0399\n",
        "\tS962-3784 --> P86Y0408\n",
        "\tP7R40258 --> P86Y0409\n",
        "\tP7R40272 --> P86Y0430\n",
        "pickle/HP12_1598.pickle"
       ]
      },
      {
       "output_type": "stream",
       "stream": "stdout",
       "text": [
        "\n",
        "\tP7R40301 --> P86Y0471\n",
        "\tS907-3761 --> P86Y0499\n",
        "pickle/HP12_1599.pickle"
       ]
      },
      {
       "output_type": "stream",
       "stream": "stdout",
       "text": [
        "\n",
        "\tP7R40359 --> P86Y0554\n",
        "\tP7R40371 --> P86Y0569\n",
        "\tP7R40381AG --> P86Y0588\n",
        "pickle/HP12_1600.pickle"
       ]
      },
      {
       "output_type": "stream",
       "stream": "stdout",
       "text": [
        "\n",
        "pickle/HP12_1601.pickle"
       ]
      },
      {
       "output_type": "stream",
       "stream": "stdout",
       "text": [
        "\n",
        "\tP7R40439G --> P86Y0674\n",
        "\tP7R40442 --> P86Y0677\n",
        "\tP7R40454 --> P86Y0697\n",
        "pickle/HP12_1602.pickle"
       ]
      },
      {
       "output_type": "stream",
       "stream": "stdout",
       "text": [
        "\n",
        "\tP7R40466 --> P86Y0717\n",
        "pickle/HP12_1603.pickle"
       ]
      },
      {
       "output_type": "stream",
       "stream": "stdout",
       "text": [
        "\n",
        "\tS962-3833 --> P86Y0728\n",
        "\tP7R40475 --> P86Y0733\n",
        "pickle/HP12_1604.pickle"
       ]
      },
      {
       "output_type": "stream",
       "stream": "stdout",
       "text": [
        "\n",
        "\tSEED-2693 --> P86Y0679\n",
        "\tP7R40464 --> P86Y0718\n",
        "\tS962-3849 --> P86Y0722\n",
        "pickle/HP12_1605.pickle"
       ]
      },
      {
       "output_type": "stream",
       "stream": "stdout",
       "text": [
        "\n",
        "\tS962-3848 --> P86Y0705\n",
        "\tS962-3816 --> P86Y0746\n",
        "\tS962-3824 --> P86Y0747\n",
        "\tP7R40489 --> P86Y0751\n",
        "\tP7R40511 --> P86Y0797\n",
        "pickle/HP12_1606.pickle"
       ]
      },
      {
       "output_type": "stream",
       "stream": "stdout",
       "text": [
        "\n",
        "\tS907-3762 --> P86Y0708\n",
        "\tS962-3802 --> P86Y0738\n",
        "pickle/HP12_1607.pickle"
       ]
      },
      {
       "output_type": "stream",
       "stream": "stdout",
       "text": [
        "\n",
        "\tP7R40414 --> P86Y0638\n",
        "\tS962-3807 --> P86Y0702\n",
        "\tS962-3790 --> P86Y0725\n",
        "pickle/HP12_1608.pickle"
       ]
      },
      {
       "output_type": "stream",
       "stream": "stdout",
       "text": [
        "\n",
        "\tP7R40320 --> P86Y0500\n",
        "\tS962-3820 --> P86Y0548\n",
        "\tP7R40364 --> P86Y0566\n",
        "pickle/HP12_1609.pickle"
       ]
      },
      {
       "output_type": "stream",
       "stream": "stdout",
       "text": [
        "\n",
        "\tP7R40243 --> P86Y0386\n",
        "\tP7R40253 --> P86Y0402\n",
        "pickle/HP12_1610.pickle"
       ]
      },
      {
       "output_type": "stream",
       "stream": "stdout",
       "text": [
        "\n",
        "\tP7R40155 --> P86Y0244\n",
        "pickle/HP12_1611.pickle"
       ]
      },
      {
       "output_type": "stream",
       "stream": "stdout",
       "text": [
        "\n",
        "\tSEED-2819 --> P86Y0070\n",
        "\tP7R40053 --> P86Y0083\n",
        "\tS962-3828 --> P86Y0088\n",
        "\tSEED-2815 --> P86Y0110\n",
        "\tP7R40087 --> P86Y0131\n",
        "\tP7R40084A --> P86Y0135\n",
        "pickle/HP12_1612.pickle"
       ]
      },
      {
       "output_type": "stream",
       "stream": "stdout",
       "text": [
        "\n",
        "\tP7R43633 --> P86Y5345\n",
        "\tP7R43658 --> P86Y5378\n",
        "\tSEED-1747 --> P86Y5388\n",
        "\tP7R43684 --> P86Y5417\n",
        "pickle/HP12_1613.pickle"
       ]
      },
      {
       "output_type": "stream",
       "stream": "stdout",
       "text": [
        "\n",
        "\tP7R43550 --> P86Y5230\n",
        "\tP7R43585 --> P86Y5277\n",
        "\tP7R43585G --> P86Y5279\n",
        "\tP7R43603 --> P86Y5300\n",
        "pickle/HP12_1614.pickle"
       ]
      },
      {
       "output_type": "stream",
       "stream": "stdout",
       "text": [
        "\n",
        "\tP7R43499 --> P86Y5164\n",
        "\tP7R43507 --> P86Y5169\n",
        "\tP7R43535 --> P86Y5208\n",
        "pickle/HP12_1615.pickle"
       ]
      },
      {
       "output_type": "stream",
       "stream": "stdout",
       "text": [
        "\n",
        "\tS962-3829 --> P86Y5132\n",
        "\tP7R43483 --> P86Y5143\n",
        "\tS962-3841 --> P86Y5151\n",
        "\tP7R43510 --> P86Y5176\n",
        "pickle/HP12_1616.pickle"
       ]
      },
      {
       "output_type": "stream",
       "stream": "stdout",
       "text": [
        "\n",
        "\tP7R43521 --> P86Y5188\n",
        "\tP7R43549 --> P86Y5227\n",
        "pickle/HP12_1617.pickle"
       ]
      },
      {
       "output_type": "stream",
       "stream": "stdout",
       "text": [
        "\n",
        "\tS962-3888 --> P86Y5191\n",
        "\tP7R43523 --> P86Y5194\n",
        "\tS907-3828 --> P86Y5209\n",
        "pickle/HP12_1618.pickle"
       ]
      },
      {
       "output_type": "stream",
       "stream": "stdout",
       "text": [
        "\n",
        "\tP7R43511 --> P86Y5175\n",
        "\tP7R43513 --> P86Y5180\n",
        "pickle/HP12_1619.pickle"
       ]
      },
      {
       "output_type": "stream",
       "stream": "stdout",
       "text": [
        "\n",
        "\tS907-3786 --> P86Y5185\n",
        "\tP7R43544 --> P86Y5223\n",
        "\tP7R43561 --> P86Y5244\n",
        "pickle/HP12_1620.pickle"
       ]
      },
      {
       "output_type": "stream",
       "stream": "stdout",
       "text": [
        "\n",
        "\tP7R43570 --> P86Y5254\n",
        "pickle/HP12_1621.pickle"
       ]
      },
      {
       "output_type": "stream",
       "stream": "stdout",
       "text": [
        "\n",
        "pickle/HP12_1622.pickle"
       ]
      },
      {
       "output_type": "stream",
       "stream": "stdout",
       "text": [
        "\n",
        "\tS907-3816 --> P86Y5382\n",
        "pickle/HP12_1623.pickle"
       ]
      },
      {
       "output_type": "stream",
       "stream": "stdout",
       "text": [
        "\n",
        "\tP7R40016 --> P86Y0028\n",
        "\tP7R40019A --> P86Y0030\n",
        "\tS907-3840 --> P86Y0033\n",
        "\tP7R43689 --> P86Y5422\n",
        "pickle/HP12_1624.pickle"
       ]
      },
      {
       "output_type": "stream",
       "stream": "stdout",
       "text": [
        "\n",
        "\tS907-3813 --> P86Y0090\n",
        "\tS907-3810 --> P86Y0118\n",
        "\tS962-3895 --> P86Y0119\n",
        "\tP7R40096 --> P86Y0147\n",
        "pickle/HP12_1625.pickle"
       ]
      },
      {
       "output_type": "stream",
       "stream": "stdout",
       "text": [
        "\n",
        "\tP7R40124 --> P86Y0196\n",
        "\tP7R40149 --> P86Y0231\n",
        "pickle/HP12_1626.pickle"
       ]
      },
      {
       "output_type": "stream",
       "stream": "stdout",
       "text": [
        "\n",
        "\tP7R40166 --> P86Y0255\n",
        "\tP7R40165 --> P86Y0256\n",
        "\tS962-3889 --> P86Y0264\n",
        "\tP7R40176A --> P86Y0274\n",
        "\tP7R40184 --> P86Y0277\n",
        "pickle/HP12_1627.pickle"
       ]
      },
      {
       "output_type": "stream",
       "stream": "stdout",
       "text": [
        "\n",
        "\tP7R40235P --> P86Y0368\n",
        "pickle/HP12_1628.pickle"
       ]
      },
      {
       "output_type": "stream",
       "stream": "stdout",
       "text": [
        "\n",
        "\tS907-3801 --> P86Y0413\n",
        "\tP7R40285 --> P86Y0443\n",
        "\tS962-3859 --> P86Y0445\n",
        "pickle/HP12_1629.pickle"
       ]
      },
      {
       "output_type": "stream",
       "stream": "stdout",
       "text": [
        "\n",
        "\tP7R40308 --> P86Y0484\n",
        "\tS907-3799 --> P86Y0491\n",
        "\tP7R40324 --> P86Y0504\n",
        "\tS907-3818 --> P86Y0508\n",
        "\tS962-3881 --> P86Y0521\n",
        "\tS962-3882 --> P86Y0531\n",
        "pickle/HP12_1630.pickle"
       ]
      },
      {
       "output_type": "stream",
       "stream": "stdout",
       "text": [
        "\n",
        "\tP7R40342 --> P86Y0530\n",
        "\tSEED-2715 --> P86Y0549\n",
        "\tS962-3880 --> P86Y0573\n",
        "\tSEED-1786 --> P86Y0609\n",
        "pickle/HP12_1631.pickle"
       ]
      },
      {
       "output_type": "stream",
       "stream": "stdout",
       "text": [
        "\n",
        "\tSEED-2871 --> P86Y0616\n",
        "\tP7R40423 --> P86Y0651\n",
        "pickle/HP12_1632.pickle"
       ]
      },
      {
       "output_type": "stream",
       "stream": "stdout",
       "text": [
        "\n",
        "\tP7R40427 --> P86Y0657\n",
        "\tSEED-2692 --> P86Y0667\n",
        "\tP7R40438A --> P86Y0668\n",
        "\tP7R40448 --> P86Y0688\n",
        "pickle/HP12_1633.pickle"
       ]
      },
      {
       "output_type": "stream",
       "stream": "stdout",
       "text": [
        "\n",
        "\tP7R40433P --> P86Y0664\n",
        "\tP7R40443 --> P86Y0682\n",
        "\tP7R40451 --> P86Y0692\n",
        "\tP7R40458A --> P86Y0700\n",
        "pickle/HP12_1634.pickle"
       ]
      },
      {
       "output_type": "stream",
       "stream": "stdout",
       "text": [
        "\n",
        "\tS907-3822 --> P86Y0656\n",
        "\tS962-3852 --> P86Y0712\n",
        "pickle/HP12_1635.pickle"
       ]
      },
      {
       "output_type": "stream",
       "stream": "stdout",
       "text": [
        "\n",
        "\tS907-3826 --> P86Y0627\n",
        "\tS962-3883 --> P86Y0649\n",
        "pickle/HP12_1636.pickle"
       ]
      },
      {
       "output_type": "stream",
       "stream": "stdout",
       "text": [
        "\n",
        "\tP7R40354H --> P86Y0576\n",
        "\tS962-3873 --> P86Y0629\n",
        "\tP7R40413 --> P86Y0637\n",
        "pickle/HP12_1637.pickle"
       ]
      },
      {
       "output_type": "stream",
       "stream": "stdout",
       "text": [
        "\n",
        "\tP7R40269 --> P86Y0424\n",
        "\tP7R40303 --> P86Y0476\n",
        "\tP7R40306 --> P86Y0482\n",
        "\tS962-3900 --> P86Y0493\n",
        "pickle/HP12_1638.pickle"
       ]
      },
      {
       "output_type": "stream",
       "stream": "stdout",
       "text": [
        "\n",
        "\tP7R40197 --> P86Y0302\n",
        "\tP7R40223 --> P86Y0347\n",
        "\tP7R40227 --> P86Y0353\n",
        "\tP7R40249 --> P86Y0393\n",
        "pickle/HP12_1639.pickle"
       ]
      },
      {
       "output_type": "stream",
       "stream": "stdout",
       "text": [
        "\n",
        "\tP7R40123 --> P86Y0193\n",
        "\tP7R40125 --> P86Y0197\n",
        "\tS962-3898 --> P86Y0216\n",
        "\tP7R40147 --> P86Y0229\n",
        "pickle/HP12_1640.pickle"
       ]
      },
      {
       "output_type": "stream",
       "stream": "stdout",
       "text": [
        "\n",
        "\tP7R40007 --> P86Y0008\n",
        "\tP7R40060 --> P86Y0091\n",
        "\tP7R43692 --> P86Y5424\n",
        "pickle/HP12_1641.pickle"
       ]
      },
      {
       "output_type": "stream",
       "stream": "stdout",
       "text": [
        "\n",
        "\tP7R43624 --> P86Y5330\n",
        "\tP7R43655 --> P86Y5373\n",
        "\tP7R43666 --> P86Y5391\n",
        "pickle/HP12_1642.pickle"
       ]
      },
      {
       "output_type": "stream",
       "stream": "stdout",
       "text": [
        "\n",
        "\tS907-3829 --> P86Y5266\n",
        "\tP7R43582A --> P86Y5274\n",
        "\tP7R43588 --> P86Y5281\n",
        "\tS962-3884 --> P86Y5297\n",
        "pickle/HP12_1643.pickle"
       ]
      },
      {
       "output_type": "stream",
       "stream": "stdout",
       "text": [
        "\n",
        "\tP7R43530 --> P86Y5203\n",
        "pickle/HP12_1644.pickle"
       ]
      },
      {
       "output_type": "stream",
       "stream": "stdout",
       "text": [
        "\n",
        "\tS907-3841 --> P86Y5225\n",
        "\tP7R43556 --> P86Y5231\n",
        "\tP7R43567 --> P86Y5249\n",
        "\tP7R43576 --> P86Y5262\n",
        "\tP7R43611 --> P86Y5314\n",
        "pickle/HP12_1645.pickle"
       ]
      },
      {
       "output_type": "stream",
       "stream": "stdout",
       "text": [
        "\n",
        "\tP7R43533 --> P86Y5206\n",
        "\tP7R43541 --> P86Y5219\n",
        "\tP7R43548 --> P86Y5226\n",
        "\tS907-3844 --> P86Y5238\n",
        "pickle/HP12_1646.pickle"
       ]
      },
      {
       "output_type": "stream",
       "stream": "stdout",
       "text": [
        "\n",
        "pickle/HP12_1647.pickle"
       ]
      },
      {
       "output_type": "stream",
       "stream": "stdout",
       "text": [
        "\n",
        "\tP7R43597G --> P86Y5293\n",
        "pickle/HP12_1648.pickle"
       ]
      },
      {
       "output_type": "stream",
       "stream": "stdout",
       "text": [
        "\n",
        "pickle/HP12_1649.pickle"
       ]
      },
      {
       "output_type": "stream",
       "stream": "stdout",
       "text": [
        "\n",
        "\tP7R40001 --> P86Y0003\n",
        "\tP7R43638 --> P86Y5353\n",
        "pickle/HP12_1650.pickle"
       ]
      },
      {
       "output_type": "stream",
       "stream": "stdout",
       "text": [
        "\n",
        "\tP7R40018 --> P86Y0029\n",
        "\tP7R40040 --> P86Y0063\n",
        "\tP7R40050 --> P86Y0079\n",
        "pickle/HP12_1651.pickle"
       ]
      },
      {
       "output_type": "stream",
       "stream": "stdout",
       "text": [
        "\n",
        "\tP7R40082 --> P86Y0125\n",
        "\tS907-3835 --> P86Y0150\n",
        "pickle/HP12_1652.pickle"
       ]
      },
      {
       "output_type": "stream",
       "stream": "stdout",
       "text": [
        "\n",
        "\tP7R40127 --> P86Y0199\n",
        "\tSEED-2745 --> P86Y0210\n",
        "\tP7R40142 --> P86Y0222\n",
        "\tP7R40147A --> P86Y0230\n",
        "\tS907-3830 --> P86Y0236\n",
        "pickle/HP12_1653.pickle"
       ]
      },
      {
       "output_type": "stream",
       "stream": "stdout",
       "text": [
        "\n",
        "\tS907-3852 --> P86Y0286\n",
        "\tS907-3842 --> P86Y0297\n",
        "\tP7R40205 --> P86Y0318\n",
        "pickle/HP12_1654.pickle"
       ]
      },
      {
       "output_type": "stream",
       "stream": "stdout",
       "text": [
        "\n",
        "\tSEED-2903 --> P86Y0378\n",
        "\tP7R40242 --> P86Y0380\n",
        "\tP7R40242G --> P86Y0382\n",
        "\tS962-3915 --> P86Y0400\n",
        "pickle/HP12_1655.pickle"
       ]
      },
      {
       "output_type": "stream",
       "stream": "stdout",
       "text": [
        "\n",
        "\tS907-3861 --> P86Y0440\n",
        "\tS907-3845 --> P86Y0459\n",
        "\tP7R40295 --> P86Y0462\n",
        "\tS962-3913 --> P86Y0466\n",
        "pickle/HP12_1656.pickle"
       ]
      },
      {
       "output_type": "stream",
       "stream": "stdout",
       "text": [
        "\n",
        "\tSEED-2908 --> P86Y0481\n",
        "\tP7R40340 --> P86Y0526\n",
        "\tSEED-1823 --> P86Y0559\n",
        "pickle/HP12_1657.pickle"
       ]
      },
      {
       "output_type": "stream",
       "stream": "stdout",
       "text": [
        "\n",
        "\tP7R40349 --> P86Y0541\n",
        "\tP7R40365 --> P86Y0564\n",
        "\tS907-3831 --> P86Y0628\n",
        "pickle/HP12_1658.pickle"
       ]
      },
      {
       "output_type": "stream",
       "stream": "stdout",
       "text": [
        "\n",
        "\tP7R40351 --> P86Y0547\n",
        "\tS907-3853 --> P86Y0586\n",
        "pickle/HP12_1659.pickle"
       ]
      },
      {
       "output_type": "stream",
       "stream": "stdout",
       "text": [
        "\n",
        "\tP7R40368 --> P86Y0565\n",
        "\tP7R40391 --> P86Y0602\n",
        "\tP7R40397G --> P86Y0613\n",
        "pickle/HP12_1660.pickle"
       ]
      },
      {
       "output_type": "stream",
       "stream": "stdout",
       "text": [
        "\n",
        "\tS962-3932 --> P86Y0513\n",
        "\tP7R40369 --> P86Y0568\n",
        "\tP7R40387 --> P86Y0596\n",
        "\tP7R40390 --> P86Y0600\n",
        "pickle/HP12_1661.pickle"
       ]
      },
      {
       "output_type": "stream",
       "stream": "stdout",
       "text": [
        "\n",
        "\tS907-3872 --> P86Y0432\n",
        "\tP7R40354 --> P86Y0553\n",
        "pickle/HP12_1662.pickle"
       ]
      },
      {
       "output_type": "stream",
       "stream": "stdout",
       "text": [
        "\n",
        "\tS907-3858 --> P86Y0379\n",
        "\tP7R40268 --> P86Y0423\n",
        "\tP7R40270 --> P86Y0426\n",
        "\tS907-3856 --> P86Y0434\n",
        "pickle/HP12_1663.pickle"
       ]
      },
      {
       "output_type": "stream",
       "stream": "stdout",
       "text": [
        "\n",
        "\tS907-3836 --> P86Y0266\n",
        "\tS907-3859 --> P86Y0329\n",
        "pickle/HP12_1664.pickle"
       ]
      },
      {
       "output_type": "stream",
       "stream": "stdout",
       "text": [
        "\n",
        "pickle/HP12_1665.pickle"
       ]
      },
      {
       "output_type": "stream",
       "stream": "stdout",
       "text": [
        "\n",
        "\tP7R40014 --> P86Y0022\n",
        "\tSEED-2730 --> P86Y0040\n",
        "\tP7R40037 --> P86Y0060\n",
        "\tP7R43674 --> P86Y5407\n",
        "\tP7R43688 --> P86Y5420\n",
        "pickle/HP12_1666.pickle"
       ]
      },
      {
       "output_type": "stream",
       "stream": "stdout",
       "text": [
        "\n",
        "\tP7R43612 --> P86Y5313\n",
        "\tP7R43620 --> P86Y5324\n",
        "\tP7R43626 --> P86Y5331\n",
        "pickle/HP12_1667.pickle"
       ]
      },
      {
       "output_type": "stream",
       "stream": "stdout",
       "text": [
        "\n",
        "\tS962-3917 --> P86Y5276\n",
        "\tP7R43591 --> P86Y5284\n",
        "\tP7R43593 --> P86Y5286\n",
        "\tP7R43607 --> P86Y5308\n",
        "\tP7R43608 --> P86Y5309\n",
        "pickle/HP12_1668.pickle"
       ]
      },
      {
       "output_type": "stream",
       "stream": "stdout",
       "text": [
        "\n",
        "\tS962-3962 --> P86Y5321\n",
        "pickle/HP12_1669.pickle"
       ]
      },
      {
       "output_type": "stream",
       "stream": "stdout",
       "text": [
        "\n",
        "\tS962-3934 --> P86Y5280\n",
        "\tSEED-2763 --> P86Y5334\n",
        "\tS962-3982 --> P86Y5361\n",
        "pickle/HP12_1670.pickle"
       ]
      },
      {
       "output_type": "stream",
       "stream": "stdout",
       "text": [
        "\n",
        "\tSEED-2759 --> P86Y5332\n",
        "\tS962-3970 --> P86Y5335\n",
        "\tP7R43630 --> P86Y5341\n",
        "pickle/HP12_1671.pickle"
       ]
      },
      {
       "output_type": "stream",
       "stream": "stdout",
       "text": [
        "\n",
        "\tS907-3870 --> P86Y5342\n",
        "\tP7R43631 --> P86Y5343\n",
        "\tS962-3956 --> P86Y5371\n",
        "\tP7R43660 --> P86Y5384\n",
        "\tP7R43665 --> P86Y5390\n",
        "pickle/HP12_1672.pickle"
       ]
      },
      {
       "output_type": "stream",
       "stream": "stdout",
       "text": [
        "\n",
        "\tP7R40011 --> P86Y0020\n",
        "\tP7R43694 --> P86Y5428\n",
        "pickle/HP12_1673.pickle"
       ]
      },
      {
       "output_type": "stream",
       "stream": "stdout",
       "text": [
        "\n",
        "\tP7R40049 --> P86Y0078\n",
        "\tS907-3878 --> P86Y0104\n",
        "\tP7R40071P --> P86Y0111\n",
        "pickle/HP12_1674.pickle"
       ]
      },
      {
       "output_type": "stream",
       "stream": "stdout",
       "text": [
        "\n",
        "\tS907-3890 --> P86Y0140\n",
        "\tP7R40100 --> P86Y0151\n",
        "\tP7R40108 --> P86Y0167\n",
        "\tP7R40130 --> P86Y0202\n",
        "pickle/HP12_1675.pickle"
       ]
      },
      {
       "output_type": "stream",
       "stream": "stdout",
       "text": [
        "\n",
        "\tS962-3935 --> P86Y0273\n",
        "pickle/HP12_1676.pickle"
       ]
      },
      {
       "output_type": "stream",
       "stream": "stdout",
       "text": [
        "\n",
        "\tP7R40208 --> P86Y0326\n",
        "\tP7R40224 --> P86Y0348\n",
        "pickle/HP12_1677.pickle"
       ]
      },
      {
       "output_type": "stream",
       "stream": "stdout",
       "text": [
        "\n",
        "pickle/HP12_1678.pickle"
       ]
      },
      {
       "output_type": "stream",
       "stream": "stdout",
       "text": [
        "\n",
        "\tP7R40269A --> P86Y0418\n",
        "\tP7R40294 --> P86Y0457\n",
        "\tS907-3885 --> P86Y0464\n",
        "\tP7R40334 --> P86Y0517\n",
        "\tP7R40330 --> P86Y0518\n",
        "pickle/HP12_1679.pickle"
       ]
      },
      {
       "output_type": "stream",
       "stream": "stdout",
       "text": [
        "\n",
        "\tP7R40297 --> P86Y0467\n",
        "\tS962-3940 --> P86Y0539\n",
        "pickle/HP12_1680.pickle"
       ]
      },
      {
       "output_type": "stream",
       "stream": "stdout",
       "text": [
        "\n",
        "\tS907-3902 --> P86Y0451\n",
        "\tS962-3930 --> P86Y0563\n",
        "\tSEED-2902 --> P86Y0591\n",
        "pickle/HP12_1681.pickle"
       ]
      },
      {
       "output_type": "stream",
       "stream": "stdout",
       "text": [
        "\n",
        "\tS907-3886 --> P86Y0477\n",
        "\tP7R40313 --> P86Y0488\n",
        "\tP7R40340A --> P86Y0528\n",
        "pickle/HP12_1682.pickle"
       ]
      },
      {
       "output_type": "stream",
       "stream": "stdout",
       "text": [
        "\n",
        "\tP7R40273 --> P86Y0429\n",
        "\tP7R40276 --> P86Y0438\n",
        "\tP7R40298 --> P86Y0465\n",
        "\tS907-3865 --> P86Y0501\n",
        "pickle/HP12_1683.pickle"
       ]
      },
      {
       "output_type": "stream",
       "stream": "stdout",
       "text": [
        "\n",
        "\tS907-3896 --> P86Y0340\n",
        "\tS962-3961 --> P86Y0351\n",
        "\tS962-3946 --> P86Y0352\n",
        "\tP7R40238 --> P86Y0372\n",
        "pickle/HP12_1684.pickle"
       ]
      },
      {
       "output_type": "stream",
       "stream": "stdout",
       "text": [
        "\n",
        "\tS962-3965 --> P86Y0226\n",
        "\tS907-3867 --> P86Y0253\n",
        "pickle/HP12_1685.pickle"
       ]
      },
      {
       "output_type": "stream",
       "stream": "stdout",
       "text": [
        "\n",
        "\tP7R40050AG --> P86Y0023\n",
        "\tSEED-2746 --> P86Y0108\n",
        "\tP7R40073 --> P86Y0109\n",
        "\tP7R40069G --> P86Y0112\n",
        "pickle/HP12_1686.pickle"
       ]
      },
      {
       "output_type": "stream",
       "stream": "stdout",
       "text": [
        "\n",
        "\tP7R40005 --> P86Y0005\n",
        "\tS907-3879 --> P86Y5403\n",
        "\tP7R43693 --> P86Y5425\n",
        "pickle/HP12_1687.pickle"
       ]
      },
      {
       "output_type": "stream",
       "stream": "stdout",
       "text": [
        "\n",
        "\tP7R43616G --> P86Y5318\n",
        "\tP7R43619 --> P86Y5325\n",
        "\tP7R43627 --> P86Y5338\n",
        "\tS962-3927 --> P86Y5349\n",
        "\tP7R43641 --> P86Y5356\n",
        "pickle/HP12_1688.pickle"
       ]
      },
      {
       "output_type": "stream",
       "stream": "stdout",
       "text": [
        "\n",
        "\tS962-3991 --> P86Y5372\n",
        "pickle/HP12_1689.pickle"
       ]
      },
      {
       "output_type": "stream",
       "stream": "stdout",
       "text": [
        "\n",
        "\tS907-3894 --> P86Y5340\n",
        "\tP7R43637 --> P86Y5351\n",
        "\tS907-3903 --> P86Y5368\n",
        "pickle/HP12_1690.pickle"
       ]
      },
      {
       "output_type": "stream",
       "stream": "stdout",
       "text": [
        "\n",
        "\tS962-3994 --> P86Y5395\n",
        "\tSEED-2935 --> P86Y5406\n",
        "\tP7R43698 --> P86Y5429\n",
        "\tP7R43702 --> P86Y5437\n",
        "pickle/HP12_1691.pickle"
       ]
      },
      {
       "output_type": "stream",
       "stream": "stdout",
       "text": [
        "\n",
        "\tS962-3988 --> P86Y0012\n",
        "\tP7R40014A --> P86Y0025\n",
        "\tP7R40031 --> P86Y0044\n",
        "\tP7R43688G --> P86Y5405\n",
        "\tS962-3974 --> P86Y5411\n",
        "\tP7R43691 --> P86Y5423\n",
        "pickle/HP12_1692.pickle"
       ]
      },
      {
       "output_type": "stream",
       "stream": "stdout",
       "text": [
        "\n",
        "pickle/HP12_1693.pickle"
       ]
      },
      {
       "output_type": "stream",
       "stream": "stdout",
       "text": [
        "\n",
        "\tP7R40109 --> P86Y0169\n",
        "\tS907-3920 --> P86Y0177\n",
        "\tP7R40128 --> P86Y0200\n",
        "\tP7R40135 --> P86Y0213\n",
        "\tP7R40138 --> P86Y0214\n",
        "\tS907-3910 --> P86Y0227\n",
        "pickle/HP12_1694.pickle"
       ]
      },
      {
       "output_type": "stream",
       "stream": "stdout",
       "text": [
        "\n",
        "\tP7R40162 --> P86Y0254\n",
        "\tP7R40172G --> P86Y0267\n",
        "\tP7R40190 --> P86Y0292\n",
        "\tP7R40196 --> P86Y0301\n",
        "pickle/HP12_1695.pickle"
       ]
      },
      {
       "output_type": "stream",
       "stream": "stdout",
       "text": [
        "\n",
        "\tP7R40225 --> P86Y0349\n",
        "\tS962-3989 --> P86Y0375\n",
        "pickle/HP12_1696.pickle"
       ]
      },
      {
       "output_type": "stream",
       "stream": "stdout",
       "text": [
        "\n",
        "\tS907-3900 --> P86Y0436\n",
        "pickle/HP12_1697.pickle"
       ]
      },
      {
       "output_type": "stream",
       "stream": "stdout",
       "text": [
        "\n",
        "\tP7R40267 --> P86Y0420\n",
        "\tP7R40275 --> P86Y0435\n",
        "\tP7R40309G --> P86Y0487\n",
        "\tP7R40314G --> P86Y0489\n",
        "pickle/HP12_1698.pickle"
       ]
      },
      {
       "output_type": "stream",
       "stream": "stdout",
       "text": [
        "\n",
        "\tS962-4005 --> P86Y0384\n",
        "\tP7R40282AG --> P86Y0448\n",
        "\tP7R40287G --> P86Y0452\n",
        "pickle/HP12_1699.pickle"
       ]
      },
      {
       "output_type": "stream",
       "stream": "stdout",
       "text": [
        "\n",
        "\tP7R40230 --> P86Y0358\n",
        "\tP7R40244 --> P86Y0383\n",
        "\tP7R40254 --> P86Y0405\n",
        "pickle/HP12_1700.pickle"
       ]
      },
      {
       "output_type": "stream",
       "stream": "stdout",
       "text": [
        "\n",
        "\tP7R40199A --> P86Y0309\n",
        "\tS962-3980 --> P86Y0346\n",
        "pickle/HP12_1701.pickle"
       ]
      },
      {
       "output_type": "stream",
       "stream": "stdout",
       "text": [
        "\n",
        "\tS962-3986 --> P86Y0188\n",
        "\tP7R40121A --> P86Y0194\n",
        "\tP7R40126 --> P86Y0195\n",
        "\tP7R40129 --> P86Y0205\n",
        "pickle/HP12_1702.pickle"
       ]
      },
      {
       "output_type": "stream",
       "stream": "stdout",
       "text": [
        "\n",
        "\tS962-3992 --> P86Y0036\n",
        "\tS907-3895 --> P86Y0046\n",
        "\tP7R40034 --> P86Y0057\n",
        "\tS907-3904 --> P86Y0094\n",
        "\tP7R40061A --> P86Y0099\n",
        "\tP7R40080 --> P86Y0123\n",
        "pickle/HP12_1703.pickle"
       ]
      },
      {
       "output_type": "stream",
       "stream": "stdout",
       "text": [
        "\n",
        "\tS962-3995 --> P86Y0013\n",
        "\tP7R43668A --> P86Y5400\n",
        "\tS907-3924 --> P86Y5430\n",
        "\tP7R40000A --> P86Y5441\n",
        "pickle/HP12_1704.pickle"
       ]
      },
      {
       "output_type": "stream",
       "stream": "stdout",
       "text": [
        "\n",
        "\tS907-3929 --> P86Y0007\n",
        "\tS907-3932 --> P86Y0045\n",
        "\tP7R40032G --> P86Y0050\n",
        "\tP7R40030 --> P86Y0055\n",
        "\tP7R43669 --> P86Y5398\n",
        "\tS907-3925 --> P86Y5401\n",
        "\tP7R43676 --> P86Y5410\n",
        "\tP7R43695 --> P86Y5426\n",
        "\tP7R43701 --> P86Y5435\n",
        "pickle/HP12_1705.pickle"
       ]
      },
      {
       "output_type": "stream",
       "stream": "stdout",
       "text": [
        "\n",
        "\tP7R40027A --> P86Y0039\n",
        "\tS907-3935 --> P86Y0049\n",
        "pickle/HP12_1706.pickle"
       ]
      },
      {
       "output_type": "stream",
       "stream": "stdout",
       "text": [
        "\n",
        "\tSEED-2938 --> P86Y0014\n",
        "\tS962-4001 --> P86Y0026\n",
        "\tP7R40036 --> P86Y0059\n",
        "\tP7R40059 --> P86Y0092\n",
        "pickle/HP12_1707.pickle"
       ]
      },
      {
       "output_type": "stream",
       "stream": "stdout",
       "text": [
        "\n",
        "\tP7R40079 --> P86Y0122\n",
        "\tP7R40090 --> P86Y0133\n",
        "\tS962-4010 --> P86Y0137\n",
        "\tS962-4007 --> P86Y0162\n",
        "pickle/HP12_1708.pickle"
       ]
      },
      {
       "output_type": "stream",
       "stream": "stdout",
       "text": [
        "\n",
        "pickle/HP12_1709.pickle"
       ]
      },
      {
       "output_type": "stream",
       "stream": "stdout",
       "text": [
        "\n",
        "\tS907-3917 --> P86Y0319\n",
        "\tS962-3999 --> P86Y0341\n",
        "pickle/HP12_1710.pickle"
       ]
      },
      {
       "output_type": "stream",
       "stream": "stdout",
       "text": [
        "\n",
        "\tP7R40207 --> P86Y0321\n",
        "\tSEED-2793 --> P86Y0342\n",
        "\tP7R40234 --> P86Y0367\n",
        "\tP7R40240 --> P86Y0374\n",
        "pickle/HP12_1711.pickle"
       ]
      },
      {
       "output_type": "stream",
       "stream": "stdout",
       "text": [
        "\n",
        "\tP7R40246 --> P86Y0388\n",
        "pickle/HP12_1712.pickle"
       ]
      },
      {
       "output_type": "stream",
       "stream": "stdout",
       "text": [
        "\n",
        "\tS962-4020 --> P86Y0288\n",
        "\tS907-3930 --> P86Y0339\n",
        "\tS907-3931 --> P86Y0366\n",
        "pickle/HP12_1713.pickle"
       ]
      },
      {
       "output_type": "stream",
       "stream": "stdout",
       "text": [
        "\n",
        "\tS907-3926 --> P86Y0228\n",
        "\tP7R40170 --> P86Y0261\n",
        "\tP7R40181 --> P86Y0282\n",
        "pickle/HP12_1714.pickle"
       ]
      },
      {
       "output_type": "stream",
       "stream": "stdout",
       "text": [
        "\n",
        "\tP7R40069B --> P86Y0113\n",
        "\tS962-3997 --> P86Y0129\n",
        "\tSEED-2934 --> P86Y0134\n",
        "\tP7R40111 --> P86Y0174\n",
        "pickle/HP12_1715.pickle"
       ]
      },
      {
       "output_type": "stream",
       "stream": "stdout",
       "text": [
        "\n",
        "pickle/HP12_1716.pickle"
       ]
      },
      {
       "output_type": "stream",
       "stream": "stdout",
       "text": [
        "\n",
        "\tS962-4018 --> P86Y0053\n",
        "\tP7R40050A --> P86Y0067\n",
        "\tS907-3940 --> P86Y0077\n",
        "\tP7R40086 --> P86Y0130\n",
        "pickle/HP12_1717.pickle"
       ]
      },
      {
       "output_type": "stream",
       "stream": "stdout",
       "text": [
        "\n",
        "\tP7R40032 --> P86Y0052\n",
        "\tS907-3938 --> P86Y0071\n",
        "\tS907-3942 --> P86Y0105\n",
        "\tP7R40068P --> P86Y0106\n",
        "\tP7R40083 --> P86Y0126\n",
        "\tP7R40102 --> P86Y0157\n",
        "pickle/HP12_1718.pickle"
       ]
      },
      {
       "output_type": "stream",
       "stream": "stdout",
       "text": [
        "\n",
        "\tP7R40096AP --> P86Y0153\n",
        "\tSEED-1894 --> P86Y0178\n",
        "\tSEED-2805 --> P86Y0179\n",
        "\tP7R40133 --> P86Y0212\n",
        "pickle/HP12_1719.pickle"
       ]
      },
      {
       "output_type": "stream",
       "stream": "stdout",
       "text": [
        "\n",
        "\tP7R40194 --> P86Y0298\n",
        "\tP7R40195 --> P86Y0300\n",
        "pickle/HP12_1720.pickle"
       ]
      },
      {
       "output_type": "stream",
       "stream": "stdout",
       "text": [
        "\n",
        "\tP7R40198 --> P86Y0307\n",
        "\tP7R40203 --> P86Y0314\n",
        "\tP7R40206 --> P86Y0320\n",
        "\tS962-4015 --> P86Y0360\n",
        "pickle/HP12_1721.pickle"
       ]
      },
      {
       "output_type": "stream",
       "stream": "stdout",
       "text": [
        "\n",
        "\tS962-4028 --> P86Y0278\n",
        "\tS907-3941 --> P86Y0312\n",
        "pickle/HP12_1722.pickle"
       ]
      },
      {
       "output_type": "stream",
       "stream": "stdout",
       "text": [
        "\n",
        "\tS962-4023 --> P86Y0203\n",
        "\tP7R40143 --> P86Y0221\n",
        "\tP7R40147AG --> P86Y0232\n",
        "pickle/HP12_1723.pickle"
       ]
      },
      {
       "output_type": "stream",
       "stream": "stdout",
       "text": [
        "\n",
        "pickle/HP12_1724.pickle"
       ]
      },
      {
       "output_type": "stream",
       "stream": "stdout",
       "text": [
        "\n",
        "\tP7R40058 --> P86Y0089\n",
        "\tS962-4033 --> P86Y0143\n",
        "\tP7R40095 --> P86Y0148\n",
        "pickle/HP12_1725.pickle"
       ]
      },
      {
       "output_type": "stream",
       "stream": "stdout",
       "text": [
        "\n",
        "\tP7R40117 --> P86Y0184\n",
        "\tS962-4036 --> P86Y0190\n",
        "\tP7R40134 --> P86Y0211\n",
        "\tP7R40136 --> P86Y0215\n",
        "\tP7R40160 --> P86Y0251\n",
        "pickle/HP12_1726.pickle"
       ]
      },
      {
       "output_type": "stream",
       "stream": "stdout",
       "text": [
        "\n",
        "\tS962-4032 --> P86Y0271\n",
        "\tP7R40191 --> P86Y0293\n",
        "\tP7R40193 --> P86Y0295\n",
        "pickle/HP12_1727.pickle"
       ]
      },
      {
       "output_type": "stream",
       "stream": "stdout",
       "text": [
        "\n"
       ]
      }
     ],
     "prompt_number": 14
    },
    {
     "cell_type": "code",
     "collapsed": false,
     "input": [
      "ff = sorted(glob.glob('pickle/*.pickle')); \n",
      "len(ff)"
     ],
     "language": "python",
     "metadata": {},
     "outputs": [
      {
       "metadata": {},
       "output_type": "pyout",
       "prompt_number": 10,
       "text": [
        "1728"
       ]
      }
     ],
     "prompt_number": 10
    },
    {
     "cell_type": "code",
     "collapsed": false,
     "input": [
      "!zip -f pickle.zip"
     ],
     "language": "python",
     "metadata": {},
     "outputs": [
      {
       "output_type": "stream",
       "stream": "stdout",
       "text": [
        "freshening: pickle/HP12_0598.pickle (deflated 69%)\r\n",
        "freshening: pickle/HP12_0182.pickle (deflated 69%)\r\n",
        "freshening: pickle/HP12_0470.pickle (deflated 70%)\r\n",
        "freshening: pickle/HP12_0257.pickle (deflated 70%)\r\n",
        "freshening: pickle/HP12_1154.pickle (deflated 69%)\r\n",
        "freshening: pickle/HP12_1281.pickle (deflated 69%)\r\n",
        "freshening: pickle/HP12_1369.pickle (deflated 70%)\r\n",
        "freshening: pickle/HP12_0119.pickle"
       ]
      },
      {
       "output_type": "stream",
       "stream": "stdout",
       "text": [
        " (deflated 69%)\r\n",
        "freshening: pickle/HP12_0324.pickle (deflated 69%)\r\n",
        "freshening: pickle/HP12_0503.pickle (deflated 70%)\r\n",
        "freshening: pickle/HP12_1027.pickle (deflated 69%)\r\n",
        "freshening: pickle/HP12_1600.pickle (deflated 72%)\r\n",
        "freshening: pickle/HP12_0159.pickle (deflated 69%)\r\n",
        "freshening: pickle/HP12_0543.pickle (deflated 70%)\r\n",
        "freshening: pickle/HP12_0364.pickle (deflated 70%)\r\n",
        "freshening: pickle/HP12_0696.pickle (deflated 69%)\r\n",
        "freshening: pickle/HP12_1595.pickle (deflated 69%)\r\n",
        "freshening: pickle/HP12_1640.pickle (deflated 69%)\r\n",
        "freshening: pickle/HP12_1067.pickle (deflated 70%)\r\n",
        "freshening: pickle/HP12_0996.pickle (deflated 69%)\r\n",
        "freshening: pickle/HP12_0217.pickle (deflated 70%)\r\n",
        "freshening: pickle/HP12_0430.pickle (deflated 69%)\r\n",
        "freshening: pickle/HP12_1114.pickle"
       ]
      },
      {
       "output_type": "stream",
       "stream": "stdout",
       "text": [
        " (deflated 69%)\r\n",
        "freshening: pickle/HP12_1329.pickle (deflated 70%)\r\n",
        "freshening: pickle/HP12_1515.pickle (deflated 69%)\r\n",
        "freshening: pickle/HP12_1332.pickle (deflated 71%)\r\n",
        "freshening: pickle/HP12_0616.pickle (deflated 69%)\r\n",
        "freshening: pickle/HP12_0031.pickle (deflated 69%)\r\n",
        "freshening: pickle/HP12_0865.pickle (deflated 69%)\r\n",
        "freshening: pickle/HP12_1241.pickle (deflated 69%)\r\n",
        "freshening: pickle/HP12_1466.pickle (deflated 69%)\r\n",
        "freshening: pickle/HP12_1194.pickle (deflated 69%)\r\n",
        "freshening: pickle/HP12_0297.pickle (deflated 69%)\r\n",
        "freshening: pickle/HP12_0142.pickle (deflated 70%)\r\n",
        "freshening: pickle/HP12_0765.pickle (deflated 70%)\r\n",
        "freshening: pickle/HP12_0916.pickle"
       ]
      },
      {
       "output_type": "stream",
       "stream": "stdout",
       "text": [
        " (deflated 70%)\r\n",
        "freshening: pickle/HP12_0558.pickle (deflated 69%)\r\n",
        "freshening: pickle/HP12_1426.pickle (deflated 69%)\r\n",
        "freshening: pickle/HP12_1201.pickle (deflated 69%)\r\n",
        "freshening: pickle/HP12_0725.pickle (deflated 69%)\r\n",
        "freshening: pickle/HP12_0102.pickle (deflated 69%)\r\n",
        "freshening: pickle/HP12_0956.pickle (deflated 69%)\r\n",
        "freshening: pickle/HP12_0518.pickle (deflated 69%)\r\n",
        "freshening: pickle/HP12_1680.pickle (deflated 69%)\r\n",
        "freshening: pickle/HP12_1372.pickle (deflated 72%)\r\n",
        "freshening: pickle/HP12_1555.pickle (deflated 70%)\r\n",
        "freshening: pickle/HP12_0071.pickle (deflated 69%)\r\n",
        "freshening: pickle/HP12_0656.pickle (deflated 69%)\r\n",
        "freshening: pickle/HP12_0583.pickle (deflated 70%)\r\n",
        "freshening: pickle/HP12_0199.pickle (deflated 70%)\r\n",
        "freshening: pickle/HP12_0825.pickle (deflated 70%)\r\n",
        "freshening: pickle/HP12_0600.pickle (deflated 69%)\r\n",
        "freshening: pickle/HP12_0027.pickle"
       ]
      },
      {
       "output_type": "stream",
       "stream": "stdout",
       "text": [
        " (deflated 69%)\r\n",
        "freshening: pickle/HP12_0873.pickle (deflated 72%)\r\n",
        "freshening: pickle/HP12_1119.pickle (deflated 69%)\r\n",
        "freshening: pickle/HP12_1503.pickle (deflated 70%)\r\n",
        "freshening: pickle/HP12_1324.pickle (deflated 69%)\r\n",
        "freshening: pickle/HP12_0281.pickle (deflated 70%)\r\n",
        "freshening: pickle/HP12_0154.pickle (deflated 69%)\r\n",
        "freshening: pickle/HP12_0773.pickle (deflated 70%)\r\n",
        "freshening: pickle/HP12_0900.pickle (deflated 69%)\r\n",
        "freshening: pickle/HP12_0369.pickle (deflated 69%)\r\n",
        "freshening: pickle/HP12_1598.pickle (deflated 70%)\r\n",
        "freshening: pickle/HP12_1257.pickle (deflated 69%)\r\n",
        "freshening: pickle/HP12_1470.pickle (deflated 70%)\r\n",
        "freshening: pickle/HP12_1182.pickle (deflated 70%)\r\n",
        "freshening: pickle/HP12_0733.pickle (deflated 69%)\r\n",
        "freshening: pickle/HP12_0114.pickle (deflated 70%)\r\n",
        "freshening: pickle/HP12_0940.pickle"
       ]
      },
      {
       "output_type": "stream",
       "stream": "stdout",
       "text": [
        " (deflated 70%)\r\n",
        "freshening: pickle/HP12_0329.pickle (deflated 69%)\r\n",
        "freshening: pickle/HP12_1430.pickle (deflated 70%)\r\n",
        "freshening: pickle/HP12_1217.pickle (deflated 69%)\r\n",
        "freshening: pickle/HP12_0067.pickle (deflated 69%)\r\n",
        "freshening: pickle/HP12_0640.pickle (deflated 69%)\r\n",
        "freshening: pickle/HP12_0595.pickle (deflated 69%)\r\n",
        "freshening: pickle/HP12_0833.pickle (deflated 70%)\r\n",
        "freshening: pickle/HP12_1159.pickle (deflated 69%)\r\n",
        "freshening: pickle/HP12_1696.pickle (deflated 70%)\r\n",
        "freshening: pickle/HP12_1364.pickle (deflated 70%)\r\n",
        "freshening: pickle/HP12_1543.pickle (deflated 70%)\r\n",
        "freshening: pickle/HP12_1142.pickle (deflated 70%)\r\n",
        "freshening: pickle/HP12_1297.pickle (deflated 70%)\r\n",
        "freshening: pickle/HP12_1558.pickle (deflated 69%)\r\n",
        "freshening: pickle/HP12_0194.pickle (deflated 70%)\r\n",
        "freshening: pickle/HP12_0828.pickle"
       ]
      },
      {
       "output_type": "stream",
       "stream": "stdout",
       "text": [
        " (deflated 70%)\r\n",
        "freshening: pickle/HP12_0466.pickle (deflated 71%)\r\n",
        "freshening: pickle/HP12_0241.pickle (deflated 69%)\r\n",
        "freshening: pickle/HP12_1031.pickle (deflated 70%)\r\n",
        "freshening: pickle/HP12_1616.pickle (deflated 69%)\r\n",
        "freshening: pickle/HP12_0728.pickle (deflated 72%)\r\n",
        "freshening: pickle/HP12_0332.pickle (deflated 69%)\r\n",
        "freshening: pickle/HP12_0515.pickle (deflated 69%)\r\n",
        "freshening: pickle/HP12_1583.pickle (deflated 72%)\r\n",
        "freshening: pickle/HP12_1656.pickle (deflated 70%)\r\n",
        "freshening: pickle/HP12_1071.pickle (deflated 69%)\r\n",
        "freshening: pickle/HP12_1199.pickle (deflated 69%)\r\n",
        "freshening: pickle/HP12_0768.pickle (deflated 69%)\r\n",
        "freshening: pickle/HP12_0555.pickle (deflated 69%)\r\n",
        "freshening: pickle/HP12_0372.pickle (deflated 70%)\r\n",
        "freshening: pickle/HP12_0680.pickle (deflated 70%)\r\n",
        "freshening: pickle/HP12_1102.pickle (deflated 69%)\r\n",
        "freshening: pickle/HP12_1725.pickle"
       ]
      },
      {
       "output_type": "stream",
       "stream": "stdout",
       "text": [
        " (deflated 69%)\r\n",
        "freshening: pickle/HP12_1518.pickle (deflated 70%)\r\n",
        "freshening: pickle/HP12_0980.pickle (deflated 70%)\r\n",
        "freshening: pickle/HP12_0868.pickle (deflated 69%)\r\n",
        "freshening: pickle/HP12_0201.pickle (deflated 70%)\r\n",
        "freshening: pickle/HP12_0426.pickle (deflated 70%)\r\n",
        "freshening: pickle/HP12_0178.pickle (deflated 69%)\r\n",
        "freshening: pickle/HP12_0345.pickle (deflated 70%)\r\n",
        "freshening: pickle/HP12_0562.pickle (deflated 70%)\r\n",
        "freshening: pickle/HP12_0090.pickle (deflated 70%)\r\n",
        "freshening: pickle/HP12_1393.pickle (deflated 70%)\r\n",
        "freshening: pickle/HP12_1046.pickle (deflated 70%)\r\n",
        "freshening: pickle/HP12_1661.pickle (deflated 70%)\r\n",
        "freshening: pickle/HP12_0411.pickle (deflated 70%)\r\n",
        "freshening: pickle/HP12_0236.pickle (deflated 69%)\r\n",
        "freshening: pickle/HP12_1712.pickle (deflated 70%)\r\n",
        "freshening: pickle/HP12_1135.pickle"
       ]
      },
      {
       "output_type": "stream",
       "stream": "stdout",
       "text": [
        " (deflated 69%)\r\n",
        "freshening: pickle/HP12_1308.pickle (deflated 69%)\r\n",
        "freshening: pickle/HP12_0784.pickle (deflated 70%)\r\n",
        "freshening: pickle/HP12_0276.pickle (deflated 70%)\r\n",
        "freshening: pickle/HP12_0451.pickle (deflated 69%)\r\n",
        "freshening: pickle/HP12_1175.pickle (deflated 69%)\r\n",
        "freshening: pickle/HP12_1487.pickle (deflated 72%)\r\n",
        "freshening: pickle/HP12_1348.pickle (deflated 69%)\r\n",
        "freshening: pickle/HP12_0138.pickle (deflated 69%)\r\n",
        "freshening: pickle/HP12_0884.pickle (deflated 68%)\r\n",
        "freshening: pickle/HP12_0522.pickle (deflated 69%)\r\n",
        "freshening: pickle/HP12_0305.pickle (deflated 69%)\r\n",
        "freshening: pickle/HP12_1621.pickle (deflated 72%)\r\n",
        "freshening: pickle/HP12_1006.pickle"
       ]
      },
      {
       "output_type": "stream",
       "stream": "stdout",
       "text": [
        " (deflated 70%)\r\n",
        "freshening: pickle/HP12_1220.pickle (deflated 69%)\r\n",
        "freshening: pickle/HP12_1407.pickle (deflated 72%)\r\n",
        "freshening: pickle/HP12_0123.pickle (deflated 69%)\r\n",
        "freshening: pickle/HP12_0704.pickle (deflated 70%)\r\n",
        "freshening: pickle/HP12_0539.pickle (deflated 70%)\r\n",
        "freshening: pickle/HP12_0977.pickle (deflated 70%)\r\n",
        "freshening: pickle/HP12_1086.pickle (deflated 69%)\r\n",
        "freshening: pickle/HP12_1574.pickle (deflated 70%)\r\n",
        "freshening: pickle/HP12_1353.pickle (deflated 69%)\r\n",
        "freshening: pickle/HP12_0677.pickle (deflated 70%)\r\n",
        "freshening: pickle/HP12_0050.pickle (deflated 70%)\r\n",
        "freshening: pickle/HP12_0385.pickle (deflated 70%)\r\n",
        "freshening: pickle/HP12_0804.pickle (deflated 69%)\r\n",
        "freshening: pickle/HP12_1709.pickle (deflated 70%)\r\n",
        "freshening: pickle/HP12_1313.pickle"
       ]
      },
      {
       "output_type": "stream",
       "stream": "stdout",
       "text": [
        " (deflated 69%)\r\n",
        "freshening: pickle/HP12_1534.pickle (deflated 69%)\r\n",
        "freshening: pickle/HP12_0010.pickle (deflated 69%)\r\n",
        "freshening: pickle/HP12_0637.pickle (deflated 70%)\r\n",
        "freshening: pickle/HP12_0844.pickle (deflated 69%)\r\n",
        "freshening: pickle/HP12_1388.pickle (deflated 69%)\r\n",
        "freshening: pickle/HP12_1447.pickle (deflated 70%)\r\n",
        "freshening: pickle/HP12_1260.pickle (deflated 69%)\r\n",
        "freshening: pickle/HP12_0491.pickle (deflated 70%)\r\n",
        "freshening: pickle/HP12_0744.pickle (deflated 70%)\r\n",
        "freshening: pickle/HP12_0163.pickle (deflated 70%)\r\n",
        "freshening: pickle/HP12_0579.pickle (deflated 69%)\r\n",
        "freshening: pickle/HP12_0937.pickle (deflated 69%)\r\n",
        "freshening: pickle/HP12_0135.pickle (deflated 69%)\r\n",
        "freshening: pickle/HP12_0712.pickle"
       ]
      },
      {
       "output_type": "stream",
       "stream": "stdout",
       "text": [
        " (deflated 69%)\r\n",
        "freshening: pickle/HP12_0889.pickle (deflated 69%)\r\n",
        "freshening: pickle/HP12_0308.pickle (deflated 70%)\r\n",
        "freshening: pickle/HP12_0961.pickle (deflated 69%)\r\n",
        "freshening: pickle/HP12_1236.pickle (deflated 72%)\r\n",
        "freshening: pickle/HP12_1411.pickle (deflated 70%)\r\n",
        "freshening: pickle/HP12_0661.pickle (deflated 70%)\r\n",
        "freshening: pickle/HP12_0046.pickle (deflated 70%)\r\n",
        "freshening: pickle/HP12_0393.pickle (deflated 69%)\r\n",
        "freshening: pickle/HP12_0789.pickle (deflated 70%)\r\n",
        "freshening: pickle/HP12_0812.pickle (deflated 69%)\r\n",
        "freshening: pickle/HP12_1178.pickle (deflated 70%)\r\n",
        "freshening: pickle/HP12_1090.pickle (deflated 70%)\r\n",
        "freshening: pickle/HP12_1562.pickle (deflated 70%)\r\n",
        "freshening: pickle/HP12_1345.pickle (deflated 69%)\r\n",
        "freshening: pickle/HP12_0006.pickle"
       ]
      },
      {
       "output_type": "stream",
       "stream": "stdout",
       "text": [
        " (deflated 69%)\r\n",
        "freshening: pickle/HP12_0621.pickle (deflated 69%)\r\n",
        "freshening: pickle/HP12_0852.pickle (deflated 70%)\r\n",
        "freshening: pickle/HP12_1138.pickle (deflated 70%)\r\n",
        "freshening: pickle/HP12_1305.pickle (deflated 69%)\r\n",
        "freshening: pickle/HP12_1522.pickle (deflated 70%)\r\n",
        "freshening: pickle/HP12_0487.pickle (deflated 72%)\r\n",
        "freshening: pickle/HP12_0752.pickle (deflated 69%)\r\n",
        "freshening: pickle/HP12_0175.pickle (deflated 69%)\r\n",
        "freshening: pickle/HP12_0348.pickle (deflated 69%)\r\n",
        "freshening: pickle/HP12_0921.pickle (deflated 69%)\r\n",
        "freshening: pickle/HP12_1451.pickle (deflated 70%)\r\n",
        "freshening: pickle/HP12_1276.pickle (deflated 69%)\r\n",
        "freshening: pickle/HP12_1385.pickle (deflated 69%)\r\n",
        "freshening: pickle/HP12_1050.pickle (deflated 69%)\r\n",
        "freshening: pickle/HP12_1677.pickle (deflated 72%)\r\n",
        "freshening: pickle/HP12_0749.pickle"
       ]
      },
      {
       "output_type": "stream",
       "stream": "stdout",
       "text": [
        " (deflated 70%)\r\n",
        "freshening: pickle/HP12_0353.pickle (deflated 69%)\r\n",
        "freshening: pickle/HP12_0574.pickle (deflated 69%)\r\n",
        "freshening: pickle/HP12_0086.pickle (deflated 69%)\r\n",
        "freshening: pickle/HP12_1704.pickle (deflated 69%)\r\n",
        "freshening: pickle/HP12_1123.pickle (deflated 70%)\r\n",
        "freshening: pickle/HP12_1539.pickle (deflated 70%)\r\n",
        "freshening: pickle/HP12_0407.pickle (deflated 69%)\r\n",
        "freshening: pickle/HP12_0220.pickle (deflated 69%)\r\n",
        "freshening: pickle/HP12_0849.pickle (deflated 69%)\r\n",
        "freshening: pickle/HP12_1163.pickle (deflated 70%)\r\n",
        "freshening: pickle/HP12_1491.pickle (deflated 70%)\r\n",
        "freshening: pickle/HP12_1579.pickle (deflated 72%)\r\n",
        "freshening: pickle/HP12_0388.pickle (deflated 69%)\r\n",
        "freshening: pickle/HP12_0792.pickle"
       ]
      },
      {
       "output_type": "stream",
       "stream": "stdout",
       "text": [
        " (deflated 69%)\r\n",
        "freshening: pickle/HP12_0260.pickle (deflated 70%)\r\n",
        "freshening: pickle/HP12_0447.pickle (deflated 70%)\r\n",
        "freshening: pickle/HP12_0809.pickle (deflated 69%)\r\n",
        "freshening: pickle/HP12_1637.pickle (deflated 69%)\r\n",
        "freshening: pickle/HP12_1010.pickle (deflated 69%)\r\n",
        "freshening: pickle/HP12_0709.pickle (deflated 70%)\r\n",
        "freshening: pickle/HP12_0892.pickle (deflated 70%)\r\n",
        "freshening: pickle/HP12_0534.pickle (deflated 70%)\r\n",
        "freshening: pickle/HP12_0313.pickle (deflated 69%)\r\n",
        "freshening: pickle/HP12_0654.pickle (deflated 70%)\r\n",
        "freshening: pickle/HP12_0073.pickle (deflated 69%)\r\n",
        "freshening: pickle/HP12_0581.pickle (deflated 69%)\r\n",
        "freshening: pickle/HP12_0827.pickle (deflated 69%)\r\n",
        "freshening: pickle/HP12_0469.pickle"
       ]
      },
      {
       "output_type": "stream",
       "stream": "stdout",
       "text": [
        " (deflated 69%)\r\n",
        "freshening: pickle/HP12_1298.pickle (deflated 69%)\r\n",
        "freshening: pickle/HP12_1682.pickle (deflated 69%)\r\n",
        "freshening: pickle/HP12_1557.pickle (deflated 69%)\r\n",
        "freshening: pickle/HP12_1370.pickle (deflated 70%)\r\n",
        "freshening: pickle/HP12_0100.pickle (deflated 69%)\r\n",
        "freshening: pickle/HP12_0727.pickle (deflated 69%)\r\n",
        "freshening: pickle/HP12_0954.pickle (deflated 69%)\r\n",
        "freshening: pickle/HP12_1619.pickle (deflated 70%)\r\n",
        "freshening: pickle/HP12_1203.pickle (deflated 69%)\r\n",
        "freshening: pickle/HP12_1424.pickle (deflated 70%)\r\n",
        "freshening: pickle/HP12_0295.pickle (deflated 69%)\r\n",
        "freshening: pickle/HP12_0767.pickle (deflated 70%)\r\n",
        "freshening: pickle/HP12_0140.pickle (deflated 69%)\r\n",
        "freshening: pickle/HP12_0914.pickle (deflated 70%)\r\n",
        "freshening: pickle/HP12_1659.pickle (deflated 69%)\r\n",
        "freshening: pickle/HP12_1464.pickle"
       ]
      },
      {
       "output_type": "stream",
       "stream": "stdout",
       "text": [
        " (deflated 70%)\r\n",
        "freshening: pickle/HP12_1243.pickle (deflated 69%)\r\n",
        "freshening: pickle/HP12_1196.pickle (deflated 70%)\r\n",
        "freshening: pickle/HP12_0033.pickle (deflated 69%)\r\n",
        "freshening: pickle/HP12_0614.pickle (deflated 70%)\r\n",
        "freshening: pickle/HP12_0867.pickle (deflated 69%)\r\n",
        "freshening: pickle/HP12_0429.pickle (deflated 69%)\r\n",
        "freshening: pickle/HP12_1330.pickle (deflated 70%)\r\n",
        "freshening: pickle/HP12_1517.pickle (deflated 70%)\r\n",
        "freshening: pickle/HP12_1116.pickle (deflated 69%)\r\n",
        "freshening: pickle/HP12_0994.pickle (deflated 69%)\r\n",
        "freshening: pickle/HP12_0028.pickle (deflated 69%)\r\n",
        "freshening: pickle/HP12_0432.pickle (deflated 69%)\r\n",
        "freshening: pickle/HP12_0215.pickle (deflated 69%)\r\n",
        "freshening: pickle/HP12_1597.pickle"
       ]
      },
      {
       "output_type": "stream",
       "stream": "stdout",
       "text": [
        " (deflated 69%)\r\n",
        "freshening: pickle/HP12_1065.pickle (deflated 69%)\r\n",
        "freshening: pickle/HP12_1642.pickle (deflated 69%)\r\n",
        "freshening: pickle/HP12_1258.pickle (deflated 69%)\r\n",
        "freshening: pickle/HP12_0366.pickle (deflated 70%)\r\n",
        "freshening: pickle/HP12_0541.pickle (deflated 70%)\r\n",
        "freshening: pickle/HP12_0694.pickle (deflated 69%)\r\n",
        "freshening: pickle/HP12_1602.pickle (deflated 70%)\r\n",
        "freshening: pickle/HP12_1025.pickle (deflated 70%)\r\n",
        "freshening: pickle/HP12_1218.pickle (deflated 70%)\r\n",
        "freshening: pickle/HP12_0501.pickle (deflated 69%)\r\n",
        "freshening: pickle/HP12_0326.pickle (deflated 69%)\r\n",
        "freshening: pickle/HP12_1156.pickle (deflated 70%)\r\n",
        "freshening: pickle/HP12_1283.pickle (deflated 69%)\r\n",
        "freshening: pickle/HP12_1699.pickle (deflated 69%)\r\n",
        "freshening: pickle/HP12_0068.pickle"
       ]
      },
      {
       "output_type": "stream",
       "stream": "stdout",
       "text": [
        " (deflated 69%)\r\n",
        "freshening: pickle/HP12_0180.pickle (deflated 69%)\r\n",
        "freshening: pickle/HP12_0255.pickle (deflated 69%)\r\n",
        "freshening: pickle/HP12_0472.pickle (deflated 70%)\r\n",
        "freshening: pickle/HP12_0982.pickle (deflated 69%)\r\n",
        "freshening: pickle/HP12_0619.pickle (deflated 69%)\r\n",
        "freshening: pickle/HP12_0424.pickle (deflated 69%)\r\n",
        "freshening: pickle/HP12_0203.pickle (deflated 70%)\r\n",
        "freshening: pickle/HP12_1727.pickle (deflated 72%)\r\n",
        "freshening: pickle/HP12_1100.pickle (deflated 69%)\r\n",
        "freshening: pickle/HP12_0298.pickle (deflated 70%)\r\n",
        "freshening: pickle/HP12_0919.pickle (deflated 70%)\r\n",
        "freshening: pickle/HP12_0370.pickle (deflated 68%)\r\n",
        "freshening: pickle/HP12_0557.pickle (deflated 70%)\r\n",
        "freshening: pickle/HP12_0682.pickle (deflated 70%)\r\n",
        "freshening: pickle/HP12_1581.pickle (deflated 69%)\r\n",
        "freshening: pickle/HP12_1073.pickle (deflated 71%)\r\n",
        "freshening: pickle/HP12_1654.pickle"
       ]
      },
      {
       "output_type": "stream",
       "stream": "stdout",
       "text": [
        " (deflated 69%)\r\n",
        "freshening: pickle/HP12_1469.pickle (deflated 69%)\r\n",
        "freshening: pickle/HP12_0959.pickle (deflated 69%)\r\n",
        "freshening: pickle/HP12_0517.pickle (deflated 69%)\r\n",
        "freshening: pickle/HP12_0330.pickle (deflated 69%)\r\n",
        "freshening: pickle/HP12_1614.pickle (deflated 69%)\r\n",
        "freshening: pickle/HP12_1033.pickle (deflated 69%)\r\n",
        "freshening: pickle/HP12_1429.pickle (deflated 69%)\r\n",
        "freshening: pickle/HP12_0659.pickle (deflated 69%)\r\n",
        "freshening: pickle/HP12_0196.pickle (deflated 69%)\r\n",
        "freshening: pickle/HP12_0243.pickle (deflated 69%)\r\n",
        "freshening: pickle/HP12_0464.pickle (deflated 70%)\r\n",
        "freshening: pickle/HP12_1140.pickle (deflated 70%)\r\n",
        "freshening: pickle/HP12_1295.pickle (deflated 70%)\r\n",
        "freshening: pickle/HP12_1694.pickle (deflated 70%)\r\n",
        "freshening: pickle/HP12_1541.pickle"
       ]
      },
      {
       "output_type": "stream",
       "stream": "stdout",
       "text": [
        " (deflated 69%)\r\n",
        "freshening: pickle/HP12_1366.pickle (deflated 69%)\r\n",
        "freshening: pickle/HP12_0642.pickle (deflated 70%)\r\n",
        "freshening: pickle/HP12_0065.pickle (deflated 69%)\r\n",
        "freshening: pickle/HP12_0597.pickle (deflated 70%)\r\n",
        "freshening: pickle/HP12_0831.pickle (deflated 69%)\r\n",
        "freshening: pickle/HP12_0258.pickle (deflated 70%)\r\n",
        "freshening: pickle/HP12_1028.pickle (deflated 69%)\r\n",
        "freshening: pickle/HP12_1215.pickle (deflated 70%)\r\n",
        "freshening: pickle/HP12_1432.pickle (deflated 69%)\r\n",
        "freshening: pickle/HP12_0116.pickle (deflated 69%)\r\n",
        "freshening: pickle/HP12_0731.pickle (deflated 70%)\r\n",
        "freshening: pickle/HP12_0942.pickle (deflated 69%)\r\n",
        "freshening: pickle/HP12_1068.pickle (deflated 70%)\r\n",
        "freshening: pickle/HP12_1472.pickle (deflated 70%)\r\n",
        "freshening: pickle/HP12_1255.pickle"
       ]
      },
      {
       "output_type": "stream",
       "stream": "stdout",
       "text": [
        " (deflated 70%)\r\n",
        "freshening: pickle/HP12_1180.pickle (deflated 69%)\r\n",
        "freshening: pickle/HP12_0283.pickle (deflated 69%)\r\n",
        "freshening: pickle/HP12_0771.pickle (deflated 69%)\r\n",
        "freshening: pickle/HP12_0156.pickle (deflated 69%)\r\n",
        "freshening: pickle/HP12_0902.pickle (deflated 72%)\r\n",
        "freshening: pickle/HP12_0699.pickle (deflated 70%)\r\n",
        "freshening: pickle/HP12_1326.pickle (deflated 69%)\r\n",
        "freshening: pickle/HP12_1501.pickle (deflated 69%)\r\n",
        "freshening: pickle/HP12_0999.pickle (deflated 70%)\r\n",
        "freshening: pickle/HP12_0025.pickle (deflated 70%)\r\n",
        "freshening: pickle/HP12_0602.pickle (deflated 69%)\r\n",
        "freshening: pickle/HP12_0871.pickle (deflated 69%)\r\n",
        "freshening: pickle/HP12_0218.pickle (deflated 72%)\r\n",
        "freshening: pickle/HP12_0493.pickle (deflated 70%)\r\n",
        "freshening: pickle/HP12_0161.pickle"
       ]
      },
      {
       "output_type": "stream",
       "stream": "stdout",
       "text": [
        " (deflated 69%)\r\n",
        "freshening: pickle/HP12_0746.pickle (deflated 70%)\r\n",
        "freshening: pickle/HP12_0935.pickle (deflated 69%)\r\n",
        "freshening: pickle/HP12_0089.pickle (deflated 69%)\r\n",
        "freshening: pickle/HP12_1678.pickle (deflated 69%)\r\n",
        "freshening: pickle/HP12_1262.pickle (deflated 69%)\r\n",
        "freshening: pickle/HP12_1445.pickle (deflated 70%)\r\n",
        "freshening: pickle/HP12_0635.pickle (deflated 72%)\r\n",
        "freshening: pickle/HP12_0012.pickle (deflated 69%)\r\n",
        "freshening: pickle/HP12_0408.pickle (deflated 70%)\r\n",
        "freshening: pickle/HP12_0846.pickle (deflated 68%)\r\n",
        "freshening: pickle/HP12_1536.pickle (deflated 70%)\r\n",
        "freshening: pickle/HP12_1311.pickle (deflated 69%)\r\n",
        "freshening: pickle/HP12_0052.pickle (deflated 69%)\r\n",
        "freshening: pickle/HP12_0675.pickle (deflated 72%)\r\n",
        "freshening: pickle/HP12_0387.pickle (deflated 69%)\r\n",
        "freshening: pickle/HP12_0448.pickle (deflated 70%)\r\n",
        "freshening: pickle/HP12_0806.pickle"
       ]
      },
      {
       "output_type": "stream",
       "stream": "stdout",
       "text": [
        " (deflated 69%)\r\n",
        "freshening: pickle/HP12_1084.pickle (deflated 69%)\r\n",
        "freshening: pickle/HP12_1351.pickle (deflated 69%)\r\n",
        "freshening: pickle/HP12_1576.pickle (deflated 69%)\r\n",
        "freshening: pickle/HP12_0706.pickle (deflated 70%)\r\n",
        "freshening: pickle/HP12_0121.pickle (deflated 69%)\r\n",
        "freshening: pickle/HP12_0975.pickle (deflated 69%)\r\n",
        "freshening: pickle/HP12_1638.pickle (deflated 69%)\r\n",
        "freshening: pickle/HP12_1405.pickle (deflated 70%)\r\n",
        "freshening: pickle/HP12_1222.pickle (deflated 69%)\r\n",
        "freshening: pickle/HP12_1004.pickle (deflated 70%)\r\n",
        "freshening: pickle/HP12_1623.pickle (deflated 69%)\r\n",
        "freshening: pickle/HP12_1239.pickle (deflated 70%)\r\n",
        "freshening: pickle/HP12_0886.pickle (deflated 69%)\r\n",
        "freshening: pickle/HP12_0307.pickle"
       ]
      },
      {
       "output_type": "stream",
       "stream": "stdout",
       "text": [
        " (deflated 69%)\r\n",
        "freshening: pickle/HP12_0520.pickle (deflated 70%)\r\n",
        "freshening: pickle/HP12_1177.pickle (deflated 70%)\r\n",
        "freshening: pickle/HP12_1485.pickle (deflated 69%)\r\n",
        "freshening: pickle/HP12_0049.pickle (deflated 69%)\r\n",
        "freshening: pickle/HP12_0786.pickle (deflated 70%)\r\n",
        "freshening: pickle/HP12_0453.pickle (deflated 69%)\r\n",
        "freshening: pickle/HP12_0274.pickle (deflated 69%)\r\n",
        "freshening: pickle/HP12_1137.pickle (deflated 70%)\r\n",
        "freshening: pickle/HP12_1710.pickle (deflated 69%)\r\n",
        "freshening: pickle/HP12_0009.pickle (deflated 69%)\r\n",
        "freshening: pickle/HP12_0234.pickle (deflated 70%)\r\n",
        "freshening: pickle/HP12_0413.pickle (deflated 69%)\r\n",
        "freshening: pickle/HP12_1391.pickle (deflated 70%)\r\n",
        "freshening: pickle/HP12_1663.pickle (deflated 70%)\r\n",
        "freshening: pickle/HP12_1044.pickle"
       ]
      },
      {
       "output_type": "stream",
       "stream": "stdout",
       "text": [
        " (deflated 69%)\r\n",
        "freshening: pickle/HP12_1279.pickle (deflated 69%)\r\n",
        "freshening: pickle/HP12_0488.pickle (deflated 70%)\r\n",
        "freshening: pickle/HP12_0560.pickle (deflated 70%)\r\n",
        "freshening: pickle/HP12_0347.pickle (deflated 70%)\r\n",
        "freshening: pickle/HP12_0092.pickle (deflated 69%)\r\n",
        "freshening: pickle/HP12_0890.pickle (deflated 70%)\r\n",
        "freshening: pickle/HP12_0311.pickle (deflated 69%)\r\n",
        "freshening: pickle/HP12_0536.pickle (deflated 69%)\r\n",
        "freshening: pickle/HP12_0978.pickle (deflated 69%)\r\n",
        "freshening: pickle/HP12_1012.pickle (deflated 69%)\r\n",
        "freshening: pickle/HP12_1635.pickle (deflated 70%)\r\n",
        "freshening: pickle/HP12_1408.pickle (deflated 69%)\r\n",
        "freshening: pickle/HP12_0678.pickle (deflated 69%)\r\n",
        "freshening: pickle/HP12_0790.pickle (deflated 70%)\r\n",
        "freshening: pickle/HP12_0445.pickle"
       ]
      },
      {
       "output_type": "stream",
       "stream": "stdout",
       "text": [
        " (deflated 69%)\r\n",
        "freshening: pickle/HP12_0262.pickle (deflated 69%)\r\n",
        "freshening: pickle/HP12_1161.pickle (deflated 70%)\r\n",
        "freshening: pickle/HP12_1493.pickle (deflated 69%)\r\n",
        "freshening: pickle/HP12_1089.pickle (deflated 70%)\r\n",
        "freshening: pickle/HP12_0638.pickle (deflated 70%)\r\n",
        "freshening: pickle/HP12_0222.pickle (deflated 69%)\r\n",
        "freshening: pickle/HP12_0405.pickle (deflated 70%)\r\n",
        "freshening: pickle/HP12_1121.pickle (deflated 70%)\r\n",
        "freshening: pickle/HP12_1706.pickle (deflated 69%)\r\n",
        "freshening: pickle/HP12_0576.pickle (deflated 69%)\r\n",
        "freshening: pickle/HP12_0351.pickle (deflated 69%)\r\n",
        "freshening: pickle/HP12_0938.pickle (deflated 70%)\r\n",
        "freshening: pickle/HP12_0084.pickle (deflated 70%)\r\n",
        "freshening: pickle/HP12_1387.pickle"
       ]
      },
      {
       "output_type": "stream",
       "stream": "stdout",
       "text": [
        " (deflated 70%)\r\n",
        "freshening: pickle/HP12_1675.pickle (deflated 70%)\r\n",
        "freshening: pickle/HP12_1052.pickle (deflated 69%)\r\n",
        "freshening: pickle/HP12_1448.pickle (deflated 70%)\r\n",
        "freshening: pickle/HP12_1049.pickle (deflated 69%)\r\n",
        "freshening: pickle/HP12_1274.pickle (deflated 69%)\r\n",
        "freshening: pickle/HP12_1453.pickle (deflated 69%)\r\n",
        "freshening: pickle/HP12_0485.pickle (deflated 69%)\r\n",
        "freshening: pickle/HP12_0177.pickle (deflated 70%)\r\n",
        "freshening: pickle/HP12_0750.pickle (deflated 70%)\r\n",
        "freshening: pickle/HP12_0923.pickle (deflated 68%)\r\n",
        "freshening: pickle/HP12_1520.pickle (deflated 69%)\r\n",
        "freshening: pickle/HP12_1307.pickle (deflated 69%)\r\n",
        "freshening: pickle/HP12_0623.pickle (deflated 70%)\r\n",
        "freshening: pickle/HP12_0004.pickle (deflated 69%)\r\n",
        "freshening: pickle/HP12_0239.pickle"
       ]
      },
      {
       "output_type": "stream",
       "stream": "stdout",
       "text": [
        " (deflated 69%)\r\n",
        "freshening: pickle/HP12_0850.pickle (deflated 68%)\r\n",
        "freshening: pickle/HP12_1488.pickle (deflated 70%)\r\n",
        "freshening: pickle/HP12_1092.pickle (deflated 70%)\r\n",
        "freshening: pickle/HP12_1347.pickle (deflated 70%)\r\n",
        "freshening: pickle/HP12_1560.pickle (deflated 69%)\r\n",
        "freshening: pickle/HP12_0044.pickle (deflated 69%)\r\n",
        "freshening: pickle/HP12_0663.pickle (deflated 70%)\r\n",
        "freshening: pickle/HP12_0391.pickle (deflated 69%)\r\n",
        "freshening: pickle/HP12_0279.pickle (deflated 69%)\r\n",
        "freshening: pickle/HP12_0810.pickle (deflated 69%)\r\n",
        "freshening: pickle/HP12_1009.pickle (deflated 69%)\r\n",
        "freshening: pickle/HP12_1413.pickle"
       ]
      },
      {
       "output_type": "stream",
       "stream": "stdout",
       "text": [
        " (deflated 70%)\r\n",
        "freshening: pickle/HP12_1234.pickle (deflated 70%)\r\n",
        "freshening: pickle/HP12_0710.pickle (deflated 69%)\r\n",
        "freshening: pickle/HP12_0137.pickle (deflated 69%)\r\n",
        "freshening: pickle/HP12_0963.pickle (deflated 72%)\r\n",
        "freshening: pickle/HP12_1106.pickle (deflated 69%)\r\n",
        "freshening: pickle/HP12_1721.pickle (deflated 70%)\r\n",
        "freshening: pickle/HP12_0038.pickle (deflated 69%)\r\n",
        "freshening: pickle/HP12_0984.pickle (deflated 69%)\r\n",
        "freshening: pickle/HP12_0205.pickle (deflated 70%)\r\n",
        "freshening: pickle/HP12_0422.pickle (deflated 70%)\r\n",
        "freshening: pickle/HP12_1652.pickle (deflated 69%)\r\n",
        "freshening: pickle/HP12_1075.pickle (deflated 69%)\r\n",
        "freshening: pickle/HP12_1587.pickle (deflated 70%)\r\n",
        "freshening: pickle/HP12_1248.pickle (deflated 72%)\r\n",
        "freshening: pickle/HP12_0684.pickle"
       ]
      },
      {
       "output_type": "stream",
       "stream": "stdout",
       "text": [
        " (deflated 69%)\r\n",
        "freshening: pickle/HP12_0551.pickle (deflated 69%)\r\n",
        "freshening: pickle/HP12_0376.pickle (deflated 69%)\r\n",
        "freshening: pickle/HP12_1035.pickle (deflated 70%)\r\n",
        "freshening: pickle/HP12_1612.pickle (deflated 69%)\r\n",
        "freshening: pickle/HP12_1208.pickle (deflated 69%)\r\n",
        "freshening: pickle/HP12_0336.pickle (deflated 69%)\r\n",
        "freshening: pickle/HP12_0511.pickle (deflated 70%)\r\n",
        "freshening: pickle/HP12_1293.pickle (deflated 70%)\r\n",
        "freshening: pickle/HP12_1146.pickle (deflated 69%)\r\n",
        "freshening: pickle/HP12_1689.pickle (deflated 70%)\r\n",
        "freshening: pickle/HP12_0078.pickle (deflated 69%)\r\n",
        "freshening: pickle/HP12_0462.pickle (deflated 70%)\r\n",
        "freshening: pickle/HP12_0245.pickle (deflated 70%)\r\n",
        "freshening: pickle/HP12_0190.pickle"
       ]
      },
      {
       "output_type": "stream",
       "stream": "stdout",
       "text": [
        " (deflated 69%)\r\n",
        "freshening: pickle/HP12_0591.pickle (deflated 69%)\r\n",
        "freshening: pickle/HP12_0063.pickle (deflated 69%)\r\n",
        "freshening: pickle/HP12_0644.pickle (deflated 69%)\r\n",
        "freshening: pickle/HP12_0837.pickle (deflated 70%)\r\n",
        "freshening: pickle/HP12_0479.pickle (deflated 70%)\r\n",
        "freshening: pickle/HP12_1288.pickle (deflated 70%)\r\n",
        "freshening: pickle/HP12_1360.pickle (deflated 69%)\r\n",
        "freshening: pickle/HP12_1547.pickle (deflated 70%)\r\n",
        "freshening: pickle/HP12_1692.pickle (deflated 72%)\r\n",
        "freshening: pickle/HP12_0737.pickle (deflated 69%)\r\n",
        "freshening: pickle/HP12_0110.pickle (deflated 69%)\r\n",
        "freshening: pickle/HP12_0944.pickle (deflated 72%)\r\n",
        "freshening: pickle/HP12_1609.pickle (deflated 69%)\r\n",
        "freshening: pickle/HP12_1434.pickle (deflated 70%)\r\n",
        "freshening: pickle/HP12_1213.pickle (deflated 69%)\r\n",
        "freshening: pickle/HP12_0150.pickle"
       ]
      },
      {
       "output_type": "stream",
       "stream": "stdout",
       "text": [
        " (deflated 69%)\r\n",
        "freshening: pickle/HP12_0777.pickle (deflated 70%)\r\n",
        "freshening: pickle/HP12_0285.pickle (deflated 69%)\r\n",
        "freshening: pickle/HP12_0904.pickle (deflated 69%)\r\n",
        "freshening: pickle/HP12_1649.pickle (deflated 70%)\r\n",
        "freshening: pickle/HP12_1186.pickle (deflated 71%)\r\n",
        "freshening: pickle/HP12_1253.pickle (deflated 70%)\r\n",
        "freshening: pickle/HP12_1474.pickle (deflated 70%)\r\n",
        "freshening: pickle/HP12_0604.pickle (deflated 70%)\r\n",
        "freshening: pickle/HP12_0023.pickle (deflated 69%)\r\n",
        "freshening: pickle/HP12_0877.pickle (deflated 68%)\r\n",
        "freshening: pickle/HP12_0439.pickle (deflated 69%)\r\n",
        "freshening: pickle/HP12_1507.pickle (deflated 69%)\r\n",
        "freshening: pickle/HP12_1320.pickle (deflated 70%)\r\n",
        "freshening: pickle/HP12_1376.pickle (deflated 70%)\r\n",
        "freshening: pickle/HP12_1551.pickle (deflated 72%)\r\n",
        "freshening: pickle/HP12_1684.pickle"
       ]
      },
      {
       "output_type": "stream",
       "stream": "stdout",
       "text": [
        " (deflated 70%)\r\n",
        "freshening: pickle/HP12_0587.pickle (deflated 69%)\r\n",
        "freshening: pickle/HP12_0075.pickle (deflated 70%)\r\n",
        "freshening: pickle/HP12_0652.pickle (deflated 69%)\r\n",
        "freshening: pickle/HP12_0821.pickle (deflated 70%)\r\n",
        "freshening: pickle/HP12_0248.pickle (deflated 69%)\r\n",
        "freshening: pickle/HP12_1038.pickle (deflated 70%)\r\n",
        "freshening: pickle/HP12_1422.pickle (deflated 70%)\r\n",
        "freshening: pickle/HP12_1205.pickle (deflated 70%)\r\n",
        "freshening: pickle/HP12_0721.pickle (deflated 71%)\r\n",
        "freshening: pickle/HP12_0106.pickle (deflated 69%)\r\n",
        "freshening: pickle/HP12_0952.pickle (deflated 69%)\r\n",
        "freshening: pickle/HP12_1078.pickle (deflated 70%)\r\n",
        "freshening: pickle/HP12_1190.pickle (deflated 69%)\r\n",
        "freshening: pickle/HP12_1245.pickle (deflated 70%)\r\n",
        "freshening: pickle/HP12_1462.pickle (deflated 69%)\r\n",
        "freshening: pickle/HP12_0146.pickle"
       ]
      },
      {
       "output_type": "stream",
       "stream": "stdout",
       "text": [
        " (deflated 70%)\r\n",
        "freshening: pickle/HP12_0761.pickle (deflated 69%)\r\n",
        "freshening: pickle/HP12_0293.pickle (deflated 70%)\r\n",
        "freshening: pickle/HP12_0689.pickle (deflated 69%)\r\n",
        "freshening: pickle/HP12_0912.pickle (deflated 68%)\r\n",
        "freshening: pickle/HP12_1511.pickle (deflated 72%)\r\n",
        "freshening: pickle/HP12_1336.pickle (deflated 70%)\r\n",
        "freshening: pickle/HP12_0612.pickle (deflated 72%)\r\n",
        "freshening: pickle/HP12_0035.pickle (deflated 69%)\r\n",
        "freshening: pickle/HP12_0989.pickle (deflated 72%)\r\n",
        "freshening: pickle/HP12_0861.pickle (deflated 70%)\r\n",
        "freshening: pickle/HP12_0208.pickle (deflated 69%)\r\n",
        "freshening: pickle/HP12_0609.pickle (deflated 69%)\r\n",
        "freshening: pickle/HP12_0992.pickle (deflated 70%)\r\n",
        "freshening: pickle/HP12_0213.pickle (deflated 69%)\r\n",
        "freshening: pickle/HP12_0434.pickle (deflated 69%)\r\n",
        "freshening: pickle/HP12_1110.pickle"
       ]
      },
      {
       "output_type": "stream",
       "stream": "stdout",
       "text": [
        " (deflated 69%)\r\n",
        "freshening: pickle/HP12_0288.pickle (deflated 69%)\r\n",
        "freshening: pickle/HP12_0692.pickle (deflated 70%)\r\n",
        "freshening: pickle/HP12_0909.pickle (deflated 69%)\r\n",
        "freshening: pickle/HP12_0547.pickle (deflated 69%)\r\n",
        "freshening: pickle/HP12_0360.pickle (deflated 70%)\r\n",
        "freshening: pickle/HP12_1644.pickle (deflated 69%)\r\n",
        "freshening: pickle/HP12_1063.pickle (deflated 70%)\r\n",
        "freshening: pickle/HP12_1591.pickle (deflated 69%)\r\n",
        "freshening: pickle/HP12_1479.pickle (deflated 70%)\r\n",
        "freshening: pickle/HP12_0949.pickle (deflated 70%)\r\n",
        "freshening: pickle/HP12_0320.pickle (deflated 69%)\r\n",
        "freshening: pickle/HP12_0507.pickle (deflated 72%)\r\n",
        "freshening: pickle/HP12_1023.pickle (deflated 70%)\r\n",
        "freshening: pickle/HP12_1604.pickle (deflated 70%)\r\n",
        "freshening: pickle/HP12_1439.pickle (deflated 70%)\r\n",
        "freshening: pickle/HP12_0649.pickle (deflated 69%)\r\n",
        "freshening: pickle/HP12_0474.pickle"
       ]
      },
      {
       "output_type": "stream",
       "stream": "stdout",
       "text": [
        " (deflated 69%)\r\n",
        "freshening: pickle/HP12_0253.pickle (deflated 69%)\r\n",
        "freshening: pickle/HP12_0186.pickle (deflated 69%)\r\n",
        "freshening: pickle/HP12_1285.pickle (deflated 69%)\r\n",
        "freshening: pickle/HP12_1150.pickle (deflated 69%)\r\n",
        "freshening: pickle/HP12_1633.pickle (deflated 70%)\r\n",
        "freshening: pickle/HP12_1014.pickle (deflated 70%)\r\n",
        "freshening: pickle/HP12_1229.pickle (deflated 70%)\r\n",
        "freshening: pickle/HP12_0896.pickle (deflated 69%)\r\n",
        "freshening: pickle/HP12_0530.pickle (deflated 69%)\r\n",
        "freshening: pickle/HP12_0317.pickle (deflated 72%)\r\n",
        "freshening: pickle/HP12_1495.pickle (deflated 70%)\r\n",
        "freshening: pickle/HP12_1167.pickle (deflated 70%)\r\n",
        "freshening: pickle/HP12_0059.pickle (deflated 69%)\r\n",
        "freshening: pickle/HP12_0264.pickle (deflated 70%)\r\n",
        "freshening: pickle/HP12_0443.pickle (deflated 70%)\r\n",
        "freshening: pickle/HP12_0796.pickle"
       ]
      },
      {
       "output_type": "stream",
       "stream": "stdout",
       "text": [
        " (deflated 70%)\r\n",
        "freshening: pickle/HP12_1700.pickle (deflated 70%)\r\n",
        "freshening: pickle/HP12_1127.pickle (deflated 69%)\r\n",
        "freshening: pickle/HP12_0019.pickle (deflated 70%)\r\n",
        "freshening: pickle/HP12_0403.pickle (deflated 70%)\r\n",
        "freshening: pickle/HP12_0224.pickle (deflated 69%)\r\n",
        "freshening: pickle/HP12_1054.pickle (deflated 69%)\r\n",
        "freshening: pickle/HP12_1673.pickle (deflated 70%)\r\n",
        "freshening: pickle/HP12_1381.pickle (deflated 70%)\r\n",
        "freshening: pickle/HP12_1269.pickle (deflated 70%)\r\n",
        "freshening: pickle/HP12_0498.pickle (deflated 70%)\r\n",
        "freshening: pickle/HP12_0082.pickle (deflated 69%)\r\n",
        "freshening: pickle/HP12_0357.pickle (deflated 69%)\r\n",
        "freshening: pickle/HP12_0570.pickle (deflated 69%)\r\n",
        "freshening: pickle/HP12_0756.pickle (deflated 70%)\r\n",
        "freshening: pickle/HP12_0171.pickle"
       ]
      },
      {
       "output_type": "stream",
       "stream": "stdout",
       "text": [
        " (deflated 69%)\r\n",
        "freshening: pickle/HP12_0483.pickle (deflated 70%)\r\n",
        "freshening: pickle/HP12_0099.pickle (deflated 70%)\r\n",
        "freshening: pickle/HP12_0925.pickle (deflated 70%)\r\n",
        "freshening: pickle/HP12_1668.pickle (deflated 70%)\r\n",
        "freshening: pickle/HP12_1455.pickle (deflated 70%)\r\n",
        "freshening: pickle/HP12_1272.pickle (deflated 69%)\r\n",
        "freshening: pickle/HP12_0002.pickle (deflated 69%)\r\n",
        "freshening: pickle/HP12_0625.pickle (deflated 69%)\r\n",
        "freshening: pickle/HP12_0418.pickle (deflated 69%)\r\n",
        "freshening: pickle/HP12_0856.pickle (deflated 69%)\r\n",
        "freshening: pickle/HP12_1301.pickle (deflated 69%)\r\n",
        "freshening: pickle/HP12_1526.pickle (deflated 70%)\r\n",
        "freshening: pickle/HP12_0397.pickle (deflated 70%)\r\n",
        "freshening: pickle/HP12_0665.pickle (deflated 69%)\r\n",
        "freshening: pickle/HP12_0042.pickle (deflated 69%)\r\n",
        "freshening: pickle/HP12_0458.pickle"
       ]
      },
      {
       "output_type": "stream",
       "stream": "stdout",
       "text": [
        " (deflated 69%)\r\n",
        "freshening: pickle/HP12_0816.pickle (deflated 69%)\r\n",
        "freshening: pickle/HP12_1566.pickle (deflated 70%)\r\n",
        "freshening: pickle/HP12_1341.pickle (deflated 70%)\r\n",
        "freshening: pickle/HP12_1094.pickle (deflated 69%)\r\n",
        "freshening: pickle/HP12_0131.pickle (deflated 70%)\r\n",
        "freshening: pickle/HP12_0716.pickle (deflated 69%)\r\n",
        "freshening: pickle/HP12_0965.pickle (deflated 70%)\r\n",
        "freshening: pickle/HP12_1628.pickle (deflated 69%)\r\n",
        "freshening: pickle/HP12_1232.pickle (deflated 70%)\r\n",
        "freshening: pickle/HP12_1415.pickle (deflated 69%)\r\n",
        "freshening: pickle/HP12_1059.pickle (deflated 70%)\r\n",
        "freshening: pickle/HP12_1443.pickle (deflated 70%)\r\n",
        "freshening: pickle/HP12_1264.pickle (deflated 70%)\r\n",
        "freshening: pickle/HP12_0740.pickle (deflated 70%)\r\n",
        "freshening: pickle/HP12_0167.pickle"
       ]
      },
      {
       "output_type": "stream",
       "stream": "stdout",
       "text": [
        " (deflated 70%)\r\n",
        "freshening: pickle/HP12_0495.pickle (deflated 70%)\r\n",
        "freshening: pickle/HP12_0933.pickle (deflated 70%)\r\n",
        "freshening: pickle/HP12_1317.pickle (deflated 70%)\r\n",
        "freshening: pickle/HP12_1530.pickle (deflated 70%)\r\n",
        "freshening: pickle/HP12_0014.pickle (deflated 70%)\r\n",
        "freshening: pickle/HP12_0633.pickle (deflated 69%)\r\n",
        "freshening: pickle/HP12_0229.pickle (deflated 69%)\r\n",
        "freshening: pickle/HP12_0840.pickle (deflated 68%)\r\n",
        "freshening: pickle/HP12_1498.pickle (deflated 69%)\r\n",
        "freshening: pickle/HP12_1570.pickle (deflated 69%)\r\n",
        "freshening: pickle/HP12_1357.pickle"
       ]
      },
      {
       "output_type": "stream",
       "stream": "stdout",
       "text": [
        " (deflated 68%)\r\n",
        "freshening: pickle/HP12_1082.pickle (deflated 69%)\r\n",
        "freshening: pickle/HP12_0381.pickle (deflated 69%)\r\n",
        "freshening: pickle/HP12_0673.pickle (deflated 69%)\r\n",
        "freshening: pickle/HP12_0054.pickle (deflated 69%)\r\n",
        "freshening: pickle/HP12_0269.pickle (deflated 70%)\r\n",
        "freshening: pickle/HP12_0800.pickle (deflated 72%)\r\n",
        "freshening: pickle/HP12_1019.pickle (deflated 69%)\r\n",
        "freshening: pickle/HP12_1224.pickle (deflated 70%)\r\n",
        "freshening: pickle/HP12_1403.pickle (deflated 70%)\r\n",
        "freshening: pickle/HP12_0127.pickle (deflated 69%)\r\n",
        "freshening: pickle/HP12_0700.pickle (deflated 70%)\r\n",
        "freshening: pickle/HP12_0973.pickle (deflated 69%)\r\n",
        "freshening: pickle/HP12_0880.pickle (deflated 69%)\r\n",
        "freshening: pickle/HP12_0526.pickle"
       ]
      },
      {
       "output_type": "stream",
       "stream": "stdout",
       "text": [
        " (deflated 69%)\r\n",
        "freshening: pickle/HP12_0301.pickle (deflated 69%)\r\n",
        "freshening: pickle/HP12_0968.pickle (deflated 70%)\r\n",
        "freshening: pickle/HP12_1625.pickle (deflated 69%)\r\n",
        "freshening: pickle/HP12_1002.pickle (deflated 69%)\r\n",
        "freshening: pickle/HP12_1418.pickle (deflated 72%)\r\n",
        "freshening: pickle/HP12_0668.pickle (deflated 69%)\r\n",
        "freshening: pickle/HP12_0272.pickle (deflated 68%)\r\n",
        "freshening: pickle/HP12_0455.pickle (deflated 70%)\r\n",
        "freshening: pickle/HP12_0780.pickle (deflated 70%)\r\n",
        "freshening: pickle/HP12_1483.pickle (deflated 69%)\r\n",
        "freshening: pickle/HP12_1171.pickle (deflated 69%)\r\n",
        "freshening: pickle/HP12_1099.pickle (deflated 69%)\r\n",
        "freshening: pickle/HP12_0628.pickle"
       ]
      },
      {
       "output_type": "stream",
       "stream": "stdout",
       "text": [
        " (deflated 69%)\r\n",
        "freshening: pickle/HP12_0415.pickle (deflated 70%)\r\n",
        "freshening: pickle/HP12_0232.pickle (deflated 69%)\r\n",
        "freshening: pickle/HP12_1716.pickle (deflated 69%)\r\n",
        "freshening: pickle/HP12_1131.pickle (deflated 70%)\r\n",
        "freshening: pickle/HP12_0094.pickle (deflated 69%)\r\n",
        "freshening: pickle/HP12_0341.pickle (deflated 70%)\r\n",
        "freshening: pickle/HP12_0566.pickle (deflated 69%)\r\n",
        "freshening: pickle/HP12_0928.pickle (deflated 69%)\r\n",
        "freshening: pickle/HP12_1042.pickle (deflated 69%)\r\n",
        "freshening: pickle/HP12_1665.pickle (deflated 69%)\r\n",
        "freshening: pickle/HP12_1397.pickle (deflated 70%)\r\n",
        "freshening: pickle/HP12_1458.pickle (deflated 69%)\r\n",
        "freshening: pickle/HP12_1322.pickle (deflated 70%)\r\n",
        "freshening: pickle/HP12_1505.pickle (deflated 69%)\r\n",
        "freshening: pickle/HP12_0021.pickle"
       ]
      },
      {
       "output_type": "stream",
       "stream": "stdout",
       "text": [
        " (deflated 69%)\r\n",
        "freshening: pickle/HP12_0606.pickle (deflated 69%)\r\n",
        "freshening: pickle/HP12_0875.pickle (deflated 69%)\r\n",
        "freshening: pickle/HP12_1184.pickle (deflated 70%)\r\n",
        "freshening: pickle/HP12_1476.pickle (deflated 70%)\r\n",
        "freshening: pickle/HP12_1251.pickle (deflated 70%)\r\n",
        "freshening: pickle/HP12_0775.pickle (deflated 70%)\r\n",
        "freshening: pickle/HP12_0152.pickle (deflated 69%)\r\n",
        "freshening: pickle/HP12_0287.pickle (deflated 69%)\r\n",
        "freshening: pickle/HP12_0906.pickle (deflated 69%)\r\n",
        "freshening: pickle/HP12_0548.pickle (deflated 69%)\r\n",
        "freshening: pickle/HP12_1211.pickle (deflated 69%)\r\n",
        "freshening: pickle/HP12_1436.pickle (deflated 69%)\r\n",
        "freshening: pickle/HP12_0112.pickle (deflated 69%)\r\n",
        "freshening: pickle/HP12_0735.pickle"
       ]
      },
      {
       "output_type": "stream",
       "stream": "stdout",
       "text": [
        " (deflated 70%)\r\n",
        "freshening: pickle/HP12_0946.pickle (deflated 70%)\r\n",
        "freshening: pickle/HP12_0508.pickle (deflated 70%)\r\n",
        "freshening: pickle/HP12_1545.pickle (deflated 69%)\r\n",
        "freshening: pickle/HP12_1362.pickle (deflated 69%)\r\n",
        "freshening: pickle/HP12_1690.pickle (deflated 69%)\r\n",
        "freshening: pickle/HP12_0593.pickle (deflated 68%)\r\n",
        "freshening: pickle/HP12_0646.pickle (deflated 68%)\r\n",
        "freshening: pickle/HP12_0061.pickle (deflated 69%)\r\n",
        "freshening: pickle/HP12_0835.pickle (deflated 70%)\r\n",
        "freshening: pickle/HP12_0189.pickle (deflated 69%)\r\n",
        "freshening: pickle/HP12_0588.pickle (deflated 69%)\r\n",
        "freshening: pickle/HP12_0247.pickle (deflated 69%)\r\n",
        "freshening: pickle/HP12_0460.pickle"
       ]
      },
      {
       "output_type": "stream",
       "stream": "stdout",
       "text": [
        " (deflated 69%)\r\n",
        "freshening: pickle/HP12_0192.pickle (deflated 69%)\r\n",
        "freshening: pickle/HP12_1291.pickle (deflated 69%)\r\n",
        "freshening: pickle/HP12_1144.pickle (deflated 70%)\r\n",
        "freshening: pickle/HP12_1379.pickle (deflated 69%)\r\n",
        "freshening: pickle/HP12_0109.pickle (deflated 69%)\r\n",
        "freshening: pickle/HP12_0513.pickle (deflated 70%)\r\n",
        "freshening: pickle/HP12_0334.pickle (deflated 69%)\r\n",
        "freshening: pickle/HP12_1610.pickle (deflated 70%)\r\n",
        "freshening: pickle/HP12_1037.pickle (deflated 70%)\r\n",
        "freshening: pickle/HP12_0149.pickle (deflated 69%)\r\n",
        "freshening: pickle/HP12_0686.pickle (deflated 69%)\r\n",
        "freshening: pickle/HP12_0374.pickle (deflated 69%)\r\n",
        "freshening: pickle/HP12_0553.pickle (deflated 69%)\r\n",
        "freshening: pickle/HP12_1077.pickle"
       ]
      },
      {
       "output_type": "stream",
       "stream": "stdout",
       "text": [
        " (deflated 70%)\r\n",
        "freshening: pickle/HP12_1650.pickle (deflated 69%)\r\n",
        "freshening: pickle/HP12_1585.pickle (deflated 70%)\r\n",
        "freshening: pickle/HP12_0986.pickle (deflated 70%)\r\n",
        "freshening: pickle/HP12_0420.pickle (deflated 70%)\r\n",
        "freshening: pickle/HP12_0207.pickle (deflated 69%)\r\n",
        "freshening: pickle/HP12_1723.pickle (deflated 72%)\r\n",
        "freshening: pickle/HP12_1104.pickle (deflated 70%)\r\n",
        "freshening: pickle/HP12_1339.pickle (deflated 69%)\r\n",
        "freshening: pickle/HP12_1287.pickle (deflated 70%)\r\n",
        "freshening: pickle/HP12_1152.pickle (deflated 69%)\r\n",
        "freshening: pickle/HP12_1548.pickle (deflated 72%)\r\n",
        "freshening: pickle/HP12_0838.pickle (deflated 70%)\r\n",
        "freshening: pickle/HP12_0251.pickle (deflated 69%)\r\n",
        "freshening: pickle/HP12_0476.pickle (deflated 69%)\r\n",
        "freshening: pickle/HP12_0184.pickle"
       ]
      },
      {
       "output_type": "stream",
       "stream": "stdout",
       "text": [
        " (deflated 72%)\r\n",
        "freshening: pickle/HP12_1606.pickle (deflated 69%)\r\n",
        "freshening: pickle/HP12_1021.pickle (deflated 69%)\r\n",
        "freshening: pickle/HP12_0738.pickle (deflated 70%)\r\n",
        "freshening: pickle/HP12_0505.pickle (deflated 70%)\r\n",
        "freshening: pickle/HP12_0322.pickle (deflated 69%)\r\n",
        "freshening: pickle/HP12_1061.pickle (deflated 70%)\r\n",
        "freshening: pickle/HP12_1646.pickle (deflated 72%)\r\n",
        "freshening: pickle/HP12_1593.pickle (deflated 69%)\r\n",
        "freshening: pickle/HP12_1189.pickle (deflated 69%)\r\n",
        "freshening: pickle/HP12_0778.pickle (deflated 70%)\r\n",
        "freshening: pickle/HP12_0690.pickle (deflated 70%)\r\n",
        "freshening: pickle/HP12_0362.pickle (deflated 70%)\r\n",
        "freshening: pickle/HP12_0545.pickle (deflated 69%)\r\n",
        "freshening: pickle/HP12_1112.pickle (deflated 70%)\r\n",
        "freshening: pickle/HP12_1508.pickle (deflated 70%)\r\n",
        "freshening: pickle/HP12_0990.pickle"
       ]
      },
      {
       "output_type": "stream",
       "stream": "stdout",
       "text": [
        " (deflated 70%)\r\n",
        "freshening: pickle/HP12_0878.pickle (deflated 68%)\r\n",
        "freshening: pickle/HP12_0436.pickle (deflated 69%)\r\n",
        "freshening: pickle/HP12_0211.pickle (deflated 70%)\r\n",
        "freshening: pickle/HP12_0037.pickle (deflated 69%)\r\n",
        "freshening: pickle/HP12_0610.pickle (deflated 70%)\r\n",
        "freshening: pickle/HP12_0863.pickle (deflated 69%)\r\n",
        "freshening: pickle/HP12_1109.pickle (deflated 70%)\r\n",
        "freshening: pickle/HP12_1334.pickle (deflated 70%)\r\n",
        "freshening: pickle/HP12_1513.pickle (deflated 69%)\r\n",
        "freshening: pickle/HP12_0763.pickle (deflated 70%)\r\n",
        "freshening: pickle/HP12_0144.pickle (deflated 69%)\r\n",
        "freshening: pickle/HP12_0291.pickle"
       ]
      },
      {
       "output_type": "stream",
       "stream": "stdout",
       "text": [
        " (deflated 69%)\r\n",
        "freshening: pickle/HP12_0910.pickle (deflated 72%)\r\n",
        "freshening: pickle/HP12_0379.pickle (deflated 69%)\r\n",
        "freshening: pickle/HP12_1588.pickle (deflated 69%)\r\n",
        "freshening: pickle/HP12_1192.pickle (deflated 69%)\r\n",
        "freshening: pickle/HP12_1460.pickle (deflated 70%)\r\n",
        "freshening: pickle/HP12_1247.pickle (deflated 70%)\r\n",
        "freshening: pickle/HP12_0104.pickle (deflated 69%)\r\n",
        "freshening: pickle/HP12_0723.pickle (deflated 69%)\r\n",
        "freshening: pickle/HP12_0950.pickle (deflated 69%)\r\n",
        "freshening: pickle/HP12_0339.pickle (deflated 70%)\r\n",
        "freshening: pickle/HP12_1207.pickle (deflated 70%)\r\n",
        "freshening: pickle/HP12_1420.pickle (deflated 70%)\r\n",
        "freshening: pickle/HP12_0585.pickle (deflated 70%)\r\n",
        "freshening: pickle/HP12_0650.pickle (deflated 69%)\r\n",
        "freshening: pickle/HP12_0077.pickle"
       ]
      },
      {
       "output_type": "stream",
       "stream": "stdout",
       "text": [
        " (deflated 69%)\r\n",
        "freshening: pickle/HP12_0823.pickle (deflated 69%)\r\n",
        "freshening: pickle/HP12_1149.pickle (deflated 69%)\r\n",
        "freshening: pickle/HP12_1553.pickle (deflated 69%)\r\n",
        "freshening: pickle/HP12_1374.pickle (deflated 69%)\r\n",
        "freshening: pickle/HP12_1686.pickle (deflated 69%)\r\n",
        "freshening: pickle/HP12_1417.pickle (deflated 70%)\r\n",
        "freshening: pickle/HP12_1230.pickle (deflated 69%)\r\n",
        "freshening: pickle/HP12_0714.pickle (deflated 70%)\r\n",
        "freshening: pickle/HP12_0133.pickle (deflated 69%)\r\n",
        "freshening: pickle/HP12_0529.pickle (deflated 69%)\r\n",
        "freshening: pickle/HP12_0967.pickle (deflated 70%)\r\n",
        "freshening: pickle/HP12_1343.pickle (deflated 70%)\r\n",
        "freshening: pickle/HP12_1564.pickle (deflated 69%)\r\n",
        "freshening: pickle/HP12_1096.pickle (deflated 70%)\r\n",
        "freshening: pickle/HP12_0395.pickle (deflated 70%)\r\n",
        "freshening: pickle/HP12_0040.pickle"
       ]
      },
      {
       "output_type": "stream",
       "stream": "stdout",
       "text": [
        " (deflated 69%)\r\n",
        "freshening: pickle/HP12_0667.pickle (deflated 69%)\r\n",
        "freshening: pickle/HP12_0814.pickle (deflated 70%)\r\n",
        "freshening: pickle/HP12_1719.pickle (deflated 70%)\r\n",
        "freshening: pickle/HP12_1524.pickle (deflated 69%)\r\n",
        "freshening: pickle/HP12_1303.pickle (deflated 70%)\r\n",
        "freshening: pickle/HP12_0627.pickle (deflated 69%)\r\n",
        "freshening: pickle/HP12_0000.pickle (deflated 70%)\r\n",
        "freshening: pickle/HP12_0854.pickle (deflated 69%)\r\n",
        "freshening: pickle/HP12_1398.pickle (deflated 69%)\r\n",
        "freshening: pickle/HP12_1270.pickle (deflated 69%)\r\n",
        "freshening: pickle/HP12_1457.pickle (deflated 70%)\r\n",
        "freshening: pickle/HP12_0173.pickle (deflated 72%)\r\n",
        "freshening: pickle/HP12_0754.pickle (deflated 69%)\r\n",
        "freshening: pickle/HP12_0481.pickle"
       ]
      },
      {
       "output_type": "stream",
       "stream": "stdout",
       "text": [
        " (deflated 70%)\r\n",
        "freshening: pickle/HP12_0569.pickle (deflated 69%)\r\n",
        "freshening: pickle/HP12_0927.pickle (deflated 69%)\r\n",
        "freshening: pickle/HP12_0168.pickle (deflated 70%)\r\n",
        "freshening: pickle/HP12_0080.pickle (deflated 69%)\r\n",
        "freshening: pickle/HP12_0572.pickle (deflated 70%)\r\n",
        "freshening: pickle/HP12_0355.pickle (deflated 70%)\r\n",
        "freshening: pickle/HP12_1671.pickle (deflated 69%)\r\n",
        "freshening: pickle/HP12_1056.pickle (deflated 69%)\r\n",
        "freshening: pickle/HP12_1383.pickle (deflated 70%)\r\n",
        "freshening: pickle/HP12_0226.pickle (deflated 69%)\r\n",
        "freshening: pickle/HP12_0401.pickle (deflated 70%)\r\n",
        "freshening: pickle/HP12_1125.pickle (deflated 69%)\r\n",
        "freshening: pickle/HP12_1702.pickle (deflated 69%)\r\n",
        "freshening: pickle/HP12_1318.pickle (deflated 69%)\r\n",
        "freshening: pickle/HP12_0441.pickle"
       ]
      },
      {
       "output_type": "stream",
       "stream": "stdout",
       "text": [
        " (deflated 70%)\r\n",
        "freshening: pickle/HP12_0266.pickle (deflated 69%)\r\n",
        "freshening: pickle/HP12_0794.pickle (deflated 69%)\r\n",
        "freshening: pickle/HP12_1497.pickle (deflated 70%)\r\n",
        "freshening: pickle/HP12_1165.pickle (deflated 70%)\r\n",
        "freshening: pickle/HP12_1358.pickle (deflated 69%)\r\n",
        "freshening: pickle/HP12_0894.pickle (deflated 69%)\r\n",
        "freshening: pickle/HP12_0128.pickle (deflated 69%)\r\n",
        "freshening: pickle/HP12_0315.pickle (deflated 69%)\r\n",
        "freshening: pickle/HP12_0532.pickle (deflated 70%)\r\n",
        "freshening: pickle/HP12_1016.pickle (deflated 69%)\r\n",
        "freshening: pickle/HP12_1631.pickle (deflated 70%)\r\n",
        "freshening: pickle/HP12_1667.pickle (deflated 69%)\r\n",
        "freshening: pickle/HP12_1040.pickle (deflated 69%)\r\n",
        "freshening: pickle/HP12_1395.pickle (deflated 70%)\r\n",
        "freshening: pickle/HP12_0759.pickle (deflated 70%)\r\n",
        "freshening: pickle/HP12_0096.pickle"
       ]
      },
      {
       "output_type": "stream",
       "stream": "stdout",
       "text": [
        " (deflated 69%)\r\n",
        "freshening: pickle/HP12_0564.pickle (deflated 69%)\r\n",
        "freshening: pickle/HP12_0343.pickle (deflated 70%)\r\n",
        "freshening: pickle/HP12_1133.pickle (deflated 70%)\r\n",
        "freshening: pickle/HP12_1714.pickle (deflated 70%)\r\n",
        "freshening: pickle/HP12_1529.pickle (deflated 69%)\r\n",
        "freshening: pickle/HP12_0230.pickle (deflated 69%)\r\n",
        "freshening: pickle/HP12_0417.pickle (deflated 69%)\r\n",
        "freshening: pickle/HP12_0859.pickle (deflated 69%)\r\n",
        "freshening: pickle/HP12_1481.pickle (deflated 70%)\r\n",
        "freshening: pickle/HP12_1173.pickle (deflated 69%)\r\n",
        "freshening: pickle/HP12_1569.pickle (deflated 70%)\r\n",
        "freshening: pickle/HP12_0398.pickle (deflated 69%)\r\n",
        "freshening: pickle/HP12_0457.pickle (deflated 69%)\r\n",
        "freshening: pickle/HP12_0270.pickle"
       ]
      },
      {
       "output_type": "stream",
       "stream": "stdout",
       "text": [
        " (deflated 70%)\r\n",
        "freshening: pickle/HP12_0819.pickle (deflated 69%)\r\n",
        "freshening: pickle/HP12_0782.pickle (deflated 69%)\r\n",
        "freshening: pickle/HP12_1000.pickle (deflated 70%)\r\n",
        "freshening: pickle/HP12_1627.pickle (deflated 70%)\r\n",
        "freshening: pickle/HP12_0882.pickle (deflated 69%)\r\n",
        "freshening: pickle/HP12_0719.pickle (deflated 69%)\r\n",
        "freshening: pickle/HP12_0303.pickle (deflated 70%)\r\n",
        "freshening: pickle/HP12_0524.pickle (deflated 70%)\r\n",
        "freshening: pickle/HP12_0899.pickle (deflated 70%)\r\n",
        "freshening: pickle/HP12_0702.pickle (deflated 69%)\r\n",
        "freshening: pickle/HP12_0125.pickle (deflated 69%)\r\n",
        "freshening: pickle/HP12_0318.pickle (deflated 70%)\r\n",
        "freshening: pickle/HP12_0971.pickle (deflated 69%)\r\n",
        "freshening: pickle/HP12_1401.pickle (deflated 69%)\r\n",
        "freshening: pickle/HP12_1226.pickle"
       ]
      },
      {
       "output_type": "stream",
       "stream": "stdout",
       "text": [
        " (deflated 70%)\r\n",
        "freshening: pickle/HP12_0383.pickle (deflated 69%)\r\n",
        "freshening: pickle/HP12_0056.pickle (deflated 69%)\r\n",
        "freshening: pickle/HP12_0671.pickle (deflated 69%)\r\n",
        "freshening: pickle/HP12_0802.pickle (deflated 68%)\r\n",
        "freshening: pickle/HP12_0799.pickle (deflated 69%)\r\n",
        "freshening: pickle/HP12_1168.pickle (deflated 69%)\r\n",
        "freshening: pickle/HP12_1355.pickle (deflated 69%)\r\n",
        "freshening: pickle/HP12_1572.pickle (deflated 69%)\r\n",
        "freshening: pickle/HP12_1080.pickle (deflated 70%)\r\n",
        "freshening: pickle/HP12_0631.pickle (deflated 69%)\r\n",
        "freshening: pickle/HP12_0016.pickle (deflated 69%)\r\n",
        "freshening: pickle/HP12_0842.pickle (deflated 69%)\r\n",
        "freshening: pickle/HP12_1128.pickle"
       ]
      },
      {
       "output_type": "stream",
       "stream": "stdout",
       "text": [
        " (deflated 69%)\r\n",
        "freshening: pickle/HP12_1532.pickle (deflated 69%)\r\n",
        "freshening: pickle/HP12_1315.pickle (deflated 69%)\r\n",
        "freshening: pickle/HP12_0165.pickle (deflated 69%)\r\n",
        "freshening: pickle/HP12_0742.pickle (deflated 70%)\r\n",
        "freshening: pickle/HP12_0497.pickle (deflated 70%)\r\n",
        "freshening: pickle/HP12_0358.pickle (deflated 70%)\r\n",
        "freshening: pickle/HP12_0931.pickle (deflated 70%)\r\n",
        "freshening: pickle/HP12_1266.pickle (deflated 70%)\r\n",
        "freshening: pickle/HP12_1441.pickle (deflated 69%)\r\n",
        "freshening: pickle/HP12_0268.pickle (deflated 69%)\r\n",
        "freshening: pickle/HP12_0801.pickle (deflated 69%)\r\n",
        "freshening: pickle/HP12_0055.pickle (deflated 69%)\r\n",
        "freshening: pickle/HP12_0672.pickle (deflated 72%)\r\n",
        "freshening: pickle/HP12_0380.pickle (deflated 69%)\r\n",
        "freshening: pickle/HP12_1083.pickle"
       ]
      },
      {
       "output_type": "stream",
       "stream": "stdout",
       "text": [
        " (deflated 69%)\r\n",
        "freshening: pickle/HP12_1356.pickle (deflated 69%)\r\n",
        "freshening: pickle/HP12_1571.pickle (deflated 69%)\r\n",
        "freshening: pickle/HP12_1499.pickle (deflated 69%)\r\n",
        "freshening: pickle/HP12_0972.pickle (deflated 69%)\r\n",
        "freshening: pickle/HP12_0701.pickle (deflated 70%)\r\n",
        "freshening: pickle/HP12_0126.pickle (deflated 69%)\r\n",
        "freshening: pickle/HP12_1402.pickle (deflated 69%)\r\n",
        "freshening: pickle/HP12_1225.pickle (deflated 69%)\r\n",
        "freshening: pickle/HP12_1018.pickle (deflated 70%)\r\n",
        "freshening: pickle/HP12_0932.pickle (deflated 70%)\r\n",
        "freshening: pickle/HP12_0494.pickle (deflated 70%)\r\n",
        "freshening: pickle/HP12_0166.pickle (deflated 70%)\r\n",
        "freshening: pickle/HP12_0741.pickle (deflated 70%)\r\n",
        "freshening: pickle/HP12_1265.pickle (deflated 69%)\r\n",
        "freshening: pickle/HP12_1442.pickle"
       ]
      },
      {
       "output_type": "stream",
       "stream": "stdout",
       "text": [
        " (deflated 71%)\r\n",
        "freshening: pickle/HP12_1058.pickle (deflated 69%)\r\n",
        "freshening: pickle/HP12_0228.pickle (deflated 69%)\r\n",
        "freshening: pickle/HP12_0841.pickle (deflated 69%)\r\n",
        "freshening: pickle/HP12_0632.pickle (deflated 70%)\r\n",
        "freshening: pickle/HP12_0015.pickle (deflated 69%)\r\n",
        "freshening: pickle/HP12_1531.pickle (deflated 69%)\r\n",
        "freshening: pickle/HP12_1316.pickle (deflated 70%)\r\n",
        "freshening: pickle/HP12_1130.pickle (deflated 70%)\r\n",
        "freshening: pickle/HP12_1717.pickle (deflated 69%)\r\n",
        "freshening: pickle/HP12_0233.pickle (deflated 70%)\r\n",
        "freshening: pickle/HP12_0414.pickle (deflated 70%)\r\n",
        "freshening: pickle/HP12_0629.pickle (deflated 70%)\r\n",
        "freshening: pickle/HP12_1459.pickle (deflated 69%)\r\n",
        "freshening: pickle/HP12_1396.pickle"
       ]
      },
      {
       "output_type": "stream",
       "stream": "stdout",
       "text": [
        " (deflated 69%)\r\n",
        "freshening: pickle/HP12_1664.pickle (deflated 72%)\r\n",
        "freshening: pickle/HP12_1043.pickle (deflated 70%)\r\n",
        "freshening: pickle/HP12_0567.pickle (deflated 70%)\r\n",
        "freshening: pickle/HP12_0340.pickle (deflated 70%)\r\n",
        "freshening: pickle/HP12_0929.pickle (deflated 69%)\r\n",
        "freshening: pickle/HP12_0095.pickle (deflated 70%)\r\n",
        "freshening: pickle/HP12_1419.pickle (deflated 72%)\r\n",
        "freshening: pickle/HP12_1003.pickle (deflated 69%)\r\n",
        "freshening: pickle/HP12_1624.pickle (deflated 69%)\r\n",
        "freshening: pickle/HP12_0300.pickle (deflated 70%)\r\n",
        "freshening: pickle/HP12_0527.pickle (deflated 69%)\r\n",
        "freshening: pickle/HP12_0969.pickle (deflated 70%)\r\n",
        "freshening: pickle/HP12_0881.pickle (deflated 68%)\r\n",
        "freshening: pickle/HP12_1098.pickle (deflated 69%)\r\n",
        "freshening: pickle/HP12_1170.pickle (deflated 70%)\r\n",
        "freshening: pickle/HP12_1482.pickle"
       ]
      },
      {
       "output_type": "stream",
       "stream": "stdout",
       "text": [
        " (deflated 69%)\r\n",
        "freshening: pickle/HP12_0781.pickle (deflated 70%)\r\n",
        "freshening: pickle/HP12_0454.pickle (deflated 70%)\r\n",
        "freshening: pickle/HP12_0273.pickle (deflated 69%)\r\n",
        "freshening: pickle/HP12_0669.pickle (deflated 70%)\r\n",
        "freshening: pickle/HP12_0225.pickle (deflated 70%)\r\n",
        "freshening: pickle/HP12_0402.pickle (deflated 69%)\r\n",
        "freshening: pickle/HP12_0018.pickle (deflated 69%)\r\n",
        "freshening: pickle/HP12_1126.pickle (deflated 70%)\r\n",
        "freshening: pickle/HP12_1701.pickle (deflated 69%)\r\n",
        "freshening: pickle/HP12_0571.pickle (deflated 69%)\r\n",
        "freshening: pickle/HP12_0356.pickle (deflated 72%)\r\n",
        "freshening: pickle/HP12_0083.pickle (deflated 70%)\r\n",
        "freshening: pickle/HP12_0499.pickle (deflated 69%)\r\n",
        "freshening: pickle/HP12_1268.pickle (deflated 69%)\r\n",
        "freshening: pickle/HP12_1380.pickle (deflated 71%)\r\n",
        "freshening: pickle/HP12_1672.pickle (deflated 70%)\r\n",
        "freshening: pickle/HP12_1055.pickle"
       ]
      },
      {
       "output_type": "stream",
       "stream": "stdout",
       "text": [
        " (deflated 69%)\r\n",
        "freshening: pickle/HP12_0316.pickle (deflated 69%)\r\n",
        "freshening: pickle/HP12_0531.pickle (deflated 69%)\r\n",
        "freshening: pickle/HP12_0897.pickle (deflated 70%)\r\n",
        "freshening: pickle/HP12_1228.pickle (deflated 69%)\r\n",
        "freshening: pickle/HP12_1015.pickle (deflated 72%)\r\n",
        "freshening: pickle/HP12_1632.pickle (deflated 69%)\r\n",
        "freshening: pickle/HP12_0797.pickle (deflated 70%)\r\n",
        "freshening: pickle/HP12_0442.pickle (deflated 70%)\r\n",
        "freshening: pickle/HP12_0265.pickle (deflated 69%)\r\n",
        "freshening: pickle/HP12_0058.pickle (deflated 70%)\r\n",
        "freshening: pickle/HP12_1166.pickle (deflated 69%)\r\n",
        "freshening: pickle/HP12_1494.pickle (deflated 70%)\r\n",
        "freshening: pickle/HP12_1095.pickle (deflated 70%)\r\n",
        "freshening: pickle/HP12_1340.pickle (deflated 69%)\r\n",
        "freshening: pickle/HP12_1567.pickle (deflated 70%)\r\n",
        "freshening: pickle/HP12_0459.pickle (deflated 70%)\r\n",
        "freshening: pickle/HP12_0817.pickle"
       ]
      },
      {
       "output_type": "stream",
       "stream": "stdout",
       "text": [
        " (deflated 69%)\r\n",
        "freshening: pickle/HP12_0043.pickle (deflated 69%)\r\n",
        "freshening: pickle/HP12_0664.pickle (deflated 69%)\r\n",
        "freshening: pickle/HP12_0396.pickle (deflated 70%)\r\n",
        "freshening: pickle/HP12_1414.pickle (deflated 70%)\r\n",
        "freshening: pickle/HP12_1233.pickle (deflated 69%)\r\n",
        "freshening: pickle/HP12_1629.pickle (deflated 69%)\r\n",
        "freshening: pickle/HP12_0964.pickle (deflated 70%)\r\n",
        "freshening: pickle/HP12_0717.pickle (deflated 70%)\r\n",
        "freshening: pickle/HP12_0130.pickle (deflated 70%)\r\n",
        "freshening: pickle/HP12_1273.pickle (deflated 69%)\r\n",
        "freshening: pickle/HP12_1454.pickle (deflated 70%)\r\n",
        "freshening: pickle/HP12_1669.pickle (deflated 70%)\r\n",
        "freshening: pickle/HP12_0924.pickle (deflated 69%)\r\n",
        "freshening: pickle/HP12_0098.pickle (deflated 69%)\r\n",
        "freshening: pickle/HP12_0482.pickle"
       ]
      },
      {
       "output_type": "stream",
       "stream": "stdout",
       "text": [
        " (deflated 72%)\r\n",
        "freshening: pickle/HP12_0170.pickle (deflated 69%)\r\n",
        "freshening: pickle/HP12_0757.pickle (deflated 70%)\r\n",
        "freshening: pickle/HP12_1527.pickle (deflated 69%)\r\n",
        "freshening: pickle/HP12_1300.pickle (deflated 69%)\r\n",
        "freshening: pickle/HP12_0419.pickle (deflated 69%)\r\n",
        "freshening: pickle/HP12_0857.pickle (deflated 69%)\r\n",
        "freshening: pickle/HP12_0624.pickle (deflated 69%)\r\n",
        "freshening: pickle/HP12_0003.pickle (deflated 69%)\r\n",
        "freshening: pickle/HP12_0913.pickle (deflated 69%)\r\n",
        "freshening: pickle/HP12_0688.pickle (deflated 69%)\r\n",
        "freshening: pickle/HP12_0292.pickle (deflated 69%)\r\n",
        "freshening: pickle/HP12_0760.pickle (deflated 69%)\r\n",
        "freshening: pickle/HP12_0147.pickle (deflated 70%)\r\n",
        "freshening: pickle/HP12_1463.pickle (deflated 70%)\r\n",
        "freshening: pickle/HP12_1244.pickle (deflated 70%)\r\n",
        "freshening: pickle/HP12_1191.pickle"
       ]
      },
      {
       "output_type": "stream",
       "stream": "stdout",
       "text": [
        " (deflated 69%)\r\n",
        "freshening: pickle/HP12_1079.pickle (deflated 70%)\r\n",
        "freshening: pickle/HP12_0860.pickle (deflated 70%)\r\n",
        "freshening: pickle/HP12_0209.pickle (deflated 69%)\r\n",
        "freshening: pickle/HP12_0988.pickle (deflated 71%)\r\n",
        "freshening: pickle/HP12_0034.pickle (deflated 69%)\r\n",
        "freshening: pickle/HP12_0613.pickle (deflated 69%)\r\n",
        "freshening: pickle/HP12_1337.pickle (deflated 71%)\r\n",
        "freshening: pickle/HP12_1510.pickle (deflated 69%)\r\n",
        "freshening: pickle/HP12_0820.pickle (deflated 70%)\r\n",
        "freshening: pickle/HP12_0249.pickle (deflated 69%)\r\n",
        "freshening: pickle/HP12_0653.pickle (deflated 69%)\r\n",
        "freshening: pickle/HP12_0074.pickle (deflated 69%)\r\n",
        "freshening: pickle/HP12_0586.pickle (deflated 70%)\r\n",
        "freshening: pickle/HP12_1685.pickle"
       ]
      },
      {
       "output_type": "stream",
       "stream": "stdout",
       "text": [
        " (deflated 69%)\r\n",
        "freshening: pickle/HP12_1550.pickle (deflated 70%)\r\n",
        "freshening: pickle/HP12_1377.pickle (deflated 69%)\r\n",
        "freshening: pickle/HP12_0953.pickle (deflated 69%)\r\n",
        "freshening: pickle/HP12_0107.pickle (deflated 69%)\r\n",
        "freshening: pickle/HP12_0720.pickle (deflated 69%)\r\n",
        "freshening: pickle/HP12_1204.pickle (deflated 70%)\r\n",
        "freshening: pickle/HP12_1423.pickle (deflated 69%)\r\n",
        "freshening: pickle/HP12_1039.pickle (deflated 70%)\r\n",
        "freshening: pickle/HP12_1438.pickle (deflated 69%)\r\n",
        "freshening: pickle/HP12_1605.pickle (deflated 69%)\r\n",
        "freshening: pickle/HP12_1022.pickle (deflated 69%)\r\n",
        "freshening: pickle/HP12_0948.pickle (deflated 69%)\r\n",
        "freshening: pickle/HP12_0506.pickle (deflated 69%)\r\n",
        "freshening: pickle/HP12_0321.pickle (deflated 69%)\r\n",
        "freshening: pickle/HP12_1151.pickle"
       ]
      },
      {
       "output_type": "stream",
       "stream": "stdout",
       "text": [
        " (deflated 69%)\r\n",
        "freshening: pickle/HP12_1284.pickle (deflated 70%)\r\n",
        "freshening: pickle/HP12_0187.pickle (deflated 70%)\r\n",
        "freshening: pickle/HP12_0252.pickle (deflated 70%)\r\n",
        "freshening: pickle/HP12_0475.pickle (deflated 70%)\r\n",
        "freshening: pickle/HP12_0648.pickle (deflated 70%)\r\n",
        "freshening: pickle/HP12_1111.pickle (deflated 69%)\r\n",
        "freshening: pickle/HP12_0435.pickle (deflated 69%)\r\n",
        "freshening: pickle/HP12_0212.pickle (deflated 69%)\r\n",
        "freshening: pickle/HP12_0993.pickle (deflated 70%)\r\n",
        "freshening: pickle/HP12_0608.pickle (deflated 69%)\r\n",
        "freshening: pickle/HP12_1478.pickle (deflated 69%)\r\n",
        "freshening: pickle/HP12_1590.pickle (deflated 69%)\r\n",
        "freshening: pickle/HP12_1062.pickle (deflated 69%)\r\n",
        "freshening: pickle/HP12_1645.pickle"
       ]
      },
      {
       "output_type": "stream",
       "stream": "stdout",
       "text": [
        " (deflated 69%)\r\n",
        "freshening: pickle/HP12_0908.pickle (deflated 70%)\r\n",
        "freshening: pickle/HP12_0361.pickle (deflated 69%)\r\n",
        "freshening: pickle/HP12_0546.pickle (deflated 69%)\r\n",
        "freshening: pickle/HP12_0693.pickle (deflated 70%)\r\n",
        "freshening: pickle/HP12_0289.pickle (deflated 69%)\r\n",
        "freshening: pickle/HP12_0510.pickle (deflated 69%)\r\n",
        "freshening: pickle/HP12_0337.pickle (deflated 69%)\r\n",
        "freshening: pickle/HP12_1209.pickle (deflated 70%)\r\n",
        "freshening: pickle/HP12_1613.pickle (deflated 69%)\r\n",
        "freshening: pickle/HP12_1034.pickle (deflated 69%)\r\n",
        "freshening: pickle/HP12_0191.pickle (deflated 69%)\r\n",
        "freshening: pickle/HP12_0244.pickle (deflated 69%)\r\n",
        "freshening: pickle/HP12_0463.pickle (deflated 69%)\r\n",
        "freshening: pickle/HP12_0079.pickle (deflated 69%)\r\n",
        "freshening: pickle/HP12_1688.pickle"
       ]
      },
      {
       "output_type": "stream",
       "stream": "stdout",
       "text": [
        " (deflated 70%)\r\n",
        "freshening: pickle/HP12_1147.pickle (deflated 70%)\r\n",
        "freshening: pickle/HP12_1292.pickle (deflated 69%)\r\n",
        "freshening: pickle/HP12_0423.pickle (deflated 70%)\r\n",
        "freshening: pickle/HP12_0204.pickle (deflated 72%)\r\n",
        "freshening: pickle/HP12_0985.pickle (deflated 70%)\r\n",
        "freshening: pickle/HP12_0039.pickle (deflated 69%)\r\n",
        "freshening: pickle/HP12_1720.pickle (deflated 69%)\r\n",
        "freshening: pickle/HP12_1107.pickle (deflated 70%)\r\n",
        "freshening: pickle/HP12_0377.pickle (deflated 69%)\r\n",
        "freshening: pickle/HP12_0550.pickle (deflated 69%)\r\n",
        "freshening: pickle/HP12_0685.pickle (deflated 70%)\r\n",
        "freshening: pickle/HP12_1249.pickle (deflated 70%)\r\n",
        "freshening: pickle/HP12_1586.pickle (deflated 70%)\r\n",
        "freshening: pickle/HP12_1074.pickle (deflated 70%)\r\n",
        "freshening: pickle/HP12_1653.pickle (deflated 70%)\r\n",
        "freshening: pickle/HP12_1475.pickle"
       ]
      },
      {
       "output_type": "stream",
       "stream": "stdout",
       "text": [
        " (deflated 69%)\r\n",
        "freshening: pickle/HP12_1252.pickle (deflated 70%)\r\n",
        "freshening: pickle/HP12_1187.pickle (deflated 69%)\r\n",
        "freshening: pickle/HP12_1648.pickle (deflated 72%)\r\n",
        "freshening: pickle/HP12_0905.pickle (deflated 69%)\r\n",
        "freshening: pickle/HP12_0284.pickle (deflated 69%)\r\n",
        "freshening: pickle/HP12_0776.pickle (deflated 69%)\r\n",
        "freshening: pickle/HP12_0151.pickle (deflated 69%)\r\n",
        "freshening: pickle/HP12_1321.pickle (deflated 69%)\r\n",
        "freshening: pickle/HP12_1506.pickle (deflated 69%)\r\n",
        "freshening: pickle/HP12_0876.pickle (deflated 70%)\r\n",
        "freshening: pickle/HP12_0438.pickle (deflated 70%)\r\n",
        "freshening: pickle/HP12_0022.pickle (deflated 69%)\r\n",
        "freshening: pickle/HP12_0605.pickle (deflated 70%)\r\n",
        "freshening: pickle/HP12_1693.pickle (deflated 69%)\r\n",
        "freshening: pickle/HP12_1546.pickle (deflated 70%)\r\n",
        "freshening: pickle/HP12_1361.pickle"
       ]
      },
      {
       "output_type": "stream",
       "stream": "stdout",
       "text": [
        " (deflated 69%)\r\n",
        "freshening: pickle/HP12_1289.pickle (deflated 69%)\r\n",
        "freshening: pickle/HP12_0836.pickle (deflated 69%)\r\n",
        "freshening: pickle/HP12_0478.pickle (deflated 69%)\r\n",
        "freshening: pickle/HP12_0645.pickle (deflated 69%)\r\n",
        "freshening: pickle/HP12_0062.pickle (deflated 69%)\r\n",
        "freshening: pickle/HP12_0590.pickle (deflated 71%)\r\n",
        "freshening: pickle/HP12_1212.pickle (deflated 69%)\r\n",
        "freshening: pickle/HP12_1435.pickle (deflated 69%)\r\n",
        "freshening: pickle/HP12_1608.pickle (deflated 69%)\r\n",
        "freshening: pickle/HP12_0945.pickle (deflated 70%)\r\n",
        "freshening: pickle/HP12_0111.pickle (deflated 70%)\r\n",
        "freshening: pickle/HP12_0736.pickle (deflated 69%)\r\n",
        "freshening: pickle/HP12_0783.pickle (deflated 70%)\r\n",
        "freshening: pickle/HP12_0271.pickle (deflated 69%)\r\n",
        "freshening: pickle/HP12_0456.pickle"
       ]
      },
      {
       "output_type": "stream",
       "stream": "stdout",
       "text": [
        " (deflated 70%)\r\n",
        "freshening: pickle/HP12_0818.pickle (deflated 69%)\r\n",
        "freshening: pickle/HP12_0399.pickle (deflated 69%)\r\n",
        "freshening: pickle/HP12_1568.pickle (deflated 69%)\r\n",
        "freshening: pickle/HP12_1172.pickle (deflated 70%)\r\n",
        "freshening: pickle/HP12_1480.pickle (deflated 70%)\r\n",
        "freshening: pickle/HP12_0525.pickle (deflated 69%)\r\n",
        "freshening: pickle/HP12_0302.pickle (deflated 69%)\r\n",
        "freshening: pickle/HP12_0718.pickle (deflated 70%)\r\n",
        "freshening: pickle/HP12_0883.pickle (deflated 69%)\r\n",
        "freshening: pickle/HP12_1626.pickle (deflated 69%)\r\n",
        "freshening: pickle/HP12_1001.pickle (deflated 69%)\r\n",
        "freshening: pickle/HP12_0342.pickle (deflated 69%)\r\n",
        "freshening: pickle/HP12_0565.pickle (deflated 69%)\r\n",
        "freshening: pickle/HP12_0097.pickle (deflated 68%)\r\n",
        "freshening: pickle/HP12_0758.pickle"
       ]
      },
      {
       "output_type": "stream",
       "stream": "stdout",
       "text": [
        " (deflated 69%)\r\n",
        "freshening: pickle/HP12_1394.pickle (deflated 70%)\r\n",
        "freshening: pickle/HP12_1041.pickle (deflated 69%)\r\n",
        "freshening: pickle/HP12_1666.pickle (deflated 69%)\r\n",
        "freshening: pickle/HP12_0416.pickle (deflated 69%)\r\n",
        "freshening: pickle/HP12_0231.pickle (deflated 69%)\r\n",
        "freshening: pickle/HP12_0858.pickle (deflated 68%)\r\n",
        "freshening: pickle/HP12_1528.pickle (deflated 70%)\r\n",
        "freshening: pickle/HP12_1715.pickle (deflated 72%)\r\n",
        "freshening: pickle/HP12_1132.pickle (deflated 70%)\r\n",
        "freshening: pickle/HP12_1314.pickle (deflated 69%)\r\n",
        "freshening: pickle/HP12_1533.pickle (deflated 69%)\r\n",
        "freshening: pickle/HP12_1129.pickle (deflated 70%)\r\n",
        "freshening: pickle/HP12_0843.pickle"
       ]
      },
      {
       "output_type": "stream",
       "stream": "stdout",
       "text": [
        " (deflated 68%)\r\n",
        "freshening: pickle/HP12_0017.pickle (deflated 69%)\r\n",
        "freshening: pickle/HP12_0630.pickle (deflated 69%)\r\n",
        "freshening: pickle/HP12_1440.pickle (deflated 69%)\r\n",
        "freshening: pickle/HP12_1267.pickle (deflated 69%)\r\n",
        "freshening: pickle/HP12_0359.pickle (deflated 69%)\r\n",
        "freshening: pickle/HP12_0930.pickle (deflated 69%)\r\n",
        "freshening: pickle/HP12_0496.pickle (deflated 69%)\r\n",
        "freshening: pickle/HP12_0743.pickle (deflated 69%)\r\n",
        "freshening: pickle/HP12_0164.pickle (deflated 69%)\r\n",
        "freshening: pickle/HP12_1227.pickle (deflated 69%)\r\n",
        "freshening: pickle/HP12_1400.pickle (deflated 70%)\r\n",
        "freshening: pickle/HP12_0319.pickle (deflated 69%)\r\n",
        "freshening: pickle/HP12_0970.pickle (deflated 72%)\r\n",
        "freshening: pickle/HP12_0124.pickle (deflated 69%)\r\n",
        "freshening: pickle/HP12_0703.pickle (deflated 70%)\r\n",
        "freshening: pickle/HP12_0898.pickle"
       ]
      },
      {
       "output_type": "stream",
       "stream": "stdout",
       "text": [
        " (deflated 69%)\r\n",
        "freshening: pickle/HP12_1081.pickle (deflated 69%)\r\n",
        "freshening: pickle/HP12_1573.pickle (deflated 71%)\r\n",
        "freshening: pickle/HP12_1354.pickle (deflated 72%)\r\n",
        "freshening: pickle/HP12_1169.pickle (deflated 69%)\r\n",
        "freshening: pickle/HP12_0798.pickle (deflated 70%)\r\n",
        "freshening: pickle/HP12_0803.pickle (deflated 69%)\r\n",
        "freshening: pickle/HP12_0670.pickle (deflated 69%)\r\n",
        "freshening: pickle/HP12_0057.pickle (deflated 70%)\r\n",
        "freshening: pickle/HP12_0382.pickle (deflated 69%)\r\n",
        "freshening: pickle/HP12_0855.pickle (deflated 69%)\r\n",
        "freshening: pickle/HP12_0001.pickle (deflated 70%)\r\n",
        "freshening: pickle/HP12_0626.pickle (deflated 70%)\r\n",
        "freshening: pickle/HP12_1302.pickle (deflated 69%)\r\n",
        "freshening: pickle/HP12_1525.pickle"
       ]
      },
      {
       "output_type": "stream",
       "stream": "stdout",
       "text": [
        " (deflated 70%)\r\n",
        "freshening: pickle/HP12_1718.pickle (deflated 71%)\r\n",
        "freshening: pickle/HP12_0568.pickle (deflated 70%)\r\n",
        "freshening: pickle/HP12_0926.pickle (deflated 68%)\r\n",
        "freshening: pickle/HP12_0480.pickle (deflated 70%)\r\n",
        "freshening: pickle/HP12_0755.pickle (deflated 69%)\r\n",
        "freshening: pickle/HP12_0172.pickle (deflated 70%)\r\n",
        "freshening: pickle/HP12_1456.pickle (deflated 69%)\r\n",
        "freshening: pickle/HP12_1271.pickle (deflated 70%)\r\n",
        "freshening: pickle/HP12_1399.pickle (deflated 70%)\r\n",
        "freshening: pickle/HP12_0528.pickle (deflated 70%)\r\n",
        "freshening: pickle/HP12_0966.pickle (deflated 69%)\r\n",
        "freshening: pickle/HP12_0132.pickle (deflated 70%)\r\n",
        "freshening: pickle/HP12_0715.pickle"
       ]
      },
      {
       "output_type": "stream",
       "stream": "stdout",
       "text": [
        " (deflated 69%)\r\n",
        "freshening: pickle/HP12_1231.pickle (deflated 70%)\r\n",
        "freshening: pickle/HP12_1416.pickle (deflated 72%)\r\n",
        "freshening: pickle/HP12_0815.pickle (deflated 69%)\r\n",
        "freshening: pickle/HP12_0666.pickle (deflated 69%)\r\n",
        "freshening: pickle/HP12_0041.pickle (deflated 69%)\r\n",
        "freshening: pickle/HP12_0394.pickle (deflated 69%)\r\n",
        "freshening: pickle/HP12_1097.pickle (deflated 70%)\r\n",
        "freshening: pickle/HP12_1565.pickle (deflated 69%)\r\n",
        "freshening: pickle/HP12_1342.pickle (deflated 70%)\r\n",
        "freshening: pickle/HP12_1359.pickle (deflated 70%)\r\n",
        "freshening: pickle/HP12_1164.pickle (deflated 70%)\r\n",
        "freshening: pickle/HP12_1496.pickle (deflated 70%)\r\n",
        "freshening: pickle/HP12_0795.pickle (deflated 69%)\r\n",
        "freshening: pickle/HP12_0267.pickle (deflated 69%)\r\n",
        "freshening: pickle/HP12_0440.pickle"
       ]
      },
      {
       "output_type": "stream",
       "stream": "stdout",
       "text": [
        " (deflated 69%)\r\n",
        "freshening: pickle/HP12_1630.pickle (deflated 70%)\r\n",
        "freshening: pickle/HP12_1017.pickle (deflated 70%)\r\n",
        "freshening: pickle/HP12_0533.pickle (deflated 70%)\r\n",
        "freshening: pickle/HP12_0314.pickle (deflated 70%)\r\n",
        "freshening: pickle/HP12_0129.pickle (deflated 69%)\r\n",
        "freshening: pickle/HP12_0895.pickle (deflated 70%)\r\n",
        "freshening: pickle/HP12_1382.pickle (deflated 70%)\r\n",
        "freshening: pickle/HP12_1057.pickle (deflated 69%)\r\n",
        "freshening: pickle/HP12_1670.pickle (deflated 69%)\r\n",
        "freshening: pickle/HP12_0354.pickle (deflated 69%)\r\n",
        "freshening: pickle/HP12_0573.pickle (deflated 70%)\r\n",
        "freshening: pickle/HP12_0081.pickle (deflated 70%)\r\n",
        "freshening: pickle/HP12_0169.pickle (deflated 69%)\r\n",
        "freshening: pickle/HP12_1319.pickle (deflated 69%)\r\n",
        "freshening: pickle/HP12_1703.pickle (deflated 69%)\r\n",
        "freshening: pickle/HP12_1124.pickle"
       ]
      },
      {
       "output_type": "stream",
       "stream": "stdout",
       "text": [
        " (deflated 69%)\r\n",
        "freshening: pickle/HP12_0400.pickle (deflated 70%)\r\n",
        "freshening: pickle/HP12_0227.pickle (deflated 69%)\r\n",
        "freshening: pickle/HP12_0544.pickle (deflated 70%)\r\n",
        "freshening: pickle/HP12_0363.pickle (deflated 69%)\r\n",
        "freshening: pickle/HP12_0691.pickle (deflated 70%)\r\n",
        "freshening: pickle/HP12_0779.pickle (deflated 70%)\r\n",
        "freshening: pickle/HP12_1188.pickle (deflated 69%)\r\n",
        "freshening: pickle/HP12_1592.pickle (deflated 70%)\r\n",
        "freshening: pickle/HP12_1647.pickle (deflated 70%)\r\n",
        "freshening: pickle/HP12_1060.pickle (deflated 70%)\r\n",
        "freshening: pickle/HP12_0879.pickle (deflated 68%)\r\n",
        "freshening: pickle/HP12_0210.pickle (deflated 70%)\r\n",
        "freshening: pickle/HP12_0437.pickle (deflated 70%)\r\n",
        "freshening: pickle/HP12_0991.pickle (deflated 70%)\r\n",
        "freshening: pickle/HP12_1509.pickle"
       ]
      },
      {
       "output_type": "stream",
       "stream": "stdout",
       "text": [
        " (deflated 70%)\r\n",
        "freshening: pickle/HP12_1113.pickle (deflated 70%)\r\n",
        "freshening: pickle/HP12_0185.pickle (deflated 70%)\r\n",
        "freshening: pickle/HP12_0839.pickle (deflated 69%)\r\n",
        "freshening: pickle/HP12_0477.pickle (deflated 69%)\r\n",
        "freshening: pickle/HP12_0250.pickle (deflated 70%)\r\n",
        "freshening: pickle/HP12_1549.pickle (deflated 69%)\r\n",
        "freshening: pickle/HP12_1153.pickle (deflated 70%)\r\n",
        "freshening: pickle/HP12_1286.pickle (deflated 69%)\r\n",
        "freshening: pickle/HP12_0323.pickle (deflated 70%)\r\n",
        "freshening: pickle/HP12_0504.pickle (deflated 70%)\r\n",
        "freshening: pickle/HP12_0739.pickle (deflated 69%)\r\n",
        "freshening: pickle/HP12_1020.pickle (deflated 70%)\r\n",
        "freshening: pickle/HP12_1607.pickle (deflated 70%)\r\n",
        "freshening: pickle/HP12_1421.pickle (deflated 69%)\r\n",
        "freshening: pickle/HP12_1206.pickle (deflated 70%)\r\n",
        "freshening: pickle/HP12_0951.pickle (deflated 69%)\r\n",
        "freshening: pickle/HP12_0338.pickle"
       ]
      },
      {
       "output_type": "stream",
       "stream": "stdout",
       "text": [
        " (deflated 69%)\r\n",
        "freshening: pickle/HP12_0722.pickle (deflated 69%)\r\n",
        "freshening: pickle/HP12_0105.pickle (deflated 69%)\r\n",
        "freshening: pickle/HP12_1687.pickle (deflated 69%)\r\n",
        "freshening: pickle/HP12_1375.pickle (deflated 70%)\r\n",
        "freshening: pickle/HP12_1552.pickle (deflated 69%)\r\n",
        "freshening: pickle/HP12_1148.pickle (deflated 69%)\r\n",
        "freshening: pickle/HP12_0822.pickle (deflated 69%)\r\n",
        "freshening: pickle/HP12_0076.pickle (deflated 72%)\r\n",
        "freshening: pickle/HP12_0651.pickle (deflated 70%)\r\n",
        "freshening: pickle/HP12_0584.pickle (deflated 70%)\r\n",
        "freshening: pickle/HP12_1512.pickle (deflated 70%)\r\n",
        "freshening: pickle/HP12_1335.pickle (deflated 70%)\r\n",
        "freshening: pickle/HP12_1108.pickle (deflated 70%)\r\n",
        "freshening: pickle/HP12_0862.pickle (deflated 69%)\r\n",
        "freshening: pickle/HP12_0611.pickle (deflated 70%)\r\n",
        "freshening: pickle/HP12_0036.pickle (deflated 69%)\r\n",
        "freshening: pickle/HP12_1246.pickle"
       ]
      },
      {
       "output_type": "stream",
       "stream": "stdout",
       "text": [
        " (deflated 70%)\r\n",
        "freshening: pickle/HP12_1461.pickle (deflated 70%)\r\n",
        "freshening: pickle/HP12_1193.pickle (deflated 70%)\r\n",
        "freshening: pickle/HP12_1589.pickle (deflated 69%)\r\n",
        "freshening: pickle/HP12_0911.pickle (deflated 69%)\r\n",
        "freshening: pickle/HP12_0378.pickle (deflated 69%)\r\n",
        "freshening: pickle/HP12_0290.pickle (deflated 69%)\r\n",
        "freshening: pickle/HP12_0145.pickle (deflated 69%)\r\n",
        "freshening: pickle/HP12_0762.pickle (deflated 69%)\r\n",
        "freshening: pickle/HP12_0947.pickle (deflated 72%)\r\n",
        "freshening: pickle/HP12_0509.pickle (deflated 70%)\r\n",
        "freshening: pickle/HP12_0734.pickle (deflated 69%)\r\n",
        "freshening: pickle/HP12_0113.pickle (deflated 70%)\r\n",
        "freshening: pickle/HP12_1437.pickle (deflated 70%)\r\n",
        "freshening: pickle/HP12_1210.pickle (deflated 70%)\r\n",
        "freshening: pickle/HP12_0188.pickle (deflated 69%)\r\n",
        "freshening: pickle/HP12_0834.pickle"
       ]
      },
      {
       "output_type": "stream",
       "stream": "stdout",
       "text": [
        " (deflated 69%)\r\n",
        "freshening: pickle/HP12_0060.pickle (deflated 69%)\r\n",
        "freshening: pickle/HP12_0647.pickle (deflated 69%)\r\n",
        "freshening: pickle/HP12_0592.pickle (deflated 69%)\r\n",
        "freshening: pickle/HP12_1691.pickle (deflated 69%)\r\n",
        "freshening: pickle/HP12_1363.pickle (deflated 69%)\r\n",
        "freshening: pickle/HP12_1544.pickle (deflated 70%)\r\n",
        "freshening: pickle/HP12_0874.pickle (deflated 70%)\r\n",
        "freshening: pickle/HP12_0607.pickle (deflated 70%)\r\n",
        "freshening: pickle/HP12_0020.pickle (deflated 69%)\r\n",
        "freshening: pickle/HP12_1504.pickle (deflated 70%)\r\n",
        "freshening: pickle/HP12_1323.pickle (deflated 70%)\r\n",
        "freshening: pickle/HP12_0907.pickle (deflated 70%)\r\n",
        "freshening: pickle/HP12_0549.pickle (deflated 69%)\r\n",
        "freshening: pickle/HP12_0286.pickle"
       ]
      },
      {
       "output_type": "stream",
       "stream": "stdout",
       "text": [
        " (deflated 69%)\r\n",
        "freshening: pickle/HP12_0153.pickle (deflated 69%)\r\n",
        "freshening: pickle/HP12_0774.pickle (deflated 72%)\r\n",
        "freshening: pickle/HP12_1250.pickle (deflated 70%)\r\n",
        "freshening: pickle/HP12_1477.pickle (deflated 70%)\r\n",
        "freshening: pickle/HP12_1185.pickle (deflated 70%)\r\n",
        "freshening: pickle/HP12_1584.pickle (deflated 69%)\r\n",
        "freshening: pickle/HP12_1651.pickle (deflated 69%)\r\n",
        "freshening: pickle/HP12_1076.pickle (deflated 70%)\r\n",
        "freshening: pickle/HP12_0552.pickle (deflated 70%)\r\n",
        "freshening: pickle/HP12_0375.pickle (deflated 69%)\r\n",
        "freshening: pickle/HP12_0687.pickle (deflated 69%)\r\n",
        "freshening: pickle/HP12_0148.pickle (deflated 69%)\r\n",
        "freshening: pickle/HP12_1338.pickle (deflated 70%)\r\n",
        "freshening: pickle/HP12_1105.pickle (deflated 70%)\r\n",
        "freshening: pickle/HP12_1722.pickle (deflated 70%)\r\n",
        "freshening: pickle/HP12_0206.pickle"
       ]
      },
      {
       "output_type": "stream",
       "stream": "stdout",
       "text": [
        " (deflated 69%)\r\n",
        "freshening: pickle/HP12_0421.pickle (deflated 68%)\r\n",
        "freshening: pickle/HP12_0987.pickle (deflated 70%)\r\n",
        "freshening: pickle/HP12_1378.pickle (deflated 69%)\r\n",
        "freshening: pickle/HP12_1145.pickle (deflated 69%)\r\n",
        "freshening: pickle/HP12_1290.pickle (deflated 70%)\r\n",
        "freshening: pickle/HP12_0193.pickle (deflated 70%)\r\n",
        "freshening: pickle/HP12_0461.pickle (deflated 70%)\r\n",
        "freshening: pickle/HP12_0246.pickle (deflated 70%)\r\n",
        "freshening: pickle/HP12_0589.pickle (deflated 70%)\r\n",
        "freshening: pickle/HP12_1036.pickle (deflated 70%)\r\n",
        "freshening: pickle/HP12_1611.pickle (deflated 69%)\r\n",
        "freshening: pickle/HP12_0335.pickle (deflated 69%)\r\n",
        "freshening: pickle/HP12_0512.pickle (deflated 69%)\r\n",
        "freshening: pickle/HP12_0108.pickle"
       ]
      },
      {
       "output_type": "stream",
       "stream": "stdout",
       "text": [
        " (deflated 69%)\r\n",
        "freshening: pickle/HP12_1523.pickle (deflated 72%)\r\n",
        "freshening: pickle/HP12_1304.pickle (deflated 69%)\r\n",
        "freshening: pickle/HP12_1139.pickle (deflated 69%)\r\n",
        "freshening: pickle/HP12_0853.pickle (deflated 70%)\r\n",
        "freshening: pickle/HP12_0620.pickle (deflated 69%)\r\n",
        "freshening: pickle/HP12_0007.pickle (deflated 69%)\r\n",
        "freshening: pickle/HP12_1277.pickle (deflated 69%)\r\n",
        "freshening: pickle/HP12_1450.pickle (deflated 70%)\r\n",
        "freshening: pickle/HP12_0349.pickle (deflated 69%)\r\n",
        "freshening: pickle/HP12_0920.pickle (deflated 70%)\r\n",
        "freshening: pickle/HP12_0174.pickle (deflated 69%)\r\n",
        "freshening: pickle/HP12_0753.pickle (deflated 69%)\r\n",
        "freshening: pickle/HP12_0486.pickle (deflated 70%)\r\n",
        "freshening: pickle/HP12_1410.pickle (deflated 69%)\r\n",
        "freshening: pickle/HP12_1237.pickle"
       ]
      },
      {
       "output_type": "stream",
       "stream": "stdout",
       "text": [
        " (deflated 69%)\r\n",
        "freshening: pickle/HP12_0309.pickle (deflated 70%)\r\n",
        "freshening: pickle/HP12_0960.pickle (deflated 68%)\r\n",
        "freshening: pickle/HP12_0888.pickle (deflated 68%)\r\n",
        "freshening: pickle/HP12_0713.pickle (deflated 69%)\r\n",
        "freshening: pickle/HP12_0134.pickle (deflated 69%)\r\n",
        "freshening: pickle/HP12_1344.pickle (deflated 69%)\r\n",
        "freshening: pickle/HP12_1563.pickle (deflated 70%)\r\n",
        "freshening: pickle/HP12_1091.pickle (deflated 69%)\r\n",
        "freshening: pickle/HP12_1179.pickle (deflated 69%)\r\n",
        "freshening: pickle/HP12_0813.pickle (deflated 69%)\r\n",
        "freshening: pickle/HP12_0788.pickle (deflated 70%)\r\n",
        "freshening: pickle/HP12_0392.pickle (deflated 69%)\r\n",
        "freshening: pickle/HP12_0047.pickle"
       ]
      },
      {
       "output_type": "stream",
       "stream": "stdout",
       "text": [
        " (deflated 69%)\r\n",
        "freshening: pickle/HP12_0660.pickle (deflated 71%)\r\n",
        "freshening: pickle/HP12_0446.pickle (deflated 70%)\r\n",
        "freshening: pickle/HP12_0261.pickle (deflated 70%)\r\n",
        "freshening: pickle/HP12_0808.pickle (deflated 69%)\r\n",
        "freshening: pickle/HP12_0793.pickle (deflated 69%)\r\n",
        "freshening: pickle/HP12_0389.pickle (deflated 71%)\r\n",
        "freshening: pickle/HP12_1578.pickle (deflated 69%)\r\n",
        "freshening: pickle/HP12_1490.pickle (deflated 70%)\r\n",
        "freshening: pickle/HP12_1162.pickle (deflated 70%)\r\n",
        "freshening: pickle/HP12_0312.pickle (deflated 70%)\r\n",
        "freshening: pickle/HP12_0535.pickle (deflated 69%)\r\n",
        "freshening: pickle/HP12_0893.pickle (deflated 69%)\r\n",
        "freshening: pickle/HP12_0708.pickle (deflated 70%)\r\n",
        "freshening: pickle/HP12_1011.pickle (deflated 70%)\r\n",
        "freshening: pickle/HP12_1636.pickle (deflated 69%)\r\n",
        "freshening: pickle/HP12_0087.pickle"
       ]
      },
      {
       "output_type": "stream",
       "stream": "stdout",
       "text": [
        " (deflated 69%)\r\n",
        "freshening: pickle/HP12_0575.pickle (deflated 69%)\r\n",
        "freshening: pickle/HP12_0352.pickle (deflated 69%)\r\n",
        "freshening: pickle/HP12_0748.pickle (deflated 71%)\r\n",
        "freshening: pickle/HP12_1676.pickle (deflated 70%)\r\n",
        "freshening: pickle/HP12_1051.pickle (deflated 72%)\r\n",
        "freshening: pickle/HP12_1384.pickle (deflated 69%)\r\n",
        "freshening: pickle/HP12_0221.pickle (deflated 70%)\r\n",
        "freshening: pickle/HP12_0406.pickle (deflated 69%)\r\n",
        "freshening: pickle/HP12_0848.pickle (deflated 69%)\r\n",
        "freshening: pickle/HP12_1538.pickle (deflated 69%)\r\n",
        "freshening: pickle/HP12_1122.pickle (deflated 70%)\r\n",
        "freshening: pickle/HP12_1705.pickle (deflated 70%)\r\n",
        "freshening: pickle/HP12_1349.pickle (deflated 69%)\r\n",
        "freshening: pickle/HP12_1486.pickle (deflated 70%)\r\n",
        "freshening: pickle/HP12_1174.pickle"
       ]
      },
      {
       "output_type": "stream",
       "stream": "stdout",
       "text": [
        " (deflated 70%)\r\n",
        "freshening: pickle/HP12_0450.pickle (deflated 69%)\r\n",
        "freshening: pickle/HP12_0277.pickle (deflated 70%)\r\n",
        "freshening: pickle/HP12_0785.pickle (deflated 70%)\r\n",
        "freshening: pickle/HP12_1007.pickle (deflated 69%)\r\n",
        "freshening: pickle/HP12_1620.pickle (deflated 70%)\r\n",
        "freshening: pickle/HP12_0304.pickle (deflated 69%)\r\n",
        "freshening: pickle/HP12_0523.pickle (deflated 70%)\r\n",
        "freshening: pickle/HP12_0885.pickle (deflated 69%)\r\n",
        "freshening: pickle/HP12_0139.pickle (deflated 69%)\r\n",
        "freshening: pickle/HP12_1660.pickle (deflated 69%)\r\n",
        "freshening: pickle/HP12_1047.pickle (deflated 69%)\r\n",
        "freshening: pickle/HP12_1392.pickle (deflated 70%)\r\n",
        "freshening: pickle/HP12_0091.pickle (deflated 69%)\r\n",
        "freshening: pickle/HP12_0563.pickle"
       ]
      },
      {
       "output_type": "stream",
       "stream": "stdout",
       "text": [
        " (deflated 69%)\r\n",
        "freshening: pickle/HP12_0344.pickle (deflated 70%)\r\n",
        "freshening: pickle/HP12_0179.pickle (deflated 70%)\r\n",
        "freshening: pickle/HP12_1309.pickle (deflated 69%)\r\n",
        "freshening: pickle/HP12_1134.pickle (deflated 69%)\r\n",
        "freshening: pickle/HP12_1713.pickle (deflated 69%)\r\n",
        "freshening: pickle/HP12_0237.pickle (deflated 69%)\r\n",
        "freshening: pickle/HP12_0410.pickle (deflated 69%)\r\n",
        "freshening: pickle/HP12_0845.pickle (deflated 69%)\r\n",
        "freshening: pickle/HP12_0636.pickle (deflated 70%)\r\n",
        "freshening: pickle/HP12_0011.pickle (deflated 69%)\r\n",
        "freshening: pickle/HP12_1535.pickle (deflated 70%)\r\n",
        "freshening: pickle/HP12_1312.pickle (deflated 69%)\r\n",
        "freshening: pickle/HP12_1708.pickle (deflated 72%)\r\n",
        "freshening: pickle/HP12_0578.pickle (deflated 70%)\r\n",
        "freshening: pickle/HP12_0936.pickle (deflated 69%)\r\n",
        "freshening: pickle/HP12_0162.pickle"
       ]
      },
      {
       "output_type": "stream",
       "stream": "stdout",
       "text": [
        " (deflated 70%)\r\n",
        "freshening: pickle/HP12_0745.pickle (deflated 70%)\r\n",
        "freshening: pickle/HP12_0490.pickle (deflated 70%)\r\n",
        "freshening: pickle/HP12_1261.pickle (deflated 69%)\r\n",
        "freshening: pickle/HP12_1446.pickle (deflated 70%)\r\n",
        "freshening: pickle/HP12_1389.pickle (deflated 69%)\r\n",
        "freshening: pickle/HP12_0538.pickle (deflated 70%)\r\n",
        "freshening: pickle/HP12_0976.pickle (deflated 69%)\r\n",
        "freshening: pickle/HP12_0705.pickle (deflated 70%)\r\n",
        "freshening: pickle/HP12_0122.pickle (deflated 69%)\r\n",
        "freshening: pickle/HP12_1406.pickle (deflated 69%)\r\n",
        "freshening: pickle/HP12_1221.pickle (deflated 69%)\r\n",
        "freshening: pickle/HP12_0805.pickle (deflated 69%)\r\n",
        "freshening: pickle/HP12_0384.pickle (deflated 69%)\r\n",
        "freshening: pickle/HP12_0051.pickle (deflated 70%)\r\n",
        "freshening: pickle/HP12_0676.pickle"
       ]
      },
      {
       "output_type": "stream",
       "stream": "stdout",
       "text": [
        " (deflated 70%)\r\n",
        "freshening: pickle/HP12_1352.pickle (deflated 69%)\r\n",
        "freshening: pickle/HP12_1575.pickle (deflated 69%)\r\n",
        "freshening: pickle/HP12_1087.pickle (deflated 70%)\r\n",
        "freshening: pickle/HP12_1216.pickle (deflated 69%)\r\n",
        "freshening: pickle/HP12_1431.pickle (deflated 70%)\r\n",
        "freshening: pickle/HP12_0941.pickle (deflated 71%)\r\n",
        "freshening: pickle/HP12_0328.pickle (deflated 69%)\r\n",
        "freshening: pickle/HP12_0115.pickle (deflated 69%)\r\n",
        "freshening: pickle/HP12_0732.pickle (deflated 70%)\r\n",
        "freshening: pickle/HP12_1542.pickle (deflated 70%)\r\n",
        "freshening: pickle/HP12_1365.pickle (deflated 69%)\r\n",
        "freshening: pickle/HP12_1697.pickle (deflated 69%)\r\n",
        "freshening: pickle/HP12_1158.pickle (deflated 69%)\r\n",
        "freshening: pickle/HP12_0832.pickle (deflated 70%)\r\n",
        "freshening: pickle/HP12_0594.pickle (deflated 69%)\r\n",
        "freshening: pickle/HP12_0641.pickle"
       ]
      },
      {
       "output_type": "stream",
       "stream": "stdout",
       "text": [
        " (deflated 69%)\r\n",
        "freshening: pickle/HP12_0066.pickle (deflated 69%)\r\n",
        "freshening: pickle/HP12_1325.pickle (deflated 70%)\r\n",
        "freshening: pickle/HP12_1502.pickle (deflated 70%)\r\n",
        "freshening: pickle/HP12_1118.pickle (deflated 70%)\r\n",
        "freshening: pickle/HP12_0872.pickle (deflated 69%)\r\n",
        "freshening: pickle/HP12_0026.pickle (deflated 69%)\r\n",
        "freshening: pickle/HP12_0601.pickle (deflated 69%)\r\n",
        "freshening: pickle/HP12_1183.pickle (deflated 70%)\r\n",
        "freshening: pickle/HP12_1471.pickle (deflated 69%)\r\n",
        "freshening: pickle/HP12_1256.pickle (deflated 69%)\r\n",
        "freshening: pickle/HP12_1599.pickle (deflated 69%)\r\n",
        "freshening: pickle/HP12_0901.pickle (deflated 69%)\r\n",
        "freshening: pickle/HP12_0368.pickle (deflated 69%)\r\n",
        "freshening: pickle/HP12_0772.pickle"
       ]
      },
      {
       "output_type": "stream",
       "stream": "stdout",
       "text": [
        " (deflated 70%)\r\n",
        "freshening: pickle/HP12_0155.pickle (deflated 70%)\r\n",
        "freshening: pickle/HP12_0280.pickle (deflated 69%)\r\n",
        "freshening: pickle/HP12_0681.pickle (deflated 70%)\r\n",
        "freshening: pickle/HP12_0373.pickle (deflated 69%)\r\n",
        "freshening: pickle/HP12_0554.pickle (deflated 69%)\r\n",
        "freshening: pickle/HP12_0769.pickle (deflated 69%)\r\n",
        "freshening: pickle/HP12_1198.pickle (deflated 70%)\r\n",
        "freshening: pickle/HP12_1070.pickle (deflated 72%)\r\n",
        "freshening: pickle/HP12_1657.pickle (deflated 69%)\r\n",
        "freshening: pickle/HP12_1582.pickle (deflated 69%)\r\n",
        "freshening: pickle/HP12_0869.pickle (deflated 70%)\r\n",
        "freshening: pickle/HP12_0427.pickle (deflated 69%)\r\n",
        "freshening: pickle/HP12_0200.pickle (deflated 69%)\r\n",
        "freshening: pickle/HP12_0981.pickle (deflated 70%)\r\n",
        "freshening: pickle/HP12_1519.pickle (deflated 70%)\r\n",
        "freshening: pickle/HP12_1724.pickle"
       ]
      },
      {
       "output_type": "stream",
       "stream": "stdout",
       "text": [
        " (deflated 70%)\r\n",
        "freshening: pickle/HP12_1103.pickle (deflated 72%)\r\n",
        "freshening: pickle/HP12_0829.pickle (deflated 70%)\r\n",
        "freshening: pickle/HP12_0240.pickle (deflated 69%)\r\n",
        "freshening: pickle/HP12_0467.pickle (deflated 69%)\r\n",
        "freshening: pickle/HP12_0195.pickle (deflated 72%)\r\n",
        "freshening: pickle/HP12_1559.pickle (deflated 69%)\r\n",
        "freshening: pickle/HP12_1296.pickle (deflated 69%)\r\n",
        "freshening: pickle/HP12_1143.pickle (deflated 70%)\r\n",
        "freshening: pickle/HP12_0514.pickle (deflated 69%)\r\n",
        "freshening: pickle/HP12_0333.pickle (deflated 69%)\r\n",
        "freshening: pickle/HP12_0729.pickle (deflated 70%)\r\n",
        "freshening: pickle/HP12_1617.pickle (deflated 69%)\r\n",
        "freshening: pickle/HP12_1030.pickle (deflated 69%)\r\n",
        "freshening: pickle/HP12_1066.pickle (deflated 69%)\r\n",
        "freshening: pickle/HP12_1641.pickle"
       ]
      },
      {
       "output_type": "stream",
       "stream": "stdout",
       "text": [
        " (deflated 69%)\r\n",
        "freshening: pickle/HP12_1594.pickle (deflated 69%)\r\n",
        "freshening: pickle/HP12_0697.pickle (deflated 70%)\r\n",
        "freshening: pickle/HP12_0365.pickle (deflated 70%)\r\n",
        "freshening: pickle/HP12_0542.pickle (deflated 70%)\r\n",
        "freshening: pickle/HP12_0158.pickle (deflated 69%)\r\n",
        "freshening: pickle/HP12_1328.pickle (deflated 69%)\r\n",
        "freshening: pickle/HP12_1115.pickle (deflated 70%)\r\n",
        "freshening: pickle/HP12_0431.pickle (deflated 69%)\r\n",
        "freshening: pickle/HP12_0216.pickle (deflated 69%)\r\n",
        "freshening: pickle/HP12_0997.pickle (deflated 70%)\r\n",
        "freshening: pickle/HP12_1368.pickle (deflated 69%)\r\n",
        "freshening: pickle/HP12_1280.pickle (deflated 70%)\r\n",
        "freshening: pickle/HP12_1155.pickle (deflated 69%)\r\n",
        "freshening: pickle/HP12_0256.pickle (deflated 69%)\r\n",
        "freshening: pickle/HP12_0471.pickle"
       ]
      },
      {
       "output_type": "stream",
       "stream": "stdout",
       "text": [
        " (deflated 70%)\r\n",
        "freshening: pickle/HP12_0183.pickle (deflated 69%)\r\n",
        "freshening: pickle/HP12_0599.pickle (deflated 69%)\r\n",
        "freshening: pickle/HP12_1601.pickle (deflated 69%)\r\n",
        "freshening: pickle/HP12_1026.pickle (deflated 70%)\r\n",
        "freshening: pickle/HP12_0502.pickle (deflated 69%)\r\n",
        "freshening: pickle/HP12_0325.pickle (deflated 69%)\r\n",
        "freshening: pickle/HP12_0118.pickle (deflated 69%)\r\n",
        "freshening: pickle/HP12_0957.pickle (deflated 69%)\r\n",
        "freshening: pickle/HP12_0519.pickle (deflated 69%)\r\n",
        "freshening: pickle/HP12_0103.pickle (deflated 69%)\r\n",
        "freshening: pickle/HP12_0724.pickle (deflated 72%)\r\n",
        "freshening: pickle/HP12_1200.pickle (deflated 69%)\r\n",
        "freshening: pickle/HP12_1427.pickle (deflated 68%)\r\n",
        "freshening: pickle/HP12_0824.pickle (deflated 70%)\r\n",
        "freshening: pickle/HP12_0198.pickle"
       ]
      },
      {
       "output_type": "stream",
       "stream": "stdout",
       "text": [
        " (deflated 69%)\r\n",
        "freshening: pickle/HP12_0582.pickle (deflated 70%)\r\n",
        "freshening: pickle/HP12_0657.pickle (deflated 70%)\r\n",
        "freshening: pickle/HP12_0070.pickle (deflated 69%)\r\n",
        "freshening: pickle/HP12_1554.pickle (deflated 70%)\r\n",
        "freshening: pickle/HP12_1373.pickle (deflated 69%)\r\n",
        "freshening: pickle/HP12_1681.pickle (deflated 70%)\r\n",
        "freshening: pickle/HP12_0864.pickle (deflated 69%)\r\n",
        "freshening: pickle/HP12_0030.pickle (deflated 69%)\r\n",
        "freshening: pickle/HP12_0617.pickle (deflated 70%)\r\n",
        "freshening: pickle/HP12_1333.pickle (deflated 70%)\r\n",
        "freshening: pickle/HP12_1514.pickle (deflated 69%)\r\n",
        "freshening: pickle/HP12_0917.pickle (deflated 70%)\r\n",
        "freshening: pickle/HP12_0559.pickle (deflated 69%)\r\n",
        "freshening: pickle/HP12_0764.pickle (deflated 69%)\r\n",
        "freshening: pickle/HP12_0143.pickle"
       ]
      },
      {
       "output_type": "stream",
       "stream": "stdout",
       "text": [
        " (deflated 69%)\r\n",
        "freshening: pickle/HP12_0296.pickle (deflated 69%)\r\n",
        "freshening: pickle/HP12_1195.pickle (deflated 69%)\r\n",
        "freshening: pickle/HP12_1467.pickle (deflated 70%)\r\n",
        "freshening: pickle/HP12_1240.pickle (deflated 70%)\r\n",
        "freshening: pickle/HP12_1707.pickle (deflated 70%)\r\n",
        "freshening: pickle/HP12_1120.pickle (deflated 69%)\r\n",
        "freshening: pickle/HP12_0404.pickle (deflated 70%)\r\n",
        "freshening: pickle/HP12_0223.pickle (deflated 69%)\r\n",
        "freshening: pickle/HP12_0639.pickle (deflated 70%)\r\n",
        "freshening: pickle/HP12_1449.pickle (deflated 69%)\r\n",
        "freshening: pickle/HP12_1053.pickle (deflated 70%)\r\n",
        "freshening: pickle/HP12_1674.pickle (deflated 69%)\r\n",
        "freshening: pickle/HP12_1386.pickle (deflated 69%)\r\n",
        "freshening: pickle/HP12_0085.pickle (deflated 70%)\r\n",
        "freshening: pickle/HP12_0350.pickle"
       ]
      },
      {
       "output_type": "stream",
       "stream": "stdout",
       "text": [
        " (deflated 69%)\r\n",
        "freshening: pickle/HP12_0577.pickle (deflated 69%)\r\n",
        "freshening: pickle/HP12_0939.pickle (deflated 70%)\r\n",
        "freshening: pickle/HP12_1409.pickle (deflated 69%)\r\n",
        "freshening: pickle/HP12_1634.pickle (deflated 70%)\r\n",
        "freshening: pickle/HP12_1013.pickle (deflated 70%)\r\n",
        "freshening: pickle/HP12_0537.pickle (deflated 70%)\r\n",
        "freshening: pickle/HP12_0310.pickle (deflated 69%)\r\n",
        "freshening: pickle/HP12_0979.pickle (deflated 70%)\r\n",
        "freshening: pickle/HP12_0891.pickle (deflated 69%)\r\n",
        "freshening: pickle/HP12_1088.pickle (deflated 70%)\r\n",
        "freshening: pickle/HP12_1492.pickle (deflated 70%)\r\n",
        "freshening: pickle/HP12_1160.pickle (deflated 69%)\r\n",
        "freshening: pickle/HP12_0263.pickle (deflated 69%)\r\n",
        "freshening: pickle/HP12_0444.pickle"
       ]
      },
      {
       "output_type": "stream",
       "stream": "stdout",
       "text": [
        " (deflated 70%)\r\n",
        "freshening: pickle/HP12_0791.pickle (deflated 69%)\r\n",
        "freshening: pickle/HP12_0679.pickle (deflated 69%)\r\n",
        "freshening: pickle/HP12_0278.pickle (deflated 70%)\r\n",
        "freshening: pickle/HP12_0811.pickle (deflated 70%)\r\n",
        "freshening: pickle/HP12_0390.pickle (deflated 69%)\r\n",
        "freshening: pickle/HP12_0662.pickle (deflated 70%)\r\n",
        "freshening: pickle/HP12_0045.pickle (deflated 69%)\r\n",
        "freshening: pickle/HP12_1561.pickle (deflated 70%)\r\n",
        "freshening: pickle/HP12_1346.pickle (deflated 72%)\r\n",
        "freshening: pickle/HP12_1093.pickle (deflated 69%)\r\n",
        "freshening: pickle/HP12_1489.pickle (deflated 70%)\r\n",
        "freshening: pickle/HP12_0962.pickle (deflated 72%)\r\n",
        "freshening: pickle/HP12_0136.pickle (deflated 69%)\r\n",
        "freshening: pickle/HP12_0711.pickle (deflated 70%)\r\n",
        "freshening: pickle/HP12_1235.pickle"
       ]
      },
      {
       "output_type": "stream",
       "stream": "stdout",
       "text": [
        " (deflated 69%)\r\n",
        "freshening: pickle/HP12_1412.pickle (deflated 70%)\r\n",
        "freshening: pickle/HP12_1008.pickle (deflated 69%)\r\n",
        "freshening: pickle/HP12_0922.pickle (deflated 70%)\r\n",
        "freshening: pickle/HP12_0751.pickle (deflated 70%)\r\n",
        "freshening: pickle/HP12_0176.pickle (deflated 70%)\r\n",
        "freshening: pickle/HP12_0484.pickle (deflated 70%)\r\n",
        "freshening: pickle/HP12_1452.pickle (deflated 69%)\r\n",
        "freshening: pickle/HP12_1275.pickle (deflated 70%)\r\n",
        "freshening: pickle/HP12_1048.pickle (deflated 69%)\r\n",
        "freshening: pickle/HP12_0238.pickle (deflated 69%)\r\n",
        "freshening: pickle/HP12_0851.pickle (deflated 69%)\r\n",
        "freshening: pickle/HP12_0005.pickle (deflated 69%)\r\n",
        "freshening: pickle/HP12_0622.pickle (deflated 72%)\r\n",
        "freshening: pickle/HP12_1306.pickle (deflated 69%)\r\n",
        "freshening: pickle/HP12_1521.pickle (deflated 70%)\r\n",
        "freshening: pickle/HP12_1577.pickle"
       ]
      },
      {
       "output_type": "stream",
       "stream": "stdout",
       "text": [
        " (deflated 70%)\r\n",
        "freshening: pickle/HP12_1350.pickle (deflated 69%)\r\n",
        "freshening: pickle/HP12_1085.pickle (deflated 70%)\r\n",
        "freshening: pickle/HP12_0449.pickle (deflated 69%)\r\n",
        "freshening: pickle/HP12_0807.pickle (deflated 69%)\r\n",
        "freshening: pickle/HP12_0386.pickle (deflated 69%)\r\n",
        "freshening: pickle/HP12_0674.pickle (deflated 69%)\r\n",
        "freshening: pickle/HP12_0053.pickle (deflated 69%)\r\n",
        "freshening: pickle/HP12_1223.pickle (deflated 70%)\r\n",
        "freshening: pickle/HP12_1404.pickle (deflated 69%)\r\n",
        "freshening: pickle/HP12_1639.pickle (deflated 69%)\r\n",
        "freshening: pickle/HP12_0974.pickle (deflated 69%)\r\n",
        "freshening: pickle/HP12_0120.pickle (deflated 69%)\r\n",
        "freshening: pickle/HP12_0707.pickle (deflated 70%)\r\n",
        "freshening: pickle/HP12_1444.pickle"
       ]
      },
      {
       "output_type": "stream",
       "stream": "stdout",
       "text": [
        " (deflated 70%)\r\n",
        "freshening: pickle/HP12_1263.pickle (deflated 69%)\r\n",
        "freshening: pickle/HP12_1679.pickle (deflated 70%)\r\n",
        "freshening: pickle/HP12_0088.pickle (deflated 69%)\r\n",
        "freshening: pickle/HP12_0934.pickle (deflated 69%)\r\n",
        "freshening: pickle/HP12_0747.pickle (deflated 72%)\r\n",
        "freshening: pickle/HP12_0160.pickle (deflated 68%)\r\n",
        "freshening: pickle/HP12_0492.pickle (deflated 69%)\r\n",
        "freshening: pickle/HP12_1310.pickle (deflated 69%)\r\n",
        "freshening: pickle/HP12_1537.pickle (deflated 70%)\r\n",
        "freshening: pickle/HP12_0409.pickle (deflated 70%)\r\n",
        "freshening: pickle/HP12_0847.pickle (deflated 69%)\r\n",
        "freshening: pickle/HP12_0013.pickle (deflated 69%)\r\n",
        "freshening: pickle/HP12_0634.pickle (deflated 70%)\r\n",
        "freshening: pickle/HP12_0412.pickle (deflated 70%)\r\n",
        "freshening: pickle/HP12_0235.pickle"
       ]
      },
      {
       "output_type": "stream",
       "stream": "stdout",
       "text": [
        " (deflated 69%)\r\n",
        "freshening: pickle/HP12_0008.pickle (deflated 68%)\r\n",
        "freshening: pickle/HP12_1711.pickle (deflated 70%)\r\n",
        "freshening: pickle/HP12_1136.pickle (deflated 69%)\r\n",
        "freshening: pickle/HP12_0093.pickle (deflated 68%)\r\n",
        "freshening: pickle/HP12_0346.pickle (deflated 70%)\r\n",
        "freshening: pickle/HP12_0561.pickle (deflated 70%)\r\n",
        "freshening: pickle/HP12_0489.pickle (deflated 70%)\r\n",
        "freshening: pickle/HP12_1278.pickle (deflated 70%)\r\n",
        "freshening: pickle/HP12_1045.pickle (deflated 69%)\r\n",
        "freshening: pickle/HP12_1662.pickle (deflated 69%)\r\n",
        "freshening: pickle/HP12_1390.pickle (deflated 72%)\r\n",
        "freshening: pickle/HP12_0521.pickle (deflated 70%)\r\n",
        "freshening: pickle/HP12_0306.pickle (deflated 69%)\r\n",
        "freshening: pickle/HP12_0887.pickle"
       ]
      },
      {
       "output_type": "stream",
       "stream": "stdout",
       "text": [
        " (deflated 69%)\r\n",
        "freshening: pickle/HP12_1238.pickle (deflated 70%)\r\n",
        "freshening: pickle/HP12_1622.pickle (deflated 69%)\r\n",
        "freshening: pickle/HP12_1005.pickle (deflated 69%)\r\n",
        "freshening: pickle/HP12_0275.pickle (deflated 69%)\r\n",
        "freshening: pickle/HP12_0452.pickle (deflated 70%)\r\n",
        "freshening: pickle/HP12_0787.pickle (deflated 70%)\r\n",
        "freshening: pickle/HP12_0048.pickle (deflated 69%)\r\n",
        "freshening: pickle/HP12_1484.pickle (deflated 70%)\r\n",
        "freshening: pickle/HP12_1176.pickle (deflated 70%)\r\n",
        "freshening: pickle/HP12_1428.pickle (deflated 69%)\r\n",
        "freshening: pickle/HP12_1032.pickle (deflated 70%)\r\n",
        "freshening: pickle/HP12_1615.pickle (deflated 69%)\r\n",
        "freshening: pickle/HP12_0958.pickle (deflated 70%)\r\n",
        "freshening: pickle/HP12_0331.pickle"
       ]
      },
      {
       "output_type": "stream",
       "stream": "stdout",
       "text": [
        " (deflated 69%)\r\n",
        "freshening: pickle/HP12_0516.pickle (deflated 69%)\r\n",
        "freshening: pickle/HP12_1294.pickle (deflated 69%)\r\n",
        "freshening: pickle/HP12_1141.pickle (deflated 69%)\r\n",
        "freshening: pickle/HP12_0465.pickle (deflated 69%)\r\n",
        "freshening: pickle/HP12_0242.pickle (deflated 69%)\r\n",
        "freshening: pickle/HP12_0197.pickle (deflated 70%)\r\n",
        "freshening: pickle/HP12_0658.pickle (deflated 70%)\r\n",
        "freshening: pickle/HP12_1101.pickle (deflated 70%)\r\n",
        "freshening: pickle/HP12_1726.pickle (deflated 70%)\r\n",
        "freshening: pickle/HP12_0202.pickle (deflated 69%)\r\n",
        "freshening: pickle/HP12_0425.pickle (deflated 69%)\r\n",
        "freshening: pickle/HP12_0618.pickle (deflated 69%)\r\n",
        "freshening: pickle/HP12_0983.pickle (deflated 70%)\r\n",
        "freshening: pickle/HP12_1468.pickle"
       ]
      },
      {
       "output_type": "stream",
       "stream": "stdout",
       "text": [
        " (deflated 69%)\r\n",
        "freshening: pickle/HP12_1655.pickle (deflated 70%)\r\n",
        "freshening: pickle/HP12_1072.pickle (deflated 70%)\r\n",
        "freshening: pickle/HP12_1580.pickle (deflated 70%)\r\n",
        "freshening: pickle/HP12_0683.pickle (deflated 70%)\r\n",
        "freshening: pickle/HP12_0918.pickle (deflated 70%)\r\n",
        "freshening: pickle/HP12_0556.pickle (deflated 69%)\r\n",
        "freshening: pickle/HP12_0371.pickle (deflated 69%)\r\n",
        "freshening: pickle/HP12_0299.pickle (deflated 70%)\r\n",
        "freshening: pickle/HP12_0698.pickle (deflated 69%)\r\n",
        "freshening: pickle/HP12_0903.pickle (deflated 69%)\r\n",
        "freshening: pickle/HP12_0157.pickle (deflated 69%)\r\n",
        "freshening: pickle/HP12_0770.pickle (deflated 69%)\r\n",
        "freshening: pickle/HP12_0282.pickle (deflated 69%)\r\n",
        "freshening: pickle/HP12_1181.pickle"
       ]
      },
      {
       "output_type": "stream",
       "stream": "stdout",
       "text": [
        " (deflated 69%)\r\n",
        "freshening: pickle/HP12_1254.pickle (deflated 70%)\r\n",
        "freshening: pickle/HP12_1473.pickle (deflated 69%)\r\n",
        "freshening: pickle/HP12_1069.pickle (deflated 70%)\r\n",
        "freshening: pickle/HP12_0870.pickle (deflated 70%)\r\n",
        "freshening: pickle/HP12_0219.pickle (deflated 70%)\r\n",
        "freshening: pickle/HP12_0603.pickle (deflated 69%)\r\n",
        "freshening: pickle/HP12_0024.pickle (deflated 70%)\r\n",
        "freshening: pickle/HP12_0998.pickle (deflated 72%)\r\n",
        "freshening: pickle/HP12_1500.pickle (deflated 69%)\r\n",
        "freshening: pickle/HP12_1327.pickle (deflated 70%)\r\n",
        "freshening: pickle/HP12_0830.pickle (deflated 69%)\r\n",
        "freshening: pickle/HP12_0259.pickle (deflated 69%)\r\n",
        "freshening: pickle/HP12_0596.pickle (deflated 69%)\r\n",
        "freshening: pickle/HP12_0064.pickle"
       ]
      },
      {
       "output_type": "stream",
       "stream": "stdout",
       "text": [
        " (deflated 69%)\r\n",
        "freshening: pickle/HP12_0643.pickle (deflated 69%)\r\n",
        "freshening: pickle/HP12_1367.pickle (deflated 69%)\r\n",
        "freshening: pickle/HP12_1540.pickle (deflated 69%)\r\n",
        "freshening: pickle/HP12_1695.pickle (deflated 70%)\r\n",
        "freshening: pickle/HP12_0943.pickle (deflated 70%)\r\n",
        "freshening: pickle/HP12_0730.pickle (deflated 69%)\r\n",
        "freshening: pickle/HP12_0117.pickle (deflated 69%)\r\n",
        "freshening: pickle/HP12_1433.pickle (deflated 72%)\r\n",
        "freshening: pickle/HP12_1214.pickle (deflated 70%)\r\n",
        "freshening: pickle/HP12_1029.pickle (deflated 69%)\r\n",
        "freshening: pickle/HP12_1197.pickle (deflated 72%)\r\n",
        "freshening: pickle/HP12_1242.pickle (deflated 69%)\r\n",
        "freshening: pickle/HP12_1465.pickle (deflated 69%)\r\n",
        "freshening: pickle/HP12_1658.pickle (deflated 70%)\r\n",
        "freshening: pickle/HP12_0915.pickle (deflated 70%)\r\n",
        "freshening: pickle/HP12_0141.pickle (deflated 69%)\r\n",
        "freshening: pickle/HP12_0766.pickle"
       ]
      },
      {
       "output_type": "stream",
       "stream": "stdout",
       "text": [
        " (deflated 72%)\r\n",
        "freshening: pickle/HP12_0294.pickle (deflated 70%)\r\n",
        "freshening: pickle/HP12_1516.pickle (deflated 69%)\r\n",
        "freshening: pickle/HP12_1331.pickle (deflated 69%)\r\n",
        "freshening: pickle/HP12_0866.pickle (deflated 69%)\r\n",
        "freshening: pickle/HP12_0428.pickle (deflated 69%)\r\n",
        "freshening: pickle/HP12_0615.pickle (deflated 70%)\r\n",
        "freshening: pickle/HP12_0032.pickle (deflated 69%)\r\n",
        "freshening: pickle/HP12_1371.pickle (deflated 70%)\r\n",
        "freshening: pickle/HP12_1556.pickle (deflated 69%)\r\n",
        "freshening: pickle/HP12_1683.pickle (deflated 70%)\r\n",
        "freshening: pickle/HP12_1299.pickle (deflated 70%)\r\n",
        "freshening: pickle/HP12_0826.pickle (deflated 70%)\r\n",
        "freshening: pickle/HP12_0468.pickle (deflated 69%)\r\n",
        "freshening: pickle/HP12_0580.pickle (deflated 69%)\r\n",
        "freshening: pickle/HP12_0072.pickle"
       ]
      },
      {
       "output_type": "stream",
       "stream": "stdout",
       "text": [
        " (deflated 69%)\r\n",
        "freshening: pickle/HP12_0655.pickle (deflated 69%)\r\n",
        "freshening: pickle/HP12_1425.pickle (deflated 70%)\r\n",
        "freshening: pickle/HP12_1202.pickle (deflated 69%)\r\n",
        "freshening: pickle/HP12_1618.pickle (deflated 69%)\r\n",
        "freshening: pickle/HP12_0955.pickle (deflated 69%)\r\n",
        "freshening: pickle/HP12_0726.pickle (deflated 70%)\r\n",
        "freshening: pickle/HP12_0101.pickle (deflated 72%)\r\n",
        "freshening: pickle/HP12_0327.pickle (deflated 70%)\r\n",
        "freshening: pickle/HP12_0500.pickle (deflated 70%)\r\n",
        "freshening: pickle/HP12_1219.pickle (deflated 70%)\r\n",
        "freshening: pickle/HP12_1024.pickle (deflated 69%)\r\n",
        "freshening: pickle/HP12_1603.pickle (deflated 70%)\r\n",
        "freshening: pickle/HP12_0473.pickle (deflated 70%)\r\n",
        "freshening: pickle/HP12_0254.pickle (deflated 69%)\r\n",
        "freshening: pickle/HP12_0181.pickle (deflated 70%)\r\n",
        "freshening: pickle/HP12_0069.pickle"
       ]
      },
      {
       "output_type": "stream",
       "stream": "stdout",
       "text": [
        " (deflated 69%)\r\n",
        "freshening: pickle/HP12_1698.pickle (deflated 70%)\r\n",
        "freshening: pickle/HP12_1282.pickle (deflated 69%)\r\n",
        "freshening: pickle/HP12_1157.pickle (deflated 69%)\r\n",
        "freshening: pickle/HP12_0214.pickle (deflated 69%)\r\n",
        "freshening: pickle/HP12_0433.pickle (deflated 69%)\r\n",
        "freshening: pickle/HP12_0029.pickle (deflated 69%)\r\n",
        "freshening: pickle/HP12_0995.pickle (deflated 69%)\r\n",
        "freshening: pickle/HP12_1117.pickle (deflated 70%)\r\n",
        "freshening: pickle/HP12_0695.pickle (deflated 70%)\r\n",
        "freshening: pickle/HP12_0540.pickle (deflated 69%)\r\n",
        "freshening: pickle/HP12_0367.pickle (deflated 69%)\r\n",
        "freshening: pickle/HP12_1259.pickle (deflated 72%)\r\n",
        "freshening: pickle/HP12_1643.pickle (deflated 69%)\r\n",
        "freshening: pickle/HP12_1064.pickle (deflated 72%)\r\n",
        "freshening: pickle/HP12_1596.pickle"
       ]
      },
      {
       "output_type": "stream",
       "stream": "stdout",
       "text": [
        " (deflated 70%)\r\n"
       ]
      }
     ],
     "prompt_number": 15
    },
    {
     "cell_type": "code",
     "collapsed": false,
     "input": [],
     "language": "python",
     "metadata": {},
     "outputs": []
    }
   ],
   "metadata": {}
  }
 ]
}