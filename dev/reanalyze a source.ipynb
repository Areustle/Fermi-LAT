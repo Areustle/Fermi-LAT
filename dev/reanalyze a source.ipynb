{
 "metadata": {
  "name": "",
  "signature": "sha256:aad63d5c318bea4996e51d1547f51b78d0bf21f6778b19544394e7e5b17c345e"
 },
 "nbformat": 3,
 "nbformat_minor": 0,
 "worksheets": [
  {
   "cells": [
    {
     "cell_type": "markdown",
     "metadata": {},
     "source": [
      "#Reanalyze a source\n"
     ]
    },
    {
     "cell_type": "code",
     "collapsed": false,
     "input": [
      "%matplotlib inline\n",
      "\n",
      "os.chdir(os.path.expandvars('$FERMI/skymodels/P301_6years/uw962'))\n",
      "from uw.like2 import main; reload(main)\n",
      "from uw.like2.analyze import sourceinfo; reload(sourceinfo)"
     ],
     "language": "python",
     "metadata": {},
     "outputs": [
      {
       "ename": "NameError",
       "evalue": "name 'os' is not defined",
       "output_type": "pyerr",
       "traceback": [
        "\u001b[1;31m---------------------------------------------------------------------------\u001b[0m\n\u001b[1;31mNameError\u001b[0m                                 Traceback (most recent call last)",
        "\u001b[1;32m<ipython-input-8-2738287994ae>\u001b[0m in \u001b[0;36m<module>\u001b[1;34m()\u001b[0m\n\u001b[0;32m      1\u001b[0m \u001b[0mget_ipython\u001b[0m\u001b[1;33m(\u001b[0m\u001b[1;33m)\u001b[0m\u001b[1;33m.\u001b[0m\u001b[0mmagic\u001b[0m\u001b[1;33m(\u001b[0m\u001b[1;34mu'matplotlib inline'\u001b[0m\u001b[1;33m)\u001b[0m\u001b[1;33m\u001b[0m\u001b[0m\n\u001b[0;32m      2\u001b[0m \u001b[1;33m\u001b[0m\u001b[0m\n\u001b[1;32m----> 3\u001b[1;33m \u001b[0mos\u001b[0m\u001b[1;33m.\u001b[0m\u001b[0mchdir\u001b[0m\u001b[1;33m(\u001b[0m\u001b[0mos\u001b[0m\u001b[1;33m.\u001b[0m\u001b[0mpath\u001b[0m\u001b[1;33m.\u001b[0m\u001b[0mexpandvars\u001b[0m\u001b[1;33m(\u001b[0m\u001b[1;34m'$FERMI/skymodels/P301_6years/uw962'\u001b[0m\u001b[1;33m)\u001b[0m\u001b[1;33m)\u001b[0m\u001b[1;33m\u001b[0m\u001b[0m\n\u001b[0m\u001b[0;32m      4\u001b[0m \u001b[1;32mfrom\u001b[0m \u001b[0muw\u001b[0m\u001b[1;33m.\u001b[0m\u001b[0mlike2\u001b[0m \u001b[1;32mimport\u001b[0m \u001b[0mmain\u001b[0m\u001b[1;33m;\u001b[0m \u001b[0mreload\u001b[0m\u001b[1;33m(\u001b[0m\u001b[0mmain\u001b[0m\u001b[1;33m)\u001b[0m\u001b[1;33m\u001b[0m\u001b[0m\n\u001b[0;32m      5\u001b[0m \u001b[1;32mfrom\u001b[0m \u001b[0muw\u001b[0m\u001b[1;33m.\u001b[0m\u001b[0mlike2\u001b[0m\u001b[1;33m.\u001b[0m\u001b[0manalyze\u001b[0m \u001b[1;32mimport\u001b[0m \u001b[0msourceinfo\u001b[0m\u001b[1;33m;\u001b[0m \u001b[0mreload\u001b[0m\u001b[1;33m(\u001b[0m\u001b[0msourceinfo\u001b[0m\u001b[1;33m)\u001b[0m\u001b[1;33m\u001b[0m\u001b[0m\n",
        "\u001b[1;31mNameError\u001b[0m: name 'os' is not defined"
       ]
      }
     ],
     "prompt_number": 8
    },
    {
     "cell_type": "markdown",
     "metadata": {},
     "source": [
      "##Look up the source in the model\n",
      "Especially need to know which ROI it is in"
     ]
    },
    {
     "cell_type": "code",
     "collapsed": false,
     "input": [
      "self = sourceinfo.SourceInfo()"
     ],
     "language": "python",
     "metadata": {},
     "outputs": [
      {
       "output_type": "stream",
       "stream": "stdout",
       "text": [
        "loading sources.pickle\n"
       ]
      }
     ],
     "prompt_number": 3
    },
    {
     "cell_type": "code",
     "collapsed": false,
     "input": [
      "name = 'PSR J1739-3023'\n",
      "entry = self.df.ix[name]\n",
      "entry['ra dec glat glon roiname'.split()]"
     ],
     "language": "python",
     "metadata": {},
     "outputs": [
      {
       "metadata": {},
       "output_type": "pyout",
       "prompt_number": 9,
       "text": [
        "ra          264.9036\n",
        "dec        -30.23537\n",
        "glat       0.4256502\n",
        "glon        358.2085\n",
        "roiname    HP12_0887\n",
        "Name: PSR J1739-3023, dtype: object"
       ]
      }
     ],
     "prompt_number": 9
    },
    {
     "cell_type": "code",
     "collapsed": false,
     "input": [
      "roi_number = int(entry['roiname'][-4:])\n",
      "print 'loading data for ROI # %d' % roi_number\n",
      "r = main.ROI('.', roi_number)\n",
      "r.print_summary()"
     ],
     "language": "python",
     "metadata": {},
     "outputs": [
      {
       "output_type": "stream",
       "stream": "stdout",
       "text": [
        "loading data for ROI # 887\n",
        "FT file(s) \"/afs/slac/g/glast/groups/catalog//pointlike/fermi/data/../../P8_P301/Source/P301_*.fits\" not found: assume None to test for valid binfile\n",
        "Failed gti check:\n",
        "  ltcube: Gti: 37884 intervals from 239557417 to 428689918, on time 150902856 \n",
        " binfile: Gti: 38437 intervals from 239557417 to 428689918, on time 150881091"
       ]
      },
      {
       "output_type": "stream",
       "stream": "stdout",
       "text": [
        "\n",
        "155 total sources: 3 extended, 3 global"
       ]
      },
      {
       "output_type": "stream",
       "stream": "stdout",
       "text": [
        "\n",
        "------------------------------------------------------------------------------------------"
       ]
      },
      {
       "output_type": "stream",
       "stream": "stdout",
       "text": [
        " \n",
        "\t Nearby sources within 5.0 degrees HP12_0887\n",
        "name               dist        ra       dec        TS eflux(eV)    index   energy   beta/b\n",
        "P7R42686            0.2   264.363   -32.180         7       7.5*    2.62*    3835     0"
       ]
      },
      {
       "output_type": "stream",
       "stream": "stdout",
       "text": [
        "\n",
        "PSR J1732-3131      1.0   263.142   -31.515      7607     101.3!    0.94*    2226!    1"
       ]
      },
      {
       "output_type": "stream",
       "stream": "stdout",
       "text": [
        "\n",
        "P7R42692G           1.3   265.360   -31.356        50      14.4*    2.47!    2751     0"
       ]
      },
      {
       "output_type": "stream",
       "stream": "stdout",
       "text": [
        "\n",
        "P7R42696            1.6   265.263   -30.849       136      13.0*    2.62*    1608     0.69*"
       ]
      },
      {
       "output_type": "stream",
       "stream": "stdout",
       "text": [
        "\n",
        "P7R42708            1.8   265.584   -33.347       273      14.4*    2.23*    1129     0.37*"
       ]
      },
      {
       "output_type": "stream",
       "stream": "stdout",
       "text": [
        "\n",
        "PSR J1739-3023      2.0   264.904   -30.235        45       6.7*    1.55*    2000     1"
       ]
      },
      {
       "output_type": "stream",
       "stream": "stdout",
       "text": [
        "\n",
        "PSR J1730-3350      2.1   262.640   -33.840         0       0.2*    1.50     2000     1"
       ]
      },
      {
       "output_type": "stream",
       "stream": "stdout",
       "text": [
        "\n",
        "P7R42683G           2.3   264.060   -34.377        61      11.8*    2.43!    2260     0"
       ]
      },
      {
       "output_type": "stream",
       "stream": "stdout",
       "text": [
        "\n",
        "PSR J1746-3239      2.3   266.729   -32.661      1429      37.7*    1.59*    2426*    1"
       ]
      },
      {
       "output_type": "stream",
       "stream": "stdout",
       "text": [
        "\n",
        "P7R42669            2.3   262.942   -30.038       105      11.3*    2.27!    3075     0"
       ]
      },
      {
       "output_type": "stream",
       "stream": "stdout",
       "text": [
        "\n",
        "P7R42712I           2.4   266.212   -30.582        87      21.8*    2.45!    2857     0"
       ]
      },
      {
       "output_type": "stream",
       "stream": "stdout",
       "text": [
        "\n",
        "P7R42714A           2.7   266.251   -30.203       208      52.4*    2.66!    1602     0"
       ]
      },
      {
       "output_type": "stream",
       "stream": "stdout",
       "text": [
        "\n",
        "P7R42678            2.8   263.621   -29.355                21.8     2.63     1338     0\n",
        "P7R42739            2.8   267.411   -31.746                 6.4     2.44     1259     0.41 \n",
        "P7R42633H           3.1   260.466   -32.076                 7.4     2.52     2017     0\n",
        "PSR J1747-2958      3.2   266.812   -29.983               131.3     2.00     3467     1"
       ]
      },
      {
       "output_type": "stream",
       "stream": "stdout",
       "text": [
        "\n",
        "P7R42717            3.4   266.125   -29.171       459      41.5!    2.33!    1262     0.60*"
       ]
      },
      {
       "output_type": "stream",
       "stream": "stdout",
       "text": [
        "\n",
        "P7R42693            3.5   265.131   -28.726                46.7     2.72     1093     0\n",
        "P7R42735            3.7   266.404   -29.011               169.7     1.94     1720     0.24 \n",
        "P7R42726            3.7   266.687   -35.155                16.1     2.95      875     0"
       ]
      },
      {
       "output_type": "stream",
       "stream": "stdout",
       "text": [
        "\n",
        "P7R42747G           3.8   268.381   -33.370                11.6     2.85     1039     0\n",
        "P7R42672Q           3.9   263.457   -28.303                17.2     2.69     1655     0\n",
        "P7R42722            3.9   266.586   -28.874               192.9     2.39     1342     0.17 "
       ]
      },
      {
       "output_type": "stream",
       "stream": "stdout",
       "text": [
        "\n",
        "P7R42738G           3.9   267.297   -29.294                36.5     2.71     1668     0\n",
        "P7R42677            3.9   264.404   -28.183                 8.3     3.28     1170     1.54 \n",
        "P7R42737A           4.0   267.040   -29.060                57.7     2.56     2170     0\n",
        "P7R42650            4.0   261.608   -35.591                24.1     2.54     1005     0.18 "
       ]
      },
      {
       "output_type": "stream",
       "stream": "stdout",
       "text": [
        "\n",
        "P7R42623            4.1   259.519   -30.959                 7.1     2.39     2518     0\n",
        "P7R42661P           4.2   262.345   -36.083                15.5     2.73     1623     0\n",
        "P7R42620            4.2   259.427   -33.715                35.6     2.62     1040     0.05 \n",
        "P7R42728            4.3   266.776   -28.448                57.0     2.44     1477     0.43 "
       ]
      },
      {
       "output_type": "stream",
       "stream": "stdout",
       "text": [
        "\n",
        "P7R42635GP          4.4   260.744   -28.751                11.6     3.21      636     0\n",
        "P7R42756G           4.5   269.393   -31.479                 8.7     2.67     1464     0\n",
        "P7R42746            4.6   268.578   -29.534                13.3     2.28     1034     0.56 \n",
        "P7R42734            4.7   267.123   -28.259                24.9     1.90     2570     0.59 "
       ]
      },
      {
       "output_type": "stream",
       "stream": "stdout",
       "text": [
        "\n",
        "P7R42691            4.7   265.167   -27.503                13.1     2.66     1165     0.59 \n",
        "P7R42607            4.7   258.720   -33.443                 9.5     2.41     2332     0\n",
        "P7R42670            4.9   262.988   -27.288                15.3     2.54     1692     0"
       ]
      },
      {
       "output_type": "stream",
       "stream": "stdout",
       "text": [
        "\n",
        "------------------------------------------------------------------------------------------ \n",
        "\tDiffuse sources\n",
        "------------------------------------------------------------------------------------------\n",
        "ring                        1.00       0.00 \n",
        "isotrop                     0.69*\n",
        "SunMoon                     1.00 \n",
        "------------------------------------------------------------------------------------------\n"
       ]
      },
      {
       "output_type": "stream",
       "stream": "stderr",
       "text": [
        "/afs/slac/g/glast/groups/catalog/python/anaconda/lib/python2.7/site-packages/numpy/core/_methods.py:55: RuntimeWarning: Mean of empty slice.\n",
        "  warnings.warn(\"Mean of empty slice.\", RuntimeWarning)\n"
       ]
      }
     ],
     "prompt_number": 14
    },
    {
     "cell_type": "markdown",
     "metadata": {},
     "source": [
      "###Look up the source in the list for the ROI\n",
      "Print info, check the fit by refitting it only, then recheck localization"
     ]
    },
    {
     "cell_type": "code",
     "collapsed": false,
     "input": [
      "s = r.sources.find_source(name); s"
     ],
     "language": "python",
     "metadata": {},
     "outputs": [
      {
       "metadata": {},
       "output_type": "pyout",
       "prompt_number": 15,
       "text": [
        "uw.like2.sources.PointSource: \n",
        "\tname  : PSR J1739-3023\n",
        "\tskydir: SkyDir(264.904,-30.235)\n",
        "\tmodel : PLSuperExpCutoff\n",
        "\t\tNorm      : (1 + 0.601 - 0.376) (avg = 0.475) 3.49e-12   \n",
        "\t\tIndex     : (1 + 0.277 - 0.277) (avg = 0.277) 1.55       \n",
        "\t\tCutoff    : (1 + 0.000 - 0.000) (avg = 0.000) 2e+03      (FROZEN)\n",
        "\t\tb         : (1 + 0.000 - 0.000) (avg = 0.000) 1          (FROZEN)\n",
        "\t\tPh. Flux  : (1 + 1.372 - 0.578) (avg = 0.891) 1.53e-08   (DERIVED)\n",
        "\t\tEn. Flux  : (1 + 0.725 - 0.420) (avg = 0.552) 1.07e-11   (DERIVED)"
       ]
      }
     ],
     "prompt_number": 15
    },
    {
     "cell_type": "code",
     "collapsed": false,
     "input": [
      "r.fit(name)"
     ],
     "language": "python",
     "metadata": {},
     "outputs": [
      {
       "output_type": "stream",
       "stream": "stdout",
       "text": [
        "6 calls, function value, improvement, quality: 1185954.1, 3.21, 0.07\n",
        "Name                  index     value  error(%)  gradient\n",
        "PSR J1739-3023_Norm      16  5.51e-12      25.1       4.2\n",
        "              _Index     17     1.468      18.7      -2.3\n"
       ]
      }
     ],
     "prompt_number": 16
    },
    {
     "cell_type": "code",
     "collapsed": false,
     "input": [
      "r.localize()"
     ],
     "language": "python",
     "metadata": {},
     "outputs": [
      {
       "output_type": "stream",
       "stream": "stdout",
       "text": [
        "Localizing source PSR J1739-3023, tolerance=1.0e-04...\n",
        "\t     moved     delta        ra       dec         a         b      qual\n",
        "\t    0.0000    0.0000  264.9036  -30.2354\n",
        "\t    0.0039    0.0039  264.9069  -30.2327    0.0243    0.0210    8.8634\n",
        "\t    0.0038    0.0019  264.9055  -30.2363    0.0359    0.0275    0.9932"
       ]
      },
      {
       "output_type": "stream",
       "stream": "stdout",
       "text": [
        "\n",
        "\t    0.0003    0.0017  264.9052  -30.2365    0.0370    0.0283    0.4958"
       ]
      },
      {
       "output_type": "stream",
       "stream": "stdout",
       "text": [
        "\n",
        "\t    0.0001    0.0017  264.9051  -30.2365    0.0371    0.0284    0.5181"
       ]
      },
      {
       "output_type": "stream",
       "stream": "stdout",
       "text": [
        "\n",
        "TS change: 0.00"
       ]
      },
      {
       "output_type": "stream",
       "stream": "stdout",
       "text": [
        "\n"
       ]
      }
     ],
     "prompt_number": 18
    },
    {
     "cell_type": "markdown",
     "metadata": {},
     "source": [
      "###Finally, generate the plots for it"
     ]
    },
    {
     "cell_type": "code",
     "collapsed": false,
     "input": [
      "r.plot_sed();r.plot_tsmap();"
     ],
     "language": "python",
     "metadata": {},
     "outputs": [
      {
       "output_type": "stream",
       "stream": "stdout",
       "text": [
        "TSplot: filling 225 pixels (size=0.56, npix=15)...\n"
       ]
      },
      {
       "metadata": {},
       "output_type": "display_data",
       "png": "[encoded data removed]",
       "text": [
        "<matplotlib.figure.Figure at 0x7fbe65b2b890>"
       ]
      },
      {
       "metadata": {},
       "output_type": "display_data",
       "png": "[encoded data removed]",
       "text": [
        "<matplotlib.figure.Figure at 0x7fbe657d7410>"
       ]
      }
     ],
     "prompt_number": 19
    },
    {
     "cell_type": "markdown",
     "metadata": {},
     "source": [
      "###Write out the XML representation of this source"
     ]
    },
    {
     "cell_type": "code",
     "collapsed": false,
     "input": [
      "from uw.like2 import to_xml\n",
      "from uw.utilities import xml_parsers\n",
      "filename = name.replace(' ','_').replace('+', 'p') + '.xml'\n",
      "with open(filename, 'w') as stream:\n",
      "    to_xml.Element.stream = stream\n",
      "    with to_xml.Element('source', type='PointSource', name=name) as src:\n",
      "        m2x = xml_parsers.Model_to_XML(strict=True)\n",
      "        m2x.process_model(s.model)\n",
      "        src.text(m2x.getXML(tablevel=0))\n",
      "        src.text(xml_parsers.makePSSpatialModel(s.skydir, tablevel=0))"
     ],
     "language": "python",
     "metadata": {},
     "outputs": [],
     "prompt_number": 54
    },
    {
     "cell_type": "code",
     "collapsed": false,
     "input": [
      "!cat $filename"
     ],
     "language": "python",
     "metadata": {},
     "outputs": [
      {
       "output_type": "stream",
       "stream": "stdout",
       "text": [
        "<source name=\"PSR J1739-3023\" type=\"PointSource\">\r\n",
        "  <spectrum  type=\"PLSuperExpCutoff\">\r\n",
        "  \t<parameter name=\"Prefactor\" value=\"0.550963794036\" error=\"0.138026895141\" free=\"1\" max=\"100.0\" min=\"0.01\" scale=\"1e-11\" />\r\n",
        "  \t<parameter name=\"Index1\" value=\"1.46796630887\" error=\"0.274414075898\" free=\"1\" max=\"5\" min=\"0\" scale=\"-1\" />\r\n",
        "  \t<parameter name=\"Cutoff\" value=\"2.0\" free=\"0\" max=\"100.0\" min=\"0.01\" scale=\"1000.0\" />\r\n",
        "  \t<parameter name=\"Index2\" value=\"1.0\" free=\"0\" max=\"5\" min=\"-5\" scale=\"1\" />\r\n",
        "  \t<parameter name=\"Scale\" value=\"1000.0\" free=\"0\" max=\"1000.0\" min=\"1000.0\" scale=\"1\" />\r\n",
        "  </spectrum>\r\n",
        "  <spatialModel type=\"SkyDirFunction\">\r\n",
        "  \t<parameter name=\"RA\"  value=\"264.903625643\" free=\"0\" max=\"360.0\" min=\"-360.0\" scale=\"1.0\" />\r\n",
        "  \t<parameter name=\"DEC\" value=\"-30.2353662552\" free=\"0\" max=\"90\" min=\"-90\" scale=\"1.0\" />\r\n",
        "  </spatialModel>\r\n",
        "</source>\r\n"
       ]
      }
     ],
     "prompt_number": 55
    },
    {
     "cell_type": "code",
     "collapsed": false,
     "input": [],
     "language": "python",
     "metadata": {},
     "outputs": []
    }
   ],
   "metadata": {}
  }
 ]
}