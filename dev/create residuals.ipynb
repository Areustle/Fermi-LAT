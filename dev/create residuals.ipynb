{
 "metadata": {
  "name": "",
  "signature": "sha256:890ba988c943008ee8d09864a8753d3bfa5944177b2fcb9bbd27de5881d8b4b5"
 },
 "nbformat": 3,
 "nbformat_minor": 0,
 "worksheets": [
  {
   "cells": [
    {
     "cell_type": "markdown",
     "metadata": {},
     "source": [
      "#Create Residuals for an ROI"
     ]
    },
    {
     "cell_type": "code",
     "collapsed": false,
     "input": [
      "%matplotlib inline\n",
      "os.chdir(os.path.expandvars('$FERMI/skymodels/P301_5years/uw909' )) #P301_5years/uw908'))\n",
      "from uw.like2 import main; reload(main)"
     ],
     "language": "python",
     "metadata": {},
     "outputs": [
      {
       "metadata": {},
       "output_type": "pyout",
       "prompt_number": 1,
       "text": [
        "<module 'uw.like2.main' from '/afs/slac/g/glast/groups/catalog/pointlike/python/uw/like2/main.pyc'>"
       ]
      }
     ],
     "prompt_number": 1
    },
    {
     "cell_type": "code",
     "collapsed": false,
     "input": [
      "r = main.ROI('.', 888)"
     ],
     "language": "python",
     "metadata": {},
     "outputs": [
      {
       "output_type": "stream",
       "stream": "stdout",
       "text": [
        "FT file(s) \"/afs/slac/g/glast/groups/catalog//pointlike/fermi/data/../../P8_P301/Source/P301_*.fits\" not found: assume None to test for valid binfile\n",
        "151 total sources: 3 extended, 3 global"
       ]
      },
      {
       "output_type": "stream",
       "stream": "stdout",
       "text": [
        "\n"
       ]
      },
      {
       "output_type": "stream",
       "stream": "stderr",
       "text": [
        "/afs/slac/g/glast/groups/catalog/python/anaconda/lib/python2.7/site-packages/numpy/core/_methods.py:55: RuntimeWarning: Mean of empty slice.\n",
        "  warnings.warn(\"Mean of empty slice.\", RuntimeWarning)\n"
       ]
      }
     ],
     "prompt_number": 2
    },
    {
     "cell_type": "code",
     "collapsed": false,
     "input": [
      "from uw.like2 import sedfuns; reload(sedfuns)\n",
      "tb = sedfuns.norm_table(r, 'ring', tol=0.3); tb"
     ],
     "language": "python",
     "metadata": {},
     "outputs": [
      {
       "html": [
        "<div style=\"max-height:1000px;max-width:1500px;overflow:auto;\">\n",
        "<table border=\"1\" class=\"dataframe\">\n",
        "  <thead>\n",
        "    <tr style=\"text-align: right;\">\n",
        "      <th></th>\n",
        "      <th>maxl</th>\n",
        "      <th>lower</th>\n",
        "      <th>upper</th>\n",
        "      <th>ts</th>\n",
        "      <th>pull</th>\n",
        "      <th>err</th>\n",
        "    </tr>\n",
        "  </thead>\n",
        "  <tbody>\n",
        "    <tr>\n",
        "      <th>133   </th>\n",
        "      <td> 0.981250</td>\n",
        "      <td> 0.967235</td>\n",
        "      <td> 0.995331</td>\n",
        "      <td>   7465.040152</td>\n",
        "      <td>-1.339599</td>\n",
        "      <td> 0.006025</td>\n",
        "    </tr>\n",
        "    <tr>\n",
        "      <th>237   </th>\n",
        "      <td> 0.987500</td>\n",
        "      <td> 0.979419</td>\n",
        "      <td> 0.995603</td>\n",
        "      <td>  23182.026958</td>\n",
        "      <td>-1.605274</td>\n",
        "      <td> 0.035275</td>\n",
        "    </tr>\n",
        "    <tr>\n",
        "      <th>421   </th>\n",
        "      <td> 0.992188</td>\n",
        "      <td> 0.987490</td>\n",
        "      <td> 0.996899</td>\n",
        "      <td> 393119.598486</td>\n",
        "      <td>-1.519986</td>\n",
        "      <td> 0.086202</td>\n",
        "    </tr>\n",
        "    <tr>\n",
        "      <th>749   </th>\n",
        "      <td> 0.995313</td>\n",
        "      <td> 0.992250</td>\n",
        "      <td> 0.998380</td>\n",
        "      <td> 248071.691651</td>\n",
        "      <td>-1.627476</td>\n",
        "      <td> 0.057993</td>\n",
        "    </tr>\n",
        "    <tr>\n",
        "      <th>1333  </th>\n",
        "      <td> 0.998828</td>\n",
        "      <td> 0.995483</td>\n",
        "      <td> 1.002179</td>\n",
        "      <td> 185229.440295</td>\n",
        "      <td>-0.402126</td>\n",
        "      <td> 0.037806</td>\n",
        "    </tr>\n",
        "    <tr>\n",
        "      <th>2371  </th>\n",
        "      <td> 0.996875</td>\n",
        "      <td> 0.992159</td>\n",
        "      <td> 1.001606</td>\n",
        "      <td> 403065.063998</td>\n",
        "      <td> 0.478070</td>\n",
        "      <td> 0.094282</td>\n",
        "    </tr>\n",
        "    <tr>\n",
        "      <th>4216  </th>\n",
        "      <td> 0.996875</td>\n",
        "      <td> 0.990009</td>\n",
        "      <td> 1.003772</td>\n",
        "      <td> 138041.137237</td>\n",
        "      <td> 0.393751</td>\n",
        "      <td> 0.033990</td>\n",
        "    </tr>\n",
        "    <tr>\n",
        "      <th>7498  </th>\n",
        "      <td> 1.006250</td>\n",
        "      <td> 0.994994</td>\n",
        "      <td> 1.017528</td>\n",
        "      <td>   9683.872212</td>\n",
        "      <td> 0.018774</td>\n",
        "      <td> 0.172182</td>\n",
        "    </tr>\n",
        "    <tr>\n",
        "      <th>13335 </th>\n",
        "      <td> 0.978125</td>\n",
        "      <td> 0.961424</td>\n",
        "      <td> 0.995018</td>\n",
        "      <td>  41967.969458</td>\n",
        "      <td> 1.240295</td>\n",
        "      <td> 0.032357</td>\n",
        "    </tr>\n",
        "    <tr>\n",
        "      <th>23713 </th>\n",
        "      <td> 0.937500</td>\n",
        "      <td> 0.912102</td>\n",
        "      <td> 0.963365</td>\n",
        "      <td>  32815.176003</td>\n",
        "      <td> 2.290784</td>\n",
        "      <td> 0.065317</td>\n",
        "    </tr>\n",
        "    <tr>\n",
        "      <th>42169 </th>\n",
        "      <td> 0.993750</td>\n",
        "      <td> 0.954085</td>\n",
        "      <td> 1.034042</td>\n",
        "      <td>   1063.989454</td>\n",
        "      <td> 0.186252</td>\n",
        "      <td> 0.017623</td>\n",
        "    </tr>\n",
        "    <tr>\n",
        "      <th>74989 </th>\n",
        "      <td> 0.875000</td>\n",
        "      <td> 0.820917</td>\n",
        "      <td> 0.931408</td>\n",
        "      <td>   9381.116314</td>\n",
        "      <td> 2.115270</td>\n",
        "      <td> 0.032347</td>\n",
        "    </tr>\n",
        "    <tr>\n",
        "      <th>133352</th>\n",
        "      <td> 1.062500</td>\n",
        "      <td> 0.977479</td>\n",
        "      <td> 1.152314</td>\n",
        "      <td>   3423.893738</td>\n",
        "      <td> 0.739342</td>\n",
        "      <td> 0.005636</td>\n",
        "    </tr>\n",
        "    <tr>\n",
        "      <th>237137</th>\n",
        "      <td> 0.837500</td>\n",
        "      <td> 0.729450</td>\n",
        "      <td> 0.954685</td>\n",
        "      <td>    196.461189</td>\n",
        "      <td> 1.377709</td>\n",
        "      <td> 0.009333</td>\n",
        "    </tr>\n",
        "  </tbody>\n",
        "</table>\n",
        "</div>"
       ],
       "metadata": {},
       "output_type": "pyout",
       "prompt_number": 3,
       "text": [
        "            maxl     lower     upper             ts      pull       err\n",
        "133     0.981250  0.967235  0.995331    7465.040152 -1.339599  0.006025\n",
        "237     0.987500  0.979419  0.995603   23182.026958 -1.605274  0.035275\n",
        "421     0.992188  0.987490  0.996899  393119.598486 -1.519986  0.086202\n",
        "749     0.995313  0.992250  0.998380  248071.691651 -1.627476  0.057993\n",
        "1333    0.998828  0.995483  1.002179  185229.440295 -0.402126  0.037806\n",
        "2371    0.996875  0.992159  1.001606  403065.063998  0.478070  0.094282\n",
        "4216    0.996875  0.990009  1.003772  138041.137237  0.393751  0.033990\n",
        "7498    1.006250  0.994994  1.017528    9683.872212  0.018774  0.172182\n",
        "13335   0.978125  0.961424  0.995018   41967.969458  1.240295  0.032357\n",
        "23713   0.937500  0.912102  0.963365   32815.176003  2.290784  0.065317\n",
        "42169   0.993750  0.954085  1.034042    1063.989454  0.186252  0.017623\n",
        "74989   0.875000  0.820917  0.931408    9381.116314  2.115270  0.032347\n",
        "133352  1.062500  0.977479  1.152314    3423.893738  0.739342  0.005636\n",
        "237137  0.837500  0.729450  0.954685     196.461189  1.377709  0.009333"
       ]
      }
     ],
     "prompt_number": 3
    },
    {
     "cell_type": "code",
     "collapsed": false,
     "input": [
      "from skymaps import SkyDir\n",
      "def rot(dr):\n",
      "    \"\"\"dr : a DiffuseResponse object\"\"\"\n",
      "    band =dr.band\n",
      "    skydirs = [SkyDir(w.dir()) for w in band.wsdl]\n",
      "    grid = dr.grid\n",
      "    latlon = np.array([list(grid.rot_lon_lat(s.l(),s.b())) for s in skydirs])\n",
      "    x = latlon[:,0]\n",
      "    y = latlon[:,1]\n",
      "    x[x>180]-= 360    \n",
      "    return x,y\n",
      "t = r[0][0]; print t\n",
      "x,y = rot(t)\n",
      "fig,ax = plt.subplots(figsize=(5,4))\n",
      "c=t.pix_counts #pixel_values\n",
      "scat=ax.scatter(x,y,s=170,c=c, marker='D', edgecolor='none');\n",
      "cb=ax.figure.colorbar(scat, ax=ax)"
     ],
     "language": "python",
     "metadata": {},
     "outputs": [
      {
       "output_type": "stream",
       "stream": "stdout",
       "text": [
        "uw.like2.response.CachedDiffuseResponse: ROI at SkyDir(269.561,-30.559) source \"ring\" at None\n"
       ]
      },
      {
       "metadata": {},
       "output_type": "display_data",
       "png": "[encoded data removed]",
       "text": [
        "<matplotlib.figure.Figure at 0x7f2ed2646090>"
       ]
      }
     ],
     "prompt_number": 4
    },
    {
     "cell_type": "code",
     "collapsed": false,
     "input": [
      "from skymaps import SkyDir\n",
      "def rot(dr):\n",
      "    \"\"\"dr : a DiffuseResponse object\"\"\"\n",
      "    band =dr.band\n",
      "    skydirs = [SkyDir(w.dir()) for w in band.wsdl]\n",
      "    grid = dr.grid\n",
      "    latlon = np.array([list(grid.rot_lon_lat(s.l(),s.b())) for s in skydirs])\n",
      "    x = latlon[:,0]\n",
      "    y = latlon[:,1]\n",
      "    x[x>180]-= 360    \n",
      "    return x,y\n",
      "t = r[0][0]; print t\n",
      "x,y = rot(t)\n",
      "fig,ax = plt.subplots(figsize=(5,4))\n",
      "c=t.pix_counts #pixel_values\n",
      "scat=ax.scatter(x,y,s=170,c=c, marker='D', edgecolor='none');\n",
      "cb=ax.figure.colorbar(scat, ax=ax)"
     ],
     "language": "python",
     "metadata": {},
     "outputs": [
      {
       "output_type": "stream",
       "stream": "stdout",
       "text": [
        "uw.like2.response.CachedDiffuseResponse: ROI at SkyDir(269.561,-30.559) source \"ring\" at None\n"
       ]
      },
      {
       "metadata": {},
       "output_type": "display_data",
       "png": "[encoded data removed]",
       "text": [
        "<matplotlib.figure.Figure at 0x7feb6d98da10>"
       ]
      }
     ],
     "prompt_number": 5
    },
    {
     "cell_type": "code",
     "collapsed": false,
     "input": [
      "c.mean()"
     ],
     "language": "python",
     "metadata": {},
     "outputs": [
      {
       "metadata": {},
       "output_type": "pyout",
       "prompt_number": 5,
       "text": [
        "662.9239560984704"
       ]
      }
     ],
     "prompt_number": 5
    },
    {
     "cell_type": "code",
     "collapsed": false,
     "input": [
      "bl=r[0]\n",
      "bl.log_like()"
     ],
     "language": "python",
     "metadata": {},
     "outputs": [
      {
       "metadata": {},
       "output_type": "pyout",
       "prompt_number": 6,
       "text": [
        "46397.040875389794"
       ]
      }
     ],
     "prompt_number": 6
    },
    {
     "cell_type": "markdown",
     "metadata": {},
     "source": [
      "#Now look at the BandLike object"
     ]
    },
    {
     "cell_type": "code",
     "collapsed": false,
     "input": [
      "bl"
     ],
     "language": "python",
     "metadata": {},
     "outputs": [
      {
       "metadata": {},
       "output_type": "pyout",
       "prompt_number": 8,
       "text": [
        "uw.like2.bandlike.BandLike: 151 models (12 free) applied to band 100-178, front with 173 pixels, 165468 photons"
       ]
      }
     ],
     "prompt_number": 8
    },
    {
     "cell_type": "code",
     "collapsed": false,
     "input": [
      "bl.free_sources, r.summarize()"
     ],
     "language": "python",
     "metadata": {},
     "outputs": [
      {
       "output_type": "stream",
       "stream": "stdout",
       "text": [
        "Failed log likelihood estimate, returning 99.: \n",
        "current likelihood, est. diff to peak: 964768.3, 99.00\n",
        "Name                  index     value  error(%)  gradient\n",
        "isotrop_Scale             0    0.9293      10.7      12.0\n",
        "P7R42735_Norm             1 1.323e-11       3.4     -48.2\n",
        "        _Index            2     1.921       2.3      -6.3\n",
        "        _beta             3    0.2352      12.0      27.9\n",
        "PSR J1747-2958_Norm       4 4.106e-11       7.8     -29.7\n",
        "              _Index      5      1.97       4.9       2.5\n",
        "              _Cutoff     6      3302      17.4     -12.7\n",
        "P7R42737A_Norm            7 1.268e-12      11.6      -4.9\n",
        "         _Index           8     2.549       3.2       1.0\n",
        "P7R42738G_Norm            9 1.382e-12      16.1       0.1\n",
        "         _Index          10     2.699       4.1       1.0\n",
        "P7R42771_Norm            11 6.624e-14      22.5       0.1\n",
        "        _Index           12     2.046       8.0       0.3\n",
        "P7R42739_Norm            13 1.533e-12      23.5       0.2\n",
        "        _Index           14     2.432      17.6       1.1\n",
        "        _beta            15    0.4199      94.9       6.8\n",
        "P7R42747G_Norm           16 1.583e-12      21.9       1.6\n",
        "         _Index          17     2.836       7.5       0.4\n",
        "P7R42757_Norm            18 1.424e-12      23.4       1.2\n",
        "        _Index           19     2.852       7.1       0.9\n",
        "P7R42746_Norm            20  5.07e-12      12.9      -0.8\n",
        "        _Index           21     2.313      11.0       0.5\n",
        "        _beta            22    0.5839      41.5       2.1\n",
        "P7R42756G_Norm           23 6.219e-13      24.1       0.7\n",
        "         _Index          24     2.666       8.1       0.8\n"
       ]
      },
      {
       "metadata": {},
       "output_type": "pyout",
       "prompt_number": 10,
       "text": [
        "(array([ uw.like2.response.CachedDiffuseResponse: ROI at SkyDir(269.561,-30.559) source \"ring\" at None,\n",
        "        uw.like2.response.IsotropicResponse: ROI at SkyDir(269.561,-30.559) source \"isotrop\" at None,\n",
        "        uw.like2.response.PointResponse: ROI at SkyDir(269.561,-30.559) source \"P7R42735\" at SkyDir(266.402,-29.008),\n",
        "        uw.like2.response.PointResponse: ROI at SkyDir(269.561,-30.559) source \"PSR J1747-2958\" at SkyDir(266.808,-29.980),\n",
        "        uw.like2.response.PointResponse: ROI at SkyDir(269.561,-30.559) source \"P7R42737A\" at SkyDir(267.048,-29.075),\n",
        "        uw.like2.response.PointResponse: ROI at SkyDir(269.561,-30.559) source \"P7R42738G\" at SkyDir(267.350,-29.311),\n",
        "        uw.like2.response.PointResponse: ROI at SkyDir(269.561,-30.559) source \"P7R42771\" at SkyDir(270.562,-30.719),\n",
        "        uw.like2.response.PointResponse: ROI at SkyDir(269.561,-30.559) source \"P7R42739\" at SkyDir(267.420,-31.735),\n",
        "        uw.like2.response.PointResponse: ROI at SkyDir(269.561,-30.559) source \"P7R42747G\" at SkyDir(268.313,-33.389),\n",
        "        uw.like2.response.PointResponse: ROI at SkyDir(269.561,-30.559) source \"P7R42757\" at SkyDir(269.939,-29.863),\n",
        "        uw.like2.response.PointResponse: ROI at SkyDir(269.561,-30.559) source \"P7R42746\" at SkyDir(268.572,-29.539),\n",
        "        uw.like2.response.PointResponse: ROI at SkyDir(269.561,-30.559) source \"P7R42756G\" at SkyDir(269.408,-31.491)], dtype=object),\n",
        " None)"
       ]
      }
     ],
     "prompt_number": 10
    },
    {
     "cell_type": "code",
     "collapsed": false,
     "input": [
      "bl[0].source.free, bl.free_sources[0]"
     ],
     "language": "python",
     "metadata": {},
     "outputs": [
      {
       "metadata": {},
       "output_type": "pyout",
       "prompt_number": 14,
       "text": [
        "(array([False, False], dtype=bool),\n",
        " uw.like2.response.CachedDiffuseResponse: ROI at SkyDir(269.561,-30.559) source \"ring\" at None)"
       ]
      }
     ],
     "prompt_number": 14
    },
    {
     "cell_type": "code",
     "collapsed": false,
     "input": [
      "# check that an update does nothing\n",
      "bl.update(); print bl.log_like()"
     ],
     "language": "python",
     "metadata": {},
     "outputs": [
      {
       "output_type": "stream",
       "stream": "stdout",
       "text": [
        "46397.1216982\n"
       ]
      }
     ],
     "prompt_number": 16
    },
    {
     "cell_type": "code",
     "collapsed": false,
     "input": [
      "# ring is in the free sources, don't know why, doesn't hurt anything, I think\n",
      "ring = bl[0].source; print ring, ring.free, ring.changed"
     ],
     "language": "python",
     "metadata": {},
     "outputs": [
      {
       "output_type": "stream",
       "stream": "stdout",
       "text": [
        "\tname  : ring\n",
        "\tskydir: None\n",
        "\tmodel : PowerLaw\n",
        "\t\tNorm      : (1 + 0.003 - 0.003) (avg = 0.003) 1          (FROZEN)\n",
        "\t\tIndex     : (1 + 0.000 - 0.000) (avg = 0.000) 0.001      (FROZEN) [False False] True\n"
       ]
      }
     ],
     "prompt_number": 19
    },
    {
     "cell_type": "code",
     "collapsed": false,
     "input": [
      "#now try a reset\n",
      "ring.changed=True\n",
      "bl.update(reset=True); print bl.log_like(), ring.changed"
     ],
     "language": "python",
     "metadata": {},
     "outputs": [
      {
       "output_type": "stream",
       "stream": "stdout",
       "text": [
        "46397.1216982\n"
       ]
      }
     ],
     "prompt_number": 20
    },
    {
     "cell_type": "code",
     "collapsed": false,
     "input": [
      "ring.changed"
     ],
     "language": "python",
     "metadata": {},
     "outputs": [
      {
       "metadata": {},
       "output_type": "pyout",
       "prompt_number": 21,
       "text": [
        "False"
       ]
      }
     ],
     "prompt_number": 21
    },
    {
     "cell_type": "code",
     "collapsed": false,
     "input": [
      "a=c.mean()\n",
      "c *= 1.1\n",
      "a,c.mean()"
     ],
     "language": "python",
     "metadata": {},
     "outputs": [
      {
       "metadata": {},
       "output_type": "pyout",
       "prompt_number": 66,
       "text": [
        "(675.59129283920515, 743.15042212312585)"
       ]
      }
     ],
     "prompt_number": 66
    },
    {
     "cell_type": "code",
     "collapsed": false,
     "input": [
      "bl.initialize(bl.free)\n",
      "bl.log_like()"
     ],
     "language": "python",
     "metadata": {},
     "outputs": [
      {
       "metadata": {},
       "output_type": "pyout",
       "prompt_number": 67,
       "text": [
        "48052.835301971048"
       ]
      }
     ],
     "prompt_number": 67
    },
    {
     "cell_type": "code",
     "collapsed": false,
     "input": [
      "bl[0].pix_counts.mean()"
     ],
     "language": "python",
     "metadata": {},
     "outputs": [
      {
       "metadata": {},
       "output_type": "pyout",
       "prompt_number": 68,
       "text": [
        "743.15042212312585"
       ]
      }
     ],
     "prompt_number": 68
    },
    {
     "cell_type": "code",
     "collapsed": false,
     "input": [
      "bl.initialize(bl.free)\n",
      "bl.log_like()"
     ],
     "language": "python",
     "metadata": {},
     "outputs": [
      {
       "metadata": {},
       "output_type": "pyout",
       "prompt_number": 64,
       "text": [
        "47544.182831959202"
       ]
      }
     ],
     "prompt_number": 64
    },
    {
     "cell_type": "code",
     "collapsed": false,
     "input": [
      "bl.log_like()"
     ],
     "language": "python",
     "metadata": {},
     "outputs": [
      {
       "metadata": {},
       "output_type": "pyout",
       "prompt_number": 65,
       "text": [
        "47544.182831959202"
       ]
      }
     ],
     "prompt_number": 65
    },
    {
     "cell_type": "code",
     "collapsed": false,
     "input": [],
     "language": "python",
     "metadata": {},
     "outputs": []
    }
   ],
   "metadata": {}
  }
 ]
}