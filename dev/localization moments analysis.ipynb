{
 "metadata": {
  "name": "",
  "signature": "sha256:d13e712f8d721df70c481f37a0183b04b9adb080008fc35eec230cf25d4d3914"
 },
 "nbformat": 3,
 "nbformat_minor": 0,
 "worksheets": [
  {
   "cells": [
    {
     "cell_type": "markdown",
     "metadata": {},
     "source": [
      "#Develop moment-based residual analysis"
     ]
    },
    {
     "cell_type": "code",
     "collapsed": false,
     "input": [
      "%matplotlib inline\n",
      "os.chdir(os.path.expandvars('$FERMI/skymodels/P301_6years/uw961' )) #P301_5years/uw908'))\n",
      "from uw.like2.analyze import (find_peak, localization); \n",
      "map(reload,                  (find_peak, localization))"
     ],
     "language": "python",
     "metadata": {},
     "outputs": [
      {
       "metadata": {},
       "output_type": "pyout",
       "prompt_number": 1,
       "text": [
        "[<module 'uw.like2.analyze.find_peak' from '/afs/slac/g/glast/groups/catalog/pointlike/python/uw/like2/analyze/find_peak.pyc'>,\n",
        " <module 'uw.like2.analyze.localization' from '/afs/slac/g/glast/groups/catalog/pointlike/python/uw/like2/analyze/localization.pyc'>]"
       ]
      }
     ],
     "prompt_number": 1
    },
    {
     "cell_type": "code",
     "collapsed": false,
     "input": [
      "self = localization.Localization() #find_peak.FindPeak()"
     ],
     "language": "python",
     "metadata": {},
     "outputs": [
      {
       "output_type": "stream",
       "stream": "stdout",
       "text": [
        "loading sources.pickle\n",
        "358 poorly localized (locqual>8.0 or a>0.25 or delta_ts>2.00) "
       ]
      },
      {
       "output_type": "stream",
       "stream": "stdout",
       "text": [
        "\n",
        "wrote file \"poorly_localized.csv\""
       ]
      },
      {
       "output_type": "stream",
       "stream": "stdout",
       "text": [
        "\n"
       ]
      }
     ],
     "prompt_number": 2
    },
    {
     "cell_type": "code",
     "collapsed": false,
     "input": [
      "from uw.like2.analyze.analysis_base import html_table, FloatFormat\n",
      "\n",
      "t = self.poorloc\n",
      "self.poorloc_table= html_table(t, name=self.plotfolder+'/poorloc',\n",
      "                               heading='<h4>Table of %d poor localizations.</h4>'%len(t),\n",
      "                               float_format=FloatFormat(2),\n",
      "                               formatters=dict(ts=FloatFormat(0), a=FloatFormat(2),locqual=FloatFormat(1)),\n",
      "                               href_pattern='tsmap_fail/%s_tsmap*.jpg',\n",
      "                                )\n",
      "                               "
     ],
     "language": "python",
     "metadata": {},
     "outputs": [
      {
       "output_type": "stream",
       "stream": "stdout",
       "text": [
        "wrote file plots/localization/poorloc.htm\n"
       ]
      }
     ],
     "prompt_number": 12
    },
    {
     "cell_type": "code",
     "collapsed": false,
     "input": [
      "self.poorloc_table"
     ],
     "language": "python",
     "metadata": {},
     "outputs": [
      {
       "metadata": {},
       "output_type": "pyout",
       "prompt_number": 11,
       "text": [
        "'<a href=\"poorloc.htm?skipDecoration\"><h4>Table of 358 poor localizations.</h4></a>'"
       ]
      }
     ],
     "prompt_number": 11
    }
   ],
   "metadata": {}
  }
 ]
}