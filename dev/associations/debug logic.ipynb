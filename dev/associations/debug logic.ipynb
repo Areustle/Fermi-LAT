{
 "cells": [
  {
   "cell_type": "markdown",
   "metadata": {},
   "source": [
    "##Debug and test association code"
   ]
  },
  {
   "cell_type": "code",
   "execution_count": 1,
   "metadata": {
    "collapsed": false
   },
   "outputs": [
    {
     "data": {
      "text/plain": [
       "<module 'uw.like.srcid' from '/afs/slac/g/glast/groups/catalog/pointlike/python/uw/like/srcid.pyc'>"
      ]
     },
     "execution_count": 1,
     "metadata": {},
     "output_type": "execute_result"
    }
   ],
   "source": [
    "import glob, pyfits,sys\n",
    "import skymaps\n",
    "from uw.like import srcid; reload(srcid)"
   ]
  },
  {
   "cell_type": "markdown",
   "metadata": {},
   "source": [
    "Notes:\n",
    "* create new folder lott_srcid\n",
    "* add links for cat and classes:\n",
    "<pre>\n",
    "lrwxrwxrwx 1 burnett glast-catalog 38 Jul  6 06:34 cat -> /nfs/farm/g/glast/g/agn/lott/srcid/cat/\n",
    "lrwxrwxrwx 1 burnett glast-catalog 55 Jul  6 06:17 classes -> /nfs/farm/g/glast/g/agn/lott/srcid/srcid/classes/v6r9p1/\n",
    "</pre>"
   ]
  },
  {
   "cell_type": "code",
   "execution_count": 2,
   "metadata": {
    "collapsed": false,
    "scrolled": true
   },
   "outputs": [
    {
     "name": "stdout",
     "output_type": "stream",
     "text": [
      "Available counterpart classes are:\n",
      "agile agn bllac bzcat cgrabs cosb crates crates_fom dwarfs eg3 egr galaxies globular hmxb ibis lbv lmxb ocl ostar msp pulsar_big pulsar_fom pulsar_high pulsar_lat pulsar_low pulsar_nonATNF pwn qso seyfert seyfert_rl snr snr_ext starbursts tev vcs wr\n"
     ]
    }
   ],
   "source": [
    "srcid_dir = os.path.expandvars('$FERMI/catalog/srcid') \n",
    "sa = srcid.SourceAssociation(srcid_dir=srcid_dir, )"
   ]
  },
  {
   "cell_type": "code",
   "execution_count": 4,
   "metadata": {
    "collapsed": false,
    "scrolled": false
   },
   "outputs": [
    {
     "data": {
      "text/html": [
       "<div style=\"max-height:1000px;max-width:1500px;overflow:auto;\">\n",
       "<table border=\"1\" class=\"dataframe\">\n",
       "  <thead>\n",
       "    <tr style=\"text-align: right;\">\n",
       "      <th></th>\n",
       "      <th>title</th>\n",
       "      <th>catfilename</th>\n",
       "      <th>objects</th>\n",
       "      <th>prob_prior</th>\n",
       "      <th>selection</th>\n",
       "    </tr>\n",
       "  </thead>\n",
       "  <tbody>\n",
       "    <tr>\n",
       "      <th>agn</th>\n",
       "      <td>         AGN Source Class (Veron's 2006 catalogue)</td>\n",
       "      <td>                               obj-agn.fits</td>\n",
       "      <td> 21737</td>\n",
       "      <td>  0.023</td>\n",
       "      <td>                                              [, ]</td>\n",
       "    </tr>\n",
       "    <tr>\n",
       "      <th>bllac</th>\n",
       "      <td>      BL Lac Source Class (Veron's 2006 catalogue)</td>\n",
       "      <td>                             obj-bllac.fits</td>\n",
       "      <td>  1122</td>\n",
       "      <td> 0.1789</td>\n",
       "      <td>                                              [, ]</td>\n",
       "    </tr>\n",
       "    <tr>\n",
       "      <th>bzcat</th>\n",
       "      <td>                       Blazar Source Class (BZCAT)</td>\n",
       "      <td>                      obj-blazar-bzcat.fits</td>\n",
       "      <td>  3561</td>\n",
       "      <td>  0.342</td>\n",
       "      <td>                                              [, ]</td>\n",
       "    </tr>\n",
       "    <tr>\n",
       "      <th>cgrabs</th>\n",
       "      <td>                      Blazar Source Class (CGRaBS)</td>\n",
       "      <td>                     obj-blazar-cgrabs.fits</td>\n",
       "      <td>  1625</td>\n",
       "      <td>  0.246</td>\n",
       "      <td>                                              [, ]</td>\n",
       "    </tr>\n",
       "    <tr>\n",
       "      <th>crates</th>\n",
       "      <td>                              CRATES radio sources</td>\n",
       "      <td>                     obj-blazar-crates.fits</td>\n",
       "      <td> 10272</td>\n",
       "      <td>  0.313</td>\n",
       "      <td>                                              [, ]</td>\n",
       "    </tr>\n",
       "    <tr>\n",
       "      <th>crates_fom</th>\n",
       "      <td>                              CRATES radio sources</td>\n",
       "      <td>                     obj-blazar-crates.fits</td>\n",
       "      <td> 10272</td>\n",
       "      <td> 0.0034</td>\n",
       "      <td>                                              [, ]</td>\n",
       "    </tr>\n",
       "    <tr>\n",
       "      <th>galaxies</th>\n",
       "      <td>                                    Galaxies Class</td>\n",
       "      <td>                          obj-galaxies.fits</td>\n",
       "      <td>   276</td>\n",
       "      <td>  0.007</td>\n",
       "      <td>                                              [, ]</td>\n",
       "    </tr>\n",
       "    <tr>\n",
       "      <th>globular</th>\n",
       "      <td>                     Globular cluster Source Class</td>\n",
       "      <td>                   obj-globularcluster.fits</td>\n",
       "      <td>   147</td>\n",
       "      <td> 0.0082</td>\n",
       "      <td>                                              [, ]</td>\n",
       "    </tr>\n",
       "    <tr>\n",
       "      <th>hmxb</th>\n",
       "      <td>               High-Mass X-ray Binary Source Class</td>\n",
       "      <td>                              obj-hmxb.fits</td>\n",
       "      <td>   114</td>\n",
       "      <td> 0.0027</td>\n",
       "      <td>                                              [, ]</td>\n",
       "    </tr>\n",
       "    <tr>\n",
       "      <th>ibis</th>\n",
       "      <td>                       IBIS Catalogue Source Class</td>\n",
       "      <td>                            gamma-ibis.fits</td>\n",
       "      <td>   723</td>\n",
       "      <td> 0.0014</td>\n",
       "      <td>                                              [, ]</td>\n",
       "    </tr>\n",
       "    <tr>\n",
       "      <th>lbv</th>\n",
       "      <td>                          Galactic LBV stars Class</td>\n",
       "      <td>                               obj-lbv.fits</td>\n",
       "      <td>    35</td>\n",
       "      <td>  0.005</td>\n",
       "      <td>                                              [, ]</td>\n",
       "    </tr>\n",
       "    <tr>\n",
       "      <th>lmxb</th>\n",
       "      <td>                Low-Mass X-ray Binary Source Class</td>\n",
       "      <td>                              obj-lmxb.fits</td>\n",
       "      <td>   187</td>\n",
       "      <td> 0.0035</td>\n",
       "      <td>                                              [, ]</td>\n",
       "    </tr>\n",
       "    <tr>\n",
       "      <th>msp</th>\n",
       "      <td>  Millisecond Pulsar Source Class (ATNF catalogue)</td>\n",
       "      <td>                               obj-msp.fits</td>\n",
       "      <td>  1826</td>\n",
       "      <td>  0.028</td>\n",
       "      <td> [DEFNULL(@MSP_P0,1000.0) &lt;= 0.1 &amp;&amp; DEFNULL(@MS...</td>\n",
       "    </tr>\n",
       "    <tr>\n",
       "      <th>ocl</th>\n",
       "      <td>                        Open Clusters Source Class</td>\n",
       "      <td>                       obj-opencluster.fits</td>\n",
       "      <td>  1689</td>\n",
       "      <td> 0.0018</td>\n",
       "      <td>                                              [, ]</td>\n",
       "    </tr>\n",
       "    <tr>\n",
       "      <th>ostar</th>\n",
       "      <td>                            Galactic O stars Class</td>\n",
       "      <td>                             obj-ostar.fits</td>\n",
       "      <td>   378</td>\n",
       "      <td> 0.0032</td>\n",
       "      <td>                                              [, ]</td>\n",
       "    </tr>\n",
       "    <tr>\n",
       "      <th>pulsar_big</th>\n",
       "      <td>                                    Pulsar BigFile</td>\n",
       "      <td>       Pulsars_BigFile_v20141202140045.fits</td>\n",
       "      <td>  2477</td>\n",
       "      <td>    0.1</td>\n",
       "      <td>                                                []</td>\n",
       "    </tr>\n",
       "    <tr>\n",
       "      <th>pulsar_fom</th>\n",
       "      <td> Pulsar Source Class with EdotD2 FOM excluding ...</td>\n",
       "      <td>                            obj-pulsar.fits</td>\n",
       "      <td>  1826</td>\n",
       "      <td>   0.12</td>\n",
       "      <td> [(DEFNULL(@PUL_P0,0.0) &gt; 0.1 || DEFNULL(@PUL_P...</td>\n",
       "    </tr>\n",
       "    <tr>\n",
       "      <th>pulsar_high</th>\n",
       "      <td> Pulsar Source Class with large EdotD2 excludin...</td>\n",
       "      <td>                       obj-pulsar-high.fits</td>\n",
       "      <td>  1826</td>\n",
       "      <td> 0.0028</td>\n",
       "      <td> [DEFNULL(@PULHIGH_EDOTD2,0.0) &gt; 5e+33, DEFNULL...</td>\n",
       "    </tr>\n",
       "    <tr>\n",
       "      <th>pulsar_lat</th>\n",
       "      <td>                           LAT Pulsar Source Class</td>\n",
       "      <td>                   obj-pulsar-lat_v867.fits</td>\n",
       "      <td>   178</td>\n",
       "      <td>  0.999</td>\n",
       "      <td>                                                []</td>\n",
       "    </tr>\n",
       "    <tr>\n",
       "      <th>pulsar_low</th>\n",
       "      <td> Pulsar Source Class with low EdotD2 excluding ...</td>\n",
       "      <td>                        obj-pulsar-low.fits</td>\n",
       "      <td>  1826</td>\n",
       "      <td> 0.0019</td>\n",
       "      <td> [DEFNULL(@PULLOW_EDOTD2,0.0) &lt;= 5e+33, DEFNULL...</td>\n",
       "    </tr>\n",
       "    <tr>\n",
       "      <th>pulsar_nonATNF</th>\n",
       "      <td>                           LAT Pulsar Source Class</td>\n",
       "      <td>               nonATNF_pulsars_20110207.fit</td>\n",
       "      <td>   158</td>\n",
       "      <td>    0.5</td>\n",
       "      <td>                                                []</td>\n",
       "    </tr>\n",
       "    <tr>\n",
       "      <th>pwn</th>\n",
       "      <td>                   Pulsar Wind Nebula Source Class</td>\n",
       "      <td>                               obj-pwn.fits</td>\n",
       "      <td>    69</td>\n",
       "      <td> 0.0242</td>\n",
       "      <td>                                              [, ]</td>\n",
       "    </tr>\n",
       "    <tr>\n",
       "      <th>qso</th>\n",
       "      <td>        Quasar Source Class (Veron 2006 catalogue)</td>\n",
       "      <td>                               obj-qso.fits</td>\n",
       "      <td> 85221</td>\n",
       "      <td>  0.164</td>\n",
       "      <td>                                              [, ]</td>\n",
       "    </tr>\n",
       "    <tr>\n",
       "      <th>seyfert</th>\n",
       "      <td>       Seyfert Source Class (Veron 2006 catalogue)</td>\n",
       "      <td>                           obj-seyfert.fits</td>\n",
       "      <td> 16343</td>\n",
       "      <td> 0.0012</td>\n",
       "      <td>                                              [, ]</td>\n",
       "    </tr>\n",
       "    <tr>\n",
       "      <th>seyfert_rl</th>\n",
       "      <td> Radio Loud Narrow Line Seyfert 1 Source Class ...</td>\n",
       "      <td> obj-seyferts-radio-loud-narrow-line-1.fits</td>\n",
       "      <td>    29</td>\n",
       "      <td> 0.0029</td>\n",
       "      <td>                                              [, ]</td>\n",
       "    </tr>\n",
       "    <tr>\n",
       "      <th>snr</th>\n",
       "      <td>                   Supernova Remnants Source Class</td>\n",
       "      <td>                               obj-snr.fits</td>\n",
       "      <td>   274</td>\n",
       "      <td> 0.0168</td>\n",
       "      <td>                            [@SNR_MajDiam &lt;= 20.0]</td>\n",
       "    </tr>\n",
       "    <tr>\n",
       "      <th>starbursts</th>\n",
       "      <td>           Starburst Galaxies cluster Source Class</td>\n",
       "      <td>                        obj-starbursts.fits</td>\n",
       "      <td>    14</td>\n",
       "      <td>    0.8</td>\n",
       "      <td>                                              [, ]</td>\n",
       "    </tr>\n",
       "    <tr>\n",
       "      <th>tev</th>\n",
       "      <td>                              TeV Source Catalogue</td>\n",
       "      <td>                             gamma-tev.fits</td>\n",
       "      <td>   120</td>\n",
       "      <td> 0.0017</td>\n",
       "      <td>                                              [, ]</td>\n",
       "    </tr>\n",
       "    <tr>\n",
       "      <th>vcs</th>\n",
       "      <td>           VLBA Calibrator Survey Source Catalogue</td>\n",
       "      <td>                               obj-vcs.fits</td>\n",
       "      <td>  4558</td>\n",
       "      <td> 0.2382</td>\n",
       "      <td>                                              [, ]</td>\n",
       "    </tr>\n",
       "    <tr>\n",
       "      <th>wr</th>\n",
       "      <td>                           Galactic WR stars Class</td>\n",
       "      <td>                                obj-wr.fits</td>\n",
       "      <td>   226</td>\n",
       "      <td> 0.0103</td>\n",
       "      <td>                                              [, ]</td>\n",
       "    </tr>\n",
       "  </tbody>\n",
       "</table>\n",
       "</div>"
      ],
      "text/plain": [
       "                                                            title                                 catfilename objects  \\\n",
       "agn                     AGN Source Class (Veron's 2006 catalogue)                                obj-agn.fits   21737   \n",
       "bllac                BL Lac Source Class (Veron's 2006 catalogue)                              obj-bllac.fits    1122   \n",
       "bzcat                                 Blazar Source Class (BZCAT)                       obj-blazar-bzcat.fits    3561   \n",
       "cgrabs                               Blazar Source Class (CGRaBS)                      obj-blazar-cgrabs.fits    1625   \n",
       "crates                                       CRATES radio sources                      obj-blazar-crates.fits   10272   \n",
       "crates_fom                                   CRATES radio sources                      obj-blazar-crates.fits   10272   \n",
       "galaxies                                           Galaxies Class                           obj-galaxies.fits     276   \n",
       "globular                            Globular cluster Source Class                    obj-globularcluster.fits     147   \n",
       "hmxb                          High-Mass X-ray Binary Source Class                               obj-hmxb.fits     114   \n",
       "ibis                                  IBIS Catalogue Source Class                             gamma-ibis.fits     723   \n",
       "lbv                                      Galactic LBV stars Class                                obj-lbv.fits      35   \n",
       "lmxb                           Low-Mass X-ray Binary Source Class                               obj-lmxb.fits     187   \n",
       "msp              Millisecond Pulsar Source Class (ATNF catalogue)                                obj-msp.fits    1826   \n",
       "ocl                                    Open Clusters Source Class                        obj-opencluster.fits    1689   \n",
       "ostar                                      Galactic O stars Class                              obj-ostar.fits     378   \n",
       "pulsar_big                                         Pulsar BigFile        Pulsars_BigFile_v20141202140045.fits    2477   \n",
       "pulsar_fom      Pulsar Source Class with EdotD2 FOM excluding ...                             obj-pulsar.fits    1826   \n",
       "pulsar_high     Pulsar Source Class with large EdotD2 excludin...                        obj-pulsar-high.fits    1826   \n",
       "pulsar_lat                                LAT Pulsar Source Class                    obj-pulsar-lat_v867.fits     178   \n",
       "pulsar_low      Pulsar Source Class with low EdotD2 excluding ...                         obj-pulsar-low.fits    1826   \n",
       "pulsar_nonATNF                            LAT Pulsar Source Class                nonATNF_pulsars_20110207.fit     158   \n",
       "pwn                               Pulsar Wind Nebula Source Class                                obj-pwn.fits      69   \n",
       "qso                    Quasar Source Class (Veron 2006 catalogue)                                obj-qso.fits   85221   \n",
       "seyfert               Seyfert Source Class (Veron 2006 catalogue)                            obj-seyfert.fits   16343   \n",
       "seyfert_rl      Radio Loud Narrow Line Seyfert 1 Source Class ...  obj-seyferts-radio-loud-narrow-line-1.fits      29   \n",
       "snr                               Supernova Remnants Source Class                                obj-snr.fits     274   \n",
       "starbursts                Starburst Galaxies cluster Source Class                         obj-starbursts.fits      14   \n",
       "tev                                          TeV Source Catalogue                              gamma-tev.fits     120   \n",
       "vcs                       VLBA Calibrator Survey Source Catalogue                                obj-vcs.fits    4558   \n",
       "wr                                        Galactic WR stars Class                                 obj-wr.fits     226   \n",
       "\n",
       "               prob_prior                                          selection  \n",
       "agn                 0.023                                               [, ]  \n",
       "bllac              0.1789                                               [, ]  \n",
       "bzcat               0.342                                               [, ]  \n",
       "cgrabs              0.246                                               [, ]  \n",
       "crates              0.313                                               [, ]  \n",
       "crates_fom         0.0034                                               [, ]  \n",
       "galaxies            0.007                                               [, ]  \n",
       "globular           0.0082                                               [, ]  \n",
       "hmxb               0.0027                                               [, ]  \n",
       "ibis               0.0014                                               [, ]  \n",
       "lbv                 0.005                                               [, ]  \n",
       "lmxb               0.0035                                               [, ]  \n",
       "msp                 0.028  [DEFNULL(@MSP_P0,1000.0) <= 0.1 && DEFNULL(@MS...  \n",
       "ocl                0.0018                                               [, ]  \n",
       "ostar              0.0032                                               [, ]  \n",
       "pulsar_big            0.1                                                 []  \n",
       "pulsar_fom           0.12  [(DEFNULL(@PUL_P0,0.0) > 0.1 || DEFNULL(@PUL_P...  \n",
       "pulsar_high        0.0028  [DEFNULL(@PULHIGH_EDOTD2,0.0) > 5e+33, DEFNULL...  \n",
       "pulsar_lat          0.999                                                 []  \n",
       "pulsar_low         0.0019  [DEFNULL(@PULLOW_EDOTD2,0.0) <= 5e+33, DEFNULL...  \n",
       "pulsar_nonATNF        0.5                                                 []  \n",
       "pwn                0.0242                                               [, ]  \n",
       "qso                 0.164                                               [, ]  \n",
       "seyfert            0.0012                                               [, ]  \n",
       "seyfert_rl         0.0029                                               [, ]  \n",
       "snr                0.0168                             [@SNR_MajDiam <= 20.0]  \n",
       "starbursts            0.8                                               [, ]  \n",
       "tev                0.0017                                               [, ]  \n",
       "vcs                0.2382                                               [, ]  \n",
       "wr                 0.0103                                               [, ]  "
      ]
     },
     "execution_count": 4,
     "metadata": {},
     "output_type": "execute_result"
    }
   ],
   "source": [
    "dd =srcid.summary_table(srcid_dir)\n",
    "df = pd.DataFrame(dd).T\n",
    "df[df.prob_thres>0]['title catfilename objects prob_prior selection'.split()]"
   ]
  },
  {
   "cell_type": "code",
   "execution_count": 9,
   "metadata": {
    "collapsed": false
   },
   "outputs": [
    {
     "data": {
      "text/plain": [
       "(43, array(['agn', 'arxas', 'at20g', 'bat', 'bllac', 'bzcat', 'cgrabs',\n",
       "        'crates', 'ecc', 'ercsc030', 'ercsc044', 'ercsc070', 'ercsc100',\n",
       "        'ercsc143', 'ercsc217', 'ercsc353', 'ercsc545', 'ercsc857', 'esz',\n",
       "        'fgl2us', 'gal', 'gc', 'hmxb', 'ibis', 'iras', 'latid', 'lbv',\n",
       "        'lmxb', 'msp', 'ocl', 'ostar', 'pulhigh', 'pulother', 'pulsar_lat',\n",
       "        'pwn', 'qso', 'sey', 'seyrl', 'snr', 'vcs', 'wise', 'wisestrip',\n",
       "        'wr'], dtype=object))"
      ]
     },
     "execution_count": 9,
     "metadata": {},
     "output_type": "execute_result"
    }
   ],
   "source": [
    "ll =np.array(df[df.prob_thres>0].index)\n",
    "len(ll), ll"
   ]
  },
  {
   "cell_type": "code",
   "execution_count": null,
   "metadata": {
    "collapsed": true
   },
   "outputs": [],
   "source": [
    "lott_list='agn', 'arxas', 'at20g', 'bat', 'bllac', 'bzcat', 'cgrabs',\n",
    "       'crates', 'ecc', 'ercsc030', 'ercsc044', 'ercsc070', 'ercsc100',\n",
    "       'ercsc143', 'ercsc217', 'ercsc353', 'ercsc545', 'ercsc857', 'esz',\n",
    "       'fgl2us', 'gal', 'gc', 'hmxb', 'ibis', 'iras', 'lbv',\n",
    "       'lmxb', 'msp', 'ocl', 'ostar', 'pulhigh', 'pulother', 'pulsar_lat',\n",
    "       'pwn', 'qso', 'sey', 'seyrl', 'snr', 'vcs', 'wise', 'wisestrip',\n",
    "       'wr'"
   ]
  },
  {
   "cell_type": "code",
   "execution_count": 11,
   "metadata": {
    "collapsed": false
   },
   "outputs": [
    {
     "data": {
      "text/plain": [
       "catfilename                                             obj-hmxb.fits\n",
       "catid                                                            HMXB\n",
       "catname             /nfs/farm/g/glast/g/agn/lott/srcid/srcid/cat/v...\n",
       "columns             (name = '_RAJ2000'; format = 'F9.5'; unit = 'd...\n",
       "figure_of_merit                                                      \n",
       "max_counterparts                                                   10\n",
       "new_quantity                                                     [, ]\n",
       "objects                                                           114\n",
       "prob_prior                                                      0.001\n",
       "prob_thres                                                        0.8\n",
       "selection                              [@LAT_Conf_95_SemiMajor > 0.0]\n",
       "title                                        High-mass X-ray Binaries\n",
       "Name: hmxb, dtype: object"
      ]
     },
     "execution_count": 11,
     "metadata": {},
     "output_type": "execute_result"
    }
   ],
   "source": [
    "df.ix['hmxb']"
   ]
  },
  {
   "cell_type": "code",
   "execution_count": 10,
   "metadata": {
    "collapsed": false
   },
   "outputs": [
    {
     "data": {
      "text/plain": [
       "ColDefs(\n",
       "    name = 'BAT_NAME'; format = '19A'\n",
       "    name = 'RA'; format = 'E'; unit = 'deg'; disp = 'f7.3'\n",
       "    name = 'DEC'; format = 'E'; unit = 'deg'; disp = 'f7.3'\n",
       "    name = 'SNR'; format = 'E'; disp = 'f7.2'\n",
       "    name = 'COUNTERPART_NAME'; format = '30A'\n",
       "    name = 'OTHER_NAME'; format = '31A'\n",
       "    name = 'CTPT_RA'; format = 'E'; unit = 'deg'; disp = 'f8.4'\n",
       "    name = 'CTPT_DEC'; format = 'E'; unit = 'deg'; disp = 'f8.4'\n",
       "    name = 'FLUX'; format = 'E'; unit = '10^-12ergs/sec/cm^2'; disp = 'f8.2'\n",
       "    name = 'FLUX_LO'; format = 'E'; unit = '10^-12ergs/sec/cm^2'; disp = 'f8.2'\n",
       "    name = 'FLUX_HI'; format = 'E'; unit = '10^-12ergs/sec/cm^2'; disp = 'f8.2'\n",
       "    name = 'CONTAM_FRAC'; format = 'E'; disp = 'f5.2'\n",
       "    name = 'GAMMA'; format = 'E'; disp = 'f4.2'\n",
       "    name = 'GAMMA_LO'; format = 'E'; disp = 'f4.2'\n",
       "    name = 'GAMMA_HI'; format = 'E'; disp = 'f4.2'\n",
       "    name = 'CHI_SQ_R'; format = 'E'; disp = 'f10.2'\n",
       "    name = 'REDSHIFT'; format = 'E'; disp = 'f8.5'\n",
       "    name = 'LUM'; format = 'E'; unit = 'log[ergs/sec]'; disp = 'f5.2'\n",
       "    name = 'CL'; format = 'I'; disp = 'B'\n",
       "    name = 'TYPE'; format = '21A'\n",
       ")"
      ]
     },
     "execution_count": 10,
     "metadata": {},
     "output_type": "execute_result"
    }
   ],
   "source": [
    "cols = df.ix['bat']['columns']; cols"
   ]
  },
  {
   "cell_type": "code",
   "execution_count": 51,
   "metadata": {
    "collapsed": false
   },
   "outputs": [
    {
     "data": {
      "text/plain": [
       "[name = '_RAJ2000'; format = 'F9.5'; unit = 'deg'; start = 2]"
      ]
     },
     "execution_count": 51,
     "metadata": {},
     "output_type": "execute_result"
    }
   ],
   "source": [
    "ra_filter = lambda c: (c.name.upper().startswith('RA') or c.name.upper().startswith('_RA')) \\\n",
    "    and (c.format=='D' or c.format=='E' or c.format[0]=='F')\n",
    "filter(ra_filter, cols)"
   ]
  },
  {
   "cell_type": "code",
   "execution_count": 52,
   "metadata": {
    "collapsed": false
   },
   "outputs": [
    {
     "name": "stdout",
     "output_type": "stream",
     "text": [
      "agile : [name = 'RAJ2000'; format = 'E'; unit = 'degrees']\n",
      "agn : [name = '_RAJ2000'; format = 'D']\n",
      "arxas : [name = '_RAJ2000'; format = 'F8.4'; unit = 'deg'; start = 20]\n",
      "at20g : [name = '_RAJ2000'; format = 'F9.5'; unit = 'deg'; start = 2]\n",
      "bat : [name = 'RA'; format = 'E'; unit = 'deg'; disp = 'f7.3']\n",
      "bllac : [name = '_RAJ2000'; format = 'D']\n",
      "bzcat : [name = 'RAJ2000'; format = 'D'; unit = 'degrees']\n",
      "cgrabs : [name = 'RAS'; format = 'D', name = 'RAJ2000'; format = 'D'; unit = 'deg']\n",
      "cosb : [name = '_RAJ2000'; format = 'E'; unit = 'deg']\n",
      "crates : [name = 'RAJ2000'; format = 'E'; unit = 'deg']\n",
      "dwarfs : [name = 'RAJ2000'; format = 'E'; unit = 'deg']\n",
      "ecc : [name = 'RA'; format = 'D'; unit = 'deg']\n",
      "eg3 : [name = 'RAJ2000'; format = 'F6.2'; unit = 'deg'; start = 21]\n",
      "egr : [name = 'RAJ2000'; format = 'E'; unit = 'deg']\n",
      "ercsc030 : [name = 'RA'; format = 'D'; unit = 'deg']\n",
      "ercsc044 : [name = 'RA'; format = 'D'; unit = 'deg']\n",
      "ercsc070 : [name = 'RA'; format = 'D'; unit = 'deg']\n",
      "ercsc100 : [name = 'RA'; format = 'D'; unit = 'deg']\n",
      "ercsc143 : [name = 'RA'; format = 'D'; unit = 'deg']\n",
      "ercsc217 : [name = 'RA'; format = 'D'; unit = 'deg']\n",
      "ercsc353 : [name = 'RA'; format = 'D'; unit = 'deg']\n",
      "ercsc545 : [name = 'RA'; format = 'D'; unit = 'deg']\n",
      "ercsc857 : [name = 'RA'; format = 'D'; unit = 'deg']\n",
      "esz : [name = 'RA'; format = 'D'; unit = 'deg', name = 'RA_X'; format = 'D'; unit = 'deg']\n",
      "fermi0 : [name = 'RA'; format = 'E'; unit = 'deg'; disp = 'F8.4']\n",
      "fermi1 : [name = 'RA'; format = 'E'; unit = 'deg'; disp = 'F8.4']\n",
      "fermi2 : [name = 'RAJ2000'; format = 'E'; unit = 'deg'; disp = 'F8.4']\n",
      "fgl2us : [name = 'RAJ2000'; format = 'E'; unit = 'deg', name = 'ra_error'; format = 'E'; unit = 'arcsec']\n",
      "fhl1 no data\n",
      "gal : [name = '_RAJ2000'; format = 'F6.2'; unit = 'deg'; start = 2]\n",
      "gc : [name = 'RAJ2000'; format = 'D']\n",
      "hmxb : [name = '_RAJ2000'; format = 'F9.5'; unit = 'deg'; start = 2]\n",
      "ibis : [name = 'RAJ2000'; format = 'E'; unit = 'deg']\n",
      "iras : [name = '_RAJ2000'; format = 'F8.4'; unit = 'deg'; start = 2]\n",
      "latid : [name = 'RAJ2000'; format = '1E'; unit = 'deg']\n",
      "lbv : []\n",
      "lmxb : [name = '_RAJ2000'; format = 'F10.6'; unit = 'deg'; start = 2]\n",
      "msp : [name = 'RAJ2000'; format = 'D']\n",
      "ocl : []\n",
      "ostar : []\n",
      "pulhigh : [name = 'RAJ2000'; format = 'D']\n",
      "pulother : [name = 'RAJ2000'; format = 'D']\n",
      "pulsar_lat : [name = 'RAJ2000'; format = 'E'; unit = 'deg'; disp = 'F8.4']\n",
      "pwn : [name = 'RAJ2000'; format = 'D'; unit = 'deg']\n",
      "qso : [name = '_RAJ2000'; format = 'D']\n",
      "sey : [name = '_RAJ2000'; format = 'D']\n",
      "seyrl : [name = 'RAJ2000'; format = 'D'; unit = 'deg']\n",
      "snr : []\n",
      "snr_ext no data\n",
      "tev : [name = 'RAJ2000'; format = 'E'; unit = 'deg', name = 'Radius'; format = 'E'; unit = 'deg']\n",
      "tev_ext : [name = 'RAJ2000'; format = 'E'; unit = 'deg', name = 'Radius'; format = 'E'; unit = 'deg']\n",
      "vcs : [name = 'RAJ2000'; format = 'D']\n",
      "wise : [name = 'RAJ2000'; format = 'D']\n",
      "wisestrip : [name = 'RAJ2000'; format = 'D']\n",
      "wr : [name = '_RAJ2000'; format = 'F9.5'; unit = 'deg'; start = 2]\n"
     ]
    }
   ],
   "source": [
    "for catname, info in df.iterrows():\n",
    "    print catname, \n",
    "    if info['objects']<= 0:\n",
    "        print 'no data'\n",
    "        continue\n",
    "    cols = info.get('columns',None)\n",
    "    if cols is None: continue\n",
    "    print  ':', filter(ra_filter, cols )"
   ]
  },
  {
   "cell_type": "code",
   "execution_count": 53,
   "metadata": {
    "collapsed": false
   },
   "outputs": [
    {
     "data": {
      "text/plain": [
       "[catfilename                                    obj-blazar-cgrabs.fits\n",
       " catid                                                          CGRABS\n",
       " catname             /nfs/farm/g/glast/g/agn/lott/srcid/srcid/cat/v...\n",
       " columns             (name = 'NAME'; format = '10A', name = '_Glon'...\n",
       " figure_of_merit                                                      \n",
       " max_counterparts                                                   10\n",
       " new_quantity                                                     [, ]\n",
       " objects                                                          1625\n",
       " prob_prior                                                     0.1955\n",
       " prob_thres                                                        0.8\n",
       " selection                                                        [, ]\n",
       " title                                                  CGRaBS Blazars\n",
       " Name: cgrabs, dtype: object,\n",
       " catfilename                                      obj-opencluster.fits\n",
       " catid                                                             OCL\n",
       " catname             /nfs/farm/g/glast/g/agn/lott/srcid/srcid/cat/v...\n",
       " columns             (name = 'NAME'; format = '20A', name = 'GLON';...\n",
       " figure_of_merit                                                      \n",
       " max_counterparts                                                   10\n",
       " new_quantity                                                     [, ]\n",
       " objects                                                          2140\n",
       " prob_prior                                                     0.0035\n",
       " prob_thres                                                        0.8\n",
       " selection                                                        [, ]\n",
       " title                                                   Open clusters\n",
       " Name: ocl, dtype: object,\n",
       " catfilename                                              obj-lbv.fits\n",
       " catid                                                             LBV\n",
       " catname             /nfs/farm/g/glast/g/agn/lott/srcid/srcid/cat/v...\n",
       " columns             (name = 'NAME'; format = '20A', name = 'GLON';...\n",
       " figure_of_merit                                                      \n",
       " max_counterparts                                                   10\n",
       " new_quantity                                                     [, ]\n",
       " objects                                                            35\n",
       " prob_prior                                                     0.0015\n",
       " prob_thres                                                        0.8\n",
       " selection                                                        [, ]\n",
       " title                                                       LBV stars\n",
       " Name: lbv, dtype: object,\n",
       " catfilename                                              obj-snr.fits\n",
       " catid                                                             SNR\n",
       " catname             /nfs/farm/g/glast/g/agn/lott/srcid/srcid/cat/v...\n",
       " columns             (name = 'GLON'; format = 'F6.2'; unit = 'deg';...\n",
       " figure_of_merit                                                      \n",
       " max_counterparts                                                   10\n",
       " new_quantity                                                     [, ]\n",
       " objects                                                           274\n",
       " prob_prior                                                     0.0212\n",
       " prob_thres                                                        0.8\n",
       " selection                                      [@SNR_MajDiam <= 20.0]\n",
       " title                                              Supernova remnants\n",
       " Name: snr, dtype: object,\n",
       " catfilename                                            obj-ostar.fits\n",
       " catid                                                           OSTAR\n",
       " catname             /nfs/farm/g/glast/g/agn/lott/srcid/srcid/cat/v...\n",
       " columns             (name = 'F_GOS'; format = 'A1', name = 'NAME';...\n",
       " figure_of_merit                                                      \n",
       " max_counterparts                                                   10\n",
       " new_quantity                                                     [, ]\n",
       " objects                                                           378\n",
       " prob_prior                                                     0.0053\n",
       " prob_thres                                                        0.8\n",
       " selection                                                        [, ]\n",
       " title                                                         O stars\n",
       " Name: ostar, dtype: object]"
      ]
     },
     "execution_count": 53,
     "metadata": {},
     "output_type": "execute_result"
    }
   ],
   "source": [
    "[df.ix[t] for t in 'cgrabs ocl lbv snr ostar'.split()]"
   ]
  },
  {
   "cell_type": "code",
   "execution_count": null,
   "metadata": {
    "collapsed": true
   },
   "outputs": [],
   "source": []
  },
  {
   "cell_type": "code",
   "execution_count": null,
   "metadata": {
    "collapsed": false
   },
   "outputs": [],
   "source": [
    "srcid_dir = os.path.expandvars('$FERMI/catalog/srcid')\n",
    "os.chdir(srcid_dir)\n",
    "ff = glob.glob('cat/*.fits'); print 'Found %d FITS files in %s' % (len(ff), srcid_dir+'/cat')"
   ]
  },
  {
   "cell_type": "code",
   "execution_count": null,
   "metadata": {
    "collapsed": false
   },
   "outputs": [],
   "source": [
    "t = pyfits.open('cat/obj-blazar-bzcat.fits'); print t.info()\n",
    "t[1].columns"
   ]
  },
  {
   "cell_type": "code",
   "execution_count": null,
   "metadata": {
    "collapsed": true
   },
   "outputs": [],
   "source": [
    "pos, error = skymaps.SkyDir(343.495,16.149), .016/2.45*1.51\n",
    "associations = assoc.id(pos,[error,error,0],name = '3C 454.3')\n",
    "print(associations)"
   ]
  }
 ],
 "metadata": {
  "kernelspec": {
   "display_name": "Python 2",
   "language": "python",
   "name": "python2"
  },
  "language_info": {
   "codemirror_mode": {
    "name": "ipython",
    "version": 2
   },
   "file_extension": ".py",
   "mimetype": "text/x-python",
   "name": "python",
   "nbconvert_exporter": "python",
   "pygments_lexer": "ipython2",
   "version": "2.7.10"
  }
 },
 "nbformat": 4,
 "nbformat_minor": 0
}
