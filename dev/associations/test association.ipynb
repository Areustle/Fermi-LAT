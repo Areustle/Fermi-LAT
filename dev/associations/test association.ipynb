{
 "cells": [
  {
   "cell_type": "markdown",
   "metadata": {},
   "source": [
    "##Debug and test association code\n",
    "This version looks at the associate.SrcId class"
   ]
  },
  {
   "cell_type": "code",
   "execution_count": 1,
   "metadata": {
    "collapsed": false
   },
   "outputs": [
    {
     "data": {
      "text/plain": [
       "<module 'uw.like2.associate' from '/afs/slac/g/glast/groups/catalog/pointlike/python/uw/like2/associate.pyc'>"
      ]
     },
     "execution_count": 1,
     "metadata": {},
     "output_type": "execute_result"
    }
   ],
   "source": [
    "import glob, pyfits,sys\n",
    "import skymaps\n",
    "from uw.like import srcid; reload(srcid)\n",
    "from uw.like2 import associate; reload(associate)"
   ]
  },
  {
   "cell_type": "code",
   "execution_count": 2,
   "metadata": {
    "collapsed": false,
    "scrolled": true
   },
   "outputs": [],
   "source": [
    "srcid = associate.SrcId(srcid='lott_srcid')"
   ]
  },
  {
   "cell_type": "code",
   "execution_count": 5,
   "metadata": {
    "collapsed": false
   },
   "outputs": [
    {
     "data": {
      "text/html": [
       "<div style=\"max-height:1000px;max-width:1500px;overflow:auto;\">\n",
       "<table border=\"1\" class=\"dataframe\">\n",
       "  <thead>\n",
       "    <tr style=\"text-align: right;\">\n",
       "      <th></th>\n",
       "      <th>cat</th>\n",
       "      <th>name</th>\n",
       "      <th>prob</th>\n",
       "    </tr>\n",
       "  </thead>\n",
       "  <tbody>\n",
       "    <tr>\n",
       "      <th>0 </th>\n",
       "      <td> ercsc030</td>\n",
       "      <td> ERC030 G086.12-38.18</td>\n",
       "      <td> 0.999952</td>\n",
       "    </tr>\n",
       "    <tr>\n",
       "      <th>1 </th>\n",
       "      <td> ercsc143</td>\n",
       "      <td> ERC143 G086.12-38.18</td>\n",
       "      <td> 0.999840</td>\n",
       "    </tr>\n",
       "    <tr>\n",
       "      <th>2 </th>\n",
       "      <td>   cgrabs</td>\n",
       "      <td>           J2253+1608</td>\n",
       "      <td> 0.999780</td>\n",
       "    </tr>\n",
       "    <tr>\n",
       "      <th>3 </th>\n",
       "      <td> ercsc100</td>\n",
       "      <td> ERC100 G086.12-38.18</td>\n",
       "      <td> 0.999780</td>\n",
       "    </tr>\n",
       "    <tr>\n",
       "      <th>4 </th>\n",
       "      <td>    bzcat</td>\n",
       "      <td>       BZQ J2253+1608</td>\n",
       "      <td> 0.999767</td>\n",
       "    </tr>\n",
       "    <tr>\n",
       "      <th>5 </th>\n",
       "      <td> ercsc044</td>\n",
       "      <td> ERC044 G086.12-38.18</td>\n",
       "      <td> 0.999766</td>\n",
       "    </tr>\n",
       "    <tr>\n",
       "      <th>6 </th>\n",
       "      <td>   crates</td>\n",
       "      <td>       J225358+160853</td>\n",
       "      <td> 0.999690</td>\n",
       "    </tr>\n",
       "    <tr>\n",
       "      <th>7 </th>\n",
       "      <td> ercsc070</td>\n",
       "      <td> ERC070 G086.12-38.18</td>\n",
       "      <td> 0.999596</td>\n",
       "    </tr>\n",
       "    <tr>\n",
       "      <th>8 </th>\n",
       "      <td>     wise</td>\n",
       "      <td>  J225357.74+160853.7</td>\n",
       "      <td> 0.999560</td>\n",
       "    </tr>\n",
       "    <tr>\n",
       "      <th>9 </th>\n",
       "      <td>      vcs</td>\n",
       "      <td>           J2253+1608</td>\n",
       "      <td> 0.999501</td>\n",
       "    </tr>\n",
       "    <tr>\n",
       "      <th>10</th>\n",
       "      <td>      bat</td>\n",
       "      <td>   SWIFT J2253.9+1608</td>\n",
       "      <td> 0.998309</td>\n",
       "    </tr>\n",
       "    <tr>\n",
       "      <th>11</th>\n",
       "      <td> ercsc217</td>\n",
       "      <td> ERC217 G086.11-38.18</td>\n",
       "      <td> 0.998108</td>\n",
       "    </tr>\n",
       "    <tr>\n",
       "      <th>12</th>\n",
       "      <td>     ibis</td>\n",
       "      <td>             3C 454.3</td>\n",
       "      <td> 0.997671</td>\n",
       "    </tr>\n",
       "    <tr>\n",
       "      <th>13</th>\n",
       "      <td> ercsc353</td>\n",
       "      <td> ERC353 G086.11-38.18</td>\n",
       "      <td> 0.993236</td>\n",
       "    </tr>\n",
       "    <tr>\n",
       "      <th>14</th>\n",
       "      <td>      qso</td>\n",
       "      <td>             3C 454.3</td>\n",
       "      <td> 0.992227</td>\n",
       "    </tr>\n",
       "    <tr>\n",
       "      <th>15</th>\n",
       "      <td> ercsc545</td>\n",
       "      <td> ERC545 G086.11-38.18</td>\n",
       "      <td> 0.974278</td>\n",
       "    </tr>\n",
       "    <tr>\n",
       "      <th>16</th>\n",
       "      <td> ercsc857</td>\n",
       "      <td> ERC857 G086.11-38.17</td>\n",
       "      <td> 0.948795</td>\n",
       "    </tr>\n",
       "  </tbody>\n",
       "</table>\n",
       "</div>"
      ],
      "text/plain": [
       "         cat                  name      prob\n",
       "0   ercsc030  ERC030 G086.12-38.18  0.999952\n",
       "1   ercsc143  ERC143 G086.12-38.18  0.999840\n",
       "2     cgrabs            J2253+1608  0.999780\n",
       "3   ercsc100  ERC100 G086.12-38.18  0.999780\n",
       "4      bzcat        BZQ J2253+1608  0.999767\n",
       "5   ercsc044  ERC044 G086.12-38.18  0.999766\n",
       "6     crates        J225358+160853  0.999690\n",
       "7   ercsc070  ERC070 G086.12-38.18  0.999596\n",
       "8       wise   J225357.74+160853.7  0.999560\n",
       "9        vcs            J2253+1608  0.999501\n",
       "10       bat    SWIFT J2253.9+1608  0.998309\n",
       "11  ercsc217  ERC217 G086.11-38.18  0.998108\n",
       "12      ibis              3C 454.3  0.997671\n",
       "13  ercsc353  ERC353 G086.11-38.18  0.993236\n",
       "14       qso              3C 454.3  0.992227\n",
       "15  ercsc545  ERC545 G086.11-38.18  0.974278\n",
       "16  ercsc857  ERC857 G086.11-38.17  0.948795"
      ]
     },
     "execution_count": 5,
     "metadata": {},
     "output_type": "execute_result"
    }
   ],
   "source": [
    "pd.DataFrame(srcid('3C 454.3', (343.495,16.149), .016/2.45*1.51))['cat name prob'.split()]"
   ]
  },
  {
   "cell_type": "code",
   "execution_count": null,
   "metadata": {
    "collapsed": true
   },
   "outputs": [],
   "source": []
  }
 ],
 "metadata": {
  "kernelspec": {
   "display_name": "Python 2",
   "language": "python",
   "name": "python2"
  },
  "language_info": {
   "codemirror_mode": {
    "name": "ipython",
    "version": 2
   },
   "file_extension": ".py",
   "mimetype": "text/x-python",
   "name": "python",
   "nbconvert_exporter": "python",
   "pygments_lexer": "ipython2",
   "version": "2.7.10"
  }
 },
 "nbformat": 4,
 "nbformat_minor": 0
}
