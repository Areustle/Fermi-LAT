{
 "cells": [
  {
   "cell_type": "markdown",
   "metadata": {},
   "source": [
    "#Develop clustering code"
   ]
  },
  {
   "cell_type": "code",
   "execution_count": 108,
   "metadata": {
    "collapsed": false
   },
   "outputs": [
    {
     "data": {
      "text/plain": [
       "<module 'uw.like2.pipeline.check_ts' from '/afs/slac/g/glast/groups/catalog/pointlike/python/uw/like2/pipeline/check_ts.py'>"
      ]
     },
     "execution_count": 108,
     "metadata": {},
     "output_type": "execute_result"
    }
   ],
   "source": [
    "%matplotlib inline\n",
    "import pyfits, glob, sys, pickle\n",
    "from skymaps import SkyDir\n",
    "os.chdir(os.path.expandvars('$FERMI/skymodels/P301_6years/uw970'))\n",
    "from uw.like2.pub import healpix_map; reload(healpix_map)\n",
    "from uw.like2.analyze import hptables; reload(hptables)\n",
    "from uw.like2.pipeline import check_ts; reload(check_ts)"
   ]
  },
  {
   "cell_type": "markdown",
   "metadata": {},
   "source": [
    "###Organize data from the TS table"
   ]
  },
  {
   "cell_type": "code",
   "execution_count": 105,
   "metadata": {
    "collapsed": false
   },
   "outputs": [
    {
     "name": "stdout",
     "output_type": "stream",
     "text": [
      "found 6459 pixels with TS>10\n"
     ]
    }
   ],
   "source": [
    "tables = 'ts_kde'\n",
    "mints=10\n",
    "table_filename = 'hptables_%s_512.fits' % tables\n",
    "if not os.path.exists(table_filename):\n",
    "    healpix_map.assemble_tables(tables.split('_'))\n",
    "tsdata = check_ts.TSdata('.',table_filename, 'ts')\n",
    "indices = tsdata.indices(mints, 0)\n",
    "print 'found %d pixels with TS>%d' % (len(indices), mints)"
   ]
  },
  {
   "cell_type": "markdown",
   "metadata": {},
   "source": [
    "###Make clusters"
   ]
  },
  {
   "cell_type": "code",
   "execution_count": 96,
   "metadata": {
    "collapsed": true
   },
   "outputs": [],
   "source": [
    "def cluster(indices, quiet=False):\n",
    "    if not quiet:\n",
    "        print 'Clustering %d pixels...' % len(indices)\n",
    "        sys.stdout.flush()\n",
    "    ret = []\n",
    "    rem = indices\n",
    "    while len(rem)>0:\n",
    "        clu, rem = check_ts.grow(rem)\n",
    "        ret.append(clu)\n",
    "    return ret\n"
   ]
  },
  {
   "cell_type": "code",
   "execution_count": 97,
   "metadata": {
    "collapsed": false
   },
   "outputs": [
    {
     "name": "stdout",
     "output_type": "stream",
     "text": [
      "Clustering 6459 pixels...\n",
      "CPU times: user 10min 20s, sys: 7.98 s, total: 10min 28s\n",
      "Wall time: 10min 44s\n"
     ]
    }
   ],
   "source": [
    "%time clusters = cluster(indices)"
   ]
  },
  {
   "cell_type": "markdown",
   "metadata": {},
   "source": [
    "###Save or load the cluster list"
   ]
  },
  {
   "cell_type": "code",
   "execution_count": 99,
   "metadata": {
    "collapsed": false
   },
   "outputs": [],
   "source": [
    "pickle_file='ts_clusters.pickle'\n",
    "if os.path.exists(pickle_file):\n",
    "    print 'loading file %s' % pickle_file\n",
    "    clusters =pickle.load(open(pickle_file))\n",
    "else:                      \n",
    "    pickle.dump(clusters, open(pickle_file, 'w'))"
   ]
  },
  {
   "cell_type": "code",
   "execution_count": 100,
   "metadata": {
    "collapsed": false
   },
   "outputs": [
    {
     "name": "stdout",
     "output_type": "stream",
     "text": [
      "1\n"
     ]
    },
    {
     "data": {
      "text/plain": [
       "1"
      ]
     },
     "execution_count": 100,
     "metadata": {},
     "output_type": "execute_result"
    }
   ],
   "source": [
    "clu = clusters[large_indices[0]]; print len(clu)\n",
    "len(subclusters(clu, 10))"
   ]
  },
  {
   "cell_type": "code",
   "execution_count": 47,
   "metadata": {
    "collapsed": true
   },
   "outputs": [
    {
     "name": "stdout",
     "output_type": "stream",
     "text": [
      "Clustering 1 pixels...\n",
      "34 1\n",
      "Clustering 9 pixels...\n",
      "27 1\n",
      "Clustering 5 pixels...\n",
      "38 1\n",
      "Clustering 11 pixels...\n",
      "103 1\n",
      "Clustering 4 pixels...\n",
      "34 1\n",
      "Clustering 165 pixels...\n",
      "298 3\n",
      "Clustering 82 pixels...\n",
      "188 3\n",
      "Clustering 8 pixels...\n",
      "34 1\n",
      "Clustering 87 pixels...\n",
      "298 3\n",
      "Clustering 121 pixels...\n",
      "317 3\n",
      "Clustering 133 pixels...\n",
      "293 4\n",
      "Clustering 63 pixels...\n",
      "227 8\n",
      "Clustering 14 pixels...\n",
      "73 1\n",
      "Clustering 103 pixels...\n",
      "320 11\n",
      "Clustering 7 pixels...\n",
      "71 1\n",
      "Clustering 8 pixels...\n",
      "38 2\n",
      "Clustering 23 pixels...\n",
      "72 1\n",
      "Clustering 11 pixels...\n",
      "47 1\n",
      "Clustering 6 pixels...\n",
      "47 1\n",
      "Clustering 12 pixels...\n",
      "95 5\n",
      "Clustering 20 pixels...\n",
      "86 2\n",
      "Clustering 8 pixels...\n",
      "44 1\n",
      "Clustering 22 pixels...\n",
      "45 1\n",
      "Clustering 52 pixels...\n",
      "168 2\n",
      "Clustering 61 pixels...\n",
      "139 3\n",
      "Clustering 3 pixels...\n",
      "29 1\n",
      "Clustering 4 pixels...\n",
      "30 2\n",
      "Clustering 343 pixels...\n",
      "717 3\n",
      "Clustering 6 pixels...\n",
      "32 2\n",
      "Clustering 17 pixels...\n",
      "60 1\n",
      "Clustering 4 pixels...\n",
      "29 1\n",
      "Clustering 15 pixels...\n",
      "27 1\n",
      "Clustering 12 pixels...\n",
      "110 3\n",
      "Clustering 10 pixels...\n",
      "33 3\n",
      "Clustering 18 pixels...\n",
      "32 1\n",
      "Clustering 11 pixels...\n",
      "38 2\n",
      "Clustering 24 pixels...\n",
      "74 2\n",
      "Clustering 7 pixels...\n",
      "65 2\n",
      "Clustering 15 pixels...\n",
      "68 3\n",
      "Clustering 20 pixels...\n",
      "126 4\n",
      "Clustering 3 pixels...\n",
      "27 1\n",
      "Clustering 26 pixels...\n",
      "60 1\n",
      "Clustering 46 pixels...\n",
      "209 6\n",
      "Clustering 9 pixels...\n",
      "36 3\n",
      "Clustering 9 pixels...\n",
      "48 2\n",
      "Clustering 36 pixels...\n",
      "122 2\n",
      "Clustering 4 pixels...\n",
      "32 2\n",
      "Clustering 13 pixels...\n",
      "99 4\n",
      "Clustering 74 pixels...\n",
      "189 2\n",
      "Clustering 7 pixels...\n",
      "32 2\n",
      "Clustering 9 pixels...\n",
      "55 2\n",
      "Clustering 5 pixels...\n",
      "34 1\n",
      "Clustering 12 pixels...\n",
      "85 1\n",
      "Clustering 35 pixels...\n",
      "127 2\n",
      "Clustering 150 pixels...\n",
      "283 1\n",
      "Clustering 49 pixels...\n",
      "253 2\n",
      "Clustering 10 pixels...\n",
      "42 1\n",
      "Clustering 6 pixels...\n",
      "47 1\n",
      "Clustering 5 pixels...\n",
      "50 1\n",
      "Clustering 2 pixels...\n",
      "36 1\n"
     ]
    }
   ],
   "source": [
    "for i in large_indices:\n",
    "    clu = clusters[i]\n",
    "    ts = cl.group(clu)\n",
    "    #print i, len(clu), ts\n",
    "    if ts<30: continue\n",
    "    subs = subclusters(clu, 25)\n",
    "    print len(clu), len(subs)"
   ]
  },
  {
   "cell_type": "code",
   "execution_count": 5,
   "metadata": {
    "collapsed": false
   },
   "outputs": [],
   "source": [
    "i = list(sizes).index(max(sizes))\n",
    "bigone = clusters[i]"
   ]
  },
  {
   "cell_type": "markdown",
   "metadata": {},
   "source": [
    "###Analyze the cluster"
   ]
  },
  {
   "cell_type": "code",
   "execution_count": 70,
   "metadata": {
    "collapsed": false
   },
   "outputs": [
    {
     "data": {
      "text/plain": [
       "(SkyDir(97.093,5.305), 205.57617187499997, -2.686724185691604, 104.06334, 717)"
      ]
     },
     "execution_count": 70,
     "metadata": {},
     "output_type": "execute_result"
    }
   ],
   "source": [
    "class Cluster(object):\n",
    "    def __init__(self, rts):\n",
    "        self.rts = rts\n",
    "    \n",
    "    def group(self, clu):\n",
    "        \"\"\" clu: list of pixel indices\"\"\"\n",
    "        # find the position of the maximum\n",
    "        ts = np.array([self.rts[i] for i in clu])\n",
    "        self.ts=maxts=max(ts)\n",
    "        j = np.arange(len(ts))[ts==maxts][0]\n",
    "        i = clu[j]\n",
    "        self.sdir = check_ts.sdir(i)\n",
    "        return self.ts\n",
    "        \n",
    "cl = Cluster(tsdata.rts)\n",
    "cl.group(bigone)\n",
    "cl.sdir, cl.sdir.l(), cl.sdir.b(), cl.ts, len(bigone)"
   ]
  },
  {
   "cell_type": "code",
   "execution_count": 7,
   "metadata": {
    "collapsed": true
   },
   "outputs": [],
   "source": [
    "# make a DataFrame for the cluster\n",
    "rts = tsdata.rts\n",
    "dd =dict([(i, dict(ts=rts[i])) for i in bigone])\n",
    "df =pd.DataFrame(dd).T.sort_index(by='ts',ascending=False)\n",
    "df['peak'] = [peak(i) for i in df.index]\n",
    "sdirs = [check_ts.sdir(i) for i in df.index]\n",
    "df['ra'] = [s.ra() for s in sdirs]\n",
    "df['dec']= [s.dec() for s in sdirs]"
   ]
  },
  {
   "cell_type": "code",
   "execution_count": 81,
   "metadata": {
    "collapsed": true
   },
   "outputs": [
    {
     "data": {
      "text/html": [
       "<div style=\"max-height:1000px;max-width:1500px;overflow:auto;\">\n",
       "<table border=\"1\" class=\"dataframe\">\n",
       "  <thead>\n",
       "    <tr style=\"text-align: right;\">\n",
       "      <th></th>\n",
       "      <th>ts</th>\n",
       "      <th>peak</th>\n",
       "      <th>ra</th>\n",
       "      <th>dec</th>\n",
       "    </tr>\n",
       "  </thead>\n",
       "  <tbody>\n",
       "    <tr>\n",
       "      <th>1646737</th>\n",
       "      <td> 104.063339</td>\n",
       "      <td> 28.662549</td>\n",
       "      <td> 97.093175</td>\n",
       "      <td> 5.304582</td>\n",
       "    </tr>\n",
       "    <tr>\n",
       "      <th>1648786</th>\n",
       "      <td>  95.702248</td>\n",
       "      <td> 19.929324</td>\n",
       "      <td> 97.067488</td>\n",
       "      <td> 5.192192</td>\n",
       "    </tr>\n",
       "    <tr>\n",
       "      <th>1644689</th>\n",
       "      <td>  89.157364</td>\n",
       "      <td> 19.897333</td>\n",
       "      <td> 97.118857</td>\n",
       "      <td> 5.416974</td>\n",
       "    </tr>\n",
       "    <tr>\n",
       "      <th>1663125</th>\n",
       "      <td>  45.105213</td>\n",
       "      <td> 19.788410</td>\n",
       "      <td> 96.887478</td>\n",
       "      <td> 4.405576</td>\n",
       "    </tr>\n",
       "    <tr>\n",
       "      <th>1652883</th>\n",
       "      <td>  78.314751</td>\n",
       "      <td> 18.317366</td>\n",
       "      <td> 97.016096</td>\n",
       "      <td> 4.967425</td>\n",
       "    </tr>\n",
       "    <tr>\n",
       "      <th>1632413</th>\n",
       "      <td>  50.921719</td>\n",
       "      <td> 18.008855</td>\n",
       "      <td> 98.492875</td>\n",
       "      <td> 3.753633</td>\n",
       "    </tr>\n",
       "    <tr>\n",
       "      <th>1638555</th>\n",
       "      <td>  48.216057</td>\n",
       "      <td> 15.872084</td>\n",
       "      <td> 98.172084</td>\n",
       "      <td> 3.884527</td>\n",
       "    </tr>\n",
       "    <tr>\n",
       "      <th>1654931</th>\n",
       "      <td>  64.137131</td>\n",
       "      <td> 15.490956</td>\n",
       "      <td> 96.990389</td>\n",
       "      <td> 4.855047</td>\n",
       "    </tr>\n",
       "    <tr>\n",
       "      <th>1620125</th>\n",
       "      <td>  55.762852</td>\n",
       "      <td> 15.201361</td>\n",
       "      <td> 98.891561</td>\n",
       "      <td> 3.959463</td>\n",
       "    </tr>\n",
       "    <tr>\n",
       "      <th>1648789</th>\n",
       "      <td>  66.827049</td>\n",
       "      <td> 15.125195</td>\n",
       "      <td> 97.311973</td>\n",
       "      <td> 4.725159</td>\n",
       "    </tr>\n",
       "    <tr>\n",
       "      <th>1640603</th>\n",
       "      <td>  42.105671</td>\n",
       "      <td> 14.980382</td>\n",
       "      <td> 98.065123</td>\n",
       "      <td> 3.928106</td>\n",
       "    </tr>\n",
       "    <tr>\n",
       "      <th>1642640</th>\n",
       "      <td>  72.985161</td>\n",
       "      <td> 14.684106</td>\n",
       "      <td> 97.144534</td>\n",
       "      <td> 5.529370</td>\n",
       "    </tr>\n",
       "    <tr>\n",
       "      <th>1634446</th>\n",
       "      <td>  50.955025</td>\n",
       "      <td> 14.146679</td>\n",
       "      <td> 97.247208</td>\n",
       "      <td> 5.978984</td>\n",
       "    </tr>\n",
       "    <tr>\n",
       "      <th>1570966</th>\n",
       "      <td>  47.702019</td>\n",
       "      <td> 13.799854</td>\n",
       "      <td> 99.921878</td>\n",
       "      <td> 5.874339</td>\n",
       "    </tr>\n",
       "    <tr>\n",
       "      <th>1632402</th>\n",
       "      <td>  69.024979</td>\n",
       "      <td> 13.597254</td>\n",
       "      <td> 97.599474</td>\n",
       "      <td> 5.468423</td>\n",
       "    </tr>\n",
       "    <tr>\n",
       "      <th>1640592</th>\n",
       "      <td>  60.505817</td>\n",
       "      <td> 13.492178</td>\n",
       "      <td> 97.170207</td>\n",
       "      <td> 5.641769</td>\n",
       "    </tr>\n",
       "    <tr>\n",
       "      <th>1581203</th>\n",
       "      <td>  60.486691</td>\n",
       "      <td> 12.668644</td>\n",
       "      <td> 99.385920</td>\n",
       "      <td> 6.093732</td>\n",
       "    </tr>\n",
       "    <tr>\n",
       "      <th>1650834</th>\n",
       "      <td>  82.974113</td>\n",
       "      <td> 12.627201</td>\n",
       "      <td> 97.041795</td>\n",
       "      <td> 5.079807</td>\n",
       "    </tr>\n",
       "    <tr>\n",
       "      <th>1650833</th>\n",
       "      <td>  86.782234</td>\n",
       "      <td> 12.117872</td>\n",
       "      <td> 96.960200</td>\n",
       "      <td> 5.235433</td>\n",
       "    </tr>\n",
       "    <tr>\n",
       "      <th>1644692</th>\n",
       "      <td>  64.743607</td>\n",
       "      <td> 12.105335</td>\n",
       "      <td> 97.363487</td>\n",
       "      <td> 4.949899</td>\n",
       "    </tr>\n",
       "    <tr>\n",
       "      <th>1650837</th>\n",
       "      <td>  54.181252</td>\n",
       "      <td> 11.707296</td>\n",
       "      <td> 97.286206</td>\n",
       "      <td> 4.612794</td>\n",
       "    </tr>\n",
       "    <tr>\n",
       "      <th>1577109</th>\n",
       "      <td>  52.691032</td>\n",
       "      <td> 11.453196</td>\n",
       "      <td> 99.681421</td>\n",
       "      <td> 5.849843</td>\n",
       "    </tr>\n",
       "    <tr>\n",
       "      <th>1642650</th>\n",
       "      <td>  30.603481</td>\n",
       "      <td> 11.398983</td>\n",
       "      <td> 97.958147</td>\n",
       "      <td> 3.971659</td>\n",
       "    </tr>\n",
       "    <tr>\n",
       "      <th>1579158</th>\n",
       "      <td>  47.290134</td>\n",
       "      <td> 11.354255</td>\n",
       "      <td> 99.655305</td>\n",
       "      <td> 5.737524</td>\n",
       "    </tr>\n",
       "    <tr>\n",
       "      <th>1624219</th>\n",
       "      <td>  50.525013</td>\n",
       "      <td> 11.262797</td>\n",
       "      <td> 98.596735</td>\n",
       "      <td> 4.202933</td>\n",
       "    </tr>\n",
       "    <tr>\n",
       "      <th>1630349</th>\n",
       "      <td>  42.979073</td>\n",
       "      <td> 11.157425</td>\n",
       "      <td> 97.298532</td>\n",
       "      <td> 6.203806</td>\n",
       "    </tr>\n",
       "    <tr>\n",
       "      <th>1628318</th>\n",
       "      <td>  41.446758</td>\n",
       "      <td> 11.142000</td>\n",
       "      <td> 98.706663</td>\n",
       "      <td> 3.666245</td>\n",
       "    </tr>\n",
       "    <tr>\n",
       "      <th>1634460</th>\n",
       "      <td>  46.575981</td>\n",
       "      <td> 10.856468</td>\n",
       "      <td> 98.385960</td>\n",
       "      <td> 3.797290</td>\n",
       "    </tr>\n",
       "    <tr>\n",
       "      <th>1626267</th>\n",
       "      <td>  49.589565</td>\n",
       "      <td> 10.841645</td>\n",
       "      <td> 98.570775</td>\n",
       "      <td> 4.090604</td>\n",
       "    </tr>\n",
       "    <tr>\n",
       "      <th>1611922</th>\n",
       "      <td>  46.670662</td>\n",
       "      <td> 10.666022</td>\n",
       "      <td> 98.264861</td>\n",
       "      <td> 5.812900</td>\n",
       "    </tr>\n",
       "    <tr>\n",
       "      <th>...</th>\n",
       "      <td>...</td>\n",
       "      <td>...</td>\n",
       "      <td>...</td>\n",
       "      <td>...</td>\n",
       "    </tr>\n",
       "    <tr>\n",
       "      <th>1650838</th>\n",
       "      <td>  28.493368</td>\n",
       "      <td> -7.309190</td>\n",
       "      <td> 97.367556</td>\n",
       "      <td> 4.457080</td>\n",
       "    </tr>\n",
       "    <tr>\n",
       "      <th>1630352</th>\n",
       "      <td>  22.743780</td>\n",
       "      <td> -7.366176</td>\n",
       "      <td> 97.543645</td>\n",
       "      <td> 5.736590</td>\n",
       "    </tr>\n",
       "    <tr>\n",
       "      <th>1638554</th>\n",
       "      <td>  12.545033</td>\n",
       "      <td> -7.630435</td>\n",
       "      <td> 98.091037</td>\n",
       "      <td> 4.040438</td>\n",
       "    </tr>\n",
       "    <tr>\n",
       "      <th>1636507</th>\n",
       "      <td>  16.439816</td>\n",
       "      <td> -7.740969</td>\n",
       "      <td> 98.198012</td>\n",
       "      <td> 3.996856</td>\n",
       "    </tr>\n",
       "    <tr>\n",
       "      <th>1648784</th>\n",
       "      <td>  36.775848</td>\n",
       "      <td> -7.756351</td>\n",
       "      <td> 96.904184</td>\n",
       "      <td> 5.503436</td>\n",
       "    </tr>\n",
       "    <tr>\n",
       "      <th>1646735</th>\n",
       "      <td>  33.208904</td>\n",
       "      <td> -7.782573</td>\n",
       "      <td> 96.929821</td>\n",
       "      <td> 5.615840</td>\n",
       "    </tr>\n",
       "    <tr>\n",
       "      <th>1652887</th>\n",
       "      <td>  19.948153</td>\n",
       "      <td> -7.847558</td>\n",
       "      <td> 97.341757</td>\n",
       "      <td> 4.344726</td>\n",
       "    </tr>\n",
       "    <tr>\n",
       "      <th>1663126</th>\n",
       "      <td>  15.881694</td>\n",
       "      <td> -7.878495</td>\n",
       "      <td> 96.968855</td>\n",
       "      <td> 4.249970</td>\n",
       "    </tr>\n",
       "    <tr>\n",
       "      <th>1640593</th>\n",
       "      <td>  54.009308</td>\n",
       "      <td> -7.926730</td>\n",
       "      <td> 97.251861</td>\n",
       "      <td> 5.486086</td>\n",
       "    </tr>\n",
       "    <tr>\n",
       "      <th>1638544</th>\n",
       "      <td>  42.232319</td>\n",
       "      <td> -8.110923</td>\n",
       "      <td> 97.277554</td>\n",
       "      <td> 5.598481</td>\n",
       "    </tr>\n",
       "    <tr>\n",
       "      <th>1581204</th>\n",
       "      <td>  37.378471</td>\n",
       "      <td> -8.233030</td>\n",
       "      <td> 99.467061</td>\n",
       "      <td> 5.937569</td>\n",
       "    </tr>\n",
       "    <tr>\n",
       "      <th>1656982</th>\n",
       "      <td>  15.028049</td>\n",
       "      <td> -8.557297</td>\n",
       "      <td> 97.127524</td>\n",
       "      <td> 4.431395</td>\n",
       "    </tr>\n",
       "    <tr>\n",
       "      <th>1624222</th>\n",
       "      <td>  23.889702</td>\n",
       "      <td> -8.857934</td>\n",
       "      <td> 98.839548</td>\n",
       "      <td> 3.734829</td>\n",
       "    </tr>\n",
       "    <tr>\n",
       "      <th>1622174</th>\n",
       "      <td>  13.168926</td>\n",
       "      <td> -9.839358</td>\n",
       "      <td> 98.946420</td>\n",
       "      <td> 3.691074</td>\n",
       "    </tr>\n",
       "    <tr>\n",
       "      <th>1648792</th>\n",
       "      <td>  17.275824</td>\n",
       "      <td>-10.025770</td>\n",
       "      <td> 97.555921</td>\n",
       "      <td> 4.257932</td>\n",
       "    </tr>\n",
       "    <tr>\n",
       "      <th>1663124</th>\n",
       "      <td>  17.207354</td>\n",
       "      <td>-10.553618</td>\n",
       "      <td> 96.806040</td>\n",
       "      <td> 4.561158</td>\n",
       "    </tr>\n",
       "    <tr>\n",
       "      <th>1659029</th>\n",
       "      <td>  14.943082</td>\n",
       "      <td>-11.562533</td>\n",
       "      <td> 97.020381</td>\n",
       "      <td> 4.474682</td>\n",
       "    </tr>\n",
       "    <tr>\n",
       "      <th>1646744</th>\n",
       "      <td>  12.678736</td>\n",
       "      <td>-11.620729</td>\n",
       "      <td> 97.662977</td>\n",
       "      <td> 4.214491</td>\n",
       "    </tr>\n",
       "    <tr>\n",
       "      <th>1654932</th>\n",
       "      <td>  25.022858</td>\n",
       "      <td>-11.651243</td>\n",
       "      <td> 97.071870</td>\n",
       "      <td> 4.699412</td>\n",
       "    </tr>\n",
       "    <tr>\n",
       "      <th>1656981</th>\n",
       "      <td>  14.722183</td>\n",
       "      <td>-12.112256</td>\n",
       "      <td> 97.046130</td>\n",
       "      <td> 4.587045</td>\n",
       "    </tr>\n",
       "    <tr>\n",
       "      <th>1636496</th>\n",
       "      <td>  27.022623</td>\n",
       "      <td>-12.751698</td>\n",
       "      <td> 97.303244</td>\n",
       "      <td> 5.710879</td>\n",
       "    </tr>\n",
       "    <tr>\n",
       "      <th>1634459</th>\n",
       "      <td>  14.196957</td>\n",
       "      <td>-13.107889</td>\n",
       "      <td> 98.304972</td>\n",
       "      <td> 3.953247</td>\n",
       "    </tr>\n",
       "    <tr>\n",
       "      <th>1628317</th>\n",
       "      <td>  26.318251</td>\n",
       "      <td>-13.173911</td>\n",
       "      <td> 98.625761</td>\n",
       "      <td> 3.822269</td>\n",
       "    </tr>\n",
       "    <tr>\n",
       "      <th>1652884</th>\n",
       "      <td>  35.419201</td>\n",
       "      <td>-13.458165</td>\n",
       "      <td> 97.097602</td>\n",
       "      <td> 4.811783</td>\n",
       "    </tr>\n",
       "    <tr>\n",
       "      <th>1630364</th>\n",
       "      <td>  21.194324</td>\n",
       "      <td>-13.688514</td>\n",
       "      <td> 98.518846</td>\n",
       "      <td> 3.865954</td>\n",
       "    </tr>\n",
       "    <tr>\n",
       "      <th>1646738</th>\n",
       "      <td>  58.392921</td>\n",
       "      <td>-13.799022</td>\n",
       "      <td> 97.174757</td>\n",
       "      <td> 5.148919</td>\n",
       "    </tr>\n",
       "    <tr>\n",
       "      <th>1650835</th>\n",
       "      <td>  44.359386</td>\n",
       "      <td>-15.016352</td>\n",
       "      <td> 97.123327</td>\n",
       "      <td> 4.924158</td>\n",
       "    </tr>\n",
       "    <tr>\n",
       "      <th>1634447</th>\n",
       "      <td>  19.055431</td>\n",
       "      <td>-15.445440</td>\n",
       "      <td> 97.328931</td>\n",
       "      <td> 5.823280</td>\n",
       "    </tr>\n",
       "    <tr>\n",
       "      <th>1632412</th>\n",
       "      <td>  15.460735</td>\n",
       "      <td>-15.889076</td>\n",
       "      <td> 98.411917</td>\n",
       "      <td> 3.909613</td>\n",
       "    </tr>\n",
       "    <tr>\n",
       "      <th>1648787</th>\n",
       "      <td>  50.539074</td>\n",
       "      <td>-16.276383</td>\n",
       "      <td> 97.149045</td>\n",
       "      <td> 5.036537</td>\n",
       "    </tr>\n",
       "  </tbody>\n",
       "</table>\n",
       "<p>717 rows × 4 columns</p>\n",
       "</div>"
      ],
      "text/plain": [
       "                 ts       peak         ra       dec\n",
       "1646737  104.063339  28.662549  97.093175  5.304582\n",
       "1648786   95.702248  19.929324  97.067488  5.192192\n",
       "1644689   89.157364  19.897333  97.118857  5.416974\n",
       "1663125   45.105213  19.788410  96.887478  4.405576\n",
       "1652883   78.314751  18.317366  97.016096  4.967425\n",
       "1632413   50.921719  18.008855  98.492875  3.753633\n",
       "1638555   48.216057  15.872084  98.172084  3.884527\n",
       "1654931   64.137131  15.490956  96.990389  4.855047\n",
       "1620125   55.762852  15.201361  98.891561  3.959463\n",
       "1648789   66.827049  15.125195  97.311973  4.725159\n",
       "1640603   42.105671  14.980382  98.065123  3.928106\n",
       "1642640   72.985161  14.684106  97.144534  5.529370\n",
       "1634446   50.955025  14.146679  97.247208  5.978984\n",
       "1570966   47.702019  13.799854  99.921878  5.874339\n",
       "1632402   69.024979  13.597254  97.599474  5.468423\n",
       "1640592   60.505817  13.492178  97.170207  5.641769\n",
       "1581203   60.486691  12.668644  99.385920  6.093732\n",
       "1650834   82.974113  12.627201  97.041795  5.079807\n",
       "1650833   86.782234  12.117872  96.960200  5.235433\n",
       "1644692   64.743607  12.105335  97.363487  4.949899\n",
       "1650837   54.181252  11.707296  97.286206  4.612794\n",
       "1577109   52.691032  11.453196  99.681421  5.849843\n",
       "1642650   30.603481  11.398983  97.958147  3.971659\n",
       "1579158   47.290134  11.354255  99.655305  5.737524\n",
       "1624219   50.525013  11.262797  98.596735  4.202933\n",
       "1630349   42.979073  11.157425  97.298532  6.203806\n",
       "1628318   41.446758  11.142000  98.706663  3.666245\n",
       "1634460   46.575981  10.856468  98.385960  3.797290\n",
       "1626267   49.589565  10.841645  98.570775  4.090604\n",
       "1611922   46.670662  10.666022  98.264861  5.812900\n",
       "...             ...        ...        ...       ...\n",
       "1650838   28.493368  -7.309190  97.367556  4.457080\n",
       "1630352   22.743780  -7.366176  97.543645  5.736590\n",
       "1638554   12.545033  -7.630435  98.091037  4.040438\n",
       "1636507   16.439816  -7.740969  98.198012  3.996856\n",
       "1648784   36.775848  -7.756351  96.904184  5.503436\n",
       "1646735   33.208904  -7.782573  96.929821  5.615840\n",
       "1652887   19.948153  -7.847558  97.341757  4.344726\n",
       "1663126   15.881694  -7.878495  96.968855  4.249970\n",
       "1640593   54.009308  -7.926730  97.251861  5.486086\n",
       "1638544   42.232319  -8.110923  97.277554  5.598481\n",
       "1581204   37.378471  -8.233030  99.467061  5.937569\n",
       "1656982   15.028049  -8.557297  97.127524  4.431395\n",
       "1624222   23.889702  -8.857934  98.839548  3.734829\n",
       "1622174   13.168926  -9.839358  98.946420  3.691074\n",
       "1648792   17.275824 -10.025770  97.555921  4.257932\n",
       "1663124   17.207354 -10.553618  96.806040  4.561158\n",
       "1659029   14.943082 -11.562533  97.020381  4.474682\n",
       "1646744   12.678736 -11.620729  97.662977  4.214491\n",
       "1654932   25.022858 -11.651243  97.071870  4.699412\n",
       "1656981   14.722183 -12.112256  97.046130  4.587045\n",
       "1636496   27.022623 -12.751698  97.303244  5.710879\n",
       "1634459   14.196957 -13.107889  98.304972  3.953247\n",
       "1628317   26.318251 -13.173911  98.625761  3.822269\n",
       "1652884   35.419201 -13.458165  97.097602  4.811783\n",
       "1630364   21.194324 -13.688514  98.518846  3.865954\n",
       "1646738   58.392921 -13.799022  97.174757  5.148919\n",
       "1650835   44.359386 -15.016352  97.123327  4.924158\n",
       "1634447   19.055431 -15.445440  97.328931  5.823280\n",
       "1632412   15.460735 -15.889076  98.411917  3.909613\n",
       "1648787   50.539074 -16.276383  97.149045  5.036537\n",
       "\n",
       "[717 rows x 4 columns]"
      ]
     },
     "execution_count": 81,
     "metadata": {},
     "output_type": "execute_result"
    }
   ],
   "source": [
    "df.sort_index(by='peak', ascending=False)"
   ]
  },
  {
   "cell_type": "code",
   "execution_count": 8,
   "metadata": {
    "collapsed": false
   },
   "outputs": [
    {
     "data": {
      "text/plain": [
       "28.662549495697021"
      ]
     },
     "execution_count": 8,
     "metadata": {},
     "output_type": "execute_result"
    }
   ],
   "source": [
    "from pointlike import IntVector\n",
    "def peak(i):\n",
    "    iv = IntVector()\n",
    "    nb = check_ts.band.findNeighbors(int(i), iv)\n",
    "    tsvals = [rts[j] for j in iv] \n",
    "    return rts[i] - sum(tsvals)/len(tsvals)\n",
    "peak(df.index[0])"
   ]
  },
  {
   "cell_type": "markdown",
   "metadata": {},
   "source": [
    "##Try sub-clusters\n",
    "First break up with TS=25 threshold"
   ]
  },
  {
   "cell_type": "code",
   "execution_count": 101,
   "metadata": {
    "collapsed": true
   },
   "outputs": [],
   "source": [
    "def subclusters(clust, mints=10, quiet=True):\n",
    "    cut_cluster = filter(lambda i: rts[i]>mints, clust)\n",
    "    if len(cut_cluster)==0: return []\n",
    "    clusters = cluster(cut_cluster, quiet)\n",
    "    return clusters\n",
    "\n",
    "def properties(cluster):\n",
    "    return (len(cluster), max([rts[i] for i in cluster]))\n",
    "def ts_max(cluster):\n",
    "    return max([rts[i] for i in cluster])"
   ]
  },
  {
   "cell_type": "code",
   "execution_count": 102,
   "metadata": {
    "collapsed": false
   },
   "outputs": [
    {
     "data": {
      "text/plain": [
       "(34, 32)"
      ]
     },
     "execution_count": 102,
     "metadata": {},
     "output_type": "execute_result"
    }
   ],
   "source": [
    "sizes = np.array([len(c) for c in clusters])\n",
    "\n",
    "large_indices = np.arange(len(clusters))[sizes>25]\n",
    "\n",
    "maxtsvals = np.array([cl.group(clusters[i]) for i in large_indices])\n",
    "sum(sizes>25), sum(maxtsvals>25)"
   ]
  },
  {
   "cell_type": "code",
   "execution_count": 103,
   "metadata": {
    "collapsed": false,
    "scrolled": true
   },
   "outputs": [
    {
     "data": {
      "text/plain": [
       "49"
      ]
     },
     "execution_count": 103,
     "metadata": {},
     "output_type": "execute_result"
    }
   ],
   "source": [
    "def split_clusters(clusters, maxsize=25, split_ts = 25):\n",
    "    # loop over clusters, make a list of split clusters\n",
    "    splits = []\n",
    "    for clu in clusters:\n",
    "        if len(clu)<maxsize: continue\n",
    "        t = subclusters(clu, split_ts)\n",
    "        if len(t)<2: continue\n",
    "        splits += t\n",
    "    return splits\n",
    "len(split_clusters(clusters))"
   ]
  },
  {
   "cell_type": "markdown",
   "metadata": {},
   "source": [
    "##Final test "
   ]
  },
  {
   "cell_type": "code",
   "execution_count": 104,
   "metadata": {
    "collapsed": false
   },
   "outputs": [
    {
     "data": {
      "text/plain": [
       "u'/nfs/farm/g/glast/g/catalog/pointlike/skymodels/P301_6years/uw970'"
      ]
     },
     "execution_count": 104,
     "metadata": {},
     "output_type": "execute_result"
    }
   ],
   "source": [
    "pwd"
   ]
  },
  {
   "cell_type": "code",
   "execution_count": 109,
   "metadata": {
    "collapsed": false
   },
   "outputs": [
    {
     "name": "stdout",
     "output_type": "stream",
     "text": [
      "Clustering 6459 pixels...\n",
      "Found 1946 clusters\n",
      "Found 1946 clusters\n",
      "Added split clusters, now 1993 total\n"
     ]
    },
    {
     "data": {
      "text/plain": [
       "1993"
      ]
     },
     "execution_count": 109,
     "metadata": {},
     "output_type": "execute_result"
    }
   ],
   "source": [
    "check_ts.make_seeds('', table_filename, seedroot='T970')"
   ]
  },
  {
   "cell_type": "code",
   "execution_count": null,
   "metadata": {
    "collapsed": true
   },
   "outputs": [],
   "source": []
  }
 ],
 "metadata": {
  "kernelspec": {
   "display_name": "Python 2",
   "language": "python",
   "name": "python2"
  },
  "language_info": {
   "codemirror_mode": {
    "name": "ipython",
    "version": 2
   },
   "file_extension": ".py",
   "mimetype": "text/x-python",
   "name": "python",
   "nbconvert_exporter": "python",
   "pygments_lexer": "ipython2",
   "version": "2.7.9"
  }
 },
 "nbformat": 4,
 "nbformat_minor": 0
}
