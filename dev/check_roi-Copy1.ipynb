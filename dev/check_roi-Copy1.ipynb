{
 "metadata": {
  "name": "",
  "signature": "sha256:299b8489cdab7e08426a8290cd3415a75ea1aee31d951b7f67b9a3a28d48fa29"
 },
 "nbformat": 3,
 "nbformat_minor": 0,
 "worksheets": [
  {
   "cells": [
    {
     "cell_type": "heading",
     "level": 1,
     "metadata": {},
     "source": [
      "Check an ROI"
     ]
    },
    {
     "cell_type": "code",
     "collapsed": false,
     "input": [
      "%matplotlib inline\n",
      "os.chdir(os.path.expandvars('$FERMI/skymodels/P301_6years/uw967'))\n",
      "#os.chdir(os.path.expandvars('$FERMI/skymodels/P202/uw30' )) #P301_5years/uw908'))\n",
      "from uw.like2 import process, from_healpix; \n",
      "map( reload,        (process, from_healpix));"
     ],
     "language": "python",
     "metadata": {},
     "outputs": [],
     "prompt_number": 1
    },
    {
     "cell_type": "code",
     "collapsed": false,
     "input": [
      "r= process.Process('.', finish=False, repivot_flag=False, seed_flag=False, residual_flag=False, update_positions_flag=True)"
     ],
     "language": "python",
     "metadata": {},
     "outputs": [
      {
       "output_type": "stream",
       "stream": "stdout",
       "text": [
        "Using configuration file \"config.txt\" in folder: /nfs/farm/g/glast/u55/catalog/pointlike/skymodels/P301_6years/uw967/.\n",
        "Opening dataset P301_6years from key in /afs/slac/g/glast/groups/catalog//pointlike/fermi/data/dataspec.py"
       ]
      },
      {
       "output_type": "stream",
       "stream": "stdout",
       "text": [
        "\n",
        "Extracting DSS from existing binfile"
       ]
      },
      {
       "output_type": "stream",
       "stream": "stdout",
       "text": [
        "\n",
        "GTI from binfile Gti: 38437 intervals from 239557417 to 428689918, on time 150881091\n",
        "Verified binfile /afs/slac/g/glast/groups/catalog//pointlike/fermi/data/P8_P301/6years_4bpd.fits\n",
        "no header info in ltcube?"
       ]
      },
      {
       "output_type": "stream",
       "stream": "stdout",
       "text": [
        "\n",
        "Accepting ltcube without DSS info since legacy specified\n",
        "Failed gti check:\n",
        "  ltcube: Gti: 37884 intervals from 239557417 to 428689918, on time 150902856 \n",
        " binfile: Gti: 38437 intervals from 239557417 to 428689918, on time 150881091\n",
        "loading binfile /afs/slac/g/glast/groups/catalog//pointlike/fermi/data/P8_P301/6years_4bpd.fits ..."
       ]
      },
      {
       "output_type": "stream",
       "stream": "stdout",
       "text": [
        " found 162070183 photons in 40 bands, energies 10-1000000 MeV\n",
        "dataset \"P301_6years\", found in /afs/slac/g/glast/groups/catalog//pointlike/fermi/data/dataspec.py:\n",
        "  Bins per decade: 4\n",
        "  FT1 files: \tNone\n",
        "  FT2 files: \tNone\n",
        "  Binned data: /afs/slac/g/glast/groups/catalog//pointlike/fermi/data/P8_P301/6years_4bpd.fits\n",
        "             :  162070183 photons, 40 energy bands from 10 to 1000000 MeV\n",
        "  Livetime cube: /afs/slac/g/glast/groups/catalog//pointlike/fermi/data/P8_P301/ltcube_6years_zmax100.fits\n",
        "  Gti: 38437 intervals from 239557417 to 428689918, on time 150881091\n",
        "  DSS: name             value     units     ref       \n",
        "\n",
        "Will load healpix sources from /nfs/farm/g/glast/u55/catalog/pointlike/skymodels/P301_6years/uw967/./pickle.zip"
       ]
      },
      {
       "output_type": "stream",
       "stream": "stdout",
       "text": [
        "\n"
       ]
      }
     ],
     "prompt_number": 15
    },
    {
     "cell_type": "code",
     "collapsed": false,
     "input": [
      "rois= [ 923]\n",
      "len(rois)"
     ],
     "language": "python",
     "metadata": {},
     "outputs": [
      {
       "metadata": {},
       "output_type": "pyout",
       "prompt_number": 5,
       "text": [
        "1"
       ]
      }
     ],
     "prompt_number": 5
    },
    {
     "cell_type": "code",
     "collapsed": false,
     "input": [
      "for roi in rois: #roi,srcname=887, '*4062'\n",
      "    r.setup_roi(roi); #r.summarize()\n",
      "    r.fit('S966*', tolerance=0)\n",
      "    r.fit(tolerance=0)\n",
      "    r.process()"
     ],
     "language": "python",
     "metadata": {},
     "outputs": [
      {
       "output_type": "stream",
       "stream": "stdout",
       "text": [
        "126 total sources: 3 extended, 3 global\n",
        "4 calls, function value, improvement, quality: 4298888.6, 0.07, 0.21"
       ]
      },
      {
       "output_type": "stream",
       "stream": "stdout",
       "text": [
        "\n",
        "Name                  index     value  error(%)  gradient\n",
        "S966-2152_Norm            6 5.265e-13      72.4      -3.9\n",
        "         _Index           7     2.195      14.4       1.4\n",
        "Minimizer warning: bad errors for values ['S966-2160_Norm']"
       ]
      },
      {
       "output_type": "stream",
       "stream": "stdout",
       "text": [
        "\n",
        "3 calls, function value, improvement, quality: 4298888.6, 0.00, 27.27"
       ]
      },
      {
       "output_type": "stream",
       "stream": "stdout",
       "text": [
        "\n",
        "Name                  index     value  error(%)  gradient\n",
        "Vela X_Norm               0 2.308e-14      13.2     -54.3\n",
        "      _Index              1     2.766       2.4     -50.8\n",
        "Puppis A_Norm             2 9.301e-13       6.3     155.5\n",
        "        _Index            3     2.033       2.4      61.7\n",
        "P86Y1910_Norm             4 1.468e-13      18.4       2.6\n",
        "        _Index            5     2.526       4.8     -11.7\n",
        "S966-2152_Norm            6 5.265e-13      77.7      -3.9\n",
        "         _Index           7     2.195      15.2       1.4\n",
        "PSR J0835-4510_Norm       8 3.345e-09       6.9    -105.7\n",
        "              _Index      9      1.32       1.6     294.7\n",
        "              _Cutoff    10     926.5      10.4     -41.0\n",
        "              _b         11    0.5907       2.5      52.7\n",
        "P86Y1886_Norm            12 4.943e-15      27.7      19.3\n",
        "        _Index           13     2.149      11.2       5.0\n",
        "        _beta            14 0.0002223   32194.7     -39.1\n",
        "S966-2172_Norm           15 1.049e-12      24.0      33.8\n",
        "         _Index          16       2.2       7.3       7.1\n",
        "S966-2160_Norm           17 2.495e-13       ***      -6.8\n",
        "         _Index          18       2.2       8.3       2.6\n",
        "P86Y1860_Norm            19 3.463e-14      22.4      21.5\n",
        "        _Index           20     1.922       7.0       1.3\n",
        "P86Y1898_Norm            21  1.52e-13      22.7     -13.8\n",
        "        _Index           22     2.518       6.4      -8.3\n",
        "================================================================================\n",
        "2015-05-15 07:21:52 - HP12_0923 - interactive\n"
       ]
      },
      {
       "output_type": "stream",
       "stream": "stdout",
       "text": [
        "---Updating positions---\n",
        "name               TS    qual delta_ts\n",
        "Vela X             608  no localization info\n",
        "Puppis A           991  no localization info\n",
        "P86Y1910            97    0.6  -0.1  SkyDir(129.210,-46.101) -> SkyDir(129.210,-46.101), moved 0.00\n",
        "S966-2152           29    1.8  -0.0  SkyDir(129.200,-46.649) -> SkyDir(129.200,-46.649), moved 0.00\n",
        "PSR J0835-4510  3580754    0.0   0.0  SkyDir(128.838,-45.178) -> SkyDir(128.838,-45.178), moved 0.00\n",
        "P86Y1886            33   48.5  -1.1  qual>8.0\n",
        "S966-2172           36    2.1  -0.0  SkyDir(125.090,-42.968) -> SkyDir(125.090,-42.968), moved 0.00\n",
        "S966-2160           11    7.5  -0.2  SkyDir(128.349,-46.291) -> SkyDir(128.349,-46.291), moved 0.00\n",
        "P86Y1860            41    0.9  -0.1  SkyDir(125.967,-42.990) -> SkyDir(125.967,-42.990), moved 0.00\n",
        "P86Y1898            74    1.3   0.0  SkyDir(128.364,-43.718) -> SkyDir(128.364,-43.718), moved 0.00\n",
        "------------------------------------------------------------------------------------------ \n",
        "\t Nearby sources within 5.0 degrees before fit, logL=4298889\n",
        "name               dist        ra       dec        TS eflux(eV)    index   energy   beta/b\n",
        "P86Y1886            0.3   127.621   -44.889        33      10.2*    2.15*   15086     0"
       ]
      },
      {
       "output_type": "stream",
       "stream": "stdout",
       "text": [
        "\n",
        "Vela X              0.8   128.287   -45.190       607      96.3*    2.77!   20000     0.16 "
       ]
      },
      {
       "output_type": "stream",
       "stream": "stdout",
       "text": [
        "\n",
        "P86Y1898            1.0   128.364   -43.718        74      12.1*    2.52!    2760     0"
       ]
      },
      {
       "output_type": "stream",
       "stream": "stdout",
       "text": [
        "\n",
        "PSR J0835-4510      1.1   128.838   -45.178   3580647    5650.7!    1.32!     926*    0.59!"
       ]
      },
      {
       "output_type": "stream",
       "stream": "stdout",
       "text": [
        "\n",
        "S966-2160           1.8   128.349   -46.291        11       1.5?    2.20!    1000     0"
       ]
      },
      {
       "output_type": "stream",
       "stream": "stdout",
       "text": [
        "\n",
        "P86Y1860            1.9   125.967   -42.990        41       7.3*    1.92!    5631     0"
       ]
      },
      {
       "output_type": "stream",
       "stream": "stdout",
       "text": [
        "\n",
        "P86Y1910            1.9   129.210   -46.101        97      21.9*    2.53!    3517     0"
       ]
      },
      {
       "output_type": "stream",
       "stream": "stdout",
       "text": [
        "\n",
        "Puppis A            2.2   125.658   -42.844       990      39.1!    2.03!    2703     0.05 "
       ]
      },
      {
       "output_type": "stream",
       "stream": "stdout",
       "text": [
        "\n",
        "S966-2172           2.4   125.090   -42.968        36       6.2*    2.20!    1000     0"
       ]
      },
      {
       "output_type": "stream",
       "stream": "stdout",
       "text": [
        "\n",
        "S966-2152           2.4   129.200   -46.649        29       3.1*    2.20*    1000     0"
       ]
      },
      {
       "output_type": "stream",
       "stream": "stdout",
       "text": [
        "\n",
        "P86Y1906            2.7   129.015   -42.144                 9.0     2.76     1197     0\n",
        "P86Y1928            2.7   130.503   -46.195                 8.9     2.44     2442     0\n",
        "S966-1986           2.8   131.146   -45.621                 5.6     2.47     1000     0\n",
        "P86Y1873            3.0   127.045   -41.567                 4.4     2.63     1546     0"
       ]
      },
      {
       "output_type": "stream",
       "stream": "stdout",
       "text": [
        "\n",
        "P86Y1940            3.1   131.484   -43.385                 8.2     2.45      827     0.57 \n",
        "S966-2048           3.3   125.941   -41.431                 2.5     2.28     1000     0\n",
        "P86Y1946            3.3   132.069   -45.445                 9.8     2.42     2136     0\n",
        "P86Y1917            3.5   129.786   -47.735                 1.9     2.14     5178     0"
       ]
      },
      {
       "output_type": "stream",
       "stream": "stdout",
       "text": [
        "\n",
        "S966-1598           3.6   132.227   -43.422                10.4     2.63     1000     0\n",
        "S966-1987           3.7   132.034   -46.382                 2.9     2.12     1000     0\n",
        "P86Y1922            3.7   130.300   -41.506                 9.7     2.78     1059     0\n",
        "P86Y1914            4.0   129.406   -40.842                 6.3     2.64     1373     0"
       ]
      },
      {
       "output_type": "stream",
       "stream": "stdout",
       "text": [
        "\n",
        "P86Y1935            4.0   130.854   -47.809                 5.6     2.64     1368     0\n",
        "P86Y1859            4.2   125.952   -48.679                 9.1     2.68      790     0\n",
        "S966-2092           4.3   131.720   -47.682                 1.6     2.01     1000     0\n",
        "P86Y1972            4.3   133.489   -44.126                12.3     2.82     1000     0"
       ]
      },
      {
       "output_type": "stream",
       "stream": "stdout",
       "text": [
        "\n",
        "P86Y1966            4.3   133.102   -43.018                11.2     2.73      731     0.56 \n",
        "P86Y1980            4.4   133.715   -45.055                14.3     2.00     1612     0.35 \n",
        "Vela Jr             4.4   133.200   -46.520                77.6     1.78     6098     0\n",
        "P86Y1811            4.5   122.344   -47.266                 2.7     2.28     2079     0"
       ]
      },
      {
       "output_type": "stream",
       "stream": "stdout",
       "text": [
        "\n",
        "S966-1509           4.9   134.228   -43.874                 6.7     2.58     1000     0\n",
        "P86Y1959            4.9   132.582   -48.037                 7.5     2.73     1273     0\n",
        "------------------------------------------------------------------------------------------ \n",
        "\tDiffuse sources\n",
        "------------------------------------------------------------------------------------------\n",
        "ring                        1.00       0.00 \n",
        "isotrop                     1.00 \n",
        "SunMoon                     1.00 \n",
        "------------------------------------------------------------------------------------------\n",
        "Minimizer warning: bad errors for values ['S966-2160_Norm']"
       ]
      },
      {
       "output_type": "stream",
       "stream": "stdout",
       "text": [
        "\n",
        "3 calls, function value, improvement, quality: 4298888.6, 0.00, 27.03"
       ]
      },
      {
       "output_type": "stream",
       "stream": "stdout",
       "text": [
        "\n",
        "Name                  index     value  error(%)  gradient\n",
        "Vela X_Norm               0 2.308e-14      13.2     -54.0\n",
        "      _Index              1     2.766       2.4     -50.7\n",
        "Puppis A_Norm             2 9.301e-13       6.3     155.5\n",
        "        _Index            3     2.033       2.4      61.7\n",
        "P86Y1910_Norm             4 1.468e-13      18.4       2.6\n",
        "        _Index            5     2.526       4.8     -11.7\n",
        "S966-2152_Norm            6 5.265e-13      77.7      -3.9\n",
        "         _Index           7     2.195      15.2       1.4\n",
        "PSR J0835-4510_Norm       8 3.345e-09       6.8     -90.4\n",
        "              _Index      9      1.32       1.6     284.6\n",
        "              _Cutoff    10     926.5      10.3     -15.9\n",
        "              _b         11    0.5907       2.5      20.9\n",
        "P86Y1886_Norm            12 4.943e-15      27.7      19.3\n",
        "        _Index           13     2.149      11.2       5.0\n",
        "        _beta            14 0.0002239   31954.7     -39.1\n",
        "S966-2172_Norm           15 1.049e-12      24.0      33.8\n",
        "         _Index          16       2.2       7.3       7.1\n",
        "S966-2160_Norm           17 2.495e-13       ***      -6.8\n",
        "         _Index          18       2.2       8.3       2.6\n",
        "P86Y1860_Norm            19 3.463e-14      22.5      21.5\n",
        "        _Index           20     1.922       7.0       1.3\n",
        "P86Y1898_Norm            21  1.52e-13      22.7     -13.8\n",
        "        _Index           22     2.518       6.4      -8.3\n",
        "-------- analyzing counts histogram, "
       ]
      },
      {
       "output_type": "stream",
       "stream": "stdout",
       "text": [
        " chisquared: 180.0 ----\n",
        "saved pickle file to ./pickle/HP12_0923.pickle"
       ]
      },
      {
       "output_type": "stream",
       "stream": "stdout",
       "text": [
        "\n"
       ]
      }
     ],
     "prompt_number": 6
    },
    {
     "cell_type": "code",
     "collapsed": false,
     "input": [
      "r.setup_roi(850); r.summarize()"
     ],
     "language": "python",
     "metadata": {},
     "outputs": [
      {
       "output_type": "stream",
       "stream": "stdout",
       "text": [
        "143 total sources: 4 extended, 3 global\n",
        "current likelihood, est. diff to peak: 1165812.3, -6.03"
       ]
      },
      {
       "output_type": "stream",
       "stream": "stdout",
       "text": [
        "\n",
        "Name                  index     value  error(%)  gradient\n",
        "S966-1364_Norm            0 2.519e-14      31.1      -9.2\n",
        "         _Index           1     2.222      12.9      -8.1\n",
        "PSR J2021+3651_Norm       2 9.324e-11       2.5     -39.6\n",
        "              _Index      3     1.758       1.8      -6.1"
       ]
      },
      {
       "output_type": "stream",
       "stream": "stdout",
       "text": [
        "\n",
        "              _Cutoff     4      3744       5.8      -3.6\n",
        "PSR J2021+4026_Norm       5 2.443e-10       2.2    -118.5\n",
        "              _Index      6     1.745       1.6      15.9\n",
        "              _Cutoff     7      2622       4.3     -68.5\n",
        "S966-1743_Norm            8 5.301e-15      43.7      -6.6\n",
        "         _Index           9     2.214      24.9      -9.4\n",
        "S966-1763_Norm           10 7.991e-15       ***     -17.8\n",
        "         _Index          11     2.316       ***     -19.9\n",
        "S966-1447_Norm           12 2.016e-15      52.9      -5.3\n",
        "         _Index          13     2.184      62.4      -7.7\n",
        "P86Y4687_Norm            14 8.162e-13      20.5      -0.7\n",
        "        _Index           15     2.707       5.2      -0.8\n",
        "P86Y4780_Norm            16 1.359e-12      18.2     -11.0\n",
        "        _Index           17     2.728       5.6      -4.6\n",
        "P86Y4768_Norm            18 4.402e-13       ***     -18.3\n",
        "        _Index           19     2.594       4.3      -6.3\n",
        "PSR J2032+4127_Norm      20 7.094e-12       7.6      18.6\n",
        "              _Index     21     1.614       5.5       7.5\n",
        "              _Cutoff    22      5894      13.6       9.5\n",
        "P86Y4766_Norm            23  4.18e-12       9.2       1.1\n",
        "        _Index           24     2.854       3.6      -4.8\n",
        "Cygnus Cocoon_Norm       25     2e-13       9.1      -1.6\n",
        "             _Index      26     1.788       4.0       5.4\n",
        "P86Y4706_Norm            27 1.524e-12      15.2      -8.3\n",
        "        _Index           28     2.855       8.2      -5.1\n",
        "        _beta            29    0.4737      41.4       1.1\n",
        "S966-1370_Norm           30 5.404e-14      23.6      -4.2\n",
        "         _Index          31     2.238       8.2      -5.7\n",
        "S966-1515_Norm           32 1.198e-14      34.9     -17.5\n",
        "         _Index          33     2.324      12.9     -24.4\n",
        "gamma Cygni_Norm         34 2.388e-13       6.3       3.9\n",
        "           _Index        35     1.968       2.8      -1.1\n",
        "P86Y4739_Norm            36 1.511e-12      17.3       1.5\n",
        "        _Index           37     2.734       5.6      -2.9\n",
        "P86Y4697_Norm            38 3.177e-12      14.4     -25.2\n",
        "        _Index           39     2.727       6.7      -0.9\n",
        "        _beta            40    0.2998      59.9       0.8\n",
        "P86Y4691_Norm            41 4.642e-12      11.8       6.4\n",
        "        _Index           42     2.877       3.4       0.5\n",
        "P86Y4757_Norm            43 6.792e-13      17.2      -8.8\n",
        "        _Index           44     2.598       5.2      -3.9\n",
        "P86Y4733_Norm            45 3.042e-12      13.1      -3.4\n",
        "        _Index           46     2.849       4.2       3.0\n",
        "P86Y4754_Norm            47 1.669e-12      14.7      -8.3\n",
        "        _Index           48     2.579       7.7      -7.4\n",
        "        _beta            49    0.3325      49.2      -1.2\n",
        "P86Y4734_Norm            50 1.397e-11      10.5       4.2\n",
        "        _Index           51     2.686       9.2      -0.8\n",
        "        _beta            52    0.8761      39.7       7.3\n",
        "P86Y4713_Norm            53 1.782e-12      14.9      -8.6\n",
        "        _Index           54     2.928       8.0      -8.6\n",
        "        _beta            55    0.4162      49.0       3.0\n",
        "P86Y4738_Norm            56 2.893e-12      18.4      -0.3\n",
        "        _Index           57     2.917       5.3      -0.1\n",
        "P86Y4711_Norm            58  7.62e-12      16.7      -3.2\n",
        "        _Index           59     3.193      14.4      -1.6\n",
        "        _beta            60     1.512      51.8       1.7\n"
       ]
      }
     ],
     "prompt_number": 22
    },
    {
     "cell_type": "code",
     "collapsed": false,
     "input": [
      "r.fit([10,11,18],tolerance=0)"
     ],
     "language": "python",
     "metadata": {},
     "outputs": [
      {
       "output_type": "stream",
       "stream": "stdout",
       "text": [
        "4 calls, function value, improvement, quality: 1165816.2, 0.15, 0.06\n",
        "Name                  index     value  error(%)  gradient"
       ]
      },
      {
       "output_type": "stream",
       "stream": "stdout",
       "text": [
        "\n",
        "S966-1763_Norm           10 9.115e-15      34.8      -4.1\n",
        "         _Index          11     2.541       6.6      -4.0\n",
        "P86Y4768_Norm            18 4.135e-13      17.2      -1.5\n"
       ]
      }
     ],
     "prompt_number": 24
    },
    {
     "cell_type": "code",
     "collapsed": false,
     "input": [
      "r.process()"
     ],
     "language": "python",
     "metadata": {},
     "outputs": [
      {
       "output_type": "stream",
       "stream": "stdout",
       "text": [
        "================================================================================\n",
        "2015-05-16 07:16:22 - HP12_0850 - interactive\n"
       ]
      },
      {
       "output_type": "stream",
       "stream": "stdout",
       "text": [
        "---Updating positions---\n",
        "name               TS    qual delta_ts\n",
        "S966-1364           41    2.6  -0.2  SkyDir(306.746,41.891) -> SkyDir(306.732,41.891), moved 0.01\n",
        "PSR J2021+3651   46099    0.1   0.0  SkyDir(305.279,36.859) -> SkyDir(305.279,36.859), moved 0.00\n",
        "PSR J2021+4026   83974    0.1   0.0  SkyDir(305.383,40.448) -> SkyDir(305.383,40.448), moved 0.00\n",
        "S966-1743           24    1.3   0.0  SkyDir(307.397,38.670) -> SkyDir(307.397,38.671), moved 0.00\n",
        "S966-1763           37    2.4   2.1  SkyDir(310.333,41.523) -> SkyDir(310.331,41.494), moved 0.03\n",
        "S966-1447           17    0.7  -0.0  SkyDir(307.370,41.371) -> SkyDir(307.370,41.372), moved 0.00\n",
        "P86Y4687            74    1.4   0.0  SkyDir(305.431,37.468) -> SkyDir(305.431,37.467), moved 0.00\n",
        "P86Y4780           112   15.5  -1.2  qual>8.0\n",
        "P86Y4768           144    5.6  -0.0  SkyDir(310.040,41.853) -> SkyDir(309.997,41.876), moved 0.04\n",
        "PSR J2032+4127    8695    0.0   0.0  SkyDir(308.060,41.451) -> SkyDir(308.060,41.451), moved 0.00\n",
        "P86Y4766           221    1.3   0.0  SkyDir(309.965,40.933) -> SkyDir(309.966,40.934), moved 0.00\n",
        "Cygnus Cocoon      325  no localization info\n",
        "P86Y4706           174    0.5   0.0  SkyDir(306.290,40.029) -> SkyDir(306.296,40.030), moved 0.00\n",
        "S966-1370           60    0.3  -0.0  SkyDir(305.043,39.663) -> SkyDir(305.043,39.664), moved 0.00\n",
        "S966-1515           47    3.2  -0.2  SkyDir(307.101,40.018) -> SkyDir(307.094,40.015), moved 0.01\n",
        "gamma Cygni       1012  no localization info\n",
        "P86Y4739            97    1.1   0.0  SkyDir(308.505,42.255) -> SkyDir(308.500,42.254), moved 0.00\n",
        "P86Y4697           214    2.6   1.1  SkyDir(305.786,41.469) -> SkyDir(305.819,41.468), moved 0.02\n",
        "P86Y4691           201    1.0   0.0  SkyDir(305.614,38.655) -> SkyDir(305.610,38.654), moved 0.00\n",
        "P86Y4757           122   19.2  -5.1  qual>8.0\n",
        "P86Y4733           206    1.1   0.1  SkyDir(308.136,39.386) -> SkyDir(308.126,39.385), moved 0.01\n",
        "P86Y4754           193    1.6   0.2  SkyDir(309.253,41.606) -> SkyDir(309.267,41.607), moved 0.01\n",
        "P86Y4734           345    1.0   0.2  SkyDir(308.221,40.298) -> SkyDir(308.207,40.289), moved 0.01\n",
        "P86Y4713           209    0.5   0.2  SkyDir(307.168,40.652) -> SkyDir(307.168,40.646), moved 0.01\n",
        "P86Y4738            95    6.4  -1.8  SkyDir(308.462,38.725) -> SkyDir(308.495,38.723), moved 0.03\n",
        "P86Y4711           141    6.7   0.1  SkyDir(306.636,39.132) -> SkyDir(306.646,39.147), moved 0.02\n",
        "------------------------------------------------------------------------------------------ \n",
        "\t Nearby sources within 5.0 degrees before fit, logL=1165816\n",
        "name               dist        ra       dec        TS eflux(eV)    index   energy   beta/b\n",
        "P86Y4733            0.3   308.126    39.385       202      34.4*    2.85!    1115     0"
       ]
      },
      {
       "output_type": "stream",
       "stream": "stdout",
       "text": [
        "\n",
        "P86Y4734            0.6   308.207    40.289       341      21.0*    2.69!     837     0.88*"
       ]
      },
      {
       "output_type": "stream",
       "stream": "stdout",
       "text": [
        "\n",
        "S966-1515           0.8   307.094    40.015        46       7.4*    2.32*    7467     0"
       ]
      },
      {
       "output_type": "stream",
       "stream": "stdout",
       "text": [
        "\n",
        "P86Y4738            1.0   308.495    38.723        93      23.0*    2.92!     959     0"
       ]
      },
      {
       "output_type": "stream",
       "stream": "stdout",
       "text": [
        "\n",
        "S966-1743           1.1   307.397    38.671        24       3.8*    2.21*    8734     0"
       ]
      },
      {
       "output_type": "stream",
       "stream": "stdout",
       "text": [
        "\n",
        "P86Y4711            1.2   306.646    39.147       141      10.9*    3.19*     887     1.51*"
       ]
      },
      {
       "output_type": "stream",
       "stream": "stdout",
       "text": [
        "\n",
        "P86Y4713            1.2   307.168    40.646       208      18.0*    2.93!    1535     0.42*"
       ]
      },
      {
       "output_type": "stream",
       "stream": "stdout",
       "text": [
        "\n",
        "P86Y4706            1.4   306.296    40.030       173      15.1*    2.86!    1643     0.47*"
       ]
      },
      {
       "output_type": "stream",
       "stream": "stdout",
       "text": [
        "\n",
        "Cygnus Cocoon       1.6   307.165    41.171       322     153.8!    1.79!   14224     0.14 "
       ]
      },
      {
       "output_type": "stream",
       "stream": "stdout",
       "text": [
        "\n",
        "S966-1447           1.8   307.370    41.372        17       3.8*    2.18*   13895     0"
       ]
      },
      {
       "output_type": "stream",
       "stream": "stdout",
       "text": [
        "\n",
        "PSR J2032+4127      1.8   308.060    41.451      8683     106.1!    1.61!    5894*    1"
       ]
      },
      {
       "output_type": "stream",
       "stream": "stdout",
       "text": [
        "\n",
        "P86Y4766            2.0   309.966    40.934       194      32.7!    2.85!     978     0"
       ]
      },
      {
       "output_type": "stream",
       "stream": "stdout",
       "text": [
        "\n",
        "P86Y4691            2.1   305.610    38.654       200      32.8*    2.88!     935     0"
       ]
      },
      {
       "output_type": "stream",
       "stream": "stdout",
       "text": [
        "\n",
        "PSR J2021+4026      2.1   305.383    40.448     83957     519.4!    1.74!    2622!    1"
       ]
      },
      {
       "output_type": "stream",
       "stream": "stdout",
       "text": [
        "\n",
        "P86Y4754            2.2   309.267    41.607       184      14.3*    2.58!    1522     0.33*"
       ]
      },
      {
       "output_type": "stream",
       "stream": "stdout",
       "text": [
        "\n",
        "gamma Cygni         2.3   305.265    40.521      1012      82.5!    1.97!    8347     0.08 "
       ]
      },
      {
       "output_type": "stream",
       "stream": "stdout",
       "text": [
        "\n",
        "S966-1370           2.3   305.043    39.664        60       8.6*    2.24!    4366     0"
       ]
      },
      {
       "output_type": "stream",
       "stream": "stdout",
       "text": [
        "\n",
        "S966-1364           2.4   306.732    41.891        41       6.2*    2.22*    5361     0"
       ]
      },
      {
       "output_type": "stream",
       "stream": "stdout",
       "text": [
        "\n",
        "P86Y4697            2.4   305.819    41.468       213      19.0*    2.73!    1192     0.30*"
       ]
      },
      {
       "output_type": "stream",
       "stream": "stdout",
       "text": [
        "\n",
        "S966-1763           2.6   310.331    41.494        48      10.3*    2.54!    7713     0"
       ]
      },
      {
       "output_type": "stream",
       "stream": "stdout",
       "text": [
        "\n",
        "P86Y4739            2.6   308.500    42.254        93      20.7*    2.73!    1256     0"
       ]
      },
      {
       "output_type": "stream",
       "stream": "stdout",
       "text": [
        "\n",
        "P86Y4768            2.7   309.997    41.876       115      19.1*    2.59!    2131     0"
       ]
      },
      {
       "output_type": "stream",
       "stream": "stdout",
       "text": [
        "\n",
        "P86Y4680            2.7   304.646    38.867                14.0     2.27     1935     0.05 \n",
        "P86Y4757            2.8   309.631    42.184       115      20.2*    2.60!    1793     0"
       ]
      },
      {
       "output_type": "stream",
       "stream": "stdout",
       "text": [
        "\n",
        "S966-1296           2.9   305.972    42.180                 9.2     2.49     1751     0\n",
        "P86Y4687            3.0   305.431    37.467        74      18.6*    2.71!    1534     0"
       ]
      },
      {
       "output_type": "stream",
       "stream": "stdout",
       "text": [
        "\n",
        "PSR J2030+3641      3.0   307.508    36.686                27.8     1.32     2538     1\n",
        "S966-1475           3.0   308.850    42.621                 5.2     2.18     7067     0\n",
        "P86Y4755            3.1   309.409    42.592                 7.2     2.82     1933     0.57 "
       ]
      },
      {
       "output_type": "stream",
       "stream": "stdout",
       "text": [
        "\n",
        "S966-1556           3.1   309.785    42.482                 5.7     2.30     4462     0\n",
        "P86Y4745            3.2   308.764    36.537                 7.1     1.52     2355     0.84 \n",
        "P86Y4780            3.2   310.580    42.180        99      20.1*    2.73!    1295     0"
       ]
      },
      {
       "output_type": "stream",
       "stream": "stdout",
       "text": [
        "\n",
        "P86Y4683            3.4   304.910    42.132                12.2     2.78     1559     0.27 \n",
        "P86Y4743            3.5   308.804    43.059                10.7     2.90     1373     0.68 \n",
        "PSR J2021+3651      3.5   305.279    36.859     46097     310.8!    1.76!    3744!    1"
       ]
      },
      {
       "output_type": "stream",
       "stream": "stdout",
       "text": [
        "\n",
        "P86Y4662            3.6   303.419    40.407                 6.9     2.68     1054     0\n",
        "S966-1982           3.8   312.524    41.179                 3.5     2.22     3777     0\n",
        "S966-1145           3.8   303.712    41.678                11.9     2.69     1208     0"
       ]
      },
      {
       "output_type": "stream",
       "stream": "stdout",
       "text": [
        "\n",
        "P86Y4736            3.9   308.273    43.565                21.2     2.79     1145     0\n",
        "P86Y4669            4.0   303.920    37.178                54.1     2.35      999     0.17 \n",
        "PSR J2017+3625      4.2   304.494    36.427                37.4     1.27     1676     1"
       ]
      },
      {
       "output_type": "stream",
       "stream": "stdout",
       "text": [
        "\n",
        "PSR J2030+4415      4.6   307.725    44.255                31.1     1.54     1893     1\n",
        "S966-2207           4.7   310.744    35.547                 1.7     2.19     2528     0\n",
        "S966-1152           4.7   303.859    43.243                 7.4     3.18      200     0"
       ]
      },
      {
       "output_type": "stream",
       "stream": "stdout",
       "text": [
        "\n",
        "P86Y4785            4.9   310.880    44.089                13.1     2.94      770     0\n",
        "S966-2012           5.0   306.652    34.818                 2.6     2.19     2872     0\n",
        "P86Y4661            5.0   303.387    36.231                12.1     2.53     1572     0\n",
        "------------------------------------------------------------------------------------------"
       ]
      },
      {
       "output_type": "stream",
       "stream": "stdout",
       "text": [
        " \n",
        "\tDiffuse sources\n",
        "------------------------------------------------------------------------------------------\n",
        "ring                        1.00       0.00 \n",
        "isotrop                     1.00 \n",
        "SunMoon                     1.00 \n",
        "------------------------------------------------------------------------------------------\n",
        "17 calls, function value, improvement, quality: 1165823.7, 7.49, 8.62"
       ]
      },
      {
       "output_type": "stream",
       "stream": "stdout",
       "text": [
        "\n",
        "Name                  index     value  error(%)  gradient"
       ]
      },
      {
       "output_type": "stream",
       "stream": "stdout",
       "text": [
        "\n",
        "S966-1364_Norm            0 2.971e-14      25.9       2.4\n",
        "         _Index           1     2.271       9.5      -4.1\n",
        "PSR J2021+3651_Norm       2 9.384e-11       2.5     -25.9\n",
        "              _Index      3     1.753       1.8      10.1\n",
        "              _Cutoff     4      3690       5.8     -37.1\n",
        "PSR J2021+4026_Norm       5 2.448e-10       2.3     -45.4\n",
        "              _Index      6     1.738       1.6      -2.2\n",
        "              _Cutoff     7      2613       4.4      -6.8\n",
        "S966-1743_Norm            8 6.268e-15      36.7      -0.8\n",
        "         _Index           9     2.276      15.1      -7.7\n",
        "S966-1763_Norm           10 1.021e-14      31.2       7.8\n",
        "         _Index          11     2.589       6.5       3.4\n",
        "S966-1447_Norm           12 2.295e-15      46.7      -2.4\n",
        "         _Index          13     2.237      21.2      -7.1\n",
        "P86Y4687_Norm            14 8.202e-13      20.2      -0.7\n",
        "        _Index           15     2.713       5.2      -0.9\n",
        "P86Y4780_Norm            16 1.333e-12      17.7       3.3\n",
        "        _Index           17     2.716       5.5       0.4\n",
        "P86Y4768_Norm            18 4.354e-13      17.7      13.3\n",
        "        _Index           19     2.566       5.3       4.4\n",
        "PSR J2032+4127_Norm      20 7.135e-12       7.8     -12.5\n",
        "              _Index     21     1.584       4.9     -22.7\n",
        "              _Cutoff    22      5806      13.1      28.5\n",
        "P86Y4766_Norm            23 3.728e-12      13.3      -4.3\n",
        "        _Index           24     2.836       4.1       0.8\n",
        "Cygnus Cocoon_Norm       25 1.967e-13       9.1       7.6\n",
        "             _Index      26     1.743       3.9      -1.7\n",
        "P86Y4706_Norm            27 1.513e-12      15.0       2.5\n",
        "        _Index           28     2.878       8.4       0.0\n",
        "        _beta            29    0.4846      41.8      -3.2\n",
        "S966-1370_Norm           30 5.896e-14      21.3       2.5\n",
        "         _Index          31     2.282       7.4      -3.6\n",
        "S966-1515_Norm           32 1.515e-14      26.5       1.8\n",
        "         _Index          33     2.434       7.3     -13.5\n",
        "gamma Cygni_Norm         34 2.387e-13       6.3      12.0\n",
        "           _Index        35     1.947       2.8      -9.8\n",
        "P86Y4739_Norm            36 1.451e-12      17.8      -3.7\n",
        "        _Index           37      2.74       5.6      -0.7\n",
        "P86Y4697_Norm            38 3.539e-12      13.2      12.3\n",
        "        _Index           39     2.728       6.1       1.1\n",
        "        _beta            40    0.3168      56.9      -6.2\n",
        "P86Y4691_Norm            41 4.454e-12      12.3      -3.9\n",
        "        _Index           42     2.866       3.6      -0.0\n",
        "P86Y4757_Norm            43 7.129e-13      16.4       8.3\n",
        "        _Index           44     2.592       4.9       0.1\n",
        "P86Y4733_Norm            45 3.119e-12      12.6      13.6\n",
        "        _Index           46     2.822       4.1       3.3\n",
        "P86Y4754_Norm            47 1.744e-12      13.9       5.1\n",
        "        _Index           48      2.62       7.3      -2.7\n",
        "        _beta            49    0.3733      45.8      -2.0\n",
        "P86Y4734_Norm            50 1.375e-11      10.4       9.0\n",
        "        _Index           51     2.683       8.6       0.5\n",
        "        _beta            52    0.8335      36.7       5.5\n",
        "P86Y4713_Norm            53  1.74e-12      14.3       1.6\n",
        "        _Index           54     2.964       7.7      -1.9\n",
        "        _beta            55    0.4193      47.1      -2.8\n",
        "P86Y4738_Norm            56 2.873e-12      18.2       3.0\n",
        "        _Index           57     2.909       5.3       0.5\n",
        "P86Y4711_Norm            58 7.576e-12      16.2       5.7\n",
        "        _Index           59     3.209      14.1      -0.1\n",
        "        _beta            60     1.495      48.6       0.6\n",
        "------------------------------------------------------------------------------------------ \n",
        "\t Nearby sources within 5.0 degrees after global fit, logL=1165824, change=7.5\n",
        "name               dist        ra       dec        TS eflux(eV)    index   energy   beta/b\n",
        "P86Y4733            0.3   308.126    39.385       196      34.1*    2.82!    1115     0"
       ]
      },
      {
       "output_type": "stream",
       "stream": "stdout",
       "text": [
        "\n",
        "P86Y4734            0.6   308.207    40.289       337      21.2*    2.68!     837     0.83*"
       ]
      },
      {
       "output_type": "stream",
       "stream": "stdout",
       "text": [
        "\n",
        "S966-1515           0.8   307.094    40.015        55      12.0*    2.43!    7467     0"
       ]
      },
      {
       "output_type": "stream",
       "stream": "stdout",
       "text": [
        "\n",
        "P86Y4738            1.0   308.495    38.723        91      22.6*    2.91!     959     0"
       ]
      },
      {
       "output_type": "stream",
       "stream": "stdout",
       "text": [
        "\n",
        "S966-1743           1.1   307.397    38.671        26       5.1*    2.28*    8734     0"
       ]
      },
      {
       "output_type": "stream",
       "stream": "stdout",
       "text": [
        "\n",
        "P86Y4711            1.2   306.646    39.147       133      11.0*    3.21*     887     1.49*"
       ]
      },
      {
       "output_type": "stream",
       "stream": "stdout",
       "text": [
        "\n",
        "P86Y4713            1.2   307.168    40.646       195      18.1*    2.96!    1535     0.42*"
       ]
      },
      {
       "output_type": "stream",
       "stream": "stdout",
       "text": [
        "\n",
        "P86Y4706            1.4   306.296    40.030       162      15.0*    2.88!    1643     0.48*"
       ]
      },
      {
       "output_type": "stream",
       "stream": "stdout",
       "text": [
        "\n",
        "Cygnus Cocoon       1.6   307.165    41.171       304     151.0!    1.74!   14224     0.14 "
       ]
      },
      {
       "output_type": "stream",
       "stream": "stdout",
       "text": [
        "\n",
        "S966-1447           1.8   307.370    41.372        19       4.8*    2.24*   13895     0"
       ]
      },
      {
       "output_type": "stream",
       "stream": "stdout",
       "text": [
        "\n",
        "PSR J2032+4127      1.8   308.060    41.451      8660     104.2!    1.58!    5806*    1"
       ]
      },
      {
       "output_type": "stream",
       "stream": "stdout",
       "text": [
        "\n",
        "P86Y4766            2.0   309.966    40.934       182      28.6*    2.84!     978     0"
       ]
      },
      {
       "output_type": "stream",
       "stream": "stdout",
       "text": [
        "\n",
        "P86Y4691            2.1   305.610    38.654       195      31.1*    2.87!     935     0"
       ]
      },
      {
       "output_type": "stream",
       "stream": "stdout",
       "text": [
        "\n",
        "PSR J2021+4026      2.1   305.383    40.448     84300     518.4!    1.74!    2613!    1"
       ]
      },
      {
       "output_type": "stream",
       "stream": "stdout",
       "text": [
        "\n",
        "P86Y4754            2.2   309.267    41.607       191      14.4*    2.62!    1522     0.37*"
       ]
      },
      {
       "output_type": "stream",
       "stream": "stdout",
       "text": [
        "\n",
        "gamma Cygni         2.3   305.265    40.521       992      81.8!    1.95!    8347     0.08 "
       ]
      },
      {
       "output_type": "stream",
       "stream": "stdout",
       "text": [
        "\n",
        "S966-1370           2.3   305.043    39.664        63       9.9*    2.28!    4366     0"
       ]
      },
      {
       "output_type": "stream",
       "stream": "stdout",
       "text": [
        "\n",
        "S966-1364           2.4   306.732    41.891        42       7.8*    2.27!    5361     0"
       ]
      },
      {
       "output_type": "stream",
       "stream": "stdout",
       "text": [
        "\n",
        "P86Y4697            2.4   305.819    41.468       217      20.6*    2.73!    1192     0.32*"
       ]
      },
      {
       "output_type": "stream",
       "stream": "stdout",
       "text": [
        "\n",
        "S966-1763           2.6   310.331    41.494        55      13.1*    2.59!    7713     0"
       ]
      },
      {
       "output_type": "stream",
       "stream": "stdout",
       "text": [
        "\n",
        "P86Y4739            2.6   308.500    42.254        95      20.0*    2.74!    1256     0"
       ]
      },
      {
       "output_type": "stream",
       "stream": "stdout",
       "text": [
        "\n",
        "P86Y4768            2.7   309.997    41.876       108      19.3*    2.57!    2131     0"
       ]
      },
      {
       "output_type": "stream",
       "stream": "stdout",
       "text": [
        "\n",
        "P86Y4680            2.7   304.646    38.867                14.0     2.27     1935     0.05 \n",
        "P86Y4757            2.8   309.631    42.184       116      21.0*    2.59!    1793     0"
       ]
      },
      {
       "output_type": "stream",
       "stream": "stdout",
       "text": [
        "\n",
        "S966-1296           2.9   305.972    42.180                 9.2     2.49     1751     0\n",
        "P86Y4687            3.0   305.431    37.467        75      18.8*    2.71!    1534     0"
       ]
      },
      {
       "output_type": "stream",
       "stream": "stdout",
       "text": [
        "\n",
        "PSR J2030+3641      3.0   307.508    36.686                27.8     1.32     2538     1\n",
        "S966-1475           3.0   308.850    42.621                 5.2     2.18     7067     0\n",
        "P86Y4755            3.1   309.409    42.592                 7.2     2.82     1933     0.57 "
       ]
      },
      {
       "output_type": "stream",
       "stream": "stdout",
       "text": [
        "\n",
        "S966-1556           3.1   309.785    42.482                 5.7     2.30     4462     0\n",
        "P86Y4745            3.2   308.764    36.537                 7.1     1.52     2355     0.84 \n",
        "P86Y4780            3.2   310.580    42.180        94      19.4*    2.72!    1295     0"
       ]
      },
      {
       "output_type": "stream",
       "stream": "stdout",
       "text": [
        "\n",
        "P86Y4683            3.4   304.910    42.132                12.2     2.78     1559     0.27 \n",
        "P86Y4743            3.5   308.804    43.059                10.7     2.90     1373     0.68 \n",
        "PSR J2021+3651      3.5   305.279    36.859     46104     310.3!    1.75!    3690!    1"
       ]
      },
      {
       "output_type": "stream",
       "stream": "stdout",
       "text": [
        "\n",
        "P86Y4662            3.6   303.419    40.407                 6.9     2.68     1054     0\n",
        "S966-1982           3.8   312.524    41.179                 3.5     2.22     3777     0\n",
        "S966-1145           3.8   303.712    41.678                11.9     2.69     1208     0\n",
        "P86Y4736            3.9   308.273    43.565                21.2     2.79     1145     0"
       ]
      },
      {
       "output_type": "stream",
       "stream": "stdout",
       "text": [
        "\n",
        "P86Y4669            4.0   303.920    37.178                54.1     2.35      999     0.17 \n",
        "PSR J2017+3625      4.2   304.494    36.427                37.4     1.27     1676     1\n",
        "PSR J2030+4415      4.6   307.725    44.255                31.1     1.54     1893     1"
       ]
      },
      {
       "output_type": "stream",
       "stream": "stdout",
       "text": [
        "\n",
        "S966-2207           4.7   310.744    35.547                 1.7     2.19     2528     0\n",
        "S966-1152           4.7   303.859    43.243                 7.4     3.18      200     0\n",
        "P86Y4785            4.9   310.880    44.089                13.1     2.94      770     0\n",
        "S966-2012           5.0   306.652    34.818                 2.6     2.19     2872     0"
       ]
      },
      {
       "output_type": "stream",
       "stream": "stdout",
       "text": [
        "\n",
        "P86Y4661            5.0   303.387    36.231                12.1     2.53     1572     0\n",
        "------------------------------------------------------------------------------------------ \n",
        "\tDiffuse sources\n",
        "------------------------------------------------------------------------------------------\n",
        "ring                        1.00       0.00 \n",
        "isotrop                     1.00 \n",
        "SunMoon                     1.00 \n",
        "------------------------------------------------------------------------------------------\n",
        "-------- analyzing counts histogram, "
       ]
      },
      {
       "output_type": "stream",
       "stream": "stdout",
       "text": [
        " chisquared: 54.5 ----\n",
        "saved pickle file to ./pickle/HP12_0850.pickle"
       ]
      },
      {
       "output_type": "stream",
       "stream": "stdout",
       "text": [
        "\n"
       ]
      }
     ],
     "prompt_number": 25
    },
    {
     "cell_type": "code",
     "collapsed": false,
     "input": [
      "!zip -f pickle.zip"
     ],
     "language": "python",
     "metadata": {},
     "outputs": [
      {
       "output_type": "stream",
       "stream": "stdout",
       "text": [
        "freshening: pickle/HP12_1428.pickle"
       ]
      },
      {
       "output_type": "stream",
       "stream": "stdout",
       "text": [
        " (deflated 70%)\r\n",
        "freshening: pickle/HP12_0658.pickle (deflated 71%)\r\n",
        "freshening: pickle/HP12_0197.pickle (deflated 70%)\r\n",
        "freshening: pickle/HP12_1101.pickle"
       ]
      },
      {
       "output_type": "stream",
       "stream": "stdout",
       "text": [
        " (deflated 70%)\r\n",
        "freshening: pickle/HP12_1726.pickle (deflated 71%)\r\n",
        "freshening: pickle/HP12_0618.pickle (deflated 70%)\r\n",
        "freshening: pickle/HP12_0983.pickle"
       ]
      },
      {
       "output_type": "stream",
       "stream": "stdout",
       "text": [
        " (deflated 71%)\r\n",
        "freshening: pickle/HP12_0202.pickle (deflated 70%)\r\n",
        "freshening: pickle/HP12_0425.pickle"
       ]
      },
      {
       "output_type": "stream",
       "stream": "stdout",
       "text": [
        " (deflated 70%)\r\n",
        "freshening: pickle/HP12_1655.pickle (deflated 71%)\r\n",
        "freshening: pickle/HP12_1468.pickle"
       ]
      },
      {
       "output_type": "stream",
       "stream": "stdout",
       "text": [
        " (deflated 70%)\r\n",
        "freshening: pickle/HP12_0299.pickle (deflated 71%)\r\n",
        "freshening: pickle/HP12_0683.pickle (deflated 71%)\r\n",
        "freshening: pickle/HP12_0556.pickle"
       ]
      },
      {
       "output_type": "stream",
       "stream": "stdout",
       "text": [
        " (deflated 70%)\r\n",
        "freshening: pickle/HP12_0371.pickle (deflated 70%)\r\n",
        "freshening: pickle/HP12_0918.pickle (deflated 71%)\r\n",
        "freshening: pickle/HP12_0282.pickle"
       ]
      },
      {
       "output_type": "stream",
       "stream": "stdout",
       "text": [
        " (deflated 70%)\r\n",
        "freshening: pickle/HP12_1473.pickle (deflated 70%)\r\n",
        "freshening: pickle/HP12_0024.pickle"
       ]
      },
      {
       "output_type": "stream",
       "stream": "stdout",
       "text": [
        " (deflated 70%)\r\n",
        "freshening: pickle/HP12_0998.pickle (deflated 71%)\r\n",
        "freshening: pickle/HP12_1500.pickle (deflated 70%)\r\n",
        "freshening: pickle/HP12_1327.pickle"
       ]
      },
      {
       "output_type": "stream",
       "stream": "stdout",
       "text": [
        " (deflated 71%)\r\n",
        "freshening: pickle/HP12_0064.pickle (deflated 69%)\r\n",
        "freshening: pickle/HP12_0259.pickle"
       ]
      },
      {
       "output_type": "stream",
       "stream": "stdout",
       "text": [
        " (deflated 70%)\r\n",
        "freshening: pickle/HP12_1367.pickle (deflated 70%)\r\n",
        "freshening: pickle/HP12_1540.pickle (deflated 71%)\r\n",
        "freshening: pickle/HP12_0117.pickle"
       ]
      },
      {
       "output_type": "stream",
       "stream": "stdout",
       "text": [
        " (deflated 70%)\r\n",
        "freshening: pickle/HP12_1433.pickle (deflated 73%)\r\n",
        "freshening: pickle/HP12_1658.pickle (deflated 71%)\r\n",
        "freshening: pickle/HP12_1197.pickle"
       ]
      },
      {
       "output_type": "stream",
       "stream": "stdout",
       "text": [
        " (deflated 72%)\r\n",
        "freshening: pickle/HP12_0141.pickle (deflated 70%)\r\n",
        "freshening: pickle/HP12_0766.pickle (deflated 72%)\r\n",
        "freshening: pickle/HP12_0294.pickle"
       ]
      },
      {
       "output_type": "stream",
       "stream": "stdout",
       "text": [
        " (deflated 71%)\r\n",
        "freshening: pickle/HP12_0915.pickle (deflated 71%)\r\n",
        "freshening: pickle/HP12_0032.pickle (deflated 70%)\r\n",
        "freshening: pickle/HP12_1299.pickle (deflated 71%)\r\n",
        "freshening: pickle/HP12_1556.pickle"
       ]
      },
      {
       "output_type": "stream",
       "stream": "stdout",
       "text": [
        " (deflated 70%)\r\n",
        "freshening: pickle/HP12_1683.pickle (deflated 70%)\r\n",
        "freshening: pickle/HP12_0580.pickle"
       ]
      },
      {
       "output_type": "stream",
       "stream": "stdout",
       "text": [
        " (deflated 70%)\r\n",
        "freshening: pickle/HP12_0655.pickle (deflated 70%)\r\n",
        "freshening: pickle/HP12_0826.pickle"
       ]
      },
      {
       "output_type": "stream",
       "stream": "stdout",
       "text": [
        " (deflated 71%)\r\n",
        "freshening: pickle/HP12_1618.pickle"
       ]
      },
      {
       "output_type": "stream",
       "stream": "stdout",
       "text": [
        " (deflated 70%)\r\n",
        "freshening: pickle/HP12_1202.pickle (deflated 70%)\r\n",
        "freshening: pickle/HP12_0726.pickle (deflated 70%)\r\n",
        "freshening: pickle/HP12_0101.pickle"
       ]
      },
      {
       "output_type": "stream",
       "stream": "stdout",
       "text": [
        " (deflated 72%)\r\n",
        "freshening: pickle/HP12_1024.pickle (deflated 70%)\r\n",
        "freshening: pickle/HP12_1219.pickle"
       ]
      },
      {
       "output_type": "stream",
       "stream": "stdout",
       "text": [
        " (deflated 71%)\r\n",
        "freshening: pickle/HP12_0473.pickle (deflated 71%)\r\n",
        "freshening: pickle/HP12_0254.pickle"
       ]
      },
      {
       "output_type": "stream",
       "stream": "stdout",
       "text": [
        " (deflated 70%)\r\n",
        "freshening: pickle/HP12_0181.pickle (deflated 71%)\r\n",
        "freshening: pickle/HP12_1282.pickle (deflated 70%)\r\n",
        "freshening: pickle/HP12_1698.pickle"
       ]
      },
      {
       "output_type": "stream",
       "stream": "stdout",
       "text": [
        " (deflated 71%)\r\n",
        "freshening: pickle/HP12_0029.pickle (deflated 71%)\r\n",
        "freshening: pickle/HP12_0995.pickle (deflated 70%)\r\n",
        "freshening: pickle/HP12_0214.pickle"
       ]
      },
      {
       "output_type": "stream",
       "stream": "stdout",
       "text": [
        " (deflated 70%)\r\n",
        "freshening: pickle/HP12_0433.pickle (deflated 70%)\r\n",
        "freshening: pickle/HP12_0695.pickle"
       ]
      },
      {
       "output_type": "stream",
       "stream": "stdout",
       "text": [
        " (deflated 71%)\r\n",
        "freshening: pickle/HP12_0540.pickle (deflated 70%)\r\n",
        "freshening: pickle/HP12_0367.pickle (deflated 70%)\r\n",
        "freshening: pickle/HP12_1643.pickle"
       ]
      },
      {
       "output_type": "stream",
       "stream": "stdout",
       "text": [
        " (deflated 70%)\r\n",
        "freshening: pickle/HP12_1596.pickle (deflated 70%)\r\n",
        "freshening: pickle/HP12_1259.pickle (deflated 72%)\r\n",
        "freshening: pickle/HP12_1707.pickle"
       ]
      },
      {
       "output_type": "stream",
       "stream": "stdout",
       "text": [
        " (deflated 70%)\r\n",
        "freshening: pickle/HP12_1120.pickle (deflated 70%)\r\n",
        "freshening: pickle/HP12_0404.pickle (deflated 70%)\r\n",
        "freshening: pickle/HP12_1053.pickle"
       ]
      },
      {
       "output_type": "stream",
       "stream": "stdout",
       "text": [
        " (deflated 71%)\r\n",
        "freshening: pickle/HP12_1674.pickle (deflated 70%)\r\n",
        "freshening: pickle/HP12_1386.pickle"
       ]
      },
      {
       "output_type": "stream",
       "stream": "stdout",
       "text": [
        " (deflated 70%)\r\n",
        "freshening: pickle/HP12_1449.pickle (deflated 70%)\r\n",
        "freshening: pickle/HP12_0085.pickle (deflated 71%)\r\n",
        "freshening: pickle/HP12_0350.pickle"
       ]
      },
      {
       "output_type": "stream",
       "stream": "stdout",
       "text": [
        " (deflated 70%)\r\n",
        "freshening: pickle/HP12_0577.pickle (deflated 70%)\r\n",
        "freshening: pickle/HP12_1013.pickle (deflated 71%)\r\n",
        "freshening: pickle/HP12_0979.pickle"
       ]
      },
      {
       "output_type": "stream",
       "stream": "stdout",
       "text": [
        " (deflated 71%)\r\n",
        "freshening: pickle/HP12_0537.pickle (deflated 72%)\r\n",
        "freshening: pickle/HP12_0310.pickle"
       ]
      },
      {
       "output_type": "stream",
       "stream": "stdout",
       "text": [
        " (deflated 70%)\r\n",
        "freshening: pickle/HP12_1492.pickle (deflated 71%)\r\n",
        "freshening: pickle/HP12_1160.pickle (deflated 70%)\r\n",
        "freshening: pickle/HP12_1088.pickle"
       ]
      },
      {
       "output_type": "stream",
       "stream": "stdout",
       "text": [
        " (deflated 70%)\r\n",
        "freshening: pickle/HP12_0263.pickle (deflated 70%)\r\n",
        "freshening: pickle/HP12_0390.pickle (deflated 70%)\r\n",
        "freshening: pickle/HP12_1346.pickle"
       ]
      },
      {
       "output_type": "stream",
       "stream": "stdout",
       "text": [
        " (deflated 73%)\r\n",
        "freshening: pickle/HP12_0962.pickle (deflated 72%)\r\n",
        "freshening: pickle/HP12_1008.pickle (deflated 70%)\r\n",
        "freshening: pickle/HP12_1235.pickle"
       ]
      },
      {
       "output_type": "stream",
       "stream": "stdout",
       "text": [
        " (deflated 70%)\r\n",
        "freshening: pickle/HP12_0176.pickle (deflated 71%)\r\n",
        "freshening: pickle/HP12_0484.pickle (deflated 70%)\r\n",
        "freshening: pickle/HP12_0922.pickle"
       ]
      },
      {
       "output_type": "stream",
       "stream": "stdout",
       "text": [
        " (deflated 71%)\r\n",
        "freshening: pickle/HP12_1048.pickle (deflated 70%)\r\n",
        "freshening: pickle/HP12_1452.pickle"
       ]
      },
      {
       "output_type": "stream",
       "stream": "stdout",
       "text": [
        " (deflated 70%)\r\n",
        "freshening: pickle/HP12_0005.pickle (deflated 69%)\r\n",
        "freshening: pickle/HP12_0851.pickle"
       ]
      },
      {
       "output_type": "stream",
       "stream": "stdout",
       "text": [
        " (deflated 70%)\r\n",
        "freshening: pickle/HP12_0238.pickle (deflated 70%)\r\n",
        "freshening: pickle/HP12_1306.pickle"
       ]
      },
      {
       "output_type": "stream",
       "stream": "stdout",
       "text": [
        " (deflated 70%)\r\n",
        "freshening: pickle/HP12_1521.pickle (deflated 71%)\r\n",
        "freshening: pickle/HP12_1577.pickle (deflated 71%)\r\n",
        "freshening: pickle/HP12_1085.pickle"
       ]
      },
      {
       "output_type": "stream",
       "stream": "stdout",
       "text": [
        " (deflated 70%)\r\n",
        "freshening: pickle/HP12_0807.pickle (deflated 70%)\r\n",
        "freshening: pickle/HP12_0449.pickle (deflated 70%)\r\n",
        "freshening: pickle/HP12_1223.pickle"
       ]
      },
      {
       "output_type": "stream",
       "stream": "stdout",
       "text": [
        " (deflated 71%)\r\n",
        "freshening: pickle/HP12_1404.pickle (deflated 70%)\r\n",
        "freshening: pickle/HP12_0120.pickle (deflated 70%)\r\n",
        "freshening: pickle/HP12_0707.pickle"
       ]
      },
      {
       "output_type": "stream",
       "stream": "stdout",
       "text": [
        " (deflated 71%)\r\n",
        "freshening: pickle/HP12_0974.pickle (deflated 70%)\r\n",
        "freshening: pickle/HP12_1679.pickle (deflated 70%)\r\n",
        "freshening: pickle/HP12_1263.pickle"
       ]
      },
      {
       "output_type": "stream",
       "stream": "stdout",
       "text": [
        " (deflated 70%)\r\n",
        "freshening: pickle/HP12_0160.pickle (deflated 69%)\r\n",
        "freshening: pickle/HP12_0492.pickle"
       ]
      },
      {
       "output_type": "stream",
       "stream": "stdout",
       "text": [
        " (deflated 70%)\r\n",
        "freshening: pickle/HP12_0934.pickle (deflated 70%)\r\n",
        "freshening: pickle/HP12_1310.pickle"
       ]
      },
      {
       "output_type": "stream",
       "stream": "stdout",
       "text": [
        " (deflated 69%)\r\n",
        "freshening: pickle/HP12_0847.pickle (deflated 69%)\r\n",
        "freshening: pickle/HP12_0412.pickle"
       ]
      },
      {
       "output_type": "stream",
       "stream": "stdout",
       "text": [
        " (deflated 71%)\r\n",
        "freshening: pickle/HP12_0235.pickle (deflated 70%)\r\n",
        "freshening: pickle/HP12_1136.pickle (deflated 70%)\r\n",
        "freshening: pickle/HP12_0489.pickle"
       ]
      },
      {
       "output_type": "stream",
       "stream": "stdout",
       "text": [
        " (deflated 71%)\r\n",
        "freshening: pickle/HP12_0093.pickle (deflated 69%)\r\n",
        "freshening: pickle/HP12_0346.pickle"
       ]
      },
      {
       "output_type": "stream",
       "stream": "stdout",
       "text": [
        " (deflated 71%)\r\n",
        "freshening: pickle/HP12_1278.pickle (deflated 71%)\r\n",
        "freshening: pickle/HP12_0521.pickle (deflated 70%)\r\n",
        "freshening: pickle/HP12_0306.pickle"
       ]
      },
      {
       "output_type": "stream",
       "stream": "stdout",
       "text": [
        " (deflated 70%)\r\n",
        "freshening: pickle/HP12_1622.pickle"
       ]
      },
      {
       "output_type": "stream",
       "stream": "stdout",
       "text": [
        " (deflated 70%)\r\n",
        "freshening: pickle/HP12_1005.pickle (deflated 70%)\r\n",
        "freshening: pickle/HP12_0275.pickle"
       ]
      },
      {
       "output_type": "stream",
       "stream": "stdout",
       "text": [
        " (deflated 70%)\r\n",
        "freshening: pickle/HP12_1484.pickle (deflated 71%)\r\n",
        "freshening: pickle/HP12_0941.pickle (deflated 71%)\r\n",
        "freshening: pickle/HP12_0832.pickle"
       ]
      },
      {
       "output_type": "stream",
       "stream": "stdout",
       "text": [
        " (deflated 71%)\r\n",
        "freshening: pickle/HP12_0601.pickle (deflated 70%)\r\n",
        "freshening: pickle/HP12_0872.pickle"
       ]
      },
      {
       "output_type": "stream",
       "stream": "stdout",
       "text": [
        " (deflated 70%)\r\n",
        "freshening: pickle/HP12_1599.pickle (deflated 70%)\r\n",
        "freshening: pickle/HP12_1471.pickle (deflated 70%)\r\n",
        "freshening: pickle/HP12_0772.pickle"
       ]
      },
      {
       "output_type": "stream",
       "stream": "stdout",
       "text": [
        " (deflated 71%)\r\n",
        "freshening: pickle/HP12_0155.pickle (deflated 71%)\r\n",
        "freshening: pickle/HP12_0769.pickle (deflated 70%)\r\n",
        "freshening: pickle/HP12_0681.pickle"
       ]
      },
      {
       "output_type": "stream",
       "stream": "stdout",
       "text": [
        " (deflated 71%)\r\n",
        "freshening: pickle/HP12_0554.pickle (deflated 70%)\r\n",
        "freshening: pickle/HP12_0981.pickle"
       ]
      },
      {
       "output_type": "stream",
       "stream": "stdout",
       "text": [
        " (deflated 70%)\r\n",
        "freshening: pickle/HP12_1724.pickle (deflated 71%)\r\n",
        "freshening: pickle/HP12_1519.pickle"
       ]
      },
      {
       "output_type": "stream",
       "stream": "stdout",
       "text": [
        " (deflated 71%)\r\n",
        "freshening: pickle/HP12_0467.pickle (deflated 70%)\r\n",
        "freshening: pickle/HP12_0514.pickle"
       ]
      },
      {
       "output_type": "stream",
       "stream": "stdout",
       "text": [
        " (deflated 70%)\r\n",
        "freshening: pickle/HP12_0333.pickle (deflated 70%)\r\n",
        "freshening: pickle/HP12_1030.pickle"
       ]
      },
      {
       "output_type": "stream",
       "stream": "stdout",
       "text": [
        " (deflated 70%)\r\n",
        "freshening: pickle/HP12_1066.pickle (deflated 70%)\r\n",
        "freshening: pickle/HP12_1641.pickle"
       ]
      },
      {
       "output_type": "stream",
       "stream": "stdout",
       "text": [
        " (deflated 70%)\r\n",
        "freshening: pickle/HP12_0542.pickle (deflated 71%)\r\n",
        "freshening: pickle/HP12_0997.pickle"
       ]
      },
      {
       "output_type": "stream",
       "stream": "stdout",
       "text": [
        " (deflated 71%)\r\n",
        "freshening: pickle/HP12_0599.pickle (deflated 70%)\r\n",
        "freshening: pickle/HP12_0256.pickle (deflated 70%)\r\n",
        "freshening: pickle/HP12_0471.pickle"
       ]
      },
      {
       "output_type": "stream",
       "stream": "stdout",
       "text": [
        " (deflated 71%)\r\n",
        "freshening: pickle/HP12_0183.pickle (deflated 70%)\r\n",
        "freshening: pickle/HP12_1601.pickle"
       ]
      },
      {
       "output_type": "stream",
       "stream": "stdout",
       "text": [
        " (deflated 70%)\r\n",
        "freshening: pickle/HP12_0103.pickle"
       ]
      },
      {
       "output_type": "stream",
       "stream": "stdout",
       "text": [
        " (deflated 70%)\r\n",
        "freshening: pickle/HP12_0957.pickle (deflated 70%)\r\n",
        "freshening: pickle/HP12_1427.pickle"
       ]
      },
      {
       "output_type": "stream",
       "stream": "stdout",
       "text": [
        " (deflated 69%)\r\n",
        "freshening: pickle/HP12_0582.pickle (deflated 71%)\r\n",
        "freshening: pickle/HP12_0657.pickle"
       ]
      },
      {
       "output_type": "stream",
       "stream": "stdout",
       "text": [
        " (deflated 70%)\r\n",
        "freshening: pickle/HP12_0824.pickle (deflated 71%)\r\n",
        "freshening: pickle/HP12_1681.pickle (deflated 70%)\r\n",
        "freshening: pickle/HP12_0559.pickle"
       ]
      },
      {
       "output_type": "stream",
       "stream": "stdout",
       "text": [
        " (deflated 70%)\r\n",
        "freshening: pickle/HP12_1195.pickle (deflated 70%)\r\n",
        "freshening: pickle/HP12_1139.pickle"
       ]
      },
      {
       "output_type": "stream",
       "stream": "stdout",
       "text": [
        " (deflated 70%)\r\n",
        "freshening: pickle/HP12_1523.pickle (deflated 73%)\r\n",
        "freshening: pickle/HP12_0853.pickle"
       ]
      },
      {
       "output_type": "stream",
       "stream": "stdout",
       "text": [
        " (deflated 71%)\r\n",
        "freshening: pickle/HP12_1277.pickle"
       ]
      },
      {
       "output_type": "stream",
       "stream": "stdout",
       "text": [
        " (deflated 70%)\r\n",
        "freshening: pickle/HP12_1450.pickle (deflated 71%)\r\n",
        "freshening: pickle/HP12_0174.pickle (deflated 70%)\r\n",
        "freshening: pickle/HP12_0753.pickle"
       ]
      },
      {
       "output_type": "stream",
       "stream": "stdout",
       "text": [
        " (deflated 70%)\r\n",
        "freshening: pickle/HP12_0486.pickle"
       ]
      },
      {
       "output_type": "stream",
       "stream": "stdout",
       "text": [
        " (deflated 71%)\r\n",
        "freshening: pickle/HP12_1410.pickle (deflated 70%)\r\n",
        "freshening: pickle/HP12_1237.pickle"
       ]
      },
      {
       "output_type": "stream",
       "stream": "stdout",
       "text": [
        " (deflated 70%)\r\n",
        "freshening: pickle/HP12_0888.pickle (deflated 69%)\r\n",
        "freshening: pickle/HP12_0134.pickle"
       ]
      },
      {
       "output_type": "stream",
       "stream": "stdout",
       "text": [
        " (deflated 70%)\r\n",
        "freshening: pickle/HP12_0960.pickle (deflated 69%)\r\n",
        "freshening: pickle/HP12_1179.pickle"
       ]
      },
      {
       "output_type": "stream",
       "stream": "stdout",
       "text": [
        " (deflated 70%)\r\n",
        "freshening: pickle/HP12_0392.pickle (deflated 70%)\r\n",
        "freshening: pickle/HP12_0813.pickle (deflated 70%)\r\n",
        "freshening: pickle/HP12_0788.pickle"
       ]
      },
      {
       "output_type": "stream",
       "stream": "stdout",
       "text": [
        " (deflated 70%)\r\n",
        "freshening: pickle/HP12_0389.pickle (deflated 70%)\r\n",
        "freshening: pickle/HP12_0808.pickle"
       ]
      },
      {
       "output_type": "stream",
       "stream": "stdout",
       "text": [
        " (deflated 70%)\r\n",
        "freshening: pickle/HP12_0446.pickle (deflated 71%)\r\n",
        "freshening: pickle/HP12_1490.pickle (deflated 71%)\r\n",
        "freshening: pickle/HP12_1578.pickle"
       ]
      },
      {
       "output_type": "stream",
       "stream": "stdout",
       "text": [
        " (deflated 70%)\r\n",
        "freshening: pickle/HP12_0748.pickle (deflated 72%)\r\n",
        "freshening: pickle/HP12_0575.pickle (deflated 70%)\r\n",
        "freshening: pickle/HP12_0352.pickle"
       ]
      },
      {
       "output_type": "stream",
       "stream": "stdout",
       "text": [
        " (deflated 70%)\r\n",
        "freshening: pickle/HP12_1676.pickle (deflated 70%)\r\n",
        "freshening: pickle/HP12_0848.pickle (deflated 69%)\r\n",
        "freshening: pickle/HP12_0221.pickle"
       ]
      },
      {
       "output_type": "stream",
       "stream": "stdout",
       "text": [
        " (deflated 71%)\r\n",
        "freshening: pickle/HP12_0406.pickle (deflated 70%)\r\n",
        "freshening: pickle/HP12_1538.pickle (deflated 70%)\r\n",
        "freshening: pickle/HP12_1174.pickle"
       ]
      },
      {
       "output_type": "stream",
       "stream": "stdout",
       "text": [
        " (deflated 71%)\r\n",
        "freshening: pickle/HP12_0277.pickle"
       ]
      },
      {
       "output_type": "stream",
       "stream": "stdout",
       "text": [
        " (deflated 71%)\r\n",
        "freshening: pickle/HP12_0785.pickle (deflated 71%)\r\n",
        "freshening: pickle/HP12_1007.pickle (deflated 70%)\r\n",
        "freshening: pickle/HP12_0139.pickle"
       ]
      },
      {
       "output_type": "stream",
       "stream": "stdout",
       "text": [
        " (deflated 69%)\r\n",
        "freshening: pickle/HP12_0523.pickle (deflated 70%)\r\n",
        "freshening: pickle/HP12_1660.pickle"
       ]
      },
      {
       "output_type": "stream",
       "stream": "stdout",
       "text": [
        " (deflated 70%)\r\n",
        "freshening: pickle/HP12_1392.pickle"
       ]
      },
      {
       "output_type": "stream",
       "stream": "stdout",
       "text": [
        " (deflated 71%)\r\n",
        "freshening: pickle/HP12_0179.pickle (deflated 71%)\r\n",
        "freshening: pickle/HP12_0091.pickle"
       ]
      },
      {
       "output_type": "stream",
       "stream": "stdout",
       "text": [
        " (deflated 70%)\r\n",
        "freshening: pickle/HP12_1134.pickle"
       ]
      },
      {
       "output_type": "stream",
       "stream": "stdout",
       "text": [
        " (deflated 70%)\r\n",
        "freshening: pickle/HP12_1713.pickle (deflated 70%)\r\n",
        "freshening: pickle/HP12_0237.pickle"
       ]
      },
      {
       "output_type": "stream",
       "stream": "stdout",
       "text": [
        " (deflated 70%)\r\n",
        "freshening: pickle/HP12_0636.pickle (deflated 71%)\r\n",
        "freshening: pickle/HP12_1708.pickle"
       ]
      },
      {
       "output_type": "stream",
       "stream": "stdout",
       "text": [
        " (deflated 72%)\r\n",
        "freshening: pickle/HP12_1535.pickle"
       ]
      },
      {
       "output_type": "stream",
       "stream": "stdout",
       "text": [
        " (deflated 71%)\r\n",
        "freshening: pickle/HP12_0162.pickle (deflated 70%)\r\n",
        "freshening: pickle/HP12_0490.pickle"
       ]
      },
      {
       "output_type": "stream",
       "stream": "stdout",
       "text": [
        " (deflated 71%)\r\n",
        "freshening: pickle/HP12_1389.pickle (deflated 69%)\r\n",
        "freshening: pickle/HP12_1261.pickle"
       ]
      },
      {
       "output_type": "stream",
       "stream": "stdout",
       "text": [
        " (deflated 70%)\r\n",
        "freshening: pickle/HP12_0705.pickle (deflated 71%)\r\n",
        "freshening: pickle/HP12_0122.pickle"
       ]
      },
      {
       "output_type": "stream",
       "stream": "stdout",
       "text": [
        " (deflated 70%)\r\n",
        "freshening: pickle/HP12_0976.pickle (deflated 70%)\r\n",
        "freshening: pickle/HP12_0538.pickle (deflated 71%)\r\n",
        "freshening: pickle/HP12_1406.pickle"
       ]
      },
      {
       "output_type": "stream",
       "stream": "stdout",
       "text": [
        " (deflated 70%)\r\n",
        "freshening: pickle/HP12_1221.pickle (deflated 70%)\r\n",
        "freshening: pickle/HP12_0676.pickle (deflated 71%)\r\n",
        "freshening: pickle/HP12_1352.pickle"
       ]
      },
      {
       "output_type": "stream",
       "stream": "stdout",
       "text": [
        " (deflated 70%)\r\n",
        "freshening: pickle/HP12_1575.pickle (deflated 70%)\r\n",
        "freshening: pickle/HP12_0779.pickle"
       ]
      },
      {
       "output_type": "stream",
       "stream": "stdout",
       "text": [
        " (deflated 71%)\r\n",
        "freshening: pickle/HP12_0544.pickle (deflated 71%)\r\n",
        "freshening: pickle/HP12_0691.pickle"
       ]
      },
      {
       "output_type": "stream",
       "stream": "stdout",
       "text": [
        " (deflated 70%)\r\n",
        "freshening: pickle/HP12_1592.pickle (deflated 71%)\r\n",
        "freshening: pickle/HP12_1647.pickle (deflated 71%)\r\n",
        "freshening: pickle/HP12_1113.pickle"
       ]
      },
      {
       "output_type": "stream",
       "stream": "stdout",
       "text": [
        " (deflated 70%)\r\n",
        "freshening: pickle/HP12_1509.pickle (deflated 71%)\r\n",
        "freshening: pickle/HP12_0185.pickle (deflated 71%)\r\n",
        "freshening: pickle/HP12_0477.pickle"
       ]
      },
      {
       "output_type": "stream",
       "stream": "stdout",
       "text": [
        " (deflated 71%)\r\n",
        "freshening: pickle/HP12_0839.pickle (deflated 70%)\r\n",
        "freshening: pickle/HP12_1549.pickle (deflated 70%)\r\n",
        "freshening: pickle/HP12_0739.pickle"
       ]
      },
      {
       "output_type": "stream",
       "stream": "stdout",
       "text": [
        " (deflated 70%)\r\n",
        "freshening: pickle/HP12_0323.pickle (deflated 70%)\r\n",
        "freshening: pickle/HP12_1607.pickle"
       ]
      },
      {
       "output_type": "stream",
       "stream": "stdout",
       "text": [
        " (deflated 71%)\r\n",
        "freshening: pickle/HP12_1206.pickle (deflated 70%)\r\n",
        "freshening: pickle/HP12_0722.pickle (deflated 70%)\r\n",
        "freshening: pickle/HP12_0105.pickle"
       ]
      },
      {
       "output_type": "stream",
       "stream": "stdout",
       "text": [
        " (deflated 70%)\r\n",
        "freshening: pickle/HP12_1552.pickle (deflated 70%)\r\n",
        "freshening: pickle/HP12_0076.pickle (deflated 73%)\r\n",
        "freshening: pickle/HP12_0822.pickle"
       ]
      },
      {
       "output_type": "stream",
       "stream": "stdout",
       "text": [
        " (deflated 70%)\r\n",
        "freshening: pickle/HP12_1108.pickle (deflated 71%)\r\n",
        "freshening: pickle/HP12_1512.pickle"
       ]
      },
      {
       "output_type": "stream",
       "stream": "stdout",
       "text": [
        " (deflated 71%)\r\n",
        "freshening: pickle/HP12_1335.pickle"
       ]
      },
      {
       "output_type": "stream",
       "stream": "stdout",
       "text": [
        " (deflated 71%)\r\n",
        "freshening: pickle/HP12_0611.pickle"
       ]
      },
      {
       "output_type": "stream",
       "stream": "stdout",
       "text": [
        " (deflated 71%)\r\n",
        "freshening: pickle/HP12_0036.pickle (deflated 69%)\r\n",
        "freshening: pickle/HP12_1461.pickle"
       ]
      },
      {
       "output_type": "stream",
       "stream": "stdout",
       "text": [
        " (deflated 70%)\r\n",
        "freshening: pickle/HP12_0762.pickle"
       ]
      },
      {
       "output_type": "stream",
       "stream": "stdout",
       "text": [
        " (deflated 70%)\r\n",
        "freshening: pickle/HP12_0113.pickle (deflated 70%)\r\n",
        "freshening: pickle/HP12_0947.pickle"
       ]
      },
      {
       "output_type": "stream",
       "stream": "stdout",
       "text": [
        " (deflated 71%)\r\n",
        "freshening: pickle/HP12_1437.pickle (deflated 71%)\r\n",
        "freshening: pickle/HP12_1210.pickle"
       ]
      },
      {
       "output_type": "stream",
       "stream": "stdout",
       "text": [
        " (deflated 71%)\r\n",
        "freshening: pickle/HP12_0592.pickle (deflated 70%)\r\n",
        "freshening: pickle/HP12_0188.pickle"
       ]
      },
      {
       "output_type": "stream",
       "stream": "stdout",
       "text": [
        " (deflated 70%)\r\n",
        "freshening: pickle/HP12_0834.pickle (deflated 70%)\r\n",
        "freshening: pickle/HP12_1363.pickle"
       ]
      },
      {
       "output_type": "stream",
       "stream": "stdout",
       "text": [
        " (deflated 70%)\r\n",
        "freshening: pickle/HP12_0607.pickle (deflated 71%)\r\n",
        "freshening: pickle/HP12_1504.pickle"
       ]
      },
      {
       "output_type": "stream",
       "stream": "stdout",
       "text": [
        " (deflated 71%)\r\n",
        "freshening: pickle/HP12_1323.pickle (deflated 72%)\r\n",
        "freshening: pickle/HP12_0153.pickle (deflated 70%)\r\n",
        "freshening: pickle/HP12_0774.pickle"
       ]
      },
      {
       "output_type": "stream",
       "stream": "stdout",
       "text": [
        " (deflated 73%)\r\n",
        "freshening: pickle/HP12_0549.pickle"
       ]
      },
      {
       "output_type": "stream",
       "stream": "stdout",
       "text": [
        " (deflated 70%)\r\n",
        "freshening: pickle/HP12_0907.pickle (deflated 71%)\r\n",
        "freshening: pickle/HP12_1250.pickle (deflated 71%)\r\n",
        "freshening: pickle/HP12_1651.pickle"
       ]
      },
      {
       "output_type": "stream",
       "stream": "stdout",
       "text": [
        " (deflated 70%)\r\n",
        "freshening: pickle/HP12_0375.pickle (deflated 70%)\r\n",
        "freshening: pickle/HP12_0987.pickle (deflated 71%)\r\n"
       ]
      },
      {
       "output_type": "stream",
       "stream": "stdout",
       "text": [
        "freshening: pickle/HP12_0193.pickle (deflated 71%)\r\n",
        "freshening: pickle/HP12_1036.pickle (deflated 71%)\r\n",
        "freshening: pickle/HP12_0108.pickle"
       ]
      },
      {
       "output_type": "stream",
       "stream": "stdout",
       "text": [
        " (deflated 70%)\r\n"
       ]
      },
      {
       "output_type": "stream",
       "stream": "stdout",
       "text": [
        "freshening: pickle/HP12_1568.pickle (deflated 70%)\r\n",
        "freshening: pickle/HP12_0883.pickle (deflated 70%)\r\n",
        "freshening: pickle/HP12_0302.pickle"
       ]
      },
      {
       "output_type": "stream",
       "stream": "stdout",
       "text": [
        " (deflated 70%)\r\n",
        "freshening: pickle/HP12_1626.pickle (deflated 70%)\r\n",
        "freshening: pickle/HP12_1001.pickle"
       ]
      },
      {
       "output_type": "stream",
       "stream": "stdout",
       "text": [
        " (deflated 70%)\r\n",
        "freshening: pickle/HP12_0758.pickle (deflated 69%)\r\n",
        "freshening: pickle/HP12_0097.pickle"
       ]
      },
      {
       "output_type": "stream",
       "stream": "stdout",
       "text": [
        " (deflated 69%)\r\n",
        "freshening: pickle/HP12_1394.pickle (deflated 71%)\r\n",
        "freshening: pickle/HP12_0858.pickle (deflated 70%)\r\n",
        "freshening: pickle/HP12_0416.pickle"
       ]
      },
      {
       "output_type": "stream",
       "stream": "stdout",
       "text": [
        " (deflated 70%)\r\n",
        "freshening: pickle/HP12_1715.pickle (deflated 72%)\r\n",
        "freshening: pickle/HP12_1132.pickle"
       ]
      },
      {
       "output_type": "stream",
       "stream": "stdout",
       "text": [
        " (deflated 70%)\r\n",
        "freshening: pickle/HP12_1533.pickle (deflated 70%)\r\n",
        "freshening: pickle/HP12_0017.pickle"
       ]
      },
      {
       "output_type": "stream",
       "stream": "stdout",
       "text": [
        " (deflated 70%)\r\n",
        "freshening: pickle/HP12_1440.pickle (deflated 70%)\r\n",
        "freshening: pickle/HP12_1267.pickle (deflated 70%)\r\n",
        "freshening: pickle/HP12_0164.pickle"
       ]
      },
      {
       "output_type": "stream",
       "stream": "stdout",
       "text": [
        " (deflated 70%)\r\n",
        "freshening: pickle/HP12_0930.pickle (deflated 70%)\r\n",
        "freshening: pickle/HP12_0359.pickle"
       ]
      },
      {
       "output_type": "stream",
       "stream": "stdout",
       "text": [
        " (deflated 69%)\r\n",
        "freshening: pickle/HP12_1400.pickle (deflated 71%)\r\n",
        "freshening: pickle/HP12_0124.pickle (deflated 70%)\r\n",
        "freshening: pickle/HP12_0970.pickle (deflated 72%)\r\n",
        "freshening: pickle/HP12_0319.pickle (deflated 70%)\r\n",
        "freshening: pickle/HP12_1081.pickle"
       ]
      },
      {
       "output_type": "stream",
       "stream": "stdout",
       "text": [
        " (deflated 70%)\r\n",
        "freshening: pickle/HP12_1573.pickle (deflated 72%)\r\n",
        "freshening: pickle/HP12_1354.pickle (deflated 72%)\r\n",
        "freshening: pickle/HP12_0057.pickle"
       ]
      },
      {
       "output_type": "stream",
       "stream": "stdout",
       "text": [
        " (deflated 70%)\r\n",
        "freshening: pickle/HP12_0382.pickle (deflated 70%)\r\n",
        "freshening: pickle/HP12_0798.pickle (deflated 71%)\r\n",
        "freshening: pickle/HP12_0803.pickle"
       ]
      },
      {
       "output_type": "stream",
       "stream": "stdout",
       "text": [
        " (deflated 69%)\r\n",
        "freshening: pickle/HP12_0001.pickle"
       ]
      },
      {
       "output_type": "stream",
       "stream": "stdout",
       "text": [
        " (deflated 70%)\r\n",
        "freshening: pickle/HP12_0855.pickle (deflated 70%)\r\n",
        "freshening: pickle/HP12_1302.pickle (deflated 70%)\r\n",
        "freshening: pickle/HP12_1525.pickle"
       ]
      },
      {
       "output_type": "stream",
       "stream": "stdout",
       "text": [
        " (deflated 70%)\r\n",
        "freshening: pickle/HP12_0480.pickle (deflated 70%)\r\n",
        "freshening: pickle/HP12_0172.pickle"
       ]
      },
      {
       "output_type": "stream",
       "stream": "stdout",
       "text": [
        " (deflated 70%)\r\n",
        "freshening: pickle/HP12_0568.pickle (deflated 70%)\r\n",
        "freshening: pickle/HP12_1456.pickle (deflated 70%)\r\n",
        "freshening: pickle/HP12_0666.pickle"
       ]
      },
      {
       "output_type": "stream",
       "stream": "stdout",
       "text": [
        " (deflated 70%)\r\n",
        "freshening: pickle/HP12_0041.pickle (deflated 70%)\r\n",
        "freshening: pickle/HP12_0394.pickle (deflated 70%)\r\n",
        "freshening: pickle/HP12_0815.pickle"
       ]
      },
      {
       "output_type": "stream",
       "stream": "stdout",
       "text": [
        " (deflated 70%)\r\n",
        "freshening: pickle/HP12_1097.pickle (deflated 71%)\r\n",
        "freshening: pickle/HP12_1565.pickle"
       ]
      },
      {
       "output_type": "stream",
       "stream": "stdout",
       "text": [
        " (deflated 70%)\r\n",
        "freshening: pickle/HP12_1342.pickle (deflated 71%)\r\n",
        "freshening: pickle/HP12_1359.pickle (deflated 70%)\r\n",
        "freshening: pickle/HP12_0795.pickle"
       ]
      },
      {
       "output_type": "stream",
       "stream": "stdout",
       "text": [
        " (deflated 70%)\r\n",
        "freshening: pickle/HP12_1630.pickle (deflated 70%)\r\n",
        "freshening: pickle/HP12_0129.pickle (deflated 70%)\r\n",
        "freshening: pickle/HP12_0895.pickle"
       ]
      },
      {
       "output_type": "stream",
       "stream": "stdout",
       "text": [
        " (deflated 71%)\r\n",
        "freshening: pickle/HP12_0169.pickle (deflated 69%)\r\n",
        "freshening: pickle/HP12_0354.pickle"
       ]
      },
      {
       "output_type": "stream",
       "stream": "stdout",
       "text": [
        " (deflated 70%)\r\n",
        "freshening: pickle/HP12_0573.pickle (deflated 71%)\r\n",
        "freshening: pickle/HP12_1124.pickle (deflated 70%)\r\n",
        "freshening: pickle/HP12_1319.pickle"
       ]
      },
      {
       "output_type": "stream",
       "stream": "stdout",
       "text": [
        " (deflated 70%)\r\n",
        "freshening: pickle/HP12_0400.pickle (deflated 71%)\r\n",
        "freshening: pickle/HP12_0227.pickle"
       ]
      },
      {
       "output_type": "stream",
       "stream": "stdout",
       "text": [
        " (deflated 70%)\r\n",
        "freshening: pickle/HP12_0147.pickle (deflated 71%)\r\n",
        "freshening: pickle/HP12_0688.pickle"
       ]
      },
      {
       "output_type": "stream",
       "stream": "stdout",
       "text": [
        " (deflated 70%)\r\n",
        "freshening: pickle/HP12_1244.pickle (deflated 71%)\r\n",
        "freshening: pickle/HP12_1191.pickle (deflated 70%)\r\n",
        "freshening: pickle/HP12_0988.pickle"
       ]
      },
      {
       "output_type": "stream",
       "stream": "stdout",
       "text": [
        " (deflated 71%)\r\n",
        "freshening: pickle/HP12_0034.pickle (deflated 70%)\r\n",
        "freshening: pickle/HP12_1510.pickle"
       ]
      },
      {
       "output_type": "stream",
       "stream": "stdout",
       "text": [
        " (deflated 70%)\r\n",
        "freshening: pickle/HP12_0653.pickle (deflated 70%)\r\n",
        "freshening: pickle/HP12_0074.pickle"
       ]
      },
      {
       "output_type": "stream",
       "stream": "stdout",
       "text": [
        " (deflated 70%)\r\n",
        "freshening: pickle/HP12_0586.pickle (deflated 71%)\r\n",
        "freshening: pickle/HP12_0249.pickle (deflated 70%)\r\n",
        "freshening: pickle/HP12_0820.pickle"
       ]
      },
      {
       "output_type": "stream",
       "stream": "stdout",
       "text": [
        " (deflated 71%)\r\n",
        "freshening: pickle/HP12_1550.pickle (deflated 71%)\r\n",
        "freshening: pickle/HP12_1377.pickle (deflated 70%)\r\n",
        "freshening: pickle/HP12_0720.pickle"
       ]
      },
      {
       "output_type": "stream",
       "stream": "stdout",
       "text": [
        " (deflated 70%)\r\n",
        "freshening: pickle/HP12_0953.pickle (deflated 70%)\r\n",
        "freshening: pickle/HP12_1022.pickle (deflated 70%)\r\n",
        "freshening: pickle/HP12_1151.pickle"
       ]
      },
      {
       "output_type": "stream",
       "stream": "stdout",
       "text": [
        " (deflated 70%)\r\n",
        "freshening: pickle/HP12_1284.pickle (deflated 70%)\r\n",
        "freshening: pickle/HP12_0648.pickle (deflated 71%)\r\n",
        "freshening: pickle/HP12_0187.pickle"
       ]
      },
      {
       "output_type": "stream",
       "stream": "stdout",
       "text": [
        " (deflated 70%)\r\n",
        "freshening: pickle/HP12_0252.pickle (deflated 70%)\r\n",
        "freshening: pickle/HP12_0608.pickle (deflated 70%)\r\n",
        "freshening: pickle/HP12_1062.pickle"
       ]
      },
      {
       "output_type": "stream",
       "stream": "stdout",
       "text": [
        " (deflated 70%)\r\n",
        "freshening: pickle/HP12_1478.pickle (deflated 70%)\r\n",
        "freshening: pickle/HP12_0289.pickle (deflated 70%)\r\n",
        "freshening: pickle/HP12_0361.pickle"
       ]
      },
      {
       "output_type": "stream",
       "stream": "stdout",
       "text": [
        " (deflated 70%)\r\n",
        "freshening: pickle/HP12_0337.pickle (deflated 70%)\r\n",
        "freshening: pickle/HP12_1613.pickle (deflated 70%)\r\n",
        "freshening: pickle/HP12_1034.pickle"
       ]
      },
      {
       "output_type": "stream",
       "stream": "stdout",
       "text": [
        " (deflated 70%)\r\n",
        "freshening: pickle/HP12_1209.pickle (deflated 71%)\r\n",
        "freshening: pickle/HP12_0244.pickle (deflated 70%)\r\n",
        "freshening: pickle/HP12_0463.pickle"
       ]
      },
      {
       "output_type": "stream",
       "stream": "stdout",
       "text": [
        " (deflated 70%)\r\n",
        "freshening: pickle/HP12_1147.pickle (deflated 70%)\r\n",
        "freshening: pickle/HP12_0039.pickle (deflated 70%)\r\n",
        "freshening: pickle/HP12_0423.pickle"
       ]
      },
      {
       "output_type": "stream",
       "stream": "stdout",
       "text": [
        " (deflated 70%)\r\n",
        "freshening: pickle/HP12_0204.pickle (deflated 73%)\r\n",
        "freshening: pickle/HP12_1107.pickle (deflated 71%)\r\n",
        "freshening: pickle/HP12_0377.pickle (deflated 70%)\r\n",
        "freshening: pickle/HP12_1586.pickle"
       ]
      },
      {
       "output_type": "stream",
       "stream": "stdout",
       "text": [
        " (deflated 70%)\r\n",
        "freshening: pickle/HP12_1648.pickle (deflated 73%)\r\n",
        "freshening: pickle/HP12_1475.pickle (deflated 70%)\r\n",
        "freshening: pickle/HP12_1252.pickle"
       ]
      },
      {
       "output_type": "stream",
       "stream": "stdout",
       "text": [
        " (deflated 71%)\r\n",
        "freshening: pickle/HP12_0284.pickle (deflated 69%)\r\n",
        "freshening: pickle/HP12_0151.pickle (deflated 70%)\r\n",
        "freshening: pickle/HP12_0905.pickle"
       ]
      },
      {
       "output_type": "stream",
       "stream": "stdout",
       "text": [
        " (deflated 70%)\r\n",
        "freshening: pickle/HP12_0605.pickle (deflated 71%)\r\n",
        "freshening: pickle/HP12_0876.pickle"
       ]
      },
      {
       "output_type": "stream",
       "stream": "stdout",
       "text": [
        " (deflated 70%)\r\n",
        "freshening: pickle/HP12_1361.pickle (deflated 70%)\r\n",
        "freshening: pickle/HP12_0836.pickle (deflated 69%)\r\n",
        "freshening: pickle/HP12_1608.pickle"
       ]
      },
      {
       "output_type": "stream",
       "stream": "stdout",
       "text": [
        " (deflated 70%)\r\n",
        "freshening: pickle/HP12_1435.pickle (deflated 70%)\r\n",
        "freshening: pickle/HP12_0111.pickle (deflated 71%)\r\n",
        "freshening: pickle/HP12_0736.pickle"
       ]
      },
      {
       "output_type": "stream",
       "stream": "stdout",
       "text": [
        " (deflated 70%)\r\n",
        "freshening: pickle/HP12_0945.pickle"
       ]
      },
      {
       "output_type": "stream",
       "stream": "stdout",
       "text": [
        " (deflated 71%)\r\n",
        "freshening: pickle/HP12_0055.pickle (deflated 70%)\r\n",
        "freshening: pickle/HP12_0268.pickle (deflated 70%)\r\n",
        "freshening: pickle/HP12_1499.pickle"
       ]
      },
      {
       "output_type": "stream",
       "stream": "stdout",
       "text": [
        " (deflated 70%)\r\n",
        "freshening: pickle/HP12_1356.pickle (deflated 70%)\r\n",
        "freshening: pickle/HP12_1571.pickle (deflated 70%)\r\n",
        "freshening: pickle/HP12_1225.pickle"
       ]
      },
      {
       "output_type": "stream",
       "stream": "stdout",
       "text": [
        " (deflated 70%)\r\n",
        "freshening: pickle/HP12_0494.pickle (deflated 70%)\r\n",
        "freshening: pickle/HP12_1265.pickle (deflated 70%)\r\n",
        "freshening: pickle/HP12_0015.pickle"
       ]
      },
      {
       "output_type": "stream",
       "stream": "stdout",
       "text": [
        " (deflated 70%)\r\n",
        "freshening: pickle/HP12_0228.pickle"
       ]
      },
      {
       "output_type": "stream",
       "stream": "stdout",
       "text": [
        " (deflated 70%)\r\n",
        "freshening: pickle/HP12_1531.pickle (deflated 70%)\r\n",
        "freshening: pickle/HP12_1717.pickle"
       ]
      },
      {
       "output_type": "stream",
       "stream": "stdout",
       "text": [
        " (deflated 70%)\r\n",
        "freshening: pickle/HP12_0414.pickle"
       ]
      },
      {
       "output_type": "stream",
       "stream": "stdout",
       "text": [
        " (deflated 71%)\r\n",
        "freshening: pickle/HP12_1396.pickle"
       ]
      },
      {
       "output_type": "stream",
       "stream": "stdout",
       "text": [
        " (deflated 70%)\r\n",
        "freshening: pickle/HP12_1043.pickle (deflated 71%)\r\n",
        "freshening: pickle/HP12_1459.pickle"
       ]
      },
      {
       "output_type": "stream",
       "stream": "stdout",
       "text": [
        " (deflated 70%)\r\n",
        "freshening: pickle/HP12_0929.pickle (deflated 70%)\r\n",
        "freshening: pickle/HP12_0095.pickle"
       ]
      },
      {
       "output_type": "stream",
       "stream": "stdout",
       "text": [
        " (deflated 71%)\r\n",
        "freshening: pickle/HP12_1003.pickle (deflated 70%)\r\n",
        "freshening: pickle/HP12_1419.pickle"
       ]
      },
      {
       "output_type": "stream",
       "stream": "stdout",
       "text": [
        " (deflated 73%)\r\n",
        "freshening: pickle/HP12_0881.pickle"
       ]
      },
      {
       "output_type": "stream",
       "stream": "stdout",
       "text": [
        " (deflated 68%)\r\n",
        "freshening: pickle/HP12_0527.pickle (deflated 70%)\r\n",
        "freshening: pickle/HP12_1098.pickle"
       ]
      },
      {
       "output_type": "stream",
       "stream": "stdout",
       "text": [
        " (deflated 70%)\r\n",
        "freshening: pickle/HP12_0781.pickle (deflated 71%)\r\n",
        "freshening: pickle/HP12_0273.pickle (deflated 70%)\r\n",
        "freshening: pickle/HP12_0018.pickle"
       ]
      },
      {
       "output_type": "stream",
       "stream": "stdout",
       "text": [
        " (deflated 70%)\r\n",
        "freshening: pickle/HP12_0225.pickle (deflated 71%)\r\n",
        "freshening: pickle/HP12_0402.pickle"
       ]
      },
      {
       "output_type": "stream",
       "stream": "stdout",
       "text": [
        " (deflated 70%)\r\n",
        "freshening: pickle/HP12_0571.pickle (deflated 70%)\r\n",
        "freshening: pickle/HP12_1672.pickle (deflated 71%)\r\n",
        "freshening: pickle/HP12_1268.pickle"
       ]
      },
      {
       "output_type": "stream",
       "stream": "stdout",
       "text": [
        " (deflated 70%)\r\n",
        "freshening: pickle/HP12_0531.pickle (deflated 70%)\r\n",
        "freshening: pickle/HP12_1632.pickle (deflated 70%)\r\n",
        "freshening: pickle/HP12_0058.pickle"
       ]
      },
      {
       "output_type": "stream",
       "stream": "stdout",
       "text": [
        " (deflated 71%)\r\n",
        "freshening: pickle/HP12_0442.pickle (deflated 72%)\r\n",
        "freshening: pickle/HP12_1166.pickle (deflated 70%)\r\n",
        "freshening: pickle/HP12_1494.pickle"
       ]
      },
      {
       "output_type": "stream",
       "stream": "stdout",
       "text": [
        " (deflated 70%)\r\n",
        "freshening: pickle/HP12_0664.pickle (deflated 70%)\r\n",
        "freshening: pickle/HP12_0459.pickle"
       ]
      },
      {
       "output_type": "stream",
       "stream": "stdout",
       "text": [
        " (deflated 71%)\r\n",
        "freshening: pickle/HP12_1414.pickle (deflated 71%)\r\n",
        "freshening: pickle/HP12_1233.pickle (deflated 70%)\r\n",
        "freshening: pickle/HP12_0717.pickle"
       ]
      },
      {
       "output_type": "stream",
       "stream": "stdout",
       "text": [
        " (deflated 71%)\r\n",
        "freshening: pickle/HP12_0964.pickle (deflated 71%)\r\n",
        "freshening: pickle/HP12_1454.pickle (deflated 71%)\r\n",
        "freshening: pickle/HP12_0757.pickle"
       ]
      },
      {
       "output_type": "stream",
       "stream": "stdout",
       "text": [
        " (deflated 71%)\r\n",
        "freshening: pickle/HP12_0924.pickle"
       ]
      },
      {
       "output_type": "stream",
       "stream": "stdout",
       "text": [
        " (deflated 70%)\r\n",
        "freshening: pickle/HP12_0098.pickle"
       ]
      },
      {
       "output_type": "stream",
       "stream": "stdout",
       "text": [
        " (deflated 70%)\r\n",
        "freshening: pickle/HP12_1300.pickle (deflated 70%)\r\n",
        "freshening: pickle/HP12_0419.pickle"
       ]
      },
      {
       "output_type": "stream",
       "stream": "stdout",
       "text": [
        " (deflated 70%)\r\n",
        "freshening: pickle/HP12_1230.pickle (deflated 70%)\r\n",
        "freshening: pickle/HP12_0529.pickle"
       ]
      },
      {
       "output_type": "stream",
       "stream": "stdout",
       "text": [
        " (deflated 70%)\r\n",
        "freshening: pickle/HP12_0714.pickle (deflated 71%)\r\n",
        "freshening: pickle/HP12_0133.pickle"
       ]
      },
      {
       "output_type": "stream",
       "stream": "stdout",
       "text": [
        " (deflated 70%)\r\n",
        "freshening: pickle/HP12_1303.pickle (deflated 70%)\r\n",
        "freshening: pickle/HP12_1719.pickle"
       ]
      },
      {
       "output_type": "stream",
       "stream": "stdout",
       "text": [
        " (deflated 71%)\r\n",
        "freshening: pickle/HP12_0173.pickle (deflated 72%)\r\n",
        "freshening: pickle/HP12_0754.pickle (deflated 70%)\r\n",
        "freshening: pickle/HP12_0080.pickle"
       ]
      },
      {
       "output_type": "stream",
       "stream": "stdout",
       "text": [
        " (deflated 70%)\r\n",
        "freshening: pickle/HP12_1671.pickle (deflated 70%)\r\n",
        "freshening: pickle/HP12_1056.pickle (deflated 70%)\r\n",
        "freshening: pickle/HP12_1383.pickle"
       ]
      },
      {
       "output_type": "stream",
       "stream": "stdout",
       "text": [
        " (deflated 70%)\r\n",
        "freshening: pickle/HP12_0226.pickle (deflated 70%)\r\n",
        "freshening: pickle/HP12_0401.pickle (deflated 72%)\r\n",
        "freshening: pickle/HP12_1318.pickle"
       ]
      },
      {
       "output_type": "stream",
       "stream": "stdout",
       "text": [
        " (deflated 70%)\r\n",
        "freshening: pickle/HP12_1702.pickle (deflated 70%)\r\n",
        "freshening: pickle/HP12_0441.pickle"
       ]
      },
      {
       "output_type": "stream",
       "stream": "stdout",
       "text": [
        " (deflated 71%)\r\n",
        "freshening: pickle/HP12_0794.pickle (deflated 70%)\r\n",
        "freshening: pickle/HP12_1497.pickle"
       ]
      },
      {
       "output_type": "stream",
       "stream": "stdout",
       "text": [
        " (deflated 70%)\r\n",
        "freshening: pickle/HP12_0532.pickle (deflated 71%)\r\n",
        "freshening: pickle/HP12_1016.pickle (deflated 70%)\r\n",
        "freshening: pickle/HP12_1395.pickle (deflated 70%)\r\n",
        "freshening: pickle/HP12_0564.pickle"
       ]
      },
      {
       "output_type": "stream",
       "stream": "stdout",
       "text": [
        " (deflated 70%)\r\n",
        "freshening: pickle/HP12_0343.pickle (deflated 70%)\r\n",
        "freshening: pickle/HP12_0230.pickle (deflated 70%)\r\n",
        "freshening: pickle/HP12_0417.pickle"
       ]
      },
      {
       "output_type": "stream",
       "stream": "stdout",
       "text": [
        " (deflated 70%)\r\n",
        "freshening: pickle/HP12_1481.pickle (deflated 71%)\r\n",
        "freshening: pickle/HP12_0819.pickle"
       ]
      },
      {
       "output_type": "stream",
       "stream": "stdout",
       "text": [
        " (deflated 70%)\r\n",
        "freshening: pickle/HP12_0457.pickle (deflated 70%)\r\n",
        "freshening: pickle/HP12_0270.pickle (deflated 71%)\r\n",
        "freshening: pickle/HP12_0398.pickle (deflated 70%)\r\n",
        "freshening: pickle/HP12_1627.pickle"
       ]
      },
      {
       "output_type": "stream",
       "stream": "stdout",
       "text": [
        " (deflated 71%)\r\n",
        "freshening: pickle/HP12_0719.pickle"
       ]
      },
      {
       "output_type": "stream",
       "stream": "stdout",
       "text": [
        " (deflated 70%)\r\n",
        "freshening: pickle/HP12_0318.pickle (deflated 70%)\r\n",
        "freshening: pickle/HP12_1226.pickle"
       ]
      },
      {
       "output_type": "stream",
       "stream": "stdout",
       "text": [
        " (deflated 70%)\r\n",
        "freshening: pickle/HP12_0799.pickle"
       ]
      },
      {
       "output_type": "stream",
       "stream": "stdout",
       "text": [
        " (deflated 70%)\r\n",
        "freshening: pickle/HP12_0383.pickle"
       ]
      },
      {
       "output_type": "stream",
       "stream": "stdout",
       "text": [
        " (deflated 70%)\r\n",
        "freshening: pickle/HP12_0056.pickle (deflated 70%)\r\n",
        "freshening: pickle/HP12_1355.pickle"
       ]
      },
      {
       "output_type": "stream",
       "stream": "stdout",
       "text": [
        " (deflated 70%)\r\n",
        "freshening: pickle/HP12_1572.pickle (deflated 70%)\r\n",
        "freshening: pickle/HP12_0016.pickle (deflated 70%)\r\n",
        "freshening: pickle/HP12_1532.pickle"
       ]
      },
      {
       "output_type": "stream",
       "stream": "stdout",
       "text": [
        " (deflated 69%)\r\n",
        "freshening: pickle/HP12_1315.pickle (deflated 70%)\r\n",
        "freshening: pickle/HP12_0931.pickle"
       ]
      },
      {
       "output_type": "stream",
       "stream": "stdout",
       "text": [
        " (deflated 70%)\r\n",
        "freshening: pickle/HP12_0497.pickle (deflated 71%)\r\n",
        "freshening: pickle/HP12_1441.pickle (deflated 70%)\r\n",
        "freshening: pickle/HP12_1322.pickle"
       ]
      },
      {
       "output_type": "stream",
       "stream": "stdout",
       "text": [
        " (deflated 70%)\r\n",
        "freshening: pickle/HP12_1505.pickle (deflated 70%)\r\n",
        "freshening: pickle/HP12_1251.pickle (deflated 71%)\r\n",
        "freshening: pickle/HP12_0287.pickle"
       ]
      },
      {
       "output_type": "stream",
       "stream": "stdout",
       "text": [
        " (deflated 70%)\r\n",
        "freshening: pickle/HP12_0735.pickle (deflated 71%)\r\n",
        "freshening: pickle/HP12_1545.pickle (deflated 70%)\r\n",
        "freshening: pickle/HP12_1362.pickle"
       ]
      },
      {
       "output_type": "stream",
       "stream": "stdout",
       "text": [
        " (deflated 70%)\r\n",
        "freshening: pickle/HP12_0835.pickle (deflated 71%)\r\n",
        "freshening: pickle/HP12_0061.pickle (deflated 70%)\r\n",
        "freshening: pickle/HP12_0460.pickle"
       ]
      },
      {
       "output_type": "stream",
       "stream": "stdout",
       "text": [
        " (deflated 70%)\r\n",
        "freshening: pickle/HP12_0588.pickle (deflated 71%)\r\n",
        "freshening: pickle/HP12_1291.pickle (deflated 70%)\r\n",
        "freshening: pickle/HP12_0334.pickle"
       ]
      },
      {
       "output_type": "stream",
       "stream": "stdout",
       "text": [
        " (deflated 70%)\r\n",
        "freshening: pickle/HP12_1610.pickle"
       ]
      },
      {
       "output_type": "stream",
       "stream": "stdout",
       "text": [
        " (deflated 71%)\r\n",
        "freshening: pickle/HP12_1037.pickle (deflated 71%)\r\n",
        "freshening: pickle/HP12_0149.pickle"
       ]
      },
      {
       "output_type": "stream",
       "stream": "stdout",
       "text": [
        " (deflated 70%)\r\n",
        "freshening: pickle/HP12_1077.pickle (deflated 70%)\r\n",
        "freshening: pickle/HP12_1585.pickle"
       ]
      },
      {
       "output_type": "stream",
       "stream": "stdout",
       "text": [
        " (deflated 71%)\r\n",
        "freshening: pickle/HP12_0207.pickle (deflated 70%)\r\n",
        "freshening: pickle/HP12_0986.pickle (deflated 71%)\r\n",
        "freshening: pickle/HP12_1339.pickle"
       ]
      },
      {
       "output_type": "stream",
       "stream": "stdout",
       "text": [
        " (deflated 70%)\r\n",
        "freshening: pickle/HP12_1104.pickle (deflated 70%)\r\n",
        "freshening: pickle/HP12_1548.pickle (deflated 73%)\r\n",
        "freshening: pickle/HP12_1287.pickle"
       ]
      },
      {
       "output_type": "stream",
       "stream": "stdout",
       "text": [
        " (deflated 71%)\r\n",
        "freshening: pickle/HP12_1152.pickle (deflated 70%)\r\n",
        "freshening: pickle/HP12_0476.pickle"
       ]
      },
      {
       "output_type": "stream",
       "stream": "stdout",
       "text": [
        " (deflated 70%)\r\n",
        "freshening: pickle/HP12_1606.pickle (deflated 71%)\r\n",
        "freshening: pickle/HP12_1021.pickle"
       ]
      },
      {
       "output_type": "stream",
       "stream": "stdout",
       "text": [
        " (deflated 70%)\r\n",
        "freshening: pickle/HP12_0505.pickle (deflated 71%)\r\n",
        "freshening: pickle/HP12_0738.pickle"
       ]
      },
      {
       "output_type": "stream",
       "stream": "stdout",
       "text": [
        " (deflated 71%)\r\n",
        "freshening: pickle/HP12_1189.pickle (deflated 70%)\r\n",
        "freshening: pickle/HP12_1593.pickle"
       ]
      },
      {
       "output_type": "stream",
       "stream": "stdout",
       "text": [
        " (deflated 70%)\r\n",
        "freshening: pickle/HP12_0690.pickle (deflated 71%)\r\n",
        "freshening: pickle/HP12_0362.pickle"
       ]
      },
      {
       "output_type": "stream",
       "stream": "stdout",
       "text": [
        " (deflated 71%)\r\n",
        "freshening: pickle/HP12_0778.pickle (deflated 71%)\r\n",
        "freshening: pickle/HP12_1508.pickle"
       ]
      },
      {
       "output_type": "stream",
       "stream": "stdout",
       "text": [
        " (deflated 70%)\r\n",
        "freshening: pickle/HP12_0436.pickle (deflated 70%)\r\n",
        "freshening: pickle/HP12_0037.pickle"
       ]
      },
      {
       "output_type": "stream",
       "stream": "stdout",
       "text": [
        " (deflated 70%)\r\n",
        "freshening: pickle/HP12_0610.pickle"
       ]
      },
      {
       "output_type": "stream",
       "stream": "stdout",
       "text": [
        " (deflated 71%)\r\n",
        "freshening: pickle/HP12_1334.pickle (deflated 70%)\r\n",
        "freshening: pickle/HP12_1513.pickle"
       ]
      },
      {
       "output_type": "stream",
       "stream": "stdout",
       "text": [
        " (deflated 70%)\r\n",
        "freshening: pickle/HP12_0379.pickle (deflated 70%)\r\n",
        "freshening: pickle/HP12_0910.pickle (deflated 72%)\r\n",
        "freshening: pickle/HP12_1460.pickle"
       ]
      },
      {
       "output_type": "stream",
       "stream": "stdout",
       "text": [
        " (deflated 71%)\r\n",
        "freshening: pickle/HP12_1247.pickle (deflated 71%)\r\n",
        "freshening: pickle/HP12_0339.pickle"
       ]
      },
      {
       "output_type": "stream",
       "stream": "stdout",
       "text": [
        " (deflated 71%)\r\n",
        "freshening: pickle/HP12_0104.pickle (deflated 70%)\r\n",
        "freshening: pickle/HP12_0823.pickle"
       ]
      },
      {
       "output_type": "stream",
       "stream": "stdout",
       "text": [
        " (deflated 70%)\r\n",
        "freshening: pickle/HP12_0077.pickle (deflated 70%)\r\n",
        "freshening: pickle/HP12_1229.pickle"
       ]
      },
      {
       "output_type": "stream",
       "stream": "stdout",
       "text": [
        " (deflated 71%)\r\n",
        "freshening: pickle/HP12_1014.pickle (deflated 71%)\r\n",
        "freshening: pickle/HP12_0530.pickle (deflated 70%)\r\n",
        "freshening: pickle/HP12_1495.pickle"
       ]
      },
      {
       "output_type": "stream",
       "stream": "stdout",
       "text": [
        " (deflated 71%)\r\n",
        "freshening: pickle/HP12_1167.pickle (deflated 70%)\r\n",
        "freshening: pickle/HP12_0264.pickle (deflated 71%)\r\n",
        "freshening: pickle/HP12_0443.pickle"
       ]
      },
      {
       "output_type": "stream",
       "stream": "stdout",
       "text": [
        " (deflated 71%)\r\n",
        "freshening: pickle/HP12_0059.pickle (deflated 70%)\r\n",
        "freshening: pickle/HP12_1700.pickle"
       ]
      },
      {
       "output_type": "stream",
       "stream": "stdout",
       "text": [
        " (deflated 70%)\r\n",
        "freshening: pickle/HP12_1127.pickle (deflated 70%)\r\n",
        "freshening: pickle/HP12_1054.pickle"
       ]
      },
      {
       "output_type": "stream",
       "stream": "stdout",
       "text": [
        " (deflated 70%)\r\n",
        "freshening: pickle/HP12_1673.pickle (deflated 71%)\r\n",
        "freshening: pickle/HP12_0082.pickle"
       ]
      },
      {
       "output_type": "stream",
       "stream": "stdout",
       "text": [
        " (deflated 70%)\r\n",
        "freshening: pickle/HP12_0357.pickle (deflated 70%)\r\n",
        "freshening: pickle/HP12_0498.pickle"
       ]
      },
      {
       "output_type": "stream",
       "stream": "stdout",
       "text": [
        " (deflated 71%)\r\n",
        "freshening: pickle/HP12_0925.pickle (deflated 71%)\r\n",
        "freshening: pickle/HP12_0756.pickle"
       ]
      },
      {
       "output_type": "stream",
       "stream": "stdout",
       "text": [
        " (deflated 70%)\r\n",
        "freshening: pickle/HP12_1455.pickle (deflated 71%)\r\n",
        "freshening: pickle/HP12_1668.pickle"
       ]
      },
      {
       "output_type": "stream",
       "stream": "stdout",
       "text": [
        " (deflated 71%)\r\n",
        "freshening: pickle/HP12_0856.pickle (deflated 70%)\r\n",
        "freshening: pickle/HP12_1526.pickle"
       ]
      },
      {
       "output_type": "stream",
       "stream": "stdout",
       "text": [
        " (deflated 71%)\r\n",
        "freshening: pickle/HP12_0458.pickle (deflated 70%)\r\n",
        "freshening: pickle/HP12_0397.pickle (deflated 71%)\r\n",
        "freshening: pickle/HP12_0665.pickle"
       ]
      },
      {
       "output_type": "stream",
       "stream": "stdout",
       "text": [
        " (deflated 70%)\r\n",
        "freshening: pickle/HP12_1341.pickle (deflated 71%)\r\n",
        "freshening: pickle/HP12_0716.pickle"
       ]
      },
      {
       "output_type": "stream",
       "stream": "stdout",
       "text": [
        " (deflated 70%)\r\n",
        "freshening: pickle/HP12_1415.pickle (deflated 70%)\r\n",
        "freshening: pickle/HP12_1443.pickle"
       ]
      },
      {
       "output_type": "stream",
       "stream": "stdout",
       "text": [
        " (deflated 70%)\r\n",
        "freshening: pickle/HP12_1264.pickle (deflated 71%)\r\n",
        "freshening: pickle/HP12_0740.pickle"
       ]
      },
      {
       "output_type": "stream",
       "stream": "stdout",
       "text": [
        " (deflated 71%)\r\n",
        "freshening: pickle/HP12_0495.pickle (deflated 70%)\r\n",
        "freshening: pickle/HP12_0014.pickle"
       ]
      },
      {
       "output_type": "stream",
       "stream": "stdout",
       "text": [
        " (deflated 71%)\r\n",
        "freshening: pickle/HP12_0633.pickle (deflated 70%)\r\n",
        "freshening: pickle/HP12_1357.pickle"
       ]
      },
      {
       "output_type": "stream",
       "stream": "stdout",
       "text": [
        " (deflated 69%)\r\n",
        "freshening: pickle/HP12_1082.pickle (deflated 70%)\r\n",
        "freshening: pickle/HP12_1498.pickle (deflated 70%)\r\n",
        "freshening: pickle/HP12_0800.pickle"
       ]
      },
      {
       "output_type": "stream",
       "stream": "stdout",
       "text": [
        " (deflated 71%)\r\n",
        "freshening: pickle/HP12_0269.pickle"
       ]
      },
      {
       "output_type": "stream",
       "stream": "stdout",
       "text": [
        " (deflated 70%)\r\n",
        "freshening: pickle/HP12_0381.pickle"
       ]
      },
      {
       "output_type": "stream",
       "stream": "stdout",
       "text": [
        " (deflated 69%)\r\n",
        "freshening: pickle/HP12_0673.pickle (deflated 70%)\r\n",
        "freshening: pickle/HP12_0054.pickle"
       ]
      },
      {
       "output_type": "stream",
       "stream": "stdout",
       "text": [
        " (deflated 70%)\r\n",
        "freshening: pickle/HP12_1224.pickle (deflated 71%)\r\n",
        "freshening: pickle/HP12_1403.pickle (deflated 70%)\r\n",
        "freshening: pickle/HP12_1019.pickle"
       ]
      },
      {
       "output_type": "stream",
       "stream": "stdout",
       "text": [
        " (deflated 70%)\r\n",
        "freshening: pickle/HP12_0973.pickle (deflated 70%)\r\n",
        "freshening: pickle/HP12_0127.pickle"
       ]
      },
      {
       "output_type": "stream",
       "stream": "stdout",
       "text": [
        " (deflated 70%)\r\n",
        "freshening: pickle/HP12_0301.pickle (deflated 70%)\r\n",
        "freshening: pickle/HP12_0272.pickle"
       ]
      },
      {
       "output_type": "stream",
       "stream": "stdout",
       "text": [
        " (deflated 69%)\r\n",
        "freshening: pickle/HP12_0455.pickle"
       ]
      },
      {
       "output_type": "stream",
       "stream": "stdout",
       "text": [
        " (deflated 71%)\r\n",
        "freshening: pickle/HP12_0780.pickle (deflated 71%)\r\n",
        "freshening: pickle/HP12_0668.pickle"
       ]
      },
      {
       "output_type": "stream",
       "stream": "stdout",
       "text": [
        " (deflated 70%)\r\n",
        "freshening: pickle/HP12_1483.pickle (deflated 70%)\r\n",
        "freshening: pickle/HP12_1171.pickle"
       ]
      },
      {
       "output_type": "stream",
       "stream": "stdout",
       "text": [
        " (deflated 70%)\r\n",
        "freshening: pickle/HP12_0628.pickle (deflated 70%)\r\n",
        "freshening: pickle/HP12_1716.pickle"
       ]
      },
      {
       "output_type": "stream",
       "stream": "stdout",
       "text": [
        " (deflated 70%)\r\n",
        "freshening: pickle/HP12_0928.pickle (deflated 70%)\r\n",
        "freshening: pickle/HP12_1042.pickle"
       ]
      },
      {
       "output_type": "stream",
       "stream": "stdout",
       "text": [
        " (deflated 70%)\r\n",
        "freshening: pickle/HP12_1665.pickle (deflated 70%)\r\n",
        "freshening: pickle/HP12_1397.pickle"
       ]
      },
      {
       "output_type": "stream",
       "stream": "stdout",
       "text": [
        " (deflated 71%)\r\n",
        "freshening: pickle/HP12_1106.pickle"
       ]
      },
      {
       "output_type": "stream",
       "stream": "stdout",
       "text": [
        " (deflated 70%)\r\n",
        "freshening: pickle/HP12_0205.pickle (deflated 71%)\r\n",
        "freshening: pickle/HP12_0038.pickle"
       ]
      },
      {
       "output_type": "stream",
       "stream": "stdout",
       "text": [
        " (deflated 70%)\r\n",
        "freshening: pickle/HP12_1248.pickle (deflated 73%)\r\n",
        "freshening: pickle/HP12_1075.pickle (deflated 70%)\r\n",
        "freshening: pickle/HP12_0376.pickle"
       ]
      },
      {
       "output_type": "stream",
       "stream": "stdout",
       "text": [
        " (deflated 70%)\r\n",
        "freshening: pickle/HP12_1208.pickle (deflated 70%)\r\n",
        "freshening: pickle/HP12_1612.pickle"
       ]
      },
      {
       "output_type": "stream",
       "stream": "stdout",
       "text": [
        " (deflated 70%)\r\n",
        "freshening: pickle/HP12_0336.pickle (deflated 70%)\r\n",
        "freshening: pickle/HP12_1689.pickle (deflated 70%)\r\n",
        "freshening: pickle/HP12_1293.pickle"
       ]
      },
      {
       "output_type": "stream",
       "stream": "stdout",
       "text": [
        " (deflated 71%)\r\n",
        "freshening: pickle/HP12_1146.pickle (deflated 70%)\r\n",
        "freshening: pickle/HP12_0245.pickle"
       ]
      },
      {
       "output_type": "stream",
       "stream": "stdout",
       "text": [
        " (deflated 72%)\r\n",
        "freshening: pickle/HP12_0190.pickle (deflated 69%)\r\n",
        "freshening: pickle/HP12_0078.pickle"
       ]
      },
      {
       "output_type": "stream",
       "stream": "stdout",
       "text": [
        " (deflated 70%)\r\n",
        "freshening: pickle/HP12_0479.pickle (deflated 71%)\r\n",
        "freshening: pickle/HP12_0837.pickle"
       ]
      },
      {
       "output_type": "stream",
       "stream": "stdout",
       "text": [
        " (deflated 70%)\r\n",
        "freshening: pickle/HP12_0063.pickle (deflated 70%)\r\n",
        "freshening: pickle/HP12_1360.pickle (deflated 70%)\r\n",
        "freshening: pickle/HP12_1692.pickle"
       ]
      },
      {
       "output_type": "stream",
       "stream": "stdout",
       "text": [
        " (deflated 71%)\r\n",
        "freshening: pickle/HP12_1288.pickle (deflated 71%)\r\n",
        "freshening: pickle/HP12_0944.pickle"
       ]
      },
      {
       "output_type": "stream",
       "stream": "stdout",
       "text": [
        " (deflated 71%)\r\n",
        "freshening: pickle/HP12_0737.pickle (deflated 70%)\r\n",
        "freshening: pickle/HP12_0110.pickle"
       ]
      },
      {
       "output_type": "stream",
       "stream": "stdout",
       "text": [
        " (deflated 70%)\r\n",
        "freshening: pickle/HP12_1434.pickle"
       ]
      },
      {
       "output_type": "stream",
       "stream": "stdout",
       "text": [
        " (deflated 71%)\r\n",
        "freshening: pickle/HP12_1213.pickle (deflated 70%)\r\n",
        "freshening: pickle/HP12_1609.pickle"
       ]
      },
      {
       "output_type": "stream",
       "stream": "stdout",
       "text": [
        " (deflated 70%)\r\n",
        "freshening: pickle/HP12_0904.pickle (deflated 70%)\r\n",
        "freshening: pickle/HP12_1253.pickle (deflated 70%)\r\n",
        "freshening: pickle/HP12_1649.pickle"
       ]
      },
      {
       "output_type": "stream",
       "stream": "stdout",
       "text": [
        " (deflated 70%)\r\n",
        "freshening: pickle/HP12_0439.pickle"
       ]
      },
      {
       "output_type": "stream",
       "stream": "stdout",
       "text": [
        " (deflated 70%)\r\n",
        "freshening: pickle/HP12_0023.pickle (deflated 70%)\r\n",
        "freshening: pickle/HP12_1551.pickle"
       ]
      },
      {
       "output_type": "stream",
       "stream": "stdout",
       "text": [
        " (deflated 71%)\r\n",
        "freshening: pickle/HP12_1684.pickle (deflated 71%)\r\n",
        "freshening: pickle/HP12_1422.pickle"
       ]
      },
      {
       "output_type": "stream",
       "stream": "stdout",
       "text": [
        " (deflated 70%)\r\n",
        "freshening: pickle/HP12_1205.pickle (deflated 71%)\r\n",
        "freshening: pickle/HP12_0721.pickle"
       ]
      },
      {
       "output_type": "stream",
       "stream": "stdout",
       "text": [
        " (deflated 71%)\r\n",
        "freshening: pickle/HP12_0106.pickle (deflated 69%)\r\n",
        "freshening: pickle/HP12_1078.pickle"
       ]
      },
      {
       "output_type": "stream",
       "stream": "stdout",
       "text": [
        " (deflated 71%)\r\n",
        "freshening: pickle/HP12_0689.pickle (deflated 71%)\r\n",
        "freshening: pickle/HP12_1511.pickle"
       ]
      },
      {
       "output_type": "stream",
       "stream": "stdout",
       "text": [
        " (deflated 73%)\r\n",
        "freshening: pickle/HP12_1336.pickle (deflated 71%)\r\n",
        "freshening: pickle/HP12_0208.pickle"
       ]
      },
      {
       "output_type": "stream",
       "stream": "stdout",
       "text": [
        " (deflated 70%)\r\n",
        "freshening: pickle/HP12_0612.pickle (deflated 71%)\r\n",
        "freshening: pickle/HP12_0035.pickle"
       ]
      },
      {
       "output_type": "stream",
       "stream": "stdout",
       "text": [
        " (deflated 70%)\r\n",
        "freshening: pickle/HP12_0213.pickle (deflated 70%)\r\n",
        "freshening: pickle/HP12_0692.pickle (deflated 71%)\r\n",
        "freshening: pickle/HP12_0547.pickle"
       ]
      },
      {
       "output_type": "stream",
       "stream": "stdout",
       "text": [
        " (deflated 70%)\r\n",
        "freshening: pickle/HP12_0360.pickle (deflated 70%)\r\n",
        "freshening: pickle/HP12_0288.pickle"
       ]
      },
      {
       "output_type": "stream",
       "stream": "stdout",
       "text": [
        " (deflated 70%)\r\n",
        "freshening: pickle/HP12_0949.pickle (deflated 71%)\r\n",
        "freshening: pickle/HP12_1439.pickle (deflated 71%)\r\n",
        "freshening: pickle/HP12_1023.pickle"
       ]
      },
      {
       "output_type": "stream",
       "stream": "stdout",
       "text": [
        " (deflated 70%)\r\n",
        "freshening: pickle/HP12_1604.pickle (deflated 70%)\r\n",
        "freshening: pickle/HP12_0186.pickle"
       ]
      },
      {
       "output_type": "stream",
       "stream": "stdout",
       "text": [
        " (deflated 70%)\r\n",
        "freshening: pickle/HP12_1285.pickle (deflated 70%)\r\n",
        "freshening: pickle/HP12_1150.pickle"
       ]
      },
      {
       "output_type": "stream",
       "stream": "stdout",
       "text": [
        " (deflated 70%)\r\n",
        "freshening: pickle/HP12_0935.pickle (deflated 70%)\r\n",
        "freshening: pickle/HP12_1678.pickle"
       ]
      },
      {
       "output_type": "stream",
       "stream": "stdout",
       "text": [
        " (deflated 70%)\r\n",
        "freshening: pickle/HP12_0846.pickle (deflated 69%)\r\n",
        "freshening: pickle/HP12_0408.pickle"
       ]
      },
      {
       "output_type": "stream",
       "stream": "stdout",
       "text": [
        " (deflated 70%)\r\n",
        "freshening: pickle/HP12_0635.pickle (deflated 72%)\r\n",
        "freshening: pickle/HP12_0012.pickle"
       ]
      },
      {
       "output_type": "stream",
       "stream": "stdout",
       "text": [
        " (deflated 70%)\r\n",
        "freshening: pickle/HP12_1536.pickle (deflated 71%)\r\n",
        "freshening: pickle/HP12_1311.pickle (deflated 71%)\r\n",
        "freshening: pickle/HP12_0052.pickle"
       ]
      },
      {
       "output_type": "stream",
       "stream": "stdout",
       "text": [
        " (deflated 70%)\r\n",
        "freshening: pickle/HP12_0675.pickle"
       ]
      },
      {
       "output_type": "stream",
       "stream": "stdout",
       "text": [
        " (deflated 72%)\r\n",
        "freshening: pickle/HP12_1084.pickle (deflated 70%)\r\n",
        "freshening: pickle/HP12_1576.pickle"
       ]
      },
      {
       "output_type": "stream",
       "stream": "stdout",
       "text": [
        " (deflated 70%)\r\n",
        "freshening: pickle/HP12_1405.pickle (deflated 70%)\r\n",
        "freshening: pickle/HP12_1638.pickle"
       ]
      },
      {
       "output_type": "stream",
       "stream": "stdout",
       "text": [
        " (deflated 70%)\r\n",
        "freshening: pickle/HP12_1239.pickle (deflated 71%)\r\n",
        "freshening: pickle/HP12_1004.pickle"
       ]
      },
      {
       "output_type": "stream",
       "stream": "stdout",
       "text": [
        " (deflated 71%)\r\n",
        "freshening: pickle/HP12_0520.pickle (deflated 71%)\r\n",
        "freshening: pickle/HP12_1485.pickle"
       ]
      },
      {
       "output_type": "stream",
       "stream": "stdout",
       "text": [
        " (deflated 70%)\r\n",
        "freshening: pickle/HP12_0453.pickle (deflated 70%)\r\n",
        "freshening: pickle/HP12_1710.pickle"
       ]
      },
      {
       "output_type": "stream",
       "stream": "stdout",
       "text": [
        " (deflated 70%)\r\n",
        "freshening: pickle/HP12_0234.pickle (deflated 70%)\r\n",
        "freshening: pickle/HP12_0413.pickle"
       ]
      },
      {
       "output_type": "stream",
       "stream": "stdout",
       "text": [
        " (deflated 70%)\r\n",
        "freshening: pickle/HP12_1391.pickle"
       ]
      },
      {
       "output_type": "stream",
       "stream": "stdout",
       "text": [
        " (deflated 71%)\r\n",
        "freshening: pickle/HP12_1663.pickle (deflated 70%)\r\n",
        "freshening: pickle/HP12_1044.pickle"
       ]
      },
      {
       "output_type": "stream",
       "stream": "stdout",
       "text": [
        " (deflated 70%)\r\n",
        "freshening: pickle/HP12_0560.pickle (deflated 71%)\r\n",
        "freshening: pickle/HP12_0347.pickle"
       ]
      },
      {
       "output_type": "stream",
       "stream": "stdout",
       "text": [
        " (deflated 71%)\r\n",
        "freshening: pickle/HP12_0092.pickle (deflated 70%)\r\n",
        "freshening: pickle/HP12_0311.pickle"
       ]
      },
      {
       "output_type": "stream",
       "stream": "stdout",
       "text": [
        " (deflated 70%)\r\n",
        "freshening: pickle/HP12_0890.pickle (deflated 70%)\r\n",
        "freshening: pickle/HP12_0790.pickle"
       ]
      },
      {
       "output_type": "stream",
       "stream": "stdout",
       "text": [
        " (deflated 71%)\r\n",
        "freshening: pickle/HP12_0445.pickle (deflated 70%)\r\n",
        "freshening: pickle/HP12_0262.pickle"
       ]
      },
      {
       "output_type": "stream",
       "stream": "stdout",
       "text": [
        " (deflated 70%)\r\n",
        "freshening: pickle/HP12_0678.pickle (deflated 70%)\r\n",
        "freshening: pickle/HP12_1161.pickle"
       ]
      },
      {
       "output_type": "stream",
       "stream": "stdout",
       "text": [
        " (deflated 71%)\r\n",
        "freshening: pickle/HP12_1493.pickle (deflated 70%)\r\n",
        "freshening: pickle/HP12_0405.pickle"
       ]
      },
      {
       "output_type": "stream",
       "stream": "stdout",
       "text": [
        " (deflated 71%)\r\n",
        "freshening: pickle/HP12_1121.pickle"
       ]
      },
      {
       "output_type": "stream",
       "stream": "stdout",
       "text": [
        " (deflated 70%)\r\n",
        "freshening: pickle/HP12_1706.pickle (deflated 70%)\r\n",
        "freshening: pickle/HP12_1448.pickle"
       ]
      },
      {
       "output_type": "stream",
       "stream": "stdout",
       "text": [
        " (deflated 70%)\r\n",
        "freshening: pickle/HP12_1387.pickle (deflated 70%)\r\n",
        "freshening: pickle/HP12_1520.pickle"
       ]
      },
      {
       "output_type": "stream",
       "stream": "stdout",
       "text": [
        " (deflated 70%)\r\n",
        "freshening: pickle/HP12_1307.pickle (deflated 70%)\r\n",
        "freshening: pickle/HP12_0850.pickle (deflated 69%)\r\n",
        "freshening: pickle/HP12_0239.pickle"
       ]
      },
      {
       "output_type": "stream",
       "stream": "stdout",
       "text": [
        " (deflated 70%)\r\n",
        "freshening: pickle/HP12_1092.pickle (deflated 70%)\r\n",
        "freshening: pickle/HP12_1560.pickle"
       ]
      },
      {
       "output_type": "stream",
       "stream": "stdout",
       "text": [
        " (deflated 70%)\r\n",
        "freshening: pickle/HP12_0810.pickle"
       ]
      },
      {
       "output_type": "stream",
       "stream": "stdout",
       "text": [
        " (deflated 70%)\r\n",
        "freshening: pickle/HP12_0663.pickle (deflated 71%)\r\n",
        "freshening: pickle/HP12_1413.pickle"
       ]
      },
      {
       "output_type": "stream",
       "stream": "stdout",
       "text": [
        " (deflated 71%)\r\n",
        "freshening: pickle/HP12_1234.pickle (deflated 71%)\r\n",
        "freshening: pickle/HP12_1009.pickle"
       ]
      },
      {
       "output_type": "stream",
       "stream": "stdout",
       "text": [
        " (deflated 70%)\r\n",
        "freshening: pickle/HP12_0963.pickle (deflated 70%)\r\n",
        "freshening: pickle/HP12_0827.pickle"
       ]
      },
      {
       "output_type": "stream",
       "stream": "stdout",
       "text": [
        " (deflated 70%)\r\n",
        "freshening: pickle/HP12_0581.pickle (deflated 70%)\r\n",
        "freshening: pickle/HP12_1682.pickle"
       ]
      },
      {
       "output_type": "stream",
       "stream": "stdout",
       "text": [
        " (deflated 70%)\r\n",
        "freshening: pickle/HP12_1298.pickle"
       ]
      },
      {
       "output_type": "stream",
       "stream": "stdout",
       "text": [
        " (deflated 70%)\r\n",
        "freshening: pickle/HP12_0954.pickle (deflated 70%)\r\n",
        "freshening: pickle/HP12_0727.pickle (deflated 70%)\r\n",
        "freshening: pickle/HP12_1203.pickle"
       ]
      },
      {
       "output_type": "stream",
       "stream": "stdout",
       "text": [
        " (deflated 70%)\r\n",
        "freshening: pickle/HP12_0295.pickle (deflated 70%)\r\n",
        "freshening: pickle/HP12_0767.pickle"
       ]
      },
      {
       "output_type": "stream",
       "stream": "stdout",
       "text": [
        " (deflated 70%)\r\n",
        "freshening: pickle/HP12_0140.pickle"
       ]
      },
      {
       "output_type": "stream",
       "stream": "stdout",
       "text": [
        " (deflated 70%)\r\n",
        "freshening: pickle/HP12_1243.pickle (deflated 70%)\r\n",
        "freshening: pickle/HP12_1196.pickle"
       ]
      },
      {
       "output_type": "stream",
       "stream": "stdout",
       "text": [
        " (deflated 70%)\r\n",
        "freshening: pickle/HP12_1659.pickle (deflated 70%)\r\n",
        "freshening: pickle/HP12_0429.pickle"
       ]
      },
      {
       "output_type": "stream",
       "stream": "stdout",
       "text": [
        " (deflated 70%)\r\n",
        "freshening: pickle/HP12_0033.pickle (deflated 70%)\r\n",
        "freshening: pickle/HP12_1330.pickle"
       ]
      },
      {
       "output_type": "stream",
       "stream": "stdout",
       "text": [
        " (deflated 70%)\r\n",
        "freshening: pickle/HP12_1116.pickle (deflated 70%)\r\n",
        "freshening: pickle/HP12_0432.pickle"
       ]
      },
      {
       "output_type": "stream",
       "stream": "stdout",
       "text": [
        " (deflated 70%)\r\n",
        "freshening: pickle/HP12_0215.pickle (deflated 70%)\r\n",
        "freshening: pickle/HP12_0994.pickle (deflated 70%)\r\n",
        "freshening: pickle/HP12_1597.pickle"
       ]
      },
      {
       "output_type": "stream",
       "stream": "stdout",
       "text": [
        " (deflated 70%)\r\n",
        "freshening: pickle/HP12_0541.pickle"
       ]
      },
      {
       "output_type": "stream",
       "stream": "stdout",
       "text": [
        " (deflated 72%)\r\n",
        "freshening: pickle/HP12_1218.pickle"
       ]
      },
      {
       "output_type": "stream",
       "stream": "stdout",
       "text": [
        " (deflated 70%)\r\n",
        "freshening: pickle/HP12_1602.pickle (deflated 71%)\r\n",
        "freshening: pickle/HP12_1025.pickle"
       ]
      },
      {
       "output_type": "stream",
       "stream": "stdout",
       "text": [
        " (deflated 70%)\r\n",
        "freshening: pickle/HP12_1699.pickle"
       ]
      },
      {
       "output_type": "stream",
       "stream": "stdout",
       "text": [
        " (deflated 70%)\r\n",
        "freshening: pickle/HP12_1156.pickle (deflated 71%)\r\n",
        "freshening: pickle/HP12_0255.pickle (deflated 70%)\r\n",
        "freshening: pickle/HP12_0472.pickle"
       ]
      },
      {
       "output_type": "stream",
       "stream": "stdout",
       "text": [
        " (deflated 70%)\r\n",
        "freshening: pickle/HP12_0424.pickle (deflated 70%)\r\n",
        "freshening: pickle/HP12_0982.pickle"
       ]
      },
      {
       "output_type": "stream",
       "stream": "stdout",
       "text": [
        " (deflated 70%)\r\n",
        "freshening: pickle/HP12_0619.pickle (deflated 70%)\r\n",
        "freshening: pickle/HP12_1727.pickle"
       ]
      },
      {
       "output_type": "stream",
       "stream": "stdout",
       "text": [
        " (deflated 73%)\r\n",
        "freshening: pickle/HP12_1100.pickle (deflated 70%)\r\n",
        "freshening: pickle/HP12_0557.pickle"
       ]
      },
      {
       "output_type": "stream",
       "stream": "stdout",
       "text": [
        " (deflated 71%)\r\n",
        "freshening: pickle/HP12_0682.pickle (deflated 70%)\r\n",
        "freshening: pickle/HP12_0298.pickle (deflated 71%)\r\n",
        "freshening: pickle/HP12_1073.pickle"
       ]
      },
      {
       "output_type": "stream",
       "stream": "stdout",
       "text": [
        " (deflated 72%)\r\n",
        "freshening: pickle/HP12_0517.pickle (deflated 70%)\r\n",
        "freshening: pickle/HP12_0330.pickle"
       ]
      },
      {
       "output_type": "stream",
       "stream": "stdout",
       "text": [
        " (deflated 70%)\r\n",
        "freshening: pickle/HP12_0959.pickle (deflated 70%)\r\n",
        "freshening: pickle/HP12_1614.pickle (deflated 70%)\r\n",
        "freshening: pickle/HP12_0243.pickle"
       ]
      },
      {
       "output_type": "stream",
       "stream": "stdout",
       "text": [
        " (deflated 70%)\r\n",
        "freshening: pickle/HP12_0464.pickle (deflated 71%)\r\n",
        "freshening: pickle/HP12_1140.pickle (deflated 71%)\r\n",
        "freshening: pickle/HP12_1694.pickle"
       ]
      },
      {
       "output_type": "stream",
       "stream": "stdout",
       "text": [
        " (deflated 71%)\r\n",
        "freshening: pickle/HP12_1366.pickle (deflated 70%)\r\n",
        "freshening: pickle/HP12_0642.pickle (deflated 71%)\r\n",
        "freshening: pickle/HP12_0065.pickle"
       ]
      },
      {
       "output_type": "stream",
       "stream": "stdout",
       "text": [
        " (deflated 71%)\r\n",
        "freshening: pickle/HP12_0597.pickle (deflated 71%)\r\n",
        "freshening: pickle/HP12_1215.pickle (deflated 71%)\r\n",
        "freshening: pickle/HP12_1028.pickle"
       ]
      },
      {
       "output_type": "stream",
       "stream": "stdout",
       "text": [
        " (deflated 70%)\r\n",
        "freshening: pickle/HP12_0116.pickle (deflated 70%)\r\n",
        "freshening: pickle/HP12_1255.pickle (deflated 71%)\r\n",
        "freshening: pickle/HP12_0902.pickle"
       ]
      },
      {
       "output_type": "stream",
       "stream": "stdout",
       "text": [
        " (deflated 72%)\r\n",
        "freshening: pickle/HP12_0699.pickle (deflated 71%)\r\n",
        "freshening: pickle/HP12_1326.pickle (deflated 70%)\r\n",
        "freshening: pickle/HP12_0218.pickle"
       ]
      },
      {
       "output_type": "stream",
       "stream": "stdout",
       "text": [
        " (deflated 73%)\r\n",
        "freshening: pickle/HP12_0871.pickle (deflated 70%)\r\n",
        "freshening: pickle/HP12_0090.pickle (deflated 70%)\r\n",
        "freshening: pickle/HP12_0178.pickle"
       ]
      },
      {
       "output_type": "stream",
       "stream": "stdout",
       "text": [
        " (deflated 70%)\r\n",
        "freshening: pickle/HP12_0411.pickle (deflated 71%)\r\n",
        "freshening: pickle/HP12_1308.pickle"
       ]
      },
      {
       "output_type": "stream",
       "stream": "stdout",
       "text": [
        " (deflated 70%)\r\n",
        "freshening: pickle/HP12_1712.pickle (deflated 71%)\r\n",
        "freshening: pickle/HP12_0784.pickle"
       ]
      },
      {
       "output_type": "stream",
       "stream": "stdout",
       "text": [
        " (deflated 70%)\r\n",
        "freshening: pickle/HP12_1487.pickle (deflated 71%)\r\n",
        "freshening: pickle/HP12_0884.pickle"
       ]
      },
      {
       "output_type": "stream",
       "stream": "stdout",
       "text": [
        " (deflated 69%)\r\n",
        "freshening: pickle/HP12_1006.pickle (deflated 70%)\r\n",
        "freshening: pickle/HP12_1220.pickle (deflated 70%)\r\n",
        "freshening: pickle/HP12_0539.pickle"
       ]
      },
      {
       "output_type": "stream",
       "stream": "stdout",
       "text": [
        " (deflated 71%)\r\n",
        "freshening: pickle/HP12_0704.pickle (deflated 71%)\r\n",
        "freshening: pickle/HP12_1574.pickle"
       ]
      },
      {
       "output_type": "stream",
       "stream": "stdout",
       "text": [
        " (deflated 70%)\r\n",
        "freshening: pickle/HP12_0050.pickle (deflated 71%)\r\n",
        "freshening: pickle/HP12_1709.pickle"
       ]
      },
      {
       "output_type": "stream",
       "stream": "stdout",
       "text": [
        " (deflated 71%)\r\n",
        "freshening: pickle/HP12_0010.pickle (deflated 70%)\r\n",
        "freshening: pickle/HP12_0637.pickle"
       ]
      },
      {
       "output_type": "stream",
       "stream": "stdout",
       "text": [
        " (deflated 71%)\r\n",
        "freshening: pickle/HP12_1447.pickle (deflated 71%)\r\n",
        "freshening: pickle/HP12_1260.pickle"
       ]
      },
      {
       "output_type": "stream",
       "stream": "stdout",
       "text": [
        " (deflated 70%)\r\n",
        "freshening: pickle/HP12_0937.pickle (deflated 70%)\r\n",
        "freshening: pickle/HP12_0579.pickle"
       ]
      },
      {
       "output_type": "stream",
       "stream": "stdout",
       "text": [
        " (deflated 70%)\r\n",
        "freshening: pickle/HP12_0744.pickle (deflated 70%)\r\n",
        "freshening: pickle/HP12_0961.pickle"
       ]
      },
      {
       "output_type": "stream",
       "stream": "stdout",
       "text": [
        " (deflated 70%)\r\n",
        "freshening: pickle/HP12_0308.pickle (deflated 70%)\r\n",
        "freshening: pickle/HP12_0135.pickle"
       ]
      },
      {
       "output_type": "stream",
       "stream": "stdout",
       "text": [
        " (deflated 70%)\r\n",
        "freshening: pickle/HP12_0789.pickle (deflated 71%)\r\n",
        "freshening: pickle/HP12_0661.pickle"
       ]
      },
      {
       "output_type": "stream",
       "stream": "stdout",
       "text": [
        " (deflated 70%)\r\n",
        "freshening: pickle/HP12_1090.pickle (deflated 71%)\r\n",
        "freshening: pickle/HP12_1345.pickle (deflated 70%)\r\n",
        "freshening: pickle/HP12_1178.pickle"
       ]
      },
      {
       "output_type": "stream",
       "stream": "stdout",
       "text": [
        " (deflated 71%)\r\n",
        "freshening: pickle/HP12_0852.pickle (deflated 71%)\r\n",
        "freshening: pickle/HP12_0006.pickle"
       ]
      },
      {
       "output_type": "stream",
       "stream": "stdout",
       "text": [
        " (deflated 70%)\r\n",
        "freshening: pickle/HP12_1305.pickle (deflated 70%)\r\n",
        "freshening: pickle/HP12_1522.pickle (deflated 70%)\r\n",
        "freshening: pickle/HP12_0921.pickle"
       ]
      },
      {
       "output_type": "stream",
       "stream": "stdout",
       "text": [
        " (deflated 70%)\r\n",
        "freshening: pickle/HP12_0348.pickle (deflated 70%)\r\n",
        "freshening: pickle/HP12_0752.pickle (deflated 70%)\r\n",
        "freshening: pickle/HP12_0175.pickle"
       ]
      },
      {
       "output_type": "stream",
       "stream": "stdout",
       "text": [
        " (deflated 70%)\r\n",
        "freshening: pickle/HP12_1385.pickle (deflated 70%)\r\n",
        "freshening: pickle/HP12_1677.pickle (deflated 73%)\r\n",
        "freshening: pickle/HP12_0574.pickle"
       ]
      },
      {
       "output_type": "stream",
       "stream": "stdout",
       "text": [
        " (deflated 70%)\r\n",
        "freshening: pickle/HP12_0086.pickle (deflated 70%)\r\n",
        "freshening: pickle/HP12_1539.pickle (deflated 70%)\r\n",
        "freshening: pickle/HP12_0849.pickle"
       ]
      },
      {
       "output_type": "stream",
       "stream": "stdout",
       "text": [
        " (deflated 70%)\r\n",
        "freshening: pickle/HP12_0792.pickle"
       ]
      },
      {
       "output_type": "stream",
       "stream": "stdout",
       "text": [
        " (deflated 69%)\r\n",
        "freshening: pickle/HP12_0447.pickle (deflated 71%)\r\n",
        "freshening: pickle/HP12_0534.pickle (deflated 70%)\r\n",
        "freshening: pickle/HP12_0892.pickle"
       ]
      },
      {
       "output_type": "stream",
       "stream": "stdout",
       "text": [
        " (deflated 71%)\r\n",
        "freshening: pickle/HP12_0182.pickle (deflated 70%)\r\n",
        "freshening: pickle/HP12_0470.pickle (deflated 71%)\r\n",
        "freshening: pickle/HP12_0257.pickle"
       ]
      },
      {
       "output_type": "stream",
       "stream": "stdout",
       "text": [
        " (deflated 71%)\r\n",
        "freshening: pickle/HP12_0598.pickle (deflated 70%)\r\n",
        "freshening: pickle/HP12_1369.pickle"
       ]
      },
      {
       "output_type": "stream",
       "stream": "stdout",
       "text": [
        " (deflated 70%)\r\n",
        "freshening: pickle/HP12_1154.pickle (deflated 70%)\r\n",
        "freshening: pickle/HP12_0503.pickle (deflated 72%)\r\n",
        "freshening: pickle/HP12_0543.pickle"
       ]
      },
      {
       "output_type": "stream",
       "stream": "stdout",
       "text": [
        " (deflated 70%)\r\n",
        "freshening: pickle/HP12_0364.pickle (deflated 71%)\r\n",
        "freshening: pickle/HP12_1595.pickle (deflated 70%)\r\n",
        "freshening: pickle/HP12_1640.pickle"
       ]
      },
      {
       "output_type": "stream",
       "stream": "stdout",
       "text": [
        " (deflated 70%)\r\n",
        "freshening: pickle/HP12_0430.pickle (deflated 70%)\r\n",
        "freshening: pickle/HP12_0996.pickle"
       ]
      },
      {
       "output_type": "stream",
       "stream": "stdout",
       "text": [
        " (deflated 70%)\r\n",
        "freshening: pickle/HP12_1114.pickle (deflated 70%)\r\n",
        "freshening: pickle/HP12_1332.pickle (deflated 72%)\r\n",
        "freshening: pickle/HP12_0865.pickle"
       ]
      },
      {
       "output_type": "stream",
       "stream": "stdout",
       "text": [
        " (deflated 70%)\r\n",
        "freshening: pickle/HP12_0031.pickle (deflated 70%)\r\n",
        "freshening: pickle/HP12_1466.pickle"
       ]
      },
      {
       "output_type": "stream",
       "stream": "stdout",
       "text": [
        " (deflated 70%)\r\n",
        "freshening: pickle/HP12_0916.pickle (deflated 71%)\r\n",
        "freshening: pickle/HP12_0142.pickle"
       ]
      },
      {
       "output_type": "stream",
       "stream": "stdout",
       "text": [
        " (deflated 71%)\r\n",
        "freshening: pickle/HP12_0765.pickle (deflated 70%)\r\n",
        "freshening: pickle/HP12_1426.pickle"
       ]
      },
      {
       "output_type": "stream",
       "stream": "stdout",
       "text": [
        " (deflated 70%)\r\n",
        "freshening: pickle/HP12_1201.pickle (deflated 70%)\r\n",
        "freshening: pickle/HP12_1680.pickle"
       ]
      },
      {
       "output_type": "stream",
       "stream": "stdout",
       "text": [
        " (deflated 70%)\r\n",
        "freshening: pickle/HP12_1555.pickle (deflated 71%)\r\n",
        "freshening: pickle/HP12_0199.pickle (deflated 71%)\r\n",
        "freshening: pickle/HP12_0071.pickle (deflated 70%)\r\n",
        "freshening: pickle/HP12_0583.pickle"
       ]
      },
      {
       "output_type": "stream",
       "stream": "stdout",
       "text": [
        " (deflated 71%)\r\n",
        "freshening: pickle/HP12_1119.pickle (deflated 70%)\r\n",
        "freshening: pickle/HP12_0369.pickle (deflated 70%)\r\n",
        "freshening: pickle/HP12_0154.pickle"
       ]
      },
      {
       "output_type": "stream",
       "stream": "stdout",
       "text": [
        " (deflated 70%)\r\n",
        "freshening: pickle/HP12_0773.pickle (deflated 70%)\r\n",
        "freshening: pickle/HP12_1257.pickle"
       ]
      },
      {
       "output_type": "stream",
       "stream": "stdout",
       "text": [
        " (deflated 70%)\r\n",
        "freshening: pickle/HP12_1182.pickle"
       ]
      },
      {
       "output_type": "stream",
       "stream": "stdout",
       "text": [
        " (deflated 71%)\r\n",
        "freshening: pickle/HP12_1598.pickle (deflated 70%)\r\n",
        "freshening: pickle/HP12_0329.pickle (deflated 70%)\r\n",
        "freshening: pickle/HP12_0114.pickle"
       ]
      },
      {
       "output_type": "stream",
       "stream": "stdout",
       "text": [
        " (deflated 71%)\r\n",
        "freshening: pickle/HP12_1217.pickle (deflated 70%)\r\n",
        "freshening: pickle/HP12_0833.pickle"
       ]
      },
      {
       "output_type": "stream",
       "stream": "stdout",
       "text": [
        " (deflated 71%)\r\n",
        "freshening: pickle/HP12_0595.pickle (deflated 70%)\r\n",
        "freshening: pickle/HP12_1543.pickle (deflated 71%)\r\n",
        "freshening: pickle/HP12_1297.pickle"
       ]
      },
      {
       "output_type": "stream",
       "stream": "stdout",
       "text": [
        " (deflated 70%)\r\n",
        "freshening: pickle/HP12_0466.pickle (deflated 72%)\r\n",
        "freshening: pickle/HP12_0241.pickle (deflated 70%)\r\n",
        "freshening: pickle/HP12_0828.pickle"
       ]
      },
      {
       "output_type": "stream",
       "stream": "stdout",
       "text": [
        " (deflated 71%)\r\n",
        "freshening: pickle/HP12_1616.pickle (deflated 70%)\r\n",
        "freshening: pickle/HP12_0515.pickle (deflated 70%)\r\n",
        "freshening: pickle/HP12_1199.pickle"
       ]
      },
      {
       "output_type": "stream",
       "stream": "stdout",
       "text": [
        " (deflated 70%)\r\n",
        "freshening: pickle/HP12_1583.pickle (deflated 73%)\r\n",
        "freshening: pickle/HP12_1071.pickle (deflated 71%)\r\n",
        "freshening: pickle/HP12_1518.pickle"
       ]
      },
      {
       "output_type": "stream",
       "stream": "stdout",
       "text": [
        " (deflated 71%)\r\n",
        "freshening: pickle/HP12_1102.pickle (deflated 70%)\r\n",
        "freshening: pickle/HP12_1725.pickle"
       ]
      },
      {
       "output_type": "stream",
       "stream": "stdout",
       "text": [
        " (deflated 70%)\r\n",
        "freshening: pickle/HP12_0201.pickle (deflated 71%)\r\n",
        "freshening: pickle/HP12_0868.pickle (deflated 71%)\r\n",
        "freshening: pickle/HP12_0980.pickle"
       ]
      },
      {
       "output_type": "stream",
       "stream": "stdout",
       "text": [
        " (deflated 70%)\r\n"
       ]
      }
     ],
     "prompt_number": 26
    }
   ],
   "metadata": {}
  }
 ]
}