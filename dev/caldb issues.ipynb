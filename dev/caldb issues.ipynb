{
 "metadata": {
  "name": "",
  "signature": "sha256:2d4822f1d1fb093c612bad0b7e119e47dfc745c5213dd7ab4dead535ad4979df"
 },
 "nbformat": 3,
 "nbformat_minor": 0,
 "worksheets": [
  {
   "cells": [
    {
     "cell_type": "code",
     "collapsed": false,
     "input": [
      "%matplotlib inline\n",
      "os.chdir(os.path.expandvars('$FERMI/skymodels/P301_6years/uw965'))\n",
      "os.environ['CUSTOM_IRF_DIR']=''\n",
      "from uw.like2 import configuration\n",
      "config = configuration.Configuration('.', postpone=True)\n",
      "from uw.like import pycaldb; reload(pycaldb)\n",
      "#self = pycaldb.CALDBManager('P8R2_SOURCE_V6', quiet=False)"
     ],
     "language": "python",
     "metadata": {},
     "outputs": [
      {
       "output_type": "stream",
       "stream": "stdout",
       "text": [
        "Using configuration file \"config.txt\" in folder: /nfs/farm/g/glast/u55/catalog/pointlike/skymodels/P301_6years/uw965/.\n",
        "Opening dataset P301_6years from key in /afs/slac/g/glast/groups/catalog//pointlike/fermi/data/dataspec.py\n",
        "Extracting DSS from existing binfile\n",
        "GTI from binfile Gti: 38437 intervals from 239557417 to 428689918, on time 150881091\n",
        "Verified binfile /afs/slac/g/glast/groups/catalog//pointlike/fermi/data/P8_P301/6years_4bpd.fits\n",
        "no header info in ltcube?"
       ]
      },
      {
       "output_type": "stream",
       "stream": "stdout",
       "text": [
        "\n",
        "Accepting ltcube without DSS info since legacy specified\n",
        "Failed gti check:\n",
        "  ltcube: Gti: 37884 intervals from 239557417 to 428689918, on time 150902856 \n",
        " binfile: Gti: 38437 intervals from 239557417 to 428689918, on time 150881091\n",
        "dataset \"P301_6years\", found in /afs/slac/g/glast/groups/catalog//pointlike/fermi/data/dataspec.py:\n",
        "  Bins per decade: 4\n",
        "  FT1 files: \tNone\n",
        "  FT2 files: \tNone\n",
        "  Binned data: /afs/slac/g/glast/groups/catalog//pointlike/fermi/data/P8_P301/6years_4bpd.fits\n",
        "              (load postponed)\n",
        "  Livetime cube: /afs/slac/g/glast/groups/catalog//pointlike/fermi/data/P8_P301/ltcube_6years_zmax100.fits\n",
        "  Gti: 38437 intervals from 239557417 to 428689918, on time 150881091\n",
        "  DSS: name             value     units     ref       \n"
       ]
      },
      {
       "output_type": "stream",
       "stream": "stdout",
       "text": [
        "\n",
        "Will load healpix sources from ../../P301_6years/uw964/pickle.zip"
       ]
      },
      {
       "output_type": "stream",
       "stream": "stdout",
       "text": [
        "\n"
       ]
      },
      {
       "metadata": {},
       "output_type": "pyout",
       "prompt_number": 1,
       "text": [
        "<module 'uw.like.pycaldb' from '/afs/slac/g/glast/groups/catalog/pointlike/python/uw/like/pycaldb.pyc'>"
       ]
      }
     ],
     "prompt_number": 1
    },
    {
     "cell_type": "code",
     "collapsed": false,
     "input": [
      "debug"
     ],
     "language": "python",
     "metadata": {},
     "outputs": [
      {
       "output_type": "stream",
       "stream": "stdout",
       "text": [
        "> \u001b[1;32m/afs/slac/g/glast/groups/catalog/pointlike/fermi/inst_dir/python/skymaps.py\u001b[0m(1745)\u001b[0;36m__init__\u001b[1;34m()\u001b[0m\n",
        "\u001b[1;32m   1744 \u001b[1;33m    \u001b[1;32mdef\u001b[0m \u001b[0m__init__\u001b[0m\u001b[1;33m(\u001b[0m\u001b[0mself\u001b[0m\u001b[1;33m,\u001b[0m \u001b[1;33m*\u001b[0m\u001b[0margs\u001b[0m\u001b[1;33m,\u001b[0m \u001b[1;33m**\u001b[0m\u001b[0mkwargs\u001b[0m\u001b[1;33m)\u001b[0m\u001b[1;33m:\u001b[0m\u001b[1;33m\u001b[0m\u001b[0m\n",
        "\u001b[0m\u001b[1;32m-> 1745 \u001b[1;33m        \u001b[0mthis\u001b[0m \u001b[1;33m=\u001b[0m \u001b[0m_skymaps\u001b[0m\u001b[1;33m.\u001b[0m\u001b[0mnew_ExposureWeighter\u001b[0m\u001b[1;33m(\u001b[0m\u001b[1;33m*\u001b[0m\u001b[0margs\u001b[0m\u001b[1;33m,\u001b[0m \u001b[1;33m**\u001b[0m\u001b[0mkwargs\u001b[0m\u001b[1;33m)\u001b[0m\u001b[1;33m\u001b[0m\u001b[0m\n",
        "\u001b[0m\u001b[1;32m   1746 \u001b[1;33m        \u001b[1;32mtry\u001b[0m\u001b[1;33m:\u001b[0m \u001b[0mself\u001b[0m\u001b[1;33m.\u001b[0m\u001b[0mthis\u001b[0m\u001b[1;33m.\u001b[0m\u001b[0mappend\u001b[0m\u001b[1;33m(\u001b[0m\u001b[0mthis\u001b[0m\u001b[1;33m)\u001b[0m\u001b[1;33m\u001b[0m\u001b[0m\n",
        "\u001b[0m\n"
       ]
      },
      {
       "name": "stdout",
       "output_type": "stream",
       "stream": "stdout",
       "text": [
        "ipdb> up\n"
       ]
      },
      {
       "output_type": "stream",
       "stream": "stdout",
       "text": [
        "> \u001b[1;32m/afs/slac/g/glast/groups/catalog/pointlike/python/uw/like/pypsf.py\u001b[0m(87)\u001b[0;36m__calc_weights__\u001b[1;34m()\u001b[0m\n",
        "\u001b[1;32m     86 \u001b[1;33m        \u001b[0maeffstrs\u001b[0m \u001b[1;33m=\u001b[0m \u001b[0mself\u001b[0m\u001b[1;33m.\u001b[0m\u001b[0mCALDBManager\u001b[0m\u001b[1;33m.\u001b[0m\u001b[0mget_aeff\u001b[0m\u001b[1;33m(\u001b[0m\u001b[1;33m)\u001b[0m\u001b[1;33m\u001b[0m\u001b[0m\n",
        "\u001b[0m\u001b[1;32m---> 87 \u001b[1;33m        \u001b[0mew\u001b[0m         \u001b[1;33m=\u001b[0m \u001b[0mExposureWeighter\u001b[0m\u001b[1;33m(\u001b[0m\u001b[0maeffstrs\u001b[0m\u001b[1;33m[\u001b[0m\u001b[1;36m0\u001b[0m\u001b[1;33m]\u001b[0m\u001b[1;33m,\u001b[0m\u001b[0maeffstrs\u001b[0m\u001b[1;33m[\u001b[0m\u001b[1;36m1\u001b[0m\u001b[1;33m]\u001b[0m\u001b[1;33m,\u001b[0m\u001b[0mlivetimefile\u001b[0m\u001b[1;33m)\u001b[0m\u001b[1;33m\u001b[0m\u001b[0m\n",
        "\u001b[0m\u001b[1;32m     88 \u001b[1;33m        \u001b[0mdummy\u001b[0m     \u001b[1;33m=\u001b[0m \u001b[0mskydir\u001b[0m \u001b[1;32mor\u001b[0m \u001b[0mSkyDir\u001b[0m\u001b[1;33m(\u001b[0m\u001b[1;33m)\u001b[0m\u001b[1;33m\u001b[0m\u001b[0m\n",
        "\u001b[0m\n"
       ]
      },
      {
       "name": "stdout",
       "output_type": "stream",
       "stream": "stdout",
       "text": [
        "ipdb> p aerrstrs\n"
       ]
      },
      {
       "output_type": "stream",
       "stream": "stdout",
       "text": [
        "*** NameError: NameError(\"name 'aerrstrs' is not defined\",)\n"
       ]
      },
      {
       "name": "stdout",
       "output_type": "stream",
       "stream": "stdout",
       "text": [
        "ipdb> p aeffstrs\n"
       ]
      },
      {
       "output_type": "stream",
       "stream": "stdout",
       "text": [
        "['/nfs/farm/g/glast/u35/ReleaseManagerBuild/redhat6-x86_64-64bit-gcc44/Optimized/ScienceTools/10-01-01/irfs/caldb/CALDB/data/glast/lat/bcf/ea/aeff_P8R2_SOURCE_V6_FB.fits', '/nfs/farm/g/glast/u35/ReleaseManagerBuild/redhat6-x86_64-64bit-gcc44/Optimized/ScienceTools/10-01-01/irfs/caldb/CALDB/data/glast/lat/bcf/ea/aeff_P8R2_SOURCE_V6_FB.fits']\n"
       ]
      }
     ]
    },
    {
     "cell_type": "code",
     "collapsed": false,
     "input": [
      "import skymaps\n",
      "f,b = [skymaps.EffectiveArea('', self.aeff_files[0], 'EFFECTIVE AREA_%s' %fb) for fb in ('FRONT','BACK')] "
     ],
     "language": "python",
     "metadata": {},
     "outputs": [],
     "prompt_number": 19
    },
    {
     "cell_type": "code",
     "collapsed": false,
     "input": [
      "f(1000),b(1000)"
     ],
     "language": "python",
     "metadata": {},
     "outputs": [
      {
       "metadata": {},
       "output_type": "pyout",
       "prompt_number": 20,
       "text": [
        "(4436.733573675156, 3870.2403008937836)"
       ]
      }
     ],
     "prompt_number": 20
    },
    {
     "cell_type": "code",
     "collapsed": false,
     "input": [
      "os.environ['PATH'].split(':')"
     ],
     "language": "python",
     "metadata": {},
     "outputs": [
      {
       "metadata": {},
       "output_type": "pyout",
       "prompt_number": 5,
       "text": [
        "['/afs/slac/g/glast/groups/catalog//python/anaconda/bin',\n",
        " '/afs/slac/g/glast/groups/catalog//pointlike/fermi/inst_dir/exe/redhat6-x86_64-64bit-gcc44-Optimized',\n",
        " '/nfs/farm/g/glast/u35/ReleaseManagerBuild/redhat6-x86_64-64bit-gcc44/Optimized/ScienceTools/10-01-01/exe/redhat6-x86_64-64bit-gcc44-Optimized',\n",
        " '/afs/slac/g/glast/ground/GLAST_EXT/redhat6-x86_64-64bit-gcc44/ROOT/v5.34.03-gr01/bin',\n",
        " '/afs/slac/g/glast/ground/GLAST_EXT/redhat6-x86_64-64bit-gcc44/xerces/2.8.0-gl2/bin',\n",
        " '/afs/slac/g/glast/ground/GLAST_EXT/redhat6-x86_64-64bit-gcc44/python/2.7.2-gl4/bin',\n",
        " '/afs/slac/g/glast/ground/GLAST_EXT/redhat6-x86_64-64bit-gcc44/swig/1.3.31-gl1/bin',\n",
        " '/afs/slac/g/glast/groups/catalog//python/anaconda/bin',\n",
        " '/nfs/farm/g/glast/u35/ReleaseManagerBuild/redhat6-x86_64-64bit-gcc44/Optimized/ScienceTools/10-00-02/exe/redhat6-x86_64-64bit-gcc44-Optimized',\n",
        " '/nfs/farm/g/glast/u35/ReleaseManagerBuild/redhat6-x86_64-64bit-gcc44/Optimized/ScienceTools/10-00-02/exe/redhat6-x86_64-64bit-gcc44-Optimized',\n",
        " '/afs/slac/g/glast/ground/GLAST_EXT/redhat6-x86_64-64bit-gcc44/ROOT/v5.34.03-gr01/bin',\n",
        " '/afs/slac/g/glast/ground/GLAST_EXT/redhat6-x86_64-64bit-gcc44/xerces/2.8.0-gl2/bin',\n",
        " '/afs/slac/g/glast/ground/GLAST_EXT/redhat6-x86_64-64bit-gcc44/python/2.7.2-gl4/bin',\n",
        " '/afs/slac/g/glast/ground/GLAST_EXT/redhat6-x86_64-64bit-gcc44/swig/1.3.31-gl1/bin',\n",
        " '/afs/slac/g/glast/groups/catalog/python/anaconda/bin',\n",
        " '/usr/lib64/openmpi/bin',\n",
        " '/u/ek/burnett/bin.linux',\n",
        " '/u/ek/burnett/bin',\n",
        " '/usr/local/bin',\n",
        " '/bin',\n",
        " '/usr/bin',\n",
        " '/usr/etc',\n",
        " '/usr/afsws/bin',\n",
        " '/usr/afsws/etc',\n",
        " '/usr/bin/X11',\n",
        " '.',\n",
        " '/afs/slac.stanford.edu/g/glast/applications/install/@sys/usr/bin',\n",
        " '/afs/slac.stanford.edu/g/glast/ground/releases',\n",
        " '/afs/slac.stanford.edu/g/glast/ground/scripts',\n",
        " '/afs/slac.stanford.edu/g/glast/ground/scripts/ReleaseManager']"
       ]
      }
     ],
     "prompt_number": 5
    },
    {
     "cell_type": "code",
     "collapsed": false,
     "input": [
      "import pyfits\n",
      "t = pyfits.open(self.aeff_files[0])\n",
      "'EFFECTIVE AREA' in [x.name for x in t], t[1].name"
     ],
     "language": "python",
     "metadata": {},
     "outputs": [
      {
       "metadata": {},
       "output_type": "pyout",
       "prompt_number": 16,
       "text": [
        "(False, 'EFFECTIVE AREA_FRONT')"
       ]
      }
     ],
     "prompt_number": 16
    },
    {
     "cell_type": "code",
     "collapsed": false,
     "input": [
      "h0,h1 = [pyfits.open(x) for x in self.get_psf()]"
     ],
     "language": "python",
     "metadata": {},
     "outputs": [],
     "prompt_number": 38
    },
    {
     "cell_type": "code",
     "collapsed": false,
     "input": [
      "h0.info()"
     ],
     "language": "python",
     "metadata": {},
     "outputs": [
      {
       "output_type": "stream",
       "stream": "stdout",
       "text": [
        "Filename: /nfs/farm/g/glast/u35/ReleaseManagerBuild/redhat6-x86_64-64bit-gcc44/Optimized/ScienceTools/10-00-02/irfs/caldb/CALDB/data/glast/lat/bcf/psf/psf_P8R2_SOURCE_V6_FB.fits\n",
        "No.    Name         Type      Cards   Dimensions   Format\n",
        "0    PRIMARY     PrimaryHDU      10   ()              \n",
        "1    RPSF_FRONT  BinTableHDU     79   1R x 10C     [23E, 23E, 8E, 8E, 184E, 184E, 184E, 184E, 184E, 184E]   \n",
        "2    PSF_SCALING_PARAMS_FRONT  BinTableHDU     39   1R x 1C      [3E]   \n",
        "3    FISHEYE_CORRECTION_FRONT  BinTableHDU     67   1R x 7C      [46E, 46E, 16E, 16E, 736E, 736E, 736E]   \n",
        "4    RPSF_BACK   BinTableHDU     79   1R x 10C     [23E, 23E, 8E, 8E, 184E, 184E, 184E, 184E, 184E, 184E]   \n",
        "5    PSF_SCALING_PARAMS_BACK  BinTableHDU     39   1R x 1C      [3E]   \n",
        "6    FISHEYE_CORRECTION_BACK  BinTableHDU     67   1R x 7C      [46E, 46E, 16E, 16E, 736E, 736E, 736E]   \n"
       ]
      }
     ],
     "prompt_number": 39
    },
    {
     "cell_type": "code",
     "collapsed": false,
     "input": [
      "h0[1].columns"
     ],
     "language": "python",
     "metadata": {},
     "outputs": [
      {
       "metadata": {},
       "output_type": "pyout",
       "prompt_number": 40,
       "text": [
        "ColDefs(\n",
        "    name = 'ENERG_LO'; format = '23E'; unit = 'MeV'\n",
        "    name = 'ENERG_HI'; format = '23E'; unit = 'MeV'\n",
        "    name = 'CTHETA_LO'; format = '8E'\n",
        "    name = 'CTHETA_HI'; format = '8E'\n",
        "    name = 'NCORE'; format = '184E'; dim = '(23, 8)'\n",
        "    name = 'NTAIL'; format = '184E'; dim = '(23, 8)'\n",
        "    name = 'SCORE'; format = '184E'; dim = '(23, 8)'\n",
        "    name = 'STAIL'; format = '184E'; dim = '(23, 8)'\n",
        "    name = 'GCORE'; format = '184E'; dim = '(23, 8)'\n",
        "    name = 'GTAIL'; format = '184E'; dim = '(23, 8)'\n",
        ")"
       ]
      }
     ],
     "prompt_number": 40
    },
    {
     "cell_type": "code",
     "collapsed": false,
     "input": [
      "h0['RPSF_FRONT'].columns"
     ],
     "language": "python",
     "metadata": {},
     "outputs": [
      {
       "metadata": {},
       "output_type": "pyout",
       "prompt_number": 41,
       "text": [
        "ColDefs(\n",
        "    name = 'ENERG_LO'; format = '23E'; unit = 'MeV'\n",
        "    name = 'ENERG_HI'; format = '23E'; unit = 'MeV'\n",
        "    name = 'CTHETA_LO'; format = '8E'\n",
        "    name = 'CTHETA_HI'; format = '8E'\n",
        "    name = 'NCORE'; format = '184E'; dim = '(23, 8)'\n",
        "    name = 'NTAIL'; format = '184E'; dim = '(23, 8)'\n",
        "    name = 'SCORE'; format = '184E'; dim = '(23, 8)'\n",
        "    name = 'STAIL'; format = '184E'; dim = '(23, 8)'\n",
        "    name = 'GCORE'; format = '184E'; dim = '(23, 8)'\n",
        "    name = 'GTAIL'; format = '184E'; dim = '(23, 8)'\n",
        ")"
       ]
      }
     ],
     "prompt_number": 41
    },
    {
     "cell_type": "code",
     "collapsed": false,
     "input": [
      "self.aeff_files"
     ],
     "language": "python",
     "metadata": {},
     "outputs": [
      {
       "metadata": {},
       "output_type": "pyout",
       "prompt_number": 49,
       "text": [
        "['/nfs/farm/g/glast/u35/ReleaseManagerBuild/redhat6-x86_64-64bit-gcc44/Optimized/ScienceTools/10-00-02/irfs/caldb/CALDB/data/glast/lat/bcf/ea/aeff_P8R2_SOURCE_V6_FB.fits',\n",
        " '/nfs/farm/g/glast/u35/ReleaseManagerBuild/redhat6-x86_64-64bit-gcc44/Optimized/ScienceTools/10-00-02/irfs/caldb/CALDB/data/glast/lat/bcf/ea/aeff_P8R2_SOURCE_V6_FB.fits']"
       ]
      }
     ],
     "prompt_number": 49
    },
    {
     "cell_type": "code",
     "collapsed": false,
     "input": [
      "h0['PSF_SCALING_PARAMS_FRONT'].columns"
     ],
     "language": "python",
     "metadata": {},
     "outputs": [
      {
       "metadata": {},
       "output_type": "pyout",
       "prompt_number": 34,
       "text": [
        "ColDefs(\n",
        "    name = 'PSFSCALE'; format = '3E'\n",
        ")"
       ]
      }
     ],
     "prompt_number": 34
    }
   ],
   "metadata": {}
  }
 ]
}