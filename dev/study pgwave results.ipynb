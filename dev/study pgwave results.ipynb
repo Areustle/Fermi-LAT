{
 "cells": [
  {
   "cell_type": "markdown",
   "metadata": {},
   "source": [
    "#PGWAVE studies\n",
    "This looks at the PGWAVE-generated list of seeds for month10"
   ]
  },
  {
   "cell_type": "code",
   "execution_count": 9,
   "metadata": {
    "collapsed": true
   },
   "outputs": [],
   "source": [
    "%matplotlib inline\n",
    "os.chdir(os.path.expandvars('$FERMI/skymodels/P301_monthly/month10'))"
   ]
  },
  {
   "cell_type": "code",
   "execution_count": 29,
   "metadata": {
    "collapsed": false
   },
   "outputs": [
    {
     "data": {
      "text/html": [
       "<div style=\"max-height:1000px;max-width:1500px;overflow:auto;\">\n",
       "<table border=\"1\" class=\"dataframe\">\n",
       "  <thead>\n",
       "    <tr style=\"text-align: right;\">\n",
       "      <th></th>\n",
       "      <th>b</th>\n",
       "      <th>l</th>\n",
       "      <th>pos_err</th>\n",
       "      <th>snr</th>\n",
       "      <th>k_signif</th>\n",
       "    </tr>\n",
       "  </thead>\n",
       "  <tbody>\n",
       "    <tr>\n",
       "      <th>count</th>\n",
       "      <td> 923.000000</td>\n",
       "      <td> 923.000000</td>\n",
       "      <td> 923.000000</td>\n",
       "      <td> 923.000000</td>\n",
       "      <td> 923.000000</td>\n",
       "    </tr>\n",
       "    <tr>\n",
       "      <th>mean</th>\n",
       "      <td>  -2.438380</td>\n",
       "      <td> 176.990385</td>\n",
       "      <td>   0.881108</td>\n",
       "      <td>  20.031170</td>\n",
       "      <td>   5.432728</td>\n",
       "    </tr>\n",
       "    <tr>\n",
       "      <th>std</th>\n",
       "      <td>  47.221985</td>\n",
       "      <td> 104.949168</td>\n",
       "      <td>   0.082843</td>\n",
       "      <td>  19.678959</td>\n",
       "      <td>   7.999478</td>\n",
       "    </tr>\n",
       "    <tr>\n",
       "      <th>min</th>\n",
       "      <td> -88.625000</td>\n",
       "      <td>   0.125000</td>\n",
       "      <td>   0.231000</td>\n",
       "      <td>   0.884000</td>\n",
       "      <td>   2.437000</td>\n",
       "    </tr>\n",
       "    <tr>\n",
       "      <th>25%</th>\n",
       "      <td> -37.750000</td>\n",
       "      <td>  85.625000</td>\n",
       "      <td>   0.876000</td>\n",
       "      <td>   8.576500</td>\n",
       "      <td>   2.996000</td>\n",
       "    </tr>\n",
       "    <tr>\n",
       "      <th>50%</th>\n",
       "      <td>  -0.125000</td>\n",
       "      <td> 173.375000</td>\n",
       "      <td>   0.906000</td>\n",
       "      <td>  13.474000</td>\n",
       "      <td>   3.364000</td>\n",
       "    </tr>\n",
       "    <tr>\n",
       "      <th>75%</th>\n",
       "      <td>  33.000000</td>\n",
       "      <td> 271.875000</td>\n",
       "      <td>   0.924000</td>\n",
       "      <td>  21.731000</td>\n",
       "      <td>   4.634000</td>\n",
       "    </tr>\n",
       "    <tr>\n",
       "      <th>max</th>\n",
       "      <td>  88.875000</td>\n",
       "      <td> 359.875000</td>\n",
       "      <td>   0.968000</td>\n",
       "      <td> 122.339000</td>\n",
       "      <td> 155.772000</td>\n",
       "    </tr>\n",
       "  </tbody>\n",
       "</table>\n",
       "</div>"
      ],
      "text/plain": [
       "                b           l     pos_err         snr    k_signif\n",
       "count  923.000000  923.000000  923.000000  923.000000  923.000000\n",
       "mean    -2.438380  176.990385    0.881108   20.031170    5.432728\n",
       "std     47.221985  104.949168    0.082843   19.678959    7.999478\n",
       "min    -88.625000    0.125000    0.231000    0.884000    2.437000\n",
       "25%    -37.750000   85.625000    0.876000    8.576500    2.996000\n",
       "50%     -0.125000  173.375000    0.906000   13.474000    3.364000\n",
       "75%     33.000000  271.875000    0.924000   21.731000    4.634000\n",
       "max     88.875000  359.875000    0.968000  122.339000  155.772000"
      ]
     },
     "execution_count": 29,
     "metadata": {},
     "output_type": "execute_result"
    }
   ],
   "source": [
    "t = pd.read_csv('ft1_TBIN_9_map.txt', sep=' ', skiprows=0,skipinitialspace=True, index_col=0);\n",
    "t.columns='x y l b pos_err snr k_signif counts sigc bkg sigbkg'.split()\n",
    "t.index.name='id'\n",
    "t['b l pos_err snr k_signif'.split()].describe()"
   ]
  },
  {
   "cell_type": "code",
   "execution_count": 56,
   "metadata": {
    "collapsed": false
   },
   "outputs": [],
   "source": [
    "from skymaps import SkyDir\n",
    "sdirs = map( lambda l,b: SkyDir(l,b,SkyDir.GALACTIC), t.l ,t.b)\n",
    "t['ra'] = [s.ra() for s in sdirs]\n",
    "t['dec'] = [s.dec() for s in sdirs]\n",
    "t.l[t.l>180]-=360"
   ]
  },
  {
   "cell_type": "code",
   "execution_count": 63,
   "metadata": {
    "collapsed": false
   },
   "outputs": [
    {
     "data": {
      "text/plain": [
       "<matplotlib.lines.Line2D at 0x7f3df622cf90>"
      ]
     },
     "execution_count": 63,
     "metadata": {},
     "output_type": "execute_result"
    },
    {
     "data": {
      "image/png": "[encoded data removed]",
      "text/plain": [
       "<matplotlib.figure.Figure at 0x7f3df5e97a50>"
      ]
     },
     "metadata": {},
     "output_type": "display_data"
    }
   ],
   "source": [
    "fig, axx = plt.subplots(2,2, figsize=(12,12))\n",
    "ax = axx[0,0]\n",
    "ax.plot(t.l, t.b, '.')\n",
    "plt.setp(ax, xlabel='l', ylabel='b', xlim=(-180,180), ylim=(-90,90))\n",
    "ax.axhline(0, color='k', alpha=0.3)\n",
    "ax = axx[1,0]\n",
    "sinb = np.sin(np.radians(t.b))\n",
    "dom = np.linspace(-1,1,51)\n",
    "ax.hist(list(sinb),dom);\n",
    "plt.setp(ax, xlabel='sin(b)')\n",
    "ax.grid(True, alpha=0.3)\n",
    "ax = axx[0,1]\n",
    "ax.plot(t.l, t.b, '.')\n",
    "plt.setp(ax, xlabel='l', ylabel='b', xlim=(-180,180), ylim=(-10,10))\n",
    "ax.axhline(0, color='k', alpha=0.3)\n"
   ]
  },
  {
   "cell_type": "code",
   "execution_count": 55,
   "metadata": {
    "collapsed": false
   },
   "outputs": [
    {
     "data": {
      "text/plain": [
       "id\n",
       "1    -0.999712\n",
       "2    -0.999598\n",
       "3    -0.999312\n",
       "4    -0.999465\n",
       "5    -0.999312\n",
       "6    -0.999141\n",
       "7    -0.999141\n",
       "8    -0.999141\n",
       "9    -0.998513\n",
       "10   -0.998741\n",
       "11   -0.998741\n",
       "12   -0.998513\n",
       "13   -0.998513\n",
       "14   -0.998266\n",
       "15   -0.997999\n",
       "...\n",
       "909    0.997086\n",
       "910    0.997714\n",
       "911    0.997409\n",
       "912    0.997714\n",
       "913    0.997999\n",
       "914    0.997999\n",
       "915    0.998266\n",
       "916    0.998266\n",
       "917    0.998741\n",
       "918    0.999141\n",
       "919    0.999141\n",
       "920    0.999141\n",
       "921    0.999312\n",
       "922    0.999807\n",
       "923    0.999712\n",
       "Name: b, Length: 923, dtype: float64"
      ]
     },
     "execution_count": 55,
     "metadata": {},
     "output_type": "execute_result"
    }
   ],
   "source": [
    "sinb"
   ]
  },
  {
   "cell_type": "code",
   "execution_count": null,
   "metadata": {
    "collapsed": true
   },
   "outputs": [],
   "source": []
  },
  {
   "cell_type": "code",
   "execution_count": null,
   "metadata": {
    "collapsed": true
   },
   "outputs": [],
   "source": []
  }
 ],
 "metadata": {
  "kernelspec": {
   "display_name": "Python 2",
   "language": "python",
   "name": "python2"
  },
  "language_info": {
   "codemirror_mode": {
    "name": "ipython",
    "version": 2
   },
   "file_extension": ".py",
   "mimetype": "text/x-python",
   "name": "python",
   "nbconvert_exporter": "python",
   "pygments_lexer": "ipython2",
   "version": "2.7.9"
  }
 },
 "nbformat": 4,
 "nbformat_minor": 0
}
