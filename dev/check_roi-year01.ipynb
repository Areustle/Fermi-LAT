{
 "metadata": {
  "name": "",
  "signature": "sha256:2e0cdbad6996751300f1747ad3afbc6897cd9944e486ae542babdf11c4d8937e"
 },
 "nbformat": 3,
 "nbformat_minor": 0,
 "worksheets": [
  {
   "cells": [
    {
     "cell_type": "heading",
     "level": 1,
     "metadata": {},
     "source": [
      "Check an ROI"
     ]
    },
    {
     "cell_type": "code",
     "collapsed": false,
     "input": [
      "%matplotlib inline\n",
      "os.chdir(os.path.expandvars('$FERMI/skymodels/P301_yearly/year01'))\n",
      "#os.chdir(os.path.expandvars('$FERMI/skymodels/P202/uw30' )) #P301_5years/uw908'))\n",
      "from uw.like2 import process, from_healpix; \n",
      "map( reload,        (process, from_healpix));"
     ],
     "language": "python",
     "metadata": {},
     "outputs": [],
     "prompt_number": 8
    },
    {
     "cell_type": "code",
     "collapsed": false,
     "input": [
      "r= process.Process('.', finish=False, residual_flag=False)"
     ],
     "language": "python",
     "metadata": {},
     "outputs": [
      {
       "output_type": "stream",
       "stream": "stdout",
       "text": [
        "Using configuration file \"config.txt\" in folder: /nfs/farm/g/glast/u55/catalog/pointlike/skymodels/P301_yearly/year01/.\n",
        "apply gti mask year01, Gti: 1 intervals from 239557417 to 271115017, on time 31557600\n",
        "Opening dataset P301_6years from key in /afs/slac/g/glast/groups/catalog//pointlike/fermi/data/dataspec.py\n",
        "Extracting DSS from existing binfile"
       ]
      },
      {
       "output_type": "stream",
       "stream": "stdout",
       "text": [
        "\n",
        "GTI from binfile Gti: 5509 intervals from 239557417 to 271114184, on time 25839672\n",
        "Verified binfile /afs/slac/g/glast/groups/catalog//pointlike/fermi/data/P8_P301/6years_4bpd_year01.fits\n",
        "checking ltcube: failed clobber on /afs/slac/g/glast/groups/catalog//pointlike/fermi/data/P8_P301/ltcube_6years_zmax100_year01.fits\n"
       ]
      },
      {
       "ename": "ValueError",
       "evalue": "No FT2 files or valid livetime found.",
       "output_type": "pyerr",
       "traceback": [
        "\u001b[1;31m---------------------------------------------------------------------------\u001b[0m\n\u001b[1;31mValueError\u001b[0m                                Traceback (most recent call last)",
        "\u001b[1;32m<ipython-input-9-414f2aa5f15a>\u001b[0m in \u001b[0;36m<module>\u001b[1;34m()\u001b[0m\n\u001b[1;32m----> 1\u001b[1;33m \u001b[0mr\u001b[0m\u001b[1;33m=\u001b[0m \u001b[0mprocess\u001b[0m\u001b[1;33m.\u001b[0m\u001b[0mProcess\u001b[0m\u001b[1;33m(\u001b[0m\u001b[1;34m'.'\u001b[0m\u001b[1;33m,\u001b[0m \u001b[0mfinish\u001b[0m\u001b[1;33m=\u001b[0m\u001b[0mFalse\u001b[0m\u001b[1;33m,\u001b[0m \u001b[0mresidual_flag\u001b[0m\u001b[1;33m=\u001b[0m\u001b[0mFalse\u001b[0m\u001b[1;33m)\u001b[0m\u001b[1;33m\u001b[0m\u001b[0m\n\u001b[0m",
        "\u001b[1;32m/afs/slac/g/glast/groups/catalog/pointlike/python/uw/like2/process.pyc\u001b[0m in \u001b[0;36m__init__\u001b[1;34m(self, config_dir, roi_list, **kwargs)\u001b[0m\n\u001b[0;32m     53\u001b[0m                                  \u001b[0mtsmap_dir\u001b[0m\u001b[1;33m=\u001b[0m\u001b[1;34m'tsmap_fail'\u001b[0m\u001b[1;33m,\u001b[0m\u001b[1;33m\u001b[0m\u001b[0m\n\u001b[0;32m     54\u001b[0m                                  )\n\u001b[1;32m---> 55\u001b[1;33m         \u001b[0msuper\u001b[0m\u001b[1;33m(\u001b[0m\u001b[0mProcess\u001b[0m\u001b[1;33m,\u001b[0m\u001b[0mself\u001b[0m\u001b[1;33m)\u001b[0m\u001b[1;33m.\u001b[0m\u001b[0m__init__\u001b[0m\u001b[1;33m(\u001b[0m\u001b[0mconfig_dir\u001b[0m\u001b[1;33m,\u001b[0m\u001b[0mquiet\u001b[0m\u001b[1;33m=\u001b[0m\u001b[0mself\u001b[0m\u001b[1;33m.\u001b[0m\u001b[0mquiet\u001b[0m\u001b[1;33m,\u001b[0m\u001b[1;33m)\u001b[0m\u001b[1;33m\u001b[0m\u001b[0m\n\u001b[0m\u001b[0;32m     56\u001b[0m         \u001b[0mself\u001b[0m\u001b[1;33m.\u001b[0m\u001b[0mstream\u001b[0m \u001b[1;33m=\u001b[0m \u001b[0mos\u001b[0m\u001b[1;33m.\u001b[0m\u001b[0menviron\u001b[0m\u001b[1;33m.\u001b[0m\u001b[0mget\u001b[0m\u001b[1;33m(\u001b[0m\u001b[1;34m'PIPELINE_STREAMPATH'\u001b[0m\u001b[1;33m,\u001b[0m \u001b[1;34m'interactive'\u001b[0m\u001b[1;33m)\u001b[0m\u001b[1;33m\u001b[0m\u001b[0m\n\u001b[0;32m     57\u001b[0m         \u001b[1;32mif\u001b[0m \u001b[0mself\u001b[0m\u001b[1;33m.\u001b[0m\u001b[0mxtables_flag\u001b[0m\u001b[1;33m:\u001b[0m\u001b[1;33m\u001b[0m\u001b[0m\n",
        "\u001b[1;32m/afs/slac/g/glast/groups/catalog/pointlike/python/uw/like2/main.pyc\u001b[0m in \u001b[0;36m__init__\u001b[1;34m(self, config_dir, quiet, postpone)\u001b[0m\n\u001b[0;32m    382\u001b[0m         \"\"\"\n\u001b[0;32m    383\u001b[0m         \"\"\"\n\u001b[1;32m--> 384\u001b[1;33m         \u001b[0mself\u001b[0m\u001b[1;33m.\u001b[0m\u001b[0mconfig\u001b[0m \u001b[1;33m=\u001b[0m \u001b[0mconfiguration\u001b[0m\u001b[1;33m.\u001b[0m\u001b[0mConfiguration\u001b[0m\u001b[1;33m(\u001b[0m\u001b[0mconfig_dir\u001b[0m\u001b[1;33m,\u001b[0m \u001b[0mquiet\u001b[0m\u001b[1;33m=\u001b[0m\u001b[0mquiet\u001b[0m\u001b[1;33m,\u001b[0m \u001b[0mpostpone\u001b[0m\u001b[1;33m=\u001b[0m\u001b[0mpostpone\u001b[0m\u001b[1;33m)\u001b[0m\u001b[1;33m\u001b[0m\u001b[0m\n\u001b[0m\u001b[0;32m    385\u001b[0m         \u001b[0mself\u001b[0m\u001b[1;33m.\u001b[0m\u001b[0mecat\u001b[0m \u001b[1;33m=\u001b[0m \u001b[0mextended\u001b[0m\u001b[1;33m.\u001b[0m\u001b[0mExtendedCatalog\u001b[0m\u001b[1;33m(\u001b[0m\u001b[0mself\u001b[0m\u001b[1;33m.\u001b[0m\u001b[0mconfig\u001b[0m\u001b[1;33m.\u001b[0m\u001b[0mextended\u001b[0m\u001b[1;33m)\u001b[0m\u001b[1;33m\u001b[0m\u001b[0m\n\u001b[0;32m    386\u001b[0m \u001b[1;33m\u001b[0m\u001b[0m\n",
        "\u001b[1;32m/afs/slac/g/glast/groups/catalog/pointlike/python/uw/like2/configuration.pyc\u001b[0m in \u001b[0;36m__init__\u001b[1;34m(self, configdir, **kwargs)\u001b[0m\n\u001b[0;32m    140\u001b[0m                     \u001b[0mirf\u001b[0m \u001b[1;33m=\u001b[0m \u001b[0mirf\u001b[0m\u001b[1;33m,\u001b[0m\u001b[1;33m\u001b[0m\u001b[0m\n\u001b[0;32m    141\u001b[0m                     \u001b[0mquiet\u001b[0m \u001b[1;33m=\u001b[0m \u001b[0mself\u001b[0m\u001b[1;33m.\u001b[0m\u001b[0mquiet\u001b[0m\u001b[1;33m,\u001b[0m\u001b[1;33m\u001b[0m\u001b[0m\n\u001b[1;32m--> 142\u001b[1;33m                     \u001b[0mpostpone\u001b[0m\u001b[1;33m=\u001b[0m\u001b[0mself\u001b[0m\u001b[1;33m.\u001b[0m\u001b[0mpostpone\u001b[0m\u001b[1;33m,\u001b[0m\u001b[1;33m\u001b[0m\u001b[0m\n\u001b[0m\u001b[0;32m    143\u001b[0m                     )\n\u001b[0;32m    144\u001b[0m         \u001b[1;32melif\u001b[0m \u001b[0mdataspec\u001b[0m \u001b[1;32mis\u001b[0m \u001b[1;32mnot\u001b[0m \u001b[0mNone\u001b[0m\u001b[1;33m:\u001b[0m\u001b[1;33m\u001b[0m\u001b[0m\n",
        "\u001b[1;32m/afs/slac/g/glast/groups/catalog/pointlike/python/uw/like2/dataset.pyc\u001b[0m in \u001b[0;36m__init__\u001b[1;34m(self, dataset_name, **kwargs)\u001b[0m\n\u001b[0;32m    128\u001b[0m         \u001b[0mdataspec\u001b[0m\u001b[1;33m.\u001b[0m\u001b[0mupdate\u001b[0m\u001b[1;33m(\u001b[0m\u001b[0mkwargs\u001b[0m\u001b[1;33m)\u001b[0m\u001b[1;33m\u001b[0m\u001b[0m\n\u001b[0;32m    129\u001b[0m         \u001b[1;31m# Now invoke the superclass to actually load the data, which may involve creating the binfile and livetime cube\u001b[0m\u001b[1;33m\u001b[0m\u001b[1;33m\u001b[0m\u001b[0m\n\u001b[1;32m--> 130\u001b[1;33m         \u001b[0msuper\u001b[0m\u001b[1;33m(\u001b[0m\u001b[0mDataSet\u001b[0m\u001b[1;33m,\u001b[0m\u001b[0mself\u001b[0m\u001b[1;33m)\u001b[0m\u001b[1;33m.\u001b[0m\u001b[0m__init__\u001b[0m\u001b[1;33m(\u001b[0m  \u001b[1;33m**\u001b[0m\u001b[0mdataspec\u001b[0m\u001b[1;33m)\u001b[0m\u001b[1;33m\u001b[0m\u001b[0m\n\u001b[0m\u001b[0;32m    131\u001b[0m         \u001b[1;32massert\u001b[0m \u001b[0mself\u001b[0m\u001b[1;33m.\u001b[0m\u001b[0mirf\u001b[0m \u001b[1;32mis\u001b[0m \u001b[1;32mnot\u001b[0m \u001b[0mNone\u001b[0m\u001b[1;33m,\u001b[0m \u001b[1;34m'irf was not specifed!'\u001b[0m\u001b[1;33m\u001b[0m\u001b[0m\n\u001b[0;32m    132\u001b[0m         self.CALDBManager = pycaldb.CALDBManager(\n",
        "\u001b[1;32m/afs/slac/g/glast/groups/catalog/pointlike/python/uw/data/dataman.pyc\u001b[0m in \u001b[0;36m__init__\u001b[1;34m(self, output, **kwargs)\u001b[0m\n\u001b[0;32m    213\u001b[0m                 \u001b[1;32mraise\u001b[0m \u001b[0mValueError\u001b[0m\u001b[1;33m(\u001b[0m\u001b[1;34m'No FT2 files or valid livetime found.'\u001b[0m\u001b[1;33m)\u001b[0m\u001b[1;33m\u001b[0m\u001b[0m\n\u001b[0;32m    214\u001b[0m \u001b[1;33m\u001b[0m\u001b[0m\n\u001b[1;32m--> 215\u001b[1;33m         \u001b[0minit_exposure\u001b[0m\u001b[1;33m(\u001b[0m\u001b[1;33m)\u001b[0m\u001b[1;33m\u001b[0m\u001b[0m\n\u001b[0m\u001b[0;32m    216\u001b[0m         \u001b[1;31m# save version to allow custom processing for backwards compat.\u001b[0m\u001b[1;33m\u001b[0m\u001b[1;33m\u001b[0m\u001b[0m\n\u001b[0;32m    217\u001b[0m         \u001b[0mself\u001b[0m\u001b[1;33m.\u001b[0m\u001b[0mversion\u001b[0m \u001b[1;33m=\u001b[0m \u001b[0mdataman_version\u001b[0m\u001b[1;33m\u001b[0m\u001b[0m\n",
        "\u001b[1;32m/afs/slac/g/glast/groups/catalog/pointlike/python/uw/data/dataman.pyc\u001b[0m in \u001b[0;36minit_exposure\u001b[1;34m()\u001b[0m\n\u001b[0;32m    211\u001b[0m                     \u001b[0mself\u001b[0m\u001b[1;33m.\u001b[0m\u001b[0m_make_ltcube\u001b[0m\u001b[1;33m(\u001b[0m\u001b[1;33m)\u001b[0m\u001b[1;33m\u001b[0m\u001b[0m\n\u001b[0;32m    212\u001b[0m             \u001b[1;32melif\u001b[0m \u001b[1;32mnot\u001b[0m \u001b[0mself\u001b[0m\u001b[1;33m.\u001b[0m\u001b[0m_check_ltcube\u001b[0m\u001b[1;33m(\u001b[0m\u001b[1;33m)\u001b[0m\u001b[1;33m:\u001b[0m\u001b[1;33m\u001b[0m\u001b[0m\n\u001b[1;32m--> 213\u001b[1;33m                 \u001b[1;32mraise\u001b[0m \u001b[0mValueError\u001b[0m\u001b[1;33m(\u001b[0m\u001b[1;34m'No FT2 files or valid livetime found.'\u001b[0m\u001b[1;33m)\u001b[0m\u001b[1;33m\u001b[0m\u001b[0m\n\u001b[0m\u001b[0;32m    214\u001b[0m \u001b[1;33m\u001b[0m\u001b[0m\n\u001b[0;32m    215\u001b[0m         \u001b[0minit_exposure\u001b[0m\u001b[1;33m(\u001b[0m\u001b[1;33m)\u001b[0m\u001b[1;33m\u001b[0m\u001b[0m\n",
        "\u001b[1;31mValueError\u001b[0m: No FT2 files or valid livetime found."
       ]
      }
     ],
     "prompt_number": 9
    },
    {
     "cell_type": "code",
     "collapsed": false,
     "input": [
      "%time r.setup_roi(269)"
     ],
     "language": "python",
     "metadata": {},
     "outputs": [
      {
       "output_type": "stream",
       "stream": "stdout",
       "text": [
        "73 total sources: 0 extended, 3 global\n",
        "CPU times: user 20.5 s, sys: 1.22 s, total: 21.7 s"
       ]
      },
      {
       "output_type": "stream",
       "stream": "stdout",
       "text": [
        "\n",
        "Wall time: 43.8 s\n"
       ]
      }
     ],
     "prompt_number": 3
    },
    {
     "cell_type": "code",
     "collapsed": false,
     "input": [
      "r.summarize()"
     ],
     "language": "python",
     "metadata": {},
     "outputs": [
      {
       "output_type": "stream",
       "stream": "stdout",
       "text": [
        "current likelihood, est. diff to peak: 111896.3, 0.13\n",
        "Name                  index     value  error(%)  gradient\n",
        "isotrop_Scale             0     0.958       1.7      -2.9\n",
        "S907-312_Norm             1 3.981e-14      41.2      -0.3\n",
        "        _Index            2     2.321      13.3      -0.5\n",
        "PSR J1640+2224_Norm       3 1.514e-13      98.9      -0.7\n",
        "              _Index      4    0.7007     141.7       0.5\n",
        "              _Cutoff     5      2419      76.6      -0.5\n",
        "P7R42411A_Norm            6 7.302e-12      27.4      -0.9\n",
        "         _Index           7     3.046       9.4       0.7\n",
        "S962-376_Norm             8 6.228e-16      45.7      -0.3\n",
        "        _Index            9     1.264      24.5      -0.4\n"
       ]
      }
     ],
     "prompt_number": 4
    },
    {
     "cell_type": "code",
     "collapsed": false,
     "input": [
      "#r.process()"
     ],
     "language": "python",
     "metadata": {},
     "outputs": [
      {
       "output_type": "stream",
       "stream": "stdout",
       "text": [
        "================================================================================\n",
        "2015-03-03 11:01:59 - HP12_0269 - interactive\n",
        "Creating tables of residuals\n",
        "ring all\n",
        "ring"
       ]
      },
      {
       "output_type": "stream",
       "stream": "stdout",
       "text": [
        " front\n",
        "ring"
       ]
      },
      {
       "output_type": "stream",
       "stream": "stdout",
       "text": [
        " back\n",
        "Fail for 42170: PoissonFitter: maximum deviation, 0.31 > tolerance, 0.3"
       ]
      },
      {
       "output_type": "stream",
       "stream": "stdout",
       "text": [
        "\n",
        "isotrop"
       ]
      },
      {
       "output_type": "stream",
       "stream": "stdout",
       "text": [
        " all\n",
        "isotrop"
       ]
      },
      {
       "output_type": "stream",
       "stream": "stdout",
       "text": [
        " front\n",
        "isotrop"
       ]
      },
      {
       "output_type": "stream",
       "stream": "stdout",
       "text": [
        " back\n",
        "SunMoon"
       ]
      },
      {
       "output_type": "stream",
       "stream": "stdout",
       "text": [
        " all\n",
        "SunMoon"
       ]
      },
      {
       "output_type": "stream",
       "stream": "stdout",
       "text": [
        " front\n",
        "SunMoon"
       ]
      },
      {
       "output_type": "stream",
       "stream": "stdout",
       "text": [
        " back\n",
        "PSR J1640+2224"
       ]
      }
     ]
    }
   ],
   "metadata": {}
  }
 ]
}