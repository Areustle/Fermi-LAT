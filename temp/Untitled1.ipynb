{
 "metadata": {
  "name": "",
  "signature": "sha256:9637392edd316e5c14462384bcb3e4ebe7a4743c75c072fdbed8de72ab03c5dd"
 },
 "nbformat": 3,
 "nbformat_minor": 0,
 "worksheets": [
  {
   "cells": [
    {
     "cell_type": "code",
     "collapsed": false,
     "input": [
      "%matplotlib inline\n",
      "os.chdir(os.path.expandvars('$FERMI/skymodels/P301_6years/uw963'))\n",
      "from uw.like2 import main\n",
      "from skymaps import Band,SkyDir"
     ],
     "language": "python",
     "metadata": {},
     "outputs": [],
     "prompt_number": 4
    },
    {
     "cell_type": "code",
     "collapsed": false,
     "input": [
      "roi = Band(12).index(SkyDir(253.4,-1.98)); roi"
     ],
     "language": "python",
     "metadata": {},
     "outputs": [
      {
       "metadata": {},
       "output_type": "pyout",
       "prompt_number": 8,
       "text": [
        "458"
       ]
      }
     ],
     "prompt_number": 8
    },
    {
     "cell_type": "code",
     "collapsed": false,
     "input": [
      "r = main.ROI('.', roi)"
     ],
     "language": "python",
     "metadata": {},
     "outputs": [
      {
       "output_type": "stream",
       "stream": "stdout",
       "text": [
        "FT file(s) \"/afs/slac/g/glast/groups/catalog//pointlike/fermi/data/../../../../P8_P301/Source/P301_*.fits\" not found: assume None to test for valid binfile\n",
        "FT file(s) \"/afs/slac/g/glast/groups/catalog//pointlike/fermi/data/../../../../P8_P301/ft2_6years_reduced.fits\" not found: assume None to test for valid binfile\n",
        "Failed gti check:\n",
        "  ltcube: Gti: 37884 intervals from 239557417 to 428689918, on time 150902856 \n",
        " binfile: Gti: 38437 intervals from 239557417 to 428689918, on time 150881091"
       ]
      },
      {
       "output_type": "stream",
       "stream": "stdout",
       "text": [
        "\n",
        "85 total sources: 0 extended, 3 global"
       ]
      },
      {
       "output_type": "stream",
       "stream": "stdout",
       "text": [
        "\n"
       ]
      }
     ],
     "prompt_number": 6
    },
    {
     "cell_type": "code",
     "collapsed": false,
     "input": [
      "r.print_summary(maxdist=90)"
     ],
     "language": "python",
     "metadata": {},
     "outputs": [
      {
       "output_type": "stream",
       "stream": "stdout",
       "text": [
        "------------------------------------------------------------------------------------------ \n",
        "\t Nearby sources within 90.0 degrees HP12_0458\n",
        "name               dist        ra       dec        TS eflux(eV)    index   energy   beta/b\n",
        "P7R42551G           1.4   253.970    -0.701        35       2.9*    2.62!     916     0"
       ]
      },
      {
       "output_type": "stream",
       "stream": "stdout",
       "text": [
        "\n",
        "P7R42544            2.4   253.398    -1.987      2201      19.2!    2.08!     758     0.29*\n",
        "P7R42564            2.6   255.023    -1.319        33       2.9*    2.37!    1724     0"
       ]
      },
      {
       "output_type": "stream",
       "stream": "stdout",
       "text": [
        "\n",
        "S907-711            2.6   251.823    -1.864        27       1.8*    2.38*    1632     0\n",
        "P7R42562            2.6   254.762    -1.670       124       4.9*    2.15!    2601     0"
       ]
      },
      {
       "output_type": "stream",
       "stream": "stdout",
       "text": [
        "\n",
        "S962-648            2.9   250.591    -0.918                 1.3     2.05     3543     0\n",
        "P7R42532            3.9   252.414     4.206                 1.9     2.31     2550     0\n",
        "SEED-500            4.1   252.738     4.495                 1.0     1.73     5036     0\n",
        "S962-667            4.1   254.393     4.327                 2.2     2.79      200     0"
       ]
      },
      {
       "output_type": "stream",
       "stream": "stdout",
       "text": [
        "\n",
        "S907-816            4.7   254.136    -4.184                 2.2     2.20     2167     0\n",
        "S962-552            5.0   248.692     2.599                 1.6     2.12      305     0\n",
        "P7R42595G           5.8   257.439    -3.429                 3.6     2.51     1079     0\n",
        "S907-668            5.9   248.728    -3.455                 2.4     2.73      687     0"
       ]
      },
      {
       "output_type": "stream",
       "stream": "stdout",
       "text": [
        "\n",
        "S907-715            6.3   249.867    -4.949                 1.2     1.94     5226     0\n",
        "P7R42455            6.6   246.605    -0.262                 2.5     2.51      911     0\n",
        "P7R42585            6.6   256.134    -5.454                 6.1     1.92     3982     0\n",
        "P7R42603P           6.6   257.326    -4.698                 3.9     2.96      471     0"
       ]
      },
      {
       "output_type": "stream",
       "stream": "stdout",
       "text": [
        "\n",
        "P7R42461            6.7   246.946     2.857                 2.0     2.15     1890     0\n",
        "P7R42443            6.9   246.276    -0.361                 9.3     1.56     1532     0.77 \n",
        "SEED-483            7.3   245.918    -0.336                 3.0     2.87      380     0\n",
        "P7R42510            7.3   250.481    -6.344                 8.9     2.39     1283     0"
       ]
      },
      {
       "output_type": "stream",
       "stream": "stdout",
       "text": [
        "\n",
        "S962-523            7.3   245.976     1.958                 1.1     2.11      200     0\n",
        "P7R42515            7.5   250.884    -6.773                 4.1     2.10     3171     0\n",
        "P7R42623P           7.8   259.647    -3.860                 3.6     2.93      464     0\n",
        "SEED-457            8.0   246.889     5.470                 1.2     2.18     1304     0"
       ]
      },
      {
       "output_type": "stream",
       "stream": "stdout",
       "text": [
        "\n",
        "SEED-463            8.0   248.456     6.968                 2.1     2.09     2162     0\n",
        "P7R42537            8.1   252.736     8.513                 4.3     2.80      467     0\n",
        "P7R42434            8.3   245.750    -3.242                 5.9     2.24     1228     0\n",
        "P7R42628H           8.5   260.090    -4.465                 1.4     1.89     9024     0"
       ]
      },
      {
       "output_type": "stream",
       "stream": "stdout",
       "text": [
        "\n",
        "P7R42574            8.8   255.537    -8.056                 3.8     2.54     1085     0\n",
        "P7R42634            8.9   260.692    -4.326                 8.7     2.40     1257     0\n",
        "PSR J1713+0747      9.1   258.479     7.788                 4.2     0.72     2117     1\n",
        "P7R42653            9.3   261.879     3.496                 2.5     2.42     1412     0"
       ]
      },
      {
       "output_type": "stream",
       "stream": "stdout",
       "text": [
        "\n",
        "S907-723            9.3   258.006     8.347                 2.0     2.48     1326     0\n",
        "P7R42520            9.4   251.217    -8.760                 2.2     3.07      401     0\n",
        "P7R42663            9.5   262.665     0.412                 9.1     2.03     1079     0.12 \n",
        "S962-890            9.6   255.454    -8.917                 1.5     2.19     3133     0"
       ]
      },
      {
       "output_type": "stream",
       "stream": "stdout",
       "text": [
        "\n",
        "P7R42631            9.7   260.157     7.176                 5.8     2.37     1035     0\n",
        "P7R42641A           9.8   261.132    -5.220                 2.8     2.06     4423     0\n",
        "P7R42659            9.9   262.190     4.439                 5.1     2.70      845     0"
       ]
      },
      {
       "output_type": "stream",
       "stream": "stdout",
       "text": [
        "\n",
        "S962-918            9.9   256.630    -8.852                 3.3     2.77      785     0\n",
        "S962-489            9.9   248.052     8.921                 1.8     2.03     2903     0\n",
        "S907-870           10.0   261.803     5.353                 1.4     2.43     2018     0\n",
        "P7R42587           10.2   256.552    10.074                 3.8     2.92      414     0"
       ]
      },
      {
       "output_type": "stream",
       "stream": "stdout",
       "text": [
        "\n",
        "S907-840           10.3   251.540    -9.723                 2.6     2.22     2781     0\n",
        "P7R42595           10.4   257.468    -9.034                 2.4     2.14     1217     0.61 \n",
        "P7R42665           10.4   262.607    -3.994                 3.9     1.65     1543     0.91 \n",
        "S962-454           10.6   243.192     4.080                 1.2     2.11     2648     0"
       ]
      },
      {
       "output_type": "stream",
       "stream": "stdout",
       "text": [
        "\n",
        "P7R42652           10.7   261.787     6.798                 2.2     2.92      476     0\n",
        "S962-1009          10.8   263.726    -1.543                 1.1     1.88     6255     0\n",
        "P7R42507H          10.8   249.836    -9.856                 2.5     2.54     1140     0\n",
        "S962-715           10.9   258.931     9.628                 0.7     1.96     1000     0"
       ]
      },
      {
       "output_type": "stream",
       "stream": "stdout",
       "text": [
        "\n",
        "S907-908           11.0   254.156   -10.550                 2.5     2.36     1729     0\n",
        "S962-962           11.2   257.552    -9.930                 1.7     2.07     4253     0\n",
        "P7R42395P          11.5   241.687    -0.193                 2.3     3.18      292     0\n",
        "P7R42649           11.5   261.962    -6.974                 3.1     2.50     1240     0"
       ]
      },
      {
       "output_type": "stream",
       "stream": "stdout",
       "text": [
        "\n",
        "SEED-791           11.5   263.350    -4.916                 2.0     2.76     3750     0\n",
        "P7R42474G          11.6   247.798    10.739                 2.7     2.72      568     0\n",
        "P7R42507           11.7   250.244    11.740                 1.9     2.21     1826     0\n",
        "SEED-506           11.8   243.210    -5.881                 2.4     2.43     1364     0"
       ]
      },
      {
       "output_type": "stream",
       "stream": "stdout",
       "text": [
        "\n",
        "P7R42611           12.0   258.293    11.294                 2.7     2.99      403     0\n",
        "S907-962           12.1   264.634     4.412                 2.7     2.89      360     0\n",
        "S962-721           12.2   259.721    10.667                 2.2     2.56     1222     0\n",
        "P7R42635           12.4   260.688    10.241                 9.0     2.29     1344     0"
       ]
      },
      {
       "output_type": "stream",
       "stream": "stdout",
       "text": [
        "\n",
        "P7R42583           12.5   256.056    12.580                 3.9     2.30     1325     0\n",
        "P7R42470           12.5   247.564   -10.802                 4.7     2.51      988     0\n",
        "S962-805           13.0   262.229     9.780                 1.6     2.37     1838     0\n",
        "SEED-808           13.2   263.855    -7.274                 8.6     2.52     1107     0"
       ]
      },
      {
       "output_type": "stream",
       "stream": "stdout",
       "text": [
        "\n",
        "P7R42633G          13.2   260.358    11.512                 2.1     2.22     2427     0\n",
        "P7R42660           13.2   262.491    -8.986                 6.5     3.08      432     0\n",
        "S962-422           13.4   239.954     2.524                 1.7     2.45     1222     0\n",
        "S907-637           13.4   256.924    13.259                 2.7     2.93      462     0"
       ]
      },
      {
       "output_type": "stream",
       "stream": "stdout",
       "text": [
        "\n",
        "P7R42628           13.4   259.830    12.090                 2.6     1.85     5812     0\n",
        "SEED-352           13.6   240.072     4.167                 0.8     1.85    20000     0\n",
        "P7R42712G          13.6   266.050    -3.875                 3.4     2.46     1656     0\n",
        "P7R42643           14.0   261.270    11.879                23.7     1.69     2140     0.06 "
       ]
      },
      {
       "output_type": "stream",
       "stream": "stdout",
       "text": [
        "\n",
        "P7R42657           14.8   261.996    12.274                 4.9     2.39     1388     0\n",
        "P7R42400           14.9   242.179    10.521                11.9     2.66      330     0.05 \n",
        "S962-735           15.1   261.268    13.180                 2.0     2.60      978     0\n",
        "P7R42715           15.6   266.358    -7.889                 8.8     1.93     3976     0"
       ]
      },
      {
       "output_type": "stream",
       "stream": "stdout",
       "text": [
        "\n",
        "P7R42352           17.3   237.984     8.845                 2.8     2.22     1506     0\n",
        "P7R42332           18.3   236.531     8.305                 4.5     1.79     3598     0\n",
        "------------------------------------------------------------------------------------------ \n",
        "\tDiffuse sources\n",
        "------------------------------------------------------------------------------------------\n",
        "ring                        1.00       0.00 \n",
        "isotrop                     0.88!\n",
        "SunMoon                     1.00 \n",
        "------------------------------------------------------------------------------------------\n"
       ]
      }
     ],
     "prompt_number": 12
    },
    {
     "cell_type": "code",
     "collapsed": false,
     "input": [
      "r.plot_sed('*2544');"
     ],
     "language": "python",
     "metadata": {},
     "outputs": [
      {
       "metadata": {},
       "output_type": "display_data",
       "png": "[encoded data removed]",
       "text": [
        "<matplotlib.figure.Figure at 0x7f756578e9d0>"
       ]
      }
     ],
     "prompt_number": 10
    },
    {
     "cell_type": "code",
     "collapsed": true,
     "input": [
      "r.to_xml(os.path.expanduser('~test.xml'))"
     ],
     "language": "python",
     "metadata": {},
     "outputs": [],
     "prompt_number": 18
    }
   ],
   "metadata": {}
  }
 ]
}