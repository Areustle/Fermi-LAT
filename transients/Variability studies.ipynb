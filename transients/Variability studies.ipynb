{
 "cells": [
  {
   "cell_type": "markdown",
   "metadata": {},
   "source": [
    " # Variability Studies \n",
    "\n",
    "Look at individual variable sources to check light curves, look for position shifts\n",
    "\n",
    "Start with V404 Cyg, AKA P86Y4705"
   ]
  },
  {
   "cell_type": "code",
   "execution_count": 1,
   "metadata": {
    "collapsed": false
   },
   "outputs": [
    {
     "name": "stdout",
     "output_type": "stream",
     "text": [
      "CPU times: user 1min 24s, sys: 5.7 s, total: 1min 30s\n",
      "Wall time: 1min 34s\n"
     ]
    },
    {
     "data": {
      "text/html": [
       "<div align=center> <h3>Thu Sep 10 02:27:12 2015</h3> </div>"
      ],
      "text/plain": [
       "<uw.like2.tools.DateStamp at 0x7fea7bb46910>"
      ]
     },
     "execution_count": 1,
     "metadata": {},
     "output_type": "execute_result"
    }
   ],
   "source": [
    "%matplotlib inline\n",
    "from IPython import display\n",
    "from uw.like2.analyze import transientinfo as ti; reload(ti)\n",
    "%time ta = ti.Analysis()\n",
    "ti.DateStamp()"
   ]
  },
  {
   "cell_type": "code",
   "execution_count": 4,
   "metadata": {
    "collapsed": false
   },
   "outputs": [
    {
     "data": {
      "text/plain": [
       "{'ang': [0.054133802448627269, 0.053752810267679731],\n",
       " 'cat': ['bzcat', 'bllac'],\n",
       " 'dec': [33.71672, 33.71694564819335],\n",
       " 'deltats': [8.8598464927636087, 8.7400663269218057],\n",
       " 'density': [0.019902450083988475, 0.019902450083988475],\n",
       " 'dir': [SkyDir(306.295,33.717), SkyDir(306.296,33.717)],\n",
       " 'name': ['5BZUJ2025+3343', 'TEX 2023+335'],\n",
       " 'prior': [0.342, 0.1789],\n",
       " 'prob': [0.99497071627951417, 0.98867224865271663],\n",
       " 'ra': [306.2951699999999, 306.29583740234375]}"
      ]
     },
     "execution_count": 4,
     "metadata": {},
     "output_type": "execute_result"
    }
   ],
   "source": [
    "sname = 'P86Y4705'\n",
    "ta.df6y.ix[sname].associations"
   ]
  },
  {
   "cell_type": "code",
   "execution_count": 7,
   "metadata": {
    "collapsed": false
   },
   "outputs": [
    {
     "data": {
      "text/plain": [
       "-1"
      ]
     },
     "execution_count": 7,
     "metadata": {},
     "output_type": "execute_result"
    }
   ],
   "source": [
    "t =''\n",
    "t.find('test')"
   ]
  },
  {
   "cell_type": "code",
   "execution_count": null,
   "metadata": {
    "collapsed": true
   },
   "outputs": [],
   "source": []
  }
 ],
 "metadata": {
  "kernelspec": {
   "display_name": "Python 2",
   "language": "python",
   "name": "python2"
  },
  "language_info": {
   "codemirror_mode": {
    "name": "ipython",
    "version": 2
   },
   "file_extension": ".py",
   "mimetype": "text/x-python",
   "name": "python",
   "nbconvert_exporter": "python",
   "pygments_lexer": "ipython2",
   "version": "2.7.10"
  }
 },
 "nbformat": 4,
 "nbformat_minor": 0
}
