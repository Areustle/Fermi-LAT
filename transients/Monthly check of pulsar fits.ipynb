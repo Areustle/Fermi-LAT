{
 "cells": [
  {
   "cell_type": "markdown",
   "metadata": {},
   "source": [
    "# Monthly check using pulsars"
   ]
  },
  {
   "cell_type": "code",
   "execution_count": 1,
   "metadata": {
    "collapsed": true
   },
   "outputs": [],
   "source": [
    "%matplotlib inline\n",
    "from uw.like2.analyze import (sourceinfo, transientinfo, )\n",
    "map( reload, (sourceinfo, transientinfo, ))\n",
    "os.chdir(os.path.expandvars('$FERMI/skymodels/P301_monthly'))"
   ]
  },
  {
   "cell_type": "code",
   "execution_count": 5,
   "metadata": {
    "collapsed": false
   },
   "outputs": [],
   "source": [
    "import glob\n",
    "files =  sorted(glob.glob('month*/sources.pickle'));\n",
    "monthlist = [f.split('/')[0] for f in files];\n",
    "monthinfo=monthinfo=[]\n",
    "for month in monthlist:\n",
    "    sinfo = sourceinfo.ExtSourceInfo(month, quiet=True)\n",
    "    monthinfo.append(sinfo) \n",
    "dflist= []\n",
    "for i,month in enumerate(monthinfo):\n",
    "    month.df['month'] = i+1\n",
    "    month.df['has_assoc'] = [a is not None for a in month.df.associations]\n",
    "    dflist.append( month.df[month.df.transient][\n",
    "            'ra dec glat glon ts pindex eflux a locqual has_assoc month roiname'.split()])\n",
    "df = pd.concat(dflist) \n",
    "df.ix[0]"
   ]
  },
  {
   "cell_type": "markdown",
   "metadata": {},
   "source": [
    "## Choose a pulsar to monitor"
   ]
  },
  {
   "cell_type": "code",
   "execution_count": 73,
   "metadata": {
    "collapsed": false
   },
   "outputs": [
    {
     "data": {
      "text/html": [
       "<div style=\"max-height:1000px;max-width:1500px;overflow:auto;\">\n",
       "<table border=\"1\" class=\"dataframe\">\n",
       "  <thead>\n",
       "    <tr style=\"text-align: right;\">\n",
       "      <th></th>\n",
       "      <th>a</th>\n",
       "      <th>eflux</th>\n",
       "      <th>locqual</th>\n",
       "      <th>ts</th>\n",
       "    </tr>\n",
       "  </thead>\n",
       "  <tbody>\n",
       "    <tr>\n",
       "      <th>1 </th>\n",
       "      <td>      4.304533</td>\n",
       "      <td> 3.043538</td>\n",
       "      <td> 17.68</td>\n",
       "      <td> 26.316936</td>\n",
       "    </tr>\n",
       "    <tr>\n",
       "      <th>2 </th>\n",
       "      <td>      0.010020</td>\n",
       "      <td> 1.052227</td>\n",
       "      <td>  0.09</td>\n",
       "      <td>  5.598097</td>\n",
       "    </tr>\n",
       "    <tr>\n",
       "      <th>3 </th>\n",
       "      <td>      0.236153</td>\n",
       "      <td> 1.989395</td>\n",
       "      <td>  3.28</td>\n",
       "      <td> 14.896053</td>\n",
       "    </tr>\n",
       "    <tr>\n",
       "      <th>4 </th>\n",
       "      <td>      0.010020</td>\n",
       "      <td> 0.000051</td>\n",
       "      <td>  0.09</td>\n",
       "      <td>  0.000020</td>\n",
       "    </tr>\n",
       "    <tr>\n",
       "      <th>5 </th>\n",
       "      <td>      0.010020</td>\n",
       "      <td> 0.302997</td>\n",
       "      <td>  0.09</td>\n",
       "      <td>  0.220517</td>\n",
       "    </tr>\n",
       "    <tr>\n",
       "      <th>6 </th>\n",
       "      <td>      0.059745</td>\n",
       "      <td> 3.883769</td>\n",
       "      <td>  0.23</td>\n",
       "      <td> 51.605021</td>\n",
       "    </tr>\n",
       "    <tr>\n",
       "      <th>7 </th>\n",
       "      <td> 253946.428678</td>\n",
       "      <td> 3.895630</td>\n",
       "      <td> 17.68</td>\n",
       "      <td> 28.378727</td>\n",
       "    </tr>\n",
       "    <tr>\n",
       "      <th>8 </th>\n",
       "      <td>      0.087043</td>\n",
       "      <td> 2.346582</td>\n",
       "      <td>  0.79</td>\n",
       "      <td> 24.478451</td>\n",
       "    </tr>\n",
       "    <tr>\n",
       "      <th>9 </th>\n",
       "      <td>      0.094365</td>\n",
       "      <td> 2.740057</td>\n",
       "      <td>  0.59</td>\n",
       "      <td> 26.922079</td>\n",
       "    </tr>\n",
       "    <tr>\n",
       "      <th>10</th>\n",
       "      <td>      0.097004</td>\n",
       "      <td> 2.788982</td>\n",
       "      <td>  0.46</td>\n",
       "      <td> 23.005511</td>\n",
       "    </tr>\n",
       "  </tbody>\n",
       "</table>\n",
       "</div>"
      ],
      "text/plain": [
       "                a     eflux  locqual         ts\n",
       "1        4.304533  3.043538    17.68  26.316936\n",
       "2        0.010020  1.052227     0.09   5.598097\n",
       "3        0.236153  1.989395     3.28  14.896053\n",
       "4        0.010020  0.000051     0.09   0.000020\n",
       "5        0.010020  0.302997     0.09   0.220517\n",
       "6        0.059745  3.883769     0.23  51.605021\n",
       "7   253946.428678  3.895630    17.68  28.378727\n",
       "8        0.087043  2.346582     0.79  24.478451\n",
       "9        0.094365  2.740057     0.59  26.922079\n",
       "10       0.097004  2.788982     0.46  23.005511"
      ]
     },
     "execution_count": 73,
     "metadata": {},
     "output_type": "execute_result"
    }
   ],
   "source": [
    "sourcename='PSR J0101-6422'\n",
    "d =dict()\n",
    "for i,month in enumerate(monthinfo):\n",
    "    s = month.df.ix[sourcename]\n",
    "    d[i+1]=dict(ts=s.ts, locqual=s.locqual, eflux=s.eflux, a=s.a)\n",
    "df = pd.DataFrame(d).T\n",
    "df[:10]"
   ]
  },
  {
   "cell_type": "code",
   "execution_count": 81,
   "metadata": {
    "collapsed": false
   },
   "outputs": [
    {
     "name": "stdout",
     "output_type": "stream",
     "text": [
      "Good months: 58/72\n"
     ]
    },
    {
     "data": {
      "text/plain": [
       "<matplotlib.text.Text at 0x7f70861ad3d0>"
      ]
     },
     "execution_count": 81,
     "metadata": {},
     "output_type": "execute_result"
    },
    {
     "data": {
      "image/png": "[encoded data removed]",
      "text/plain": [
       "<matplotlib.figure.Figure at 0x7f7087113e50>"
      ]
     },
     "metadata": {},
     "output_type": "display_data"
    }
   ],
   "source": [
    "fig, axx = plt.subplots(1,4, figsize=(12,4))\n",
    "hist_kw = dict(histtype='stepfilled', lw=2)\n",
    "good = np.logical_not((df.ts<10) | (df.locqual>8) | (df.a<0.01) | (df.a>0.25))\n",
    "print 'Good months: %d/%d' %(sum(good), len(good))\n",
    "def histit(ax, name, bins, label=None):\n",
    "    all = np.asarray(df[name],float).clip(bins[0],bins[-1])\n",
    "    subset = np.asarray(df[good][name],float).clip(bins[0],bins[-1])\n",
    "    ax.hist( all,  bins, color='red', **hist_kw)\n",
    "    ax.hist( subset , bins, color='green', **hist_kw)\n",
    "    ax.grid(True, alpha=0.5)\n",
    "    ax.set_xlabel(name if label is None else label)\n",
    "    \n",
    "def a_hist(ax):\n",
    "    histit(ax, 'a' ,np.linspace(0,0.25,26),  'Major axis [deg]')\n",
    "    \n",
    "def eflux_hist(ax):\n",
    "    histit(ax, 'eflux', np.linspace(0,5,26), 'Energy Flux [eV]')\n",
    "\n",
    "def ts_hist(ax):\n",
    "    histit(ax, 'ts', np.linspace(0,100,21), 'TS')\n",
    "\n",
    "def lq_hist(ax):\n",
    "    histit(ax, 'locqual', np.linspace(0,8,26),'Localization Quality')\n",
    "    \n",
    "for f,ax in zip([ts_hist, eflux_hist, a_hist, lq_hist], axx.flatten()): f(ax)\n",
    "plt.suptitle('Monthly analysis for %s' % sourcename)"
   ]
  },
  {
   "cell_type": "code",
   "execution_count": null,
   "metadata": {
    "collapsed": true
   },
   "outputs": [],
   "source": []
  }
 ],
 "metadata": {
  "kernelspec": {
   "display_name": "Python 2",
   "language": "python",
   "name": "python2"
  },
  "language_info": {
   "codemirror_mode": {
    "name": "ipython",
    "version": 2
   },
   "file_extension": ".py",
   "mimetype": "text/x-python",
   "name": "python",
   "nbconvert_exporter": "python",
   "pygments_lexer": "ipython2",
   "version": "2.7.10"
  }
 },
 "nbformat": 4,
 "nbformat_minor": 0
}
