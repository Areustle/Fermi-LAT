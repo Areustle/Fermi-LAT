{
 "cells": [
  {
   "cell_type": "markdown",
   "metadata": {},
   "source": [
    "#Process seeds\n",
    "Test the processing in the stage \"seedcheck\""
   ]
  },
  {
   "cell_type": "code",
   "execution_count": 1,
   "metadata": {
    "collapsed": false
   },
   "outputs": [],
   "source": [
    "%matplotlib inline\n",
    "os.chdir(os.path.expandvars('$FERMI/skymodels/P301_monthly/month01'))\n",
    "from uw.like2.analyze import (seedcheck, ); \n",
    "from uw.like2 import process; reload(process)\n",
    "map(reload, (seedcheck, process));"
   ]
  },
  {
   "cell_type": "code",
   "execution_count": 2,
   "metadata": {
    "collapsed": false,
    "scrolled": true
   },
   "outputs": [
    {
     "name": "stdout",
     "output_type": "stream",
     "text": [
      "invoking Data.setPhotonBinner for front/back event types...\n",
      "Failed gti check:\n",
      "  ltcube: Gti: 417 intervals from 239557417 to 241960000, on time 1974958 \n",
      " binfile: Gti: 423 intervals from 239557417 to 241959980, on time 1974759\n"
     ]
    }
   ],
   "source": [
    "r= process.Process('.',seed_key='ts', quiet=True)"
   ]
  },
  {
   "cell_type": "code",
   "execution_count": 3,
   "metadata": {
    "collapsed": false
   },
   "outputs": [
    {
     "name": "stdout",
     "output_type": "stream",
     "text": [
      "WARNING: there are no free parameters\n",
      "20 total sources: 0 extended, 3 global\n"
     ]
    }
   ],
   "source": [
    "r.setup_roi(49)"
   ]
  },
  {
   "cell_type": "code",
   "execution_count": 4,
   "metadata": {
    "collapsed": false,
    "scrolled": true
   },
   "outputs": [
    {
     "name": "stdout",
     "output_type": "stream",
     "text": [
      "================================================================================\n",
      "2015-08-02 19:05:58 - HP12_0049 - interactive\n",
      "added Sh01-0027 at SkyDir(176.002,38.677)\n",
      "27 calls, function value, improvement, quality: -2215.2, 5.22, 0.00\n",
      "Name                  index     value  error(%)  gradient\n",
      "Sh01-0027_Norm            0 1.305e-12      64.5       0.0\n",
      "8 calls, function value, improvement, quality: -2215.1, 0.10, 0.00\n",
      "Name                  index     value  error(%)  gradient\n",
      "Sh01-0027_Norm            0 1.262e-12      64.4       0.1\n",
      "         _Index           1      2.38      22.1      -0.2\n",
      "  TS = 11.0\n",
      "\n",
      "check need to repivot sources with TS>10, beta<3.0: \n",
      "source                     TS        e0      pivot\n",
      "processing 1 sources\n",
      "Sh01-0027                  11      1000       643  will refit\n",
      "Fit failure: check parameters\n",
      "Fit Failure Fit failure:\n",
      "{'warnflag': 2, 'task': 'ABNORMAL_TERMINATION_IN_LNSRCH', 'grad': array([ 0.06980191, -0.25986643]), 'nit': 0, 'funcalls': 21}: quality: -0.53\n",
      "Name                  index     value  error(%)  gradient\n",
      "Sh01-0027_Norm            0 3.614e-12      64.4       0.1\n",
      "         _Index           1      2.38      22.1      -0.3\n",
      "Localizing source Sh01-0027, tolerance=1.0e-04...\n",
      "\t     moved     delta        ra       dec         a         b      qual\n",
      "\t    0.0000    0.0000  176.0020   38.6770\n",
      "\t    0.0108    0.0108  176.0122   38.6697    0.3122    0.2317   13.1226\n",
      "\t    0.0128    0.0031  175.9982   38.6763    0.1726    0.1341    1.8572\n",
      "\t    0.0070    0.0099  175.9893   38.6769    0.1675    0.1307    1.5518\n",
      "\t    0.0043    0.0141  175.9840   38.6758    0.1665    0.1304    1.5163\n",
      "\t    0.0027    0.0166  175.9810   38.6744    0.1664    0.1305    1.5178\n",
      "\t    0.0018    0.0182  175.9792   38.6733    0.1665    0.1307    1.5254\n",
      "\t    0.0011    0.0191  175.9782   38.6725    0.1666    0.1309    1.5324\n",
      "\t    0.0007    0.0197  175.9777   38.6719    0.1667    0.1310    1.5375\n",
      "\t    0.0004    0.0200  175.9774   38.6715    0.1668    0.1310    1.5409\n",
      "\t    0.0003    0.0202  175.9772   38.6713    0.1668    0.1311    1.5431\n",
      "\t    0.0002    0.0203  175.9771   38.6711    0.1668    0.1311    1.5445\n",
      "\t    0.0001    0.0204  175.9770   38.6710    0.1668    0.1311    1.5453\n",
      "\t    0.0001    0.0204  175.9770   38.6710    0.1668    0.1311    1.5459\n",
      "TS change: -0.10\n",
      "updated position: SkyDir(176.002,38.677) --> SkyDir(175.977,38.671)\n",
      "Not fitting, estimated improvement, 0.01, is less than tolerance= 0.2\n",
      "wrote file seedcheck/Sh01-0027.pickle\n"
     ]
    }
   ],
   "source": [
    "r.process()"
   ]
  },
  {
   "cell_type": "code",
   "execution_count": 5,
   "metadata": {
    "collapsed": false
   },
   "outputs": [
    {
     "name": "stdout",
     "output_type": "stream",
     "text": [
      "------------------------------------------------------------------------------------------ \n",
      "\t Nearby sources within 5.0 degrees HP12_0049\n",
      "name               dist        ra       dec        TS eflux(eV)    index   energy   beta/b\n",
      "P86Y2640            2.2   176.730    39.976                13.4     2.95      331     0.03 \n",
      "P86Y2619            2.3   174.594    41.240        16       5.9*    2.25*    1356     0\n",
      "P86Y2672            3.7   178.485    40.621                 7.2     2.23     2157     0\n",
      "P86Y2655            4.0   177.653    41.907                12.2    -0.23     1574     0.79 \n",
      "P86Y2550            4.4   170.201    42.203                13.7     1.79     3909     0\n",
      "------------------------------------------------------------------------------------------ \n",
      "\tDiffuse sources\n",
      "------------------------------------------------------------------------------------------\n",
      "ring                        1.00       0.00 \n",
      "isotrop                     1.00 \n",
      "SunMoon                     1.00 \n",
      "------------------------------------------------------------------------------------------\n"
     ]
    }
   ],
   "source": [
    "r.print_summary()"
   ]
  }
 ],
 "metadata": {
  "kernelspec": {
   "display_name": "Python 2",
   "language": "python",
   "name": "python2"
  },
  "language_info": {
   "codemirror_mode": {
    "name": "ipython",
    "version": 2
   },
   "file_extension": ".py",
   "mimetype": "text/x-python",
   "name": "python",
   "nbconvert_exporter": "python",
   "pygments_lexer": "ipython2",
   "version": "2.7.10"
  }
 },
 "nbformat": 4,
 "nbformat_minor": 0
}
