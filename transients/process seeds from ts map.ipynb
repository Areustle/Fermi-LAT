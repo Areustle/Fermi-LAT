{
 "cells": [
  {
   "cell_type": "markdown",
   "metadata": {},
   "source": [
    "#Analyze seeds"
   ]
  },
  {
   "cell_type": "code",
   "execution_count": 1,
   "metadata": {
    "collapsed": false
   },
   "outputs": [],
   "source": [
    "%matplotlib inline\n",
    "os.chdir(os.path.expandvars('$FERMI/skymodels/P301_monthly/month10'))\n",
    "from uw.like2.analyze import (seedcheck, ); \n",
    "from uw.like2 import process; reload(process)\n",
    "map(reload, (seedcheck, process));"
   ]
  },
  {
   "cell_type": "code",
   "execution_count": 2,
   "metadata": {
    "collapsed": false,
    "scrolled": true
   },
   "outputs": [
    {
     "name": "stdout",
     "output_type": "stream",
     "text": [
      "Using configuration file \"../config.txt\" in folder: /nfs/farm/g/glast/g/catalog/pointlike/skymodels/P301_monthly/month10/.\n",
      "Opening dataset P301_monthxx from key in /afs/slac/g/glast/groups/catalog//pointlike/fermi/data/dataspec.py\n",
      "invoking Data.setPhotonBinner for front/back event types...\n",
      "Extracting DSS from existing binfile\n",
      "GTI from binfile Gti: 479 intervals from 263000008 to 265629976, on time 2157203\n",
      "Verified binfile /afs/slac/g/glast/groups/catalog//pointlike/fermi/data/P8_P301/binfiles/P301_Source_010_zmax100_4bpd.fits\n",
      "no header info in ltcube?\n",
      "Accepting ltcube without DSS info since legacy specified\n",
      "Failed gti check:\n",
      "  ltcube: Gti: 473 intervals from 263000000 to 265630000, on time 2157445 \n",
      " binfile: Gti: 479 intervals from 263000008 to 265629976, on time 2157203\n",
      "loading binfile /afs/slac/g/glast/groups/catalog//pointlike/fermi/data/P8_P301/binfiles/P301_Source_010_zmax100_4bpd.fits ... found 2285652 photons in 40 bands, energies 10-1000000 MeV\n",
      "dataset \"P301_monthxx\", found in /afs/slac/g/glast/groups/catalog//pointlike/fermi/data/dataspec.py:\n",
      "  Bins per decade: 4\n",
      "  FT1 files: \tNone\n",
      "  FT2 files: \tNone\n",
      "  Binned data: /afs/slac/g/glast/groups/catalog//pointlike/fermi/data/P8_P301/binfiles/P301_Source_010_zmax100_4bpd.fits\n",
      "             :  2285652 photons, 40 energy bands from 10 to 1000000 MeV\n",
      "  Livetime cube: /afs/slac/g/glast/groups/catalog//pointlike/fermi/data/../../../P8_P301/Source/ltcube_010_zmax100.fits\n",
      "  Gti: 479 intervals from 263000008 to 265629976, on time 2157203\n",
      "  DSS: name             value     units     ref       \n",
      "       BIT_MASK(EVENT_CLASS,128,P8V1)  1:1       DIMENSIONLESS None\n",
      "       TIME             TABLE     s          :GTI\n",
      "       ENERGY           30:1000000MeV        None\n",
      "       ZENITH_ANGLE     0:100     deg        None\n",
      "       THETA            :66.4     deg        None\n",
      "\n",
      "Will load healpix sources from /nfs/farm/g/glast/g/catalog/pointlike/skymodels/P301_monthly/month10/./pickle.zip\n"
     ]
    }
   ],
   "source": [
    "r= process.Process('.',seed_key='ts')"
   ]
  },
  {
   "cell_type": "code",
   "execution_count": 3,
   "metadata": {
    "collapsed": false
   },
   "outputs": [
    {
     "name": "stdout",
     "output_type": "stream",
     "text": [
      "24 total sources: 0 extended, 3 global\n"
     ]
    }
   ],
   "source": [
    "r.setup_roi(49)"
   ]
  },
  {
   "cell_type": "code",
   "execution_count": 4,
   "metadata": {
    "collapsed": false
   },
   "outputs": [
    {
     "name": "stdout",
     "output_type": "stream",
     "text": [
      "================================================================================\n",
      "2015-07-24 08:19:14 - HP12_0049 - interactive\n",
      "added Sh10-0017 at SkyDir(173.835,36.877)\n",
      "added Sh10-0019 at SkyDir(173.201,36.466)\n",
      "added Sh10-0025 at SkyDir(172.738,37.746)\n",
      "21 calls, function value, improvement, quality: -3210.4, 12.15, 0.00\n",
      "Name                  index     value  error(%)  gradient\n",
      "Sh10-0017_Norm            5 5.972e-13     113.9       0.0\n",
      "Sh10-0019_Norm            7 7.711e-13     100.6      -0.0\n",
      "Sh10-0025_Norm            9 1.276e-12      63.8      -0.0\n",
      "3 calls, function value, improvement, quality: -3210.4, 0.00, 0.00\n",
      "Name                  index     value  error(%)  gradient\n",
      "Sh10-0017_Norm            5 5.959e-13     104.2      -0.0\n",
      "         _Index           6     2.228      35.9      -0.1\n",
      "  TS = 3.8\n",
      " TS<5, removing from ROI\n",
      "7 calls, function value, improvement, quality: -3211.9, 0.46, 0.00\n",
      "Name                  index     value  error(%)  gradient\n",
      "Sh10-0019_Norm            5 1.021e-12      72.9       0.0\n",
      "         _Index           6      2.49      22.1      -0.0\n",
      "  TS = 7.6\n",
      "\n",
      "check need to repivot sources with TS>10, beta<3.0: \n",
      "source                     TS        e0      pivot\n",
      "processing 1 sources\n",
      "Sh10-0019                   8      1000       521  TS too small\n",
      "7 calls, function value, improvement, quality: -3211.8, 0.05, 0.00\n",
      "Name                  index     value  error(%)  gradient\n",
      "Sh10-0025_Norm            7 1.301e-12      62.2       0.0\n",
      "         _Index           8     2.127      21.4      -0.0\n",
      "  TS = 10.5\n",
      "\n",
      "check need to repivot sources with TS>10, beta<3.0: \n",
      "source                     TS        e0      pivot\n",
      "processing 1 sources\n",
      "Sh10-0025                  10      1000       871  will refit\n",
      "33 calls, function value, improvement, quality: -3209.9, 1.93, 0.14\n",
      "Name                  index     value  error(%)  gradient\n",
      "P86Y2619_Norm             0 6.216e-13      63.1      -0.2\n",
      "        _Index            1      2.21      22.6      -0.1\n",
      "P86Y2600_Norm             2 1.618e-13     397.6      -0.0\n",
      "        _Index            3      -0.5    1158.3       0.1\n",
      "        _beta             4    0.8124     250.9       0.1\n",
      "Sh10-0019_Norm            5 1.022e-12      74.6      -0.1\n",
      "         _Index           6     2.487      23.2      -0.1\n",
      "Sh10-0025_Norm            7 2.167e-12      56.6      -0.2\n",
      "         _Index           8     2.061      19.9      -0.2\n",
      "Localizing source Sh10-0025, tolerance=1.0e-04...\n",
      "\t     moved     delta        ra       dec         a         b      qual\n",
      "\t    0.0000    0.0000  172.7380   37.7460\n",
      "\t    0.1797    0.1797  172.7097   37.9243    0.2373    0.1657   40.7986\n",
      "\t    0.0594    0.1203  172.7178   37.8653    0.0727    0.0693    4.7840\n",
      "\t    0.0094    0.1110  172.7193   37.8560    0.0880    0.0842    0.3780\n",
      "\t    0.0014    0.1096  172.7198   37.8546    0.0898    0.0850    0.4967\n",
      "\t    0.0008    0.1088  172.7202   37.8539    0.0891    0.0846    0.2680\n",
      "\t    0.0003    0.1086  172.7203   37.8537    0.0891    0.0846    0.2423\n",
      "\t    0.0001    0.1085  172.7204   37.8536    0.0890    0.0845    0.2338\n",
      "\t    0.0000    0.1085  172.7205   37.8536    0.0890    0.0845    0.2316\n",
      "TS change: 2.07\n",
      "updated position: SkyDir(172.738,37.746) --> SkyDir(172.720,37.854)\n",
      "Localized Sh10-0025: 6 iterations, moved 0.108 deg, deltaTS: 2.1\n",
      "        ra       dec         a         b       ang      qual\n",
      "  172.7205   37.8536    0.0890    0.0845   -8.2353    0.2316\n",
      "Not fitting, estimated improvement, 0.15, is less than tolerance= 0.2\n",
      "wrote file seedcheck/Sh10-0019.pickle\n",
      "wrote file seedcheck/Sh10-0025.pickle\n"
     ]
    }
   ],
   "source": [
    "r.process()"
   ]
  },
  {
   "cell_type": "code",
   "execution_count": 5,
   "metadata": {
    "collapsed": false
   },
   "outputs": [
    {
     "name": "stdout",
     "output_type": "stream",
     "text": [
      "------------------------------------------------------------------------------------------ \n",
      "\t Nearby sources within 5.0 degrees HP12_0049\n",
      "name               dist        ra       dec        TS eflux(eV)    index   energy   beta/b\n",
      "P86Y2640            2.2   176.730    39.976                13.4     2.95      331     0.03 \n",
      "P86Y2619            2.3   174.594    41.240        16       5.9*    2.25*    1356     0\n",
      "P86Y2672            3.7   178.485    40.621                 7.2     2.23     2157     0\n",
      "P86Y2655            4.0   177.653    41.907                12.2    -0.23     1574     0.79 \n",
      "P86Y2550            4.4   170.201    42.203                13.7     1.79     3909     0\n",
      "------------------------------------------------------------------------------------------ \n",
      "\tDiffuse sources\n",
      "------------------------------------------------------------------------------------------\n",
      "ring                        1.00       0.00 \n",
      "isotrop                     1.00 \n",
      "SunMoon                     1.00 \n",
      "------------------------------------------------------------------------------------------\n"
     ]
    }
   ],
   "source": [
    "r.print_summary()"
   ]
  }
 ],
 "metadata": {
  "kernelspec": {
   "display_name": "Python 2",
   "language": "python",
   "name": "python2"
  },
  "language_info": {
   "codemirror_mode": {
    "name": "ipython",
    "version": 2
   },
   "file_extension": ".py",
   "mimetype": "text/x-python",
   "name": "python",
   "nbconvert_exporter": "python",
   "pygments_lexer": "ipython2",
   "version": "2.7.10"
  }
 },
 "nbformat": 4,
 "nbformat_minor": 0
}
