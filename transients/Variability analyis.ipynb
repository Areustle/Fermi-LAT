{
 "cells": [
  {
   "cell_type": "markdown",
   "metadata": {},
   "source": [
    "# Variability analysis\n",
    "\n",
    "Look at the 6-year sources, including pulsars, to study variability\n",
    "\n",
    "First CD to the monthly directory and import needed modules"
   ]
  },
  {
   "cell_type": "code",
   "execution_count": 1,
   "metadata": {
    "collapsed": false
   },
   "outputs": [],
   "source": [
    "%matplotlib inline\n",
    "from uw.like2.analyze import (transientinfo, )\n",
    "map( reload, (transientinfo,))\n",
    "os.chdir(os.path.expandvars('$FERMI/skymodels/P301_monthly'))"
   ]
  },
  {
   "cell_type": "code",
   "execution_count": 2,
   "metadata": {
    "collapsed": false
   },
   "outputs": [
    {
     "name": "stdout",
     "output_type": "stream",
     "text": [
      "good sources: 29881/42912\n",
      "High latitude (>10 deg) 21345\n",
      "Associated 1683\n",
      "CPU times: user 1min 24s, sys: 2.51 s, total: 1min 26s\n",
      "Wall time: 1min 31s\n"
     ]
    }
   ],
   "source": [
    "%time ta = transientinfo.Analysis() "
   ]
  },
  {
   "cell_type": "code",
   "execution_count": 3,
   "metadata": {
    "collapsed": false
   },
   "outputs": [
    {
     "name": "stdout",
     "output_type": "stream",
     "text": [
      "loading SourceInfo with 6568 sources\n",
      "Found at least one month for 6509 sources\n",
      "CPU times: user 1min 16s, sys: 268 ms, total: 1min 17s\n",
      "Wall time: 1min 17s\n"
     ]
    }
   ],
   "source": [
    "%time si=transientinfo.SourceInfo(ta, quiet=True)"
   ]
  },
  {
   "cell_type": "code",
   "execution_count": 5,
   "metadata": {
    "collapsed": false
   },
   "outputs": [
    {
     "data": {
      "text/plain": [
       "(13.364418497465048, 6509)"
      ]
     },
     "execution_count": 5,
     "metadata": {},
     "output_type": "execute_result"
    }
   ],
   "source": [
    "s6y = si.df\n",
    "s6y.nmonths.mean(), sum(s6y.nmonths>0)"
   ]
  },
  {
   "cell_type": "code",
   "execution_count": null,
   "metadata": {
    "collapsed": false
   },
   "outputs": [],
   "source": [
    "fig,ax = plt.subplots(figsize=(6,6))\n",
    "ax.hist(s6y.nmonths, np.linspace(0,72,73), histtype='step', cumulative=1);"
   ]
  },
  {
   "cell_type": "code",
   "execution_count": null,
   "metadata": {
    "collapsed": false
   },
   "outputs": [],
   "source": [
    "print sum(s6y.nmonths>36)\n",
    "ta.sinfo.cumulative_ts(other_ts=[s6y.ts[s6y.nmonths>=n] for n in (7,18,36,54,72)], \n",
    "                    other_label=['10%','25%','50%', '75%', '100%'],\n",
    "                    check_localized=False);"
   ]
  },
  {
   "cell_type": "code",
   "execution_count": null,
   "metadata": {
    "collapsed": false
   },
   "outputs": [],
   "source": [
    "fig,axx = plt.subplots(1,2,figsize=(12,6))\n",
    "tsmin=100\n",
    "sel = si.df[si.df.ts>tsmin]\n",
    "print 'TS>%d : %d' %(tsmin, len(sel))\n",
    "psr = np.array([n.startswith('PSR') for n in sel.index], bool)\n",
    "unid = np.array(sel.aprob<0.8, bool)\n",
    "print 'unid: %d' %sum(unid)\n",
    "pr = np.array(sel.pull_rms, float)\n",
    "ax = axx[0]\n",
    "ax.hist(pr.clip(0,5), np.linspace(0,5,51), label='all', histtype='step');\n",
    "ax.hist(pr[psr].clip(0,5), np.linspace(0,5,51), color='red', label='PSR',  histtype='step');\n",
    "ax.hist(pr[unid].clip(0,5), bins, label='UNID', color='orange', histtype='step')\n",
    "ax.grid(True, alpha=0.5)\n",
    "plt.setp(ax, xlabel='RMS of eflux pulls', title='Variability measure')\n",
    "ax.legend();\n",
    "ax=axx[1]\n",
    "cv = np.array(sel.curvature, float)\n",
    "xlim=(0,0.5)\n",
    "bins = np.linspace(0,xlim[-1],26)\n",
    "hkw= dict(histtype='step', log=True, lw=2)\n",
    "ax.hist(cv.clip(*xlim), bins, label='all', **hkw)\n",
    "ax.hist(cv[psr].clip(*xlim), bins, label='PSR', color='red', **hkw)\n",
    "notpsr= np.logical_not(psr) & np.asarray(sel.pull_rms<1, bool)\n",
    "ax.hist(cv[notpsr].clip(*xlim), bins, label='not PSR and constant', color='green', **hkw)\n",
    "ax.hist(cv[unid].clip(*xlim), bins, label='unid', color='orange', **hkw)\n",
    "\n",
    "ax.grid(True, alpha=0.5)\n",
    "ax.legend()\n",
    "plt.setp(ax, xlabel='curvature', title='Curvature')\n"
   ]
  },
  {
   "cell_type": "code",
   "execution_count": null,
   "metadata": {
    "collapsed": false,
    "scrolled": true
   },
   "outputs": [],
   "source": [
    "si.df.ix[1] #[si.df.pull_rms>2]['ts eflux flux_ratio ngood pull_rms'.split()]"
   ]
  },
  {
   "cell_type": "code",
   "execution_count": null,
   "metadata": {
    "collapsed": false
   },
   "outputs": [],
   "source": [
    "sum(si.df.aprob<0.8)"
   ]
  },
  {
   "cell_type": "code",
   "execution_count": 8,
   "metadata": {
    "collapsed": false
   },
   "outputs": [
    {
     "data": {
      "text/plain": [
       "6.944444444444445"
      ]
     },
     "execution_count": 8,
     "metadata": {},
     "output_type": "execute_result"
    }
   ],
   "source": [
    "12000/1728."
   ]
  },
  {
   "cell_type": "code",
   "execution_count": null,
   "metadata": {
    "collapsed": true
   },
   "outputs": [],
   "source": []
  }
 ],
 "metadata": {
  "kernelspec": {
   "display_name": "Python 2",
   "language": "python",
   "name": "python2"
  },
  "language_info": {
   "codemirror_mode": {
    "name": "ipython",
    "version": 2
   },
   "file_extension": ".py",
   "mimetype": "text/x-python",
   "name": "python",
   "nbconvert_exporter": "python",
   "pygments_lexer": "ipython2",
   "version": "2.7.10"
  }
 },
 "nbformat": 4,
 "nbformat_minor": 0
}
