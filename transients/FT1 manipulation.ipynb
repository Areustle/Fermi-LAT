{
 "cells": [
  {
   "cell_type": "markdown",
   "metadata": {},
   "source": [
    "# Create a scrambled FT1 file\n",
    "The idea is to make a file with mixed data, I think only directions, from several monthly files."
   ]
  },
  {
   "cell_type": "code",
   "execution_count": 50,
   "metadata": {
    "collapsed": true
   },
   "outputs": [],
   "source": [
    "%matplotlib inline\n",
    "import pyfits\n",
    "os.chdir(os.path.expandvars('$FERMI/skymodels/P301_monthly'))"
   ]
  },
  {
   "cell_type": "code",
   "execution_count": 51,
   "metadata": {
    "collapsed": true
   },
   "outputs": [],
   "source": [
    "class MonthFT1(object):\n",
    "    def __init__(self, month, \n",
    "                 folder='/nfs/farm/g/glast/g/catalog/P8_P301/Source/'):\n",
    "        self.filename=folder + 'P301_Source_%03d_zmax100.fits'% month \n",
    "        self.fits = pyfits.open(self.filename)\n",
    "        self.events=events=self.fits[1].data\n",
    "        self.ra = events.RA\n",
    "        self.dec= events.DEC\n",
    "        "
   ]
  },
  {
   "cell_type": "code",
   "execution_count": 52,
   "metadata": {
    "collapsed": true
   },
   "outputs": [],
   "source": [
    "months = map(MonthFT1, range(1,9))"
   ]
  },
  {
   "cell_type": "code",
   "execution_count": 53,
   "metadata": {
    "collapsed": false,
    "scrolled": false
   },
   "outputs": [
    {
     "data": {
      "text/plain": [
       "[2235172, 2424541, 2525297, 2443990, 2453960, 2427541, 2398897, 2072451]"
      ]
     },
     "execution_count": 53,
     "metadata": {},
     "output_type": "execute_result"
    }
   ],
   "source": [
    "[len(months[i].ra) for i in range(8)]"
   ]
  },
  {
   "cell_type": "code",
   "execution_count": 54,
   "metadata": {
    "collapsed": false
   },
   "outputs": [
    {
     "data": {
      "text/plain": [
       "279396"
      ]
     },
     "execution_count": 54,
     "metadata": {},
     "output_type": "execute_result"
    }
   ],
   "source": [
    "n = len(months[0].ra)/8; n"
   ]
  },
  {
   "cell_type": "code",
   "execution_count": 55,
   "metadata": {
    "collapsed": false
   },
   "outputs": [
    {
     "data": {
      "text/plain": [
       "array([  14.03963947,  205.88999939,  102.68312073,  152.03244019,\n",
       "         32.52329254,   61.29040146,  121.25073242,   93.77165222,\n",
       "         94.17869568,  204.07440186,   96.66295624,  354.2097168 ,\n",
       "         55.74280167,  118.74401855,   67.6678009 ,   44.58832169,\n",
       "         23.49770164,  199.00662231,   47.19706345,   64.00797272], dtype=float32)"
      ]
     },
     "execution_count": 55,
     "metadata": {},
     "output_type": "execute_result"
    }
   ],
   "source": [
    "ra = months[0].ra.copy()\n",
    "dec=months[0].dec.copy()\n",
    "ra[:20]"
   ]
  },
  {
   "cell_type": "code",
   "execution_count": 56,
   "metadata": {
    "collapsed": false
   },
   "outputs": [],
   "source": [
    "for i in range(1,7):\n",
    "    ra[i:8*n:8] = months[i].ra[:n]\n",
    "    dec[i:8*n:8] = months[i].dec[:n]"
   ]
  },
  {
   "cell_type": "code",
   "execution_count": 57,
   "metadata": {
    "collapsed": false
   },
   "outputs": [],
   "source": [
    "months[0].ra = ra\n",
    "months[0].dec=dec"
   ]
  },
  {
   "cell_type": "code",
   "execution_count": 58,
   "metadata": {
    "collapsed": true
   },
   "outputs": [],
   "source": [
    "t = months[0].fits\n",
    "t.writeto(open('scrambled/ft1.fits', 'w'))"
   ]
  },
  {
   "cell_type": "code",
   "execution_count": 95,
   "metadata": {
    "collapsed": false
   },
   "outputs": [
    {
     "name": "stdout",
     "output_type": "stream",
     "text": [
      "Filename: scrambled/ft1.fits\n",
      "No.    Name         Type      Cards   Dimensions   Format\n",
      "0    PRIMARY     PrimaryHDU      32   ()              \n",
      "1    EVENTS      BinTableHDU    206   2235172R x 23C   [E, E, E, E, E, E, E, E, E, D, J, J, I, 3I, 32X, 32X, I, D, E, E, E, E, E]   \n",
      "2    GTI         BinTableHDU     48   417R x 2C    [D, D]   \n"
     ]
    }
   ],
   "source": [
    "check = pyfits.open('scrambled/ft1.fits', mode='update')\n",
    "check.info()"
   ]
  },
  {
   "cell_type": "code",
   "execution_count": 96,
   "metadata": {
    "collapsed": false
   },
   "outputs": [],
   "source": [
    "check[1].data.RA = ra\n",
    "check[1].data.DEC=dec\n",
    "check.flush()"
   ]
  },
  {
   "cell_type": "markdown",
   "metadata": {
    "collapsed": false
   },
   "source": [
    "## Merge the livetime cube files\n",
    "Get the first 8 such."
   ]
  },
  {
   "cell_type": "code",
   "execution_count": 161,
   "metadata": {
    "collapsed": false
   },
   "outputs": [
    {
     "name": "stdout",
     "output_type": "stream",
     "text": [
      "Info: Filename: /nfs/farm/g/glast/g/catalog/P8_P301/Source/ltcube_008_zmax100.fits\n",
      "No.    Name         Type      Cards   Dimensions   Format\n",
      "0    PRIMARY     PrimaryHDU      27   ()              \n",
      "1    EXPOSURE    BinTableHDU     61   49152R x 3C   ['40E', 'E', 'E']   \n",
      "2    WEIGHTED_EXPOSURE  BinTableHDU     61   49152R x 3C   [40E, E, E]   \n",
      "3    CTHETABOUNDS  BinTableHDU     33   40R x 2C     [E, E]   \n",
      "4    GTI         BinTableHDU     46   392R x 2C    [D, D]   \n",
      " None\n",
      "Columns: ColDefs(\n",
      "    name = 'COSBINS'; format = '40E'; unit = 's'\n",
      "    name = 'RA'; format = 'E'; unit = 'deg'\n",
      "    name = 'DEC'; format = 'E'; unit = 'deg'\n",
      ")\n"
     ]
    }
   ],
   "source": [
    "import pyfits, glob\n",
    "N=8\n",
    "path='/nfs/farm/g/glast/g/catalog/P8_P301/Source/'\n",
    "files = [path+'ltcube_%03d_zmax100.fits' %m for m in range(1,N+1)]\n",
    "ff= map(pyfits.open, files)\n",
    "f0=ff[0]\n",
    "print 'Info: ', f.info()\n",
    "d=f[1].data\n",
    "print 'Columns:', d.columns"
   ]
  },
  {
   "cell_type": "markdown",
   "metadata": {},
   "source": [
    "Create the average of all 8 EXPOSURE HDU's"
   ]
  },
  {
   "cell_type": "code",
   "execution_count": 162,
   "metadata": {
    "collapsed": false
   },
   "outputs": [
    {
     "name": "stdout",
     "output_type": "stream",
     "text": [
      "HDU 1\n",
      "(8, 49152, 40)\n",
      "(49152, 40)\n",
      "HDU 2\n",
      "(8, 49152, 40)\n",
      "(49152, 40)\n"
     ]
    }
   ],
   "source": [
    "for hdu in (1,2):\n",
    "    print 'HDU', hdu\n",
    "    cosbins_array  = np.array([f[hdu].data.COSBINS for f in ff]);print cosbins_array.shape\n",
    "    average = (cosbins_array.sum(axis=0))/N; print average.shape\n",
    "    #Replace the EXPOSURE of the first cube and save it\n",
    "    f0[hdu].data.COSBINS = average"
   ]
  },
  {
   "cell_type": "code",
   "execution_count": 166,
   "metadata": {
    "collapsed": false
   },
   "outputs": [
    {
     "name": "stderr",
     "output_type": "stream",
     "text": [
      "/afs/slac/g/glast/groups/catalog/python/anaconda/lib/python2.7/site-packages/pyfits/file.py:339: UserWarning: Overwriting existing file '/nfs/farm/g/glast/g/catalog/pointlike/fermi/data/P8_P301/scrambled_ltcube.fits'.\n",
      "  warnings.warn(\"Overwriting existing file %r.\" % self.name)\n"
     ]
    }
   ],
   "source": [
    "f0.writeto('/nfs/farm/g/glast/g/catalog/pointlike/fermi/data/P8_P301/scrambled_ltcube.fits',\n",
    "          clobber=True)"
   ]
  },
  {
   "cell_type": "code",
   "execution_count": 167,
   "metadata": {
    "collapsed": false
   },
   "outputs": [
    {
     "data": {
      "text/plain": [
       "(array([[   175.34576416,    418.08270264,    391.01748657, ...,\n",
       "          37101.65234375,  31687.90820312,  28018.98828125],\n",
       "        [   168.89424133,    401.27099609,    394.47259521, ...,\n",
       "          36748.59765625,  31929.79492188,  27994.92578125],\n",
       "        [   227.04512024,    392.51486206,    384.82571411, ...,\n",
       "          36591.0390625 ,  31899.15429688,  28267.73046875],\n",
       "        ..., \n",
       "        [   430.27404785,   1172.32751465,   1824.53918457, ...,\n",
       "          37910.296875  ,  32049.9609375 ,  28677.86914062],\n",
       "        [   437.57699585,   1330.6628418 ,   1673.54064941, ...,\n",
       "          37603.0859375 ,  32005.21875   ,  28648.41210938],\n",
       "        [   417.33868408,   1372.9017334 ,   1566.08789062, ...,\n",
       "          37890.2890625 ,  31717.3828125 ,  28487.12304688]], dtype=float32),\n",
       " array([[   157.78994751,    370.94763184,    348.9128418 , ...,\n",
       "          33653.03515625,  28662.15429688,  25309.88867188],\n",
       "        [   152.24008179,    355.86483765,    352.31323242, ...,\n",
       "          33332.078125  ,  28882.67382812,  25288.22851562],\n",
       "        [   201.90293884,    349.60412598,    343.84399414, ...,\n",
       "          33188.09765625,  28847.4609375 ,  25535.5       ],\n",
       "        ..., \n",
       "        [   389.12207031,   1063.37451172,   1660.60461426, ...,\n",
       "          34402.890625  ,  28997.515625  ,  25912.73242188],\n",
       "        [   396.20001221,   1208.73791504,   1522.36645508, ...,\n",
       "          34121.015625  ,  28960.875     ,  25883.1640625 ],\n",
       "        [   377.98934937,   1248.32299805,   1423.078125  , ...,\n",
       "          34383.6640625 ,  28693.47265625,  25734.66992188]], dtype=float32))"
      ]
     },
     "execution_count": 167,
     "metadata": {},
     "output_type": "execute_result"
    }
   ],
   "source": [
    "test = pyfits.open('/nfs/farm/g/glast/g/catalog/pointlike/fermi/data/P8_P301/scrambled_ltcube.fits')\n",
    "test[1].data.COSBINS, test[2].data.COSBINS"
   ]
  },
  {
   "cell_type": "code",
   "execution_count": 175,
   "metadata": {
    "collapsed": false
   },
   "outputs": [
    {
     "data": {
      "text/plain": [
       "{-78.28,\n",
       " -66.44,\n",
       " -54.34,\n",
       " -41.81,\n",
       " -30.0,\n",
       " -19.47,\n",
       " -9.59,\n",
       " -0.0,\n",
       " 9.59,\n",
       " 19.47,\n",
       " 30.0,\n",
       " 41.81,\n",
       " 54.34,\n",
       " 66.44,\n",
       " 78.28}"
      ]
     },
     "execution_count": 175,
     "metadata": {},
     "output_type": "execute_result"
    }
   ],
   "source": [
    "from skymaps import Band,SkyDir\n",
    "set([round(Band(4).dir(i).b(),2) for i in range(192)])"
   ]
  },
  {
   "cell_type": "code",
   "execution_count": null,
   "metadata": {
    "collapsed": true
   },
   "outputs": [],
   "source": []
  }
 ],
 "metadata": {
  "kernelspec": {
   "display_name": "Python 2",
   "language": "python",
   "name": "python2"
  },
  "language_info": {
   "codemirror_mode": {
    "name": "ipython",
    "version": 2
   },
   "file_extension": ".py",
   "mimetype": "text/x-python",
   "name": "python",
   "nbconvert_exporter": "python",
   "pygments_lexer": "ipython2",
   "version": "2.7.10"
  }
 },
 "nbformat": 4,
 "nbformat_minor": 0
}
