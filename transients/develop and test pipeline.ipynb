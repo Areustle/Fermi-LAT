{
 "cells": [
  {
   "cell_type": "markdown",
   "metadata": {},
   "source": [
    "## Develop Pipeline for monthly processing\n",
    "\n",
    "For month_nn_, where _nn_=1..72. Steps are:\n",
    "1. chdir to, creating if necessary, a folder month_nn_ under folder P301\\_monthly, which contains the basic config.txt file. \n",
    "   \n",
    "2. run the stage \"monthly\": this creates the model from the 6-year version, fixing the spectral shape for all the 6-year sources, then runs the stage \"addseeds\\_pgw\".\n",
    " * initializes process.Process with the flag fix_spectrum_flag=True. All sources that have TS>5 are saved with a flag fixed_spectrum set, which should prevent the sources from being refit, except for normalization, or moved.\n",
    "\n",
    "  * need to start update_seeds, but currently need the plots seedcheck.\n",
    "\n",
    "3. addseeds_pgw will incorporate successful seeds -- this triggers a full iteration cycle ending with \"finish_month\"\n",
    "\n",
    "4. run the stage \"tables\". This makes nside=512 TS and kde tables for the sky. The \"check_jobs\" process runs a clustering analysis for the part of the sky not masked by the path of the Sun, creating a file seeds_ts.txt. The stage is followed by a \"addseeds_ts\". This adds the successful seeds from the TS map analysis. also triggers an iteration cycle, ending with \"finish_month\"\n",
    "\n"
   ]
  },
  {
   "cell_type": "code",
   "execution_count": 39,
   "metadata": {
    "collapsed": false
   },
   "outputs": [],
   "source": [
    "%matplotlib inline\n",
    "month=6\n",
    "path=os.path.expandvars('$FERMI/skymodels/P301_monthly/month%02d'%month)\n",
    "if not os.path.exists(path): \n",
    "    os.makedirs(path)\n",
    "    print 'created %s' %path\n",
    "os.chdir(path)\n",
    "from uw.like2 import process; reload(process)\n",
    "map(reload, (process,));"
   ]
  },
  {
   "cell_type": "markdown",
   "metadata": {},
   "source": [
    "## Document the relevant stages\n",
    "A dict in pipeline.stagdict defines behavior"
   ]
  },
  {
   "cell_type": "code",
   "execution_count": 1,
   "metadata": {
    "collapsed": false
   },
   "outputs": [
    {
     "data": {
      "text/html": [
       "<div style=\"max-height:1000px;max-width:1500px;overflow:auto;\">\n",
       "<table border=\"1\" class=\"dataframe\">\n",
       "  <thead>\n",
       "    <tr style=\"text-align: right;\">\n",
       "      <th></th>\n",
       "      <th>next</th>\n",
       "      <th>sum</th>\n",
       "      <th>help</th>\n",
       "    </tr>\n",
       "  </thead>\n",
       "  <tbody>\n",
       "    <tr>\n",
       "      <th>monthly</th>\n",
       "      <td> addseeds_pgw</td>\n",
       "      <td> menu config counts</td>\n",
       "      <td> create a monthly model; followed by adding PGW...</td>\n",
       "    </tr>\n",
       "    <tr>\n",
       "      <th>addseeds_pgw</th>\n",
       "      <td>  update_full</td>\n",
       "      <td>      config counts</td>\n",
       "      <td>              start update sequence with PGW seeds</td>\n",
       "    </tr>\n",
       "    <tr>\n",
       "      <th>finish_month</th>\n",
       "      <td>         None</td>\n",
       "      <td>      transientinfo</td>\n",
       "      <td>                      plots for monthly transients</td>\n",
       "    </tr>\n",
       "    <tr>\n",
       "      <th>tables</th>\n",
       "      <td>  addseeds_ts</td>\n",
       "      <td>           hptables</td>\n",
       "      <td>                         Create tsmap and kde maps</td>\n",
       "    </tr>\n",
       "    <tr>\n",
       "      <th>addseeds_ts</th>\n",
       "      <td>  update_full</td>\n",
       "      <td>      config counts</td>\n",
       "      <td>          start update sequence with TS maap seeds</td>\n",
       "    </tr>\n",
       "  </tbody>\n",
       "</table>\n",
       "</div>"
      ],
      "text/plain": [
       "                      next                 sum                                               help\n",
       "monthly       addseeds_pgw  menu config counts  create a monthly model; followed by adding PGW...\n",
       "addseeds_pgw   update_full       config counts               start update sequence with PGW seeds\n",
       "finish_month          None       transientinfo                       plots for monthly transients\n",
       "tables         addseeds_ts            hptables                          Create tsmap and kde maps\n",
       "addseeds_ts    update_full       config counts           start update sequence with TS maap seeds"
      ]
     },
     "execution_count": 1,
     "metadata": {},
     "output_type": "execute_result"
    }
   ],
   "source": [
    "from uw.like2.pipeline import stagedict; reload(stagedict);\n",
    "stagenames =stagedict.stagenames\n",
    "t=pd.DataFrame(stagenames)\n",
    "t['monthly addseeds_pgw  finish_month tables addseeds_ts'.split()].T['next sum help'.split()]"
   ]
  },
  {
   "cell_type": "markdown",
   "metadata": {},
   "source": [
    "### Test code for creating a new monthly model"
   ]
  },
  {
   "cell_type": "code",
   "execution_count": 41,
   "metadata": {
    "collapsed": false
   },
   "outputs": [
    {
     "name": "stdout",
     "output_type": "stream",
     "text": [
      "invoking Data.setPhotonBinner for front/back event types...\n",
      "Failed gti check:\n",
      "  ltcube: Gti: 462 intervals from 252480000 to 255110000, on time 2192898 \n",
      " binfile: Gti: 469 intervals from 252480028 to 255109993, on time 2192653\n"
     ]
    }
   ],
   "source": [
    "r = process.Process('.', fix_spectra_flag=True, quiet=True)"
   ]
  },
  {
   "cell_type": "code",
   "execution_count": 42,
   "metadata": {
    "collapsed": false
   },
   "outputs": [
    {
     "name": "stdout",
     "output_type": "stream",
     "text": [
      "86 total sources: 0 extended, 3 global\n"
     ]
    }
   ],
   "source": [
    "r.setup_roi(1154)"
   ]
  },
  {
   "cell_type": "code",
   "execution_count": 43,
   "metadata": {
    "collapsed": false
   },
   "outputs": [
    {
     "name": "stdout",
     "output_type": "stream",
     "text": [
      "================================================================================\n",
      "2015-08-06 16:34:27 - HP12_1154 - interactive\n",
      "------------------------------------------------------------------------------------------ \n",
      "\t Nearby sources within 5.0 degrees before fit, logL=-4258\n",
      "name               dist        ra       dec        TS eflux(eV)    index   energy   beta/b\n",
      "S966-2709           2.3    79.479     5.363        -2       1.1*    2.33     1599     0\n",
      "P86Y1183            2.4    80.405     1.061         1       2.0*    1.82     5144     0\n",
      "P86Y1130            2.4    76.738     3.388        -3       2.1*    1.89     4123     0\n",
      "P86Y1164            2.6    78.963     5.655                 0.8     1.73     6800     0\n",
      "P86Y1213            2.8    81.875     3.611                 0.7     1.90     1358     2.07 \n",
      "P86Y1121            3.0    76.400     4.280                 4.6     1.85     4085     0\n",
      "P86Y1143            3.2    77.358     5.700       -43      41.5!    2.09      954     0\n",
      "P86Y1118            3.4    76.338     5.002                19.1     2.23      589     0.13 \n",
      "P86Y1119            4.3    76.361    -0.242                 0.4     1.99     4612     0\n",
      "P86Y1161            4.5    78.892    -1.422                 1.5     1.84     4710     0\n",
      "P86Y1203            4.6    81.471    -0.876                 3.9     2.10     2164     0\n",
      "P86Y1109            4.7    75.609     6.197                 4.0     2.59      784     0\n",
      "------------------------------------------------------------------------------------------ \n",
      "\tDiffuse sources\n",
      "------------------------------------------------------------------------------------------\n",
      "ring                        1.00       0.00 \n",
      "isotrop                     1.00 \n",
      "SunMoon                     1.00 \n",
      "------------------------------------------------------------------------------------------\n",
      "Minimizer warning: bad errors for values ['P86Y1143_Norm']\n",
      "4 calls, function value, improvement, quality: -4234.4, 24.09, 0.01\n",
      "Name                  index     value  error(%)  gradient\n",
      "P86Y1130_Norm             0     1e-16    1533.2       0.0\n",
      "P86Y1183_Norm             1  2.66e-14     121.2       0.2\n",
      "S966-2709_Norm            2 1.403e-16    3478.1       0.0\n",
      "P86Y1143_Norm             3 1.036e-16       ***      -0.0\n",
      "Retrying bad fits, reset \n",
      "3 3 -15.9844607939 --> -13\n",
      "Failed log likelihood estimate, returning 99.: \n",
      "16 calls, function value, improvement, quality: -4229.2, 5.22, 0.00\n",
      "Name                  index     value  error(%)  gradient\n",
      "P86Y1143_Norm             3 9.292e-13      75.2       0.0\n",
      "Fit failure: check parameters\n",
      "Fit Failure Fit failure:\n",
      "{'warnflag': 2, 'task': 'ABNORMAL_TERMINATION_IN_LNSRCH', 'grad': array([ 0.01994529,  0.23796074,  0.00405266,  0.02141864]), 'nit': 0, 'funcalls': 21}: quality: 0.01\n",
      "Name                  index     value  error(%)  gradient\n",
      "P86Y1130_Norm             0     1e-16    1533.2       0.0\n",
      "P86Y1183_Norm             1  2.66e-14     121.2       0.2\n",
      "S966-2709_Norm            2 1.403e-16    3478.1       0.0\n",
      "P86Y1143_Norm             3 9.292e-13      75.2       0.0\n",
      "------------------------------------------------------------------------------------------ \n",
      "\t Nearby sources within 5.0 degrees after global fit, logL=-4229, change=29.3\n",
      "name               dist        ra       dec        TS eflux(eV)    index   energy   beta/b\n",
      "S966-2709           2.3    79.479     5.363        -0       0.0*    2.33     1599     0\n",
      "P86Y1183            2.4    80.405     1.061         2       4.8*    1.82     5144     0\n",
      "P86Y1130            2.4    76.738     3.388         0       0.0*    1.89     4123     0\n",
      "P86Y1164            2.6    78.963     5.655                 0.8     1.73     6800     0\n",
      "P86Y1213            2.8    81.875     3.611                 0.7     1.90     1358     2.07 \n",
      "P86Y1121            3.0    76.400     4.280                 4.6     1.85     4085     0\n",
      "P86Y1143            3.2    77.358     5.700        10       5.3*    2.09      954     0\n",
      "P86Y1118            3.4    76.338     5.002                19.1     2.23      589     0.13 \n",
      "P86Y1119            4.3    76.361    -0.242                 0.4     1.99     4612     0\n",
      "P86Y1161            4.5    78.892    -1.422                 1.5     1.84     4710     0\n",
      "P86Y1203            4.6    81.471    -0.876                 3.9     2.10     2164     0\n",
      "P86Y1109            4.7    75.609     6.197                 4.0     2.59      784     0\n",
      "------------------------------------------------------------------------------------------ \n",
      "\tDiffuse sources\n",
      "------------------------------------------------------------------------------------------\n",
      "ring                        1.00       0.00 \n",
      "isotrop                     1.00 \n",
      "SunMoon                     1.00 \n",
      "------------------------------------------------------------------------------------------\n",
      "-------- analyzing counts histogram,  chisquared: 20.8 ----\n",
      "Not saving source P86Y1130: ts=0.0 < 5.0\n",
      "Not saving source P86Y1183: ts=1.8 < 5.0\n",
      "Not saving source S966-2709: ts=-0.0 < 5.0\n",
      "saved pickle file to ./pickle/HP12_1154.pickle\n"
     ]
    }
   ],
   "source": [
    "r.process()"
   ]
  },
  {
   "cell_type": "markdown",
   "metadata": {},
   "source": [
    "##Test code for checking the PGWAVE seeds\n",
    "This is against the current sky model. This ROI was just fit above, adjusting the 6-year spectral normalizations in the ROI. (Adjacent ROI's were not adjusted in this test.)"
   ]
  },
  {
   "cell_type": "code",
   "execution_count": 60,
   "metadata": {
    "collapsed": false
   },
   "outputs": [
    {
     "name": "stdout",
     "output_type": "stream",
     "text": [
      "invoking Data.setPhotonBinner for front/back event types...\n",
      "Failed gti check:\n",
      "  ltcube: Gti: 458 intervals from 255110000 to 257740000, on time 2129642 \n",
      " binfile: Gti: 465 intervals from 255110023 to 257739971, on time 2129380\n"
     ]
    }
   ],
   "source": [
    "from uw.like2 import (process,seeds,); map(reload,(process,seeds,))\n",
    "r = process.Process('.', seed_key='pgw', quiet=True)"
   ]
  },
  {
   "cell_type": "code",
   "execution_count": 61,
   "metadata": {
    "collapsed": false
   },
   "outputs": [
    {
     "name": "stdout",
     "output_type": "stream",
     "text": [
      "71 total sources: 3 extended, 3 global\n"
     ]
    }
   ],
   "source": [
    "r.setup_roi(840)"
   ]
  },
  {
   "cell_type": "code",
   "execution_count": 62,
   "metadata": {
    "collapsed": true
   },
   "outputs": [
    {
     "name": "stdout",
     "output_type": "stream",
     "text": [
      "================================================================================\n",
      "2015-08-04 12:57:21 - HP12_0840 - interactive\n",
      "added PGW_07_104_06 at SkyDir(270.220,-23.041)\n",
      "added PGW_07_104_09 at SkyDir(270.192,-23.594)\n",
      "added PGW_07_104_10 at SkyDir(269.661,-24.458)\n",
      "added PGW_07_104_14 at SkyDir(268.470,-25.840)\n",
      "added PGW_07_104_15 at SkyDir(267.199,-27.764)\n",
      "added PGW_07_072_02 at SkyDir(270.028,-23.510)\n",
      "added PGW_07_072_03 at SkyDir(269.479,-24.365)\n",
      "added PGW_07_072_04 at SkyDir(268.645,-25.645)\n",
      "added PGW_07_088_07 at SkyDir(270.140,-23.507)\n",
      "added PGW_07_088_10 at SkyDir(269.696,-24.712)\n",
      "added PGW_07_088_11 at SkyDir(268.627,-25.879)\n",
      "added PGW_07_088_14 at SkyDir(267.779,-27.164)\n",
      "added PGW_07_088_17 at SkyDir(269.045,-25.235)\n",
      "Minimizer warning: bad errors for values ['PGW_07_088_11_Norm']\n",
      "35 calls, function value, improvement, quality: 6342.0, 18.34, 0.00\n",
      "Name                  index     value  error(%)  gradient\n",
      "PGW_07_104_06_Norm        8 7.583e-12      73.2       0.0\n",
      "PGW_07_104_09_Norm       10 5.573e-12      99.1       0.0\n",
      "PGW_07_104_10_Norm       12 5.462e-15    3274.8       0.0\n",
      "PGW_07_104_14_Norm       14 5.106e-12      83.0       0.0\n",
      "PGW_07_104_15_Norm       16 1.492e-11      38.0       0.0\n",
      "PGW_07_072_02_Norm       18 4.907e-16   11449.2       0.0\n",
      "PGW_07_072_03_Norm       20 1.354e-14    7227.3       0.0\n",
      "PGW_07_072_04_Norm       22     1e-16   47878.3       0.0\n",
      "PGW_07_088_07_Norm       24     1e-16   32619.4       0.0\n",
      "PGW_07_088_10_Norm       26 5.821e-15    3268.8       0.0\n",
      "PGW_07_088_11_Norm       28 2.657e-14       ***      -0.0\n",
      "PGW_07_088_14_Norm       30 9.424e-16   10662.1       0.0\n",
      "PGW_07_088_17_Norm       32 4.783e-15    5168.7       0.0\n",
      "TS values\n",
      "PGW_07_104_06   5.3  OK\n",
      "PGW_07_104_09   3.0  <-- remove\n",
      "PGW_07_104_10  -0.0  <-- remove\n",
      "PGW_07_104_14   3.9  <-- remove\n",
      "PGW_07_104_15  19.5  OK\n",
      "PGW_07_072_02   0.0  <-- remove\n",
      "PGW_07_072_03   0.0  <-- remove\n",
      "PGW_07_072_04   0.0  <-- remove\n",
      "PGW_07_088_07   0.0  <-- remove\n",
      "PGW_07_088_10  -0.0  <-- remove\n",
      "PGW_07_088_11   0.0  <-- remove\n",
      "PGW_07_088_14  -0.0  <-- remove\n",
      "PGW_07_088_17   0.0  <-- remove\n",
      "13 calls, function value, improvement, quality: 6342.0, 3.53, 0.00\n",
      "Name                  index     value  error(%)  gradient\n",
      "PGW_07_104_06_Norm        8  8.91e-12      60.9       0.1\n",
      "             _Index       9     2.724      13.6       0.0\n",
      "  TS = 16.7\n",
      "\n",
      "check need to repivot sources with TS>10, beta<3.0: \n",
      "source                     TS        e0      pivot\n",
      "processing 1 sources\n",
      "PGW_07_104_06              17      1000       263  will refit\n",
      "18 calls, function value, improvement, quality: 6373.5, 31.53, 0.00\n",
      "Name                  index     value  error(%)  gradient\n",
      "P86Y4060_Norm             0 4.316e-12      32.5      -0.0\n",
      "P86Y4078_Norm             1 5.681e-12      42.8       0.0\n",
      "P86Y4069_Norm             2 1.694e-11      20.1      -0.0\n",
      "P86Y4082_Norm             3 1.239e-12      63.4      -0.0\n",
      "PSR J1801-2451_Norm       4 1.382e-15    3474.9       0.0\n",
      "P86Y4073_Norm             5 7.897e-12      26.2      -0.1\n",
      "W28_Norm                  6 4.055e-11      18.4       0.2\n",
      "S966-1817_Norm            7 3.602e-13      39.8       0.0\n",
      "PGW_07_104_06_Norm        8 3.164e-10      57.2       0.0\n",
      "             _Index       9     2.589      12.0      -0.1\n",
      "PGW_07_104_15_Norm       10 5.088e-12      91.0      -0.0\n",
      "             _Index      11     3.155      15.0      -0.0\n",
      "Failed localization for source PGW_07_104_06: Poorly formed quadratic form\n",
      "--> removing \tname  : PGW_07_104_06\n",
      "\tskydir: SkyDir(270.220,-23.041)\n",
      "\tmodel : LogParabola\n",
      "\t\tNorm      : (1 + 0.772 - 0.436) (avg = 0.580) 3.16e-10   \n",
      "\t\tIndex     : (1 + 0.120 - 0.120) (avg = 0.120) 2.59       \n",
      "\t\tbeta      : (1 + 0.000 - 0.000) (avg = 0.000) 0          (FROZEN)\n",
      "\t\tE_break   : (1 + 0.000 - 0.000) (avg = 0.000) 263        (FROZEN)\n",
      "\t\tPh. Flux  : (1 + 0.807 - 0.447) (avg = 0.601) 2.44e-07   (DERIVED)\n",
      "\t\tEn. Flux  : (1 + 0.800 - 0.444) (avg = 0.596) 1.05e-10   (DERIVED) since did not localize\n",
      "8 calls, function value, improvement, quality: 6366.0, 0.11, 0.00\n",
      "Name                  index     value  error(%)  gradient\n",
      "PGW_07_104_15_Norm        8 5.439e-12      80.9       0.2\n",
      "             _Index       9     3.175      13.6      -0.1\n",
      "  TS = 25.9\n",
      "\n",
      "check need to repivot sources with TS>10, beta<3.0: \n",
      "source                     TS        e0      pivot\n",
      "processing 1 sources\n",
      "PGW_07_104_15              26      1000       174  pivot energy, not in range (200, 20000): setting to limit\n",
      "will refit\n",
      "11 calls, function value, improvement, quality: 6370.4, 4.46, 0.00\n",
      "Name                  index     value  error(%)  gradient\n",
      "P86Y4060_Norm             0 4.519e-12      31.0      -0.0\n",
      "P86Y4078_Norm             1 5.653e-12      42.8       0.1\n",
      "P86Y4069_Norm             2 1.691e-11      20.1       0.1\n",
      "P86Y4082_Norm             3 1.242e-12      63.3       0.0\n",
      "PSR J1801-2451_Norm       4 1.381e-15    3422.2       0.0\n",
      "P86Y4073_Norm             5 7.891e-12      26.2       0.1\n",
      "W28_Norm                  6 5.055e-11      10.3      -0.2\n",
      "S966-1817_Norm            7 3.344e-13      41.9      -0.1\n",
      "PGW_07_104_15_Norm        8 8.368e-10      35.7       0.1\n",
      "             _Index       9     3.172      14.9       0.0\n",
      "Localizing source PGW_07_104_15, tolerance=1.0e-04...\n",
      "\t     moved     delta        ra       dec         a         b      qual\n",
      "\t    0.0000    0.0000  267.1989  -27.7637\n",
      "\t   49.7941   49.7941  238.8903  -75.5458   28.1776    2.6979   17.6804\n",
      "trying a recenter...\n",
      "trying a recenter...\n",
      "trying a recenter...\n",
      "trying a recenter...\n",
      "trying a recenter...\n",
      "trying a recenter...\n",
      "trying a recenter...\n",
      "trying a recenter...\n",
      "trying a recenter...\n",
      "trying a recenter...\n",
      "trying a recenter...\n",
      "trying a recenter...\n",
      "trying a recenter...\n",
      "trying a recenter...\n",
      "trying a recenter...\n",
      "TS change: -22.44\n",
      "--> removing \tname  : PGW_07_104_15\n",
      "\tskydir: SkyDir(238.890,-75.546)\n",
      "\tmodel : LogParabola\n",
      "\t\tNorm      : (1 + 0.428 - 0.300) (avg = 0.358) 8.37e-10   \n",
      "\t\tIndex     : (1 + 0.149 - 0.149) (avg = 0.149) 3.17       \n",
      "\t\tbeta      : (1 + 0.000 - 0.000) (avg = 0.000) 0          (FROZEN)\n",
      "\t\tE_break   : (1 + 0.000 - 0.000) (avg = 0.000) 200        (FROZEN)\n",
      "\t\tPh. Flux  : (1 + 0.418 - 0.295) (avg = 0.351) 3.47e-07   (DERIVED)\n",
      "\t\tEn. Flux  : (1 + 0.463 - 0.316) (avg = 0.383) 1.03e-10   (DERIVED) since did not localize\n"
     ]
    }
   ],
   "source": [
    "r.process()"
   ]
  },
  {
   "cell_type": "code",
   "execution_count": 63,
   "metadata": {
    "collapsed": true
   },
   "outputs": [],
   "source": [
    "r.get_sed?"
   ]
  },
  {
   "cell_type": "markdown",
   "metadata": {},
   "source": [
    "## Seed finding after stage \"tables\" \n",
    "The \"tables\" stage triggers a analyze.hptables  run, that executes HPtables.make_seeds(), which in turn runs pipeline.check_ts.make_seeds(). [A little awkward.]\n",
    "I need to introduce a filter in make_seeds to ignore the path of the Sun for that month.\n",
    "\n",
    "See [monthly Sun position](monthly Sun position.ipynb), which generated the file \\$FERMI/ecliptic\\_512.pickle with the ecliptic tuple for each position index in nside=512 (RING as usual). \n",
    "\n",
    "Also see the file \\$FERMI/skymodels/P301\\_monthly/month\\_info.csv, which has info for each month."
   ]
  },
  {
   "cell_type": "code",
   "execution_count": 57,
   "metadata": {
    "collapsed": false
   },
   "outputs": [
    {
     "data": {
      "text/plain": [
       "filename    ltcube_014_zmax100.fits\n",
       "tstart                   2.7352e+08\n",
       "tstop                    2.7615e+08\n",
       "sun_ra                      160.867\n",
       "sun_dec                    8.087439\n",
       "sun_elon                    159.287\n",
       "Name: 14, dtype: object"
      ]
     },
     "execution_count": 57,
     "metadata": {},
     "output_type": "execute_result"
    }
   ],
   "source": [
    "info = pd.read_csv(open(os.path.expandvars('$FERMI/skymodels/P301_monthly/month_info.csv')),index_col=0)\n",
    "info.ix[14]"
   ]
  },
  {
   "cell_type": "markdown",
   "metadata": {},
   "source": [
    "The sun\\_ values for for the start of the period. Develop the following function to return a mask. See [Test tables, seed finding](Test tables, seed finding.ipynb)"
   ]
  },
  {
   "cell_type": "code",
   "execution_count": 71,
   "metadata": {
    "collapsed": false
   },
   "outputs": [
    {
     "data": {
      "text/plain": [
       "20375"
      ]
     },
     "execution_count": 71,
     "metadata": {},
     "output_type": "execute_result"
    }
   ],
   "source": [
    "import pickle\n",
    "def monthly_ecliptic_mask( month, elat_max=5):\n",
    "    \"\"\"return a nside=512 mask for the given month, an integer starting at 1\"\"\"\n",
    "    info = pd.read_csv(open(os.path.expandvars(\n",
    "                '$FERMI/skymodels/P301_monthly/month_info.csv')),index_col=0)\n",
    "    ecliptic_info= pickle.load(open(os.path.expandvars('$FERMI/misc/ecliptic_512.pickle')))\n",
    "    elon_vec = ecliptic_info[:,0]\n",
    "    elat_mask = np.abs(ecliptic_info[:,1])<5\n",
    "    elon_min = info.sun_elon[month]\n",
    "    try:\n",
    "        elon_max = info.sun_elon[month+1]\n",
    "    except:\n",
    "        elon_max = elon_min+30\n",
    "    if elon_min< elon_max:\n",
    "        elon_mask = (elon_vec>elon_min) & (elon_vec<elon_max)\n",
    "    else:\n",
    "        elon_mask = (elon_vec>elon_min) | (elon_vec<elon_max)\n",
    "                                        \n",
    "    return elat_mask & elon_mask\n",
    "e_mask=monthly_ecliptic_mask(1); sum(e_mask)"
   ]
  },
  {
   "cell_type": "code",
   "execution_count": 72,
   "metadata": {
    "collapsed": false
   },
   "outputs": [
    {
     "data": {
      "text/plain": [
       "<uw.utilities.image.AIT at 0x7f507d6676d0>"
      ]
     },
     "execution_count": 72,
     "metadata": {},
     "output_type": "execute_result"
    },
    {
     "data": {
      "image/png": "[encoded data removed]",
      "text/plain": [
       "<matplotlib.figure.Figure at 0x7f507c227d10>"
      ]
     },
     "metadata": {},
     "output_type": "display_data"
    }
   ],
   "source": [
    "from uw.like2.pub import healpix_map;\n",
    "mask_check = healpix_map.HParray('mask_check', e_mask)\n",
    "mask_check.plot()"
   ]
  },
  {
   "cell_type": "code",
   "execution_count": 73,
   "metadata": {
    "collapsed": false
   },
   "outputs": [
    {
     "data": {
      "text/plain": [
       "23070"
      ]
     },
     "execution_count": 73,
     "metadata": {},
     "output_type": "execute_result"
    }
   ],
   "source": [
    "e_mask=monthly_ecliptic_mask(8); sum(e_mask)"
   ]
  },
  {
   "cell_type": "code",
   "execution_count": 74,
   "metadata": {
    "collapsed": false
   },
   "outputs": [
    {
     "data": {
      "text/plain": [
       "<uw.utilities.image.AIT at 0x7f509f4e0290>"
      ]
     },
     "execution_count": 74,
     "metadata": {},
     "output_type": "execute_result"
    },
    {
     "data": {
      "image/png": "[encoded data removed]",
      "text/plain": [
       "<matplotlib.figure.Figure at 0x7f507c2dd490>"
      ]
     },
     "metadata": {},
     "output_type": "display_data"
    }
   ],
   "source": [
    "healpix_map.HParray('mask2_check', e_mask).plot()"
   ]
  },
  {
   "cell_type": "markdown",
   "metadata": {},
   "source": [
    "##Add the TS map seeds"
   ]
  },
  {
   "cell_type": "code",
   "execution_count": 3,
   "metadata": {
    "collapsed": false
   },
   "outputs": [],
   "source": [
    "assert os.path.exists('hptables_ts_kde_512.fits')\n",
    "assert os.path.exists('seeds_ts.txt')"
   ]
  },
  {
   "cell_type": "code",
   "execution_count": 5,
   "metadata": {
    "collapsed": false
   },
   "outputs": [
    {
     "name": "stdout",
     "output_type": "stream",
     "text": [
      "invoking Data.setPhotonBinner for front/back event types...\n",
      "Failed gti check:\n",
      "  ltcube: Gti: 458 intervals from 255110000 to 257740000, on time 2129642 \n",
      " binfile: Gti: 465 intervals from 255110023 to 257739971, on time 2129380\n"
     ]
    }
   ],
   "source": [
    "from uw.like2 import process; reload(process)\n",
    "r = process.Process('.', seed_key='ts' ,quiet=True)"
   ]
  },
  {
   "cell_type": "code",
   "execution_count": 16,
   "metadata": {
    "collapsed": false
   },
   "outputs": [
    {
     "name": "stdout",
     "output_type": "stream",
     "text": [
      "WARNING: there are no free parameters\n",
      "25 total sources: 0 extended, 3 global\n"
     ]
    }
   ],
   "source": [
    "r.setup_roi(174)"
   ]
  },
  {
   "cell_type": "code",
   "execution_count": 17,
   "metadata": {
    "collapsed": false
   },
   "outputs": [
    {
     "name": "stdout",
     "output_type": "stream",
     "text": [
      "No parameters to fit\n"
     ]
    }
   ],
   "source": [
    "r.summarize()"
   ]
  },
  {
   "cell_type": "code",
   "execution_count": 18,
   "metadata": {
    "collapsed": false,
    "scrolled": true
   },
   "outputs": [
    {
     "name": "stdout",
     "output_type": "stream",
     "text": [
      "================================================================================\n",
      "2015-08-05 08:30:13 - HP12_0174 - interactive\n",
      "added Sh07-0037 at SkyDir(194.148,-5.820)\n",
      "added Sh07-0078 at SkyDir(194.079,-11.718)\n",
      "added Sh07-1169 at SkyDir(194.147,-5.819)\n",
      "35 calls, function value, improvement, quality: -3324.3, 3137.17, 0.03\n",
      "Name                  index     value  error(%)  gradient\n",
      "Sh07-0037_Norm            0 8.779e-12     254.8       0.7\n",
      "Sh07-0078_Norm            2 5.275e-13     109.7       0.0\n",
      "Sh07-1169_Norm            4 8.403e-11      26.9       3.7\n",
      "TS values\n",
      "Sh07-0037  14.9  OK\n",
      "Sh07-0078   3.4  <-- remove\n",
      "Sh07-1169 3293.2  OK\n",
      "9 calls, function value, improvement, quality: -3325.8, 0.23, 0.00\n",
      "Name                  index     value  error(%)  gradient\n",
      "Sh07-0037_Norm            0 9.269e-12      41.4       0.0\n",
      "         _Index           1     2.132       9.6      -0.0\n",
      "  TS = 15.6\n",
      "\n",
      "check need to repivot sources with TS>10, beta<3.0: \n",
      "source                     TS        e0      pivot\n",
      "processing 1 sources\n",
      "Sh07-0037                  16      1000       442  will refit\n",
      "21 calls, function value, improvement, quality: -3325.3, 0.48, 0.11\n",
      "Name                  index     value  error(%)  gradient\n",
      "Sh07-0037_Norm            0 5.281e-11     803.2       0.6\n",
      "         _Index           1     2.132      32.4      -2.9\n",
      "Sh07-1169_Norm            2 8.592e-11      80.7       1.0\n",
      "         _Index           3     2.177       2.4     -11.0\n",
      "Localizing source Sh07-0037, tolerance=1.0e-04...\n",
      "\t     moved     delta        ra       dec         a         b      qual\n",
      "\t    0.0000    0.0000  194.1480   -5.8200\n",
      "\t    0.2389    0.2389  193.9159   -5.7590    0.0255    0.0245   12.5840\n",
      "\t    0.0066    0.2365  193.9167   -5.7656    0.0681    0.0474   24.5833\n",
      "\t    0.0251    0.2616  193.8917   -5.7615    0.0433    0.0349   10.7574\n",
      "\t    0.0216    0.2401  193.9134   -5.7637    0.1214    0.0608   64.8457\n",
      "\t    0.0463    0.2864  193.8676   -5.7555    0.0329    0.0292   16.7537\n",
      "\t    1.3470    1.0639  195.2159   -5.8785    1.2646    0.1498   93.2882\n",
      "\t -attempt to move beyond maxdist=1.0\n",
      "TS change: -52.09\n",
      "--> removing \tname  : Sh07-0037\n",
      "\tskydir: SkyDir(195.216,-5.878)\n",
      "\tmodel : LogParabola\n",
      "\t\tNorm      : (1 + 0.000 - 0.000) (avg = 0.000) 5.28e-11   (Failed fit)\n",
      "\t\tIndex     : (1 + 0.324 - 0.324) (avg = 0.324) 2.13       \n",
      "\t\tbeta      : (1 + 0.000 - 0.000) (avg = 0.000) 0          (FROZEN)\n",
      "\t\tE_break   : (1 + 0.000 - 0.000) (avg = 0.000) 442        (FROZEN)\n",
      "\t\tPh. Flux  : (1 + 0.000 - 0.000) (avg = 0.000) 1.11e-07   (Failed fit)\n",
      "\t\tEn. Flux  : (1 + 0.000 - 0.000) (avg = 0.000) 9.95e-11   (Failed fit) since did not localize\n",
      "10 calls, function value, improvement, quality: -3325.2, 7.52, 0.00\n",
      "Name                  index     value  error(%)  gradient\n",
      "Sh07-1169_Norm            0 9.445e-11       4.8       0.0\n",
      "         _Index           1     2.181       1.5      -0.0\n",
      "  TS = 6302.6\n",
      "\n",
      "check need to repivot sources with TS>10, beta<3.0: \n",
      "source                     TS        e0      pivot\n",
      "processing 1 sources\n",
      "Sh07-1169                6303      1000       394  will refit\n",
      "Fit failure: check parameters\n",
      "Fit Failure Fit failure:\n",
      "{'warnflag': 2, 'task': 'ABNORMAL_TERMINATION_IN_LNSRCH', 'grad': array([ 0.00163512, -0.00071152]), 'nit': 0, 'funcalls': 21}: quality: 0.00\n",
      "Name                  index     value  error(%)  gradient\n",
      "Sh07-1169_Norm            0 7.192e-10       4.8       0.0\n",
      "         _Index           1     2.181       1.5      -0.0\n",
      "Localizing source Sh07-1169, tolerance=1.0e-04...\n",
      "\t     moved     delta        ra       dec         a         b      qual\n",
      "\t    0.0000    0.0000  194.1470   -5.8190\n",
      "\t    0.1552    0.1552  193.9985   -5.7716    0.0031    0.0026   18.9672\n",
      "\t    0.0379    0.1173  194.0344   -5.7842    0.0081    0.0079    5.3918\n",
      "\t    0.0007    0.1179  194.0339   -5.7837    0.0095    0.0091    0.8236\n",
      "\t    0.0000    0.1179  194.0339   -5.7837    0.0097    0.0094    0.0822\n",
      "\t    0.0000    0.1179  194.0339   -5.7837    0.0097    0.0094    0.0805\n",
      "TS change: 138.54\n",
      "Not fitting, estimated improvement, 0.00, is less than tolerance= 0.2\n",
      "------------------------------------------------------------------------------------------ \n",
      "\t Nearby sources within 5.0 degrees before fit, logL=-3325\n",
      "name               dist        ra       dec        TS eflux(eV)    index   energy   beta/b\n",
      "Sh07-1169           2.7   194.034    -5.784      6303     564.9!    2.18!     394     0\n",
      "P86Y2971            4.9   197.571   -11.979                 4.2     1.87     3562     0\n",
      "------------------------------------------------------------------------------------------ \n",
      "\tDiffuse sources\n",
      "------------------------------------------------------------------------------------------\n",
      "ring                        1.00       0.00 \n",
      "isotrop                     1.00 \n",
      "SunMoon                     1.00 \n",
      "------------------------------------------------------------------------------------------\n",
      "Fit failure: check parameters\n",
      "Fit Failure Fit failure:\n",
      "{'warnflag': 2, 'task': 'ABNORMAL_TERMINATION_IN_LNSRCH', 'grad': array([ 0.00163512, -0.00071152]), 'nit': 0, 'funcalls': 21}: quality: 0.00\n",
      "Name                  index     value  error(%)  gradient\n",
      "Sh07-1169_Norm            0 7.192e-10       4.8       0.0\n",
      "         _Index           1     2.181       1.5      -0.0\n",
      "-------- analyzing counts histogram,  chisquared: 15.2 ----\n",
      "saved pickle file to ./pickle/HP12_0174.pickle\n"
     ]
    }
   ],
   "source": [
    "from uw.like2 import seeds; reload(seeds)\n",
    "t =seeds.read_seedfile('ts')\n",
    "r.process()"
   ]
  },
  {
   "cell_type": "code",
   "execution_count": 20,
   "metadata": {
    "collapsed": false
   },
   "outputs": [
    {
     "name": "stdout",
     "output_type": "stream",
     "text": [
      "------------------------------------------------------------------------------------------ \n",
      "\t Nearby sources within 5.0 degrees HP12_0174\n",
      "name               dist        ra       dec        TS eflux(eV)    index   energy   beta/b\n",
      "Sh07-1169           2.7   194.034    -5.784      6303     564.9!    2.18!     394     0\n",
      "P86Y2971            4.9   197.571   -11.979                 4.2     1.87     3562     0\n",
      "------------------------------------------------------------------------------------------ \n",
      "\tDiffuse sources\n",
      "------------------------------------------------------------------------------------------\n",
      "ring                        1.00       0.00 \n",
      "isotrop                     1.00 \n",
      "SunMoon                     1.00 \n",
      "------------------------------------------------------------------------------------------\n"
     ]
    }
   ],
   "source": [
    "r.print_summary()"
   ]
  },
  {
   "cell_type": "code",
   "execution_count": 10,
   "metadata": {
    "collapsed": false
   },
   "outputs": [
    {
     "data": {
      "text/plain": [
       "array(['P86Y1534', 'Sh01-0299', 'PGW_01_047_01'], \n",
       "      dtype='|S13')"
      ]
     },
     "execution_count": 10,
     "metadata": {},
     "output_type": "execute_result"
    }
   ],
   "source": [
    "freenames = np.array([ s.name for s  in r.free_sources])\n",
    "freenames"
   ]
  }
 ],
 "metadata": {
  "kernelspec": {
   "display_name": "Python 2",
   "language": "python",
   "name": "python2"
  },
  "language_info": {
   "codemirror_mode": {
    "name": "ipython",
    "version": 2
   },
   "file_extension": ".py",
   "mimetype": "text/x-python",
   "name": "python",
   "nbconvert_exporter": "python",
   "pygments_lexer": "ipython2",
   "version": "2.7.10"
  }
 },
 "nbformat": 4,
 "nbformat_minor": 0
}
