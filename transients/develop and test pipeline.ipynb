{
 "cells": [
  {
   "cell_type": "markdown",
   "metadata": {},
   "source": [
    "##Develop Pipeline for monthly processing\n",
    "\n",
    "For month_nn_, where _nn_=1..72. Steps are:\n",
    "1. chdir to, creating if necessary, a folder month_nn_ under folder P301\\_monthly, which contains the basic config.txt file. Copy the appropriate seed\\_pgw_nn_.txt\n",
    "2. run stage monthly: this creates the model from the 6-year version, then runs seedcheck_pgw.\n",
    "Note, need to start update_seeds, but currently need the plots seedcheck \n",
    "4. run update_seeds to incorporate successful seeds -- this triggers a full iteration cycle (but avoid final)\n",
    "5. run tables"
   ]
  },
  {
   "cell_type": "code",
   "execution_count": 34,
   "metadata": {
    "collapsed": true
   },
   "outputs": [],
   "source": [
    "%matplotlib inline\n",
    "os.chdir(os.path.expandvars('$FERMI/skymodels/P301_monthly/month10'))\n",
    "from uw.like2.analyze import (seedcheck, ); \n",
    "from uw.like2 import process; reload(process)\n",
    "map(reload, (seedcheck, process));"
   ]
  },
  {
   "cell_type": "code",
   "execution_count": 35,
   "metadata": {
    "collapsed": false
   },
   "outputs": [
    {
     "name": "stdout",
     "output_type": "stream",
     "text": [
      "invoking Data.setPhotonBinner for front/back event types...\n",
      "processing cuts:  ZENITH_ANGLE zenith_cut\n",
      "ft1_cut DSTYP3: ZENITH_ANGLE\n",
      "DSUNI3: deg\n",
      "DSVAL3: 0:100\n",
      "DSREF3: None\n",
      "processing cuts:  THETA theta_cut\n",
      "ft1_cut None\n",
      "processing cuts:  EVENT_CLASS event_class_cut\n",
      "ft1_cut None\n"
     ]
    }
   ],
   "source": [
    "r = process.Process('.', seed_key='pgw', quiet=True)"
   ]
  },
  {
   "cell_type": "code",
   "execution_count": 41,
   "metadata": {
    "collapsed": false
   },
   "outputs": [
    {
     "name": "stdout",
     "output_type": "stream",
     "text": [
      "WARNING: there are no free parameters\n",
      "20 total sources: 0 extended, 3 global\n"
     ]
    }
   ],
   "source": [
    "r.setup_roi(601)"
   ]
  },
  {
   "cell_type": "code",
   "execution_count": 42,
   "metadata": {
    "collapsed": false
   },
   "outputs": [
    {
     "name": "stdout",
     "output_type": "stream",
     "text": [
      "no seeds in ROI\n"
     ]
    }
   ],
   "source": [
    "reload(process)\n",
    "process.seeds(r, 'pgw')"
   ]
  },
  {
   "cell_type": "code",
   "execution_count": null,
   "metadata": {
    "collapsed": true
   },
   "outputs": [],
   "source": []
  }
 ],
 "metadata": {
  "kernelspec": {
   "display_name": "Python 2",
   "language": "python",
   "name": "python2"
  },
  "language_info": {
   "codemirror_mode": {
    "name": "ipython",
    "version": 2
   },
   "file_extension": ".py",
   "mimetype": "text/x-python",
   "name": "python",
   "nbconvert_exporter": "python",
   "pygments_lexer": "ipython2",
   "version": "2.7.10"
  }
 },
 "nbformat": 4,
 "nbformat_minor": 0
}
