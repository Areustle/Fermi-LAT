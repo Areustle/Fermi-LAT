{
 "cells": [
  {
   "cell_type": "markdown",
   "metadata": {},
   "source": [
    "## Develop Pipeline for monthly processing\n",
    "\n",
    "For month_nn_, where _nn_=1..72. Steps are:\n",
    "1. chdir to, creating if necessary, a folder month_nn_ under folder P301\\_monthly, which contains the basic config.txt file. \n",
    "   \n",
    "2. run the stage \"monthly\": this creates the model from the 6-year version, fixing the spectral shape for all the 6-year sources, then runs the stage \"addseeds\\_pgw\".\n",
    " * initializes process.Process with the flag fix_spectrum_flag=True. All sources that have TS>5 are saved with a flag fixed_spectrum set, which should prevent the sources from being refit, except for normalization, or moved.\n",
    "\n",
    "  * need to start update_seeds, but currently need the plots seedcheck.\n",
    "\n",
    "3. addseeds_pgw will incorporate successful seeds -- this triggers a full iteration cycle ending with \"finish_month\"\n",
    "\n",
    "4. run the stage \"tables\". This makes nside=512 TS and kde tables for the sky. The \"check_jobs\" process runs a clustering analysis for the part of the sky not masked by the path of the Sun, creating a file seeds_ts.txt. The stage is followed by a \"addseeds_ts\". This adds the successful seeds from the TS map analysis. also triggers an iteration cycle, ending with \"finish_month\"\n",
    "\n"
   ]
  },
  {
   "cell_type": "code",
   "execution_count": 7,
   "metadata": {
    "collapsed": false
   },
   "outputs": [],
   "source": [
    "%matplotlib inline\n",
    "month=6\n",
    "path=os.path.expandvars('$FERMI/skymodels/P301_monthly/month%02d'%month)\n",
    "if not os.path.exists(path): \n",
    "    os.makedirs(path)\n",
    "    print 'created %s' %path\n",
    "os.chdir(path)\n",
    "from uw.like2 import process; reload(process)\n",
    "map(reload, (process,));"
   ]
  },
  {
   "cell_type": "markdown",
   "metadata": {},
   "source": [
    "## Document the relevant stages\n",
    "A dict in pipeline.stagdict defines behavior"
   ]
  },
  {
   "cell_type": "code",
   "execution_count": 8,
   "metadata": {
    "collapsed": false
   },
   "outputs": [
    {
     "data": {
      "text/html": [
       "<div style=\"max-height:1000px;max-width:1500px;overflow:auto;\">\n",
       "<table border=\"1\" class=\"dataframe\">\n",
       "  <thead>\n",
       "    <tr style=\"text-align: right;\">\n",
       "      <th></th>\n",
       "      <th>next</th>\n",
       "      <th>sum</th>\n",
       "      <th>help</th>\n",
       "    </tr>\n",
       "  </thead>\n",
       "  <tbody>\n",
       "    <tr>\n",
       "      <th>monthly</th>\n",
       "      <td> addseeds_pgw</td>\n",
       "      <td>   menu config counts</td>\n",
       "      <td> create a monthly model; followed by adding PGW...</td>\n",
       "    </tr>\n",
       "    <tr>\n",
       "      <th>addseeds_pgw</th>\n",
       "      <td>  update_full</td>\n",
       "      <td> config counts pgwave</td>\n",
       "      <td>              start update sequence with PGW seeds</td>\n",
       "    </tr>\n",
       "    <tr>\n",
       "      <th>finish_month</th>\n",
       "      <td>         None</td>\n",
       "      <td>        transientinfo</td>\n",
       "      <td>                      plots for monthly transients</td>\n",
       "    </tr>\n",
       "    <tr>\n",
       "      <th>tables</th>\n",
       "      <td>  addseeds_ts</td>\n",
       "      <td>             hptables</td>\n",
       "      <td>                         Create tsmap and kde maps</td>\n",
       "    </tr>\n",
       "    <tr>\n",
       "      <th>addseeds_ts</th>\n",
       "      <td>  update_full</td>\n",
       "      <td>        config counts</td>\n",
       "      <td>          start update sequence with TS maap seeds</td>\n",
       "    </tr>\n",
       "  </tbody>\n",
       "</table>\n",
       "</div>"
      ],
      "text/plain": [
       "                      next                   sum                                               help\n",
       "monthly       addseeds_pgw    menu config counts  create a monthly model; followed by adding PGW...\n",
       "addseeds_pgw   update_full  config counts pgwave               start update sequence with PGW seeds\n",
       "finish_month          None         transientinfo                       plots for monthly transients\n",
       "tables         addseeds_ts              hptables                          Create tsmap and kde maps\n",
       "addseeds_ts    update_full         config counts           start update sequence with TS maap seeds"
      ]
     },
     "execution_count": 8,
     "metadata": {},
     "output_type": "execute_result"
    }
   ],
   "source": [
    "from uw.like2.pipeline import stagedict; reload(stagedict);\n",
    "stagenames =stagedict.stagenames\n",
    "t=pd.DataFrame(stagenames)\n",
    "t['monthly addseeds_pgw  finish_month tables addseeds_ts'.split()].T['next sum help'.split()]"
   ]
  },
  {
   "cell_type": "markdown",
   "metadata": {},
   "source": [
    "### Test code for creating a new monthly model"
   ]
  },
  {
   "cell_type": "code",
   "execution_count": 9,
   "metadata": {
    "collapsed": false
   },
   "outputs": [
    {
     "name": "stdout",
     "output_type": "stream",
     "text": [
      "invoking Data.setPhotonBinner for front/back event types...\n",
      "Failed gti check:\n",
      "  ltcube: Gti: 462 intervals from 252480000 to 255110000, on time 2192898 \n",
      " binfile: Gti: 469 intervals from 252480028 to 255109993, on time 2192653\n"
     ]
    }
   ],
   "source": [
    "r = process.Process('.', fix_spectra_flag=True, quiet=True)"
   ]
  },
  {
   "cell_type": "code",
   "execution_count": 10,
   "metadata": {
    "collapsed": false
   },
   "outputs": [
    {
     "name": "stdout",
     "output_type": "stream",
     "text": [
      "17 total sources: 0 extended, 3 global\n"
     ]
    }
   ],
   "source": [
    "r.setup_roi(1154)"
   ]
  },
  {
   "cell_type": "code",
   "execution_count": 11,
   "metadata": {
    "collapsed": false
   },
   "outputs": [
    {
     "name": "stdout",
     "output_type": "stream",
     "text": [
      "================================================================================\n",
      "2015-08-21 13:56:22 - HP12_1154 - interactive\n",
      "------------------------------------------------------------------------------------------ \n",
      "\t Nearby sources within 5.0 degrees before fit, logL=-4216\n",
      "name               dist        ra       dec        TS eflux(eV)    index   energy   beta/b\n",
      "P86Y1143            3.2    77.358     5.700        20      12.1*    2.09      954     0\n",
      "P86Y1203            4.6    81.471    -0.876                10.7     2.10     2164     0\n",
      "------------------------------------------------------------------------------------------ \n",
      "\tDiffuse sources\n",
      "------------------------------------------------------------------------------------------\n",
      "ring                        1.00       0.00 \n",
      "isotrop                     1.00 \n",
      "SunMoon                     1.00 \n",
      "------------------------------------------------------------------------------------------\n",
      "10 calls, function value, improvement, quality: -4216.4, 0.00, 0.00\n",
      "Name                  index     value  error(%)  gradient\n",
      "P86Y1143_Norm             0 2.108e-12      51.1       0.3\n",
      "-------- analyzing counts histogram,  chisquared: 9.4 ----\n",
      "saved pickle file to ./pickle/HP12_1154.pickle\n"
     ]
    }
   ],
   "source": [
    "r.process()"
   ]
  },
  {
   "cell_type": "markdown",
   "metadata": {},
   "source": [
    "## Test code for checking the PGWAVE seeds\n",
    "This is against the current sky model. This ROI was just fit above, adjusting the 6-year spectral normalizations in the ROI. (Adjacent ROI's were not adjusted in this test.)"
   ]
  },
  {
   "cell_type": "code",
   "execution_count": 12,
   "metadata": {
    "collapsed": false
   },
   "outputs": [
    {
     "name": "stdout",
     "output_type": "stream",
     "text": [
      "invoking Data.setPhotonBinner for front/back event types...\n",
      "Failed gti check:\n",
      "  ltcube: Gti: 462 intervals from 252480000 to 255110000, on time 2192898 \n",
      " binfile: Gti: 469 intervals from 252480028 to 255109993, on time 2192653\n"
     ]
    }
   ],
   "source": [
    "from uw.like2 import (process,seeds,); map(reload,(process,seeds,))\n",
    "r = process.Process('.', seed_key='pgw', quiet=True)"
   ]
  },
  {
   "cell_type": "code",
   "execution_count": null,
   "metadata": {
    "collapsed": false
   },
   "outputs": [
    {
     "name": "stdout",
     "output_type": "stream",
     "text": [
      "77 total sources: 3 extended, 3 global\n"
     ]
    },
    {
     "name": "stderr",
     "output_type": "stream",
     "text": [
      "/afs/slac/g/glast/groups/catalog/python/anaconda/lib/python2.7/site-packages/numpy/core/_methods.py:59: RuntimeWarning: Mean of empty slice.\n",
      "  warnings.warn(\"Mean of empty slice.\", RuntimeWarning)\n"
     ]
    }
   ],
   "source": [
    "r.setup_roi(840)"
   ]
  },
  {
   "cell_type": "code",
   "execution_count": null,
   "metadata": {
    "collapsed": false
   },
   "outputs": [
    {
     "name": "stdout",
     "output_type": "stream",
     "text": [
      "================================================================================\n",
      "2015-08-21 13:57:08 - HP12_0840 - interactive\n",
      "added PGW_06_104_04 at SkyDir(270.192,-23.594)\n",
      "added PGW_06_104_08 at SkyDir(269.456,-23.783)\n",
      "added PGW_06_104_09 at SkyDir(268.331,-26.054)\n",
      "added PGW_06_104_10 at SkyDir(266.470,-28.826)\n",
      "added PGW_06_104_14 at SkyDir(267.055,-27.977)\n",
      "added PGW_06_072_02 at SkyDir(270.261,-23.635)\n",
      "added PGW_06_072_03 at SkyDir(268.221,-26.284)\n",
      "added PGW_06_072_04 at SkyDir(266.486,-28.835)\n",
      "added PGW_06_088_07 at SkyDir(270.140,-23.507)\n",
      "added PGW_06_088_11 at SkyDir(269.396,-23.691)\n",
      "added PGW_06_088_12 at SkyDir(268.205,-26.523)\n",
      "added PGW_06_088_16 at SkyDir(268.627,-25.879)\n",
      "added PGW_06_088_17 at SkyDir(269.184,-25.019)\n",
      "added PGW_06_088_18 at SkyDir(267.779,-27.164)\n",
      "Minimizer warning: bad errors for values ['PGW_06_104_04_Norm' 'PGW_06_104_09_Norm' 'PGW_06_104_10_Norm'\n",
      " 'PGW_06_072_02_Norm' 'PGW_06_072_03_Norm' 'PGW_06_072_04_Norm'\n",
      " 'PGW_06_088_12_Norm' 'PGW_06_088_16_Norm' 'PGW_06_088_18_Norm']\n",
      "11 calls, function value, improvement, quality: 5029.9, 3.42, -0.07\n",
      "Name                  index     value  error(%)  gradient\n",
      "PGW_06_104_04_Norm        7 8.357e-14       ***      -0.3\n",
      "PGW_06_104_08_Norm        9 4.109e-12      76.5       0.3\n",
      "PGW_06_104_09_Norm       11 1.087e-14       ***      -0.0\n",
      "PGW_06_104_10_Norm       13 1.242e-14       ***      -0.0\n",
      "PGW_06_104_14_Norm       15 7.623e-15    3148.7       0.0\n",
      "PGW_06_072_02_Norm       17 1.344e-14       ***      -0.0\n",
      "PGW_06_072_03_Norm       19 1.564e-14       ***      -0.0\n",
      "PGW_06_072_04_Norm       21  1.14e-14       ***      -0.0\n",
      "PGW_06_088_07_Norm       23  1.11e-14    4136.9       0.0\n",
      "PGW_06_088_11_Norm       25 1.892e-14    1980.5       0.0\n",
      "PGW_06_088_12_Norm       27 1.241e-14       ***      -0.0\n",
      "PGW_06_088_16_Norm       29  1.17e-14       ***      -0.0\n",
      "PGW_06_088_17_Norm       31 1.123e-14    9063.8       0.0\n",
      "PGW_06_088_18_Norm       33 1.217e-14       ***      -0.0\n",
      "TS values\n",
      "PGW_06_104_04   0.2  <-- remove\n",
      "PGW_06_104_08   6.7  OK\n",
      "PGW_06_104_09   0.0  <-- remove\n",
      "PGW_06_104_10   0.0  <-- remove\n",
      "PGW_06_104_14  -0.0  <-- remove\n",
      "PGW_06_072_02   0.0  <-- remove\n",
      "PGW_06_072_03   0.0  <-- remove\n",
      "PGW_06_072_04   0.0  <-- remove\n",
      "PGW_06_088_07  -0.0  <-- remove\n",
      "PGW_06_088_11  -0.0  <-- remove\n",
      "PGW_06_088_12   0.0  <-- remove\n",
      "PGW_06_088_16   0.0  <-- remove\n",
      "PGW_06_088_17  -0.0  <-- remove\n",
      "PGW_06_088_18   0.0  <-- remove\n",
      "10 calls, function value, improvement, quality: 5030.8, 1.03, 0.00\n",
      "Name                  index     value  error(%)  gradient\n",
      "PGW_06_104_08_Norm        7 1.022e-12     238.7       0.0\n",
      "             _Index       8     1.462      51.0      -0.0\n",
      "  TS = 8.8\n",
      "\n",
      "check need to repivot sources with TS>10, beta<3.0: \n",
      "source                     TS        e0      pivot\n",
      "processing 1 sources\n",
      "PGW_06_104_08               9      1000     18759  TS too small\n",
      "Localizing source PGW_06_104_08, tolerance=1.0e-04...\n",
      "\t     moved     delta        ra       dec         a         b      qual\n",
      "\t    0.0000    0.0000  269.4558  -23.7826\n",
      "\t    0.0254    0.0254  269.4627  -23.8072    0.0669    0.0458    5.7423\n",
      "\t    0.0133    0.0387  269.4669  -23.8200    0.0543    0.0398    3.2361\n",
      "\t    0.0099    0.0485  269.4685  -23.8297    0.0529    0.0389    3.3514\n",
      "\t    0.0074    0.0557  269.4690  -23.8371    0.0542    0.0392    4.1311\n",
      "\t    0.0063    0.0620  269.4691  -23.8434    0.0573    0.0401    5.6640\n",
      "\t    0.0077    0.0696  269.4697  -23.8510    0.0630    0.0416    9.1189\n",
      "\t    0.0157    0.0852  269.4712  -23.8667    0.0770    0.0448   18.3250\n",
      "\t    0.1953    0.2803  269.4870  -24.0614    0.2599    0.0693   41.0765\n",
      "\t    0.0173    0.2630  269.4852  -24.0442    0.0308    0.0273    7.7560\n",
      "\t    0.0076    0.2703  269.4839  -24.0517    0.0254    0.0227    5.7462\n",
      "\t    0.0080    0.2783  269.4843  -24.0597    0.0264    0.0224    3.7265\n",
      "\t    0.0030    0.2811  269.4834  -24.0626    0.0294    0.0233    2.4202\n",
      "\t    0.0010    0.2818  269.4827  -24.0634    0.0303    0.0238    2.1630\n",
      "\t    0.0003    0.2820  269.4824  -24.0636    0.0304    0.0239    2.1523\n",
      "\t    0.0001    0.2820  269.4823  -24.0636    0.0304    0.0239    2.1532\n",
      "\t    0.0000    0.2820  269.4823  -24.0636    0.0304    0.0239    2.1541"
     ]
    }
   ],
   "source": [
    "r.process()"
   ]
  },
  {
   "cell_type": "code",
   "execution_count": null,
   "metadata": {
    "collapsed": true
   },
   "outputs": [],
   "source": [
    "r.get_sed?"
   ]
  },
  {
   "cell_type": "markdown",
   "metadata": {},
   "source": [
    "## Seed finding after stage \"tables\" \n",
    "The \"tables\" stage triggers a analyze.hptables  run, that executes HPtables.make_seeds(), which in turn runs pipeline.check_ts.make_seeds(). [A little awkward.]\n",
    "I need to introduce a filter in make_seeds to ignore the path of the Sun for that month.\n",
    "\n",
    "See [monthly Sun position](monthly Sun position.ipynb), which generated the file \\$FERMI/ecliptic\\_512.pickle with the ecliptic tuple for each position index in nside=512 (RING as usual). \n",
    "\n",
    "Also see the file `\\$FERMI/skymodels/P301\\_monthly/month\\_info.csv`, which has info for each month."
   ]
  },
  {
   "cell_type": "code",
   "execution_count": null,
   "metadata": {
    "collapsed": false
   },
   "outputs": [],
   "source": [
    "info = pd.read_csv(open(os.path.expandvars('$FERMI/skymodels/P301_monthly/month_info.csv')),index_col=0)\n",
    "info.ix[14]"
   ]
  },
  {
   "cell_type": "markdown",
   "metadata": {},
   "source": [
    "The sun\\_ values for for the start of the period. Develop the following function to return a mask. See [Test tables, seed finding](Test tables, seed finding.ipynb)"
   ]
  },
  {
   "cell_type": "code",
   "execution_count": null,
   "metadata": {
    "collapsed": false
   },
   "outputs": [],
   "source": [
    "import pickle\n",
    "def monthly_ecliptic_mask( month, elat_max=5):\n",
    "    \"\"\"return a nside=512 mask for the given month, an integer starting at 1\"\"\"\n",
    "    info = pd.read_csv(open(os.path.expandvars(\n",
    "                '$FERMI/skymodels/P301_monthly/month_info.csv')),index_col=0)\n",
    "    ecliptic_info= pickle.load(open(os.path.expandvars('$FERMI/misc/ecliptic_512.pickle')))\n",
    "    elon_vec = ecliptic_info[:,0]\n",
    "    elat_mask = np.abs(ecliptic_info[:,1])<5\n",
    "    elon_min = info.sun_elon[month]\n",
    "    try:\n",
    "        elon_max = info.sun_elon[month+1]\n",
    "    except:\n",
    "        elon_max = elon_min+30\n",
    "    if elon_min< elon_max:\n",
    "        elon_mask = (elon_vec>elon_min) & (elon_vec<elon_max)\n",
    "    else:\n",
    "        elon_mask = (elon_vec>elon_min) | (elon_vec<elon_max)\n",
    "                                        \n",
    "    return elat_mask & elon_mask\n",
    "e_mask=monthly_ecliptic_mask(1); sum(e_mask)"
   ]
  },
  {
   "cell_type": "code",
   "execution_count": null,
   "metadata": {
    "collapsed": false
   },
   "outputs": [],
   "source": [
    "from uw.like2.pub import healpix_map;\n",
    "mask_check = healpix_map.HParray('mask_check', e_mask)\n",
    "mask_check.plot()"
   ]
  },
  {
   "cell_type": "code",
   "execution_count": null,
   "metadata": {
    "collapsed": false
   },
   "outputs": [],
   "source": [
    "e_mask=monthly_ecliptic_mask(8); sum(e_mask)"
   ]
  },
  {
   "cell_type": "code",
   "execution_count": null,
   "metadata": {
    "collapsed": false
   },
   "outputs": [],
   "source": [
    "healpix_map.HParray('mask2_check', e_mask).plot()"
   ]
  },
  {
   "cell_type": "markdown",
   "metadata": {},
   "source": [
    "## Add the TS map seeds"
   ]
  },
  {
   "cell_type": "code",
   "execution_count": null,
   "metadata": {
    "collapsed": false
   },
   "outputs": [],
   "source": [
    "assert os.path.exists('hptables_ts_kde_512.fits')\n",
    "assert os.path.exists('seeds_ts.txt')"
   ]
  },
  {
   "cell_type": "code",
   "execution_count": null,
   "metadata": {
    "collapsed": false
   },
   "outputs": [],
   "source": [
    "from uw.like2 import process; reload(process)\n",
    "r = process.Process('.', seed_key='ts' ,quiet=True)"
   ]
  },
  {
   "cell_type": "code",
   "execution_count": null,
   "metadata": {
    "collapsed": false
   },
   "outputs": [],
   "source": [
    "r.setup_roi(174)"
   ]
  },
  {
   "cell_type": "code",
   "execution_count": null,
   "metadata": {
    "collapsed": false
   },
   "outputs": [],
   "source": [
    "r.summarize()"
   ]
  },
  {
   "cell_type": "code",
   "execution_count": null,
   "metadata": {
    "collapsed": false,
    "scrolled": true
   },
   "outputs": [],
   "source": [
    "from uw.like2 import seeds; reload(seeds)\n",
    "t =seeds.read_seedfile('ts')\n",
    "r.process()"
   ]
  },
  {
   "cell_type": "code",
   "execution_count": null,
   "metadata": {
    "collapsed": false
   },
   "outputs": [],
   "source": [
    "r.print_summary()"
   ]
  },
  {
   "cell_type": "code",
   "execution_count": null,
   "metadata": {
    "collapsed": false
   },
   "outputs": [],
   "source": [
    "freenames = np.array([ s.name for s  in r.free_sources])\n",
    "freenames"
   ]
  },
  {
   "cell_type": "code",
   "execution_count": null,
   "metadata": {
    "collapsed": false
   },
   "outputs": [],
   "source": []
  }
 ],
 "metadata": {
  "kernelspec": {
   "display_name": "Python 2",
   "language": "python",
   "name": "python2"
  },
  "language_info": {
   "codemirror_mode": {
    "name": "ipython",
    "version": 2
   },
   "file_extension": ".py",
   "mimetype": "text/x-python",
   "name": "python",
   "nbconvert_exporter": "python",
   "pygments_lexer": "ipython2",
   "version": "2.7.10"
  }
 },
 "nbformat": 4,
 "nbformat_minor": 0
}
