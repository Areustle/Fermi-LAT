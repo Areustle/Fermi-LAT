{
 "cells": [
  {
   "cell_type": "code",
   "execution_count": 2,
   "metadata": {
    "collapsed": false
   },
   "outputs": [],
   "source": [
    "%matplotlib inline\n",
    "import pyfits\n",
    "os.chdir('/nfs/farm/g/glast/u29/MC-tasks/skySimProducts/obssimFermiSky/03-00-13-AllSky15yrs3FGLv14P8R2-ST10-01-01-P8R2_SOURCE_V6')"
   ]
  },
  {
   "cell_type": "code",
   "execution_count": 5,
   "metadata": {
    "collapsed": false
   },
   "outputs": [
    {
     "name": "stdout",
     "output_type": "stream",
     "text": [
      "Filename: output_fits/000000/obssimFermiSky-000000_events_0000.fits\n",
      "No.    Name         Type      Cards   Dimensions   Format\n",
      "0    PRIMARY     PrimaryHDU      31   ()              \n",
      "1    EVENTS      BinTableHDU    168   1987606R x 25C   [E, E, E, E, E, E, E, E, E, D, J, J, I, 3I, 32X, 32X, I, D, E, E, E, E, E, 1J, 1E]   \n",
      "2    GTI         BinTableHDU     46   450R x 2C    [D, D]   \n"
     ]
    }
   ],
   "source": [
    "f = pyfits.open('output_fits/000000/obssimFermiSky-000000_events_0000.fits')\n",
    "f.info()"
   ]
  },
  {
   "cell_type": "code",
   "execution_count": 10,
   "metadata": {
    "collapsed": false
   },
   "outputs": [
    {
     "data": {
      "text/plain": [
       "[1079294, 908312]"
      ]
     },
     "execution_count": 10,
     "metadata": {},
     "output_type": "execute_result"
    }
   ],
   "source": [
    "[sum(f[1].data.CONVERSION_TYPE==i) for i in (0,1)]"
   ]
  }
 ],
 "metadata": {
  "kernelspec": {
   "display_name": "Python 2",
   "language": "python",
   "name": "python2"
  },
  "language_info": {
   "codemirror_mode": {
    "name": "ipython",
    "version": 2
   },
   "file_extension": ".py",
   "mimetype": "text/x-python",
   "name": "python",
   "nbconvert_exporter": "python",
   "pygments_lexer": "ipython2",
   "version": "2.7.10"
  }
 },
 "nbformat": 4,
 "nbformat_minor": 0
}
