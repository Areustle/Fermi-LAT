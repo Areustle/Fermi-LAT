{
 "cells": [
  {
   "cell_type": "markdown",
   "metadata": {},
   "source": [
    "#Monthly summaries"
   ]
  },
  {
   "cell_type": "code",
   "execution_count": 34,
   "metadata": {
    "collapsed": false
   },
   "outputs": [
    {
     "data": {
      "text/plain": [
       "[1, 2, 3, 4, 5, 6, 7, 8, 9, 10, 11, 12]"
      ]
     },
     "execution_count": 34,
     "metadata": {},
     "output_type": "execute_result"
    }
   ],
   "source": [
    "import glob, pickle\n",
    "curdir = os.getcwd()\n",
    "os.chdir(os.path.expandvars('$FERMI/skymodels/P301_monthly'))\n",
    "files =  sorted(glob.glob('month*/sources.pickle')); len(files)\n",
    "monthlist = [int(f[5:7]) for f in files]; monthlist"
   ]
  },
  {
   "cell_type": "code",
   "execution_count": 23,
   "metadata": {
    "collapsed": true
   },
   "outputs": [],
   "source": [
    "sourcelists = [pickle.load(open(f)) for f in files]"
   ]
  },
  {
   "cell_type": "code",
   "execution_count": 30,
   "metadata": {
    "collapsed": false
   },
   "outputs": [
    {
     "data": {
      "text/plain": [
       "[1602, 1855, 1717, 1675, 1715, 1363, 1884, 1741, 1909, 1896, 1834, 1951]"
      ]
     },
     "execution_count": 30,
     "metadata": {},
     "output_type": "execute_result"
    }
   ],
   "source": [
    "ntot = [len(s) for s in sourcelists]; ntot"
   ]
  },
  {
   "cell_type": "code",
   "execution_count": 31,
   "metadata": {
    "collapsed": false
   },
   "outputs": [
    {
     "data": {
      "text/plain": [
       "[427, 483, 455, 438, 410, 69, 440, 461, 493, 495, 444, 535]"
      ]
     },
     "execution_count": 31,
     "metadata": {},
     "output_type": "execute_result"
    }
   ],
   "source": [
    "ntrans = [sum( (sm.transient)& (sm.ts>10)) for sm in sourcelists]; ntrans"
   ]
  },
  {
   "cell_type": "code",
   "execution_count": 25,
   "metadata": {
    "collapsed": false
   },
   "outputs": [
    {
     "name": "stdout",
     "output_type": "stream",
     "text": [
      "/nfs/farm/g/glast/g/catalog/pointlike/skymodels/P301_monthly/month01\n",
      "loading sources.pickle\n"
     ]
    }
   ],
   "source": [
    "from uw.like2.analyze import sourceinfo; reload(sourceinfo)\n",
    "self=XsourceInfo('month01')        "
   ]
  },
  {
   "cell_type": "code",
   "execution_count": 37,
   "metadata": {
    "collapsed": false
   },
   "outputs": [
    {
     "data": {
      "text/html": [
       "\n",
       "<h4>Prefixes</h4>\n",
       "\n",
       "<table border=\"1\" class=\"dataframe\">\n",
       "  <thead>\n",
       "    <tr style=\"text-align: right;\">\n",
       "      <th></th>\n",
       "      <th>0</th>\n",
       "      <th>5</th>\n",
       "      <th>10</th>\n",
       "      <th>25</th>\n",
       "    </tr>\n",
       "  </thead>\n",
       "  <tbody>\n",
       "    <tr>\n",
       "\t<th class=\"index\">S971</th>\n",
       "      <td>    2</td>\n",
       "      <td>    2</td>\n",
       "      <td>    2</td>\n",
       "      <td>   1</td>\n",
       "    </tr>\n",
       "    <tr>\n",
       "\t<th class=\"index\">PGW_</th>\n",
       "      <td>   30</td>\n",
       "      <td>   30</td>\n",
       "      <td>   26</td>\n",
       "      <td>  13</td>\n",
       "    </tr>\n",
       "    <tr>\n",
       "\t<th class=\"index\">S966</th>\n",
       "      <td>   28</td>\n",
       "      <td>   28</td>\n",
       "      <td>   19</td>\n",
       "      <td>   1</td>\n",
       "    </tr>\n",
       "    <tr>\n",
       "\t<th class=\"index\">S970</th>\n",
       "      <td>   14</td>\n",
       "      <td>   14</td>\n",
       "      <td>   10</td>\n",
       "      <td>   1</td>\n",
       "    </tr>\n",
       "    <tr>\n",
       "\t<th class=\"index\">P967</th>\n",
       "      <td>   14</td>\n",
       "      <td>   14</td>\n",
       "      <td>    9</td>\n",
       "      <td>   2</td>\n",
       "    </tr>\n",
       "    <tr>\n",
       "\t<th class=\"index\">PSR </th>\n",
       "      <td>  164</td>\n",
       "      <td>  121</td>\n",
       "      <td>   99</td>\n",
       "      <td>  71</td>\n",
       "    </tr>\n",
       "    <tr>\n",
       "\t<th class=\"index\">P86Y</th>\n",
       "      <td>  888</td>\n",
       "      <td>  888</td>\n",
       "      <td>  597</td>\n",
       "      <td> 258</td>\n",
       "    </tr>\n",
       "    <tr>\n",
       "\t<th class=\"index\">Sh01</th>\n",
       "      <td>  431</td>\n",
       "      <td>  431</td>\n",
       "      <td>  403</td>\n",
       "      <td>  14</td>\n",
       "    </tr>\n",
       "    <tr>\n",
       "\t<th class=\"index\">ext</th>\n",
       "      <td>   17</td>\n",
       "      <td>   17</td>\n",
       "      <td>   16</td>\n",
       "      <td>  11</td>\n",
       "    </tr>\n",
       "    <tr>\n",
       "\t<th class=\"index\">total</th>\n",
       "      <td> 1588</td>\n",
       "      <td> 1545</td>\n",
       "      <td> 1181</td>\n",
       "      <td> 372</td>\n",
       "    </tr>\n",
       "  </tbody>\n",
       "</table>"
      ],
      "text/plain": [
       "<IPython.core.display.HTML object>"
      ]
     },
     "execution_count": 37,
     "metadata": {},
     "output_type": "execute_result"
    }
   ],
   "source": [
    "self.census();\n",
    "from IPython import display\n",
    "display.HTML(self.census_html)"
   ]
  }
 ],
 "metadata": {
  "kernelspec": {
   "display_name": "Python 2",
   "language": "python",
   "name": "python2"
  },
  "language_info": {
   "codemirror_mode": {
    "name": "ipython",
    "version": 2
   },
   "file_extension": ".py",
   "mimetype": "text/x-python",
   "name": "python",
   "nbconvert_exporter": "python",
   "pygments_lexer": "ipython2",
   "version": "2.7.10"
  }
 },
 "nbformat": 4,
 "nbformat_minor": 0
}
