{
 "cells": [
  {
   "cell_type": "markdown",
   "metadata": {},
   "source": [
    "# Run check_data to create binned photon files"
   ]
  },
  {
   "cell_type": "code",
   "execution_count": 2,
   "metadata": {
    "collapsed": false
   },
   "outputs": [
    {
     "data": {
      "text/plain": [
       "<module 'uw.like2.pipeline.check_data' from '/afs/slac/g/glast/groups/catalog/pointlike/python/uw/like2/pipeline/check_data.pyc'>"
      ]
     },
     "execution_count": 2,
     "metadata": {},
     "output_type": "execute_result"
    }
   ],
   "source": [
    "from uw.like2.pipeline import check_data; reload(check_data)"
   ]
  },
  {
   "cell_type": "code",
   "execution_count": 3,
   "metadata": {
    "collapsed": false
   },
   "outputs": [
    {
     "name": "stdout",
     "output_type": "stream",
     "text": [
      "\n",
      "2015-09-14 02:56 stage create stream -1 model . \n",
      "Using interval month_*\n",
      "Opening dataset obssim_monthxx from key in /afs/slac/g/glast/groups/catalog//pointlike/fermi/data/dataspec.py\n",
      "invoking Data.setPhotonBinner for front/back event types...\n",
      "processing cuts:  ZENITH_ANGLE zenith_cut\n",
      "ft1_cut None\n",
      "processing cuts:  THETA theta_cut\n",
      "ft1_cut None\n",
      "processing cuts:  EVENT_CLASS event_class_cut\n",
      "ft1_cut DSTYP2: BIT_MASK(EVENT_CLASS,128,P8R2)\n",
      "DSUNI2: DIMENSIONLESS\n",
      "DSVAL2: 1:1\n",
      "DSREF2: None\n",
      "File /afs/slac/g/glast/groups/catalog//pointlike/fermi/data/obssim_binned/obssim_0009_4bpd.fits not found\n",
      "using Gti for creating binned photon file Gti: 449 intervals from 262885420 to 265477420, on time 2130037\n",
      "writing to binfile /afs/slac/g/glast/groups/catalog//pointlike/fermi/data/obssim_binned/obssim_0009_4bpd.fits\n",
      "Creating binfile from 1 FT1 files\n",
      "found 40 bands, energies 10-1000000 MeV\n",
      "Gti: 449 intervals from 262885420 to 265477420, on time 2130037\n",
      "no header info in ltcube?\n",
      "Accepting ltcube without DSS info since legacy specified\n",
      "Verified ltcube /afs/slac/g/glast/groups/catalog//pointlike/fermi/data/obssim_output/000009/obssimFermiSky-000009_ltcube_0000.fits\n",
      "loading binfile /afs/slac/g/glast/groups/catalog//pointlike/fermi/data/obssim_binned/obssim_0009_4bpd.fits ... found 1858104 photons in 40 bands, energies 10-1000000 MeV\n",
      "Data is validated\n",
      "\n",
      "2015-09-14 02:56 stage create stream -1 model . \n",
      "Using interval month_*\n",
      "Opening dataset obssim_monthxx from key in /afs/slac/g/glast/groups/catalog//pointlike/fermi/data/dataspec.py\n",
      "invoking Data.setPhotonBinner for front/back event types...\n",
      "processing cuts:  ZENITH_ANGLE zenith_cut\n",
      "ft1_cut None\n",
      "processing cuts:  THETA theta_cut\n",
      "ft1_cut None\n",
      "processing cuts:  EVENT_CLASS event_class_cut\n",
      "ft1_cut DSTYP2: BIT_MASK(EVENT_CLASS,128,P8R2)\n",
      "DSUNI2: DIMENSIONLESS\n",
      "DSVAL2: 1:1\n",
      "DSREF2: None\n",
      "File /afs/slac/g/glast/groups/catalog//pointlike/fermi/data/obssim_binned/obssim_0010_4bpd.fits not found\n",
      "using Gti for creating binned photon file Gti: 455 intervals from 265477420 to 268069420, on time 2178013\n",
      "writing to binfile /afs/slac/g/glast/groups/catalog//pointlike/fermi/data/obssim_binned/obssim_0010_4bpd.fits\n",
      "Creating binfile from 1 FT1 files\n"
     ]
    },
    {
     "name": "stderr",
     "output_type": "stream",
     "text": [
      "/afs/slac/g/glast/groups/catalog/python/anaconda/lib/python2.7/site-packages/pyfits/header.py:1108: PyfitsDeprecationWarning: The use of header.update() to add new keywords to a header is deprecated.  Instead, use either header.set() or simply `header[keyword] = value` or `header[keyword] = (value, comment)`.  header.set() is only necessary to use if you also want to use the before/after keyword arguments.\n",
      "  \"keyword arguments.\", PyfitsDeprecationWarning)\n",
      "/afs/slac/g/glast/groups/catalog/python/anaconda/lib/python2.7/site-packages/pyfits/file.py:339: UserWarning: Overwriting existing file '/afs/slac/g/glast/groups/catalog//pointlike/fermi/data/obssim_binned/obssim_0009_4bpd.fits'.\n",
      "  warnings.warn(\"Overwriting existing file %r.\" % self.name)\n",
      "/afs/slac/g/glast/groups/catalog/python/anaconda/lib/python2.7/site-packages/pyfits/file.py:339: UserWarning: Overwriting existing file '/afs/slac/g/glast/groups/catalog//pointlike/fermi/data/obssim_binned/obssim_0010_4bpd.fits'.\n",
      "  warnings.warn(\"Overwriting existing file %r.\" % self.name)\n"
     ]
    },
    {
     "name": "stdout",
     "output_type": "stream",
     "text": [
      "found 40 bands, energies 10-1000000 MeV\n",
      "Gti: 455 intervals from 265477420 to 268069420, on time 2178013\n",
      "no header info in ltcube?\n",
      "Accepting ltcube without DSS info since legacy specified\n",
      "Verified ltcube /afs/slac/g/glast/groups/catalog//pointlike/fermi/data/obssim_output/000010/obssimFermiSky-000010_ltcube_0000.fits\n",
      "loading binfile /afs/slac/g/glast/groups/catalog//pointlike/fermi/data/obssim_binned/obssim_0010_4bpd.fits ... found 1874934 photons in 40 bands, energies 10-1000000 MeV\n",
      "Data is validated\n",
      "\n",
      "2015-09-14 02:57 stage create stream -1 model . \n",
      "Using interval month_*\n",
      "Opening dataset obssim_monthxx from key in /afs/slac/g/glast/groups/catalog//pointlike/fermi/data/dataspec.py\n",
      "invoking Data.setPhotonBinner for front/back event types...\n",
      "processing cuts:  ZENITH_ANGLE zenith_cut\n",
      "ft1_cut None\n",
      "processing cuts:  THETA theta_cut\n",
      "ft1_cut None\n",
      "processing cuts:  EVENT_CLASS event_class_cut\n",
      "ft1_cut DSTYP2: BIT_MASK(EVENT_CLASS,128,P8R2)\n",
      "DSUNI2: DIMENSIONLESS\n",
      "DSVAL2: 1:1\n",
      "DSREF2: None\n",
      "File /afs/slac/g/glast/groups/catalog//pointlike/fermi/data/obssim_binned/obssim_0011_4bpd.fits not found\n",
      "using Gti for creating binned photon file Gti: 453 intervals from 268069420 to 270661420, on time 2176688\n",
      "writing to binfile /afs/slac/g/glast/groups/catalog//pointlike/fermi/data/obssim_binned/obssim_0011_4bpd.fits\n",
      "Creating binfile from 1 FT1 files\n",
      "found 40 bands, energies 10-1000000 MeV\n",
      "Gti: 453 intervals from 268069420 to 270661420, on time 2176688\n",
      "no header info in ltcube?\n",
      "Accepting ltcube without DSS info since legacy specified\n",
      "Verified ltcube /afs/slac/g/glast/groups/catalog//pointlike/fermi/data/obssim_output/000011/obssimFermiSky-000011_ltcube_0000.fits\n",
      "loading binfile /afs/slac/g/glast/groups/catalog//pointlike/fermi/data/obssim_binned/obssim_0011_4bpd.fits ... found 1948898 photons in 40 bands, energies 10-1000000 MeV\n",
      "Data is validated\n",
      "\n",
      "2015-09-14 02:57 stage create stream -1 model . \n",
      "Using interval month_*\n",
      "Opening dataset obssim_monthxx from key in /afs/slac/g/glast/groups/catalog//pointlike/fermi/data/dataspec.py\n",
      "invoking Data.setPhotonBinner for front/back event types...\n",
      "processing cuts:  ZENITH_ANGLE zenith_cut\n",
      "ft1_cut None\n",
      "processing cuts:  THETA theta_cut\n",
      "ft1_cut None\n",
      "processing cuts:  EVENT_CLASS event_class_cut\n",
      "ft1_cut DSTYP2: BIT_MASK(EVENT_CLASS,128,P8R2)\n",
      "DSUNI2: DIMENSIONLESS\n",
      "DSVAL2: 1:1\n",
      "DSREF2: None\n",
      "File /afs/slac/g/glast/groups/catalog//pointlike/fermi/data/obssim_binned/obssim_0012_4bpd.fits not found\n",
      "using Gti for creating binned photon file Gti: 456 intervals from 270661420 to 273252393, on time 2184022\n",
      "writing to binfile /afs/slac/g/glast/groups/catalog//pointlike/fermi/data/obssim_binned/obssim_0012_4bpd.fits\n",
      "Creating binfile from 1 FT1 files\n"
     ]
    },
    {
     "name": "stderr",
     "output_type": "stream",
     "text": [
      "/afs/slac/g/glast/groups/catalog/python/anaconda/lib/python2.7/site-packages/pyfits/file.py:339: UserWarning: Overwriting existing file '/afs/slac/g/glast/groups/catalog//pointlike/fermi/data/obssim_binned/obssim_0011_4bpd.fits'.\n",
      "  warnings.warn(\"Overwriting existing file %r.\" % self.name)\n",
      "/afs/slac/g/glast/groups/catalog/python/anaconda/lib/python2.7/site-packages/pyfits/file.py:339: UserWarning: Overwriting existing file '/afs/slac/g/glast/groups/catalog//pointlike/fermi/data/obssim_binned/obssim_0012_4bpd.fits'.\n",
      "  warnings.warn(\"Overwriting existing file %r.\" % self.name)\n"
     ]
    },
    {
     "name": "stdout",
     "output_type": "stream",
     "text": [
      "found 40 bands, energies 10-1000000 MeV\n",
      "Gti: 456 intervals from 270661420 to 273252393, on time 2184022\n",
      "no header info in ltcube?\n",
      "Accepting ltcube without DSS info since legacy specified\n",
      "Verified ltcube /afs/slac/g/glast/groups/catalog//pointlike/fermi/data/obssim_output/000012/obssimFermiSky-000012_ltcube_0000.fits\n",
      "loading binfile /afs/slac/g/glast/groups/catalog//pointlike/fermi/data/obssim_binned/obssim_0012_4bpd.fits ... found 1848233 photons in 40 bands, energies 10-1000000 MeV\n",
      "Data is validated\n",
      "\n",
      "2015-09-14 02:57 stage create stream -1 model . \n",
      "Using interval month_*\n",
      "Opening dataset obssim_monthxx from key in /afs/slac/g/glast/groups/catalog//pointlike/fermi/data/dataspec.py\n",
      "invoking Data.setPhotonBinner for front/back event types...\n",
      "processing cuts:  ZENITH_ANGLE zenith_cut\n",
      "ft1_cut None\n",
      "processing cuts:  THETA theta_cut\n",
      "ft1_cut None\n",
      "processing cuts:  EVENT_CLASS event_class_cut\n",
      "ft1_cut DSTYP2: BIT_MASK(EVENT_CLASS,128,P8R2)\n",
      "DSUNI2: DIMENSIONLESS\n",
      "DSVAL2: 1:1\n",
      "DSREF2: None\n",
      "File /afs/slac/g/glast/groups/catalog//pointlike/fermi/data/obssim_binned/obssim_0013_4bpd.fits not found\n",
      "using Gti for creating binned photon file Gti: 458 intervals from 273253800 to 275845420, on time 2190404\n",
      "writing to binfile /afs/slac/g/glast/groups/catalog//pointlike/fermi/data/obssim_binned/obssim_0013_4bpd.fits\n",
      "Creating binfile from 1 FT1 files\n",
      "found 40 bands, energies 10-1000000 MeV\n",
      "Gti: 458 intervals from 273253800 to 275845420, on time 2190404\n",
      "no header info in ltcube?\n",
      "Accepting ltcube without DSS info since legacy specified\n",
      "Verified ltcube /afs/slac/g/glast/groups/catalog//pointlike/fermi/data/obssim_output/000013/obssimFermiSky-000013_ltcube_0000.fits\n",
      "loading binfile /afs/slac/g/glast/groups/catalog//pointlike/fermi/data/obssim_binned/obssim_0013_4bpd.fits ... found 1955522 photons in 40 bands, energies 10-1000000 MeV\n",
      "Data is validated\n",
      "\n",
      "2015-09-14 02:58 stage create stream -1 model . \n",
      "Using interval month_*\n",
      "Opening dataset obssim_monthxx from key in /afs/slac/g/glast/groups/catalog//pointlike/fermi/data/dataspec.py\n",
      "invoking Data.setPhotonBinner for front/back event types...\n",
      "processing cuts:  ZENITH_ANGLE zenith_cut\n",
      "ft1_cut None\n",
      "processing cuts:  THETA theta_cut\n",
      "ft1_cut None\n",
      "processing cuts:  EVENT_CLASS event_class_cut\n",
      "ft1_cut DSTYP2: BIT_MASK(EVENT_CLASS,128,P8R2)\n",
      "DSUNI2: DIMENSIONLESS\n",
      "DSVAL2: 1:1\n",
      "DSREF2: None\n",
      "File /afs/slac/g/glast/groups/catalog//pointlike/fermi/data/obssim_binned/obssim_0014_4bpd.fits not found\n",
      "using Gti for creating binned photon file Gti: 452 intervals from 275845420 to 278437420, on time 2159900\n",
      "writing to binfile /afs/slac/g/glast/groups/catalog//pointlike/fermi/data/obssim_binned/obssim_0014_4bpd.fits\n",
      "Creating binfile from 1 FT1 files\n"
     ]
    },
    {
     "name": "stderr",
     "output_type": "stream",
     "text": [
      "/afs/slac/g/glast/groups/catalog/python/anaconda/lib/python2.7/site-packages/pyfits/file.py:339: UserWarning: Overwriting existing file '/afs/slac/g/glast/groups/catalog//pointlike/fermi/data/obssim_binned/obssim_0013_4bpd.fits'.\n",
      "  warnings.warn(\"Overwriting existing file %r.\" % self.name)\n",
      "/afs/slac/g/glast/groups/catalog/python/anaconda/lib/python2.7/site-packages/pyfits/file.py:339: UserWarning: Overwriting existing file '/afs/slac/g/glast/groups/catalog//pointlike/fermi/data/obssim_binned/obssim_0014_4bpd.fits'.\n",
      "  warnings.warn(\"Overwriting existing file %r.\" % self.name)\n"
     ]
    },
    {
     "name": "stdout",
     "output_type": "stream",
     "text": [
      "found 40 bands, energies 10-1000000 MeV\n",
      "Gti: 452 intervals from 275845420 to 278437420, on time 2159900\n",
      "no header info in ltcube?\n",
      "Accepting ltcube without DSS info since legacy specified\n",
      "Verified ltcube /afs/slac/g/glast/groups/catalog//pointlike/fermi/data/obssim_output/000014/obssimFermiSky-000014_ltcube_0000.fits\n",
      "loading binfile /afs/slac/g/glast/groups/catalog//pointlike/fermi/data/obssim_binned/obssim_0014_4bpd.fits ... found 1777374 photons in 40 bands, energies 10-1000000 MeV\n",
      "Data is validated\n",
      "\n",
      "2015-09-14 02:58 stage create stream -1 model . \n",
      "Using interval month_*\n",
      "Opening dataset obssim_monthxx from key in /afs/slac/g/glast/groups/catalog//pointlike/fermi/data/dataspec.py\n",
      "invoking Data.setPhotonBinner for front/back event types...\n",
      "processing cuts:  ZENITH_ANGLE zenith_cut\n",
      "ft1_cut None\n",
      "processing cuts:  THETA theta_cut\n",
      "ft1_cut None\n",
      "processing cuts:  EVENT_CLASS event_class_cut\n",
      "ft1_cut DSTYP2: BIT_MASK(EVENT_CLASS,128,P8R2)\n",
      "DSUNI2: DIMENSIONLESS\n",
      "DSVAL2: 1:1\n",
      "DSREF2: None\n",
      "File /afs/slac/g/glast/groups/catalog//pointlike/fermi/data/obssim_binned/obssim_0015_4bpd.fits not found\n",
      "using Gti for creating binned photon file Gti: 458 intervals from 278437420 to 281029420, on time 2185712\n",
      "writing to binfile /afs/slac/g/glast/groups/catalog//pointlike/fermi/data/obssim_binned/obssim_0015_4bpd.fits\n",
      "Creating binfile from 1 FT1 files\n",
      "found 40 bands, energies 10-1000000 MeV\n",
      "Gti: 458 intervals from 278437420 to 281029420, on time 2185712\n",
      "no header info in ltcube?\n",
      "Accepting ltcube without DSS info since legacy specified\n",
      "Verified ltcube /afs/slac/g/glast/groups/catalog//pointlike/fermi/data/obssim_output/000015/obssimFermiSky-000015_ltcube_0000.fits\n",
      "loading binfile /afs/slac/g/glast/groups/catalog//pointlike/fermi/data/obssim_binned/obssim_0015_4bpd.fits ... found 1896977 photons in 40 bands, energies 10-1000000 MeV\n",
      "Data is validated\n",
      "\n",
      "2015-09-14 02:58 stage create stream -1 model . \n",
      "Using interval month_*\n",
      "Opening dataset obssim_monthxx from key in /afs/slac/g/glast/groups/catalog//pointlike/fermi/data/dataspec.py\n",
      "invoking Data.setPhotonBinner for front/back event types...\n",
      "processing cuts:  ZENITH_ANGLE zenith_cut\n",
      "ft1_cut None\n",
      "processing cuts:  THETA theta_cut\n",
      "ft1_cut None\n",
      "processing cuts:  EVENT_CLASS event_class_cut\n",
      "ft1_cut DSTYP2: BIT_MASK(EVENT_CLASS,128,P8R2)\n",
      "DSUNI2: DIMENSIONLESS\n",
      "DSVAL2: 1:1\n",
      "DSREF2: None\n",
      "File /afs/slac/g/glast/groups/catalog//pointlike/fermi/data/obssim_binned/obssim_0016_4bpd.fits not found\n",
      "using Gti for creating binned photon file Gti: 456 intervals from 281029420 to 283621420, on time 2189432\n",
      "writing to binfile /afs/slac/g/glast/groups/catalog//pointlike/fermi/data/obssim_binned/obssim_0016_4bpd.fits\n",
      "Creating binfile from 1 FT1 files\n"
     ]
    },
    {
     "name": "stderr",
     "output_type": "stream",
     "text": [
      "/afs/slac/g/glast/groups/catalog/python/anaconda/lib/python2.7/site-packages/pyfits/file.py:339: UserWarning: Overwriting existing file '/afs/slac/g/glast/groups/catalog//pointlike/fermi/data/obssim_binned/obssim_0015_4bpd.fits'.\n",
      "  warnings.warn(\"Overwriting existing file %r.\" % self.name)\n",
      "/afs/slac/g/glast/groups/catalog/python/anaconda/lib/python2.7/site-packages/pyfits/file.py:339: UserWarning: Overwriting existing file '/afs/slac/g/glast/groups/catalog//pointlike/fermi/data/obssim_binned/obssim_0016_4bpd.fits'.\n",
      "  warnings.warn(\"Overwriting existing file %r.\" % self.name)\n"
     ]
    },
    {
     "name": "stdout",
     "output_type": "stream",
     "text": [
      "found 40 bands, energies 10-1000000 MeV\n",
      "Gti: 456 intervals from 281029420 to 283621420, on time 2189432\n",
      "no header info in ltcube?\n",
      "Accepting ltcube without DSS info since legacy specified\n",
      "Verified ltcube /afs/slac/g/glast/groups/catalog//pointlike/fermi/data/obssim_output/000016/obssimFermiSky-000016_ltcube_0000.fits\n",
      "loading binfile /afs/slac/g/glast/groups/catalog//pointlike/fermi/data/obssim_binned/obssim_0016_4bpd.fits ... found 1842035 photons in 40 bands, energies 10-1000000 MeV\n",
      "Data is validated\n"
     ]
    }
   ],
   "source": [
    "for m in range(9,17):\n",
    "    os.chdir(os.path.expandvars('$FERMI/skymodels/obssim_monthly/omonth{:02d}'.format(m)))\n",
    "    check_data.main()"
   ]
  }
 ],
 "metadata": {
  "kernelspec": {
   "display_name": "Python 2",
   "language": "python",
   "name": "python2"
  },
  "language_info": {
   "codemirror_mode": {
    "name": "ipython",
    "version": 2
   },
   "file_extension": ".py",
   "mimetype": "text/x-python",
   "name": "python",
   "nbconvert_exporter": "python",
   "pygments_lexer": "ipython2",
   "version": "2.7.10"
  }
 },
 "nbformat": 4,
 "nbformat_minor": 0
}
