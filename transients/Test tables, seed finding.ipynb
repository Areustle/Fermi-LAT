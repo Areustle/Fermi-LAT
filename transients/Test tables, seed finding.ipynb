{
 "cells": [
  {
   "cell_type": "markdown",
   "metadata": {},
   "source": [
    "#Develop, test clustering\n",
    "Apply Sun position mask"
   ]
  },
  {
   "cell_type": "code",
   "execution_count": 1,
   "metadata": {
    "collapsed": false
   },
   "outputs": [
    {
     "data": {
      "text/plain": [
       "<module 'uw.like2.pipeline.check_ts' from '/afs/slac/g/glast/groups/catalog/pointlike/python/uw/like2/pipeline/check_ts.pyc'>"
      ]
     },
     "execution_count": 1,
     "metadata": {},
     "output_type": "execute_result"
    }
   ],
   "source": [
    "%matplotlib inline\n",
    "import pyfits, glob, pickle\n",
    "os.chdir(os.path.expandvars('$FERMI/skymodels/P301_monthly/month01'))\n",
    "from uw.like2.pub import healpix_map; reload(healpix_map)\n",
    "from uw.like2.analyze import hptables; reload(hptables)\n",
    "from uw.like2.pipeline import check_ts; reload(check_ts)"
   ]
  },
  {
   "cell_type": "code",
   "execution_count": 3,
   "metadata": {
    "collapsed": false
   },
   "outputs": [
    {
     "name": "stdout",
     "output_type": "stream",
     "text": [
      "Found table ts in file hptables_ts_kde_512.fits\n",
      "loaded file hptables_ts_kde_512.fits \n",
      "reconstructing seeds: hptables_ts_kde_512.fits --> seeds_ts.txt:  Too many pixels, 38135>30000, to cluster\n",
      "0 seeds\n"
     ]
    }
   ],
   "source": [
    "self=hptables.HPtables()"
   ]
  },
  {
   "cell_type": "code",
   "execution_count": 4,
   "metadata": {
    "collapsed": false
   },
   "outputs": [
    {
     "data": {
      "image/png": "[encoded data removed]",
      "text/plain": [
       "<matplotlib.figure.Figure at 0x7f47bd696110>"
      ]
     },
     "metadata": {},
     "output_type": "display_data"
    }
   ],
   "source": [
    "self.ts_map();"
   ]
  },
  {
   "cell_type": "code",
   "execution_count": 5,
   "metadata": {
    "collapsed": true
   },
   "outputs": [],
   "source": [
    "hpts = healpix_map.HParray(self.tsname, self.tables[self.tsname])"
   ]
  },
  {
   "cell_type": "code",
   "execution_count": 6,
   "metadata": {
    "collapsed": true
   },
   "outputs": [],
   "source": [
    "ecliptic_info= pickle.load(open(os.path.expandvars('$FERMI/misc/ecliptic_512.pickle')))\n",
    "monthly_info = pd.read_csv(os.path.expandvars('$FERMI/skymodels/P301_monthly/month_info.csv'), index_col=0)                         "
   ]
  },
  {
   "cell_type": "code",
   "execution_count": 7,
   "metadata": {
    "collapsed": false
   },
   "outputs": [
    {
     "data": {
      "text/plain": [
       "filename    ltcube_001_zmax100.fits\n",
       "tstart                 2.395574e+08\n",
       "tstop                    2.4196e+08\n",
       "sun_ra                     134.9682\n",
       "sun_dec                    17.05195\n",
       "sun_elon                   132.5044\n",
       "Name: 1, dtype: object"
      ]
     },
     "execution_count": 7,
     "metadata": {},
     "output_type": "execute_result"
    }
   ],
   "source": [
    "monthly_info.ix[1]"
   ]
  },
  {
   "cell_type": "code",
   "execution_count": 8,
   "metadata": {
    "collapsed": false
   },
   "outputs": [
    {
     "data": {
      "text/plain": [
       "274214"
      ]
     },
     "execution_count": 8,
     "metadata": {},
     "output_type": "execute_result"
    }
   ],
   "source": [
    "elat_mask = np.abs(ecliptic_info[:,1])<5; sum(elat_mask)"
   ]
  },
  {
   "cell_type": "code",
   "execution_count": null,
   "metadata": {
    "collapsed": true
   },
   "outputs": [],
   "source": [
    "def ecliptic_mask( elon_min, elon_max, elat_max=5):\n",
    "    ecliptic_info= pickle.load(open(os.path.expandvars('$FERMI/misc/ecliptic_512.pickle')))\n",
    "    elon_vec = ecliptic_info[:,0]\n",
    "    elat_mask = np.abs(ecliptic_info[:,1])<5\n",
    "    elon_mask = (elon_vec>132.5) & (elon_vec<(132.5+30));\n",
    "    return elat_mask & elon_mask\n",
    "e_mask=ecliptic_mask(102.5, 162.5)\n",
    "    "
   ]
  },
  {
   "cell_type": "code",
   "execution_count": 9,
   "metadata": {
    "collapsed": false
   },
   "outputs": [
    {
     "name": "stdout",
     "output_type": "stream",
     "text": [
      "masked pixels: 22846\n"
     ]
    },
    {
     "data": {
      "text/plain": [
       "<uw.utilities.image.AIT at 0x7f47bd5fa750>"
      ]
     },
     "execution_count": 9,
     "metadata": {},
     "output_type": "execute_result"
    },
    {
     "data": {
      "image/png": "[encoded data removed]",
      "text/plain": [
       "<matplotlib.figure.Figure at 0x7f47bbc13a90>"
      ]
     },
     "metadata": {},
     "output_type": "display_data"
    }
   ],
   "source": [
    "elon_vec = ecliptic_info[:,0]\n",
    "elon_mask = (elon_vec>132.5) & (elon_vec<(132.5+30));\n",
    "ecliptic_mask = elat_mask & elon_mask; sum(ecliptic_mask)\n",
    "print 'masked pixels:', sum(ecliptic_mask)\n",
    "mask_check = healpix_map.HParray('mask_check', ecliptic_mask)\n",
    "mask_check.plot()"
   ]
  },
  {
   "cell_type": "code",
   "execution_count": 10,
   "metadata": {
    "collapsed": false
   },
   "outputs": [
    {
     "data": {
      "text/plain": [
       "(26985, array([   6210,    6211,    6212, ..., 3129522, 3129879, 3129880]))"
      ]
     },
     "execution_count": 10,
     "metadata": {},
     "output_type": "execute_result"
    }
   ],
   "source": [
    "pixels=tsdata.indices(ts_min=10,mask=~ecliptic_mask); len(pixels), pixels"
   ]
  },
  {
   "cell_type": "code",
   "execution_count": 12,
   "metadata": {
    "collapsed": false
   },
   "outputs": [
    {
     "name": "stdout",
     "output_type": "stream",
     "text": [
      "Clustering 26985 pixels...\n",
      "Found 784 clusters\n",
      "Found 784 clusters\n",
      "Added split clusters, now 813 total\n"
     ]
    }
   ],
   "source": [
    "seedfile='seeds_ts.txt'\n",
    "rec = open(seedfile, 'w')\n",
    "nseeds = check_ts.make_seeds(tsdata, 'test',  rec=rec, seedroot='M01', mask=~ecliptic_mask)"
   ]
  },
  {
   "cell_type": "code",
   "execution_count": null,
   "metadata": {
    "collapsed": true
   },
   "outputs": [],
   "source": []
  }
 ],
 "metadata": {
  "kernelspec": {
   "display_name": "Python 2",
   "language": "python",
   "name": "python2"
  },
  "language_info": {
   "codemirror_mode": {
    "name": "ipython",
    "version": 2
   },
   "file_extension": ".py",
   "mimetype": "text/x-python",
   "name": "python",
   "nbconvert_exporter": "python",
   "pygments_lexer": "ipython2",
   "version": "2.7.10"
  }
 },
 "nbformat": 4,
 "nbformat_minor": 0
}
