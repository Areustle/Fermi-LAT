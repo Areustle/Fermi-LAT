{
 "cells": [
  {
   "cell_type": "markdown",
   "metadata": {},
   "source": [
    "## Study time dependence of a transient source\n",
    "\n",
    "Look at month16 ROi 1541:\n",
    "<pre>\n",
    "name               dist        ra       dec        TS eflux(eV)    index   energy   beta/b\n",
    "TSh16-1238          1.4    15.247   -68.302        13       6.5*    2.34*     697     0\n",
    "PSR J0101-6422      2.5    15.287   -64.368        19       5.6*    1.13     1826     1\n",
    "TSh16-1223          2.9    16.521   -69.772        18       9.1*    1.64*     950     0\n",
    "</pre>\n",
    "\n",
    "I want to examine the time structure of each of these three sources.\n",
    "\n",
    "First CD into the folder for the model."
   ]
  },
  {
   "cell_type": "code",
   "execution_count": null,
   "metadata": {
    "collapsed": false
   },
   "outputs": [],
   "source": [
    "%matplotlib inline\n",
    "month_number=16\n",
    "month_name='month%02d' % month_number\n",
    "roi_number=1541\n",
    "os.chdir(os.path.expandvars('$FERMI/skymodels/P301_monthly/%s' % month_name))"
   ]
  },
  {
   "cell_type": "markdown",
   "metadata": {},
   "source": [
    "Then get the FT1 file"
   ]
  },
  {
   "cell_type": "code",
   "execution_count": null,
   "metadata": {
    "collapsed": false
   },
   "outputs": [],
   "source": [
    "import pyfits\n",
    "ft1_file='/nfs/farm/g/glast/g/catalog/P8_P301/Source/P301_Source_%03d_zmax100.fits'% month_number\n",
    "ft1 = pyfits.open(ft1_file)\n",
    "print ft1.info()\n",
    "events = ft1[1].data"
   ]
  },
  {
   "cell_type": "code",
   "execution_count": null,
   "metadata": {
    "collapsed": false
   },
   "outputs": [],
   "source": [
    "ra = events.RA\n",
    "dec = events.DEC\n",
    "time = events.TIME\n",
    "energy = events.ENERGY"
   ]
  },
  {
   "cell_type": "code",
   "execution_count": null,
   "metadata": {
    "collapsed": true
   },
   "outputs": [],
   "source": [
    "import pickle\n",
    "sourcedf = pickle.load(open('sources.pickle'))"
   ]
  },
  {
   "cell_type": "code",
   "execution_count": null,
   "metadata": {
    "collapsed": false,
    "scrolled": true
   },
   "outputs": [],
   "source": [
    "def lightcurve(source_name):\n",
    "    adir = sourcedf.ix[source_name].skydir\n",
    "    cut = (np.abs(ra-adir.ra())<10) & (np.abs(dec-adir.dec())<10)& (energy>400) \n",
    "    sdir = map(SkyDir, np.array(ra[cut],float), np.array(dec[cut],float))\n",
    "    diffs = np.asarray(np.degrees( [ adir.difference(b) for b in sdir]))        \n",
    "    day=(time[cut]-time.min())/(24*3600.)\n",
    "    \n",
    "    fig, axx = plt.subplots(1,2, figsize=(12,4))\n",
    "\n",
    "    ax = axx[0]\n",
    "    ax.hist(diffs**2, np.linspace(0,4,41), histtype='step');\n",
    "    ax.grid(True, alpha=0.5)\n",
    "    plt.setp(ax, xlabel='distance**2 [deg**2]')\n",
    "\n",
    "    ax=axx[1]\n",
    "    ax.hist(day[diffs<4], np.linspace(0, 30,31), histtype='step', log=True);\n",
    "    ax.hist(day[diffs<0.5], np.linspace(0, 30, 31), histtype='step', log=True);\n",
    "    ax.grid(True, alpha=0.5)\n",
    "    plt.setp(ax, ylim=(0.8,None),xlabel='day of month' )\n",
    "    fig.suptitle('%s for month %d' % (source_name, month_number) )"
   ]
  },
  {
   "cell_type": "code",
   "execution_count": null,
   "metadata": {
    "collapsed": false,
    "scrolled": false
   },
   "outputs": [],
   "source": [
    "s=sourcedf\n",
    "s[(s.psr) & (s.ts>1000)]['ts ra dec glat '.split()]"
   ]
  },
  {
   "cell_type": "code",
   "execution_count": null,
   "metadata": {
    "collapsed": false
   },
   "outputs": [],
   "source": [
    "ts_sources = np.asarray([s.startswith('TS') for s in sourcedf.index], bool)\n",
    "cands = sourcedf.ix[ts_sources & (sourcedf.ts>10) & (np.abs(sourcedf.glat)>10)\\\n",
    "                    & (sourcedf.locqual<8)]['ts ra dec a locqual'.split()]\n",
    "cands.sort_index()\n",
    "\n"
   ]
  },
  {
   "cell_type": "code",
   "execution_count": null,
   "metadata": {
    "collapsed": true
   },
   "outputs": [],
   "source": []
  }
 ],
 "metadata": {
  "kernelspec": {
   "display_name": "Python 2",
   "language": "python",
   "name": "python2"
  },
  "language_info": {
   "codemirror_mode": {
    "name": "ipython",
    "version": 2
   },
   "file_extension": ".py",
   "mimetype": "text/x-python",
   "name": "python",
   "nbconvert_exporter": "python",
   "pygments_lexer": "ipython2",
   "version": "2.7.10"
  }
 },
 "nbformat": 4,
 "nbformat_minor": 0
}
