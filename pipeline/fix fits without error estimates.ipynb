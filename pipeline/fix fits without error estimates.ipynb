{
 "metadata": {
  "name": "",
  "signature": "sha256:1be90092d215ddbd9b799fbcf879ec4a39e2113daecd2a6d9053a289419d4d1f"
 },
 "nbformat": 3,
 "nbformat_minor": 0,
 "worksheets": [
  {
   "cells": [
    {
     "cell_type": "markdown",
     "metadata": {},
     "source": [
      "#Fix fits\n",
      "Analyze and fix spectral fits for which the analysis of the Hessian matrix failed to provide error estimates.<br>\n",
      "Usually need to tweak parameters"
     ]
    },
    {
     "cell_type": "code",
     "collapsed": false,
     "input": [
      "%matplotlib inline\n",
      "import os\n",
      "os.chdir(os.path.expandvars('$FERMI/skymodels/P301_5years/uw904'))\n",
      "from uw.like2 import process"
     ],
     "language": "python",
     "metadata": {},
     "outputs": [],
     "prompt_number": 1
    },
    {
     "cell_type": "code",
     "collapsed": false,
     "input": [
      "r = process.Process('.')"
     ],
     "language": "python",
     "metadata": {},
     "outputs": [
      {
       "output_type": "stream",
       "stream": "stdout",
       "text": [
        "Backend: module://IPython.kernel.zmq.pylab.backend_inline\n",
        "Using configuration file \"config.txt\" in folder: /nfs/farm/g/glast/u55/catalog/pointlike/skymodels/P301_5years/uw904/.\n",
        "Opening dataset P301_5years from key in /afs/slac/g/glast/groups/catalog//pointlike/fermi/data/dataspec.py"
       ]
      },
      {
       "output_type": "stream",
       "stream": "stdout",
       "text": [
        "\n",
        "FT file(s) \"/afs/slac/g/glast/groups/catalog//pointlike/fermi/data/../../P8_P301/Source/P301_*.fits\" not found: assume None to test for valid binfile\n",
        "Extracting DSS from existing binfile"
       ]
      },
      {
       "output_type": "stream",
       "stream": "stdout",
       "text": [
        "\n",
        "GTI from binfile Gti: 29383 intervals from 239557417 to 397129895, on time 127714955\n",
        "Verified binfile /afs/slac/g/glast/groups/catalog//pointlike/fermi/data/P8_P301/5years_4bpd.fits\n",
        "no header info in ltcube?"
       ]
      },
      {
       "output_type": "stream",
       "stream": "stdout",
       "text": [
        "\n",
        "Accepting ltcube without DSS info since legacy specified\n",
        "Verified ltcube /afs/slac/g/glast/groups/catalog//pointlike/fermi/data/P8_P301/ltcube_5years_zmax100.fits"
       ]
      },
      {
       "output_type": "stream",
       "stream": "stdout",
       "text": [
        "\n",
        "loading binfile /afs/slac/g/glast/groups/catalog//pointlike/fermi/data/P8_P301/5years_4bpd.fits ..."
       ]
      },
      {
       "output_type": "stream",
       "stream": "stdout",
       "text": [
        " found 135710681 photons in 40 bands, energies 10-1000000 MeV\n",
        "dataset \"P301_5years\", found in /afs/slac/g/glast/groups/catalog//pointlike/fermi/data/dataspec.py:\n",
        "  Bins per decade: 4\n",
        "  FT1 files: \tNone\n",
        "  FT2 files: \tNone\n",
        "  Binned data: /afs/slac/g/glast/groups/catalog//pointlike/fermi/data/P8_P301/5years_4bpd.fits\n",
        "             :  135710681 photons, 40 energy bands from 10 to 1000000 MeV\n",
        "  Livetime cube: /afs/slac/g/glast/groups/catalog//pointlike/fermi/data/P8_P301/ltcube_5years_zmax100.fits\n",
        "  Gti: 29383 intervals from 239557417 to 397129895, on time 127714955\n",
        "  DSS: name             value     units     ref       \n",
        "\n",
        "Will load healpix sources from /nfs/farm/g/glast/u55/catalog/pointlike/skymodels/P301_5years/uw904/./pickle.zip"
       ]
      },
      {
       "output_type": "stream",
       "stream": "stdout",
       "text": [
        "\n"
       ]
      }
     ],
     "prompt_number": 2
    },
    {
     "cell_type": "code",
     "collapsed": false,
     "input": [
      "r.setup_roi(190);r.print_summary(); r.summarize()"
     ],
     "language": "python",
     "metadata": {},
     "outputs": [
      {
       "output_type": "stream",
       "stream": "stdout",
       "text": [
        "39 total sources: 0 extended, 4 global\n",
        "------------------------------------------------------------------------------------------"
       ]
      },
      {
       "output_type": "stream",
       "stream": "stdout",
       "text": [
        " \n",
        "\t Nearby sources within 5.0 degrees HP12_0190\n",
        "name               dist        ra       dec        TS eflux(eV)    index   energy   beta/b\n",
        "SEED-212            1.3   227.470    57.164        21       1.2?    3.31?    1000     0\n",
        "SEED-208            1.3   227.314    57.149         3       0.5?    3.07*    1000     0"
       ]
      },
      {
       "output_type": "stream",
       "stream": "stdout",
       "text": [
        "\n",
        "P7R42286A           2.3   232.773    58.648                 0.4     2.18     2979     0\n",
        "SEED-257            2.4   231.580    60.093         6       0.7*    2.80*    2605     0"
       ]
      },
      {
       "output_type": "stream",
       "stream": "stdout",
       "text": [
        "\n",
        "P7R42236            2.5   227.439    55.938       207       2.9*    1.85!    3754     0\n",
        "P7R42291            2.5   232.756    57.610                 1.9     2.01     2544     0"
       ]
      },
      {
       "output_type": "stream",
       "stream": "stdout",
       "text": [
        "\n",
        "P7R42274            2.8   230.203    55.755        72       1.8*    2.36!    1950     0\n",
        "P7R42210            2.9   225.600    55.873       286       3.9*    2.31!     908     0"
       ]
      },
      {
       "output_type": "stream",
       "stream": "stdout",
       "text": [
        "\n",
        "P7R42205G           3.6   224.780    61.483                 1.2     2.55     1254     0\n",
        "P7R42170G           4.4   220.511    60.110                 0.4     2.76      807     0\n",
        "P7R42323            4.9   235.747    61.498                29.0     1.90      875     0.06 \n",
        "------------------------------------------------------------------------------------------ \n",
        "\tDiffuse sources\n",
        "------------------------------------------------------------------------------------------\n",
        "limb                        0.56       1.20 \n",
        "ring                        1.00       0.00 \n",
        "isotrop                     0.89!\n",
        "SunMoon                     1.00 \n",
        "------------------------------------------------------------------------------------------\n",
        "current likelihood, est. diff to peak: 135381.3, -0.33"
       ]
      },
      {
       "output_type": "stream",
       "stream": "stdout",
       "text": [
        "\n",
        "Name                  index     value  error(%)  gradient\n",
        "isotrop_Scale             0    0.8905       1.6       5.5\n",
        "P7R42274_Norm             1 6.323e-14      24.8      -1.6\n",
        "        _Index            2     2.362       8.0       1.4\n",
        "P7R42210_Norm             3  8.31e-13      12.2       0.7\n",
        "        _Index            4     2.314       4.3      -2.1\n",
        "P7R42236_Norm             5 2.902e-14      17.7       1.6\n",
        "        _Index            6     1.848       7.0       0.2\n",
        "SEED-212_Norm             7 7.715e-14       ***      -0.2\n",
        "        _Index            8     3.311       ***       3.7\n",
        "SEED-208_Norm             9 4.564e-14       ***       0.3\n",
        "        _Index           10     3.072      23.2       0.7\n",
        "SEED-257_Norm            11 6.243e-15     108.9       2.2\n",
        "        _Index           12     2.799      20.3       2.4\n"
       ]
      }
     ],
     "prompt_number": 176
    },
    {
     "cell_type": "code",
     "collapsed": false,
     "input": [
      "#help(r)\n",
      "#r.freeze('beta','*0232',value=0)\n",
      "#r.thaw('b','*4429')\n",
      "#r.del_source('SEED-905')\n",
      "#r.fit()\n",
      "#r.fit([9,10])\n",
      "r.fit(tolerance=0)\n",
      "#r.fit([1,2],tolerance=0)\n",
      "#r.fit(setpars={1:1e-12})"
     ],
     "language": "python",
     "metadata": {},
     "outputs": [
      {
       "output_type": "stream",
       "stream": "stdout",
       "text": [
        "7 calls, function value, improvement, quality: 135379.7, 1.45, 10.50\n",
        "Name                  index     value  error(%)  gradient\n",
        "isotrop_Scale             0    0.8971       1.7      15.6\n",
        "P7R42274_Norm             1 6.675e-14      23.7       2.5\n",
        "        _Index            2     2.371       7.9       0.6\n",
        "P7R42210_Norm             3 8.668e-13      12.0       6.4\n",
        "        _Index            4     2.325       4.4      -7.4\n",
        "P7R42236_Norm             5 3.058e-14      17.1       8.2\n",
        "        _Index            6      1.86       7.0      -0.7\n",
        "SEED-212_Norm             7 8.293e-14     149.0     -16.1\n",
        "        _Index            8     3.151      27.5      -6.1\n",
        "SEED-257_Norm             9 6.243e-15     109.0       2.4\n",
        "        _Index           10     2.801      20.6       2.3\n"
       ]
      }
     ],
     "prompt_number": 181
    },
    {
     "cell_type": "code",
     "collapsed": false,
     "input": [
      "r.del_source('SEED-208')"
     ],
     "language": "python",
     "metadata": {},
     "outputs": [
      {
       "metadata": {},
       "output_type": "pyout",
       "prompt_number": 180,
       "text": [
        "uw.like2.sources.PointSource: \n",
        "\tname  : SEED-208\n",
        "\tskydir: SkyDir(227.314,57.149)\n",
        "\tmodel : LogParabola\n",
        "\t\tNorm      : (1 + 0.000 - 0.000) (avg = 0.000) 6.05e-14   \n",
        "\t\tIndex     : (1 + 0.000 - 0.000) (avg = 0.000) 3.15       \n",
        "\t\tbeta      : (1 + 0.000 - 0.000) (avg = 0.000) 0          (FROZEN)\n",
        "\t\tE_break   : (1 + 0.000 - 0.000) (avg = 0.000) 1e+03      (FROZEN)\n",
        "\t\tPh. Flux  : (1 + 0.000 - 0.000) (avg = 0.000) 3.96e-09   (DERIVED)\n",
        "\t\tEn. Flux  : (1 + 0.000 - 0.000) (avg = 0.000) 1.19e-12   (DERIVED)"
       ]
      }
     ],
     "prompt_number": 180
    },
    {
     "cell_type": "code",
     "collapsed": false,
     "input": [
      "r.get_model('*5925')[1]=1"
     ],
     "language": "python",
     "metadata": {},
     "outputs": [],
     "prompt_number": 226
    },
    {
     "cell_type": "code",
     "collapsed": false,
     "input": [
      "r.get_model('*0232')"
     ],
     "language": "python",
     "metadata": {},
     "outputs": [
      {
       "metadata": {},
       "output_type": "pyout",
       "prompt_number": 164,
       "text": [
        "Norm      : (1 + 0.124 - 0.110) (avg = 0.117) 1.17e-13   \n",
        "Index     : (1 + 0.048 - 0.048) (avg = 0.048) 1.67       \n",
        "beta      : (1 + 0.198 - 0.198) (avg = 0.198) 0.141      (FROZEN)\n",
        "E_break   : (1 + 0.000 - 0.000) (avg = 0.000) 7.95e+03   (FROZEN)\n",
        "Ph. Flux  : (1 + 0.262 - 0.208) (avg = 0.233) 8.35e-09   (DERIVED)\n",
        "En. Flux  : (1 + 0.105 - 0.095) (avg = 0.100) 6.14e-11   (DERIVED)"
       ]
      }
     ],
     "prompt_number": 164
    },
    {
     "cell_type": "code",
     "collapsed": false,
     "input": [
      "r.summarize()"
     ],
     "language": "python",
     "metadata": {},
     "outputs": [
      {
       "output_type": "stream",
       "stream": "stdout",
       "text": [
        "current likelihood, est. diff to peak: 241231.3, 0.03\n",
        "Name                  index     value  error(%)  gradient\n",
        "isotrop_Scale             0    0.8424       3.9       0.0\n",
        "P7R40677_Norm             1 5.407e-15      36.4       0.1\n",
        "        _Index            2     1.867      13.3      -0.2\n",
        "SEED-905_Norm             3 1.415e-13       ***      -1.0\n",
        "        _Index            4      2.07       2.1      -0.6\n",
        "SEED-850_Norm             5 1.847e-13       ***       0.0\n",
        "        _Index            6     1.836       ***      -1.3\n"
       ]
      }
     ],
     "prompt_number": 74
    },
    {
     "cell_type": "code",
     "collapsed": false,
     "input": [
      "r.fit(tolerance=0)"
     ],
     "language": "python",
     "metadata": {},
     "outputs": [
      {
       "output_type": "stream",
       "stream": "stdout",
       "text": [
        "Minimizer warning: bad errors for values ['SEED-257_Norm' 'SEED-257_Index']\n",
        "4 calls, function value, improvement, quality: 135380.0, 0.00, 0.03"
       ]
      },
      {
       "output_type": "stream",
       "stream": "stdout",
       "text": [
        "\n",
        "Name                  index     value  error(%)  gradient\n",
        "isotrop_Scale             0    0.8995       1.4     -16.0\n",
        "P7R42274_Norm             1 6.228e-14      25.2      -0.0\n",
        "        _Index            2     2.378       8.0       3.1\n",
        "P7R42210_Norm             3  8.18e-13      12.3      -0.6\n",
        "        _Index            4     2.311       4.3      -2.0\n",
        "P7R42236_Norm             5 2.825e-14      18.0      -0.6\n",
        "        _Index            6     1.858       7.0       2.1\n",
        "SEED-212_Norm             7 1.528e-13      42.5       0.1\n",
        "        _Index            8     3.069       9.4       1.4\n",
        "SEED-257_Norm             9 2.833e-16       ***      -0.5\n",
        "        _Index           10     1.865       ***       0.1\n"
       ]
      }
     ],
     "prompt_number": 23
    },
    {
     "cell_type": "code",
     "collapsed": false,
     "input": [
      "r.process()"
     ],
     "language": "python",
     "metadata": {},
     "outputs": [
      {
       "output_type": "stream",
       "stream": "stdout",
       "text": [
        "================================================================================\n",
        "2014-07-31 09:33:20 - HP12_0190 - interactive\n"
       ]
      },
      {
       "output_type": "stream",
       "stream": "stdout",
       "text": [
        "------------------------------------------------------------------------------------------ \n",
        "\t Nearby sources within 5.0 degrees before fit, logL=135380\n",
        "name               dist        ra       dec        TS eflux(eV)    index   energy   beta/b\n",
        "SEED-212            1.3   227.470    57.164        31       1.0*    3.15*    1000     0"
       ]
      },
      {
       "output_type": "stream",
       "stream": "stdout",
       "text": [
        "\n",
        "P7R42286A           2.3   232.773    58.648                 0.4     2.18     2979     0\n",
        "SEED-257            2.4   231.580    60.093         6       0.7*    2.80*    2605     0"
       ]
      },
      {
       "output_type": "stream",
       "stream": "stdout",
       "text": [
        "\n",
        "P7R42236            2.5   227.439    55.938       209       3.0*    1.86!    3754     0"
       ]
      },
      {
       "output_type": "stream",
       "stream": "stdout",
       "text": [
        "\n",
        "P7R42291            2.5   232.756    57.610                 1.9     2.01     2544     0\n",
        "P7R42274            2.8   230.203    55.755        74       1.9*    2.37!    1950     0"
       ]
      },
      {
       "output_type": "stream",
       "stream": "stdout",
       "text": [
        "\n",
        "P7R42210            2.9   225.600    55.873       295       4.0*    2.33!     908     0"
       ]
      },
      {
       "output_type": "stream",
       "stream": "stdout",
       "text": [
        "\n",
        "P7R42205G           3.6   224.780    61.483                 1.2     2.55     1254     0\n",
        "P7R42170G           4.4   220.511    60.110                 0.4     2.76      807     0\n",
        "P7R42323            4.9   235.747    61.498                29.0     1.90      875     0.06 \n",
        "------------------------------------------------------------------------------------------ \n",
        "\tDiffuse sources\n",
        "------------------------------------------------------------------------------------------\n",
        "limb                        0.56       1.20 \n",
        "ring                        1.00       0.00 \n",
        "isotrop                     0.90!"
       ]
      },
      {
       "output_type": "stream",
       "stream": "stdout",
       "text": [
        "\n",
        "SunMoon                     1.00 \n",
        "------------------------------------------------------------------------------------------\n",
        "5 calls, function value, improvement, quality: 135379.7, 0.02, 11.00"
       ]
      },
      {
       "output_type": "stream",
       "stream": "stdout",
       "text": [
        "\n",
        "Name                  index     value  error(%)  gradient\n",
        "isotrop_Scale             0    0.8954       1.7     -52.8\n",
        "P7R42274_Norm             1 6.666e-14      23.7       1.3\n",
        "        _Index            2     2.371       8.1      -0.4\n",
        "P7R42210_Norm             3 8.652e-13      12.1       3.7\n",
        "        _Index            4     2.326       4.5      -8.4\n",
        "P7R42236_Norm             5 3.054e-14      17.2       7.4\n",
        "        _Index            6      1.86       7.1      -1.4\n",
        "SEED-212_Norm             7 8.317e-14     150.6     -17.1\n",
        "        _Index            8     3.151      28.0      -6.9\n",
        "SEED-257_Norm             9 6.238e-15     110.2       1.8\n",
        "        _Index           10       2.8      21.2       1.6\n",
        "-------- analyzing counts histogram, "
       ]
      },
      {
       "output_type": "stream",
       "stream": "stdout",
       "text": [
        " chisquared: 9.9 ----\n",
        "saved pickle file to ./pickle/HP12_0190.pickle"
       ]
      },
      {
       "output_type": "stream",
       "stream": "stdout",
       "text": [
        "\n"
       ]
      }
     ],
     "prompt_number": 182
    },
    {
     "cell_type": "code",
     "collapsed": false,
     "input": [
      "!zip -f pickle.zip"
     ],
     "language": "python",
     "metadata": {},
     "outputs": [
      {
       "output_type": "stream",
       "stream": "stdout",
       "text": [
        "freshening: pickle/HP12_0190.pickle"
       ]
      },
      {
       "output_type": "stream",
       "stream": "stdout",
       "text": [
        " (deflated 67%)\r\n"
       ]
      }
     ],
     "prompt_number": 183
    },
    {
     "cell_type": "code",
     "collapsed": false,
     "input": [],
     "language": "python",
     "metadata": {},
     "outputs": []
    }
   ],
   "metadata": {}
  }
 ]
}