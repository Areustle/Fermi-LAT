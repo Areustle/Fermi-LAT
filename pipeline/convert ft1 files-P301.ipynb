{
 "metadata": {
  "name": "",
  "signature": "sha256:414f67edba1c32b3a32ecac51baaa7d0e068f692fe62ee76780d6cd7c06eb965"
 },
 "nbformat": 3,
 "nbformat_minor": 0,
 "worksheets": [
  {
   "cells": [
    {
     "cell_type": "markdown",
     "metadata": {},
     "source": [
      "#Convert ft1 files\n",
      "Given a set of monthly FT1 files, create binned photon data files for each one\n",
      "\n",
      "Update 01/28/15: detect presence of output file"
     ]
    },
    {
     "cell_type": "code",
     "collapsed": false,
     "input": [
      "import os, glob\n",
      "infolder = os.path.expandvars('$FERMI/data/P8_P301/Source/')\n",
      "outfolder= os.path.expandvars('$FERMI/data/P8_P301/binfiles/')\n",
      "ft1s = sorted(glob.glob(infolder+'*Source*.fits'))\n",
      "print 'found %d FT1 files' % len(ft1s)\n",
      "ltcubes =sorted(glob.glob(infolder+'ltcube*.fits'))\n",
      "print 'found %d ltcube files' %len(ltcubes)\n",
      "assert len(ft1s)>0 # and len(ft1s)==len(ltcubes)\n",
      "from uw.data import dataman; reload(dataman)\n",
      "for ft1,ltcube in zip(ft1s,ltcubes):\n",
      "    binfile = os.path.join(outfolder, os.path.split(ft1)[-1]).replace('.fits', '_4bpd.fits')\n",
      "    print '------' + binfile + '--------------',\n",
      "    if os.path.exists(binfile):\n",
      "        print 'exists'\n",
      "        continue\n",
      "    print 'OK'\n",
      "    ds = dataman.DataSpec(ft1=ft1,  ft2=None,\n",
      "                      ltcube=ltcube, binfile = binfile,\n",
      "                      binsperdec=4, legacy=True,\n",
      "                      )"
     ],
     "language": "python",
     "metadata": {},
     "outputs": [
      {
       "output_type": "stream",
       "stream": "stdout",
       "text": [
        "found 73 FT1 files\n",
        "found 73 ltcube files\n",
        "------/afs/slac/g/glast/groups/catalog//pointlike/fermi/data/P8_P301/binfiles/P301_Source_001_zmax100_4bpd.fits-------------- exists\n",
        "------/afs/slac/g/glast/groups/catalog//pointlike/fermi/data/P8_P301/binfiles/P301_Source_002_zmax100_4bpd.fits-------------- exists\n",
        "------/afs/slac/g/glast/groups/catalog//pointlike/fermi/data/P8_P301/binfiles/P301_Source_003_zmax100_4bpd.fits-------------- exists\n",
        "------/afs/slac/g/glast/groups/catalog//pointlike/fermi/data/P8_P301/binfiles/P301_Source_004_zmax100_4bpd.fits-------------- exists\n",
        "------/afs/slac/g/glast/groups/catalog//pointlike/fermi/data/P8_P301/binfiles/P301_Source_005_zmax100_4bpd.fits-------------- exists\n",
        "------/afs/slac/g/glast/groups/catalog//pointlike/fermi/data/P8_P301/binfiles/P301_Source_006_zmax100_4bpd.fits-------------- exists\n",
        "------/afs/slac/g/glast/groups/catalog//pointlike/fermi/data/P8_P301/binfiles/P301_Source_007_zmax100_4bpd.fits-------------- exists\n",
        "------/afs/slac/g/glast/groups/catalog//pointlike/fermi/data/P8_P301/binfiles/P301_Source_008_zmax100_4bpd.fits-------------- exists\n",
        "------/afs/slac/g/glast/groups/catalog//pointlike/fermi/data/P8_P301/binfiles/P301_Source_009_zmax100_4bpd.fits-------------- exists\n",
        "------/afs/slac/g/glast/groups/catalog//pointlike/fermi/data/P8_P301/binfiles/P301_Source_010_zmax100_4bpd.fits-------------- exists\n",
        "------/afs/slac/g/glast/groups/catalog//pointlike/fermi/data/P8_P301/binfiles/P301_Source_011_zmax100_4bpd.fits-------------- exists\n",
        "------/afs/slac/g/glast/groups/catalog//pointlike/fermi/data/P8_P301/binfiles/P301_Source_012_zmax100_4bpd.fits-------------- exists\n",
        "------/afs/slac/g/glast/groups/catalog//pointlike/fermi/data/P8_P301/binfiles/P301_Source_013_zmax100_4bpd.fits-------------- exists\n",
        "------/afs/slac/g/glast/groups/catalog//pointlike/fermi/data/P8_P301/binfiles/P301_Source_014_zmax100_4bpd.fits-------------- exists\n",
        "------/afs/slac/g/glast/groups/catalog//pointlike/fermi/data/P8_P301/binfiles/P301_Source_015_zmax100_4bpd.fits-------------- exists\n",
        "------/afs/slac/g/glast/groups/catalog//pointlike/fermi/data/P8_P301/binfiles/P301_Source_016_zmax100_4bpd.fits-------------- exists\n",
        "------/afs/slac/g/glast/groups/catalog//pointlike/fermi/data/P8_P301/binfiles/P301_Source_017_zmax100_4bpd.fits-------------- exists\n",
        "------/afs/slac/g/glast/groups/catalog//pointlike/fermi/data/P8_P301/binfiles/P301_Source_018_zmax100_4bpd.fits-------------- exists\n",
        "------/afs/slac/g/glast/groups/catalog//pointlike/fermi/data/P8_P301/binfiles/P301_Source_019_zmax100_4bpd.fits-------------- exists\n",
        "------/afs/slac/g/glast/groups/catalog//pointlike/fermi/data/P8_P301/binfiles/P301_Source_020_zmax100_4bpd.fits-------------- exists\n",
        "------/afs/slac/g/glast/groups/catalog//pointlike/fermi/data/P8_P301/binfiles/P301_Source_021_zmax100_4bpd.fits-------------- exists\n",
        "------/afs/slac/g/glast/groups/catalog//pointlike/fermi/data/P8_P301/binfiles/P301_Source_022_zmax100_4bpd.fits-------------- exists\n",
        "------/afs/slac/g/glast/groups/catalog//pointlike/fermi/data/P8_P301/binfiles/P301_Source_023_zmax100_4bpd.fits-------------- exists\n",
        "------/afs/slac/g/glast/groups/catalog//pointlike/fermi/data/P8_P301/binfiles/P301_Source_024_zmax100_4bpd.fits-------------- exists\n",
        "------/afs/slac/g/glast/groups/catalog//pointlike/fermi/data/P8_P301/binfiles/P301_Source_025_zmax100_4bpd.fits-------------- exists\n",
        "------/afs/slac/g/glast/groups/catalog//pointlike/fermi/data/P8_P301/binfiles/P301_Source_026_zmax100_4bpd.fits-------------- exists\n",
        "------/afs/slac/g/glast/groups/catalog//pointlike/fermi/data/P8_P301/binfiles/P301_Source_027_zmax100_4bpd.fits-------------- exists\n",
        "------/afs/slac/g/glast/groups/catalog//pointlike/fermi/data/P8_P301/binfiles/P301_Source_028_zmax100_4bpd.fits-------------- exists\n",
        "------/afs/slac/g/glast/groups/catalog//pointlike/fermi/data/P8_P301/binfiles/P301_Source_029_zmax100_4bpd.fits-------------- exists\n",
        "------/afs/slac/g/glast/groups/catalog//pointlike/fermi/data/P8_P301/binfiles/P301_Source_030_zmax100_4bpd.fits-------------- exists\n",
        "------/afs/slac/g/glast/groups/catalog//pointlike/fermi/data/P8_P301/binfiles/P301_Source_031_zmax100_4bpd.fits-------------- exists\n",
        "------/afs/slac/g/glast/groups/catalog//pointlike/fermi/data/P8_P301/binfiles/P301_Source_032_zmax100_4bpd.fits-------------- exists\n",
        "------/afs/slac/g/glast/groups/catalog//pointlike/fermi/data/P8_P301/binfiles/P301_Source_033_zmax100_4bpd.fits-------------- exists\n",
        "------/afs/slac/g/glast/groups/catalog//pointlike/fermi/data/P8_P301/binfiles/P301_Source_034_zmax100_4bpd.fits-------------- exists\n",
        "------/afs/slac/g/glast/groups/catalog//pointlike/fermi/data/P8_P301/binfiles/P301_Source_035_zmax100_4bpd.fits-------------- exists\n",
        "------/afs/slac/g/glast/groups/catalog//pointlike/fermi/data/P8_P301/binfiles/P301_Source_036_zmax100_4bpd.fits-------------- exists\n",
        "------/afs/slac/g/glast/groups/catalog//pointlike/fermi/data/P8_P301/binfiles/P301_Source_037_zmax100_4bpd.fits-------------- exists\n",
        "------/afs/slac/g/glast/groups/catalog//pointlike/fermi/data/P8_P301/binfiles/P301_Source_038_zmax100_4bpd.fits-------------- exists\n",
        "------/afs/slac/g/glast/groups/catalog//pointlike/fermi/data/P8_P301/binfiles/P301_Source_039_zmax100_4bpd.fits-------------- exists\n",
        "------/afs/slac/g/glast/groups/catalog//pointlike/fermi/data/P8_P301/binfiles/P301_Source_040_zmax100_4bpd.fits-------------- exists\n",
        "------/afs/slac/g/glast/groups/catalog//pointlike/fermi/data/P8_P301/binfiles/P301_Source_041_zmax100_4bpd.fits-------------- exists\n",
        "------/afs/slac/g/glast/groups/catalog//pointlike/fermi/data/P8_P301/binfiles/P301_Source_042_zmax100_4bpd.fits-------------- exists\n",
        "------/afs/slac/g/glast/groups/catalog//pointlike/fermi/data/P8_P301/binfiles/P301_Source_043_zmax100_4bpd.fits-------------- exists\n",
        "------/afs/slac/g/glast/groups/catalog//pointlike/fermi/data/P8_P301/binfiles/P301_Source_044_zmax100_4bpd.fits-------------- exists\n",
        "------/afs/slac/g/glast/groups/catalog//pointlike/fermi/data/P8_P301/binfiles/P301_Source_045_zmax100_4bpd.fits-------------- exists\n",
        "------/afs/slac/g/glast/groups/catalog//pointlike/fermi/data/P8_P301/binfiles/P301_Source_046_zmax100_4bpd.fits-------------- exists\n",
        "------/afs/slac/g/glast/groups/catalog//pointlike/fermi/data/P8_P301/binfiles/P301_Source_047_zmax100_4bpd.fits-------------- exists\n",
        "------/afs/slac/g/glast/groups/catalog//pointlike/fermi/data/P8_P301/binfiles/P301_Source_048_zmax100_4bpd.fits-------------- exists\n",
        "------/afs/slac/g/glast/groups/catalog//pointlike/fermi/data/P8_P301/binfiles/P301_Source_049_zmax100_4bpd.fits-------------- exists\n",
        "------/afs/slac/g/glast/groups/catalog//pointlike/fermi/data/P8_P301/binfiles/P301_Source_050_zmax100_4bpd.fits-------------- exists\n",
        "------/afs/slac/g/glast/groups/catalog//pointlike/fermi/data/P8_P301/binfiles/P301_Source_051_zmax100_4bpd.fits-------------- exists\n",
        "------/afs/slac/g/glast/groups/catalog//pointlike/fermi/data/P8_P301/binfiles/P301_Source_052_zmax100_4bpd.fits-------------- exists\n",
        "------/afs/slac/g/glast/groups/catalog//pointlike/fermi/data/P8_P301/binfiles/P301_Source_053_zmax100_4bpd.fits-------------- exists\n",
        "------/afs/slac/g/glast/groups/catalog//pointlike/fermi/data/P8_P301/binfiles/P301_Source_054_zmax100_4bpd.fits-------------- exists\n",
        "------/afs/slac/g/glast/groups/catalog//pointlike/fermi/data/P8_P301/binfiles/P301_Source_055_zmax100_4bpd.fits-------------- exists\n",
        "------/afs/slac/g/glast/groups/catalog//pointlike/fermi/data/P8_P301/binfiles/P301_Source_056_zmax100_4bpd.fits-------------- exists\n",
        "------/afs/slac/g/glast/groups/catalog//pointlike/fermi/data/P8_P301/binfiles/P301_Source_057_zmax100_4bpd.fits-------------- exists\n",
        "------/afs/slac/g/glast/groups/catalog//pointlike/fermi/data/P8_P301/binfiles/P301_Source_058_zmax100_4bpd.fits-------------- exists\n",
        "------/afs/slac/g/glast/groups/catalog//pointlike/fermi/data/P8_P301/binfiles/P301_Source_059_zmax100_4bpd.fits-------------- exists\n",
        "------/afs/slac/g/glast/groups/catalog//pointlike/fermi/data/P8_P301/binfiles/P301_Source_060_zmax100_4bpd.fits-------------- exists\n",
        "------/afs/slac/g/glast/groups/catalog//pointlike/fermi/data/P8_P301/binfiles/P301_Source_061_zmax100_4bpd.fits-------------- exists\n",
        "------/afs/slac/g/glast/groups/catalog//pointlike/fermi/data/P8_P301/binfiles/P301_Source_062_zmax100_4bpd.fits-------------- exists\n",
        "------/afs/slac/g/glast/groups/catalog//pointlike/fermi/data/P8_P301/binfiles/P301_Source_063_zmax100_4bpd.fits-------------- exists\n",
        "------/afs/slac/g/glast/groups/catalog//pointlike/fermi/data/P8_P301/binfiles/P301_Source_064_zmax100_4bpd.fits-------------- exists\n",
        "------/afs/slac/g/glast/groups/catalog//pointlike/fermi/data/P8_P301/binfiles/P301_Source_065_zmax100_4bpd.fits-------------- exists\n",
        "------/afs/slac/g/glast/groups/catalog//pointlike/fermi/data/P8_P301/binfiles/P301_Source_066_zmax100_4bpd.fits-------------- exists\n",
        "------/afs/slac/g/glast/groups/catalog//pointlike/fermi/data/P8_P301/binfiles/P301_Source_067_zmax100_4bpd.fits-------------- exists\n",
        "------/afs/slac/g/glast/groups/catalog//pointlike/fermi/data/P8_P301/binfiles/P301_Source_068_zmax100_4bpd.fits-------------- exists\n",
        "------/afs/slac/g/glast/groups/catalog//pointlike/fermi/data/P8_P301/binfiles/P301_Source_069_zmax100_4bpd.fits-------------- OK\n",
        "processing cuts: "
       ]
      },
      {
       "output_type": "stream",
       "stream": "stdout",
       "text": [
        " ZENITH_ANGLE zenith_cut\n",
        "ft1_cut DSTYP3: ZENITH_ANGLE\n",
        "DSUNI3: deg\n",
        "DSVAL3: 0:100\n",
        "DSREF3: None\n",
        "processing cuts:  THETA theta_cut\n",
        "ft1_cut None\n",
        "processing cuts:  EVENT_CLASS event_class_cut\n",
        "ft1_cut None\n",
        "File /afs/slac/g/glast/groups/catalog//pointlike/fermi/data/P8_P301/binfiles/P301_Source_069_zmax100_4bpd.fits not found\n"
       ]
      },
      {
       "output_type": "stream",
       "stream": "stdout",
       "text": [
        "using Gti for creating binned photon file Gti: 775 intervals from 418170000 to 420800000, on time 1949434\n",
        "Creating binfile from 1 FT1 files\n",
        "------/afs/slac/g/glast/groups/catalog//pointlike/fermi/data/P8_P301/binfiles/P301_Source_070_zmax100_4bpd.fits--------------"
       ]
      },
      {
       "output_type": "stream",
       "stream": "stdout",
       "text": [
        " OK\n",
        "processing cuts: "
       ]
      },
      {
       "output_type": "stream",
       "stream": "stdout",
       "text": [
        " ZENITH_ANGLE zenith_cut\n",
        "ft1_cut DSTYP3: ZENITH_ANGLE\n",
        "DSUNI3: deg\n",
        "DSVAL3: 0:100\n",
        "DSREF3: None\n",
        "processing cuts:  THETA theta_cut\n",
        "ft1_cut None\n",
        "processing cuts:  EVENT_CLASS event_class_cut\n",
        "ft1_cut None\n",
        "File /afs/slac/g/glast/groups/catalog//pointlike/fermi/data/P8_P301/binfiles/P301_Source_070_zmax100_4bpd.fits not found\n"
       ]
      },
      {
       "output_type": "stream",
       "stream": "stderr",
       "text": [
        "Overwriting existing file '/afs/slac/g/glast/groups/catalog//pointlike/fermi/data/P8_P301/binfiles/P301_Source_069_zmax100_4bpd.fits'.\n",
        "Overwriting existing file '/afs/slac/g/glast/groups/catalog//pointlike/fermi/data/P8_P301/binfiles/P301_Source_070_zmax100_4bpd.fits'.\n"
       ]
      },
      {
       "output_type": "stream",
       "stream": "stdout",
       "text": [
        "using Gti for creating binned photon file Gti: 527 intervals from 420800000 to 423429961, on time 2156359\n",
        "Creating binfile from 1 FT1 files\n",
        "------/afs/slac/g/glast/groups/catalog//pointlike/fermi/data/P8_P301/binfiles/P301_Source_071_zmax100_4bpd.fits--------------"
       ]
      },
      {
       "output_type": "stream",
       "stream": "stdout",
       "text": [
        " OK\n",
        "processing cuts: "
       ]
      },
      {
       "output_type": "stream",
       "stream": "stdout",
       "text": [
        " ZENITH_ANGLE zenith_cut\n",
        "ft1_cut DSTYP3: ZENITH_ANGLE\n",
        "DSUNI3: deg\n",
        "DSVAL3: 0:100\n",
        "DSREF3: None\n",
        "processing cuts:  THETA theta_cut\n",
        "ft1_cut None\n",
        "processing cuts:  EVENT_CLASS event_class_cut\n",
        "ft1_cut None\n",
        "File /afs/slac/g/glast/groups/catalog//pointlike/fermi/data/P8_P301/binfiles/P301_Source_071_zmax100_4bpd.fits not found\n"
       ]
      },
      {
       "output_type": "stream",
       "stream": "stdout",
       "text": [
        "using Gti for creating binned photon file Gti: 747 intervals from 423430893 to 426060000, on time 1871350\n",
        "Creating binfile from 1 FT1 files\n",
        "------/afs/slac/g/glast/groups/catalog//pointlike/fermi/data/P8_P301/binfiles/P301_Source_072_zmax100_4bpd.fits--------------"
       ]
      },
      {
       "output_type": "stream",
       "stream": "stdout",
       "text": [
        " OK\n",
        "processing cuts: "
       ]
      },
      {
       "output_type": "stream",
       "stream": "stdout",
       "text": [
        " ZENITH_ANGLE zenith_cut\n",
        "ft1_cut DSTYP3: ZENITH_ANGLE\n",
        "DSUNI3: deg\n",
        "DSVAL3: 0:100\n",
        "DSREF3: None\n",
        "processing cuts:  THETA theta_cut\n",
        "ft1_cut None\n",
        "processing cuts:  EVENT_CLASS event_class_cut\n",
        "ft1_cut None\n",
        "File /afs/slac/g/glast/groups/catalog//pointlike/fermi/data/P8_P301/binfiles/P301_Source_072_zmax100_4bpd.fits not found\n"
       ]
      },
      {
       "output_type": "stream",
       "stream": "stderr",
       "text": [
        "Overwriting existing file '/afs/slac/g/glast/groups/catalog//pointlike/fermi/data/P8_P301/binfiles/P301_Source_071_zmax100_4bpd.fits'.\n",
        "Overwriting existing file '/afs/slac/g/glast/groups/catalog//pointlike/fermi/data/P8_P301/binfiles/P301_Source_072_zmax100_4bpd.fits'.\n"
       ]
      },
      {
       "output_type": "stream",
       "stream": "stdout",
       "text": [
        "using Gti for creating binned photon file Gti: 937 intervals from 426060000 to 428689918, on time 1874995\n",
        "Creating binfile from 1 FT1 files\n",
        "------/afs/slac/g/glast/groups/catalog//pointlike/fermi/data/P8_P301/binfiles/P301_Source_073_zmax100_4bpd.fits--------------"
       ]
      },
      {
       "output_type": "stream",
       "stream": "stdout",
       "text": [
        " OK\n",
        "processing cuts: "
       ]
      },
      {
       "output_type": "stream",
       "stream": "stdout",
       "text": [
        " ZENITH_ANGLE zenith_cut\n",
        "ft1_cut DSTYP3: ZENITH_ANGLE\n",
        "DSUNI3: deg\n",
        "DSVAL3: 0:100\n",
        "DSREF3: None\n",
        "processing cuts:  THETA theta_cut\n",
        "ft1_cut None\n",
        "processing cuts:  EVENT_CLASS event_class_cut\n",
        "ft1_cut None\n",
        "File /afs/slac/g/glast/groups/catalog//pointlike/fermi/data/P8_P301/binfiles/P301_Source_073_zmax100_4bpd.fits not found\n"
       ]
      },
      {
       "output_type": "stream",
       "stream": "stdout",
       "text": [
        "using Gti for creating binned photon file Gti: 1107 intervals from 428690913 to 431320000, on time 1641485\n",
        "Creating binfile from 1 FT1 files\n"
       ]
      },
      {
       "output_type": "stream",
       "stream": "stderr",
       "text": [
        "Overwriting existing file '/afs/slac/g/glast/groups/catalog//pointlike/fermi/data/P8_P301/binfiles/P301_Source_073_zmax100_4bpd.fits'.\n"
       ]
      }
     ],
     "prompt_number": 2
    },
    {
     "cell_type": "markdown",
     "metadata": {},
     "source": [
      "## Combine first 60 for 5-year data set"
     ]
    },
    {
     "cell_type": "code",
     "collapsed": false,
     "input": [
      "os.chdir(os.path.expandvars('$FERMI/data/P8_P301'))\n",
      "import glob\n",
      "ff= sorted(glob.glob('binfiles/*.fits'))[:60]; ff\n",
      "from skymaps import BinnedPhotonData\n",
      "t = BinnedPhotonData(ff[0]); t.photonCount()"
     ],
     "language": "python",
     "metadata": {},
     "outputs": [
      {
       "metadata": {},
       "output_type": "pyout",
       "prompt_number": 19,
       "text": [
        "2077026"
       ]
      }
     ],
     "prompt_number": 19
    },
    {
     "cell_type": "code",
     "collapsed": false,
     "input": [
      "for f in ff[1:]:\n",
      "    t.add(BinnedPhotonData(f)); \n",
      "    print t.photonCount()"
     ],
     "language": "python",
     "metadata": {},
     "outputs": [
      {
       "output_type": "stream",
       "stream": "stdout",
       "text": [
        "4333087\n",
        "6676951"
       ]
      },
      {
       "output_type": "stream",
       "stream": "stdout",
       "text": [
        "\n",
        "8941663"
       ]
      },
      {
       "output_type": "stream",
       "stream": "stdout",
       "text": [
        "\n",
        "11226270"
       ]
      },
      {
       "output_type": "stream",
       "stream": "stdout",
       "text": [
        "\n",
        "13478609"
       ]
      },
      {
       "output_type": "stream",
       "stream": "stdout",
       "text": [
        "\n",
        "15713068"
       ]
      },
      {
       "output_type": "stream",
       "stream": "stdout",
       "text": [
        "\n",
        "17638687"
       ]
      },
      {
       "output_type": "stream",
       "stream": "stdout",
       "text": [
        "\n",
        "19919049"
       ]
      },
      {
       "output_type": "stream",
       "stream": "stdout",
       "text": [
        "\n",
        "22204701"
       ]
      },
      {
       "output_type": "stream",
       "stream": "stdout",
       "text": [
        "\n",
        "24463923"
       ]
      },
      {
       "output_type": "stream",
       "stream": "stdout",
       "text": [
        "\n",
        "26823412"
       ]
      },
      {
       "output_type": "stream",
       "stream": "stdout",
       "text": [
        "\n",
        "29063399"
       ]
      },
      {
       "output_type": "stream",
       "stream": "stdout",
       "text": [
        "\n",
        "31437698"
       ]
      },
      {
       "output_type": "stream",
       "stream": "stdout",
       "text": [
        "\n",
        "33713595"
       ]
      },
      {
       "output_type": "stream",
       "stream": "stdout",
       "text": [
        "\n",
        "35985807"
       ]
      },
      {
       "output_type": "stream",
       "stream": "stdout",
       "text": [
        "\n",
        "38326218"
       ]
      },
      {
       "output_type": "stream",
       "stream": "stdout",
       "text": [
        "\n",
        "40549148"
       ]
      },
      {
       "output_type": "stream",
       "stream": "stdout",
       "text": [
        "\n",
        "42967161"
       ]
      },
      {
       "output_type": "stream",
       "stream": "stdout",
       "text": [
        "\n",
        "45239557"
       ]
      },
      {
       "output_type": "stream",
       "stream": "stdout",
       "text": [
        "\n",
        "47542939"
       ]
      },
      {
       "output_type": "stream",
       "stream": "stdout",
       "text": [
        "\n",
        "49870237"
       ]
      },
      {
       "output_type": "stream",
       "stream": "stdout",
       "text": [
        "\n",
        "52189476"
       ]
      },
      {
       "output_type": "stream",
       "stream": "stdout",
       "text": [
        "\n",
        "54555310"
       ]
      },
      {
       "output_type": "stream",
       "stream": "stdout",
       "text": [
        "\n",
        "56835062"
       ]
      },
      {
       "output_type": "stream",
       "stream": "stdout",
       "text": [
        "\n",
        "59054241"
       ]
      },
      {
       "output_type": "stream",
       "stream": "stdout",
       "text": [
        "\n",
        "61291182"
       ]
      },
      {
       "output_type": "stream",
       "stream": "stdout",
       "text": [
        "\n",
        "63783854"
       ]
      },
      {
       "output_type": "stream",
       "stream": "stdout",
       "text": [
        "\n",
        "66153270"
       ]
      },
      {
       "output_type": "stream",
       "stream": "stdout",
       "text": [
        "\n",
        "68519167"
       ]
      },
      {
       "output_type": "stream",
       "stream": "stdout",
       "text": [
        "\n",
        "70882592"
       ]
      },
      {
       "output_type": "stream",
       "stream": "stdout",
       "text": [
        "\n",
        "72953893"
       ]
      },
      {
       "output_type": "stream",
       "stream": "stdout",
       "text": [
        "\n",
        "75061702"
       ]
      },
      {
       "output_type": "stream",
       "stream": "stdout",
       "text": [
        "\n",
        "77296711"
       ]
      },
      {
       "output_type": "stream",
       "stream": "stdout",
       "text": [
        "\n",
        "79707184"
       ]
      },
      {
       "output_type": "stream",
       "stream": "stdout",
       "text": [
        "\n",
        "81959510"
       ]
      },
      {
       "output_type": "stream",
       "stream": "stdout",
       "text": [
        "\n",
        "84228336"
       ]
      },
      {
       "output_type": "stream",
       "stream": "stdout",
       "text": [
        "\n",
        "86289780"
       ]
      },
      {
       "output_type": "stream",
       "stream": "stdout",
       "text": [
        "\n",
        "88464901"
       ]
      },
      {
       "output_type": "stream",
       "stream": "stdout",
       "text": [
        "\n",
        "90901627"
       ]
      },
      {
       "output_type": "stream",
       "stream": "stdout",
       "text": [
        "\n",
        "93117263"
       ]
      },
      {
       "output_type": "stream",
       "stream": "stdout",
       "text": [
        "\n",
        "95510614"
       ]
      },
      {
       "output_type": "stream",
       "stream": "stdout",
       "text": [
        "\n",
        "97798706"
       ]
      },
      {
       "output_type": "stream",
       "stream": "stdout",
       "text": [
        "\n",
        "100078960"
       ]
      },
      {
       "output_type": "stream",
       "stream": "stdout",
       "text": [
        "\n",
        "102452060"
       ]
      },
      {
       "output_type": "stream",
       "stream": "stdout",
       "text": [
        "\n",
        "104673534"
       ]
      },
      {
       "output_type": "stream",
       "stream": "stdout",
       "text": [
        "\n",
        "107057588"
       ]
      },
      {
       "output_type": "stream",
       "stream": "stdout",
       "text": [
        "\n",
        "109152713"
       ]
      },
      {
       "output_type": "stream",
       "stream": "stdout",
       "text": [
        "\n",
        "111544239"
       ]
      },
      {
       "output_type": "stream",
       "stream": "stdout",
       "text": [
        "\n",
        "113292313"
       ]
      },
      {
       "output_type": "stream",
       "stream": "stdout",
       "text": [
        "\n",
        "115563705"
       ]
      },
      {
       "output_type": "stream",
       "stream": "stdout",
       "text": [
        "\n",
        "117873724"
       ]
      },
      {
       "output_type": "stream",
       "stream": "stdout",
       "text": [
        "\n",
        "120032389"
       ]
      },
      {
       "output_type": "stream",
       "stream": "stdout",
       "text": [
        "\n",
        "122426106"
       ]
      },
      {
       "output_type": "stream",
       "stream": "stdout",
       "text": [
        "\n",
        "124654703"
       ]
      },
      {
       "output_type": "stream",
       "stream": "stdout",
       "text": [
        "\n",
        "126782957"
       ]
      },
      {
       "output_type": "stream",
       "stream": "stdout",
       "text": [
        "\n",
        "129034529"
       ]
      },
      {
       "output_type": "stream",
       "stream": "stdout",
       "text": [
        "\n",
        "131255204"
       ]
      },
      {
       "output_type": "stream",
       "stream": "stdout",
       "text": [
        "\n",
        "133550641"
       ]
      },
      {
       "output_type": "stream",
       "stream": "stdout",
       "text": [
        "\n",
        "135710681"
       ]
      },
      {
       "output_type": "stream",
       "stream": "stdout",
       "text": [
        "\n"
       ]
      }
     ],
     "prompt_number": 21
    },
    {
     "cell_type": "code",
     "collapsed": false,
     "input": [
      "t.write('5years_4bpd.fits')"
     ],
     "language": "python",
     "metadata": {},
     "outputs": [],
     "prompt_number": 22
    },
    {
     "cell_type": "markdown",
     "metadata": {},
     "source": [
      "# Combine 72 for 6 years"
     ]
    },
    {
     "cell_type": "code",
     "collapsed": false,
     "input": [
      "os.chdir(os.path.expandvars('$FERMI/data/P8_P301'))\n",
      "import glob\n",
      "ff= sorted(glob.glob('binfiles/*.fits'))[:72]; ff\n",
      "from skymaps import BinnedPhotonData\n",
      "t = BinnedPhotonData(ff[0]); \n",
      "print t.photonCount(), 'photons'\n",
      "for i,f in enumerate(ff[1:]):\n",
      "    t.add(BinnedPhotonData(f)); \n",
      "    print i,t.photonCount()\n",
      "t.write('6years_4bpd.fits')"
     ],
     "language": "python",
     "metadata": {},
     "outputs": [
      {
       "output_type": "stream",
       "stream": "stdout",
       "text": [
        "2077026 photons\n",
        "0"
       ]
      },
      {
       "output_type": "stream",
       "stream": "stdout",
       "text": [
        " 4333087\n",
        "1"
       ]
      },
      {
       "output_type": "stream",
       "stream": "stdout",
       "text": [
        " 6676951\n",
        "2"
       ]
      },
      {
       "output_type": "stream",
       "stream": "stdout",
       "text": [
        " 8941663\n",
        "3"
       ]
      },
      {
       "output_type": "stream",
       "stream": "stdout",
       "text": [
        " 11226270\n",
        "4"
       ]
      },
      {
       "output_type": "stream",
       "stream": "stdout",
       "text": [
        " 13478609\n",
        "5"
       ]
      },
      {
       "output_type": "stream",
       "stream": "stdout",
       "text": [
        " 15713068\n",
        "6"
       ]
      },
      {
       "output_type": "stream",
       "stream": "stdout",
       "text": [
        " 17638687\n",
        "7"
       ]
      },
      {
       "output_type": "stream",
       "stream": "stdout",
       "text": [
        " 19919049\n",
        "8"
       ]
      },
      {
       "output_type": "stream",
       "stream": "stdout",
       "text": [
        " 22204701\n",
        "9"
       ]
      },
      {
       "output_type": "stream",
       "stream": "stdout",
       "text": [
        " 24463923\n",
        "10"
       ]
      },
      {
       "output_type": "stream",
       "stream": "stdout",
       "text": [
        " 26823412\n",
        "11"
       ]
      },
      {
       "output_type": "stream",
       "stream": "stdout",
       "text": [
        " 29063399\n",
        "12"
       ]
      },
      {
       "output_type": "stream",
       "stream": "stdout",
       "text": [
        " 31437698\n",
        "13"
       ]
      },
      {
       "output_type": "stream",
       "stream": "stdout",
       "text": [
        " 33713595\n",
        "14"
       ]
      },
      {
       "output_type": "stream",
       "stream": "stdout",
       "text": [
        " 35985807\n",
        "15"
       ]
      },
      {
       "output_type": "stream",
       "stream": "stdout",
       "text": [
        " 38326218\n",
        "16"
       ]
      },
      {
       "output_type": "stream",
       "stream": "stdout",
       "text": [
        " 40549148\n",
        "17"
       ]
      },
      {
       "output_type": "stream",
       "stream": "stdout",
       "text": [
        " 42967161\n",
        "18"
       ]
      },
      {
       "output_type": "stream",
       "stream": "stdout",
       "text": [
        " 45239557\n",
        "19"
       ]
      },
      {
       "output_type": "stream",
       "stream": "stdout",
       "text": [
        " 47542939\n",
        "20"
       ]
      },
      {
       "output_type": "stream",
       "stream": "stdout",
       "text": [
        " 49870237\n",
        "21"
       ]
      },
      {
       "output_type": "stream",
       "stream": "stdout",
       "text": [
        " 52189476\n",
        "22"
       ]
      },
      {
       "output_type": "stream",
       "stream": "stdout",
       "text": [
        " 54555310\n",
        "23"
       ]
      },
      {
       "output_type": "stream",
       "stream": "stdout",
       "text": [
        " 56835062\n",
        "24"
       ]
      },
      {
       "output_type": "stream",
       "stream": "stdout",
       "text": [
        " 59054241\n",
        "25"
       ]
      },
      {
       "output_type": "stream",
       "stream": "stdout",
       "text": [
        " 61291182\n",
        "26"
       ]
      },
      {
       "output_type": "stream",
       "stream": "stdout",
       "text": [
        " 63783854\n",
        "27"
       ]
      },
      {
       "output_type": "stream",
       "stream": "stdout",
       "text": [
        " 66153270\n",
        "28"
       ]
      },
      {
       "output_type": "stream",
       "stream": "stdout",
       "text": [
        " 68519167\n",
        "29"
       ]
      },
      {
       "output_type": "stream",
       "stream": "stdout",
       "text": [
        " 70882592\n",
        "30"
       ]
      },
      {
       "output_type": "stream",
       "stream": "stdout",
       "text": [
        " 72953893\n",
        "31"
       ]
      },
      {
       "output_type": "stream",
       "stream": "stdout",
       "text": [
        " 75061702\n",
        "32"
       ]
      },
      {
       "output_type": "stream",
       "stream": "stdout",
       "text": [
        " 77296711\n",
        "33"
       ]
      },
      {
       "output_type": "stream",
       "stream": "stdout",
       "text": [
        " 79707184\n",
        "34"
       ]
      },
      {
       "output_type": "stream",
       "stream": "stdout",
       "text": [
        " 81959510\n",
        "35"
       ]
      },
      {
       "output_type": "stream",
       "stream": "stdout",
       "text": [
        " 84228336\n",
        "36"
       ]
      },
      {
       "output_type": "stream",
       "stream": "stdout",
       "text": [
        " 86289780\n",
        "37"
       ]
      },
      {
       "output_type": "stream",
       "stream": "stdout",
       "text": [
        " 88464901\n",
        "38"
       ]
      },
      {
       "output_type": "stream",
       "stream": "stdout",
       "text": [
        " 90901627\n",
        "39"
       ]
      },
      {
       "output_type": "stream",
       "stream": "stdout",
       "text": [
        " 93117263\n",
        "40"
       ]
      },
      {
       "output_type": "stream",
       "stream": "stdout",
       "text": [
        " 95510614\n",
        "41"
       ]
      },
      {
       "output_type": "stream",
       "stream": "stdout",
       "text": [
        " 97798706\n",
        "42"
       ]
      },
      {
       "output_type": "stream",
       "stream": "stdout",
       "text": [
        " 100078960\n",
        "43"
       ]
      },
      {
       "output_type": "stream",
       "stream": "stdout",
       "text": [
        " 102452060\n",
        "44"
       ]
      },
      {
       "output_type": "stream",
       "stream": "stdout",
       "text": [
        " 104673534\n",
        "45"
       ]
      },
      {
       "output_type": "stream",
       "stream": "stdout",
       "text": [
        " 107057588\n",
        "46"
       ]
      },
      {
       "output_type": "stream",
       "stream": "stdout",
       "text": [
        " 109152713\n",
        "47"
       ]
      },
      {
       "output_type": "stream",
       "stream": "stdout",
       "text": [
        " 111544239\n",
        "48"
       ]
      },
      {
       "output_type": "stream",
       "stream": "stdout",
       "text": [
        " 113292313\n",
        "49"
       ]
      },
      {
       "output_type": "stream",
       "stream": "stdout",
       "text": [
        " 115563705\n",
        "50"
       ]
      },
      {
       "output_type": "stream",
       "stream": "stdout",
       "text": [
        " 117873724\n",
        "51"
       ]
      },
      {
       "output_type": "stream",
       "stream": "stdout",
       "text": [
        " 120032389\n",
        "52"
       ]
      },
      {
       "output_type": "stream",
       "stream": "stdout",
       "text": [
        " 122426106\n",
        "53"
       ]
      },
      {
       "output_type": "stream",
       "stream": "stdout",
       "text": [
        " 124654703\n",
        "54"
       ]
      },
      {
       "output_type": "stream",
       "stream": "stdout",
       "text": [
        " 126782957\n",
        "55"
       ]
      },
      {
       "output_type": "stream",
       "stream": "stdout",
       "text": [
        " 129034529\n",
        "56"
       ]
      },
      {
       "output_type": "stream",
       "stream": "stdout",
       "text": [
        " 131255204\n",
        "57"
       ]
      },
      {
       "output_type": "stream",
       "stream": "stdout",
       "text": [
        " 133550641\n",
        "58"
       ]
      },
      {
       "output_type": "stream",
       "stream": "stdout",
       "text": [
        " 135710681\n",
        "59"
       ]
      },
      {
       "output_type": "stream",
       "stream": "stdout",
       "text": [
        " 137849757\n",
        "60"
       ]
      },
      {
       "output_type": "stream",
       "stream": "stdout",
       "text": [
        " 140034961\n",
        "61"
       ]
      },
      {
       "output_type": "stream",
       "stream": "stdout",
       "text": [
        " 142018267\n",
        "62"
       ]
      },
      {
       "output_type": "stream",
       "stream": "stdout",
       "text": [
        " 144249732\n",
        "63"
       ]
      },
      {
       "output_type": "stream",
       "stream": "stdout",
       "text": [
        " 146607427\n",
        "64"
       ]
      },
      {
       "output_type": "stream",
       "stream": "stdout",
       "text": [
        " 148636873\n",
        "65"
       ]
      },
      {
       "output_type": "stream",
       "stream": "stdout",
       "text": [
        " 150768579\n",
        "66"
       ]
      },
      {
       "output_type": "stream",
       "stream": "stdout",
       "text": [
        " 152855555\n",
        "67"
       ]
      },
      {
       "output_type": "stream",
       "stream": "stdout",
       "text": [
        " 155145967\n",
        "68"
       ]
      },
      {
       "output_type": "stream",
       "stream": "stdout",
       "text": [
        " 157654034\n",
        "69"
       ]
      },
      {
       "output_type": "stream",
       "stream": "stdout",
       "text": [
        " 159762666\n",
        "70"
       ]
      },
      {
       "output_type": "stream",
       "stream": "stdout",
       "text": [
        " 162070183\n"
       ]
      }
     ],
     "prompt_number": 3
    },
    {
     "cell_type": "code",
     "collapsed": false,
     "input": [
      "!ln -s ../../../../P8_P301/ltcube_6years_zmax100.fits ltcube_6years_zmax100.fits"
     ],
     "language": "python",
     "metadata": {},
     "outputs": [],
     "prompt_number": 7
    },
    {
     "cell_type": "code",
     "collapsed": false,
     "input": [
      "ll"
     ],
     "language": "python",
     "metadata": {},
     "outputs": [
      {
       "output_type": "stream",
       "stream": "stdout",
       "text": [
        "total 118324\r\n",
        "-rw-rw-r-- 1 burnett 88493760 Jun 26  2014 5years_4bpd.fits\r\n",
        "-rw-rw-r-- 1 burnett 98377920 Jan 28 10:33 6years_4bpd.fits\r\n",
        "lrwxrwxrwx 1 burnett       27 May 29  2014 \u001b[0m\u001b[01;36mSource\u001b[0m -> \u001b[01;34m../../../../P8_P301/Source/\u001b[0m/\r\n",
        "drwxrwsr-x 2 burnett       75 Jan 28 10:18 \u001b[01;34mbinfiles\u001b[0m/\r\n",
        "-rw-rw-r-- 1 burnett 16528320 May 29  2014 ltcube_4years_zmax100.fits\r\n",
        "lrwxrwxrwx 1 burnett       46 Jun 26  2014 \u001b[01;36mltcube_5years_zmax100.fits\u001b[0m -> ../../../../P8_P301/ltcube_5years_zmax100.fits\r\n",
        "lrwxrwxrwx 1 burnett       46 Jan 28 10:37 \u001b[01;36mltcube_6years_zmax100.fits\u001b[0m -> ../../../../P8_P301/ltcube_6years_zmax100.fits\r\n",
        "\u001b[m"
       ]
      }
     ],
     "prompt_number": 8
    }
   ],
   "metadata": {}
  }
 ]
}