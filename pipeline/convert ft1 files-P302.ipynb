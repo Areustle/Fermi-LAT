{
 "metadata": {
  "name": "",
  "signature": "sha256:a03b870304d8c922f52c35e904b61e0b75eaa1c6e7b255701e395d87466d0f07"
 },
 "nbformat": 3,
 "nbformat_minor": 0,
 "worksheets": [
  {
   "cells": [
    {
     "cell_type": "markdown",
     "metadata": {},
     "source": [
      "#Convert ft1 files\n",
      "Given a set of monthly FT1 files, create binned photon data files for each one\n",
      "\n",
      "Update 01/28/15: detect presence of output file\n",
      "Update 03/07/2015: P302"
     ]
    },
    {
     "cell_type": "code",
     "collapsed": false,
     "input": [
      "import os, glob\n",
      "infolder = os.path.expandvars('$FERMI/data/P8_P302/zmax105/')\n",
      "outfolder= os.path.expandvars('$FERMI/data/P8_P302/binfiles/')\n",
      "ft1s = sorted(glob.glob(infolder+'*Source*.fits'))\n",
      "print 'found %d FT1 files' % len(ft1s)\n",
      "ltcubes =sorted(glob.glob(infolder+'ltcube*.fits'))\n",
      "print 'found %d ltcube files' %len(ltcubes)\n",
      "assert len(ft1s)>0 # and len(ft1s)==len(ltcubes)\n",
      "from uw.data import dataman; reload(dataman)\n",
      "for ft1,ltcube in zip(ft1s,ltcubes):\n",
      "    binfile = os.path.join(outfolder, os.path.split(ft1)[-1]).replace('.fits', '_4bpd.fits')\n",
      "    print '------' + binfile + '--------------',\n",
      "    if os.path.exists(binfile):\n",
      "        print 'exists'\n",
      "        continue\n",
      "    print 'OK'\n",
      "    ds = dataman.DataSpec(ft1=ft1,  ft2=None,\n",
      "                      ltcube=ltcube, binfile = binfile,\n",
      "                      binsperdec=4, legacy=True,\n",
      "                      )"
     ],
     "language": "python",
     "metadata": {},
     "outputs": [
      {
       "output_type": "stream",
       "stream": "stdout",
       "text": [
        "found 73 FT1 files\n",
        "found 73 ltcube files\n",
        "------/afs/slac/g/glast/groups/catalog//pointlike/fermi/data/P8_P302/binfiles/P302_Source_001_zmax105_4bpd.fits--------------"
       ]
      },
      {
       "output_type": "stream",
       "stream": "stdout",
       "text": [
        " OK\n",
        "Warning: PROC_VER not found in /afs/slac/g/glast/groups/catalog//pointlike/fermi/data/P8_P302/zmax105/P302_Source_001_zmax105.fits header"
       ]
      },
      {
       "output_type": "stream",
       "stream": "stdout",
       "text": [
        "\n",
        "processing cuts:  ZENITH_ANGLE zenith_cut\n",
        "ft1_cut DSTYP4: ZENITH_ANGLE\n",
        "DSUNI4: deg\n",
        "DSVAL4: 0:105\n",
        "DSREF4: None\n",
        "processing cuts:  THETA theta_cut\n",
        "ft1_cut None\n",
        "processing cuts:  EVENT_CLASS event_class_cut\n",
        "ft1_cut DSTYP1: BIT_MASK(EVENT_CLASS,128,P8R2)\n",
        "DSUNI1: DIMENSIONLESS\n",
        "DSVAL1: 1:1\n",
        "DSREF1: None\n",
        "File /afs/slac/g/glast/groups/catalog//pointlike/fermi/data/P8_P302/binfiles/P302_Source_001_zmax105_4bpd.fits not found\n"
       ]
      },
      {
       "output_type": "stream",
       "stream": "stderr",
       "text": [
        "/afs/slac/g/glast/groups/catalog/python/anaconda/lib/python2.7/site-packages/pyfits/header.py:1108: PyfitsDeprecationWarning: The use of header.update() to add new keywords to a header is deprecated.  Instead, use either header.set() or simply `header[keyword] = value` or `header[keyword] = (value, comment)`.  header.set() is only necessary to use if you also want to use the before/after keyword arguments.\n",
        "  \"keyword arguments.\", PyfitsDeprecationWarning)\n",
        "/afs/slac/g/glast/groups/catalog/python/anaconda/lib/python2.7/site-packages/pyfits/file.py:339: UserWarning: Overwriting existing file '/afs/slac/g/glast/groups/catalog//pointlike/fermi/data/P8_P302/binfiles/P302_Source_001_zmax105_4bpd.fits'.\n",
        "  warnings.warn(\"Overwriting existing file %r.\" % self.name)\n"
       ]
      },
      {
       "output_type": "stream",
       "stream": "stdout",
       "text": [
        "using Gti for creating binned photon file Gti: 416 intervals from 239557417 to 241960000, on time 1975018\n",
        "Creating binfile from 1 FT1 files\n",
        "------/afs/slac/g/glast/groups/catalog//pointlike/fermi/data/P8_P302/binfiles/P302_Source_002_zmax105_4bpd.fits--------------"
       ]
      },
      {
       "output_type": "stream",
       "stream": "stdout",
       "text": [
        " OK\n",
        "Warning: PROC_VER not found in /afs/slac/g/glast/groups/catalog//pointlike/fermi/data/P8_P302/zmax105/P302_Source_002_zmax105.fits header"
       ]
      },
      {
       "output_type": "stream",
       "stream": "stdout",
       "text": [
        "\n",
        "processing cuts:  ZENITH_ANGLE zenith_cut\n",
        "ft1_cut DSTYP4: ZENITH_ANGLE\n",
        "DSUNI4: deg\n",
        "DSVAL4: 0:105\n",
        "DSREF4: None\n",
        "processing cuts:  THETA theta_cut\n",
        "ft1_cut None\n",
        "processing cuts:  EVENT_CLASS event_class_cut\n",
        "ft1_cut DSTYP1: BIT_MASK(EVENT_CLASS,128,P8R2)\n",
        "DSUNI1: DIMENSIONLESS\n",
        "DSVAL1: 1:1\n",
        "DSREF1: None\n",
        "File /afs/slac/g/glast/groups/catalog//pointlike/fermi/data/P8_P302/binfiles/P302_Source_002_zmax105_4bpd.fits not found\n"
       ]
      },
      {
       "output_type": "stream",
       "stream": "stdout",
       "text": [
        "using Gti for creating binned photon file Gti: 474 intervals from 241960000 to 244590000, on time 2193530\n",
        "Creating binfile from 1 FT1 files\n",
        "------/afs/slac/g/glast/groups/catalog//pointlike/fermi/data/P8_P302/binfiles/P302_Source_003_zmax105_4bpd.fits--------------"
       ]
      },
      {
       "output_type": "stream",
       "stream": "stdout",
       "text": [
        " OK\n",
        "Warning: PROC_VER not found in /afs/slac/g/glast/groups/catalog//pointlike/fermi/data/P8_P302/zmax105/P302_Source_003_zmax105.fits header"
       ]
      },
      {
       "output_type": "stream",
       "stream": "stdout",
       "text": [
        "\n",
        "processing cuts:  ZENITH_ANGLE zenith_cut\n",
        "ft1_cut DSTYP4: ZENITH_ANGLE\n",
        "DSUNI4: deg\n",
        "DSVAL4: 0:105\n",
        "DSREF4: None\n",
        "processing cuts:  THETA theta_cut\n",
        "ft1_cut None\n",
        "processing cuts:  EVENT_CLASS event_class_cut\n",
        "ft1_cut DSTYP1: BIT_MASK(EVENT_CLASS,128,P8R2)\n",
        "DSUNI1: DIMENSIONLESS\n",
        "DSVAL1: 1:1\n",
        "DSREF1: None\n",
        "File /afs/slac/g/glast/groups/catalog//pointlike/fermi/data/P8_P302/binfiles/P302_Source_003_zmax105_4bpd.fits not found\n"
       ]
      },
      {
       "output_type": "stream",
       "stream": "stderr",
       "text": [
        "/afs/slac/g/glast/groups/catalog/python/anaconda/lib/python2.7/site-packages/pyfits/file.py:339: UserWarning: Overwriting existing file '/afs/slac/g/glast/groups/catalog//pointlike/fermi/data/P8_P302/binfiles/P302_Source_002_zmax105_4bpd.fits'.\n",
        "  warnings.warn(\"Overwriting existing file %r.\" % self.name)\n",
        "/afs/slac/g/glast/groups/catalog/python/anaconda/lib/python2.7/site-packages/pyfits/file.py:339: UserWarning: Overwriting existing file '/afs/slac/g/glast/groups/catalog//pointlike/fermi/data/P8_P302/binfiles/P302_Source_003_zmax105_4bpd.fits'.\n",
        "  warnings.warn(\"Overwriting existing file %r.\" % self.name)\n"
       ]
      },
      {
       "output_type": "stream",
       "stream": "stdout",
       "text": [
        "using Gti for creating binned photon file Gti: 473 intervals from 244590000 to 247220000, on time 2215608\n",
        "Creating binfile from 1 FT1 files\n",
        "------/afs/slac/g/glast/groups/catalog//pointlike/fermi/data/P8_P302/binfiles/P302_Source_004_zmax105_4bpd.fits--------------"
       ]
      },
      {
       "output_type": "stream",
       "stream": "stdout",
       "text": [
        " OK\n",
        "Warning: PROC_VER not found in /afs/slac/g/glast/groups/catalog//pointlike/fermi/data/P8_P302/zmax105/P302_Source_004_zmax105.fits header"
       ]
      },
      {
       "output_type": "stream",
       "stream": "stdout",
       "text": [
        "\n",
        "processing cuts:  ZENITH_ANGLE zenith_cut\n",
        "ft1_cut DSTYP4: ZENITH_ANGLE\n",
        "DSUNI4: deg\n",
        "DSVAL4: 0:105\n",
        "DSREF4: None\n",
        "processing cuts:  THETA theta_cut\n",
        "ft1_cut None\n",
        "processing cuts:  EVENT_CLASS event_class_cut\n",
        "ft1_cut DSTYP1: BIT_MASK(EVENT_CLASS,128,P8R2)\n",
        "DSUNI1: DIMENSIONLESS\n",
        "DSVAL1: 1:1\n",
        "DSREF1: None\n",
        "File /afs/slac/g/glast/groups/catalog//pointlike/fermi/data/P8_P302/binfiles/P302_Source_004_zmax105_4bpd.fits not found\n"
       ]
      },
      {
       "output_type": "stream",
       "stream": "stdout",
       "text": [
        "using Gti for creating binned photon file Gti: 465 intervals from 247220000 to 249850000, on time 2218301\n",
        "Creating binfile from 1 FT1 files\n",
        "------/afs/slac/g/glast/groups/catalog//pointlike/fermi/data/P8_P302/binfiles/P302_Source_005_zmax105_4bpd.fits--------------"
       ]
      },
      {
       "output_type": "stream",
       "stream": "stdout",
       "text": [
        " OK\n",
        "Warning: PROC_VER not found in /afs/slac/g/glast/groups/catalog//pointlike/fermi/data/P8_P302/zmax105/P302_Source_005_zmax105.fits header"
       ]
      },
      {
       "output_type": "stream",
       "stream": "stdout",
       "text": [
        "\n",
        "processing cuts:  ZENITH_ANGLE zenith_cut\n",
        "ft1_cut DSTYP4: ZENITH_ANGLE\n",
        "DSUNI4: deg\n",
        "DSVAL4: 0:105\n",
        "DSREF4: None\n",
        "processing cuts:  THETA theta_cut\n",
        "ft1_cut None\n",
        "processing cuts:  EVENT_CLASS event_class_cut\n",
        "ft1_cut DSTYP1: BIT_MASK(EVENT_CLASS,128,P8R2)\n",
        "DSUNI1: DIMENSIONLESS\n",
        "DSVAL1: 1:1\n",
        "DSREF1: None\n",
        "File /afs/slac/g/glast/groups/catalog//pointlike/fermi/data/P8_P302/binfiles/P302_Source_005_zmax105_4bpd.fits not found\n"
       ]
      },
      {
       "output_type": "stream",
       "stream": "stderr",
       "text": [
        "/afs/slac/g/glast/groups/catalog/python/anaconda/lib/python2.7/site-packages/pyfits/file.py:339: UserWarning: Overwriting existing file '/afs/slac/g/glast/groups/catalog//pointlike/fermi/data/P8_P302/binfiles/P302_Source_004_zmax105_4bpd.fits'.\n",
        "  warnings.warn(\"Overwriting existing file %r.\" % self.name)\n",
        "/afs/slac/g/glast/groups/catalog/python/anaconda/lib/python2.7/site-packages/pyfits/file.py:339: UserWarning: Overwriting existing file '/afs/slac/g/glast/groups/catalog//pointlike/fermi/data/P8_P302/binfiles/P302_Source_005_zmax105_4bpd.fits'.\n",
        "  warnings.warn(\"Overwriting existing file %r.\" % self.name)\n"
       ]
      },
      {
       "output_type": "stream",
       "stream": "stdout",
       "text": [
        "using Gti for creating binned photon file Gti: 469 intervals from 249850000 to 252480000, on time 2190886\n",
        "Creating binfile from 1 FT1 files\n",
        "------/afs/slac/g/glast/groups/catalog//pointlike/fermi/data/P8_P302/binfiles/P302_Source_006_zmax105_4bpd.fits--------------"
       ]
      },
      {
       "output_type": "stream",
       "stream": "stdout",
       "text": [
        " OK\n",
        "Warning: PROC_VER not found in /afs/slac/g/glast/groups/catalog//pointlike/fermi/data/P8_P302/zmax105/P302_Source_006_zmax105.fits header"
       ]
      },
      {
       "output_type": "stream",
       "stream": "stdout",
       "text": [
        "\n",
        "processing cuts:  ZENITH_ANGLE zenith_cut\n",
        "ft1_cut DSTYP4: ZENITH_ANGLE\n",
        "DSUNI4: deg\n",
        "DSVAL4: 0:105\n",
        "DSREF4: None\n",
        "processing cuts:  THETA theta_cut\n",
        "ft1_cut None\n",
        "processing cuts:  EVENT_CLASS event_class_cut\n",
        "ft1_cut DSTYP1: BIT_MASK(EVENT_CLASS,128,P8R2)\n",
        "DSUNI1: DIMENSIONLESS\n",
        "DSVAL1: 1:1\n",
        "DSREF1: None\n",
        "File /afs/slac/g/glast/groups/catalog//pointlike/fermi/data/P8_P302/binfiles/P302_Source_006_zmax105_4bpd.fits not found\n"
       ]
      },
      {
       "output_type": "stream",
       "stream": "stdout",
       "text": [
        "using Gti for creating binned photon file Gti: 462 intervals from 252480000 to 255110000, on time 2201225\n",
        "Creating binfile from 1 FT1 files\n",
        "------/afs/slac/g/glast/groups/catalog//pointlike/fermi/data/P8_P302/binfiles/P302_Source_007_zmax105_4bpd.fits--------------"
       ]
      },
      {
       "output_type": "stream",
       "stream": "stdout",
       "text": [
        " OK\n",
        "Warning: PROC_VER not found in /afs/slac/g/glast/groups/catalog//pointlike/fermi/data/P8_P302/zmax105/P302_Source_007_zmax105.fits header"
       ]
      },
      {
       "output_type": "stream",
       "stream": "stdout",
       "text": [
        "\n",
        "processing cuts:  ZENITH_ANGLE zenith_cut\n",
        "ft1_cut DSTYP4: ZENITH_ANGLE\n",
        "DSUNI4: deg\n",
        "DSVAL4: 0:105\n",
        "DSREF4: None\n",
        "processing cuts:  THETA theta_cut\n",
        "ft1_cut None\n",
        "processing cuts:  EVENT_CLASS event_class_cut\n",
        "ft1_cut DSTYP1: BIT_MASK(EVENT_CLASS,128,P8R2)\n",
        "DSUNI1: DIMENSIONLESS\n",
        "DSVAL1: 1:1\n",
        "DSREF1: None\n",
        "File /afs/slac/g/glast/groups/catalog//pointlike/fermi/data/P8_P302/binfiles/P302_Source_007_zmax105_4bpd.fits not found\n"
       ]
      },
      {
       "output_type": "stream",
       "stream": "stderr",
       "text": [
        "/afs/slac/g/glast/groups/catalog/python/anaconda/lib/python2.7/site-packages/pyfits/file.py:339: UserWarning: Overwriting existing file '/afs/slac/g/glast/groups/catalog//pointlike/fermi/data/P8_P302/binfiles/P302_Source_006_zmax105_4bpd.fits'.\n",
        "  warnings.warn(\"Overwriting existing file %r.\" % self.name)\n",
        "/afs/slac/g/glast/groups/catalog/python/anaconda/lib/python2.7/site-packages/pyfits/file.py:339: UserWarning: Overwriting existing file '/afs/slac/g/glast/groups/catalog//pointlike/fermi/data/P8_P302/binfiles/P302_Source_007_zmax105_4bpd.fits'.\n",
        "  warnings.warn(\"Overwriting existing file %r.\" % self.name)\n"
       ]
      },
      {
       "output_type": "stream",
       "stream": "stdout",
       "text": [
        "using Gti for creating binned photon file Gti: 481 intervals from 255110000 to 257740000, on time 2183348\n",
        "Creating binfile from 1 FT1 files\n",
        "------/afs/slac/g/glast/groups/catalog//pointlike/fermi/data/P8_P302/binfiles/P302_Source_008_zmax105_4bpd.fits--------------"
       ]
      },
      {
       "output_type": "stream",
       "stream": "stdout",
       "text": [
        " OK\n",
        "Warning: PROC_VER not found in /afs/slac/g/glast/groups/catalog//pointlike/fermi/data/P8_P302/zmax105/P302_Source_008_zmax105.fits header"
       ]
      },
      {
       "output_type": "stream",
       "stream": "stdout",
       "text": [
        "\n",
        "processing cuts:  ZENITH_ANGLE zenith_cut\n",
        "ft1_cut DSTYP4: ZENITH_ANGLE\n",
        "DSUNI4: deg\n",
        "DSVAL4: 0:105\n",
        "DSREF4: None\n",
        "processing cuts:  THETA theta_cut\n",
        "ft1_cut None\n",
        "processing cuts:  EVENT_CLASS event_class_cut\n",
        "ft1_cut DSTYP1: BIT_MASK(EVENT_CLASS,128,P8R2)\n",
        "DSUNI1: DIMENSIONLESS\n",
        "DSVAL1: 1:1\n",
        "DSREF1: None\n",
        "File /afs/slac/g/glast/groups/catalog//pointlike/fermi/data/P8_P302/binfiles/P302_Source_008_zmax105_4bpd.fits not found\n"
       ]
      },
      {
       "output_type": "stream",
       "stream": "stdout",
       "text": [
        "using Gti for creating binned photon file Gti: 402 intervals from 257740000 to 260370000, on time 1857265\n",
        "Creating binfile from 1 FT1 files\n",
        "------/afs/slac/g/glast/groups/catalog//pointlike/fermi/data/P8_P302/binfiles/P302_Source_009_zmax105_4bpd.fits--------------"
       ]
      },
      {
       "output_type": "stream",
       "stream": "stdout",
       "text": [
        " OK\n",
        "Warning: PROC_VER not found in /afs/slac/g/glast/groups/catalog//pointlike/fermi/data/P8_P302/zmax105/P302_Source_009_zmax105.fits header"
       ]
      },
      {
       "output_type": "stream",
       "stream": "stdout",
       "text": [
        "\n",
        "processing cuts:  ZENITH_ANGLE zenith_cut\n",
        "ft1_cut DSTYP4: ZENITH_ANGLE\n",
        "DSUNI4: deg\n",
        "DSVAL4: 0:105\n",
        "DSREF4: None\n",
        "processing cuts:  THETA theta_cut\n",
        "ft1_cut None\n",
        "processing cuts:  EVENT_CLASS event_class_cut\n",
        "ft1_cut DSTYP1: BIT_MASK(EVENT_CLASS,128,P8R2)\n",
        "DSUNI1: DIMENSIONLESS\n",
        "DSVAL1: 1:1\n",
        "DSREF1: None\n",
        "File /afs/slac/g/glast/groups/catalog//pointlike/fermi/data/P8_P302/binfiles/P302_Source_009_zmax105_4bpd.fits not found\n"
       ]
      },
      {
       "output_type": "stream",
       "stream": "stderr",
       "text": [
        "/afs/slac/g/glast/groups/catalog/python/anaconda/lib/python2.7/site-packages/pyfits/file.py:339: UserWarning: Overwriting existing file '/afs/slac/g/glast/groups/catalog//pointlike/fermi/data/P8_P302/binfiles/P302_Source_008_zmax105_4bpd.fits'.\n",
        "  warnings.warn(\"Overwriting existing file %r.\" % self.name)\n",
        "/afs/slac/g/glast/groups/catalog/python/anaconda/lib/python2.7/site-packages/pyfits/file.py:339: UserWarning: Overwriting existing file '/afs/slac/g/glast/groups/catalog//pointlike/fermi/data/P8_P302/binfiles/P302_Source_009_zmax105_4bpd.fits'.\n",
        "  warnings.warn(\"Overwriting existing file %r.\" % self.name)\n"
       ]
      },
      {
       "output_type": "stream",
       "stream": "stdout",
       "text": [
        "using Gti for creating binned photon file Gti: 458 intervals from 260370000 to 263000000, on time 2185172\n",
        "Creating binfile from 1 FT1 files\n",
        "------/afs/slac/g/glast/groups/catalog//pointlike/fermi/data/P8_P302/binfiles/P302_Source_010_zmax105_4bpd.fits--------------"
       ]
      },
      {
       "output_type": "stream",
       "stream": "stdout",
       "text": [
        " OK\n",
        "Warning: PROC_VER not found in /afs/slac/g/glast/groups/catalog//pointlike/fermi/data/P8_P302/zmax105/P302_Source_010_zmax105.fits header"
       ]
      },
      {
       "output_type": "stream",
       "stream": "stdout",
       "text": [
        "\n",
        "processing cuts:  ZENITH_ANGLE zenith_cut\n",
        "ft1_cut DSTYP4: ZENITH_ANGLE\n",
        "DSUNI4: deg\n",
        "DSVAL4: 0:105\n",
        "DSREF4: None\n",
        "processing cuts:  THETA theta_cut\n",
        "ft1_cut None\n",
        "processing cuts:  EVENT_CLASS event_class_cut\n",
        "ft1_cut DSTYP1: BIT_MASK(EVENT_CLASS,128,P8R2)\n",
        "DSUNI1: DIMENSIONLESS\n",
        "DSVAL1: 1:1\n",
        "DSREF1: None\n",
        "File /afs/slac/g/glast/groups/catalog//pointlike/fermi/data/P8_P302/binfiles/P302_Source_010_zmax105_4bpd.fits not found\n"
       ]
      },
      {
       "output_type": "stream",
       "stream": "stdout",
       "text": [
        "using Gti for creating binned photon file Gti: 469 intervals from 263000000 to 265630000, on time 2176864\n",
        "Creating binfile from 1 FT1 files\n",
        "------/afs/slac/g/glast/groups/catalog//pointlike/fermi/data/P8_P302/binfiles/P302_Source_011_zmax105_4bpd.fits--------------"
       ]
      },
      {
       "output_type": "stream",
       "stream": "stdout",
       "text": [
        " OK\n",
        "Warning: PROC_VER not found in /afs/slac/g/glast/groups/catalog//pointlike/fermi/data/P8_P302/zmax105/P302_Source_011_zmax105.fits header"
       ]
      },
      {
       "output_type": "stream",
       "stream": "stdout",
       "text": [
        "\n",
        "processing cuts:  ZENITH_ANGLE zenith_cut\n",
        "ft1_cut DSTYP4: ZENITH_ANGLE\n",
        "DSUNI4: deg\n",
        "DSVAL4: 0:105\n",
        "DSREF4: None\n",
        "processing cuts:  THETA theta_cut\n",
        "ft1_cut None\n",
        "processing cuts:  EVENT_CLASS event_class_cut\n",
        "ft1_cut DSTYP1: BIT_MASK(EVENT_CLASS,128,P8R2)\n",
        "DSUNI1: DIMENSIONLESS\n",
        "DSVAL1: 1:1\n",
        "DSREF1: None\n",
        "File /afs/slac/g/glast/groups/catalog//pointlike/fermi/data/P8_P302/binfiles/P302_Source_011_zmax105_4bpd.fits not found\n"
       ]
      },
      {
       "output_type": "stream",
       "stream": "stderr",
       "text": [
        "/afs/slac/g/glast/groups/catalog/python/anaconda/lib/python2.7/site-packages/pyfits/file.py:339: UserWarning: Overwriting existing file '/afs/slac/g/glast/groups/catalog//pointlike/fermi/data/P8_P302/binfiles/P302_Source_010_zmax105_4bpd.fits'.\n",
        "  warnings.warn(\"Overwriting existing file %r.\" % self.name)\n",
        "/afs/slac/g/glast/groups/catalog/python/anaconda/lib/python2.7/site-packages/pyfits/file.py:339: UserWarning: Overwriting existing file '/afs/slac/g/glast/groups/catalog//pointlike/fermi/data/P8_P302/binfiles/P302_Source_011_zmax105_4bpd.fits'.\n",
        "  warnings.warn(\"Overwriting existing file %r.\" % self.name)\n"
       ]
      },
      {
       "output_type": "stream",
       "stream": "stdout",
       "text": [
        "using Gti for creating binned photon file Gti: 463 intervals from 265630000 to 268260000, on time 2204478\n",
        "Creating binfile from 1 FT1 files\n",
        "------/afs/slac/g/glast/groups/catalog//pointlike/fermi/data/P8_P302/binfiles/P302_Source_012_zmax105_4bpd.fits--------------"
       ]
      },
      {
       "output_type": "stream",
       "stream": "stdout",
       "text": [
        " OK\n",
        "Warning: PROC_VER not found in /afs/slac/g/glast/groups/catalog//pointlike/fermi/data/P8_P302/zmax105/P302_Source_012_zmax105.fits header"
       ]
      },
      {
       "output_type": "stream",
       "stream": "stdout",
       "text": [
        "\n",
        "processing cuts:  ZENITH_ANGLE zenith_cut\n",
        "ft1_cut DSTYP4: ZENITH_ANGLE\n",
        "DSUNI4: deg\n",
        "DSVAL4: 0:105\n",
        "DSREF4: None\n",
        "processing cuts:  THETA theta_cut\n",
        "ft1_cut None\n",
        "processing cuts:  EVENT_CLASS event_class_cut\n",
        "ft1_cut DSTYP1: BIT_MASK(EVENT_CLASS,128,P8R2)\n",
        "DSUNI1: DIMENSIONLESS\n",
        "DSVAL1: 1:1\n",
        "DSREF1: None\n",
        "File /afs/slac/g/glast/groups/catalog//pointlike/fermi/data/P8_P302/binfiles/P302_Source_012_zmax105_4bpd.fits not found\n"
       ]
      },
      {
       "output_type": "stream",
       "stream": "stdout",
       "text": [
        "using Gti for creating binned photon file Gti: 465 intervals from 268260000 to 270890000, on time 2202845\n",
        "Creating binfile from 1 FT1 files\n",
        "------/afs/slac/g/glast/groups/catalog//pointlike/fermi/data/P8_P302/binfiles/P302_Source_013_zmax105_4bpd.fits--------------"
       ]
      },
      {
       "output_type": "stream",
       "stream": "stdout",
       "text": [
        " OK\n",
        "Warning: PROC_VER not found in /afs/slac/g/glast/groups/catalog//pointlike/fermi/data/P8_P302/zmax105/P302_Source_013_zmax105.fits header"
       ]
      },
      {
       "output_type": "stream",
       "stream": "stdout",
       "text": [
        "\n",
        "processing cuts:  ZENITH_ANGLE zenith_cut\n",
        "ft1_cut DSTYP4: ZENITH_ANGLE\n",
        "DSUNI4: deg\n",
        "DSVAL4: 0:105\n",
        "DSREF4: None\n",
        "processing cuts:  THETA theta_cut\n",
        "ft1_cut None\n",
        "processing cuts:  EVENT_CLASS event_class_cut\n",
        "ft1_cut DSTYP1: BIT_MASK(EVENT_CLASS,128,P8R2)\n",
        "DSUNI1: DIMENSIONLESS\n",
        "DSVAL1: 1:1\n",
        "DSREF1: None\n",
        "File /afs/slac/g/glast/groups/catalog//pointlike/fermi/data/P8_P302/binfiles/P302_Source_013_zmax105_4bpd.fits not found\n"
       ]
      },
      {
       "output_type": "stream",
       "stream": "stderr",
       "text": [
        "/afs/slac/g/glast/groups/catalog/python/anaconda/lib/python2.7/site-packages/pyfits/file.py:339: UserWarning: Overwriting existing file '/afs/slac/g/glast/groups/catalog//pointlike/fermi/data/P8_P302/binfiles/P302_Source_012_zmax105_4bpd.fits'.\n",
        "  warnings.warn(\"Overwriting existing file %r.\" % self.name)\n",
        "/afs/slac/g/glast/groups/catalog/python/anaconda/lib/python2.7/site-packages/pyfits/file.py:339: UserWarning: Overwriting existing file '/afs/slac/g/glast/groups/catalog//pointlike/fermi/data/P8_P302/binfiles/P302_Source_013_zmax105_4bpd.fits'.\n",
        "  warnings.warn(\"Overwriting existing file %r.\" % self.name)\n"
       ]
      },
      {
       "output_type": "stream",
       "stream": "stdout",
       "text": [
        "using Gti for creating binned photon file Gti: 475 intervals from 270890000 to 273520000, on time 2202319\n",
        "Creating binfile from 1 FT1 files\n",
        "------/afs/slac/g/glast/groups/catalog//pointlike/fermi/data/P8_P302/binfiles/P302_Source_014_zmax105_4bpd.fits--------------"
       ]
      },
      {
       "output_type": "stream",
       "stream": "stdout",
       "text": [
        " OK\n",
        "Warning: PROC_VER not found in /afs/slac/g/glast/groups/catalog//pointlike/fermi/data/P8_P302/zmax105/P302_Source_014_zmax105.fits header"
       ]
      },
      {
       "output_type": "stream",
       "stream": "stdout",
       "text": [
        "\n",
        "processing cuts:  ZENITH_ANGLE zenith_cut\n",
        "ft1_cut DSTYP4: ZENITH_ANGLE\n",
        "DSUNI4: deg\n",
        "DSVAL4: 0:105\n",
        "DSREF4: None\n",
        "processing cuts:  THETA theta_cut\n",
        "ft1_cut None\n",
        "processing cuts:  EVENT_CLASS event_class_cut\n",
        "ft1_cut DSTYP1: BIT_MASK(EVENT_CLASS,128,P8R2)\n",
        "DSUNI1: DIMENSIONLESS\n",
        "DSVAL1: 1:1\n",
        "DSREF1: None\n",
        "File /afs/slac/g/glast/groups/catalog//pointlike/fermi/data/P8_P302/binfiles/P302_Source_014_zmax105_4bpd.fits not found\n"
       ]
      },
      {
       "output_type": "stream",
       "stream": "stdout",
       "text": [
        "using Gti for creating binned photon file Gti: 478 intervals from 273520000 to 276150000, on time 2173536\n",
        "Creating binfile from 1 FT1 files\n",
        "------/afs/slac/g/glast/groups/catalog//pointlike/fermi/data/P8_P302/binfiles/P302_Source_015_zmax105_4bpd.fits--------------"
       ]
      },
      {
       "output_type": "stream",
       "stream": "stdout",
       "text": [
        " OK\n",
        "Warning: PROC_VER not found in /afs/slac/g/glast/groups/catalog//pointlike/fermi/data/P8_P302/zmax105/P302_Source_015_zmax105.fits header"
       ]
      },
      {
       "output_type": "stream",
       "stream": "stdout",
       "text": [
        "\n",
        "processing cuts:  ZENITH_ANGLE zenith_cut\n",
        "ft1_cut DSTYP4: ZENITH_ANGLE\n",
        "DSUNI4: deg\n",
        "DSVAL4: 0:105\n",
        "DSREF4: None\n",
        "processing cuts:  THETA theta_cut\n",
        "ft1_cut None\n",
        "processing cuts:  EVENT_CLASS event_class_cut\n",
        "ft1_cut DSTYP1: BIT_MASK(EVENT_CLASS,128,P8R2)\n",
        "DSUNI1: DIMENSIONLESS\n",
        "DSVAL1: 1:1\n",
        "DSREF1: None\n",
        "File /afs/slac/g/glast/groups/catalog//pointlike/fermi/data/P8_P302/binfiles/P302_Source_015_zmax105_4bpd.fits not found\n"
       ]
      },
      {
       "output_type": "stream",
       "stream": "stderr",
       "text": [
        "/afs/slac/g/glast/groups/catalog/python/anaconda/lib/python2.7/site-packages/pyfits/file.py:339: UserWarning: Overwriting existing file '/afs/slac/g/glast/groups/catalog//pointlike/fermi/data/P8_P302/binfiles/P302_Source_014_zmax105_4bpd.fits'.\n",
        "  warnings.warn(\"Overwriting existing file %r.\" % self.name)\n",
        "/afs/slac/g/glast/groups/catalog/python/anaconda/lib/python2.7/site-packages/pyfits/file.py:339: UserWarning: Overwriting existing file '/afs/slac/g/glast/groups/catalog//pointlike/fermi/data/P8_P302/binfiles/P302_Source_015_zmax105_4bpd.fits'.\n",
        "  warnings.warn(\"Overwriting existing file %r.\" % self.name)\n"
       ]
      },
      {
       "output_type": "stream",
       "stream": "stdout",
       "text": [
        "using Gti for creating binned photon file Gti: 481 intervals from 276150000 to 278780000, on time 2200281\n",
        "Creating binfile from 1 FT1 files\n",
        "------/afs/slac/g/glast/groups/catalog//pointlike/fermi/data/P8_P302/binfiles/P302_Source_016_zmax105_4bpd.fits--------------"
       ]
      },
      {
       "output_type": "stream",
       "stream": "stdout",
       "text": [
        " OK\n",
        "Warning: PROC_VER not found in /afs/slac/g/glast/groups/catalog//pointlike/fermi/data/P8_P302/zmax105/P302_Source_016_zmax105.fits header"
       ]
      },
      {
       "output_type": "stream",
       "stream": "stdout",
       "text": [
        "\n",
        "processing cuts:  ZENITH_ANGLE zenith_cut\n",
        "ft1_cut DSTYP4: ZENITH_ANGLE\n",
        "DSUNI4: deg\n",
        "DSVAL4: 0:105\n",
        "DSREF4: None\n",
        "processing cuts:  THETA theta_cut\n",
        "ft1_cut None\n",
        "processing cuts:  EVENT_CLASS event_class_cut\n",
        "ft1_cut DSTYP1: BIT_MASK(EVENT_CLASS,128,P8R2)\n",
        "DSUNI1: DIMENSIONLESS\n",
        "DSVAL1: 1:1\n",
        "DSREF1: None\n",
        "File /afs/slac/g/glast/groups/catalog//pointlike/fermi/data/P8_P302/binfiles/P302_Source_016_zmax105_4bpd.fits not found\n"
       ]
      },
      {
       "output_type": "stream",
       "stream": "stdout",
       "text": [
        "using Gti for creating binned photon file Gti: 476 intervals from 278780000 to 281410000, on time 2213376\n",
        "Creating binfile from 1 FT1 files\n",
        "------/afs/slac/g/glast/groups/catalog//pointlike/fermi/data/P8_P302/binfiles/P302_Source_017_zmax105_4bpd.fits--------------"
       ]
      },
      {
       "output_type": "stream",
       "stream": "stdout",
       "text": [
        " OK\n",
        "Warning: PROC_VER not found in /afs/slac/g/glast/groups/catalog//pointlike/fermi/data/P8_P302/zmax105/P302_Source_017_zmax105.fits header"
       ]
      },
      {
       "output_type": "stream",
       "stream": "stdout",
       "text": [
        "\n",
        "processing cuts:  ZENITH_ANGLE zenith_cut\n",
        "ft1_cut DSTYP4: ZENITH_ANGLE\n",
        "DSUNI4: deg\n",
        "DSVAL4: 0:105\n",
        "DSREF4: None\n",
        "processing cuts:  THETA theta_cut\n",
        "ft1_cut None\n",
        "processing cuts:  EVENT_CLASS event_class_cut\n",
        "ft1_cut DSTYP1: BIT_MASK(EVENT_CLASS,128,P8R2)\n",
        "DSUNI1: DIMENSIONLESS\n",
        "DSVAL1: 1:1\n",
        "DSREF1: None\n",
        "File /afs/slac/g/glast/groups/catalog//pointlike/fermi/data/P8_P302/binfiles/P302_Source_017_zmax105_4bpd.fits not found\n"
       ]
      },
      {
       "output_type": "stream",
       "stream": "stderr",
       "text": [
        "/afs/slac/g/glast/groups/catalog/python/anaconda/lib/python2.7/site-packages/pyfits/file.py:339: UserWarning: Overwriting existing file '/afs/slac/g/glast/groups/catalog//pointlike/fermi/data/P8_P302/binfiles/P302_Source_016_zmax105_4bpd.fits'.\n",
        "  warnings.warn(\"Overwriting existing file %r.\" % self.name)\n",
        "/afs/slac/g/glast/groups/catalog/python/anaconda/lib/python2.7/site-packages/pyfits/file.py:339: UserWarning: Overwriting existing file '/afs/slac/g/glast/groups/catalog//pointlike/fermi/data/P8_P302/binfiles/P302_Source_017_zmax105_4bpd.fits'.\n",
        "  warnings.warn(\"Overwriting existing file %r.\" % self.name)\n"
       ]
      },
      {
       "output_type": "stream",
       "stream": "stdout",
       "text": [
        "using Gti for creating binned photon file Gti: 469 intervals from 281410000 to 284040000, on time 2217194\n",
        "Creating binfile from 1 FT1 files\n",
        "------/afs/slac/g/glast/groups/catalog//pointlike/fermi/data/P8_P302/binfiles/P302_Source_018_zmax105_4bpd.fits--------------"
       ]
      },
      {
       "output_type": "stream",
       "stream": "stdout",
       "text": [
        " OK\n",
        "Warning: PROC_VER not found in /afs/slac/g/glast/groups/catalog//pointlike/fermi/data/P8_P302/zmax105/P302_Source_018_zmax105.fits header"
       ]
      },
      {
       "output_type": "stream",
       "stream": "stdout",
       "text": [
        "\n",
        "processing cuts:  ZENITH_ANGLE zenith_cut\n",
        "ft1_cut DSTYP4: ZENITH_ANGLE\n",
        "DSUNI4: deg\n",
        "DSVAL4: 0:105\n",
        "DSREF4: None\n",
        "processing cuts:  THETA theta_cut\n",
        "ft1_cut None\n",
        "processing cuts:  EVENT_CLASS event_class_cut\n",
        "ft1_cut DSTYP1: BIT_MASK(EVENT_CLASS,128,P8R2)\n",
        "DSUNI1: DIMENSIONLESS\n",
        "DSVAL1: 1:1\n",
        "DSREF1: None\n",
        "File /afs/slac/g/glast/groups/catalog//pointlike/fermi/data/P8_P302/binfiles/P302_Source_018_zmax105_4bpd.fits not found\n"
       ]
      },
      {
       "output_type": "stream",
       "stream": "stdout",
       "text": [
        "using Gti for creating binned photon file Gti: 477 intervals from 284040000 to 286670000, on time 2212162\n",
        "Creating binfile from 1 FT1 files\n",
        "------/afs/slac/g/glast/groups/catalog//pointlike/fermi/data/P8_P302/binfiles/P302_Source_019_zmax105_4bpd.fits--------------"
       ]
      },
      {
       "output_type": "stream",
       "stream": "stdout",
       "text": [
        " OK\n",
        "Warning: PROC_VER not found in /afs/slac/g/glast/groups/catalog//pointlike/fermi/data/P8_P302/zmax105/P302_Source_019_zmax105.fits header"
       ]
      },
      {
       "output_type": "stream",
       "stream": "stdout",
       "text": [
        "\n",
        "processing cuts:  ZENITH_ANGLE zenith_cut\n",
        "ft1_cut DSTYP4: ZENITH_ANGLE\n",
        "DSUNI4: deg\n",
        "DSVAL4: 0:105\n",
        "DSREF4: None\n",
        "processing cuts:  THETA theta_cut\n",
        "ft1_cut None\n",
        "processing cuts:  EVENT_CLASS event_class_cut\n",
        "ft1_cut DSTYP1: BIT_MASK(EVENT_CLASS,128,P8R2)\n",
        "DSUNI1: DIMENSIONLESS\n",
        "DSVAL1: 1:1\n",
        "DSREF1: None\n",
        "File /afs/slac/g/glast/groups/catalog//pointlike/fermi/data/P8_P302/binfiles/P302_Source_019_zmax105_4bpd.fits not found\n"
       ]
      },
      {
       "output_type": "stream",
       "stream": "stderr",
       "text": [
        "/afs/slac/g/glast/groups/catalog/python/anaconda/lib/python2.7/site-packages/pyfits/file.py:339: UserWarning: Overwriting existing file '/afs/slac/g/glast/groups/catalog//pointlike/fermi/data/P8_P302/binfiles/P302_Source_018_zmax105_4bpd.fits'.\n",
        "  warnings.warn(\"Overwriting existing file %r.\" % self.name)\n",
        "/afs/slac/g/glast/groups/catalog/python/anaconda/lib/python2.7/site-packages/pyfits/file.py:339: UserWarning: Overwriting existing file '/afs/slac/g/glast/groups/catalog//pointlike/fermi/data/P8_P302/binfiles/P302_Source_019_zmax105_4bpd.fits'.\n",
        "  warnings.warn(\"Overwriting existing file %r.\" % self.name)\n"
       ]
      },
      {
       "output_type": "stream",
       "stream": "stdout",
       "text": [
        "using Gti for creating binned photon file Gti: 472 intervals from 286670000 to 289300000, on time 2213623\n",
        "Creating binfile from 1 FT1 files\n",
        "------/afs/slac/g/glast/groups/catalog//pointlike/fermi/data/P8_P302/binfiles/P302_Source_020_zmax105_4bpd.fits--------------"
       ]
      },
      {
       "output_type": "stream",
       "stream": "stdout",
       "text": [
        " OK\n",
        "Warning: PROC_VER not found in /afs/slac/g/glast/groups/catalog//pointlike/fermi/data/P8_P302/zmax105/P302_Source_020_zmax105.fits header"
       ]
      },
      {
       "output_type": "stream",
       "stream": "stdout",
       "text": [
        "\n",
        "processing cuts:  ZENITH_ANGLE zenith_cut\n",
        "ft1_cut DSTYP4: ZENITH_ANGLE\n",
        "DSUNI4: deg\n",
        "DSVAL4: 0:105\n",
        "DSREF4: None\n",
        "processing cuts:  THETA theta_cut\n",
        "ft1_cut None\n",
        "processing cuts:  EVENT_CLASS event_class_cut\n",
        "ft1_cut DSTYP1: BIT_MASK(EVENT_CLASS,128,P8R2)\n",
        "DSUNI1: DIMENSIONLESS\n",
        "DSVAL1: 1:1\n",
        "DSREF1: None\n",
        "File /afs/slac/g/glast/groups/catalog//pointlike/fermi/data/P8_P302/binfiles/P302_Source_020_zmax105_4bpd.fits not found\n"
       ]
      },
      {
       "output_type": "stream",
       "stream": "stdout",
       "text": [
        "using Gti for creating binned photon file Gti: 463 intervals from 289300000 to 291930000, on time 2216963\n",
        "Creating binfile from 1 FT1 files\n",
        "------/afs/slac/g/glast/groups/catalog//pointlike/fermi/data/P8_P302/binfiles/P302_Source_021_zmax105_4bpd.fits--------------"
       ]
      },
      {
       "output_type": "stream",
       "stream": "stdout",
       "text": [
        " OK\n",
        "Warning: PROC_VER not found in /afs/slac/g/glast/groups/catalog//pointlike/fermi/data/P8_P302/zmax105/P302_Source_021_zmax105.fits header"
       ]
      },
      {
       "output_type": "stream",
       "stream": "stdout",
       "text": [
        "\n",
        "processing cuts:  ZENITH_ANGLE zenith_cut\n",
        "ft1_cut DSTYP4: ZENITH_ANGLE\n",
        "DSUNI4: deg\n",
        "DSVAL4: 0:105\n",
        "DSREF4: None\n",
        "processing cuts:  THETA theta_cut\n",
        "ft1_cut None\n",
        "processing cuts:  EVENT_CLASS event_class_cut\n",
        "ft1_cut DSTYP1: BIT_MASK(EVENT_CLASS,128,P8R2)\n",
        "DSUNI1: DIMENSIONLESS\n",
        "DSVAL1: 1:1\n",
        "DSREF1: None\n",
        "File /afs/slac/g/glast/groups/catalog//pointlike/fermi/data/P8_P302/binfiles/P302_Source_021_zmax105_4bpd.fits not found\n"
       ]
      },
      {
       "output_type": "stream",
       "stream": "stderr",
       "text": [
        "/afs/slac/g/glast/groups/catalog/python/anaconda/lib/python2.7/site-packages/pyfits/file.py:339: UserWarning: Overwriting existing file '/afs/slac/g/glast/groups/catalog//pointlike/fermi/data/P8_P302/binfiles/P302_Source_020_zmax105_4bpd.fits'.\n",
        "  warnings.warn(\"Overwriting existing file %r.\" % self.name)\n",
        "/afs/slac/g/glast/groups/catalog/python/anaconda/lib/python2.7/site-packages/pyfits/file.py:339: UserWarning: Overwriting existing file '/afs/slac/g/glast/groups/catalog//pointlike/fermi/data/P8_P302/binfiles/P302_Source_021_zmax105_4bpd.fits'.\n",
        "  warnings.warn(\"Overwriting existing file %r.\" % self.name)\n"
       ]
      },
      {
       "output_type": "stream",
       "stream": "stdout",
       "text": [
        "using Gti for creating binned photon file Gti: 524 intervals from 291930000 to 294560000, on time 2191686\n",
        "Creating binfile from 1 FT1 files\n",
        "------/afs/slac/g/glast/groups/catalog//pointlike/fermi/data/P8_P302/binfiles/P302_Source_022_zmax105_4bpd.fits--------------"
       ]
      },
      {
       "output_type": "stream",
       "stream": "stdout",
       "text": [
        " OK\n",
        "Warning: PROC_VER not found in /afs/slac/g/glast/groups/catalog//pointlike/fermi/data/P8_P302/zmax105/P302_Source_022_zmax105.fits header"
       ]
      },
      {
       "output_type": "stream",
       "stream": "stdout",
       "text": [
        "\n",
        "processing cuts:  ZENITH_ANGLE zenith_cut\n",
        "ft1_cut DSTYP4: ZENITH_ANGLE\n",
        "DSUNI4: deg\n",
        "DSVAL4: 0:105\n",
        "DSREF4: None\n",
        "processing cuts:  THETA theta_cut\n",
        "ft1_cut None\n",
        "processing cuts:  EVENT_CLASS event_class_cut\n",
        "ft1_cut DSTYP1: BIT_MASK(EVENT_CLASS,128,P8R2)\n",
        "DSUNI1: DIMENSIONLESS\n",
        "DSVAL1: 1:1\n",
        "DSREF1: None\n",
        "File /afs/slac/g/glast/groups/catalog//pointlike/fermi/data/P8_P302/binfiles/P302_Source_022_zmax105_4bpd.fits not found\n"
       ]
      },
      {
       "output_type": "stream",
       "stream": "stdout",
       "text": [
        "using Gti for creating binned photon file Gti: 474 intervals from 294560000 to 297190000, on time 2214026\n",
        "Creating binfile from 1 FT1 files\n",
        "------/afs/slac/g/glast/groups/catalog//pointlike/fermi/data/P8_P302/binfiles/P302_Source_023_zmax105_4bpd.fits--------------"
       ]
      },
      {
       "output_type": "stream",
       "stream": "stdout",
       "text": [
        " OK\n",
        "Warning: PROC_VER not found in /afs/slac/g/glast/groups/catalog//pointlike/fermi/data/P8_P302/zmax105/P302_Source_023_zmax105.fits header"
       ]
      },
      {
       "output_type": "stream",
       "stream": "stdout",
       "text": [
        "\n",
        "processing cuts:  ZENITH_ANGLE zenith_cut\n",
        "ft1_cut DSTYP4: ZENITH_ANGLE\n",
        "DSUNI4: deg\n",
        "DSVAL4: 0:105\n",
        "DSREF4: None\n",
        "processing cuts:  THETA theta_cut\n",
        "ft1_cut None\n",
        "processing cuts:  EVENT_CLASS event_class_cut\n",
        "ft1_cut DSTYP1: BIT_MASK(EVENT_CLASS,128,P8R2)\n",
        "DSUNI1: DIMENSIONLESS\n",
        "DSVAL1: 1:1\n",
        "DSREF1: None\n",
        "File /afs/slac/g/glast/groups/catalog//pointlike/fermi/data/P8_P302/binfiles/P302_Source_023_zmax105_4bpd.fits not found\n"
       ]
      },
      {
       "output_type": "stream",
       "stream": "stderr",
       "text": [
        "/afs/slac/g/glast/groups/catalog/python/anaconda/lib/python2.7/site-packages/pyfits/file.py:339: UserWarning: Overwriting existing file '/afs/slac/g/glast/groups/catalog//pointlike/fermi/data/P8_P302/binfiles/P302_Source_022_zmax105_4bpd.fits'.\n",
        "  warnings.warn(\"Overwriting existing file %r.\" % self.name)\n",
        "/afs/slac/g/glast/groups/catalog/python/anaconda/lib/python2.7/site-packages/pyfits/file.py:339: UserWarning: Overwriting existing file '/afs/slac/g/glast/groups/catalog//pointlike/fermi/data/P8_P302/binfiles/P302_Source_023_zmax105_4bpd.fits'.\n",
        "  warnings.warn(\"Overwriting existing file %r.\" % self.name)\n"
       ]
      },
      {
       "output_type": "stream",
       "stream": "stdout",
       "text": [
        "using Gti for creating binned photon file Gti: 460 intervals from 297190000 to 299820000, on time 2193335\n",
        "Creating binfile from 1 FT1 files\n",
        "------/afs/slac/g/glast/groups/catalog//pointlike/fermi/data/P8_P302/binfiles/P302_Source_024_zmax105_4bpd.fits--------------"
       ]
      },
      {
       "output_type": "stream",
       "stream": "stdout",
       "text": [
        " OK\n",
        "Warning: PROC_VER not found in /afs/slac/g/glast/groups/catalog//pointlike/fermi/data/P8_P302/zmax105/P302_Source_024_zmax105.fits header"
       ]
      },
      {
       "output_type": "stream",
       "stream": "stdout",
       "text": [
        "\n",
        "processing cuts:  ZENITH_ANGLE zenith_cut\n",
        "ft1_cut DSTYP4: ZENITH_ANGLE\n",
        "DSUNI4: deg\n",
        "DSVAL4: 0:105\n",
        "DSREF4: None\n",
        "processing cuts:  THETA theta_cut\n",
        "ft1_cut None\n",
        "processing cuts:  EVENT_CLASS event_class_cut\n",
        "ft1_cut DSTYP1: BIT_MASK(EVENT_CLASS,128,P8R2)\n",
        "DSUNI1: DIMENSIONLESS\n",
        "DSVAL1: 1:1\n",
        "DSREF1: None\n",
        "File /afs/slac/g/glast/groups/catalog//pointlike/fermi/data/P8_P302/binfiles/P302_Source_024_zmax105_4bpd.fits not found\n"
       ]
      },
      {
       "output_type": "stream",
       "stream": "stdout",
       "text": [
        "using Gti for creating binned photon file Gti: 965 intervals from 299820000 to 302450000, on time 2208718\n",
        "Creating binfile from 1 FT1 files\n",
        "------/afs/slac/g/glast/groups/catalog//pointlike/fermi/data/P8_P302/binfiles/P302_Source_025_zmax105_4bpd.fits--------------"
       ]
      },
      {
       "output_type": "stream",
       "stream": "stdout",
       "text": [
        " OK\n",
        "Warning: PROC_VER not found in /afs/slac/g/glast/groups/catalog//pointlike/fermi/data/P8_P302/zmax105/P302_Source_025_zmax105.fits header"
       ]
      },
      {
       "output_type": "stream",
       "stream": "stdout",
       "text": [
        "\n",
        "processing cuts:  ZENITH_ANGLE zenith_cut\n",
        "ft1_cut DSTYP4: ZENITH_ANGLE\n",
        "DSUNI4: deg\n",
        "DSVAL4: 0:105\n",
        "DSREF4: None\n",
        "processing cuts:  THETA theta_cut\n",
        "ft1_cut None\n",
        "processing cuts:  EVENT_CLASS event_class_cut\n",
        "ft1_cut DSTYP1: BIT_MASK(EVENT_CLASS,128,P8R2)\n",
        "DSUNI1: DIMENSIONLESS\n",
        "DSVAL1: 1:1\n",
        "DSREF1: None\n",
        "File /afs/slac/g/glast/groups/catalog//pointlike/fermi/data/P8_P302/binfiles/P302_Source_025_zmax105_4bpd.fits not found\n"
       ]
      },
      {
       "output_type": "stream",
       "stream": "stderr",
       "text": [
        "/afs/slac/g/glast/groups/catalog/python/anaconda/lib/python2.7/site-packages/pyfits/file.py:339: UserWarning: Overwriting existing file '/afs/slac/g/glast/groups/catalog//pointlike/fermi/data/P8_P302/binfiles/P302_Source_024_zmax105_4bpd.fits'.\n",
        "  warnings.warn(\"Overwriting existing file %r.\" % self.name)\n",
        "/afs/slac/g/glast/groups/catalog/python/anaconda/lib/python2.7/site-packages/pyfits/file.py:339: UserWarning: Overwriting existing file '/afs/slac/g/glast/groups/catalog//pointlike/fermi/data/P8_P302/binfiles/P302_Source_025_zmax105_4bpd.fits'.\n",
        "  warnings.warn(\"Overwriting existing file %r.\" % self.name)\n"
       ]
      },
      {
       "output_type": "stream",
       "stream": "stdout",
       "text": [
        "using Gti for creating binned photon file Gti: 468 intervals from 302450000 to 305080000, on time 2217019\n",
        "Creating binfile from 1 FT1 files\n",
        "------/afs/slac/g/glast/groups/catalog//pointlike/fermi/data/P8_P302/binfiles/P302_Source_026_zmax105_4bpd.fits--------------"
       ]
      },
      {
       "output_type": "stream",
       "stream": "stdout",
       "text": [
        " OK\n",
        "Warning: PROC_VER not found in /afs/slac/g/glast/groups/catalog//pointlike/fermi/data/P8_P302/zmax105/P302_Source_026_zmax105.fits header"
       ]
      },
      {
       "output_type": "stream",
       "stream": "stdout",
       "text": [
        "\n",
        "processing cuts:  ZENITH_ANGLE zenith_cut\n",
        "ft1_cut DSTYP4: ZENITH_ANGLE\n",
        "DSUNI4: deg\n",
        "DSVAL4: 0:105\n",
        "DSREF4: None\n",
        "processing cuts:  THETA theta_cut\n",
        "ft1_cut None\n",
        "processing cuts:  EVENT_CLASS event_class_cut\n",
        "ft1_cut DSTYP1: BIT_MASK(EVENT_CLASS,128,P8R2)\n",
        "DSUNI1: DIMENSIONLESS\n",
        "DSVAL1: 1:1\n",
        "DSREF1: None\n",
        "File /afs/slac/g/glast/groups/catalog//pointlike/fermi/data/P8_P302/binfiles/P302_Source_026_zmax105_4bpd.fits not found\n"
       ]
      },
      {
       "output_type": "stream",
       "stream": "stdout",
       "text": [
        "using Gti for creating binned photon file Gti: 570 intervals from 305080000 to 307710000, on time 2153853\n",
        "Creating binfile from 1 FT1 files\n",
        "------/afs/slac/g/glast/groups/catalog//pointlike/fermi/data/P8_P302/binfiles/P302_Source_027_zmax105_4bpd.fits--------------"
       ]
      },
      {
       "output_type": "stream",
       "stream": "stdout",
       "text": [
        " OK\n",
        "Warning: PROC_VER not found in /afs/slac/g/glast/groups/catalog//pointlike/fermi/data/P8_P302/zmax105/P302_Source_027_zmax105.fits header"
       ]
      },
      {
       "output_type": "stream",
       "stream": "stdout",
       "text": [
        "\n",
        "processing cuts:  ZENITH_ANGLE zenith_cut\n",
        "ft1_cut DSTYP4: ZENITH_ANGLE\n",
        "DSUNI4: deg\n",
        "DSVAL4: 0:105\n",
        "DSREF4: None\n",
        "processing cuts:  THETA theta_cut\n",
        "ft1_cut None\n",
        "processing cuts:  EVENT_CLASS event_class_cut\n",
        "ft1_cut DSTYP1: BIT_MASK(EVENT_CLASS,128,P8R2)\n",
        "DSUNI1: DIMENSIONLESS\n",
        "DSVAL1: 1:1\n",
        "DSREF1: None\n",
        "File /afs/slac/g/glast/groups/catalog//pointlike/fermi/data/P8_P302/binfiles/P302_Source_027_zmax105_4bpd.fits not found\n"
       ]
      },
      {
       "output_type": "stream",
       "stream": "stderr",
       "text": [
        "/afs/slac/g/glast/groups/catalog/python/anaconda/lib/python2.7/site-packages/pyfits/file.py:339: UserWarning: Overwriting existing file '/afs/slac/g/glast/groups/catalog//pointlike/fermi/data/P8_P302/binfiles/P302_Source_026_zmax105_4bpd.fits'.\n",
        "  warnings.warn(\"Overwriting existing file %r.\" % self.name)\n",
        "/afs/slac/g/glast/groups/catalog/python/anaconda/lib/python2.7/site-packages/pyfits/file.py:339: UserWarning: Overwriting existing file '/afs/slac/g/glast/groups/catalog//pointlike/fermi/data/P8_P302/binfiles/P302_Source_027_zmax105_4bpd.fits'.\n",
        "  warnings.warn(\"Overwriting existing file %r.\" % self.name)\n"
       ]
      },
      {
       "output_type": "stream",
       "stream": "stdout",
       "text": [
        "using Gti for creating binned photon file Gti: 470 intervals from 307710000 to 310340000, on time 2191793\n",
        "Creating binfile from 1 FT1 files\n",
        "------/afs/slac/g/glast/groups/catalog//pointlike/fermi/data/P8_P302/binfiles/P302_Source_028_zmax105_4bpd.fits--------------"
       ]
      },
      {
       "output_type": "stream",
       "stream": "stdout",
       "text": [
        " OK\n",
        "Warning: PROC_VER not found in /afs/slac/g/glast/groups/catalog//pointlike/fermi/data/P8_P302/zmax105/P302_Source_028_zmax105.fits header"
       ]
      },
      {
       "output_type": "stream",
       "stream": "stdout",
       "text": [
        "\n",
        "processing cuts:  ZENITH_ANGLE zenith_cut\n",
        "ft1_cut DSTYP4: ZENITH_ANGLE\n",
        "DSUNI4: deg\n",
        "DSVAL4: 0:105\n",
        "DSREF4: None\n",
        "processing cuts:  THETA theta_cut\n",
        "ft1_cut None\n",
        "processing cuts:  EVENT_CLASS event_class_cut\n",
        "ft1_cut DSTYP1: BIT_MASK(EVENT_CLASS,128,P8R2)\n",
        "DSUNI1: DIMENSIONLESS\n",
        "DSVAL1: 1:1\n",
        "DSREF1: None\n",
        "File /afs/slac/g/glast/groups/catalog//pointlike/fermi/data/P8_P302/binfiles/P302_Source_028_zmax105_4bpd.fits not found\n"
       ]
      },
      {
       "output_type": "stream",
       "stream": "stdout",
       "text": [
        "using Gti for creating binned photon file Gti: 472 intervals from 310340000 to 312969991, on time 2217324\n",
        "Creating binfile from 1 FT1 files\n",
        "------/afs/slac/g/glast/groups/catalog//pointlike/fermi/data/P8_P302/binfiles/P302_Source_029_zmax105_4bpd.fits--------------"
       ]
      },
      {
       "output_type": "stream",
       "stream": "stdout",
       "text": [
        " OK\n",
        "Warning: PROC_VER not found in /afs/slac/g/glast/groups/catalog//pointlike/fermi/data/P8_P302/zmax105/P302_Source_029_zmax105.fits header"
       ]
      },
      {
       "output_type": "stream",
       "stream": "stdout",
       "text": [
        "\n",
        "processing cuts:  ZENITH_ANGLE zenith_cut\n",
        "ft1_cut DSTYP4: ZENITH_ANGLE\n",
        "DSUNI4: deg\n",
        "DSVAL4: 0:105\n",
        "DSREF4: None\n",
        "processing cuts:  THETA theta_cut\n",
        "ft1_cut None\n",
        "processing cuts:  EVENT_CLASS event_class_cut\n",
        "ft1_cut DSTYP1: BIT_MASK(EVENT_CLASS,128,P8R2)\n",
        "DSUNI1: DIMENSIONLESS\n",
        "DSVAL1: 1:1\n",
        "DSREF1: None\n",
        "File /afs/slac/g/glast/groups/catalog//pointlike/fermi/data/P8_P302/binfiles/P302_Source_029_zmax105_4bpd.fits not found\n"
       ]
      },
      {
       "output_type": "stream",
       "stream": "stderr",
       "text": [
        "/afs/slac/g/glast/groups/catalog/python/anaconda/lib/python2.7/site-packages/pyfits/file.py:339: UserWarning: Overwriting existing file '/afs/slac/g/glast/groups/catalog//pointlike/fermi/data/P8_P302/binfiles/P302_Source_028_zmax105_4bpd.fits'.\n",
        "  warnings.warn(\"Overwriting existing file %r.\" % self.name)\n",
        "/afs/slac/g/glast/groups/catalog/python/anaconda/lib/python2.7/site-packages/pyfits/file.py:339: UserWarning: Overwriting existing file '/afs/slac/g/glast/groups/catalog//pointlike/fermi/data/P8_P302/binfiles/P302_Source_029_zmax105_4bpd.fits'.\n",
        "  warnings.warn(\"Overwriting existing file %r.\" % self.name)\n"
       ]
      },
      {
       "output_type": "stream",
       "stream": "stdout",
       "text": [
        "using Gti for creating binned photon file Gti: 464 intervals from 312970004 to 315600000, on time 2217690\n",
        "Creating binfile from 1 FT1 files\n",
        "------/afs/slac/g/glast/groups/catalog//pointlike/fermi/data/P8_P302/binfiles/P302_Source_030_zmax105_4bpd.fits--------------"
       ]
      },
      {
       "output_type": "stream",
       "stream": "stdout",
       "text": [
        " OK\n",
        "Warning: PROC_VER not found in /afs/slac/g/glast/groups/catalog//pointlike/fermi/data/P8_P302/zmax105/P302_Source_030_zmax105.fits header"
       ]
      },
      {
       "output_type": "stream",
       "stream": "stdout",
       "text": [
        "\n",
        "processing cuts:  ZENITH_ANGLE zenith_cut\n",
        "ft1_cut DSTYP4: ZENITH_ANGLE\n",
        "DSUNI4: deg\n",
        "DSVAL4: 0:105\n",
        "DSREF4: None\n",
        "processing cuts:  THETA theta_cut\n",
        "ft1_cut None\n",
        "processing cuts:  EVENT_CLASS event_class_cut\n",
        "ft1_cut DSTYP1: BIT_MASK(EVENT_CLASS,128,P8R2)\n",
        "DSUNI1: DIMENSIONLESS\n",
        "DSVAL1: 1:1\n",
        "DSREF1: None\n",
        "File /afs/slac/g/glast/groups/catalog//pointlike/fermi/data/P8_P302/binfiles/P302_Source_030_zmax105_4bpd.fits not found\n"
       ]
      },
      {
       "output_type": "stream",
       "stream": "stdout",
       "text": [
        "using Gti for creating binned photon file Gti: 468 intervals from 315600000 to 318230000, on time 2213842\n",
        "Creating binfile from 1 FT1 files\n",
        "------/afs/slac/g/glast/groups/catalog//pointlike/fermi/data/P8_P302/binfiles/P302_Source_031_zmax105_4bpd.fits--------------"
       ]
      },
      {
       "output_type": "stream",
       "stream": "stdout",
       "text": [
        " OK\n",
        "Warning: PROC_VER not found in /afs/slac/g/glast/groups/catalog//pointlike/fermi/data/P8_P302/zmax105/P302_Source_031_zmax105.fits header"
       ]
      },
      {
       "output_type": "stream",
       "stream": "stdout",
       "text": [
        "\n",
        "processing cuts:  ZENITH_ANGLE zenith_cut\n",
        "ft1_cut DSTYP4: ZENITH_ANGLE\n",
        "DSUNI4: deg\n",
        "DSVAL4: 0:105\n",
        "DSREF4: None\n",
        "processing cuts:  THETA theta_cut\n",
        "ft1_cut None\n",
        "processing cuts:  EVENT_CLASS event_class_cut\n",
        "ft1_cut DSTYP1: BIT_MASK(EVENT_CLASS,128,P8R2)\n",
        "DSUNI1: DIMENSIONLESS\n",
        "DSVAL1: 1:1\n",
        "DSREF1: None\n",
        "File /afs/slac/g/glast/groups/catalog//pointlike/fermi/data/P8_P302/binfiles/P302_Source_031_zmax105_4bpd.fits not found\n"
       ]
      },
      {
       "output_type": "stream",
       "stream": "stderr",
       "text": [
        "/afs/slac/g/glast/groups/catalog/python/anaconda/lib/python2.7/site-packages/pyfits/file.py:339: UserWarning: Overwriting existing file '/afs/slac/g/glast/groups/catalog//pointlike/fermi/data/P8_P302/binfiles/P302_Source_030_zmax105_4bpd.fits'.\n",
        "  warnings.warn(\"Overwriting existing file %r.\" % self.name)\n",
        "/afs/slac/g/glast/groups/catalog/python/anaconda/lib/python2.7/site-packages/pyfits/file.py:339: UserWarning: Overwriting existing file '/afs/slac/g/glast/groups/catalog//pointlike/fermi/data/P8_P302/binfiles/P302_Source_031_zmax105_4bpd.fits'.\n",
        "  warnings.warn(\"Overwriting existing file %r.\" % self.name)\n"
       ]
      },
      {
       "output_type": "stream",
       "stream": "stdout",
       "text": [
        "using Gti for creating binned photon file Gti: 463 intervals from 318230000 to 320860000, on time 2188187\n",
        "Creating binfile from 1 FT1 files\n",
        "------/afs/slac/g/glast/groups/catalog//pointlike/fermi/data/P8_P302/binfiles/P302_Source_032_zmax105_4bpd.fits--------------"
       ]
      },
      {
       "output_type": "stream",
       "stream": "stdout",
       "text": [
        " OK\n",
        "Warning: PROC_VER not found in /afs/slac/g/glast/groups/catalog//pointlike/fermi/data/P8_P302/zmax105/P302_Source_032_zmax105.fits header"
       ]
      },
      {
       "output_type": "stream",
       "stream": "stdout",
       "text": [
        "\n",
        "processing cuts:  ZENITH_ANGLE zenith_cut\n",
        "ft1_cut DSTYP4: ZENITH_ANGLE\n",
        "DSUNI4: deg\n",
        "DSVAL4: 0:105\n",
        "DSREF4: None\n",
        "processing cuts:  THETA theta_cut\n",
        "ft1_cut None\n",
        "processing cuts:  EVENT_CLASS event_class_cut\n",
        "ft1_cut DSTYP1: BIT_MASK(EVENT_CLASS,128,P8R2)\n",
        "DSUNI1: DIMENSIONLESS\n",
        "DSVAL1: 1:1\n",
        "DSREF1: None\n",
        "File /afs/slac/g/glast/groups/catalog//pointlike/fermi/data/P8_P302/binfiles/P302_Source_032_zmax105_4bpd.fits not found\n"
       ]
      },
      {
       "output_type": "stream",
       "stream": "stdout",
       "text": [
        "using Gti for creating binned photon file Gti: 565 intervals from 320860000 to 323490000, on time 2131283\n",
        "Creating binfile from 1 FT1 files\n",
        "------/afs/slac/g/glast/groups/catalog//pointlike/fermi/data/P8_P302/binfiles/P302_Source_033_zmax105_4bpd.fits--------------"
       ]
      },
      {
       "output_type": "stream",
       "stream": "stdout",
       "text": [
        " OK\n",
        "Warning: PROC_VER not found in /afs/slac/g/glast/groups/catalog//pointlike/fermi/data/P8_P302/zmax105/P302_Source_033_zmax105.fits header"
       ]
      },
      {
       "output_type": "stream",
       "stream": "stdout",
       "text": [
        "\n",
        "processing cuts:  ZENITH_ANGLE zenith_cut\n",
        "ft1_cut DSTYP4: ZENITH_ANGLE\n",
        "DSUNI4: deg\n",
        "DSVAL4: 0:105\n",
        "DSREF4: None\n",
        "processing cuts:  THETA theta_cut\n",
        "ft1_cut None\n",
        "processing cuts:  EVENT_CLASS event_class_cut\n",
        "ft1_cut DSTYP1: BIT_MASK(EVENT_CLASS,128,P8R2)\n",
        "DSUNI1: DIMENSIONLESS\n",
        "DSVAL1: 1:1\n",
        "DSREF1: None\n",
        "File /afs/slac/g/glast/groups/catalog//pointlike/fermi/data/P8_P302/binfiles/P302_Source_033_zmax105_4bpd.fits not found\n"
       ]
      },
      {
       "output_type": "stream",
       "stream": "stderr",
       "text": [
        "/afs/slac/g/glast/groups/catalog/python/anaconda/lib/python2.7/site-packages/pyfits/file.py:339: UserWarning: Overwriting existing file '/afs/slac/g/glast/groups/catalog//pointlike/fermi/data/P8_P302/binfiles/P302_Source_032_zmax105_4bpd.fits'.\n",
        "  warnings.warn(\"Overwriting existing file %r.\" % self.name)\n",
        "/afs/slac/g/glast/groups/catalog/python/anaconda/lib/python2.7/site-packages/pyfits/file.py:339: UserWarning: Overwriting existing file '/afs/slac/g/glast/groups/catalog//pointlike/fermi/data/P8_P302/binfiles/P302_Source_033_zmax105_4bpd.fits'.\n",
        "  warnings.warn(\"Overwriting existing file %r.\" % self.name)\n"
       ]
      },
      {
       "output_type": "stream",
       "stream": "stdout",
       "text": [
        "using Gti for creating binned photon file Gti: 593 intervals from 323490000 to 326119766, on time 2128879\n",
        "Creating binfile from 1 FT1 files\n",
        "------/afs/slac/g/glast/groups/catalog//pointlike/fermi/data/P8_P302/binfiles/P302_Source_034_zmax105_4bpd.fits--------------"
       ]
      },
      {
       "output_type": "stream",
       "stream": "stdout",
       "text": [
        " OK\n",
        "Warning: PROC_VER not found in /afs/slac/g/glast/groups/catalog//pointlike/fermi/data/P8_P302/zmax105/P302_Source_034_zmax105.fits header"
       ]
      },
      {
       "output_type": "stream",
       "stream": "stdout",
       "text": [
        "\n",
        "processing cuts:  ZENITH_ANGLE zenith_cut\n",
        "ft1_cut DSTYP4: ZENITH_ANGLE\n",
        "DSUNI4: deg\n",
        "DSVAL4: 0:105\n",
        "DSREF4: None\n",
        "processing cuts:  THETA theta_cut\n",
        "ft1_cut None\n",
        "processing cuts:  EVENT_CLASS event_class_cut\n",
        "ft1_cut DSTYP1: BIT_MASK(EVENT_CLASS,128,P8R2)\n",
        "DSUNI1: DIMENSIONLESS\n",
        "DSVAL1: 1:1\n",
        "DSREF1: None\n",
        "File /afs/slac/g/glast/groups/catalog//pointlike/fermi/data/P8_P302/binfiles/P302_Source_034_zmax105_4bpd.fits not found\n"
       ]
      },
      {
       "output_type": "stream",
       "stream": "stdout",
       "text": [
        "using Gti for creating binned photon file Gti: 461 intervals from 326121128 to 328749005, on time 2213623\n",
        "Creating binfile from 1 FT1 files\n",
        "------/afs/slac/g/glast/groups/catalog//pointlike/fermi/data/P8_P302/binfiles/P302_Source_035_zmax105_4bpd.fits--------------"
       ]
      },
      {
       "output_type": "stream",
       "stream": "stdout",
       "text": [
        " OK\n",
        "Warning: PROC_VER not found in /afs/slac/g/glast/groups/catalog//pointlike/fermi/data/P8_P302/zmax105/P302_Source_035_zmax105.fits header"
       ]
      },
      {
       "output_type": "stream",
       "stream": "stdout",
       "text": [
        "\n",
        "processing cuts:  ZENITH_ANGLE zenith_cut\n",
        "ft1_cut DSTYP4: ZENITH_ANGLE\n",
        "DSUNI4: deg\n",
        "DSVAL4: 0:105\n",
        "DSREF4: None\n",
        "processing cuts:  THETA theta_cut\n",
        "ft1_cut None\n",
        "processing cuts:  EVENT_CLASS event_class_cut\n",
        "ft1_cut DSTYP1: BIT_MASK(EVENT_CLASS,128,P8R2)\n",
        "DSUNI1: DIMENSIONLESS\n",
        "DSVAL1: 1:1\n",
        "DSREF1: None\n",
        "File /afs/slac/g/glast/groups/catalog//pointlike/fermi/data/P8_P302/binfiles/P302_Source_035_zmax105_4bpd.fits not found\n"
       ]
      },
      {
       "output_type": "stream",
       "stream": "stderr",
       "text": [
        "/afs/slac/g/glast/groups/catalog/python/anaconda/lib/python2.7/site-packages/pyfits/file.py:339: UserWarning: Overwriting existing file '/afs/slac/g/glast/groups/catalog//pointlike/fermi/data/P8_P302/binfiles/P302_Source_034_zmax105_4bpd.fits'.\n",
        "  warnings.warn(\"Overwriting existing file %r.\" % self.name)\n",
        "/afs/slac/g/glast/groups/catalog/python/anaconda/lib/python2.7/site-packages/pyfits/file.py:339: UserWarning: Overwriting existing file '/afs/slac/g/glast/groups/catalog//pointlike/fermi/data/P8_P302/binfiles/P302_Source_035_zmax105_4bpd.fits'.\n",
        "  warnings.warn(\"Overwriting existing file %r.\" % self.name)\n"
       ]
      },
      {
       "output_type": "stream",
       "stream": "stdout",
       "text": [
        "using Gti for creating binned photon file Gti: 466 intervals from 328750150 to 331380000, on time 2208230\n",
        "Creating binfile from 1 FT1 files\n",
        "------/afs/slac/g/glast/groups/catalog//pointlike/fermi/data/P8_P302/binfiles/P302_Source_036_zmax105_4bpd.fits--------------"
       ]
      },
      {
       "output_type": "stream",
       "stream": "stdout",
       "text": [
        " OK\n",
        "Warning: PROC_VER not found in /afs/slac/g/glast/groups/catalog//pointlike/fermi/data/P8_P302/zmax105/P302_Source_036_zmax105.fits header"
       ]
      },
      {
       "output_type": "stream",
       "stream": "stdout",
       "text": [
        "\n",
        "processing cuts:  ZENITH_ANGLE zenith_cut\n",
        "ft1_cut DSTYP4: ZENITH_ANGLE\n",
        "DSUNI4: deg\n",
        "DSVAL4: 0:105\n",
        "DSREF4: None\n",
        "processing cuts:  THETA theta_cut\n",
        "ft1_cut None\n",
        "processing cuts:  EVENT_CLASS event_class_cut\n",
        "ft1_cut DSTYP1: BIT_MASK(EVENT_CLASS,128,P8R2)\n",
        "DSUNI1: DIMENSIONLESS\n",
        "DSVAL1: 1:1\n",
        "DSREF1: None\n",
        "File /afs/slac/g/glast/groups/catalog//pointlike/fermi/data/P8_P302/binfiles/P302_Source_036_zmax105_4bpd.fits not found\n"
       ]
      },
      {
       "output_type": "stream",
       "stream": "stdout",
       "text": [
        "using Gti for creating binned photon file Gti: 468 intervals from 331380000 to 334010000, on time 2194544\n",
        "Creating binfile from 1 FT1 files\n",
        "------/afs/slac/g/glast/groups/catalog//pointlike/fermi/data/P8_P302/binfiles/P302_Source_037_zmax105_4bpd.fits--------------"
       ]
      },
      {
       "output_type": "stream",
       "stream": "stdout",
       "text": [
        " OK\n",
        "Warning: PROC_VER not found in /afs/slac/g/glast/groups/catalog//pointlike/fermi/data/P8_P302/zmax105/P302_Source_037_zmax105.fits header"
       ]
      },
      {
       "output_type": "stream",
       "stream": "stdout",
       "text": [
        "\n",
        "processing cuts:  ZENITH_ANGLE zenith_cut\n",
        "ft1_cut DSTYP4: ZENITH_ANGLE\n",
        "DSUNI4: deg\n",
        "DSVAL4: 0:105\n",
        "DSREF4: None\n",
        "processing cuts:  THETA theta_cut\n",
        "ft1_cut None\n",
        "processing cuts:  EVENT_CLASS event_class_cut\n",
        "ft1_cut DSTYP1: BIT_MASK(EVENT_CLASS,128,P8R2)\n",
        "DSUNI1: DIMENSIONLESS\n",
        "DSVAL1: 1:1\n",
        "DSREF1: None\n",
        "File /afs/slac/g/glast/groups/catalog//pointlike/fermi/data/P8_P302/binfiles/P302_Source_037_zmax105_4bpd.fits not found\n"
       ]
      },
      {
       "output_type": "stream",
       "stream": "stderr",
       "text": [
        "/afs/slac/g/glast/groups/catalog/python/anaconda/lib/python2.7/site-packages/pyfits/file.py:339: UserWarning: Overwriting existing file '/afs/slac/g/glast/groups/catalog//pointlike/fermi/data/P8_P302/binfiles/P302_Source_036_zmax105_4bpd.fits'.\n",
        "  warnings.warn(\"Overwriting existing file %r.\" % self.name)\n",
        "/afs/slac/g/glast/groups/catalog/python/anaconda/lib/python2.7/site-packages/pyfits/file.py:339: UserWarning: Overwriting existing file '/afs/slac/g/glast/groups/catalog//pointlike/fermi/data/P8_P302/binfiles/P302_Source_037_zmax105_4bpd.fits'.\n",
        "  warnings.warn(\"Overwriting existing file %r.\" % self.name)\n"
       ]
      },
      {
       "output_type": "stream",
       "stream": "stdout",
       "text": [
        "using Gti for creating binned photon file Gti: 494 intervals from 334010000 to 336640000, on time 2165094\n",
        "Creating binfile from 1 FT1 files\n",
        "------/afs/slac/g/glast/groups/catalog//pointlike/fermi/data/P8_P302/binfiles/P302_Source_038_zmax105_4bpd.fits--------------"
       ]
      },
      {
       "output_type": "stream",
       "stream": "stdout",
       "text": [
        " OK\n",
        "Warning: PROC_VER not found in /afs/slac/g/glast/groups/catalog//pointlike/fermi/data/P8_P302/zmax105/P302_Source_038_zmax105.fits header"
       ]
      },
      {
       "output_type": "stream",
       "stream": "stdout",
       "text": [
        "\n",
        "processing cuts:  ZENITH_ANGLE zenith_cut\n",
        "ft1_cut DSTYP4: ZENITH_ANGLE\n",
        "DSUNI4: deg\n",
        "DSVAL4: 0:105\n",
        "DSREF4: None\n",
        "processing cuts:  THETA theta_cut\n",
        "ft1_cut None\n",
        "processing cuts:  EVENT_CLASS event_class_cut\n",
        "ft1_cut DSTYP1: BIT_MASK(EVENT_CLASS,128,P8R2)\n",
        "DSUNI1: DIMENSIONLESS\n",
        "DSVAL1: 1:1\n",
        "DSREF1: None\n",
        "File /afs/slac/g/glast/groups/catalog//pointlike/fermi/data/P8_P302/binfiles/P302_Source_038_zmax105_4bpd.fits not found\n"
       ]
      },
      {
       "output_type": "stream",
       "stream": "stdout",
       "text": [
        "using Gti for creating binned photon file Gti: 531 intervals from 336640000 to 339270000, on time 2054474\n",
        "Creating binfile from 1 FT1 files\n",
        "------/afs/slac/g/glast/groups/catalog//pointlike/fermi/data/P8_P302/binfiles/P302_Source_039_zmax105_4bpd.fits--------------"
       ]
      },
      {
       "output_type": "stream",
       "stream": "stdout",
       "text": [
        " OK\n",
        "Warning: PROC_VER not found in /afs/slac/g/glast/groups/catalog//pointlike/fermi/data/P8_P302/zmax105/P302_Source_039_zmax105.fits header"
       ]
      },
      {
       "output_type": "stream",
       "stream": "stdout",
       "text": [
        "\n",
        "processing cuts:  ZENITH_ANGLE zenith_cut\n",
        "ft1_cut DSTYP4: ZENITH_ANGLE\n",
        "DSUNI4: deg\n",
        "DSVAL4: 0:105\n",
        "DSREF4: None\n",
        "processing cuts:  THETA theta_cut\n",
        "ft1_cut None\n",
        "processing cuts:  EVENT_CLASS event_class_cut\n",
        "ft1_cut DSTYP1: BIT_MASK(EVENT_CLASS,128,P8R2)\n",
        "DSUNI1: DIMENSIONLESS\n",
        "DSVAL1: 1:1\n",
        "DSREF1: None\n",
        "File /afs/slac/g/glast/groups/catalog//pointlike/fermi/data/P8_P302/binfiles/P302_Source_039_zmax105_4bpd.fits not found\n"
       ]
      },
      {
       "output_type": "stream",
       "stream": "stderr",
       "text": [
        "/afs/slac/g/glast/groups/catalog/python/anaconda/lib/python2.7/site-packages/pyfits/file.py:339: UserWarning: Overwriting existing file '/afs/slac/g/glast/groups/catalog//pointlike/fermi/data/P8_P302/binfiles/P302_Source_038_zmax105_4bpd.fits'.\n",
        "  warnings.warn(\"Overwriting existing file %r.\" % self.name)\n",
        "/afs/slac/g/glast/groups/catalog/python/anaconda/lib/python2.7/site-packages/pyfits/file.py:339: UserWarning: Overwriting existing file '/afs/slac/g/glast/groups/catalog//pointlike/fermi/data/P8_P302/binfiles/P302_Source_039_zmax105_4bpd.fits'.\n",
        "  warnings.warn(\"Overwriting existing file %r.\" % self.name)\n"
       ]
      },
      {
       "output_type": "stream",
       "stream": "stdout",
       "text": [
        "using Gti for creating binned photon file Gti: 455 intervals from 339270000 to 341900000, on time 2146520\n",
        "Creating binfile from 1 FT1 files\n",
        "------/afs/slac/g/glast/groups/catalog//pointlike/fermi/data/P8_P302/binfiles/P302_Source_040_zmax105_4bpd.fits--------------"
       ]
      },
      {
       "output_type": "stream",
       "stream": "stdout",
       "text": [
        " OK\n",
        "Warning: PROC_VER not found in /afs/slac/g/glast/groups/catalog//pointlike/fermi/data/P8_P302/zmax105/P302_Source_040_zmax105.fits header"
       ]
      },
      {
       "output_type": "stream",
       "stream": "stdout",
       "text": [
        "\n",
        "processing cuts:  ZENITH_ANGLE zenith_cut\n",
        "ft1_cut DSTYP4: ZENITH_ANGLE\n",
        "DSUNI4: deg\n",
        "DSVAL4: 0:105\n",
        "DSREF4: None\n",
        "processing cuts:  THETA theta_cut\n",
        "ft1_cut None\n",
        "processing cuts:  EVENT_CLASS event_class_cut\n",
        "ft1_cut DSTYP1: BIT_MASK(EVENT_CLASS,128,P8R2)\n",
        "DSUNI1: DIMENSIONLESS\n",
        "DSVAL1: 1:1\n",
        "DSREF1: None\n",
        "File /afs/slac/g/glast/groups/catalog//pointlike/fermi/data/P8_P302/binfiles/P302_Source_040_zmax105_4bpd.fits not found\n"
       ]
      },
      {
       "output_type": "stream",
       "stream": "stdout",
       "text": [
        "using Gti for creating binned photon file Gti: 464 intervals from 341900000 to 344529982, on time 2211955\n",
        "Creating binfile from 1 FT1 files\n",
        "------/afs/slac/g/glast/groups/catalog//pointlike/fermi/data/P8_P302/binfiles/P302_Source_041_zmax105_4bpd.fits--------------"
       ]
      },
      {
       "output_type": "stream",
       "stream": "stdout",
       "text": [
        " OK\n",
        "Warning: PROC_VER not found in /afs/slac/g/glast/groups/catalog//pointlike/fermi/data/P8_P302/zmax105/P302_Source_041_zmax105.fits header"
       ]
      },
      {
       "output_type": "stream",
       "stream": "stdout",
       "text": [
        "\n",
        "processing cuts:  ZENITH_ANGLE zenith_cut\n",
        "ft1_cut DSTYP4: ZENITH_ANGLE\n",
        "DSUNI4: deg\n",
        "DSVAL4: 0:105\n",
        "DSREF4: None\n",
        "processing cuts:  THETA theta_cut\n",
        "ft1_cut None\n",
        "processing cuts:  EVENT_CLASS event_class_cut\n",
        "ft1_cut DSTYP1: BIT_MASK(EVENT_CLASS,128,P8R2)\n",
        "DSUNI1: DIMENSIONLESS\n",
        "DSVAL1: 1:1\n",
        "DSREF1: None\n",
        "File /afs/slac/g/glast/groups/catalog//pointlike/fermi/data/P8_P302/binfiles/P302_Source_041_zmax105_4bpd.fits not found\n"
       ]
      },
      {
       "output_type": "stream",
       "stream": "stderr",
       "text": [
        "/afs/slac/g/glast/groups/catalog/python/anaconda/lib/python2.7/site-packages/pyfits/file.py:339: UserWarning: Overwriting existing file '/afs/slac/g/glast/groups/catalog//pointlike/fermi/data/P8_P302/binfiles/P302_Source_040_zmax105_4bpd.fits'.\n",
        "  warnings.warn(\"Overwriting existing file %r.\" % self.name)\n",
        "/afs/slac/g/glast/groups/catalog/python/anaconda/lib/python2.7/site-packages/pyfits/file.py:339: UserWarning: Overwriting existing file '/afs/slac/g/glast/groups/catalog//pointlike/fermi/data/P8_P302/binfiles/P302_Source_041_zmax105_4bpd.fits'.\n",
        "  warnings.warn(\"Overwriting existing file %r.\" % self.name)\n"
       ]
      },
      {
       "output_type": "stream",
       "stream": "stdout",
       "text": [
        "using Gti for creating binned photon file Gti: 466 intervals from 344531604 to 347160000, on time 2202180\n",
        "Creating binfile from 1 FT1 files\n",
        "------/afs/slac/g/glast/groups/catalog//pointlike/fermi/data/P8_P302/binfiles/P302_Source_042_zmax105_4bpd.fits--------------"
       ]
      },
      {
       "output_type": "stream",
       "stream": "stdout",
       "text": [
        " OK\n",
        "Warning: PROC_VER not found in /afs/slac/g/glast/groups/catalog//pointlike/fermi/data/P8_P302/zmax105/P302_Source_042_zmax105.fits header"
       ]
      },
      {
       "output_type": "stream",
       "stream": "stdout",
       "text": [
        "\n",
        "processing cuts:  ZENITH_ANGLE zenith_cut\n",
        "ft1_cut DSTYP4: ZENITH_ANGLE\n",
        "DSUNI4: deg\n",
        "DSVAL4: 0:105\n",
        "DSREF4: None\n",
        "processing cuts:  THETA theta_cut\n",
        "ft1_cut None\n",
        "processing cuts:  EVENT_CLASS event_class_cut\n",
        "ft1_cut DSTYP1: BIT_MASK(EVENT_CLASS,128,P8R2)\n",
        "DSUNI1: DIMENSIONLESS\n",
        "DSVAL1: 1:1\n",
        "DSREF1: None\n",
        "File /afs/slac/g/glast/groups/catalog//pointlike/fermi/data/P8_P302/binfiles/P302_Source_042_zmax105_4bpd.fits not found\n"
       ]
      },
      {
       "output_type": "stream",
       "stream": "stdout",
       "text": [
        "using Gti for creating binned photon file Gti: 465 intervals from 347160000 to 349790000, on time 2194965\n",
        "Creating binfile from 1 FT1 files\n",
        "------/afs/slac/g/glast/groups/catalog//pointlike/fermi/data/P8_P302/binfiles/P302_Source_043_zmax105_4bpd.fits--------------"
       ]
      },
      {
       "output_type": "stream",
       "stream": "stdout",
       "text": [
        " OK\n",
        "Warning: PROC_VER not found in /afs/slac/g/glast/groups/catalog//pointlike/fermi/data/P8_P302/zmax105/P302_Source_043_zmax105.fits header"
       ]
      },
      {
       "output_type": "stream",
       "stream": "stdout",
       "text": [
        "\n",
        "processing cuts:  ZENITH_ANGLE zenith_cut\n",
        "ft1_cut DSTYP4: ZENITH_ANGLE\n",
        "DSUNI4: deg\n",
        "DSVAL4: 0:105\n",
        "DSREF4: None\n",
        "processing cuts:  THETA theta_cut\n",
        "ft1_cut None\n",
        "processing cuts:  EVENT_CLASS event_class_cut\n",
        "ft1_cut DSTYP1: BIT_MASK(EVENT_CLASS,128,P8R2)\n",
        "DSUNI1: DIMENSIONLESS\n",
        "DSVAL1: 1:1\n",
        "DSREF1: None\n",
        "File /afs/slac/g/glast/groups/catalog//pointlike/fermi/data/P8_P302/binfiles/P302_Source_043_zmax105_4bpd.fits not found\n"
       ]
      },
      {
       "output_type": "stream",
       "stream": "stderr",
       "text": [
        "/afs/slac/g/glast/groups/catalog/python/anaconda/lib/python2.7/site-packages/pyfits/file.py:339: UserWarning: Overwriting existing file '/afs/slac/g/glast/groups/catalog//pointlike/fermi/data/P8_P302/binfiles/P302_Source_042_zmax105_4bpd.fits'.\n",
        "  warnings.warn(\"Overwriting existing file %r.\" % self.name)\n",
        "/afs/slac/g/glast/groups/catalog/python/anaconda/lib/python2.7/site-packages/pyfits/file.py:339: UserWarning: Overwriting existing file '/afs/slac/g/glast/groups/catalog//pointlike/fermi/data/P8_P302/binfiles/P302_Source_043_zmax105_4bpd.fits'.\n",
        "  warnings.warn(\"Overwriting existing file %r.\" % self.name)\n"
       ]
      },
      {
       "output_type": "stream",
       "stream": "stdout",
       "text": [
        "using Gti for creating binned photon file Gti: 466 intervals from 349790000 to 352420000, on time 2190223\n",
        "Creating binfile from 1 FT1 files\n",
        "------/afs/slac/g/glast/groups/catalog//pointlike/fermi/data/P8_P302/binfiles/P302_Source_044_zmax105_4bpd.fits--------------"
       ]
      },
      {
       "output_type": "stream",
       "stream": "stdout",
       "text": [
        " OK\n",
        "Warning: PROC_VER not found in /afs/slac/g/glast/groups/catalog//pointlike/fermi/data/P8_P302/zmax105/P302_Source_044_zmax105.fits header"
       ]
      },
      {
       "output_type": "stream",
       "stream": "stdout",
       "text": [
        "\n",
        "processing cuts:  ZENITH_ANGLE zenith_cut\n",
        "ft1_cut DSTYP4: ZENITH_ANGLE\n",
        "DSUNI4: deg\n",
        "DSVAL4: 0:105\n",
        "DSREF4: None\n",
        "processing cuts:  THETA theta_cut\n",
        "ft1_cut None\n",
        "processing cuts:  EVENT_CLASS event_class_cut\n",
        "ft1_cut DSTYP1: BIT_MASK(EVENT_CLASS,128,P8R2)\n",
        "DSUNI1: DIMENSIONLESS\n",
        "DSVAL1: 1:1\n",
        "DSREF1: None\n",
        "File /afs/slac/g/glast/groups/catalog//pointlike/fermi/data/P8_P302/binfiles/P302_Source_044_zmax105_4bpd.fits not found\n"
       ]
      },
      {
       "output_type": "stream",
       "stream": "stdout",
       "text": [
        "using Gti for creating binned photon file Gti: 483 intervals from 352420000 to 355050000, on time 2147723\n",
        "Creating binfile from 1 FT1 files\n",
        "------/afs/slac/g/glast/groups/catalog//pointlike/fermi/data/P8_P302/binfiles/P302_Source_045_zmax105_4bpd.fits--------------"
       ]
      },
      {
       "output_type": "stream",
       "stream": "stdout",
       "text": [
        " OK\n",
        "Warning: PROC_VER not found in /afs/slac/g/glast/groups/catalog//pointlike/fermi/data/P8_P302/zmax105/P302_Source_045_zmax105.fits header"
       ]
      },
      {
       "output_type": "stream",
       "stream": "stdout",
       "text": [
        "\n",
        "processing cuts:  ZENITH_ANGLE zenith_cut\n",
        "ft1_cut DSTYP4: ZENITH_ANGLE\n",
        "DSUNI4: deg\n",
        "DSVAL4: 0:105\n",
        "DSREF4: None\n",
        "processing cuts:  THETA theta_cut\n",
        "ft1_cut None\n",
        "processing cuts:  EVENT_CLASS event_class_cut\n",
        "ft1_cut DSTYP1: BIT_MASK(EVENT_CLASS,128,P8R2)\n",
        "DSUNI1: DIMENSIONLESS\n",
        "DSVAL1: 1:1\n",
        "DSREF1: None\n",
        "File /afs/slac/g/glast/groups/catalog//pointlike/fermi/data/P8_P302/binfiles/P302_Source_045_zmax105_4bpd.fits not found\n"
       ]
      },
      {
       "output_type": "stream",
       "stream": "stderr",
       "text": [
        "/afs/slac/g/glast/groups/catalog/python/anaconda/lib/python2.7/site-packages/pyfits/file.py:339: UserWarning: Overwriting existing file '/afs/slac/g/glast/groups/catalog//pointlike/fermi/data/P8_P302/binfiles/P302_Source_044_zmax105_4bpd.fits'.\n",
        "  warnings.warn(\"Overwriting existing file %r.\" % self.name)\n",
        "/afs/slac/g/glast/groups/catalog/python/anaconda/lib/python2.7/site-packages/pyfits/file.py:339: UserWarning: Overwriting existing file '/afs/slac/g/glast/groups/catalog//pointlike/fermi/data/P8_P302/binfiles/P302_Source_045_zmax105_4bpd.fits'.\n",
        "  warnings.warn(\"Overwriting existing file %r.\" % self.name)\n"
       ]
      },
      {
       "output_type": "stream",
       "stream": "stdout",
       "text": [
        "using Gti for creating binned photon file Gti: 460 intervals from 355050000 to 357680000, on time 2182394\n",
        "Creating binfile from 1 FT1 files\n",
        "------/afs/slac/g/glast/groups/catalog//pointlike/fermi/data/P8_P302/binfiles/P302_Source_046_zmax105_4bpd.fits--------------"
       ]
      },
      {
       "output_type": "stream",
       "stream": "stdout",
       "text": [
        " OK\n",
        "Warning: PROC_VER not found in /afs/slac/g/glast/groups/catalog//pointlike/fermi/data/P8_P302/zmax105/P302_Source_046_zmax105.fits header"
       ]
      },
      {
       "output_type": "stream",
       "stream": "stdout",
       "text": [
        "\n",
        "processing cuts:  ZENITH_ANGLE zenith_cut\n",
        "ft1_cut DSTYP4: ZENITH_ANGLE\n",
        "DSUNI4: deg\n",
        "DSVAL4: 0:105\n",
        "DSREF4: None\n",
        "processing cuts:  THETA theta_cut\n",
        "ft1_cut None\n",
        "processing cuts:  EVENT_CLASS event_class_cut\n",
        "ft1_cut DSTYP1: BIT_MASK(EVENT_CLASS,128,P8R2)\n",
        "DSUNI1: DIMENSIONLESS\n",
        "DSVAL1: 1:1\n",
        "DSREF1: None\n",
        "File /afs/slac/g/glast/groups/catalog//pointlike/fermi/data/P8_P302/binfiles/P302_Source_046_zmax105_4bpd.fits not found\n"
       ]
      },
      {
       "output_type": "stream",
       "stream": "stdout",
       "text": [
        "using Gti for creating binned photon file Gti: 465 intervals from 357680000 to 360310000, on time 2185855\n",
        "Creating binfile from 1 FT1 files\n",
        "------/afs/slac/g/glast/groups/catalog//pointlike/fermi/data/P8_P302/binfiles/P302_Source_047_zmax105_4bpd.fits--------------"
       ]
      },
      {
       "output_type": "stream",
       "stream": "stdout",
       "text": [
        " OK\n",
        "Warning: PROC_VER not found in /afs/slac/g/glast/groups/catalog//pointlike/fermi/data/P8_P302/zmax105/P302_Source_047_zmax105.fits header"
       ]
      },
      {
       "output_type": "stream",
       "stream": "stdout",
       "text": [
        "\n",
        "processing cuts:  ZENITH_ANGLE zenith_cut\n",
        "ft1_cut DSTYP4: ZENITH_ANGLE\n",
        "DSUNI4: deg\n",
        "DSVAL4: 0:105\n",
        "DSREF4: None\n",
        "processing cuts:  THETA theta_cut\n",
        "ft1_cut None\n",
        "processing cuts:  EVENT_CLASS event_class_cut\n",
        "ft1_cut DSTYP1: BIT_MASK(EVENT_CLASS,128,P8R2)\n",
        "DSUNI1: DIMENSIONLESS\n",
        "DSVAL1: 1:1\n",
        "DSREF1: None\n",
        "File /afs/slac/g/glast/groups/catalog//pointlike/fermi/data/P8_P302/binfiles/P302_Source_047_zmax105_4bpd.fits not found\n"
       ]
      },
      {
       "output_type": "stream",
       "stream": "stderr",
       "text": [
        "/afs/slac/g/glast/groups/catalog/python/anaconda/lib/python2.7/site-packages/pyfits/file.py:339: UserWarning: Overwriting existing file '/afs/slac/g/glast/groups/catalog//pointlike/fermi/data/P8_P302/binfiles/P302_Source_046_zmax105_4bpd.fits'.\n",
        "  warnings.warn(\"Overwriting existing file %r.\" % self.name)\n",
        "/afs/slac/g/glast/groups/catalog/python/anaconda/lib/python2.7/site-packages/pyfits/file.py:339: UserWarning: Overwriting existing file '/afs/slac/g/glast/groups/catalog//pointlike/fermi/data/P8_P302/binfiles/P302_Source_047_zmax105_4bpd.fits'.\n",
        "  warnings.warn(\"Overwriting existing file %r.\" % self.name)\n"
       ]
      },
      {
       "output_type": "stream",
       "stream": "stdout",
       "text": [
        "using Gti for creating binned photon file Gti: 461 intervals from 360310000 to 362940000, on time 2180516\n",
        "Creating binfile from 1 FT1 files\n",
        "------/afs/slac/g/glast/groups/catalog//pointlike/fermi/data/P8_P302/binfiles/P302_Source_048_zmax105_4bpd.fits--------------"
       ]
      },
      {
       "output_type": "stream",
       "stream": "stdout",
       "text": [
        " OK\n",
        "Warning: PROC_VER not found in /afs/slac/g/glast/groups/catalog//pointlike/fermi/data/P8_P302/zmax105/P302_Source_048_zmax105.fits header"
       ]
      },
      {
       "output_type": "stream",
       "stream": "stdout",
       "text": [
        "\n",
        "processing cuts:  ZENITH_ANGLE zenith_cut\n",
        "ft1_cut DSTYP4: ZENITH_ANGLE\n",
        "DSUNI4: deg\n",
        "DSVAL4: 0:105\n",
        "DSREF4: None\n",
        "processing cuts:  THETA theta_cut\n",
        "ft1_cut None\n",
        "processing cuts:  EVENT_CLASS event_class_cut\n",
        "ft1_cut DSTYP1: BIT_MASK(EVENT_CLASS,128,P8R2)\n",
        "DSUNI1: DIMENSIONLESS\n",
        "DSVAL1: 1:1\n",
        "DSREF1: None\n",
        "File /afs/slac/g/glast/groups/catalog//pointlike/fermi/data/P8_P302/binfiles/P302_Source_048_zmax105_4bpd.fits not found\n"
       ]
      },
      {
       "output_type": "stream",
       "stream": "stdout",
       "text": [
        "using Gti for creating binned photon file Gti: 531 intervals from 362940000 to 365570000, on time 2160360\n",
        "Creating binfile from 1 FT1 files\n",
        "------/afs/slac/g/glast/groups/catalog//pointlike/fermi/data/P8_P302/binfiles/P302_Source_049_zmax105_4bpd.fits--------------"
       ]
      },
      {
       "output_type": "stream",
       "stream": "stdout",
       "text": [
        " OK\n",
        "Warning: PROC_VER not found in /afs/slac/g/glast/groups/catalog//pointlike/fermi/data/P8_P302/zmax105/P302_Source_049_zmax105.fits header"
       ]
      },
      {
       "output_type": "stream",
       "stream": "stdout",
       "text": [
        "\n",
        "processing cuts:  ZENITH_ANGLE zenith_cut\n",
        "ft1_cut DSTYP4: ZENITH_ANGLE\n",
        "DSUNI4: deg\n",
        "DSVAL4: 0:105\n",
        "DSREF4: None\n",
        "processing cuts:  THETA theta_cut\n",
        "ft1_cut None\n",
        "processing cuts:  EVENT_CLASS event_class_cut\n",
        "ft1_cut DSTYP1: BIT_MASK(EVENT_CLASS,128,P8R2)\n",
        "DSUNI1: DIMENSIONLESS\n",
        "DSVAL1: 1:1\n",
        "DSREF1: None\n",
        "File /afs/slac/g/glast/groups/catalog//pointlike/fermi/data/P8_P302/binfiles/P302_Source_049_zmax105_4bpd.fits not found\n"
       ]
      },
      {
       "output_type": "stream",
       "stream": "stderr",
       "text": [
        "/afs/slac/g/glast/groups/catalog/python/anaconda/lib/python2.7/site-packages/pyfits/file.py:339: UserWarning: Overwriting existing file '/afs/slac/g/glast/groups/catalog//pointlike/fermi/data/P8_P302/binfiles/P302_Source_048_zmax105_4bpd.fits'.\n",
        "  warnings.warn(\"Overwriting existing file %r.\" % self.name)\n",
        "/afs/slac/g/glast/groups/catalog/python/anaconda/lib/python2.7/site-packages/pyfits/file.py:339: UserWarning: Overwriting existing file '/afs/slac/g/glast/groups/catalog//pointlike/fermi/data/P8_P302/binfiles/P302_Source_049_zmax105_4bpd.fits'.\n",
        "  warnings.warn(\"Overwriting existing file %r.\" % self.name)\n"
       ]
      },
      {
       "output_type": "stream",
       "stream": "stdout",
       "text": [
        "using Gti for creating binned photon file Gti: 456 intervals from 365570000 to 368200000, on time 2162947\n",
        "Creating binfile from 1 FT1 files\n",
        "------/afs/slac/g/glast/groups/catalog//pointlike/fermi/data/P8_P302/binfiles/P302_Source_050_zmax105_4bpd.fits--------------"
       ]
      },
      {
       "output_type": "stream",
       "stream": "stdout",
       "text": [
        " OK\n",
        "Warning: PROC_VER not found in /afs/slac/g/glast/groups/catalog//pointlike/fermi/data/P8_P302/zmax105/P302_Source_050_zmax105.fits header"
       ]
      },
      {
       "output_type": "stream",
       "stream": "stdout",
       "text": [
        "\n",
        "processing cuts:  ZENITH_ANGLE zenith_cut\n",
        "ft1_cut DSTYP4: ZENITH_ANGLE\n",
        "DSUNI4: deg\n",
        "DSVAL4: 0:105\n",
        "DSREF4: None\n",
        "processing cuts:  THETA theta_cut\n",
        "ft1_cut None\n",
        "processing cuts:  EVENT_CLASS event_class_cut\n",
        "ft1_cut DSTYP1: BIT_MASK(EVENT_CLASS,128,P8R2)\n",
        "DSUNI1: DIMENSIONLESS\n",
        "DSVAL1: 1:1\n",
        "DSREF1: None\n",
        "File /afs/slac/g/glast/groups/catalog//pointlike/fermi/data/P8_P302/binfiles/P302_Source_050_zmax105_4bpd.fits not found\n"
       ]
      },
      {
       "output_type": "stream",
       "stream": "stdout",
       "text": [
        "using Gti for creating binned photon file Gti: 613 intervals from 368200000 to 370823856, on time 2065707\n",
        "Creating binfile from 1 FT1 files\n",
        "------/afs/slac/g/glast/groups/catalog//pointlike/fermi/data/P8_P302/binfiles/P302_Source_051_zmax105_4bpd.fits--------------"
       ]
      },
      {
       "output_type": "stream",
       "stream": "stdout",
       "text": [
        " OK\n",
        "Warning: PROC_VER not found in /afs/slac/g/glast/groups/catalog//pointlike/fermi/data/P8_P302/zmax105/P302_Source_051_zmax105.fits header"
       ]
      },
      {
       "output_type": "stream",
       "stream": "stdout",
       "text": [
        "\n",
        "processing cuts:  ZENITH_ANGLE zenith_cut\n",
        "ft1_cut DSTYP4: ZENITH_ANGLE\n",
        "DSUNI4: deg\n",
        "DSVAL4: 0:105\n",
        "DSREF4: None\n",
        "processing cuts:  THETA theta_cut\n",
        "ft1_cut None\n",
        "processing cuts:  EVENT_CLASS event_class_cut\n",
        "ft1_cut DSTYP1: BIT_MASK(EVENT_CLASS,128,P8R2)\n",
        "DSUNI1: DIMENSIONLESS\n",
        "DSVAL1: 1:1\n",
        "DSREF1: None\n",
        "File /afs/slac/g/glast/groups/catalog//pointlike/fermi/data/P8_P302/binfiles/P302_Source_051_zmax105_4bpd.fits not found\n"
       ]
      },
      {
       "output_type": "stream",
       "stream": "stderr",
       "text": [
        "/afs/slac/g/glast/groups/catalog/python/anaconda/lib/python2.7/site-packages/pyfits/file.py:339: UserWarning: Overwriting existing file '/afs/slac/g/glast/groups/catalog//pointlike/fermi/data/P8_P302/binfiles/P302_Source_050_zmax105_4bpd.fits'.\n",
        "  warnings.warn(\"Overwriting existing file %r.\" % self.name)\n",
        "/afs/slac/g/glast/groups/catalog/python/anaconda/lib/python2.7/site-packages/pyfits/file.py:339: UserWarning: Overwriting existing file '/afs/slac/g/glast/groups/catalog//pointlike/fermi/data/P8_P302/binfiles/P302_Source_051_zmax105_4bpd.fits'.\n",
        "  warnings.warn(\"Overwriting existing file %r.\" % self.name)\n"
       ]
      },
      {
       "output_type": "stream",
       "stream": "stdout",
       "text": [
        "using Gti for creating binned photon file Gti: 493 intervals from 370835830 to 373460000, on time 2158909\n",
        "Creating binfile from 1 FT1 files\n",
        "------/afs/slac/g/glast/groups/catalog//pointlike/fermi/data/P8_P302/binfiles/P302_Source_052_zmax105_4bpd.fits--------------"
       ]
      },
      {
       "output_type": "stream",
       "stream": "stdout",
       "text": [
        " OK\n",
        "Warning: PROC_VER not found in /afs/slac/g/glast/groups/catalog//pointlike/fermi/data/P8_P302/zmax105/P302_Source_052_zmax105.fits header"
       ]
      },
      {
       "output_type": "stream",
       "stream": "stdout",
       "text": [
        "\n",
        "processing cuts:  ZENITH_ANGLE zenith_cut\n",
        "ft1_cut DSTYP4: ZENITH_ANGLE\n",
        "DSUNI4: deg\n",
        "DSVAL4: 0:105\n",
        "DSREF4: None\n",
        "processing cuts:  THETA theta_cut\n",
        "ft1_cut None\n",
        "processing cuts:  EVENT_CLASS event_class_cut\n",
        "ft1_cut DSTYP1: BIT_MASK(EVENT_CLASS,128,P8R2)\n",
        "DSUNI1: DIMENSIONLESS\n",
        "DSVAL1: 1:1\n",
        "DSREF1: None\n",
        "File /afs/slac/g/glast/groups/catalog//pointlike/fermi/data/P8_P302/binfiles/P302_Source_052_zmax105_4bpd.fits not found\n"
       ]
      },
      {
       "output_type": "stream",
       "stream": "stdout",
       "text": [
        "using Gti for creating binned photon file Gti: 468 intervals from 373460000 to 376090000, on time 2174829\n",
        "Creating binfile from 1 FT1 files\n",
        "------/afs/slac/g/glast/groups/catalog//pointlike/fermi/data/P8_P302/binfiles/P302_Source_053_zmax105_4bpd.fits--------------"
       ]
      },
      {
       "output_type": "stream",
       "stream": "stdout",
       "text": [
        " OK\n",
        "Warning: PROC_VER not found in /afs/slac/g/glast/groups/catalog//pointlike/fermi/data/P8_P302/zmax105/P302_Source_053_zmax105.fits header"
       ]
      },
      {
       "output_type": "stream",
       "stream": "stdout",
       "text": [
        "\n",
        "processing cuts:  ZENITH_ANGLE zenith_cut\n",
        "ft1_cut DSTYP4: ZENITH_ANGLE\n",
        "DSUNI4: deg\n",
        "DSVAL4: 0:105\n",
        "DSREF4: None\n",
        "processing cuts:  THETA theta_cut\n",
        "ft1_cut None\n",
        "processing cuts:  EVENT_CLASS event_class_cut\n",
        "ft1_cut DSTYP1: BIT_MASK(EVENT_CLASS,128,P8R2)\n",
        "DSUNI1: DIMENSIONLESS\n",
        "DSVAL1: 1:1\n",
        "DSREF1: None\n",
        "File /afs/slac/g/glast/groups/catalog//pointlike/fermi/data/P8_P302/binfiles/P302_Source_053_zmax105_4bpd.fits not found\n"
       ]
      },
      {
       "output_type": "stream",
       "stream": "stderr",
       "text": [
        "/afs/slac/g/glast/groups/catalog/python/anaconda/lib/python2.7/site-packages/pyfits/file.py:339: UserWarning: Overwriting existing file '/afs/slac/g/glast/groups/catalog//pointlike/fermi/data/P8_P302/binfiles/P302_Source_052_zmax105_4bpd.fits'.\n",
        "  warnings.warn(\"Overwriting existing file %r.\" % self.name)\n",
        "/afs/slac/g/glast/groups/catalog/python/anaconda/lib/python2.7/site-packages/pyfits/file.py:339: UserWarning: Overwriting existing file '/afs/slac/g/glast/groups/catalog//pointlike/fermi/data/P8_P302/binfiles/P302_Source_053_zmax105_4bpd.fits'.\n",
        "  warnings.warn(\"Overwriting existing file %r.\" % self.name)\n"
       ]
      },
      {
       "output_type": "stream",
       "stream": "stdout",
       "text": [
        "using Gti for creating binned photon file Gti: 461 intervals from 376090000 to 378719976, on time 2142403\n",
        "Creating binfile from 1 FT1 files\n",
        "------/afs/slac/g/glast/groups/catalog//pointlike/fermi/data/P8_P302/binfiles/P302_Source_054_zmax105_4bpd.fits--------------"
       ]
      },
      {
       "output_type": "stream",
       "stream": "stdout",
       "text": [
        " OK\n",
        "Warning: PROC_VER not found in /afs/slac/g/glast/groups/catalog//pointlike/fermi/data/P8_P302/zmax105/P302_Source_054_zmax105.fits header"
       ]
      },
      {
       "output_type": "stream",
       "stream": "stdout",
       "text": [
        "\n",
        "processing cuts:  ZENITH_ANGLE zenith_cut\n",
        "ft1_cut DSTYP4: ZENITH_ANGLE\n",
        "DSUNI4: deg\n",
        "DSVAL4: 0:105\n",
        "DSREF4: None\n",
        "processing cuts:  THETA theta_cut\n",
        "ft1_cut None\n",
        "processing cuts:  EVENT_CLASS event_class_cut\n",
        "ft1_cut DSTYP1: BIT_MASK(EVENT_CLASS,128,P8R2)\n",
        "DSUNI1: DIMENSIONLESS\n",
        "DSVAL1: 1:1\n",
        "DSREF1: None\n",
        "File /afs/slac/g/glast/groups/catalog//pointlike/fermi/data/P8_P302/binfiles/P302_Source_054_zmax105_4bpd.fits not found\n"
       ]
      },
      {
       "output_type": "stream",
       "stream": "stdout",
       "text": [
        "using Gti for creating binned photon file Gti: 467 intervals from 378721582 to 381350000, on time 2187476\n",
        "Creating binfile from 1 FT1 files\n",
        "------/afs/slac/g/glast/groups/catalog//pointlike/fermi/data/P8_P302/binfiles/P302_Source_055_zmax105_4bpd.fits--------------"
       ]
      },
      {
       "output_type": "stream",
       "stream": "stdout",
       "text": [
        " OK\n",
        "Warning: PROC_VER not found in /afs/slac/g/glast/groups/catalog//pointlike/fermi/data/P8_P302/zmax105/P302_Source_055_zmax105.fits header"
       ]
      },
      {
       "output_type": "stream",
       "stream": "stdout",
       "text": [
        "\n",
        "processing cuts:  ZENITH_ANGLE zenith_cut\n",
        "ft1_cut DSTYP4: ZENITH_ANGLE\n",
        "DSUNI4: deg\n",
        "DSVAL4: 0:105\n",
        "DSREF4: None\n",
        "processing cuts:  THETA theta_cut\n",
        "ft1_cut None\n",
        "processing cuts:  EVENT_CLASS event_class_cut\n",
        "ft1_cut DSTYP1: BIT_MASK(EVENT_CLASS,128,P8R2)\n",
        "DSUNI1: DIMENSIONLESS\n",
        "DSVAL1: 1:1\n",
        "DSREF1: None\n",
        "File /afs/slac/g/glast/groups/catalog//pointlike/fermi/data/P8_P302/binfiles/P302_Source_055_zmax105_4bpd.fits not found\n"
       ]
      },
      {
       "output_type": "stream",
       "stream": "stderr",
       "text": [
        "/afs/slac/g/glast/groups/catalog/python/anaconda/lib/python2.7/site-packages/pyfits/file.py:339: UserWarning: Overwriting existing file '/afs/slac/g/glast/groups/catalog//pointlike/fermi/data/P8_P302/binfiles/P302_Source_054_zmax105_4bpd.fits'.\n",
        "  warnings.warn(\"Overwriting existing file %r.\" % self.name)\n",
        "/afs/slac/g/glast/groups/catalog/python/anaconda/lib/python2.7/site-packages/pyfits/file.py:339: UserWarning: Overwriting existing file '/afs/slac/g/glast/groups/catalog//pointlike/fermi/data/P8_P302/binfiles/P302_Source_055_zmax105_4bpd.fits'.\n",
        "  warnings.warn(\"Overwriting existing file %r.\" % self.name)\n"
       ]
      },
      {
       "output_type": "stream",
       "stream": "stdout",
       "text": [
        "using Gti for creating binned photon file Gti: 506 intervals from 381350000 to 383979439, on time 2191632\n",
        "Creating binfile from 1 FT1 files\n",
        "------/afs/slac/g/glast/groups/catalog//pointlike/fermi/data/P8_P302/binfiles/P302_Source_056_zmax105_4bpd.fits--------------"
       ]
      },
      {
       "output_type": "stream",
       "stream": "stdout",
       "text": [
        " OK\n",
        "Warning: PROC_VER not found in /afs/slac/g/glast/groups/catalog//pointlike/fermi/data/P8_P302/zmax105/P302_Source_056_zmax105.fits header"
       ]
      },
      {
       "output_type": "stream",
       "stream": "stdout",
       "text": [
        "\n",
        "processing cuts:  ZENITH_ANGLE zenith_cut\n",
        "ft1_cut DSTYP4: ZENITH_ANGLE\n",
        "DSUNI4: deg\n",
        "DSVAL4: 0:105\n",
        "DSREF4: None\n",
        "processing cuts:  THETA theta_cut\n",
        "ft1_cut None\n",
        "processing cuts:  EVENT_CLASS event_class_cut\n",
        "ft1_cut DSTYP1: BIT_MASK(EVENT_CLASS,128,P8R2)\n",
        "DSUNI1: DIMENSIONLESS\n",
        "DSVAL1: 1:1\n",
        "DSREF1: None\n",
        "File /afs/slac/g/glast/groups/catalog//pointlike/fermi/data/P8_P302/binfiles/P302_Source_056_zmax105_4bpd.fits not found\n"
       ]
      },
      {
       "output_type": "stream",
       "stream": "stdout",
       "text": [
        "using Gti for creating binned photon file Gti: 569 intervals from 383980653 to 386610000, on time 2123454\n",
        "Creating binfile from 1 FT1 files\n",
        "------/afs/slac/g/glast/groups/catalog//pointlike/fermi/data/P8_P302/binfiles/P302_Source_057_zmax105_4bpd.fits--------------"
       ]
      },
      {
       "output_type": "stream",
       "stream": "stdout",
       "text": [
        " OK\n",
        "Warning: PROC_VER not found in /afs/slac/g/glast/groups/catalog//pointlike/fermi/data/P8_P302/zmax105/P302_Source_057_zmax105.fits header"
       ]
      },
      {
       "output_type": "stream",
       "stream": "stdout",
       "text": [
        "\n",
        "processing cuts:  ZENITH_ANGLE zenith_cut\n",
        "ft1_cut DSTYP4: ZENITH_ANGLE\n",
        "DSUNI4: deg\n",
        "DSVAL4: 0:105\n",
        "DSREF4: None\n",
        "processing cuts:  THETA theta_cut\n",
        "ft1_cut None\n",
        "processing cuts:  EVENT_CLASS event_class_cut\n",
        "ft1_cut DSTYP1: BIT_MASK(EVENT_CLASS,128,P8R2)\n",
        "DSUNI1: DIMENSIONLESS\n",
        "DSVAL1: 1:1\n",
        "DSREF1: None\n",
        "File /afs/slac/g/glast/groups/catalog//pointlike/fermi/data/P8_P302/binfiles/P302_Source_057_zmax105_4bpd.fits not found\n"
       ]
      },
      {
       "output_type": "stream",
       "stream": "stderr",
       "text": [
        "/afs/slac/g/glast/groups/catalog/python/anaconda/lib/python2.7/site-packages/pyfits/file.py:339: UserWarning: Overwriting existing file '/afs/slac/g/glast/groups/catalog//pointlike/fermi/data/P8_P302/binfiles/P302_Source_056_zmax105_4bpd.fits'.\n",
        "  warnings.warn(\"Overwriting existing file %r.\" % self.name)\n",
        "/afs/slac/g/glast/groups/catalog/python/anaconda/lib/python2.7/site-packages/pyfits/file.py:339: UserWarning: Overwriting existing file '/afs/slac/g/glast/groups/catalog//pointlike/fermi/data/P8_P302/binfiles/P302_Source_057_zmax105_4bpd.fits'.\n",
        "  warnings.warn(\"Overwriting existing file %r.\" % self.name)\n"
       ]
      },
      {
       "output_type": "stream",
       "stream": "stdout",
       "text": [
        "using Gti for creating binned photon file Gti: 497 intervals from 386610000 to 389240000, on time 2172442\n",
        "Creating binfile from 1 FT1 files\n",
        "------/afs/slac/g/glast/groups/catalog//pointlike/fermi/data/P8_P302/binfiles/P302_Source_058_zmax105_4bpd.fits--------------"
       ]
      },
      {
       "output_type": "stream",
       "stream": "stdout",
       "text": [
        " OK\n",
        "Warning: PROC_VER not found in /afs/slac/g/glast/groups/catalog//pointlike/fermi/data/P8_P302/zmax105/P302_Source_058_zmax105.fits header"
       ]
      },
      {
       "output_type": "stream",
       "stream": "stdout",
       "text": [
        "\n",
        "processing cuts:  ZENITH_ANGLE zenith_cut\n",
        "ft1_cut DSTYP4: ZENITH_ANGLE\n",
        "DSUNI4: deg\n",
        "DSVAL4: 0:105\n",
        "DSREF4: None\n",
        "processing cuts:  THETA theta_cut\n",
        "ft1_cut None\n",
        "processing cuts:  EVENT_CLASS event_class_cut\n",
        "ft1_cut DSTYP1: BIT_MASK(EVENT_CLASS,128,P8R2)\n",
        "DSUNI1: DIMENSIONLESS\n",
        "DSVAL1: 1:1\n",
        "DSREF1: None\n",
        "File /afs/slac/g/glast/groups/catalog//pointlike/fermi/data/P8_P302/binfiles/P302_Source_058_zmax105_4bpd.fits not found\n"
       ]
      },
      {
       "output_type": "stream",
       "stream": "stdout",
       "text": [
        "using Gti for creating binned photon file Gti: 475 intervals from 389240000 to 391870000, on time 2136499\n",
        "Creating binfile from 1 FT1 files\n",
        "------/afs/slac/g/glast/groups/catalog//pointlike/fermi/data/P8_P302/binfiles/P302_Source_059_zmax105_4bpd.fits--------------"
       ]
      },
      {
       "output_type": "stream",
       "stream": "stdout",
       "text": [
        " OK\n",
        "Warning: PROC_VER not found in /afs/slac/g/glast/groups/catalog//pointlike/fermi/data/P8_P302/zmax105/P302_Source_059_zmax105.fits header"
       ]
      },
      {
       "output_type": "stream",
       "stream": "stdout",
       "text": [
        "\n",
        "processing cuts:  ZENITH_ANGLE zenith_cut\n",
        "ft1_cut DSTYP4: ZENITH_ANGLE\n",
        "DSUNI4: deg\n",
        "DSVAL4: 0:105\n",
        "DSREF4: None\n",
        "processing cuts:  THETA theta_cut\n",
        "ft1_cut None\n",
        "processing cuts:  EVENT_CLASS event_class_cut\n",
        "ft1_cut DSTYP1: BIT_MASK(EVENT_CLASS,128,P8R2)\n",
        "DSUNI1: DIMENSIONLESS\n",
        "DSVAL1: 1:1\n",
        "DSREF1: None\n",
        "File /afs/slac/g/glast/groups/catalog//pointlike/fermi/data/P8_P302/binfiles/P302_Source_059_zmax105_4bpd.fits not found\n"
       ]
      },
      {
       "output_type": "stream",
       "stream": "stderr",
       "text": [
        "/afs/slac/g/glast/groups/catalog/python/anaconda/lib/python2.7/site-packages/pyfits/file.py:339: UserWarning: Overwriting existing file '/afs/slac/g/glast/groups/catalog//pointlike/fermi/data/P8_P302/binfiles/P302_Source_058_zmax105_4bpd.fits'.\n",
        "  warnings.warn(\"Overwriting existing file %r.\" % self.name)\n",
        "/afs/slac/g/glast/groups/catalog/python/anaconda/lib/python2.7/site-packages/pyfits/file.py:339: UserWarning: Overwriting existing file '/afs/slac/g/glast/groups/catalog//pointlike/fermi/data/P8_P302/binfiles/P302_Source_059_zmax105_4bpd.fits'.\n",
        "  warnings.warn(\"Overwriting existing file %r.\" % self.name)\n"
       ]
      },
      {
       "output_type": "stream",
       "stream": "stdout",
       "text": [
        "using Gti for creating binned photon file Gti: 471 intervals from 391870000 to 394500000, on time 2170304\n",
        "Creating binfile from 1 FT1 files\n",
        "------/afs/slac/g/glast/groups/catalog//pointlike/fermi/data/P8_P302/binfiles/P302_Source_060_zmax105_4bpd.fits--------------"
       ]
      },
      {
       "output_type": "stream",
       "stream": "stdout",
       "text": [
        " OK\n",
        "Warning: PROC_VER not found in /afs/slac/g/glast/groups/catalog//pointlike/fermi/data/P8_P302/zmax105/P302_Source_060_zmax105.fits header"
       ]
      },
      {
       "output_type": "stream",
       "stream": "stdout",
       "text": [
        "\n",
        "processing cuts:  ZENITH_ANGLE zenith_cut\n",
        "ft1_cut DSTYP4: ZENITH_ANGLE\n",
        "DSUNI4: deg\n",
        "DSVAL4: 0:105\n",
        "DSREF4: None\n",
        "processing cuts:  THETA theta_cut\n",
        "ft1_cut None\n",
        "processing cuts:  EVENT_CLASS event_class_cut\n",
        "ft1_cut DSTYP1: BIT_MASK(EVENT_CLASS,128,P8R2)\n",
        "DSUNI1: DIMENSIONLESS\n",
        "DSVAL1: 1:1\n",
        "DSREF1: None\n",
        "File /afs/slac/g/glast/groups/catalog//pointlike/fermi/data/P8_P302/binfiles/P302_Source_060_zmax105_4bpd.fits not found\n"
       ]
      },
      {
       "output_type": "stream",
       "stream": "stdout",
       "text": [
        "using Gti for creating binned photon file Gti: 470 intervals from 394500000 to 397129895, on time 2151033\n",
        "Creating binfile from 1 FT1 files\n",
        "------/afs/slac/g/glast/groups/catalog//pointlike/fermi/data/P8_P302/binfiles/P302_Source_061_zmax105_4bpd.fits--------------"
       ]
      },
      {
       "output_type": "stream",
       "stream": "stdout",
       "text": [
        " OK\n",
        "Warning: PROC_VER not found in /afs/slac/g/glast/groups/catalog//pointlike/fermi/data/P8_P302/zmax105/P302_Source_061_zmax105.fits header"
       ]
      },
      {
       "output_type": "stream",
       "stream": "stdout",
       "text": [
        "\n",
        "processing cuts:  ZENITH_ANGLE zenith_cut\n",
        "ft1_cut DSTYP4: ZENITH_ANGLE\n",
        "DSUNI4: deg\n",
        "DSVAL4: 0:105\n",
        "DSREF4: None\n",
        "processing cuts:  THETA theta_cut\n",
        "ft1_cut None\n",
        "processing cuts:  EVENT_CLASS event_class_cut\n",
        "ft1_cut DSTYP1: BIT_MASK(EVENT_CLASS,128,P8R2)\n",
        "DSUNI1: DIMENSIONLESS\n",
        "DSVAL1: 1:1\n",
        "DSREF1: None\n",
        "File /afs/slac/g/glast/groups/catalog//pointlike/fermi/data/P8_P302/binfiles/P302_Source_061_zmax105_4bpd.fits not found\n"
       ]
      },
      {
       "output_type": "stream",
       "stream": "stderr",
       "text": [
        "/afs/slac/g/glast/groups/catalog/python/anaconda/lib/python2.7/site-packages/pyfits/file.py:339: UserWarning: Overwriting existing file '/afs/slac/g/glast/groups/catalog//pointlike/fermi/data/P8_P302/binfiles/P302_Source_060_zmax105_4bpd.fits'.\n",
        "  warnings.warn(\"Overwriting existing file %r.\" % self.name)\n",
        "/afs/slac/g/glast/groups/catalog/python/anaconda/lib/python2.7/site-packages/pyfits/file.py:339: UserWarning: Overwriting existing file '/afs/slac/g/glast/groups/catalog//pointlike/fermi/data/P8_P302/binfiles/P302_Source_061_zmax105_4bpd.fits'.\n",
        "  warnings.warn(\"Overwriting existing file %r.\" % self.name)\n"
       ]
      },
      {
       "output_type": "stream",
       "stream": "stdout",
       "text": [
        "using Gti for creating binned photon file Gti: 539 intervals from 397131050 to 399760000, on time 2113102\n",
        "Creating binfile from 1 FT1 files\n",
        "------/afs/slac/g/glast/groups/catalog//pointlike/fermi/data/P8_P302/binfiles/P302_Source_062_zmax105_4bpd.fits--------------"
       ]
      },
      {
       "output_type": "stream",
       "stream": "stdout",
       "text": [
        " OK\n",
        "Warning: PROC_VER not found in /afs/slac/g/glast/groups/catalog//pointlike/fermi/data/P8_P302/zmax105/P302_Source_062_zmax105.fits header"
       ]
      },
      {
       "output_type": "stream",
       "stream": "stdout",
       "text": [
        "\n",
        "processing cuts:  ZENITH_ANGLE zenith_cut\n",
        "ft1_cut DSTYP4: ZENITH_ANGLE\n",
        "DSUNI4: deg\n",
        "DSVAL4: 0:105\n",
        "DSREF4: None\n",
        "processing cuts:  THETA theta_cut\n",
        "ft1_cut None\n",
        "processing cuts:  EVENT_CLASS event_class_cut\n",
        "ft1_cut DSTYP1: BIT_MASK(EVENT_CLASS,128,P8R2)\n",
        "DSUNI1: DIMENSIONLESS\n",
        "DSVAL1: 1:1\n",
        "DSREF1: None\n",
        "File /afs/slac/g/glast/groups/catalog//pointlike/fermi/data/P8_P302/binfiles/P302_Source_062_zmax105_4bpd.fits not found\n"
       ]
      },
      {
       "output_type": "stream",
       "stream": "stdout",
       "text": [
        "using Gti for creating binned photon file Gti: 471 intervals from 399760000 to 402390000, on time 2196396\n",
        "Creating binfile from 1 FT1 files\n",
        "------/afs/slac/g/glast/groups/catalog//pointlike/fermi/data/P8_P302/binfiles/P302_Source_063_zmax105_4bpd.fits--------------"
       ]
      },
      {
       "output_type": "stream",
       "stream": "stdout",
       "text": [
        " OK\n",
        "Warning: PROC_VER not found in /afs/slac/g/glast/groups/catalog//pointlike/fermi/data/P8_P302/zmax105/P302_Source_063_zmax105.fits header"
       ]
      },
      {
       "output_type": "stream",
       "stream": "stdout",
       "text": [
        "\n",
        "processing cuts:  ZENITH_ANGLE zenith_cut\n",
        "ft1_cut DSTYP4: ZENITH_ANGLE\n",
        "DSUNI4: deg\n",
        "DSVAL4: 0:105\n",
        "DSREF4: None\n",
        "processing cuts:  THETA theta_cut\n",
        "ft1_cut None\n",
        "processing cuts:  EVENT_CLASS event_class_cut\n",
        "ft1_cut DSTYP1: BIT_MASK(EVENT_CLASS,128,P8R2)\n",
        "DSUNI1: DIMENSIONLESS\n",
        "DSVAL1: 1:1\n",
        "DSREF1: None\n",
        "File /afs/slac/g/glast/groups/catalog//pointlike/fermi/data/P8_P302/binfiles/P302_Source_063_zmax105_4bpd.fits not found\n"
       ]
      },
      {
       "output_type": "stream",
       "stream": "stderr",
       "text": [
        "/afs/slac/g/glast/groups/catalog/python/anaconda/lib/python2.7/site-packages/pyfits/file.py:339: UserWarning: Overwriting existing file '/afs/slac/g/glast/groups/catalog//pointlike/fermi/data/P8_P302/binfiles/P302_Source_062_zmax105_4bpd.fits'.\n",
        "  warnings.warn(\"Overwriting existing file %r.\" % self.name)\n",
        "/afs/slac/g/glast/groups/catalog/python/anaconda/lib/python2.7/site-packages/pyfits/file.py:339: UserWarning: Overwriting existing file '/afs/slac/g/glast/groups/catalog//pointlike/fermi/data/P8_P302/binfiles/P302_Source_063_zmax105_4bpd.fits'.\n",
        "  warnings.warn(\"Overwriting existing file %r.\" % self.name)\n"
       ]
      },
      {
       "output_type": "stream",
       "stream": "stdout",
       "text": [
        "using Gti for creating binned photon file Gti: 642 intervals from 402390000 to 405018385, on time 2048899\n",
        "Creating binfile from 1 FT1 files\n",
        "------/afs/slac/g/glast/groups/catalog//pointlike/fermi/data/P8_P302/binfiles/P302_Source_064_zmax105_4bpd.fits--------------"
       ]
      },
      {
       "output_type": "stream",
       "stream": "stdout",
       "text": [
        " OK\n",
        "Warning: PROC_VER not found in /afs/slac/g/glast/groups/catalog//pointlike/fermi/data/P8_P302/zmax105/P302_Source_064_zmax105.fits header"
       ]
      },
      {
       "output_type": "stream",
       "stream": "stdout",
       "text": [
        "\n",
        "processing cuts:  ZENITH_ANGLE zenith_cut\n",
        "ft1_cut DSTYP4: ZENITH_ANGLE\n",
        "DSUNI4: deg\n",
        "DSVAL4: 0:105\n",
        "DSREF4: None\n",
        "processing cuts:  THETA theta_cut\n",
        "ft1_cut None\n",
        "processing cuts:  EVENT_CLASS event_class_cut\n",
        "ft1_cut DSTYP1: BIT_MASK(EVENT_CLASS,128,P8R2)\n",
        "DSUNI1: DIMENSIONLESS\n",
        "DSVAL1: 1:1\n",
        "DSREF1: None\n",
        "File /afs/slac/g/glast/groups/catalog//pointlike/fermi/data/P8_P302/binfiles/P302_Source_064_zmax105_4bpd.fits not found\n"
       ]
      },
      {
       "output_type": "stream",
       "stream": "stdout",
       "text": [
        "using Gti for creating binned photon file Gti: 496 intervals from 405020254 to 407649994, on time 2198615\n",
        "Creating binfile from 1 FT1 files\n",
        "------/afs/slac/g/glast/groups/catalog//pointlike/fermi/data/P8_P302/binfiles/P302_Source_065_zmax105_4bpd.fits--------------"
       ]
      },
      {
       "output_type": "stream",
       "stream": "stdout",
       "text": [
        " OK\n",
        "Warning: PROC_VER not found in /afs/slac/g/glast/groups/catalog//pointlike/fermi/data/P8_P302/zmax105/P302_Source_065_zmax105.fits header"
       ]
      },
      {
       "output_type": "stream",
       "stream": "stdout",
       "text": [
        "\n",
        "processing cuts:  ZENITH_ANGLE zenith_cut\n",
        "ft1_cut DSTYP4: ZENITH_ANGLE\n",
        "DSUNI4: deg\n",
        "DSVAL4: 0:105\n",
        "DSREF4: None\n",
        "processing cuts:  THETA theta_cut\n",
        "ft1_cut None\n",
        "processing cuts:  EVENT_CLASS event_class_cut\n",
        "ft1_cut DSTYP1: BIT_MASK(EVENT_CLASS,128,P8R2)\n",
        "DSUNI1: DIMENSIONLESS\n",
        "DSVAL1: 1:1\n",
        "DSREF1: None\n",
        "File /afs/slac/g/glast/groups/catalog//pointlike/fermi/data/P8_P302/binfiles/P302_Source_065_zmax105_4bpd.fits not found\n"
       ]
      },
      {
       "output_type": "stream",
       "stream": "stderr",
       "text": [
        "/afs/slac/g/glast/groups/catalog/python/anaconda/lib/python2.7/site-packages/pyfits/file.py:339: UserWarning: Overwriting existing file '/afs/slac/g/glast/groups/catalog//pointlike/fermi/data/P8_P302/binfiles/P302_Source_064_zmax105_4bpd.fits'.\n",
        "  warnings.warn(\"Overwriting existing file %r.\" % self.name)\n",
        "/afs/slac/g/glast/groups/catalog/python/anaconda/lib/python2.7/site-packages/pyfits/file.py:339: UserWarning: Overwriting existing file '/afs/slac/g/glast/groups/catalog//pointlike/fermi/data/P8_P302/binfiles/P302_Source_065_zmax105_4bpd.fits'.\n",
        "  warnings.warn(\"Overwriting existing file %r.\" % self.name)\n"
       ]
      },
      {
       "output_type": "stream",
       "stream": "stdout",
       "text": [
        "using Gti for creating binned photon file Gti: 469 intervals from 407651478 to 410280000, on time 2210420\n",
        "Creating binfile from 1 FT1 files\n",
        "------/afs/slac/g/glast/groups/catalog//pointlike/fermi/data/P8_P302/binfiles/P302_Source_066_zmax105_4bpd.fits--------------"
       ]
      },
      {
       "output_type": "stream",
       "stream": "stdout",
       "text": [
        " OK\n",
        "Warning: PROC_VER not found in /afs/slac/g/glast/groups/catalog//pointlike/fermi/data/P8_P302/zmax105/P302_Source_066_zmax105.fits header"
       ]
      },
      {
       "output_type": "stream",
       "stream": "stdout",
       "text": [
        "\n",
        "processing cuts:  ZENITH_ANGLE zenith_cut\n",
        "ft1_cut DSTYP4: ZENITH_ANGLE\n",
        "DSUNI4: deg\n",
        "DSVAL4: 0:105\n",
        "DSREF4: None\n",
        "processing cuts:  THETA theta_cut\n",
        "ft1_cut None\n",
        "processing cuts:  EVENT_CLASS event_class_cut\n",
        "ft1_cut DSTYP1: BIT_MASK(EVENT_CLASS,128,P8R2)\n",
        "DSUNI1: DIMENSIONLESS\n",
        "DSVAL1: 1:1\n",
        "DSREF1: None\n",
        "File /afs/slac/g/glast/groups/catalog//pointlike/fermi/data/P8_P302/binfiles/P302_Source_066_zmax105_4bpd.fits not found\n"
       ]
      },
      {
       "output_type": "stream",
       "stream": "stdout",
       "text": [
        "using Gti for creating binned photon file Gti: 568 intervals from 410280000 to 412910000, on time 2179715\n",
        "Creating binfile from 1 FT1 files\n",
        "------/afs/slac/g/glast/groups/catalog//pointlike/fermi/data/P8_P302/binfiles/P302_Source_067_zmax105_4bpd.fits--------------"
       ]
      },
      {
       "output_type": "stream",
       "stream": "stdout",
       "text": [
        " OK\n",
        "Warning: PROC_VER not found in /afs/slac/g/glast/groups/catalog//pointlike/fermi/data/P8_P302/zmax105/P302_Source_067_zmax105.fits header"
       ]
      },
      {
       "output_type": "stream",
       "stream": "stdout",
       "text": [
        "\n",
        "processing cuts:  ZENITH_ANGLE zenith_cut\n",
        "ft1_cut DSTYP4: ZENITH_ANGLE\n",
        "DSUNI4: deg\n",
        "DSVAL4: 0:105\n",
        "DSREF4: None\n",
        "processing cuts:  THETA theta_cut\n",
        "ft1_cut None\n",
        "processing cuts:  EVENT_CLASS event_class_cut\n",
        "ft1_cut DSTYP1: BIT_MASK(EVENT_CLASS,128,P8R2)\n",
        "DSUNI1: DIMENSIONLESS\n",
        "DSVAL1: 1:1\n",
        "DSREF1: None\n",
        "File /afs/slac/g/glast/groups/catalog//pointlike/fermi/data/P8_P302/binfiles/P302_Source_067_zmax105_4bpd.fits not found\n"
       ]
      },
      {
       "output_type": "stream",
       "stream": "stderr",
       "text": [
        "/afs/slac/g/glast/groups/catalog/python/anaconda/lib/python2.7/site-packages/pyfits/file.py:339: UserWarning: Overwriting existing file '/afs/slac/g/glast/groups/catalog//pointlike/fermi/data/P8_P302/binfiles/P302_Source_066_zmax105_4bpd.fits'.\n",
        "  warnings.warn(\"Overwriting existing file %r.\" % self.name)\n",
        "/afs/slac/g/glast/groups/catalog/python/anaconda/lib/python2.7/site-packages/pyfits/file.py:339: UserWarning: Overwriting existing file '/afs/slac/g/glast/groups/catalog//pointlike/fermi/data/P8_P302/binfiles/P302_Source_067_zmax105_4bpd.fits'.\n",
        "  warnings.warn(\"Overwriting existing file %r.\" % self.name)\n"
       ]
      },
      {
       "output_type": "stream",
       "stream": "stdout",
       "text": [
        "using Gti for creating binned photon file Gti: 479 intervals from 412910000 to 415540000, on time 2191764\n",
        "Creating binfile from 1 FT1 files\n",
        "------/afs/slac/g/glast/groups/catalog//pointlike/fermi/data/P8_P302/binfiles/P302_Source_068_zmax105_4bpd.fits--------------"
       ]
      },
      {
       "output_type": "stream",
       "stream": "stdout",
       "text": [
        " OK\n",
        "Warning: PROC_VER not found in /afs/slac/g/glast/groups/catalog//pointlike/fermi/data/P8_P302/zmax105/P302_Source_068_zmax105.fits header"
       ]
      },
      {
       "output_type": "stream",
       "stream": "stdout",
       "text": [
        "\n",
        "processing cuts:  ZENITH_ANGLE zenith_cut\n",
        "ft1_cut DSTYP4: ZENITH_ANGLE\n",
        "DSUNI4: deg\n",
        "DSVAL4: 0:105\n",
        "DSREF4: None\n",
        "processing cuts:  THETA theta_cut\n",
        "ft1_cut None\n",
        "processing cuts:  EVENT_CLASS event_class_cut\n",
        "ft1_cut DSTYP1: BIT_MASK(EVENT_CLASS,128,P8R2)\n",
        "DSUNI1: DIMENSIONLESS\n",
        "DSVAL1: 1:1\n",
        "DSREF1: None\n",
        "File /afs/slac/g/glast/groups/catalog//pointlike/fermi/data/P8_P302/binfiles/P302_Source_068_zmax105_4bpd.fits not found\n"
       ]
      },
      {
       "output_type": "stream",
       "stream": "stdout",
       "text": [
        "using Gti for creating binned photon file Gti: 526 intervals from 415540000 to 418170000, on time 2194110\n",
        "Creating binfile from 1 FT1 files\n",
        "------/afs/slac/g/glast/groups/catalog//pointlike/fermi/data/P8_P302/binfiles/P302_Source_069_zmax105_4bpd.fits--------------"
       ]
      },
      {
       "output_type": "stream",
       "stream": "stdout",
       "text": [
        " OK\n",
        "Warning: PROC_VER not found in /afs/slac/g/glast/groups/catalog//pointlike/fermi/data/P8_P302/zmax105/P302_Source_069_zmax105.fits header"
       ]
      },
      {
       "output_type": "stream",
       "stream": "stdout",
       "text": [
        "\n",
        "processing cuts:  ZENITH_ANGLE zenith_cut\n",
        "ft1_cut DSTYP4: ZENITH_ANGLE\n",
        "DSUNI4: deg\n",
        "DSVAL4: 0:105\n",
        "DSREF4: None\n",
        "processing cuts:  THETA theta_cut\n",
        "ft1_cut None\n",
        "processing cuts:  EVENT_CLASS event_class_cut\n",
        "ft1_cut DSTYP1: BIT_MASK(EVENT_CLASS,128,P8R2)\n",
        "DSUNI1: DIMENSIONLESS\n",
        "DSVAL1: 1:1\n",
        "DSREF1: None\n",
        "File /afs/slac/g/glast/groups/catalog//pointlike/fermi/data/P8_P302/binfiles/P302_Source_069_zmax105_4bpd.fits not found\n"
       ]
      },
      {
       "output_type": "stream",
       "stream": "stderr",
       "text": [
        "/afs/slac/g/glast/groups/catalog/python/anaconda/lib/python2.7/site-packages/pyfits/file.py:339: UserWarning: Overwriting existing file '/afs/slac/g/glast/groups/catalog//pointlike/fermi/data/P8_P302/binfiles/P302_Source_068_zmax105_4bpd.fits'.\n",
        "  warnings.warn(\"Overwriting existing file %r.\" % self.name)\n",
        "/afs/slac/g/glast/groups/catalog/python/anaconda/lib/python2.7/site-packages/pyfits/file.py:339: UserWarning: Overwriting existing file '/afs/slac/g/glast/groups/catalog//pointlike/fermi/data/P8_P302/binfiles/P302_Source_069_zmax105_4bpd.fits'.\n",
        "  warnings.warn(\"Overwriting existing file %r.\" % self.name)\n"
       ]
      },
      {
       "output_type": "stream",
       "stream": "stdout",
       "text": [
        "using Gti for creating binned photon file Gti: 493 intervals from 418170000 to 420800000, on time 2212406\n",
        "Creating binfile from 1 FT1 files\n",
        "------/afs/slac/g/glast/groups/catalog//pointlike/fermi/data/P8_P302/binfiles/P302_Source_070_zmax105_4bpd.fits--------------"
       ]
      },
      {
       "output_type": "stream",
       "stream": "stdout",
       "text": [
        " OK\n",
        "Warning: PROC_VER not found in /afs/slac/g/glast/groups/catalog//pointlike/fermi/data/P8_P302/zmax105/P302_Source_070_zmax105.fits header"
       ]
      },
      {
       "output_type": "stream",
       "stream": "stdout",
       "text": [
        "\n",
        "processing cuts:  ZENITH_ANGLE zenith_cut\n",
        "ft1_cut DSTYP4: ZENITH_ANGLE\n",
        "DSUNI4: deg\n",
        "DSVAL4: 0:105\n",
        "DSREF4: None\n",
        "processing cuts:  THETA theta_cut\n",
        "ft1_cut None\n",
        "processing cuts:  EVENT_CLASS event_class_cut\n",
        "ft1_cut DSTYP1: BIT_MASK(EVENT_CLASS,128,P8R2)\n",
        "DSUNI1: DIMENSIONLESS\n",
        "DSVAL1: 1:1\n",
        "DSREF1: None\n",
        "File /afs/slac/g/glast/groups/catalog//pointlike/fermi/data/P8_P302/binfiles/P302_Source_070_zmax105_4bpd.fits not found\n"
       ]
      },
      {
       "output_type": "stream",
       "stream": "stdout",
       "text": [
        "using Gti for creating binned photon file Gti: 470 intervals from 420800000 to 423430000, on time 2214046\n",
        "Creating binfile from 1 FT1 files\n",
        "------/afs/slac/g/glast/groups/catalog//pointlike/fermi/data/P8_P302/binfiles/P302_Source_071_zmax105_4bpd.fits--------------"
       ]
      },
      {
       "output_type": "stream",
       "stream": "stdout",
       "text": [
        " OK\n",
        "Warning: PROC_VER not found in /afs/slac/g/glast/groups/catalog//pointlike/fermi/data/P8_P302/zmax105/P302_Source_071_zmax105.fits header"
       ]
      },
      {
       "output_type": "stream",
       "stream": "stdout",
       "text": [
        "\n",
        "processing cuts:  ZENITH_ANGLE zenith_cut\n",
        "ft1_cut DSTYP4: ZENITH_ANGLE\n",
        "DSUNI4: deg\n",
        "DSVAL4: 0:105\n",
        "DSREF4: None\n",
        "processing cuts:  THETA theta_cut\n",
        "ft1_cut None\n",
        "processing cuts:  EVENT_CLASS event_class_cut\n",
        "ft1_cut DSTYP1: BIT_MASK(EVENT_CLASS,128,P8R2)\n",
        "DSUNI1: DIMENSIONLESS\n",
        "DSVAL1: 1:1\n",
        "DSREF1: None\n",
        "File /afs/slac/g/glast/groups/catalog//pointlike/fermi/data/P8_P302/binfiles/P302_Source_071_zmax105_4bpd.fits not found\n"
       ]
      },
      {
       "output_type": "stream",
       "stream": "stderr",
       "text": [
        "/afs/slac/g/glast/groups/catalog/python/anaconda/lib/python2.7/site-packages/pyfits/file.py:339: UserWarning: Overwriting existing file '/afs/slac/g/glast/groups/catalog//pointlike/fermi/data/P8_P302/binfiles/P302_Source_070_zmax105_4bpd.fits'.\n",
        "  warnings.warn(\"Overwriting existing file %r.\" % self.name)\n",
        "/afs/slac/g/glast/groups/catalog/python/anaconda/lib/python2.7/site-packages/pyfits/file.py:339: UserWarning: Overwriting existing file '/afs/slac/g/glast/groups/catalog//pointlike/fermi/data/P8_P302/binfiles/P302_Source_071_zmax105_4bpd.fits'.\n",
        "  warnings.warn(\"Overwriting existing file %r.\" % self.name)\n"
       ]
      },
      {
       "output_type": "stream",
       "stream": "stdout",
       "text": [
        "using Gti for creating binned photon file Gti: 478 intervals from 423430000 to 426060000, on time 2168763\n",
        "Creating binfile from 1 FT1 files\n",
        "------/afs/slac/g/glast/groups/catalog//pointlike/fermi/data/P8_P302/binfiles/P302_Source_072_zmax105_4bpd.fits--------------"
       ]
      },
      {
       "output_type": "stream",
       "stream": "stdout",
       "text": [
        " OK\n",
        "Warning: PROC_VER not found in /afs/slac/g/glast/groups/catalog//pointlike/fermi/data/P8_P302/zmax105/P302_Source_072_zmax105.fits header"
       ]
      },
      {
       "output_type": "stream",
       "stream": "stdout",
       "text": [
        "\n",
        "processing cuts:  ZENITH_ANGLE zenith_cut\n",
        "ft1_cut DSTYP4: ZENITH_ANGLE\n",
        "DSUNI4: deg\n",
        "DSVAL4: 0:105\n",
        "DSREF4: None\n",
        "processing cuts:  THETA theta_cut\n",
        "ft1_cut None\n",
        "processing cuts:  EVENT_CLASS event_class_cut\n",
        "ft1_cut DSTYP1: BIT_MASK(EVENT_CLASS,128,P8R2)\n",
        "DSUNI1: DIMENSIONLESS\n",
        "DSVAL1: 1:1\n",
        "DSREF1: None\n",
        "File /afs/slac/g/glast/groups/catalog//pointlike/fermi/data/P8_P302/binfiles/P302_Source_072_zmax105_4bpd.fits not found\n"
       ]
      },
      {
       "output_type": "stream",
       "stream": "stdout",
       "text": [
        "using Gti for creating binned photon file Gti: 507 intervals from 426060000 to 428690000, on time 2208590\n",
        "Creating binfile from 1 FT1 files\n",
        "------/afs/slac/g/glast/groups/catalog//pointlike/fermi/data/P8_P302/binfiles/P302_Source_073_zmax105_4bpd.fits--------------"
       ]
      },
      {
       "output_type": "stream",
       "stream": "stdout",
       "text": [
        " OK\n",
        "Warning: PROC_VER not found in /afs/slac/g/glast/groups/catalog//pointlike/fermi/data/P8_P302/zmax105/P302_Source_073_zmax105.fits header"
       ]
      },
      {
       "output_type": "stream",
       "stream": "stdout",
       "text": [
        "\n",
        "processing cuts:  ZENITH_ANGLE zenith_cut\n",
        "ft1_cut DSTYP4: ZENITH_ANGLE\n",
        "DSUNI4: deg\n",
        "DSVAL4: 0:105\n",
        "DSREF4: None\n",
        "processing cuts:  THETA theta_cut\n",
        "ft1_cut None\n",
        "processing cuts:  EVENT_CLASS event_class_cut\n",
        "ft1_cut DSTYP1: BIT_MASK(EVENT_CLASS,128,P8R2)\n",
        "DSUNI1: DIMENSIONLESS\n",
        "DSVAL1: 1:1\n",
        "DSREF1: None\n",
        "File /afs/slac/g/glast/groups/catalog//pointlike/fermi/data/P8_P302/binfiles/P302_Source_073_zmax105_4bpd.fits not found\n"
       ]
      },
      {
       "output_type": "stream",
       "stream": "stderr",
       "text": [
        "/afs/slac/g/glast/groups/catalog/python/anaconda/lib/python2.7/site-packages/pyfits/file.py:339: UserWarning: Overwriting existing file '/afs/slac/g/glast/groups/catalog//pointlike/fermi/data/P8_P302/binfiles/P302_Source_072_zmax105_4bpd.fits'.\n",
        "  warnings.warn(\"Overwriting existing file %r.\" % self.name)\n",
        "/afs/slac/g/glast/groups/catalog/python/anaconda/lib/python2.7/site-packages/pyfits/file.py:339: UserWarning: Overwriting existing file '/afs/slac/g/glast/groups/catalog//pointlike/fermi/data/P8_P302/binfiles/P302_Source_073_zmax105_4bpd.fits'.\n",
        "  warnings.warn(\"Overwriting existing file %r.\" % self.name)\n"
       ]
      },
      {
       "output_type": "stream",
       "stream": "stdout",
       "text": [
        "using Gti for creating binned photon file Gti: 528 intervals from 428690000 to 431320000, on time 2157525\n",
        "Creating binfile from 1 FT1 files\n"
       ]
      }
     ],
     "prompt_number": 1
    },
    {
     "cell_type": "markdown",
     "metadata": {},
     "source": [
      "## Combine first 72 for 6-year data set"
     ]
    },
    {
     "cell_type": "code",
     "collapsed": false,
     "input": [
      "os.chdir(os.path.expandvars('$FERMI/data/P8_P302'))\n",
      "import glob\n",
      "ff= sorted(glob.glob('binfiles/*.fits'))[:72]; ff\n",
      "from skymaps import BinnedPhotonData\n",
      "t = BinnedPhotonData(ff[0]); t.photonCount()"
     ],
     "language": "python",
     "metadata": {},
     "outputs": [
      {
       "metadata": {},
       "output_type": "pyout",
       "prompt_number": 2,
       "text": [
        "2166022"
       ]
      }
     ],
     "prompt_number": 2
    },
    {
     "cell_type": "code",
     "collapsed": false,
     "input": [
      "for f in ff[1:]:\n",
      "    t.add(BinnedPhotonData(f)); \n",
      "    print t.photonCount()"
     ],
     "language": "python",
     "metadata": {},
     "outputs": [
      {
       "output_type": "stream",
       "stream": "stdout",
       "text": [
        "4518011\n",
        "6965688"
       ]
      },
      {
       "output_type": "stream",
       "stream": "stdout",
       "text": [
        "\n",
        "9340337"
       ]
      },
      {
       "output_type": "stream",
       "stream": "stdout",
       "text": [
        "\n",
        "11752287"
       ]
      },
      {
       "output_type": "stream",
       "stream": "stdout",
       "text": [
        "\n",
        "14110629"
       ]
      },
      {
       "output_type": "stream",
       "stream": "stdout",
       "text": [
        "\n",
        "16526324"
       ]
      },
      {
       "output_type": "stream",
       "stream": "stdout",
       "text": [
        "\n",
        "18570125"
       ]
      },
      {
       "output_type": "stream",
       "stream": "stdout",
       "text": [
        "\n",
        "20958783"
       ]
      },
      {
       "output_type": "stream",
       "stream": "stdout",
       "text": [
        "\n",
        "23391354"
       ]
      },
      {
       "output_type": "stream",
       "stream": "stdout",
       "text": [
        "\n",
        "25762611"
       ]
      },
      {
       "output_type": "stream",
       "stream": "stdout",
       "text": [
        "\n",
        "28283401"
       ]
      },
      {
       "output_type": "stream",
       "stream": "stdout",
       "text": [
        "\n",
        "30711832"
       ]
      },
      {
       "output_type": "stream",
       "stream": "stdout",
       "text": [
        "\n",
        "33462006"
       ]
      },
      {
       "output_type": "stream",
       "stream": "stdout",
       "text": [
        "\n",
        "36138562"
       ]
      },
      {
       "output_type": "stream",
       "stream": "stdout",
       "text": [
        "\n",
        "38839427"
       ]
      },
      {
       "output_type": "stream",
       "stream": "stdout",
       "text": [
        "\n",
        "41610127"
       ]
      },
      {
       "output_type": "stream",
       "stream": "stdout",
       "text": [
        "\n",
        "44201625"
       ]
      },
      {
       "output_type": "stream",
       "stream": "stdout",
       "text": [
        "\n",
        "47031262"
       ]
      },
      {
       "output_type": "stream",
       "stream": "stdout",
       "text": [
        "\n",
        "49622267"
       ]
      },
      {
       "output_type": "stream",
       "stream": "stdout",
       "text": [
        "\n",
        "52389285"
       ]
      },
      {
       "output_type": "stream",
       "stream": "stdout",
       "text": [
        "\n",
        "54994238"
       ]
      },
      {
       "output_type": "stream",
       "stream": "stdout",
       "text": [
        "\n",
        "57649381"
       ]
      },
      {
       "output_type": "stream",
       "stream": "stdout",
       "text": [
        "\n",
        "60381288"
       ]
      },
      {
       "output_type": "stream",
       "stream": "stdout",
       "text": [
        "\n",
        "62995317"
       ]
      },
      {
       "output_type": "stream",
       "stream": "stdout",
       "text": [
        "\n",
        "65735395"
       ]
      },
      {
       "output_type": "stream",
       "stream": "stdout",
       "text": [
        "\n",
        "68306423"
       ]
      },
      {
       "output_type": "stream",
       "stream": "stdout",
       "text": [
        "\n",
        "71139298"
       ]
      },
      {
       "output_type": "stream",
       "stream": "stdout",
       "text": [
        "\n",
        "73820894"
       ]
      },
      {
       "output_type": "stream",
       "stream": "stdout",
       "text": [
        "\n",
        "76528973"
       ]
      },
      {
       "output_type": "stream",
       "stream": "stdout",
       "text": [
        "\n",
        "79218631"
       ]
      },
      {
       "output_type": "stream",
       "stream": "stdout",
       "text": [
        "\n",
        "81763129"
       ]
      },
      {
       "output_type": "stream",
       "stream": "stdout",
       "text": [
        "\n",
        "84431620"
       ]
      },
      {
       "output_type": "stream",
       "stream": "stdout",
       "text": [
        "\n",
        "86981951"
       ]
      },
      {
       "output_type": "stream",
       "stream": "stdout",
       "text": [
        "\n",
        "89738218"
       ]
      },
      {
       "output_type": "stream",
       "stream": "stdout",
       "text": [
        "\n",
        "92323873"
       ]
      },
      {
       "output_type": "stream",
       "stream": "stdout",
       "text": [
        "\n",
        "94987748"
       ]
      },
      {
       "output_type": "stream",
       "stream": "stdout",
       "text": [
        "\n",
        "97491350"
       ]
      },
      {
       "output_type": "stream",
       "stream": "stdout",
       "text": [
        "\n",
        "99980169"
       ]
      },
      {
       "output_type": "stream",
       "stream": "stdout",
       "text": [
        "\n",
        "102753798"
       ]
      },
      {
       "output_type": "stream",
       "stream": "stdout",
       "text": [
        "\n",
        "105280392"
       ]
      },
      {
       "output_type": "stream",
       "stream": "stdout",
       "text": [
        "\n",
        "108006632"
       ]
      },
      {
       "output_type": "stream",
       "stream": "stdout",
       "text": [
        "\n",
        "110616148"
       ]
      },
      {
       "output_type": "stream",
       "stream": "stdout",
       "text": [
        "\n",
        "113228333"
       ]
      },
      {
       "output_type": "stream",
       "stream": "stdout",
       "text": [
        "\n",
        "115936296"
       ]
      },
      {
       "output_type": "stream",
       "stream": "stdout",
       "text": [
        "\n",
        "118489494"
       ]
      },
      {
       "output_type": "stream",
       "stream": "stdout",
       "text": [
        "\n",
        "121232281"
       ]
      },
      {
       "output_type": "stream",
       "stream": "stdout",
       "text": [
        "\n",
        "123726314"
       ]
      },
      {
       "output_type": "stream",
       "stream": "stdout",
       "text": [
        "\n",
        "126455440"
       ]
      },
      {
       "output_type": "stream",
       "stream": "stdout",
       "text": [
        "\n",
        "128861073"
       ]
      },
      {
       "output_type": "stream",
       "stream": "stdout",
       "text": [
        "\n",
        "131492538"
       ]
      },
      {
       "output_type": "stream",
       "stream": "stdout",
       "text": [
        "\n",
        "134157948"
       ]
      },
      {
       "output_type": "stream",
       "stream": "stdout",
       "text": [
        "\n",
        "136653517"
       ]
      },
      {
       "output_type": "stream",
       "stream": "stdout",
       "text": [
        "\n",
        "139417750"
       ]
      },
      {
       "output_type": "stream",
       "stream": "stdout",
       "text": [
        "\n",
        "141989231"
       ]
      },
      {
       "output_type": "stream",
       "stream": "stdout",
       "text": [
        "\n",
        "144683981"
       ]
      },
      {
       "output_type": "stream",
       "stream": "stdout",
       "text": [
        "\n",
        "147278076"
       ]
      },
      {
       "output_type": "stream",
       "stream": "stdout",
       "text": [
        "\n",
        "149863193"
       ]
      },
      {
       "output_type": "stream",
       "stream": "stdout",
       "text": [
        "\n",
        "152519863"
       ]
      },
      {
       "output_type": "stream",
       "stream": "stdout",
       "text": [
        "\n",
        "155027963"
       ]
      },
      {
       "output_type": "stream",
       "stream": "stdout",
       "text": [
        "\n",
        "157839883"
       ]
      },
      {
       "output_type": "stream",
       "stream": "stdout",
       "text": [
        "\n",
        "160416561"
       ]
      },
      {
       "output_type": "stream",
       "stream": "stdout",
       "text": [
        "\n",
        "163029542"
       ]
      },
      {
       "output_type": "stream",
       "stream": "stdout",
       "text": [
        "\n",
        "165632575"
       ]
      },
      {
       "output_type": "stream",
       "stream": "stdout",
       "text": [
        "\n",
        "168791717"
       ]
      },
      {
       "output_type": "stream",
       "stream": "stdout",
       "text": [
        "\n",
        "171662668"
       ]
      },
      {
       "output_type": "stream",
       "stream": "stdout",
       "text": [
        "\n",
        "174692915"
       ]
      },
      {
       "output_type": "stream",
       "stream": "stdout",
       "text": [
        "\n",
        "177763372"
       ]
      },
      {
       "output_type": "stream",
       "stream": "stdout",
       "text": [
        "\n",
        "180722740"
       ]
      },
      {
       "output_type": "stream",
       "stream": "stdout",
       "text": [
        "\n",
        "183544162"
       ]
      },
      {
       "output_type": "stream",
       "stream": "stdout",
       "text": [
        "\n",
        "186315279"
       ]
      },
      {
       "output_type": "stream",
       "stream": "stdout",
       "text": [
        "\n",
        "189415039"
       ]
      },
      {
       "output_type": "stream",
       "stream": "stdout",
       "text": [
        "\n"
       ]
      }
     ],
     "prompt_number": 3
    },
    {
     "cell_type": "code",
     "collapsed": false,
     "input": [
      "t.write('6years_zmax105_4bpd.fits')"
     ],
     "language": "python",
     "metadata": {},
     "outputs": [],
     "prompt_number": 6
    },
    {
     "cell_type": "markdown",
     "metadata": {},
     "source": [
      "# Combine 72 for 6 years"
     ]
    },
    {
     "cell_type": "code",
     "collapsed": false,
     "input": [
      "os.chdir(os.path.expandvars('$FERMI/data/P8_P301'))\n",
      "import glob\n",
      "ff= sorted(glob.glob('binfiles/*.fits'))[:72]; ff\n",
      "from skymaps import BinnedPhotonData\n",
      "t = BinnedPhotonData(ff[0]); \n",
      "print t.photonCount(), 'photons'\n",
      "for i,f in enumerate(ff[1:]):\n",
      "    t.add(BinnedPhotonData(f)); \n",
      "    print i,t.photonCount()\n",
      "t.write('6years_4bpd.fits')"
     ],
     "language": "python",
     "metadata": {},
     "outputs": [
      {
       "output_type": "stream",
       "stream": "stdout",
       "text": [
        "2077026 photons\n",
        "0"
       ]
      },
      {
       "output_type": "stream",
       "stream": "stdout",
       "text": [
        " 4333087\n",
        "1"
       ]
      },
      {
       "output_type": "stream",
       "stream": "stdout",
       "text": [
        " 6676951\n",
        "2"
       ]
      },
      {
       "output_type": "stream",
       "stream": "stdout",
       "text": [
        " 8941663\n",
        "3"
       ]
      },
      {
       "output_type": "stream",
       "stream": "stdout",
       "text": [
        " 11226270\n",
        "4"
       ]
      },
      {
       "output_type": "stream",
       "stream": "stdout",
       "text": [
        " 13478609\n",
        "5"
       ]
      },
      {
       "output_type": "stream",
       "stream": "stdout",
       "text": [
        " 15713068\n",
        "6"
       ]
      },
      {
       "output_type": "stream",
       "stream": "stdout",
       "text": [
        " 17638687\n",
        "7"
       ]
      },
      {
       "output_type": "stream",
       "stream": "stdout",
       "text": [
        " 19919049\n",
        "8"
       ]
      },
      {
       "output_type": "stream",
       "stream": "stdout",
       "text": [
        " 22204701\n",
        "9"
       ]
      },
      {
       "output_type": "stream",
       "stream": "stdout",
       "text": [
        " 24463923\n",
        "10"
       ]
      },
      {
       "output_type": "stream",
       "stream": "stdout",
       "text": [
        " 26823412\n",
        "11"
       ]
      },
      {
       "output_type": "stream",
       "stream": "stdout",
       "text": [
        " 29063399\n",
        "12"
       ]
      },
      {
       "output_type": "stream",
       "stream": "stdout",
       "text": [
        " 31437698\n",
        "13"
       ]
      },
      {
       "output_type": "stream",
       "stream": "stdout",
       "text": [
        " 33713595\n",
        "14"
       ]
      },
      {
       "output_type": "stream",
       "stream": "stdout",
       "text": [
        " 35985807\n",
        "15"
       ]
      },
      {
       "output_type": "stream",
       "stream": "stdout",
       "text": [
        " 38326218\n",
        "16"
       ]
      },
      {
       "output_type": "stream",
       "stream": "stdout",
       "text": [
        " 40549148\n",
        "17"
       ]
      },
      {
       "output_type": "stream",
       "stream": "stdout",
       "text": [
        " 42967161\n",
        "18"
       ]
      },
      {
       "output_type": "stream",
       "stream": "stdout",
       "text": [
        " 45239557\n",
        "19"
       ]
      },
      {
       "output_type": "stream",
       "stream": "stdout",
       "text": [
        " 47542939\n",
        "20"
       ]
      },
      {
       "output_type": "stream",
       "stream": "stdout",
       "text": [
        " 49870237\n",
        "21"
       ]
      },
      {
       "output_type": "stream",
       "stream": "stdout",
       "text": [
        " 52189476\n",
        "22"
       ]
      },
      {
       "output_type": "stream",
       "stream": "stdout",
       "text": [
        " 54555310\n",
        "23"
       ]
      },
      {
       "output_type": "stream",
       "stream": "stdout",
       "text": [
        " 56835062\n",
        "24"
       ]
      },
      {
       "output_type": "stream",
       "stream": "stdout",
       "text": [
        " 59054241\n",
        "25"
       ]
      },
      {
       "output_type": "stream",
       "stream": "stdout",
       "text": [
        " 61291182\n",
        "26"
       ]
      },
      {
       "output_type": "stream",
       "stream": "stdout",
       "text": [
        " 63783854\n",
        "27"
       ]
      },
      {
       "output_type": "stream",
       "stream": "stdout",
       "text": [
        " 66153270\n",
        "28"
       ]
      },
      {
       "output_type": "stream",
       "stream": "stdout",
       "text": [
        " 68519167\n",
        "29"
       ]
      },
      {
       "output_type": "stream",
       "stream": "stdout",
       "text": [
        " 70882592\n",
        "30"
       ]
      },
      {
       "output_type": "stream",
       "stream": "stdout",
       "text": [
        " 72953893\n",
        "31"
       ]
      },
      {
       "output_type": "stream",
       "stream": "stdout",
       "text": [
        " 75061702\n",
        "32"
       ]
      },
      {
       "output_type": "stream",
       "stream": "stdout",
       "text": [
        " 77296711\n",
        "33"
       ]
      },
      {
       "output_type": "stream",
       "stream": "stdout",
       "text": [
        " 79707184\n",
        "34"
       ]
      },
      {
       "output_type": "stream",
       "stream": "stdout",
       "text": [
        " 81959510\n",
        "35"
       ]
      },
      {
       "output_type": "stream",
       "stream": "stdout",
       "text": [
        " 84228336\n",
        "36"
       ]
      },
      {
       "output_type": "stream",
       "stream": "stdout",
       "text": [
        " 86289780\n",
        "37"
       ]
      },
      {
       "output_type": "stream",
       "stream": "stdout",
       "text": [
        " 88464901\n",
        "38"
       ]
      },
      {
       "output_type": "stream",
       "stream": "stdout",
       "text": [
        " 90901627\n",
        "39"
       ]
      },
      {
       "output_type": "stream",
       "stream": "stdout",
       "text": [
        " 93117263\n",
        "40"
       ]
      },
      {
       "output_type": "stream",
       "stream": "stdout",
       "text": [
        " 95510614\n",
        "41"
       ]
      },
      {
       "output_type": "stream",
       "stream": "stdout",
       "text": [
        " 97798706\n",
        "42"
       ]
      },
      {
       "output_type": "stream",
       "stream": "stdout",
       "text": [
        " 100078960\n",
        "43"
       ]
      },
      {
       "output_type": "stream",
       "stream": "stdout",
       "text": [
        " 102452060\n",
        "44"
       ]
      },
      {
       "output_type": "stream",
       "stream": "stdout",
       "text": [
        " 104673534\n",
        "45"
       ]
      },
      {
       "output_type": "stream",
       "stream": "stdout",
       "text": [
        " 107057588\n",
        "46"
       ]
      },
      {
       "output_type": "stream",
       "stream": "stdout",
       "text": [
        " 109152713\n",
        "47"
       ]
      },
      {
       "output_type": "stream",
       "stream": "stdout",
       "text": [
        " 111544239\n",
        "48"
       ]
      },
      {
       "output_type": "stream",
       "stream": "stdout",
       "text": [
        " 113292313\n",
        "49"
       ]
      },
      {
       "output_type": "stream",
       "stream": "stdout",
       "text": [
        " 115563705\n",
        "50"
       ]
      },
      {
       "output_type": "stream",
       "stream": "stdout",
       "text": [
        " 117873724\n",
        "51"
       ]
      },
      {
       "output_type": "stream",
       "stream": "stdout",
       "text": [
        " 120032389\n",
        "52"
       ]
      },
      {
       "output_type": "stream",
       "stream": "stdout",
       "text": [
        " 122426106\n",
        "53"
       ]
      },
      {
       "output_type": "stream",
       "stream": "stdout",
       "text": [
        " 124654703\n",
        "54"
       ]
      },
      {
       "output_type": "stream",
       "stream": "stdout",
       "text": [
        " 126782957\n",
        "55"
       ]
      },
      {
       "output_type": "stream",
       "stream": "stdout",
       "text": [
        " 129034529\n",
        "56"
       ]
      },
      {
       "output_type": "stream",
       "stream": "stdout",
       "text": [
        " 131255204\n",
        "57"
       ]
      },
      {
       "output_type": "stream",
       "stream": "stdout",
       "text": [
        " 133550641\n",
        "58"
       ]
      },
      {
       "output_type": "stream",
       "stream": "stdout",
       "text": [
        " 135710681\n",
        "59"
       ]
      },
      {
       "output_type": "stream",
       "stream": "stdout",
       "text": [
        " 137849757\n",
        "60"
       ]
      },
      {
       "output_type": "stream",
       "stream": "stdout",
       "text": [
        " 140034961\n",
        "61"
       ]
      },
      {
       "output_type": "stream",
       "stream": "stdout",
       "text": [
        " 142018267\n",
        "62"
       ]
      },
      {
       "output_type": "stream",
       "stream": "stdout",
       "text": [
        " 144249732\n",
        "63"
       ]
      },
      {
       "output_type": "stream",
       "stream": "stdout",
       "text": [
        " 146607427\n",
        "64"
       ]
      },
      {
       "output_type": "stream",
       "stream": "stdout",
       "text": [
        " 148636873\n",
        "65"
       ]
      },
      {
       "output_type": "stream",
       "stream": "stdout",
       "text": [
        " 150768579\n",
        "66"
       ]
      },
      {
       "output_type": "stream",
       "stream": "stdout",
       "text": [
        " 152855555\n",
        "67"
       ]
      },
      {
       "output_type": "stream",
       "stream": "stdout",
       "text": [
        " 155145967\n",
        "68"
       ]
      },
      {
       "output_type": "stream",
       "stream": "stdout",
       "text": [
        " 157654034\n",
        "69"
       ]
      },
      {
       "output_type": "stream",
       "stream": "stdout",
       "text": [
        " 159762666\n",
        "70"
       ]
      },
      {
       "output_type": "stream",
       "stream": "stdout",
       "text": [
        " 162070183\n"
       ]
      }
     ],
     "prompt_number": 3
    },
    {
     "cell_type": "code",
     "collapsed": false,
     "input": [
      "!ln -s ../../../../P8_P302/ltcube_6years_zmax105.fits ltcube_6years_zmax100.fits"
     ],
     "language": "python",
     "metadata": {},
     "outputs": [],
     "prompt_number": 4
    },
    {
     "cell_type": "code",
     "collapsed": false,
     "input": [
      "ll"
     ],
     "language": "python",
     "metadata": {},
     "outputs": [
      {
       "output_type": "stream",
       "stream": "stdout",
       "text": [
        "total 12\r\n",
        "drwxrwsr-x 2 burnett 75 Mar  7 15:08 \u001b[0m\u001b[01;34mbinfiles\u001b[0m/\r\n",
        "lrwxrwxrwx 1 burnett 46 Mar  8 09:25 \u001b[01;36mltcube_6years_zmax100.fits\u001b[0m -> ../../../../P8_P302/ltcube_6years_zmax105.fits\r\n",
        "lrwxrwxrwx 1 burnett 28 Mar  7 14:36 \u001b[01;36mzmax105\u001b[0m -> \u001b[01;34m../../../../P8_P302/zmax105/\u001b[0m/\r\n",
        "\u001b[m"
       ]
      }
     ],
     "prompt_number": 5
    },
    {
     "cell_type": "code",
     "collapsed": false,
     "input": [],
     "language": "python",
     "metadata": {},
     "outputs": []
    }
   ],
   "metadata": {}
  }
 ]
}