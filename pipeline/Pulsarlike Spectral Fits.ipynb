{
 "metadata": {
  "name": "",
  "signature": "sha256:3058a8891125c73c3d7649a7bd9f6ad9016362a975ceffd3c5dfd76a952aa1b7"
 },
 "nbformat": 3,
 "nbformat_minor": 0,
 "worksheets": [
  {
   "cells": [
    {
     "cell_type": "markdown",
     "metadata": {},
     "source": [
      "#Bright UnID Spectal Fits\n",
      "Test Power-Law, Log-Parabola, and PLEC spectral fits to the seven brightest UnID sources.<br>\n",
      "Result may indicate how likely source is to be a pulsar."
     ]
    },
    {
     "cell_type": "code",
     "collapsed": false,
     "input": [
      "%matplotlib inline\n",
      "import os\n",
      "os.chdir(os.path.expandvars('$FERMI/skymodels/P202_5years/uw704_test'))\n",
      "from skymaps import Band, SkyDir\n",
      "from uw.like2 import process"
     ],
     "language": "python",
     "metadata": {},
     "outputs": [],
     "prompt_number": 2
    },
    {
     "cell_type": "code",
     "collapsed": false,
     "input": [
      "from skymaps import Band,SkyDir\n",
      "Band(12).index(SkyDir(80.8392,-25.4763))"
     ],
     "language": "python",
     "metadata": {},
     "outputs": [
      {
       "metadata": {},
       "output_type": "pyout",
       "prompt_number": 1,
       "text": [
        "1302"
       ]
      }
     ],
     "prompt_number": 1
    },
    {
     "cell_type": "code",
     "collapsed": false,
     "input": [
      "from uw.like2 import process\n",
      "r = process.Process('.')"
     ],
     "language": "python",
     "metadata": {},
     "outputs": [
      {
       "output_type": "stream",
       "stream": "stdout",
       "text": [
        "Backend: module://IPython.kernel.zmq.pylab.backend_inline\n",
        "Using configuration file \"config.txt\" in folder: /nfs/farm/g/glast/u55/catalog/pointlike/skymodels/P202_5years/uw704_test/.\n",
        "Opening dataset P7_P202_5years from key in /afs/slac/g/glast/groups/catalog//pointlike/fermi/data/dataspec.py"
       ]
      },
      {
       "output_type": "stream",
       "stream": "stdout",
       "text": [
        "\n",
        "FT file(s) \"/afs/slac/g/glast/groups/catalog//pointlike/fermi/data/../../P7_P202/Source/*.fits\" not found: assume None to test for valid binfile\n",
        "Extracting DSS from existing binfile"
       ]
      },
      {
       "output_type": "stream",
       "stream": "stdout",
       "text": [
        "\n",
        "GTI from binfile Gti: 28337 intervals from 239557417 to 397128451, on time 127672441\n",
        "Verified binfile /afs/slac/g/glast/groups/catalog//pointlike/fermi/data/P7_P202/5years_4bpd.fits\n",
        "FT file(s) \"/afs/slac/g/glast/groups/catalog//pointlike/fermi/data/../../P7_P202/ft2_5years.fits\" not found: assume None to test for valid binfile\n",
        "Verified ltcube /afs/slac/g/glast/groups/catalog//pointlike/fermi/data/P7_P202/ltcube_5years_zmax100.fits"
       ]
      },
      {
       "output_type": "stream",
       "stream": "stdout",
       "text": [
        "\n",
        "loading binfile /afs/slac/g/glast/groups/catalog//pointlike/fermi/data/P7_P202/5years_4bpd.fits ..."
       ]
      },
      {
       "output_type": "stream",
       "stream": "stdout",
       "text": [
        " found 88505535 photons in 40 bands, energies 10-1000000 MeV\n",
        "dataset \"P7_P202_5years\", found in /afs/slac/g/glast/groups/catalog//pointlike/fermi/data/dataspec.py:\n",
        "  Bins per decade: 4\n",
        "  FT1 files: \tNone\n",
        "  FT2 files: \tNone\n",
        "  Binned data: /afs/slac/g/glast/groups/catalog//pointlike/fermi/data/P7_P202/5years_4bpd.fits\n",
        "             :  88505535 photons, 40 energy bands from 10 to 1000000 MeV\n",
        "  Livetime cube: /afs/slac/g/glast/groups/catalog//pointlike/fermi/data/P7_P202/ltcube_5years_zmax100.fits\n",
        "  Gti: 28337 intervals from 239557417 to 397128451, on time 127672441\n",
        "  DSS: name             value     units     ref       \n",
        "       TIME             TABLE     s          :GTI\n",
        "       ENERGY           30:1000000MeV        None\n",
        "       ZENITH_ANGLE     0:100     deg        None\n",
        "       THETA            :66.4     deg        None\n",
        "       BIT_MASK(EVENT_CLASS,2)  1:1       DIMENSIONLESS None\n",
        "\n",
        "Will load healpix sources from /nfs/farm/g/glast/u55/catalog/pointlike/skymodels/P202_5years/uw704_test/./pickle.zip"
       ]
      },
      {
       "output_type": "stream",
       "stream": "stdout",
       "text": [
        "\n"
       ]
      }
     ],
     "prompt_number": 3
    },
    {
     "cell_type": "code",
     "collapsed": false,
     "input": [
      "r.setup_roi(1302);r.print_summary(); r.summarize()"
     ],
     "language": "python",
     "metadata": {},
     "outputs": [
      {
       "output_type": "stream",
       "stream": "stdout",
       "text": [
        "25 total sources: 0 extended, 3 global\n",
        "------------------------------------------------------------------------------------------"
       ]
      },
      {
       "output_type": "stream",
       "stream": "stdout",
       "text": [
        " \n",
        "\t Nearby sources within 5.0 degrees HP12_1302\n",
        "name               dist        ra       dec        TS eflux(eV)    index   energy   beta/b\n",
        "P7R40762G           2.1    81.887   -23.328        12       1.4*    3.11*     282     0\n",
        "SEED-2336           2.5    81.132   -24.966        55       3.1*    2.69!     838     0"
       ]
      },
      {
       "output_type": "stream",
       "stream": "stdout",
       "text": [
        "\n",
        "P7R40750            2.8    80.823   -25.494       639       6.9*    1.80*    1338     0.34*"
       ]
      },
      {
       "output_type": "stream",
       "stream": "stdout",
       "text": [
        "\n",
        "P7R40764G           3.0    82.282   -24.808                 1.1     2.18     1000     0"
       ]
      },
      {
       "output_type": "stream",
       "stream": "stdout",
       "text": [
        "\n",
        "P7R40756            3.1    81.422   -20.254                 2.1     2.00     2466     0\n",
        "P7R40716            4.1    77.065   -19.599                 1.6     2.26     1370     0\n",
        "P7R40691H           4.4    75.514   -20.836                 1.6     2.50      949     0"
       ]
      },
      {
       "output_type": "stream",
       "stream": "stdout",
       "text": [
        "\n",
        "P7R40791G           4.9    83.996   -25.765                 1.3     2.17     1723     0\n",
        "P7R40723H           5.0    78.100   -18.155                 1.6     2.27     1581     0\n",
        "------------------------------------------------------------------------------------------ \n",
        "\tDiffuse sources\n",
        "------------------------------------------------------------------------------------------\n",
        "ring                        1.00       0.00 \n",
        "isotrop                     0.98!\n",
        "SunMoon                     1.00 \n",
        "------------------------------------------------------------------------------------------\n",
        "current likelihood, est. diff to peak: 77449.7, 0.60"
       ]
      },
      {
       "output_type": "stream",
       "stream": "stdout",
       "text": [
        "\n",
        "Name                  index     value  error(%)  gradient\n",
        "isotrop_Scale             0    0.9794       1.7      -3.4\n",
        "SEED-2336_Norm            1 7.173e-13      33.1      -2.0\n",
        "         _Index           2     2.692      10.0      -2.1\n",
        "P7R40762G_Norm            3 6.331e-12      53.4      -0.1\n",
        "         _Index           4     3.108      21.1       1.5\n",
        "P7R40750_Norm             5 1.243e-12      11.2       0.6\n",
        "        _Index            6     1.801      11.2       1.1\n",
        "        _beta             7    0.3357      40.0      -1.2\n"
       ]
      }
     ],
     "prompt_number": 14
    },
    {
     "cell_type": "code",
     "collapsed": false,
     "input": [
      "r.set_model('PowerLaw(2.0e-12,2)','P7R40750')"
     ],
     "language": "python",
     "metadata": {},
     "outputs": [
      {
       "metadata": {},
       "output_type": "pyout",
       "prompt_number": 5,
       "text": [
        "Norm      : (1 + 0.118 - 0.106) (avg = 0.112) 1.24e-12   \n",
        "Index     : (1 + 0.112 - 0.112) (avg = 0.112) 1.8        \n",
        "beta      : (1 + 0.400 - 0.400) (avg = 0.400) 0.336      \n",
        "E_break   : (1 + 0.000 - 0.000) (avg = 0.000) 1.34e+03   (FROZEN)\n",
        "Ph. Flux  : (1 + 0.485 - 0.327) (avg = 0.398) 7.17e-09   (DERIVED)\n",
        "En. Flux  : (1 + 0.165 - 0.142) (avg = 0.153) 1.11e-11   (DERIVED)"
       ]
      }
     ],
     "prompt_number": 5
    },
    {
     "cell_type": "code",
     "collapsed": false,
     "input": [
      "r.set_model('LogParabola(4.4e-12,1.75,0.5,1e3)','P7R42712')"
     ],
     "language": "python",
     "metadata": {},
     "outputs": [
      {
       "metadata": {},
       "output_type": "pyout",
       "prompt_number": 42,
       "text": [
        "Norm      : (1 + 0.061 - 0.057) (avg = 0.059) 3.51e-12   \n",
        "Index     : (1 + 0.021 - 0.021) (avg = 0.021) 2.16       \n",
        "Ph. Flux  : (1 + 0.095 - 0.087) (avg = 0.091) 4.37e-08   (DERIVED)\n",
        "En. Flux  : (1 + 0.071 - 0.066) (avg = 0.069) 3.67e-11   (DERIVED)"
       ]
      }
     ],
     "prompt_number": 42
    },
    {
     "cell_type": "code",
     "collapsed": false,
     "input": [
      "r.set_model('PLSuperExpCutoff(3e-12,1.2,2000,1)','P7R40750')"
     ],
     "language": "python",
     "metadata": {},
     "outputs": [
      {
       "metadata": {},
       "output_type": "pyout",
       "prompt_number": 21,
       "text": [
        "Norm      : (1 + 0.118 - 0.106) (avg = 0.112) 1.24e-12   \n",
        "Index     : (1 + 0.112 - 0.112) (avg = 0.112) 1.8        \n",
        "beta      : (1 + 0.400 - 0.400) (avg = 0.400) 0.336      \n",
        "E_break   : (1 + 0.000 - 0.000) (avg = 0.000) 1.34e+03   (FROZEN)\n",
        "Ph. Flux  : (1 + 0.485 - 0.327) (avg = 0.398) 7.17e-09   (DERIVED)\n",
        "En. Flux  : (1 + 0.165 - 0.142) (avg = 0.153) 1.11e-11   (DERIVED)"
       ]
      }
     ],
     "prompt_number": 21
    },
    {
     "cell_type": "code",
     "collapsed": false,
     "input": [
      "r.summarize()"
     ],
     "language": "python",
     "metadata": {},
     "outputs": [
      {
       "output_type": "stream",
       "stream": "stdout",
       "text": [
        "current likelihood, est. diff to peak: 77440.5, 15.90\n",
        "Name                  index     value  error(%)  gradient\n",
        "isotrop_Scale             0    0.9794       1.7      77.8\n",
        "SEED-2336_Norm            1 7.173e-13      33.1       2.8\n",
        "         _Index           2     2.692      10.0       6.0\n",
        "P7R40762G_Norm            3 6.331e-12      53.4       2.6\n",
        "         _Index           4     3.108      21.1       2.1\n",
        "P7R40750_Norm             5     3e-12       ***     -90.0\n",
        "        _Index            6       1.2       ***      49.7\n",
        "        _Cutoff           7      2000       ***    -179.1\n",
        "        _b                8         1       ***      61.1\n"
       ]
      }
     ],
     "prompt_number": 22
    },
    {
     "cell_type": "code",
     "collapsed": false,
     "input": [
      "r.fit([5,6,7,8],tolerance=0)"
     ],
     "language": "python",
     "metadata": {},
     "outputs": [
      {
       "output_type": "stream",
       "stream": "stdout",
       "text": [
        "26 calls, function value, improvement, quality: 77454.3, 13.73, 0.13\n",
        "Name                  index     value  error(%)  gradient\n",
        "P7R40750_Norm             5 2.083e-12      28.5      -3.5\n",
        "        _Index            6      1.37      21.3      -0.2\n",
        "        _Cutoff           7      4707      58.0       1.1\n",
        "        _b                8     1.286      47.4      -2.1\n"
       ]
      }
     ],
     "prompt_number": 23
    },
    {
     "cell_type": "code",
     "collapsed": false,
     "input": [
      "r.freeze('Cutoff','P7R40750',value=4500)\n",
      "#r.thaw('Cutoff','P7R40750')"
     ],
     "language": "python",
     "metadata": {},
     "outputs": [],
     "prompt_number": 28
    },
    {
     "cell_type": "code",
     "collapsed": false,
     "input": [
      "r.fit(tolerance=0)"
     ],
     "language": "python",
     "metadata": {},
     "outputs": [
      {
       "output_type": "stream",
       "stream": "stdout",
       "text": [
        "3 calls, function value, improvement, quality: 77454.4, 0.00, 0.29\n",
        "Name                  index     value  error(%)  gradient\n",
        "isotrop_Scale             0    0.9769       1.7       5.6\n",
        "SEED-2336_Norm            1 6.982e-13      31.9       1.5\n",
        "         _Index           2     2.682       9.1       1.4\n",
        "P7R40762G_Norm            3  6.23e-12      51.9       0.4\n",
        "         _Index           4       3.1      20.8       1.8\n",
        "P7R40750_Norm             5 2.162e-12      15.8       1.0\n",
        "        _Index            6     1.364      11.9      -0.2\n",
        "        _b                7     1.289      23.1      -0.0\n"
       ]
      }
     ],
     "prompt_number": 29
    },
    {
     "cell_type": "code",
     "collapsed": false,
     "input": [
      "r.TS('P7R40750')"
     ],
     "language": "python",
     "metadata": {},
     "outputs": [
      {
       "metadata": {},
       "output_type": "pyout",
       "prompt_number": 30,
       "text": [
        "653.90850938035874"
       ]
      }
     ],
     "prompt_number": 30
    },
    {
     "cell_type": "code",
     "collapsed": false,
     "input": [
      "r.get_model('P7R40750')"
     ],
     "language": "python",
     "metadata": {},
     "outputs": [
      {
       "metadata": {},
       "output_type": "pyout",
       "prompt_number": 31,
       "text": [
        "Norm      : (1 + 0.171 - 0.146) (avg = 0.158) 2.16e-12   \n",
        "Index     : (1 + 0.119 - 0.119) (avg = 0.119) 1.36       \n",
        "Cutoff    : (1 + 0.000 - 0.000) (avg = 0.000) 4.5e+03    (FROZEN)\n",
        "b         : (1 + 0.231 - 0.231) (avg = 0.231) 1.29       \n",
        "Ph. Flux  : (1 + 0.313 - 0.238) (avg = 0.273) 9.4e-09    (DERIVED)\n",
        "En. Flux  : (1 + 0.128 - 0.114) (avg = 0.121) 1.13e-11   (DERIVED)"
       ]
      }
     ],
     "prompt_number": 31
    },
    {
     "cell_type": "code",
     "collapsed": false,
     "input": [
      "r.get_source('P7R40750')\n",
      "#r.plot_counts()"
     ],
     "language": "python",
     "metadata": {},
     "outputs": [
      {
       "metadata": {},
       "output_type": "pyout",
       "prompt_number": 32,
       "text": [
        "uw.like2.sources.PointSource: \n",
        "\tname  : P7R40750\n",
        "\tskydir: SkyDir(80.823,-25.494)\n",
        "\tmodel : PLSuperExpCutoff\n",
        "\t\tNorm      : (1 + 0.171 - 0.146) (avg = 0.158) 2.16e-12   \n",
        "\t\tIndex     : (1 + 0.119 - 0.119) (avg = 0.119) 1.36       \n",
        "\t\tCutoff    : (1 + 0.000 - 0.000) (avg = 0.000) 4.5e+03    (FROZEN)\n",
        "\t\tb         : (1 + 0.231 - 0.231) (avg = 0.231) 1.29       \n",
        "\t\tPh. Flux  : (1 + 0.313 - 0.238) (avg = 0.273) 9.4e-09    (DERIVED)\n",
        "\t\tEn. Flux  : (1 + 0.128 - 0.114) (avg = 0.121) 1.13e-11   (DERIVED)"
       ]
      }
     ],
     "prompt_number": 32
    },
    {
     "cell_type": "code",
     "collapsed": false,
     "input": [
      "r.plot_sed(outdir='/nfs/farm/g/glast/u55/catalog/pointlike/skymodels/P202_5years/uw704_test/test_plots');"
     ],
     "language": "python",
     "metadata": {},
     "outputs": [
      {
       "output_type": "stream",
       "stream": "stdout",
       "text": [
        "saving sedfig to /nfs/farm/g/glast/u55/catalog/pointlike/skymodels/P202_5years/uw704_test/test_plots/P7R40750_sed_pointlike_skymodels_P202_5years_uw704_test.jpg..."
       ]
      },
      {
       "output_type": "stream",
       "stream": "stdout",
       "text": [
        " None\n",
        "\n"
       ]
      },
      {
       "metadata": {},
       "output_type": "display_data",
       "png": "[encoded data removed]",
       "text": [
        "<matplotlib.figure.Figure at 0x7f22502bbdd0>"
       ]
      }
     ],
     "prompt_number": 33
    },
    {
     "cell_type": "code",
     "collapsed": false,
     "input": [
      "from scipy import stats\n",
      "#stats.norm.ppf(1.0-stats.chisqprob(60.0,1)/2)\n",
      "stats.norm.ppf(stats.chisqprob(40.3,1)/2)"
     ],
     "language": "python",
     "metadata": {},
     "outputs": [
      {
       "metadata": {},
       "output_type": "pyout",
       "prompt_number": 83,
       "text": [
        "-6.3482280992415507"
       ]
      }
     ],
     "prompt_number": 83
    },
    {
     "cell_type": "code",
     "collapsed": false,
     "input": [
      "from uw.like2.plotting import counts\n",
      "z = counts.get_counts(r);\n",
      "w = z['models'];\n",
      "sum(dict(w)['P7R40750'])"
     ],
     "language": "python",
     "metadata": {},
     "outputs": [
      {
       "metadata": {},
       "output_type": "pyout",
       "prompt_number": 34,
       "text": [
        "813.52655462920427"
       ]
      }
     ],
     "prompt_number": 34
    },
    {
     "cell_type": "heading",
     "level": 5,
     "metadata": {},
     "source": [
      "r.plot_sed?"
     ]
    },
    {
     "cell_type": "code",
     "collapsed": false,
     "input": [
      "from uw.like2 import main\n",
      "roi = main.ROI('.',1218)\n",
      "roi.fit('P7R42712',tolerance=0)"
     ],
     "language": "python",
     "metadata": {},
     "outputs": [
      {
       "output_type": "stream",
       "stream": "stdout",
       "text": [
        "FT file(s) \"/afs/slac/g/glast/groups/catalog//pointlike/fermi/data/../../P7_P202/Source/*.fits\" not found: assume None to test for valid binfile\n",
        "FT file(s) \"/afs/slac/g/glast/groups/catalog//pointlike/fermi/data/../../P7_P202/ft2_5years.fits\" not found: assume None to test for valid binfile\n",
        "102 total sources: 0 extended, 4 global"
       ]
      },
      {
       "output_type": "stream",
       "stream": "stdout",
       "text": [
        "\n",
        "4 calls, function value, improvement, quality: 121287.1, 0.00, 0.01"
       ]
      },
      {
       "output_type": "stream",
       "stream": "stdout",
       "text": [
        "\n",
        "Name                  index     value  error(%)  gradient\n",
        "P7R42712_Norm             3 4.427e-12       7.1      -1.6\n",
        "        _Index            4     1.756       6.0       1.3\n",
        "        _beta             5    0.4602      18.6      -0.3\n"
       ]
      }
     ],
     "prompt_number": 10
    },
    {
     "cell_type": "code",
     "collapsed": false,
     "input": [
      "#help(r)\n",
      "#r.freeze('beta','*0232',value=0)\n",
      "#r.thaw('b','*4429')\n",
      "#r.del_source('SEED-905')\n",
      "#r.set_model('PowerLaw(4.0e-12,1.8)','P7R42712')\n",
      "#r.fit()\n",
      "#r.fit([9,10])\n",
      "#r.fit(tolerance=0)\n",
      "#r.fit([1,2],tolerance=0)\n",
      "#r.fit(setpars={1:1e-12})\n"
     ],
     "language": "python",
     "metadata": {},
     "outputs": [
      {
       "metadata": {},
       "output_type": "pyout",
       "prompt_number": 11,
       "text": [
        "Norm      : (1 + 0.074 - 0.069) (avg = 0.071) 4.43e-12   \n",
        "Index     : (1 + 0.075 - 0.075) (avg = 0.075) 1.76       \n",
        "beta      : (1 + 0.216 - 0.216) (avg = 0.216) 0.459      \n",
        "E_break   : (1 + 0.000 - 0.000) (avg = 0.000) 1.05e+03   (FROZEN)\n",
        "Ph. Flux  : (1 + 0.217 - 0.178) (avg = 0.196) 1.54e-08   (DERIVED)\n",
        "En. Flux  : (1 + 0.087 - 0.080) (avg = 0.084) 2.1e-11    (DERIVED)"
       ]
      }
     ],
     "prompt_number": 11
    }
   ],
   "metadata": {}
  }
 ]
}