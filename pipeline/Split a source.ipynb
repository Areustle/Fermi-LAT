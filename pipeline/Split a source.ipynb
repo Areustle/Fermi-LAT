{
 "metadata": {
  "name": "",
  "signature": "sha256:e8d6738af8956316e1f4fccf46a0f42e9dfcfcc9dfb6fef64071cb13ca76b7b8"
 },
 "nbformat": 3,
 "nbformat_minor": 0,
 "worksheets": [
  {
   "cells": [
    {
     "cell_type": "markdown",
     "metadata": {},
     "source": [
      "#Split a source in uw961"
     ]
    },
    {
     "cell_type": "code",
     "collapsed": false,
     "input": [
      "import os\n",
      "%matplotlib inline\n",
      "os.chdir(os.path.expandvars('$FERMI/skymodels/P301_6years/uw961'))\n",
      "from uw.like2 import process; reload(process)"
     ],
     "language": "python",
     "metadata": {},
     "outputs": [
      {
       "metadata": {},
       "output_type": "pyout",
       "prompt_number": 2,
       "text": [
        "<module 'uw.like2.process' from '/afs/slac/g/glast/groups/catalog/pointlike/python/uw/like2/process.pyc'>"
       ]
      }
     ],
     "prompt_number": 2
    },
    {
     "cell_type": "code",
     "collapsed": false,
     "input": [
      "r = process.Process('.', finish=True, fit_kw=dict(ignore_exception=True))#True)"
     ],
     "language": "python",
     "metadata": {},
     "outputs": [
      {
       "output_type": "stream",
       "stream": "stdout",
       "text": [
        "Backend: module://IPython.kernel.zmq.pylab.backend_inline\n",
        "Using configuration file \"config.txt\" in folder: /nfs/farm/g/glast/u55/catalog/pointlike/skymodels/P301_6years/uw961/.\n",
        "Opening dataset P301_6years from key in /afs/slac/g/glast/groups/catalog//pointlike/fermi/data/dataspec.py\n",
        "FT file(s) \"/afs/slac/g/glast/groups/catalog//pointlike/fermi/data/../../P8_P301/Source/P301_*.fits\" not found: assume None to test for valid binfile\n",
        "Extracting DSS from existing binfile"
       ]
      },
      {
       "output_type": "stream",
       "stream": "stdout",
       "text": [
        "\n",
        "GTI from binfile Gti: 38437 intervals from 239557417 to 428689918, on time 150881091\n",
        "Verified binfile /afs/slac/g/glast/groups/catalog//pointlike/fermi/data/P8_P301/6years_4bpd.fits\n",
        "no header info in ltcube?"
       ]
      },
      {
       "output_type": "stream",
       "stream": "stdout",
       "text": [
        "\n",
        "Accepting ltcube without DSS info since legacy specified\n",
        "Failed gti check:\n",
        "  ltcube: Gti: 37884 intervals from 239557417 to 428689918, on time 150902856 \n",
        " binfile: Gti: 38437 intervals from 239557417 to 428689918, on time 150881091"
       ]
      },
      {
       "output_type": "stream",
       "stream": "stdout",
       "text": [
        "\n",
        "loading binfile /afs/slac/g/glast/groups/catalog//pointlike/fermi/data/P8_P301/6years_4bpd.fits ..."
       ]
      },
      {
       "output_type": "stream",
       "stream": "stdout",
       "text": [
        " found 162070183 photons in 40 bands, energies 10-1000000 MeV\n",
        "dataset \"P301_6years\", found in /afs/slac/g/glast/groups/catalog//pointlike/fermi/data/dataspec.py:\n",
        "  Bins per decade: 4\n",
        "  FT1 files: \tNone\n",
        "  FT2 files: \tNone\n",
        "  Binned data: /afs/slac/g/glast/groups/catalog//pointlike/fermi/data/P8_P301/6years_4bpd.fits\n",
        "             :  162070183 photons, 40 energy bands from 10 to 1000000 MeV\n",
        "  Livetime cube: /afs/slac/g/glast/groups/catalog//pointlike/fermi/data/P8_P301/ltcube_6years_zmax100.fits\n",
        "  Gti: 38437 intervals from 239557417 to 428689918, on time 150881091\n",
        "  DSS: name             value     units     ref       \n",
        "\n",
        "Will load healpix sources from /nfs/farm/g/glast/u55/catalog/pointlike/skymodels/P301_6years/uw961/./pickle.zip"
       ]
      },
      {
       "output_type": "stream",
       "stream": "stdout",
       "text": [
        "\n"
       ]
      }
     ],
     "prompt_number": 3
    },
    {
     "cell_type": "code",
     "collapsed": false,
     "input": [
      "roi,sname,newdir=673, 'P7R40976', (102.8,21.75)"
     ],
     "language": "python",
     "metadata": {},
     "outputs": [],
     "prompt_number": 45
    },
    {
     "cell_type": "code",
     "collapsed": false,
     "input": [
      "r.setup_roi(roi);\n",
      "r.print_summary()"
     ],
     "language": "python",
     "metadata": {},
     "outputs": [
      {
       "output_type": "stream",
       "stream": "stdout",
       "text": [
        "22 total sources: 0 extended, 3 global\n",
        "------------------------------------------------------------------------------------------"
       ]
      },
      {
       "output_type": "stream",
       "stream": "stdout",
       "text": [
        " \n",
        "\t Nearby sources within 5.0 degrees HP12_0673\n",
        "name               dist        ra       dec        TS eflux(eV)    index   energy   beta/b\n",
        "P7R40972            0.9   104.153    24.442        32       2.2*    2.83!     554     0\n",
        "P7R40956            2.1   102.691    25.057      1910      19.9!    1.73!    3168     0"
       ]
      },
      {
       "output_type": "stream",
       "stream": "stdout",
       "text": [
        "\n",
        "P7R40976            2.7   104.650    22.300        41       2.8*    3.27*     333     0\n",
        "P7R40997            3.1   107.266    22.680                 5.0     2.07     1524     0"
       ]
      },
      {
       "output_type": "stream",
       "stream": "stdout",
       "text": [
        "\n",
        "SEED-762            3.1   108.387    25.547                 2.0     2.49      804     0\n",
        "S907-1215           3.4   102.343    22.509                 1.4     2.08     2813     0\n",
        "P7R40964            3.6   103.439    28.261                 3.6     2.25     1355     0\n",
        "SEED-955            4.3   100.206    24.579                 1.6     2.19     2702     0"
       ]
      },
      {
       "output_type": "stream",
       "stream": "stdout",
       "text": [
        "\n",
        "P7R40955            4.6   102.645    20.934                 3.7     1.60     8074     0\n",
        "------------------------------------------------------------------------------------------ \n",
        "\tDiffuse sources\n",
        "------------------------------------------------------------------------------------------\n",
        "ring                        1.00       0.00 \n",
        "isotrop                     0.97!\n",
        "SunMoon                     1.00 \n",
        "------------------------------------------------------------------------------------------\n"
       ]
      }
     ],
     "prompt_number": 38
    },
    {
     "cell_type": "code",
     "collapsed": false,
     "input": [
      "s=r.sources.find_source(sname)\n",
      "#snew=r.add_source(name=sname+'A', skydir=newdir); snew"
     ],
     "language": "python",
     "metadata": {},
     "outputs": [],
     "prompt_number": 39
    },
    {
     "cell_type": "code",
     "collapsed": false,
     "input": [
      "r.fit([9],setpars={9:-16}, tolerance=0)"
     ],
     "language": "python",
     "metadata": {},
     "outputs": [
      {
       "output_type": "stream",
       "stream": "stdout",
       "text": [
        "9 9 -13.9245626148 --> -16\n",
        "Failed log likelihood estimate, returning 99.: "
       ]
      },
      {
       "output_type": "stream",
       "stream": "stdout",
       "text": [
        "\n",
        "Minimizer warning: bad errors for values ['P7R40571A_Norm']"
       ]
      },
      {
       "output_type": "stream",
       "stream": "stdout",
       "text": [
        "\n",
        "1 calls, function value, improvement, quality: 411193.4, -0.04, -0.00"
       ]
      },
      {
       "output_type": "stream",
       "stream": "stdout",
       "text": [
        "\n",
        "Name                  index     value  error(%)  gradient\n",
        "P7R40571A_Norm            9     1e-16       ***      -0.0\n"
       ]
      }
     ],
     "prompt_number": 16
    },
    {
     "cell_type": "code",
     "collapsed": false,
     "input": [
      "r.fit(snew.name, tolerance=0);\n",
      "r.TS(snew.name)"
     ],
     "language": "python",
     "metadata": {},
     "outputs": [
      {
       "output_type": "stream",
       "stream": "stdout",
       "text": [
        "Minimizer warning: bad errors for values ['P7R40571A_Norm']\n",
        "1 calls, function value, improvement, quality: 411193.4, 0.00, -0.00"
       ]
      },
      {
       "output_type": "stream",
       "stream": "stdout",
       "text": [
        "\n",
        "Name                  index     value  error(%)  gradient\n",
        "P7R40571A_Norm            9     1e-16       ***      -0.0\n",
        "         _Index          10     2.377     788.9      -0.0\n"
       ]
      },
      {
       "metadata": {},
       "output_type": "pyout",
       "prompt_number": 13,
       "text": [
        "0.0"
       ]
      }
     ],
     "prompt_number": 13
    },
    {
     "cell_type": "code",
     "collapsed": false,
     "input": [
      "r.localize(s.name,seedpos=newdir,update=True)"
     ],
     "language": "python",
     "metadata": {},
     "outputs": [
      {
       "output_type": "stream",
       "stream": "stdout",
       "text": [
        "Localizing source P7R40976, tolerance=1.0e-04...\n",
        "\t     moved     delta        ra       dec         a         b      qual\n",
        "\t    0.0000    0.0000  103.7000   21.6000\n",
        "\t    0.3552    0.3552  103.3934   21.3884    0.1894    0.1514   28.9699\n",
        "\t    0.5250    0.8517  102.8339   21.3251    0.3219    0.1670   27.2072"
       ]
      },
      {
       "output_type": "stream",
       "stream": "stdout",
       "text": [
        "\n",
        "\t    1.5209    2.3564  101.2089   21.1847    1.0024    0.3255   94.8975"
       ]
      },
      {
       "output_type": "stream",
       "stream": "stdout",
       "text": [
        "\n",
        "\t -attempt to move beyond maxdist=1.0\n",
        "TS change: 13.18\n"
       ]
      }
     ],
     "prompt_number": 40
    },
    {
     "cell_type": "code",
     "collapsed": false,
     "input": [
      "from skymaps import SkyDir\n",
      "s.skydir=SkyDir(*newdir)"
     ],
     "language": "python",
     "metadata": {},
     "outputs": [],
     "prompt_number": 47
    },
    {
     "cell_type": "code",
     "collapsed": false,
     "input": [
      "r.fit(tolerance=0)"
     ],
     "language": "python",
     "metadata": {},
     "outputs": [
      {
       "output_type": "stream",
       "stream": "stdout",
       "text": [
        "4 calls, function value, improvement, quality: 813155.9, 0.09, 0.02\n",
        "Name                  index     value  error(%)  gradient\n",
        "isotrop_Scale             0    0.4117      12.8      -0.4\n",
        "P7R40823P_Norm            1 1.118e-10      23.8      -1.9\n",
        "         _Index           2     3.916      12.5      -0.4\n"
       ]
      }
     ],
     "prompt_number": 33
    },
    {
     "cell_type": "code",
     "collapsed": false,
     "input": [
      "r.localize(sname, update=False)"
     ],
     "language": "python",
     "metadata": {},
     "outputs": [
      {
       "output_type": "stream",
       "stream": "stdout",
       "text": [
        "Localizing source P7R40976, tolerance=1.0e-04...\n",
        "\t     moved     delta        ra       dec         a         b      qual\n",
        "\t    0.0000    0.0000  103.7000   21.6000\n",
        "\t    0.3552    0.3552  103.3934   21.3884    0.1894    0.1514   28.9699\n",
        "\t    0.5250    0.8517  102.8339   21.3251    0.3219    0.1670   27.2072"
       ]
      },
      {
       "output_type": "stream",
       "stream": "stdout",
       "text": [
        "\n",
        "\t    1.5209    2.3564  101.2089   21.1847    1.0024    0.3255   94.8975"
       ]
      },
      {
       "output_type": "stream",
       "stream": "stdout",
       "text": [
        "\n",
        "\t -attempt to move beyond maxdist=1.0\n",
        "TS change: 13.18\n"
       ]
      }
     ],
     "prompt_number": 46
    },
    {
     "cell_type": "code",
     "collapsed": false,
     "input": [
      "r.localize(snew.name, update=True)"
     ],
     "language": "python",
     "metadata": {},
     "outputs": [
      {
       "output_type": "stream",
       "stream": "stdout",
       "text": [
        "Localizing source S907-3277A, tolerance=1.0e-04...\n",
        "\t     moved     delta        ra       dec         a         b      qual\n",
        "\t    0.0000    0.0000   29.2105   32.1485\n",
        "\t    0.0358    0.0358   29.1717   32.1341    0.1511    0.0879   16.9211\n",
        "\t    0.0156    0.0255   29.1896   32.1301    0.0789    0.0609    2.1418"
       ]
      },
      {
       "output_type": "stream",
       "stream": "stdout",
       "text": [
        "\n",
        "\t    0.0003    0.0253   29.1898   32.1303    0.0855    0.0644    1.5581"
       ]
      },
      {
       "output_type": "stream",
       "stream": "stdout",
       "text": [
        "\n",
        "\t    0.0005    0.0250   29.1904   32.1302    0.0844    0.0639    1.4102"
       ]
      },
      {
       "output_type": "stream",
       "stream": "stdout",
       "text": [
        "\n",
        "\t    0.0001    0.0249   29.1905   32.1302    0.0844    0.0639    1.4161"
       ]
      },
      {
       "output_type": "stream",
       "stream": "stdout",
       "text": [
        "\n",
        "TS change: 0.10"
       ]
      },
      {
       "output_type": "stream",
       "stream": "stdout",
       "text": [
        "\n"
       ]
      }
     ],
     "prompt_number": 26
    },
    {
     "cell_type": "code",
     "collapsed": false,
     "input": [
      "r.plot_tsmap();"
     ],
     "language": "python",
     "metadata": {},
     "outputs": [
      {
       "output_type": "stream",
       "stream": "stdout",
       "text": [
        "setting size from 15.04 to 2.0\n",
        "TSplot: filling 225 pixels...\n"
       ]
      },
      {
       "output_type": "stream",
       "stream": "stdout",
       "text": [
        "bad fit sigma 0.571243, >1 or qual 94.9 >50\n"
       ]
      },
      {
       "metadata": {},
       "output_type": "display_data",
       "png": "[encoded data removed]",
       "text": [
        "<matplotlib.figure.Figure at 0x7f35a480c290>"
       ]
      }
     ],
     "prompt_number": 48
    },
    {
     "cell_type": "code",
     "collapsed": false,
     "input": [
      "r.plot_tsmap(s.name);"
     ],
     "language": "python",
     "metadata": {},
     "outputs": [
      {
       "output_type": "stream",
       "stream": "stdout",
       "text": [
        "TSplot: filling 225 pixels...\n"
       ]
      },
      {
       "metadata": {},
       "output_type": "display_data",
       "png": "[encoded data removed]",
       "text": [
        "<matplotlib.figure.Figure at 0x7f35b9f4e350>"
       ]
      }
     ],
     "prompt_number": 18
    },
    {
     "cell_type": "code",
     "collapsed": false,
     "input": [
      "r.del_source(snew.name)"
     ],
     "language": "python",
     "metadata": {},
     "outputs": [
      {
       "metadata": {},
       "output_type": "pyout",
       "prompt_number": 19,
       "text": [
        "uw.like2.sources.PointSource: \n",
        "\tname  : P7R40571A\n",
        "\tskydir: SkyDir(61.250,51.300)\n",
        "\tmodel : LogParabola\n",
        "\t\tNorm      : (1 + 0.000 - 0.000) (avg = 0.000) 1e-16      \n",
        "\t\tIndex     : (1 + 7.889 - 7.889) (avg = 7.889) 2.38       \n",
        "\t\tbeta      : (1 + 0.000 - 0.000) (avg = 0.000) 0          (FROZEN)\n",
        "\t\tE_break   : (1 + 0.000 - 0.000) (avg = 0.000) 1e+03      (FROZEN)\n",
        "\t\tPh. Flux  : (1 + 0.000 - 0.000) (avg = 0.000) 1.73e-12   (Failed fit)\n",
        "\t\tEn. Flux  : (1 + 2.230 - 0.690) (avg = 1.241) 9.63e-16   (DERIVED)"
       ]
      }
     ],
     "prompt_number": 19
    },
    {
     "cell_type": "code",
     "collapsed": false,
     "input": [
      "r.print_summary()"
     ],
     "language": "python",
     "metadata": {},
     "outputs": [
      {
       "output_type": "stream",
       "stream": "stdout",
       "text": [
        "------------------------------------------------------------------------------------------ \n",
        "\t Nearby sources within 5.0 degrees HP12_0860\n",
        "name               dist        ra       dec        TS eflux(eV)    index   energy   beta/b\n",
        "P7R40591AP          1.9    62.698    50.462        35       5.9*    2.61!    1346     0"
       ]
      },
      {
       "output_type": "stream",
       "stream": "stdout",
       "text": [
        "\n",
        "P7R40591G           2.3    61.924    50.440        72       6.8*    2.42!    1997     0"
       ]
      },
      {
       "output_type": "stream",
       "stream": "stdout",
       "text": [
        "\n",
        "P7R40591P           2.4    62.267    51.123        54       7.3*    2.53!    1605     0"
       ]
      },
      {
       "output_type": "stream",
       "stream": "stdout",
       "text": [
        "\n",
        "P7R40654G           2.8    69.340    51.072                 5.1     2.84      658     0\n",
        "P7R40571            2.9    61.472    51.164        78       8.7*    2.61!    1228     0"
       ]
      },
      {
       "output_type": "stream",
       "stream": "stdout",
       "text": [
        "\n",
        "P7R40634G           3.2    67.698    47.052                 6.1     2.61     1206     0\n",
        "P7R40574AG          3.7    59.931    50.963                22.2     2.68      817     0\n",
        "SEED-1762           4.6    63.569    45.381                 1.8     2.05     6328     0\n",
        "P7R40618            4.8    66.660    54.576                16.0     2.72      961     0.29 "
       ]
      },
      {
       "output_type": "stream",
       "stream": "stdout",
       "text": [
        "\n",
        "P7R40612            5.0    65.884    54.823                 4.1     2.58     1683     0\n",
        "------------------------------------------------------------------------------------------ \n",
        "\tDiffuse sources\n",
        "------------------------------------------------------------------------------------------\n",
        "ring                        1.00       0.00 \n",
        "isotrop                     0.54*\n",
        "SunMoon                     1.00 \n",
        "------------------------------------------------------------------------------------------\n"
       ]
      }
     ],
     "prompt_number": 20
    },
    {
     "cell_type": "code",
     "collapsed": false,
     "input": [
      "r.fit()"
     ],
     "language": "python",
     "metadata": {},
     "outputs": [
      {
       "output_type": "stream",
       "stream": "stdout",
       "text": [
        "Not fitting, estimated improvement, 0.04, is less than tolerance= 0.2\n"
       ]
      }
     ],
     "prompt_number": 25
    },
    {
     "cell_type": "code",
     "collapsed": false,
     "input": [
      "r.process()"
     ],
     "language": "python",
     "metadata": {},
     "outputs": [
      {
       "output_type": "stream",
       "stream": "stdout",
       "text": [
        "================================================================================\n",
        "2015-02-09 11:49:38 - HP12_0913 - interactive\n"
       ]
      },
      {
       "output_type": "stream",
       "stream": "stdout",
       "text": [
        "------------------------------------------------------------------------------------------ \n",
        "\t Nearby sources within 5.0 degrees before fit, logL=813170\n",
        "name               dist        ra       dec        TS eflux(eV)    index   energy   beta/b\n",
        "P7R40841AGP         0.6    87.955    20.329                20.7     5.00      200     0\n",
        "P7R40814            3.0    84.871    22.363                 8.7     2.65     1966     0\n",
        "P7R40849H           3.3    90.970    21.985                 6.0     2.19     5296     0"
       ]
      },
      {
       "output_type": "stream",
       "stream": "stdout",
       "text": [
        "\n",
        "P7R40846G           3.5    90.374    23.323                 7.1     2.73      766     0\n",
        "P7R40856A           3.7    91.565    20.770                10.2     2.61     2272     0\n",
        "P7R40823P           3.7    84.704    23.343        73      12.2*    3.92*     217     0"
       ]
      },
      {
       "output_type": "stream",
       "stream": "stdout",
       "text": [
        "\n",
        "PSR J0534+2200      3.9    83.644    22.009               284.9     1.78     3439     1\n",
        "CrabIC              3.9    83.634    22.020               843.5     2.15    20000     0\n",
        "P7R40870            4.1    91.980    20.216                 6.2     2.94     1094     0.92 "
       ]
      },
      {
       "output_type": "stream",
       "stream": "stdout",
       "text": [
        "\n",
        "P7R40869G           4.3    92.104    22.186                 5.7     2.73      773     0\n",
        "P7R40873            4.3    92.259    21.578                 4.5     1.84      909     0.74 \n",
        "P7R40870P           4.4    92.325    20.774                 7.3     2.47     1163     0\n",
        "CrabSync            4.5    83.002    22.070                45.2     4.93      200     0"
       ]
      },
      {
       "output_type": "stream",
       "stream": "stdout",
       "text": [
        "\n",
        "P7R40794            4.7    84.070    17.559                 2.9     2.02     3287     0\n",
        "S907-2046           4.9    92.214    18.444                 5.4     2.61     2186     0\n",
        "S907-1694           5.0    92.955    21.334                 6.7     2.56    20000     0\n",
        "P7R40805            5.0    84.736    16.737                 3.5     2.03     3422     0"
       ]
      },
      {
       "output_type": "stream",
       "stream": "stdout",
       "text": [
        "\n",
        "P7R40879G           5.0    92.911    20.040                 6.0     2.58     1666     0\n",
        "------------------------------------------------------------------------------------------ \n",
        "\tDiffuse sources\n",
        "------------------------------------------------------------------------------------------\n",
        "ring                        1.00       0.00 \n",
        "isotrop                     0.41*\n",
        "SunMoon                     1.00 \n",
        "------------------------------------------------------------------------------------------\n",
        "===================== not fitting ========================\n",
        "------------ creating seds, figures ---------------\n"
       ]
      },
      {
       "output_type": "stream",
       "stream": "stdout",
       "text": [
        "sources: ['P7R40823P']\n",
        "P7R40823P : "
       ]
      },
      {
       "output_type": "stream",
       "stream": "stdout",
       "text": [
        "saving sedfig to ./sedfig/P7R40823P_sed_uw961.jpg..."
       ]
      },
      {
       "output_type": "stream",
       "stream": "stdout",
       "text": [
        " None\n",
        "\n"
       ]
      },
      {
       "output_type": "stream",
       "stream": "stdout",
       "text": [
        "------localizing all local sources------\n"
       ]
      },
      {
       "output_type": "stream",
       "stream": "stdout",
       "text": [
        "localizing P7R40823P\n",
        "Localizing source P7R40823P, tolerance=1.0e-04...\n",
        "\t     moved     delta        ra       dec         a         b      qual"
       ]
      },
      {
       "output_type": "stream",
       "stream": "stdout",
       "text": [
        "\n",
        "\t    0.0000    0.0000   84.7044   23.3433\n",
        "\t    0.0829    0.0829   84.7873   23.3102    0.4378    0.3353   46.7451\n",
        "\t    0.0253    0.0594   84.7598   23.3127    0.2307    0.1382    4.4562"
       ]
      },
      {
       "output_type": "stream",
       "stream": "stdout",
       "text": [
        "\n",
        "\t    0.0176    0.0419   84.7427   23.3206    0.2259    0.1334    3.6059"
       ]
      },
      {
       "output_type": "stream",
       "stream": "stdout",
       "text": [
        "\n",
        "\t    0.0120    0.0299   84.7323   23.3277    0.2267    0.1335    3.7568"
       ]
      },
      {
       "output_type": "stream",
       "stream": "stdout",
       "text": [
        "\n",
        "\t    0.0078    0.0223   84.7258   23.3327    0.2281    0.1342    4.0399"
       ]
      },
      {
       "output_type": "stream",
       "stream": "stdout",
       "text": [
        "\n",
        "\t    0.0049    0.0175   84.7217   23.3359    0.2293    0.1349    4.2634"
       ]
      },
      {
       "output_type": "stream",
       "stream": "stdout",
       "text": [
        "\n",
        "\t    0.0031    0.0145   84.7190   23.3377    0.2300    0.1354    4.4021"
       ]
      },
      {
       "output_type": "stream",
       "stream": "stdout",
       "text": [
        "\n",
        "\t    0.0019    0.0127   84.7174   23.3388    0.2303    0.1356    4.4786"
       ]
      },
      {
       "output_type": "stream",
       "stream": "stdout",
       "text": [
        "\n",
        "\t    0.0011    0.0116   84.7164   23.3394    0.2304    0.1358    4.5179"
       ]
      },
      {
       "output_type": "stream",
       "stream": "stdout",
       "text": [
        "\n",
        "\t    0.0007    0.0110   84.7157   23.3398    0.2305    0.1359    4.5375"
       ]
      },
      {
       "output_type": "stream",
       "stream": "stdout",
       "text": [
        "\n",
        "\t    0.0004    0.0106   84.7154   23.3399    0.2305    0.1360    4.5472"
       ]
      },
      {
       "output_type": "stream",
       "stream": "stdout",
       "text": [
        "\n",
        "\t    0.0002    0.0104   84.7152   23.3400    0.2305    0.1360    4.5520"
       ]
      },
      {
       "output_type": "stream",
       "stream": "stdout",
       "text": [
        "\n",
        "\t    0.0001    0.0102   84.7150   23.3401    0.2305    0.1360    4.5545"
       ]
      },
      {
       "output_type": "stream",
       "stream": "stdout",
       "text": [
        "\n",
        "\t    0.0001    0.0102   84.7150   23.3401    0.2305    0.1360    4.5558"
       ]
      },
      {
       "output_type": "stream",
       "stream": "stdout",
       "text": [
        "\n",
        "TS change: 0.11"
       ]
      },
      {
       "output_type": "stream",
       "stream": "stdout",
       "text": [
        "\n",
        "Localized P7R40823P: 12 iterations, moved 0.010 deg, deltaTS: 0.1\n",
        "        ra       dec         a         b       ang      qual\n",
        "   84.7150   23.3401    0.2305    0.1360  -33.0753    4.5558\n",
        "-------- running associations --------"
       ]
      },
      {
       "output_type": "stream",
       "stream": "stdout",
       "text": [
        "\n"
       ]
      },
      {
       "output_type": "stream",
       "stream": "stdout",
       "text": [
        " P7R40823P association(s)  ...None  found\n",
        "-------- analyzing counts histogram, "
       ]
      },
      {
       "output_type": "stream",
       "stream": "stdout",
       "text": [
        " chisquared: 66.7 ----\n",
        "------- saving counts plot ------\n"
       ]
      },
      {
       "output_type": "stream",
       "stream": "stdout",
       "text": [
        "----> ./countfig/HP12_0913_counts.jpg\n"
       ]
      },
      {
       "output_type": "stream",
       "stream": "stdout",
       "text": [
        "saved pickle file to ./pickle/HP12_0913.pickle\n"
       ]
      },
      {
       "metadata": {},
       "output_type": "display_data",
       "png": "[encoded data removed]",
       "text": [
        "<matplotlib.figure.Figure at 0x7f35b8774810>"
       ]
      },
      {
       "metadata": {},
       "output_type": "display_data",
       "png": "[encoded data removed]",
       "text": [
        "<matplotlib.figure.Figure at 0x7f35b8774710>"
       ]
      }
     ],
     "prompt_number": 35
    },
    {
     "cell_type": "code",
     "collapsed": false,
     "input": [
      "!zip -f pickle.zip"
     ],
     "language": "python",
     "metadata": {},
     "outputs": [
      {
       "output_type": "stream",
       "stream": "stdout",
       "text": [
        "freshening: pickle/HP12_0913.pickle (deflated 69%)\r\n"
       ]
      }
     ],
     "prompt_number": 36
    },
    {
     "cell_type": "code",
     "collapsed": false,
     "input": [],
     "language": "python",
     "metadata": {},
     "outputs": []
    }
   ],
   "metadata": {}
  }
 ]
}