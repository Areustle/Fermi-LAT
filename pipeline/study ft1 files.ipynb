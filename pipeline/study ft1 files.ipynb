{
 "cells": [
  {
   "cell_type": "markdown",
   "metadata": {},
   "source": [
    "#Study FT1 files\n"
   ]
  },
  {
   "cell_type": "code",
   "execution_count": 1,
   "metadata": {
    "collapsed": false
   },
   "outputs": [
    {
     "name": "stdout",
     "output_type": "stream",
     "text": [
      "found 73 FT1 files\n"
     ]
    }
   ],
   "source": [
    "import os, glob\n",
    "infolder = os.path.expandvars('$FERMI/data/P8_P301/Source/')\n",
    "ft1s = sorted(glob.glob(infolder+'*Source*.fits'))\n",
    "print 'found %d FT1 files' % len(ft1s)"
   ]
  },
  {
   "cell_type": "code",
   "execution_count": 2,
   "metadata": {
    "collapsed": false
   },
   "outputs": [
    {
     "name": "stdout",
     "output_type": "stream",
     "text": [
      "Filename: /afs/slac/g/glast/groups/catalog//pointlike/fermi/data/P8_P301/Source/P301_Source_001_zmax100.fits\n",
      "No.    Name         Type      Cards   Dimensions   Format\n",
      "0    PRIMARY     PrimaryHDU      32   ()              \n",
      "1    EVENTS      BinTableHDU    206   2235172R x 23C   [E, E, E, E, E, E, E, E, E, D, J, J, I, 3I, 32X, 32X, I, D, E, E, E, E, E]   \n",
      "2    GTI         BinTableHDU     48   417R x 2C    [D, D]   \n",
      "None\n",
      "ColDefs(\n",
      "    name = 'ENERGY'; format = 'E'; unit = 'MeV'\n",
      "    name = 'RA'; format = 'E'; unit = 'deg'\n",
      "    name = 'DEC'; format = 'E'; unit = 'deg'\n",
      "    name = 'L'; format = 'E'; unit = 'deg'\n",
      "    name = 'B'; format = 'E'; unit = 'deg'\n",
      "    name = 'THETA'; format = 'E'; unit = 'deg'\n",
      "    name = 'PHI'; format = 'E'; unit = 'deg'\n",
      "    name = 'ZENITH_ANGLE'; format = 'E'; unit = 'deg'\n",
      "    name = 'EARTH_AZIMUTH_ANGLE'; format = 'E'; unit = 'deg'\n",
      "    name = 'TIME'; format = 'D'; unit = 's'\n",
      "    name = 'EVENT_ID'; format = 'J'\n",
      "    name = 'RUN_ID'; format = 'J'\n",
      "    name = 'RECON_VERSION'; format = 'I'\n",
      "    name = 'CALIB_VERSION'; format = '3I'\n",
      "    name = 'EVENT_CLASS'; format = '32X'\n",
      "    name = 'EVENT_TYPE'; format = '32X'\n",
      "    name = 'CONVERSION_TYPE'; format = 'I'\n",
      "    name = 'LIVETIME'; format = 'D'; unit = 's'\n",
      "    name = 'DIFRSP0'; format = 'E'\n",
      "    name = 'DIFRSP1'; format = 'E'\n",
      "    name = 'DIFRSP2'; format = 'E'\n",
      "    name = 'DIFRSP3'; format = 'E'\n",
      "    name = 'DIFRSP4'; format = 'E'\n",
      ")\n"
     ]
    }
   ],
   "source": [
    "import pyfits\n",
    "ft1f = pyfits.open(ft1s[0])\n",
    "print ft1f.info()\n",
    "print ft1f[1].columns"
   ]
  },
  {
   "cell_type": "markdown",
   "metadata": {},
   "source": [
    "###Extract and study bits in  EVENT_TYPE"
   ]
  },
  {
   "cell_type": "code",
   "execution_count": 3,
   "metadata": {
    "collapsed": false
   },
   "outputs": [],
   "source": [
    "#convert low 6 bits to integer\n",
    "powers = np.array([2**(5-n) for n in range(6)])\n",
    "data=ft1f[1].data\n",
    "et_bits=data['EVENT_TYPE']\n",
    "et = np.array([sum(powers * np.array(x[-6:],int)) for x in et_bits])\n",
    "#front is the lowest order bit\n",
    "front = (et&1)==0; sum(front)\n",
    "psf_index = et/4; \n",
    "psf_totals = [ sum( psf_index==x ) for x in [1,2,4,8] ]\n",
    "psf_totals, sum(psf_totals), len(et)"
   ]
  },
  {
   "cell_type": "markdown",
   "metadata": {},
   "source": [
    "###Check correlation between PSF0,1,2,3 and FRONT"
   ]
  },
  {
   "cell_type": "code",
   "execution_count": 5,
   "metadata": {
    "collapsed": false
   },
   "outputs": [
    {
     "name": "stdout",
     "output_type": "stream",
     "text": [
      "[467606, 355846, 161305, 3946]\n"
     ]
    }
   ],
   "source": [
    "psf_and_front = [ sum( (psf_index==x) & front ) for x in [1,2,4,8] ]\n",
    "print psf_and_front\n",
    "(np.array(psf_and_front)/np.array(psf_totals,float)).round(2)"
   ]
  },
  {
   "cell_type": "markdown",
   "metadata": {},
   "source": [
    "###Create a Data object"
   ]
  },
  {
   "cell_type": "code",
   "execution_count": null,
   "metadata": {
    "collapsed": true
   },
   "outputs": [],
   "source": [
    "import pointlike\n",
    "pd=    pointlike.Data(ft1s[0], -1, 0, 0, -1, '')\n",
    "pd"
   ]
  },
  {
   "cell_type": "code",
   "execution_count": 13,
   "metadata": {
    "collapsed": false
   },
   "outputs": [
    {
     "data": {
      "text/plain": [
       "(array([ 5.26607964,  5.9995693 ]),\n",
       " array([ 0.0283,  0.0202,  0.0161,  0.007 ]))"
      ]
     },
     "execution_count": 13,
     "metadata": {},
     "output_type": "execute_result"
    }
   ],
   "source": [
    "psf= np.array((2.0, 4.6, 5.8, 8.1))\n",
    "fb= np.array((3.5, 6.6))\n",
    "cur =  np.degrees(np.array([0.0116,0.0192] ))\n",
    "(fb/cur, (np.radians(psf/5))[::-1].round(4))\n"
   ]
  }
 ],
 "metadata": {
  "kernelspec": {
   "display_name": "Python 2",
   "language": "python",
   "name": "python2"
  },
  "language_info": {
   "codemirror_mode": {
    "name": "ipython",
    "version": 2
   },
   "file_extension": ".py",
   "mimetype": "text/x-python",
   "name": "python",
   "nbconvert_exporter": "python",
   "pygments_lexer": "ipython2",
   "version": "2.7.9"
  }
 },
 "nbformat": 4,
 "nbformat_minor": 0
}
