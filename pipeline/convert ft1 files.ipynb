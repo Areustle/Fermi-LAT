{
 "cells": [
  {
   "cell_type": "markdown",
   "metadata": {},
   "source": [
    "#Convert ft1 files\n",
    "Given a set of monthly FT1 files, create binned photon data files for each one"
   ]
  },
  {
   "cell_type": "code",
   "execution_count": 2,
   "metadata": {
    "collapsed": false
   },
   "outputs": [
    {
     "name": "stdout",
     "output_type": "stream",
     "text": [
      "found 73 FT1 files\n",
      "found 73 ltcube files\n",
      "------/afs/slac/g/glast/groups/catalog//pointlike/fermi/data/P8_P301/binfiles/P301_Source_001_zmax100_4bpd_fb.fits--------------\n",
      "invoking Data.setPhotonBinner for front/back event types...\n",
      "processing cuts:  ZENITH_ANGLE zenith_cut\n",
      "ft1_cut DSTYP3: ZENITH_ANGLE\n",
      "DSUNI3: deg\n",
      "DSVAL3: 0:100\n",
      "DSREF3: None\n",
      "processing cuts:  THETA theta_cut\n",
      "ft1_cut None\n",
      "processing cuts:  EVENT_CLASS event_class_cut\n",
      "ft1_cut None\n",
      "File /afs/slac/g/glast/groups/catalog//pointlike/fermi/data/P8_P301/binfiles/P301_Source_001_zmax100_4bpd_fb.fits not found\n",
      "using Gti for creating binned photon file Gti: 417 intervals from 239557417 to 241960000, on time 1974958\n",
      "writing to binfile /afs/slac/g/glast/groups/catalog//pointlike/fermi/data/P8_P301/binfiles/P301_Source_001_zmax100_4bpd_fb.fits\n",
      "Creating binfile from 1 FT1 files\n"
     ]
    },
    {
     "name": "stderr",
     "output_type": "stream",
     "text": [
      "/afs/slac/g/glast/groups/catalog/python/anaconda/lib/python2.7/site-packages/pyfits/header.py:1108: PyfitsDeprecationWarning: The use of header.update() to add new keywords to a header is deprecated.  Instead, use either header.set() or simply `header[keyword] = value` or `header[keyword] = (value, comment)`.  header.set() is only necessary to use if you also want to use the before/after keyword arguments.\n",
      "  \"keyword arguments.\", PyfitsDeprecationWarning)\n",
      "/afs/slac/g/glast/groups/catalog/python/anaconda/lib/python2.7/site-packages/pyfits/file.py:339: UserWarning: Overwriting existing file '/afs/slac/g/glast/groups/catalog//pointlike/fermi/data/P8_P301/binfiles/P301_Source_001_zmax100_4bpd_fb.fits'.\n",
      "  warnings.warn(\"Overwriting existing file %r.\" % self.name)\n"
     ]
    },
    {
     "name": "stdout",
     "output_type": "stream",
     "text": [
      "found 40 bands, energies 10-1000000 MeV\n",
      "Gti: 417 intervals from 239557417 to 241960000, on time 1974958\n",
      "no header info in ltcube?\n",
      "Accepting ltcube without DSS info since legacy specified\n",
      "Verified ltcube /afs/slac/g/glast/groups/catalog//pointlike/fermi/data/P8_P301/Source/ltcube_001_zmax100.fits\n"
     ]
    }
   ],
   "source": [
    "import os, glob\n",
    "infolder = os.path.expandvars('$FERMI/data/P8_P301/Source/')\n",
    "outfolder= os.path.expandvars('$FERMI/data/P8_P301/binfiles/')\n",
    "ft1s = sorted(glob.glob(infolder+'*Source*.fits'))\n",
    "print 'found %d FT1 files' % len(ft1s)\n",
    "ltcubes =sorted(glob.glob(infolder+'ltcube*.fits'))\n",
    "print 'found %d ltcube files' %len(ltcubes)\n",
    "assert len(ft1s)>0 # and len(ft1s)==len(ltcubes)\n",
    "from uw.data import dataman; reload(dataman)\n",
    "psf_event_types=False\n",
    "suffix = '_4bpd_psf' if psf_event_types else '_4bpd_fb'\n",
    "for ft1,ltcube in zip(ft1s,ltcubes):\n",
    "    binfile = os.path.join(outfolder, os.path.split(ft1)[-1]).replace('.fits', suffix+'.fits')\n",
    "    print '------' + binfile + '--------------'\n",
    "    ds = dataman.DataSpec(ft1=ft1,  ft2=None,\n",
    "                      ltcube=ltcube, binfile = binfile,\n",
    "                      binsperdec=4, legacy=True, psf_event_types=psf_event_types,\n",
    "                          quiet=False\n",
    "                      )\n",
    "    break"
   ]
  },
  {
   "cell_type": "code",
   "execution_count": 1,
   "metadata": {
    "collapsed": false
   },
   "outputs": [
    {
     "name": "stdout",
     "output_type": "stream",
     "text": [
      "ls: cannot access /afs/slac/g/glast/groups/catalog//pointlike/fermi/data/P8_P301/binfiles/*_fb.fits: No such file or directory\r\n"
     ]
    }
   ],
   "source": [
    "!ls -l /afs/slac/g/glast/groups/catalog//pointlike/fermi/data/P8_P301/binfiles/*_fb.fits"
   ]
  },
  {
   "cell_type": "code",
   "execution_count": 2,
   "metadata": {
    "collapsed": false
   },
   "outputs": [],
   "source": [
    "!rm -f /afs/slac/g/glast/groups/catalog//pointlike/fermi/data/P8_P301/binfiles/*_fb.fits"
   ]
  },
  {
   "cell_type": "code",
   "execution_count": 30,
   "metadata": {
    "collapsed": false
   },
   "outputs": [],
   "source": [
    "import pointlike\n",
    "d = pointlike.Data(binfile)\n",
    "d.info()"
   ]
  },
  {
   "cell_type": "code",
   "execution_count": 31,
   "metadata": {
    "collapsed": true
   },
   "outputs": [],
   "source": []
  },
  {
   "cell_type": "code",
   "execution_count": 33,
   "metadata": {
    "collapsed": false
   },
   "outputs": [
    {
     "ename": "TypeError",
     "evalue": "BinnedPhotonData_counts() takes exactly 4 arguments (1 given)",
     "output_type": "error",
     "traceback": [
      "\u001b[1;31m---------------------------------------------------------------------------\u001b[0m",
      "\u001b[1;31mTypeError\u001b[0m                                 Traceback (most recent call last)",
      "\u001b[1;32m<ipython-input-33-5fd55661cb1a>\u001b[0m in \u001b[0;36m<module>\u001b[1;34m()\u001b[0m\n\u001b[1;32m----> 1\u001b[1;33m \u001b[0mdm\u001b[0m\u001b[1;33m.\u001b[0m\u001b[0mcounts\u001b[0m\u001b[1;33m(\u001b[0m\u001b[1;33m)\u001b[0m\u001b[1;33m\u001b[0m\u001b[0m\n\u001b[0m",
      "\u001b[1;32m/afs/slac/g/glast/groups/catalog/pointlike/fermi/inst_dir/python/skymaps.pyc\u001b[0m in \u001b[0;36mcounts\u001b[1;34m(*args)\u001b[0m\n\u001b[0;32m    686\u001b[0m         \u001b[1;32mexcept\u001b[0m\u001b[1;33m:\u001b[0m \u001b[0mself\u001b[0m\u001b[1;33m.\u001b[0m\u001b[0mthis\u001b[0m \u001b[1;33m=\u001b[0m \u001b[0mthis\u001b[0m\u001b[1;33m\u001b[0m\u001b[0m\n\u001b[0;32m    687\u001b[0m     \u001b[1;32mdef\u001b[0m \u001b[0mvalue\u001b[0m\u001b[1;33m(\u001b[0m\u001b[1;33m*\u001b[0m\u001b[0margs\u001b[0m\u001b[1;33m)\u001b[0m\u001b[1;33m:\u001b[0m \u001b[1;32mreturn\u001b[0m \u001b[0m_skymaps\u001b[0m\u001b[1;33m.\u001b[0m\u001b[0mBinnedPhotonData_value\u001b[0m\u001b[1;33m(\u001b[0m\u001b[1;33m*\u001b[0m\u001b[0margs\u001b[0m\u001b[1;33m)\u001b[0m\u001b[1;33m\u001b[0m\u001b[0m\n\u001b[1;32m--> 688\u001b[1;33m     \u001b[1;32mdef\u001b[0m \u001b[0mcounts\u001b[0m\u001b[1;33m(\u001b[0m\u001b[1;33m*\u001b[0m\u001b[0margs\u001b[0m\u001b[1;33m)\u001b[0m\u001b[1;33m:\u001b[0m \u001b[1;32mreturn\u001b[0m \u001b[0m_skymaps\u001b[0m\u001b[1;33m.\u001b[0m\u001b[0mBinnedPhotonData_counts\u001b[0m\u001b[1;33m(\u001b[0m\u001b[1;33m*\u001b[0m\u001b[0margs\u001b[0m\u001b[1;33m)\u001b[0m\u001b[1;33m\u001b[0m\u001b[0m\n\u001b[0m\u001b[0;32m    689\u001b[0m     \u001b[1;32mdef\u001b[0m \u001b[0mintegral\u001b[0m\u001b[1;33m(\u001b[0m\u001b[1;33m*\u001b[0m\u001b[0margs\u001b[0m\u001b[1;33m)\u001b[0m\u001b[1;33m:\u001b[0m \u001b[1;32mreturn\u001b[0m \u001b[0m_skymaps\u001b[0m\u001b[1;33m.\u001b[0m\u001b[0mBinnedPhotonData_integral\u001b[0m\u001b[1;33m(\u001b[0m\u001b[1;33m*\u001b[0m\u001b[0margs\u001b[0m\u001b[1;33m)\u001b[0m\u001b[1;33m\u001b[0m\u001b[0m\n\u001b[0;32m    690\u001b[0m     \u001b[1;32mdef\u001b[0m \u001b[0maddPhoton\u001b[0m\u001b[1;33m(\u001b[0m\u001b[1;33m*\u001b[0m\u001b[0margs\u001b[0m\u001b[1;33m)\u001b[0m\u001b[1;33m:\u001b[0m \u001b[1;32mreturn\u001b[0m \u001b[0m_skymaps\u001b[0m\u001b[1;33m.\u001b[0m\u001b[0mBinnedPhotonData_addPhoton\u001b[0m\u001b[1;33m(\u001b[0m\u001b[1;33m*\u001b[0m\u001b[0margs\u001b[0m\u001b[1;33m)\u001b[0m\u001b[1;33m\u001b[0m\u001b[0m\n",
      "\u001b[1;31mTypeError\u001b[0m: BinnedPhotonData_counts() takes exactly 4 arguments (1 given)"
     ]
    }
   ],
   "source": []
  },
  {
   "cell_type": "code",
   "execution_count": 29,
   "metadata": {
    "collapsed": false
   },
   "outputs": [],
   "source": [
    "import glob\n",
    "from uw.utilities import fitstools\n",
    "bd = sorted(glob.glob(outfolder+'*_4bpd_fb.fits'))\n",
    "b = fitstools.merge_bpd(bd, '2years_8bpd.fits')\n",
    "b.info()"
   ]
  },
  {
   "cell_type": "code",
   "execution_count": 1,
   "metadata": {
    "collapsed": true
   },
   "outputs": [
    {
     "name": "stdout",
     "output_type": "stream",
     "text": [
      "Filename: /afs/slac/g/glast/groups/catalog/P8_P300x/Source/P300x_Source_001_zmax100.fits\n",
      "No.    Name         Type      Cards   Dimensions   Format\n",
      "0    PRIMARY     PrimaryHDU      31   ()              \n",
      "1    EVENTS      BinTableHDU    209   3172682R x 22C   [E, E, E, E, E, E, E, E, E, D, J, J, I, 3I, J, I, D, E, E, E, E, E]   \n",
      "2    GTI         BinTableHDU     46   423R x 2C    [D, D]   \n",
      "None\n",
      "Filename: /afs/slac/g/glast/groups/catalog/P8_P301/Source/P301_Source_001_zmax100.fits\n",
      "No.    Name         Type      Cards   Dimensions   Format\n",
      "0    PRIMARY     PrimaryHDU      31   ()              \n",
      "1    EVENTS      BinTableHDU    223   2150915R x 23C   [E, E, E, E, E, E, E, E, E, D, J, J, I, 3I, 32X, 32X, I, D, E, E, E, E, E]   \n",
      "2    GTI         BinTableHDU     46   423R x 2C    [D, D]   \n",
      "None\n"
     ]
    },
    {
     "ename": "RuntimeError",
     "evalue": "FitsColumn::getScalar was called but field is not a scalar",
     "output_type": "error",
     "traceback": [
      "\u001b[1;31m---------------------------------------------------------------------------\u001b[0m\n\u001b[1;31mRuntimeError\u001b[0m                              Traceback (most recent call last)",
      "\u001b[1;32m<ipython-input-1-7dd53f0b2133>\u001b[0m in \u001b[0;36m<module>\u001b[1;34m()\u001b[0m\n\u001b[0;32m      3\u001b[0m             '/afs/slac/g/glast/groups/catalog/P8_P301/Source/P301_Source_001_zmax100.fits']:\n\u001b[0;32m      4\u001b[0m     \u001b[1;32mprint\u001b[0m \u001b[0mpyfits\u001b[0m\u001b[1;33m.\u001b[0m\u001b[0mopen\u001b[0m\u001b[1;33m(\u001b[0m\u001b[0mft1\u001b[0m\u001b[1;33m)\u001b[0m\u001b[1;33m.\u001b[0m\u001b[0minfo\u001b[0m\u001b[1;33m(\u001b[0m\u001b[1;33m)\u001b[0m\u001b[1;33m\u001b[0m\u001b[0m\n\u001b[1;32m----> 5\u001b[1;33m     \u001b[0mpointlike\u001b[0m\u001b[1;33m.\u001b[0m\u001b[0mData\u001b[0m\u001b[1;33m(\u001b[0m\u001b[0mft1\u001b[0m\u001b[1;33m,\u001b[0m \u001b[1;33m-\u001b[0m\u001b[1;36m1\u001b[0m\u001b[1;33m,\u001b[0m \u001b[1;36m0\u001b[0m\u001b[1;33m,\u001b[0m \u001b[1;36m0\u001b[0m\u001b[1;33m,\u001b[0m \u001b[1;33m-\u001b[0m\u001b[1;36m1\u001b[0m\u001b[1;33m,\u001b[0m \u001b[1;34m''\u001b[0m\u001b[1;33m)\u001b[0m\u001b[1;33m\u001b[0m\u001b[0m\n\u001b[0m",
      "\u001b[1;32m/nfs/farm/g/glast/u35/ReleaseManagerBuild/redhat6-x86_64-64bit-gcc44/Optimized/ScienceTools/09-33-03/python/pointlike.py\u001b[0m in \u001b[0;36m__init__\u001b[1;34m(self, *args)\u001b[0m\n\u001b[0;32m    991\u001b[0m     \u001b[0m__repr__\u001b[0m \u001b[1;33m=\u001b[0m \u001b[0m_swig_repr\u001b[0m\u001b[1;33m\u001b[0m\u001b[0m\n\u001b[0;32m    992\u001b[0m     \u001b[1;32mdef\u001b[0m \u001b[0m__init__\u001b[0m\u001b[1;33m(\u001b[0m\u001b[0mself\u001b[0m\u001b[1;33m,\u001b[0m \u001b[1;33m*\u001b[0m\u001b[0margs\u001b[0m\u001b[1;33m)\u001b[0m\u001b[1;33m:\u001b[0m\u001b[1;33m\u001b[0m\u001b[0m\n\u001b[1;32m--> 993\u001b[1;33m         \u001b[0mthis\u001b[0m \u001b[1;33m=\u001b[0m \u001b[0m_pointlike\u001b[0m\u001b[1;33m.\u001b[0m\u001b[0mnew_Data\u001b[0m\u001b[1;33m(\u001b[0m\u001b[1;33m*\u001b[0m\u001b[0margs\u001b[0m\u001b[1;33m)\u001b[0m\u001b[1;33m\u001b[0m\u001b[0m\n\u001b[0m\u001b[0;32m    994\u001b[0m         \u001b[1;32mtry\u001b[0m\u001b[1;33m:\u001b[0m \u001b[0mself\u001b[0m\u001b[1;33m.\u001b[0m\u001b[0mthis\u001b[0m\u001b[1;33m.\u001b[0m\u001b[0mappend\u001b[0m\u001b[1;33m(\u001b[0m\u001b[0mthis\u001b[0m\u001b[1;33m)\u001b[0m\u001b[1;33m\u001b[0m\u001b[0m\n\u001b[0;32m    995\u001b[0m         \u001b[1;32mexcept\u001b[0m\u001b[1;33m:\u001b[0m \u001b[0mself\u001b[0m\u001b[1;33m.\u001b[0m\u001b[0mthis\u001b[0m \u001b[1;33m=\u001b[0m \u001b[0mthis\u001b[0m\u001b[1;33m\u001b[0m\u001b[0m\n",
      "\u001b[1;31mRuntimeError\u001b[0m: FitsColumn::getScalar was called but field is not a scalar"
     ]
    }
   ],
   "source": [
    "import pyfits, pointlike\n",
    "for ft1 in ['/afs/slac/g/glast/groups/catalog/P8_P300x/Source/P300x_Source_001_zmax100.fits',\n",
    "            '/afs/slac/g/glast/groups/catalog/P8_P301/Source/P301_Source_001_zmax100.fits']:\n",
    "    print pyfits.open(ft1).info()\n",
    "    pointlike.Data(ft1, -1, 0, 0, -1, '')"
   ]
  },
  {
   "cell_type": "code",
   "execution_count": 3,
   "metadata": {
    "collapsed": true
   },
   "outputs": [
    {
     "name": "stdout",
     "output_type": "stream",
     "text": [
      "Filename: /afs/slac/g/glast/groups/catalog/P8_P301/Source/P301_Source_001_zmax100.fits\n",
      "No.    Name         Type      Cards   Dimensions   Format\n",
      "0    PRIMARY     PrimaryHDU      31   ()              \n",
      "1    EVENTS      BinTableHDU    223   2150915R x 23C   [E, E, E, E, E, E, E, E, E, D, J, J, I, 3I, 32X, 32X, I, D, E, E, E, E, E]   \n",
      "2    GTI         BinTableHDU     46   423R x 2C    [D, D]   \n"
     ]
    }
   ],
   "source": [
    "t = pyfits.open(ft1); t.info()"
   ]
  },
  {
   "cell_type": "code",
   "execution_count": 6,
   "metadata": {
    "collapsed": true
   },
   "outputs": [
    {
     "data": {
      "text/plain": [
       "XTENSION= 'BINTABLE'           / binary table extension                         \n",
       "BITPIX  =                    8 / 8-bit bytes                                    \n",
       "NAXIS   =                    2 / 2-dimensional binary table                     \n",
       "NAXIS1  =                   98 / width of table in bytes                        \n",
       "NAXIS2  =              2150915 / number of rows in table                        \n",
       "PCOUNT  =                    0 / size of special data area                      \n",
       "GCOUNT  =                    1 / one data group (required keyword)              \n",
       "TFIELDS =                   23 / number of fields in each row                   \n",
       "TTYPE1  = 'ENERGY  '           / energy of event                                \n",
       "TFORM1  = 'E       '           / data format of field: 4-byte REAL              \n",
       "TTYPE2  = 'RA      '           / right ascension (J2000) of event               \n",
       "TFORM2  = 'E       '           / data format of field: 4-byte REAL              \n",
       "TTYPE3  = 'DEC     '           / declination (J2000) of event                   \n",
       "TFORM3  = 'E       '           / data format of field: 4-byte REAL              \n",
       "TTYPE4  = 'L       '           / Galactic longitude of event                    \n",
       "TFORM4  = 'E       '           / data format of field: 4-byte REAL              \n",
       "TTYPE5  = 'B       '           / Galactic latitude of event                     \n",
       "TFORM5  = 'E       '           / data format of field: 4-byte REAL              \n",
       "TTYPE6  = 'THETA   '           / inclination angle of event in instrument coordi\n",
       "TFORM6  = 'E       '           / data format of field: 4-byte REAL              \n",
       "TTYPE7  = 'PHI     '           / azimuthal angle of event in instrument coordina\n",
       "TFORM7  = 'E       '           / data format of field: 4-byte REAL              \n",
       "TTYPE8  = 'ZENITH_ANGLE'       / zenith angle of event                          \n",
       "TFORM8  = 'E       '           / data format of field: 4-byte REAL              \n",
       "TTYPE9  = 'EARTH_AZIMUTH_ANGLE' / Earth azimuth (from north to east) of event   \n",
       "TFORM9  = 'E       '           / data format of field: 4-byte REAL              \n",
       "TTYPE10 = 'TIME    '           / Mission Elapsed Time                           \n",
       "TFORM10 = 'D       '           / data format of field: 8-byte DOUBLE            \n",
       "TTYPE11 = 'EVENT_ID'           / ID number of original event                    \n",
       "TFORM11 = 'J       '           / data format of field: 4-byte signed INTEGER    \n",
       "TTYPE12 = 'RUN_ID  '           / Run number of original event                   \n",
       "TFORM12 = 'J       '           / data format of field: 4-byte signed INTEGER    \n",
       "TTYPE13 = 'RECON_VERSION'      / version of event reconstruction software       \n",
       "TFORM13 = 'I       '           / data format of field: 2-byte signed INTEGER    \n",
       "TTYPE14 = 'CALIB_VERSION'      / versions of calibration tables for the ACD, CAL\n",
       "TFORM14 = '3I      '           / data format of field: 2-byte signed INTEGER    \n",
       "TTYPE15 = 'EVENT_CLASS'        / event class: 0, 1, 2,...                       \n",
       "TFORM15 = '32X     '           / data format of field: 32 bit array             \n",
       "TTYPE16 = 'EVENT_TYPE'         / event types encoded as bit array               \n",
       "TFORM16 = '32X     '           / data format of field: 32 bit array             \n",
       "TTYPE17 = 'CONVERSION_TYPE'    / type of conversion: 0=Front converting, 1=Back \n",
       "TFORM17 = 'I       '           / data format of field: 2-byte signed INTEGER    \n",
       "TTYPE18 = 'LIVETIME'           / Accumulated livetime since mission start       \n",
       "TFORM18 = 'D       '           / data format of field: 8-byte DOUBLE            \n",
       "TTYPE19 = 'DIFRSP0 '           / Diffuse response component                     \n",
       "TFORM19 = 'E       '           / data format                                    \n",
       "TTYPE20 = 'DIFRSP1 '           / Diffuse response component                     \n",
       "TFORM20 = 'E       '           / data format                                    \n",
       "TTYPE21 = 'DIFRSP2 '           / Diffuse response component                     \n",
       "TFORM21 = 'E       '           / data format                                    \n",
       "TTYPE22 = 'DIFRSP3 '           / Diffuse response component                     \n",
       "TFORM22 = 'E       '           / data format                                    \n",
       "TTYPE23 = 'DIFRSP4 '           / Diffuse response component                     \n",
       "TFORM23 = 'E       '           / data format                                    \n",
       "CHECKSUM= 'iQIDiOG9iOGAiOG9'   / HDU checksum updated 2014-05-26T21:18:12       \n",
       "DATASUM = '2147941533'         / data unit checksum updated 2014-05-26T21:18:11 \n",
       "TELESCOP= 'GLAST   '           / name of telescope generating data              \n",
       "INSTRUME= 'LAT     '           / name of instrument generating data             \n",
       "EQUINOX =                2000. / equinox for ra and dec                         \n",
       "RADECSYS= 'FK5     '           / world coord. system for this file (FK5 or FK4) \n",
       "DATE    = '2014-05-26T21:18:11.9999' / file creation date (YYYY-MM-DDThh:mm:ss U\n",
       "DATE-OBS= '2008-08-04T15:43:36.0000' / start date and time of the observation (U\n",
       "DATE-END= '2008-09-01T11:06:39.0000' / end date and time of the observation (UTC\n",
       "OBSERVER= 'Peter Michelson'    / GLAST/LAT PI                                   \n",
       "ORIGIN  = 'LISOC   '           / name of organization making file               \n",
       "EXTNAME = 'EVENTS  '           / name of this binary table extension            \n",
       "HDUCLASS= 'OGIP    '           / format conforms to OGIP standard               \n",
       "HDUCLAS1= 'EVENTS  '           / extension contains events                      \n",
       "HDUCLAS2= 'ALL     '           / extension contains all events detected         \n",
       "TSTART  =           239557417. / mission time of the start of the observation   \n",
       "TSTOP   =           241960000. / mission time of the end of the observation     \n",
       "MJDREFI =               51910. / Integer part of MJD corresponding to SC clock s\n",
       "MJDREFF =  0.00074287037037037 / Fractional part of MJD corresponding to SC cloc\n",
       "TIMEUNIT= 's       '           / units for the time related keywords            \n",
       "TIMEZERO=                   0. / clock correction                               \n",
       "TIMESYS = 'TT      '           / type of time system that is used               \n",
       "TIMEREF = 'LOCAL   '           / reference frame used for times                 \n",
       "CLOCKAPP=                    F / whether a clock drift correction has been appli\n",
       "GPS_OUT =                    F / whether GPS time was unavailable at any time du\n",
       "PASS_VER= 'P8V1    '           / IRF pass version corresponding to a specific se\n",
       "NDIFRSP =                    5 / Number of diffuse response labels              \n",
       "DIFRSP0 = 'NONE    '           / Diffuse response label for component 0         \n",
       "DIFRSP1 = 'NONE    '           / Diffuse response label for component 1         \n",
       "DIFRSP2 = 'NONE    '           / Diffuse response label for component 2         \n",
       "DIFRSP3 = 'NONE    '           / Diffuse response label for component 3         \n",
       "DIFRSP4 = 'NONE    '           / Diffuse response label for component 4         \n",
       "TUNIT1  = 'MeV     '           / physical unit of field                         \n",
       "TLMIN1  =                   0. / minimum value                                  \n",
       "TLMAX1  =            10000000. / maximum value                                  \n",
       "TUNIT2  = 'deg     '           / physical unit of field                         \n",
       "TLMIN2  =                   0. / minimum value                                  \n",
       "TLMAX2  =                 360. / maximum value                                  \n",
       "TUNIT3  = 'deg     '           / physical unit of field                         \n",
       "TLMIN3  =                 -90. / minimum value                                  \n",
       "TLMAX3  =                  90. / maximum value                                  \n",
       "TUNIT4  = 'deg     '           / physical unit of field                         \n",
       "TLMIN4  =                   0. / minimum value                                  \n",
       "TLMAX4  =                 360. / maximum value                                  \n",
       "TUNIT5  = 'deg     '           / physical unit of field                         \n",
       "TLMIN5  =                 -90. / minimum value                                  \n",
       "TLMAX5  =                  90. / maximum value                                  \n",
       "TUNIT6  = 'deg     '           / physical unit of field                         \n",
       "TLMIN6  =                   0. / minimum value                                  \n",
       "TLMAX6  =                 180. / maximum value                                  \n",
       "TUNIT7  = 'deg     '           / physical unit of field                         \n",
       "TLMIN7  =                   0. / minimum value                                  \n",
       "TLMAX7  =                 360. / maximum value                                  \n",
       "TUNIT8  = 'deg     '           / physical unit of field                         \n",
       "TLMIN8  =                   0. / minimum value                                  \n",
       "TLMAX8  =                 180. / maximum value                                  \n",
       "TUNIT9  = 'deg     '           / physical unit of field                         \n",
       "TLMIN9  =                   0. / minimum value                                  \n",
       "TLMAX9  =                 360. / maximum value                                  \n",
       "TUNIT10 = 's       '           / physical unit of field                         \n",
       "TLMIN10 =                   0. / minimum value                                  \n",
       "TLMAX10 =         10000000000. / maximum value                                  \n",
       "TLMIN11 =                    0 / minimum value                                  \n",
       "TLMAX11 =           2147483647 / maximum value                                  \n",
       "TLMIN12 =                    0 / minimum value                                  \n",
       "TLMAX12 =           2147483647 / maximum value                                  \n",
       "TLMIN13 =                    0 / minimum value                                  \n",
       "TLMAX13 =                32767 / maximum value                                  \n",
       "TLMIN15 =                    0 / minimum value                                  \n",
       "TLMAX15 =                32767 / maximum value                                  \n",
       "TLMIN16 =                    0 / minimum value                                  \n",
       "TLMAX16 =                32767 / maximum value                                  \n",
       "TLMIN17 =                    0 / minimum value                                  \n",
       "TLMAX17 =                32767 / maximum value                                  \n",
       "TUNIT18 = 's       '           / physical unit of field                         \n",
       "TLMIN18 =                   0. / minimum value                                  \n",
       "TLMAX18 =         10000000000. / maximum value                                  \n",
       "TLMIN19 =                   0. / minimum value                                  \n",
       "TLMAX19 =              1.0E+38 / maximum value                                  \n",
       "TLMIN20 =                   0. / minimum value                                  \n",
       "TLMAX20 =              1.0E+38 / maximum value                                  \n",
       "TLMIN21 =                   0. / minimum value                                  \n",
       "TLMAX21 =              1.0E+38 / maximum value                                  \n",
       "TLMIN22 =                   0. / minimum value                                  \n",
       "TLMAX22 =              1.0E+38 / maximum value                                  \n",
       "TLMIN23 =                   0. / minimum value                                  \n",
       "TLMAX23 =              1.0E+38 / maximum value                                  \n",
       "EXTVER  =                    1 / auto assigned by template parser               \n",
       "HISTORY Input merit file: /scratch/glastmp/P301-FITS.mergeRun/0.0/IN/r0239557414\n",
       "HISTORY _v301_merit.root                                                        \n",
       "HISTORY Filter string: (((FswGamState==0)&&(TkrNumTracks > 0))&&((-log10(1.0-WP8\n",
       "HISTORY CTAllProb)) >= (0.010000)*(EvtJointLogEnergy < 1.250000) + ((EvtJointLog\n",
       "HISTORY Energy <= 1.750000)*((0.010000)*(1.0)+(0.000000)*(pow((EvtJointLogEnergy\n",
       "HISTORY -1.250000)/0.500000,1))+(0.018669)*(pow((EvtJointLogEnergy-1.250000)/0.5\n",
       "HISTORY 00000,2)))+((EvtJointLogEnergy > 1.750000)*(EvtJointLogEnergy <= 2.25000\n",
       "HISTORY 0))*((0.028669)*(1.0)+(0.037338)*(pow((EvtJointLogEnergy-1.750000)/0.500\n",
       "HISTORY 000,1))+(-0.017111)*(pow((EvtJointLogEnergy-1.750000)/0.500000,2)))+((Ev\n",
       "HISTORY tJointLogEnergy > 2.250000)*(EvtJointLogEnergy <= 2.750000))*((0.048897)\n",
       "HISTORY *(1.0)+(0.003117)*(pow((EvtJointLogEnergy-2.250000)/0.500000,1))+(0.0019\n",
       "HISTORY 67)*(pow((EvtJointLogEnergy-2.250000)/0.500000,2)))+((EvtJointLogEnergy \n",
       "HISTORY > 2.750000)*(EvtJointLogEnergy <= 3.250000))*((0.053980)*(1.0)+(0.007050\n",
       "HISTORY )*(pow((EvtJointLogEnergy-2.750000)/0.500000,1))+(-0.003525)*(pow((EvtJo\n",
       "HISTORY intLogEnergy-2.750000)/0.500000,2)))+((EvtJointLogEnergy > 3.250000)*(Ev\n",
       "HISTORY tJointLogEnergy <= 3.750000))*((0.057505)*(1.0)+(0.000000)*(pow((EvtJoin\n",
       "HISTORY tLogEnergy-3.250000)/0.500000,1))+(0.121963)*(pow((EvtJointLogEnergy-3.2\n",
       "HISTORY 50000)/0.500000,2)))+((EvtJointLogEnergy > 3.750000)*(EvtJointLogEnergy \n",
       "HISTORY <= 4.250000))*((0.179468)*(1.0)+(0.243925)*(pow((EvtJointLogEnergy-3.750\n",
       "HISTORY 000)/0.500000,1))+(0.493075)*(pow((EvtJointLogEnergy-3.750000)/0.500000,\n",
       "HISTORY 2)))+((EvtJointLogEnergy > 4.250000)*(EvtJointLogEnergy <= 4.750000))*((\n",
       "HISTORY 0.916468)*(1.0)+(1.230076)*(pow((EvtJointLogEnergy-4.250000)/0.500000,1)\n",
       "HISTORY )+(-0.501532)*(pow((EvtJointLogEnergy-4.250000)/0.500000,2)))+(EvtJointL\n",
       "HISTORY ogEnergy > 4.750000)*((1.645012)*(1.0)+(0.227011)*(pow((EvtJointLogEnerg\n",
       "HISTORY y-4.750000)/0.500000,1))+(0.029483)*(pow((EvtJointLogEnergy-4.750000)/0.\n",
       "HISTORY 500000,2))))*(EvtJointLogEnergy >= 1.250000 && EvtJointLogEnergy <= 5.75\n",
       "HISTORY 0000) + (2.216967)*(EvtJointLogEnergy > 5.750000))) || (((-log10(1.0-WP8\n",
       "HISTORY CTCalTkrProb)) >=  -0.035931+ (   0.27029)*pow(EvtJointLogEnergy,1)+(  -\n",
       "HISTORY 0.23349)*pow(EvtJointLogEnergy,2)+ (   0.07867)*pow(EvtJointLogEnergy,3)\n",
       "HISTORY + (-0.005295)*pow(EvtJointLogEnergy,4))&&((FswGamState==0)&&(TkrNumTrack\n",
       "HISTORY s > 0)&&EvtCalCsIRLn>4 && ((log10(max(CalTrackAngle,1E-4))) <= (0.529795\n",
       "HISTORY )*(EvtJointLogEnergy < 3.000000)+ ((1.0)*((0.529795)*(1.0)+(-1.379791)*(\n",
       "HISTORY pow((EvtJointLogEnergy-3.000000)/0.916667,1))+(0.583401)*(pow((EvtJointL\n",
       "HISTORY ogEnergy-3.000000)/0.916667,2))+(-0.075555)*(pow((EvtJointLogEnergy-3.00\n",
       "HISTORY 0000)/0.916667,3))))*(EvtJointLogEnergy>= 3.000000 && EvtJointLogEnergy \n",
       "HISTORY <= 5.750000) + (-0.398962)*(EvtJointLogEnergy > 5.750000)))&&(WP8CTPSFTa\n",
       "HISTORY il > 0.05 && WP8CTBestEnergyProb > 0.1)) && (EvtElapsedTime >= 239557417\n",
       "HISTORY )  && (EvtElapsedTime <= 239558070)                                     \n",
       "HISTORY CFITSIO used the following filtering expression to create this table:   \n",
       "HISTORY /scratch/glastmp/P301-FITS.mergeRun/0.0/foo.fit[EVENTS][gtifilter(\"/scra\n",
       "HISTORY tch/glastmp/P301-FITS.mergeRun/0.0/OUT/gll_xp_p301_r0239557414_v302.fit_\n",
       "HISTORY tempgti\")]                                                              \n",
       "HISTORY CFITSIO used the following filtering expression to create this table:   \n",
       "HISTORY /glast/Data/Flight/Reprocess/P301/extendedft1/gll_xp_p301_r0239557414_v3\n",
       "HISTORY 02.fit[EVENTS][((EVENT_CLASS&o200) != o0) && 30 < ENERGY && ENERGY <= 10\n",
       "HISTORY 00000 && 239330000 < TIME && TIME <= 239593000 && 0 < ZENITH_ANGLE && ZE\n",
       "HISTORY NITH_ANGLE <= 100 && gtifilter()]                                       \n",
       "HISTORY Filter string: ((EVENT_CLASS&o200) != o0) && 30 < ENERGY && ENERGY <= 10\n",
       "HISTORY 00000 && 239330000 < TIME && TIME <= 239593000 && 0 < ZENITH_ANGLE && ZE\n",
       "HISTORY NITH_ANGLE <= 100 && gtifilter()                                        \n",
       "HISTORY CFITSIO used the following filtering expression to create this table:   \n",
       "HISTORY /tmp/jballet/toto.fits[EVENTS][((EVENT_CLASS&o200) != o0) && 30 < ENERGY\n",
       "HISTORY  && ENERGY <= 1000000 && 0 < TIME && TIME <= 1000000000 && 0 < ZENITH_AN\n",
       "HISTORY GLE && ZENITH_ANGLE <= 100 && gtifilter()]                              \n",
       "HISTORY Filter string: ((EVENT_CLASS&o200) != o0) && 30 < ENERGY && ENERGY <= 10\n",
       "HISTORY 00000 && 0 < TIME && TIME <= 1000000000 && 0 < ZENITH_ANGLE && ZENITH_AN\n",
       "HISTORY GLE <= 100 && gtifilter()                                               \n",
       "HISTORY CFITSIO used the following filtering expression to create this table:   \n",
       "HISTORY /tmp/jballet/P301_Source_001_01.fits_select[EVENTS][gtifilter(\"/tmp/jbal\n",
       "HISTORY let/P301_Source_001_01.fits_tempgti\")]                                  \n",
       "HISTORY CFITSIO used the following filtering expression to create this table:   \n",
       "HISTORY /tmp/jballet/P301_Source_001_01.fits[EVENTS][((EVENT_CLASS&o200) != o0) \n",
       "HISTORY && 30 < ENERGY && ENERGY <= 1000000 && 0 < TIME && TIME <= 1000000000 &&\n",
       "HISTORY  0 < ZENITH_ANGLE && ZENITH_ANGLE <= 100 && gtifilter()]                \n",
       "DSTYP1  = 'BIT_MASK(EVENT_CLASS,128,P8V1)'                                      \n",
       "DSUNI1  = 'DIMENSIONLESS'                                                       \n",
       "DSVAL1  = '1:1     '                                                            \n",
       "DSTYP2  = 'TIME    '                                                            \n",
       "DSUNI2  = 's       '                                                            \n",
       "DSVAL2  = 'TABLE   '                                                            \n",
       "DSREF2  = ':GTI    '                                                            \n",
       "DSTYP3  = 'ENERGY  '                                                            \n",
       "DSUNI3  = 'MeV     '                                                            \n",
       "DSVAL3  = '30:1000000'                                                          \n",
       "DSTYP4  = 'ZENITH_ANGLE'                                                        \n",
       "DSUNI4  = 'deg     '                                                            \n",
       "DSVAL4  = '0:100   '                                                            \n",
       "NDSKEYS =                    4                                                  \n",
       "HISTORY Filter string: ((EVENT_CLASS&o200) != o0) && 30 < ENERGY && ENERGY <= 10\n",
       "HISTORY 00000 && 0 < TIME && TIME <= 1000000000 && 0 < ZENITH_ANGLE && ZENITH_AN\n",
       "HISTORY GLE <= 100 && gtifilter()                                               "
      ]
     },
     "execution_count": 6,
     "metadata": {},
     "output_type": "execute_result"
    }
   ],
   "source": [
    "d = t[1]\n",
    "d.header"
   ]
  },
  {
   "cell_type": "code",
   "execution_count": null,
   "metadata": {
    "collapsed": false
   },
   "outputs": [],
   "source": []
  }
 ],
 "metadata": {
  "kernelspec": {
   "display_name": "Python 2",
   "language": "python",
   "name": "python2"
  },
  "language_info": {
   "codemirror_mode": {
    "name": "ipython",
    "version": 2
   },
   "file_extension": ".py",
   "mimetype": "text/x-python",
   "name": "python",
   "nbconvert_exporter": "python",
   "pygments_lexer": "ipython2",
   "version": "2.7.9"
  }
 },
 "nbformat": 4,
 "nbformat_minor": 0
}
