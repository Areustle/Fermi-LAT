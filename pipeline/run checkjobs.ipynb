{
 "metadata": {
  "name": "",
  "signature": "sha256:264341f6d0991fd1369a3505fa6b84badd7e5b83b7218f2d4aed408929a51ff6"
 },
 "nbformat": 3,
 "nbformat_minor": 0,
 "worksheets": [
  {
   "cells": [
    {
     "cell_type": "code",
     "collapsed": false,
     "input": [
      "%matplotlib inline\n",
      "os.chdir(os.path.expandvars('$FERMI/skymodels/P301_6years/uw960'))\n",
      "from uw.like2.pipeline import check_converge, pipe; reload(check_converge); reload(pipe)"
     ],
     "language": "python",
     "metadata": {},
     "outputs": [
      {
       "metadata": {},
       "output_type": "pyout",
       "prompt_number": 13,
       "text": [
        "<module 'uw.like2.pipeline.pipe' from '/afs/slac/g/glast/groups/catalog/pointlike/python/uw/like2/pipeline/pipe.py'>"
       ]
      }
     ],
     "prompt_number": 13
    },
    {
     "cell_type": "code",
     "collapsed": false,
     "input": [
      "class Args:\n",
      "    def __init__(self, **kwargs):\n",
      "        self.__dict__ = kwargs\n",
      "check_converge.main(Args(pointlike_dir='/afs/slac/g/glast/groups/catalog//pointlike',\n",
      "                         skymodel='/nfs/farm/g/glast/u55/catalog/pointlike/skymodels/P301_6years/uw961', \n",
      "                         stream=266, stage='update', test=False))"
     ],
     "language": "python",
     "metadata": {},
     "outputs": [
      {
       "output_type": "stream",
       "stream": "stdout",
       "text": [
        "\t found 271 streamlog files for stream 266 ... \texecution times: mean=196.6, max=367.5\n",
        "\ttotal execution time: 14.8 hours\n",
        "\tnumber of executions: [271   0   0   0   0]\n",
        "\n",
        "2015-01-30 14:24 stage update stream 266 model /nfs/farm/g/glast/u55/catalog/pointlike/skymodels/P301_6years/uw961 \n",
        "found 1728 *.pickle in folder pickle ... "
       ]
      },
      {
       "output_type": "stream",
       "stream": "stdout",
       "text": [
        " zipped into file pickle.zip\n",
        "warning: 1 NaN values in likelihoods: ignoring them"
       ]
      },
      {
       "output_type": "stream",
       "stream": "stdout",
       "text": [
        "\n",
        "warning: 1 NaN values in likelihoods: ignoring them"
       ]
      },
      {
       "output_type": "stream",
       "stream": "stdout",
       "text": [
        "\n",
        "\tpass 112:  20 changed > 10, min, max: -50(#828) 18(#731) Starting stage update\n",
        "  269  2015-01-30 14:25 P301_6years/uw961 update     $SKYMODEL_SUBDIR/update_roi_list.txt\n",
        "-->"
       ]
      },
      {
       "output_type": "stream",
       "stream": "stdout",
       "text": [
        " /afs/slac/g/glast/ground/bin/pipeline -m PROD createStream --stream 269 -D \"stage=update, POINTLIKE_DIR=/afs/slac/g/glast/groups/catalog//pointlike, SKYMODEL_SUBDIR=/nfs/farm/g/glast/u55/catalog/pointlike/skymodels/P301_6years/uw961, job_list=$SKYMODEL_SUBDIR/update_roi_list.txt\" UWpipeline \n"
       ]
      }
     ],
     "prompt_number": 14
    },
    {
     "cell_type": "code",
     "collapsed": false,
     "input": [
      "debug"
     ],
     "language": "python",
     "metadata": {},
     "outputs": [
      {
       "output_type": "stream",
       "stream": "stdout",
       "text": [
        "> \u001b[1;32m/afs/slac/g/glast/groups/catalog/pointlike/python/uw/like2/pipeline/pipe.py\u001b[0m(98)\u001b[0;36mcheck_converge\u001b[1;34m()\u001b[0m\n",
        "\u001b[1;32m     97 \u001b[1;33m    \u001b[0mdmin\u001b[0m\u001b[1;33m,\u001b[0m\u001b[0mdmax\u001b[0m \u001b[1;33m=\u001b[0m \u001b[0mdiff\u001b[0m\u001b[1;33m.\u001b[0m\u001b[0mmin\u001b[0m\u001b[1;33m(\u001b[0m\u001b[1;33m)\u001b[0m\u001b[1;33m,\u001b[0m \u001b[0mdiff\u001b[0m\u001b[1;33m.\u001b[0m\u001b[0mmax\u001b[0m\u001b[1;33m(\u001b[0m\u001b[1;33m)\u001b[0m\u001b[1;33m\u001b[0m\u001b[0m\n",
        "\u001b[0m\u001b[1;32m---> 98 \u001b[1;33m    \u001b[0mrmin\u001b[0m\u001b[1;33m,\u001b[0m\u001b[0mrmax\u001b[0m \u001b[1;33m=\u001b[0m \u001b[0mlist\u001b[0m\u001b[1;33m(\u001b[0m\u001b[0mdiff\u001b[0m\u001b[1;33m)\u001b[0m\u001b[1;33m.\u001b[0m\u001b[0mindex\u001b[0m\u001b[1;33m(\u001b[0m\u001b[0mdmin\u001b[0m\u001b[1;33m)\u001b[0m\u001b[1;33m,\u001b[0m \u001b[0mlist\u001b[0m\u001b[1;33m(\u001b[0m\u001b[0mdiff\u001b[0m\u001b[1;33m)\u001b[0m\u001b[1;33m.\u001b[0m\u001b[0mindex\u001b[0m\u001b[1;33m(\u001b[0m\u001b[0mdmax\u001b[0m\u001b[1;33m)\u001b[0m\u001b[1;33m\u001b[0m\u001b[0m\n",
        "\u001b[0m\u001b[1;32m     99 \u001b[1;33m    \u001b[0mchanged\u001b[0m \u001b[1;33m=\u001b[0m \u001b[0mset\u001b[0m\u001b[1;33m(\u001b[0m\u001b[0mnp\u001b[0m\u001b[1;33m.\u001b[0m\u001b[0marange\u001b[0m\u001b[1;33m(\u001b[0m\u001b[1;36m1728\u001b[0m\u001b[1;33m)\u001b[0m\u001b[1;33m[\u001b[0m\u001b[0mnp\u001b[0m\u001b[1;33m.\u001b[0m\u001b[0mabs\u001b[0m\u001b[1;33m(\u001b[0m\u001b[0mdiff\u001b[0m\u001b[1;33m)\u001b[0m\u001b[1;33m>\u001b[0m\u001b[0mtol\u001b[0m\u001b[1;33m]\u001b[0m\u001b[1;33m)\u001b[0m\u001b[1;33m\u001b[0m\u001b[0m\n",
        "\u001b[0m\n"
       ]
      },
      {
       "name": "stdout",
       "output_type": "stream",
       "stream": "stdout",
       "text": [
        "ipdb> p diff\n"
       ]
      },
      {
       "output_type": "stream",
       "stream": "stdout",
       "text": [
        "array([ 0.02395493,  0.21601709,  0.40772404, ...,  0.05863181,\n",
        "        0.02534458,  0.01319746])\n"
       ]
      },
      {
       "name": "stdout",
       "output_type": "stream",
       "stream": "stdout",
       "text": [
        "ipdb> p changed\n"
       ]
      },
      {
       "output_type": "stream",
       "stream": "stdout",
       "text": [
        "*** NameError: NameError(\"name 'changed' is not defined\",)\n"
       ]
      },
      {
       "name": "stdout",
       "output_type": "stream",
       "stream": "stdout",
       "text": [
        "ipdb> p dmax\n"
       ]
      },
      {
       "output_type": "stream",
       "stream": "stdout",
       "text": [
        "nan\n"
       ]
      },
      {
       "name": "stdout",
       "output_type": "stream",
       "stream": "stdout",
       "text": [
        "ipdb> p diff.max\n"
       ]
      },
      {
       "output_type": "stream",
       "stream": "stdout",
       "text": [
        "<built-in method max of numpy.ndarray object at 0x24b0290>\n"
       ]
      },
      {
       "name": "stdout",
       "output_type": "stream",
       "stream": "stdout",
       "text": [
        "ipdb> p diff.max()\n"
       ]
      },
      {
       "output_type": "stream",
       "stream": "stdout",
       "text": [
        "nan\n"
       ]
      },
      {
       "name": "stdout",
       "output_type": "stream",
       "stream": "stdout",
       "text": [
        "ipdb> p sum(isnan(dfff))\n"
       ]
      },
      {
       "output_type": "stream",
       "stream": "stdout",
       "text": [
        "*** NameError: NameError(\"name 'isnan' is not defined\",)\n"
       ]
      },
      {
       "name": "stdout",
       "output_type": "stream",
       "stream": "stdout",
       "text": [
        "ipdb> np.isnan(diff)\n"
       ]
      },
      {
       "output_type": "stream",
       "stream": "stdout",
       "text": [
        "array([False, False, False, ..., False, False, False], dtype=bool)\n"
       ]
      },
      {
       "name": "stdout",
       "output_type": "stream",
       "stream": "stdout",
       "text": [
        "ipdb> sum(np.isnan(diff)\n"
       ]
      },
      {
       "output_type": "stream",
       "stream": "stdout",
       "text": [
        "*** SyntaxError: unexpected EOF while parsing (<stdin>, line 1)\n"
       ]
      },
      {
       "name": "stdout",
       "output_type": "stream",
       "stream": "stdout",
       "text": [
        "ipdb> sum(np.isnan(diff))\n"
       ]
      },
      {
       "output_type": "stream",
       "stream": "stdout",
       "text": [
        "1\n"
       ]
      },
      {
       "name": "stdout",
       "output_type": "stream",
       "stream": "stdout",
       "text": [
        "ipdb> quit\n"
       ]
      }
     ],
     "prompt_number": 7
    }
   ],
   "metadata": {}
  }
 ]
}